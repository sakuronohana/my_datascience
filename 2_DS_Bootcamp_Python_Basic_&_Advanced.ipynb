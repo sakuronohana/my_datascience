{
  "nbformat": 4,
  "nbformat_minor": 0,
  "metadata": {
    "colab": {
      "name": "DS Bootcamp Python Basic & Advanced ipynb",
      "provenance": [],
      "toc_visible": true,
      "include_colab_link": true
    },
    "kernelspec": {
      "name": "python3",
      "display_name": "Python 3"
    }
  },
  "cells": [
    {
      "cell_type": "markdown",
      "metadata": {
        "id": "view-in-github",
        "colab_type": "text"
      },
      "source": [
        "<a href=\"https://colab.research.google.com/github/sakuronohana/my_datascience/blob/master/2_DS_Bootcamp_Python_Basic_%26_Advanced.ipynb\" target=\"_parent\"><img src=\"https://colab.research.google.com/assets/colab-badge.svg\" alt=\"Open In Colab\"/></a>"
      ]
    },
    {
      "cell_type": "markdown",
      "metadata": {
        "id": "SyxBmxgRxnMS"
      },
      "source": [
        "# DS Bootcamp Teil 1a - Python Basic & Advanced #"
      ]
    },
    {
      "cell_type": "markdown",
      "metadata": {
        "id": "QoQEryhL9Hxw"
      },
      "source": [
        "## DS Bootcamp Verzeichnis ##\n",
        "\n",
        "[**Teil 1 - Data Science - Prozesse & Grundlagen**](https://github.com/sakuronohana/my_datascience/blob/master/1_DS_Bootcamp_Prozesse_%26_Grundlagen.ipynb)\n",
        "\n",
        "[**Teil 1a - Data Science - Python Basic & Advanced**](https://github.com/sakuronohana/my_datascience/blob/master/2_DS_Bootcamp_Python_Basic_%26_Advanced.ipynb)\n",
        "\n",
        "[**Teil 1b - Data Science - R Basic & Advanced**](https://github.com/sakuronohana/my_datascience/blob/master/3_DS_Bootcamp_R_Basic_%26_Advanced.ipynb)\n",
        "\n",
        "[**Teil 2 - Data Science - ML - Datenbeschaffung & Datenaufbereitung**](https://github.com/sakuronohana/my_datascience/blob/master/4_DS_Bootcamp_ML_Datenbeschaffung_Datenaufbereitung.ipynb)\n",
        "\n",
        "[**Teil 3 - Data Science - ML - Modellwahl**](https://github.com/sakuronohana/my_datascience/blob/master/5_DS_Bootcamp_ML_Modellwahl.ipynb)\n",
        "\n",
        "[**Teil 4 - Data Science - ML - Modell Training, Testing & Optimierung**](https://github.com/sakuronohana/my_datascience/blob/master/6_DS_Bootcamp_ML_Modell_Train_Test_Optimize.ipynb)\n",
        "\n",
        "[**Teil 5 - Data Science - ML - Modell Produktivsetzung, Überwachung & Pflege**](https://github.com/sakuronohana/my_datascience/blob/master/7_DS_Bootcamp_ML_Modell_Deploy_Monitor_Maintain.ipynb)"
      ]
    },
    {
      "cell_type": "markdown",
      "metadata": {
        "id": "GLyHaEWF9LBH"
      },
      "source": [
        "<img src=\"https://upload.wikimedia.org/wikipedia/commons/thumb/f/f8/Python_logo_and_wordmark.svg/460px-Python_logo_and_wordmark.svg.png\" alt=\"Drawing\" width=\"400\">\n",
        "\n",
        "##About Python##\n",
        "Python ([ˈpʰaɪθn̩], [ˈpʰaɪθɑn], auf Deutsch auch [ˈpʰyːtɔn]) ist eine universelle, üblicherweise interpretierte höhere Programmiersprache. Sie hat den Anspruch, einen gut lesbaren, knappen Programmierstil zu fördern. So werden beispielsweise Blöcke nicht durch geschweifte Klammern, sondern durch Einrückungen strukturiert. Wegen ihrer klaren und übersichtlichen Syntax gilt Python als einfach zu erlernen.\n",
        "\n",
        "Python unterstützt mehrere Programmierparadigmen, z. B. die objektorientierte, die aspektorientierte und die funktionale Programmierung. Ferner bietet es eine dynamische Typisierung. Wie viele dynamische Sprachen wird Python oft als Skriptsprache genutzt. Die Sprache weist ein offenes, gemeinschaftsbasiertes Entwicklungsmodell auf, das durch die gemeinnützige Python Software Foundation gestützt wird, die de facto die Definition der Sprache in der Referenzumsetzung CPython pflegt.\n",
        "\n",
        "(Quelle: Wikipedia)"
      ]
    },
    {
      "cell_type": "markdown",
      "metadata": {
        "id": "N-L3CqPINB1S"
      },
      "source": [
        "## Python Basics##"
      ]
    },
    {
      "cell_type": "markdown",
      "metadata": {
        "id": "aHTwGSN89YZ3"
      },
      "source": [
        "###Zahlen"
      ]
    },
    {
      "cell_type": "markdown",
      "metadata": {
        "id": "2vqnfUOy9YZ6"
      },
      "source": [
        "Python beinhaltet verschiedene \"Arten\" (en.: types) von Zahlen. Wir werden uns hauptsächlich mit Ganzzahlen (en.: integers) und Kommazahlen (en.: floats) beschäftigen. Später unternehmen wir einen kurzen Abstecher zu den komplexen Zahlen (en.: complex numbers). Integers sind einfach ganze Zahlen, positiv und negativ. Zum Beispiel: 2 und -2 sind Integers. Floats sind Kommazahlen und in Python besonders, da sie einen Dezimalpunkt oder einen Exponenten (e) beinhalten, um die Zahl zu definieren. Zum Beispiel sind 2.0 und -2.1 Zahlen mit Dezimalpunkt. 4E2 (4 mal 10 hoch 2) ist ebenso ein Beispiel für eine Float-Zahl in Python"
      ]
    },
    {
      "cell_type": "markdown",
      "metadata": {
        "id": "A3IDFYkY9YZ6"
      },
      "source": [
        "http://nbviewer.jupyter.org/github/datamics/Originale-Python-Bootcamp/blob/master/1%20Python%20Grundlagen/1-Grundlagen%20der%20Python%20Objekte%20und%20Datenstrukturen/1-Zahlen.ipynb"
      ]
    },
    {
      "cell_type": "code",
      "metadata": {
        "id": "AlnKupoG9YZ8"
      },
      "source": [
        "# Addition\n",
        "1 + 2"
      ],
      "execution_count": null,
      "outputs": []
    },
    {
      "cell_type": "code",
      "metadata": {
        "id": "heBYSQly9YaD"
      },
      "source": [
        "# Subtraktion\n",
        "2 - 1"
      ],
      "execution_count": null,
      "outputs": []
    },
    {
      "cell_type": "code",
      "metadata": {
        "id": "W8wMfctr9YaG"
      },
      "source": [
        "# Multiplikation\n",
        "1 * 2"
      ],
      "execution_count": null,
      "outputs": []
    },
    {
      "cell_type": "code",
      "metadata": {
        "id": "5IqqICg09YaK"
      },
      "source": [
        ""
      ],
      "execution_count": null,
      "outputs": []
    },
    {
      "cell_type": "code",
      "metadata": {
        "id": "E3YdC0bS9YaN"
      },
      "source": [
        "# Division - Wird im Python3 im Float Type ausgegeben.\n",
        "4/2"
      ],
      "execution_count": null,
      "outputs": []
    },
    {
      "cell_type": "code",
      "metadata": {
        "id": "drZVwnB-9YaR"
      },
      "source": [
        "# Potenzen \n",
        "2**3"
      ],
      "execution_count": null,
      "outputs": []
    },
    {
      "cell_type": "code",
      "metadata": {
        "id": "4HZ4YKiU9YaW"
      },
      "source": [
        "# Wurzel\n",
        "2**0.5"
      ],
      "execution_count": null,
      "outputs": []
    },
    {
      "cell_type": "code",
      "metadata": {
        "id": "dguSDW-99Yab"
      },
      "source": [
        "# Reihenfolge der Operationen wird automatisch durch Python sichergestellt. Bsp. Klammer, Punkt vor Strich\n",
        "(2 + 10) * 10 + 3"
      ],
      "execution_count": null,
      "outputs": []
    },
    {
      "cell_type": "code",
      "metadata": {
        "id": "FDVlTc_59Yaf"
      },
      "source": [
        "# Variablen zuweisen. Namen dürfen nicht mit Zahl beginnen bsp. 4a, es darf keine Leerzeichen bsp a 4 (a_4) und \n",
        "# spezielle Sonderzeichen enthalten.\n",
        "a=5\n",
        "a+a"
      ],
      "execution_count": null,
      "outputs": []
    },
    {
      "cell_type": "code",
      "metadata": {
        "id": "ObP7Ikpz9Yai"
      },
      "source": [
        "# Variablen lassen sich in verschiedensten Varianten einsetzt \n",
        "einkommen = 100\n",
        "steuersatz = 0.15\n",
        "steuer = einkommen * steuersatz\n",
        "steuer"
      ],
      "execution_count": null,
      "outputs": []
    },
    {
      "cell_type": "markdown",
      "metadata": {
        "id": "eryXlepT9Yam"
      },
      "source": [
        "### Strings"
      ]
    },
    {
      "cell_type": "markdown",
      "metadata": {
        "id": "7kZviRlQ9Yao"
      },
      "source": [
        "Strings werden in Python dazu benutzt, um Textinformationen, wie bspw. Namen, festzuhalten.\n",
        "Genau genommen sind Strings in Python eine Sequenz. Das bedeutet, dass Python jedes einzelne Element in der Sequenz (in diesem Fall ein String) individuell beachtet. Ein Beispiel ist der String \"hallo\", den Python als Sequenz der einzelnen Buchstaben in einer bestimmten Reihenfolge speichert. Das hat zur Folge, dass wir später in der Lage sein werden zu indexieren und so bestimmte Buchstaben (z.B. den ersten oder letzten) aus einem String auszulesen.\n",
        "\n",
        "Diese Idee einer Sequenz ist wichtig in Python und sie wird uns begleiten.\n",
        "\n",
        "Zu den Sequenzen in Python gehören:\n",
        "\n",
        "    Strings\n",
        "    Listen\n",
        "    Tupel\n",
        "    Binärdaten\n"
      ]
    },
    {
      "cell_type": "code",
      "metadata": {
        "id": "gtvlGVW_9Yap"
      },
      "source": [
        "'hallo, ich bin ein Wort'"
      ],
      "execution_count": null,
      "outputs": []
    },
    {
      "cell_type": "code",
      "metadata": {
        "id": "6U0uOZ1N9Yat"
      },
      "source": [
        "# Wenn innerhalb eines Strings Hochkommas verwendet werden, dann muss mit Anführungszeichen gearbeitet werden.\n",
        "\"Hallo ich bin's\""
      ],
      "execution_count": null,
      "outputs": []
    },
    {
      "cell_type": "code",
      "metadata": {
        "id": "sEn5WfPB9Yay"
      },
      "source": [
        "print(\"Hallo Welt!\")\n",
        "print(\"Hallo Mond\")"
      ],
      "execution_count": null,
      "outputs": []
    },
    {
      "cell_type": "code",
      "metadata": {
        "id": "FL4cB5vl9Ya2"
      },
      "source": [
        "# Möchte man den String verschiedene Zeilen verteilen dann benötigt man ein \\n (Auf Mac mit Umschalt+Alt+7)\n",
        "print(\"Eine neue Zeile \\n in eine neue Zeile\")"
      ],
      "execution_count": null,
      "outputs": []
    },
    {
      "cell_type": "code",
      "metadata": {
        "id": "X9Ht130R9Ya5"
      },
      "source": [
        "# Um einen Tab einzufügen muss man \\t benutzen.\n",
        "print(\"Hier kommt eine Tab \\t in der Zeile\")"
      ],
      "execution_count": null,
      "outputs": []
    },
    {
      "cell_type": "code",
      "metadata": {
        "id": "H2P2OyP29Ya-"
      },
      "source": [
        "# Um die länge bzw. Anzahl Zeichen in eine String zu ermitteln verwenden wir len\n",
        "len(\"Hallo Welt\")"
      ],
      "execution_count": null,
      "outputs": []
    },
    {
      "cell_type": "code",
      "metadata": {
        "id": "Rf6llZHn9YbD",
        "colab": {
          "base_uri": "https://localhost:8080/",
          "height": 34
        },
        "outputId": "6f3409a9-2146-4c4d-b7c9-b3ca771671ea"
      },
      "source": [
        "# Die Ausgabe von bestimmten Zeichen wird mit einer eckigen Klammer und der entsprechenden Nummer augegeben\n",
        "s = \"Hallo Welt!\"\n",
        "print(s[0]) # Hiermit wird die Positon 0 bzw. das erste Zeichen der Variable s augegeben"
      ],
      "execution_count": null,
      "outputs": [
        {
          "output_type": "stream",
          "text": [
            "H\n"
          ],
          "name": "stdout"
        }
      ]
    },
    {
      "cell_type": "code",
      "metadata": {
        "id": "6Av3wlCO9YbG"
      },
      "source": [
        "# Es lässt sich natürlich auch eine ganze Zeichenkette von einer bestimmten Positon aus, ausgeben.\n",
        "print(s[1:]) # Nach 0\n",
        "print(s[:3]) # von 0 bis 3\n",
        "print(s[:]) # ganzer String\n",
        "print(s[-3:]) # von hinten angefangen\n",
        "print(s[::2]) # nur jeder 2. Buchstabe wird ausgegeben"
      ],
      "execution_count": null,
      "outputs": []
    },
    {
      "cell_type": "code",
      "metadata": {
        "id": "wOVMRBbT9YbL"
      },
      "source": [
        "# Um einen String zu erweitern kann man das + Zeichen verwenden. \n",
        "s + \" Hi Mond\" # Achtung dies wir nicht unter der Variabel s gespeichert. \n",
        "sx = s + \" Hi Mond\" # nun ist es in eine neuen Variabel gespeichert.\n",
        "sx"
      ],
      "execution_count": null,
      "outputs": []
    },
    {
      "cell_type": "code",
      "metadata": {
        "id": "MZFoArEe9YbQ"
      },
      "source": [
        "# Auch Multiplikation in den Strings ist möglich bzw. der String wird um die Anzahl im Multiplikator erhöht.\n",
        "s = \"Z\"\n",
        "s*10"
      ],
      "execution_count": null,
      "outputs": []
    },
    {
      "cell_type": "code",
      "metadata": {
        "id": "d_P2rE609YbT"
      },
      "source": [
        "# Der String ist eine Objekt für welche eine bestimmte Methode mit zusätzlichen Parametern ausgeführt wird\n",
        "# Objekt.Methode(Parameter)\n",
        "s = 'Hallo Welt'\n",
        "s.upper() # Wandelt alle Zeichen im String in Grossbuchstaben"
      ],
      "execution_count": null,
      "outputs": []
    },
    {
      "cell_type": "code",
      "metadata": {
        "id": "d62URpN49YbZ"
      },
      "source": [
        "# Eine der wichtigsten Methoden ist split\n",
        "s.split() # Fügen wir nichts in die Klammern, dann trennt Split einfach jedes Wort. "
      ],
      "execution_count": null,
      "outputs": []
    },
    {
      "cell_type": "code",
      "metadata": {
        "id": "hxPfHK7z9Ybc",
        "colab": {
          "base_uri": "https://localhost:8080/",
          "height": 34
        },
        "outputId": "76dd8ff3-863c-4c95-a776-df1697ac5152"
      },
      "source": [
        "# Wir können aber in der Klammer auch definieren wo der Split stattfinden soll\n",
        "s.split ('W') # Python splittet jetzt den String bei W"
      ],
      "execution_count": null,
      "outputs": [
        {
          "output_type": "execute_result",
          "data": {
            "text/plain": [
              "['Hallo ', 'elt!']"
            ]
          },
          "metadata": {
            "tags": []
          },
          "execution_count": 3
        }
      ]
    },
    {
      "cell_type": "code",
      "metadata": {
        "id": "yDU4AYs7dlyz",
        "colab": {
          "base_uri": "https://localhost:8080/",
          "height": 52
        },
        "outputId": "5c9bc354-5a49-41dd-9fd2-9050e1286036"
      },
      "source": [
        "# Mit dem folgenden Code Zählen wir die Anzahl Zeichen im einem String\n",
        "print(len('Wie lange ist dieser Satz'))\n",
        "\n",
        "# Nun zählen wir die Anzahl definierter Zeichen in einen String\n",
        "print('Wie lange ist dieser Satz'.count('e'))"
      ],
      "execution_count": null,
      "outputs": [
        {
          "output_type": "stream",
          "text": [
            "25\n",
            "4\n"
          ],
          "name": "stdout"
        }
      ]
    },
    {
      "cell_type": "code",
      "metadata": {
        "id": "o3IKnsCof9h3",
        "colab": {
          "base_uri": "https://localhost:8080/",
          "height": 52
        },
        "outputId": "b0fe6ddf-bdfb-49a0-c3dd-92b66a4726f0"
      },
      "source": [
        "# Mit dem sogannten f-string können wir bestimmte Variablen in einer Ausgabe einsetzen\n",
        "name = 'Patrick'\n",
        "surname = 'Di Lena'\n",
        "\n",
        "print(f'Hallo mein Name ist {name} {surname}')\n",
        "\n",
        "# Dies können wir auch mit der Funktion format() bewerkstelligen:\n",
        "\n",
        "print('Hallo mein Name ist {} {}'.format(name,surname))"
      ],
      "execution_count": null,
      "outputs": [
        {
          "output_type": "stream",
          "text": [
            "Hallo mein Name ist Patrick Di Lena\n",
            "Hallo mein Name ist Patrick Di Lena\n"
          ],
          "name": "stdout"
        }
      ]
    },
    {
      "cell_type": "code",
      "metadata": {
        "id": "Z16Xy5g9hSPs",
        "colab": {
          "base_uri": "https://localhost:8080/",
          "height": 52
        },
        "outputId": "7ccaa474-9084-4add-9f22-05e240373f6b"
      },
      "source": [
        "# Machmal ist es schwierig herauszufinden ob ein String ein String ist oder eine Nummer. Was, was ist können wir einfach herausfinden:\n",
        "string = '2000'\n",
        "zahl = 2000\n",
        "print (string, zahl, '.Welches ist nun eine String und welches eine Integer?')\n",
        "print ('Die Variable \"String\" ist ein ',type(string), 'und \"Zahl\" ist eine', type(zahl))\n"
      ],
      "execution_count": null,
      "outputs": [
        {
          "output_type": "stream",
          "text": [
            "2000 2000 .Welches ist nun eine String und welches eine Integer?\n",
            "Die Variable \"String\" ist ein  <class 'str'> und \"Zahl\" ist eine <class 'int'>\n"
          ],
          "name": "stdout"
        }
      ]
    },
    {
      "cell_type": "code",
      "metadata": {
        "id": "g-2gScxXjYew",
        "colab": {
          "base_uri": "https://localhost:8080/",
          "height": 34
        },
        "outputId": "4565acd6-eab3-4c87-d708-01cfc777e316"
      },
      "source": [
        "# Wollen wir Zeichenfolge x-beliebig mutieren dann steht uns die Funktion join zur Verfügung\n",
        "\n",
        "# Wir fügen ein Komma ein\n",
        "','.join(['1','2','3','4'])\n",
        "\n",
        "# Drehen Wörter einfach um\n",
        "''.join(reversed('Patrick Di Lena'))\n"
      ],
      "execution_count": null,
      "outputs": [
        {
          "output_type": "stream",
          "text": [
            "Object `join` not found.\n"
          ],
          "name": "stdout"
        }
      ]
    },
    {
      "cell_type": "code",
      "metadata": {
        "id": "KuFPm945mJPI",
        "colab": {
          "base_uri": "https://localhost:8080/",
          "height": 71
        },
        "outputId": "d5887b98-91a6-42b3-c76b-c3fbae0398b3"
      },
      "source": [
        "# Wir können einen String jederzeit auch in Klein- oder Grossbuchstaben umwandeln\n",
        "satz = 'Ist Python nicht ein wunderbares Instrument'\n",
        "print(satz.upper())\n",
        "print(satz.lower())\n",
        "\n",
        "satz[0].upper() + satz[1:]"
      ],
      "execution_count": null,
      "outputs": [
        {
          "output_type": "stream",
          "text": [
            "IST PYTHON NICHT EIN WUNDERBARES INSTRUMENT\n",
            "ist python nicht ein wunderbares instrument\n"
          ],
          "name": "stdout"
        },
        {
          "output_type": "execute_result",
          "data": {
            "application/vnd.google.colaboratory.intrinsic+json": {
              "type": "string"
            },
            "text/plain": [
              "'Ist Python nicht ein wunderbares Instrument'"
            ]
          },
          "metadata": {
            "tags": []
          },
          "execution_count": 60
        }
      ]
    },
    {
      "cell_type": "code",
      "metadata": {
        "id": "sxtiDk2En0th",
        "colab": {
          "base_uri": "https://localhost:8080/",
          "height": 52
        },
        "outputId": "5f7f63bf-7810-436d-d132-19d451c326ba"
      },
      "source": [
        "# Das konvertieren eines Integers in eine String und umgekehrt ist ganz einfach\n",
        "\n",
        "print(type(str(2)))\n",
        "print(type(int('2')))"
      ],
      "execution_count": null,
      "outputs": [
        {
          "output_type": "stream",
          "text": [
            "<class 'str'>\n",
            "<class 'int'>\n"
          ],
          "name": "stdout"
        }
      ]
    },
    {
      "cell_type": "code",
      "metadata": {
        "id": "J_2YtA4Qo5ZB",
        "colab": {
          "base_uri": "https://localhost:8080/",
          "height": 87
        },
        "outputId": "b19126c0-0955-4dc2-c9f9-02b85fb49263"
      },
      "source": [
        "# Leerschläge in einem String lassen sich wie folgt korrigieren.\n",
        "satz = ' Was zur Hölle ist den dass?  '\n",
        "\n",
        "print(satz)\n",
        "print(satz.lstrip()) # Leerschlag links entfernen\n",
        "print(satz.rstrip()) # Leerschlag rechts entfernen\n",
        "print(satz.strip()) # und auf beiden Seiten"
      ],
      "execution_count": null,
      "outputs": [
        {
          "output_type": "stream",
          "text": [
            " Was zur Hölle ist den dass?  \n",
            "Was zur Hölle ist den dass?  \n",
            " Was zur Hölle ist den dass?\n",
            "Was zur Hölle ist den dass?\n"
          ],
          "name": "stdout"
        }
      ]
    },
    {
      "cell_type": "code",
      "metadata": {
        "id": "-l7VXtb7p2C0",
        "colab": {
          "base_uri": "https://localhost:8080/",
          "height": 52
        },
        "outputId": "01940188-726e-4f56-c980-d149cd77e0cd"
      },
      "source": [
        "# Wenn es um Abfragen bestimmter Zeichen geht dann sind die Funktonen startswith() und endswith() sehr gut dafür geeignet\n",
        "satz = 'Und noch eine Beispiel'\n",
        "if satz.startswith('U'):\n",
        "  print('Yes')\n",
        "else:\n",
        "  print ('No')\n",
        "\n",
        "if satz.endswith('Beispiel'):\n",
        "  print ('Yes')\n"
      ],
      "execution_count": null,
      "outputs": [
        {
          "output_type": "stream",
          "text": [
            "Yes\n",
            "Yes\n"
          ],
          "name": "stdout"
        }
      ]
    },
    {
      "cell_type": "markdown",
      "metadata": {
        "id": "cIJAYHUp9Ybg"
      },
      "source": [
        "### Ausgabe Formatierung"
      ]
    },
    {
      "cell_type": "code",
      "metadata": {
        "id": "EMBNB-_Y9Ybg"
      },
      "source": [
        "# Hier wird gezeigt in welchen verschiedenen Arten bzw. Methoden die Print Anweisung formatiert werden kann.\n",
        "# Empfohlen Methode um die Strings zu bearbeiten ist .format(). Es wird her aber auch andere vorgestellt. "
      ],
      "execution_count": null,
      "outputs": []
    },
    {
      "cell_type": "code",
      "metadata": {
        "id": "NVVjR3En9Ybj"
      },
      "source": [
        "# Das ist eine normale Ausgabe eines Strings\n",
        "print(\"Das ist ein String\")"
      ],
      "execution_count": null,
      "outputs": []
    },
    {
      "cell_type": "code",
      "metadata": {
        "id": "I4KhP6DR9Ybn"
      },
      "source": [
        "# Wollen wir eine bestimmte Variable in einen String einführen so machen wir das wie folgt. Dazu verwenden wir das %s\n",
        "s = \"String\"\n",
        "print('Setze einen String mit einem mod und s ein: %s' %(s)) # "
      ],
      "execution_count": null,
      "outputs": []
    },
    {
      "cell_type": "code",
      "metadata": {
        "id": "85Ws8smy9Ybr"
      },
      "source": [
        "print('Kommazahlen: %1.0f' %(13.144)) # In diesem Beispiel generieren wir einen Platzhalter für Float ohne Komma"
      ],
      "execution_count": null,
      "outputs": []
    },
    {
      "cell_type": "code",
      "metadata": {
        "id": "ZBtlEXux9Ybv"
      },
      "source": [
        "# Nun kommen wir zur Umwandlungsmethode diese können wir mit %s (String) %r (Repräsentativ)\n",
        "print('Hier ist eine Nummer: %s. Hier ist ein String: %s' %(123.1, 'hi'))\n",
        "\n",
        "# In diesem Beispiel können wir auch %r anstelle %s verwendet. Kommt auf das gleiche Resultat"
      ],
      "execution_count": null,
      "outputs": []
    },
    {
      "cell_type": "code",
      "metadata": {
        "id": "kOcKgK3y9Yby"
      },
      "source": [
        "# Wir können hiermit natürlich auch eine Tuple (unveränderbare Liste)\n",
        "print ('Erstes: %s, zweite %s, drittes %r' %(('Hi',3.14,22)))"
      ],
      "execution_count": null,
      "outputs": []
    },
    {
      "cell_type": "code",
      "metadata": {
        "id": "SyGIKn5_9Yb0"
      },
      "source": [
        "# So weit so gut. Wie bereits erwähnt ist es am Besten, wenn man generell die Format Methode nimmt\n",
        "print('Das ist ein String mit einer {p}'.format(p='Einfügung'))"
      ],
      "execution_count": null,
      "outputs": []
    },
    {
      "cell_type": "code",
      "metadata": {
        "id": "nyHuKbnx9Yb3"
      },
      "source": [
        "# Auch mit der Format-Methode lassen sich mehrer Objekte analog einer Liste ausgeben.\n",
        "print('Erste Ausgabe {a}, Zweite Ausgabe {b}, Dritte Ausgabe {c}'.format(a=1, b=2, c='Drei'))\n",
        "\n",
        "# Die Reihenfolge der Ausgabe spielt dabei keine Rolle"
      ],
      "execution_count": null,
      "outputs": []
    },
    {
      "cell_type": "markdown",
      "metadata": {
        "id": "DEPVfMhx9Yb7"
      },
      "source": [
        "### Listen"
      ]
    },
    {
      "cell_type": "markdown",
      "metadata": {
        "id": "o49-nere9Yb8"
      },
      "source": [
        "Auch schon mit normalen Strings können Sequenzen bzw. Auflistungen gemacht werden diese sind aber im Normalfall nicht änderbar. Listen hingegen lassen sich auf verschiedenen Arten einsetzen und lassen sich auch jederzeit beliebig ändern und erweitern."
      ]
    },
    {
      "cell_type": "code",
      "metadata": {
        "id": "ppT9y3ve9Yb9"
      },
      "source": [
        "# In Listen lassen sich verschieden Arten von Typen (String, Float usw) unterbringen\n",
        "liste = [1,2,3,'String', 2.4]"
      ],
      "execution_count": null,
      "outputs": []
    },
    {
      "cell_type": "code",
      "metadata": {
        "id": "HsgPvip99YcB",
        "colab": {
          "base_uri": "https://localhost:8080/",
          "height": 34
        },
        "outputId": "77e05643-2d75-4e43-fccb-c059ade44928"
      },
      "source": [
        "# Die Listen lassen sich auf verschiedene Arten ausgeben\n",
        "\n",
        "len(liste) # Zeigt die Länge eines Liste bzw. die in der Liste erfassten Elemente \n",
        "liste[2] # Zeigt das dritte Element, beginnend mit 0, aus der Liste\n",
        "liste[:2] # Gibt alles bis zum Element 3 aus. Achtung ab beginnt ab 0\n",
        "liste[2:] # Gibt alles ab dem Element 3 aus.\n",
        "liste[1:3] # Gibt alles zwischen Element 2 und 4 aus"
      ],
      "execution_count": null,
      "outputs": [
        {
          "output_type": "execute_result",
          "data": {
            "text/plain": [
              "[2, 3]"
            ]
          },
          "metadata": {
            "tags": []
          },
          "execution_count": 4
        }
      ]
    },
    {
      "cell_type": "code",
      "metadata": {
        "id": "m4cvUBY_9YcG",
        "colab": {
          "base_uri": "https://localhost:8080/",
          "height": 34
        },
        "outputId": "54309b62-54a4-4067-dfd1-7aad4eca1a99"
      },
      "source": [
        "#Die Liste kann auch beliebig erweitert werden. Die hier beschriebene Erweiterung ist aber nur Temporär\n",
        "liste + ['Neues Element']"
      ],
      "execution_count": null,
      "outputs": [
        {
          "output_type": "execute_result",
          "data": {
            "text/plain": [
              "[1, 2, 3, 'String', 2.4, 'Neues Element']"
            ]
          },
          "metadata": {
            "tags": []
          },
          "execution_count": 5
        }
      ]
    },
    {
      "cell_type": "code",
      "metadata": {
        "id": "zz4MF2wx9YcL"
      },
      "source": [
        "# Um die Liste permanent zu erweitern muss eine neue Liste angelegt werden.\n",
        "liste = liste + ['Neues Element']\n",
        "liste"
      ],
      "execution_count": null,
      "outputs": []
    },
    {
      "cell_type": "code",
      "metadata": {
        "id": "jMc2z9Bz9YcP"
      },
      "source": [
        "# Einen gängige Methode einen Wert einer Liste hinzuzufügen ist die Methode .append\n",
        "liste.append('Ein neueres Element')\n",
        "liste"
      ],
      "execution_count": null,
      "outputs": []
    },
    {
      "cell_type": "code",
      "metadata": {
        "id": "l4i9aEjs9YcS"
      },
      "source": [
        "# Um ein Element wieder aus der Liste zu entfernen kann die Methode .pop verwendet werden\n",
        "liste.pop(0) # Wir entfernen hier die 1\n",
        "liste"
      ],
      "execution_count": null,
      "outputs": []
    },
    {
      "cell_type": "code",
      "metadata": {
        "id": "34e9Hl3k9YcV"
      },
      "source": [
        "# Um ein Element aus einer Liste zu enfernen und in eine andere Liste zu transferieren \n",
        "pop = liste.pop(1)\n",
        "pop"
      ],
      "execution_count": null,
      "outputs": []
    },
    {
      "cell_type": "code",
      "metadata": {
        "id": "av-npjsi9Yca"
      },
      "source": [
        "# Eine weitere Ausgabemöglichkeit ist die Berechnung \n",
        "liste * 2 # Gibt die Liste zweimal aus\n",
        "liste[1] + 2 # Addiert das erste Elemente mit 2 resp. 1 + 2\n",
        "liste[2] * 2 # Multipliziert das zweite Element mit 2"
      ],
      "execution_count": null,
      "outputs": []
    },
    {
      "cell_type": "code",
      "metadata": {
        "id": "n5Aj1BcZ9Ycg"
      },
      "source": [
        "# Um die Reihenfolgen einer Liste zu ändern kann wie folgt vorgegangen werden.\n",
        "neue_liste = ['a','s', 'd', 'f']\n",
        "neue_liste.reverse() # Die neue Liste wird jetzt umgekehrt erstellt\n",
        "neue_liste.sort() # Die umgekehrte Liste kann jettzt noch alfapethisch sortiert werden\n",
        "neue_liste"
      ],
      "execution_count": null,
      "outputs": []
    },
    {
      "cell_type": "code",
      "metadata": {
        "id": "FE-22P_U9Ycj"
      },
      "source": [
        "# Es können natürlich auch Listen in Listen erstellt werden. Eine sogennante Matrix\n",
        "list_1 = [1,2,3]\n",
        "list_2 = [4,5,6]\n",
        "list_3 = [7,8,9]\n",
        "matrix = [list_1, list_2, list_3] # Wir fügen nun die Listen zu einer Matrix zusammen\n",
        "matrix # Hier geben wir nun die Matrix mit ihren 3 Zeilen aus"
      ],
      "execution_count": null,
      "outputs": []
    },
    {
      "cell_type": "code",
      "metadata": {
        "id": "P7Cy7W2o9Ycn"
      },
      "source": [
        "# Die erstellte Matrix kann man sich jetzt wie folgt vorstellen:\n",
        "#   y y y\n",
        "# x 1 2 3\n",
        "# x 4 5 6\n",
        "# x 7 8 9\n",
        "# x repräsentiert die Zeile und y die Spalte\n",
        "\n",
        "# Für den Zugriff muss zuerst die Zeile und dann das Element angegeben werden\n",
        "matrix[0] #Gibt die komplette erste Zeile (0) aus\n",
        "matrix[0][1] #Gibt das zweite Element der ersten Zeile aus"
      ],
      "execution_count": null,
      "outputs": []
    },
    {
      "cell_type": "code",
      "metadata": {
        "id": "N-LmO5z09Ycr"
      },
      "source": [
        "# Wir erstellen nun aus der Matrix eine erste Spalte mit Hilfe einer for-Schleife\n",
        "spalte_1 = [zeile[0] for zeile in matrix]\n",
        "spalte_1"
      ],
      "execution_count": null,
      "outputs": []
    },
    {
      "cell_type": "code",
      "metadata": {
        "id": "QzMCwJxZ9Ycu"
      },
      "source": [
        "spalte_1[:2]"
      ],
      "execution_count": null,
      "outputs": []
    },
    {
      "cell_type": "markdown",
      "metadata": {
        "id": "FT-LnuWsEwKU"
      },
      "source": [
        "Das was Listen jedoch am interessanten macht, ist dass man in diesem Konstrukt alle Arten von Daten erfassen kann. So könnte man Beispielsweise eine Anzahl verschiedener Dataframes in eine Liste einfügen und entsprechenden abrufen."
      ]
    },
    {
      "cell_type": "code",
      "metadata": {
        "id": "TCbXNUnoFH_K"
      },
      "source": [
        "#Laden wir zuerst mal ein paar Datensätze in verschieden Dataframes\n",
        "import pandas as pd\n",
        "import numpy as np\n",
        "\n",
        "datloc1 = 'https://raw.githubusercontent.com/sakuronohana/my_datascience/master/datasets/car_data.csv'\n",
        "datloc2 = 'https://raw.githubusercontent.com/sakuronohana/my_datascience/master/datasets/google_stock_data.csv'\n",
        "datloc3 = 'https://raw.githubusercontent.com/sakuronohana/my_datascience/master/datasets/plane_crash_data.csv'\n",
        "\n",
        "df_car = pd.DataFrame(pd.read_csv(datloc1, sep=';'))\n",
        "df_stock = pd.DataFrame(pd.read_csv(datloc2))\n",
        "df_plane = pd.DataFrame(pd.read_csv(datloc3))\n"
      ],
      "execution_count": null,
      "outputs": []
    },
    {
      "cell_type": "code",
      "metadata": {
        "id": "CHxDxyARGU-B",
        "colab": {
          "base_uri": "https://localhost:8080/",
          "height": 589
        },
        "outputId": "3bf7c97c-5b2b-451c-f4f7-97c51e356f4b"
      },
      "source": [
        "# Nun packen wir alle DataFrames in eine Liste\n",
        "\n",
        "df_list = [df_car,df_stock,df_plane]\n",
        "\n",
        "# Nun können wir individuell auf die Dataframes in der Liste zugreifen\n",
        "\n",
        "# Zeigt erstes Dataframe in Liste. Nur zur Erinnerung bei Python fängt alles mit 0 an\n",
        "df_list[0]\n",
        "\n",
        "# Zeigt erstes Dataframe und dessen erst Spalte\n",
        "df_list[0].iloc[:,0]\n",
        "\n",
        "# Ist der Name des ersten Features des ersten Dataframes bekannt, dann kann auch wie folgt darauf zugegriffen werden.\n",
        "df_list[0].mpg\n",
        "\n",
        "# oder so\n",
        "df_list[0][df_car['mpg'] == 21.0]\n",
        "df_list[2][df_plane['date'].str.contains('September')]"
      ],
      "execution_count": null,
      "outputs": [
        {
          "output_type": "execute_result",
          "data": {
            "text/html": [
              "<div>\n",
              "<style scoped>\n",
              "    .dataframe tbody tr th:only-of-type {\n",
              "        vertical-align: middle;\n",
              "    }\n",
              "\n",
              "    .dataframe tbody tr th {\n",
              "        vertical-align: top;\n",
              "    }\n",
              "\n",
              "    .dataframe thead th {\n",
              "        text-align: right;\n",
              "    }\n",
              "</style>\n",
              "<table border=\"1\" class=\"dataframe\">\n",
              "  <thead>\n",
              "    <tr style=\"text-align: right;\">\n",
              "      <th></th>\n",
              "      <th>date</th>\n",
              "      <th>time</th>\n",
              "      <th>location</th>\n",
              "      <th>operator</th>\n",
              "      <th>flight_number</th>\n",
              "      <th>route</th>\n",
              "      <th>aircraft_type</th>\n",
              "      <th>registration</th>\n",
              "      <th>cn_ln</th>\n",
              "      <th>aboard</th>\n",
              "      <th>fatalities</th>\n",
              "      <th>ground</th>\n",
              "      <th>summary</th>\n",
              "    </tr>\n",
              "  </thead>\n",
              "  <tbody>\n",
              "    <tr>\n",
              "      <th>0</th>\n",
              "      <td>September 17, 1908</td>\n",
              "      <td>17:18</td>\n",
              "      <td>Fort Myer, Virginia</td>\n",
              "      <td>Military - U.S. Army</td>\n",
              "      <td>?</td>\n",
              "      <td>Demonstration</td>\n",
              "      <td>Wright Flyer III</td>\n",
              "      <td>?</td>\n",
              "      <td>1</td>\n",
              "      <td>2   (passengers:1  crew:1)</td>\n",
              "      <td>1   (passengers:1  crew:0)</td>\n",
              "      <td>0</td>\n",
              "      <td>During a demonstration flight, a U.S. Army fly...</td>\n",
              "    </tr>\n",
              "    <tr>\n",
              "      <th>1</th>\n",
              "      <td>September 07, 1909</td>\n",
              "      <td>?</td>\n",
              "      <td>Juvisy-sur-Orge, France</td>\n",
              "      <td>?</td>\n",
              "      <td>?</td>\n",
              "      <td>Air show</td>\n",
              "      <td>Wright Byplane</td>\n",
              "      <td>SC1</td>\n",
              "      <td>?</td>\n",
              "      <td>1   (passengers:0  crew:1)</td>\n",
              "      <td>1   (passengers:0  crew:0)</td>\n",
              "      <td>0</td>\n",
              "      <td>Eugene Lefebvre was the first pilot to ever be...</td>\n",
              "    </tr>\n",
              "    <tr>\n",
              "      <th>4</th>\n",
              "      <td>September 09, 1913</td>\n",
              "      <td>c 18:30</td>\n",
              "      <td>Over the North Sea</td>\n",
              "      <td>Military - German Navy</td>\n",
              "      <td>?</td>\n",
              "      <td>?</td>\n",
              "      <td>Zeppelin L-1 (airship)</td>\n",
              "      <td>?</td>\n",
              "      <td>?</td>\n",
              "      <td>20   (passengers:?  crew:?)</td>\n",
              "      <td>14   (passengers:?  crew:?)</td>\n",
              "      <td>0</td>\n",
              "      <td>The airship flew into a thunderstorm and encou...</td>\n",
              "    </tr>\n",
              "    <tr>\n",
              "      <th>7</th>\n",
              "      <td>September 03, 1915</td>\n",
              "      <td>c 15:20</td>\n",
              "      <td>Off Cuxhaven, Germany</td>\n",
              "      <td>Military - German Navy</td>\n",
              "      <td>?</td>\n",
              "      <td>?</td>\n",
              "      <td>Zeppelin L-10 (airship)</td>\n",
              "      <td>?</td>\n",
              "      <td>?</td>\n",
              "      <td>19   (passengers:?  crew:?)</td>\n",
              "      <td>19   (passengers:?  crew:?)</td>\n",
              "      <td>0</td>\n",
              "      <td>Exploded and burned near Neuwerk Island,  when...</td>\n",
              "    </tr>\n",
              "    <tr>\n",
              "      <th>9</th>\n",
              "      <td>September 24, 1916</td>\n",
              "      <td>c 01:00</td>\n",
              "      <td>Billericay, England</td>\n",
              "      <td>Military - German Navy</td>\n",
              "      <td>?</td>\n",
              "      <td>?</td>\n",
              "      <td>Zeppelin L-32 (airship)</td>\n",
              "      <td>?</td>\n",
              "      <td>?</td>\n",
              "      <td>22   (passengers:?  crew:?)</td>\n",
              "      <td>22   (passengers:?  crew:?)</td>\n",
              "      <td>0</td>\n",
              "      <td>Shot down by British aircraft crashing in flames.</td>\n",
              "    </tr>\n",
              "    <tr>\n",
              "      <th>...</th>\n",
              "      <td>...</td>\n",
              "      <td>...</td>\n",
              "      <td>...</td>\n",
              "      <td>...</td>\n",
              "      <td>...</td>\n",
              "      <td>...</td>\n",
              "      <td>...</td>\n",
              "      <td>...</td>\n",
              "      <td>...</td>\n",
              "      <td>...</td>\n",
              "      <td>...</td>\n",
              "      <td>...</td>\n",
              "      <td>...</td>\n",
              "    </tr>\n",
              "    <tr>\n",
              "      <th>5154</th>\n",
              "      <td>September 06, 2014</td>\n",
              "      <td>1450</td>\n",
              "      <td>Near Puerto Santander, Colombia</td>\n",
              "      <td>Laser</td>\n",
              "      <td>?</td>\n",
              "      <td>Araracuara - Florencia</td>\n",
              "      <td>Piper PA-31-350 Navajo</td>\n",
              "      <td>HK-4755</td>\n",
              "      <td>31-7952044</td>\n",
              "      <td>10   (passengers:8  crew:2)</td>\n",
              "      <td>10   (passengers:8  crew:2)</td>\n",
              "      <td>0</td>\n",
              "      <td>The passenger plane crashed into the jungle wh...</td>\n",
              "    </tr>\n",
              "    <tr>\n",
              "      <th>5155</th>\n",
              "      <td>September 20, 2014</td>\n",
              "      <td>0935</td>\n",
              "      <td>Near Port Moresby, Papua New Guinea</td>\n",
              "      <td>Hevlift</td>\n",
              "      <td>?</td>\n",
              "      <td>Woitape - Port Moresby</td>\n",
              "      <td>de Havilland Canada DHC-6 Twin Otter 300</td>\n",
              "      <td>P2-KSV</td>\n",
              "      <td>528</td>\n",
              "      <td>9   (passengers:7  crew:2)</td>\n",
              "      <td>4   (passengers:2  crew:2)</td>\n",
              "      <td>0</td>\n",
              "      <td>While approaching Port Moresby Jacksons Intern...</td>\n",
              "    </tr>\n",
              "    <tr>\n",
              "      <th>5173</th>\n",
              "      <td>September 05, 2015</td>\n",
              "      <td>1908</td>\n",
              "      <td>Off Dakar, Near Dioubel, Senegal</td>\n",
              "      <td>Senegalair</td>\n",
              "      <td>71</td>\n",
              "      <td>Ouagadougou - Dakar</td>\n",
              "      <td>Hawker Siddeley HS-125</td>\n",
              "      <td>6V-AIM</td>\n",
              "      <td>257062</td>\n",
              "      <td>7   (passengers:5  crew:2)</td>\n",
              "      <td>7   (passengers:2  crew:5)</td>\n",
              "      <td>0</td>\n",
              "      <td>The air ambulance went missing while on a medi...</td>\n",
              "    </tr>\n",
              "    <tr>\n",
              "      <th>5174</th>\n",
              "      <td>September 15, 2015</td>\n",
              "      <td>0624</td>\n",
              "      <td>Iliamna East Wind Lake, Alaska</td>\n",
              "      <td>Rainbow King Lodge</td>\n",
              "      <td>?</td>\n",
              "      <td>Iliamna - Remote lake</td>\n",
              "      <td>de Havilland Canada DHC 3T Turbine Otter</td>\n",
              "      <td>N928PK</td>\n",
              "      <td>61</td>\n",
              "      <td>7   (passengers:6  crew:1)</td>\n",
              "      <td>3   (passengers:3  crew:0)</td>\n",
              "      <td>0</td>\n",
              "      <td>While on the way to a remote fishing site, the...</td>\n",
              "    </tr>\n",
              "    <tr>\n",
              "      <th>5237</th>\n",
              "      <td>September 28, 2018</td>\n",
              "      <td>1010</td>\n",
              "      <td>Chuuk, Micronesia</td>\n",
              "      <td>Air Niugini</td>\n",
              "      <td>?</td>\n",
              "      <td>Pohnpei - Chuuk</td>\n",
              "      <td>Boeing 737-8BK</td>\n",
              "      <td>P2-PXE</td>\n",
              "      <td>33024/1688</td>\n",
              "      <td>47   (passengers:35  crew:12)</td>\n",
              "      <td>1   (passengers:1  crew:0)</td>\n",
              "      <td>0</td>\n",
              "      <td>The aircraft was approaching for a landing at ...</td>\n",
              "    </tr>\n",
              "  </tbody>\n",
              "</table>\n",
              "<p>483 rows × 13 columns</p>\n",
              "</div>"
            ],
            "text/plain": [
              "                    date  ...                                            summary\n",
              "0     September 17, 1908  ...  During a demonstration flight, a U.S. Army fly...\n",
              "1     September 07, 1909  ...  Eugene Lefebvre was the first pilot to ever be...\n",
              "4     September 09, 1913  ...  The airship flew into a thunderstorm and encou...\n",
              "7     September 03, 1915  ...  Exploded and burned near Neuwerk Island,  when...\n",
              "9     September 24, 1916  ...  Shot down by British aircraft crashing in flames.\n",
              "...                  ...  ...                                                ...\n",
              "5154  September 06, 2014  ...  The passenger plane crashed into the jungle wh...\n",
              "5155  September 20, 2014  ...  While approaching Port Moresby Jacksons Intern...\n",
              "5173  September 05, 2015  ...  The air ambulance went missing while on a medi...\n",
              "5174  September 15, 2015  ...  While on the way to a remote fishing site, the...\n",
              "5237  September 28, 2018  ...  The aircraft was approaching for a landing at ...\n",
              "\n",
              "[483 rows x 13 columns]"
            ]
          },
          "metadata": {
            "tags": []
          },
          "execution_count": 65
        }
      ]
    },
    {
      "cell_type": "markdown",
      "metadata": {
        "id": "2p8kx40E9Ycx"
      },
      "source": [
        "### Dictionaries"
      ]
    },
    {
      "cell_type": "markdown",
      "metadata": {
        "id": "G__uOFM89Ycy"
      },
      "source": [
        "Dictionaries auch bekannt als Mapping sind Sammlungen von Objekten welche über einen Key gespeichert werden. Ein wesentlicher Unterschied zu den Listen ist, dass hier nicht über einen Index [0] usw. auf die Objekte zugegriffen werden kann sondern nur mittels Key. Zudem wird bei Dicts mit geschweiften Klammern gearbeitet. (Mac = alt + 8{ und 9}"
      ]
    },
    {
      "cell_type": "code",
      "metadata": {
        "id": "hAotmsnm9Ycz"
      },
      "source": [
        "d = {'Key':'Wert','Key2':'Wert2'}\n",
        "d['Key'] # Der Zugriff auf den Wert wir nun mittels Key gemacht."
      ],
      "execution_count": null,
      "outputs": []
    },
    {
      "cell_type": "code",
      "metadata": {
        "id": "L3ma3tfk9Yc4"
      },
      "source": [
        "# In einen Dict können die Keys im Gegensatz zu den Werten in einen Dict nicht mehr verändert werden\n",
        "# In einem Dict können alle Arten von Element verstaut werden. Der Zugriff kann dann gemäss der \n",
        "# verschiedenen Methoden durchgeführt werden. \n",
        "dict = {'K_Int': 1234, 'K_Float':12.33, 'K_String':\"String\", 'K_List':['A', 'B', 'C']}\n",
        "dict['K_Int']\n",
        "dict['K_List'][0] # Beispiel für den Zugriff auf Liste\n",
        "dict['K_String'].upper() # Beispiel für Zugriff auf String mit entsprechenden Methoden\n",
        "dict['K_Int']-3+5 # Beispiel einer arithmetischen Operation"
      ],
      "execution_count": null,
      "outputs": []
    },
    {
      "cell_type": "code",
      "metadata": {
        "id": "PieWLg9P9Yc5"
      },
      "source": [
        "# Ein Dictionary kann auch durch neue Werte ergänzt werden\n",
        "dict['Tier'] = 'Hund'\n",
        "dict['Zahl'] = 12\n",
        "dict"
      ],
      "execution_count": null,
      "outputs": []
    },
    {
      "cell_type": "code",
      "metadata": {
        "id": "dMja0gM09Yc8"
      },
      "source": [
        "# Dictionaries lassen sich auch gut verschachteln bzw. ein Dict kann wie eine Liste auch in einem Dict erstellt werden\n",
        "dict2 ={'Key': {'Unterkey': {'Unterunterkey': 'Wert'}}}\n",
        "dict2['Key']['Unterkey']"
      ],
      "execution_count": null,
      "outputs": []
    },
    {
      "cell_type": "code",
      "metadata": {
        "id": "cVSSgjw69Yc-"
      },
      "source": [
        "# Auch in einen Dictionary bestehen Methoden\n",
        "#dict2. # mit TAB-Taste zeigen alle verfügbaren Methoden\n",
        "dict2.items"
      ],
      "execution_count": null,
      "outputs": []
    },
    {
      "cell_type": "code",
      "metadata": {
        "id": "g-lfTJ1d9YdB"
      },
      "source": [
        "dict2.values()"
      ],
      "execution_count": null,
      "outputs": []
    },
    {
      "cell_type": "markdown",
      "metadata": {
        "id": "4NeomiM89YdD"
      },
      "source": [
        "### Tuple"
      ]
    },
    {
      "cell_type": "markdown",
      "metadata": {
        "id": "9LA5aqch9YdD"
      },
      "source": [
        "Tubel sind ähnlich wie Listen nur können sie nicht mehr verändert bzw. ergänzt werden. Deshalb verwendet man Tubel \n",
        "vor allem dann wenn es Werte gibt die nicht mehr geändert werden müssen Bsp. Wochentage, usw. Tubel werden aber im Gegensatz zu Listen viel weniger eingesetzt."
      ]
    },
    {
      "cell_type": "code",
      "metadata": {
        "id": "BieBgIMS9YdD"
      },
      "source": [
        "tub = ['Montag', 'Dienstag', 'Mittwoch']\n",
        "tub[0] # Der Zugriff auf eine Element im Tubel ist wie bei einer Liste\n",
        "tub[0:2] # Gibt alle Elemente von 0-1 aus\n"
      ],
      "execution_count": null,
      "outputs": []
    },
    {
      "cell_type": "code",
      "metadata": {
        "id": "qK3RNprg9YdH"
      },
      "source": [
        "# Auch hier bestehen Methoden wieder tub. + TAB. Es werden zwar diverse Methoden angezeigt die meisten gelten jedoch\n",
        "# für die Listen. Für Tubels bestehen lediglich zwei Methoden\n",
        "tub.index('Montag') # Zeigt den Index also 0 des Elements an\n",
        "tub.count('Montag') # Zeigt die Anzahl der gleichen Elemente im Tubel an "
      ],
      "execution_count": null,
      "outputs": []
    },
    {
      "cell_type": "code",
      "metadata": {
        "id": "HpjUZA7M9YdK"
      },
      "source": [
        "# Und hier noch der Beweis, dass am Tubel kein weiteres Element angehängt werde kann.\n",
        "tub.append['Donnerstag']"
      ],
      "execution_count": null,
      "outputs": []
    },
    {
      "cell_type": "markdown",
      "metadata": {
        "id": "d9S8jFok9YdO"
      },
      "source": [
        "### Dateien"
      ]
    },
    {
      "cell_type": "markdown",
      "metadata": {
        "id": "xK1aABpG9YdP"
      },
      "source": [
        "Python nutzt Datei Objekte um mit externen Dateien auf eine Computer zu interagieren. Grundsätzlich kann Python mit\n",
        "einer Vielzahl von Dateien arbeiten wobei für das eine oder andere Format noch zusätzlich Library Module installiert \n",
        "werden muss."
      ]
    },
    {
      "cell_type": "markdown",
      "metadata": {
        "id": "FHiAdCSV9YdP"
      },
      "source": [
        "Bevor wir nun Anfang mit Dateien zu arbeiten, wollen wir zuerst herausfinden in welchem Working Directory \n",
        "wir arbeiten dazu geben wir den folgenden Befehl ein"
      ]
    },
    {
      "cell_type": "code",
      "metadata": {
        "id": "TI-oLTkg9YdQ"
      },
      "source": [
        "pwd"
      ],
      "execution_count": null,
      "outputs": []
    },
    {
      "cell_type": "code",
      "metadata": {
        "id": "6tesihjj9YdS"
      },
      "source": [
        "# Nun öffnen wir eine Datei und lesen sie\n",
        "file = open('test.txt')\n",
        "file.read()"
      ],
      "execution_count": null,
      "outputs": []
    },
    {
      "cell_type": "code",
      "metadata": {
        "id": "NeuaZYXH9YdU"
      },
      "source": [
        "# Eine Besonderheit im Python ist, dass wenn die Datei einmal gelesen wurde, diese nicht erneut gelesen werden kann.\n",
        "# Dies hat damit zu tun, das der Cursor bei der letzten Lese-Operation am Ende der Datei verblieben ist. Ein er\n",
        "file.read() # Gibt jetzt nur '' aus\n",
        "file.seek(0) # Mit diesem Befehl kann man nun den Curson zurücksetzen\n",
        "file.read() # Und danach funktioniert es wieder wie gewohnt."
      ],
      "execution_count": null,
      "outputs": []
    },
    {
      "cell_type": "code",
      "metadata": {
        "id": "kcU79wiE9YdW"
      },
      "source": [
        "# Als nächtes öffnen wir die Datei und schreiben etwas neues hinein\n",
        "file = open('test.txt','w')\n",
        "file.write('Das ist eine neue Zeile')"
      ],
      "execution_count": null,
      "outputs": []
    },
    {
      "cell_type": "code",
      "metadata": {
        "id": "knqt2-_b9YdY"
      },
      "source": [
        "# Um den neuen Inhalt erneut lesen zu können müssen wir die Datei erneut im Read-Modus lesen\n",
        "file = open('test.txt','r')\n",
        "file.read()"
      ],
      "execution_count": null,
      "outputs": []
    },
    {
      "cell_type": "code",
      "metadata": {
        "id": "rvsd4d6F9Yda"
      },
      "source": [
        "# Nun lesen wir mit einer Interation (Schleife for) die einzelnen Zeilen aus\n",
        "for zeile in open('test.txt'):\n",
        "    print(zeile)\n"
      ],
      "execution_count": null,
      "outputs": []
    },
    {
      "cell_type": "markdown",
      "metadata": {
        "id": "aOhvE0D39Ydc"
      },
      "source": [
        "###Sets und Booleans"
      ]
    },
    {
      "cell_type": "markdown",
      "metadata": {
        "id": "zjMVOL2d9Ydd"
      },
      "source": [
        "Ein Set ist eine Sammlung von einzigartigen Elementen. Ein Set wird mit dem Befehl set()angelegt. "
      ]
    },
    {
      "cell_type": "code",
      "metadata": {
        "id": "tuLR53hj9Yde"
      },
      "source": [
        "s = set()\n",
        "s.add(1) # mit add lassen sich neue Elemente ins Set einführen.\n",
        "s.add(2)\n",
        "s.remove(2) # mit remove lassen sich die Elemente auch wieder löschen\n",
        "s."
      ],
      "execution_count": null,
      "outputs": []
    },
    {
      "cell_type": "code",
      "metadata": {
        "id": "UCQQ5n6C9Ydk"
      },
      "source": [
        "# Man kann Beispielsweise auch eine Liste in ein Set überführen. Dabei werden \n",
        "# dann aber die redundanten Elemente ausgefiltert.\n",
        "list = [1,1,2,2,3,4,5,6,6]\n",
        "set(list)"
      ],
      "execution_count": null,
      "outputs": []
    },
    {
      "cell_type": "markdown",
      "metadata": {
        "id": "p-oOnkxC9Ydm"
      },
      "source": [
        "Booleans sind Wahrheitswerte die entweder True (1) oder False (0) sind. Booleans werden oft benutzt um beispielsweise eine Entscheidung in einer Schleife zu forsieren."
      ]
    },
    {
      "cell_type": "code",
      "metadata": {
        "id": "p5PK7yUL9Ydm"
      },
      "source": [
        "a = ()\n",
        "if a == True:\n",
        "    print('Wahr')\n",
        "else:\n",
        "    print('Nicht Wahr')"
      ],
      "execution_count": null,
      "outputs": []
    },
    {
      "cell_type": "markdown",
      "metadata": {
        "id": "yiPp5f299Ydq"
      },
      "source": [
        "### Vergleichsoperatoren"
      ]
    },
    {
      "cell_type": "code",
      "metadata": {
        "id": "QWfnLreC9Ydq"
      },
      "source": [
        "2 == 2 # Wenn Wert der Operatoren gleich sind ergibt es true\n",
        "2 != 1 # Wenn Wert der Operatoren nicht gleich sind ergibt es true\n",
        "2 > 1 # Wenn ein Wert der Operatoren grösser ist ergibt es true\n",
        "1 < 2 # Wenn ein Wert der Operatoren kleiner ist ergibt es true\n",
        "2 >= 2 # Wenn ein Wert der Operatoren grösser oder gleich ist ergibt es true\n",
        "1 <= 1 # Wenn ein Wert der Operatoren kleiner oder gleich ist ergibt "
      ],
      "execution_count": null,
      "outputs": []
    },
    {
      "cell_type": "code",
      "metadata": {
        "id": "wEgNQCDk9Ydt"
      },
      "source": [
        "# Vergleichsoperatoren kann man auch verknüpfen\n",
        "1 < 2 < 3 # Ergibt true\n",
        "1 < 2 and 2 < 3 # Das vorherige Beispiel kann man auch so schreiben\n",
        "1 == 2 or 2 < 3 # Auch mit or kann man Operatoren verknüpfen"
      ],
      "execution_count": null,
      "outputs": []
    },
    {
      "cell_type": "markdown",
      "metadata": {
        "id": "brefSeeA9Ydv"
      },
      "source": [
        "### Anweisungen"
      ]
    },
    {
      "cell_type": "markdown",
      "metadata": {
        "id": "uVHYHyeq9Ydv"
      },
      "source": [
        "**If, Elif und Else**"
      ]
    },
    {
      "cell_type": "markdown",
      "metadata": {
        "id": "iybcgLAp9Ydv"
      },
      "source": [
        "if, elif und else werden verwendet um Aktionen abhängig von bestimmten Voraussetzungen oder Ergebnissen durchzuführen.\n",
        "Sprachlich sieht das wie folgt aus:\n",
        "\n",
        "\"Falls (if) die Ampel rot anzeigt, da bleibe stehen und prüfen dein Mobil falls (elif) die Ampel orange oder grün anzeigt kannst du über die Strasse gehen falls (else) nichts von beidem zutrifft (Ampel defekt) schaue links und rechts und gehen dann über die Strasse\""
      ]
    },
    {
      "cell_type": "code",
      "metadata": {
        "id": "i2S_FUlh9Ydw"
      },
      "source": [
        "r = 'rot'\n",
        "g = 'grün'\n",
        "\n",
        "i = input ('Gibt etwas ein: ') # Mit Input kann man einen Wert eingeben.\n",
        "\n",
        "if i == r:\n",
        "    print('Bleibe stehen und prüfe dein Mobile')\n",
        "elif i == g:\n",
        "    print('Du kannst über die Strasse gehen')\n",
        "else:\n",
        "    print('Die Ampel ist möglicherweise kaputt. Gehe wenn es frei ist')\n",
        "    \n",
        "    \n",
        "    "
      ],
      "execution_count": null,
      "outputs": []
    },
    {
      "cell_type": "markdown",
      "metadata": {
        "id": "B5fVG4NA9Yd0"
      },
      "source": [
        "**for Schleife"
      ]
    },
    {
      "cell_type": "markdown",
      "metadata": {
        "id": "EhBhrCMC9Yd0"
      },
      "source": [
        "Eine for Schleife wird auch Loop genannt. Sie wird solange durchlaufen, bis ein definierte Wert erreich wurde. Die kann eine Zahl sein oder das Ende einer Lese-Operation in einer Datei.\n",
        "\n",
        "Sprachlich ausgedrückt sieht das dann so aus:\n",
        "\n",
        "\"Das Buch hat 10 Seiten für (for) jede Seite (Item) im (in) Buch (Objekt) lese jeden Buchstaben bis du auf Seite 10 angekommen bist.\"\n",
        "\n",
        "Der Syntax sieht wie folgt aus:\n",
        "\n",
        "for item in object\n",
        "\n",
        "Das item ist frei wählbar."
      ]
    },
    {
      "cell_type": "code",
      "metadata": {
        "id": "6IDHtZaM9Yd1"
      },
      "source": [
        "buch = [1,2,3,4,5,6,7,8,9,10] # Eine Liste wird erstellt\n",
        "buch_sum = 0\n",
        "\n",
        "for seite in buch:\n",
        "    buch_sum += seite # Das += (Selbstzuweisung) ersetzt folgende Zeile buch_sum = buch_sum + Seite\n",
        "    print ('Nun lese ich Seite', buch_sum)\n",
        "\n",
        "# In dem Beispiel oben wird bei jeder Interation der vorherige Wert zum\n",
        "# aktuelle Wert addiert, beginnend bei 0. bzw. \n",
        "# 0 + 1 = 1\n",
        "# 1 + 2 = 3\n",
        "# 3 + 3 = 6\n",
        "# 6 + 4 = 10 usw."
      ],
      "execution_count": null,
      "outputs": []
    },
    {
      "cell_type": "code",
      "metadata": {
        "id": "GRNh3YWA9Yd3"
      },
      "source": [
        "# Ein guter Trick um nun beispielweise nur die geraden Zahlen auszugeben ist \n",
        "# der Einsatz von Modulo. Modulo (%) teil eine Zahl durch die andere und gibt\n",
        "# dann nur den Resten aus. Hier Modulo mit for Schleife:\n",
        "\n",
        "for seite in buch:\n",
        "    if seite % 2 == 0:\n",
        "        print('Nun lese ich nur jeweils die graden Seiten dieses Buchs', seite)"
      ],
      "execution_count": null,
      "outputs": []
    },
    {
      "cell_type": "code",
      "metadata": {
        "id": "w--joEPs9Yd5"
      },
      "source": [
        "# Das ganze funktioniert auch mit Strings\n",
        "for zeichen in 'String':\n",
        "    print(zeichen)"
      ],
      "execution_count": null,
      "outputs": []
    },
    {
      "cell_type": "code",
      "metadata": {
        "id": "3sa6ijOz9Yd8"
      },
      "source": [
        "# In Bezug auf Tuples hat die Schleife eine besonderer Bedeutung. So können\n",
        "# die Tuple Elemente auf verschieden Arten entpackt werden.\n",
        "l = [(2,4),(6,8),(10,12)] # Hier erstellen wir Tuple innerhalb einer Liste\n",
        "\n",
        "for tup in l:\n",
        "    print(tup)"
      ],
      "execution_count": null,
      "outputs": []
    },
    {
      "cell_type": "code",
      "metadata": {
        "id": "GNsiR6LI9Yd-"
      },
      "source": [
        "for (t1,t2) in l:\n",
        "    print(t1,t2)"
      ],
      "execution_count": null,
      "outputs": []
    },
    {
      "cell_type": "code",
      "metadata": {
        "id": "5RIMnlCQ9Yd_"
      },
      "source": [
        "# Auch in Zusammenhang mit Listen kann man die for Schleife verwenden\n",
        "dict = {'k1':1,'k2':2,'k3':3}\n",
        "for item in dict:\n",
        "    print (item)"
      ],
      "execution_count": null,
      "outputs": []
    },
    {
      "cell_type": "code",
      "metadata": {
        "id": "9RkQkEsR9YeB"
      },
      "source": [
        "dict.items() # So lassen sich überigen die in einem Dictionary definierten \n",
        "# Element bzw. Items ausgeben."
      ],
      "execution_count": null,
      "outputs": []
    },
    {
      "cell_type": "code",
      "metadata": {
        "id": "oze1SBPf9YeC"
      },
      "source": [
        "# Diese Methode kann in einer Schleife ebenfalls verwendet werden.\n",
        "for k,v in dict.items(): # Wir definieren zwei Item Key und Value\n",
        "    print(k,v)"
      ],
      "execution_count": null,
      "outputs": []
    },
    {
      "cell_type": "markdown",
      "metadata": {
        "id": "HZdCiwWs9YeD"
      },
      "source": [
        "**while Scheifen"
      ]
    },
    {
      "cell_type": "markdown",
      "metadata": {
        "id": "jo5HR4Nh9YeE"
      },
      "source": [
        "Die while Schleife gehört zu den allgemeinsten Wegen eine Interation durchzuführen. Eine while Schleife wird solange ausgeführt, wie ein Wert True ist. \n",
        "\n",
        "Sprachliche ausgedrückt sieht das so aus:\n",
        "\n",
        "\"Wenn (while) dein Bankkonto noch im plus ist, kannst du Geld vom Automaten abheben (Statement), ansonsten (else) musst du wieder Geld auf dein Bankkonto überweisen.\"\n",
        "\n",
        "Der Syntax sieht wie folgt aus:\n",
        "\n",
        "while test:\n",
        "    code statement\n",
        "else\n",
        "    finales code statement"
      ]
    },
    {
      "cell_type": "code",
      "metadata": {
        "id": "25BRP7_v9YeE"
      },
      "source": [
        "i = 1 # Wir definieren eine Initialwert\n",
        "while i < 10: # Wir fordern die Scheife auf solange der Wert i kleiner als 10 ist duchzulaufen\n",
        "    print('X ist aktuell: ',i)\n",
        "    i+=1 # Damit der Wert i steigt lassen wir ihn in jeder Rund eine 1 dazuaddieren.\n",
        "else:\n",
        "    print('Fertig')"
      ],
      "execution_count": null,
      "outputs": []
    },
    {
      "cell_type": "code",
      "metadata": {
        "id": "tEgvjBw39YeG"
      },
      "source": [
        "# Mit dieser Anweisung können auch noch andere Funktionen mit gegeben werden \n",
        "# Break: hier können wir aus einem Loop ausbrechen\n",
        "# Continue: Geht an den Anfang des nächsten umfasseden Loops\n",
        "# Pass: Tut gar nichts\n",
        "\n",
        "x = 0\n",
        "while x < 10:\n",
        "    print(x)\n",
        "    x+=1\n",
        "    if x==3:\n",
        "        print('x==3')\n",
        "        break\n",
        "    else:\n",
        "        print('Fortsetzen..')\n",
        "        continue\n",
        "    print('nach continue')\n",
        "\n"
      ],
      "execution_count": null,
      "outputs": []
    },
    {
      "cell_type": "markdown",
      "metadata": {
        "id": "u8ALOeV-9YeJ"
      },
      "source": [
        "Wichtig bei der While Schleife ist, dass folgender Befehl zu einer Endlosschleife führen würde. Also darauf achten nie den folgendne Befehl zu verwenden:\n",
        "while True:\n",
        "    print('Ach du Scheisse!')"
      ]
    },
    {
      "cell_type": "markdown",
      "metadata": {
        "id": "Q83LmTkg9YeJ"
      },
      "source": [
        "### Range()"
      ]
    },
    {
      "cell_type": "markdown",
      "metadata": {
        "id": "MBD3I0Zz9YeK"
      },
      "source": [
        "Die Funktion Range erlaubt es uns eine Liste von Nummern auszugeben und dabei einen Start- und Endpukt zu denfinieren. Zudem können wir die Schrittgrösse ausgeben. In Python3 verbindet man diese Funktion mit einer Liste.\n",
        "\n",
        "Der Syntax gestaltet sich wie folgt:\n",
        "\n",
        "range(start,ende,schrittgrösse)"
      ]
    },
    {
      "cell_type": "code",
      "metadata": {
        "id": "hQKOehkY9YeK"
      },
      "source": [
        "range(10)\n",
        "x = list(range(0,10,2))\n",
        "print(x)\n",
        "\n",
        "# Der letzte Wert wird nie ausgegeben"
      ],
      "execution_count": null,
      "outputs": []
    },
    {
      "cell_type": "code",
      "metadata": {
        "id": "RiiJgVOR9YeM"
      },
      "source": [
        "# Hier noch eine weitere Variante wie man einen Start- und Endwert definieren kann\n",
        "start = 0\n",
        "end = 20\n",
        "x = list(range(start,end))\n",
        "print(x)"
      ],
      "execution_count": null,
      "outputs": []
    },
    {
      "cell_type": "code",
      "metadata": {
        "id": "5nPFutiJ9YeO"
      },
      "source": [
        "# Im nächsten Beispiel können auch noch definieren in welchen Schritten die Ausgabe \n",
        "# erfolgen soll.\n",
        "x = list(range(start,end,2)) # Hier wird in zweierschritten ausgegeben.\n",
        "print(x)"
      ],
      "execution_count": null,
      "outputs": []
    },
    {
      "cell_type": "code",
      "metadata": {
        "id": "jhbXW-909YeQ"
      },
      "source": [
        "# In Zusammenhang mit diesen Funktionen (Range, List, Directory) stellt sich\n",
        "# auch die Frage wie man eine grosse Anzahl von Daten im Memory behalten kann.\n",
        "# die Lösung ist eine Generator mit der Funktion Range\n",
        "\n",
        "for num in range(0,10,2): # Der Syntax von Range range(Startwert, Endwert, Schritte)\n",
        "    print(num)"
      ],
      "execution_count": null,
      "outputs": []
    },
    {
      "cell_type": "code",
      "metadata": {
        "id": "3mHYR_vF9YeS"
      },
      "source": [
        "# Zahlen bis 50 durch 3 teilbar machen und nur diese Ausgeben welche durch 3 Teilbar sind\n",
        "[x for x in range(1,50) if x%3 == 0] # Hier setzen wir Modulo ein"
      ],
      "execution_count": null,
      "outputs": []
    },
    {
      "cell_type": "markdown",
      "metadata": {
        "id": "fhUowMGp9YeU"
      },
      "source": [
        "### Listen Abstraktion (List comprehension)"
      ]
    },
    {
      "cell_type": "markdown",
      "metadata": {
        "id": "d5LI9Bu99YeU"
      },
      "source": [
        "Die Listen-Abstraktion, eigentlich auch im Deutschen besser als \"List Comprehension\" bekannt, ist eine elegante Methode Mengen in Python zu definieren oder zu erzeugen. Die List-Comprehension kommt der mathematischen Notation von Mengen sehr nahe. In Mathematik definiert man die Quadratzahlen der natürlichen Zahlen beispielsweise als { x2 | x ∈ ℕ } oder die Menge der komplexen ganzen Zahlen { (x,y) | x ∈ ℤ ∧ y ∈ ℤ }.\n",
        "So kann man Beispielsweise eine Formel definieren und jeweils die einzelnen Werte in der Liste berechnen und auf diese zugreifen."
      ]
    },
    {
      "cell_type": "code",
      "metadata": {
        "id": "26kaUsvE9YeU"
      },
      "source": [
        "# Hier eingehens nochmal ein Beispiel wie man eine Liste erstellt\n",
        "l = []\n",
        "for buchstabe in 'wort':\n",
        "    l.append(buchstabe)\n",
        "print(l)"
      ],
      "execution_count": null,
      "outputs": []
    },
    {
      "cell_type": "code",
      "metadata": {
        "id": "m54BoiDQ9YeX"
      },
      "source": [
        "# Ein List comprehension erstellt man wie folgt\n",
        "list = [buchstabe for buchstabe in 'Wort']\n",
        "print(list)"
      ],
      "execution_count": null,
      "outputs": []
    },
    {
      "cell_type": "code",
      "metadata": {
        "id": "87HKc_g49YeZ"
      },
      "source": [
        "list = [x**2 for x in range(1,11)] # Beispiel mit Wurzel\n",
        "print(list)"
      ],
      "execution_count": null,
      "outputs": []
    },
    {
      "cell_type": "code",
      "metadata": {
        "id": "QKWfksw_9Yeb"
      },
      "source": [
        "list = [x for x in range(11) if x % 2 == 0] # Beispiel mit Modulo\n",
        "print(list)"
      ],
      "execution_count": null,
      "outputs": []
    },
    {
      "cell_type": "code",
      "metadata": {
        "id": "IoYok8an9Yee"
      },
      "source": [
        "celsius = [0,10,21.2,36.7]\n",
        "\n",
        "fahrenheit = [((9/5*temp+32)) for temp in celsius]\n",
        "print(fahrenheit)"
      ],
      "execution_count": null,
      "outputs": []
    },
    {
      "cell_type": "code",
      "metadata": {
        "id": "5o4_VPu69Yek"
      },
      "source": [
        "list = [x**2 for x in range(11)]\n",
        "for zahl in x:\n",
        "    print(zahl) # Nun können wir eine if-Anweisung einbauen und einen bestimmten Wert abfragen\n",
        "    if zahl == 4:\n",
        "        print ('Dies ist ein bestimmter Wert')\n",
        "    else:\n",
        "        break"
      ],
      "execution_count": null,
      "outputs": []
    },
    {
      "cell_type": "markdown",
      "metadata": {
        "id": "MrcdekCW9Yen"
      },
      "source": [
        "### Methoden"
      ]
    },
    {
      "cell_type": "markdown",
      "metadata": {
        "id": "ZwftSs7F9Yen"
      },
      "source": [
        "Methoden sind Funktionen die in Objekte eingebaut werden. Diese Methoden führen spezifische Aktionen mit dem Objekt durch können Parameter aufnehmen und Funktionen wiedergeben.\n",
        "\n",
        "Der generelle Syntax einer Methode sieht wie folgt aus:\n",
        "\n",
        "object.method(arg1,arg2,arg3,...)"
      ]
    },
    {
      "cell_type": "code",
      "metadata": {
        "id": "yZAk4Vy09Yeo"
      },
      "source": [
        "# Hier ein einfaches Beispiel einer Methode\n",
        "l = [1,2,3]\n",
        "l.append(4) # mit Tab können die verfügbaren Methoden bsp. append angesehen werden\n",
        "print(l)"
      ],
      "execution_count": null,
      "outputs": []
    },
    {
      "cell_type": "code",
      "metadata": {
        "id": "AQoZAh5F9Yep",
        "scrolled": true
      },
      "source": [
        "# Ein Möglichkeit die Bescheibung einer Methode auszugeben ist mit help\n",
        "w = \"Das ist eine Wort\"\n",
        "w.count('e') # Count gibt die Anzahl der gesuchten Werte aus\n",
        "help(l.count)"
      ],
      "execution_count": null,
      "outputs": []
    },
    {
      "cell_type": "markdown",
      "metadata": {
        "id": "EfCuU2JI9Yer"
      },
      "source": [
        "### Funktionen"
      ]
    },
    {
      "cell_type": "markdown",
      "metadata": {
        "id": "s37aqzgP9Yer"
      },
      "source": [
        "Formell betrachtet ist eine Funktion ein nützliches Hilfsmittel, dass \n",
        "mehrerer Anweisungen gruppiert, damit sie mehr als einmal ausgeführt werden können.\n",
        "Man kann Funktionen so definieren, dass man sie innerhalb des Codes immer wieder verwenden kann.\n",
        "\n",
        "Eine Funktion beginnt mit einer def Anweisung"
      ]
    },
    {
      "cell_type": "code",
      "metadata": {
        "id": "_WgaP0tv9Yer"
      },
      "source": [
        "def name_der_funktion(parameter1, parameter2):\n",
        "    '''Hier kommt ein Kommentar'''\n",
        "    return\n",
        "name_der_funktion # mit Shift + Tab kann man nun die Funktion inkl Kommentar ausgeben\n",
        "help(name_der_funktion) # oder aus so "
      ],
      "execution_count": null,
      "outputs": []
    },
    {
      "cell_type": "code",
      "metadata": {
        "id": "kBye-qBe9Yet"
      },
      "source": [
        "# Um die Funktion auszuführen muss wir folgt vorgegangen werden\n",
        "\n",
        "name_der_funktion(1,2) # Mit der Funktion über geben wir die geforderten Parameter"
      ],
      "execution_count": null,
      "outputs": []
    },
    {
      "cell_type": "code",
      "metadata": {
        "id": "_oo1PLPi9Yeu"
      },
      "source": [
        "# In diesem Beispiel definieren wir eine Funktion mit eine Parameter\n",
        "def sag_hallo(name): # Der Parameter ist zu vergleichen mit einem Platzhalter\n",
        "        print('Hallo',name)"
      ],
      "execution_count": null,
      "outputs": []
    },
    {
      "cell_type": "code",
      "metadata": {
        "id": "bzDzrX179Ye0"
      },
      "source": [
        "sag_hallo('David') # Hier über geben wir einen Name für den Parameter"
      ],
      "execution_count": null,
      "outputs": []
    },
    {
      "cell_type": "code",
      "metadata": {
        "id": "k6LQweZr9Ye3"
      },
      "source": [
        "def add_num(num1,num2): # Bei diesem Beispiel definieren wir eine Funktion mit 2 Parameter\n",
        "    return num1+num2 # Nun definieren wir was in der Funktion gemacht werden soll"
      ],
      "execution_count": null,
      "outputs": []
    },
    {
      "cell_type": "code",
      "metadata": {
        "id": "0wacNWRZ9Ye4"
      },
      "source": [
        "add_num(4,5) # Nun übergeben wir zwei Parameter und die Funktion führt sie aus\n",
        "\n",
        "# In diesem Fall wird nun der Wert 4 und 5 zusammengerechnet"
      ],
      "execution_count": null,
      "outputs": []
    },
    {
      "cell_type": "code",
      "metadata": {
        "id": "pHKkkEOZ9Ye6"
      },
      "source": [
        "# Die Ausgabe einer Funktion können wir auch als Variable speichern\n",
        "ergebnis = add_num(3,7)\n",
        "print(ergebnis)"
      ],
      "execution_count": null,
      "outputs": []
    },
    {
      "cell_type": "code",
      "metadata": {
        "id": "3dge7fQq9Ye8"
      },
      "source": [
        "# All diese funktioniert natürlich auch mit strings und in direkter Ausgabe\n",
        "print(add_num('Halllo ', 'David'))"
      ],
      "execution_count": null,
      "outputs": []
    },
    {
      "cell_type": "code",
      "metadata": {
        "id": "JdIWhIAv9Ye-"
      },
      "source": [
        "# In einer Funktion lassen sich ganze Routinen mit Schleifen-Anweisungen ausgeben\n",
        "\n",
        "def ist_prim(num):\n",
        "    for n in range(2,num):\n",
        "        if num % n == 0:\n",
        "            print('keine Primzahl')\n",
        "            break\n",
        "    else:\n",
        "        print('Primzahl')"
      ],
      "execution_count": null,
      "outputs": []
    },
    {
      "cell_type": "code",
      "metadata": {
        "id": "vzR4iAx99Ye_"
      },
      "source": [
        "ist_prim(10)"
      ],
      "execution_count": null,
      "outputs": []
    },
    {
      "cell_type": "code",
      "metadata": {
        "id": "_4WRLpn39YfA"
      },
      "source": [
        "# Das oben gezeigte Beispiel geht auch einfacher\n",
        "\n",
        "import math # Hier importieren wir eine mathematisches Python Package \n",
        "\n",
        "def ist_prim(num):\n",
        "    if num % 2 == 0 and num > 2: #\n",
        "        return False\n",
        "    for i in range(3, int(math.sqrt(num))+1, 2):\n",
        "        if num % i == 0:\n",
        "            return False\n",
        "    return True\n"
      ],
      "execution_count": null,
      "outputs": []
    },
    {
      "cell_type": "code",
      "metadata": {
        "id": "4YL0DaTl9YfD"
      },
      "source": [
        "ist_prim(11)"
      ],
      "execution_count": null,
      "outputs": []
    },
    {
      "cell_type": "markdown",
      "metadata": {
        "id": "Azdb-r_Q9YfE"
      },
      "source": [
        "### Lambda Ausdrücke"
      ]
    },
    {
      "cell_type": "markdown",
      "metadata": {
        "id": "nz14glRc9YfF"
      },
      "source": [
        "Lambda Ausdrücke sind sehr nützliche Tools im Pyhton. Sie erlauben es uns sogenannte \"anonyme\" Funktionen zu erstellen. Vereinfacht gesagt heisst das, dass wir schnell eine Funktion erstellen können ohne sie per def zu definieren. Ein Lambda Ausruck ist meist auf einer Zeile geschrieben und ist für das coden einfacher Aufgaben gedacht. Bei grösseren Aufgaben verwenden wir def."
      ]
    },
    {
      "cell_type": "code",
      "metadata": {
        "id": "0klKJsvA9YfF"
      },
      "source": [
        "# Um ein Gefühl für Lambda zu erhalten werden wir nun eine def Funktion in einen Lambda Ausdruck umwandeln.\n",
        "\n",
        "def square(num):\n",
        "    return num**2\n",
        "\n",
        "square(2)"
      ],
      "execution_count": null,
      "outputs": []
    },
    {
      "cell_type": "code",
      "metadata": {
        "id": "qNQJzDzO9YfH"
      },
      "source": [
        "# Wir können dies natürlich auch noch vereinfachen und in einer einzige Zeile schreiben.\n",
        "def square(num): return num**2\n",
        "\n",
        "square(4)"
      ],
      "execution_count": null,
      "outputs": []
    },
    {
      "cell_type": "code",
      "metadata": {
        "id": "PNc18TbB9YfL"
      },
      "source": [
        "# Wir werden nun diese def Beispiel in eine Lambda Funktion umwandeln.\n",
        "\n",
        "square = lambda num: num**2 # Die return Anweisung ist bereits in Lambda beinhaltet\n",
        "square(5)"
      ],
      "execution_count": null,
      "outputs": []
    },
    {
      "cell_type": "code",
      "metadata": {
        "id": "hsP7Ew7e9YfM"
      },
      "source": [
        "# Auch die Modulo bzw. die Suche nach einer teilbaren Zahl lässt sich mittels Lambda \n",
        "# um einiges vereinfachen.\n",
        "\n",
        "even = lambda x: x%2==0 # Lässt sich eine Wert durch zwei dividieren?\n",
        "even(9)"
      ],
      "execution_count": null,
      "outputs": []
    },
    {
      "cell_type": "code",
      "metadata": {
        "id": "kzqv5gpQ9YfN"
      },
      "source": [
        "# Auch mit Strings lassen sich in Lambda operieren.\n",
        "\n",
        "erstes = lambda s: s[0] # Gibt den Buchstabe im Index 0 aus\n",
        "umk = lambda s: s[::-1] # Gibt den String in umgekehrter Reihenfolge aus\n",
        "erstes('halt'), umk('Hallo')"
      ],
      "execution_count": null,
      "outputs": []
    },
    {
      "cell_type": "code",
      "metadata": {
        "id": "ymrZjnUJ9YfP"
      },
      "source": [
        "# Hier noch ein Lambda Beispiel mit mehreren Parameter\n",
        "add = lambda x,y: x+y\n",
        "add(2,4)"
      ],
      "execution_count": null,
      "outputs": []
    },
    {
      "cell_type": "code",
      "metadata": {
        "id": "4e2M3s9S9YfQ"
      },
      "source": [
        "# Hier ein kleines Programm zur Umrechung von Grad & Fahrenheit\n",
        "\n",
        "quest = input('Was möchtest du berechnen 1 = Fahrenheit / 2 = Grad: ')\n",
        "\n",
        "if quest == '1':\n",
        "    grad = input('Gebe den Wert in Grad Celsius ein: ')\n",
        "    g2f = lambda g: g*2+32\n",
        "    print(g2f(int(grad)), 'Fahrenheit')\n",
        "elif quest == '2':\n",
        "    fahr = input('Gebe den Wert in Fahrenheit ein: ')\n",
        "    f2g = lambda f: (f-32)/2\n",
        "    print(f2g(int(fahr)), 'Grad Celsius')\n",
        "else:\n",
        "    print('Falscher Wert, Program beendet!')\n",
        "    "
      ],
      "execution_count": null,
      "outputs": []
    },
    {
      "cell_type": "markdown",
      "metadata": {
        "id": "hyi5QHEP9YfS"
      },
      "source": [
        "### Verschachtelte Anweisung und Geltungsbereiche"
      ]
    },
    {
      "cell_type": "markdown",
      "metadata": {
        "id": "YBQnfAjW9YfS"
      },
      "source": [
        "Jetzt, da wir unsere eigenen Funktionen zu schreiben gelernt haben, ist es wichtig zu verstehen, wie Python mit Variablen Namen umgeht. Wenn wir einen Variable Namen erstellen wird dieser im sogenannten Namensraum (en.: name space) gespeichert. Variablen Namen haben außerdem einen Geltungsbereich, welcher bestimmt, welche anderen Teile des Codes diesen Namen kennen.\n",
        "\n",
        "Der Geltungsbereich der Variablen ist über die sogenannte LEGB Regel definiert:\n",
        "\n",
        "L: Lokal - Namen die in irgendeiner Form innerhalb einer Funktion (def oder lambda) zugewiesen werden und nicht global in dieser Funktion definiert sind.\n",
        "\n",
        "E: Einschließende Funktionen - Namen im lokalen Geltungsbereich aller einschließenden Funktionen (def oder lambda) von innen nach außen.\n",
        "\n",
        "G: Globale (Module) - Namen die auf der höchsten Ebene einer Datei zugewiesen werden oder innerhalb einer Funktion als global ausgewiesen werden.\n",
        "\n",
        "B: Bereits (in Python) eingebaute - Namen die bereits in die vorinstallierten Module wie range, open, usw. eingebaut sind.\n",
        "\n",
        "Lokale Variablen innerhalb einer Funktion gelten nur in Zusammenhang mit dieser Funktion und nicht ausserhalb.\n"
      ]
    },
    {
      "cell_type": "code",
      "metadata": {
        "id": "SPYt5mGa9YfU"
      },
      "source": [
        "# Beispiel - Lokal\n",
        "\n",
        "calc = lambda y,x: x+y # x und y sind lokale Variablen\n",
        "print(calc(10,5))"
      ],
      "execution_count": null,
      "outputs": []
    },
    {
      "cell_type": "code",
      "metadata": {
        "id": "wu28iVY49YfY"
      },
      "source": [
        "x = 50\n",
        "\n",
        "def funk(x):\n",
        "    print('x ist ',x) # Hier gilt die Globale Variable\n",
        "    x = 2 # Ab hier gilt diese Variable, aber nur innerhalb dieser Funktion\n",
        "    print ('Lokales x ist jetzt', x)\n",
        "    \n",
        "funk(x)\n",
        "print('x ist noch',x)\n"
      ],
      "execution_count": null,
      "outputs": []
    },
    {
      "cell_type": "code",
      "metadata": {
        "id": "uuNfQBkN9Yfa"
      },
      "source": [
        "# Beispiel - Einschliessende Funktionen\n",
        "\n",
        "name = 'Das ist ein globaler Name'\n",
        "\n",
        "def gruss():\n",
        "    # Hier eine Einschliessende Funkton\n",
        "    name = 'David'\n",
        "    \n",
        "    def hallo():\n",
        "        name = 'Hans' # Innerhalb einer Funktion wird immer der \"innerste\" Wert genommen\n",
        "        print('Hallo '+ name)\n",
        "    \n",
        "    hallo()\n",
        "\n",
        "gruss()\n",
        "print (name) # Wie wir unschwer erkennen können wird auch diese Variable ausgegeben."
      ],
      "execution_count": null,
      "outputs": []
    },
    {
      "cell_type": "code",
      "metadata": {
        "id": "zV0xof699Yfd"
      },
      "source": [
        "# Eine bereits eingebaute Variable ist beispielsweise \n",
        "\n",
        "test = 'Test'\n",
        "print(len(test))"
      ],
      "execution_count": null,
      "outputs": []
    },
    {
      "cell_type": "markdown",
      "metadata": {
        "id": "Ru9WQqKH9Yfe"
      },
      "source": [
        "### Objektorientierte Programmierung (OOP)"
      ]
    },
    {
      "cell_type": "code",
      "metadata": {
        "id": "m0FHwkvK9Yff"
      },
      "source": [
        "# Fast alles in Python ist ein Objekt so auch Listen\n",
        "l = [1,2,3]\n",
        "l.count(2)\n",
        "print(type(l))"
      ],
      "execution_count": null,
      "outputs": []
    },
    {
      "cell_type": "code",
      "metadata": {
        "id": "ayOZrcY09Yfi"
      },
      "source": [
        "# wie ach Functionen\n",
        "\n",
        "def quadrat(num):\n",
        "    return num**2\n",
        "print(type (quadrat))"
      ],
      "execution_count": null,
      "outputs": []
    },
    {
      "cell_type": "markdown",
      "metadata": {
        "id": "EyLorKC09Yfj"
      },
      "source": [
        "### Class (Klassen)"
      ]
    },
    {
      "cell_type": "markdown",
      "metadata": {
        "id": "FgND894D9Yfk"
      },
      "source": [
        "Klassen sind von Nutzer definierte Objekte. Klassen sind wie Blaupausen welche die Eigenschaften zukünfitger Objekte festhält. Instanzen sind spezifische Objekte werlche aus bestimmten Klassen geschaffen werden. Wie Beispielweise die Liste welche wir oben erstellt haben."
      ]
    },
    {
      "cell_type": "code",
      "metadata": {
        "id": "CYS6h4QW9Yfl"
      },
      "source": [
        "# Wir generieren nun eine eigene KLasse\n",
        "\n",
        "class Beispiel (object): # Wichtig ist das der Klassenname mit einem Grossbuchstaben beginnt\n",
        "    pass\n",
        "\n",
        "x = Beispiel() # Hier verküpfen wir unsere Klasse mit einer Variabel\n",
        "\n",
        "print(type(x)) # Nun können wir uns vergewissern, dass x eine Klasse ist\n"
      ],
      "execution_count": null,
      "outputs": []
    },
    {
      "cell_type": "markdown",
      "metadata": {
        "id": "4BjuM5h_9Yfm"
      },
      "source": [
        "Der Klasse können jetzt natürlich noch Attribute und Methoden \n",
        "hinzugefügt werden. \n",
        "\n",
        "Ein Attribute ist dabei eine Charakteristik eines Objekts. Wenn wir Beispielsweise eine Klasse \"Hund\" Haben können wir ihr Attribute wie Hunderasse, Alter, Stammbaum usw. hinzufügen.\n",
        "\n",
        "Eine Methode ist eine Operation welche wir auf ein Objekt anwenden können. Beispielswiese bei der Klasse \"Hund\" würde dies bellen, knurren, springen usw. sein. "
      ]
    },
    {
      "cell_type": "code",
      "metadata": {
        "id": "-n_LowHU9Yfn"
      },
      "source": [
        "# Hier das Beispiel Klasse \"Hund\"\n",
        "\n",
        "class Hund(object):\n",
        "    def __init__(self, rasse): # Hiermit definieren wir eine Funkton mit dem Attribut rasse\n",
        "        self.rasse = rasse # Hiermit weisen wir die Funktion Rasse der Klasse zu\n",
        "        \n",
        "sam = Hund(rasse='Lab') # Mit Hilfe der Klasse generieren wir nun ein neues Objekt\n",
        "frank = Hund(rasse='Husky') # Dito\n",
        "frank # Wir können nun überprüfen zu welche Klasse das Objekt Frank gehört\n",
        "print(type(frank)) # Das geht natürlich auch so\n"
      ],
      "execution_count": null,
      "outputs": []
    },
    {
      "cell_type": "code",
      "metadata": {
        "id": "G44qko1e9Yfo"
      },
      "source": [
        "# Nun wollen wir das Objekt Sam mal mit einem in der Klasse definierten Attribut ausgehben\n",
        "sam.rasse #Ein Klammer ist nicht notwendig, da es sich nicht um eine Methode handelt "
      ],
      "execution_count": null,
      "outputs": []
    },
    {
      "cell_type": "code",
      "metadata": {
        "id": "o4UuDlNR9Yfp"
      },
      "source": [
        "# Kommen wir nun zu den Klassen-Objekt-Attribute. Diese gelten für alle Instanzen einer Klasse\n",
        "class Hund(object):\n",
        "    spezies = 'Säugetier'\n",
        "    \n",
        "    def __init__(self,rasse,name):\n",
        "        self.rasse = rasse\n",
        "        self.name = name\n",
        "        \n",
        "sam = Hund('Lab','Sam')\n",
        "\n",
        "print(type(sam))\n",
        "sam.name\n",
        "sam.spezies"
      ],
      "execution_count": null,
      "outputs": []
    },
    {
      "cell_type": "markdown",
      "metadata": {
        "id": "kqapW2QN9Yft"
      },
      "source": [
        "### Methoden"
      ]
    },
    {
      "cell_type": "markdown",
      "metadata": {
        "id": "0GntEF6a9Yft"
      },
      "source": [
        "Neben Attributen können auch Methoden (Funktionen) in einer Klasse definiert werden. Mit ihnen können Operationen mit den Attributen durchgeführt werden.\n"
      ]
    },
    {
      "cell_type": "code",
      "metadata": {
        "id": "3BAubZ2I9Yft"
      },
      "source": [
        "class Kreis(object):\n",
        "    pi = 3.14\n",
        "    \n",
        "    def __init__(self, radius = 1): # Hier definieren wir wieder eine Funktion und weisen Radius gleich einen Default-Wert zu. \n",
        "        self.radius = radius\n",
        "        \n",
        "    def flaeche(self):\n",
        "        return self.radius * self.radius * Kreis.pi\n",
        "    \n",
        "    def radiusEinstellen(self,radius): # Mit diesem Attribut können wir den Radius individuell verändern.\n",
        "        self.radius = radius\n",
        "        \n",
        "    def radiusErhalten(self): #Mit diesem Attribut können wir die Einstellung jederzeit abfragen\n",
        "        return self.radius\n",
        "        \n",
        "\n",
        "k = Kreis(radius=100)\n",
        "k.flaeche() #Achtung da es sich um einen Methode handelt bnötigen wir wieder eine Klammer\n"
      ],
      "execution_count": null,
      "outputs": []
    },
    {
      "cell_type": "code",
      "metadata": {
        "id": "6OclyaEc9Yfv",
        "scrolled": true
      },
      "source": [
        "k.radiusEinstellen(10)"
      ],
      "execution_count": null,
      "outputs": []
    },
    {
      "cell_type": "code",
      "metadata": {
        "id": "s77xCeeg9Yfw"
      },
      "source": [
        "k.flaeche()"
      ],
      "execution_count": null,
      "outputs": []
    },
    {
      "cell_type": "code",
      "metadata": {
        "id": "WGAnqNAr9Yfx"
      },
      "source": [
        "k.radiusErhalten()"
      ],
      "execution_count": null,
      "outputs": []
    },
    {
      "cell_type": "markdown",
      "metadata": {
        "id": "qjx9Wt1I9Yfz"
      },
      "source": [
        "### Vererbung"
      ]
    },
    {
      "cell_type": "markdown",
      "metadata": {
        "id": "-QiqgikW9Yfz"
      },
      "source": [
        "Mit der Vererbung können neue Klassen durch bereits existierenden Klassen erstellt werden. Dies neu erstellten Klassen werden abgeleitete Klassen genannnt. Die Klassen von welche wir Vererben heissen Basisklassen. Mit der Vererbung lassen sich somit einfach bestehende Codes wieder verwenden."
      ]
    },
    {
      "cell_type": "code",
      "metadata": {
        "id": "hj1UMWJb9Yf0"
      },
      "source": [
        "class Tier(object):\n",
        "    def __init__(self):\n",
        "        print('Tier erschaffen')\n",
        "        \n",
        "    def werBinIch(self):\n",
        "        print('Tier')\n",
        "        \n",
        "    def essen(self):\n",
        "        print('Essen')\n",
        "        \n",
        "class Hund(Tier): # Wir erstellen eine neue Klassen und Vererben die Tier Klasse\n",
        "    def __init__(self):\n",
        "        Tier.__init__(self) #Hier beziehen wir uns auf die Klasse Tier\n",
        "        print('Hund erstellen')\n",
        "        \n",
        "    def werBinIch(self):\n",
        "        print('Hund')\n",
        "        \n",
        "    def bellen(self):\n",
        "        print('Wuff!')\n",
        "    "
      ],
      "execution_count": null,
      "outputs": []
    },
    {
      "cell_type": "code",
      "metadata": {
        "id": "uX-Ou1ha9Yf1"
      },
      "source": [
        "t = Tier()\n",
        "t.werBinIch()\n",
        "t.essen()"
      ],
      "execution_count": null,
      "outputs": []
    },
    {
      "cell_type": "code",
      "metadata": {
        "id": "5bYEll5N9Yf3"
      },
      "source": [
        "h = Hund()\n",
        "h.werBinIch()\n",
        "h.bellen()\n",
        "h.essen() # Dieses Attribut hat die Klasse Hund von der Klasse Tier vererbt bekommen."
      ],
      "execution_count": null,
      "outputs": []
    },
    {
      "cell_type": "markdown",
      "metadata": {
        "id": "c8SlFoWw9Yf5"
      },
      "source": [
        "### Spezielle Methoden"
      ]
    },
    {
      "cell_type": "code",
      "metadata": {
        "id": "Izrw8G6z9Yf6"
      },
      "source": [
        "# Wir kennen ja die bereits die Methoden welche in Python standardmässig implementiert sind.\n",
        "l = [1,2,3]\n",
        "print(l)\n",
        "len(l)"
      ],
      "execution_count": null,
      "outputs": []
    },
    {
      "cell_type": "code",
      "metadata": {
        "id": "TAJWYop29Yf7"
      },
      "source": [
        "# Solchen Methoden können wir aber auch selber definieren.\n",
        "\n",
        "class Buch(object):\n",
        "    def __init__(self, titel, autor, seiten):\n",
        "        print('Ein Buch wird geschrieben!')\n",
        "        self.titel = titel\n",
        "        self. autor = autor\n",
        "        self.seiten = seiten\n",
        "    \n",
        "    def __str__(self):\n",
        "        return \"Titel:%s, Autor: %s, Seiten %s\"% (self.titel, self.autor, self.seiten)\n",
        "        \n",
        "    def __len__(self):\n",
        "        return self.seiten\n",
        "    \n",
        "    def __del__(self):\n",
        "        print('Ein Buch wurde gelöscht')\n",
        "        \n",
        "buch = Buch('Python rockt!', 'Patrik Di Lena', 1000)\n",
        "print (buch)\n",
        "        "
      ],
      "execution_count": null,
      "outputs": []
    },
    {
      "cell_type": "code",
      "metadata": {
        "id": "pSXuIirC9Yf9"
      },
      "source": [
        "del(buch) # Wenn wir jetzt die Methode len ausführen wird Python das nicht interpretieren können"
      ],
      "execution_count": null,
      "outputs": []
    },
    {
      "cell_type": "code",
      "metadata": {
        "id": "Ifgl7BAy9Yf-"
      },
      "source": [
        "class Ubuntu:\n",
        "    def __init__(self, ramsize):\n",
        "        self.ram = ramsize\n",
        "        self.type = 'server'\n",
        "        \n",
        "Ubuntu = Ubuntu(2000)"
      ],
      "execution_count": null,
      "outputs": []
    },
    {
      "cell_type": "code",
      "metadata": {
        "id": "3d4P5tlN9YgA"
      },
      "source": [
        "print(Ubuntu)"
      ],
      "execution_count": null,
      "outputs": []
    },
    {
      "cell_type": "markdown",
      "metadata": {
        "id": "Are90w149YgD"
      },
      "source": [
        "### Errors und Ausnahmen Handhabung"
      ]
    },
    {
      "cell_type": "markdown",
      "metadata": {
        "id": "4yUopAl_9YgE"
      },
      "source": [
        "Es gibt unterschiedliche Fehlerquellen bei der Nutzung von Python. Man unterscheidet dabei zwischen folgenden Fehlerarten:\n",
        "\n",
        "Syntaxfehler - Hierbei handelt es sich zum Beispiel um einen vergessenen Einschub, Tipfehler usw.\n",
        "Semantische Fehler - Diese Fehler sind die gefährlichsten von allen Fehlern, da sie die Logik des erstellen Algorithmus betreffen. Diese Fehler werden meist erst später erstellt."
      ]
    },
    {
      "cell_type": "code",
      "metadata": {
        "id": "X7hNRv7l9YgE"
      },
      "source": [
        "# Das ist ein typischer SyntaxError auch End of Line Error (EOL) genannt\n",
        "\n",
        "print(Hello) # Vergessen von String-Hochkommas bei Print-Funktion"
      ],
      "execution_count": null,
      "outputs": []
    },
    {
      "cell_type": "code",
      "metadata": {
        "id": "5GdVFmRD9YgF"
      },
      "source": [
        "# Syntaxfehler kann man mit try und except Anweisungen abfangen.\n",
        "\n"
      ],
      "execution_count": null,
      "outputs": []
    },
    {
      "cell_type": "markdown",
      "metadata": {
        "id": "Ufgb-cd1Eobn"
      },
      "source": [
        "##Python für Data Science Bootcamp ##\n",
        "\n",
        "Wenn es um Data Science mit Python geht, dann gibt es verschiedene Python-Libraries wie bspw. Pandas, Numpy, Scikit-Learn, MatPlotLib die es sich lohn genauer anzusehen. \n"
      ]
    },
    {
      "cell_type": "markdown",
      "metadata": {
        "id": "L3eqho0e_lZU"
      },
      "source": [
        "###Pandas###\n",
        "Pandas (bis Version 0.25) ist eine Programmbibliothek für die Programmiersprache Python, die Hilfsmittel für die Verwaltung von Daten und deren Analyse anbietet. Insbesondere enthält sie Datenstrukturen und Operatoren für den Zugriff auf numerische Tabellen und Zeitreihen.\n",
        "\n",
        "Weitere Beispiele können auf dem folgend Link gefunden werden  [Pandas](https://chrisalbon.com/#articles)"
      ]
    },
    {
      "cell_type": "markdown",
      "metadata": {
        "id": "qXPmfI8yUoS9"
      },
      "source": [
        "**Daten erstellen, importieren & exportieren, zusammenführen, durchsuchen**\n",
        "\n",
        "Mit Pandas besteht eine Vielzahl von Möglichkeiten Daten zu importieren und zu exportieren. \n",
        "\n",
        "Nachfolgenden ein paar Beispiele: "
      ]
    },
    {
      "cell_type": "markdown",
      "metadata": {
        "id": "64CxmEPARwWB"
      },
      "source": [
        "####DataFrames erstellen####"
      ]
    },
    {
      "cell_type": "code",
      "metadata": {
        "id": "psfMd5LL68AY"
      },
      "source": [
        "# Mittels Pandas lassen sich einfach sogenannte Dataframes erstellen.\n",
        "# Dataframes sind nichts anderes als eine 2-dimensionale Datenstruktur\n",
        "# in Form von Spalten (Columns) und Zeilen (Rows). \n",
        "\n",
        "# Zuerst muss die Library geladen geladen werden\n",
        "import pandas as pd\n",
        "import numpy as np\n",
        "\n",
        "# Nun laden wir Daten von einer Source und bringen diese gleich in ein Dataframe\n",
        "datloc = 'https://raw.githubusercontent.com/sakuronohana/my_datascience/master/datasets/new_strada2_data_2738408.csv'\n",
        "datraw = pd.DataFrame(pd.read_csv(datloc))\n",
        "\n",
        "# Wir können aber auch eine leeres Dataframe erstellen ...\n",
        "datdf = pd.DataFrame()\n",
        "datdf2 = pd.DataFrame()\n",
        "\n",
        "# ... und fügen gleich mal ein paar Spalten zu\n",
        "datdf['Anrede'] = ['Herr', 'Frau']\n",
        "datdf['Vorname'] = ['Marc','Elisa']\n",
        "datdf['Nachname'] = ['Berger', 'Braun']\n",
        "\n",
        "# Wir können dem leeren Dataframe natürlich auch Spalten anderer Dataframes hinzufügen\n",
        "datdf['New_BFS'] = datraw['BFS_NR']\n",
        "\n",
        "datraw"
      ],
      "execution_count": null,
      "outputs": []
    },
    {
      "cell_type": "markdown",
      "metadata": {
        "id": "cnooI72YSIu2"
      },
      "source": [
        "####Daten importieren & exportieren####"
      ]
    },
    {
      "cell_type": "code",
      "metadata": {
        "id": "raYEr3L0LLu0"
      },
      "source": [
        "''' Es lassen sich Daten direkt von GitHub laden. Wichtig dabei ist zu beachten, den \n",
        "URL des RAW Views zu nehmen\n",
        "\n",
        "Im folgenden Beispiel werden Daten von einer kalifornischen Volkszählung direkt \n",
        "vom Internet laden. '''\n",
        "\n",
        "import pandas as pd\n",
        "\n",
        "'''Bei Daten welche direkt von GitHub geladen werden ist es wichtig das der \n",
        "Anfang von der URL mit raw.githubusercontent.com beginnt.'''\n",
        "\n",
        "housing_data = pd.read_csv('https://raw.githubusercontent.com/ageron/handson-ml/master/datasets/housing/housing.csv')\n",
        "\n",
        "housing_data.head()"
      ],
      "execution_count": null,
      "outputs": []
    },
    {
      "cell_type": "code",
      "metadata": {
        "id": "utzHGezmFUL0"
      },
      "source": [
        "# Daten lassen sich ganz einfach aus verschiedenen Dateien oder sogar\n",
        "# Datenbanken laden. Die einfachste Form ist aus CSVs wie im folgenden\n",
        "# Beispiel gezeigt.\n",
        "\n",
        "import pandas as pd # Zuerst muss die Library geladen geladen werden\n",
        "\n",
        "# from .csv\n",
        "data = pd.read_csv(\"https://raw.githubusercontent.com/sakuronohana/my_datascience/master/planecrashinfo.csv\") # nun lesen wir ein csv\n",
        "\n",
        "# mit .head werden die in der Klammer definierten Zeilen angezeigt, \n",
        "# dass genügt um zu überprüfen ob er Import funktioniert.\n",
        "data.head(10) \n",
        "# Mit der Option data.tail(10) werden die letzten 10 Zeilen angezeigt"
      ],
      "execution_count": null,
      "outputs": []
    },
    {
      "cell_type": "code",
      "metadata": {
        "id": "E0OyzpobKG5h",
        "colab": {
          "base_uri": "https://localhost:8080/",
          "height": 309
        },
        "outputId": "bf0b5aa0-120e-41e3-8397-ef7041eff59f"
      },
      "source": [
        "# Ein weiteres Datenformat welches sich einfach importieren lässt ist JSON\n",
        "\n",
        "import pandas as pd\n",
        "\n",
        "#from .json\n",
        "\n",
        "datloc = 'https://raw.githubusercontent.com/sakuronohana/my_datascience/master/datasets/Solarenergiepotenziale_Gemeinden_Daecher_und_Fassaden_2019.01.01.json'\n",
        "\n",
        "datload = pd.read_json(datloc)\n",
        "\n",
        "''' Normalerweise lädt pandas die Daten ohne weiters und importiert sie in eine Tabellenformat.\n",
        "Es könnt aber sein das noch der Parameter orient notwendig ist.'''\n",
        "\n",
        "datload = pd.read_json(datloc, orient = 'columns')\n",
        "\n",
        "datload.head()"
      ],
      "execution_count": null,
      "outputs": [
        {
          "output_type": "execute_result",
          "data": {
            "text/html": [
              "<div>\n",
              "<style scoped>\n",
              "    .dataframe tbody tr th:only-of-type {\n",
              "        vertical-align: middle;\n",
              "    }\n",
              "\n",
              "    .dataframe tbody tr th {\n",
              "        vertical-align: top;\n",
              "    }\n",
              "\n",
              "    .dataframe thead th {\n",
              "        text-align: right;\n",
              "    }\n",
              "</style>\n",
              "<table border=\"1\" class=\"dataframe\">\n",
              "  <thead>\n",
              "    <tr style=\"text-align: right;\">\n",
              "      <th></th>\n",
              "      <th>MunicipalityNumber</th>\n",
              "      <th>MunicipalityName</th>\n",
              "      <th>Canton</th>\n",
              "      <th>Country</th>\n",
              "      <th>Scenario1_RoofsOnly_PotentialSolarElectricity_GWh</th>\n",
              "      <th>Scenario2_RoofsOnly_PotentialSolarElectricity_GWh</th>\n",
              "      <th>Scenario2_RoofsOnly_PotentialSolarHeat_GWh</th>\n",
              "      <th>Scenario3_RoofsFacades_PotentialSolarElectricity_GWh</th>\n",
              "      <th>Scenario4_RoofsFacades_PotentialSolarElectricity_GWh</th>\n",
              "      <th>Scenario4_RoofsFacades_PotentialSolarHeat_GWh</th>\n",
              "      <th>Factsheet</th>\n",
              "      <th>Methodology</th>\n",
              "    </tr>\n",
              "  </thead>\n",
              "  <tbody>\n",
              "    <tr>\n",
              "      <th>0</th>\n",
              "      <td>1</td>\n",
              "      <td>Aeugst am Albis</td>\n",
              "      <td>Zürich</td>\n",
              "      <td>CH</td>\n",
              "      <td>13.43</td>\n",
              "      <td>8.70</td>\n",
              "      <td>4.72</td>\n",
              "      <td>18.06</td>\n",
              "      <td>13.33</td>\n",
              "      <td>4.72</td>\n",
              "      <td>https://www.uvek-gis.admin.ch/BFE/storymaps/EC...</td>\n",
              "      <td>https://www.uvek-gis.admin.ch/BFE/redirect/sol...</td>\n",
              "    </tr>\n",
              "    <tr>\n",
              "      <th>1</th>\n",
              "      <td>2</td>\n",
              "      <td>Affoltern am Albis</td>\n",
              "      <td>Zürich</td>\n",
              "      <td>CH</td>\n",
              "      <td>50.06</td>\n",
              "      <td>33.83</td>\n",
              "      <td>18.63</td>\n",
              "      <td>69.25</td>\n",
              "      <td>53.02</td>\n",
              "      <td>18.63</td>\n",
              "      <td>https://www.uvek-gis.admin.ch/BFE/storymaps/EC...</td>\n",
              "      <td>https://www.uvek-gis.admin.ch/BFE/redirect/sol...</td>\n",
              "    </tr>\n",
              "    <tr>\n",
              "      <th>2</th>\n",
              "      <td>3</td>\n",
              "      <td>Bonstetten</td>\n",
              "      <td>Zürich</td>\n",
              "      <td>CH</td>\n",
              "      <td>19.66</td>\n",
              "      <td>11.48</td>\n",
              "      <td>8.79</td>\n",
              "      <td>26.72</td>\n",
              "      <td>18.54</td>\n",
              "      <td>8.79</td>\n",
              "      <td>https://www.uvek-gis.admin.ch/BFE/storymaps/EC...</td>\n",
              "      <td>https://www.uvek-gis.admin.ch/BFE/redirect/sol...</td>\n",
              "    </tr>\n",
              "    <tr>\n",
              "      <th>3</th>\n",
              "      <td>4</td>\n",
              "      <td>Hausen am Albis</td>\n",
              "      <td>Zürich</td>\n",
              "      <td>CH</td>\n",
              "      <td>23.67</td>\n",
              "      <td>15.70</td>\n",
              "      <td>8.38</td>\n",
              "      <td>32.61</td>\n",
              "      <td>24.64</td>\n",
              "      <td>8.38</td>\n",
              "      <td>https://www.uvek-gis.admin.ch/BFE/storymaps/EC...</td>\n",
              "      <td>https://www.uvek-gis.admin.ch/BFE/redirect/sol...</td>\n",
              "    </tr>\n",
              "    <tr>\n",
              "      <th>4</th>\n",
              "      <td>5</td>\n",
              "      <td>Hedingen</td>\n",
              "      <td>Zürich</td>\n",
              "      <td>CH</td>\n",
              "      <td>19.14</td>\n",
              "      <td>11.97</td>\n",
              "      <td>7.19</td>\n",
              "      <td>25.68</td>\n",
              "      <td>18.51</td>\n",
              "      <td>7.19</td>\n",
              "      <td>https://www.uvek-gis.admin.ch/BFE/storymaps/EC...</td>\n",
              "      <td>https://www.uvek-gis.admin.ch/BFE/redirect/sol...</td>\n",
              "    </tr>\n",
              "  </tbody>\n",
              "</table>\n",
              "</div>"
            ],
            "text/plain": [
              "   MunicipalityNumber  ...                                        Methodology\n",
              "0                   1  ...  https://www.uvek-gis.admin.ch/BFE/redirect/sol...\n",
              "1                   2  ...  https://www.uvek-gis.admin.ch/BFE/redirect/sol...\n",
              "2                   3  ...  https://www.uvek-gis.admin.ch/BFE/redirect/sol...\n",
              "3                   4  ...  https://www.uvek-gis.admin.ch/BFE/redirect/sol...\n",
              "4                   5  ...  https://www.uvek-gis.admin.ch/BFE/redirect/sol...\n",
              "\n",
              "[5 rows x 12 columns]"
            ]
          },
          "metadata": {
            "tags": []
          },
          "execution_count": 7
        }
      ]
    },
    {
      "cell_type": "code",
      "metadata": {
        "id": "D-aDtTDBdDlN"
      },
      "source": [
        "# Wie bereits erwähnt lasssen sich auch Daten auch aus Datenbanken extrahieren\n",
        "import pandas as pd\n",
        "import sqlite3 as sql\n",
        "\n",
        "consql = sql.connect('chinook.db')\n",
        "impsqldat = pd.read_sql('select * from playlists', consql)\n",
        "\n",
        "# Mehr zu diesem Thema unter https://www.dataquest.io/blog/python-pandas-databases/"
      ],
      "execution_count": null,
      "outputs": []
    },
    {
      "cell_type": "code",
      "metadata": {
        "id": "AukJfi8oDLLi"
      },
      "source": [
        "# Mit Pandas lassen sich auch Daten direkt aus dem Internet importieren\n",
        "# Im folgenden Beispiel importieren wir historische Exxon Finanzdaten (XOM)\n",
        "# von Yahoo.com mittels einer API.\n",
        "\n",
        "import pandas as pd\n",
        "import datetime\n",
        "import pandas_datareader.data as web \n",
        "\n",
        "\n",
        "# Nun definieren wir den Datum-Range 1.Januar 2010 bis Heute\n",
        "start = datetime.datetime(2010, 1 ,1)\n",
        "end = datetime.datetime.now()\n",
        "\n",
        "# Als nächsten importieren wir die Daten in ein Dataframe (df)\n",
        "df_exxon = web.DataReader(\"XOM\", \"yahoo\",start, end) \n",
        "\n",
        "\n",
        "print(df_exxon.head())\n"
      ],
      "execution_count": null,
      "outputs": []
    },
    {
      "cell_type": "code",
      "metadata": {
        "id": "UDU3tXghJK4_"
      },
      "source": [
        "# Der Export von Daten gestaltet sich mit Pandas ebenfalls sehr einfach\n",
        "# In den folgenden Beispiel werden die Daten einerseits in ein CSV und\n",
        "# andererseits in ein XLS exportiert.\n",
        "\n",
        "import pandas as pd # Zuerst muss die Library geladen geladen werden\n",
        "\n",
        "\n",
        "# from .csv\n",
        "data = pd.read_csv(\"https://raw.githubusercontent.com/sakuronohana/my_datascience/master/planecrashinfo.csv\") # nun lesen wir ein csv\n",
        "\n",
        "\n",
        "# Exportieren von ausgewählten Spalten in ein Excel\n",
        "data[['date', 'location', 'operator']].to_excel('plaincrash_short.xls')\n",
        "\n",
        "# Exportieren aller Daten in ein CSV\n",
        "data.to_csv('plaintcrash_short.csv')\n"
      ],
      "execution_count": null,
      "outputs": []
    },
    {
      "cell_type": "code",
      "metadata": {
        "id": "UCRUgutiimoY"
      },
      "source": [
        "\"\"\"Im folgenden Beispiel importieren wir Daten aus einem in ein PDF konvertiertes Excel\"\"\" \n",
        "\n",
        "#! pip install tabula-py # Zuerst müssen wir das Modul installieren\n",
        "from tabula import *\n",
        "\n",
        "data_pdf = read_pdf(\"plaincrash_short.pdf\")\n",
        "data_pdf"
      ],
      "execution_count": null,
      "outputs": []
    },
    {
      "cell_type": "markdown",
      "metadata": {
        "id": "9rLFDmy3pEhi"
      },
      "source": [
        "####DataFrames durchsuchen####\n",
        "\n",
        "Dataframes in Pandas lassen sich auf verschiedene Arten durchsuchen."
      ]
    },
    {
      "cell_type": "code",
      "metadata": {
        "id": "bUyyi9vQPZCx",
        "colab": {
          "base_uri": "https://localhost:8080/",
          "height": 213
        },
        "outputId": "b86768a1-207b-41cc-f8eb-7ef5b47b204e"
      },
      "source": [
        "# Suchen wir einen bestimmten Wert in einer Spalten, dann können wir diese wie folgt eingeben.\n",
        "\n",
        "import pandas as pd\n",
        "\n",
        "url = 'https://raw.githubusercontent.com/sakuronohana/my_datascience/master/datasets/plane_crash_data.csv'\n",
        "dimport = pd.read_csv(url, sep=',')\n",
        "\n",
        "dimport[dimport['time'] == '17:18']\n",
        "\n"
      ],
      "execution_count": null,
      "outputs": [
        {
          "output_type": "execute_result",
          "data": {
            "text/html": [
              "<div>\n",
              "<style scoped>\n",
              "    .dataframe tbody tr th:only-of-type {\n",
              "        vertical-align: middle;\n",
              "    }\n",
              "\n",
              "    .dataframe tbody tr th {\n",
              "        vertical-align: top;\n",
              "    }\n",
              "\n",
              "    .dataframe thead th {\n",
              "        text-align: right;\n",
              "    }\n",
              "</style>\n",
              "<table border=\"1\" class=\"dataframe\">\n",
              "  <thead>\n",
              "    <tr style=\"text-align: right;\">\n",
              "      <th></th>\n",
              "      <th>date</th>\n",
              "      <th>time</th>\n",
              "      <th>location</th>\n",
              "      <th>operator</th>\n",
              "      <th>flight_number</th>\n",
              "      <th>route</th>\n",
              "      <th>aircraft_type</th>\n",
              "      <th>registration</th>\n",
              "      <th>cn_ln</th>\n",
              "      <th>aboard</th>\n",
              "      <th>fatalities</th>\n",
              "      <th>ground</th>\n",
              "      <th>summary</th>\n",
              "    </tr>\n",
              "  </thead>\n",
              "  <tbody>\n",
              "    <tr>\n",
              "      <th>0</th>\n",
              "      <td>September 17, 1908</td>\n",
              "      <td>17:18</td>\n",
              "      <td>Fort Myer, Virginia</td>\n",
              "      <td>Military - U.S. Army</td>\n",
              "      <td>?</td>\n",
              "      <td>Demonstration</td>\n",
              "      <td>Wright Flyer III</td>\n",
              "      <td>?</td>\n",
              "      <td>1</td>\n",
              "      <td>2   (passengers:1  crew:1)</td>\n",
              "      <td>1   (passengers:1  crew:0)</td>\n",
              "      <td>0</td>\n",
              "      <td>During a demonstration flight, a U.S. Army fly...</td>\n",
              "    </tr>\n",
              "    <tr>\n",
              "      <th>4855</th>\n",
              "      <td>December 03, 2007</td>\n",
              "      <td>17:18</td>\n",
              "      <td>Off Whittier, Alaska</td>\n",
              "      <td>Evergreen Alaska Helicopters, Inc.</td>\n",
              "      <td>?</td>\n",
              "      <td>Cordova - Ancorage</td>\n",
              "      <td>Eurocopter Deutschland BK117C1</td>\n",
              "      <td>N141LG</td>\n",
              "      <td>?</td>\n",
              "      <td>4   (passengers:3  crew:1)</td>\n",
              "      <td>4   (passengers:3  crew:1)</td>\n",
              "      <td>0</td>\n",
              "      <td>Crashed into the sea while en route. The pilot...</td>\n",
              "    </tr>\n",
              "  </tbody>\n",
              "</table>\n",
              "</div>"
            ],
            "text/plain": [
              "                    date  ...                                            summary\n",
              "0     September 17, 1908  ...  During a demonstration flight, a U.S. Army fly...\n",
              "4855   December 03, 2007  ...  Crashed into the sea while en route. The pilot...\n",
              "\n",
              "[2 rows x 13 columns]"
            ]
          },
          "metadata": {
            "tags": []
          },
          "execution_count": 20
        }
      ]
    },
    {
      "cell_type": "code",
      "metadata": {
        "id": "1pcD0jBFo0QI"
      },
      "source": [
        "# Durchsuchen eines DataFrames mittels verschiedenen Werten in verschiedenen\n",
        "# Spalten\n",
        "\n",
        "import pandas as pd\n",
        "\n",
        "url = 'https://raw.githubusercontent.com/sakuronohana/my_datascience/master/datasets/plane_crash_data.csv'\n",
        "dimport = pd.read_csv(url, sep=',')\n",
        "\n",
        "''' Mit dem folgenden Code suchen wir nach zwei verschienden Werten in zwei Spalten mittels AND d.h. \n",
        "es werden nur Zeilen angegeben, welche beide Werte besitzen'''\n",
        "#print ('Suchresultat mit AND-Operator')\n",
        "print(dimport[dimport['date'].str.contains('July') & dimport['operator'].str.contains('United')].head())\n",
        "\n",
        "'''Mit diesem Code suchen wir entweder nach dem einen oder anderen Wert in der selben Spalte'''\n",
        "#print('Sucheresultat mit OR-Operator')\n",
        "#print(dimport[dimport['date'].str.contains('July') | dimport['operator'].str.contains('United')].head())\n",
        "select_list = ['July', 'United']\n",
        "print(dimport[dimport['date'].str.contains('|'.join(select_list))].head())\n",
        "\n",
        "''' Mit dem folgenden Code suchen wir nach Werten welche grösser oder klein sind'''\n",
        "print ('Suchresultat mit <> Operatoren')\n",
        "print (dimport[dimport['time'] > '17:18'].head())"
      ],
      "execution_count": null,
      "outputs": []
    },
    {
      "cell_type": "markdown",
      "metadata": {
        "id": "121ujFRnv6fS"
      },
      "source": [
        "Eine andere gute Methode um Datensätze zu durchsuchen ist mittels iloc und loc"
      ]
    },
    {
      "cell_type": "code",
      "metadata": {
        "id": "uucZ2oDywE0j",
        "colab": {
          "base_uri": "https://localhost:8080/",
          "height": 490
        },
        "outputId": "6ab6d747-1688-48b8-8862-e4d0da017a6a"
      },
      "source": [
        "# Durchsuchen von Zeilen\n",
        "dimport.iloc[:1] # Zeile 0\n",
        "\n",
        "# Mit loc kann der Index neu definiert werden. Im folgenden Beispiel defnieren wir Date als den neuen Index\n",
        "dimport = dimport.set_index(dimport['date'])\n",
        "\n"
      ],
      "execution_count": null,
      "outputs": [
        {
          "output_type": "execute_result",
          "data": {
            "text/html": [
              "<div>\n",
              "<style scoped>\n",
              "    .dataframe tbody tr th:only-of-type {\n",
              "        vertical-align: middle;\n",
              "    }\n",
              "\n",
              "    .dataframe tbody tr th {\n",
              "        vertical-align: top;\n",
              "    }\n",
              "\n",
              "    .dataframe thead th {\n",
              "        text-align: right;\n",
              "    }\n",
              "</style>\n",
              "<table border=\"1\" class=\"dataframe\">\n",
              "  <thead>\n",
              "    <tr style=\"text-align: right;\">\n",
              "      <th></th>\n",
              "      <th>date</th>\n",
              "      <th>time</th>\n",
              "      <th>location</th>\n",
              "      <th>operator</th>\n",
              "      <th>flight_number</th>\n",
              "      <th>route</th>\n",
              "      <th>aircraft_type</th>\n",
              "      <th>registration</th>\n",
              "      <th>cn_ln</th>\n",
              "      <th>aboard</th>\n",
              "      <th>fatalities</th>\n",
              "      <th>ground</th>\n",
              "      <th>summary</th>\n",
              "    </tr>\n",
              "    <tr>\n",
              "      <th>date</th>\n",
              "      <th></th>\n",
              "      <th></th>\n",
              "      <th></th>\n",
              "      <th></th>\n",
              "      <th></th>\n",
              "      <th></th>\n",
              "      <th></th>\n",
              "      <th></th>\n",
              "      <th></th>\n",
              "      <th></th>\n",
              "      <th></th>\n",
              "      <th></th>\n",
              "      <th></th>\n",
              "    </tr>\n",
              "  </thead>\n",
              "  <tbody>\n",
              "    <tr>\n",
              "      <th>September 17, 1908</th>\n",
              "      <td>September 17, 1908</td>\n",
              "      <td>17:18</td>\n",
              "      <td>Fort Myer, Virginia</td>\n",
              "      <td>Military - U.S. Army</td>\n",
              "      <td>?</td>\n",
              "      <td>Demonstration</td>\n",
              "      <td>Wright Flyer III</td>\n",
              "      <td>?</td>\n",
              "      <td>1</td>\n",
              "      <td>2   (passengers:1  crew:1)</td>\n",
              "      <td>1   (passengers:1  crew:0)</td>\n",
              "      <td>0</td>\n",
              "      <td>During a demonstration flight, a U.S. Army fly...</td>\n",
              "    </tr>\n",
              "    <tr>\n",
              "      <th>September 07, 1909</th>\n",
              "      <td>September 07, 1909</td>\n",
              "      <td>?</td>\n",
              "      <td>Juvisy-sur-Orge, France</td>\n",
              "      <td>?</td>\n",
              "      <td>?</td>\n",
              "      <td>Air show</td>\n",
              "      <td>Wright Byplane</td>\n",
              "      <td>SC1</td>\n",
              "      <td>?</td>\n",
              "      <td>1   (passengers:0  crew:1)</td>\n",
              "      <td>1   (passengers:0  crew:0)</td>\n",
              "      <td>0</td>\n",
              "      <td>Eugene Lefebvre was the first pilot to ever be...</td>\n",
              "    </tr>\n",
              "    <tr>\n",
              "      <th>July 12, 1912</th>\n",
              "      <td>July 12, 1912</td>\n",
              "      <td>06:30</td>\n",
              "      <td>Atlantic City, New Jersey</td>\n",
              "      <td>Military - U.S. Navy</td>\n",
              "      <td>?</td>\n",
              "      <td>Test flight</td>\n",
              "      <td>Dirigible</td>\n",
              "      <td>?</td>\n",
              "      <td>?</td>\n",
              "      <td>5   (passengers:0  crew:5)</td>\n",
              "      <td>5   (passengers:0  crew:5)</td>\n",
              "      <td>0</td>\n",
              "      <td>First U.S. dirigible Akron exploded just offsh...</td>\n",
              "    </tr>\n",
              "    <tr>\n",
              "      <th>August 06, 1913</th>\n",
              "      <td>August 06, 1913</td>\n",
              "      <td>?</td>\n",
              "      <td>Victoria, British Columbia, Canada</td>\n",
              "      <td>Private</td>\n",
              "      <td>?</td>\n",
              "      <td>?</td>\n",
              "      <td>Curtiss seaplane</td>\n",
              "      <td>?</td>\n",
              "      <td>?</td>\n",
              "      <td>1   (passengers:0  crew:1)</td>\n",
              "      <td>1   (passengers:0  crew:1)</td>\n",
              "      <td>0</td>\n",
              "      <td>The first fatal airplane accident in Canada oc...</td>\n",
              "    </tr>\n",
              "    <tr>\n",
              "      <th>September 09, 1913</th>\n",
              "      <td>September 09, 1913</td>\n",
              "      <td>c 18:30</td>\n",
              "      <td>Over the North Sea</td>\n",
              "      <td>Military - German Navy</td>\n",
              "      <td>?</td>\n",
              "      <td>?</td>\n",
              "      <td>Zeppelin L-1 (airship)</td>\n",
              "      <td>?</td>\n",
              "      <td>?</td>\n",
              "      <td>20   (passengers:?  crew:?)</td>\n",
              "      <td>14   (passengers:?  crew:?)</td>\n",
              "      <td>0</td>\n",
              "      <td>The airship flew into a thunderstorm and encou...</td>\n",
              "    </tr>\n",
              "  </tbody>\n",
              "</table>\n",
              "</div>"
            ],
            "text/plain": [
              "                                  date  ...                                            summary\n",
              "date                                    ...                                                   \n",
              "September 17, 1908  September 17, 1908  ...  During a demonstration flight, a U.S. Army fly...\n",
              "September 07, 1909  September 07, 1909  ...  Eugene Lefebvre was the first pilot to ever be...\n",
              "July 12, 1912            July 12, 1912  ...  First U.S. dirigible Akron exploded just offsh...\n",
              "August 06, 1913        August 06, 1913  ...  The first fatal airplane accident in Canada oc...\n",
              "September 09, 1913  September 09, 1913  ...  The airship flew into a thunderstorm and encou...\n",
              "\n",
              "[5 rows x 13 columns]"
            ]
          },
          "metadata": {
            "tags": []
          },
          "execution_count": 24
        }
      ]
    },
    {
      "cell_type": "code",
      "metadata": {
        "id": "nJTvEdI5KakS"
      },
      "source": [
        "''' In dem folgenden Beispiel wird gezeigt wie sich bestimmte Merkmale bzw. Informationen über das Datenset herauslesen lassen.\n",
        "Hier nochmal das Beispiel der kalifornischen Volkszählung.'''\n",
        "\n",
        "import pandas as pd\n",
        "\n",
        "housing_data = pd.read_csv('https://raw.githubusercontent.com/ageron/handson-ml/master/datasets/housing/housing.csv')\n",
        "\n",
        "# Gibt die Spaltennamen, Anzahl Zeilen, Anzahl Werte ungleich Null und Datentyp aus\n",
        "housing_data.info()\n",
        "\n",
        "# Zählt Anzahl Datenwerte einer bestimmten Spalte\n",
        "housing_data[\"ocean_proximity\"].value_counts()\n",
        "\n",
        "# Mit der folgenden Methode lassen sich die numerischen Merkmale zusammenfassen\n",
        "housing_data.describe()\n",
        "\n"
      ],
      "execution_count": null,
      "outputs": []
    },
    {
      "cell_type": "markdown",
      "metadata": {
        "id": "4AOMEe44Vi69"
      },
      "source": [
        "####DataFrames gruppieren & sortieren####"
      ]
    },
    {
      "cell_type": "code",
      "metadata": {
        "id": "4EazJnlLV0dM"
      },
      "source": [
        "''' Die Daten in einem DataFrame lassen sich auf verschiedene Arten gruppieren.'''\n",
        "\n",
        "import pandas as pd\n",
        "\n",
        "datimploc = 'https://raw.githubusercontent.com/sakuronohana/my_datascience/master/datasets/plane_crash_data.csv'\n",
        "datload = pd.read_csv(datimploc)\n",
        "\n",
        "# Gruppieren wir den Datesatz nach Flugzeugtyp und lassen uns gleich auch die Anzahl Datensätze anzeigen.\n",
        "datload.groupby('aircraft_type').count()\n",
        "\n",
        "# Es lassen sich auch mehrer Merkmale gleichzeitig gruppieren\n",
        "datload.groupby(['date','aircraft_type']).count()\n",
        "\n",
        "# Die Ausgabe der Gruppierung ohne zusätzliches Attribut wie .count() funktioniert wie folgt.\n",
        "test = datload.groupby(['date','aircraft_type'])\n",
        "test.first()\n"
      ],
      "execution_count": null,
      "outputs": []
    },
    {
      "cell_type": "code",
      "metadata": {
        "id": "CJrCTM3fZcEd",
        "colab": {
          "base_uri": "https://localhost:8080/",
          "height": 731
        },
        "outputId": "9600d9d8-0ab5-40eb-e54b-02b204b873cd"
      },
      "source": [
        "''' Wie schon bei Excel oder einem anderen Tabellenkonstrukt ist es auch hier möglich \n",
        "die Daten nach bestimmten Präferenzen zu sortieren.'''\n",
        "\n",
        "import pandas as pd\n",
        "\n",
        "datimploc = 'https://raw.githubusercontent.com/sakuronohana/my_datascience/master/datasets/plane_crash_data.csv'\n",
        "datload = pd.read_csv(datimploc)\n",
        "\n",
        "# Nachfolgend sortieren wir die Daten alphabetisch nach dem Merkmal Operator \n",
        "datload.sort_values(by='operator', ascending=True)\n",
        "\n",
        "# Nachfolgend sortieren wir mehrere Merkmale in alphabetischer Anordung\n",
        "datload.sort_values(by=['date','operator'], ascending=True)\n",
        "\n",
        "# In den oberen Beispielen hat das Dataframe die Sortierung nicht beibehalten, diese können wir mit inplace=true ändern\n",
        "datload.sort_values(by='operator', ascending=True, inplace=True)\n",
        "datload.head()\n"
      ],
      "execution_count": null,
      "outputs": [
        {
          "output_type": "execute_result",
          "data": {
            "text/html": [
              "<div>\n",
              "<style scoped>\n",
              "    .dataframe tbody tr th:only-of-type {\n",
              "        vertical-align: middle;\n",
              "    }\n",
              "\n",
              "    .dataframe tbody tr th {\n",
              "        vertical-align: top;\n",
              "    }\n",
              "\n",
              "    .dataframe thead th {\n",
              "        text-align: right;\n",
              "    }\n",
              "</style>\n",
              "<table border=\"1\" class=\"dataframe\">\n",
              "  <thead>\n",
              "    <tr style=\"text-align: right;\">\n",
              "      <th></th>\n",
              "      <th>date</th>\n",
              "      <th>time</th>\n",
              "      <th>location</th>\n",
              "      <th>operator</th>\n",
              "      <th>flight_number</th>\n",
              "      <th>route</th>\n",
              "      <th>aircraft_type</th>\n",
              "      <th>registration</th>\n",
              "      <th>cn_ln</th>\n",
              "      <th>aboard</th>\n",
              "      <th>fatalities</th>\n",
              "      <th>ground</th>\n",
              "      <th>summary</th>\n",
              "    </tr>\n",
              "  </thead>\n",
              "  <tbody>\n",
              "    <tr>\n",
              "      <th>2459</th>\n",
              "      <td>May 25, 1971</td>\n",
              "      <td>16:26</td>\n",
              "      <td>Santiago, Chile</td>\n",
              "      <td>\\tAerolineas Flecha Austral - ALFA</td>\n",
              "      <td>?</td>\n",
              "      <td>?</td>\n",
              "      <td>\\tCurtiss C-46</td>\n",
              "      <td>\\tCC-CAZ</td>\n",
              "      <td>?</td>\n",
              "      <td>4   (passengers:2  crew:2)</td>\n",
              "      <td>4   (passengers:2  crew:2)</td>\n",
              "      <td>0</td>\n",
              "      <td>The cargo plane lost an engine while taking of...</td>\n",
              "    </tr>\n",
              "    <tr>\n",
              "      <th>5030</th>\n",
              "      <td>April 21, 2011</td>\n",
              "      <td>14:52</td>\n",
              "      <td>Manaus, Brazil</td>\n",
              "      <td>\\tAmazonavesAir Taxi</td>\n",
              "      <td>?</td>\n",
              "      <td>Manaus - Santarem</td>\n",
              "      <td>Embraer/Piper EMB-810C Seneca</td>\n",
              "      <td>PT-EFS</td>\n",
              "      <td>\\t810055</td>\n",
              "      <td>7   (passengers:6  crew:1)</td>\n",
              "      <td>7   (passengers:6  crew:1)</td>\n",
              "      <td>0</td>\n",
              "      <td>The airl taxi crashed about one minute after t...</td>\n",
              "    </tr>\n",
              "    <tr>\n",
              "      <th>5194</th>\n",
              "      <td>April 29, 2016</td>\n",
              "      <td>1150</td>\n",
              "      <td>Sorta, Norway</td>\n",
              "      <td>\\tCHC Helikopter Service</td>\n",
              "      <td>?</td>\n",
              "      <td>Gullfflex B - Bergen</td>\n",
              "      <td>\\tEurocopter EC225LP Super Puma M2+</td>\n",
              "      <td>\\tLN-OJF</td>\n",
              "      <td>2721</td>\n",
              "      <td>13   (passengers:11  crew:2)</td>\n",
              "      <td>13   (passengers:11  crew:2)</td>\n",
              "      <td>0</td>\n",
              "      <td>The helicopter crashed on the rocky shores of ...</td>\n",
              "    </tr>\n",
              "    <tr>\n",
              "      <th>1612</th>\n",
              "      <td>August 11, 1958</td>\n",
              "      <td>?</td>\n",
              "      <td>Near Belem, Brazil</td>\n",
              "      <td>\\tLoide Aéreo Nacional</td>\n",
              "      <td>?</td>\n",
              "      <td>Manaus - Belem</td>\n",
              "      <td>Douglas DC-4</td>\n",
              "      <td>PP-LEQ</td>\n",
              "      <td>10544</td>\n",
              "      <td>11   (passengers:5  crew:6)</td>\n",
              "      <td>10   (passengers:4  crew:6)</td>\n",
              "      <td>0</td>\n",
              "      <td>Crashed on approach 10 minutes from the airpor...</td>\n",
              "    </tr>\n",
              "    <tr>\n",
              "      <th>5026</th>\n",
              "      <td>February 22, 2011</td>\n",
              "      <td>?</td>\n",
              "      <td>San Pedro del Rio, Venezuela</td>\n",
              "      <td>\\tMaparca</td>\n",
              "      <td>?</td>\n",
              "      <td>El Vigia - San Domingo</td>\n",
              "      <td>Cesna 340A</td>\n",
              "      <td>YV-2402</td>\n",
              "      <td>\\t340-1502</td>\n",
              "      <td>6   (passengers:5  crew:1)</td>\n",
              "      <td>6   (passengers:5  crew:1)</td>\n",
              "      <td>0</td>\n",
              "      <td>For unknown reasons, the small plane crashed i...</td>\n",
              "    </tr>\n",
              "  </tbody>\n",
              "</table>\n",
              "</div>"
            ],
            "text/plain": [
              "                   date  ...                                            summary\n",
              "2459       May 25, 1971  ...  The cargo plane lost an engine while taking of...\n",
              "5030     April 21, 2011  ...  The airl taxi crashed about one minute after t...\n",
              "5194     April 29, 2016  ...  The helicopter crashed on the rocky shores of ...\n",
              "1612    August 11, 1958  ...  Crashed on approach 10 minutes from the airpor...\n",
              "5026  February 22, 2011  ...  For unknown reasons, the small plane crashed i...\n",
              "\n",
              "[5 rows x 13 columns]"
            ]
          },
          "metadata": {
            "tags": []
          },
          "execution_count": 18
        }
      ]
    },
    {
      "cell_type": "markdown",
      "metadata": {
        "id": "c-2548CDBBC3"
      },
      "source": [
        "####DataFrames merge, join & concatenate####\n",
        "\n",
        "Bevor wir uns nun dem Beispielen für eine Datenzusammenführung (merge) und -verbindung (join) widmen. Ist es wichtigt die verschiedenen Arten der Zusammenführung zu verstehen. Nachfolgend eine kleine Übersicht:\n",
        "\n",
        "![alt text](https://shanelynnwebsite-mid9n9g1q9y8tt.netdna-ssl.com/wp-content/uploads/2017/03/join-types-merge-names.jpg)\n",
        "\n",
        "***Inner Merge / Inner Join***\n",
        "\n",
        "Hiermit werden nur die Werte von zwei Datensätzen zusammengeführt, für welche auf beiden Seiten Werte bestehen. Dabei wir mittels \"on\" die zu referenzierende Spalte angegeben bzw. das Set der Werte angegeben für welche es auch bei zweiten Datensatz Werte geben muss. Pandas Code:\n",
        "\n",
        "      pandas.merge(Datensatz1, Datensatz2, on= 'Ref.Spalte')\n",
        "\n",
        "Diese Art der Zusammenführung oder Verbindung ist bei Pandas (wie auch SQL) Standard d.h. wenn keine weiternen Optionen angegeben werden führt Pandas zwei Datensätze mit dieser Art zusammen.\n",
        "\n",
        "***Outer Merge / Outer Join***\n",
        "\n",
        "Mit dem Outer Join/Merge werden sämtlche Datensätze beider Seiten zusammengeführt, ungeachtet dessen ob auf beiden Seiten ein Wert besteht. Wo kein Wert besteht wird der Platzhalter \"NaN\" eingefügt. Pandas Code:\n",
        "\n",
        "      pandas.merge(Datensatz1, Datensatz2, on= 'Ref.Spalte', how = 'outer')\n",
        "\n",
        "***Left Merge / Left outer join***\n",
        "\n",
        "Hierbei werden die Spalten und Werte des linken Datensatzes behalten und durch Daten des rechten Datensatzes ergänzt oder mit NaN aufgefüllt.\n",
        "\n",
        "     pandas.merge(Datensatz_Links, Datensatz_Rechts, on='Ref.Spalte', how = 'left')\n",
        "\n",
        "***Right Merge / Right outer join***\n",
        "\n",
        "Hierbei werden die Spalten und Werte des rechten Datensatzes behalten und durch Daten des linken Datensatzes ergänzt oder mit NaN aufgefüllt.\n",
        "\n",
        "     pandas.merge(Datensatz_Links, Datensatz_Rechts, on='Ref.Spalte', how = 'right')\n",
        "\n",
        "***Hinweis***: Mit dem Argument **on=** definieren ich die Spalten, welche in beiden Datensätzen bestehen mittels welchen zusammengeführt wird. Sobald der Output etwas wie das ausgibt **_x** oder **_y**, kann davon ausgegangen werden, dass eine Feature sowohl im einen wie auch im anderen Datensatz besteht. \n",
        "\n",
        "Link: https://www.shanelynn.ie/merge-join-dataframes-python-pandas-index-1/"
      ]
    },
    {
      "cell_type": "code",
      "metadata": {
        "id": "crbFhnrYYN3W",
        "colab": {
          "base_uri": "https://localhost:8080/",
          "height": 51
        },
        "outputId": "0a089109-abac-4084-8711-24664f5a041c"
      },
      "source": [
        "''' Haben wir Daten in zwei verschiedene Dataframes importiert, dann können diese Einfach miteinander verketten (Concat) werden.\n",
        "Diese Verkettung von Daten brauen wir bspw. wenn wir mehrere Logfiles mit gleichen Merkmalen haben und diese in einen Datensatz\n",
        "verschmelzen wollen '''\n",
        "\n",
        "import pandas as pd\n",
        "import numpy as np\n",
        "\n",
        "# Zuerst erstellen wir zwei Dataframes mittels zwei 2D Arrays mit Hilfe der Random Funkton von Numpy\n",
        "\n",
        "df1d2 = pd.DataFrame (np.random.rand(100,2), columns=['A','B'])\n",
        "df2d2 = pd.DataFrame (np.random.rand(100,2), columns=['C','D'])\n",
        "df3d2 = pd.DataFrame (np.random.rand(100,2), columns=['A','B'])\n",
        "print(df1d2.shape)\n",
        "# Nun führen wir die Spalten (Axis=1) dieser zwei Dataframes mit Hilfe der Concat Funktion zusammen\n",
        "df4 = pd.concat([df1d2,df2d2], axis=1)\n",
        "\n",
        "# Nachfolgend verketten wir die Zeilen (Axis=0) diese zwei Dataframes\n",
        "df4 = pd.concat([df1d2,df3d2], axis=0)\n",
        "print(df4.shape)"
      ],
      "execution_count": null,
      "outputs": [
        {
          "output_type": "stream",
          "text": [
            "(100, 2)\n",
            "(200, 2)\n"
          ],
          "name": "stdout"
        }
      ]
    },
    {
      "cell_type": "code",
      "metadata": {
        "id": "12AzVLoPSvYF",
        "colab": {
          "base_uri": "https://localhost:8080/",
          "height": 476
        },
        "outputId": "4119a03c-ca16-4777-e809-aa8235c2511d"
      },
      "source": [
        "#Im folgenden Beispiel führen wir die Datensätze mit Hilfe von MERGE \n",
        "# zusammen\n",
        "\n",
        "import numpy as np\n",
        "import pandas as pd\n",
        "\n",
        "left = pd.DataFrame({'Key': ['K0', 'K1', 'K2', 'K3','K4'], \n",
        "                    'A': ['A0', 'A1', 'A2', 'A3', 'A4'],\n",
        "                    'B': ['B0', 'B1', 'B2', 'B3', 'B4']}) \n",
        "  \n",
        "right = pd.DataFrame({'Key': ['K6', 'K1', 'K2', 'K3','K4'], \n",
        "                      'A': ['A5', 'A1', 'A2', 'A3', 'A4'],\n",
        "                      'C': ['C0', 'C1', 'C2', 'C3', 'C4'], \n",
        "                      'D': ['D0', 'D1', 'D2', 'D3', 'D4']}) \n",
        "                        \n",
        "# Merging the dataframes                       \n",
        "dfm1 = pd.merge(left, right, how ='inner', on= ['Key','A'])\n",
        "print ('Datensatz nach Inner merge: \\n', dfm1.head())\n",
        "\n",
        "dfm2 = pd.merge(left, right, how ='outer', on= ['Key','A']).fillna('unknown')\n",
        "print ('Datensatz nach Outer merge: \\n', dfm2.head())\n",
        "\n",
        "dfm3 = pd.merge(left, right, how ='left', on=['Key', 'A']).fillna('unknown')\n",
        "print ('Datensatz nach Left merge: \\n', dfm3.head())\n",
        "\n",
        "dfm4 = pd.merge(left, right, how ='left', on=['Key','A']).fillna('unknown')\n",
        "print ('Datensatz nach Right merge: \\n', dfm4.head())"
      ],
      "execution_count": null,
      "outputs": [
        {
          "output_type": "stream",
          "text": [
            "Datensatz nach Inner merge: \n",
            "   Key   A   B   C   D\n",
            "0  K1  A1  B1  C1  D1\n",
            "1  K2  A2  B2  C2  D2\n",
            "2  K3  A3  B3  C3  D3\n",
            "3  K4  A4  B4  C4  D4\n",
            "Datensatz nach Outer merge: \n",
            "   Key   A   B        C        D\n",
            "0  K0  A0  B0  unknown  unknown\n",
            "1  K1  A1  B1       C1       D1\n",
            "2  K2  A2  B2       C2       D2\n",
            "3  K3  A3  B3       C3       D3\n",
            "4  K4  A4  B4       C4       D4\n",
            "Datensatz nach Left merge: \n",
            "   Key   A   B        C        D\n",
            "0  K0  A0  B0  unknown  unknown\n",
            "1  K1  A1  B1       C1       D1\n",
            "2  K2  A2  B2       C2       D2\n",
            "3  K3  A3  B3       C3       D3\n",
            "4  K4  A4  B4       C4       D4\n",
            "Datensatz nach Right merge: \n",
            "   Key   A   B        C        D\n",
            "0  K0  A0  B0  unknown  unknown\n",
            "1  K1  A1  B1       C1       D1\n",
            "2  K2  A2  B2       C2       D2\n",
            "3  K3  A3  B3       C3       D3\n",
            "4  K4  A4  B4       C4       D4\n"
          ],
          "name": "stdout"
        }
      ]
    },
    {
      "cell_type": "code",
      "metadata": {
        "id": "Xa_XxPmgWvxm"
      },
      "source": [
        "#Im folgenden Beispiel führen wir die Datensätze mit Hilfe von JOIN \n",
        "# zusammen\n",
        "\n",
        "import numpy as np\n",
        "import pandas as pd\n",
        "\n",
        "left = pd.DataFrame({'A': ['A0', 'A1', 'A2', 'A3'], \n",
        "                    'B': ['B0', 'B1', 'B2', 'B3']}, \n",
        "                    index = ['K0', 'K1', 'K2', 'K3']) \n",
        "  \n",
        "right = pd.DataFrame({'C': ['C0', 'C1', 'C2', 'C3'], \n",
        "                      'D': ['D0', 'D1', 'D2', 'D3']}, \n",
        "                      index = ['K0', 'K1', 'K2', 'K3'])\n",
        "                        \n",
        "# join the dataframes                       \n",
        "dfm1 = left.join(right)\n",
        "print ('Datensatz nach Inner merge: \\n', dfm1.head())\n",
        "                    \n",
        "dfm2 = right.join(left)\n",
        "print ('Datensatz nach Inner merge: \\n', dfm2.head())\n"
      ],
      "execution_count": null,
      "outputs": []
    },
    {
      "cell_type": "markdown",
      "metadata": {
        "id": "wqSVy5fNVpvR"
      },
      "source": [
        "**Ändern, Ersetzen, Einfügen und Löschen**\n",
        "\n",
        "Mit Pandas können einzelne oder mehrere Werte, Spalten und Zeilen verändern, ersetzen, hinzufügen oder gar löschen.\n",
        "\n",
        "Siehe nachfolgend ein paar Beispiele:\n"
      ]
    },
    {
      "cell_type": "code",
      "metadata": {
        "id": "eDP0CUGAMFWj"
      },
      "source": [
        "# Mit Pandas lassen sich auch Daten in verschiedene Formate konvertieren\n",
        "\n",
        "import pandas as pd # Zuerst muss die Library geladen geladen werden\n",
        "\n",
        "\n",
        "# from .csv\n",
        "data = pd.read_csv(\"https://raw.githubusercontent.com/sakuronohana/my_datascience/master/datasets/plane_crash_data.csv\") # nun lesen wir ein csv\n",
        "\n",
        "# Konverterien bestimmter Spalten in String\n",
        "data['time'] = data['time'].astype('str')\n",
        "\n",
        "# Konvertieren von bestimmten Spalten in Integer\n",
        "# data['ground'] = data['ground'].fillna(-1).astype(int)\n",
        "\n",
        "# Konvertieren von bestimmten Spalten in Numeric\n",
        "# data['time'] = pd.to_numeric(data['time'])\n",
        "\n",
        "data.head(5)\n",
        "\n"
      ],
      "execution_count": null,
      "outputs": []
    },
    {
      "cell_type": "code",
      "metadata": {
        "id": "fN7Nmc1_3pq2"
      },
      "source": [
        "# Wir können aus ein durch Panda importiertes Datenset bestimmte Werte \n",
        "# auslesen.\n",
        "\n",
        "import pandas as pd # Zuerst muss die Library geladen geladen werden\n",
        "\n",
        "\n",
        "# from .csv\n",
        "data = pd.read_csv(\"https://raw.githubusercontent.com/sakuronohana/my_datascience/master/datasets/plane_crash_data.csv\") # nun lesen wir ein csv\n",
        "\n",
        "# Nachfolgend lesen wir einen bestimmten Wert aus der Spalte operator\n",
        "# aus der das Wort Military beinhaltet.\n",
        "\n",
        "data_selc = data['operator'].where(data['operator'] != 'Military')\n",
        "\n",
        "\n",
        "data_selc.head(10)"
      ],
      "execution_count": null,
      "outputs": []
    },
    {
      "cell_type": "code",
      "metadata": {
        "id": "7yLBfF7SRGtu"
      },
      "source": [
        "# Bei der Datenselektion mit Pandas lassen sich bestimmte Werte in Spalten\n",
        "# löschen. Hierzu wird drop verwendet.\n",
        "\n",
        "import pandas as pd # Zuerst muss die Library geladen geladen werden\n",
        "\n",
        "\n",
        "# from .csv\n",
        "data = pd.read_csv(\"https://raw.githubusercontent.com/sakuronohana/my_datascience/master/datasets/plane_crash_data.csv\") # nun lesen wir ein csv\n",
        "\n",
        "\n",
        "value_list = ['Private'] # Liste \n",
        "null_value_list = ['?']\n",
        "\n",
        "# Mit .drop können unnötige Informationen wir folgt ausblendet werden\n",
        "data = data.drop(\"time\", axis=1) # Ganze Spalten\n",
        "data1 = data.drop(data.index[2:4]) # Einzelen oder mehrere Zeilen\n",
        "# :4 = bis und mit Zeile 3, 4: = Ab Zeile 4, 2:4 = Zeile 2 und 3 etc.\n",
        "data2 = data.operator != 'Private' # Zeigt die Anzahl Zeilen mit True or Flase\n",
        "data3 = data[data.operator.isin(value_list)] # Nur Zeilen mit Werten aus Liste\n",
        "data4 = data[~data.operator.isin(null_value_list)] # Nur Zeilen mit Werten aus Liste\n",
        "\n",
        "# mit .head werden die ersten 5 Zeilen angezeigt, dass genügt um zu \n",
        "# überprüfen ob er Import funktioniert.\n",
        "data4.head()\n"
      ],
      "execution_count": null,
      "outputs": []
    },
    {
      "cell_type": "code",
      "metadata": {
        "id": "6OPInxUmWooL",
        "colab": {
          "base_uri": "https://localhost:8080/",
          "height": 459
        },
        "outputId": "fd5e7c0e-f817-41a6-8d40-a0cf7b242c76"
      },
      "source": [
        "# Das folgende Beispiel zeigt, wie man mit Pandas Werte in einem Datenset\n",
        "# ändern kann.\n",
        "\n",
        "import pandas as pd # Zuerst muss die Library geladen geladen werden\n",
        "\n",
        "\n",
        "# from .csv\n",
        "data = pd.read_csv(\"https://raw.githubusercontent.com/sakuronohana/my_datascience/master/datasets/plane_crash_data.csv\") # nun lesen wir ein csv\n",
        "\n",
        "# Nachfolgend ersetzen wir einen bestimmten Wert im Dataset durch einen\n",
        "# anderen.\n",
        "\n",
        "data_rep = data.replace('?', 'Unknown')\n",
        "\n",
        "# Mit Replace lassen sich auch mehrer Werte gleichzeitig ersetzen.\n",
        "data['route'] = data['route'].replace(['?','Test flight'],['0','Test Flight']).head(50)\n",
        "\n",
        "# Natürlich können auch Spalten unbenennt werden\n",
        "data.rename(columns={'route':'Route','date':'Datum'}).head()\n",
        "\n"
      ],
      "execution_count": null,
      "outputs": [
        {
          "output_type": "execute_result",
          "data": {
            "text/html": [
              "<div>\n",
              "<style scoped>\n",
              "    .dataframe tbody tr th:only-of-type {\n",
              "        vertical-align: middle;\n",
              "    }\n",
              "\n",
              "    .dataframe tbody tr th {\n",
              "        vertical-align: top;\n",
              "    }\n",
              "\n",
              "    .dataframe thead th {\n",
              "        text-align: right;\n",
              "    }\n",
              "</style>\n",
              "<table border=\"1\" class=\"dataframe\">\n",
              "  <thead>\n",
              "    <tr style=\"text-align: right;\">\n",
              "      <th></th>\n",
              "      <th>Datum</th>\n",
              "      <th>time</th>\n",
              "      <th>location</th>\n",
              "      <th>operator</th>\n",
              "      <th>flight_number</th>\n",
              "      <th>Route</th>\n",
              "      <th>aircraft_type</th>\n",
              "      <th>registration</th>\n",
              "      <th>cn_ln</th>\n",
              "      <th>aboard</th>\n",
              "      <th>fatalities</th>\n",
              "      <th>ground</th>\n",
              "      <th>summary</th>\n",
              "    </tr>\n",
              "  </thead>\n",
              "  <tbody>\n",
              "    <tr>\n",
              "      <th>0</th>\n",
              "      <td>September 17, 1908</td>\n",
              "      <td>17:18</td>\n",
              "      <td>Fort Myer, Virginia</td>\n",
              "      <td>Military - U.S. Army</td>\n",
              "      <td>?</td>\n",
              "      <td>Demonstration</td>\n",
              "      <td>Wright Flyer III</td>\n",
              "      <td>?</td>\n",
              "      <td>1</td>\n",
              "      <td>2   (passengers:1  crew:1)</td>\n",
              "      <td>1   (passengers:1  crew:0)</td>\n",
              "      <td>0</td>\n",
              "      <td>During a demonstration flight, a U.S. Army fly...</td>\n",
              "    </tr>\n",
              "    <tr>\n",
              "      <th>1</th>\n",
              "      <td>September 07, 1909</td>\n",
              "      <td>?</td>\n",
              "      <td>Juvisy-sur-Orge, France</td>\n",
              "      <td>?</td>\n",
              "      <td>?</td>\n",
              "      <td>Air show</td>\n",
              "      <td>Wright Byplane</td>\n",
              "      <td>SC1</td>\n",
              "      <td>?</td>\n",
              "      <td>1   (passengers:0  crew:1)</td>\n",
              "      <td>1   (passengers:0  crew:0)</td>\n",
              "      <td>0</td>\n",
              "      <td>Eugene Lefebvre was the first pilot to ever be...</td>\n",
              "    </tr>\n",
              "    <tr>\n",
              "      <th>2</th>\n",
              "      <td>July 12, 1912</td>\n",
              "      <td>06:30</td>\n",
              "      <td>Atlantic City, New Jersey</td>\n",
              "      <td>Military - U.S. Navy</td>\n",
              "      <td>?</td>\n",
              "      <td>Test Flight</td>\n",
              "      <td>Dirigible</td>\n",
              "      <td>?</td>\n",
              "      <td>?</td>\n",
              "      <td>5   (passengers:0  crew:5)</td>\n",
              "      <td>5   (passengers:0  crew:5)</td>\n",
              "      <td>0</td>\n",
              "      <td>First U.S. dirigible Akron exploded just offsh...</td>\n",
              "    </tr>\n",
              "    <tr>\n",
              "      <th>3</th>\n",
              "      <td>August 06, 1913</td>\n",
              "      <td>?</td>\n",
              "      <td>Victoria, British Columbia, Canada</td>\n",
              "      <td>Private</td>\n",
              "      <td>?</td>\n",
              "      <td>0</td>\n",
              "      <td>Curtiss seaplane</td>\n",
              "      <td>?</td>\n",
              "      <td>?</td>\n",
              "      <td>1   (passengers:0  crew:1)</td>\n",
              "      <td>1   (passengers:0  crew:1)</td>\n",
              "      <td>0</td>\n",
              "      <td>The first fatal airplane accident in Canada oc...</td>\n",
              "    </tr>\n",
              "    <tr>\n",
              "      <th>4</th>\n",
              "      <td>September 09, 1913</td>\n",
              "      <td>c 18:30</td>\n",
              "      <td>Over the North Sea</td>\n",
              "      <td>Military - German Navy</td>\n",
              "      <td>?</td>\n",
              "      <td>0</td>\n",
              "      <td>Zeppelin L-1 (airship)</td>\n",
              "      <td>?</td>\n",
              "      <td>?</td>\n",
              "      <td>20   (passengers:?  crew:?)</td>\n",
              "      <td>14   (passengers:?  crew:?)</td>\n",
              "      <td>0</td>\n",
              "      <td>The airship flew into a thunderstorm and encou...</td>\n",
              "    </tr>\n",
              "  </tbody>\n",
              "</table>\n",
              "</div>"
            ],
            "text/plain": [
              "                Datum  ...                                            summary\n",
              "0  September 17, 1908  ...  During a demonstration flight, a U.S. Army fly...\n",
              "1  September 07, 1909  ...  Eugene Lefebvre was the first pilot to ever be...\n",
              "2       July 12, 1912  ...  First U.S. dirigible Akron exploded just offsh...\n",
              "3     August 06, 1913  ...  The first fatal airplane accident in Canada oc...\n",
              "4  September 09, 1913  ...  The airship flew into a thunderstorm and encou...\n",
              "\n",
              "[5 rows x 13 columns]"
            ]
          },
          "metadata": {
            "tags": []
          },
          "execution_count": 42
        }
      ]
    },
    {
      "cell_type": "code",
      "metadata": {
        "id": "lOuW98XKeeje"
      },
      "source": [
        "# Das folgende Beispiel zeigt, wie man mit Pandas eine neue Spalte erstellt.\n",
        "\n",
        "import pandas as pd # Zuerst muss die Library geladen geladen werden\n",
        "\n",
        "\n",
        "# from .csv\n",
        "data = pd.read_csv(\"https://raw.githubusercontent.com/sakuronohana/my_datascience/master/datasets/plane_crash_data.csv\") # nun lesen wir ein csv\n",
        "\n",
        "# Nachfolgend erstellen wir eine neue Spalte und fügen Werte in die\n",
        "# Datenfelder\n",
        "\n",
        "data['casualties'] = 'n.a'\n",
        "\n",
        "data.head(10)"
      ],
      "execution_count": null,
      "outputs": []
    },
    {
      "cell_type": "code",
      "metadata": {
        "id": "OyH_25YGwWMb"
      },
      "source": [
        "# Das folgende Beispiel zeigt, wie man mit Pandas eine bestehende \n",
        "# Spalte löschen kann.\n",
        "\n",
        "import pandas as pd # Zuerst muss die Library geladen geladen werden\n",
        "\n",
        "\n",
        "# from .csv\n",
        "data = pd.read_csv(\"https://raw.githubusercontent.com/sakuronohana/my_datascience/master/planecrashinfo.csv\") # nun lesen wir ein csv\n",
        "\n",
        "# Nun löschen wir eine Spalte\n",
        "\n"
      ],
      "execution_count": null,
      "outputs": []
    },
    {
      "cell_type": "markdown",
      "metadata": {
        "id": "slK3uZPcqZ4I"
      },
      "source": [
        "**Korrelation**\n",
        "\n",
        "Im Rahmen der Vorbereitungen zur Umsetzung eines ML-Projektes werden die beschafften Daten erkundet und in diesem Zusammenhang visualisiert um eine Korrelation bzw. Beziehung zwischen den verschiedenen Merkmalen herauszufinden."
      ]
    },
    {
      "cell_type": "code",
      "metadata": {
        "id": "oLC74_01rhMU"
      },
      "source": [
        "'''Um eine Korrelation zwischen den Daten optimal zu visualisieren\n",
        "eignet sich die Scatter_matrix von Panda am besten.'''\n",
        "\n",
        "import pandas as pd\n",
        "from pandas.plotting import scatter_matrix\n",
        "\n",
        "housing_data = pd.read_csv('https://raw.githubusercontent.com/ageron/handson-ml/master/datasets/housing/housing.csv')\n",
        "\n",
        "'''Nachfolgend nehmen wir die vier Merkmale aus dem importierten Datensat\n",
        "in welchen wir eine Korrelation suchen möchten'''\n",
        "attributes = [\"median_house_value\", \"median_income\", \"total_rooms\",\n",
        "             \"housing_median_age\"]\n",
        "scatter_matrix(housing_data[attributes], figsize=(12,8))"
      ],
      "execution_count": null,
      "outputs": []
    },
    {
      "cell_type": "markdown",
      "metadata": {
        "id": "SmtvmhWYrtJR"
      },
      "source": [
        "#### Pandas (ab Verison 1.0) ###\n",
        "\n",
        "Die Pandas Version 1.0 bringt noch ein paar neue Funktion mit sich. Die oben beschriebenen Funktionen sind in der neuen Version immer noch verfügbar."
      ]
    },
    {
      "cell_type": "code",
      "metadata": {
        "id": "3epj2NAxskVw"
      },
      "source": [
        "# Installation der neuen Pandas Version\n",
        "\n",
        "!pip3 install --upgrade pandas"
      ],
      "execution_count": null,
      "outputs": []
    },
    {
      "cell_type": "code",
      "metadata": {
        "id": "N-GHbryTtjw4",
        "colab": {
          "base_uri": "https://localhost:8080/",
          "height": 35
        },
        "outputId": "ede953ba-2a83-43c1-b782-1f5c0fb9100d"
      },
      "source": [
        "# Check neue Version\n",
        "\n",
        "import pandas as pd\n",
        "pd.__version__"
      ],
      "execution_count": null,
      "outputs": [
        {
          "output_type": "execute_result",
          "data": {
            "text/plain": [
              "'1.0.1'"
            ]
          },
          "metadata": {
            "tags": []
          },
          "execution_count": 2
        }
      ]
    },
    {
      "cell_type": "code",
      "metadata": {
        "id": "nrWpRwGPuSaB",
        "colab": {
          "base_uri": "https://localhost:8080/",
          "height": 181
        },
        "outputId": "ce856dbe-3839-496d-c4ed-3ef5c6d62065"
      },
      "source": [
        "# Erstellung von Markdown-Tabellen aus Pandas Dataframes #\n",
        "\n",
        "import pandas as pd\n",
        "\n",
        "# Wichtig: Es sollte noch die Python Bibliothek tabulate installiert sein, damit\n",
        "# dieser Code funktioniert. Auf Colab ist diese Library bereits vorinstalliert\n",
        "# Falls nicht einfach \"!pip3 install tabulate in\" in einer Tabelle ausführen. \n",
        "\n",
        "\n",
        "daturl = 'https://raw.githubusercontent.com/sakuronohana/my_datascience/master/datasets/car_data.csv'\n",
        "data = pd.read_csv(daturl, sep=';')\n",
        "\n",
        "# Erstellen wir nun eine Tabelle mit dem Kriterium von 6 Zylindern\n",
        "dattab =data[data['cyl'] == 6][['brand','mpg']]\n",
        "\n",
        "# Nun exportieren wird die Tabelle in eine Markdown-Tabelle\n",
        "print(dattab.to_markdown()) "
      ],
      "execution_count": null,
      "outputs": [
        {
          "output_type": "stream",
          "text": [
            "|    | brand          |   mpg |\n",
            "|---:|:---------------|------:|\n",
            "|  0 | Mazda RX4      |  21   |\n",
            "|  1 | Mazda RX4 Wag  |  21   |\n",
            "|  3 | Hornet 4 Drive |  21.4 |\n",
            "|  5 | Valiant        |  18.1 |\n",
            "|  9 | Merc 280       |  19.2 |\n",
            "| 10 | Merc 280C      |  17.8 |\n",
            "| 29 | Ferrari Dino   |  19.7 |\n"
          ],
          "name": "stdout"
        }
      ]
    },
    {
      "cell_type": "markdown",
      "metadata": {
        "id": "dUByqdLfxuxP"
      },
      "source": [
        "Nun einfach noch den Ouput von vorherigen Code markieren und in eine Text-Zelle kopieren. Als Result erhalten wir nun eine Markdown Tabelle: \n",
        "\n",
        "|    | brand          |   mpg |\n",
        "|---:|:---------------|------:|\n",
        "|  0 | Mazda RX4      |  21   |\n",
        "|  1 | Mazda RX4 Wag  |  21   |\n",
        "|  3 | Hornet 4 Drive |  21.4 |\n",
        "|  5 | Valiant        |  18.1 |\n",
        "|  9 | Merc 280       |  19.2 |\n",
        "| 10 | Merc 280C      |  17.8 |\n",
        "| 29 | Ferrari Dino   |  19.7 |"
      ]
    },
    {
      "cell_type": "code",
      "metadata": {
        "id": "qa8AOLFvz_Wi",
        "colab": {
          "base_uri": "https://localhost:8080/",
          "height": 54
        },
        "outputId": "1ce7b5e2-5cc1-4b22-8b8c-66bdb3fd8fbf"
      },
      "source": [
        "# Datentyp object zu string Konvertieren\n",
        "\n",
        "import pandas as pd\n",
        "daturl = 'https://raw.githubusercontent.com/sakuronohana/my_datascience/master/datasets/car_data.csv'\n",
        "data = pd.read_csv(daturl, sep=';')\n",
        "\n",
        "# nun können wir das Merkmal brand in einen String Datentype konvertieren.\n",
        "print ('Datentyp vor der Konvertierung: ', data.brand.dtypes)\n",
        "\n",
        "print ('Datentyp nach der Konvertierung: ', data.brand.convert_dtypes().dtypes)\n"
      ],
      "execution_count": null,
      "outputs": [
        {
          "output_type": "stream",
          "text": [
            "Datentyp vor der Konvertierung:  object\n",
            "Datentyp nach der Konvertierung:  string\n"
          ],
          "name": "stdout"
        }
      ]
    },
    {
      "cell_type": "markdown",
      "metadata": {
        "id": "gLu6QrG4-1WA"
      },
      "source": [
        "###Numpy###\n",
        "NumPy ist eine Programmbibliothek für die Programmiersprache Python, die eine einfache Handhabung von Vektoren, Matrizen oder generell großen mehrdimensionalen Arrays ermöglicht. Neben den Datenstrukturen bietet NumPy auch effizient implementierte Funktionen für numerische Berechnungen an.\n",
        "\n",
        "Hier noch der Link zum Cheat Sheet Numpy (https://s3.amazonaws.com/assets.datacamp.com/blog_assets/Numpy_Python_Cheat_Sheet.pdf)"
      ]
    },
    {
      "cell_type": "markdown",
      "metadata": {
        "id": "yRD0MLrfR13-"
      },
      "source": [
        "**Arrays in Numpy**\n",
        "\n",
        "Die Hauptspezialität von Numpy ist der Umgang mit Arrays. Arrays sind Listen in welchen sich eine Vielzahl von Werten in einer einzigen Variablen zusammenfassen lassen.  \n",
        "\n",
        "Hier noch einmal zu Erinnerung wie sich die Arrays gestalten:\n",
        "\n",
        "![alt text](https://cdn-images-1.medium.com/max/2000/1*Ikn1J6siiiCSk4ivYUhdgw.png)"
      ]
    },
    {
      "cell_type": "code",
      "metadata": {
        "id": "12_ST2gDRccB"
      },
      "source": [
        "# Nachfolgend ein Beispiel wie einfach Arrays mit Numpy erstellt werden können\n",
        "\n",
        "import numpy as np\n",
        "import matplotlib.pyplot as plt\n",
        "\n",
        "\n",
        "'''Erstellt einen Array mit 3 Zeilen und 5 Spalten aufgefüllt mit Nullen\n",
        "\"a0\" oder Einsen \"a1\"'''\n",
        "a0 = np.zeros([3,5])\n",
        "a1 = np.ones([3,5])\n",
        "\n",
        "'''Hier ein Beispiel eines 1D Array definiert als Integer. Es emfpiehlt sich \n",
        "zur Erstellung von Arrays np.array zu nutzen, da diese Variante speicheroptimierter\n",
        "ist als der herkömmliche array Befehl von Python '''\n",
        "ad1 = np.array([1,2,3,4,5,6,7], dtype = int)\n",
        "\n",
        "'''Hier ein Beispiel eines 2D Array als Dtype String definiert'''\n",
        "ad2 = np.array([(1,2,3,4),('a','b','c','d')], dtype = np.str) # 2D Array\n",
        "print('Hier ein 2D Array:', ad2)\n",
        "\n",
        "# Abfrage der Anzahl Zeilen und Spalten ein Arrays\n",
        "print(\"Der Array hat folgende Anzahl Zeilen,Spalten:\", np.shape(ad2))\n",
        "\n",
        "# Abfrage der Dimension des Arrays\n",
        "print('Der Array hat folgende Anzahl an Dimensionen:',np.ndim(ad2))\n",
        "\n",
        "# Abfrage der Anzahl Datenwerte in einem Array\n",
        "print('Der Array hat folgende Anzahl Datenwerte (Spalte * Zeilen):', np.size(ad2))\n",
        "\n",
        "# Abfrage des Datentypes im Array\n",
        "print('Der Array hat folgenden Datentype definiert:', ad2.dtype.name)\n",
        "\n",
        "''' Ein Array kann auch mit dem Befehl np.arange erstellt werden. Die nachfolgende\n",
        "Codezeile ist so zu verstehen: np.arange ([Start array bei dieser Zahl],\n",
        "[Stop array bei dieser Zahl], [Erstellen den Zahlenrange in dieser Anzahl Schritte])'''\n",
        "np.arange(0,100,5)\n"
      ],
      "execution_count": null,
      "outputs": []
    },
    {
      "cell_type": "code",
      "metadata": {
        "id": "SvUp14YaUTgT"
      },
      "source": [
        "# Reshape eines Arrays\n",
        "arr = np.array([1,2,3,4,5,6,7,8,9,10,11,12,13,14,15])\n",
        "\n",
        "# Ein eindimensionaler Array ist ein Vector. \n",
        "print('Das ist ein Vector: ',arr)\n",
        "\n",
        "''' Wir konventieren nun den Vector in eine Matrix mit dem Befehl np.reshape.\n",
        "dabei ist die erste Zahl immer x (rows) und die zweite Zahl y (columns). \n",
        "Achtung: Ein Reshape funktioniert nur mit der richtigen Anzahl. Bei einem Reshape\n",
        "auf eine 2x3 Matrix muss die Anzahl Werte durch 2 teilbar sein.'''\n",
        "print ('\\n Das ist eine 5 x 3 Matrix:\\n', arr.reshape(5,3))\n",
        "print('\\n Das ist eine 3 x 5 Matrix: \\n', arr.reshape(3,5))\n",
        "\n",
        "'''Wir können eine Matrix bspw. auch mit Nullen füllen. Dazu gibt es einen eigenen \n",
        "Numpy Befehl.'''\n",
        "\n",
        "print ('\\nDas ist eine 5 x 5 Matrix: \\n', np.zeros((5,5)))"
      ],
      "execution_count": null,
      "outputs": []
    },
    {
      "cell_type": "code",
      "metadata": {
        "id": "YAgc3WMEKJNh"
      },
      "source": [
        "''' In den folgenden Beispielen werden wir noch Numpy Operationen kennen-\n",
        "lernen mit welchen man Arrays mutieren kann''' \n",
        "\n",
        "import numpy as np\n",
        "\n",
        "a2d = np.array([(2,4,6),(20,40,60)])\n",
        "\n",
        "'''Die Änderung der Struktur (Shape) eines Arrays kann nur in Zusammenhang mit  \n",
        "einer Erweitung der möglich Datenelemente durchgeführt werden'''\n",
        "\n",
        "np.size(a2d)\n",
        "np.arange(9).reshape(3,3)\n",
        "\n"
      ],
      "execution_count": null,
      "outputs": []
    },
    {
      "cell_type": "code",
      "metadata": {
        "id": "YVuoPfxfSie4"
      },
      "source": [
        "# Numpy eignet sich auch ausgezeichnet zur Erstellung von Zufallszahlen'''\n",
        "\n",
        "import numpy as np\n",
        "import pandas as pd\n",
        "\n",
        "\n",
        "# Erstellung von 1D Array mit Random-Generator von Numpy\n",
        "ard0 = np.random.rand(100,1)\n",
        "\n",
        "# Erstellung 2D Array mit Random-Generator von Numpy\n",
        "ard2 = np.random.rand(100,2)\n",
        "\n",
        "''' Wir können auch gleich ein Dataframe aus dem 2D Array generieren, damit wir\n",
        "wir die Daten in einer Tabelle darstell können'''\n",
        "dfd2 = pd.DataFrame(np.random.rand(100,2), columns = ['Y','X'])\n",
        "\n",
        "dfd2"
      ],
      "execution_count": null,
      "outputs": []
    },
    {
      "cell_type": "code",
      "metadata": {
        "id": "T6zug3pGX-GV"
      },
      "source": [
        "# Wir können auf jedes Element des Arrays zugreifen.\n",
        "\n",
        "import numpy as np\n",
        "\n",
        "a2d = np.array([(1,2,3,4),(10,20,30,40)])\n",
        "print(a2d)\n",
        "\n",
        "# Zugriff auf einen Wert in einer bestimmten Zeile/Spalte\n",
        "print (\"Zugriff auf den Datenwert in der Zeile 0, Spalte 1 gibt den Wert:\", a2d[0,1])\n",
        "\n",
        "# Zugriff auf alle Werte in der Spalte 1\n",
        "a2d[0:,0]\n"
      ],
      "execution_count": null,
      "outputs": []
    },
    {
      "cell_type": "code",
      "metadata": {
        "id": "y_MfDgh4ebsu"
      },
      "source": [
        "# Ein geniale Methode um bestimmte Wert aus einem Array zu löschen geht so :\n",
        "\n",
        "import numpy as np\n",
        "\n",
        "a2d = np.array([(1,2,3,4),(10,20,30,40)])\n",
        "print(a2d)\n",
        "\n",
        "a2d = np.setdiff1d(a2d, 2)\n",
        "print (a2d) # Das 2 wurde gelöscht"
      ],
      "execution_count": null,
      "outputs": []
    },
    {
      "cell_type": "markdown",
      "metadata": {
        "id": "fkQICptMC81U"
      },
      "source": [
        "**Mathematische Operationen mit Numpy**\n",
        "\n",
        "Zu den Kernkompetenzen von Numpy gehören mathematischne Operationen mit Arrays."
      ]
    },
    {
      "cell_type": "code",
      "metadata": {
        "id": "4M4mtM7BE4RQ"
      },
      "source": [
        "\n",
        "import numpy as np\n",
        "import pandas as pd\n",
        "\n",
        "ard2 = np.random.rand(100,2)\n",
        "ard2m = pd.DataFrame(ard2, columns=['X', 'Y'])\n",
        "\n",
        "np.subtract(ard2m)"
      ],
      "execution_count": null,
      "outputs": []
    },
    {
      "cell_type": "markdown",
      "metadata": {
        "id": "8dzOTXKaZoAL"
      },
      "source": [
        "**Spezielle Numpy Funktionen**\n",
        "\n",
        "Numpy hat natürlich unzählige wertvolle  Funktionen. Nachfolgend ein paar Beispiele:"
      ]
    },
    {
      "cell_type": "code",
      "metadata": {
        "id": "6QUSONPcaajI"
      },
      "source": [
        "# Mit Numpy lassen sich randomisierte Daten leicht erzeugen.\n",
        "\n",
        "import pandas as pd\n",
        "import numpy as np\n",
        "\n",
        "# Datenframe erstellen\n",
        "# Startwert für Ergebnisse setzen\n",
        "\n",
        "np.random.seed(25)\n",
        "\n",
        "''' Nachfolgenden wird ein 2D-Array mit 3 Spalten und jeweils 10 Werte\n",
        "generierte'''\n",
        "\n",
        "df = pd.DataFrame(np.random.rand(10, 3), columns = ['A', 'B', 'C'])\n",
        "\n",
        "# Füllt die letzte Zeile mit Not a Number (NaN) Werte auf \n",
        "df.iloc[-1] = np.nan\n",
        "df\n",
        "# Addiert jeweils den Wert 1 und die Felder mit NaN mit zusätzlich 9\n",
        "df.add(1,fill_value = 9)"
      ],
      "execution_count": null,
      "outputs": []
    },
    {
      "cell_type": "markdown",
      "metadata": {
        "id": "eYmhm6e1z295"
      },
      "source": [
        "###MatPlotLib, Seaborn & Co.###\n",
        "\n",
        "Wenn es um die Visualisierung analysierter Daten geht, dann kommt man an MatPlotLib oder Seaborn nicht vorbei. Die Visualisierung lässt sich mit dieser Library sehr einfach bewerkstelligen.\n"
      ]
    },
    {
      "cell_type": "code",
      "metadata": {
        "id": "x4pEH8rlH3Fh"
      },
      "source": [
        "# Im folgenden Plot wird ein Linien-Diagramm definiert\n",
        "\n",
        "import  matplotlib.pyplot as plt\n",
        "\n",
        "# Wir definieren eine Datenrange für die x und y\n",
        "x = [1,2,3]\n",
        "y = [5,7,4]\n",
        "\n",
        "x2 = [1,2,3]\n",
        "y2 = [10,14,12]\n",
        "\n",
        "# Wir \n",
        "plt.plot(x,y, label='First Line') \n",
        "plt.plot(x2,y2, label='Second Line')\n",
        "plt.xlabel('Plot Number')\n",
        "plt.ylabel('Important Var')\n",
        "\n",
        "plt.title('Interesting Graph\\nCheck it out')\n",
        "plt.legend()\n",
        "plt.show()\n"
      ],
      "execution_count": null,
      "outputs": []
    },
    {
      "cell_type": "code",
      "metadata": {
        "id": "_7rw7gb6Fzch"
      },
      "source": [
        "# Es gibt eine einfache Möglichkeit alle Daten in einem Datensatz in sogenannten\n",
        "# Histogramme darzustellen. Mit einem Histogramm lässt sich eine einfache Überblick\n",
        "# über die Datenverteilung pro Spalte erstellen.\n",
        "\n",
        "import pandas as pd\n",
        "import matplotlib.pyplot as plt\n",
        "\n",
        "housing_data = pd.read_csv('https://raw.githubusercontent.com/ageron/handson-ml/master/datasets/housing/housing.csv')\n",
        "\n",
        "housing_data.hist(bins=50, figsize=(20,15))\n",
        "plt.show()"
      ],
      "execution_count": null,
      "outputs": []
    },
    {
      "cell_type": "code",
      "metadata": {
        "id": "xIPQu8aRzJYB"
      },
      "source": [
        "# Ein weiteres Tool für die Visualiserung heist Ploty. Mit Ploty kann man auch gute Dashboards erstellen. https://plot.ly/python/\n",
        "\n",
        "import pandas as pd\n",
        "import plotly.express as px\n",
        "\n",
        "car_data = pd.read_csv('https://raw.githubusercontent.com/sakuronohana/my_datascience/master/datasets/car_data.csv',sep=';')\n",
        "car_data\n",
        "\n",
        "fig = px.scatter(car_data, x='mpg', y='hp', size='mpg', color='brand')\n",
        "fig.show()\n"
      ],
      "execution_count": null,
      "outputs": []
    },
    {
      "cell_type": "code",
      "metadata": {
        "id": "UvhO8ic_bZPK"
      },
      "source": [
        "import pandas as pd\n",
        "import plotly.express as px\n",
        "import datetime\n",
        "\n",
        "# Daten aus der Coronavirus Statistik John Hopkins Universität\n",
        "cv19_conf_url = 'https://raw.githubusercontent.com/CSSEGISandData/COVID-19/master/csse_covid_19_data/csse_covid_19_time_series/time_series_19-covid-Confirmed.csv'\n",
        "cv19_death_url = 'https://raw.githubusercontent.com/CSSEGISandData/COVID-19/master/csse_covid_19_data/csse_covid_19_time_series/time_series_19-covid-Deaths.csv'\n",
        "cv19_recy_url = 'https://raw.githubusercontent.com/CSSEGISandData/COVID-19/master/csse_covid_19_data/csse_covid_19_time_series/time_series_19-covid-Recovered.csv'\n",
        "\n",
        "cv19confdat = pd.read_csv(cv19_conf_url)\n",
        "cv19deathdat = pd.read_csv(cv19_death_url)\n",
        "cv19recy = pd.read_csv(cv19_recy_url)\n",
        "\n",
        "cv19plot = px.scatter_geo(cv19confdat, lat='Lat', lon='Long',color='Country/Region', hover_name='Country/Region')\n",
        "\n",
        "cv19plot\n"
      ],
      "execution_count": null,
      "outputs": []
    },
    {
      "cell_type": "markdown",
      "metadata": {
        "id": "Ud9hPlPoyqDE"
      },
      "source": [
        "###Scikit-Learn###\n",
        "\n",
        "Für das Maschinelle Lernen existieren im Python spezielle Module in welchen bestimmte ML-Modelle bereits abgebildet sind und ein paar Datensets für das Training  hinterlegt sind."
      ]
    },
    {
      "cell_type": "markdown",
      "metadata": {
        "id": "K2ab_3FM1Z8j"
      },
      "source": [
        "####Sample Datasets im Scikit-Learn "
      ]
    },
    {
      "cell_type": "code",
      "metadata": {
        "id": "0v7PEAe7JtTb"
      },
      "source": [
        "# Um ein Datenset mit Hilfe von Scikit zu laden muss wie folgt vorgegangen werden\n",
        "from sklearn import datasets # Ermöglicht Zugriff auf Sample Dataset\n",
        "from sklearn import svm # Läd den Estimator Support vector classifcation\n",
        "iris = datasets.load_iris() # Iris ist ein Sample Dataset von Scikit\n",
        "digits = datasets.load_digits() # Ist ebenfalls ein Sample Dataset\n",
        "\n",
        "clf = svm.SVC(gamma=0.001, C=100.)"
      ],
      "execution_count": null,
      "outputs": []
    },
    {
      "cell_type": "markdown",
      "metadata": {
        "id": "mA7BOCQjF9CK"
      },
      "source": [
        "#### Erstellung eines Train- & Testdatensets####"
      ]
    },
    {
      "cell_type": "markdown",
      "metadata": {
        "id": "VsEagM47IEPh"
      },
      "source": [
        "**Methode mit Zufallsgenerator**"
      ]
    },
    {
      "cell_type": "code",
      "metadata": {
        "id": "YNvKTpA7Ez3D"
      },
      "source": [
        "'''Scikit-Learn eignet sich sehr gut für die Splitung eines Train- & Testdatensets\n",
        "Vorallem überzeugt die sehr einfach Methode der Zufallsgereration welche\n",
        "im Gegensatz zu anderen Methoden immer die gleichen Sets generiert.''' \n",
        "\n",
        "import pandas as pd\n",
        "from sklearn.model_selection import train_test_split\n",
        "\n",
        "housing_data = pd.read_csv('https://raw.githubusercontent.com/ageron/handson-ml/master/datasets/housing/housing.csv')\n",
        "\n",
        "'''In dieser Funktion erstellen wir ein Trainings- und Testset aus den\n",
        "aus den geladenen Daten. \n",
        "\n",
        "Der Wert test_size=0.2 representiert 20%, bedeutet also das 20% der bestehenden \n",
        "Daten als Testset verwendet wird. Der Wert random_state definiert den Seed\n",
        "und garantiert, dass immer das gleiche Testset generiert wird. Wird der Wert\n",
        "geändert dann verändert sich auch das Testset.'''\n",
        "\n",
        "train_set, test_set = train_test_split(housing_data, test_size=0.2, random_state=42)\n",
        "\n",
        "print(len(train_set),len(test_set))\n",
        "\n",
        "train_set.head()\n",
        "\n",
        "# Der Vorteil dieser Methode ist, das ein gleichbleibende Zufallauswahl von \n",
        "# Testdaten generiert wird. Der Nachteil ist, dass wir nicht wissen wie aus \n",
        "# Sicht der Merkmale das Datenset aufgeteilt wurden. Da es bei einer einseitigen\n",
        "# Verteilung eines kleinen Datensets wie diesem zu erhebelichem Stichproben-\n",
        "# Bias kommen kann\n"
      ],
      "execution_count": null,
      "outputs": []
    },
    {
      "cell_type": "markdown",
      "metadata": {
        "id": "ZgwIrcjEIS0v"
      },
      "source": [
        "**Methode mit merkmalbasierter Auswahl**"
      ]
    },
    {
      "cell_type": "code",
      "metadata": {
        "id": "gKQjM1FtIhgs"
      },
      "source": [
        "'''Im folgenden Beispiel generieren wir Train- & Testdatenset aus Merkmalen\n",
        "um einen Stichproben-Bias zu vermeiden.'''\n",
        "\n",
        "import pandas as pd\n",
        "import numpy as np\n",
        "from sklearn.model_selection import StratifiedShuffleSplit\n",
        "\n",
        "housing_data = pd.read_csv('https://raw.githubusercontent.com/ageron/handson-ml/master/datasets/housing/housing.csv')\n",
        "\n",
        "'''Zuerst erstellen wir eine kategorisches Merkmal für das Einkommen indem\n",
        "wir das mittlere Einkommen (median_income) durch 1.5 teilen damit wir die Anzahl\n",
        "der Einkommenskategorien begrenzt'''\n",
        "\n",
        "housing_data[\"income_cat\"] = np.ceil(housing_data[\"median_income\"] / 1.5)\n",
        "housing_data[\"income_cat\"].where(housing_data[\"income_cat\"] < 5, 5.0, inplace=True)\n",
        "\n",
        "\n",
        "split = StratifiedShuffleSplit(n_splits=1, test_size=0.2, random_state=42)\n",
        "for train_index, test_index in split.split(housing_data, housing_data[\"income_cat\"]):\n",
        "  strat_train_set = housing_data.loc[train_index]\n",
        "  strat_test_set = housing_data.loc[test_index]\n",
        "\n",
        "housing_data[\"income_cat\"].value_counts() / len(housing_data)\n",
        "\n"
      ],
      "execution_count": null,
      "outputs": []
    },
    {
      "cell_type": "markdown",
      "metadata": {
        "id": "5TF8Z6afHZpm"
      },
      "source": [
        "##Feature Engineering##\n",
        "\n",
        "Ein wichtiger Aspekt der Datenaufbereitung ist das Verstehen der Daten uns deren Beziehungen. \n",
        "Nachfolgenden ein paar unerlässliche Operationen in Bezug auf die Datenaufbereitung. Wir werden hierzu Pandas verwenden."
      ]
    },
    {
      "cell_type": "markdown",
      "metadata": {
        "id": "DZiyhxqvuE4s"
      },
      "source": [
        "###Extract, Transfer and Load (ETL)###\n",
        "\n",
        "Im nachfolgenden Beispiel werden werden wir folgende Schritte ausführen:\n",
        "\n",
        "1.   Verschiedene Datensätze aus CSV's laden\n",
        "2.   Die Datensätze vergleichen\n",
        "3.   Features aus verschiedenen Datensätzen zusammenführen\n",
        "4.   Die Zusammengeführten Datensätze wieder in ein CSV exportieren.\n",
        "\n"
      ]
    },
    {
      "cell_type": "code",
      "metadata": {
        "id": "z7hK6Wfjt4Ki"
      },
      "source": [
        "#Zwei Datensätze laden#\n",
        "\n",
        "import pandas as pd\n",
        "import numpy as np\n",
        "import datetime\n",
        "\n",
        "daturl = 'https://raw.githubusercontent.com/sakuronohana/my_datascience/master/plane_crash_data.csv'\n",
        "\n",
        "dimport1 = pd.DataFrame(pd.read_csv(daturl))\n",
        "dimport2 = pd.DataFrame(pd.read_csv(daturl))\n"
      ],
      "execution_count": null,
      "outputs": []
    },
    {
      "cell_type": "code",
      "metadata": {
        "id": "AOYc-XiRxHP_"
      },
      "source": [
        "# Datensätze vergleichen #\n",
        "\n",
        "# Datentypen und Features prüfen\n",
        "# dimport1.info()\n",
        "# dimport2.info()\n",
        "\n",
        "# Datentypen wie Datum und Zeit anpassen\n",
        "dimport1['date'] = pd.to_datetime(dimport1['date']).dt.strftime('%d.%m.%Y')\n",
        "\n",
        "# Bestimmte Werte ersetzen\n",
        "dimport1 = dimport1.replace(to_replace='?', value ='')\n",
        "\n",
        "# Bestimmter Wert in Spalte suchen\n",
        "dimport1[dimport1['time'].str.contains('c', na=False)]# mit na=False werden NAN Werte ignoriert\n",
        "#dimport1[dimport1['time'].str.replace('c','')]\n",
        "\n",
        "         \n",
        "#dimport1['time'] = pd.Timestamp(dimport1['time']).time('%m:%h')"
      ],
      "execution_count": null,
      "outputs": []
    },
    {
      "cell_type": "markdown",
      "metadata": {
        "id": "37puETfgRzzg"
      },
      "source": [
        "## Data Preprocessing Tools"
      ]
    },
    {
      "cell_type": "markdown",
      "metadata": {
        "id": "EoRP98MpR-qj"
      },
      "source": [
        "### Importing the libraries\n",
        "\n"
      ]
    },
    {
      "cell_type": "code",
      "metadata": {
        "id": "5cfa1xi08LGr"
      },
      "source": [
        "import numpy as np\n",
        "import pandas as pd\n",
        "import matplotlib.pyplot as plt\n"
      ],
      "execution_count": null,
      "outputs": []
    },
    {
      "cell_type": "markdown",
      "metadata": {
        "id": "RopL7tUZSQkT"
      },
      "source": [
        "### Importing the dataset"
      ]
    },
    {
      "cell_type": "code",
      "metadata": {
        "id": "udp0ENgV8YXh"
      },
      "source": [
        "daturl = 'https://raw.githubusercontent.com/sakuronohana/my_datascience/master/udemy/mlaz/Part%201%20-%20Data%20Preprocessing/Python/Data.csv'\n",
        "\n",
        "dataset = pd.read_csv(daturl)"
      ],
      "execution_count": null,
      "outputs": []
    },
    {
      "cell_type": "markdown",
      "metadata": {
        "id": "Kr-QORvy89Q7"
      },
      "source": [
        "#### Selecting data\n",
        "\n",
        "Wenn wir Supervised Learning durchführen, dann besteht der Datensatz meist aus einem **Label** (y, abhängigen Variable / dependent Variable) und den **Merkmalen** (Features, X, unabhängigen Variablen / independent Variables).\n",
        "Es ist Standard, das in einem Datensatz das Label meist in der hintersten Spalte ist.\n",
        "\n",
        "Wir importieren nun die die Labels und Features in verschieden Matrixen"
      ]
    },
    {
      "cell_type": "code",
      "metadata": {
        "id": "g2M044_d-3Ag"
      },
      "source": [
        "X = dataset.iloc[:,:-1].values # Erste Doppelpunkt ist der Range mit Rows und zweiter Doppelpunkt der Range mit Columns. Mit Values erstellen wir eine Matrix mit den Werten ohne Header\n",
        "y = dataset.iloc[:,-1].values"
      ],
      "execution_count": null,
      "outputs": []
    },
    {
      "cell_type": "code",
      "metadata": {
        "id": "tk75msSU_578"
      },
      "source": [
        "print('Hier sind die Labels:',y)\n",
        "print('Hier sind die Features:\\n',X)"
      ],
      "execution_count": null,
      "outputs": []
    },
    {
      "cell_type": "markdown",
      "metadata": {
        "id": "nhfKXNxlSabC"
      },
      "source": [
        "### Taking care of missing data\n",
        "\n",
        "Es kommt des öfteren vor, dass in einem Datensatz Werte fehlen. Die Art und Weise wie man mit fehlenden Daten umgeht ist unterschiedlich und geht von den Werten ersetzen (mit Mean, Median usw.) bis löschen, was bei einem grossen Datensatz meist kein Problem darstellt jedoch bei einem kleinen schon.\n",
        "\n",
        "Im folgenden Beispiel werden wir die fehlenden Werte mittels arithm. Mittelwert ersetzen. Dazu verwenden wir eines der beliebtesten ML Tools **scikit-learn**. "
      ]
    },
    {
      "cell_type": "code",
      "metadata": {
        "id": "y2MLiqLRCGA7",
        "colab": {
          "base_uri": "https://localhost:8080/",
          "height": 359
        },
        "outputId": "8eec01d0-948a-4401-9b60-cc7e4db48f4c"
      },
      "source": [
        "# Schauen wir mal zuerst wo wir fehlende Wert haben\n",
        "dataset.isna()"
      ],
      "execution_count": null,
      "outputs": [
        {
          "output_type": "execute_result",
          "data": {
            "text/html": [
              "<div>\n",
              "<style scoped>\n",
              "    .dataframe tbody tr th:only-of-type {\n",
              "        vertical-align: middle;\n",
              "    }\n",
              "\n",
              "    .dataframe tbody tr th {\n",
              "        vertical-align: top;\n",
              "    }\n",
              "\n",
              "    .dataframe thead th {\n",
              "        text-align: right;\n",
              "    }\n",
              "</style>\n",
              "<table border=\"1\" class=\"dataframe\">\n",
              "  <thead>\n",
              "    <tr style=\"text-align: right;\">\n",
              "      <th></th>\n",
              "      <th>Country</th>\n",
              "      <th>Age</th>\n",
              "      <th>Salary</th>\n",
              "      <th>Purchased</th>\n",
              "    </tr>\n",
              "  </thead>\n",
              "  <tbody>\n",
              "    <tr>\n",
              "      <th>0</th>\n",
              "      <td>False</td>\n",
              "      <td>False</td>\n",
              "      <td>False</td>\n",
              "      <td>False</td>\n",
              "    </tr>\n",
              "    <tr>\n",
              "      <th>1</th>\n",
              "      <td>False</td>\n",
              "      <td>False</td>\n",
              "      <td>False</td>\n",
              "      <td>False</td>\n",
              "    </tr>\n",
              "    <tr>\n",
              "      <th>2</th>\n",
              "      <td>False</td>\n",
              "      <td>False</td>\n",
              "      <td>False</td>\n",
              "      <td>False</td>\n",
              "    </tr>\n",
              "    <tr>\n",
              "      <th>3</th>\n",
              "      <td>False</td>\n",
              "      <td>False</td>\n",
              "      <td>False</td>\n",
              "      <td>False</td>\n",
              "    </tr>\n",
              "    <tr>\n",
              "      <th>4</th>\n",
              "      <td>False</td>\n",
              "      <td>False</td>\n",
              "      <td>True</td>\n",
              "      <td>False</td>\n",
              "    </tr>\n",
              "    <tr>\n",
              "      <th>5</th>\n",
              "      <td>False</td>\n",
              "      <td>False</td>\n",
              "      <td>False</td>\n",
              "      <td>False</td>\n",
              "    </tr>\n",
              "    <tr>\n",
              "      <th>6</th>\n",
              "      <td>False</td>\n",
              "      <td>True</td>\n",
              "      <td>False</td>\n",
              "      <td>False</td>\n",
              "    </tr>\n",
              "    <tr>\n",
              "      <th>7</th>\n",
              "      <td>False</td>\n",
              "      <td>False</td>\n",
              "      <td>False</td>\n",
              "      <td>False</td>\n",
              "    </tr>\n",
              "    <tr>\n",
              "      <th>8</th>\n",
              "      <td>False</td>\n",
              "      <td>False</td>\n",
              "      <td>False</td>\n",
              "      <td>False</td>\n",
              "    </tr>\n",
              "    <tr>\n",
              "      <th>9</th>\n",
              "      <td>False</td>\n",
              "      <td>False</td>\n",
              "      <td>False</td>\n",
              "      <td>False</td>\n",
              "    </tr>\n",
              "  </tbody>\n",
              "</table>\n",
              "</div>"
            ],
            "text/plain": [
              "   Country    Age  Salary  Purchased\n",
              "0    False  False   False      False\n",
              "1    False  False   False      False\n",
              "2    False  False   False      False\n",
              "3    False  False   False      False\n",
              "4    False  False    True      False\n",
              "5    False  False   False      False\n",
              "6    False   True   False      False\n",
              "7    False  False   False      False\n",
              "8    False  False   False      False\n",
              "9    False  False   False      False"
            ]
          },
          "metadata": {
            "tags": []
          },
          "execution_count": 6
        }
      ]
    },
    {
      "cell_type": "code",
      "metadata": {
        "id": "FVb4RJ42C6bS"
      },
      "source": [
        "# Um alle fehlenden Werte in den Features zu ersetzen verwenden wir SimpleImputer\n",
        "from sklearn.impute import SimpleImputer\n",
        "\n",
        "# Zuerst ersellen eine Instanz der Klasse SimpleImputer\n",
        "imputer = SimpleImputer(missing_values=np.nan, strategy='mean') # Der erste Wert in der Klammer bedeutet, was wir ersetzen und der zweite Wert mit was\n",
        "\n",
        "# Nun benötigen wir noch eine Funktion mit welcher wir die Klasse auf unseren Datensatz anwenden können. Hierzu steht die Funktion fit\n",
        "imputer.fit(X[:,1:3]) #im Datensatz werden wir in allen nummerischen Features nach fehlendne Werten suchen\n",
        "\n",
        "# Nachfolgend führe wir nun die Transformation des Datensatzes durch\n",
        "X[:,1:3] = imputer.transform(X[:,1:3]) #Die Änderungen werden direkt im Datensatz durchgeführt"
      ],
      "execution_count": null,
      "outputs": []
    },
    {
      "cell_type": "code",
      "metadata": {
        "id": "s5HAiLbYi5XS",
        "colab": {
          "base_uri": "https://localhost:8080/",
          "height": 187
        },
        "outputId": "5299be0d-ea25-43c3-a5e5-c2c5eb90ed2a"
      },
      "source": [
        "print(X)"
      ],
      "execution_count": null,
      "outputs": [
        {
          "output_type": "stream",
          "text": [
            "[['France' 44.0 72000.0]\n",
            " ['Spain' 27.0 48000.0]\n",
            " ['Germany' 30.0 54000.0]\n",
            " ['Spain' 38.0 61000.0]\n",
            " ['Germany' 40.0 63777.77777777778]\n",
            " ['France' 35.0 58000.0]\n",
            " ['Spain' 38.77777777777778 52000.0]\n",
            " ['France' 48.0 79000.0]\n",
            " ['Germany' 50.0 83000.0]\n",
            " ['France' 37.0 67000.0]]\n"
          ],
          "name": "stdout"
        }
      ]
    },
    {
      "cell_type": "markdown",
      "metadata": {
        "id": "CriG6VzVSjcK"
      },
      "source": [
        "### Encoding categorical data\n",
        "\n",
        "Ein Machine Learning Algorithmus kann mit kategorische Werten nicht umgehen, weshalb diese in einem speziellen Verfahren, dass sich Encoding nennt, in nummerische Werte umgewandelt werden müssen.\n",
        "\n",
        "Das OneHot-Encoding wandelt alle gleiche Features in einen spezifischen Vektor um.\n"
      ]
    },
    {
      "cell_type": "markdown",
      "metadata": {
        "id": "AhSpdQWeSsFh"
      },
      "source": [
        "#### Encoding the Independent Variable"
      ]
    },
    {
      "cell_type": "code",
      "metadata": {
        "id": "w_4poE7X9KAL"
      },
      "source": [
        "# Wir Laden nun das entsprechende Modul von Scikit-learn\n",
        "from sklearn.compose import ColumnTransformer\n",
        "from sklearn.preprocessing import OneHotEncoder\n",
        "\n",
        "# Nun erstellen wir eine Klasse und speichern diese direkt in einer Funktion\n",
        "ct = ColumnTransformer(transformers=[('encoder',OneHotEncoder(),[0])], remainder='passthrough') # Erstes Argument ist der Encoder mit der Spalte, zweites Argument ignoriert die restlichen Spalten\n",
        "X = np.array(ct.fit_transform(X)) # ML Algorithmen erwarten grundsätzlich immer eine Array weshalb wir die neuen Spalten auch entsprechendn konvertieren müssen"
      ],
      "execution_count": null,
      "outputs": []
    },
    {
      "cell_type": "code",
      "metadata": {
        "id": "FjHv9MN7gLsX",
        "colab": {
          "base_uri": "https://localhost:8080/",
          "height": 204
        },
        "outputId": "d9cc3af6-8ad2-433e-c257-99216af2449f"
      },
      "source": [
        "print('Unser kategorischen Fearture Country besteht nun aus 3 Spalten und wurde transformiert in ein für die Machine lesbares Format \\n', X)"
      ],
      "execution_count": null,
      "outputs": [
        {
          "output_type": "stream",
          "text": [
            "Unser kategorischen Fearture Country besteht nun aus 3 Spalten und wurde transformiert in ein für die Machine lesbares Format \n",
            " [[1.0 0.0 0.0 44.0 72000.0]\n",
            " [0.0 0.0 1.0 27.0 48000.0]\n",
            " [0.0 1.0 0.0 30.0 54000.0]\n",
            " [0.0 0.0 1.0 38.0 61000.0]\n",
            " [0.0 1.0 0.0 40.0 63777.77777777778]\n",
            " [1.0 0.0 0.0 35.0 58000.0]\n",
            " [0.0 0.0 1.0 38.77777777777778 52000.0]\n",
            " [1.0 0.0 0.0 48.0 79000.0]\n",
            " [0.0 1.0 0.0 50.0 83000.0]\n",
            " [1.0 0.0 0.0 37.0 67000.0]]\n"
          ],
          "name": "stdout"
        }
      ]
    },
    {
      "cell_type": "markdown",
      "metadata": {
        "id": "DXh8oVSITIc6"
      },
      "source": [
        "#### Encoding the Dependent Variable\n",
        "\n",
        "Nun Kodieren wir noch den Label-Datensatz. Dieses Encoding ist leicht anders als das von X, da wir beim Label nur zwei Zustände (Yes/No) haben. Weshalb wir hier mit dem sogenannten Label Encoding arbeiten können.  "
      ]
    },
    {
      "cell_type": "code",
      "metadata": {
        "id": "xtd3fhDmjgeM"
      },
      "source": [
        "from sklearn.preprocessing import LabelEncoder\n",
        "\n",
        "le = LabelEncoder() # Erstellen einer Klasse\n",
        "y = le.fit_transform(y) # Da beim LabelEncoding keine zusätzlichen Spalten hinzugefügt werden muss hier kein Array erstellt werden."
      ],
      "execution_count": null,
      "outputs": []
    },
    {
      "cell_type": "code",
      "metadata": {
        "id": "uy-c4CILkWIj",
        "colab": {
          "base_uri": "https://localhost:8080/",
          "height": 34
        },
        "outputId": "9236ce56-2b34-4a4a-8e32-9a7c8ed8d499"
      },
      "source": [
        "print(y)"
      ],
      "execution_count": null,
      "outputs": [
        {
          "output_type": "stream",
          "text": [
            "[0 1 0 0 1 1 0 1 0 1]\n"
          ],
          "name": "stdout"
        }
      ]
    },
    {
      "cell_type": "markdown",
      "metadata": {
        "id": "qb_vcgm3qZKW"
      },
      "source": [
        "### Splitting the dataset into the Training set and Test set\n",
        "\n",
        "Nun müssen wir noch die Datensätze X und y in einen Trainings- und Testdatensatz aufteilen. Hierzu hat Scikit Learn ebensfalls ein entsprechendens Tool zur Hand. Die allerseits gängige Grösse des Splits ist 80/20 d.h. 80% Trainingsdaten 20% Testdaten.\n",
        "\n",
        "An dieser Stelle möchten wir noch eine wichtige Frage klären. Teilen wir einen Datensatz vor oder nach dem Feature Scaling in jeweils ein Trainings- und Testset auf? Die Antwort ist ganz einfach. **Vor dem Feature Scaling**\n",
        "\n",
        "Der Grund dafür ist eben so einfach wie die Antwort. Wir wollen, dass die Testdaten nicht in der gleichen Art skaliert werden wie die Trainingsdaten. Würde wir den umgekehrten Weg beschreiten, dann könntes es zu einem sogenannten [Data Leakage](https://machinelearningmastery.com/data-leakage-machine-learning/) führen. "
      ]
    },
    {
      "cell_type": "code",
      "metadata": {
        "id": "QQmRKolLlqxW"
      },
      "source": [
        "from sklearn.model_selection import train_test_split\n",
        "\n",
        "'''\n",
        "Nachfolgend teilen wir die Datensätze in Traing und Test auf, dabei definieren wir alle Variablen X_train usw.\n",
        "geben in den Argumenten mit, welche Datensatz wir spliten, wie gross der Testset sein wird und mit welchem Random Seed\n",
        "wir arbeiten.\n",
        "'''\n",
        "X_train,X_test,y_train,y_test = train_test_split(X,y, test_size = 0.2, random_state = 1 )"
      ],
      "execution_count": null,
      "outputs": []
    },
    {
      "cell_type": "code",
      "metadata": {
        "id": "R_kWRhMjq9nb",
        "colab": {
          "base_uri": "https://localhost:8080/",
          "height": 187
        },
        "outputId": "f95a3654-c91d-4970-a324-fd206dc1cf95"
      },
      "source": [
        "print(X_train, X_test)\n",
        "print(y_train,y_test)"
      ],
      "execution_count": null,
      "outputs": [
        {
          "output_type": "stream",
          "text": [
            "[[0.0 0.0 1.0 38.77777777777778 52000.0]\n",
            " [0.0 1.0 0.0 40.0 63777.77777777778]\n",
            " [1.0 0.0 0.0 44.0 72000.0]\n",
            " [0.0 0.0 1.0 38.0 61000.0]\n",
            " [0.0 0.0 1.0 27.0 48000.0]\n",
            " [1.0 0.0 0.0 48.0 79000.0]\n",
            " [0.0 1.0 0.0 50.0 83000.0]\n",
            " [1.0 0.0 0.0 35.0 58000.0]] [[0.0 1.0 0.0 30.0 54000.0]\n",
            " [1.0 0.0 0.0 37.0 67000.0]]\n",
            "[0 1 0 0 1 1 0 1] [0 1]\n"
          ],
          "name": "stdout"
        }
      ]
    },
    {
      "cell_type": "markdown",
      "metadata": {
        "id": "TpGqbS4TqkIR"
      },
      "source": [
        "### Feature Scaling\n",
        "\n",
        "Nun kommen wir zu einem anderen wichtigen Thema der Datenvorbereitung - Feature Scaling.\n",
        "\n",
        "Ziel der Skalierung ist es zu verhindern, dass während der ML Trainingsphase die einen Features nicht zu stark von den anderen Features dominiert bzw. ignoriert werden. Hierbei ist noch zu erwähnen, dass nicht bei allen ML Methoden eine Skalierung der Daten notwendig ist.\n",
        "\n",
        "Es gibt zwei hauptsächliche Feature Scaling Methoden:\n",
        "\n",
        "* Standardisierung - Transformiert die Daten in Werte -1 + 1. Diese Methode kann in den meisten der Datensätze angewendet werden. Somit gehört sie zu den beliebtesten Methoden.\n",
        "* Normalisierung - Transformiert die Daten in Werte von 0 - 1. Diese Methode ist nur dann zulässig, wenn eine Normalverteilung im Datensatz besteht.\n",
        "\n",
        "In diesem Zusammenhang gibt es noch eine wichtige Frage zu klären. \n",
        "**Muss man Feature Scaling auch auf die kodierten kategorischen Features anwenden?** die Antwort auch hier ist ganz einfach - **Nein**. Diese kodierten kategorischen Features sind ja bereits in Dummy-Werten von 0 und 1 umgewandelt worden. Würde wir diese noch einmal umwandeln, dann bekommen wir jedesmal komische Werte, mittels denen wir ja die ursprünglichen Zuordnung nicht mehr machen könnten.\n",
        "\n",
        "#### Bedeutung von fit und transform\n",
        "\n",
        "Im Zusammenhang mit der Standardskalierung von Trainings- und Testdaten ist es wichtig den Unterschied zwischen der Funktion fit und transform zu wissen:\n",
        "\n",
        "\"fit\" berechnet den Mittelwert und den Standard, die für die spätere Skalierung verwendet werden sollen. (nur eine Berechnung), dir wird nichts gegeben .\n",
        "\n",
        "\"transform\" verwendet einen zuvor berechneten Mittelwert und Standard, um die Daten automatisch zu skalieren (Mittelwert von allen Werten subtrahieren und dann durch Standard dividieren).\n",
        "\n",
        "\"fit_transform\" macht beides gleichzeitig. Sie können dies also mit 1 Codezeile anstelle von 2 tun.\n",
        "\n",
        "Schauen wir uns das jetzt in der Praxis an:\n",
        "\n",
        "Für den X-Trainingssatz führen wir \"fit_transform\" aus, da wir Mittelwert und Standard berechnen und dann zur automatischen Skalierung der Daten verwenden müssen. Für den X- Testsatz haben wir bereits den Mittelwert und den Standard, also machen wir nur den Teil \"transformieren\".\n"
      ]
    },
    {
      "cell_type": "code",
      "metadata": {
        "id": "I33aV5zuuK2V"
      },
      "source": [
        "from sklearn.preprocessing import StandardScaler\n",
        "\n",
        "sc = StandardScaler() # Wir erstellen wie gewohnt eine Klasse\n",
        "\n",
        "\n",
        "X_train[:,3:] = sc.fit_transform(X_train[:,3:]) #fit holt die erforderlichen Werte wie Mean und SD, Transform macht die Standardisierung\n",
        "\n",
        "X_test[:,3:] = sc.transform(X_test[:,3:]) "
      ],
      "execution_count": null,
      "outputs": []
    },
    {
      "cell_type": "code",
      "metadata": {
        "id": "Q5imIMo-K7up",
        "colab": {
          "base_uri": "https://localhost:8080/",
          "height": 187
        },
        "outputId": "77a506b8-4ebf-4330-dbf5-4f0a58774ae4"
      },
      "source": [
        "print(X_train)\n",
        "print(X_test)"
      ],
      "execution_count": null,
      "outputs": [
        {
          "output_type": "stream",
          "text": [
            "[[0.0 0.0 1.0 -0.1915918438457856 -1.0781259408412427]\n",
            " [0.0 1.0 0.0 -0.014117293757057902 -0.07013167641635401]\n",
            " [1.0 0.0 0.0 0.5667085065333239 0.6335624327104546]\n",
            " [0.0 0.0 1.0 -0.3045301939022488 -0.30786617274297895]\n",
            " [0.0 0.0 1.0 -1.901801144700799 -1.4204636155515822]\n",
            " [1.0 0.0 0.0 1.1475343068237056 1.2326533634535488]\n",
            " [0.0 1.0 0.0 1.4379472069688966 1.5749910381638883]\n",
            " [1.0 0.0 0.0 -0.7401495441200352 -0.5646194287757336]]\n",
            "[[0.0 1.0 0.0 30.0 54000.0]\n",
            " [1.0 0.0 0.0 37.0 67000.0]]\n"
          ],
          "name": "stdout"
        }
      ]
    },
    {
      "cell_type": "markdown",
      "metadata": {
        "id": "bZvuSyQHzVDv"
      },
      "source": [
        "## Python mit GUI ##\n",
        "\n",
        "Auch mit Python besteht die Möglichkeit eine Benutzeroberfläche zu gestallten. Ob wohl dies bei der normalen Data Science Arbeit nicht zwingend notwendig ist, ist das Wissen hier zu dennoch nützlich.\n",
        "\n",
        "Nachfolgend wird die einer oder andere Library vorgestellt. "
      ]
    },
    {
      "cell_type": "markdown",
      "metadata": {
        "id": "bdMYJSkS0Z8H"
      },
      "source": [
        "#### Ipywidgets ####\n",
        "\n",
        "Ist eine Library für Python mit welcher man Widgets [witschet] (Button, Dropdowns usw.) im Jupyter Notebook erstellen kann. Hier eine detailierte Anleitung [Link](https://towardsdatascience.com/bring-your-jupyter-notebook-to-life-with-interactive-widgets-bc12e03f0916). \n",
        "\n",
        "Eine Übersicht aller Widgets findet man unter diesem [Link](https://ipywidgets.readthedocs.io/en/stable/examples/Widget%20List.html) "
      ]
    },
    {
      "cell_type": "code",
      "metadata": {
        "id": "CUhZyrcp0yaC",
        "colab": {
          "base_uri": "https://localhost:8080/"
        },
        "outputId": "e743bde7-ea62-43ff-d18f-950d62b7c4c4"
      },
      "source": [
        "# Installation von Bamboolib \n",
        "\n",
        "!pip install ipywidgets"
      ],
      "execution_count": 3,
      "outputs": [
        {
          "output_type": "stream",
          "text": [
            "Requirement already satisfied: ipywidgets in /usr/local/lib/python3.7/dist-packages (7.6.3)\n",
            "Requirement already satisfied: widgetsnbextension~=3.5.0 in /usr/local/lib/python3.7/dist-packages (from ipywidgets) (3.5.1)\n",
            "Requirement already satisfied: jupyterlab-widgets>=1.0.0; python_version >= \"3.6\" in /usr/local/lib/python3.7/dist-packages (from ipywidgets) (1.0.0)\n",
            "Requirement already satisfied: traitlets>=4.3.1 in /usr/local/lib/python3.7/dist-packages (from ipywidgets) (5.0.5)\n",
            "Requirement already satisfied: ipython>=4.0.0; python_version >= \"3.3\" in /usr/local/lib/python3.7/dist-packages (from ipywidgets) (5.5.0)\n",
            "Requirement already satisfied: nbformat>=4.2.0 in /usr/local/lib/python3.7/dist-packages (from ipywidgets) (5.1.2)\n",
            "Requirement already satisfied: ipykernel>=4.5.1 in /usr/local/lib/python3.7/dist-packages (from ipywidgets) (4.10.1)\n",
            "Requirement already satisfied: notebook>=4.4.1 in /usr/local/lib/python3.7/dist-packages (from widgetsnbextension~=3.5.0->ipywidgets) (5.3.1)\n",
            "Requirement already satisfied: ipython-genutils in /usr/local/lib/python3.7/dist-packages (from traitlets>=4.3.1->ipywidgets) (0.2.0)\n",
            "Requirement already satisfied: decorator in /usr/local/lib/python3.7/dist-packages (from ipython>=4.0.0; python_version >= \"3.3\"->ipywidgets) (4.4.2)\n",
            "Requirement already satisfied: setuptools>=18.5 in /usr/local/lib/python3.7/dist-packages (from ipython>=4.0.0; python_version >= \"3.3\"->ipywidgets) (54.1.2)\n",
            "Requirement already satisfied: prompt-toolkit<2.0.0,>=1.0.4 in /usr/local/lib/python3.7/dist-packages (from ipython>=4.0.0; python_version >= \"3.3\"->ipywidgets) (1.0.18)\n",
            "Requirement already satisfied: pygments in /usr/local/lib/python3.7/dist-packages (from ipython>=4.0.0; python_version >= \"3.3\"->ipywidgets) (2.6.1)\n",
            "Requirement already satisfied: simplegeneric>0.8 in /usr/local/lib/python3.7/dist-packages (from ipython>=4.0.0; python_version >= \"3.3\"->ipywidgets) (0.8.1)\n",
            "Requirement already satisfied: pickleshare in /usr/local/lib/python3.7/dist-packages (from ipython>=4.0.0; python_version >= \"3.3\"->ipywidgets) (0.7.5)\n",
            "Requirement already satisfied: pexpect; sys_platform != \"win32\" in /usr/local/lib/python3.7/dist-packages (from ipython>=4.0.0; python_version >= \"3.3\"->ipywidgets) (4.8.0)\n",
            "Requirement already satisfied: jsonschema!=2.5.0,>=2.4 in /usr/local/lib/python3.7/dist-packages (from nbformat>=4.2.0->ipywidgets) (2.6.0)\n",
            "Requirement already satisfied: jupyter-core in /usr/local/lib/python3.7/dist-packages (from nbformat>=4.2.0->ipywidgets) (4.7.1)\n",
            "Requirement already satisfied: tornado>=4.0 in /usr/local/lib/python3.7/dist-packages (from ipykernel>=4.5.1->ipywidgets) (5.1.1)\n",
            "Requirement already satisfied: jupyter-client in /usr/local/lib/python3.7/dist-packages (from ipykernel>=4.5.1->ipywidgets) (5.3.5)\n",
            "Requirement already satisfied: Send2Trash in /usr/local/lib/python3.7/dist-packages (from notebook>=4.4.1->widgetsnbextension~=3.5.0->ipywidgets) (1.5.0)\n",
            "Requirement already satisfied: jinja2 in /usr/local/lib/python3.7/dist-packages (from notebook>=4.4.1->widgetsnbextension~=3.5.0->ipywidgets) (2.11.3)\n",
            "Requirement already satisfied: terminado>=0.8.1 in /usr/local/lib/python3.7/dist-packages (from notebook>=4.4.1->widgetsnbextension~=3.5.0->ipywidgets) (0.9.2)\n",
            "Requirement already satisfied: nbconvert in /usr/local/lib/python3.7/dist-packages (from notebook>=4.4.1->widgetsnbextension~=3.5.0->ipywidgets) (5.6.1)\n",
            "Requirement already satisfied: six>=1.9.0 in /usr/local/lib/python3.7/dist-packages (from prompt-toolkit<2.0.0,>=1.0.4->ipython>=4.0.0; python_version >= \"3.3\"->ipywidgets) (1.15.0)\n",
            "Requirement already satisfied: wcwidth in /usr/local/lib/python3.7/dist-packages (from prompt-toolkit<2.0.0,>=1.0.4->ipython>=4.0.0; python_version >= \"3.3\"->ipywidgets) (0.2.5)\n",
            "Requirement already satisfied: ptyprocess>=0.5 in /usr/local/lib/python3.7/dist-packages (from pexpect; sys_platform != \"win32\"->ipython>=4.0.0; python_version >= \"3.3\"->ipywidgets) (0.7.0)\n",
            "Requirement already satisfied: pyzmq>=13 in /usr/local/lib/python3.7/dist-packages (from jupyter-client->ipykernel>=4.5.1->ipywidgets) (22.0.3)\n",
            "Requirement already satisfied: python-dateutil>=2.1 in /usr/local/lib/python3.7/dist-packages (from jupyter-client->ipykernel>=4.5.1->ipywidgets) (2.8.1)\n",
            "Requirement already satisfied: MarkupSafe>=0.23 in /usr/local/lib/python3.7/dist-packages (from jinja2->notebook>=4.4.1->widgetsnbextension~=3.5.0->ipywidgets) (1.1.1)\n",
            "Requirement already satisfied: bleach in /usr/local/lib/python3.7/dist-packages (from nbconvert->notebook>=4.4.1->widgetsnbextension~=3.5.0->ipywidgets) (3.3.0)\n",
            "Requirement already satisfied: defusedxml in /usr/local/lib/python3.7/dist-packages (from nbconvert->notebook>=4.4.1->widgetsnbextension~=3.5.0->ipywidgets) (0.7.1)\n",
            "Requirement already satisfied: pandocfilters>=1.4.1 in /usr/local/lib/python3.7/dist-packages (from nbconvert->notebook>=4.4.1->widgetsnbextension~=3.5.0->ipywidgets) (1.4.3)\n",
            "Requirement already satisfied: mistune<2,>=0.8.1 in /usr/local/lib/python3.7/dist-packages (from nbconvert->notebook>=4.4.1->widgetsnbextension~=3.5.0->ipywidgets) (0.8.4)\n",
            "Requirement already satisfied: testpath in /usr/local/lib/python3.7/dist-packages (from nbconvert->notebook>=4.4.1->widgetsnbextension~=3.5.0->ipywidgets) (0.4.4)\n",
            "Requirement already satisfied: entrypoints>=0.2.2 in /usr/local/lib/python3.7/dist-packages (from nbconvert->notebook>=4.4.1->widgetsnbextension~=3.5.0->ipywidgets) (0.3)\n",
            "Requirement already satisfied: packaging in /usr/local/lib/python3.7/dist-packages (from bleach->nbconvert->notebook>=4.4.1->widgetsnbextension~=3.5.0->ipywidgets) (20.9)\n",
            "Requirement already satisfied: webencodings in /usr/local/lib/python3.7/dist-packages (from bleach->nbconvert->notebook>=4.4.1->widgetsnbextension~=3.5.0->ipywidgets) (0.5.1)\n",
            "Requirement already satisfied: pyparsing>=2.0.2 in /usr/local/lib/python3.7/dist-packages (from packaging->bleach->nbconvert->notebook>=4.4.1->widgetsnbextension~=3.5.0->ipywidgets) (2.4.7)\n"
          ],
          "name": "stdout"
        }
      ]
    },
    {
      "cell_type": "code",
      "metadata": {
        "id": "N_1FwFTz1VTw",
        "colab": {
          "base_uri": "https://localhost:8080/",
          "height": 128
        },
        "outputId": "beee24b0-4d0c-45c2-d861-5f9d2d43c3d4"
      },
      "source": [
        "# Damit es im Jupyter Notebook funktioniert müssen noch verschiedene Extensions geladen werden.\n",
        "\n",
        "jupyter nbextension enable --py widgetsnbextension"
      ],
      "execution_count": 4,
      "outputs": [
        {
          "output_type": "error",
          "ename": "SyntaxError",
          "evalue": "ignored",
          "traceback": [
            "\u001b[0;36m  File \u001b[0;32m\"<ipython-input-4-380152eb1474>\"\u001b[0;36m, line \u001b[0;32m3\u001b[0m\n\u001b[0;31m    jupyter nbextension enable --py widgetsnbextension\u001b[0m\n\u001b[0m                      ^\u001b[0m\n\u001b[0;31mSyntaxError\u001b[0m\u001b[0;31m:\u001b[0m invalid syntax\n"
          ]
        }
      ]
    },
    {
      "cell_type": "code",
      "metadata": {
        "id": "W3PIxDSV643p"
      },
      "source": [
        "# Import Ipywidgets\n",
        "\n",
        "import ipywidgets as widgets\n",
        "from IPython.display import display"
      ],
      "execution_count": null,
      "outputs": []
    },
    {
      "cell_type": "code",
      "metadata": {
        "id": "YUsIY9kB7JDb"
      },
      "source": [
        "# So erstellt man einen Slider\n",
        "\n",
        "widgets.IntSlider(\n",
        "    min=0,\n",
        "    max=10,\n",
        "    step=1,\n",
        "    description='Slider:',\n",
        "    value=3\n",
        ")"
      ],
      "execution_count": null,
      "outputs": []
    },
    {
      "cell_type": "code",
      "metadata": {
        "id": "yNGbGN167c01"
      },
      "source": [
        "# Und so gibt man die Zahlen des Slider aus\n",
        "\n",
        "\n",
        "\n",
        "slider = widgets.IntSlider()\n",
        "text = widgets.IntText()\n",
        "\n",
        "display(slider, text)\n",
        "\n",
        "widgets.jslink((slider, 'value'),(text, 'value'))\n"
      ],
      "execution_count": null,
      "outputs": []
    },
    {
      "cell_type": "code",
      "metadata": {
        "id": "Oo28v7-zCaJw"
      },
      "source": [
        "print(dir(widgets))"
      ],
      "execution_count": null,
      "outputs": []
    },
    {
      "cell_type": "code",
      "metadata": {
        "id": "Y-H7msf6CiPI"
      },
      "source": [
        "# Erstellen eines Buttons und einer Click-Aktion\n",
        "\n",
        "btn = widgets.Button(description='Medium')\n",
        "display(btn)\n",
        "def btn_eventhandler(obj):\n",
        "    print('Hello from the {} button!'.format(obj.description))\n",
        "btn.on_click(btn_eventhandler)"
      ],
      "execution_count": null,
      "outputs": []
    },
    {
      "cell_type": "code",
      "metadata": {
        "id": "HMeSBbf5DWI2"
      },
      "source": [
        "# Zusammenarbeit Widgets und Dataframes\n",
        "\n",
        "import pandas as pd\n",
        "import numpy as np\n",
        "url = \"https://data.london.gov.uk/download/number-international-visitors-london/b1e0f953-4c8a-4b45-95f5-e0d143d5641e/international-visitors-london-raw.csv\"\n",
        "df_london = pd.read_csv(url)\n",
        "\n",
        "ALL = 'ALL'\n",
        "def unique_sorted_values_plus_ALL(array):\n",
        "    unique = array.unique().tolist()\n",
        "    unique.sort()\n",
        "    unique.insert(0, ALL)\n",
        "    return unique\n",
        "\n",
        "dropdown_year = widgets.Dropdown(options = unique_sorted_values_plus_ALL(df_london.year))\n",
        "\n",
        "def dropdown_year_eventhandler(change):\n",
        "    if (change.new == ALL):\n",
        "        display(df_london)\n",
        "    else:\n",
        "        display(df_london[df_london.year == change.new])\n",
        "\n",
        "dropdown_year.observe(dropdown_year_eventhandler, names='value')\n",
        "\n",
        "display(dropdown_year)"
      ],
      "execution_count": null,
      "outputs": []
    }
  ]
}