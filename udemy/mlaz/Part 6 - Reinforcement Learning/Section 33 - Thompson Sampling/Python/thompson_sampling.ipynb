{
  "nbformat": 4,
  "nbformat_minor": 0,
  "metadata": {
    "colab": {
      "name": "Thompson Sampling",
      "provenance": [],
      "collapsed_sections": [],
      "toc_visible": true,
      "include_colab_link": true
    },
    "kernelspec": {
      "name": "python3",
      "display_name": "Python 3"
    }
  },
  "cells": [
    {
      "cell_type": "markdown",
      "metadata": {
        "id": "view-in-github",
        "colab_type": "text"
      },
      "source": [
        "<a href=\"https://colab.research.google.com/github/sakuronohana/my_datascience/blob/master/udemy/mlaz/Part%206%20-%20Reinforcement%20Learning/Section%2033%20-%20Thompson%20Sampling/Python/thompson_sampling.ipynb\" target=\"_parent\"><img src=\"https://colab.research.google.com/assets/colab-badge.svg\" alt=\"Open In Colab\"/></a>"
      ]
    },
    {
      "cell_type": "markdown",
      "metadata": {
        "id": "vPKTIRAtx232"
      },
      "source": [
        "# Thompson Sampling\n",
        "\n",
        "Der Thompson Sampling-Algorithmus ist eine andere Art um das [Multi-Armed Bandit Problem](https://github.com/sakuronohana/my_datascience/blob/master/udemy/mlaz/Part%206%20-%20Reinforcement%20Learning/Section%2032%20-%20Upper%20Confidence%20Bound%20(UCB)/Python/upper_confidence_bound.ipynb) zu lösen. \n",
        "\n",
        "Der wesentliche Unterschied zur Upper Confidence Bound Methode besteht darin, dass bei der Thompson Sampling Methode mit einer Verteilung (engl. Distribution) gearbeitet wird. Dabei wird eine Verteilung dort erstellt wo die tatsächlichen Werte liegen könnten. Der Thompson Sampling Algorithmus grenzt also mittels eines [probabilistische](https://www.werbewoche.ch/marketing/2017-01-04/daten-probabilistisch-vs-deterministischen) Vorgehens den Beispielsbereich ein. Ein weitere Unterschiede zwischen UCB und TS ist, dass bei UCB nach jeder Runde der Status updaten muss während bei der TS der Update erst nach mehreren Runden (bspw. 200, 500 usw.). Dieser Unterschied hat auch einen Einfluss auf die Rechenperformance, da jeder Update auch Rechenleistung benötigt.\n",
        "\n",
        "Die erwähnten Unterschiede machen den Thompson Sampling Algorithmus so beliebt, da er auch die besseren empirischen Beweise liefert."
      ]
    },
    {
      "cell_type": "markdown",
      "metadata": {
        "id": "PqPv9zpAx-EE"
      },
      "source": [
        "## Importing the libraries"
      ]
    },
    {
      "cell_type": "code",
      "metadata": {
        "id": "FHlI03QVlSYW"
      },
      "source": [
        "import pandas as pd\n",
        "import numpy as np\n",
        "import matplotlib.pyplot as plt"
      ],
      "execution_count": 1,
      "outputs": []
    },
    {
      "cell_type": "markdown",
      "metadata": {
        "id": "iqpVk5HhyGmO"
      },
      "source": [
        "## Importing the dataset"
      ]
    },
    {
      "cell_type": "code",
      "metadata": {
        "id": "2f3eypGRj4HT"
      },
      "source": [
        "datloc = 'https://raw.githubusercontent.com/sakuronohana/my_datascience/master/udemy/mlaz/Part%206%20-%20Reinforcement%20Learning/Section%2033%20-%20Thompson%20Sampling/Python/Ads_CTR_Optimisation.csv'\n",
        "\n",
        "dataset = pd.read_csv(datloc)"
      ],
      "execution_count": 2,
      "outputs": []
    },
    {
      "cell_type": "markdown",
      "metadata": {
        "id": "WqoXeWOYyQhB"
      },
      "source": [
        "## Implementing Thompson Sampling\n",
        "\n",
        "Wie auch schon im UCB-Algorithmus gibt es auch in der Thompson Sampling Methode verschieden Schritte, welche implementiert werden müssen.\n",
        "\n",
        "<img src='https://github.com/sakuronohana/my_datascience/blob/master/udemy/mlaz/Part%206%20-%20Reinforcement%20Learning/Section%2033%20-%20Thompson%20Sampling/Thompson_Sampling_Slide.png?raw=true'>"
      ]
    },
    {
      "cell_type": "code",
      "metadata": {
        "id": "7zTtsgmstfVB",
        "outputId": "95ae8520-ee63-47c7-fec6-832b73657e9c",
        "colab": {
          "base_uri": "https://localhost:8080/",
          "height": 232
        }
      },
      "source": [
        "import random\n",
        "\n",
        "# Step 1 \n",
        "N = 10000 # Anzahl Runden bzw. Benutzer welche auf Ads klicken\n",
        "d = 10 # Anzahl Ads\n",
        "ads_selected = []\n",
        "numbers_of_rewards_1 = [0] *d\n",
        "numbers_of_rewards_0 = [0] *d\n",
        "total_reward = 0\n",
        "\n",
        "for n in range(0,N): # Iteration durch Runden\n",
        "  ad = 0\n",
        "  max_random = 0\n",
        "  for i in range(0,d): # Iteration durch Ads\n",
        "    # Step 2\n",
        "    random_beta = random.betavariate(numbers_of_rewards_1[i] + 1, numbers_of_rewards_0[i] + 1)\n",
        "    # Step 3\n",
        "    if (random_beda > max_random):\n",
        "      max_random = random_beta\n",
        "      ad = i\n"
      ],
      "execution_count": 9,
      "outputs": [
        {
          "output_type": "error",
          "ename": "NameError",
          "evalue": "ignored",
          "traceback": [
            "\u001b[0;31m---------------------------------------------------------------------------\u001b[0m",
            "\u001b[0;31mNameError\u001b[0m                                 Traceback (most recent call last)",
            "\u001b[0;32m<ipython-input-9-6d5f4368d267>\u001b[0m in \u001b[0;36m<module>\u001b[0;34m()\u001b[0m\n\u001b[1;32m     16\u001b[0m     \u001b[0mrandom_beta\u001b[0m \u001b[0;34m=\u001b[0m \u001b[0mrandom\u001b[0m\u001b[0;34m.\u001b[0m\u001b[0mbetavariate\u001b[0m\u001b[0;34m(\u001b[0m\u001b[0mnumbers_of_rewards_1\u001b[0m\u001b[0;34m[\u001b[0m\u001b[0mi\u001b[0m\u001b[0;34m]\u001b[0m \u001b[0;34m+\u001b[0m \u001b[0;36m1\u001b[0m\u001b[0;34m,\u001b[0m \u001b[0mnumbers_of_rewards_0\u001b[0m\u001b[0;34m[\u001b[0m\u001b[0mi\u001b[0m\u001b[0;34m]\u001b[0m \u001b[0;34m+\u001b[0m \u001b[0;36m1\u001b[0m\u001b[0;34m)\u001b[0m\u001b[0;34m\u001b[0m\u001b[0;34m\u001b[0m\u001b[0m\n\u001b[1;32m     17\u001b[0m     \u001b[0;31m# Step 3\u001b[0m\u001b[0;34m\u001b[0m\u001b[0;34m\u001b[0m\u001b[0;34m\u001b[0m\u001b[0m\n\u001b[0;32m---> 18\u001b[0;31m     \u001b[0;32mif\u001b[0m \u001b[0;34m(\u001b[0m\u001b[0mrandom_beda\u001b[0m \u001b[0;34m>\u001b[0m \u001b[0mmax_random\u001b[0m\u001b[0;34m)\u001b[0m\u001b[0;34m:\u001b[0m\u001b[0;34m\u001b[0m\u001b[0;34m\u001b[0m\u001b[0m\n\u001b[0m\u001b[1;32m     19\u001b[0m       \u001b[0mmax_random\u001b[0m \u001b[0;34m=\u001b[0m \u001b[0mrandom_beta\u001b[0m\u001b[0;34m\u001b[0m\u001b[0;34m\u001b[0m\u001b[0m\n\u001b[1;32m     20\u001b[0m       \u001b[0mad\u001b[0m \u001b[0;34m=\u001b[0m \u001b[0mi\u001b[0m\u001b[0;34m\u001b[0m\u001b[0;34m\u001b[0m\u001b[0m\n",
            "\u001b[0;31mNameError\u001b[0m: name 'random_beda' is not defined"
          ]
        }
      ]
    },
    {
      "cell_type": "markdown",
      "metadata": {
        "id": "tweWsgTHyXhv"
      },
      "source": [
        "## Visualising the results - Histogram"
      ]
    }
  ]
}