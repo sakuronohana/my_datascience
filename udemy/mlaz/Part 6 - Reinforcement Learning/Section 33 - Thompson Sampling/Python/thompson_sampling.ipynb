{
  "nbformat": 4,
  "nbformat_minor": 0,
  "metadata": {
    "colab": {
      "name": "Thompson Sampling",
      "provenance": [],
      "collapsed_sections": [],
      "toc_visible": true,
      "include_colab_link": true
    },
    "kernelspec": {
      "name": "python3",
      "display_name": "Python 3"
    }
  },
  "cells": [
    {
      "cell_type": "markdown",
      "metadata": {
        "id": "view-in-github",
        "colab_type": "text"
      },
      "source": [
        "<a href=\"https://colab.research.google.com/github/sakuronohana/my_datascience/blob/master/udemy/mlaz/Part%206%20-%20Reinforcement%20Learning/Section%2033%20-%20Thompson%20Sampling/Python/thompson_sampling.ipynb\" target=\"_parent\"><img src=\"https://colab.research.google.com/assets/colab-badge.svg\" alt=\"Open In Colab\"/></a>"
      ]
    },
    {
      "cell_type": "markdown",
      "metadata": {
        "id": "vPKTIRAtx232"
      },
      "source": [
        "# Thompson Sampling\n",
        "\n",
        "Der Thompson Sampling-Algorithmus ist eine andere Art um das [Multi-Armed Bandit Problem](https://github.com/sakuronohana/my_datascience/blob/master/udemy/mlaz/Part%206%20-%20Reinforcement%20Learning/Section%2032%20-%20Upper%20Confidence%20Bound%20(UCB)/Python/upper_confidence_bound.ipynb) zu lösen. \n",
        "\n",
        "Der wesentliche Unterschied zur Upper Confidence Bound Methode besteht darin, dass bei der Thompson Sampling Methode mit einer Verteilung (engl. Distribution) gearbeitet wird. Dabei wird eine Verteilung dort erstellt wo die tatsächlichen Werte liegen könnten. Der Thompson Sampling Algorithmus grenzt also mittels eines [probabilistische](https://www.werbewoche.ch/marketing/2017-01-04/daten-probabilistisch-vs-deterministischen) Vorgehens den Beispielsbereich ein. Ein weitere Unterschiede zwischen UCB und TS ist, dass bei UCB nach jeder Runde der Status updaten muss während bei der TS der Update erst nach mehreren Runden (bspw. 200, 500 usw.). Dieser Unterschied hat auch einen Einfluss auf die Rechenperformance, da jeder Update auch Rechenleistung benötigt.\n",
        "\n",
        "Die erwähnten Unterschiede machen den Thompson Sampling Algorithmus so beliebt, da er auch die besseren empirischen Beweise liefert."
      ]
    },
    {
      "cell_type": "markdown",
      "metadata": {
        "id": "PqPv9zpAx-EE"
      },
      "source": [
        "## Importing the libraries"
      ]
    },
    {
      "cell_type": "code",
      "metadata": {
        "id": "FHlI03QVlSYW"
      },
      "source": [
        "import pandas as pd\n",
        "import numpy as np\n",
        "import matplotlib.pyplot as plt"
      ],
      "execution_count": 1,
      "outputs": []
    },
    {
      "cell_type": "markdown",
      "metadata": {
        "id": "iqpVk5HhyGmO"
      },
      "source": [
        "## Importing the dataset"
      ]
    },
    {
      "cell_type": "code",
      "metadata": {
        "id": "2f3eypGRj4HT"
      },
      "source": [
        "datloc = 'https://raw.githubusercontent.com/sakuronohana/my_datascience/master/udemy/mlaz/Part%206%20-%20Reinforcement%20Learning/Section%2033%20-%20Thompson%20Sampling/Python/Ads_CTR_Optimisation.csv'\n",
        "\n",
        "dataset = pd.read_csv(datloc)"
      ],
      "execution_count": 2,
      "outputs": []
    },
    {
      "cell_type": "markdown",
      "metadata": {
        "id": "WqoXeWOYyQhB"
      },
      "source": [
        "## Implementing Thompson Sampling\n",
        "\n",
        "Wie auch schon im UCB-Algorithmus gibt es auch in der Thompson Sampling Methode verschieden Schritte, welche implementiert werden müssen.\n",
        "\n",
        "<img src='https://github.com/sakuronohana/my_datascience/blob/master/udemy/mlaz/Part%206%20-%20Reinforcement%20Learning/Section%2033%20-%20Thompson%20Sampling/Thompson_Sampling_Slide.png?raw=true'>"
      ]
    },
    {
      "cell_type": "code",
      "metadata": {
        "id": "7zTtsgmstfVB"
      },
      "source": [
        "import random\n",
        "\n",
        "# Step 1 \n",
        "N = 100 # Anzahl Runden bzw. Benutzer welche auf Ads klicken\n",
        "d = 10 # Anzahl Ads\n",
        "ads_selected = []\n",
        "numbers_of_rewards_1 = [0] *d\n",
        "numbers_of_rewards_0 = [0] *d\n",
        "total_reward = 0\n",
        "\n",
        "for n in range(0,N): # Iteration durch Runden\n",
        "  ad = 0\n",
        "  max_random = 0\n",
        "  for i in range(0,d): # Iteration durch Ads\n",
        "    # Step 2\n",
        "    random_beta = random.betavariate(numbers_of_rewards_1[i] + 1, numbers_of_rewards_0[i] + 1)\n",
        "    # Step 3\n",
        "    if (random_beta > max_random):\n",
        "      max_random = random_beta\n",
        "      ad = i\n",
        "  ads_selected.append(ad)\n",
        "  reward = dataset.values[n, ad]\n",
        "  if reward == 1:\n",
        "    numbers_of_rewards_1[ad] = numbers_of_rewards_1[ad] + 1\n",
        "  else:\n",
        "    numbers_of_rewards_0[ad] = numbers_of_rewards_0[ad] + 1\n",
        "\n",
        "  total_reward = total_reward + reward"
      ],
      "execution_count": 18,
      "outputs": []
    },
    {
      "cell_type": "markdown",
      "metadata": {
        "id": "tweWsgTHyXhv"
      },
      "source": [
        "## Visualising the results - Histogram"
      ]
    },
    {
      "cell_type": "code",
      "metadata": {
        "id": "WcpxpGowj8wb",
        "outputId": "f185036e-4ce9-4e43-86cc-8d908e5926ce",
        "colab": {
          "base_uri": "https://localhost:8080/",
          "height": 295
        }
      },
      "source": [
        "plt.hist(ads_selected)\n",
        "plt.title('Histogramm of ads selections')\n",
        "plt.xlabel('Ads')\n",
        "plt.ylabel('Number of times each ad was selected')\n",
        "plt.show()"
      ],
      "execution_count": 19,
      "outputs": [
        {
          "output_type": "display_data",
          "data": {
            "image/png": "[encoded data removed]",
            "text/plain": [
              "<Figure size 432x288 with 1 Axes>"
            ]
          },
          "metadata": {
            "tags": [],
            "needs_background": "light"
          }
        }
      ]
    },
    {
      "cell_type": "markdown",
      "metadata": {
        "id": "nVr2kF0pkcn6"
      },
      "source": [
        "Wie auch schon beim UCB-Algorithmus hat auch Thompson Sampling den richtigen Ad Kandidaten (Nr. 4) erkoren. Zudem siehen wir auch in diesem Histogramm, dass der Algorithmus mit viel weniger Runde auskommen würde. Wir habe aus diesem Grund die Rundenzahl mutigerweise mal auf 100 gesetzt. Wie das nachfolgenden Histogramm zeigt, scheint der Thompson Sampling Algorithmus auch mit viel weniger Rund als UCB (min. 500) auszukommen. Wir konnten uns nun davon überzeugen, warum der TS beliebter ist als der UCB.\n",
        "\n",
        "<img src='https://github.com/sakuronohana/my_datascience/blob/master/udemy/mlaz/Part%206%20-%20Reinforcement%20Learning/Section%2033%20-%20Thompson%20Sampling/Python/Thompson_Sampling_Resultat.png?raw=true' width='400' >"
      ]
    }
  ]
}