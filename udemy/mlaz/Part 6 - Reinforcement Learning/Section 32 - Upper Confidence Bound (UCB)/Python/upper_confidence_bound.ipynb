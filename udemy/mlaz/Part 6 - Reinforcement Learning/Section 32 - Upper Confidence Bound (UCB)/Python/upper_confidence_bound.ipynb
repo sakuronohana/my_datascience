{
  "nbformat": 4,
  "nbformat_minor": 0,
  "metadata": {
    "colab": {
      "name": "Upper Confidence Bound",
      "provenance": [],
      "collapsed_sections": [],
      "include_colab_link": true
    },
    "kernelspec": {
      "name": "python3",
      "display_name": "Python 3"
    }
  },
  "cells": [
    {
      "cell_type": "markdown",
      "metadata": {
        "id": "view-in-github",
        "colab_type": "text"
      },
      "source": [
        "<a href=\"https://colab.research.google.com/github/sakuronohana/my_datascience/blob/master/udemy/mlaz/Part%206%20-%20Reinforcement%20Learning/Section%2032%20-%20Upper%20Confidence%20Bound%20(UCB)/Python/upper_confidence_bound.ipynb\" target=\"_parent\"><img src=\"https://colab.research.google.com/assets/colab-badge.svg\" alt=\"Open In Colab\"/></a>"
      ]
    },
    {
      "cell_type": "markdown",
      "metadata": {
        "id": "OGjx38KQu4h7"
      },
      "source": [
        "# Reinforcement Learing\n",
        "\n",
        "Reinforcement Learning (RL) bildet neben Supervised und Unsupervised Learning die dritte große Gruppe von Machine Learning Verfahren. RL ist eine am natürlichen Lernverhalten des Menschen orientierte Methode. Menschliches Lernen erfolgt, insbesondere in frühen Stadien des Lernens, häufig über eine einfache Exploration der Umwelt. Dabei sind unsere Handlungen im Rahmen des Lernproblems durch einen gewissen Aktionsraum definiert. Über \"Trial and Error\" werden die Auswirkungen verschiedener Handlungen auf unsere Umwelt beobachtet und bewertet. Als Reaktion auf unsere Handlungen erhalten wir von unserer Umgebung ein Feedback, abstrakt dargestellt in Form einer Belohnung oder Bestrafung. Dabei ist das Konzept der Belohnung bzw. Bestrafung nur in den allerwenigsten Fällen monetär zu verstehen. In vielen Fällen wird die Belohnung in Form von sozialer Akzeptanz, Lob anderer Menschen aber auch durch persönliches Wohlbefinden oder Erfolgserlebnisse ausgezahlt. Vielfach zeigt sich auch eine zeitliche Latenz zwischen Handlung und Belohnung. Hierbei versucht der Mensch häufig, durch sein Handeln die erwartete \"Gesamtbelohnung\" im Zeitverlauf zu maximieren und nicht nur unmittelbare Belohnungen zu generieren.\n",
        "\n",
        "<img src='https://www.statworx.com/wp-content/uploads/reinforcement-learning.png' width='600'>\n",
        "\n",
        "Reinforcement Learning besteht formal betrachtet aus fünf wichtigen Komponenten, nämlich (1) dem Agenten (agent), (2) der Umgebung (environment), (3) dem Status (state), (4) der Aktion (action) sowie (5) der Belohnung (reward). Grundsätzlich lässt sich der Ablauf wie folgt beschreiben: Der Agent führt in einer Umgebung zu einem bestimmten Status ($s_t$) eine Aktion ($a_t$) aus dem zur Verfügung stehenden Aktionsraum A durch, die zu einer Reaktion der Umgebung in Form einer Belohnungen ($r_t$) führt.\n",
        "\n",
        "Die Reaktion der Umgebung auf die Aktion des Agenten beeinflusst nun wiederum die Wahl der Aktion des Agenten im nächsten Status ($s_{t+1}$). Über mehrere tausend, hunderttausend oder sogar millionen von Iterationen ist der Agent in der Lage, einen Zusammenhang zwischen seinen Aktionen und dem künftig zu erwartenden Nutzen in jedem Status zu approximieren und sich somit entsprechend optimal zu verhalten. Dabei befindet sich der Agent immer in einem Dilemma zwischen der Nutzung seiner bisher erworbenen Erfahrung auf der einen und der Exploration neuer Strategien zur Erhöhung der Belohnung auf der anderen Seite. Dies wird als \"Exploration-Exploitation Dilemma\" bezeichnet.\n",
        "\n",
        "Die Approximation des Nutzens kann dabei modellfrei, also über reine Exploration der Umgebung erfolgen oder durch die Anwendung von Machine Learning Modellen, die den Nutzen einer Aktion versuchen zu approximieren. Letztere Variante wird insbesondere dann angewendet, wenn der Status- und/oder Aktionsraum von hoher Dimensionalität ist\n",
        "\n",
        "Quelle: [STATWORX Blog](https://www.statworx.com/ch/blog/einfuehrung-in-reinforcement-learning-wenn-maschinen-wie-menschen-lernen/)"
      ]
    },
    {
      "cell_type": "markdown",
      "metadata": {
        "id": "qKzwx56Yfmzn"
      },
      "source": [
        "## Multi-Armed Bandit Problem\n",
        "\n",
        "Das Dilemma zwischen Exploration (Erkundung) und Exploitation (Ausbeutung) besteht in vielen Aspekten unseres Lebens. Sagen wir, Ihr Lieblingsrestaurant ist gleich um die Ecke. Wenn Sie jeden Tag dorthin gehen, wären Sie zuversichtlich, was Sie bekommen werden, aber Sie verpassen die Chance, eine noch bessere Option zu entdecken. Wenn Sie ständig neue Orte ausprobieren, werden Sie sehr wahrscheinlich von Zeit zu Zeit unangenehmes Essen zu sich nehmen müssen. In ähnlicher Weise versuchen Online-Berater, ein Gleichgewicht zwischen den bekanntermaßen attraktivsten Anzeigen und den neuen Anzeigen zu finden, die vielleicht sogar noch erfolgreicher sind.\n",
        "\n",
        "Wenn wir alle Informationen über die Umwelt gelernt haben, sind wir in der Lage, die beste Strategie zu finden, indem wir auch nur Brute-Force simulieren, ganz zu schweigen von vielen anderen intelligenten Ansätzen. Das Dilemma ergibt sich aus den unvollständigen Informationen: Wir müssen genügend Informationen sammeln, um die besten Gesamtentscheidungen zu treffen und gleichzeitig das Risiko unter Kontrolle zu halten. Mit Ausbeutung nutzen wir die beste Option, die wir kennen. Bei der Exploration gehen wir ein gewisses Risiko ein, um Informationen über unbekannte Optionen zu sammeln. Die beste langfristige Strategie kann mit kurzfristigen Opfern verbunden sein. Zum Beispiel könnte ein Explorationsversuch ein totaler Fehlschlag sein, aber das warnt uns davor, diese Maßnahme in Zukunft nicht zu oft zu ergreifen.\n",
        "\n",
        "Das Problem der **mehrarmigen Banditen (Multi-Armed Bandit)** ist ein klassisches Problem, das das Dilemma Exploration vs. Ausbeutung deutlich macht. Stellen Sie sich vor, Sie befinden sich in einem Casino und stehen mehreren Spielautomaten gegenüber, von denen jeder mit einer unbekannten Wahrscheinlichkeit konfiguriert ist, wie wahrscheinlich es ist, dass Sie bei einem Spiel eine Belohnung erhalten können. Die Frage ist: Was ist die beste Strategie, um langfristig die höchsten Belohnungen zu erzielen?\n",
        "\n",
        "<img src='https://user-images.githubusercontent.com/22970879/41629289-ec662a58-73e5-11e8-9f41-40c6d7ba5a36.jpg'>\n",
        "\n",
        "\n",
        "Die Beschränkung auf eine endliche Anzahl von Versuchen führt zu einer neue Art von Explorationsproblem. Wenn z.B. die Anzahl der Versuche kleiner ist als die Anzahl der Spielautomaten, können wir nicht einmal jeden Automaten ausprobieren, um die Belohnungswahrscheinlichkeit (!) abzuschätzen, und müssen uns daher mit einer begrenzten Menge an Wissen und Ressourcen (d.h. Zeit) klug verhalten.\n",
        "\n",
        "Ein naiver Ansatz kann darin bestehen, dass man mit einem Automaten sehr viele Runden lang weiterspielt, um schließlich die \"wahre\" Belohnungswahrscheinlichkeit nach dem Gesetz der großen Zahlen zu schätzen. Dies ist jedoch ziemlich verschwenderisch und garantiert sicherlich nicht die beste langfristige Belohnung.\n",
        "\n",
        "Je nachdem, wie wir Exploration betreiben, gibt es mehrere Möglichkeiten, das Problem der mehrarmigen Banditen zu lösen.\n",
        "\n",
        "* Keine Erkundung: der naivste Ansatz und ein schlechter.\n",
        "* Exploration nach dem Zufallsprinzip\n",
        "* Exploration klug mit Vorzug vor Unsicherheit\n",
        "\n",
        "\n",
        "Quelle: [Lil Log](https://lilianweng.github.io/lil-log/2018/01/23/the-multi-armed-bandit-problem-and-its-solutions.html)"
      ]
    },
    {
      "cell_type": "markdown",
      "metadata": {
        "id": "QJdrJJQUv3-k"
      },
      "source": [
        "## Upper Confidence Bound (UCB)\n",
        "\n",
        "Ein Weg um das Multi-Armed-Bandit Problem zu lösen ist der UCB-Algorithmus.\n",
        "Der UCB-Algorithmus (Upper Confidence Bound) wird oft als \"Optimismus angesichts der Unsicherheit\" formuliert. Um zu verstehen, warum, bedenken Sie in einer bestimmten Runde, dass die Belohnungsfunktion jedes Arms als eine Punktschätzung auf der Grundlage der beobachteten durchschnittlichen Belohnungsrate wahrgenommen werden kann. Indem wir die Intuition aus [Konfidenzintervallen](https://www.statistik-nachhilfe.de/ratgeber/statistik/induktive-statistik/konfidenzintervall-fuer-erwartungswert-varianz-und-median) ableiten, können wir für jede Punktschätzung auch eine Form der Unsicherheitsgrenze um die Punktschätzung herum einbeziehen. In diesem Sinne haben wir sowohl eine untere Grenze als auch eine obere Grenze für jeden Arm.\n",
        "Der UCB-Algorithmus hat einen treffenden Namen, weil wir uns nur mit der oberen Grenze befassen, da wir versuchen, den Arm mit der höchsten Belohnungsrate zu finden.\n",
        "\n",
        "Der UCB-Algorithmus gehört zu den am meist verwendesten RL-Algorithmen im Zusammenhang mit Online Advertisements.\n",
        "\n"
      ]
    },
    {
      "cell_type": "markdown",
      "metadata": {
        "id": "2XCjepjJwEv-"
      },
      "source": [
        "### Importing the libraries"
      ]
    },
    {
      "cell_type": "code",
      "metadata": {
        "id": "l_mBkG3YwNTt"
      },
      "source": [
        "import numpy as np\n",
        "import matplotlib.pyplot as plt\n",
        "import pandas as pd"
      ],
      "execution_count": 1,
      "outputs": []
    },
    {
      "cell_type": "markdown",
      "metadata": {
        "id": "npqlXjaNwYTv"
      },
      "source": [
        "### Importing the dataset\n",
        "\n",
        "Dieser Datensatz bernötigen wir zu Simulation einer Webseite, auf welcher 10 verschiedene Werbungen eines Autos aufgeschaltet werden. Die Webseite wird von 10000 Benutzern besucht. Jeder der Benutzer klickt auf die Ads welche ihn am meisten ansprechen. In einem realen Business-Case würde der Reenforcement Learning Algorithmus mittels realtime Daten mit minimalen Aufwand lernen, welche Ads am meisten angeklickt bzw. am meisten gezeigt werden sollten. Wichtig ist es dabei zu wissen, dass jedes Advertisment welches aufgeschaltet wird je nach Plazierung viel Geld kostet. Das Marketing des Autoherstellers möchte somit so schnell wie möglich den am \"gewinnbringensten\" Ad ermitteln."
      ]
    },
    {
      "cell_type": "code",
      "metadata": {
        "id": "HMJfUVLVwcFc"
      },
      "source": [
        "datloc = 'https://raw.githubusercontent.com/sakuronohana/my_datascience/master/udemy/mlaz/Part%206%20-%20Reinforcement%20Learning/Section%2032%20-%20Upper%20Confidence%20Bound%20(UCB)/Python/Ads_CTR_Optimisation.csv'\n",
        "dataset = pd.read_csv(datloc)"
      ],
      "execution_count": 2,
      "outputs": []
    },
    {
      "cell_type": "code",
      "metadata": {
        "id": "66I-mZM1ryF5",
        "outputId": "b8bec596-7795-4265-a1ed-3cc94d718e33",
        "colab": {
          "base_uri": "https://localhost:8080/",
          "height": 213
        }
      },
      "source": [
        "print(dataset.shape)\n",
        "dataset.head()"
      ],
      "execution_count": 3,
      "outputs": [
        {
          "output_type": "stream",
          "text": [
            "(10000, 10)\n"
          ],
          "name": "stdout"
        },
        {
          "output_type": "execute_result",
          "data": {
            "text/html": [
              "<div>\n",
              "<style scoped>\n",
              "    .dataframe tbody tr th:only-of-type {\n",
              "        vertical-align: middle;\n",
              "    }\n",
              "\n",
              "    .dataframe tbody tr th {\n",
              "        vertical-align: top;\n",
              "    }\n",
              "\n",
              "    .dataframe thead th {\n",
              "        text-align: right;\n",
              "    }\n",
              "</style>\n",
              "<table border=\"1\" class=\"dataframe\">\n",
              "  <thead>\n",
              "    <tr style=\"text-align: right;\">\n",
              "      <th></th>\n",
              "      <th>Ad 1</th>\n",
              "      <th>Ad 2</th>\n",
              "      <th>Ad 3</th>\n",
              "      <th>Ad 4</th>\n",
              "      <th>Ad 5</th>\n",
              "      <th>Ad 6</th>\n",
              "      <th>Ad 7</th>\n",
              "      <th>Ad 8</th>\n",
              "      <th>Ad 9</th>\n",
              "      <th>Ad 10</th>\n",
              "    </tr>\n",
              "  </thead>\n",
              "  <tbody>\n",
              "    <tr>\n",
              "      <th>0</th>\n",
              "      <td>1</td>\n",
              "      <td>0</td>\n",
              "      <td>0</td>\n",
              "      <td>0</td>\n",
              "      <td>1</td>\n",
              "      <td>0</td>\n",
              "      <td>0</td>\n",
              "      <td>0</td>\n",
              "      <td>1</td>\n",
              "      <td>0</td>\n",
              "    </tr>\n",
              "    <tr>\n",
              "      <th>1</th>\n",
              "      <td>0</td>\n",
              "      <td>0</td>\n",
              "      <td>0</td>\n",
              "      <td>0</td>\n",
              "      <td>0</td>\n",
              "      <td>0</td>\n",
              "      <td>0</td>\n",
              "      <td>0</td>\n",
              "      <td>1</td>\n",
              "      <td>0</td>\n",
              "    </tr>\n",
              "    <tr>\n",
              "      <th>2</th>\n",
              "      <td>0</td>\n",
              "      <td>0</td>\n",
              "      <td>0</td>\n",
              "      <td>0</td>\n",
              "      <td>0</td>\n",
              "      <td>0</td>\n",
              "      <td>0</td>\n",
              "      <td>0</td>\n",
              "      <td>0</td>\n",
              "      <td>0</td>\n",
              "    </tr>\n",
              "    <tr>\n",
              "      <th>3</th>\n",
              "      <td>0</td>\n",
              "      <td>1</td>\n",
              "      <td>0</td>\n",
              "      <td>0</td>\n",
              "      <td>0</td>\n",
              "      <td>0</td>\n",
              "      <td>0</td>\n",
              "      <td>1</td>\n",
              "      <td>0</td>\n",
              "      <td>0</td>\n",
              "    </tr>\n",
              "    <tr>\n",
              "      <th>4</th>\n",
              "      <td>0</td>\n",
              "      <td>0</td>\n",
              "      <td>0</td>\n",
              "      <td>0</td>\n",
              "      <td>0</td>\n",
              "      <td>0</td>\n",
              "      <td>0</td>\n",
              "      <td>0</td>\n",
              "      <td>0</td>\n",
              "      <td>0</td>\n",
              "    </tr>\n",
              "  </tbody>\n",
              "</table>\n",
              "</div>"
            ],
            "text/plain": [
              "   Ad 1  Ad 2  Ad 3  Ad 4  Ad 5  Ad 6  Ad 7  Ad 8  Ad 9  Ad 10\n",
              "0     1     0     0     0     1     0     0     0     1      0\n",
              "1     0     0     0     0     0     0     0     0     1      0\n",
              "2     0     0     0     0     0     0     0     0     0      0\n",
              "3     0     1     0     0     0     0     0     1     0      0\n",
              "4     0     0     0     0     0     0     0     0     0      0"
            ]
          },
          "metadata": {
            "tags": []
          },
          "execution_count": 3
        }
      ]
    },
    {
      "cell_type": "markdown",
      "metadata": {
        "id": "PaSbots_wfoB"
      },
      "source": [
        "### Implementing UCB\n",
        "\n",
        "Anschliessend werden wir die folgende Schritte mittels Python implementieren:\n",
        "\n",
        "<img src='https://github.com/sakuronohana/my_datascience/blob/master/udemy/mlaz/Part%206%20-%20Reinforcement%20Learning/Section%2032%20-%20Upper%20Confidence%20Bound%20(UCB)/UCB-Steps.jpg?raw=true' width='600'>"
      ]
    },
    {
      "cell_type": "code",
      "metadata": {
        "id": "KnvZKJ5UqIFA"
      },
      "source": [
        "import math\n",
        "# Step 1 \n",
        "N = 10000 # Anzahl Runden bzw. Benutzer welche auf Ads klicken\n",
        "d = 10 # Anzahl Ads\n",
        "ads_selected = [] # Leere Liste für die angeklickten Ads\n",
        "numbers_of_selections = [0] * d # Leere Liste für die Anzahl der gewählten Ads\n",
        "sums_of_rewards = [0] * d # Liste für die Summe aller Belohnungen\n",
        "total_reward = 0 # \n",
        "\n",
        "# Step 2 \n",
        "for n in range(0,N): # 1. Iteration für die Runden (0 bis 10000)\n",
        "  ad = 0 # Started jede Iteration mit Ad 1\n",
        "  max_upper_bound = 0 # Started am Anfang mit der obersten Vertrauensgrenze von 0 welche jedes Runde aktualisiert wird.\n",
        "\n",
        "  for i in range(0,d): # 2. Iteration für Ads (0 bis 9)\n",
        "    if (numbers_of_selections[i] > 0): # Falls ausgewählte Ad ist grösser als 0\n",
        "      # Computing average reward\n",
        "      average_reward = sums_of_rewards[i] / numbers_of_selections[i]\n",
        "      # Computing confidence interval\n",
        "      delta_i = math.sqrt(3/2 * math.log(n + 1) / numbers_of_selections[i])\n",
        "      upper_bound = average_reward + delta_i\n",
        "   \n",
        "    else:\n",
        "      # Step 3 \n",
        "      upper_bound = 1e400 # Trick um eine Zahl fast auf endlos zu setzen\n",
        "    if (upper_bound > max_upper_bound):\n",
        "      max_upper_bound = upper_bound\n",
        "      ad = i\n",
        "\n",
        "  ads_selected.append(ad)\n",
        "  numbers_of_selections[ad] = numbers_of_selections[ad] + 1 # += 1 ist das gleiche wie numbers_of_selections[ad] + 1\n",
        "  reward = dataset.values[n, ad]\n",
        "  sums_of_rewards[ad] = sums_of_rewards[ad] + reward\n",
        "  total_reward = total_reward + reward"
      ],
      "execution_count": null,
      "outputs": []
    },
    {
      "cell_type": "code",
      "metadata": {
        "id": "ozQRDby7BRh1",
        "outputId": "72561bd0-75b5-454f-b43e-eee1ad402208",
        "colab": {
          "base_uri": "https://localhost:8080/",
          "height": 33
        }
      },
      "source": [
        "(3/2 * math.log(n + 1))\n"
      ],
      "execution_count": null,
      "outputs": [
        {
          "output_type": "execute_result",
          "data": {
            "text/plain": [
              "13.815510557964275"
            ]
          },
          "metadata": {
            "tags": []
          },
          "execution_count": 25
        }
      ]
    },
    {
      "cell_type": "markdown",
      "metadata": {
        "id": "AXftWcjDwsYj"
      },
      "source": [
        "### Visualising the results"
      ]
    },
    {
      "cell_type": "code",
      "metadata": {
        "id": "1uV3N9Mo9PGE",
        "outputId": "32ab16a0-9a4e-4ac8-a314-5b8bceb5f257",
        "colab": {
          "base_uri": "https://localhost:8080/",
          "height": 295
        }
      },
      "source": [
        "plt.hist(ads_selected)\n",
        "plt.title('Histogramm of ads selections')\n",
        "plt.xlabel('Ads')\n",
        "plt.ylabel('Number of times each ad was selected')\n",
        "plt.show()"
      ],
      "execution_count": null,
      "outputs": [
        {
          "output_type": "display_data",
          "data": {
            "image/png": "[encoded data removed]",
            "text/plain": [
              "<Figure size 432x288 with 1 Axes>"
            ]
          },
          "metadata": {
            "tags": [],
            "needs_background": "light"
          }
        }
      ]
    },
    {
      "cell_type": "markdown",
      "metadata": {
        "id": "p92KenfABSR4"
      },
      "source": [
        "Wir können anhand des Histogramms erkennen, dass der UCB-Algoritmus einen klaren Favoriten erkoren hat. Ads Nummer 4 scheint mit Abstand am beliebtesten zu sein. Was wir hier auch klar erkennen können ist, dass UCB auch mit weniger Runden auskommen würde, was natürlich unser Ziel wäre.\n",
        "Wie es scheint könnten wir es wagen, die Rudenzahl auf 1000 zu reduzieren, was zu folgendem Resultat geführt hat:\n",
        "\n",
        "<img src='https://github.com/sakuronohana/my_datascience/blob/master/udemy/mlaz/Part%206%20-%20Reinforcement%20Learning/Section%2032%20-%20Upper%20Confidence%20Bound%20(UCB)/UCB_Hist_Result.jpg?raw=true' width='400'>\n",
        "\n",
        "Wir könnten jetzt sicher noch etwas optimieren, jedoch spätenstens bei einer Rundenanzahl von 500 ist Schluss:\n",
        "\n",
        "<img src='https://github.com/sakuronohana/my_datascience/blob/master/udemy/mlaz/Part%206%20-%20Reinforcement%20Learning/Section%2032%20-%20Upper%20Confidence%20Bound%20(UCB)/UCB_Hist_Result_2.png?raw=true' width='400'>"
      ]
    }
  ]
}