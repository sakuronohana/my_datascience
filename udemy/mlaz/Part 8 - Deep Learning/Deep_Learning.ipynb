{
  "nbformat": 4,
  "nbformat_minor": 0,
  "metadata": {
    "colab": {
      "name": "Deep_Learning.ipynb",
      "provenance": [],
      "include_colab_link": true
    },
    "kernelspec": {
      "name": "python3",
      "display_name": "Python 3"
    },
    "accelerator": "GPU"
  },
  "cells": [
    {
      "cell_type": "markdown",
      "metadata": {
        "id": "view-in-github",
        "colab_type": "text"
      },
      "source": [
        "<a href=\"https://colab.research.google.com/github/sakuronohana/my_datascience/blob/master/udemy/mlaz/Part%208%20-%20Deep%20Learning/Deep_Learning.ipynb\" target=\"_parent\"><img src=\"https://colab.research.google.com/assets/colab-badge.svg\" alt=\"Open In Colab\"/></a>"
      ]
    },
    {
      "cell_type": "markdown",
      "metadata": {
        "id": "SyxBmxgRxnMS"
      },
      "source": [
        "# Deep Learning"
      ]
    },
    {
      "cell_type": "markdown",
      "metadata": {
        "id": "0OMRqL-5eaqu"
      },
      "source": [
        "### Was ist Deep Learning?###\n",
        "\n",
        "Deep Learning ist ein Teilgebiet des Machine Learning und unterscheidet sich vom „klassischen“ maschinellen Lernen, indem es Maschinen in die Lage versetzt, über die verfügbaren Daten hinaus zu lernen. Das beinhaltet die Fähigkeit, Informationen zu analysieren und zu bewerten, um logische Schlüsse zu ziehen, Lösungswege auszuwählen und aus Fehlern zu lernen. Je mehr Daten eine Maschine also empfängt, desto grösser ist ihre Lernfähigkeit und desto \"intelligenter\" kann sie werden. Obwohl es die künstlichen neuronalen Netze, die die Grundlage dieser Technologien bilden, bereits seit den 1950er Jahren gibt, haben erst die bahnbrechenden Entwicklungen des letzten Jahrzehnts die Lernkurve stark verbessert. Die am meisten verbreiteten modernen Applikationen sind Stimm- und Bilderkennung. Das Niveau der Datenanalyse ermöglicht jedoch viele vorausschauende Applikationen, wie enorme Verbesserungen in der vorausschauenden Wartung, sicherere autonome Fahrzeuge, die Vorhersage von Krankheiten oder Rückfällen.\n",
        "\n",
        "Einer der Pioniere in diesem Gebiet ist (Geoffrey Hinton)[https://de.wikipedia.org/wiki/Geoffrey_Hinton]. Hinton ist ein britischer Informatiker und Kognitionspsychologe der als Professor an der Universität Toronto und bei Google arbeitet. Er hat massgeblich den Begriff Deep Learning kreiert.\n",
        "\n"
      ]
    },
    {
      "cell_type": "markdown",
      "metadata": {
        "id": "dzVwJdUyh8zn"
      },
      "source": [
        "### Was sind Neuronale Netzwerke?\n",
        "\n",
        "Ein künstliches neuronales Netzwerk (KNN), im englischen Artificial neural networks (ANN) genannt,  ist einen Art Abbildung des menschlichen neuronalen Netzwerks. Diese Netzwerk besteht aus vernetzten Neuronen. In einem KNN ist ein Neuron nichts anderes als eine Element welche eine Nummer zwischen 0 - 1, speichert. In einem KNN gibt es drei Arten von Neuronen - Input Neuron, Hidden Neuron und Output Neuron.\n",
        "\n",
        "Beispiel ein Bild mit einer handschriftlichen Zahl 9 besteht aus 28 x 28 Pixel was somit 784 Neuronen darstellt. Jeder dieser Neuronen enthält einen Graustufenwert von 0.01 (Schwarz) zu 1.00 (Weiss). Diese Werte werden „Activation“ genannt. Dies 784 Neuronen stellen die erste Schicht unsere Netzwerks dar. Die letze Schicht wird nur noch aus 10 Neuronen welche die Nummern 0 - 9 darstellen. Die Schichten dazwischen werden „Hidden Layers“ genannt. Sämtliche Neuronen in den verschiedenen Layers sind miteinander verbunden. Die Verbindungen zwischen den Neuronen haben eigene Gewichtungen. Diese Gewichtung wird mit dem Input-Wert multipliziert. Hat also beispielsweise ein Input-Neuron einen Wert von 0,7 und die Gewichtung der Verbindung einen Wert von 2 werden diese zwei Werte multipliziert und ergeben einen Wert von 1.4, welcher an das nächste Neuron weitergegeben werden. Würden wir aber nun immer so rechnen, würde das Resultat immer durch null gehen. Damit wir das verhindern können benutzen wir den Bias. Der Bias ist nichts anderes als der y-Intercept in der linearen Algebra mit dem Unterschied, dass er nur 1 sein kann. Nehmen wir nun also den Bias noch dazu dann bekommen wir folgenden Formel f(x) = mx + b.\n",
        "\n",
        "In einem künstlich neuronalen Netzwerk bestimmen die Aktivitäten in einem Layer die Aktivitäten im nächsten Layer. Die grosse Frage ist dabei WIE Aktivitäten in einem Layer die des nächsten beeinflusst. Grundsätzlich funktioniert es in der gleichen Art wie das biologische Vorbild. Feuert ein Neuron beeinflusst es ein anderes Neuron.\n",
        "\n",
        "Hier eine Abbildung eines typischen KNN:\n",
        "\n",
        "![alt text](https://upload.wikimedia.org/wikipedia/commons/thumb/c/c2/MultiLayerNeuralNetworkBigger_english.png/880px-MultiLayerNeuralNetworkBigger_english.png)"
      ]
    },
    {
      "cell_type": "markdown",
      "metadata": {
        "id": "rLA0iCN7kHVC"
      },
      "source": [
        "###Anatomie eines KNN###\n",
        "\n",
        "Nachfolgenden werden wir die verschiedenen Bestandteile (inkl. Math) eines KNN erläutern"
      ]
    },
    {
      "cell_type": "markdown",
      "metadata": {
        "id": "g9C6y4I-skn8"
      },
      "source": [
        "**Künstliches Neuron (Unit)**\n",
        "\n",
        "Ein künstliches Neuron stellt ein vereinfachtes Modell eines biologischen Neurons dar.  Ein künstliches Neuron wird auch oft McCulloch-Pittsburgh-Zelle genannt. Bei der Definition des künstlichen Neurons wurden die wesentlichen Eigenschaften eines biologischen Neurons dargestellt:\n",
        "\n",
        "* Synapsen der Nervenzellen = Addition gewichteter EIngaben\n",
        "* Aktivierung Zellkerns = Aktivierungsfunktion mit Schwellwerten\n",
        "\n"
      ]
    },
    {
      "cell_type": "markdown",
      "metadata": {
        "id": "4oZb3hJ4YOIv"
      },
      "source": [
        "**Perzeptron**\n",
        "\n",
        "Ausgehen von dieser Idee hat Frank Rosenblatt 1957 das Perzepton entwickelt. Dieses Perzeptron stellt das einfachste KNN dar, da es aus einer Eingabeschicht und einer Ausgabeschicht besteht:\n",
        "\n",
        "![alt text](https://www.statworx.com/wp-content/uploads/perceptron.png)\n",
        "\n",
        "Das Perzeptron besteht aus folgenden Teilen:\n",
        "\n",
        "1. **Input-Layer**. Der Input-Layer beinhaltet einerseits die Daten (x) und eine Bias-Unit (1)\n",
        "2. **Wichtung (w)**. Die Gewichtung wird pro Verbindung zwischen dem Input und Output dargestellt und beinhaltet irgend einen Wert. \n",
        "2. **Output-Layer** Die Ausgabeschicht besteht im wesentlichen aus der **Linear Threshold Unit (LTU)** welche folgende Funktionen beinhaltet: \n",
        " * **Übertragungsfunktion**. Diese Funktion (∑) berechnet die Wichtung mal Input plus Bias:\n",
        " \n",
        " $\\displaystyle \\sum_{i=1}^{n} =  (w_1 * _1 + w_2 * x_2 + w_n * x_n) + Bias$\n",
        "\n",
        "3. **Aktivierungsfunktion (ρ)**. Diese Funktion bestimmt die Ausgabe des Neurons. Sie wird durch die Netzeingabe und den Schwellwert beeinflusst. -> Siehe Activation Functions\n",
        "4. **Schwellwert (θj)**. Das Addieren eines Schwellwerts zur Netzeingabe verschiebt die gewichtete Eingabe.\n",
        "\n"
      ]
    },
    {
      "cell_type": "markdown",
      "metadata": {
        "id": "yL3SY6Urqo9O"
      },
      "source": [
        "**Input Layer**\n",
        "\n",
        "Die Daten werden über den Input Layer in das KNN übergeben. Im ersten Layer finden somit noch keine eigentlichen mathematischen Operationen statt und es gibt dort auch keine eigentlichen Knoten wie es in manchen Darstellungen suggeriert wird. Die Daten werden mittels eines 1D-Arrays in die Input-Schicht "
      ]
    },
    {
      "cell_type": "markdown",
      "metadata": {
        "id": "oV4X7vRdIByf"
      },
      "source": [
        "###Automated Machine Learning###\n",
        "\n",
        "**Tutorial:** [lntroduction: Automated Machine Learning](https://colab.research.google.com/drive/1CIVn-GoOyY3H2_Bv8z09mkNRokQ9jlJ-#scrollTo=rbiKVIwfHxxS)\n",
        "\n",
        "**Weitere Infos:** [Home TPOT](https://epistasislab.github.io/tpot/)"
      ]
    },
    {
      "cell_type": "code",
      "metadata": {
        "id": "lV1ZkNzThJ1L"
      },
      "source": [
        "# Install Upgrade Scikit-Learn 0.20 for AutoSklearn on the server\n",
        "!pip install --upgrade scikit-learn\n",
        "\n",
        "\n"
      ],
      "execution_count": null,
      "outputs": []
    },
    {
      "cell_type": "code",
      "metadata": {
        "id": "gbXgkMTEJhIs"
      },
      "source": [
        "# Install tpot on the server\n",
        "!pip install tpot\n",
        "\n",
        "# Install AutoSklearn on the server\n",
        "!pip install auto-sklearn"
      ],
      "execution_count": null,
      "outputs": []
    },
    {
      "cell_type": "code",
      "metadata": {
        "id": "eeXST0s0eNCK"
      },
      "source": [
        "# pandas and numpy for data manipulation\n",
        "import pandas as pd\n",
        "import numpy as np\n",
        "\n",
        "# Import the tpot regressor\n",
        "from tpot import TPOTRegressor\n",
        "\n",
        "import autosklearn.classification"
      ],
      "execution_count": null,
      "outputs": []
    },
    {
      "cell_type": "markdown",
      "metadata": {
        "id": "05Pw3E6uprxf"
      },
      "source": [
        "##Modellentwicklung##\n",
        "\n",
        "\n"
      ]
    },
    {
      "cell_type": "markdown",
      "metadata": {
        "id": "cD7z_KBjqf22"
      },
      "source": [
        "###ML Frameworks###\n",
        "\n",
        "Im Internet existieren bereits veschiedenen Frameworks zur Entwicklung von Machine Learning Modellen. Nachfolgenden werden ein paar der wichtigsten kurz vorgestellt:"
      ]
    },
    {
      "cell_type": "markdown",
      "metadata": {
        "id": "byq51MfBq3WD"
      },
      "source": [
        "### Apache MXnet ###\n",
        "\n",
        "<img src='https://raw.githubusercontent.com/dmlc/web-data/master/mxnet/image/mxnet_logo_2.png' width='300'>\n",
        "\n",
        "MXNet ist ein Open Source Framework der Apache Software Foundation, das sich für maschinenbasiertes Lernen und Deep Learning einsetzen lässt. Es gestattet das Trainieren von neuronalen Netzen und unterstützt unterschiedliche Plattformen und Programmiersprachen (C++, JavaScript, Python, R, Julia, Scala etc.). Das Deep Learning Framework Apache MXnet wird in vielen Universitäten zur Vermittlung des Deep Learning Themas verwendet. \n",
        "\n",
        "Die Gluon-Schnittstelle lässt sich zusammen mit MXNet verwenden. Bei Gluon handelt es sich um ein Deep Learning Interface von Microsoft und Amazon, das Programmierern über standardisierte APIs (Application Programming Interfaces) einen einfachen Zugang zu MXNet mit seinem Deep Learning Framework und den neuronalen Netzen bietet.\n",
        "\n",
        "Quelle: [Apache MXNet (Github) for Deep Learning](https://github.com/apache/incubator-mxnet/blob/master/README.md)\n"
      ]
    },
    {
      "cell_type": "code",
      "metadata": {
        "id": "OkcIOZl-uMbx"
      },
      "source": [
        "# Installation Framework - Hinweis: Auf Colab ist das Packet bereits installiert.\n",
        "\n",
        "!pip install mxnet"
      ],
      "execution_count": null,
      "outputs": []
    },
    {
      "cell_type": "code",
      "metadata": {
        "id": "IBmPeTP65d-1"
      },
      "source": [
        "# Mxnet NDArray laden\n",
        "from mxnet import nd"
      ],
      "execution_count": null,
      "outputs": []
    },
    {
      "cell_type": "code",
      "metadata": {
        "id": "WyNINtFC59yQ",
        "outputId": "c66502ea-a7b1-43fc-e993-d051a40f4c8a",
        "colab": {
          "base_uri": "https://localhost:8080/",
          "height": 286
        }
      },
      "source": [
        "# Erstellen eines NDArrays\n",
        "\n",
        "x = nd.array([3.0])\n",
        "y = nd.array([2.0])\n",
        "\n",
        "print('x + y = ', x + y)\n",
        "print('x * y = ', x * y)\n",
        "print ('x / y = ', x /y)\n",
        "print('x ** y = ', nd.power(x,y))\n"
      ],
      "execution_count": null,
      "outputs": [
        {
          "output_type": "stream",
          "text": [
            "\n",
            "[3.]\n",
            "<NDArray 1 @cpu(0)>\n",
            "3.0\n",
            "x + y =  \n",
            "[5.]\n",
            "<NDArray 1 @cpu(0)>\n",
            "x * y =  \n",
            "[6.]\n",
            "<NDArray 1 @cpu(0)>\n",
            "x / y =  \n",
            "[1.5]\n",
            "<NDArray 1 @cpu(0)>\n",
            "x ** y =  \n",
            "[9.]\n",
            "<NDArray 1 @cpu(0)>\n"
          ],
          "name": "stdout"
        }
      ]
    },
    {
      "cell_type": "code",
      "metadata": {
        "id": "rwVTMJZq9HUv",
        "outputId": "e78c3069-9269-4e84-f1c3-0d878d44adeb",
        "colab": {
          "base_uri": "https://localhost:8080/",
          "height": 151
        }
      },
      "source": [
        "x = nd.arange(5)\n",
        "print('x = ', x)\n",
        "print ('Zugriff auf das dritte Element ', x[3])\n",
        "\n",
        "print(x.shape)\n",
        "print(len(x))\n"
      ],
      "execution_count": null,
      "outputs": [
        {
          "output_type": "stream",
          "text": [
            "x =  \n",
            "[0. 1. 2. 3. 4.]\n",
            "<NDArray 5 @cpu(0)>\n",
            "Zugriff auf das dritte Element  \n",
            "[3.]\n",
            "<NDArray 1 @cpu(0)>\n",
            "(5,)\n",
            "5\n"
          ],
          "name": "stdout"
        }
      ]
    },
    {
      "cell_type": "code",
      "metadata": {
        "id": "9-WSJdk_-5lV",
        "outputId": "29d744f7-17b0-423a-ea7c-9708522cb4b2",
        "colab": {
          "base_uri": "https://localhost:8080/",
          "height": 118
        }
      },
      "source": [
        "# Unterschied 2D und 3D\n",
        "\n",
        "a = 2\n",
        "x = nd.array([1,2,3])\n",
        "y = nd.array([10,20,30])\n",
        "print(a * x)\n",
        "print(a * x * y)"
      ],
      "execution_count": null,
      "outputs": [
        {
          "output_type": "stream",
          "text": [
            "\n",
            "[2. 4. 6.]\n",
            "<NDArray 3 @cpu(0)>\n",
            "\n",
            "[ 20.  80. 180.]\n",
            "<NDArray 3 @cpu(0)>\n"
          ],
          "name": "stdout"
        }
      ]
    },
    {
      "cell_type": "code",
      "metadata": {
        "id": "KD5XhUsG_vTI",
        "outputId": "0bfadec4-39e2-4e57-a16e-8fa8fd89d50c",
        "colab": {
          "base_uri": "https://localhost:8080/",
          "height": 202
        }
      },
      "source": [
        "# Matrixen\n",
        "\n",
        "a = nd.arange(20)\n",
        "print(a)\n",
        "print(a.reshape((5,2)))"
      ],
      "execution_count": null,
      "outputs": [
        {
          "output_type": "stream",
          "text": [
            "\n",
            "[ 0.  1.  2.  3.  4.  5.  6.  7.  8.  9. 10. 11. 12. 13. 14. 15. 16. 17.\n",
            " 18. 19.]\n",
            "<NDArray 20 @cpu(0)>\n",
            "\n",
            "[[0. 1.]\n",
            " [2. 3.]\n",
            " [4. 5.]\n",
            " [6. 7.]\n",
            " [8. 9.]]\n",
            "<NDArray 5x2 @cpu(0)>\n"
          ],
          "name": "stdout"
        }
      ]
    },
    {
      "cell_type": "code",
      "metadata": {
        "id": "G94jBpyNCxTk",
        "outputId": "d3f63bad-8e07-407e-fcd3-90ea282e4833",
        "colab": {
          "base_uri": "https://localhost:8080/",
          "height": 202
        }
      },
      "source": [
        "#Transponieren\n",
        "\n",
        "a = a.reshape((5,2))\n",
        "print(a)\n",
        "\n",
        "b = a.T\n",
        "b"
      ],
      "execution_count": null,
      "outputs": [
        {
          "output_type": "stream",
          "text": [
            "\n",
            "[[0. 1.]\n",
            " [2. 3.]\n",
            " [4. 5.]\n",
            " [6. 7.]\n",
            " [8. 9.]]\n",
            "<NDArray 5x2 @cpu(0)>\n"
          ],
          "name": "stdout"
        },
        {
          "output_type": "execute_result",
          "data": {
            "text/plain": [
              "\n",
              "[[0. 2. 4. 6. 8.]\n",
              " [1. 3. 5. 7. 9.]]\n",
              "<NDArray 2x5 @cpu(0)>"
            ]
          },
          "metadata": {
            "tags": []
          },
          "execution_count": 67
        }
      ]
    },
    {
      "cell_type": "markdown",
      "metadata": {
        "id": "ELtCrIcWJ7DP"
      },
      "source": [
        "##Modelltraining (Train Model)\n"
      ]
    },
    {
      "cell_type": "markdown",
      "metadata": {
        "id": "VTeWxo86J-Di"
      },
      "source": [
        "##Modelltesting (Test Model)##\n"
      ]
    },
    {
      "cell_type": "markdown",
      "metadata": {
        "id": "QxxlwT_XKEKZ"
      },
      "source": [
        "##Modelloptimierung (Tune Model)##\n"
      ]
    },
    {
      "cell_type": "markdown",
      "metadata": {
        "id": "xhDGAgE9KIYJ"
      },
      "source": [
        "##Modellproduktivsetzung (Prediction)##"
      ]
    }
  ]
}