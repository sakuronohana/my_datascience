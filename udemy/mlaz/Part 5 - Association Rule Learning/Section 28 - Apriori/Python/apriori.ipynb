{
  "nbformat": 4,
  "nbformat_minor": 0,
  "metadata": {
    "colab": {
      "name": "apriori.ipynb",
      "provenance": [],
      "collapsed_sections": [],
      "include_colab_link": true
    },
    "kernelspec": {
      "name": "python3",
      "display_name": "Python 3"
    }
  },
  "cells": [
    {
      "cell_type": "markdown",
      "metadata": {
        "id": "view-in-github",
        "colab_type": "text"
      },
      "source": [
        "<a href=\"https://colab.research.google.com/github/sakuronohana/my_datascience/blob/master/udemy/mlaz/Part%205%20-%20Association%20Rule%20Learning/Section%2028%20-%20Apriori/Python/apriori.ipynb\" target=\"_parent\"><img src=\"https://colab.research.google.com/assets/colab-badge.svg\" alt=\"Open In Colab\"/></a>"
      ]
    },
    {
      "cell_type": "markdown",
      "metadata": {
        "id": "1fziHl7Ar94J"
      },
      "source": [
        "# Apriori-Algorithmus\n",
        "\n",
        "Wenn wir einkaufen gehen, haben wir oft eine Standardliste mit Dingen, die wir kaufen können. Jeder Käufer hat eine eigene Liste, die von seinen Bedürfnissen und Vorlieben abhängt. Eine Hausfrau könnte gesunde Zutaten für ein Familienessen kaufen, während ein Junggeselle Bier und Pommes kaufen könnte. Das Verständnis dieser Kaufmuster kann auf verschiedene Weise zur Umsatzsteigerung beitragen. Wenn es ein Paar Artikel gibt, X und Y, die häufig zusammen gekauft werden:\n",
        "\n",
        "* Sowohl X als auch Y können im selben Regal platziert werden, sodass Käufer eines Artikels aufgefordert werden, den anderen zu kaufen.\n",
        "* Aktionsrabatte können auf nur einen der beiden Artikel angewendet werden.\n",
        "* Werbung auf X könnte sich an Käufer richten, die Y kaufen.\n",
        "* X und Y könnten zu einem neuen Produkt kombiniert werden, beispielsweise mit Y in Aromen von X.\n",
        "\n",
        "Während wir vielleicht wissen, dass bestimmte Artikel häufig zusammen gekauft werden, ist die Frage, wie wir diese Assoziationen aufdecken können. Neben der Steigerung des Umsatzgewinns können Assoziationsregeln auch in anderen Bereichen angewendet werden. In der medizinischen Diagnose kann beispielsweise das Verständnis, welche Symptome zur Komorbidität neigen, dazu beitragen, die Patientenversorgung und die Verschreibung von Medikamenten zu verbessern. \n",
        "\n",
        "Mehr zum Thema auf [KDnuggets](https://www.kdnuggets.com/2016/04/association-rules-apriori-algorithm-tutorial.html)\n"
      ]
    },
    {
      "cell_type": "markdown",
      "metadata": {
        "id": "eiNwni1xsEgT"
      },
      "source": [
        "## Importing the libraries"
      ]
    },
    {
      "cell_type": "markdown",
      "metadata": {
        "id": "vLt-7XUKsXBd"
      },
      "source": [
        "## Data Preprocessing"
      ]
    },
    {
      "cell_type": "markdown",
      "metadata": {
        "id": "1wYZdBd5sea_"
      },
      "source": [
        "## Training the Apriori model on the dataset"
      ]
    },
    {
      "cell_type": "markdown",
      "metadata": {
        "id": "b176YNwWspiO"
      },
      "source": [
        "## Visualising the results"
      ]
    },
    {
      "cell_type": "markdown",
      "metadata": {
        "id": "iO6bF_dImT-E"
      },
      "source": [
        "### Displaying the first results coming directly from the output of the apriori function"
      ]
    },
    {
      "cell_type": "markdown",
      "metadata": {
        "id": "MFkQP-fcjDBC"
      },
      "source": [
        "### Putting the results well organised into a Pandas DataFrame"
      ]
    },
    {
      "cell_type": "markdown",
      "metadata": {
        "id": "Pfn-G1eAjjLz"
      },
      "source": [
        "### Displaying the results non sorted"
      ]
    },
    {
      "cell_type": "markdown",
      "metadata": {
        "id": "IjrrlYW4jpTR"
      },
      "source": [
        "### Displaying the results sorted by descending lifts"
      ]
    }
  ]
}