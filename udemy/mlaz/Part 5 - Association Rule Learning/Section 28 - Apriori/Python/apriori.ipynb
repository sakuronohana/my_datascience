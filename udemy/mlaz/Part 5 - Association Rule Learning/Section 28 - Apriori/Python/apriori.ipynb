{
  "nbformat": 4,
  "nbformat_minor": 0,
  "metadata": {
    "colab": {
      "name": "apriori.ipynb",
      "provenance": [],
      "collapsed_sections": [],
      "include_colab_link": true
    },
    "kernelspec": {
      "name": "python3",
      "display_name": "Python 3"
    }
  },
  "cells": [
    {
      "cell_type": "markdown",
      "metadata": {
        "id": "view-in-github",
        "colab_type": "text"
      },
      "source": [
        "<a href=\"https://colab.research.google.com/github/sakuronohana/my_datascience/blob/master/udemy/mlaz/Part%205%20-%20Association%20Rule%20Learning/Section%2028%20-%20Apriori/Python/apriori.ipynb\" target=\"_parent\"><img src=\"https://colab.research.google.com/assets/colab-badge.svg\" alt=\"Open In Colab\"/></a>"
      ]
    },
    {
      "cell_type": "markdown",
      "metadata": {
        "id": "1fziHl7Ar94J"
      },
      "source": [
        "# Apriori-Algorithmus\n",
        "\n",
        "Wenn wir einkaufen gehen, haben wir oft eine Standardliste mit Dingen, die wir kaufen können. Jeder Käufer hat eine eigene Liste, die von seinen Bedürfnissen und Vorlieben abhängt. Eine Hausfrau könnte gesunde Zutaten für ein Familienessen kaufen, während ein Junggeselle Bier und Pommes kaufen könnte. Das Verständnis dieser Kaufmuster kann auf verschiedene Weise zur Umsatzsteigerung beitragen. Wenn es ein Paar Artikel gibt, X und Y, die häufig zusammen gekauft werden:\n",
        "\n",
        "* Sowohl X als auch Y können im selben Regal platziert werden, sodass Käufer eines Artikels aufgefordert werden, den anderen zu kaufen.\n",
        "* Aktionsrabatte können auf nur einen der beiden Artikel angewendet werden.\n",
        "* Werbung auf X könnte sich an Käufer richten, die Y kaufen.\n",
        "* X und Y könnten zu einem neuen Produkt kombiniert werden, beispielsweise mit Y in Aromen von X.\n",
        "\n",
        "Während wir vielleicht wissen, dass bestimmte Artikel häufig zusammen gekauft werden, ist die Frage, wie wir diese Assoziationen aufdecken können. Neben der Steigerung des Umsatzgewinns können Assoziationsregeln auch in anderen Bereichen angewendet werden. In der medizinischen Diagnose kann beispielsweise das Verständnis, welche Symptome zur Komorbidität neigen, dazu beitragen, die Patientenversorgung und die Verschreibung von Medikamenten zu verbessern. \n",
        "\n",
        "Die Analyse von Zuordnungsregeln ist eine Technik, um aufzudecken, wie Elemente miteinander verknüpft sind. Der Apriori-Algorithmus ist der beliebteste Algorithmus für Mining-Assoziationsregeln. Er findet die häufigsten Kombinationen in Daten und identifiziert Zuordnungsregeln zwischen den Elementen basierend auf 3 wichtigen Faktoren:\n",
        "* **Unterstützung (Support)** : Dies gibt an, wie beliebt eine Artikelgruppe ist, gemessen am Anteil der Transaktionen, in denen eine Artikelgruppe angezeigt wird. In der folgenden Tabelle 1 beträgt die Unterstützung von Apfel 4 von 8 oder 50%. Itemsets können auch mehrere Items enthalten. Zum Beispiel beträgt die Unterstützung von {Apfel, Bier, Reis} 2 von 8 oder 25%.\n",
        " <img src='https://annalyzin.files.wordpress.com/2016/03/association-rule-support-eqn.png?w=248&h=68' width='150'>\n",
        "\n",
        " <img src='https://annalyzin.files.wordpress.com/2016/04/association-rule-support-table.png?w=503&h=447' width='200'>\n",
        "* **Vertrauen (Confidence)** : Dies gibt an, wie wahrscheinlich Artikel Y gekauft wird, wenn Artikel X gekauft wird, ausgedrückt als {X -> Y}. Dies wird am Anteil der Transaktionen mit Punkt X gemessen, in dem auch Punkt Y erscheint. In Tabelle 1 beträgt das Vertrauen von {Apfel -> Bier} 3 von 4 oder 75%.\n",
        "\n",
        " <img src='https://annalyzin.files.wordpress.com/2016/03/association-rule-confidence-eqn.png?w=527&h=77' width='300'>\n",
        "* **Lift** : Dies gibt an, wie wahrscheinlich Artikel Y gekauft wird, wenn Artikel X gekauft wird, während gesteuert wird, wie beliebt Artikel Y ist. In Tabelle 1 beträgt der Auftrieb von {Apfel -> Bier} 1, was keine Zuordnung zwischen Elementen impliziert. Ein Hubwert größer als 1 bedeutet, dass Artikel Y  wahrscheinlich  gekauft wird, wenn Artikel X gekauft wird, während ein Wert kleiner als 1 bedeutet, dass Artikel Y  wahrscheinlich  nicht gekauft wird, wenn Artikel X gekauft wird.\n",
        "\n",
        "  <img src='https://annalyzin.files.wordpress.com/2016/03/association-rule-lift-eqn.png?w=566&h=80' width='300'>\n",
        "\n",
        "Mehr zum Thema auf [KDnuggets](https://www.kdnuggets.com/2016/04/association-rules-apriori-algorithm-tutorial.html)\n",
        "\n",
        "Der Apriori-Algorithmus wird oft im Zusammenhang mit sogenannten Recommender Systemen (Empfehlungssystemen) eingesetzt. Unternehmen wie Amazon, Netflix usw. setzen um Recommender Systeme, wenn es darum geht Kunden Produkte, Serien oder Filme zu empfehlen.\n"
      ]
    },
    {
      "cell_type": "markdown",
      "metadata": {
        "id": "eiNwni1xsEgT"
      },
      "source": [
        "## Importing the libraries"
      ]
    },
    {
      "cell_type": "markdown",
      "metadata": {
        "id": "hpfTbkYt-MiP"
      },
      "source": [
        "Bei der Umsetzung eines Apriori-basierenden Models können wir nicht auf Scikit-Learn zurückgreifen. Anstelle von Scitkit müssen wir die Python Bibliothek '[Apyori](https://zaxrosenberg.com/unofficial-apyori-documentation/)' installieren."
      ]
    },
    {
      "cell_type": "code",
      "metadata": {
        "id": "jRC-jCxP-LBs",
        "outputId": "218af426-7d74-4bbd-ae24-2b3ca22ebb31",
        "colab": {
          "base_uri": "https://localhost:8080/",
          "height": 170
        }
      },
      "source": [
        "!pip install apyori"
      ],
      "execution_count": 1,
      "outputs": [
        {
          "output_type": "stream",
          "text": [
            "Collecting apyori\n",
            "  Downloading https://files.pythonhosted.org/packages/5e/62/5ffde5c473ea4b033490617ec5caa80d59804875ad3c3c57c0976533a21a/apyori-1.1.2.tar.gz\n",
            "Building wheels for collected packages: apyori\n",
            "  Building wheel for apyori (setup.py) ... \u001b[?25l\u001b[?25hdone\n",
            "  Created wheel for apyori: filename=apyori-1.1.2-cp36-none-any.whl size=5975 sha256=a8fddfd4082b6e0a8ef47184f1c1e572fc8e0ec1d2d48ca9e0cb7688357951ce\n",
            "  Stored in directory: /root/.cache/pip/wheels/5d/92/bb/474bbadbc8c0062b9eb168f69982a0443263f8ab1711a8cad0\n",
            "Successfully built apyori\n",
            "Installing collected packages: apyori\n",
            "Successfully installed apyori-1.1.2\n"
          ],
          "name": "stdout"
        }
      ]
    },
    {
      "cell_type": "code",
      "metadata": {
        "id": "7Es9C8-X79iA"
      },
      "source": [
        "import pandas as pd\n",
        "import numpy as np\n",
        "import matplotlib.pyplot as plt"
      ],
      "execution_count": 2,
      "outputs": []
    },
    {
      "cell_type": "markdown",
      "metadata": {
        "id": "vLt-7XUKsXBd"
      },
      "source": [
        "## Data Preprocessing"
      ]
    },
    {
      "cell_type": "code",
      "metadata": {
        "id": "YiXMUjat8VqD"
      },
      "source": [
        "datloc = 'https://raw.githubusercontent.com/sakuronohana/my_datascience/master/udemy/mlaz/Part%205%20-%20Association%20Rule%20Learning/Section%2028%20-%20Apriori/Python/Market_Basket_Optimisation.csv'\n",
        "dataset = pd.read_csv(datloc, header=None) # Da der Datensatz keinen Header hat müssen wir diesen ausklammern\n",
        "\n",
        "\n",
        "# Apyori erwartet Lists anstelle von Dataframes.\n",
        "transactions = []\n",
        "for i in range(0, len(dataset)):\n",
        "  # Nachfolgenden werden\n",
        "  transactions.append([str(dataset.values[i,j]) for j in range(0,20)])\n"
      ],
      "execution_count": 4,
      "outputs": []
    },
    {
      "cell_type": "code",
      "metadata": {
        "id": "TZ9swQGECRX8"
      },
      "source": [
        "transactions"
      ],
      "execution_count": null,
      "outputs": []
    },
    {
      "cell_type": "markdown",
      "metadata": {
        "id": "1wYZdBd5sea_"
      },
      "source": [
        "## Training the Apriori model on the dataset"
      ]
    },
    {
      "cell_type": "code",
      "metadata": {
        "id": "3hrjuqiBJ2uM"
      },
      "source": [
        "from apyori import apriori\n",
        "rules = apriori(transactions = transactions, min_support = 0.003, min_confidence = 0.2, min_lift = 3, min_length = 2, max_length = 2)"
      ],
      "execution_count": 11,
      "outputs": []
    },
    {
      "cell_type": "markdown",
      "metadata": {
        "id": "b176YNwWspiO"
      },
      "source": [
        "## Visualising the results"
      ]
    },
    {
      "cell_type": "code",
      "metadata": {
        "id": "LAZ3hScrDI2h"
      },
      "source": [
        ""
      ],
      "execution_count": null,
      "outputs": []
    },
    {
      "cell_type": "markdown",
      "metadata": {
        "id": "iO6bF_dImT-E"
      },
      "source": [
        "### Displaying the first results coming directly from the output of the apriori function\n",
        "\n"
      ]
    },
    {
      "cell_type": "code",
      "metadata": {
        "id": "0sO9wIf8-Vok",
        "outputId": "38d53c51-59db-4dae-80a2-2476ccd292a7",
        "colab": {
          "base_uri": "https://localhost:8080/",
          "height": 190
        }
      },
      "source": [
        "results = list(rules)\n",
        "results"
      ],
      "execution_count": 12,
      "outputs": [
        {
          "output_type": "execute_result",
          "data": {
            "text/plain": [
              "[RelationRecord(items=frozenset({'chicken', 'light cream'}), support=0.004532728969470737, ordered_statistics=[OrderedStatistic(items_base=frozenset({'light cream'}), items_add=frozenset({'chicken'}), confidence=0.29059829059829057, lift=4.84395061728395)]),\n",
              " RelationRecord(items=frozenset({'escalope', 'mushroom cream sauce'}), support=0.005732568990801226, ordered_statistics=[OrderedStatistic(items_base=frozenset({'mushroom cream sauce'}), items_add=frozenset({'escalope'}), confidence=0.3006993006993007, lift=3.790832696715049)]),\n",
              " RelationRecord(items=frozenset({'escalope', 'pasta'}), support=0.005865884548726837, ordered_statistics=[OrderedStatistic(items_base=frozenset({'pasta'}), items_add=frozenset({'escalope'}), confidence=0.3728813559322034, lift=4.700811850163794)]),\n",
              " RelationRecord(items=frozenset({'honey', 'fromage blanc'}), support=0.003332888948140248, ordered_statistics=[OrderedStatistic(items_base=frozenset({'fromage blanc'}), items_add=frozenset({'honey'}), confidence=0.2450980392156863, lift=5.164270764485569)]),\n",
              " RelationRecord(items=frozenset({'ground beef', 'herb & pepper'}), support=0.015997866951073192, ordered_statistics=[OrderedStatistic(items_base=frozenset({'herb & pepper'}), items_add=frozenset({'ground beef'}), confidence=0.3234501347708895, lift=3.2919938411349285)]),\n",
              " RelationRecord(items=frozenset({'ground beef', 'tomato sauce'}), support=0.005332622317024397, ordered_statistics=[OrderedStatistic(items_base=frozenset({'tomato sauce'}), items_add=frozenset({'ground beef'}), confidence=0.3773584905660377, lift=3.840659481324083)]),\n",
              " RelationRecord(items=frozenset({'olive oil', 'light cream'}), support=0.003199573390214638, ordered_statistics=[OrderedStatistic(items_base=frozenset({'light cream'}), items_add=frozenset({'olive oil'}), confidence=0.20512820512820515, lift=3.1147098515519573)]),\n",
              " RelationRecord(items=frozenset({'whole wheat pasta', 'olive oil'}), support=0.007998933475536596, ordered_statistics=[OrderedStatistic(items_base=frozenset({'whole wheat pasta'}), items_add=frozenset({'olive oil'}), confidence=0.2714932126696833, lift=4.122410097642296)]),\n",
              " RelationRecord(items=frozenset({'shrimp', 'pasta'}), support=0.005065991201173177, ordered_statistics=[OrderedStatistic(items_base=frozenset({'pasta'}), items_add=frozenset({'shrimp'}), confidence=0.3220338983050847, lift=4.506672147735896)])]"
            ]
          },
          "metadata": {
            "tags": []
          },
          "execution_count": 12
        }
      ]
    },
    {
      "cell_type": "markdown",
      "metadata": {
        "id": "8rZHKT0S_gEt"
      },
      "source": [
        "Oben sehen wir das Trainingsresultat des Apriori-Modells. Schauen wir uns mal die erste Rule etwas genauer an.\n",
        "\n",
        "Hierbei geht es um die Produktekombination Light cream und Chicken. Was heisst, dass bei Kunden die Light Cream (Items_base) kauften eine hohe Chance bestand, dass dies auch Chicken (items_add) kauften. \n",
        "* **Confidence**: Bei Kunden die Light Cream kauften bestand eine 29% Chance, dass diese auch Chicken kauften.\n",
        "* **Support**: Diese Kombination erscheit in 0.45% aller Transaktionen.\n",
        "* **Lift**: Die Bedeutung der Regel im Kontext zu den gesamten Transaktionen liegt bei 4.8, was über alle Lifts hinweg ein sehr guter Wert darstellt. "
      ]
    },
    {
      "cell_type": "markdown",
      "metadata": {
        "id": "MFkQP-fcjDBC"
      },
      "source": [
        "### Putting the results well organised into a Pandas DataFrame"
      ]
    },
    {
      "cell_type": "code",
      "metadata": {
        "id": "JD_Ex9H2DHBQ"
      },
      "source": [
        "def inspect(results):\n",
        "  lhs =         [tuple(result[2][0][0])[0] for result in results]\n",
        "  rhs =         [tuple(result[2][0][1])[0] for result in results]\n",
        "  supports =    [result[1] for result in results]\n",
        "  confidence =  [result[2][0][2] for result in results]\n",
        "  lifts =       [result[2][0][3] for result in results]\n",
        "  return list(zip(lhs, rhs, supports, confidence, lifts))\n",
        "resultsinDataFrame = pd.DataFrame(inspect(results), columns=['Left Hand Side', 'Right Hand Side', 'Support', 'Confidence','Lift'])\n"
      ],
      "execution_count": 15,
      "outputs": []
    },
    {
      "cell_type": "code",
      "metadata": {
        "id": "2qeZKHYpGe5z",
        "outputId": "6fdc2d61-b29f-4150-ec01-6af9d56df6dc",
        "colab": {
          "base_uri": "https://localhost:8080/",
          "height": 328
        }
      },
      "source": [
        "resultsinDataFrame"
      ],
      "execution_count": 16,
      "outputs": [
        {
          "output_type": "execute_result",
          "data": {
            "text/html": [
              "<div>\n",
              "<style scoped>\n",
              "    .dataframe tbody tr th:only-of-type {\n",
              "        vertical-align: middle;\n",
              "    }\n",
              "\n",
              "    .dataframe tbody tr th {\n",
              "        vertical-align: top;\n",
              "    }\n",
              "\n",
              "    .dataframe thead th {\n",
              "        text-align: right;\n",
              "    }\n",
              "</style>\n",
              "<table border=\"1\" class=\"dataframe\">\n",
              "  <thead>\n",
              "    <tr style=\"text-align: right;\">\n",
              "      <th></th>\n",
              "      <th>Left Hand Side</th>\n",
              "      <th>Right Hand Side</th>\n",
              "      <th>Support</th>\n",
              "      <th>Confidence</th>\n",
              "      <th>Lift</th>\n",
              "    </tr>\n",
              "  </thead>\n",
              "  <tbody>\n",
              "    <tr>\n",
              "      <th>0</th>\n",
              "      <td>light cream</td>\n",
              "      <td>chicken</td>\n",
              "      <td>0.004533</td>\n",
              "      <td>0.290598</td>\n",
              "      <td>4.843951</td>\n",
              "    </tr>\n",
              "    <tr>\n",
              "      <th>1</th>\n",
              "      <td>mushroom cream sauce</td>\n",
              "      <td>escalope</td>\n",
              "      <td>0.005733</td>\n",
              "      <td>0.300699</td>\n",
              "      <td>3.790833</td>\n",
              "    </tr>\n",
              "    <tr>\n",
              "      <th>2</th>\n",
              "      <td>pasta</td>\n",
              "      <td>escalope</td>\n",
              "      <td>0.005866</td>\n",
              "      <td>0.372881</td>\n",
              "      <td>4.700812</td>\n",
              "    </tr>\n",
              "    <tr>\n",
              "      <th>3</th>\n",
              "      <td>fromage blanc</td>\n",
              "      <td>honey</td>\n",
              "      <td>0.003333</td>\n",
              "      <td>0.245098</td>\n",
              "      <td>5.164271</td>\n",
              "    </tr>\n",
              "    <tr>\n",
              "      <th>4</th>\n",
              "      <td>herb &amp; pepper</td>\n",
              "      <td>ground beef</td>\n",
              "      <td>0.015998</td>\n",
              "      <td>0.323450</td>\n",
              "      <td>3.291994</td>\n",
              "    </tr>\n",
              "    <tr>\n",
              "      <th>5</th>\n",
              "      <td>tomato sauce</td>\n",
              "      <td>ground beef</td>\n",
              "      <td>0.005333</td>\n",
              "      <td>0.377358</td>\n",
              "      <td>3.840659</td>\n",
              "    </tr>\n",
              "    <tr>\n",
              "      <th>6</th>\n",
              "      <td>light cream</td>\n",
              "      <td>olive oil</td>\n",
              "      <td>0.003200</td>\n",
              "      <td>0.205128</td>\n",
              "      <td>3.114710</td>\n",
              "    </tr>\n",
              "    <tr>\n",
              "      <th>7</th>\n",
              "      <td>whole wheat pasta</td>\n",
              "      <td>olive oil</td>\n",
              "      <td>0.007999</td>\n",
              "      <td>0.271493</td>\n",
              "      <td>4.122410</td>\n",
              "    </tr>\n",
              "    <tr>\n",
              "      <th>8</th>\n",
              "      <td>pasta</td>\n",
              "      <td>shrimp</td>\n",
              "      <td>0.005066</td>\n",
              "      <td>0.322034</td>\n",
              "      <td>4.506672</td>\n",
              "    </tr>\n",
              "  </tbody>\n",
              "</table>\n",
              "</div>"
            ],
            "text/plain": [
              "         Left Hand Side Right Hand Side   Support  Confidence      Lift\n",
              "0           light cream         chicken  0.004533    0.290598  4.843951\n",
              "1  mushroom cream sauce        escalope  0.005733    0.300699  3.790833\n",
              "2                 pasta        escalope  0.005866    0.372881  4.700812\n",
              "3         fromage blanc           honey  0.003333    0.245098  5.164271\n",
              "4         herb & pepper     ground beef  0.015998    0.323450  3.291994\n",
              "5          tomato sauce     ground beef  0.005333    0.377358  3.840659\n",
              "6           light cream       olive oil  0.003200    0.205128  3.114710\n",
              "7     whole wheat pasta       olive oil  0.007999    0.271493  4.122410\n",
              "8                 pasta          shrimp  0.005066    0.322034  4.506672"
            ]
          },
          "metadata": {
            "tags": []
          },
          "execution_count": 16
        }
      ]
    },
    {
      "cell_type": "markdown",
      "metadata": {
        "id": "Pfn-G1eAjjLz"
      },
      "source": [
        "### Displaying the results non sorted"
      ]
    },
    {
      "cell_type": "markdown",
      "metadata": {
        "id": "IjrrlYW4jpTR"
      },
      "source": [
        "### Displaying the results sorted by descending lifts"
      ]
    }
  ]
}