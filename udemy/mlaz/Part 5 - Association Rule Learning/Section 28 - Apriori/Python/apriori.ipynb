{
  "nbformat": 4,
  "nbformat_minor": 0,
  "metadata": {
    "colab": {
      "name": "apriori.ipynb",
      "provenance": [],
      "collapsed_sections": [],
      "include_colab_link": true
    },
    "kernelspec": {
      "name": "python3",
      "display_name": "Python 3"
    }
  },
  "cells": [
    {
      "cell_type": "markdown",
      "metadata": {
        "id": "view-in-github",
        "colab_type": "text"
      },
      "source": [
        "<a href=\"https://colab.research.google.com/github/sakuronohana/my_datascience/blob/master/udemy/mlaz/Part%205%20-%20Association%20Rule%20Learning/Section%2028%20-%20Apriori/Python/apriori.ipynb\" target=\"_parent\"><img src=\"https://colab.research.google.com/assets/colab-badge.svg\" alt=\"Open In Colab\"/></a>"
      ]
    },
    {
      "cell_type": "markdown",
      "metadata": {
        "id": "1fziHl7Ar94J"
      },
      "source": [
        "# Apriori-Algorithmus\n",
        "\n",
        "Wenn wir einkaufen gehen, haben wir oft eine Standardliste mit Dingen, die wir kaufen können. Jeder Käufer hat eine eigene Liste, die von seinen Bedürfnissen und Vorlieben abhängt. Eine Hausfrau könnte gesunde Zutaten für ein Familienessen kaufen, während ein Junggeselle Bier und Pommes kaufen könnte. Das Verständnis dieser Kaufmuster kann auf verschiedene Weise zur Umsatzsteigerung beitragen. Wenn es ein Paar Artikel gibt, X und Y, die häufig zusammen gekauft werden:\n",
        "\n",
        "* Sowohl X als auch Y können im selben Regal platziert werden, sodass Käufer eines Artikels aufgefordert werden, den anderen zu kaufen.\n",
        "* Aktionsrabatte können auf nur einen der beiden Artikel angewendet werden.\n",
        "* Werbung auf X könnte sich an Käufer richten, die Y kaufen.\n",
        "* X und Y könnten zu einem neuen Produkt kombiniert werden, beispielsweise mit Y in Aromen von X.\n",
        "\n",
        "Während wir vielleicht wissen, dass bestimmte Artikel häufig zusammen gekauft werden, ist die Frage, wie wir diese Assoziationen aufdecken können. Neben der Steigerung des Umsatzgewinns können Assoziationsregeln auch in anderen Bereichen angewendet werden. In der medizinischen Diagnose kann beispielsweise das Verständnis, welche Symptome zur Komorbidität neigen, dazu beitragen, die Patientenversorgung und die Verschreibung von Medikamenten zu verbessern. \n",
        "\n",
        "Die Analyse von Zuordnungsregeln ist eine Technik, um aufzudecken, wie Elemente miteinander verknüpft sind. Der Apriori-Algorithmus ist der beliebteste Algorithmus für Mining-Assoziationsregeln. Er findet die häufigsten Kombinationen in Daten und identifiziert Zuordnungsregeln zwischen den Elementen basierend auf 3 wichtigen Faktoren:\n",
        "* **Unterstützung (Support)** : Dies gibt an, wie beliebt eine Artikelgruppe ist, gemessen am Anteil der Transaktionen, in denen eine Artikelgruppe angezeigt wird. In der folgenden Tabelle 1 beträgt die Unterstützung von {apple} 4 von 8 oder 50%. Itemsets können auch mehrere Items enthalten. Zum Beispiel beträgt die Unterstützung von {Apfel, Bier, Reis} 2 von 8 oder 25%.\n",
        " <img src='https://annalyzin.files.wordpress.com/2016/03/association-rule-support-eqn.png?w=248&h=68' width='150'>\n",
        "\n",
        " <img src='https://annalyzin.files.wordpress.com/2016/04/association-rule-support-table.png?w=503&h=447' width='200'>\n",
        "* **Vertrauen (Confidence)** : Dies gibt an, wie wahrscheinlich Artikel Y gekauft wird, wenn Artikel X gekauft wird, ausgedrückt als {X -> Y}. Dies wird am Anteil der Transaktionen mit Punkt X gemessen, in dem auch Punkt Y erscheint. In Tabelle 1 beträgt das Vertrauen von {Apfel -> Bier} 3 von 4 oder 75%.\n",
        "\n",
        " <img src='https://annalyzin.files.wordpress.com/2016/03/association-rule-confidence-eqn.png?w=527&h=77' width='300'>\n",
        "* **Lift** : Dies gibt an, wie wahrscheinlich Artikel Y gekauft wird, wenn Artikel X gekauft wird, während gesteuert wird, wie beliebt Artikel Y ist. In Tabelle 1 beträgt der Auftrieb von {Apfel -> Bier} 1, was keine Zuordnung zwischen Elementen impliziert. Ein Hubwert größer als 1 bedeutet, dass Artikel Y  wahrscheinlich  gekauft wird, wenn Artikel X gekauft wird, während ein Wert kleiner als 1 bedeutet, dass Artikel Y  wahrscheinlich  nicht gekauft wird, wenn Artikel X gekauft wird.\n",
        "\n",
        "  <img src='https://annalyzin.files.wordpress.com/2016/03/association-rule-lift-eqn.png?w=566&h=80' width='300'>\n",
        "\n",
        "Mehr zum Thema auf [KDnuggets](https://www.kdnuggets.com/2016/04/association-rules-apriori-algorithm-tutorial.html)\n",
        "\n",
        "Der Apriori-Algorithmus wird oft im Zusammenhang mit sogenannten Recommender Systemen (Empfehlungssystemen) eingesetzt. Unternehmen wie Amazon, Netflix usw. setzen um Recommender Systeme, wenn es darum geht Kunden Produkte, Serien oder Filme zu empfehlen.\n"
      ]
    },
    {
      "cell_type": "markdown",
      "metadata": {
        "id": "eiNwni1xsEgT"
      },
      "source": [
        "## Importing the libraries"
      ]
    },
    {
      "cell_type": "markdown",
      "metadata": {
        "id": "hpfTbkYt-MiP"
      },
      "source": [
        "Bei der Umsetzung eines Apriori-basierenden Models können wir nicht auf Scikit-Learn zurückgreifen. Anstelle von Scitkit müssen wir die Python Bibliothek '[Apyori](https://zaxrosenberg.com/unofficial-apyori-documentation/)' installieren."
      ]
    },
    {
      "cell_type": "code",
      "metadata": {
        "id": "jRC-jCxP-LBs",
        "outputId": "0da55547-d1a3-4515-f69a-c3b56efd441a",
        "colab": {
          "base_uri": "https://localhost:8080/",
          "height": 170
        }
      },
      "source": [
        "!pip install apyori"
      ],
      "execution_count": 8,
      "outputs": [
        {
          "output_type": "stream",
          "text": [
            "Collecting apyori\n",
            "  Downloading https://files.pythonhosted.org/packages/5e/62/5ffde5c473ea4b033490617ec5caa80d59804875ad3c3c57c0976533a21a/apyori-1.1.2.tar.gz\n",
            "Building wheels for collected packages: apyori\n",
            "  Building wheel for apyori (setup.py) ... \u001b[?25l\u001b[?25hdone\n",
            "  Created wheel for apyori: filename=apyori-1.1.2-cp36-none-any.whl size=5975 sha256=e7172d23c5f41e3dec9f557c8e8887fb8b0fb52fe6777376ebfe793716e68b97\n",
            "  Stored in directory: /root/.cache/pip/wheels/5d/92/bb/474bbadbc8c0062b9eb168f69982a0443263f8ab1711a8cad0\n",
            "Successfully built apyori\n",
            "Installing collected packages: apyori\n",
            "Successfully installed apyori-1.1.2\n"
          ],
          "name": "stdout"
        }
      ]
    },
    {
      "cell_type": "code",
      "metadata": {
        "id": "7Es9C8-X79iA"
      },
      "source": [
        "import pandas as pd\n",
        "import numpy as np\n",
        "import matplotlib.pyplot as plt"
      ],
      "execution_count": 1,
      "outputs": []
    },
    {
      "cell_type": "markdown",
      "metadata": {
        "id": "vLt-7XUKsXBd"
      },
      "source": [
        "## Data Preprocessing"
      ]
    },
    {
      "cell_type": "code",
      "metadata": {
        "id": "YiXMUjat8VqD"
      },
      "source": [
        "datloc = 'https://raw.githubusercontent.com/sakuronohana/my_datascience/master/udemy/mlaz/Part%205%20-%20Association%20Rule%20Learning/Section%2028%20-%20Apriori/Python/Market_Basket_Optimisation.csv'\n",
        "dataset = pd.read_csv(datloc, header=None)\n",
        "\n",
        "for i in dataset:\n",
        "  "
      ],
      "execution_count": 6,
      "outputs": []
    },
    {
      "cell_type": "code",
      "metadata": {
        "id": "9Mwtq_zv8i0K",
        "outputId": "03e79483-efb7-473b-f536-62c8dd6fe680",
        "colab": {
          "base_uri": "https://localhost:8080/",
          "height": 170
        }
      },
      "source": [
        "X"
      ],
      "execution_count": 7,
      "outputs": [
        {
          "output_type": "execute_result",
          "data": {
            "text/plain": [
              "array([['shrimp', 'almonds', 'avocado', ..., 'frozen smoothie',\n",
              "        'spinach', 'olive oil'],\n",
              "       ['burgers', 'meatballs', 'eggs', ..., nan, nan, nan],\n",
              "       ['chutney', nan, nan, ..., nan, nan, nan],\n",
              "       ...,\n",
              "       ['chicken', nan, nan, ..., nan, nan, nan],\n",
              "       ['escalope', 'green tea', nan, ..., nan, nan, nan],\n",
              "       ['eggs', 'frozen smoothie', 'yogurt cake', ..., nan, nan, nan]],\n",
              "      dtype=object)"
            ]
          },
          "metadata": {
            "tags": []
          },
          "execution_count": 7
        }
      ]
    },
    {
      "cell_type": "markdown",
      "metadata": {
        "id": "1wYZdBd5sea_"
      },
      "source": [
        "## Training the Apriori model on the dataset"
      ]
    },
    {
      "cell_type": "markdown",
      "metadata": {
        "id": "b176YNwWspiO"
      },
      "source": [
        "## Visualising the results"
      ]
    },
    {
      "cell_type": "markdown",
      "metadata": {
        "id": "iO6bF_dImT-E"
      },
      "source": [
        "### Displaying the first results coming directly from the output of the apriori function"
      ]
    },
    {
      "cell_type": "markdown",
      "metadata": {
        "id": "MFkQP-fcjDBC"
      },
      "source": [
        "### Putting the results well organised into a Pandas DataFrame"
      ]
    },
    {
      "cell_type": "markdown",
      "metadata": {
        "id": "Pfn-G1eAjjLz"
      },
      "source": [
        "### Displaying the results non sorted"
      ]
    },
    {
      "cell_type": "markdown",
      "metadata": {
        "id": "IjrrlYW4jpTR"
      },
      "source": [
        "### Displaying the results sorted by descending lifts"
      ]
    }
  ]
}