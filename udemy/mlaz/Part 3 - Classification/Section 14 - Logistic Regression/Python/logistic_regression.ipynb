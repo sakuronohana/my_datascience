{
  "nbformat": 4,
  "nbformat_minor": 0,
  "metadata": {
    "colab": {
      "name": "logistic_regression.ipynb",
      "provenance": [],
      "collapsed_sections": [],
      "machine_shape": "hm",
      "include_colab_link": true
    },
    "kernelspec": {
      "name": "python3",
      "display_name": "Python 3"
    }
  },
  "cells": [
    {
      "cell_type": "markdown",
      "metadata": {
        "id": "view-in-github",
        "colab_type": "text"
      },
      "source": [
        "<a href=\"https://colab.research.google.com/github/sakuronohana/my_datascience/blob/master/udemy/mlaz/Part%203%20-%20Classification/Section%2014%20-%20Logistic%20Regression/Python/logistic_regression.ipynb\" target=\"_parent\"><img src=\"https://colab.research.google.com/assets/colab-badge.svg\" alt=\"Open In Colab\"/></a>"
      ]
    },
    {
      "cell_type": "markdown",
      "metadata": {
        "id": "0MRC0e0KhQ0S",
        "colab_type": "text"
      },
      "source": [
        "# Logistic Regression\n",
        "\n",
        "Wenn wir von Logistic Regression im Zusammenhang mit Klassifikation reden, dann ist diese kein versehen. LogReg gehört wirklich zu den Klassifikationsalgorithmen (siehe auch [Link](https://kambria.io/blog/logistic-regression-for-machine-learning/#:~:text=Logistic%20regression%20is%20a%20classification,either%20a%200%20or%201.))\n",
        "\n",
        "Dieser Algorithmus wird vor allem dann verwendet, wenn die verwendeten Daten zwei sogenannte binäre Werte 0 oder 1 annehmen können. Die folgenden Beispiele verdeutlichen das Spektrum möglicher Anwendungen der logistischen Regression:\n",
        "\n",
        "* Conversion-Prognose: Kauft ein Kunde ein Produkt?\n",
        "* Bonität: Zahlt ein Kreditnehmer einen Kredit vollständig zurück?\n",
        "* Markenbekanntheit: Kennt jemand eine Marke?\n",
        "* Parteipräferenz: Würde eine Person Partei X wählen, wenn am kommenden Sonntag * Bundestagswahlen wären?\n",
        "* Medizinische Diagnose: Hat eine Person eine bestimmte Krankheit?\n",
        "* Qualitätskontrolle: Entspricht ein Produkt der Spezifikation?\n",
        "* Einschaltquoten: Hat eine Person eine TV-Sendung gesehen?\n",
        "* A/B-Testing: Ist Version A einer Webseite besser als eine Version B?\n",
        "\n",
        "Quelle: [INWT Statistics](https://www.inwt-statistics.de/blog-artikel-lesen/Logistische_Regression.html)\n",
        "\n",
        "Nachfolgend ein Vergleich zwischen der Linear Regression und der Logistic Regression.\n",
        "\n",
        "<img src=\"https://static.javatpoint.com/tutorial/machine-learning/images/linear-regression-vs-logistic-regression.png\">\n",
        "\n",
        "Quelle: static.javatpoint.com\n",
        "\n",
        "Im Prinzip geht es darum die Wahrscheinlichkeit (Prediction) zu ermitteln wann etwas Wahr oder Falsch ist. Je höher die Wahrscheinlichkeit desto höher besteht die Möglichkeit, dass etwas eintrifft.\n",
        "\n",
        "<img src=\"https://github.com/sakuronohana/my_datascience/blob/master/doc_images/log_reg_pic1.jpg?raw=true\" width=\"600\">\n",
        "\n",
        "Dabei wird ein Schwellwert von 0.5 definiert, dass ein Zustand eintritt.\n",
        "\n",
        "<img src=\"https://github.com/sakuronohana/my_datascience/blob/master/doc_images/log_reg_pic2.jpg?raw=true\" width=\"600\">"
      ]
    },
    {
      "cell_type": "markdown",
      "metadata": {
        "id": "LWd1UlMnhT2s",
        "colab_type": "text"
      },
      "source": [
        "## Importing the libraries"
      ]
    },
    {
      "cell_type": "code",
      "metadata": {
        "id": "uZAB5PCqj0il",
        "colab_type": "code",
        "colab": {}
      },
      "source": [
        "import pandas as pd\n",
        "import numpy as np\n",
        "import matplotlib.pyplot as plt"
      ],
      "execution_count": 2,
      "outputs": []
    },
    {
      "cell_type": "markdown",
      "metadata": {
        "id": "K1VMqkGvhc3-",
        "colab_type": "text"
      },
      "source": [
        "## Importing the dataset"
      ]
    },
    {
      "cell_type": "code",
      "metadata": {
        "id": "ibz_l9IQkSKS",
        "colab_type": "code",
        "colab": {}
      },
      "source": [
        "daturl = \"https://raw.githubusercontent.com/sakuronohana/my_datascience/master/udemy/mlaz/Part%203%20-%20Classification/Section%2014%20-%20Logistic%20Regression/Python/Social_Network_Ads.csv\"\n",
        "dataset = pd.read_csv(daturl)\n",
        "\n",
        "X = dataset.iloc[:,:-1].values\n",
        "y = dataset.iloc[:,-1].values\n"
      ],
      "execution_count": 3,
      "outputs": []
    },
    {
      "cell_type": "code",
      "metadata": {
        "id": "Sf70CGm5tllw",
        "colab_type": "code",
        "colab": {}
      },
      "source": [
        "X"
      ],
      "execution_count": null,
      "outputs": []
    },
    {
      "cell_type": "markdown",
      "metadata": {
        "id": "YvxIPVyMhmKp",
        "colab_type": "text"
      },
      "source": [
        "## Splitting the dataset into the Training set and Test set"
      ]
    },
    {
      "cell_type": "code",
      "metadata": {
        "id": "9i722O-KlRc7",
        "colab_type": "code",
        "colab": {}
      },
      "source": [
        "from sklearn.model_selection import train_test_split\n",
        "\n",
        "X_train,X_test,y_train,y_test = train_test_split(X,y, test_size = 0.25, random_state=0)"
      ],
      "execution_count": 4,
      "outputs": []
    },
    {
      "cell_type": "markdown",
      "metadata": {
        "id": "kW3c7UYih0hT",
        "colab_type": "text"
      },
      "source": [
        "## Feature Scaling"
      ]
    },
    {
      "cell_type": "code",
      "metadata": {
        "id": "wzemLR4npfOc",
        "colab_type": "code",
        "colab": {}
      },
      "source": [
        "from sklearn.preprocessing import StandardScaler\n",
        "sc = StandardScaler()\n",
        "X_train = sc.fit_transform(X_train)\n",
        "X_test = sc.transform(X_test)"
      ],
      "execution_count": 5,
      "outputs": []
    },
    {
      "cell_type": "markdown",
      "metadata": {
        "id": "bb6jCOCQiAmP",
        "colab_type": "text"
      },
      "source": [
        "## Training the Logistic Regression model on the Training set"
      ]
    },
    {
      "cell_type": "code",
      "metadata": {
        "id": "YrrkNzaluTEF",
        "colab_type": "code",
        "colab": {
          "base_uri": "https://localhost:8080/",
          "height": 105
        },
        "outputId": "8f88419a-77af-445f-989e-d5f683cd991f"
      },
      "source": [
        "from sklearn.linear_model import LogisticRegression\n",
        "\n",
        "classifier = LogisticRegression(random_state=0)\n",
        "classifier.fit(X_train,y_train)"
      ],
      "execution_count": 6,
      "outputs": [
        {
          "output_type": "execute_result",
          "data": {
            "text/plain": [
              "LogisticRegression(C=1.0, class_weight=None, dual=False, fit_intercept=True,\n",
              "                   intercept_scaling=1, l1_ratio=None, max_iter=100,\n",
              "                   multi_class='auto', n_jobs=None, penalty='l2',\n",
              "                   random_state=0, solver='lbfgs', tol=0.0001, verbose=0,\n",
              "                   warm_start=False)"
            ]
          },
          "metadata": {
            "tags": []
          },
          "execution_count": 6
        }
      ]
    },
    {
      "cell_type": "markdown",
      "metadata": {
        "id": "4gF8Wljqvi2h",
        "colab_type": "text"
      },
      "source": [
        "# Predicting a new result\n",
        "\n",
        "Wichtig! Da wir die Daten skaliert haben, müssen wir dies für die Werte, welche wir in der nachfolgenden Prediction verwenden, auch machen. Hierfür müssen wir natürlich die genau gleichen Skalierfunktion nehmen wie oben sc"
      ]
    },
    {
      "cell_type": "code",
      "metadata": {
        "id": "3D9aTDPYfF3u",
        "colab_type": "code",
        "colab": {
          "base_uri": "https://localhost:8080/",
          "height": 34
        },
        "outputId": "dfa885f9-675e-4cf2-abc7-14c9ec62a1cf"
      },
      "source": [
        "print(classifier.predict(sc.transform([[30,87000]])))"
      ],
      "execution_count": 7,
      "outputs": [
        {
          "output_type": "stream",
          "text": [
            "[0]\n"
          ],
          "name": "stdout"
        }
      ]
    },
    {
      "cell_type": "markdown",
      "metadata": {
        "id": "7uO1bnqQvoKd",
        "colab_type": "text"
      },
      "source": [
        "# Predicting the Test set results"
      ]
    },
    {
      "cell_type": "markdown",
      "metadata": {
        "id": "h4Hwj34ziWQW",
        "colab_type": "text"
      },
      "source": [
        "## Making the Confusion Matrix"
      ]
    },
    {
      "cell_type": "markdown",
      "metadata": {
        "id": "WUDNAWSlvur3",
        "colab_type": "text"
      },
      "source": [
        "# Visualising the Training set results"
      ]
    },
    {
      "cell_type": "markdown",
      "metadata": {
        "id": "1LegLnDxv2oQ",
        "colab_type": "text"
      },
      "source": [
        "# Visualising the Test set results"
      ]
    }
  ]
}