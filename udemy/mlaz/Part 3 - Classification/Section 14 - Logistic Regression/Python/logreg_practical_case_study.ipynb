{
  "nbformat": 4,
  "nbformat_minor": 0,
  "metadata": {
    "colab": {
      "name": "logreg_practical_case_study.ipynb",
      "provenance": [],
      "authorship_tag": "ABX9TyMJZkFiEbpqsJ3PZwxEv5oQ",
      "include_colab_link": true
    },
    "kernelspec": {
      "name": "python3",
      "display_name": "Python 3"
    }
  },
  "cells": [
    {
      "cell_type": "markdown",
      "metadata": {
        "id": "view-in-github",
        "colab_type": "text"
      },
      "source": [
        "<a href=\"https://colab.research.google.com/github/sakuronohana/my_datascience/blob/master/udemy/mlaz/Part%203%20-%20Classification/Section%2014%20-%20Logistic%20Regression/Python/logreg_practical_case_study.ipynb\" target=\"_parent\"><img src=\"https://colab.research.google.com/assets/colab-badge.svg\" alt=\"Open In Colab\"/></a>"
      ]
    },
    {
      "cell_type": "markdown",
      "metadata": {
        "id": "kqcpldFTA5qH",
        "colab_type": "text"
      },
      "source": [
        "# Praktisches Fallbeispiel - Logistic regression\n",
        "\n",
        "Im nachfolgenden Tutorial werden wir ein ML-Modell mittels der logistischen Regression aufbauen. Das das Ziel unserer ML-Modells wird es sein auf Basis eines Brustkrebsdatensatzen herauszufinden ob die Wahrscheinlichkeit für Brustkrebs besteht oder nicht.\n",
        "\n",
        "Hierfür verwenden wir einen Datensatz der auf dem bekannten [ML-Repository UCI](https://archive.ics.uci.edu/ml/datasets/Breast+Cancer+Wisconsin+%28Diagnostic%29) abgelegt ist. Der Datensatz kommt aus dem 1992 ist aber für unsere Zwecke dennoch gut geeignet. Die Beschreibung des Datensatzes ist [hier](https://raw.githubusercontent.com/sakuronohana/my_datascience/master/udemy/mlaz/Part%203%20-%20Classification/Section%2014%20-%20Logistic%20Regression/Python/breast-cancer-wisconsin.txt) zu finden. Nachfolgend die wichtigsten Informationen über dem Datensatz.\n",
        "\n",
        "* Datensatzmerkmale:  Multivariate\n",
        "* Anzahl der Instanzen: 699\n",
        "* Attributmerkmale: Ganze Zahl\n",
        "* Anzahl der Attribute: 10 (unabhängige Variablen)\n",
        "* Fehlende Werte?: Ja\n",
        "\n",
        "Attribute Information:\n",
        "\n",
        "1. Sample code number: id number\n",
        "2. Clump Thickness: 1 - 10\n",
        "3. Uniformity of Cell Size: 1 - 10\n",
        "4. Uniformity of Cell Shape: 1 - 10\n",
        "5. Marginal Adhesion: 1 - 10\n",
        "6. Single Epithelial Cell Size: 1 - 10\n",
        "7. Bare Nuclei: 1 - 10\n",
        "8. Bland Chromatin: 1 - 10\n",
        "9. Normal Nucleoli: 1 - 10\n",
        "10. Mitoses: 1 - 10\n",
        "11. Class: (2 for benign (dt. gutartig), 4 for malignant (dt. bösartig))\n",
        "\n",
        "Das Feature Class ist die abhängige Variable uns somit unser Label."
      ]
    },
    {
      "cell_type": "markdown",
      "metadata": {
        "id": "ikHErsdQBB8c",
        "colab_type": "text"
      },
      "source": [
        ""
      ]
    },
    {
      "cell_type": "code",
      "metadata": {
        "id": "BhVx55RF_NyJ",
        "colab_type": "code",
        "colab": {}
      },
      "source": [
        ""
      ],
      "execution_count": null,
      "outputs": []
    }
  ]
}