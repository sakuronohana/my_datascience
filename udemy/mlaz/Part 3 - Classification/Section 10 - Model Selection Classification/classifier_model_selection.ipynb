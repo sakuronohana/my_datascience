{
  "nbformat": 4,
  "nbformat_minor": 0,
  "metadata": {
    "colab": {
      "name": "classifier_model_selection.ipynb",
      "provenance": [],
      "collapsed_sections": [],
      "machine_shape": "hm",
      "include_colab_link": true
    },
    "kernelspec": {
      "name": "python3",
      "display_name": "Python 3"
    }
  },
  "cells": [
    {
      "cell_type": "markdown",
      "metadata": {
        "id": "view-in-github",
        "colab_type": "text"
      },
      "source": [
        "<a href=\"https://colab.research.google.com/github/sakuronohana/my_datascience/blob/master/udemy/mlaz/Part%203%20-%20Classification/Section%2010%20-%20Model%20Selection%20Classification/classifier_model_selection.ipynb\" target=\"_parent\"><img src=\"https://colab.research.google.com/assets/colab-badge.svg\" alt=\"Open In Colab\"/></a>"
      ]
    },
    {
      "cell_type": "markdown",
      "metadata": {
        "id": "0MRC0e0KhQ0S",
        "colab_type": "text"
      },
      "source": [
        "# Classification Model Selection\n",
        "\n",
        "In diesem Notebook werden wir eine klassische Modell Selektion vornehmen. Dazu werden wir verschiedene Klassifikatoren auf einen Datensatz trainineren und mittels Performance-Messungen das beste Modell auswählen."
      ]
    },
    {
      "cell_type": "markdown",
      "metadata": {
        "id": "LWd1UlMnhT2s",
        "colab_type": "text"
      },
      "source": [
        "## Importing the libraries"
      ]
    },
    {
      "cell_type": "code",
      "metadata": {
        "id": "YvGPUQaHhXfL",
        "colab_type": "code",
        "colab": {}
      },
      "source": [
        "import numpy as np\n",
        "import matplotlib.pyplot as plt\n",
        "import pandas as pd"
      ],
      "execution_count": 21,
      "outputs": []
    },
    {
      "cell_type": "markdown",
      "metadata": {
        "id": "K1VMqkGvhc3-",
        "colab_type": "text"
      },
      "source": [
        "## Importing the dataset"
      ]
    },
    {
      "cell_type": "code",
      "metadata": {
        "id": "6vRWBzBK5GeV",
        "colab_type": "code",
        "colab": {}
      },
      "source": [
        "datloc = ('https://raw.githubusercontent.com/sakuronohana/my_datascience/master/udemy/mlaz/Part%203%20-%20Classification/Section%2010%20-%20Model%20Selection%20Classification/Data.csv')\n",
        "\n",
        "dataset = pd.read_csv(datloc)\n",
        "X = dataset.iloc[:,:-1].values\n",
        "y = dataset.iloc[:,-1].values"
      ],
      "execution_count": 22,
      "outputs": []
    },
    {
      "cell_type": "markdown",
      "metadata": {
        "id": "YvxIPVyMhmKp",
        "colab_type": "text"
      },
      "source": [
        "## Splitting the dataset into the Training set and Test set"
      ]
    },
    {
      "cell_type": "code",
      "metadata": {
        "id": "MjbCL_D_6B8o",
        "colab_type": "code",
        "colab": {}
      },
      "source": [
        "from sklearn.model_selection import train_test_split\n",
        "\n",
        "X_train,X_test,y_train,y_test = train_test_split(X,y,test_size=0.25, random_state=0)"
      ],
      "execution_count": 23,
      "outputs": []
    },
    {
      "cell_type": "markdown",
      "metadata": {
        "id": "kW3c7UYih0hT",
        "colab_type": "text"
      },
      "source": [
        "## Feature Scaling"
      ]
    },
    {
      "cell_type": "code",
      "metadata": {
        "id": "xCq0qF5Q6hOw",
        "colab_type": "code",
        "colab": {}
      },
      "source": [
        "from sklearn.preprocessing import StandardScaler\n",
        "\n",
        "sc = StandardScaler()\n",
        "X_train = sc.fit_transform(X_train)\n",
        "X_test = sc.transform(X_test)"
      ],
      "execution_count": 24,
      "outputs": []
    },
    {
      "cell_type": "markdown",
      "metadata": {
        "id": "bb6jCOCQiAmP",
        "colab_type": "text"
      },
      "source": [
        "## Train and Test different Classification models"
      ]
    },
    {
      "cell_type": "markdown",
      "metadata": {
        "id": "2y_4RiwL_JoJ",
        "colab_type": "text"
      },
      "source": [
        "### 1. Model - Logistic Regression Classificator"
      ]
    },
    {
      "cell_type": "code",
      "metadata": {
        "id": "mFyU5d3b7E3M",
        "colab_type": "code",
        "colab": {}
      },
      "source": [
        "# Train Logistic Regression Classifier\n",
        "from sklearn.linear_model import LogisticRegression\n",
        "clf_logreg = LogisticRegression(random_state=0)\n",
        "clf_logreg.fit(X_train,y_train)\n",
        "\n",
        "# Test \n",
        "y_pred_logreg = clf_logreg.predict(X_test)"
      ],
      "execution_count": 25,
      "outputs": []
    },
    {
      "cell_type": "markdown",
      "metadata": {
        "id": "42xlSGxe_S0d",
        "colab_type": "text"
      },
      "source": [
        "### 2. Model - KNeighbors Model"
      ]
    },
    {
      "cell_type": "code",
      "metadata": {
        "id": "jE8N67Rb8GOh",
        "colab_type": "code",
        "colab": {
          "base_uri": "https://localhost:8080/",
          "height": 68
        },
        "outputId": "b830f4fc-1e51-4922-c967-3ac84b8a404e"
      },
      "source": [
        "# Train k-nearest Neighbors (KNN) Classifier\n",
        "from sklearn.neighbors import KNeighborsClassifier\n",
        "clf_knn = KNeighborsClassifier(n_neighbors=10, p=2)\n",
        "clf_knn.fit(X_train, y_train)"
      ],
      "execution_count": 8,
      "outputs": [
        {
          "output_type": "execute_result",
          "data": {
            "text/plain": [
              "KNeighborsClassifier(algorithm='auto', leaf_size=30, metric='minkowski',\n",
              "                     metric_params=None, n_jobs=None, n_neighbors=10, p=2,\n",
              "                     weights='uniform')"
            ]
          },
          "metadata": {
            "tags": []
          },
          "execution_count": 8
        }
      ]
    },
    {
      "cell_type": "markdown",
      "metadata": {
        "id": "FcLHwVuz_rzk",
        "colab_type": "text"
      },
      "source": [
        "### 3. Model - Linear Support Vector Classification (SVC)"
      ]
    },
    {
      "cell_type": "code",
      "metadata": {
        "id": "z3tzdBEX-BN6",
        "colab_type": "code",
        "colab": {
          "base_uri": "https://localhost:8080/",
          "height": 85
        },
        "outputId": "c43fadce-4883-4e42-d20b-78053b0c18b0"
      },
      "source": [
        "# Train Linear Support Vector Classifier\n",
        "from sklearn.svm import SVC\n",
        "clf_linsvc = SVC(random_state=0, kernel='linear')\n",
        "clf_linsvc.fit(X_train,y_train)"
      ],
      "execution_count": 9,
      "outputs": [
        {
          "output_type": "execute_result",
          "data": {
            "text/plain": [
              "SVC(C=1.0, break_ties=False, cache_size=200, class_weight=None, coef0=0.0,\n",
              "    decision_function_shape='ovr', degree=3, gamma='scale', kernel='linear',\n",
              "    max_iter=-1, probability=False, random_state=0, shrinking=True, tol=0.001,\n",
              "    verbose=False)"
            ]
          },
          "metadata": {
            "tags": []
          },
          "execution_count": 9
        }
      ]
    },
    {
      "cell_type": "markdown",
      "metadata": {
        "id": "AHnm1NIbAfka",
        "colab_type": "text"
      },
      "source": [
        "### 4. Model - RBF Support Vector Classificator"
      ]
    },
    {
      "cell_type": "code",
      "metadata": {
        "id": "niecrOWlBzhF",
        "colab_type": "code",
        "colab": {
          "base_uri": "https://localhost:8080/",
          "height": 85
        },
        "outputId": "704d1ea6-5fdc-4362-d682-aef7db277db2"
      },
      "source": [
        "# Train RBF Support Vector Classifier\n",
        "from sklearn.svm import SVC\n",
        "clf_rbfsvc = SVC(random_state=0, kernel='rbf')\n",
        "clf_rbfsvc.fit(X_train,y_train)"
      ],
      "execution_count": 10,
      "outputs": [
        {
          "output_type": "execute_result",
          "data": {
            "text/plain": [
              "SVC(C=1.0, break_ties=False, cache_size=200, class_weight=None, coef0=0.0,\n",
              "    decision_function_shape='ovr', degree=3, gamma='scale', kernel='rbf',\n",
              "    max_iter=-1, probability=False, random_state=0, shrinking=True, tol=0.001,\n",
              "    verbose=False)"
            ]
          },
          "metadata": {
            "tags": []
          },
          "execution_count": 10
        }
      ]
    },
    {
      "cell_type": "markdown",
      "metadata": {
        "id": "vdt16SiJ23PV",
        "colab_type": "text"
      },
      "source": [
        "### 5. Model -Naive Bayes Classificator"
      ]
    },
    {
      "cell_type": "code",
      "metadata": {
        "id": "hpodakuV2pMP",
        "colab_type": "code",
        "colab": {
          "base_uri": "https://localhost:8080/",
          "height": 34
        },
        "outputId": "2a20d2b3-1ff2-46c7-bf7e-8c0f2aec69ff"
      },
      "source": [
        "# Train Naive Bayes Classifier\n",
        "from sklearn.naive_bayes import GaussianNB\n",
        "clf_gausnb = GaussianNB()\n",
        "clf_gausnb.fit(X_train, y_train)"
      ],
      "execution_count": 11,
      "outputs": [
        {
          "output_type": "execute_result",
          "data": {
            "text/plain": [
              "GaussianNB(priors=None, var_smoothing=1e-09)"
            ]
          },
          "metadata": {
            "tags": []
          },
          "execution_count": 11
        }
      ]
    },
    {
      "cell_type": "markdown",
      "metadata": {
        "id": "6RIFxREI3-Dm",
        "colab_type": "text"
      },
      "source": [
        "### 6. Model - Decision Tree Classificator"
      ]
    },
    {
      "cell_type": "code",
      "metadata": {
        "id": "M347Dd084RsJ",
        "colab_type": "code",
        "colab": {
          "base_uri": "https://localhost:8080/",
          "height": 119
        },
        "outputId": "a36eaaf9-962d-4cfa-f820-bfa680c7e077"
      },
      "source": [
        "# Train Decision Tree Classifier\n",
        "from sklearn.tree import DecisionTreeClassifier\n",
        "clf_dtree = DecisionTreeClassifier(random_state=0, criterion='entropy')\n",
        "clf_dtree.fit(X_train,y_train)"
      ],
      "execution_count": 15,
      "outputs": [
        {
          "output_type": "execute_result",
          "data": {
            "text/plain": [
              "DecisionTreeClassifier(ccp_alpha=0.0, class_weight=None, criterion='entropy',\n",
              "                       max_depth=None, max_features=None, max_leaf_nodes=None,\n",
              "                       min_impurity_decrease=0.0, min_impurity_split=None,\n",
              "                       min_samples_leaf=1, min_samples_split=2,\n",
              "                       min_weight_fraction_leaf=0.0, presort='deprecated',\n",
              "                       random_state=0, splitter='best')"
            ]
          },
          "metadata": {
            "tags": []
          },
          "execution_count": 15
        }
      ]
    },
    {
      "cell_type": "markdown",
      "metadata": {
        "id": "QHYb5IqX5HrV",
        "colab_type": "text"
      },
      "source": [
        "### 7. Model - Random Forest Classificator"
      ]
    },
    {
      "cell_type": "code",
      "metadata": {
        "id": "h8t1-H3M5PyV",
        "colab_type": "code",
        "colab": {
          "base_uri": "https://localhost:8080/",
          "height": 153
        },
        "outputId": "c05ffd8a-4c43-4b2f-a503-3cf8f10bcaa6"
      },
      "source": [
        "# Train Random Forest Classifier\n",
        "from sklearn.ensemble import RandomForestClassifier\n",
        "clf_ranfor = RandomForestClassifier(n_estimators=10,random_state=0, criterion='entropy')\n",
        "clf_ranfor.fit(X_train,y_train)"
      ],
      "execution_count": 19,
      "outputs": [
        {
          "output_type": "execute_result",
          "data": {
            "text/plain": [
              "RandomForestClassifier(bootstrap=True, ccp_alpha=0.0, class_weight=None,\n",
              "                       criterion='entropy', max_depth=None, max_features='auto',\n",
              "                       max_leaf_nodes=None, max_samples=None,\n",
              "                       min_impurity_decrease=0.0, min_impurity_split=None,\n",
              "                       min_samples_leaf=1, min_samples_split=2,\n",
              "                       min_weight_fraction_leaf=0.0, n_estimators=10,\n",
              "                       n_jobs=None, oob_score=False, random_state=0, verbose=0,\n",
              "                       warm_start=False)"
            ]
          },
          "metadata": {
            "tags": []
          },
          "execution_count": 19
        }
      ]
    },
    {
      "cell_type": "markdown",
      "metadata": {
        "id": "LMhv6eM36VmA",
        "colab_type": "text"
      },
      "source": [
        "## Measure classification performance."
      ]
    },
    {
      "cell_type": "markdown",
      "metadata": {
        "id": "h4Hwj34ziWQW",
        "colab_type": "text"
      },
      "source": [
        "### Measure Accuracy with Confusion Matrix and Accuracy Score"
      ]
    },
    {
      "cell_type": "code",
      "metadata": {
        "id": "EmhnabyHBy04",
        "colab_type": "code",
        "colab": {}
      },
      "source": [
        "from sklearn.metrics import confusion_matrix, accuracy_score\n",
        "\n",
        "print('Accuracy',confusion_matrix())"
      ],
      "execution_count": 11,
      "outputs": []
    }
  ]
}