{
  "nbformat": 4,
  "nbformat_minor": 0,
  "metadata": {
    "colab": {
      "name": "classifier_model_selection.ipynb",
      "provenance": [],
      "collapsed_sections": [],
      "toc_visible": true,
      "machine_shape": "hm",
      "include_colab_link": true
    },
    "kernelspec": {
      "name": "python3",
      "display_name": "Python 3"
    }
  },
  "cells": [
    {
      "cell_type": "markdown",
      "metadata": {
        "id": "view-in-github",
        "colab_type": "text"
      },
      "source": [
        "<a href=\"https://colab.research.google.com/github/sakuronohana/my_datascience/blob/master/udemy/mlaz/Part%203%20-%20Classification/Section%2010%20-%20Model%20Selection%20Classification/classifier_model_selection.ipynb\" target=\"_parent\"><img src=\"https://colab.research.google.com/assets/colab-badge.svg\" alt=\"Open In Colab\"/></a>"
      ]
    },
    {
      "cell_type": "markdown",
      "metadata": {
        "id": "0MRC0e0KhQ0S"
      },
      "source": [
        "# Classification Model Selection\n",
        "\n",
        "In diesem Notebook werden wir eine klassische Modell Selektion vornehmen. Dazu werden wir verschiedene Klassifikatoren auf einen Datensatz trainineren und mittels Performance-Messungen das beste Modell auswählen."
      ]
    },
    {
      "cell_type": "markdown",
      "metadata": {
        "id": "LWd1UlMnhT2s"
      },
      "source": [
        "## Importing the libraries"
      ]
    },
    {
      "cell_type": "code",
      "metadata": {
        "id": "YvGPUQaHhXfL"
      },
      "source": [
        "import numpy as np\n",
        "import matplotlib.pyplot as plt\n",
        "import pandas as pd"
      ],
      "execution_count": 1,
      "outputs": []
    },
    {
      "cell_type": "markdown",
      "metadata": {
        "id": "K1VMqkGvhc3-"
      },
      "source": [
        "## Importing the dataset"
      ]
    },
    {
      "cell_type": "code",
      "metadata": {
        "id": "6vRWBzBK5GeV"
      },
      "source": [
        "datloc = ('https://raw.githubusercontent.com/sakuronohana/my_datascience/master/udemy/mlaz/Part%203%20-%20Classification/Section%2010%20-%20Model%20Selection%20Classification/Data.csv')\n",
        "\n",
        "dataset = pd.read_csv(datloc)\n",
        "X = dataset.iloc[:,:-1].values\n",
        "y = dataset.iloc[:,-1].values"
      ],
      "execution_count": 3,
      "outputs": []
    },
    {
      "cell_type": "markdown",
      "metadata": {
        "id": "YvxIPVyMhmKp"
      },
      "source": [
        "## Splitting the dataset into the Training set and Test set"
      ]
    },
    {
      "cell_type": "code",
      "metadata": {
        "id": "MjbCL_D_6B8o"
      },
      "source": [
        "from sklearn.model_selection import train_test_split\n",
        "\n",
        "X_train,X_test,y_train,y_test = train_test_split(X,y,test_size=0.25, random_state=0)"
      ],
      "execution_count": 4,
      "outputs": []
    },
    {
      "cell_type": "markdown",
      "metadata": {
        "id": "kW3c7UYih0hT"
      },
      "source": [
        "## Feature Scaling"
      ]
    },
    {
      "cell_type": "code",
      "metadata": {
        "id": "xCq0qF5Q6hOw"
      },
      "source": [
        "from sklearn.preprocessing import StandardScaler\n",
        "\n",
        "sc = StandardScaler()\n",
        "X_train = sc.fit_transform(X_train)\n",
        "X_test = sc.transform(X_test)"
      ],
      "execution_count": 5,
      "outputs": []
    },
    {
      "cell_type": "markdown",
      "metadata": {
        "id": "bb6jCOCQiAmP"
      },
      "source": [
        "## Train and Test different Classification models"
      ]
    },
    {
      "cell_type": "markdown",
      "metadata": {
        "id": "2y_4RiwL_JoJ"
      },
      "source": [
        "### 1. Model - Linear Logistic Regression Classificator"
      ]
    },
    {
      "cell_type": "code",
      "metadata": {
        "id": "mFyU5d3b7E3M"
      },
      "source": [
        "# Train\n",
        "from sklearn.linear_model import LogisticRegression\n",
        "clf_logreg = LogisticRegression(random_state=0)\n",
        "clf_logreg.fit(X_train,y_train)\n",
        "\n",
        "# Test \n",
        "y_pred_logreg = clf_logreg.predict(X_test)"
      ],
      "execution_count": 6,
      "outputs": []
    },
    {
      "cell_type": "markdown",
      "metadata": {
        "id": "42xlSGxe_S0d"
      },
      "source": [
        "### 2. Model - KNeighbors Model"
      ]
    },
    {
      "cell_type": "code",
      "metadata": {
        "id": "jE8N67Rb8GOh"
      },
      "source": [
        "# Train\n",
        "from sklearn.neighbors import KNeighborsClassifier\n",
        "clf_knn = KNeighborsClassifier(n_neighbors=10, p=2)\n",
        "clf_knn.fit(X_train, y_train)\n",
        "\n",
        "# Test\n",
        "y_pred_knn = clf_knn.predict(X_test)"
      ],
      "execution_count": 7,
      "outputs": []
    },
    {
      "cell_type": "markdown",
      "metadata": {
        "id": "FcLHwVuz_rzk"
      },
      "source": [
        "### 3. Model - Linear Support Vector Classification (SVC)"
      ]
    },
    {
      "cell_type": "code",
      "metadata": {
        "id": "z3tzdBEX-BN6"
      },
      "source": [
        "# Train\n",
        "from sklearn.svm import SVC\n",
        "clf_linsvc = SVC(random_state=0, kernel='linear')\n",
        "clf_linsvc.fit(X_train,y_train)\n",
        "\n",
        "# Test\n",
        "y_pred_linsvc = clf_linsvc.predict(X_test)"
      ],
      "execution_count": 8,
      "outputs": []
    },
    {
      "cell_type": "markdown",
      "metadata": {
        "id": "AHnm1NIbAfka"
      },
      "source": [
        "### 4. Model - RBF Support Vector Classificator"
      ]
    },
    {
      "cell_type": "code",
      "metadata": {
        "id": "niecrOWlBzhF"
      },
      "source": [
        "# Train\n",
        "from sklearn.svm import SVC\n",
        "clf_rbfsvc = SVC(random_state=0, kernel='rbf')\n",
        "clf_rbfsvc.fit(X_train,y_train)\n",
        "\n",
        "# Test\n",
        "y_pred_rbfsvc = clf_rbfsvc.predict(X_test)"
      ],
      "execution_count": 9,
      "outputs": []
    },
    {
      "cell_type": "markdown",
      "metadata": {
        "id": "vdt16SiJ23PV"
      },
      "source": [
        "### 5. Model -Naive Bayes Classificator"
      ]
    },
    {
      "cell_type": "code",
      "metadata": {
        "id": "hpodakuV2pMP"
      },
      "source": [
        "# Train\n",
        "from sklearn.naive_bayes import GaussianNB\n",
        "clf_gausnb = GaussianNB()\n",
        "clf_gausnb.fit(X_train, y_train)\n",
        "\n",
        "# Test\n",
        "y_pred_gausnb = clf_gausnb.predict(X_test)"
      ],
      "execution_count": 10,
      "outputs": []
    },
    {
      "cell_type": "markdown",
      "metadata": {
        "id": "6RIFxREI3-Dm"
      },
      "source": [
        "### 6. Model - Decision Tree Classificator"
      ]
    },
    {
      "cell_type": "code",
      "metadata": {
        "id": "M347Dd084RsJ"
      },
      "source": [
        "# Train\n",
        "from sklearn.tree import DecisionTreeClassifier\n",
        "clf_dtree = DecisionTreeClassifier(random_state=0, criterion='entropy')\n",
        "clf_dtree.fit(X_train,y_train)\n",
        "\n",
        "# Test\n",
        "y_pred_dtree = clf_dtree.predict(X_test)"
      ],
      "execution_count": 11,
      "outputs": []
    },
    {
      "cell_type": "markdown",
      "metadata": {
        "id": "QHYb5IqX5HrV"
      },
      "source": [
        "### 7. Model - Random Forest Classificator"
      ]
    },
    {
      "cell_type": "code",
      "metadata": {
        "id": "h8t1-H3M5PyV"
      },
      "source": [
        "# Train\n",
        "from sklearn.ensemble import RandomForestClassifier\n",
        "clf_ranfor = RandomForestClassifier(n_estimators=10,random_state=0, criterion='entropy')\n",
        "clf_ranfor.fit(X_train,y_train)\n",
        "\n",
        "# Test\n",
        "y_pred_ranfor = clf_ranfor.predict(X_test)"
      ],
      "execution_count": 12,
      "outputs": []
    },
    {
      "cell_type": "markdown",
      "metadata": {
        "id": "LMhv6eM36VmA"
      },
      "source": [
        "## Measure classification performance."
      ]
    },
    {
      "cell_type": "code",
      "metadata": {
        "id": "dB-WyAwnAwuP",
        "outputId": "84662041-10cd-4256-d7d3-c3b9b717d440",
        "colab": {
          "base_uri": "https://localhost:8080/",
          "height": 391
        }
      },
      "source": [
        "from sklearn.metrics import confusion_matrix\n",
        "print('Results with confusion matrix:')\n",
        "print('Linear Logistic Regression: \\n',confusion_matrix(y_test,y_pred_logreg))\n",
        "print('KNeighbors: \\n',confusion_matrix(y_test,y_pred_knn))\n",
        "print('Linear Support Vector (SVC): \\n',confusion_matrix(y_test,y_pred_linsvc))\n",
        "print('SVM RBF-Kernel:\\n',confusion_matrix(y_test,y_pred_rbfsvc))\n",
        "print('Naive Bayes:\\n',confusion_matrix(y_test,y_pred_gausnb))\n",
        "print('Decision Tree: \\n', confusion_matrix(y_test,y_pred_dtree))\n",
        "print('Random Forest:\\n',confusion_matrix(y_test,y_pred_ranfor))"
      ],
      "execution_count": 14,
      "outputs": [
        {
          "output_type": "stream",
          "text": [
            "Results with confusion matrix:\n",
            "Linear Logistic Regression: \n",
            " [[103   4]\n",
            " [  5  59]]\n",
            "KNeighbors: \n",
            " [[103   4]\n",
            " [  6  58]]\n",
            "Linear Support Vector (SVC): \n",
            " [[102   5]\n",
            " [  5  59]]\n",
            "SVM RBF-Kernel:\n",
            " [[102   5]\n",
            " [  3  61]]\n",
            "Naive Bayes:\n",
            " [[99  8]\n",
            " [ 2 62]]\n",
            "Decision Tree: \n",
            " [[103   4]\n",
            " [  3  61]]\n",
            "Random Forest:\n",
            " [[102   5]\n",
            " [  6  58]]\n"
          ],
          "name": "stdout"
        }
      ]
    },
    {
      "cell_type": "markdown",
      "metadata": {
        "id": "h4Hwj34ziWQW"
      },
      "source": [
        "### Measure Accuracy with Matthews Correlation Coefficient (MCC)\n",
        "\n",
        "Information wie der MCC funktioniert findent man [hier](https://towardsdatascience.com/the-best-classification-metric-youve-never-heard-of-the-matthews-correlation-coefficient-3bf50a2f3e9a)."
      ]
    },
    {
      "cell_type": "code",
      "metadata": {
        "id": "EmhnabyHBy04",
        "outputId": "243d685e-3f46-402e-9ee8-eb07ce7e003c",
        "colab": {
          "base_uri": "https://localhost:8080/",
          "height": 153
        }
      },
      "source": [
        "from sklearn.metrics import confusion_matrix, matthews_corrcoef\n",
        "\n",
        "print('Liste der Accuracy:')\n",
        "print('Linear Logistic Regression:',round(matthews_corrcoef(y_test,y_pred_logreg),3))\n",
        "print('KNeighbors:',round(matthews_corrcoef(y_test,y_pred_knn),3))\n",
        "print('Linear Support Vector (SVC):',round(matthews_corrcoef(y_test,y_pred_linsvc),3))\n",
        "print('SVM RBF-Kernel:',round(matthews_corrcoef(y_test,y_pred_rbfsvc),3))\n",
        "print('Naive Bayes:',round(matthews_corrcoef(y_test,y_pred_gausnb),3))\n",
        "print('Decision Tree:',round(matthews_corrcoef(y_test,y_pred_dtree),3))\n",
        "print('Random Forest:',round(matthews_corrcoef(y_test,y_pred_ranfor),3))"
      ],
      "execution_count": 15,
      "outputs": [
        {
          "output_type": "stream",
          "text": [
            "Liste der Accuracy:\n",
            "Linear Logistic Regression: 0.887\n",
            "KNeighbors: 0.875\n",
            "Linear Support Vector (SVC): 0.875\n",
            "SVM RBF-Kernel: 0.901\n",
            "Naive Bayes: 0.88\n",
            "Decision Tree: 0.913\n",
            "Random Forest: 0.862\n"
          ],
          "name": "stdout"
        }
      ]
    },
    {
      "cell_type": "markdown",
      "metadata": {
        "id": "GZJA0jAejZHY"
      },
      "source": [
        "### Measure with Cross Validation"
      ]
    },
    {
      "cell_type": "code",
      "metadata": {
        "id": "vArQTGOxjYXg",
        "outputId": "e95785fc-ae12-4929-a9b5-bf21e9aafe88",
        "colab": {
          "base_uri": "https://localhost:8080/",
          "height": 68
        }
      },
      "source": [
        "from sklearn.model_selection import cross_val_score\n",
        "dtree_cv = cross_val_score(estimator=clf_dtree, X = X_train, y = y_train)\n",
        "rbf_cv = cross_val_score(estimator=clf_rbfsvc,X=X_test,y=y_test)\n",
        "\n",
        "print('Measure Top 2 with Cross Validation')\n",
        "print('Decision Tree: {:.2f}%'.format(dtree_cv.mean()*100))\n",
        "print('SVM RBF-Kernel: {:.2f}%'.format(rbf_cv.mean()*100))\n"
      ],
      "execution_count": 16,
      "outputs": [
        {
          "output_type": "stream",
          "text": [
            "Measure Top 2 with Cross Validation\n",
            "Decision Tree: 92.97%\n",
            "SVM RBF-Kernel: 94.13%\n"
          ],
          "name": "stdout"
        }
      ]
    },
    {
      "cell_type": "markdown",
      "metadata": {
        "id": "YZcUCZb97Nea"
      },
      "source": [
        "### Measure with Receiver Operating Characteristic Curve (ROC AUC)"
      ]
    },
    {
      "cell_type": "code",
      "metadata": {
        "id": "SbBLM6Ns7kKW",
        "outputId": "c4071e8c-0423-43a8-cdc1-2f03e7f42191",
        "colab": {
          "base_uri": "https://localhost:8080/",
          "height": 51
        }
      },
      "source": [
        "from sklearn.metrics import roc_auc_score\n",
        "print('ROC RBF-Kernel:',roc_auc_score(y_test,y_pred_rbfsvc))\n",
        "print('ROC Decision Tree:',roc_auc_score(y_test,y_pred_dtree))\n"
      ],
      "execution_count": 26,
      "outputs": [
        {
          "output_type": "stream",
          "text": [
            "ROC RBF-Kernel: 0.9531980140186916\n",
            "ROC Decision Tree: 0.9578709112149533\n"
          ],
          "name": "stdout"
        }
      ]
    },
    {
      "cell_type": "markdown",
      "metadata": {
        "id": "V7xTci8v9DT3"
      },
      "source": [
        "Wenn wir uns nun die Resultate aus dem Vergleich der drei Performance Metriken anschauen, dann kommen wir zum Schluss, dass der **Decision Tree** Klassifikator die wahscheinlich beste Wahl sein wird. "
      ]
    }
  ]
}