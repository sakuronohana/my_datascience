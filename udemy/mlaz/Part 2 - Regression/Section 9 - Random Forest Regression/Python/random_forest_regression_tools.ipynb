{
  "nbformat": 4,
  "nbformat_minor": 0,
  "metadata": {
    "colab": {
      "name": "random_forest_regression.ipynb",
      "provenance": [],
      "include_colab_link": true
    },
    "kernelspec": {
      "name": "python3",
      "display_name": "Python 3"
    }
  },
  "cells": [
    {
      "cell_type": "markdown",
      "metadata": {
        "id": "view-in-github",
        "colab_type": "text"
      },
      "source": [
        "<a href=\"https://colab.research.google.com/github/sakuronohana/my_datascience/blob/master/udemy/mlaz/Part%202%20-%20Regression/Section%209%20-%20Random%20Forest%20Regression/Python/random_forest_regression_tools.ipynb\" target=\"_parent\"><img src=\"https://colab.research.google.com/assets/colab-badge.svg\" alt=\"Open In Colab\"/></a>"
      ]
    },
    {
      "cell_type": "markdown",
      "metadata": {
        "id": "LeamvpPVXuS_",
        "colab_type": "text"
      },
      "source": [
        "# Random Forest Regression\n",
        "\n",
        "Grundsätzlich spricht der Name schon für dass was hinter Random Forest steht ... die Verwendung endlicher Decision Trees (mehrer Bäume ergeben ja einen Wald :-)). Random Forest gehört somit zu den sogenannten \"Ensemble Learning\" Algorithmen. Ensemble Learning ist nichts anderes als eine Verkettung verschiedener und des gleichen Lernalgorithmuses (Decision Trees) um eine besseres Resultat zu erhalten. \n",
        "\n",
        "<img src=\"https://miro.medium.com/max/1400/1*ZFuMI_HrI3jt2Wlay73IUQ.png\" width=\"400\">\n",
        "\n",
        "Wir können es mit einem kleinen Wettbewerb vergleichen, in welchem man eine Schätzung darüber abgeben muss, wie viele Murmeln sich in einem Glas befinden. Würde man nun hingehen und jeden Teilnehmer nach seiner geschätzten Anzahl fragen und aus diesen den arithm. Mittelwert oder den Median (nicht Anfällig für Ausreisser) errechnen, wäre dies die Random Forest Methode.\n",
        "\n",
        "<img src=\"https://cdn.shopify.com/s/files/1/1009/8338/products/2015-10-18-21.50.jpeg?v=1446022132\" width=\"150\">\n"
      ]
    },
    {
      "cell_type": "markdown",
      "metadata": {
        "id": "O2wvZ7SKXzVC",
        "colab_type": "text"
      },
      "source": [
        "## Importing the libraries"
      ]
    },
    {
      "cell_type": "code",
      "metadata": {
        "id": "H4IJOSVz3_gr",
        "colab_type": "code",
        "colab": {}
      },
      "source": [
        "import pandas as pd\n",
        "import numpy as np\n",
        "import matplotlib.pyplot as plt"
      ],
      "execution_count": 11,
      "outputs": []
    },
    {
      "cell_type": "markdown",
      "metadata": {
        "id": "zgbK_F8-X7em",
        "colab_type": "text"
      },
      "source": [
        "## Importing the dataset"
      ]
    },
    {
      "cell_type": "code",
      "metadata": {
        "id": "ilNyJaMe8emi",
        "colab_type": "code",
        "colab": {}
      },
      "source": [
        "daturl = \"https://raw.githubusercontent.com/sakuronohana/my_datascience/master/udemy/mlaz/Part%202%20-%20Regression/Section%209%20-%20Random%20Forest%20Regression/Python/Position_Salaries.csv\"\n",
        "\n",
        "dataset = pd.read_csv(daturl)\n",
        "\n",
        "X = dataset.iloc[:,1:-1].values\n",
        "y = dataset.iloc[:,-1].values"
      ],
      "execution_count": 12,
      "outputs": []
    },
    {
      "cell_type": "markdown",
      "metadata": {
        "id": "v4S2fyIBYDcu",
        "colab_type": "text"
      },
      "source": [
        "## Training the Random Forest Regression model on the whole dataset"
      ]
    },
    {
      "cell_type": "code",
      "metadata": {
        "id": "vOReiIQk9EZc",
        "colab_type": "code",
        "colab": {
          "base_uri": "https://localhost:8080/",
          "height": 141
        },
        "outputId": "0aa07346-5eda-42c2-bf55-3ebb1041fc89"
      },
      "source": [
        "from sklearn.ensemble import RandomForestRegressor\n",
        "regressor = RandomForestRegressor(n_estimators=10, random_state=0) # Anzahl Descision Trees angeben\n",
        "regressor.fit(X,y)"
      ],
      "execution_count": 24,
      "outputs": [
        {
          "output_type": "execute_result",
          "data": {
            "text/plain": [
              "RandomForestRegressor(bootstrap=True, ccp_alpha=0.0, criterion='mse',\n",
              "                      max_depth=None, max_features='auto', max_leaf_nodes=None,\n",
              "                      max_samples=None, min_impurity_decrease=0.0,\n",
              "                      min_impurity_split=None, min_samples_leaf=1,\n",
              "                      min_samples_split=2, min_weight_fraction_leaf=0.0,\n",
              "                      n_estimators=10, n_jobs=None, oob_score=False,\n",
              "                      random_state=0, verbose=0, warm_start=False)"
            ]
          },
          "metadata": {
            "tags": []
          },
          "execution_count": 24
        }
      ]
    },
    {
      "cell_type": "markdown",
      "metadata": {
        "id": "8IbsXbK3YM4M",
        "colab_type": "text"
      },
      "source": [
        "## Predicting a new result"
      ]
    },
    {
      "cell_type": "code",
      "metadata": {
        "id": "pNU9BCzRFzv0",
        "colab_type": "code",
        "colab": {
          "base_uri": "https://localhost:8080/",
          "height": 34
        },
        "outputId": "14320020-a813-4321-98b3-5884e881141a"
      },
      "source": [
        "regressor.predict([[6.5]])"
      ],
      "execution_count": 25,
      "outputs": [
        {
          "output_type": "execute_result",
          "data": {
            "text/plain": [
              "array([167000.])"
            ]
          },
          "metadata": {
            "tags": []
          },
          "execution_count": 25
        }
      ]
    },
    {
      "cell_type": "markdown",
      "metadata": {
        "id": "kLqF9yMbYTon",
        "colab_type": "text"
      },
      "source": [
        "## Visualising the Random Forest Regression results (higher resolution)"
      ]
    },
    {
      "cell_type": "code",
      "metadata": {
        "id": "iG7uoqkD99ot",
        "colab_type": "code",
        "colab": {
          "base_uri": "https://localhost:8080/",
          "height": 294
        },
        "outputId": "7c736fce-32bf-4623-b7b3-89d0054934be"
      },
      "source": [
        "X_grid = np.arange(min(X),max(X),0.01)\n",
        "X_grid = X_grid.reshape((len(X_grid),1))\n",
        "plt.scatter(X,y, color='red')\n",
        "plt.plot(X_grid, regressor.predict(X_grid), color='blue')\n",
        "plt.title('Truth or Bluff (Random Forest Regression)')\n",
        "plt.xlabel('Postion Level')\n",
        "plt.ylabel('Salary')\n",
        "plt.show()"
      ],
      "execution_count": 26,
      "outputs": [
        {
          "output_type": "display_data",
          "data": {
            "image/png": "[encoded data removed]",
            "text/plain": [
              "<Figure size 432x288 with 1 Axes>"
            ]
          },
          "metadata": {
            "tags": [],
            "needs_background": "light"
          }
        }
      ]
    },
    {
      "cell_type": "markdown",
      "metadata": {
        "id": "conRTb5iHIDq",
        "colab_type": "text"
      },
      "source": [
        "Wie auch schon im Decision Tree sehen wir auch in diesem Beispiel, dass der Random Forest Regressor nur bedingt mit kleinen Datensätzen umgehen kann."
      ]
    }
  ]
}