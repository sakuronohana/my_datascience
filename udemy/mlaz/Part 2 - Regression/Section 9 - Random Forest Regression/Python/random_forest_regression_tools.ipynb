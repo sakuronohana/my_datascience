{
  "nbformat": 4,
  "nbformat_minor": 0,
  "metadata": {
    "colab": {
      "name": "random_forest_regression.ipynb",
      "provenance": [],
      "include_colab_link": true
    },
    "kernelspec": {
      "name": "python3",
      "display_name": "Python 3"
    }
  },
  "cells": [
    {
      "cell_type": "markdown",
      "metadata": {
        "id": "view-in-github",
        "colab_type": "text"
      },
      "source": [
        "<a href=\"https://colab.research.google.com/github/sakuronohana/my_datascience/blob/master/udemy/mlaz/Part%202%20-%20Regression/Section%209%20-%20Random%20Forest%20Regression/Python/random_forest_regression_tools.ipynb\" target=\"_parent\"><img src=\"https://colab.research.google.com/assets/colab-badge.svg\" alt=\"Open In Colab\"/></a>"
      ]
    },
    {
      "cell_type": "markdown",
      "metadata": {
        "id": "LeamvpPVXuS_",
        "colab_type": "text"
      },
      "source": [
        "# Random Forest Regression\n",
        "\n",
        "Grundsätzlich spricht der Name schon für dass was hinter Random Forest steht ... die Verwendung endlicher Decision Trees (mehrer Bäume ergeben ja einen Wald :-)). Random Forest gehört somit zu den sogenannten \"Ensemble Learning\" Algorithmen. Ensemble Learning ist nichts anderes als eine Verkettung verschiedener und des gleichen Lernalgorithmuses (Decision Trees) um eine besseres Resultat zu erhalten. \n",
        "\n",
        "<img src=\"https://miro.medium.com/max/1400/1*ZFuMI_HrI3jt2Wlay73IUQ.png\" width=\"400\">\n",
        "\n",
        "Wir können es mit einem kleinen Wettbewerb vergleichen, in welchem man eine Schätzung darüber abgeben muss, wie viele Murmeln sich in einem Glas befinden. Würde man nun hingehen und jeden Teilnehmer nach seiner geschätzten Anzahl fragen und aus diesen den arithm. Mittelwert oder den Median (nicht Anfällig für Ausreisser) errechnen, wäre dies die Random Forest Methode.\n",
        "\n",
        "<img src=\"https://cdn.shopify.com/s/files/1/1009/8338/products/2015-10-18-21.50.jpeg?v=1446022132\" width=\"150\">\n"
      ]
    },
    {
      "cell_type": "markdown",
      "metadata": {
        "id": "O2wvZ7SKXzVC",
        "colab_type": "text"
      },
      "source": [
        "## Importing the libraries"
      ]
    },
    {
      "cell_type": "code",
      "metadata": {
        "id": "H4IJOSVz3_gr",
        "colab_type": "code",
        "colab": {}
      },
      "source": [
        "import pandas as pd\n",
        "import numpy as np\n",
        "import matplotlib.pyplot as plt"
      ],
      "execution_count": 1,
      "outputs": []
    },
    {
      "cell_type": "markdown",
      "metadata": {
        "id": "zgbK_F8-X7em",
        "colab_type": "text"
      },
      "source": [
        "## Importing the dataset"
      ]
    },
    {
      "cell_type": "markdown",
      "metadata": {
        "id": "v4S2fyIBYDcu",
        "colab_type": "text"
      },
      "source": [
        "## Training the Random Forest Regression model on the whole dataset"
      ]
    },
    {
      "cell_type": "markdown",
      "metadata": {
        "id": "8IbsXbK3YM4M",
        "colab_type": "text"
      },
      "source": [
        "## Predicting a new result"
      ]
    },
    {
      "cell_type": "markdown",
      "metadata": {
        "id": "kLqF9yMbYTon",
        "colab_type": "text"
      },
      "source": [
        "## Visualising the Random Forest Regression results (higher resolution)"
      ]
    }
  ]
}