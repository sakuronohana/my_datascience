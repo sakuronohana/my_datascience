{
  "nbformat": 4,
  "nbformat_minor": 0,
  "metadata": {
    "colab": {
      "name": "support_vector_regression.ipynb",
      "provenance": [],
      "collapsed_sections": [],
      "include_colab_link": true
    },
    "kernelspec": {
      "name": "python3",
      "display_name": "Python 3"
    }
  },
  "cells": [
    {
      "cell_type": "markdown",
      "metadata": {
        "id": "view-in-github",
        "colab_type": "text"
      },
      "source": [
        "<a href=\"https://colab.research.google.com/github/sakuronohana/my_datascience/blob/master/udemy/mlaz/Part%202%20-%20Regression/Section%207%20-%20Support%20Vector%20Regression%20(SVR)/Python/support_vector_regression_tools.ipynb\" target=\"_parent\"><img src=\"https://colab.research.google.com/assets/colab-badge.svg\" alt=\"Open In Colab\"/></a>"
      ]
    },
    {
      "cell_type": "markdown",
      "metadata": {
        "id": "m3PAEPRDRLA3",
        "colab_type": "text"
      },
      "source": [
        "# Support Vector Regression (SVR)\n",
        "\n",
        "Das SVR Modell basiert auf der Support Vector Machine, welche für die Regression wie auch für die Klassifizierung verwendet werden kann. \n",
        "Im Gegensatz zur linearen Regression bei welchem sich das Modell für alle Datenpunkte unter oder oberhalb der Best-Fit Linie interessiert, wird beim SVM zuest eine sogenannter Insensitive Tube (oder auch Vektorraum) erstellt. Danach interessiert sich das Modell nur noch für Datenpunkte unter und oberhalb dieses Tubes.\n",
        "\n",
        "\n",
        "Eine kleine Einführungsvideo zu SVR [Link](https://www.udemy.com/course/machinelearning/learn/lecture/19505880#content)"
      ]
    },
    {
      "cell_type": "markdown",
      "metadata": {
        "id": "0VCUAVIjRdzZ",
        "colab_type": "text"
      },
      "source": [
        "## Importing the libraries"
      ]
    },
    {
      "cell_type": "code",
      "metadata": {
        "id": "JufNw_fTTsFU",
        "colab_type": "code",
        "colab": {}
      },
      "source": [
        "import pandas as pd\n",
        "import numpy as np\n",
        "import matplotlib.pyplot as plt"
      ],
      "execution_count": 1,
      "outputs": []
    },
    {
      "cell_type": "markdown",
      "metadata": {
        "id": "fXVXoFWtSF4_",
        "colab_type": "text"
      },
      "source": [
        "## Importing the dataset"
      ]
    },
    {
      "cell_type": "code",
      "metadata": {
        "id": "883pvF-zUeSi",
        "colab_type": "code",
        "colab": {}
      },
      "source": [
        "daturl = 'https://raw.githubusercontent.com/sakuronohana/my_datascience/master/udemy/mlaz/Part%202%20-%20Regression/Section%207%20-%20Support%20Vector%20Regression%20(SVR)/Python/Position_Salaries.csv'\n",
        "dataset = pd.read_csv(daturl)\n"
      ],
      "execution_count": 2,
      "outputs": []
    },
    {
      "cell_type": "code",
      "metadata": {
        "id": "4E_cTifiU2-M",
        "colab_type": "code",
        "colab": {}
      },
      "source": [
        "X = dataset.iloc[:,1:-1].values\n",
        "y = dataset.iloc[:,-1].values"
      ],
      "execution_count": 3,
      "outputs": []
    },
    {
      "cell_type": "markdown",
      "metadata": {
        "id": "mtiL5-tQZcMU",
        "colab_type": "text"
      },
      "source": [
        "Wir müssen nun noch sicherstellen, dass X und y sind im gleichen Format. \n",
        "Fearture Scaling erwartet, dass beide Datensätze in eine 2 dimensional Format erscheinen. Dafür müssen wir y nun einem Reshape unterziehen."
      ]
    },
    {
      "cell_type": "code",
      "metadata": {
        "id": "BdaSesFmYTGS",
        "colab_type": "code",
        "colab": {}
      },
      "source": [
        "# Wandelt y in eine 2D Array um.\n",
        "y = y.reshape(len(y),1) \n",
        "\n",
        "# Mit der Funktion len weisen wir reshape an \n",
        "# den Array genau so Gross zu machen wie die orginale Länge ist."
      ],
      "execution_count": 4,
      "outputs": []
    },
    {
      "cell_type": "code",
      "metadata": {
        "id": "_va_TvSOMKxH",
        "colab_type": "code",
        "colab": {
          "base_uri": "https://localhost:8080/",
          "height": 187
        },
        "outputId": "d207f1bd-2a77-406f-e03b-7831a48e4d47"
      },
      "source": [
        "print(X)"
      ],
      "execution_count": 5,
      "outputs": [
        {
          "output_type": "stream",
          "text": [
            "[[ 1]\n",
            " [ 2]\n",
            " [ 3]\n",
            " [ 4]\n",
            " [ 5]\n",
            " [ 6]\n",
            " [ 7]\n",
            " [ 8]\n",
            " [ 9]\n",
            " [10]]\n"
          ],
          "name": "stdout"
        }
      ]
    },
    {
      "cell_type": "markdown",
      "metadata": {
        "id": "YS8FeLHYS-nI",
        "colab_type": "text"
      },
      "source": [
        "## Feature Scaling\n",
        "\n",
        "Kurz zur Erinnerung. Wir skalieren die Daten um ein einheitliches Format (-3/+3) zu erhalten mit welchem die Maschine etwas anfangen kann. Dabei können wir die unabhängigen und unabhängige Variable nicht mit dem gleichen Scaler umwandeln, da der Mean unterschiedlich ist."
      ]
    },
    {
      "cell_type": "code",
      "metadata": {
        "id": "ZMp3VDTDVA6A",
        "colab_type": "code",
        "colab": {}
      },
      "source": [
        "from sklearn.preprocessing import StandardScaler\n",
        "sc_X = StandardScaler()\n",
        "sc_y = StandardScaler()\n",
        "X = sc_X.fit_transform(X)\n",
        "y = sc_y.fit_transform(y)"
      ],
      "execution_count": 6,
      "outputs": []
    },
    {
      "cell_type": "code",
      "metadata": {
        "id": "-ysHYH-RQdi5",
        "colab_type": "code",
        "colab": {
          "base_uri": "https://localhost:8080/",
          "height": 187
        },
        "outputId": "19e34473-c24c-4b63-cbce-80e37c23c620"
      },
      "source": [
        "print (X)\n"
      ],
      "execution_count": 15,
      "outputs": [
        {
          "output_type": "stream",
          "text": [
            "[[-1.5666989 ]\n",
            " [-1.21854359]\n",
            " [-0.87038828]\n",
            " [-0.52223297]\n",
            " [-0.17407766]\n",
            " [ 0.17407766]\n",
            " [ 0.52223297]\n",
            " [ 0.87038828]\n",
            " [ 1.21854359]\n",
            " [ 1.5666989 ]]\n"
          ],
          "name": "stdout"
        }
      ]
    },
    {
      "cell_type": "code",
      "metadata": {
        "id": "nGMm8AKDdeVX",
        "colab_type": "code",
        "colab": {
          "base_uri": "https://localhost:8080/",
          "height": 187
        },
        "outputId": "ed32eb3b-42e2-466e-fe12-caf6ca9ef89b"
      },
      "source": [
        "print (y)"
      ],
      "execution_count": 16,
      "outputs": [
        {
          "output_type": "stream",
          "text": [
            "[[-0.72004253]\n",
            " [-0.70243757]\n",
            " [-0.66722767]\n",
            " [-0.59680786]\n",
            " [-0.49117815]\n",
            " [-0.35033854]\n",
            " [-0.17428902]\n",
            " [ 0.17781001]\n",
            " [ 0.88200808]\n",
            " [ 2.64250325]]\n"
          ],
          "name": "stdout"
        }
      ]
    },
    {
      "cell_type": "markdown",
      "metadata": {
        "id": "eiU6D2QFRjxY",
        "colab_type": "text"
      },
      "source": [
        "## Training the SVR model on the whole dataset\n",
        "\n",
        "Wichtig hierbei ist noch zu erwähnen, dass SVM auf verschiedenen Kernel basiert, welcher wir bei der Definition der Klasse einsetzen müssen."
      ]
    },
    {
      "cell_type": "code",
      "metadata": {
        "id": "s5js82M3RXf0",
        "colab_type": "code",
        "colab": {
          "base_uri": "https://localhost:8080/",
          "height": 105
        },
        "outputId": "217c10b8-2707-4adf-a4db-3fbd07cfff49"
      },
      "source": [
        "from sklearn.svm import SVR\n",
        "\n",
        "regressor = SVR(kernel = 'rbf') # Gaussian Radial Basis Function (RBF) Kernel \n",
        "regressor.fit(X,y)"
      ],
      "execution_count": 10,
      "outputs": [
        {
          "output_type": "stream",
          "text": [
            "/usr/local/lib/python3.6/dist-packages/sklearn/utils/validation.py:760: DataConversionWarning: A column-vector y was passed when a 1d array was expected. Please change the shape of y to (n_samples, ), for example using ravel().\n",
            "  y = column_or_1d(y, warn=True)\n"
          ],
          "name": "stderr"
        },
        {
          "output_type": "execute_result",
          "data": {
            "text/plain": [
              "SVR(C=1.0, cache_size=200, coef0=0.0, degree=3, epsilon=0.1, gamma='scale',\n",
              "    kernel='rbf', max_iter=-1, shrinking=True, tol=0.001, verbose=False)"
            ]
          },
          "metadata": {
            "tags": []
          },
          "execution_count": 10
        }
      ]
    },
    {
      "cell_type": "markdown",
      "metadata": {
        "id": "deDnDr8UR5vq",
        "colab_type": "text"
      },
      "source": [
        "## Predicting a new result\n",
        "\n",
        "Im Polynominal Regression Modell haben wir am Schluss auf der Basis eines einzelnen Werts (Erfahrungsjahre 6.5) eine Prediction durchgeführt. Nachfolgend tuen wir das gleichem mit SVR. Der einzige Unterschied hierbei ist, dass wir im PR Modell keine Fearture Skalierung gemacht haben und hier schon. Wir müssen also den einzelnen Wert, denn wir Predicten wollen noch dem Feature Scaling von X (sc_x.fit_transform(y)) unterziehen. Damit wir danach wieder den Y Wert (Jahresgehalt) erhalten, müssen wir auch noch die Skalierung von Y wieder umkehren (inverse).\n",
        "\n",
        "**Achtung** Der Wert muss nur transformiert aber nicht gefittet werden."
      ]
    },
    {
      "cell_type": "code",
      "metadata": {
        "id": "VcgROopaZXl9",
        "colab_type": "code",
        "colab": {
          "base_uri": "https://localhost:8080/",
          "height": 51
        },
        "outputId": "c7e8d7ab-a084-48e9-b9f7-48ab9a01de5f"
      },
      "source": [
        "print('Diesen Wert erhalten wir, wenn wir die Skalierung von Y beibehalten:')\n",
        "regressor.predict(sc_X.transform([[6.5]]))\n",
        "\n",
        "print('Nicht wirklich vielsagen oder?')"
      ],
      "execution_count": 19,
      "outputs": [
        {
          "output_type": "stream",
          "text": [
            "Diesen Wert erhalten wir, wenn wir die Skalierung von Y beibehalten:\n",
            "Nicht wirklich vielsagen oder?\n"
          ],
          "name": "stdout"
        }
      ]
    },
    {
      "cell_type": "code",
      "metadata": {
        "id": "MvGis0fzfjms",
        "colab_type": "code",
        "colab": {
          "base_uri": "https://localhost:8080/",
          "height": 34
        },
        "outputId": "58202085-7d96-436e-f5b7-bbc6871a19b4"
      },
      "source": [
        "# Nun machen wir die Transformation für y mittels der Funktion Inverse Transform rückgängig\n",
        "prednew = sc_y.inverse_transform(regressor.predict(sc_X.transform([[6.5]])))\n",
        "\n",
        "print('Der prognostizierte Jahressalär für 6.5 Jahre Berufserfahrung ist somit',np.round(prednew))"
      ],
      "execution_count": 32,
      "outputs": [
        {
          "output_type": "stream",
          "text": [
            "Der prognostizierte Jahressalär für 6.5 Jahre Berufserfahrung ist somit [170370.]\n"
          ],
          "name": "stdout"
        }
      ]
    },
    {
      "cell_type": "markdown",
      "metadata": {
        "id": "zzedFlUISSu_",
        "colab_type": "text"
      },
      "source": [
        "## Visualising the SVR results"
      ]
    },
    {
      "cell_type": "code",
      "metadata": {
        "id": "jcj4lVq8h83R",
        "colab_type": "code",
        "colab": {
          "base_uri": "https://localhost:8080/",
          "height": 295
        },
        "outputId": "f965ba68-4f8d-423a-ed20-b1d7b87f9713"
      },
      "source": [
        "# Damit wir die Resultate visualisieren können müssen wir auch hier die Skalierung rückgängig machen\n",
        "# Würden wir hier keinen Inverse machen, dann hätten wir anstelle der Erfahrungsjahre einen Wertebereich\n",
        "# von -1.5 bis 1.5\n",
        "plt.scatter(sc_X.inverse_transform(X),sc_y.inverse_transform(y), color = 'red')\n",
        "\n",
        "# Auch bei der nächsten Code-Line müssen wir die Skalierung im Auge behalten.\n",
        "plt.plot(sc_X.inverse_transform(X),sc_y.inverse_transform(regressor.predict(X)), color='blue')\n",
        "plt.title('Truth or Bluff (Support Vector Regression)')\n",
        "plt.xlabel('Year of Experiance')\n",
        "plt.ylabel('Salary')\n",
        "plt.show()\n"
      ],
      "execution_count": 50,
      "outputs": [
        {
          "output_type": "display_data",
          "data": {
            "image/png": "[encoded data removed]",
            "text/plain": [
              "<Figure size 432x288 with 1 Axes>"
            ]
          },
          "metadata": {
            "tags": [],
            "needs_background": "light"
          }
        }
      ]
    },
    {
      "cell_type": "markdown",
      "metadata": {
        "id": "UahPVNlJSZ-K",
        "colab_type": "text"
      },
      "source": [
        "## Visualising the SVR results (for higher resolution and smoother curve)"
      ]
    },
    {
      "cell_type": "code",
      "metadata": {
        "id": "yVGCROx8p-hB",
        "colab_type": "code",
        "colab": {
          "base_uri": "https://localhost:8080/",
          "height": 295
        },
        "outputId": "652fe10d-6df4-4428-8c24-f89aac59e962"
      },
      "source": [
        "\n",
        "X_grid = np.arange(min(sc_X.inverse_transform(X)), max(sc_X.inverse_transform(X)), 0.1)\n",
        "X_grid = X_grid.reshape((len(X_grid), 1))\n",
        "plt.scatter(sc_X.inverse_transform(X),sc_y.inverse_transform(y), color = 'red')\n",
        "plt.plot(X_grid, sc_y.inverse_transform(regressor.predict(sc_X.transform(X_grid))), color = 'blue')\n",
        "plt.title('Truth or Bluff (Support Vector Regression)')\n",
        "plt.xlabel('Year of Experiance')\n",
        "plt.ylabel('Salary')\n",
        "plt.show()"
      ],
      "execution_count": 53,
      "outputs": [
        {
          "output_type": "display_data",
          "data": {
            "image/png": "[encoded data removed]",
            "text/plain": [
              "<Figure size 432x288 with 1 Axes>"
            ]
          },
          "metadata": {
            "tags": [],
            "needs_background": "light"
          }
        }
      ]
    },
    {
      "cell_type": "markdown",
      "metadata": {
        "id": "p9EODyeQrx10",
        "colab_type": "text"
      },
      "source": [
        "Im Gegensatz zum PR Modell findet mittels SVR keine Overfitting statt."
      ]
    }
  ]
}