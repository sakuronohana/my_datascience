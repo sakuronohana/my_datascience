{
  "nbformat": 4,
  "nbformat_minor": 0,
  "metadata": {
    "colab": {
      "name": "Multiple Linear Regression",
      "provenance": [],
      "toc_visible": true,
      "include_colab_link": true
    },
    "kernelspec": {
      "name": "python3",
      "display_name": "Python 3"
    }
  },
  "cells": [
    {
      "cell_type": "markdown",
      "metadata": {
        "id": "view-in-github",
        "colab_type": "text"
      },
      "source": [
        "<a href=\"https://colab.research.google.com/github/sakuronohana/my_datascience/blob/master/udemy/mlaz/Part%202%20-%20Regression/Section%205%20-%20Multiple%20Linear%20Regression/Python/multiple_linear_regression_tools.ipynb\" target=\"_parent\"><img src=\"https://colab.research.google.com/assets/colab-badge.svg\" alt=\"Open In Colab\"/></a>"
      ]
    },
    {
      "cell_type": "markdown",
      "metadata": {
        "id": "CazISR8X_HUG",
        "colab_type": "text"
      },
      "source": [
        "# Multiple Linear Regression\n",
        "\n",
        "Da Datensätze meist über mehrere Features verfügen macht eine Multiple Linear Regression am meisten Sinn. Grundsätzlich unterscheidet sich die Formel zur Simple Linear Regression nur dadurch, dass sie über mehrere Koeffizienten und unabhängige Variablen verfügt.\n",
        "\n",
        "$y = b_0 + b_1x_1+b_2x_2+ ... + b_nx_n$\n",
        "\n",
        "Wichtig dabei ist. Jede unhängige Variable ($x_1...x_n$) stellt ein Feature (Spalte) dar. Bspw. Ausgaben Administration, Ausgaben Marketing usw. "
      ]
    },
    {
      "cell_type": "markdown",
      "metadata": {
        "id": "pOyqYHTk_Q57",
        "colab_type": "text"
      },
      "source": [
        "## Importing the libraries"
      ]
    },
    {
      "cell_type": "code",
      "metadata": {
        "id": "NaBjNZRCqTMw",
        "colab_type": "code",
        "colab": {}
      },
      "source": [
        "import pandas as pd\n",
        "import numpy as np\n",
        "import matplotlib.pyplot as plt"
      ],
      "execution_count": 13,
      "outputs": []
    },
    {
      "cell_type": "markdown",
      "metadata": {
        "id": "vgC61-ah_WIz",
        "colab_type": "text"
      },
      "source": [
        "## Importing the dataset"
      ]
    },
    {
      "cell_type": "code",
      "metadata": {
        "id": "MqO28znIyCLf",
        "colab_type": "code",
        "colab": {}
      },
      "source": [
        "daturl = 'https://raw.githubusercontent.com/sakuronohana/my_datascience/master/udemy/mlaz/Part%202%20-%20Regression/Section%205%20-%20Multiple%20Linear%20Regression/Python/50_Startups.csv'\n",
        "dataset = pd.read_csv(daturl)\n",
        "\n",
        "X = dataset.iloc[:,:-1].values\n",
        "y = dataset.iloc[:,-1].values\n"
      ],
      "execution_count": 11,
      "outputs": []
    },
    {
      "cell_type": "code",
      "metadata": {
        "id": "o4-j_L6i3DkK",
        "colab_type": "code",
        "colab": {}
      },
      "source": [
        "print(X)"
      ],
      "execution_count": null,
      "outputs": []
    },
    {
      "cell_type": "markdown",
      "metadata": {
        "id": "VadrvE7s_lS9",
        "colab_type": "text"
      },
      "source": [
        "## Encoding categorical data"
      ]
    },
    {
      "cell_type": "code",
      "metadata": {
        "id": "KLffVB4NypgD",
        "colab_type": "code",
        "colab": {}
      },
      "source": [
        "from sklearn.preprocessing import OneHotEncoder\n",
        "from sklearn.compose import ColumnTransformer\n",
        "\n",
        "ct = ColumnTransformer(transformers=[('encoder',OneHotEncoder(),[3])], remainder='passthrough')\n",
        "X = np.array(ct.fit_transform(X))"
      ],
      "execution_count": 20,
      "outputs": []
    },
    {
      "cell_type": "code",
      "metadata": {
        "id": "eCfE8Vul1ppF",
        "colab_type": "code",
        "colab": {}
      },
      "source": [
        "print (X)\n",
        "print ('Wie wir oben sehen können, wurden die kodierten kategorischen Werte an den Anfang des Datensatzes gestellt')"
      ],
      "execution_count": null,
      "outputs": []
    },
    {
      "cell_type": "markdown",
      "metadata": {
        "id": "dFUgWsuL4sl_",
        "colab_type": "text"
      },
      "source": [
        "## Features Scaling\n",
        "\n",
        "An dieser Stelle stellt sich nun die Frage, ob wir die nummerischen Features skalieren müssen oder nicht.\n",
        "\n",
        "Die Antwort ist ... **Nein** müssen wir nicht. \n",
        "\n",
        "Der Grund dafür ist, dass in der multiplen Linearen Regression alle unabhängigen Variablen ($x_1 ... x_n$) mit dem gleichen Koeffizienten ($b_1 ... b_n$) multipliziert werden und dieser, ungeachtet der Grösse des Wertes der unabhängigen Variablen, die Unterschiede kompensiert und jeden Wert gleich skaliert."
      ]
    },
    {
      "cell_type": "markdown",
      "metadata": {
        "id": "WemVnqgeA70k",
        "colab_type": "text"
      },
      "source": [
        "## Splitting the dataset into the Training set and Test set"
      ]
    },
    {
      "cell_type": "code",
      "metadata": {
        "id": "9wDtwK2K2ByF",
        "colab_type": "code",
        "colab": {}
      },
      "source": [
        "from sklearn.model_selection import train_test_split\n",
        "\n",
        "X_train, X_text,y_train,y_test = train_test_split(X,y,test_size = 0.2, random_state = 1)"
      ],
      "execution_count": 23,
      "outputs": []
    },
    {
      "cell_type": "markdown",
      "metadata": {
        "id": "k-McZVsQBINc",
        "colab_type": "text"
      },
      "source": [
        "## Training the Multiple Linear Regression model on the Training set\n",
        "\n",
        "An dieser Stelle gibt es noch etwas ganz wichtige zu sagen. \n",
        "Bei der Konzeption von Modellen wird oft erwähnt, dass beim Feature Engineering zuerst die Features mit der grössten statischen Signifikats ($p$) selektioniert werden müssen, bevor ein Modell erstellt werden kann.\n",
        "\n",
        "Das stimmt so nicht immmer, da die meisten ML Tools wie Scikit automatisch die signifikatesten Features auswählen."
      ]
    },
    {
      "cell_type": "code",
      "metadata": {
        "id": "huRS1E3e3laq",
        "colab_type": "code",
        "colab": {}
      },
      "source": [
        ""
      ],
      "execution_count": null,
      "outputs": []
    },
    {
      "cell_type": "markdown",
      "metadata": {
        "id": "xNkXL1YQBiBT",
        "colab_type": "text"
      },
      "source": [
        "## Predicting the Test set results"
      ]
    }
  ]
}