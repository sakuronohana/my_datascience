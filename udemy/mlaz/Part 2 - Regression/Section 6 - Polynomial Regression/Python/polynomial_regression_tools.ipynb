{
  "nbformat": 4,
  "nbformat_minor": 0,
  "metadata": {
    "colab": {
      "name": "polynomial_regression.ipynb",
      "provenance": [],
      "collapsed_sections": [],
      "include_colab_link": true
    },
    "kernelspec": {
      "name": "python3",
      "display_name": "Python 3"
    }
  },
  "cells": [
    {
      "cell_type": "markdown",
      "metadata": {
        "id": "view-in-github",
        "colab_type": "text"
      },
      "source": [
        "<a href=\"https://colab.research.google.com/github/sakuronohana/my_datascience/blob/master/udemy/mlaz/Part%202%20-%20Regression/Section%206%20-%20Polynomial%20Regression/Python/polynomial_regression_tools.ipynb\" target=\"_parent\"><img src=\"https://colab.research.google.com/assets/colab-badge.svg\" alt=\"Open In Colab\"/></a>"
      ]
    },
    {
      "cell_type": "markdown",
      "metadata": {
        "id": "vN99YjPTDena",
        "colab_type": "text"
      },
      "source": [
        "# Polynomial Regression\n",
        "\n",
        "Verlassen wir nun die Lineare Welt und kommen zur der Nicht-Linearen Regression auch Polynomiale Regression genannt. Der wesentliche Unterschied zur Formel der linearen Regressionen (Simple/Multiple) ist, dass wir nun eine Funktion benötigen, mittels welcher wir eine Kurve in die gerade Line biegen können. \n",
        "\n",
        "$y = b_0 + b_1x_1$**$+b_2x_1^2$**\n",
        "\n",
        "In der Formel sehen wir noch eine Quadrat-Funktion mittels welche wir die Biegung hinbekommen."
      ]
    },
    {
      "cell_type": "markdown",
      "metadata": {
        "id": "ZIx_naXnDyHd",
        "colab_type": "text"
      },
      "source": [
        "## Importing the libraries"
      ]
    },
    {
      "cell_type": "code",
      "metadata": {
        "id": "itBKwZ1fk3t8",
        "colab_type": "code",
        "colab": {}
      },
      "source": [
        "import pandas as pd\n",
        "import numpy as np\n",
        "import matplotlib.pyplot as plt"
      ],
      "execution_count": 1,
      "outputs": []
    },
    {
      "cell_type": "markdown",
      "metadata": {
        "id": "6c8YExmOD5x5",
        "colab_type": "text"
      },
      "source": [
        "## Importing the dataset"
      ]
    },
    {
      "cell_type": "code",
      "metadata": {
        "id": "8bjHLNRxkzO6",
        "colab_type": "code",
        "colab": {}
      },
      "source": [
        "daturl = 'https://raw.githubusercontent.com/sakuronohana/my_datascience/master/udemy/mlaz/Part%202%20-%20Regression/Section%206%20-%20Polynomial%20Regression/Python/Position_Salaries.csv'\n",
        "dataset = pd.read_csv(daturl)\n",
        "\n",
        "X = dataset.iloc[:,1:-1].values\n",
        "y = dataset.iloc[:,-1].values"
      ],
      "execution_count": 7,
      "outputs": []
    },
    {
      "cell_type": "code",
      "metadata": {
        "id": "1fFywC4Hln8E",
        "colab_type": "code",
        "colab": {
          "base_uri": "https://localhost:8080/",
          "height": 187
        },
        "outputId": "e77c4544-3422-4220-a78d-bb754f151e4a"
      },
      "source": [
        "print(X)"
      ],
      "execution_count": 3,
      "outputs": [
        {
          "output_type": "stream",
          "text": [
            "[[ 1]\n",
            " [ 2]\n",
            " [ 3]\n",
            " [ 4]\n",
            " [ 5]\n",
            " [ 6]\n",
            " [ 7]\n",
            " [ 8]\n",
            " [ 9]\n",
            " [10]]\n"
          ],
          "name": "stdout"
        }
      ]
    },
    {
      "cell_type": "markdown",
      "metadata": {
        "id": "Le8SEL-YEOLb",
        "colab_type": "text"
      },
      "source": [
        "## Training the Linear Regression model on the whole dataset\n",
        "\n",
        "Damit wir einen Vergleich zwischen Regression-Modells durchführen können (Was in der Praxis State of the Art ist) wollen wir zuerst ein Lineares Regression-Modell erstellen."
      ]
    },
    {
      "cell_type": "code",
      "metadata": {
        "id": "fxplnYyVnfOD",
        "colab_type": "code",
        "colab": {
          "base_uri": "https://localhost:8080/",
          "height": 34
        },
        "outputId": "c5e53687-e5d0-4511-a7ac-6981d906729a"
      },
      "source": [
        "from sklearn.linear_model import LinearRegression\n",
        "lr = LinearRegression()\n",
        "lr.fit(X,y)"
      ],
      "execution_count": 8,
      "outputs": [
        {
          "output_type": "execute_result",
          "data": {
            "text/plain": [
              "LinearRegression(copy_X=True, fit_intercept=True, n_jobs=None, normalize=False)"
            ]
          },
          "metadata": {
            "tags": []
          },
          "execution_count": 8
        }
      ]
    },
    {
      "cell_type": "markdown",
      "metadata": {
        "id": "Rb5nWuSHEfBV",
        "colab_type": "text"
      },
      "source": [
        "## Training the Polynomial Regression model on the whole dataset\n",
        "\n",
        "Nun erstellen wir ein Poly-Reg Modell.\n",
        "\n",
        "Nähere Erklärung zu Polynomial Regression siehe [Link](https://online.stat.psu.edu/stat462/node/158/)"
      ]
    },
    {
      "cell_type": "code",
      "metadata": {
        "id": "vXb-iAJ2VLv2",
        "colab_type": "code",
        "colab": {
          "base_uri": "https://localhost:8080/",
          "height": 34
        },
        "outputId": "ccd8bc9e-cefe-4190-cdd8-03249e69075a"
      },
      "source": [
        "# Zuerst werden wir die Features für das Poly-Regression Modell vorbereiten\n",
        "from sklearn.preprocessing import PolynomialFeatures\n",
        "pr = PolynomialFeatures(degree = 2) # Erstellung eines Objekt mit Degree 2 heisst nichts anderes als Quadratisch\n",
        "pr2 = PolynomialFeatures(degree = 4)\n",
        "# Wenn wir den Grad (3 oder 4) erhöhen, dann bekommen wir auch ein besseres Resultat, dabei besteht natürlich auch die\n",
        "# die Gefahr von Overfitting\n",
        "X_poly = pr.fit_transform(X)\n",
        "X_poly2 = pr2.fit_transform(X)\n",
        "\n",
        "# Da wir es immer noch mit einem Linearen Modell zu tun haben, müssen wir jetzt noch\n",
        "# die oben erstellte Funktion in das bereits bekannte lineare Modell übertragen.\n",
        "lr2 = LinearRegression()\n",
        "lr2.fit(X_poly, y)\n",
        "lr2.fit(X_poly2,y)"
      ],
      "execution_count": 47,
      "outputs": [
        {
          "output_type": "execute_result",
          "data": {
            "text/plain": [
              "LinearRegression(copy_X=True, fit_intercept=True, n_jobs=None, normalize=False)"
            ]
          },
          "metadata": {
            "tags": []
          },
          "execution_count": 47
        }
      ]
    },
    {
      "cell_type": "markdown",
      "metadata": {
        "id": "0O8R0tzbEpvy",
        "colab_type": "text"
      },
      "source": [
        "## Visualising the Linear Regression results"
      ]
    },
    {
      "cell_type": "code",
      "metadata": {
        "id": "kBSoHB4ZF0TG",
        "colab_type": "code",
        "colab": {
          "base_uri": "https://localhost:8080/",
          "height": 295
        },
        "outputId": "0774b4ec-5f94-46dc-c4c6-0da9b117480c"
      },
      "source": [
        "plt.scatter(X,y, color='red')\n",
        "plt.plot(X, lr.predict(X), color='blue')\n",
        "plt.title('Truth or Bluff (Linear Regression')\n",
        "plt.ylabel('Postion Level')\n",
        "plt.xlabel('Salary')\n",
        "plt.show()"
      ],
      "execution_count": 24,
      "outputs": [
        {
          "output_type": "display_data",
          "data": {
            "image/png": "[encoded data removed]",
            "text/plain": [
              "<Figure size 432x288 with 1 Axes>"
            ]
          },
          "metadata": {
            "tags": [],
            "needs_background": "light"
          }
        }
      ]
    },
    {
      "cell_type": "markdown",
      "metadata": {
        "id": "stOnSo74E52m",
        "colab_type": "text"
      },
      "source": [
        "## Visualising the Polynomial Regression results"
      ]
    },
    {
      "cell_type": "code",
      "metadata": {
        "id": "G3_DkBRVGqXA",
        "colab_type": "code",
        "colab": {
          "base_uri": "https://localhost:8080/",
          "height": 295
        },
        "outputId": "270244b9-1ace-47e4-d1c2-3efce291f8e2"
      },
      "source": [
        "plt.scatter(X,y, color='red')\n",
        "plt.plot(X,lr2.predict(X_poly), color='blue')\n",
        "plt.title('True of Bluff?')\n",
        "plt.xlabel('Position Level')\n",
        "plt.ylabel('Salary')\n",
        "plt.show()"
      ],
      "execution_count": 25,
      "outputs": [
        {
          "output_type": "display_data",
          "data": {
            "image/png": "[encoded data removed]",
            "text/plain": [
              "<Figure size 432x288 with 1 Axes>"
            ]
          },
          "metadata": {
            "tags": [],
            "needs_background": "light"
          }
        }
      ]
    },
    {
      "cell_type": "markdown",
      "metadata": {
        "id": "U_qsAMKnE-PJ",
        "colab_type": "text"
      },
      "source": [
        "## Visualising the Polynomial Regression results (for higher resolution and smoother curve)\n",
        "\n",
        "Wir sehen im vorherigen Plot, dass die Kurve nicht ganz so optimal zwischen den Datenpunkten verläuft, weshalb wir sie noch mit einem höhren Grad versehen und sie etwas glätten (smoother).\n",
        "\n",
        "Würden wir hier nur den Grad erhöhen, dann bekämmen wir relative gerade Linien zwischen den Punkten."
      ]
    },
    {
      "cell_type": "code",
      "metadata": {
        "id": "ee5ZhIwWJz1H",
        "colab_type": "code",
        "colab": {
          "base_uri": "https://localhost:8080/",
          "height": 295
        },
        "outputId": "05a6cb0c-94a9-494b-a769-677cc85f40fa"
      },
      "source": [
        "X_grid = np.arange(min(X), max(X), 0.1)\n",
        "X_grid = X_grid.reshape((len(X_grid), 1))\n",
        "plt.scatter(X, y, color = 'red')\n",
        "plt.plot(X_grid, lr2.predict(pr2.fit_transform(X_grid)), color = 'blue')\n",
        "plt.title('Truth or Bluff (Polynomial Regression)')\n",
        "plt.xlabel('Position level')\n",
        "plt.ylabel('Salary')\n",
        "plt.show()\n"
      ],
      "execution_count": 40,
      "outputs": [
        {
          "output_type": "display_data",
          "data": {
            "image/png": "[encoded data removed]",
            "text/plain": [
              "<Figure size 432x288 with 1 Axes>"
            ]
          },
          "metadata": {
            "tags": [],
            "needs_background": "light"
          }
        }
      ]
    },
    {
      "cell_type": "markdown",
      "metadata": {
        "id": "diyJFZHhFFeK",
        "colab_type": "text"
      },
      "source": [
        "## Predicting a new result with Linear Regression\n",
        "\n",
        "Nachfolgend wollen wir mittels der Linearen Regression die Prediction eines einzelnen Wertes (6.5 Jahre Erfahrung) ausfindig machen."
      ]
    },
    {
      "cell_type": "code",
      "metadata": {
        "id": "ZINSy1BhKS-q",
        "colab_type": "code",
        "colab": {
          "base_uri": "https://localhost:8080/",
          "height": 51
        },
        "outputId": "557c5ca2-1e39-4e2d-c8a3-e496e4886e07"
      },
      "source": [
        "print(lr.predict([[6.5]])) #Die erste eckige Klammer symbolisiert die Zeilen und die zweite Klammer die Spalten\n",
        "print('Das Resultat ist sehr schlecht, da der Salary von 3300378 doch sehr weitweg der Norm ist. Das lineare Model performed schlecht')\n"
      ],
      "execution_count": 42,
      "outputs": [
        {
          "output_type": "stream",
          "text": [
            "[330378.78787879]\n",
            "Das Resultat ist sehr schlecht, da der Salary von 3300378 doch sehr weitweg der Norm ist \n"
          ],
          "name": "stdout"
        }
      ]
    },
    {
      "cell_type": "markdown",
      "metadata": {
        "id": "DW7I7ZVDFNkk",
        "colab_type": "text"
      },
      "source": [
        "## Predicting a new result with Polynomial Regression\n",
        "\n",
        "Wiederholen wir noch das gleiche Experiment mit der polynominalen Regression."
      ]
    },
    {
      "cell_type": "code",
      "metadata": {
        "id": "NPme48XNUqjE",
        "colab_type": "code",
        "colab": {
          "base_uri": "https://localhost:8080/",
          "height": 51
        },
        "outputId": "0084173e-171c-4a88-c3f2-a36a0dce4662"
      },
      "source": [
        "print(lr2.predict(pr2.fit_transform([[6.5]])))\n",
        "print('Wir bekommen erneut die Bestätigung, dass das PLR Modell besser performed als das LR-Modell')"
      ],
      "execution_count": 50,
      "outputs": [
        {
          "output_type": "stream",
          "text": [
            "[158862.45265155]\n",
            "Wir bekommen erneut die Bestätigung, dass das PLR Modell besser Performed als das LR-Modell\n"
          ],
          "name": "stdout"
        }
      ]
    }
  ]
}