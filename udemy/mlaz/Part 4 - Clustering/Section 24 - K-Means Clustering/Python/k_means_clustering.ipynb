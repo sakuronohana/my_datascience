{
  "nbformat": 4,
  "nbformat_minor": 0,
  "metadata": {
    "colab": {
      "name": "K-Means Clustering",
      "provenance": [],
      "include_colab_link": true
    },
    "kernelspec": {
      "name": "python3",
      "display_name": "Python 3"
    }
  },
  "cells": [
    {
      "cell_type": "markdown",
      "metadata": {
        "id": "view-in-github",
        "colab_type": "text"
      },
      "source": [
        "<a href=\"https://colab.research.google.com/github/sakuronohana/my_datascience/blob/master/udemy/mlaz/Part%204%20-%20Clustering/Section%2024%20-%20K-Means%20Clustering/Python/k_means_clustering.ipynb\" target=\"_parent\"><img src=\"https://colab.research.google.com/assets/colab-badge.svg\" alt=\"Open In Colab\"/></a>"
      ]
    },
    {
      "cell_type": "markdown",
      "metadata": {
        "id": "i_paGd_yLbgH"
      },
      "source": [
        "# Unsupervised Learning\n",
        "\n",
        "Verlassen wir nun den Bereich des Überwachten Lernens (Supervised Learning) und widmen uns den unüberwachten Lernens (Unsupervised Learning). Beim unüberwachten Lernen muss der ML-Algorithmus die Datenstruktur selbst erkennen bzw. hat keine Labels (abhängige Variablen) welche im aufzeigen ob er richtig liegt oder nicht. Der Algorithmus gruppiert hierbei meist die verschiedenen ähnlichen Datenpunkte was Clustering genannt wird.\n",
        "Clustering ähnelt der Klassifizierung, die Basis ist jedoch unterschiedlich. Beim Clustering weiss man nicht, wonach man sucht, und versucht, einige Segmente oder Cluster in den Daten zu identifizieren bzw. abhängie Variablen zu erörtern. Wenn man Clustering-Algorithmen für den Datensatz vewendet, können plötzlich unerwartete Dinge wie Strukturen, Cluster und Gruppierungen auftauchen, an die man sonst nie gedacht hätte.\n",
        "\n"
      ]
    },
    {
      "cell_type": "markdown",
      "metadata": {
        "id": "DRbBHDMNxdhS"
      },
      "source": [
        "## K-Means Clustering\n",
        "\n",
        "Der **k-Means-Algorithmus** ist ein Verfahren zur Vektorquantisierung, welches auch zur Clusteranalyse verwendet wird. Dabei wird aus einer Menge von ähnlichen Objekten eine vorher bekannte Anzahl von k Gruppen gebildet. Der Algorithmus ist eine der am häufigsten verwendeten Techniken zur Gruppierung von Objekten, da er schnell die Zentren der Cluster findet. Dabei bevorzugt der Algorithmus Gruppen mit geringer Varianz bzw. Distanz und ähnlicher Größe. \n",
        "\n",
        "k-Means Clustering funtioniert in etwa wie folgt:\n",
        "\n",
        "![alt text](https://image.slidesharecdn.com/kmeansclusteringalgorithmkmeansclusteringexamplemachinelearningalgorithmssimplilearn-180323072616/95/k-means-clustering-algorithm-k-means-clustering-example-machine-learning-algorithms-simplilearn-32-1024.jpg?cb=1521790168)\n",
        "\n",
        "Nehmen wir an, das wir die Inputs x1, x2, x3 .... und den K-Wert,\n",
        "\n",
        "1. Schritt: Zufallsauswahl von k als Cluster Center (Centroids) *Hinweis: Centroids befinden sich nicht wirklich im Cluster-Center*\n",
        "Mathematisch sieht das wie folgt aus, wobei *C* die Summe aller Centroids und $c_n$ jeden einzelnen Centroid darstellt:\n",
        "\n",
        "      $C= c_1,c_2,...c_k$\n",
        "      \n",
        "2. Schritt:  Zuweisung jedes xi zum nächsten Cluster durch die Berechnung der Distanz zu jedem Centroid. Bspw. x1 zu c1, c2 und c4.\n",
        "\n",
        "    $arg  min  dist (c_i, x)^2$\n",
        "    \n",
        "    $^C_i \\in C$\n",
        "\n",
        "3. Schritt: Suchen eines neuen Cluster Centers mittels arithmetischen Mittels der bereits zugewiesenen Datenpunkte.\n",
        "\n",
        "4. Schritt: Wiederholen der Schritte 2 und 3 bis sich die Positionen der Centroids nicht mehr verändern.\n",
        "\n",
        "\n",
        "Zur Ermittlung der Distanzen werden die gleichen Distanzfunktionen (Euc) eingesetzt wie bei KNN.\n",
        "\n",
        "**Wichtige Begriffe:** \n",
        "\n",
        "* Unlabeled Daten = Geben in Gegensatz zu gelabelten Daten keine Lösung vor. \n",
        "* K = Anzahl Datenpunkte die gewählt werden um Cluster zu bilden.\n",
        "* Cluster centroids = Nennt man die mit K ausgewählten Datenpunkte.\n",
        "\n",
        "### Elbow Method\n",
        "\n",
        "Um die richtige Anzahl von Clustern auszuwählen, verwenden wir die Ellbogenmethode .\n",
        "Die Elbow-Methode führt einen K-Mittelwert-Algorithmus für eine unterschiedliche Anzahl von Clustern aus und ermittelt die Summe der quadratischen Abstände jedes Datenpunkts vom Schwerpunkt des Clusters, auch als innerhalb der Cluster-Summe der Quadrate (**W**ithin **C**luster **S**um of **S**quares) bezeichnet. Wenn wir nur einen Cluster haben, finden wir die Summe der quadratischen Abstände für jeden Datenpunkt vom Schwerpunkt.\n",
        "\n",
        "<img src='https://miro.medium.com/max/1400/1*xc_oktEgovT1dlM1tKA4-w.png' width=500>\n",
        "\n",
        "Wir finden das WCSS für ein bis sechs Cluster und zeichnen dann das WCSS mit der Anzahl der Cluster wie unten gezeigt.\n",
        "Die Position der Biegung oder des Ellbogens oder der plötzliche Abstandabfall im Diagramm wird als angemessene Anzahl von Clustern angesehen.\n",
        "In unserem Fall sehen wir das bei 2 und das ist die Anzahl der geeigneten Cluster.\n",
        "\n",
        "<img src='https://miro.medium.com/max/1400/1*kt_MxQxFWOKz3RDuw40pgA.png' width=500>\n",
        "\n",
        "### Random initialization trap (dt. Zufällige Initialisierungsfalle)\n",
        "\n",
        "Wenn die Zentroide zufällig initialisiert werden, erzeugt jeder Lauf von k Mittel unterschiedliche WCSS. Eine falsche Auswahl der Schwerpunkte führt zu einer suboptimalen Clusterbildung.\n",
        "Um das Problem falscher Zentroide zu lösen, verwenden wir K-means ++, wobei wir die Zentroide bei der Initialisierung so weit wie möglich auswählen.\n",
        "Die Idee ist, Zentroide zu haben, um unterschiedliche Clusterzentren zu erstellen, damit eine optimale Clusterbildung schnell konvergiert.\n",
        "\n",
        "\n"
      ]
    },
    {
      "cell_type": "markdown",
      "metadata": {
        "id": "nAuqPwTnLipr"
      },
      "source": [
        "## Importing the libraries"
      ]
    },
    {
      "cell_type": "code",
      "metadata": {
        "id": "dqKlmwtmtuij"
      },
      "source": [
        "import pandas as pd\n",
        "import numpy as np\n",
        "import matplotlib.pyplot as plt"
      ],
      "execution_count": 1,
      "outputs": []
    },
    {
      "cell_type": "markdown",
      "metadata": {
        "id": "5LciKOr8Lo5O"
      },
      "source": [
        "## Importing the dataset\n",
        "\n",
        "Beim folgenden Datensatz geht es um eine Anzahl Kunden eines Shoppingcenters bei welchen das Geschlecht, Alter, jährliches Einkommen und Ausgaben in Form einer Werteskala erfasst wurden. In diesem Datensatz besteht kein abhängige Variable. Mittels Clustering wir aber eine solche erstellt. "
      ]
    },
    {
      "cell_type": "code",
      "metadata": {
        "id": "3zhPmjMFu3D3"
      },
      "source": [
        "datloc = 'https://raw.githubusercontent.com/sakuronohana/my_datascience/master/udemy/mlaz/Part%204%20-%20Clustering/Section%2024%20-%20K-Means%20Clustering/Python/Mall_Customers.csv'\n",
        "dataset = pd.read_csv(datloc)\n",
        "\n",
        "# Wir benötigen nur das jährlich Einkommen und der Spending Score\n",
        "X = dataset.iloc[:,[3,4]].values"
      ],
      "execution_count": 2,
      "outputs": []
    },
    {
      "cell_type": "code",
      "metadata": {
        "id": "jw1x6-FW46Ug",
        "outputId": "287ed523-feb1-4979-dce2-0519743c5252",
        "colab": {
          "base_uri": "https://localhost:8080/",
          "height": 419
        }
      },
      "source": [
        "dataset"
      ],
      "execution_count": 3,
      "outputs": [
        {
          "output_type": "execute_result",
          "data": {
            "text/html": [
              "<div>\n",
              "<style scoped>\n",
              "    .dataframe tbody tr th:only-of-type {\n",
              "        vertical-align: middle;\n",
              "    }\n",
              "\n",
              "    .dataframe tbody tr th {\n",
              "        vertical-align: top;\n",
              "    }\n",
              "\n",
              "    .dataframe thead th {\n",
              "        text-align: right;\n",
              "    }\n",
              "</style>\n",
              "<table border=\"1\" class=\"dataframe\">\n",
              "  <thead>\n",
              "    <tr style=\"text-align: right;\">\n",
              "      <th></th>\n",
              "      <th>CustomerID</th>\n",
              "      <th>Genre</th>\n",
              "      <th>Age</th>\n",
              "      <th>Annual Income (k$)</th>\n",
              "      <th>Spending Score (1-100)</th>\n",
              "    </tr>\n",
              "  </thead>\n",
              "  <tbody>\n",
              "    <tr>\n",
              "      <th>0</th>\n",
              "      <td>1</td>\n",
              "      <td>Male</td>\n",
              "      <td>19</td>\n",
              "      <td>15</td>\n",
              "      <td>39</td>\n",
              "    </tr>\n",
              "    <tr>\n",
              "      <th>1</th>\n",
              "      <td>2</td>\n",
              "      <td>Male</td>\n",
              "      <td>21</td>\n",
              "      <td>15</td>\n",
              "      <td>81</td>\n",
              "    </tr>\n",
              "    <tr>\n",
              "      <th>2</th>\n",
              "      <td>3</td>\n",
              "      <td>Female</td>\n",
              "      <td>20</td>\n",
              "      <td>16</td>\n",
              "      <td>6</td>\n",
              "    </tr>\n",
              "    <tr>\n",
              "      <th>3</th>\n",
              "      <td>4</td>\n",
              "      <td>Female</td>\n",
              "      <td>23</td>\n",
              "      <td>16</td>\n",
              "      <td>77</td>\n",
              "    </tr>\n",
              "    <tr>\n",
              "      <th>4</th>\n",
              "      <td>5</td>\n",
              "      <td>Female</td>\n",
              "      <td>31</td>\n",
              "      <td>17</td>\n",
              "      <td>40</td>\n",
              "    </tr>\n",
              "    <tr>\n",
              "      <th>...</th>\n",
              "      <td>...</td>\n",
              "      <td>...</td>\n",
              "      <td>...</td>\n",
              "      <td>...</td>\n",
              "      <td>...</td>\n",
              "    </tr>\n",
              "    <tr>\n",
              "      <th>195</th>\n",
              "      <td>196</td>\n",
              "      <td>Female</td>\n",
              "      <td>35</td>\n",
              "      <td>120</td>\n",
              "      <td>79</td>\n",
              "    </tr>\n",
              "    <tr>\n",
              "      <th>196</th>\n",
              "      <td>197</td>\n",
              "      <td>Female</td>\n",
              "      <td>45</td>\n",
              "      <td>126</td>\n",
              "      <td>28</td>\n",
              "    </tr>\n",
              "    <tr>\n",
              "      <th>197</th>\n",
              "      <td>198</td>\n",
              "      <td>Male</td>\n",
              "      <td>32</td>\n",
              "      <td>126</td>\n",
              "      <td>74</td>\n",
              "    </tr>\n",
              "    <tr>\n",
              "      <th>198</th>\n",
              "      <td>199</td>\n",
              "      <td>Male</td>\n",
              "      <td>32</td>\n",
              "      <td>137</td>\n",
              "      <td>18</td>\n",
              "    </tr>\n",
              "    <tr>\n",
              "      <th>199</th>\n",
              "      <td>200</td>\n",
              "      <td>Male</td>\n",
              "      <td>30</td>\n",
              "      <td>137</td>\n",
              "      <td>83</td>\n",
              "    </tr>\n",
              "  </tbody>\n",
              "</table>\n",
              "<p>200 rows × 5 columns</p>\n",
              "</div>"
            ],
            "text/plain": [
              "     CustomerID   Genre  Age  Annual Income (k$)  Spending Score (1-100)\n",
              "0             1    Male   19                  15                      39\n",
              "1             2    Male   21                  15                      81\n",
              "2             3  Female   20                  16                       6\n",
              "3             4  Female   23                  16                      77\n",
              "4             5  Female   31                  17                      40\n",
              "..          ...     ...  ...                 ...                     ...\n",
              "195         196  Female   35                 120                      79\n",
              "196         197  Female   45                 126                      28\n",
              "197         198    Male   32                 126                      74\n",
              "198         199    Male   32                 137                      18\n",
              "199         200    Male   30                 137                      83\n",
              "\n",
              "[200 rows x 5 columns]"
            ]
          },
          "metadata": {
            "tags": []
          },
          "execution_count": 3
        }
      ]
    },
    {
      "cell_type": "markdown",
      "metadata": {
        "id": "nWC2EWp2Lx5G"
      },
      "source": [
        "## Using the elbow method to find the optimal number of clusters\n",
        "\n",
        "Mittels des folgenden Codes werden wir nun die optimale Anzahl der Cluster ermitteln. "
      ]
    },
    {
      "cell_type": "code",
      "metadata": {
        "id": "zY-mstg251pp",
        "outputId": "367198cb-27a1-4f3e-c8e6-4ac07b6c8d85",
        "colab": {
          "base_uri": "https://localhost:8080/",
          "height": 295
        }
      },
      "source": [
        "from sklearn.cluster import KMeans\n",
        "wcss = [] # Definition der List für die Resultate \n",
        "\n",
        "for i in range(1,11): # 10 For-Iterationen für 10 Cluster ausprobieren \n",
        "  # Wir erstellen nun die einzelnen KMeans Objekte und verwenden K-Means++\n",
        "  # um die Random initialization trap zu umgehen. \n",
        "  kmeans = KMeans(n_clusters = i, init = 'k-means++',random_state = 42)\n",
        "  # Nun fitten die einzelnen Cluster\n",
        "  kmeans.fit(X)\n",
        "  # und fügen die Resultate unserer WCSS Liste hinzu. \n",
        "  wcss.append(kmeans.inertia_)\n",
        "\n",
        "# Nachfolgend wollen wir die Resultate der Elbow Methode visualisieren\n",
        "plt.plot(range(1,11),wcss)\n",
        "plt.title('The Elbow Method')\n",
        "plt.xlabel('Number of clusters')\n",
        "plt.ylabel('WCSS')\n",
        "plt.show()"
      ],
      "execution_count": 4,
      "outputs": [
        {
          "output_type": "display_data",
          "data": {
            "image/png": "[encoded data removed]",
            "text/plain": [
              "<Figure size 432x288 with 1 Axes>"
            ]
          },
          "metadata": {
            "tags": [],
            "needs_background": "light"
          }
        }
      ]
    },
    {
      "cell_type": "markdown",
      "metadata": {
        "id": "VgT0mANLL4Nz"
      },
      "source": [
        "## Training the K-Means model on the dataset"
      ]
    },
    {
      "cell_type": "markdown",
      "metadata": {
        "id": "e7YrS1JAMFnm"
      },
      "source": [
        "## Visualising the clusters"
      ]
    }
  ]
}