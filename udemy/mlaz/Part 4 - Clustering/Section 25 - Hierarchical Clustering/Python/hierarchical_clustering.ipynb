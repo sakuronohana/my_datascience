{
  "nbformat": 4,
  "nbformat_minor": 0,
  "metadata": {
    "colab": {
      "name": "Hierarchical Clustering",
      "provenance": [],
      "collapsed_sections": [],
      "include_colab_link": true
    },
    "kernelspec": {
      "name": "python3",
      "display_name": "Python 3"
    }
  },
  "cells": [
    {
      "cell_type": "markdown",
      "metadata": {
        "id": "view-in-github",
        "colab_type": "text"
      },
      "source": [
        "<a href=\"https://colab.research.google.com/github/sakuronohana/my_datascience/blob/master/udemy/mlaz/Part%204%20-%20Clustering/Section%2025%20-%20Hierarchical%20Clustering/Python/hierarchical_clustering.ipynb\" target=\"_parent\"><img src=\"https://colab.research.google.com/assets/colab-badge.svg\" alt=\"Open In Colab\"/></a>"
      ]
    },
    {
      "cell_type": "markdown",
      "metadata": {
        "id": "JKkbeQi2Mzug"
      },
      "source": [
        "# Hierarchical Clustering (HC)\n",
        "\n",
        "Wie auch schon bei k-Means geht es bei HC ebenfalls darum abhänige Variablen mittels Bildung von Clustern zu finden. Der hauptsächliche Unterschied zwischen den beiden Algorithmen definiert sich über die Art und Weise wie die Bildung der Cluster erfolgt. Während bei k-Means sogenannte Centroids in Mitten die Datenpunkt gesetzt werden, werden bei HC die nach und nach die nächstgelegenen Datenpunkte zu Clustern zusammengeführt. Es gibt hauptsächlich zwei Arten von hierarchischem Clustering. Eines ist Agglomerative Hierarchical Clustering und das andere ist Divisive Hierarchical Clustering.\n",
        "\n",
        "**Agglomeratives hierarchisches Clustering** beginnt damit, dass jede Beobachtung als separates Cluster behandelt wird. Anschließend werden wiederholt die folgenden zwei Schritte ausgeführt: (1) Identifizieren der beiden Cluster, die am nächsten beieinander liegen, und (2) Zusammenführen der beiden ähnlichsten Cluster. Dies wird fortgesetzt, bis alle Cluster zusammengeführt sind:\n",
        "\n",
        "<img src='https://miro.medium.com/max/1400/1*bQvm8on_47ifJGyOowGCow.png' width='600'>\n",
        "\n",
        "Theoretisch kann dies auch erreicht werden, indem zunächst alle Beobachtungen in einem Cluster zusammengefasst und diese Cluster dann aufgeteilt werden. Dieser ist als **divisives hierarchisches Clustering** bekannt.\n",
        "\n",
        "Die folgenden Abbildungen zeigen, wie der euklidische Abstand zweier Punkte und einige Ansätze für den Abstand zwischen zwei Clustern berechnet werden.\n",
        "\n",
        "<img src='https://miro.medium.com/max/1400/1*lUSItZxfdAMK3TfZh7Mceg.png' width='800'>\n",
        "\n",
        "Der agglomerative hierarchische Clustering-Algorithmus funktioniert wie in der folgenden Abbildung dargestellt. Es beginnt mit den nächsten zwei Punkten und verringern nacheinander die Anzahl der Cluster auf einen.\n",
        "\n",
        "<img src='https://miro.medium.com/max/1400/1*VcKlANXX-zivNaucjNU82w.png' width='700'>\n",
        "\n",
        "Um die tatsächlichen Clusternummern zu bestimmen wird nun ein Dendrogramm erstellt. Ein Dendrogramm ist ein baumartiges Diagramm, das die Folgen von Zusammenführungen oder Teilungen aufzeichnet. Wir können schnell erkennen, wie viele Cluster wir an einem bestimmten Schwellenwert haben werden, indem wir uns nur ansehen, wie viele vertikale Linien dieser horizontale Schwellenwert tatsächlich überschreitet.\n",
        "In diesem Fall können wir feststellen, dass die beiden Cluster am besten zu teilen sind. Der Trick besteht darin, die Linien zu kreuzen, die die Linie mit dem größten Abstand enthalten.\n",
        "\n",
        "<img src='https://miro.medium.com/max/1400/1*tGQJO20wTOFen5E_wkDiAA.png' width='700'>\n",
        "\n",
        "Hierarchisches Clustering kann mit Big Data **nicht** gut umgehen, k-Means Clustering jedoch schon. Dies liegt daran, dass die zeitliche Komplexität bei k-Means linear ist, während die der hierarchischen Clusterbildung quadratisch ist. Daher ist k-Means die beliebtere Clustering-Methode. \n",
        "\n"
      ]
    },
    {
      "cell_type": "markdown",
      "metadata": {
        "id": "TaQI437hM1Ho"
      },
      "source": [
        "## Importing the libraries"
      ]
    },
    {
      "cell_type": "code",
      "metadata": {
        "id": "T2-yCxz3Tmtm"
      },
      "source": [
        "import pandas as pd\n",
        "import numpy as np\n",
        "import matplotlib.pyplot as plt"
      ],
      "execution_count": 1,
      "outputs": []
    },
    {
      "cell_type": "markdown",
      "metadata": {
        "id": "gFeTEtDxM7K4"
      },
      "source": [
        "## Importing the dataset"
      ]
    },
    {
      "cell_type": "code",
      "metadata": {
        "id": "YczqU2l4T3NN"
      },
      "source": [
        "datloc = 'https://raw.githubusercontent.com/sakuronohana/my_datascience/master/udemy/mlaz/Part%204%20-%20Clustering/Section%2025%20-%20Hierarchical%20Clustering/Python/Mall_Customers.csv'\n",
        "dataset = pd.read_csv(datloc)\n",
        "\n",
        "X = dataset.iloc[:,[3,4]].values"
      ],
      "execution_count": 4,
      "outputs": []
    },
    {
      "cell_type": "markdown",
      "metadata": {
        "id": "czYMlG7cNBsu"
      },
      "source": [
        "## Using the dendrogram to find the optimal number of clusters\n",
        "\n",
        "Für die Erstellung eine Dendrograms verwenden wir das erste Mal die Libray SciPy. SciPy ist eine Open-Source-Python-Bibliothek, mit der wissenschaftliche und mathematische Probleme gelöst werden. Es basiert auf der NumPy-Erweiterung und ermöglicht es dem Benutzer, Daten mit einer Vielzahl von allgemeinen Befehlen zu bearbeiten und zu visualisieren. Wie bereits erwähnt, baut SciPy auf NumPy auf. Wenn Sie SciPy importieren, müssen Sie NumPy nicht importieren. \n",
        "\n",
        "Mehr Informationen findet man direkt auf der [SciPy.org](https://www.scipy.org/) Webseite."
      ]
    },
    {
      "cell_type": "code",
      "metadata": {
        "id": "CyA3wwRYVgf-",
        "outputId": "534dfbd7-bc1e-434e-d58d-39c93bba6914",
        "colab": {
          "base_uri": "https://localhost:8080/",
          "height": 295
        }
      },
      "source": [
        "import scipy.cluster.hierarchy as sch\n",
        "dendrogram = sch.dendrogram(sch.linkage(X, method='ward'))\n",
        "plt.title('Dendrogram')\n",
        "plt.xlabel('Customers')\n",
        "plt.ylabel('Euclidean Distances')\n",
        "plt.show()\n",
        "\n"
      ],
      "execution_count": 12,
      "outputs": [
        {
          "output_type": "display_data",
          "data": {
            "image/png": "[encoded data removed]",
            "text/plain": [
              "<Figure size 432x288 with 1 Axes>"
            ]
          },
          "metadata": {
            "tags": [],
            "needs_background": "light"
          }
        }
      ]
    },
    {
      "cell_type": "markdown",
      "metadata": {
        "id": "KDbXbo9INLF6"
      },
      "source": [
        "## Training the Hierarchical Clustering model on the dataset"
      ]
    },
    {
      "cell_type": "markdown",
      "metadata": {
        "id": "X-SYG7l9NVmU"
      },
      "source": [
        "## Visualising the clusters"
      ]
    }
  ]
}