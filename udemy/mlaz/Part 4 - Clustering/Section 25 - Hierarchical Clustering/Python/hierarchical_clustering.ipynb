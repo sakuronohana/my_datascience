{
  "nbformat": 4,
  "nbformat_minor": 0,
  "metadata": {
    "colab": {
      "name": "Hierarchical Clustering",
      "provenance": [],
      "collapsed_sections": [],
      "include_colab_link": true
    },
    "kernelspec": {
      "name": "python3",
      "display_name": "Python 3"
    }
  },
  "cells": [
    {
      "cell_type": "markdown",
      "metadata": {
        "id": "view-in-github",
        "colab_type": "text"
      },
      "source": [
        "<a href=\"https://colab.research.google.com/github/sakuronohana/my_datascience/blob/master/udemy/mlaz/Part%204%20-%20Clustering/Section%2025%20-%20Hierarchical%20Clustering/Python/hierarchical_clustering.ipynb\" target=\"_parent\"><img src=\"https://colab.research.google.com/assets/colab-badge.svg\" alt=\"Open In Colab\"/></a>"
      ]
    },
    {
      "cell_type": "markdown",
      "metadata": {
        "id": "JKkbeQi2Mzug"
      },
      "source": [
        "# Hierarchical Clustering (HC)\n",
        "\n",
        "Grundsätzlich funktioniert das hierachical Clustering ähnlich wie k-Means mir Ausnahme, dass bei der Bildung von Clusters zuerste jeder Datenpunkt zu einem Cluster definiert wird. Danach werden Cluster, welche am nächsten zueinander sind erneut zu einem Cluster zusammengefügt.\n",
        "\n",
        "<img src='https://miro.medium.com/max/1400/1*bQvm8on_47ifJGyOowGCow.png' width='600'>\n",
        "\n",
        "<img src='https://miro.medium.com/max/1400/1*lUSItZxfdAMK3TfZh7Mceg.png' width='800'>\n",
        "\n",
        "<img src='https://miro.medium.com/max/1400/1*VcKlANXX-zivNaucjNU82w.png' width='700'>\n",
        "\n",
        "<img src='https://miro.medium.com/max/1400/1*tGQJO20wTOFen5E_wkDiAA.png' width='700'>\n",
        "\n",
        "\n",
        "\n"
      ]
    },
    {
      "cell_type": "markdown",
      "metadata": {
        "id": "TaQI437hM1Ho"
      },
      "source": [
        "## Importing the libraries"
      ]
    },
    {
      "cell_type": "markdown",
      "metadata": {
        "id": "gFeTEtDxM7K4"
      },
      "source": [
        "## Importing the dataset"
      ]
    },
    {
      "cell_type": "markdown",
      "metadata": {
        "id": "czYMlG7cNBsu"
      },
      "source": [
        "## Using the dendrogram to find the optimal number of clusters"
      ]
    },
    {
      "cell_type": "markdown",
      "metadata": {
        "id": "KDbXbo9INLF6"
      },
      "source": [
        "## Training the Hierarchical Clustering model on the dataset"
      ]
    },
    {
      "cell_type": "markdown",
      "metadata": {
        "id": "X-SYG7l9NVmU"
      },
      "source": [
        "## Visualising the clusters"
      ]
    }
  ]
}