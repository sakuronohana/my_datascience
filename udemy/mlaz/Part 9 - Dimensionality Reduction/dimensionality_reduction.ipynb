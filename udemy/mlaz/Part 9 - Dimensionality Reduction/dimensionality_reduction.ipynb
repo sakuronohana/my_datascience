{
  "nbformat": 4,
  "nbformat_minor": 0,
  "metadata": {
    "colab": {
      "name": "dimensionality_reduction.ipynb",
      "provenance": [],
      "collapsed_sections": [],
      "toc_visible": true,
      "include_colab_link": true
    },
    "kernelspec": {
      "name": "python3",
      "display_name": "Python 3"
    }
  },
  "cells": [
    {
      "cell_type": "markdown",
      "metadata": {
        "id": "view-in-github",
        "colab_type": "text"
      },
      "source": [
        "<a href=\"https://colab.research.google.com/github/sakuronohana/my_datascience/blob/master/udemy/mlaz/Part%209%20-%20Dimensionality%20Reduction/dimensionality_reduction.ipynb\" target=\"_parent\"><img src=\"https://colab.research.google.com/assets/colab-badge.svg\" alt=\"Open In Colab\"/></a>"
      ]
    },
    {
      "cell_type": "markdown",
      "metadata": {
        "id": "q4JUoR8d_iOV"
      },
      "source": [
        "# Dimensionality Reduction\n",
        "\n",
        "Dimensionalitätsreduktion ist ganz einfach der Prozess der Reduzierung der Dimension eines Merkmalssatzes. Ihr Merkmalssatz könnte aus einem Datensatz mit hundert Spalten (d.h. Merkmalen) bestehen, oder es könnte eine Anordnung von Punkten sein, die eine große Kugel im dreidimensionalen Raum bilden. Dimensionalitätsreduktion bedeutet, die Anzahl der Spalten auf z.B. zwanzig zu reduzieren oder die Kugel im zweidimensionalen Raum in einen Kreis umzuwandeln.\n",
        "Das ist alles schön und gut, aber warum sollten wir uns darum kümmern? Warum sollten wir 80 Spalten aus unserem Datensatz herausnehmen, wenn wir ihn direkt in unseren Algorithmus für maschinelles Lernen eingeben und den Rest von ihm erledigen lassen könnten?\n",
        "\n",
        "## Der Fluch der Dimensionalität\n",
        "Wir kümmern uns darum, weil der Fluch der Dimensionalität uns dazu zwingt. Der Fluch der Dimensionalität bezieht sich auf all die Probleme, die bei der Arbeit mit Daten in den höheren Dimensionen auftreten, die in den unteren Dimensionen nicht existierten.\n",
        "Wenn die Anzahl der Merkmale zunimmt, nimmt auch die Anzahl der Stichproben proportional zu. Je mehr Merkmale wir haben, desto mehr Stichproben werden wir benötigen, damit alle Kombinationen von Merkmalswerten in unserer Stichprobe gut repräsentiert sind.\n",
        "\n",
        "## Methoden zur Reduktion von Dimensionalitäten\n",
        "Es gibt die folgenden zwei Methoden:\n",
        "\n",
        "### Feature Selection\n",
        "Bei dieser Methode geht es darum die relevantesten Merkmale zur Lösung eines Problemes zu finden. Haben wir wenige Merkmale, dann können wir meist selber die wichtigisten Merkmale find. Besteht der Datensatz aber aus 20, 50, 100 oder gar 1000 Merkmalen dann wird es für uns schwierig und wir benötigen ein Modell welche für uns die wesentlichsten Merkmale selektioniert.\n",
        "\n",
        "### Feature Extraction \n",
        "Das Ziel dieser Methode ist es neue Merkmale zu finden. Wir befinden uns hier somit im Unsupervised Learning. Der Algorithmus transformiert hierbei die Daten von einem höheren dimensionalen Raum in einen tieferen Raum.\n",
        "\n",
        "Nachfolgend werden folgenden Techniken zur Extraktion vorgestellt:\n",
        "\n",
        "* Principal Component Analysis (PCA)\n",
        "* Linear Discriminant Analysis (LDA)\n",
        "* Kernel PCA\n",
        "* Quadratic Discriminant Analysis (QDA)"
      ]
    },
    {
      "cell_type": "markdown",
      "metadata": {
        "id": "VQ3syspj_rKn"
      },
      "source": [
        "## Principal Component Analysis (PCA)\n",
        "Eine der Wohl am bekanntesten und beliebtesten DR-Methoden ist die PCA (dt. Hauptkomponentenanalyse). Die Hauptkomponentenanalyse (Principal Component Analysis, PCA) ist eine Methode zur Reduzierung der Dimensionalität, die häufig zur Reduzierung der Dimensionalität großer Datensätze verwendet wird, indem ein großer Satz von Variablen in einen kleineren transformiert wird, der immer noch die meisten Informationen des großen Satzes enthält.\n",
        "\n",
        "Die Reduzierung der Anzahl der Variablen eines Datensatzes geht natürlich auf Kosten der Genauigkeit, aber der Trick bei der Dimensionalitätsreduktion besteht darin, ein wenig Genauigkeit gegen Einfachheit einzutauschen. Denn kleinere Datensätze lassen sich leichter untersuchen und visualisieren und machen die Datenanalyse für Algorithmen des maschinellen Lernens viel einfacher und schneller, ohne dass Fremdvariablen verarbeitet werden müssen.\n",
        "\n",
        "**Zusammenfassend lässt sich also sagen, dass die Idee der PCA einfach ist - die Anzahl der Variablen eines Datensatzes zu reduzieren und gleichzeitig so viele Informationen wie möglich zu erhalten**\n",
        "\n",
        "Ein gute Erklärung findet man hier:\n",
        "\n",
        "https://builtin.com/data-science/step-step-explanation-principal-component-analysis\n",
        "\n",
        "Nachfolgend machen wir nun ein praktische Beispiel einer PCA.\n"
      ]
    },
    {
      "cell_type": "markdown",
      "metadata": {
        "id": "xJGl9TcT_skx"
      },
      "source": [
        "### Importing the libraries"
      ]
    },
    {
      "cell_type": "code",
      "metadata": {
        "id": "WUx1Zssp6SvF"
      },
      "source": [
        "import pandas as pd\n",
        "import numpy as np\n",
        "import matplotlib.pyplot as plt"
      ],
      "execution_count": 53,
      "outputs": []
    },
    {
      "cell_type": "markdown",
      "metadata": {
        "id": "Hyp1gza1_6qX"
      },
      "source": [
        "### Importing the dataset\n",
        "\n",
        "Der Datensatz bezieht sich auf die Eigenschaften von Weinen."
      ]
    },
    {
      "cell_type": "code",
      "metadata": {
        "id": "u8rdv4ES6jOd"
      },
      "source": [
        "datloc = 'https://raw.githubusercontent.com/sakuronohana/my_datascience/master/udemy/mlaz/Part%209%20-%20Dimensionality%20Reduction/Section%2043%20-%20Principal%20Component%20Analysis%20(PCA)/Python/Wine.csv'\n",
        "dataset = pd.read_csv(datloc)\n",
        "\n",
        "X = dataset.iloc[:,:-1].values\n",
        "y = dataset.iloc[:,-1].values"
      ],
      "execution_count": 54,
      "outputs": []
    },
    {
      "cell_type": "markdown",
      "metadata": {
        "id": "3bUhSHktAcOe"
      },
      "source": [
        "### Splitting the dataset into the Training set and Test set"
      ]
    },
    {
      "cell_type": "code",
      "metadata": {
        "id": "XFCABvd173XV"
      },
      "source": [
        "from sklearn.model_selection import train_test_split\n",
        "X_train, X_test, y_train, y_test = train_test_split(X,y,test_size=0.2, random_state=0)"
      ],
      "execution_count": 55,
      "outputs": []
    },
    {
      "cell_type": "code",
      "metadata": {
        "colab": {
          "base_uri": "https://localhost:8080/"
        },
        "id": "xBxRyJQ4Isc8",
        "outputId": "932359d4-06dd-456e-b57f-5e59c7b32cf1"
      },
      "source": [
        "print(np.shape(X_train))\n",
        "print(np.shape(y_train))\n",
        "print(np.shape(X_test))\n",
        "print(np.shape(y_test))\n"
      ],
      "execution_count": 56,
      "outputs": [
        {
          "output_type": "stream",
          "text": [
            "(142, 13)\n",
            "(142,)\n",
            "(36, 13)\n",
            "(36,)\n"
          ],
          "name": "stdout"
        }
      ]
    },
    {
      "cell_type": "markdown",
      "metadata": {
        "id": "1wrHODfJAEiI"
      },
      "source": [
        "### Feature Scaling\n",
        "\n",
        "Wenn wir PCA anwenden, dann müssen wir eine Skalierung der Daten durchführen."
      ]
    },
    {
      "cell_type": "code",
      "metadata": {
        "id": "Xek86w2Z8ZVP"
      },
      "source": [
        "from sklearn.preprocessing import StandardScaler\n",
        "sc = StandardScaler()\n",
        "X_train = sc.fit_transform(X_train)\n",
        "X_test = sc.transform(X_test)"
      ],
      "execution_count": 57,
      "outputs": []
    },
    {
      "cell_type": "markdown",
      "metadata": {
        "id": "S3i3lRiwASAX"
      },
      "source": [
        "### Applying PCA\n",
        "Im nachfolgenden Beispiel werden wir nun Feature Extraction durchführen, also mit Hilfe von PCA neue Features finden. Wenn wir PCA einsetzen, dann stellt sich uns irgendwann die Frage, wieviel Komponenten (Dimensionen) wir mittels PCA extrahieren wollen. Grundsätzlich ist unser optimales Ziel eine 2D bzw. 2 Hauptkomponenten oder 95% der abzudeckenden Varianz. \n",
        "\n",
        "Im nachfolgenden Bild werden zwei Hauptkomponenten durch PCA bestimmt. Grün ist dabei die 1.Hauptkomponente und Lila die 2.Hauptkomponente. \n",
        "\n",
        "<img src='https://www.visiondummy.com/wp-content/uploads/2014/05/correlated_2d.png'>"
      ]
    },
    {
      "cell_type": "code",
      "metadata": {
        "id": "TPy_VsHL8-cP",
        "colab": {
          "base_uri": "https://localhost:8080/"
        },
        "outputId": "68ebbd3d-a1f9-4e93-efbd-fd4ec463d105"
      },
      "source": [
        "from sklearn.decomposition import PCA\n",
        "pca = PCA(n_components=2) # oder Varianzabdeckung von 95% (0.95)\n",
        "X_train = pca.fit_transform(X_train)\n",
        "X_test = pca.transform(X_test)\n",
        "\n",
        "print ('Der 1.Hauptkomponent hat eine Varianz von',pca.explained_variance_ratio_[0])\n",
        "print ('Der 2.Hauptkomponent hat eine Varianz von',pca.explained_variance_ratio_[1])\n",
        "print ('Beide Hauptkomponenten zusammen ergeben',int(pca.explained_variance_ratio_[0] + pca.explained_variance_ratio_[1])*100,'%')"
      ],
      "execution_count": 58,
      "outputs": [
        {
          "output_type": "stream",
          "text": [
            "Der 1.Hauptkomponent hat eine Varianz von 0.3688410929485785\n",
            "Der 2.Hauptkomponent hat eine Varianz von 0.1931839429741525\n",
            "Beide Hauptkomponenten zusammen ergeben 0 %\n"
          ],
          "name": "stdout"
        }
      ]
    },
    {
      "cell_type": "markdown",
      "metadata": {
        "id": "UBx16JVLAuel"
      },
      "source": [
        "### Training the Logistic Regression model on the Training set"
      ]
    },
    {
      "cell_type": "code",
      "metadata": {
        "colab": {
          "base_uri": "https://localhost:8080/"
        },
        "id": "4NnjmQaVGnbJ",
        "outputId": "540b723f-aaa9-44b8-a508-062c41352271"
      },
      "source": [
        "from sklearn.linear_model import LogisticRegression\n",
        "classifier = LogisticRegression(random_state = 0)\n",
        "classifier.fit(X_train,y_train)"
      ],
      "execution_count": 59,
      "outputs": [
        {
          "output_type": "execute_result",
          "data": {
            "text/plain": [
              "LogisticRegression(C=1.0, class_weight=None, dual=False, fit_intercept=True,\n",
              "                   intercept_scaling=1, l1_ratio=None, max_iter=100,\n",
              "                   multi_class='auto', n_jobs=None, penalty='l2',\n",
              "                   random_state=0, solver='lbfgs', tol=0.0001, verbose=0,\n",
              "                   warm_start=False)"
            ]
          },
          "metadata": {
            "tags": []
          },
          "execution_count": 59
        }
      ]
    },
    {
      "cell_type": "markdown",
      "metadata": {
        "id": "MTck416XBPnD"
      },
      "source": [
        "### Making the Confusion Matrix"
      ]
    },
    {
      "cell_type": "code",
      "metadata": {
        "colab": {
          "base_uri": "https://localhost:8080/"
        },
        "id": "xeNnym8YHXLk",
        "outputId": "11d43894-1a28-451a-c913-9d34622da7d6"
      },
      "source": [
        "from sklearn.metrics import confusion_matrix,accuracy_score\n",
        "y_pred = classifier.predict(X_test)\n",
        "print(confusion_matrix(y_test,y_pred))\n",
        "accuracy_score(y_test,y_pred)"
      ],
      "execution_count": 60,
      "outputs": [
        {
          "output_type": "stream",
          "text": [
            "[[14  0  0]\n",
            " [ 1 15  0]\n",
            " [ 0  0  6]]\n"
          ],
          "name": "stdout"
        },
        {
          "output_type": "execute_result",
          "data": {
            "text/plain": [
              "0.9722222222222222"
            ]
          },
          "metadata": {
            "tags": []
          },
          "execution_count": 60
        }
      ]
    },
    {
      "cell_type": "markdown",
      "metadata": {
        "id": "h6pZMBrUBXwb"
      },
      "source": [
        "### Visualising the Training set results"
      ]
    },
    {
      "cell_type": "code",
      "metadata": {
        "id": "FK_LpLOeBdQ4",
        "colab": {
          "base_uri": "https://localhost:8080/",
          "height": 366
        },
        "outputId": "ec5d3451-058f-4f0c-af49-47b8a6542976"
      },
      "source": [
        "from matplotlib.colors import ListedColormap\n",
        "X_set, y_set = X_train, y_train\n",
        "X1, X2 = np.meshgrid(np.arange(start = X_set[:, 0].min() - 1, stop = X_set[:, 0].max() + 1, step = 0.01),\n",
        "                     np.arange(start = X_set[:, 1].min() - 1, stop = X_set[:, 1].max() + 1, step = 0.01))\n",
        "plt.contourf(X1, X2, classifier.predict(np.array([X1.ravel(), X2.ravel()]).T).reshape(X1.shape),\n",
        "             alpha = 0.75, cmap = ListedColormap(('red', 'green', 'blue')))\n",
        "plt.xlim(X1.min(), X1.max())\n",
        "plt.ylim(X2.min(), X2.max())\n",
        "for i, j in enumerate(np.unique(y_set)):\n",
        "    plt.scatter(X_set[y_set == j, 0], X_set[y_set == j, 1],\n",
        "                c = ListedColormap(('red', 'green', 'blue'))(i), label = j)\n",
        "plt.title('Logistic Regression (Training set)')\n",
        "plt.xlabel('PC1')\n",
        "plt.ylabel('PC2')\n",
        "plt.legend()\n",
        "plt.show()"
      ],
      "execution_count": 61,
      "outputs": [
        {
          "output_type": "stream",
          "text": [
            "*c* argument looks like a single numeric RGB or RGBA sequence, which should be avoided as value-mapping will have precedence in case its length matches with *x* & *y*.  Please use the *color* keyword-argument or provide a 2-D array with a single row if you intend to specify the same RGB or RGBA value for all points.\n",
            "*c* argument looks like a single numeric RGB or RGBA sequence, which should be avoided as value-mapping will have precedence in case its length matches with *x* & *y*.  Please use the *color* keyword-argument or provide a 2-D array with a single row if you intend to specify the same RGB or RGBA value for all points.\n",
            "*c* argument looks like a single numeric RGB or RGBA sequence, which should be avoided as value-mapping will have precedence in case its length matches with *x* & *y*.  Please use the *color* keyword-argument or provide a 2-D array with a single row if you intend to specify the same RGB or RGBA value for all points.\n"
          ],
          "name": "stderr"
        },
        {
          "output_type": "display_data",
          "data": {
            "image/png": "[encoded data removed]",
            "text/plain": [
              "<Figure size 432x288 with 1 Axes>"
            ]
          },
          "metadata": {
            "tags": [],
            "needs_background": "light"
          }
        }
      ]
    },
    {
      "cell_type": "markdown",
      "metadata": {
        "id": "-Dbzx_KqBguX"
      },
      "source": [
        "### Visualising the Test set results"
      ]
    },
    {
      "cell_type": "code",
      "metadata": {
        "id": "kk07XbUHBl0W",
        "colab": {
          "base_uri": "https://localhost:8080/",
          "height": 366
        },
        "outputId": "f9d3be93-375c-4904-cebd-6d365a58e230"
      },
      "source": [
        "from matplotlib.colors import ListedColormap\n",
        "X_set, y_set = X_test, y_test\n",
        "X1, X2 = np.meshgrid(np.arange(start = X_set[:, 0].min() - 1, stop = X_set[:, 0].max() + 1, step = 0.01),\n",
        "                     np.arange(start = X_set[:, 1].min() - 1, stop = X_set[:, 1].max() + 1, step = 0.01))\n",
        "plt.contourf(X1, X2, classifier.predict(np.array([X1.ravel(), X2.ravel()]).T).reshape(X1.shape),\n",
        "             alpha = 0.75, cmap = ListedColormap(('red', 'green', 'blue')))\n",
        "plt.xlim(X1.min(), X1.max())\n",
        "plt.ylim(X2.min(), X2.max())\n",
        "for i, j in enumerate(np.unique(y_set)):\n",
        "    plt.scatter(X_set[y_set == j, 0], X_set[y_set == j, 1],\n",
        "                c = ListedColormap(('red', 'green', 'blue'))(i), label = j)\n",
        "plt.title('Logistic Regression (Test set)')\n",
        "plt.xlabel('PC1')\n",
        "plt.ylabel('PC2')\n",
        "plt.legend()\n",
        "plt.show()"
      ],
      "execution_count": 62,
      "outputs": [
        {
          "output_type": "stream",
          "text": [
            "*c* argument looks like a single numeric RGB or RGBA sequence, which should be avoided as value-mapping will have precedence in case its length matches with *x* & *y*.  Please use the *color* keyword-argument or provide a 2-D array with a single row if you intend to specify the same RGB or RGBA value for all points.\n",
            "*c* argument looks like a single numeric RGB or RGBA sequence, which should be avoided as value-mapping will have precedence in case its length matches with *x* & *y*.  Please use the *color* keyword-argument or provide a 2-D array with a single row if you intend to specify the same RGB or RGBA value for all points.\n",
            "*c* argument looks like a single numeric RGB or RGBA sequence, which should be avoided as value-mapping will have precedence in case its length matches with *x* & *y*.  Please use the *color* keyword-argument or provide a 2-D array with a single row if you intend to specify the same RGB or RGBA value for all points.\n"
          ],
          "name": "stderr"
        },
        {
          "output_type": "display_data",
          "data": {
            "image/png": "[encoded data removed]",
            "text/plain": [
              "<Figure size 432x288 with 1 Axes>"
            ]
          },
          "metadata": {
            "tags": [],
            "needs_background": "light"
          }
        }
      ]
    },
    {
      "cell_type": "markdown",
      "metadata": {
        "id": "fqIrH_MRo6mw"
      },
      "source": [
        ""
      ]
    },
    {
      "cell_type": "markdown",
      "metadata": {
        "id": "ViM5jZ-xo7ZE"
      },
      "source": [
        "## Kernel PCA\n",
        "\n",
        "Die PCA ist eine lineare Methode. Das heißt, sie kann nur auf Datensätze angewendet werden, die linear trennbar sind. Sie eignet sich hervorragend für Datensätze, die linear trennbar sind. Wenn wir sie jedoch auf nicht-lineare Datensätze anwenden, könnten wir ein Ergebnis erhalten, das möglicherweise nicht die optimale Dimensionalitätsreduktion darstellt. Kernel PCA verwendet eine Kernfunktion, um den Datensatz in einen höherdimensionalen Merkmalsraum zu projizieren, wo er linear trennbar ist. Dies ähnelt der Idee der [Support-Vektor-Maschine](https://github.com/sakuronohana/my_datascience/blob/master/udemy/mlaz/Part%203%20-%20Classification/Section%2017%20-%20Kernel%20SVM/Python/kernel_svm.ipynb).\n",
        "\n",
        "Nachfolgend machen wir nun ein praktisches Beispiel einer PCA Kernel."
      ]
    },
    {
      "cell_type": "markdown",
      "metadata": {
        "id": "5aSMbxY0o7ZF"
      },
      "source": [
        "### Importing the libraries"
      ]
    },
    {
      "cell_type": "code",
      "metadata": {
        "id": "KDov_u1ko7ZF"
      },
      "source": [
        "import pandas as pd\n",
        "import numpy as np\n",
        "import matplotlib.pyplot as plt"
      ],
      "execution_count": 43,
      "outputs": []
    },
    {
      "cell_type": "markdown",
      "metadata": {
        "id": "OSUJCGteo7ZF"
      },
      "source": [
        "### Importing the dataset\n",
        "\n",
        "Der Datensatz bezieht sich auf die Eigenschaften von Weinen."
      ]
    },
    {
      "cell_type": "code",
      "metadata": {
        "id": "V_m268VHo7ZF"
      },
      "source": [
        "datloc = 'https://raw.githubusercontent.com/sakuronohana/my_datascience/master/udemy/mlaz/Part%209%20-%20Dimensionality%20Reduction/Section%2043%20-%20Principal%20Component%20Analysis%20(PCA)/Python/Wine.csv'\n",
        "dataset = pd.read_csv(datloc)\n",
        "\n",
        "X = dataset.iloc[:,:-1].values\n",
        "y = dataset.iloc[:,-1].values"
      ],
      "execution_count": 44,
      "outputs": []
    },
    {
      "cell_type": "markdown",
      "metadata": {
        "id": "4ZFQnrI4o7ZF"
      },
      "source": [
        "### Splitting the dataset into the Training set and Test set"
      ]
    },
    {
      "cell_type": "code",
      "metadata": {
        "id": "JWK-cB8yo7ZF"
      },
      "source": [
        "from sklearn.model_selection import train_test_split\n",
        "X_train, X_test, y_train, y_test = train_test_split(X,y,test_size=0.2, random_state=0)"
      ],
      "execution_count": 45,
      "outputs": []
    },
    {
      "cell_type": "code",
      "metadata": {
        "colab": {
          "base_uri": "https://localhost:8080/"
        },
        "id": "8CtBthQ1o7ZF",
        "outputId": "2d9fbedc-03ea-4209-b10f-33a4ba115a4a"
      },
      "source": [
        "print(np.shape(X_train))\n",
        "print(np.shape(y_train))\n",
        "print(np.shape(X_test))\n",
        "print(np.shape(y_test))\n"
      ],
      "execution_count": 46,
      "outputs": [
        {
          "output_type": "stream",
          "text": [
            "(142, 13)\n",
            "(142,)\n",
            "(36, 13)\n",
            "(36,)\n"
          ],
          "name": "stdout"
        }
      ]
    },
    {
      "cell_type": "markdown",
      "metadata": {
        "id": "ctSEPf8do7ZG"
      },
      "source": [
        "### Feature Scaling\n",
        "\n",
        "Wenn wir PCA anwenden, dann müssen wir eine Skalierung der Daten durchführen."
      ]
    },
    {
      "cell_type": "code",
      "metadata": {
        "id": "u3ca-CSuo7ZG"
      },
      "source": [
        "from sklearn.preprocessing import StandardScaler\n",
        "sc = StandardScaler()\n",
        "X_train = sc.fit_transform(X_train)\n",
        "X_test = sc.transform(X_test)"
      ],
      "execution_count": 47,
      "outputs": []
    },
    {
      "cell_type": "markdown",
      "metadata": {
        "id": "g2yx6l8So7ZG"
      },
      "source": [
        "### Applying Kernel PCA\n"
      ]
    },
    {
      "cell_type": "code",
      "metadata": {
        "colab": {
          "base_uri": "https://localhost:8080/"
        },
        "id": "V3YUCfiwo7ZG",
        "outputId": "a6760dda-d6c8-4884-9b5a-b03bdbd7f7d8"
      },
      "source": [
        "from sklearn.decomposition import KernelPCA as KPCA\n",
        "kpca = KPCA(n_components=2, kernel = 'rbf') # Radial basis function kernel\n",
        "X_train = kpca.fit_transform(X_train)\n",
        "X_test = kpca.transform(X_test)\n",
        "\n",
        "print ('Der 1.Hauptkomponent hat eine Varianz von',pca.explained_variance_ratio_[0])\n",
        "print ('Der 2.Hauptkomponent hat eine Varianz von',pca.explained_variance_ratio_[1])\n",
        "print ('Beide Hauptkomponenten zusammen ergeben',int(pca.explained_variance_ratio_[0] + pca.explained_variance_ratio_[1])*100,'%')"
      ],
      "execution_count": 48,
      "outputs": [
        {
          "output_type": "stream",
          "text": [
            "Der 1.Hauptkomponent hat eine Varianz von 0.3688410929485785\n",
            "Der 2.Hauptkomponent hat eine Varianz von 0.1931839429741525\n",
            "Beide Hauptkomponenten zusammen ergeben 0 %\n"
          ],
          "name": "stdout"
        }
      ]
    },
    {
      "cell_type": "markdown",
      "metadata": {
        "id": "i4lJMYGGo7ZG"
      },
      "source": [
        "### Training the Logistic Regression model on the Training set"
      ]
    },
    {
      "cell_type": "code",
      "metadata": {
        "colab": {
          "base_uri": "https://localhost:8080/"
        },
        "id": "4lnMZvuWo7ZG",
        "outputId": "dcc72b24-5e55-40eb-def3-7bc6635e6766"
      },
      "source": [
        "from sklearn.linear_model import LogisticRegression\n",
        "classifier = LogisticRegression(random_state = 0)\n",
        "classifier.fit(X_train,y_train)"
      ],
      "execution_count": 49,
      "outputs": [
        {
          "output_type": "execute_result",
          "data": {
            "text/plain": [
              "LogisticRegression(C=1.0, class_weight=None, dual=False, fit_intercept=True,\n",
              "                   intercept_scaling=1, l1_ratio=None, max_iter=100,\n",
              "                   multi_class='auto', n_jobs=None, penalty='l2',\n",
              "                   random_state=0, solver='lbfgs', tol=0.0001, verbose=0,\n",
              "                   warm_start=False)"
            ]
          },
          "metadata": {
            "tags": []
          },
          "execution_count": 49
        }
      ]
    },
    {
      "cell_type": "markdown",
      "metadata": {
        "id": "ryhSqXR6o7ZG"
      },
      "source": [
        "### Making the Confusion Matrix"
      ]
    },
    {
      "cell_type": "code",
      "metadata": {
        "colab": {
          "base_uri": "https://localhost:8080/"
        },
        "id": "n8lH6SB3o7ZG",
        "outputId": "343b308d-95b6-4e62-d3d4-63e6bd761588"
      },
      "source": [
        "from sklearn.metrics import confusion_matrix,accuracy_score\n",
        "y_pred = classifier.predict(X_test)\n",
        "print(confusion_matrix(y_test,y_pred))\n",
        "accuracy_score(y_test,y_pred)"
      ],
      "execution_count": 50,
      "outputs": [
        {
          "output_type": "stream",
          "text": [
            "[[14  0  0]\n",
            " [ 0 16  0]\n",
            " [ 0  0  6]]\n"
          ],
          "name": "stdout"
        },
        {
          "output_type": "execute_result",
          "data": {
            "text/plain": [
              "1.0"
            ]
          },
          "metadata": {
            "tags": []
          },
          "execution_count": 50
        }
      ]
    },
    {
      "cell_type": "markdown",
      "metadata": {
        "id": "RfXl5M4Wo7ZG"
      },
      "source": [
        "### Visualising the Training set results"
      ]
    },
    {
      "cell_type": "code",
      "metadata": {
        "colab": {
          "base_uri": "https://localhost:8080/",
          "height": 366
        },
        "id": "3-xhEk55o7ZG",
        "outputId": "627f394a-f9af-4616-8d85-7306d6c50c91"
      },
      "source": [
        "from matplotlib.colors import ListedColormap\n",
        "X_set, y_set = X_train, y_train\n",
        "X1, X2 = np.meshgrid(np.arange(start = X_set[:, 0].min() - 1, stop = X_set[:, 0].max() + 1, step = 0.01),\n",
        "                     np.arange(start = X_set[:, 1].min() - 1, stop = X_set[:, 1].max() + 1, step = 0.01))\n",
        "plt.contourf(X1, X2, classifier.predict(np.array([X1.ravel(), X2.ravel()]).T).reshape(X1.shape),\n",
        "             alpha = 0.75, cmap = ListedColormap(('red', 'green', 'blue')))\n",
        "plt.xlim(X1.min(), X1.max())\n",
        "plt.ylim(X2.min(), X2.max())\n",
        "for i, j in enumerate(np.unique(y_set)):\n",
        "    plt.scatter(X_set[y_set == j, 0], X_set[y_set == j, 1],\n",
        "                c = ListedColormap(('red', 'green', 'blue'))(i), label = j)\n",
        "plt.title('Logistic Regression (Training set)')\n",
        "plt.xlabel('PC1')\n",
        "plt.ylabel('PC2')\n",
        "plt.legend()\n",
        "plt.show()"
      ],
      "execution_count": 51,
      "outputs": [
        {
          "output_type": "stream",
          "text": [
            "*c* argument looks like a single numeric RGB or RGBA sequence, which should be avoided as value-mapping will have precedence in case its length matches with *x* & *y*.  Please use the *color* keyword-argument or provide a 2-D array with a single row if you intend to specify the same RGB or RGBA value for all points.\n",
            "*c* argument looks like a single numeric RGB or RGBA sequence, which should be avoided as value-mapping will have precedence in case its length matches with *x* & *y*.  Please use the *color* keyword-argument or provide a 2-D array with a single row if you intend to specify the same RGB or RGBA value for all points.\n",
            "*c* argument looks like a single numeric RGB or RGBA sequence, which should be avoided as value-mapping will have precedence in case its length matches with *x* & *y*.  Please use the *color* keyword-argument or provide a 2-D array with a single row if you intend to specify the same RGB or RGBA value for all points.\n"
          ],
          "name": "stderr"
        },
        {
          "output_type": "display_data",
          "data": {
            "image/png": "[encoded data removed]",
            "text/plain": [
              "<Figure size 432x288 with 1 Axes>"
            ]
          },
          "metadata": {
            "tags": [],
            "needs_background": "light"
          }
        }
      ]
    },
    {
      "cell_type": "markdown",
      "metadata": {
        "id": "LBv_EqPPo7ZG"
      },
      "source": [
        "### Visualising the Test set results"
      ]
    },
    {
      "cell_type": "code",
      "metadata": {
        "colab": {
          "base_uri": "https://localhost:8080/",
          "height": 366
        },
        "id": "h7g3UFt9o7ZG",
        "outputId": "e5a5cb64-98b1-4fa8-ec30-3e3530e80893"
      },
      "source": [
        "from matplotlib.colors import ListedColormap\n",
        "X_set, y_set = X_test, y_test\n",
        "X1, X2 = np.meshgrid(np.arange(start = X_set[:, 0].min() - 1, stop = X_set[:, 0].max() + 1, step = 0.01),\n",
        "                     np.arange(start = X_set[:, 1].min() - 1, stop = X_set[:, 1].max() + 1, step = 0.01))\n",
        "plt.contourf(X1, X2, classifier.predict(np.array([X1.ravel(), X2.ravel()]).T).reshape(X1.shape),\n",
        "             alpha = 0.75, cmap = ListedColormap(('red', 'green', 'blue')))\n",
        "plt.xlim(X1.min(), X1.max())\n",
        "plt.ylim(X2.min(), X2.max())\n",
        "for i, j in enumerate(np.unique(y_set)):\n",
        "    plt.scatter(X_set[y_set == j, 0], X_set[y_set == j, 1],\n",
        "                c = ListedColormap(('red', 'green', 'blue'))(i), label = j)\n",
        "plt.title('Logistic Regression (Test set)')\n",
        "plt.xlabel('PC1')\n",
        "plt.ylabel('PC2')\n",
        "plt.legend()\n",
        "plt.show()"
      ],
      "execution_count": 52,
      "outputs": [
        {
          "output_type": "stream",
          "text": [
            "*c* argument looks like a single numeric RGB or RGBA sequence, which should be avoided as value-mapping will have precedence in case its length matches with *x* & *y*.  Please use the *color* keyword-argument or provide a 2-D array with a single row if you intend to specify the same RGB or RGBA value for all points.\n",
            "*c* argument looks like a single numeric RGB or RGBA sequence, which should be avoided as value-mapping will have precedence in case its length matches with *x* & *y*.  Please use the *color* keyword-argument or provide a 2-D array with a single row if you intend to specify the same RGB or RGBA value for all points.\n",
            "*c* argument looks like a single numeric RGB or RGBA sequence, which should be avoided as value-mapping will have precedence in case its length matches with *x* & *y*.  Please use the *color* keyword-argument or provide a 2-D array with a single row if you intend to specify the same RGB or RGBA value for all points.\n"
          ],
          "name": "stderr"
        },
        {
          "output_type": "display_data",
          "data": {
            "image/png": "[encoded data removed]",
            "text/plain": [
              "<Figure size 432x288 with 1 Axes>"
            ]
          },
          "metadata": {
            "tags": [],
            "needs_background": "light"
          }
        }
      ]
    },
    {
      "cell_type": "markdown",
      "metadata": {
        "id": "xu8b2qLhMs8J"
      },
      "source": [
        "## Linear Discriminant Analysis (LDA)\n",
        "\n",
        "Grundsätzlich funktionert LDA wie PCA mit den Unterschied, dass LDA an den Achsen interessiert ist, welche die maximale Klassentrennbarkeit zeigen. LDA ist im Gegensatz zu PCA ein Supervised Algorithmus wegen seiner Beziehung zur abhängigen Variable.\n",
        "\n",
        "<img src='https://sebastianraschka.com/images/faq/lda-vs-pca/lda.png' width=300>\n",
        "\n",
        "Unterschied wird auf diesem [Link](https://sebastianraschka.com/faq/docs/lda-vs-pca.html#:~:text=Both%20LDA%20and%20PCA%20are,unsupervised%20%E2%80%93%20PCA%20ignores%20class%20labels.&text=In%20contrast%20to%20PCA%2C%20LDA,discriminant%20in%20the%20figure%20above) im Detail erklärt.\n",
        "\n",
        "Nachfolgend machen wir nun ein praktisches Beispiel einer LDA."
      ]
    },
    {
      "cell_type": "markdown",
      "metadata": {
        "id": "J0AQ9QUTYZQt"
      },
      "source": [
        "### Importing the libraries"
      ]
    },
    {
      "cell_type": "code",
      "metadata": {
        "id": "q_NdjTKjYZQt"
      },
      "source": [
        "import pandas as pd\n",
        "import numpy as np\n",
        "import matplotlib.pyplot as plt"
      ],
      "execution_count": 32,
      "outputs": []
    },
    {
      "cell_type": "markdown",
      "metadata": {
        "id": "WVEYLQB0YZQu"
      },
      "source": [
        "### Importing the dataset\n",
        "\n",
        "Der Datensatz bezieht sich auf die Eigenschaften von Weinen."
      ]
    },
    {
      "cell_type": "code",
      "metadata": {
        "id": "ZF8C3T-gYZQu"
      },
      "source": [
        "datloc = 'https://raw.githubusercontent.com/sakuronohana/my_datascience/master/udemy/mlaz/Part%209%20-%20Dimensionality%20Reduction/Section%2043%20-%20Principal%20Component%20Analysis%20(PCA)/Python/Wine.csv'\n",
        "dataset = pd.read_csv(datloc)\n",
        "\n",
        "X = dataset.iloc[:,:-1].values\n",
        "y = dataset.iloc[:,-1].values"
      ],
      "execution_count": 33,
      "outputs": []
    },
    {
      "cell_type": "markdown",
      "metadata": {
        "id": "IYG7iKxoYZQu"
      },
      "source": [
        "### Splitting the dataset into the Training set and Test set"
      ]
    },
    {
      "cell_type": "code",
      "metadata": {
        "id": "wl1NKsLHYZQu"
      },
      "source": [
        "from sklearn.model_selection import train_test_split\n",
        "X_train, X_test, y_train, y_test = train_test_split(X,y,test_size=0.2, random_state=0)"
      ],
      "execution_count": 34,
      "outputs": []
    },
    {
      "cell_type": "code",
      "metadata": {
        "colab": {
          "base_uri": "https://localhost:8080/"
        },
        "id": "kmkn7h58YZQu",
        "outputId": "f99959bf-0fbf-43d9-83a1-f1863e067422"
      },
      "source": [
        "print(np.shape(X_train))\n",
        "print(np.shape(y_train))\n",
        "print(np.shape(X_test))\n",
        "print(np.shape(y_test))\n"
      ],
      "execution_count": 35,
      "outputs": [
        {
          "output_type": "stream",
          "text": [
            "(142, 13)\n",
            "(142,)\n",
            "(36, 13)\n",
            "(36,)\n"
          ],
          "name": "stdout"
        }
      ]
    },
    {
      "cell_type": "markdown",
      "metadata": {
        "id": "F1YJ7OEvYZQv"
      },
      "source": [
        "### Feature Scaling\n",
        "\n",
        "Wenn wir PCA anwenden, dann müssen wir eine Skalierung der Daten durchführen."
      ]
    },
    {
      "cell_type": "code",
      "metadata": {
        "id": "7DD6ER8SYZQv"
      },
      "source": [
        "from sklearn.preprocessing import StandardScaler\n",
        "sc = StandardScaler()\n",
        "X_train = sc.fit_transform(X_train)\n",
        "X_test = sc.transform(X_test)"
      ],
      "execution_count": 36,
      "outputs": []
    },
    {
      "cell_type": "markdown",
      "metadata": {
        "id": "jXTafkG9YZQv"
      },
      "source": [
        "### Applying LDA\n"
      ]
    },
    {
      "cell_type": "code",
      "metadata": {
        "id": "Jo47lj4pak6X"
      },
      "source": [
        "from sklearn.discriminant_analysis import LinearDiscriminantAnalysis as LDA\n",
        "lda = LDA(n_components = 2)\n",
        "# Im Gegensatz zu PCA müssen wir bei der Fit Transform im LDA auch die \n",
        "# abhängige Variable angeben.\n",
        "X_train = lda.fit_transform(X_train, y_train)\n",
        "X_test = lda.transform(X_test)"
      ],
      "execution_count": 37,
      "outputs": []
    },
    {
      "cell_type": "markdown",
      "metadata": {
        "id": "C9dJyiJRYZQv"
      },
      "source": [
        "### Training the Logistic Regression model on the Training set"
      ]
    },
    {
      "cell_type": "code",
      "metadata": {
        "colab": {
          "base_uri": "https://localhost:8080/"
        },
        "id": "YWa5XVyEYZQv",
        "outputId": "d8a57584-9c47-40da-c440-3e79b9171f34"
      },
      "source": [
        "from sklearn.linear_model import LogisticRegression\n",
        "classifier = LogisticRegression(random_state = 0)\n",
        "classifier.fit(X_train,y_train)"
      ],
      "execution_count": 38,
      "outputs": [
        {
          "output_type": "execute_result",
          "data": {
            "text/plain": [
              "LogisticRegression(C=1.0, class_weight=None, dual=False, fit_intercept=True,\n",
              "                   intercept_scaling=1, l1_ratio=None, max_iter=100,\n",
              "                   multi_class='auto', n_jobs=None, penalty='l2',\n",
              "                   random_state=0, solver='lbfgs', tol=0.0001, verbose=0,\n",
              "                   warm_start=False)"
            ]
          },
          "metadata": {
            "tags": []
          },
          "execution_count": 38
        }
      ]
    },
    {
      "cell_type": "markdown",
      "metadata": {
        "id": "IcTm7P5lYZQw"
      },
      "source": [
        "### Making the Confusion Matrix"
      ]
    },
    {
      "cell_type": "code",
      "metadata": {
        "colab": {
          "base_uri": "https://localhost:8080/"
        },
        "id": "aiyVeb4MYZQw",
        "outputId": "5f6ae29a-aa16-45f8-af97-3ed09953da18"
      },
      "source": [
        "from sklearn.metrics import confusion_matrix,accuracy_score\n",
        "y_pred = classifier.predict(X_test)\n",
        "print(confusion_matrix(y_test,y_pred))\n",
        "accuracy_score(y_test,y_pred)"
      ],
      "execution_count": 39,
      "outputs": [
        {
          "output_type": "stream",
          "text": [
            "[[14  0  0]\n",
            " [ 0 16  0]\n",
            " [ 0  0  6]]\n"
          ],
          "name": "stdout"
        },
        {
          "output_type": "execute_result",
          "data": {
            "text/plain": [
              "1.0"
            ]
          },
          "metadata": {
            "tags": []
          },
          "execution_count": 39
        }
      ]
    },
    {
      "cell_type": "markdown",
      "metadata": {
        "id": "Cvj_yZMFYZQw"
      },
      "source": [
        "### Visualising the Training set results"
      ]
    },
    {
      "cell_type": "code",
      "metadata": {
        "colab": {
          "base_uri": "https://localhost:8080/",
          "height": 0
        },
        "id": "BswoZZL9YZQw",
        "outputId": "a2db61b0-4f7e-44ca-936f-e12b2d48b6b4"
      },
      "source": [
        "from matplotlib.colors import ListedColormap\n",
        "X_set, y_set = X_train, y_train\n",
        "X1, X2 = np.meshgrid(np.arange(start = X_set[:, 0].min() - 1, stop = X_set[:, 0].max() + 1, step = 0.01),\n",
        "                     np.arange(start = X_set[:, 1].min() - 1, stop = X_set[:, 1].max() + 1, step = 0.01))\n",
        "plt.contourf(X1, X2, classifier.predict(np.array([X1.ravel(), X2.ravel()]).T).reshape(X1.shape),\n",
        "             alpha = 0.75, cmap = ListedColormap(('red', 'green', 'blue')))\n",
        "plt.xlim(X1.min(), X1.max())\n",
        "plt.ylim(X2.min(), X2.max())\n",
        "for i, j in enumerate(np.unique(y_set)):\n",
        "    plt.scatter(X_set[y_set == j, 0], X_set[y_set == j, 1],\n",
        "                c = ListedColormap(('red', 'green', 'blue'))(i), label = j)\n",
        "plt.title('Logistic Regression (Training set)')\n",
        "plt.xlabel('PC1')\n",
        "plt.ylabel('PC2')\n",
        "plt.legend()\n",
        "plt.show()"
      ],
      "execution_count": 40,
      "outputs": [
        {
          "output_type": "stream",
          "text": [
            "*c* argument looks like a single numeric RGB or RGBA sequence, which should be avoided as value-mapping will have precedence in case its length matches with *x* & *y*.  Please use the *color* keyword-argument or provide a 2-D array with a single row if you intend to specify the same RGB or RGBA value for all points.\n",
            "*c* argument looks like a single numeric RGB or RGBA sequence, which should be avoided as value-mapping will have precedence in case its length matches with *x* & *y*.  Please use the *color* keyword-argument or provide a 2-D array with a single row if you intend to specify the same RGB or RGBA value for all points.\n",
            "*c* argument looks like a single numeric RGB or RGBA sequence, which should be avoided as value-mapping will have precedence in case its length matches with *x* & *y*.  Please use the *color* keyword-argument or provide a 2-D array with a single row if you intend to specify the same RGB or RGBA value for all points.\n"
          ],
          "name": "stderr"
        },
        {
          "output_type": "display_data",
          "data": {
            "image/png": "[encoded data removed]",
            "text/plain": [
              "<Figure size 432x288 with 1 Axes>"
            ]
          },
          "metadata": {
            "tags": [],
            "needs_background": "light"
          }
        }
      ]
    },
    {
      "cell_type": "markdown",
      "metadata": {
        "id": "_-nNkUVWYZQw"
      },
      "source": [
        "### Visualising the Test set results"
      ]
    },
    {
      "cell_type": "code",
      "metadata": {
        "colab": {
          "base_uri": "https://localhost:8080/",
          "height": 0
        },
        "id": "we-yWrhCYZQw",
        "outputId": "19366e12-c620-420d-f9f2-99e69f2b518c"
      },
      "source": [
        "from matplotlib.colors import ListedColormap\n",
        "X_set, y_set = X_test, y_test\n",
        "X1, X2 = np.meshgrid(np.arange(start = X_set[:, 0].min() - 1, stop = X_set[:, 0].max() + 1, step = 0.01),\n",
        "                     np.arange(start = X_set[:, 1].min() - 1, stop = X_set[:, 1].max() + 1, step = 0.01))\n",
        "plt.contourf(X1, X2, classifier.predict(np.array([X1.ravel(), X2.ravel()]).T).reshape(X1.shape),\n",
        "             alpha = 0.75, cmap = ListedColormap(('red', 'green', 'blue')))\n",
        "plt.xlim(X1.min(), X1.max())\n",
        "plt.ylim(X2.min(), X2.max())\n",
        "for i, j in enumerate(np.unique(y_set)):\n",
        "    plt.scatter(X_set[y_set == j, 0], X_set[y_set == j, 1],\n",
        "                c = ListedColormap(('red', 'green', 'blue'))(i), label = j)\n",
        "plt.title('Logistic Regression (Test set)')\n",
        "plt.xlabel('PC1')\n",
        "plt.ylabel('PC2')\n",
        "plt.legend()\n",
        "plt.show()"
      ],
      "execution_count": 41,
      "outputs": [
        {
          "output_type": "stream",
          "text": [
            "*c* argument looks like a single numeric RGB or RGBA sequence, which should be avoided as value-mapping will have precedence in case its length matches with *x* & *y*.  Please use the *color* keyword-argument or provide a 2-D array with a single row if you intend to specify the same RGB or RGBA value for all points.\n",
            "*c* argument looks like a single numeric RGB or RGBA sequence, which should be avoided as value-mapping will have precedence in case its length matches with *x* & *y*.  Please use the *color* keyword-argument or provide a 2-D array with a single row if you intend to specify the same RGB or RGBA value for all points.\n",
            "*c* argument looks like a single numeric RGB or RGBA sequence, which should be avoided as value-mapping will have precedence in case its length matches with *x* & *y*.  Please use the *color* keyword-argument or provide a 2-D array with a single row if you intend to specify the same RGB or RGBA value for all points.\n"
          ],
          "name": "stderr"
        },
        {
          "output_type": "display_data",
          "data": {
            "image/png": "[encoded data removed]",
            "text/plain": [
              "<Figure size 432x288 with 1 Axes>"
            ]
          },
          "metadata": {
            "tags": [],
            "needs_background": "light"
          }
        }
      ]
    }
  ]
}