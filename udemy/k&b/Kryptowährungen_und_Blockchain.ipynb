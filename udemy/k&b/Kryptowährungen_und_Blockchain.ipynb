{
  "nbformat": 4,
  "nbformat_minor": 0,
  "metadata": {
    "colab": {
      "name": "Kryptowährungen und Blockchain",
      "provenance": [],
      "authorship_tag": "ABX9TyPPXqotVe5yL2Fmpmloyh/2",
      "include_colab_link": true
    },
    "kernelspec": {
      "name": "python3",
      "display_name": "Python 3"
    }
  },
  "cells": [
    {
      "cell_type": "markdown",
      "metadata": {
        "id": "view-in-github",
        "colab_type": "text"
      },
      "source": [
        "<a href=\"https://colab.research.google.com/github/sakuronohana/my_datascience/blob/master/udemy/k%26b/Kryptow%C3%A4hrungen_und_Blockchain.ipynb\" target=\"_parent\"><img src=\"https://colab.research.google.com/assets/colab-badge.svg\" alt=\"Open In Colab\"/></a>"
      ]
    },
    {
      "cell_type": "markdown",
      "metadata": {
        "id": "4gIh6KiBT7Uk"
      },
      "source": [
        "# Kryptowährungen und Blockchain\n",
        "\n",
        "Nachfolgende eine kleine Einführung in die Theman Kryptowährungen und Blockchain.\n",
        "\n",
        "<img src='https://hartmutwalz.de/wp-content/uploads/2018/01/Abb_Logos_Kryptow%C3%A4hrungenWG.png' width=400>\n",
        "\n",
        "Bildquelle: https://hartmutwalz.de/\n",
        "\n",
        "**Hinweis**\n",
        "\n",
        "Die wesentlichen Information stammen aus dem sehr zu empfehlenden Udemy-Kurs [Die große Kryptowährungen Masterclass - Das Komplettpaket](https://www.udemy.com/course/kryptowahrungen-masterclass-das-komplettpaket/) von Christoph Neuwirth."
      ]
    },
    {
      "cell_type": "markdown",
      "metadata": {
        "id": "DRMPzI3XVSQz"
      },
      "source": [
        "## Einführung Kryptowährung"
      ]
    },
    {
      "cell_type": "markdown",
      "metadata": {
        "id": "PlZ0rOpXVkLy"
      },
      "source": [
        "### Was sind Kryptowährungen (KW)\n",
        "\n",
        "Kryptowährungen sind **digitale Währungen**, bei welche Verschlüsslungtechniken (eng. cryptography) verwendet werden. Im Gegensatz zu sogenannte Fiat$^1$-Währungen (USD, EUR, CHF etc.) sind Kryptowährungen \n",
        "\n",
        "* dezentral verwaltet bzw. brauch keine Mittelsmann (Bank, Zentralbank) usw.;\n",
        "* vertrauenswürdig, da die Blockchain alle erforderlichen Information enthält und somit bspw. bei einem Immobilienkauf keine notariellen Beglaubigungen mehr notwendig sind;\n",
        "* untastbar, da die basierenden Blockchain-Technologie nicht verändert werden kann;\n",
        "* knapp ist bzw. nicht uneingeschränkt erstellt werden kann wie bei den Fiat-Währungen. Blockchain definiert Höchstmenge (bzw. Bitcoin = 21 Milionen).\n",
        "\n",
        "Kryptowährungen können in drei unterschiedliche Typen unterteil werden:\n",
        "\n",
        "* **Coin** (Münze) - Der Coin ist ähnlich wie Geld (Zahlungmittel) bspw. Fiat-Währung. unter diesem Begriff wird vor allem der Bitcoin verstanden.\n",
        "* **Altcoin** (Alternative Coin) - Damit sind alle anderen Coins ausserhalb von Bitcoin gemeint. Hier wird zwischen folgenden Kategorie unterschieden:\n",
        "  * Bitcoin-forked Blockchain - Altcoins basierende auf der Bitcoin-Blockchain (Litecoin, Dogecoin etc.). Wobei es hier erneut zwei Unterschiede gibt:\n",
        "   * Soft-forked = Kompatibel mit Bitcoin-Blockchain\n",
        "   * Hard-forked = nicht kompatibel mit Bitcoin-Blockchain\n",
        "  * Eigene Blockchain - Altcoins bauen auf eigener Blockchain auf.(Ripple, Ethereum, Moneroo etc.)\n",
        "* **Token** - Eine Kryptowährung, die auf einer vorhandenen Blockchain oder einem bestehenden Protokoll aufgebaut ist, wird als Token bezeichnet. Sie stellen normalerweise ein Asset oder Dienstprogramm dar. Da er auf einer bestehenden Blockchain aufgebaut wird, ist er einfacher zu erstellen. Hier gibt es zwei unterschiedliche Arten von Token:\n",
        " * Usage Tokens - können zur Gebührenverechnung oder andere Funktion verwendet werden.\n",
        " * Work Tokens - können als Währung (wie Coin) oder Verdienste verwendet werden.\n",
        "\n",
        " Der Unterschied zwischen einem Coin und einem Token ist der, dass ein Token eine breitere Funktionalität hat bzw. nicht nur als Zahlungsmittel verwendet werden kann. So kann der Token folgendes repräsentieren:\n",
        "  * Eine Währung, die als Zahlungssystem zwischen Teilnehmern verwendet wird\n",
        "  * Ein digitales Asset (ein digitales Recht)\n",
        "  * Ein Mittel für die Buchhaltung (Anzahl der API-Aufrufe, Menge der Torrent-Uploads)\n",
        "  * Eine Aktie (Anteil) an einem bestimmten Start-up\n",
        "  * Eine Möglichkeit, Angriffe zu verhindern (z. B. Provision innerhalb des Bitcoin-Netzwerks)\n",
        "  * Zahlung für die Nutzung eines Systems.\n",
        "\n",
        "\n",
        "$^1$ lat. Es werde ..."
      ]
    },
    {
      "cell_type": "markdown",
      "metadata": {
        "id": "ltiUy9zSwiYX"
      },
      "source": [
        "\n"
      ]
    },
    {
      "cell_type": "markdown",
      "metadata": {
        "id": "UbSK-WRpbDEX"
      },
      "source": [
        "### Empfehlenswerte Internetportale zum Thema Kryptowährungen\n",
        "\n",
        "#### [CoinMarketCap](https://coinmarketcap.com/)\n",
        "\n",
        "Auf diesem beliebten Portal sieht man eine Übersicht aller Kryptowährungen (Stand Feb.2021 = 4000). Unteranderem findet man auf dem Portal, \n",
        "\n",
        "* die Kurzbeschreibungen über die Kryptowährungen;\n",
        "* die Markkapitalisierung (Market Cap) bzw. wieviel der Kryptowährung wird bereits weltweit gehandelt;\n",
        "* die Marktplätze (Market) auf welchen die Währungen gekauft bzw. verkauft werden können;\n",
        "* die historischen Daten bzw. der Kursverlauf der Kryptowährungen;\n",
        "* die Kaufkombinationen (Pairs) mit welchen man die Kryptowährung kaufen kann bspw. BTC/USD (Bitcoin mit USD kaufen);\n",
        "* etc.\n",
        "\n",
        "<img src='https://cryptominded.com/wp-content/uploads/2017/06/Screen-Shot-2017-06-12-at-22.55.42-1280x888.png' width=600>"
      ]
    },
    {
      "cell_type": "markdown",
      "metadata": {
        "id": "K4caVKg37dD-"
      },
      "source": [
        ".....\n",
        "\n",
        "Wer schon einmal mit Aktien gehandelt hat, kennt eine andere Bezeichnung des Hauptbuchs und zwar das **Orderbuch**. Dieses Orderbuch regelt die Abwicklung von Kauf- und Verkaufsaufträgen nach festgelegten Regeln. Orderbücher dieses Typs gibt es auf einigen Kryptobörsen. Ein Beispiel für einen solchen Börsenbetreiber ist die asiatische Kryptobörse Binance.\n",
        "\n",
        "Die Abbildung unten zeigt die Benutzeroberfläche von Binance. Wie man sieht, gibt es nicht den einen An- oder Verkaufskurs, sondern eine Vielzahl von Kursen. Links in der Plattform sieht an zwei übereinander angeordnete Kurslisten. Die obere Kursliste (Rot) enthält Verkaufsaufträge. Die untere Liste enthält Kaufaufträge (Grün). Die Verkaufsaufträge sind so sortiert, dass die Order mit dem niedrigsten Kurs unten steht. Bei den Kaufaufträgen steht die Order mit dem höchsten Kurs erhoben. Die Differenz zwischen dem niedrigsten Verkaufskurs und im höchsten Kaufkurs im Orderbuch ist der zu einem bestimmten Zeitpunkt bestmögliche erhältliche Spread.\n",
        "\n",
        "  <img src='https://www.eureschannel.org/wp-content/uploads/2018/07/Binance-Bitcoin.png' width=800>"
      ]
    },
    {
      "cell_type": "markdown",
      "metadata": {
        "id": "myZvYX3MVe-Z"
      },
      "source": [
        "## Einführung Blockchain\n",
        "\n",
        "Die Blockchain ist ein sogenanntes digitales Hauptbuch, in welchem die Transaktionen von Kryptowährungen chronologisch und öffentlich zugänglich aufgezeichnet werden.\n",
        "\n",
        "### Distributed Ledger Technologien (DLT)\n",
        "\n",
        "Bockchain basiert auf der Distributed Ledger Technologien, also sogenannte dezentral und digital geführte Kontenbücher. Bevor wir nun aber auf DLT eingehen noch kurz eine Erklärung, was ein Ledger eigendlich ist\n",
        "\n",
        "Mit Ledger ist im Finanzwesen im allgemeinen ein Hauptbuch/Kassenbuch gemeint. Dieses wichtige Buch (oder Computerdatei) wird verwendet für die Aufzeichnung und Summierung von wirtschaftlichen Transaktionen und beinhaltet\n",
        "* monitäre Rechnungseinheiten (bspw. BTC, CHF, USD) nach Kontotyp\n",
        "* Belastungen und Gutschriften in jeweils getrennten Spalten\n",
        "* ein monitärer Anfangssaldo und Endsaldo pro Konto.\n",
        "\n",
        "DLT ist im Grunde ein dezentrales Protokoll für Transaktionen zwischen Parteien, das jede Veränderung transparent erfasst. Potenzielle Anwendungsbereiche von DLT sind ganz allgemein solche, die auf Vertrauen und Konsens aufbauen. Denn in einem Distributed Ledger sind Informationen wie beispielsweise Vertragsdetails, Transaktionen oder Daten dezentral gesichert. Jeder Knoten des Netzwerks enthält Datensätze.\n",
        "\n",
        "Daraus ergibt sich ein System, das schwer anzugreifen oder zu manipulieren ist. Gleichzeitig sind alle Informationen geteilt und somit im Netzwerk zu sehen. Diese Transparenz erschwert einen Angriff zusätzlich.\n",
        "\n",
        "Nachfolgend noch ein paar wichtige Begriffe im Detail erklärt:\n",
        "\n",
        "**Dezentral** bedeutet, dass das Protokoll, eine riesige Datenbank, nicht auf einem Server oder bei einem Unternehmen liegt, sondern über viele Computer verteilt ist. Es gibt niemanden, dem dieses Journal gehört. Keine Behörde, Unternehmen oder Person hat Macht über dieses Journal. Jeder Teilnehmer hat die gleichen Zugriffsrechte und Möglichkeiten. Die Blockchain ist ein neutrales System der Informationsverarbeitung, welches niemanden gehört, nicht zu manipulieren oder zu hacken ist. Der Schutz vor Manipulation ist nur dann in Gefahr, wenn ein Angreifer mehr als 50 Prozent des gesamten Netzes innehat. In einem dezentralen System, wie es Blockchain ist, gibt es keinen zentralen Verwalter mehr, der sagt, was richtig und was falsch ist. Wahr ist einfach das, was die Mehrheit sagt.\n",
        "\n",
        "**Transaktionen** können jede Art von Information sein. Blockchain ist nicht auf finanzielle Transaktionen beschränkt, sondern kann für jede Art von Information genutzt werden. Man kann es vergleichen mit dem gesprochenen Wort. Sage ich beispielsweise “Du bist doof” kann es, einmal ausgesprochen, nicht mehr geändert werden, vor allem dann, wenn Zeugen anwesend waren. So verhält es sich bei den Transaktionen innerhalb der Blockchain auch. Mit einem Unterschied: Innerhalb der Blockchain kann eine Information jederzeit nachvollzogen werden – auch für neue Teilnehmer. Übertragen bedeutet das, jeder weiß, das ich sagte “Du bist doof” und das gilt sogar für die Personen, die zum Zeitpunkt gar nicht anwesend waren.\n",
        "\n",
        "Die **Parteien** sind die Teilnehmer, die an einer auf Blockchain basierenden Lösung teilnehmen und den jeweiligen Regeln der Blockchain folgen. Sie ermöglicht Transaktionen direkt zwischen den Teilnehmern ohne Einbezug eines kostenpflichtigen Intermediär. Dadurch wird auch potentielle Friktion (marktbeherrschende Stellungen) verhindert.\n",
        "\n",
        "Die **Transparenz** der Blockchain, also dem Journal oder Datenbank, entsteht dadurch, das das Journal ständig durch ein Netzwerk sogenannter Miner kontrolliert wird. Diese Miner verifizieren Block für Block die hinterlegten Informationen und teilen sie im Netzwerk, in dem jeder Teilnehmer Zugriff auf dieselbe Blockchain hat."
      ]
    },
    {
      "cell_type": "markdown",
      "metadata": {
        "id": "XC2iHA4bj34_"
      },
      "source": [
        "### Blockchain-Kryptografie\n",
        "\n",
        "Im Zusammenhang mit der Sicherheit der Blockchain kommt man an den folgenden Themen nicht vorbei. Sie sind ein fester Bestandteil im Zusammenhang mit der Kryptografie.\n",
        "\n",
        "#### Hash-Funktion\n",
        "\n",
        "Kryptographische Hash-Funktionen generieren aus Datensätzen beliebiger Länge eine Zeichenfolge mit fester Länge. Ein Datensatz kann durch ein Wort, einen Satz, einen längeren Text oder eine ganze Datei gebildet werden. \n",
        "\n",
        "* Eine kryptographische Hash-Funktion wird zu Sicherheitszwecken verwendet und bildet sozusagen den Kern der kryptographischen Sicherheit\n",
        "* Eine Hash-Funktion wandelt eine beliebige Eingabe von Daten (“keys”) in eine Folge von Bytes mit fester Länge und Struktur (“Hash-Wert”) um.\n",
        "* Der Hash einer Transaktion erleichtert die Identifikation von Transaktionen in der Blockchain.\n",
        "\n",
        "Eigenschaften einer gute Hash-Funktion sind:\n",
        "\n",
        "* Effizent zu Berechnen\n",
        "* Kollisionsicher\n",
        "* Verbirgt die Informationen der Eingaben\n",
        "* Ausgabe scheint zufällig.\n",
        "\n",
        "Es gibt aktuell folgende Hash-Funktionen:\n",
        "\n",
        "* MD5\n",
        "* SHA-1 - nicht mehr sicher\n",
        "* SHA-224\n",
        "* SHA-256 -> wird in der Blockchain verwendet.\n",
        "* etc.\n",
        "\n",
        "Ein gute und detaillierte Erklärung findet man auf dem folgenden Link: https://jaxenter.de/kryptowaehrungen-bitcoins-84205\n",
        "\n",
        "#### Öffentlicher und Privater Schlüssel\n",
        "\n",
        "Um an einem auf Blockchain basierenden System teilzunehmen, braucht es eine Zugangssoftware. Diese Zugangssoftware, die sogenannte **Wallet**, basiert auf einem Schlüsselpaar, bestehend aus einem privaten (private key) und einem öffentlichen Schlüssel (public key). Der öffentliche Schlüssel ist für jeden sichtbar. Der private Schlüssel ist geheim und vergleichbar mit einem Passwort. Jede Transaktion oder Bewegung innerhalb der Blockchain wird mit Hilfe des privaten Schlüssels signiert. Ohne Signatur ist die Transaktion ungültig. Da das Schlüsselpaar auf einer asymmetrischen Verschlüsselung basiert, ist es unmöglich, nur anhand des öffentlichen Schlüssels den privaten Schlüssel zu erraten.\n",
        "\n",
        "Ein Beispiel: Peter kauft ein Grundstück. Peters öffentlicher Schlüssel ist mit der Urkunde fest verdrahtet. Das ist für jeden ersichtlich, aber nur Peter kann mit dem privaten Schlüssel die Urkunde an andere übertragen. Verliert Peter den Schlüssel, gibt es keine Möglichkeit, diese Urkunde zu ändern\n"
      ]
    },
    {
      "cell_type": "markdown",
      "metadata": {
        "id": "hInpd2Cd8gY1"
      },
      "source": [
        "### Mining\n",
        "\n",
        "Mining bedeutet auf deutsch Schürfen. Im Zusammenhang mit den Kryptowährungen bedeutet das Mining eine Validierung von Transaktionen. Für diesen Aufwand erhalten erfolgreiche Miner \"neue\" Einheiten der Kryptowährung als Belohnung.\n",
        "\n",
        "Quelle: [IT-Finanzmagazin](https://www.it-finanzmagazin.de/gar-kein-mysterium-blockchain-verstaendlich-erklaert-27960/)\n",
        "\n",
        "Bei Blockchain wird eine Information in sogenannte Blöcke abgelegt. Die Art der Information ist dabei zweitrangig und kann alles sein, was in 40 Byte passt: eine Finanztransaktion, ein Vertrag, Testament, Aktien, Kaufverträge oder der Hashwert zu einer Datei. Ein Block enthält immer auch eine (Transaktions)Historie. Jeder neue Block ist verbunden mit dem vorhergehenden Block und enthält die Historie in Form einer Prüfsumme des vorhergehenden Blocks. Zusätzlich zur Prüfsumme des vorhergehenden Blocks enthält ein Block auch immer die Prüfsumme der gesamten Kette.\n",
        "\n",
        "Jeder Block wird durch das Mining verifiziert und versiegelt. Einmal verifiziert ist der Block und die darin enthaltene Information für alle Ewigkeit, unveränderlich und für jeden sichtbar gespeichert. Da gespeicherte Informationen für jeden im Original verfügbar sind, ist Blockchain entsprechend transparent. Korruption und Manipulation ist im System nicht vorgesehen. Diejenigen, die Blöcke verifizieren, sind Miner, die nichts anderes tun, als Rechenleistung zur Verfügung zu stellen und die Blöcke zu verifizieren. Die Miner agieren also als eine Art Buchhalter.\n",
        "\n",
        "<img src='https://www.it-finanzmagazin.de/wp-content/uploads/2015/04/Blockchain.png'>\n",
        "\n",
        "Ein Beispiel: Peter kauft ein Grundstück. Peter wird als Besitzer in der Urkunde eingetragen. Diese Information wird in der Blockchain abgelegt. Durch das Mining wird die Information verifiziert und ist nun für alle Ewigkeit vor Manipulation geschützt und für jeden einsehbar."
      ]
    },
    {
      "cell_type": "markdown",
      "metadata": {
        "id": "aMp06SAKDIQk"
      },
      "source": [
        "### Anwendungsgebiete der Blockchain\n",
        "\n",
        "Vielfältige Anwendungsgebiete sind für Blockchain denkbar. Beispielsweise in der Musikindustrie, wenn es um das Verwalten von Rechten geht. Im Vertragswesen oder im Steuerrecht, also überall dort wo Transparenz und Nachvollziehbarkeit erforderlich ist. In der Finanzbranche könnten internationale Überweisungen, das Settlement von Wertpapieren oder Settlement von Überweisungen zwischen Banken über Blockchain abgewickelt werden. In der Finanzbranche beschäftigt man sich bereits eingehend mit dem System. Die CITI-Bank arbeitet angeblich an über vierzig Projekten, die New Yorker Börse überlegt daran, den Aktienhandel über die Blockchain effizienter zu machen und laut einer Studie von Santander könnten Banken jährlich 20 Mrd. EUR einsparen.\n",
        "\n",
        "–Smart Contracts Ein über Blockchain abgewickelter Autokauf schaltet den digitalen Autoschlüssel für den neuen Eigentümer frei, nachdem der definierte Betrag auf dem Konto des Verkäufers eingegangen ist. Beim Ausbleiben einer Raten-Zahlung wird der Wagen gesperrt. Verträge werden so wertneutral ausgeführt und zwar exakt so, wie sie ursprünglich definiert waren. Bei Smart Contracts handelt es sich im Prinzip um ausführbaren Programmcode in Form einer Wenn-Dann-Bedingung: Sobald ein Ereignis mit direktem Bezug zu einem Vertragsinhalt eingetreten ist, löst es die entsprechende Aktion aus. Der digitale Vertrag kommuniziert über Blockchain ohne einen Intermediär direkt mit dem Objekt – zum Beispiel einem Auto. Ethereum bietet diese Möglichkeit beispielsweise.\n",
        "–Banking the Unbanked Zugang zu einer Finanzinfrastruktur von Entwicklungsländern kann ebenfalls über Blockchain abgebildet werden. Bei einer auf Blockchain basierenden Währung benötigt man formelle Aufnahmekriterien nicht mehr, denn mit Kryptowährungen kann jeder ein Konto in Form eines Wallets eröffnen und Herr seiner Finanzen sein, unabhängig von Ort und Zeit.\n",
        "\n",
        "–Banken-Infrastruktur Die Struktur der Banken ist seit Jahrzehnten unverändert. Der Prozess zur Wertübertragung mit Banken als Intermediär ist seit über 150 Jahren der gleiche. Blockchain kann das grundlegend verändern. Die Abwicklung von Transaktionen und die Übertragung von Werten dauert in der Blockchain nicht mehr Tage, sondern wenige Minuten.\n",
        "\n",
        "–Micro Payments Da Kryptowährungen wie Bitcoins sich nahezu beliebig stückeln lassen und die bei einer Transaktion anfallenden Gebühren nur etwa 1 Prozent betragen, sind sie prädestiniert für Micropayments und damit einhergehend für digitale Güter wie Zeitungsartikel, Apps oder Musiktitel.\n",
        "\n",
        "–Musikindustrie Ein auf Blockchain basierender Musikdienst ist ein öffentlicher dezentraler Musikladen, in dem es keine Plattenverträge mehr braucht und Künstler die Rechte an der eigenen Musik verwalten und die Bedingungen für die Nutzung der Musik festlegen. Das Verhältnis zwischen Fan und dem Künstler verändert sich in einem System dramatisch. Fans könnten für die Unterstützung der Künstler und das Verbreiten von Musik partizipieren und damit Teil des Erfolges sein. Bit Block Music \n",
        "\n",
        "–Wahlsysteme Ein auf Blockchain basierendes Wahlsystem wäre nicht nur vor Manipulation geschützt, sondert auch anonym und sicher. Vor allem können die Wähler von zu Hause wählen, ohne zu einer Wahlurne zu gehen. Fehler beim Auszählen sind ausgeschlossen. BitCongress\n",
        "\n",
        "–Versicherungen Wie Smart Contracts auch, könnten Versicherungen funktionieren. Die Versicherung und Versicherungsnehmer einigen sich auf ein Regelwerk und die Blockchain setzt dieses Regelwerk fair und neutral um. Das Fahrverhalten wird über die Blockchain analysiert und passt automatisch die Beiträge an. Vorsichtige Fahrer werden belohnt, risikobereite Fahrer zahlen mehr. Ein Regelwerk in der Blockchain setzt dieses System autark und wertneutral um.\n",
        "\n",
        "Auf dem folgenden Link gibt es eine gute Demo bzgl. Mining. \n",
        "\n",
        "https://guggero.github.io/blockchain-demo/#!/blockchain"
      ]
    }
  ]
}