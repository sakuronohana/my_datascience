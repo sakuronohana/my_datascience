{
  "nbformat": 4,
  "nbformat_minor": 0,
  "metadata": {
    "colab": {
      "name": "Kryptowährungen und Blockchain",
      "provenance": [],
      "authorship_tag": "ABX9TyMaToDB+vlkg9HTBWHl5VfZ",
      "include_colab_link": true
    },
    "kernelspec": {
      "name": "python3",
      "display_name": "Python 3"
    }
  },
  "cells": [
    {
      "cell_type": "markdown",
      "metadata": {
        "id": "view-in-github",
        "colab_type": "text"
      },
      "source": [
        "<a href=\"https://colab.research.google.com/github/sakuronohana/my_datascience/blob/master/udemy/k%26b/Kryptow%C3%A4hrungen_und_Blockchain.ipynb\" target=\"_parent\"><img src=\"https://colab.research.google.com/assets/colab-badge.svg\" alt=\"Open In Colab\"/></a>"
      ]
    },
    {
      "cell_type": "markdown",
      "metadata": {
        "id": "4gIh6KiBT7Uk"
      },
      "source": [
        "# Kryptowährungen und Blockchain\n",
        "\n",
        "Nachfolgende eine kleine Einführung in die Theman Kryptowährungen und Blockchain.\n",
        "\n",
        "<img src='https://hartmutwalz.de/wp-content/uploads/2018/01/Abb_Logos_Kryptow%C3%A4hrungenWG.png' width=400>\n",
        "\n",
        "Bildquelle: https://hartmutwalz.de/\n",
        "\n",
        "**Hinweis**\n",
        "\n",
        "Die wesentlichen Information stammen aus dem sehr zu empfehlenden Udemy-Kurs [Die große Kryptowährungen Masterclass - Das Komplettpaket](https://www.udemy.com/course/kryptowahrungen-masterclass-das-komplettpaket/) von Christoph Neuwirth."
      ]
    },
    {
      "cell_type": "markdown",
      "metadata": {
        "id": "DRMPzI3XVSQz"
      },
      "source": [
        "## Einführung Kryptowährung"
      ]
    },
    {
      "cell_type": "markdown",
      "metadata": {
        "id": "PlZ0rOpXVkLy"
      },
      "source": [
        "### Was sind Kryptowährungen (KW)\n",
        "\n",
        "Kryptowährungen sind **digitale Währungen**, bei welche Verschlüsslungtechniken (eng. cryptography) verwendet werden. Im Gegensatz zu sogenannte Fiat$^1$-Währungen (USD, EUR, CHF etc.) sind Kryptowährungen \n",
        "\n",
        "* dezentral verwaltet bzw. brauch keine Mittelsmann (Bank, Zentralbank) usw.;\n",
        "* vertrauenswürdig, da die Blockchain alle erforderlichen Information enthält und somit bspw. bei einem Immobilienkauf keine notariellen Beglaubigungen mehr notwendig sind;\n",
        "* untastbar, da die basierenden Blockchain-Technologie nicht verändert werden kann;\n",
        "* knapp ist bzw. nicht uneingeschränkt erstellt werden kann wie bei den Fiat-Währungen. Blockchain definiert Höchstmenge (bzw. Bitcoin = 21 Milionen).\n",
        "\n",
        "Kryptowährungen können in drei unterschiedliche Typen unterteil werden:\n",
        "\n",
        "* **Coin** (Münze) - Der Coin ist ähnlich wie Geld (Zahlungmittel) bspw. Fiat-Währung. unter diesem Begriff wird vor allem der Bitcoin verstanden.\n",
        "* **Altcoin** (Alternative Coin) - Damit sind alle anderen Coins ausserhalb von Bitcoin gemeint. Hier wird zwischen folgenden Kategorie unterschieden:\n",
        "  * Bitcoin-forked Blockchain - Altcoins basierende auf der Bitcoin-Blockchain (Litecoin, Dogecoin etc.). Wobei es hier erneut zwei Unterschiede gibt:\n",
        "   * Soft-forked = Kompatibel mit Bitcoin-Blockchain\n",
        "   * Hard-forked = nicht kompatibel mit Bitcoin-Blockchain\n",
        "  * Eigene Blockchain - Altcoins bauen auf eigener Blockchain auf.(Ripple, Ethereum, Moneroo etc.)\n",
        "* **Token** - Eine Kryptowährung, die auf einer vorhandenen Blockchain oder einem bestehenden Protokoll aufgebaut ist, wird als Token bezeichnet. Sie stellen normalerweise ein Asset oder Dienstprogramm dar. Da er auf einer bestehenden Blockchain aufgebaut wird, ist er einfacher zu erstellen. Hier gibt es zwei unterschiedliche Arten von Token:\n",
        " * Usage Tokens - können zur Gebührenverechnung oder andere Funktion verwendet werden.\n",
        " * Work Tokens - können als Währung (wie Coin) oder Verdienste verwendet werden.\n",
        "\n",
        " Der Unterschied zwischen einem Coin und einem Token ist der, dass ein Token eine breitere Funktionalität hat bzw. nicht nur als Zahlungsmittel verwendet werden kann. So kann der Token folgendes repräsentieren:\n",
        "  * Eine Währung, die als Zahlungssystem zwischen Teilnehmern verwendet wird\n",
        "  * Ein digitales Asset (ein digitales Recht)\n",
        "  * Ein Mittel für die Buchhaltung (Anzahl der API-Aufrufe, Menge der Torrent-Uploads)\n",
        "  * Eine Aktie (Anteil) an einem bestimmten Start-up\n",
        "  * Eine Möglichkeit, Angriffe zu verhindern (z. B. Provision innerhalb des Bitcoin-Netzwerks)\n",
        "  * Zahlung für die Nutzung eines Systems.\n",
        "\n",
        "\n",
        "$^1$ lat. Es werde ..."
      ]
    },
    {
      "cell_type": "markdown",
      "metadata": {
        "id": "XC2iHA4bj34_"
      },
      "source": [
        "### Hash-Funktion in der Kryptowährung\n",
        "\n",
        "Im Zusammenhang mit der Sicherheit der Kryptowährungen kommt man an der Hash-Funktion nicht vorbei. Sie sind ein fester Bestandteil im Zusammenhang mit der Kryptografie.\n",
        "\n",
        "Kryptographische Hash-Funktionen generieren aus Datensätzen beliebiger Länge eine Zeichenfolge mit fester Länge. Ein Datensatz kann durch ein Wort, einen Satz, einen längeren Text oder eine ganze Datei gebildet werden. \n",
        "\n",
        "* Eine kryptographische Hash-Funktion wird zu Sicherheitszwecken verwendet und bildet sozusagen den Kern der kryptographischen Sicherheit\n",
        "* Eine Hash-Funktion wandelt eine beliebige Eingabe von Daten (“keys”) in eine Folge von Bytes mit fester Länge und Struktur (“Hash-Wert”) um.\n",
        "* Der Hash einer Transaktion erleichtert die Identifikation von Transaktionen in der Blockchain.\n",
        "\n",
        "Eigenschaften einer gute Hash-Funktion sind:\n",
        "\n",
        "* Effizent zu Berechnen\n",
        "* Kollisionsicher\n",
        "* Verbirgt die Informationen der Eingaben\n",
        "* Ausgabe scheint zufällig.\n",
        "\n",
        "Es gibt aktuell folgende Hash-Funktionen:\n",
        "\n",
        "* MD5\n",
        "* SHA-1 - nicht mehr sicher\n",
        "* SHA-224\n",
        "* SHA-256 -> wird in der Blockchain verwendet.\n",
        "* etc.\n",
        "\n",
        "Ein gute und detaillierte Erklärung findet man auf dem folgenden Link: https://jaxenter.de/kryptowaehrungen-bitcoins-84205\n"
      ]
    },
    {
      "cell_type": "markdown",
      "metadata": {
        "id": "UbSK-WRpbDEX"
      },
      "source": [
        "### Empfehlenswerte Internetportale zum Thema Kryptowährungen\n",
        "\n",
        "#### [CoinMarketCap](https://coinmarketcap.com/)\n",
        "\n",
        "Auf diesem beliebten Portal sieht man eine Übersicht aller Kryptowährungen (Stand Feb.2021 = 4000). Unteranderem findet man auf dem Portal, \n",
        "\n",
        "* die Kurzbeschreibungen über die Kryptowährungen;\n",
        "* die Markkapitalisierung (Market Cap) bzw. wieviel der Kryptowährung wird bereits weltweit gehandelt;\n",
        "* die Marktplätze (Market) auf welchen die Währungen gekauft bzw. verkauft werden können;\n",
        "* die historischen Daten bzw. der Kursverlauf der Kryptowährungen;\n",
        "* die Kaufkombinationen (Pairs) mit welchen man die Kryptowährung kaufen kann bspw. BTC/USD (Bitcoin mit USD kaufen);\n",
        "* etc.\n",
        "\n",
        "<img src='https://cryptominded.com/wp-content/uploads/2017/06/Screen-Shot-2017-06-12-at-22.55.42-1280x888.png' width=600>"
      ]
    },
    {
      "cell_type": "markdown",
      "metadata": {
        "id": "myZvYX3MVe-Z"
      },
      "source": [
        "## Einführung Blockchain"
      ]
    }
  ]
}