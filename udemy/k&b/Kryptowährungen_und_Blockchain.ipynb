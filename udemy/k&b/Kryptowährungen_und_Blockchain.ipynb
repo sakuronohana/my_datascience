{
  "nbformat": 4,
  "nbformat_minor": 0,
  "metadata": {
    "colab": {
      "name": "Kryptowährungen und Blockchain",
      "provenance": [],
      "authorship_tag": "ABX9TyN+9PB8byyzoVYvWHW6XRdW",
      "include_colab_link": true
    },
    "kernelspec": {
      "name": "python3",
      "display_name": "Python 3"
    }
  },
  "cells": [
    {
      "cell_type": "markdown",
      "metadata": {
        "id": "view-in-github",
        "colab_type": "text"
      },
      "source": [
        "<a href=\"https://colab.research.google.com/github/sakuronohana/my_datascience/blob/master/udemy/k%26b/Kryptow%C3%A4hrungen_und_Blockchain.ipynb\" target=\"_parent\"><img src=\"https://colab.research.google.com/assets/colab-badge.svg\" alt=\"Open In Colab\"/></a>"
      ]
    },
    {
      "cell_type": "markdown",
      "metadata": {
        "id": "4gIh6KiBT7Uk"
      },
      "source": [
        "# Kryptowährungen und Blockchain\n",
        "\n",
        "Nachfolgende eine kleine Einführung in die Theman Kryptowährungen und Blockchain.\n",
        "\n",
        "<img src='https://hartmutwalz.de/wp-content/uploads/2018/01/Abb_Logos_Kryptow%C3%A4hrungenWG.png' width=400>\n",
        "\n",
        "Bildquelle: https://hartmutwalz.de/"
      ]
    }
  ]
}