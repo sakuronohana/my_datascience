{
  "nbformat": 4,
  "nbformat_minor": 0,
  "metadata": {
    "colab": {
      "name": "KI mit Deep & Reinforcement Learning",
      "provenance": [],
      "include_colab_link": true
    },
    "kernelspec": {
      "display_name": "Python 3",
      "language": "python",
      "name": "python3"
    },
    "language_info": {
      "codemirror_mode": {
        "name": "ipython",
        "version": 3
      },
      "file_extension": ".py",
      "mimetype": "text/x-python",
      "name": "python",
      "nbconvert_exporter": "python",
      "pygments_lexer": "ipython3",
      "version": "3.8.5"
    }
  },
  "cells": [
    {
      "cell_type": "markdown",
      "metadata": {
        "id": "view-in-github",
        "colab_type": "text"
      },
      "source": [
        "<a href=\"https://colab.research.google.com/github/sakuronohana/my_datascience/blob/master/udemy/Deep_%26_Reinforcement_Learning.ipynb\" target=\"_parent\"><img src=\"https://colab.research.google.com/assets/colab-badge.svg\" alt=\"Open In Colab\"/></a>"
      ]
    },
    {
      "cell_type": "markdown",
      "metadata": {
        "id": "SyxBmxgRxnMS"
      },
      "source": [
        "# KI mit Deep Learning & Reinforcement Learning\n",
        "\n",
        "Im Zusammenhang mit dem Aufbau einer Künstlichen Intelligenz (KI) kommt man an den Themen Deep Learning und Reinforcement Learning nicht vorbei. In diesen Notebook wird das erforderliche Wissen mittels Erklärungen und Beispielen vermittelt."
      ]
    },
    {
      "cell_type": "markdown",
      "metadata": {
        "id": "0OMRqL-5eaqu"
      },
      "source": [
        "## **Was ist Deep Learning?**\n",
        "\n",
        "Deep Learning ist ein Teilgebiet des Machine Learning und unterscheidet sich vom „klassischen“ maschinellen Lernen, indem es Maschinen in die Lage versetzt, über die verfügbaren Daten hinaus zu lernen. Das beinhaltet die Fähigkeit, Informationen zu analysieren und zu bewerten, um logische Schlüsse zu ziehen, Lösungswege auszuwählen und aus Fehlern zu lernen. Je mehr Daten eine Maschine also empfängt, desto grösser ist ihre Lernfähigkeit und desto \"intelligenter\" kann sie werden. Obwohl es die künstlichen neuronalen Netze, die die Grundlage dieser Technologien bilden, bereits seit den 1950er Jahren gibt, haben erst die bahnbrechenden Entwicklungen des letzten Jahrzehnts die Lernkurve stark verbessert. Die am meisten verbreiteten modernen Applikationen sind Stimm- und Bilderkennung. Das Niveau der Datenanalyse ermöglicht jedoch viele vorausschauende Applikationen, wie enorme Verbesserungen in der vorausschauenden Wartung, sicherere autonome Fahrzeuge, die Vorhersage von Krankheiten oder Rückfällen. Künstliche neuronale Netzwerke können sowohl für Klassifikation (Binary/Mulit-Class) wie auch Regression verwendet werden. \n",
        "\n",
        "Einer der Pioniere in diesem Gebiet ist [Geoffrey Hinton](https://de.wikipedia.org/wiki/Geoffrey_Hinton). Hinton ist ein britischer Informatiker und Kognitionspsychologe der als Professor an der Universität Toronto und bei Google arbeitet. Er hat massgeblich den Begriff Deep Learning kreiert.\n",
        "\n"
      ]
    },
    {
      "cell_type": "markdown",
      "metadata": {
        "id": "dzVwJdUyh8zn"
      },
      "source": [
        "## Was sind Künstlich Neuronale Netzwerke (KNN)?\n",
        "\n",
        "Ein künstliches neuronales Netzwerk (KNN), im englischen Artificial neural networks (ANN) genannt,  ist einen Art Abbildung des menschlichen neuronalen Netzwerks. Diese Netzwerk besteht aus vernetzten Neuronen. In einem KNN ist ein Neuron nichts anderes als eine Element welche eine Nummer zwischen 0 - 1, speichert. In einem KNN gibt es drei Arten von Neuronen - Input Neuron, Hidden Neuron und Output Neuron.\n",
        "\n",
        "Beispiel ein Bild mit einer handschriftlichen Zahl 9 besteht aus 28 x 28 Pixel was somit 784 Neuronen darstellt. Jeder dieser Neuronen enthält einen Graustufenwert von 0.01 (Schwarz) zu 1.00 (Weiss). Diese Werte werden „Activation“ genannt. Dies 784 Neuronen stellen die erste Schicht unsere Netzwerks dar. Die letze Schicht wird nur noch aus 10 Neuronen welche die Nummern 0 - 9 darstellen. Die Schichten dazwischen werden „Hidden Layers“ genannt. Sämtliche Neuronen in den verschiedenen Layers sind miteinander verbunden. Die Verbindungen zwischen den Neuronen haben eigene Gewichtungen. Diese Gewichtung wird mit dem Input-Wert multipliziert. Hat also beispielsweise ein Input-Neuron einen Wert von 0,7 und die Gewichtung der Verbindung einen Wert von 2 werden diese zwei Werte multipliziert und ergeben einen Wert von 1.4, welcher an das nächste Neuron weitergegeben werden. Würden wir aber nun immer so rechnen, würde das Resultat immer durch null gehen. Damit wir das verhindern können benutzen wir den **Bias**. Der Bias ist nichts anderes als der y-Intercept in der linearen Algebra mit dem Unterschied, dass er nur 1 sein kann. Nehmen wir nun also den Bias noch dazu dann bekommen wir folgenden Formel f(x) = mx + b. Im Zusammenhang mit eine künstlichen Neuron kann bestimmt man mit den Bias wie stark der kumulierte Reiz sein muss, um das Neuron überhaupt anzuregen. Er verschiebt also das Grundniveau (0) der Aktivierung. Man kann sich den Bias als Empfindlichkeit des Neurons vorstellen.\n",
        "\n",
        "In einem künstlich neuronalen Netzwerk bestimmen die Aktivitäten in einem Layer die Aktivitäten im nächsten Layer. Die grosse Frage ist dabei WIE Aktivitäten in einem Layer die des nächsten beeinflusst. Grundsätzlich funktioniert es in der gleichen Art wie das biologische Vorbild. Feuert ein Neuron beeinflusst es ein anderes Neuron.\n",
        "\n",
        "Hier eine Abbildung eines typischen KNN:\n",
        "\n",
        "<img src='https://raw.githubusercontent.com/sakuronohana/my_datascience/master/doc_images/KNN_with_Backpropogation.jpg' width=450>\n",
        "\n",
        "\n",
        "Quelle: [ResearchGate](https://www.researchgate.net/publication/329216193_Predicting_Roof_Pressures_on_a_Low-Rise_Structure_From_Freestream_Turbulence_Using_Artificial_Neural_Networks)\n",
        "\n",
        "\n",
        "Hier noch eine sehr empfehlenswerte Lektüre von Superdatascience.com \n",
        "\n",
        "[The Ultimate Guide to Artificial Neural Networks (ANN)](https://www.superdatascience.com/blogs/the-ultimate-guide-to-artificial-neural-networks-ann)\n",
        "oder [Deep Learning A-Z](https://www.superdatascience.com/pages/deep-learning)\n",
        "\n"
      ]
    },
    {
      "cell_type": "markdown",
      "metadata": {
        "id": "rLA0iCN7kHVC"
      },
      "source": [
        "### Anatomie eines KNN\n",
        "\n",
        "Nachfolgenden werden wir die verschiedenen Bestandteile (inkl. Math) eines KNN erläutern"
      ]
    },
    {
      "cell_type": "markdown",
      "metadata": {
        "id": "g9C6y4I-skn8"
      },
      "source": [
        "#### Künstliches Neuron (Unit)\n",
        "\n",
        "Ein künstliche Neuron stellt ein vereinfachtes Modell eines biologischen Neurons dar.  Ein künstliches Neuron wird auch oft McCulloch-Pittsburgh-Zelle genannt. \n",
        "Bei der Definition des künstlichen Neurons wurden die wesentlichen Eigenschaften eines biologischen Neurons erhalten:\n",
        "\n",
        "Synapsen der Nervenzellen = Addition gewichteter EIngaben\n",
        "Aktivierung Zellkerns = Aktivierungsfunktion mit Schwellwerten\n",
        "\n",
        "Ein künstliches Neuron (j) wird durch folgende Bestandteile beschrieben:\n",
        "\n",
        "1. Wichtung (wij) - Die Gewichtung den Einfluss der die Eingabe des Neurons in die Berechnung der Aktivierung einnimmt. D.h. Je höher die Gewichtung desto erregender (exzitatorisch) ist der Input. Je geringer desto hemmender (inhibitorisch) ist die Verbindung zwischen zwei Knoten (0 = nicht existent). \n",
        "2. Übertragungsfunktion - Diese Funktion (∑) berechnet anhand der Wichtung der Eingabe die Netzeingabe des Neurons. Meist ist es die Summe der Eingaben. \n",
        "3. Aktivierungsfunktion (ρ) - Diese Funktion bestimmt die Ausgabe des Neurons. Sie wird durch die Netzeingabe und den Schwellwert beeinflusst. -> Siehe Activation Functions\n",
        "4. Schwellwert (θj) - Das Addieren eines Schwellwerts zur Netzeingabe verschiebt die gewichtete Eingabe.\n",
        "\n",
        "\n"
      ]
    },
    {
      "cell_type": "markdown",
      "metadata": {
        "id": "4oZb3hJ4YOIv"
      },
      "source": [
        "#### Perzeptron\n",
        "\n",
        "Ausgehen von dieser Idee hat Frank Rosenblatt 1957 das Perzepton entwickelt. Dieses Perzeptron stellt das einfachste KNN dar, da es aus einer Eingabeschicht (Input) und einer Ausgabeschicht (Output) besteht:\n",
        "\n",
        "<img src='https://images.deepai.org/glossary-terms/perceptron-6168423.jpg' width=450>\n",
        "\n",
        "Das Perzeptron besteht aus folgenden Teilen:\n",
        "\n",
        "* **Input-Layer**. Der Input-Layer beinhaltet einerseits die Daten (x) und eine Bias-Unit (1)\n",
        "* **Wichtung (w)**. Die Gewichtung wird pro Verbindung zwischen dem Input und Output dargestellt und beinhaltet irgend einen Wert. \n",
        "* **Output-Layer** Die Ausgabeschicht besteht im wesentlichen aus der **Linear Threshold Unit (LTU)** welche folgende Funktionen beinhaltet: \n",
        "* **Übertragungsfunktion**. Diese Funktion (∑) berechnet die Wichtung mal Input plus Bias:\n",
        " \n",
        " $\\displaystyle \\sum_{i=1}^{n} =  (w_1 * x_1 + w_2 * x_2 + w_n * x_n) + Bias$\n",
        "\n",
        "* **Aktivierungsfunktion (ρ)**. Diese Funktion bestimmt die Ausgabe des Neurons. Sie wird durch die Netzeingabe und den Schwellwert beeinflusst. -> Siehe Activation Functions\n",
        "* **Schwellwert (θj)**. Das Addieren eines Schwellwerts zur Netzeingabe verschiebt die gewichtete Eingabe.\n",
        "\n"
      ]
    },
    {
      "cell_type": "markdown",
      "metadata": {
        "id": "yL3SY6Urqo9O"
      },
      "source": [
        "#### Input Layer\n",
        "\n",
        "Die Daten werden über den Input Layer in das KNN übergeben. Im ersten Layer finden somit noch keine eigentlichen mathematischen Operationen statt und es gibt dort auch keine eigentlichen Knoten wie es in manchen Darstellungen suggeriert wird. Die Daten werden mittels eines 1D-Arrays in die Input-Schicht "
      ]
    },
    {
      "cell_type": "markdown",
      "metadata": {
        "id": "PzCYdyxQ0KHx"
      },
      "source": [
        "#### Aktivierungsfunktion (engl. activation function)\n",
        "\n",
        "Die Aktivierungsfunktion ist der Teil eines künstlichen Neurons, welche die Summe aus der Übertragungsfunktion mittels einer definierten mathematischen Funktion modifiziert. Im wesentlichen geht es bei der AF in einem herkömmlichen neuralen Netzwerk mit Perceptrons Neuronen nur darum zu sagen ob etwas 0 oder 1 ist. Es gibt so gesehen zwei verschiedene AF-Typen Lineare AF und Not-Lineare AF.  Wobei die lineare Aktivierungsfunktion beim Deep Learning so gut wie nicht zur Anwendung kommen. Der Grund dafür ist, dass die reale Welt nicht lineare ist. \n",
        "\n",
        "Bei der nicht-linearen Aktivierungsfunktion unterscheidet man in der Regel zwischen der Derivative - oder Differential- Funktion und der Monotonic- Funktion.\n",
        "\n",
        "Damit eine kleiner Change bei den Gewichtungen (w) und dem Schwellwerten (b=Bias) nicht eine zu starke Auswirkung auf das ganze Neuronale Netzwerk hat, werden Aktivierungsfunktionen verwende, welche Werte zwischen 0 und 1 zu lassen bsp. 0.6669.\n",
        "\n",
        "Meist kommen in eine neuronalen Netzwerk verschiedene AFs vor. So wird beispielsweise bei den Hidden Layers de ReLU und bei den Output Layer Sigmoid verwendet.\n",
        "\n",
        "Die bekanntesten solcher in einem KNN verwendeten Aktivierungsfunktionen sind:\n",
        "\n",
        "<img src='https://miro.medium.com/max/875/1*ZafDv3VUm60Eh10OeJu1vw.png' width=600>\n",
        "\n",
        "Quelle: [Medium.com](https://medium.com/@shrutijadon10104776/survey-on-activation-functions-for-deep-learning-9689331ba092)\n",
        "\n",
        "Nachfolgend werden die wichtigsten erklärt und mit Pyhton-Beispielen aufgezeigt:\n"
      ]
    },
    {
      "cell_type": "markdown",
      "source": [
        "**Threshold**\n",
        "\n",
        "  Hierbei handelt es sich um die einfachste Aktivierungsfunktion, weil sie lediglich prüft, ob ein Wert grösser oder kleinen als 0 ist. Diese Fuktion wird dann verwendet, wenn der Input binär ist also nur 0 oder 1 annehmen kann."
      ],
      "metadata": {
        "id": "xLIHueAmbZVo"
      }
    },
    {
      "cell_type": "code",
      "source": [
        "# Threshold Function\n",
        "\n",
        "import matplotlib.pyplot as plt\n",
        "import numpy as np\n",
        "\n",
        "# Definieren Sie die threshold Funktion\n",
        "def threshold(x):\n",
        "  return 1 if x > 0 else 0 # Sie können auch die scipy.stats.threshold Funktion verwenden[^1^][3]\n",
        "\n",
        "# Erstellen Sie einen Bereich von x-Werten\n",
        "x = np.linspace(-5, 5, 100)\n",
        "\n",
        "# Berechnen Sie die y-Werte mit der threshold Funktion\n",
        "y = [threshold(xi) for xi in x]\n",
        "\n",
        "# Plotten Sie die Kurve\n",
        "plt.plot(x, y)\n",
        "plt.xlabel(\"x\")\n",
        "plt.ylabel(\"threshold(x)\")\n",
        "plt.show()"
      ],
      "metadata": {
        "colab": {
          "base_uri": "https://localhost:8080/",
          "height": 279
        },
        "id": "birvntnAaerX",
        "outputId": "9bd7782c-ec87-4f40-c0f2-3cf5924a5287"
      },
      "execution_count": 3,
      "outputs": [
        {
          "output_type": "display_data",
          "data": {
            "text/plain": [
              "<Figure size 432x288 with 1 Axes>"
            ],
            "image/png": "[encoded data removed]"
          },
          "metadata": {
            "needs_background": "light"
          }
        }
      ]
    },
    {
      "cell_type": "markdown",
      "source": [
        "**Sigmoid**\n",
        "\n",
        "  Mit der Sigmoid-Funktion wird eine für diese Funktion typische S-Grafik erstellt. Dabei wird nicht nur ein eindeutiger Wert (Bsp. 0 oder 1) ermittelt, sondern auch wie wahrscheinlich es ist den Wert 0 oder 1 zu erreichen. Diese Funktion ist somit Ideal, wenn es sich um binäre Werte handelt. Da diese Funktionen ihr Limiten hat bzw für das Deep Learning etwas zu langsam ist, wurden die folgenden Alternativen eingesetzt."
      ],
      "metadata": {
        "id": "AK3KeL60bjth"
      }
    },
    {
      "cell_type": "code",
      "source": [
        "# Sigmoid Function\n",
        "\n",
        "import matplotlib.pyplot as plt\n",
        "import numpy as np\n",
        "\n",
        "# Definieren Sie die Sigmoid Funktion\n",
        "def sigmoid(x):\n",
        "  return 1 / (1 + np.exp(-x))\n",
        "\n",
        "# Erstellen Sie einen Bereich von x-Werten\n",
        "x = np.linspace(-10, 10, 100)\n",
        "\n",
        "# Berechnen Sie die y-Werte mit der Sigmoid Funktion\n",
        "y = sigmoid(x)\n",
        "\n",
        "# Plotten Sie die Kurve\n",
        "plt.plot(x, y)\n",
        "plt.xlabel(\"x\")\n",
        "plt.ylabel(\"sigmoid(x)\")\n",
        "plt.show()"
      ],
      "metadata": {
        "colab": {
          "base_uri": "https://localhost:8080/",
          "height": 279
        },
        "id": "qSp-0DglatWK",
        "outputId": "e7b2cadc-8ab9-4599-d7c9-cb3d450639d5"
      },
      "execution_count": 4,
      "outputs": [
        {
          "output_type": "display_data",
          "data": {
            "text/plain": [
              "<Figure size 432x288 with 1 Axes>"
            ],
            "image/png": "[encoded data removed]"
          },
          "metadata": {
            "needs_background": "light"
          }
        }
      ]
    },
    {
      "cell_type": "markdown",
      "source": [
        "**Hyperbolic Tangent (tanh)**\n",
        "\n",
        "  Die tanh-Funktion ist eine direkte Alternative zu Sigmoid bzw. arbeitet ebenfalls mit der S-Grafik. Der wesentliche Unterschied ist, dass tanh über einen Zahlenbereich von -1 bis 1 verfügt. \n",
        "\n",
        "  Die non-lineare AF Sigmoid und Hyperbolic Tangent werden bei Feed-forward KNNs eingesetzt. "
      ],
      "metadata": {
        "id": "6y8Vdj4sbwSa"
      }
    },
    {
      "cell_type": "code",
      "source": [
        "# Tanh Function\n",
        "\n",
        "import matplotlib.pyplot as plt\n",
        "import numpy as np\n",
        "\n",
        "# Definieren Sie die tanh Funktion\n",
        "def tanh(x):\n",
        "  return np.tanh(x) # Sie können auch die eingebaute numpy.tanh Funktion verwenden[^3^][2]\n",
        "\n",
        "# Erstellen Sie einen Bereich von x-Werten\n",
        "x = np.linspace(-5, 5, 100)\n",
        "\n",
        "# Berechnen Sie die y-Werte mit der tanh Funktion\n",
        "y = tanh(x)\n",
        "\n",
        "# Plotten Sie die Kurve\n",
        "plt.plot(x, y)\n",
        "plt.xlabel(\"x\")\n",
        "plt.ylabel(\"tanh(x)\")\n",
        "plt.show()"
      ],
      "metadata": {
        "colab": {
          "base_uri": "https://localhost:8080/",
          "height": 279
        },
        "id": "yNsRYv5ja2Gj",
        "outputId": "67de855a-734d-417f-8fa0-3fe31298492c"
      },
      "execution_count": 5,
      "outputs": [
        {
          "output_type": "display_data",
          "data": {
            "text/plain": [
              "<Figure size 432x288 with 1 Axes>"
            ],
            "image/png": "[encoded data removed]"
          },
          "metadata": {
            "needs_background": "light"
          }
        }
      ]
    },
    {
      "cell_type": "markdown",
      "source": [
        "**Rectified Linear Unit (ReLU)**\n",
        "\n",
        "  Diese Funktion gehört zu den am meisten angewendeten Aktivierungsfunktionen in einem KNN bzw. Deep Learning. Sie ersetzte die Sigmoid-Funktionen am besten. Bei der ReLU werden sämtliche Werte welche negativ sind nur als 0 bezeichnet und die Werte welche postiv sind werden als diese übernohmen.\n",
        "\n",
        "ReLU gehört nicht zu den perfektesten Aktivierungsfunktionen. Es gibt ein Phenomen, welches sich \"Dying ReLU\" nennt. Während des Trainings sterben einige Neuronen effektiv ab, was bedeutet, dass sie aufhören, etwas anderes als 0 auszugeben. In einigen Fällen stellen Sie möglicherweise fest, dass die Hälfte der Neuronen Ihres Netzwerks tot ist, insbesondere wenn Sie eine hohe Lernrate verwendet haben. Ein Neuron stirbt, wenn seine Gewichte so angepasst werden, dass die gewichtete Summe seiner Eingaben für alle Instanzen im Trainingssatz negativ ist. Wenn dies geschieht, gibt es nur 0s aus, und der Gradientenabstieg wirkt sich nicht mehr darauf aus, da der Gradient der ReLU-Funktion 0 ist, wenn ihre Eingabe negativ ist.\n",
        "\n"
      ],
      "metadata": {
        "id": "dLlJy-q3b824"
      }
    },
    {
      "cell_type": "code",
      "source": [
        "# ReLU Function\n",
        "\n",
        "import matplotlib.pyplot as plt\n",
        "import numpy as np\n",
        "\n",
        "# Definieren Sie die Relu Funktion\n",
        "def relu(x):\n",
        "  return np.maximum(0, x) # Sie können auch Ihre eigene Relu Funktion schreiben[^1^][1] [^3^][3]\n",
        "\n",
        "# Erstellen Sie einen Bereich von x-Werten\n",
        "x = np.linspace(-5, 5, 100)\n",
        "\n",
        "# Berechnen Sie die y-Werte mit der Relu Funktion\n",
        "y = relu(x)\n",
        "\n",
        "# Plotten Sie die Kurve\n",
        "plt.plot(x, y)\n",
        "plt.xlabel(\"x\")\n",
        "plt.ylabel(\"relu(x)\")\n",
        "plt.show()\n"
      ],
      "metadata": {
        "colab": {
          "base_uri": "https://localhost:8080/",
          "height": 279
        },
        "id": "qliV1p-ObB8p",
        "outputId": "510ca116-dd92-4b03-e391-3f356baf8392"
      },
      "execution_count": 7,
      "outputs": [
        {
          "output_type": "display_data",
          "data": {
            "text/plain": [
              "<Figure size 432x288 with 1 Axes>"
            ],
            "image/png": "[encoded data removed]"
          },
          "metadata": {
            "needs_background": "light"
          }
        }
      ]
    },
    {
      "cell_type": "markdown",
      "source": [
        "**Leaky ReLU**\n",
        "\n",
        "Leaky ReLU ist eine Verbesserung gegenüber der ReLU-Aktivierungsfunktion. Es hat alle Eigenschaften von ReLU hat jedoch im Gegensatz zur ursprünglichen Version nicht das \"Dying ReLU\" Problem.\n",
        "\n"
      ],
      "metadata": {
        "id": "BtYe5PzPcjWV"
      }
    },
    {
      "cell_type": "code",
      "source": [
        "# Leaky ReLU Function\n",
        "\n",
        "# Import libraries\n",
        "import numpy as np\n",
        "import matplotlib.pyplot as plt\n",
        "\n",
        "# Define leaky relu function\n",
        "def leaky_relu(x):\n",
        "    return np.maximum(0.01 * x, x)\n",
        "\n",
        "# Create input vector\n",
        "x = np.linspace(-10, 10, 100)\n",
        "\n",
        "# Compute output vector\n",
        "y = leaky_relu(x)\n",
        "\n",
        "# Plot input and output\n",
        "plt.plot(x, y)\n",
        "plt.xlabel(\"x\")\n",
        "plt.ylabel(\"y\")\n",
        "plt.title(\"Leaky ReLU Function\")\n",
        "plt.show()"
      ],
      "metadata": {
        "colab": {
          "base_uri": "https://localhost:8080/",
          "height": 295
        },
        "id": "QFmj0nmtgJeS",
        "outputId": "2b89fe2a-16bc-4944-98a8-c203a0da11e6"
      },
      "execution_count": 6,
      "outputs": [
        {
          "output_type": "display_data",
          "data": {
            "text/plain": [
              "<Figure size 432x288 with 1 Axes>"
            ],
            "image/png": "[encoded data removed]"
          },
          "metadata": {
            "needs_background": "light"
          }
        }
      ]
    },
    {
      "cell_type": "markdown",
      "source": [
        "**Exponential Linear Units (ELU)**\n",
        "\n",
        "ELU ist ebenfalls eine Verbesserung der ReLU-Funktion, da sie langsamer als ReLU auf einen negativen Wert abfällt und dies zu glatteren Kurven führt.\n",
        "\n",
        "Noch besteht der Hauptnachteil der ELU Funktion darin, dass sie langsamer zu berechnen ist als die ReLU und ihre Varianten (aufgrund der Verwendung der Exponentialfunktion), aber während des Trainings wird dies durch die schnellere Konvergenzrate kompensiert. Zum Testzeitpunkt ist ein ELU-Netzwerk jedoch langsamer als ein ReLU-Netzwerk.\n",
        "\n"
      ],
      "metadata": {
        "id": "CFYOp5oZgMbu"
      }
    },
    {
      "cell_type": "code",
      "source": [
        "# ELU Function\n",
        "\n",
        "# Import libraries\n",
        "import matplotlib.pyplot as plt\n",
        "import numpy as np\n",
        "\n",
        "# Define elu function\n",
        "def elu(x):\n",
        "  return x if x > 0 else np.exp(x) - 1 # You can also use the tf.keras.activations.elu function[^2^][2]\n",
        "\n",
        "# Create a range of x values\n",
        "x = np.linspace(-5, 5, 100)\n",
        "\n",
        "# Compute the y values with the elu function using numpy.where\n",
        "y = np.where(x > 0, x, np.exp(x) - 1)\n",
        "\n",
        "# Plot the curve\n",
        "plt.plot(x, y)\n",
        "plt.xlabel(\"x\")\n",
        "plt.ylabel(\"elu(x)\")\n",
        "plt.show()"
      ],
      "metadata": {
        "colab": {
          "base_uri": "https://localhost:8080/",
          "height": 279
        },
        "id": "oXMC0G9uhBWG",
        "outputId": "2fc3b1f5-c296-41e6-f6e1-fbc6b110a38c"
      },
      "execution_count": 10,
      "outputs": [
        {
          "output_type": "display_data",
          "data": {
            "text/plain": [
              "<Figure size 432x288 with 1 Axes>"
            ],
            "image/png": "[encoded data removed]"
          },
          "metadata": {
            "needs_background": "light"
          }
        }
      ]
    },
    {
      "cell_type": "markdown",
      "source": [
        "**Softmax**\n",
        "\n",
        "Die Softmax-Aktivierungsfunktion ist eine Funktion, die eine Reihe von Zahlen in Wahrscheinlichkeiten umwandelt, die sich zu eins aufsummieren123. Die Softmax-Funktion gibt einen Vektor aus, der die Wahrscheinlichkeitsverteilung einer Liste von Ergebnissen darstellt. Sie wird auch als Aktivierungsfunktion für die Ausgabeschicht von neuronalen Netzwerkmodellen verwendet, die eine multinomiale Wahrscheinlichkeitsverteilung vorhersagen"
      ],
      "metadata": {
        "id": "YbLfULucqmIO"
      }
    },
    {
      "cell_type": "code",
      "source": [
        "#Softmax Function\n",
        "\n",
        "# Import libraries\n",
        "import numpy as np\n",
        "import matplotlib.pyplot as plt\n",
        "\n",
        "# Define softmax function\n",
        "def softmax(x):\n",
        "  return np.exp(x) / np.sum(np.exp(x))\n",
        "\n",
        "# Create input vector x\n",
        "x = np.arange(-10, 10, 0.1)\n",
        "\n",
        "# Calculate output vector y\n",
        "y = softmax(x)\n",
        "\n",
        "# Plot x vs y\n",
        "plt.plot(x, y)\n",
        "plt.xlabel(\"x\")\n",
        "plt.ylabel(\"softmax(x)\")\n",
        "plt.show()"
      ],
      "metadata": {
        "colab": {
          "base_uri": "https://localhost:8080/",
          "height": 279
        },
        "id": "Bd3rCxE7qfrS",
        "outputId": "e83767b5-b4e3-45bb-81ab-09b3982a77da"
      },
      "execution_count": 11,
      "outputs": [
        {
          "output_type": "display_data",
          "data": {
            "text/plain": [
              "<Figure size 432x288 with 1 Axes>"
            ],
            "image/png": "[encoded data removed]"
          },
          "metadata": {
            "needs_background": "light"
          }
        }
      ]
    },
    {
      "cell_type": "markdown",
      "source": [
        "##### **Auswahl der geeigneten Aktivierungsfunktion**\n",
        "\n",
        "\n",
        "Welches die beste Aktivierungsfunktion für ein neuronales Netzwerk ist, hängt von verschiedenen Faktoren ab, wie z.B. \n",
        "* der Art des Netzwerks, \n",
        "* der Art der Aufgabe, \n",
        "* der Größe und Komplexität des Datensatzes \n",
        "* dem gewünschten Ausgabetyp. \n",
        "\n",
        "Es gibt keine allgemeine Regel, die für alle Fälle gilt, aber es gibt einige Hilfsrichtlinien, die bei der optimale Auswahl helfen könnten.\n",
        "\n",
        "Eine Möglichkeit ist, die Aktivierungsfunktionen nach Hidden-Layers und dem Output-Layer zu unterscheiden. \n",
        "\n",
        "Für die **Hidden Layers** können drei grundlegende Arten von Aktivierungsfunktionen verwenden werden: linear, nichtlinear und binär.\n",
        "- **Lineare Aktivierungsfunktionen** sind einfach und schnell zu berechnen, aber sie haben den Nachteil, dass sie das Netzwerk nicht in der Lage machen, komplexe Muster zu lernen.\n",
        "- **Nichtlineare Aktivierungsfunktionen** sind flexibler und leistungsfähiger als lineare Funktionen, aber sie haben auch einige Herausforderungen wie Gradientenverschwinden oder -explosion.\n",
        "- **Binäre Aktivierungsfunktionen** sind einfach und robust gegenüber Rauschen oder Störungen, aber sie sind nicht differenzierbar und können daher nicht mit Gradientenabstieg optimiert werden.\n",
        "\n",
        "Einige häufig verwendete Aktivierungsfunktionen für die Hidden Layers sind ReLU (Rectified Linear Unit), Sigmoid (Logistische Funktion) und Tanh (Hyperbolischer Tangens).\n",
        "\n",
        "Für den **Output Layer** muss die Aktivierungsfunktion basierend auf dem Typ der gewünschten Ausgabe wählen werden.\n",
        "\n",
        "- Wenn eine **binäre Klassifikation** durchführen wird (d.h., ob etwas wahr oder falsch ist), kann man eine Sigmoid-Funktion verwenden, die einen Wert zwischen 0 und 1 ausgibt.\n",
        "- Wenn eine **mehrklassige Klassifikation** durchführen wird (d.h., ob etwas zu einer von mehreren Kategorien gehört), kann eine Softmax-Funktion verwenden werden, die einen Vektor von Wahrscheinlichkeiten ausgibt, deren Summe 1 ergibt.\n",
        "- Wenn eine **Regression** durchführen wird (d.h., einen kontinuierlichen Wert vorhersagen), kann eine lineare Funktion verwenden oder keine Aktivierungsfunktion angewendet werden.\n",
        "\n",
        "Eine andere Möglichkeit ist, verschiedene Aktivierungsfunktionen auszuprobieren und ihre Leistung auf einem Validierungsdatensatz zu vergleichen. Dies kann helfen herauszufinden welche Funktion am besten zu Ihrem Netzwerk passt. Es gibt auch einige Werkzeuge wie AutoML oder Hyperparameteroptimierung die helfen können diese Auswahl automatisch durchzuführen.\n",
        "\n",
        "An dieser Stelle noch eine Verweis auf eine [Studie](https://arxiv.org/pdf/2109.14545.pdf), welche im Zusammenhang mit den verschiedenen Aktivierungsfunktionen durchgeführt wurde. Der Artikel \n",
        "\n",
        "* gibt einen umfassenden Überblick und eine Umfrage über verschiedene Klassen von AFs, wie z.B. Logistische Sigmoid und Tanh basierte, ReLU basierte, ELU basierte und Lernende basierte.\n",
        "* beschreibt auch mehrere Eigenschaften von AFs, wie z.B. Ausgabebereich, Monotonie und Glätte, und erklärt ihre Bedeutung für die Leistung von tiefen Netzwerken.\n",
        "* stellt einen Benchmark vor, der 50 verschiedene AFs auf 10 Datensätzen für Bildklassifizierung und 2 Datensätzen für Spracherkennung evaluiert.\n",
        "*  analysiert die Ergebnisse des Benchmarks und identifiziert einige Faktoren, die die Auswahl der besten AF beeinflussen können, wie z.B. Netzwerkarchitektur, Datensatzgröße und -komplexität.\n",
        "*  schlägt einige Richtlinien vor, wie man die geeignete AF für eine bestimmte Aufgabe auswählen kann."
      ],
      "metadata": {
        "id": "iOGKdNVQlz2i"
      }
    },
    {
      "cell_type": "markdown",
      "metadata": {
        "id": "fvaSu_Ivf9bf"
      },
      "source": [
        "## Wie lernt eine KNN?\n",
        "Im einem KNN gibt es zwei Hauptmechanismen das **Forward Propagation** (auch Feedforward genannt) und **Back Propagation**.\n",
        "\n",
        "### Forward Propagation (Feedforward)\n",
        "\n",
        "Beim FP werden die einzelnen Datenwerte ($x_1, x_2, x_3$ usw.) mit einer gewichteten Verbindung ($w_1,w_2;w_3$ usw.) je einzel multipliziert und miteinander mittels Addition aufsummiert. Dieser Summe wird noch ein Bias hinzuaddiert. Das daraus entstandene Resultat wird dann in die Aktivierungsfunktion überträgen welche darüber entscheidet ob das Neuron sich aktiviert bzw. essentiell für die weitere Verarbeitung ist oder nicht. Dieser Prozess wiederholt sich jenachdem wieviele Hidden layers verwendet werden. Am Ende werden die Resultate in den Output Layer überführt und mittels der Cost Function gegenüber dem korrekten Resultat verglichen.  \n",
        "\n",
        "<img src='https://github.com/sakuronohana/my_datascience/blob/master/udemy/mlaz/Part%208%20-%20Deep%20Learning/KNN_Cost_function_1.png?raw=true' width=600>\n",
        "\n",
        "### Backward Propagation (Backpropagation)\n",
        "\n",
        "Backpropagation ist nichts anderes als der Prozess in welchem die Gewichtungen der einzelnen Verbindungen angepasst werden bzw. das KNN optimiert wird. In der Optimierung geht es im Grundsatz darum die Cost function bzw. die Fehler zu minimieren. Dieser Prozess wird auch **Gradient descent** genannt.\n",
        "\n",
        "In der folgenden Grafik sehen wir unten rechts die sogenannte **Cost function (C)**. Die Cost function zeigt uns nichts anderes als die Differenz zwischen dem Output-Werten und den korrekten Werten. Diese Differenz wird als Fehler (Error) bezeichnet. Auf Basis des Resultats (Error) fängt das KNN seine gewichteten Verbindungen zu aktualisieren d.h. das KNN fängt sich an zu optimieren.\n",
        "\n",
        "<img src='https://github.com/sakuronohana/my_datascience/blob/master/udemy/mlaz/Part%208%20-%20Deep%20Learning/KNN_Cost_function_2.png?raw=true' width=600>\n",
        "\n",
        "Die in der obigen Grafik dargestellen Input Values sind die von lediglicher einer Zeile eines Datensatzes d.h jedes Feature (unabhängige Variable) stellt einen Input dar. Ein Datensatz mit 15 Merkmalen (Features) würde also 15 Input values bedeutet. \n",
        "\n",
        "<img src='https://github.com/sakuronohana/my_datascience/blob/master/udemy/mlaz/Part%208%20-%20Deep%20Learning/KNN_Cost_function_3.png?raw=true' width=600>\n",
        "\n",
        "#### Gradient Descent\n",
        "\n",
        "Der Gradient Descent (Gradientverfahren) stellt einer der elementarsten Bestandteile eines KNNs dar. Aus diesem Grund wollen wir uns dieses Verfahren mal etwas genauer ansehen.\n",
        "\n",
        "Quelle: [Wikipedia](https://de.wikipedia.org/wiki/Gradientenverfahren)\n",
        "\n",
        "Das Gradientenverfahren wird in der Numerik eingesetzt, um allgemeine Optimierungsprobleme zu lösen. Dabei schreitet man (am Beispiel eines Minimierungsproblems) von einem Startpunkt aus entlang einer Abstiegsrichtung, bis keine numerische Verbesserung mehr erzielt wird. Wählt man als Abstiegsrichtung den negativen Gradienten, also die Richtung des lokal steilsten Abstiegs, erhält man das Verfahren des steilsten Abstiegs. Manchmal werden die Begriffe Gradientenverfahren und Verfahren des steilsten Abstiegs synonym verwendet. Im Allgemeinen bezeichnet Gradientenverfahren eine Optimierungsmethode, bei der die Abstiegsrichtung durch Gradienteninformation gewonnen wird, also nicht notwendigerweise auf den negativen Gradienten beschränkt ist.\n",
        "\n",
        "Das Verfahren des steilsten Abstiegs konvergiert oftmals sehr langsam, da es sich dem stationären Punkt mit einem starken Zickzack-Kurs nähert. Andere Verfahren für die Berechnung der Abstiegsrichtung erreichen teils deutlich bessere Konvergenzgeschwindigkeiten, so bietet sich für die Lösung von symmetrisch positiv definiten linearen Gleichungssystemen beispielsweise das Verfahren der konjugierten Gradienten an. Der Gradientenabstieg ist mit dem Bergsteigeralgorithmus (hill climbing) verwandt.\n",
        "\n",
        "In einer 2D grafischen Darstellung sieht Gradient Descent wie folgt aus:\n",
        "\n",
        "<img src='https://cdn-images-1.medium.com/max/600/1*iNPHcCxIvcm7RwkRaMTx1g.jpeg' width=500>\n",
        "\n",
        "Quelle: [MC.AI](https://mc.ai/an-introduction-to-gradient-descent-2/)\n",
        "\n",
        "Und in 3D so:\n",
        "\n",
        "<img src='https://miro.medium.com/max/875/1*yasmQ5kvlmbYMe8eDkyl6w.png' width=500>\n",
        "\n",
        "Quelle: [Medium.com](https://medium.com/@DBCerigoon-why-gradient-descent-is-even-needed-25160197a635)\n",
        "\n",
        "##### **Batch Gradient Descent (BGD)**\n",
        "\n",
        "Ist ein Gradientverfahren in welchem die ganzen Daten in einem grossen oder mehreren kleinen Batches (Einheiten) in das KNN eingespiesen werden. \n",
        "\n",
        "##### **Stochastic Gradient Descent (SGD)**\n",
        "\n",
        "In der vorletzten Grafik sehen wir wie Gradient Descent in einer gleichmässig nach aussen gebeugte Kurve (auch Convex genannt) aussieht. Nun ist aber so, dass in der realen Welt eine solche Gleichmässigkeit eher selten ist. In Wahrheit haben wir es mit unterschiedlichen Kurven mit mehreren tiefen Stellen zu tun. Damit die Funktion nun nicht einfach das Beste lokale Minimum sondern das globale Minimum (Best) der Cost funkton findet, ist ein stochastischer Ansatz notwendig. \n",
        "\n",
        "<img src='https://github.com/sakuronohana/my_datascience/blob/master/doc_images/SGD.png?raw=true' width=550>\n",
        "\n",
        "Quelle: [MLTUT](https://www.mltut.com/stochastic-gradient-descent-a-super-easy-complete-guide/)\n",
        "\n",
        "##### **Batch vs. Stochastic Gradient Descent**\n",
        "\n",
        "SGD hat gegenüber dem BGD Verfahren mehrere Vorteile. Nicht nur das SGD mit nicht konvexen Funktionen umgehen kann bzw. das lokale Minimum Problem verhindert. Es ist auch noch schneller als das BGD Verfahren. Was in Anbetracht der zeilenweisen Einfütterung in ein KNN erstaunen mag aber so ist es :-).\n",
        "\n",
        "<img src='https://github.com/sakuronohana/my_datascience/blob/master/udemy/mlaz/Part%208%20-%20Deep%20Learning/KNN_Diff_Gradient_Descent.png?raw=true' width=600>\n",
        "\n",
        "Mehr zum Thema Gradient Descent ist unter diesem [Link](https://iamtrask.github.io/2015/07/27/python-network-part2/) oder diesem [Link](https://www.mltut.com/stochastic-gradient-descent-a-super-easy-complete-guide/) zu finden.\n",
        "\n",
        "Abschliessen noch ein kurzer Ablauf, wie eine KNN mit SGD trainiert wird:\n",
        "\n",
        "<img src='https://github.com/sakuronohana/my_datascience/blob/master/udemy/mlaz/Part%208%20-%20Deep%20Learning/Section%2039%20-%20Artificial%20Neural%20Networks%20(ANN)/Stochastic_Gradient_Descent.png?raw=true' width=600>\n",
        "\n",
        "In einem von Google entwickelten Tool kann man eine KNN simulieren:\n",
        "\n",
        "https://playground.tensorflow.org/\n",
        "\n",
        "\n",
        "\n"
      ]
    },
    {
      "cell_type": "markdown",
      "metadata": {
        "id": "nBGpU5Zptkbk"
      },
      "source": [
        "### Vanishing & Exploding Gradient Problems\n",
        "\n",
        "Im Zusammenhang mit der Backpropagation muss noch ein wichtiges Thema belichtet werden, welches unter anderem den Siegenszug von DL gebremst hat. \n",
        "\n",
        "Ein Problem bei Trainingsnetzwerken mit vielen Layers besteht darin, dass der Gradient dramatisch abnimmt, wenn er sich rückwärts durch das Netzwerk ausbreitet. Der Fehler kann zu dem Zeitpunkt, zu dem er Ebenen nahe der Eingabe des Modells erreicht, so gering sein, dass er möglicherweise nur sehr geringe Auswirkungen hat. Einfach gesagt heisst das, dass geringe Anpassungen an den Gewichtungen der Verbindungen zu einer Art Stagnierung führt bzw. das NN verringert den Error nur sehr minimal und dass NN hat Mühe sich an den optimalen Fehlerminimierung anzunähern. \n",
        "\n",
        "Anstelle der verschwindenden Gradients gibt es aber auch das Gegenteil. Die Gewicht habe zu hohe Werte und dies wiederum führt zum Exploding Gradient Problem, was das NN ebenfalls daran hindert zu einer optimalen Fehlerminimierung zu kommen.\n",
        "\n",
        "<img src='https://www.analyticsindiamag.com/wp-content/uploads/2019/08/afrnn.png' width=600>\n",
        "\n",
        "Die oben beschriebenen zwei Probleme sind vor allem bei RNNs und im Zusammenhang mit der Sigmoid-Funktion zu finden. Es gibt verschiedene Lösungen um mit dem Vanishing & Exploding Gradient Problem umzugehen.\n",
        "\n",
        "1.   Anstelle von Sigmoid einfach die ReLu Aktivierungsfunktion verwenden.\n",
        "2.   Batch normalization im NN integrieren.\n",
        "\n",
        "\n",
        "\n",
        "Hier noch ein gutes [Video](https://www.youtube.com/watch?v=SKMpmAOUa2Q), welche diese Problem genauer erklärt."
      ]
    },
    {
      "cell_type": "markdown",
      "source": [
        "#### Hyperparameter\n",
        "\n",
        "Hyperparameter sind Einstellungen, die vor dem Training des Modells festgelegt werden müssen und die das Verhalten des Modells beeinflussen. Im Gegensatz zu den Gewichten des Modells, die während des Trainings angepasst werden, bleiben Hyperparameter während des Trainings konstant.\n",
        "\n",
        "Beispiele für andere Hyperparameter sind die Lernrate, die Anzahl der versteckten Schichten, die Größe der versteckten Schichten und die Art der Regularisierung. Die Wahl der richtigen Hyperparameter kann einen großen Einfluss auf die Leistung des Modells haben.\n",
        "\n",
        "Die Auswahl der optimalen Hyperparameter ist ein wichtiger Schritt im Machine Learning-Prozess und erfordert oft experimentelle Iterationen und Anpassungen. Es gibt verschiedene Techniken, um die besten Hyperparameter zu finden, wie z.B. Raster-Suche, zufällige Suche und bayesianische Optimierung."
      ],
      "metadata": {
        "id": "Vm5N1C5B6xzG"
      }
    },
    {
      "cell_type": "markdown",
      "metadata": {
        "id": "CodIfacZQtvA"
      },
      "source": [
        "## Supervised Deep Learning\n",
        "\n",
        "Nachfolgende werden Deep Learning Modelle vorgestellt, welche sich für das überwachte Lernen eignen."
      ]
    },
    {
      "cell_type": "markdown",
      "metadata": {
        "id": "kR8AqwrmRl_2"
      },
      "source": [
        "### Fully Connected Neural Network (FCNN) - Klassifikation\n",
        "\n",
        "Eines der klassischen KNNs ist das Fully Connected Neural Network. Es wird so genannt, weil alle Units miteinander verbunden sind. Damit sind wir auch schon beim Haupproblem dieser Art KNNs angekommen. Fully Connected hat einen Einfluss auf die Performance.\n",
        "\n",
        "<img src='https://cdn-images-1.medium.com/max/720/1*VHOUViL8dHGfvxCsswPv-Q.png' width=500>\n",
        "\n",
        "Im nachfolgenden Beispiel bauen wir ein solches KNN um ein Klassifikationsproblem zu lösen. Für den Aufbau verwenden wird das Framework Tensorflow."
      ]
    },
    {
      "cell_type": "markdown",
      "metadata": {
        "id": "o58FN6eCyTBN"
      },
      "source": [
        "#### Ausgangslage\n",
        "\n",
        "Eine Bank verliert innerhalb kurzer Zeit sehr viele Kunden. Sie möchte nun gerne Wissen, welche der noch bestehenden Kunden evtl. die Bank in den nächsten 6 Monaten abwandern (engl. churn) könnten. Für die Erstellung eins KNN-Regressionsmodells stellt sie einen Datensatz von 10000 Kunden zur Verfügung, welche noch bei der Bank sind oder diese bereits verlassen haben. Neben 13 Features (unabhängige Variablen) beinhaltet der Datensatz auch eine Spalte mit Labels (abhängige Variable).  "
      ]
    },
    {
      "cell_type": "markdown",
      "metadata": {
        "id": "R7wEUUJrw0s_"
      },
      "source": [
        "#### Importing the libraries"
      ]
    },
    {
      "cell_type": "code",
      "metadata": {
        "id": "2aMy3FaVWJJc"
      },
      "source": [
        "import numpy as np\n",
        "import pandas as pd\n",
        "import tensorflow as tf"
      ],
      "execution_count": 24,
      "outputs": []
    },
    {
      "cell_type": "code",
      "metadata": {
        "id": "e-dPtRXaL6aL",
        "outputId": "698a78ac-0683-485e-ffe2-f8295f7bddd2",
        "colab": {
          "base_uri": "https://localhost:8080/",
          "height": 35
        }
      },
      "source": [
        "tf.__version__"
      ],
      "execution_count": 25,
      "outputs": [
        {
          "output_type": "execute_result",
          "data": {
            "text/plain": [
              "'2.11.0'"
            ],
            "application/vnd.google.colaboratory.intrinsic+json": {
              "type": "string"
            }
          },
          "metadata": {},
          "execution_count": 25
        }
      ]
    },
    {
      "cell_type": "markdown",
      "metadata": {
        "id": "TrPhog7uxHYL"
      },
      "source": [
        "#### Teil 1 - Datenaufbereitung (Data Preprocessing)"
      ]
    },
    {
      "cell_type": "markdown",
      "metadata": {
        "id": "4pRyhRL_1tzr"
      },
      "source": [
        "#### Datenimport\n",
        "\n",
        "Nach dem wir die Daten importiert haben, werden wir sie, wie immer im Supervised Learning, in einen Datensatz mit unabhängigen und abhängigen Variablen aufteilen. Bevor wir aber die Datenwerte (Values) in zwei Datensätze teilen, schauen wir uns mal den importierten Datensatz an. "
      ]
    },
    {
      "cell_type": "code",
      "metadata": {
        "id": "INjwpXRYxOV9",
        "outputId": "989cc6cc-9f28-41e8-b22a-7d8e1f4303e9",
        "colab": {
          "base_uri": "https://localhost:8080/",
          "height": 206
        }
      },
      "source": [
        "datloc = 'https://raw.githubusercontent.com/sakuronohana/my_datascience/master/udemy/mlaz/Part%208%20-%20Deep%20Learning/Section%2039%20-%20Artificial%20Neural%20Networks%20(ANN)/Python/Churn_Modelling.csv'\n",
        "\n",
        "dataset = pd.read_csv(datloc)\n",
        "dataset.head()"
      ],
      "execution_count": 26,
      "outputs": [
        {
          "output_type": "execute_result",
          "data": {
            "text/plain": [
              "   RowNumber  CustomerId   Surname  CreditScore Geography  Gender  Age  \\\n",
              "0          1    15634602  Hargrave          619    France  Female   42   \n",
              "1          2    15647311      Hill          608     Spain  Female   41   \n",
              "2          3    15619304      Onio          502    France  Female   42   \n",
              "3          4    15701354      Boni          699    France  Female   39   \n",
              "4          5    15737888  Mitchell          850     Spain  Female   43   \n",
              "\n",
              "   Tenure    Balance  NumOfProducts  HasCrCard  IsActiveMember  \\\n",
              "0       2       0.00              1          1               1   \n",
              "1       1   83807.86              1          0               1   \n",
              "2       8  159660.80              3          1               0   \n",
              "3       1       0.00              2          0               0   \n",
              "4       2  125510.82              1          1               1   \n",
              "\n",
              "   EstimatedSalary  Exited  \n",
              "0        101348.88       1  \n",
              "1        112542.58       0  \n",
              "2        113931.57       1  \n",
              "3         93826.63       0  \n",
              "4         79084.10       0  "
            ],
            "text/html": [
              "\n",
              "  <div id=\"df-0d3fb527-92c8-4bbd-9f8b-3d7e4e66025a\">\n",
              "    <div class=\"colab-df-container\">\n",
              "      <div>\n",
              "<style scoped>\n",
              "    .dataframe tbody tr th:only-of-type {\n",
              "        vertical-align: middle;\n",
              "    }\n",
              "\n",
              "    .dataframe tbody tr th {\n",
              "        vertical-align: top;\n",
              "    }\n",
              "\n",
              "    .dataframe thead th {\n",
              "        text-align: right;\n",
              "    }\n",
              "</style>\n",
              "<table border=\"1\" class=\"dataframe\">\n",
              "  <thead>\n",
              "    <tr style=\"text-align: right;\">\n",
              "      <th></th>\n",
              "      <th>RowNumber</th>\n",
              "      <th>CustomerId</th>\n",
              "      <th>Surname</th>\n",
              "      <th>CreditScore</th>\n",
              "      <th>Geography</th>\n",
              "      <th>Gender</th>\n",
              "      <th>Age</th>\n",
              "      <th>Tenure</th>\n",
              "      <th>Balance</th>\n",
              "      <th>NumOfProducts</th>\n",
              "      <th>HasCrCard</th>\n",
              "      <th>IsActiveMember</th>\n",
              "      <th>EstimatedSalary</th>\n",
              "      <th>Exited</th>\n",
              "    </tr>\n",
              "  </thead>\n",
              "  <tbody>\n",
              "    <tr>\n",
              "      <th>0</th>\n",
              "      <td>1</td>\n",
              "      <td>15634602</td>\n",
              "      <td>Hargrave</td>\n",
              "      <td>619</td>\n",
              "      <td>France</td>\n",
              "      <td>Female</td>\n",
              "      <td>42</td>\n",
              "      <td>2</td>\n",
              "      <td>0.00</td>\n",
              "      <td>1</td>\n",
              "      <td>1</td>\n",
              "      <td>1</td>\n",
              "      <td>101348.88</td>\n",
              "      <td>1</td>\n",
              "    </tr>\n",
              "    <tr>\n",
              "      <th>1</th>\n",
              "      <td>2</td>\n",
              "      <td>15647311</td>\n",
              "      <td>Hill</td>\n",
              "      <td>608</td>\n",
              "      <td>Spain</td>\n",
              "      <td>Female</td>\n",
              "      <td>41</td>\n",
              "      <td>1</td>\n",
              "      <td>83807.86</td>\n",
              "      <td>1</td>\n",
              "      <td>0</td>\n",
              "      <td>1</td>\n",
              "      <td>112542.58</td>\n",
              "      <td>0</td>\n",
              "    </tr>\n",
              "    <tr>\n",
              "      <th>2</th>\n",
              "      <td>3</td>\n",
              "      <td>15619304</td>\n",
              "      <td>Onio</td>\n",
              "      <td>502</td>\n",
              "      <td>France</td>\n",
              "      <td>Female</td>\n",
              "      <td>42</td>\n",
              "      <td>8</td>\n",
              "      <td>159660.80</td>\n",
              "      <td>3</td>\n",
              "      <td>1</td>\n",
              "      <td>0</td>\n",
              "      <td>113931.57</td>\n",
              "      <td>1</td>\n",
              "    </tr>\n",
              "    <tr>\n",
              "      <th>3</th>\n",
              "      <td>4</td>\n",
              "      <td>15701354</td>\n",
              "      <td>Boni</td>\n",
              "      <td>699</td>\n",
              "      <td>France</td>\n",
              "      <td>Female</td>\n",
              "      <td>39</td>\n",
              "      <td>1</td>\n",
              "      <td>0.00</td>\n",
              "      <td>2</td>\n",
              "      <td>0</td>\n",
              "      <td>0</td>\n",
              "      <td>93826.63</td>\n",
              "      <td>0</td>\n",
              "    </tr>\n",
              "    <tr>\n",
              "      <th>4</th>\n",
              "      <td>5</td>\n",
              "      <td>15737888</td>\n",
              "      <td>Mitchell</td>\n",
              "      <td>850</td>\n",
              "      <td>Spain</td>\n",
              "      <td>Female</td>\n",
              "      <td>43</td>\n",
              "      <td>2</td>\n",
              "      <td>125510.82</td>\n",
              "      <td>1</td>\n",
              "      <td>1</td>\n",
              "      <td>1</td>\n",
              "      <td>79084.10</td>\n",
              "      <td>0</td>\n",
              "    </tr>\n",
              "  </tbody>\n",
              "</table>\n",
              "</div>\n",
              "      <button class=\"colab-df-convert\" onclick=\"convertToInteractive('df-0d3fb527-92c8-4bbd-9f8b-3d7e4e66025a')\"\n",
              "              title=\"Convert this dataframe to an interactive table.\"\n",
              "              style=\"display:none;\">\n",
              "        \n",
              "  <svg xmlns=\"http://www.w3.org/2000/svg\" height=\"24px\"viewBox=\"0 0 24 24\"\n",
              "       width=\"24px\">\n",
              "    <path d=\"M0 0h24v24H0V0z\" fill=\"none\"/>\n",
              "    <path d=\"M18.56 5.44l.94 2.06.94-2.06 2.06-.94-2.06-.94-.94-2.06-.94 2.06-2.06.94zm-11 1L8.5 8.5l.94-2.06 2.06-.94-2.06-.94L8.5 2.5l-.94 2.06-2.06.94zm10 10l.94 2.06.94-2.06 2.06-.94-2.06-.94-.94-2.06-.94 2.06-2.06.94z\"/><path d=\"M17.41 7.96l-1.37-1.37c-.4-.4-.92-.59-1.43-.59-.52 0-1.04.2-1.43.59L10.3 9.45l-7.72 7.72c-.78.78-.78 2.05 0 2.83L4 21.41c.39.39.9.59 1.41.59.51 0 1.02-.2 1.41-.59l7.78-7.78 2.81-2.81c.8-.78.8-2.07 0-2.86zM5.41 20L4 18.59l7.72-7.72 1.47 1.35L5.41 20z\"/>\n",
              "  </svg>\n",
              "      </button>\n",
              "      \n",
              "  <style>\n",
              "    .colab-df-container {\n",
              "      display:flex;\n",
              "      flex-wrap:wrap;\n",
              "      gap: 12px;\n",
              "    }\n",
              "\n",
              "    .colab-df-convert {\n",
              "      background-color: #E8F0FE;\n",
              "      border: none;\n",
              "      border-radius: 50%;\n",
              "      cursor: pointer;\n",
              "      display: none;\n",
              "      fill: #1967D2;\n",
              "      height: 32px;\n",
              "      padding: 0 0 0 0;\n",
              "      width: 32px;\n",
              "    }\n",
              "\n",
              "    .colab-df-convert:hover {\n",
              "      background-color: #E2EBFA;\n",
              "      box-shadow: 0px 1px 2px rgba(60, 64, 67, 0.3), 0px 1px 3px 1px rgba(60, 64, 67, 0.15);\n",
              "      fill: #174EA6;\n",
              "    }\n",
              "\n",
              "    [theme=dark] .colab-df-convert {\n",
              "      background-color: #3B4455;\n",
              "      fill: #D2E3FC;\n",
              "    }\n",
              "\n",
              "    [theme=dark] .colab-df-convert:hover {\n",
              "      background-color: #434B5C;\n",
              "      box-shadow: 0px 1px 3px 1px rgba(0, 0, 0, 0.15);\n",
              "      filter: drop-shadow(0px 1px 2px rgba(0, 0, 0, 0.3));\n",
              "      fill: #FFFFFF;\n",
              "    }\n",
              "  </style>\n",
              "\n",
              "      <script>\n",
              "        const buttonEl =\n",
              "          document.querySelector('#df-0d3fb527-92c8-4bbd-9f8b-3d7e4e66025a button.colab-df-convert');\n",
              "        buttonEl.style.display =\n",
              "          google.colab.kernel.accessAllowed ? 'block' : 'none';\n",
              "\n",
              "        async function convertToInteractive(key) {\n",
              "          const element = document.querySelector('#df-0d3fb527-92c8-4bbd-9f8b-3d7e4e66025a');\n",
              "          const dataTable =\n",
              "            await google.colab.kernel.invokeFunction('convertToInteractive',\n",
              "                                                     [key], {});\n",
              "          if (!dataTable) return;\n",
              "\n",
              "          const docLinkHtml = 'Like what you see? Visit the ' +\n",
              "            '<a target=\"_blank\" href=https://colab.research.google.com/notebooks/data_table.ipynb>data table notebook</a>'\n",
              "            + ' to learn more about interactive tables.';\n",
              "          element.innerHTML = '';\n",
              "          dataTable['output_type'] = 'display_data';\n",
              "          await google.colab.output.renderOutput(dataTable, element);\n",
              "          const docLink = document.createElement('div');\n",
              "          docLink.innerHTML = docLinkHtml;\n",
              "          element.appendChild(docLink);\n",
              "        }\n",
              "      </script>\n",
              "    </div>\n",
              "  </div>\n",
              "  "
            ]
          },
          "metadata": {},
          "execution_count": 26
        }
      ]
    },
    {
      "cell_type": "markdown",
      "metadata": {
        "id": "d6HlzPOOU1gh"
      },
      "source": [
        "Prüfen wir doch auch noch gleich, ob wir fehlende Daten haben. "
      ]
    },
    {
      "cell_type": "code",
      "metadata": {
        "id": "cerT8oa-TuMW",
        "outputId": "f9c944f6-3768-46e3-cf14-7de980e91044",
        "colab": {
          "base_uri": "https://localhost:8080/"
        }
      },
      "source": [
        "dataset.isnull().sum()"
      ],
      "execution_count": 27,
      "outputs": [
        {
          "output_type": "execute_result",
          "data": {
            "text/plain": [
              "RowNumber          0\n",
              "CustomerId         0\n",
              "Surname            0\n",
              "CreditScore        0\n",
              "Geography          0\n",
              "Gender             0\n",
              "Age                0\n",
              "Tenure             0\n",
              "Balance            0\n",
              "NumOfProducts      0\n",
              "HasCrCard          0\n",
              "IsActiveMember     0\n",
              "EstimatedSalary    0\n",
              "Exited             0\n",
              "dtype: int64"
            ]
          },
          "metadata": {},
          "execution_count": 27
        }
      ]
    },
    {
      "cell_type": "markdown",
      "metadata": {
        "id": "VCSy935pPKSW"
      },
      "source": [
        "Beim betrachten des Datensatzes müssen wir uns überlegen, welche Features für das Modell überhaupt relevant sind bzw. welche Features eine Einfluss auf das Label (abhängige Variable) haben. Wir könnten natürlich alle Spalten bestehen lassen aber dann müssten wir auch die nicht relevanten kategorischen Merkmale in nummerische Wert umwandeln. Diese Arbeit können wir uns sparen in dem wir eine Vorselektion machen.\n",
        "\n",
        "Wenn wir nun also den orginal Datensatz betrachten, dann können wir mit Sicherheit sagen, dass die Merkmale RowNumber, CustomerId und Surname keinen Einfluss auf das Label Exited haben werden. Somit müssen wir nur alle Features ab Spalte 4 (in Python 3, da es bei 0 anfängt) bis minus der letzen Spalte (Label) in X importieren."
      ]
    },
    {
      "cell_type": "code",
      "metadata": {
        "id": "cu3WhSETPELd"
      },
      "source": [
        "X = dataset.iloc[:,3:-1].values\n",
        "y = dataset.iloc[:,-1].values"
      ],
      "execution_count": 28,
      "outputs": []
    },
    {
      "cell_type": "code",
      "metadata": {
        "id": "RS9XOEOHQ8RM",
        "colab": {
          "base_uri": "https://localhost:8080/"
        },
        "outputId": "ae5cfc53-32f6-4175-a7a3-d764a73cc998"
      },
      "source": [
        "print(X)"
      ],
      "execution_count": 29,
      "outputs": [
        {
          "output_type": "stream",
          "name": "stdout",
          "text": [
            "[[619 'France' 'Female' ... 1 1 101348.88]\n",
            " [608 'Spain' 'Female' ... 0 1 112542.58]\n",
            " [502 'France' 'Female' ... 1 0 113931.57]\n",
            " ...\n",
            " [709 'France' 'Female' ... 0 1 42085.58]\n",
            " [772 'Germany' 'Male' ... 1 0 92888.52]\n",
            " [792 'France' 'Female' ... 1 0 38190.78]]\n"
          ]
        }
      ]
    },
    {
      "cell_type": "code",
      "metadata": {
        "id": "uEb19jLOSW6Z",
        "colab": {
          "base_uri": "https://localhost:8080/"
        },
        "outputId": "3016e8e2-5800-46a4-b3e0-2e98676091ee"
      },
      "source": [
        "print(y)"
      ],
      "execution_count": 30,
      "outputs": [
        {
          "output_type": "stream",
          "name": "stdout",
          "text": [
            "[1 0 1 ... 1 1 0]\n"
          ]
        }
      ]
    },
    {
      "cell_type": "markdown",
      "metadata": {
        "id": "K2KjKpVX16O0"
      },
      "source": [
        "#### Encoding von kategorischen Daten\n",
        "\n",
        "Wie wir im Datensatz unschwer erkennen können, beinhaltet diese auch kategorische Daten wie Geography (Land) und Gender (Geschlecht). Mit diesen kann eine KNN nichts anfangen. \n",
        "Während Geography drei unterschiedliche Werte enthält sind beim Feature Gender nur zwei Zustände zu beaobachten Female oder Male. Auf Basis dieser Erkenntnisse setzen wir nun folgende Encoding ein:\n",
        "\n",
        "Geography = One Hot Encoding\n",
        "\n",
        "Gender = Label Encoding"
      ]
    },
    {
      "cell_type": "code",
      "metadata": {
        "id": "10FHtoB5cpxA",
        "outputId": "2176c059-fad1-4227-cabf-516659050f5b",
        "colab": {
          "base_uri": "https://localhost:8080/",
          "height": 175
        }
      },
      "source": [
        "# Prüfen wir noch kurz wieviele Werte das Feature Geography hat.\n",
        "dataset.groupby(by=['Geography'], axis=0).sum()"
      ],
      "execution_count": 31,
      "outputs": [
        {
          "output_type": "execute_result",
          "data": {
            "text/plain": [
              "           RowNumber   CustomerId  CreditScore     Age  Tenure       Balance  \\\n",
              "Geography                                                                      \n",
              "France      25196496  78672919670      3257437  193098   25093  3.113325e+08   \n",
              "Germany     12545700  39367604133      1634497   99787   12570  3.004029e+08   \n",
              "Spain       12262804  38868881891      1613354   96333   12465  1.531236e+08   \n",
              "\n",
              "           NumOfProducts  HasCrCard  IsActiveMember  EstimatedSalary  Exited  \n",
              "Geography                                                                     \n",
              "France              7676       3543            2591     5.008945e+08     810  \n",
              "Germany             3813       1791            1248     2.536936e+08     814  \n",
              "Spain               3813       1721            1312     2.463143e+08     413  "
            ],
            "text/html": [
              "\n",
              "  <div id=\"df-1d13a114-e729-4695-b7be-2b7e23232c75\">\n",
              "    <div class=\"colab-df-container\">\n",
              "      <div>\n",
              "<style scoped>\n",
              "    .dataframe tbody tr th:only-of-type {\n",
              "        vertical-align: middle;\n",
              "    }\n",
              "\n",
              "    .dataframe tbody tr th {\n",
              "        vertical-align: top;\n",
              "    }\n",
              "\n",
              "    .dataframe thead th {\n",
              "        text-align: right;\n",
              "    }\n",
              "</style>\n",
              "<table border=\"1\" class=\"dataframe\">\n",
              "  <thead>\n",
              "    <tr style=\"text-align: right;\">\n",
              "      <th></th>\n",
              "      <th>RowNumber</th>\n",
              "      <th>CustomerId</th>\n",
              "      <th>CreditScore</th>\n",
              "      <th>Age</th>\n",
              "      <th>Tenure</th>\n",
              "      <th>Balance</th>\n",
              "      <th>NumOfProducts</th>\n",
              "      <th>HasCrCard</th>\n",
              "      <th>IsActiveMember</th>\n",
              "      <th>EstimatedSalary</th>\n",
              "      <th>Exited</th>\n",
              "    </tr>\n",
              "    <tr>\n",
              "      <th>Geography</th>\n",
              "      <th></th>\n",
              "      <th></th>\n",
              "      <th></th>\n",
              "      <th></th>\n",
              "      <th></th>\n",
              "      <th></th>\n",
              "      <th></th>\n",
              "      <th></th>\n",
              "      <th></th>\n",
              "      <th></th>\n",
              "      <th></th>\n",
              "    </tr>\n",
              "  </thead>\n",
              "  <tbody>\n",
              "    <tr>\n",
              "      <th>France</th>\n",
              "      <td>25196496</td>\n",
              "      <td>78672919670</td>\n",
              "      <td>3257437</td>\n",
              "      <td>193098</td>\n",
              "      <td>25093</td>\n",
              "      <td>3.113325e+08</td>\n",
              "      <td>7676</td>\n",
              "      <td>3543</td>\n",
              "      <td>2591</td>\n",
              "      <td>5.008945e+08</td>\n",
              "      <td>810</td>\n",
              "    </tr>\n",
              "    <tr>\n",
              "      <th>Germany</th>\n",
              "      <td>12545700</td>\n",
              "      <td>39367604133</td>\n",
              "      <td>1634497</td>\n",
              "      <td>99787</td>\n",
              "      <td>12570</td>\n",
              "      <td>3.004029e+08</td>\n",
              "      <td>3813</td>\n",
              "      <td>1791</td>\n",
              "      <td>1248</td>\n",
              "      <td>2.536936e+08</td>\n",
              "      <td>814</td>\n",
              "    </tr>\n",
              "    <tr>\n",
              "      <th>Spain</th>\n",
              "      <td>12262804</td>\n",
              "      <td>38868881891</td>\n",
              "      <td>1613354</td>\n",
              "      <td>96333</td>\n",
              "      <td>12465</td>\n",
              "      <td>1.531236e+08</td>\n",
              "      <td>3813</td>\n",
              "      <td>1721</td>\n",
              "      <td>1312</td>\n",
              "      <td>2.463143e+08</td>\n",
              "      <td>413</td>\n",
              "    </tr>\n",
              "  </tbody>\n",
              "</table>\n",
              "</div>\n",
              "      <button class=\"colab-df-convert\" onclick=\"convertToInteractive('df-1d13a114-e729-4695-b7be-2b7e23232c75')\"\n",
              "              title=\"Convert this dataframe to an interactive table.\"\n",
              "              style=\"display:none;\">\n",
              "        \n",
              "  <svg xmlns=\"http://www.w3.org/2000/svg\" height=\"24px\"viewBox=\"0 0 24 24\"\n",
              "       width=\"24px\">\n",
              "    <path d=\"M0 0h24v24H0V0z\" fill=\"none\"/>\n",
              "    <path d=\"M18.56 5.44l.94 2.06.94-2.06 2.06-.94-2.06-.94-.94-2.06-.94 2.06-2.06.94zm-11 1L8.5 8.5l.94-2.06 2.06-.94-2.06-.94L8.5 2.5l-.94 2.06-2.06.94zm10 10l.94 2.06.94-2.06 2.06-.94-2.06-.94-.94-2.06-.94 2.06-2.06.94z\"/><path d=\"M17.41 7.96l-1.37-1.37c-.4-.4-.92-.59-1.43-.59-.52 0-1.04.2-1.43.59L10.3 9.45l-7.72 7.72c-.78.78-.78 2.05 0 2.83L4 21.41c.39.39.9.59 1.41.59.51 0 1.02-.2 1.41-.59l7.78-7.78 2.81-2.81c.8-.78.8-2.07 0-2.86zM5.41 20L4 18.59l7.72-7.72 1.47 1.35L5.41 20z\"/>\n",
              "  </svg>\n",
              "      </button>\n",
              "      \n",
              "  <style>\n",
              "    .colab-df-container {\n",
              "      display:flex;\n",
              "      flex-wrap:wrap;\n",
              "      gap: 12px;\n",
              "    }\n",
              "\n",
              "    .colab-df-convert {\n",
              "      background-color: #E8F0FE;\n",
              "      border: none;\n",
              "      border-radius: 50%;\n",
              "      cursor: pointer;\n",
              "      display: none;\n",
              "      fill: #1967D2;\n",
              "      height: 32px;\n",
              "      padding: 0 0 0 0;\n",
              "      width: 32px;\n",
              "    }\n",
              "\n",
              "    .colab-df-convert:hover {\n",
              "      background-color: #E2EBFA;\n",
              "      box-shadow: 0px 1px 2px rgba(60, 64, 67, 0.3), 0px 1px 3px 1px rgba(60, 64, 67, 0.15);\n",
              "      fill: #174EA6;\n",
              "    }\n",
              "\n",
              "    [theme=dark] .colab-df-convert {\n",
              "      background-color: #3B4455;\n",
              "      fill: #D2E3FC;\n",
              "    }\n",
              "\n",
              "    [theme=dark] .colab-df-convert:hover {\n",
              "      background-color: #434B5C;\n",
              "      box-shadow: 0px 1px 3px 1px rgba(0, 0, 0, 0.15);\n",
              "      filter: drop-shadow(0px 1px 2px rgba(0, 0, 0, 0.3));\n",
              "      fill: #FFFFFF;\n",
              "    }\n",
              "  </style>\n",
              "\n",
              "      <script>\n",
              "        const buttonEl =\n",
              "          document.querySelector('#df-1d13a114-e729-4695-b7be-2b7e23232c75 button.colab-df-convert');\n",
              "        buttonEl.style.display =\n",
              "          google.colab.kernel.accessAllowed ? 'block' : 'none';\n",
              "\n",
              "        async function convertToInteractive(key) {\n",
              "          const element = document.querySelector('#df-1d13a114-e729-4695-b7be-2b7e23232c75');\n",
              "          const dataTable =\n",
              "            await google.colab.kernel.invokeFunction('convertToInteractive',\n",
              "                                                     [key], {});\n",
              "          if (!dataTable) return;\n",
              "\n",
              "          const docLinkHtml = 'Like what you see? Visit the ' +\n",
              "            '<a target=\"_blank\" href=https://colab.research.google.com/notebooks/data_table.ipynb>data table notebook</a>'\n",
              "            + ' to learn more about interactive tables.';\n",
              "          element.innerHTML = '';\n",
              "          dataTable['output_type'] = 'display_data';\n",
              "          await google.colab.output.renderOutput(dataTable, element);\n",
              "          const docLink = document.createElement('div');\n",
              "          docLink.innerHTML = docLinkHtml;\n",
              "          element.appendChild(docLink);\n",
              "        }\n",
              "      </script>\n",
              "    </div>\n",
              "  </div>\n",
              "  "
            ]
          },
          "metadata": {},
          "execution_count": 31
        }
      ]
    },
    {
      "cell_type": "markdown",
      "metadata": {
        "id": "2ZSAHCIhXGOj"
      },
      "source": [
        "##### LabelEncoding"
      ]
    },
    {
      "cell_type": "code",
      "metadata": {
        "id": "j_c5bgQ615eY"
      },
      "source": [
        "from sklearn.preprocessing import LabelEncoder\n",
        "le = LabelEncoder()\n",
        "# Gender ist die Spalte 2\n",
        "X[:,2] = le.fit_transform(X[:,2])"
      ],
      "execution_count": 32,
      "outputs": []
    },
    {
      "cell_type": "code",
      "source": [
        "# Prüfen wir mal kurz, welche Werte nun gesetzt wurden\n",
        "dataset.groupby(by=['Gender'], axis=0).sum()"
      ],
      "metadata": {
        "id": "0AKE5SORnAUb",
        "outputId": "686a69d0-5c91-4f87-f62a-70bd2c2e3d90",
        "colab": {
          "base_uri": "https://localhost:8080/",
          "height": 143
        }
      },
      "execution_count": 33,
      "outputs": [
        {
          "output_type": "execute_result",
          "data": {
            "text/plain": [
              "        RowNumber   CustomerId  CreditScore     Age  Tenure       Balance  \\\n",
              "Gender                                                                      \n",
              "Female   22455729  71284888959      2956727  178260   22561  3.437205e+08   \n",
              "Male     27549271  85624516735      3548561  210958   27567  4.211384e+08   \n",
              "\n",
              "        NumOfProducts  HasCrCard  IsActiveMember  EstimatedSalary  Exited  \n",
              "Gender                                                                     \n",
              "Female           7015       3192            2284     4.570328e+08    1139  \n",
              "Male             8287       3863            2867     5.438696e+08     898  "
            ],
            "text/html": [
              "\n",
              "  <div id=\"df-4188d687-ed0e-48a8-8e02-2b24b84e05d4\">\n",
              "    <div class=\"colab-df-container\">\n",
              "      <div>\n",
              "<style scoped>\n",
              "    .dataframe tbody tr th:only-of-type {\n",
              "        vertical-align: middle;\n",
              "    }\n",
              "\n",
              "    .dataframe tbody tr th {\n",
              "        vertical-align: top;\n",
              "    }\n",
              "\n",
              "    .dataframe thead th {\n",
              "        text-align: right;\n",
              "    }\n",
              "</style>\n",
              "<table border=\"1\" class=\"dataframe\">\n",
              "  <thead>\n",
              "    <tr style=\"text-align: right;\">\n",
              "      <th></th>\n",
              "      <th>RowNumber</th>\n",
              "      <th>CustomerId</th>\n",
              "      <th>CreditScore</th>\n",
              "      <th>Age</th>\n",
              "      <th>Tenure</th>\n",
              "      <th>Balance</th>\n",
              "      <th>NumOfProducts</th>\n",
              "      <th>HasCrCard</th>\n",
              "      <th>IsActiveMember</th>\n",
              "      <th>EstimatedSalary</th>\n",
              "      <th>Exited</th>\n",
              "    </tr>\n",
              "    <tr>\n",
              "      <th>Gender</th>\n",
              "      <th></th>\n",
              "      <th></th>\n",
              "      <th></th>\n",
              "      <th></th>\n",
              "      <th></th>\n",
              "      <th></th>\n",
              "      <th></th>\n",
              "      <th></th>\n",
              "      <th></th>\n",
              "      <th></th>\n",
              "      <th></th>\n",
              "    </tr>\n",
              "  </thead>\n",
              "  <tbody>\n",
              "    <tr>\n",
              "      <th>Female</th>\n",
              "      <td>22455729</td>\n",
              "      <td>71284888959</td>\n",
              "      <td>2956727</td>\n",
              "      <td>178260</td>\n",
              "      <td>22561</td>\n",
              "      <td>3.437205e+08</td>\n",
              "      <td>7015</td>\n",
              "      <td>3192</td>\n",
              "      <td>2284</td>\n",
              "      <td>4.570328e+08</td>\n",
              "      <td>1139</td>\n",
              "    </tr>\n",
              "    <tr>\n",
              "      <th>Male</th>\n",
              "      <td>27549271</td>\n",
              "      <td>85624516735</td>\n",
              "      <td>3548561</td>\n",
              "      <td>210958</td>\n",
              "      <td>27567</td>\n",
              "      <td>4.211384e+08</td>\n",
              "      <td>8287</td>\n",
              "      <td>3863</td>\n",
              "      <td>2867</td>\n",
              "      <td>5.438696e+08</td>\n",
              "      <td>898</td>\n",
              "    </tr>\n",
              "  </tbody>\n",
              "</table>\n",
              "</div>\n",
              "      <button class=\"colab-df-convert\" onclick=\"convertToInteractive('df-4188d687-ed0e-48a8-8e02-2b24b84e05d4')\"\n",
              "              title=\"Convert this dataframe to an interactive table.\"\n",
              "              style=\"display:none;\">\n",
              "        \n",
              "  <svg xmlns=\"http://www.w3.org/2000/svg\" height=\"24px\"viewBox=\"0 0 24 24\"\n",
              "       width=\"24px\">\n",
              "    <path d=\"M0 0h24v24H0V0z\" fill=\"none\"/>\n",
              "    <path d=\"M18.56 5.44l.94 2.06.94-2.06 2.06-.94-2.06-.94-.94-2.06-.94 2.06-2.06.94zm-11 1L8.5 8.5l.94-2.06 2.06-.94-2.06-.94L8.5 2.5l-.94 2.06-2.06.94zm10 10l.94 2.06.94-2.06 2.06-.94-2.06-.94-.94-2.06-.94 2.06-2.06.94z\"/><path d=\"M17.41 7.96l-1.37-1.37c-.4-.4-.92-.59-1.43-.59-.52 0-1.04.2-1.43.59L10.3 9.45l-7.72 7.72c-.78.78-.78 2.05 0 2.83L4 21.41c.39.39.9.59 1.41.59.51 0 1.02-.2 1.41-.59l7.78-7.78 2.81-2.81c.8-.78.8-2.07 0-2.86zM5.41 20L4 18.59l7.72-7.72 1.47 1.35L5.41 20z\"/>\n",
              "  </svg>\n",
              "      </button>\n",
              "      \n",
              "  <style>\n",
              "    .colab-df-container {\n",
              "      display:flex;\n",
              "      flex-wrap:wrap;\n",
              "      gap: 12px;\n",
              "    }\n",
              "\n",
              "    .colab-df-convert {\n",
              "      background-color: #E8F0FE;\n",
              "      border: none;\n",
              "      border-radius: 50%;\n",
              "      cursor: pointer;\n",
              "      display: none;\n",
              "      fill: #1967D2;\n",
              "      height: 32px;\n",
              "      padding: 0 0 0 0;\n",
              "      width: 32px;\n",
              "    }\n",
              "\n",
              "    .colab-df-convert:hover {\n",
              "      background-color: #E2EBFA;\n",
              "      box-shadow: 0px 1px 2px rgba(60, 64, 67, 0.3), 0px 1px 3px 1px rgba(60, 64, 67, 0.15);\n",
              "      fill: #174EA6;\n",
              "    }\n",
              "\n",
              "    [theme=dark] .colab-df-convert {\n",
              "      background-color: #3B4455;\n",
              "      fill: #D2E3FC;\n",
              "    }\n",
              "\n",
              "    [theme=dark] .colab-df-convert:hover {\n",
              "      background-color: #434B5C;\n",
              "      box-shadow: 0px 1px 3px 1px rgba(0, 0, 0, 0.15);\n",
              "      filter: drop-shadow(0px 1px 2px rgba(0, 0, 0, 0.3));\n",
              "      fill: #FFFFFF;\n",
              "    }\n",
              "  </style>\n",
              "\n",
              "      <script>\n",
              "        const buttonEl =\n",
              "          document.querySelector('#df-4188d687-ed0e-48a8-8e02-2b24b84e05d4 button.colab-df-convert');\n",
              "        buttonEl.style.display =\n",
              "          google.colab.kernel.accessAllowed ? 'block' : 'none';\n",
              "\n",
              "        async function convertToInteractive(key) {\n",
              "          const element = document.querySelector('#df-4188d687-ed0e-48a8-8e02-2b24b84e05d4');\n",
              "          const dataTable =\n",
              "            await google.colab.kernel.invokeFunction('convertToInteractive',\n",
              "                                                     [key], {});\n",
              "          if (!dataTable) return;\n",
              "\n",
              "          const docLinkHtml = 'Like what you see? Visit the ' +\n",
              "            '<a target=\"_blank\" href=https://colab.research.google.com/notebooks/data_table.ipynb>data table notebook</a>'\n",
              "            + ' to learn more about interactive tables.';\n",
              "          element.innerHTML = '';\n",
              "          dataTable['output_type'] = 'display_data';\n",
              "          await google.colab.output.renderOutput(dataTable, element);\n",
              "          const docLink = document.createElement('div');\n",
              "          docLink.innerHTML = docLinkHtml;\n",
              "          element.appendChild(docLink);\n",
              "        }\n",
              "      </script>\n",
              "    </div>\n",
              "  </div>\n",
              "  "
            ]
          },
          "metadata": {},
          "execution_count": 33
        }
      ]
    },
    {
      "cell_type": "markdown",
      "metadata": {
        "id": "BgRHovrDXRdu"
      },
      "source": [
        "##### OneHotEncoding\n",
        "\n",
        "Die Anwendung von Datentransformationen wie Skalierung oder Codierung kategorischer Variablen ist einfach, wenn alle Eingabevariablen vom gleichen Typ sind. Es kann eine Herausforderung sein, wenn man einen Datensatz mit gemischten Typen haben und man Datentransformationen selektiv auf einige, aber nicht alle Eingabefunktionen anwenden möchten.\n",
        "\n",
        "Dankenswerterweise stellt die Scikit-Learn-Bibliothek für maschinelles Lernen in Python den **ColumnTransformer** zur Verfügung, mit dem man Datentransformationen selektiv auf verschiedene Spalten in Ihrem Dataset anwenden können.\n"
      ]
    },
    {
      "cell_type": "code",
      "metadata": {
        "id": "3uF9_PVvWQm-"
      },
      "source": [
        "from sklearn.preprocessing import OneHotEncoder\n",
        "from sklearn.compose import ColumnTransformer\n",
        "# Nun bauen wir uns die benötigte Funktion zusammen wobei wir der Funktion die \n",
        "# Encoding Methode und die Spaltennummer mitgeben.\n",
        "ct = ColumnTransformer(transformers=[('encoder', OneHotEncoder(),[1])], remainder='passthrough')\n",
        "# Jetzt können wir die erstellte Funktion nutzen. Wichtig dabei ist, dass wir die Daten nach dem\n",
        "# Encoding wieder in die richtige Form bzw. einen Array bringen.\n",
        "X = np.array(ct.fit_transform(X))"
      ],
      "execution_count": 34,
      "outputs": []
    },
    {
      "cell_type": "markdown",
      "source": [
        "Nachfolgend noch ein kleines Beispiel, wenn es darum geht mehrere Spalten auf einmal zu HotEncoden:"
      ],
      "metadata": {
        "id": "6QX7zHzJo3yc"
      }
    },
    {
      "cell_type": "code",
      "source": [
        "# Nicht ausführen! Nur Beispiel\n",
        "from sklearn.compose import ColumnTransformer\n",
        "from sklearn.preprocessing import OneHotEncoder\n",
        "\n",
        "ct = ColumnTransformer(transformers=[('encoder', OneHotEncoder(categories='auto'),['Airline','AirportFrom','AirportTo'])], remainder='passthrough')\n",
        "X = ct.fit_transform(X).toarray()\n",
        "X.shape"
      ],
      "metadata": {
        "id": "mkTqsDsNo1gH"
      },
      "execution_count": null,
      "outputs": []
    },
    {
      "cell_type": "code",
      "metadata": {
        "id": "fnKwNVPKcA50"
      },
      "source": [
        "print(X)"
      ],
      "execution_count": null,
      "outputs": []
    },
    {
      "cell_type": "markdown",
      "metadata": {
        "id": "9-fzWIkJKSRp"
      },
      "source": [
        "#### Splitting des Datensatzes (Training/Testing)\n",
        "\n",
        "Ein Machine Learning-Modell wird trainiert, indem es auf einem Satz von Trainingsdaten trainiert wird. Nach dem Training wird das Modell anhand von Testdaten validiert, um zu überprüfen, ob es in der Lage ist, gute Vorhersagen auf neuen Daten zu treffen.\n",
        "\n",
        "Der Zweck der Aufteilung des Datensatzes in Trainings- und Testdaten besteht darin, das Modell auf einem Satz von Daten zu trainieren und dann auf einem anderen Satz von Daten zu testen, die es noch nie zuvor gesehen hat. Dies stellt sicher, dass das Modell nicht einfach die Trainingsdaten auswendig lernt, sondern tatsächlich in der Lage ist, das zugrunde liegende Muster der Daten zu erkennen und auf neuen Daten anzuwenden.\n",
        "\n",
        "Wenn wir den gesamten Datensatz zum Training verwenden, besteht die Gefahr, dass das Modell überangepasst wird, was bedeutet, dass es sich zu sehr an die Trainingsdaten anpasst und nicht gut auf neuen Daten funktioniert. Wenn wir jedoch nur einen kleinen Teil des Datensatzes zum Training verwenden, besteht das Risiko, dass das Modell nicht ausreichend trainiert wird und nicht in der Lage ist, das zugrunde liegende Muster der Daten zu erkennen.\n",
        "\n",
        "Die meist gängige Aufteilung eines Datensatzes ist 80/20. 80% Trainingsdaten und 20% Testdaten."
      ]
    },
    {
      "cell_type": "code",
      "metadata": {
        "id": "I6ms3BrOxbBo"
      },
      "source": [
        "from sklearn.model_selection import train_test_split\n",
        "X_train, X_test, y_train, y_test = train_test_split(X,y,test_size=0.2, random_state = 0)"
      ],
      "execution_count": 36,
      "outputs": []
    },
    {
      "cell_type": "markdown",
      "metadata": {
        "id": "RTjAkNEeKmnS"
      },
      "source": [
        "#### Feature Scaling\n",
        "\n",
        "Wen man ein KNN baut, dann ist das Scaling der Daten ein **MUSS**. Scaling ist im Zusammenhang mit DL so wichtig, dass wir jeweils alle Features, auch wenn sie nur Werte wie 0 oder 1 beinhalten skalieren. Kurz gesagt wir skalieren immer den ganzen Datensatz."
      ]
    },
    {
      "cell_type": "code",
      "metadata": {
        "id": "AlH9JEV11EUx"
      },
      "source": [
        "from sklearn.preprocessing import StandardScaler\n",
        "sc = StandardScaler()\n",
        "X_train = sc.fit_transform(X_train)\n",
        "X_test = sc.transform(X_test)"
      ],
      "execution_count": 37,
      "outputs": []
    },
    {
      "cell_type": "code",
      "metadata": {
        "id": "_6JoNPSljQ0e"
      },
      "source": [
        "print(X_train)"
      ],
      "execution_count": null,
      "outputs": []
    },
    {
      "cell_type": "code",
      "metadata": {
        "id": "KFXDsqqojZoh"
      },
      "source": [
        "print(X_test)"
      ],
      "execution_count": null,
      "outputs": []
    },
    {
      "cell_type": "markdown",
      "metadata": {
        "id": "Q9Jgswm_K9ED"
      },
      "source": [
        "#### Teil 2 - Aufbau des KNN\n",
        "\n",
        "Kommen wir nun zum Aufbau unseres Fully connected neuronal networks. Wir werden das KNN mittels [TensorFlow](https://de.wikipedia.org/wiki/TensorFlow#2.0:_TensorFlow_2.0) bauen. Wobei wir strenggenommen das im TF 2.0 integierten Deep-Learning-Bibliothek [Keras](https://de.wikipedia.org/wiki/Keras) verwenden.\n",
        "\n",
        "Um es vielleicht etwas bildlich darzustellen ... wir bauen uns im Teil 2 das eigentliche Hirn unseres KNNs.\n",
        "\n",
        "<img src='https://qtxasset.com/cdn-cgi/image/w=850,h=478,f=auto,fit=crop,g=0.5x0.5/https://qtxasset.com/quartz/qcloud4/media/image/fierceelectronics/1604414450/GettyImages-1196084872.jpg/GettyImages-1196084872.jpg?VersionId=0ARs9GIZGJWK.2GfYAJcpglodGfBduYI' width=400>"
      ]
    },
    {
      "cell_type": "markdown",
      "metadata": {
        "id": "HtP4ouT1kkPl"
      },
      "source": [
        "#### KNN Initialisierung \n",
        "\n",
        "Der Aufbau eines KNN ist nichts anderes als die Aneinanderreihung (Sequenzierung) von Layers (Schichten). Wir müssen deshalb zuerst einmal das Rahmenkonstrukt unseres KNNs bauen und teilen diesem Konstrukt mit, dass es alles was wir darin einbauen sequenziell abarbeiten soll. "
      ]
    },
    {
      "cell_type": "code",
      "metadata": {
        "id": "g4hI7yCflQWe"
      },
      "source": [
        "knnk = tf.keras.models.Sequential()"
      ],
      "execution_count": 40,
      "outputs": []
    },
    {
      "cell_type": "markdown",
      "metadata": {
        "id": "bzr6xtYlkxMq"
      },
      "source": [
        "##### Hinzufügen des Input Layers und ersten Hidden Layers\n",
        "\n",
        "Nachfolgend bauen wir nun den ersten Hidden Layer. Den Input Layer müssen wir nicht explizit definieren, da dieser ja aus der Anzahl Features besteht, welche wir ins KNN einspeisen. \n",
        "\n",
        "Da wir das einfachste Basic KNN (FKNN) bauen benötigen wir lediglich die Keras- Klasse Dense. Dense (dt. dicht) definiert nichts anderes als, dass jede Unit mit jeder Unit in der nächsten Schicht verbunden ist (Fully connected).\n",
        "\n",
        "Ein wichtig Fragen im Zusammenhang mit dem Hidden Layers ist immer die Anzahl Units (Neuronen) die man in diesem Layer definiert. Um es kurz zu halten ... es gibt hier keine wirklich Richtwert ... hier gilt einfach Try and Error :-)"
      ]
    },
    {
      "cell_type": "code",
      "metadata": {
        "id": "nLmhZ16ypfeX"
      },
      "source": [
        "# Unser Hidden Layer wird mit 6 Units definiert und die Aktivierungsfunktion wird \n",
        "# mit der ReLu Funktion gemacht. \n",
        "knnk.add(tf.keras.layers.Dense(units=6, activation='relu'))"
      ],
      "execution_count": 41,
      "outputs": []
    },
    {
      "cell_type": "markdown",
      "metadata": {
        "id": "D0KBctYzk_YM"
      },
      "source": [
        "#### Hinzufügen des zweiten Hidden Layers\n",
        "\n",
        "Den zweiten Hidden Layer hinzuzufügen ist sehr einfach. Einfach die vorhergehende Codezeile kopieren :-). Es steht aber jedem frei in der zweiten Schicht die Anzahl der Units zu erhöhen. Dies kann aber während des Trainings immer noch gemacht werden, um eine verbesserte Performance zu erreichen."
      ]
    },
    {
      "cell_type": "code",
      "metadata": {
        "id": "XWdJFjjCrt25"
      },
      "source": [
        "knnk.add(tf.keras.layers.Dense(units=6, activation='relu'))"
      ],
      "execution_count": 42,
      "outputs": []
    },
    {
      "cell_type": "markdown",
      "metadata": {
        "id": "FEeUA2EOlI9T"
      },
      "source": [
        "##### Hinzufügen des Output Layers\n",
        "\n",
        "Nun fügen wir noch einen Output Layer hinzu. Auch hier können wir natürlich die Codezeile von oben kopieren, müssen aber zwei Parameter anpassen.\n",
        "\n",
        "Die Anzahl der Units im Output Layer hängen davon ab, wieviele mögliche Werte wir predicten können. Bei diesem Datensatz haben wir es mit einem binären Resultat d.h. 0 oder 1 zu tun. Weshalb wir im Output also nur eine Unit definieren. Würden wir einen Klassifikator bauen mit welche wir handgeschiebene Zahlen von 0 - 9 erkennen wollten, dann würden wir also 10 Units (Pro Zahl eine Unit) definieren. \n",
        "\n",
        "Wir müssen auch noch die Aktivierungsfunktion im Output Layer ändern und zwar auf Sigmoid, Softmax, tanh usw. Der Grund ist ganz einfach. Das Ziel unseres KNNs ist es, die Wahscheinlichkeit (Probability) zu berechnen, mit der wir bei einem Kunden mit einer Abwanderung zu rechnen haben. Die Wahrscheinlichkeit kann uns eine Funktion wie ReLu nicht geben, da diese Funktion nur 0 oder nicht 0 kennt. \n"
      ]
    },
    {
      "cell_type": "code",
      "metadata": {
        "id": "_Wfd1p1Ivegk"
      },
      "source": [
        "knnk.add(tf.keras.layers.Dense(units=1, activation='sigmoid'))"
      ],
      "execution_count": 43,
      "outputs": []
    },
    {
      "cell_type": "markdown",
      "metadata": {
        "id": "EJmuZXfNLHRr"
      },
      "source": [
        "#### Teil 3 - Training des KNN"
      ]
    },
    {
      "cell_type": "markdown",
      "metadata": {
        "id": "VIEf4j4d4kBB"
      },
      "source": [
        "##### Kompilierung des KNN\n",
        "\n",
        "Nachdem wir nun sozusagen das Hirn (KNN) gebaut haben, müssen wir noch definieren wie es funktionieren soll. Für ein funktionierendes KNN müssen wir noch folgenden Funktionen definieren:\n",
        "\n",
        "**Optimizer** \n",
        "\n",
        "Damit die gewichteten Verbindungen im KNN optimiert werden, benötigen wir ein Gradient descent Verfahren. Wie wir ja mittlerweilen Wissen, eigenet sich ein stochastischen Gradientverfahren am Besten um nicht nur ein lokales Minimum sondern das globale Minimum herauszufinden. Eines der bekanntesten SGD-Verfahren ist der Adam Optimisierungsalgoritmus. Mehr dazu unter dem folgenden [Link](https://machinelearningmastery.com/adam-optimization-algorithm-for-deep-learning/). Es gibt aber noch eine Vielzahl weiterer Opimizer im Keras ([Link](https://keras.io/api/optimizers/))\n",
        "\n",
        "**Cost-Function**\n",
        "\n",
        "Mittels der Cost function (auch Loss function) genannt wird die Fehlerrate des Outputs ermittelt. Auf Basis des ermittelten Fehlers wird das KNN mittels Optimizer optimiert. Je nach dem welche Art von Problem man mit dem KNN lösen möchte wird eine andere Cost function verwendet. Nachfolgend eine Auflistung der im Keras verfügbaren Loss Functions:\n",
        "\n",
        "* **Regressions**\n",
        "  * Mean Squared Error Loss\n",
        "  * Mean Squared Logarithmic Error Loss\n",
        "  * Mean Absolute Error Loss\n",
        "* **Binary Classification**\n",
        "  * Binary Cross-Entropy\n",
        "  * Hinge Loss\n",
        "  * Squared Hinge Loss\n",
        "* **Multi-Class Classification**\n",
        "  * Multi-Class Cross-Entropy Loss\n",
        "  * Sparse Multiclass Cross-Entropy Loss\n",
        "  * Kullback Leibler Divergence Loss\n",
        "\n",
        "Da wir in unserem Beispiel eine binäre Klassifikation durchführen können wir unter drei verschiedenen Loss functions auswählen. Mehr darüber auf diesem [Link](https://machinelearningmastery.com/how-to-choose-loss-functions-when-training-deep-learning-neural-networks/).\n",
        "\n",
        "**Metriken**\n",
        "\n",
        "Um die Performance der KNN zu messen, bedienen wir uns verschiedener Metriken.\n",
        "Die verwendete Metrik ist ebenfalls davon abhängig, welches Problem wir mittels DL lösen wollen. Nachfolgend eine Auflistung der im Keras verfügbaren Metriken:\n",
        "\n",
        "* **Regression**\n",
        "  * Mean Squared Error: mean_squared_error, MSE or mse\n",
        "  * Mean Absolute Error: mean_absolute_error, MAE, mae\n",
        "  * Mean Absolute Percentage Error: mean_absolute_percentage_error, MAPE, mape\n",
        "  * Cosine Proximity: cosine_proximity, cosine\n",
        "* **Classification**\n",
        "  * Binary Accuracy: binary_accuracy, acc\n",
        "  * Categorical Accuracy: categorical_accuracy, acc\n",
        "  * Sparse Categorical Accuracy: sparse_categorical_accuracy\n",
        "  * Top k Categorical Accuracy: top_k_categorical_accuracy (requires you specify a k parameter)\n",
        "  * Sparse Top k Categorical Accuracy: sparse_top_k_categorical_accuracy (requires you specify a k parameter\n",
        "\n",
        "Mehr darüber auf diesem [Link](https://machinelearningmastery.com/custom-metrics-deep-learning-keras-python/)"
      ]
    },
    {
      "cell_type": "code",
      "metadata": {
        "id": "HDnSuCLS4s_-"
      },
      "source": [
        "knnk.compile(optimizer= 'adam', loss= 'binary_crossentropy', metrics=['accuracy'])"
      ],
      "execution_count": 44,
      "outputs": []
    },
    {
      "cell_type": "markdown",
      "metadata": {
        "id": "4ZNdu51445FR"
      },
      "source": [
        "##### Training mit dem Trainingset\n",
        "\n",
        "Kommen wir nun eigentlichen Training des KNNs. Hier für benötigen wir neben der Fit-Funktion und den Trainingsdaten auch noch die Hyperparameter **Batch Size** und **Epoch**.\n",
        "\n",
        "In Machine Learning ist der Begriff \"Batch\" eine Gruppe von Trainingsbeispielen, die gleichzeitig durch ein neuronales Netzwerk propagiert werden, um die Gewichte des Netzes zu aktualisieren. Die Batch-Größe gibt an, wie viele Trainingsbeispiele gleichzeitig durch das Netzwerk propagiert werden.\n",
        "\n",
        "Die Anzahl der Batches, die benötigt werden, um den gesamten Trainingsdatensatz einmal durch das Netzwerk zu propagieren, wird als \"Epoch\" bezeichnet. Wenn der Trainingsdatensatz beispielsweise 1000 Beispiele enthält und die Batch-Größe 100 beträgt, werden 10 Batches benötigt, um den gesamten Datensatz einmal durch das Netzwerk zu propagieren. Wenn das Netzwerk während des Trainings mehrmals durch den gesamten Datensatz propagiert wird, sprechen wir von mehreren Epochen.\n",
        "\n",
        "Der Unterschied zwischen Batch-Größe und Epoch kann wie folgt zusammengefasst werden:\n",
        "\n",
        "Batch-Größe: Die Anzahl von Trainingsbeispielen, die gleichzeitig durch das Netzwerk propagiert werden.\n",
        "Epoch: Die Anzahl von Batches, die benötigt werden, um den gesamten Trainingsdatensatz einmal durch das Netzwerk zu propagieren.\n",
        "Eine größere Batch-Größe bedeutet normalerweise eine schnellere Berechnung von Gradienten und ein stabileres Lernverhalten des Netzwerks, aber auch eine höhere Speicherauslastung. Eine größere Anzahl von Epochen bedeutet normalerweise, dass das Netzwerk länger trainiert wird und möglicherweise eine höhere Genauigkeit erzielt, aber auch eine längere Trainingszeit und ein höheres Risiko einer Überanpassung haben kann. Die Wahl der optimalen Batch-Größe und Epochen hängt von der Größe des Datensatzes, der Komplexität des Netzwerks und anderen Faktoren ab, und erfordert oft experimentelle Iterationen und Anpassungen.\n"
      ]
    },
    {
      "cell_type": "code",
      "metadata": {
        "id": "an2qoiUrSMqB"
      },
      "source": [
        "# Wir definieren hier eine Batch-Grösse von 32 Samples über 100 Epochen.\n",
        "# Das bedeutet, dass auf 8000 Samples (Zeilen) 250 Batches kommen welche bei jeder\n",
        "# Epoche durch das KNN geschleust werden. Während des ganzen Training wird das KNN somit\n",
        "# 250 Mal aktualisiert und es laufen 25000 Batches durch das KNN durchlaufen.\n",
        "knnk.fit(X_train, y_train, batch_size= 32, epochs = 100)"
      ],
      "execution_count": null,
      "outputs": []
    },
    {
      "cell_type": "markdown",
      "metadata": {
        "id": "MHnGI-fZLS8P"
      },
      "source": [
        "#### Teil 4 - Durchführung der Prediction und evaluieren des Modells"
      ]
    },
    {
      "cell_type": "markdown",
      "metadata": {
        "id": "0JULHWzXeqm6"
      },
      "source": [
        "#### Vorhersagen eines Resultats einer einzelnen Beobachtung\n",
        "\n",
        "Anschliessend wollen wir mittels den folgenden Informationen eine Vorhersage tätigten, ob diese Kunde ebenfalls von der Bank abwandern wird.\n",
        "\n",
        "Geography: France\n",
        "\n",
        "Credit Score: 600\n",
        "\n",
        "Gender: Male\n",
        "\n",
        "Age: 40 years old\n",
        "\n",
        "Tenure: 3 years\n",
        "\n",
        "Balance: \\$ 60000\n",
        "\n",
        "Number of Products: 2\n",
        "\n",
        "Does this customer have a credit card ? Yes\n",
        "\n",
        "Is this customer an Active Member: Yes\n",
        "\n",
        "Estimated Salary: \\$ 50000\n",
        "\n",
        "Wichtig bei der Prediction eines einzelnen Resultats ist,\n",
        "\n",
        "1. Die Werte müssen in eine doppelten eckigen Klammer [[]] stehen, da wir die Daten in einem 2D Array ins KNN einfliessen lassen.\n",
        "2. Die Werte der Feartures, welche encodet wurden müssen auch in dieser Form eingegeben werden. Bspw. France hat codiert den Wert 1,0,0 \n",
        "3. Die Werte müssen mit der gleichen Skalierung transformiert werden wie die Wert im Trainings und Testdatensatz."
      ]
    },
    {
      "cell_type": "code",
      "metadata": {
        "id": "aGX61KuPf13X",
        "colab": {
          "base_uri": "https://localhost:8080/"
        },
        "outputId": "5bdbcb44-935b-455e-b264-b6c037c9fc44"
      },
      "source": [
        "print('Die Wahrscheinlichkeit, dass der Kunde die Bank verlassen wird liegt bei:', knnk.predict(sc.transform([[1,0,0, 600, 1, 40, 3, 60000, 2, 1, 1, 50000]])))\n",
        "\n",
        "# Nachfolgend werden wir den Wert in eine True oder False umwandeln. Hier können wir den Wert > 0.5\n",
        "# definieren. Ist also der vorhergesagte Wert grösser als 0.5 (50%) besteht eine höhere Wahrscheinlichkeit\n",
        "# dass der Kunde bleiben wird. Wünscht das Management eine genauere Analyse kann der Wert auch erhöht werden.\n",
        "if (knnk.predict(sc.transform([[1,0,0, 600, 1, 40, 3, 60000, 2, 1, 1, 50000]])) > 0.5) == False:\n",
        "  print ('Der Kunde wir die Bank nicht verlassen')\n",
        "else:\n",
        "  print ('Der Kunde wird die Bank verlassen')"
      ],
      "execution_count": 46,
      "outputs": [
        {
          "output_type": "stream",
          "name": "stdout",
          "text": [
            "1/1 [==============================] - 0s 122ms/step\n",
            "Die Wahrscheinlichkeit, dass der Kunde die Bank verlassen wird liegt bei: [[0.03378231]]\n",
            "1/1 [==============================] - 0s 27ms/step\n",
            "Der Kunde wir die Bank nicht verlassen\n"
          ]
        }
      ]
    },
    {
      "cell_type": "markdown",
      "metadata": {
        "id": "4peSlDduo5MD"
      },
      "source": [
        "#### Vorhersage der Testdatenresultate\n",
        "\n",
        "Nun wollen wir mal schauen wie gut das Modell auf dem Testdatensatz funktioniert"
      ]
    },
    {
      "cell_type": "code",
      "metadata": {
        "id": "tL5gsY98idBD"
      },
      "source": [
        "y_pred = knnk.predict(X_test)\n",
        "y_pred = (y_pred > 0.5)\n",
        "print(np.concatenate((y_pred.reshape(len(y_pred),1),y_test.reshape(len(y_test),1)),1))"
      ],
      "execution_count": null,
      "outputs": []
    },
    {
      "cell_type": "code",
      "metadata": {
        "id": "yjg5Lwf2qX4t",
        "colab": {
          "base_uri": "https://localhost:8080/"
        },
        "outputId": "98de0d5e-842c-4963-ad82-bfe97313a266"
      },
      "source": [
        "from sklearn.metrics import confusion_matrix, accuracy_score\n",
        "cm = confusion_matrix(y_pred, y_test)\n",
        "print('True Positiv, heisst:',cm[0][0],'Kunden werden gemäss Vorhersage bleiben und sind in Wirklickeit auch geblieben.')\n",
        "print('True Negativ, heisst:',cm[1][1],'Kunden werden gemäss Vorhersage gehen und sind in Wirklichkeit auch gegangen.')\n",
        "print('False Negativ, heisst:',cm[0][1],'Kunden werden gemäss Vorhersage gehen, sind in Wirklichkeit aber geblieben.')\n",
        "print('False Positiv, heisst:',cm[1][0],'Kunden werden gemäss Vorhersage bleiben, sind in Wirklichkeit aber gegangen.')\n",
        "print()\n",
        "print('Das Modell machte in',accuracy_score(y_pred, y_test)*100,'Prozent der Fälle eine korrekte Vorhersagen d.h. bei 86 von 100 Kunden stimmte die Vorhersage.')"
      ],
      "execution_count": 48,
      "outputs": [
        {
          "output_type": "stream",
          "name": "stdout",
          "text": [
            "True Positiv, heisst: 1510 Kunden werden gemäss Vorhersage bleiben und sind in Wirklickeit auch geblieben.\n",
            "True Negativ, heisst: 217 Kunden werden gemäss Vorhersage gehen und sind in Wirklichkeit auch gegangen.\n",
            "False Negativ, heisst: 188 Kunden werden gemäss Vorhersage gehen, sind in Wirklichkeit aber geblieben.\n",
            "False Positiv, heisst: 85 Kunden werden gemäss Vorhersage bleiben, sind in Wirklichkeit aber gegangen.\n",
            "\n",
            "Das Modell machte in 86.35000000000001 Prozent der Fälle eine korrekte Vorhersagen d.h. bei 86 von 100 Kunden stimmte die Vorhersage.\n"
          ]
        }
      ]
    },
    {
      "cell_type": "markdown",
      "metadata": {
        "id": "yO0-lJBK79y_"
      },
      "source": [
        "### Fully Connected Neural Network (FCNN) - Regression\n",
        "\n",
        "Nachfolgend werden wir noch ein Beispiel eines KNN für ein Regressionsprobleme erstelle. Es werden nicht mehr so detailierte Erklärungen wie beim vorherigen Beispiel folgen, da einiges gleich bleibt."
      ]
    },
    {
      "cell_type": "markdown",
      "metadata": {
        "id": "P1aC35WADci2"
      },
      "source": [
        "#### Ausgangslage\n",
        "\n",
        "Für dieses Beispiel werden wir einen Datensatz aus dem [UCI Machine Learning Repository](https://archive.ics.uci.edu/ml/datasets.php?format=&task=reg&att=&area=&numAtt=&numIns=&type=&sort=nameUp&view=table) nehmen. Der Datensatz  beinhaltet Daten eines [Gas-und Dampf-Kombikraftwerks](https://de.wikipedia.org/wiki/Gas-und-Dampf-Kombikraftwerk) (engl. Combined Cycle Power Plant).\n",
        "\n",
        "<img src='https://upload.wikimedia.org/wikipedia/commons/thumb/e/ef/ISK_Knapsack_GuD_2007.jpg/1920px-ISK_Knapsack_GuD_2007.jpg' width=500>\n",
        "\n",
        "1.Bild: Gas- und Dampf-Kraftwerk Knapsack des Unternehmens Statkraft mit zwei Gasturbinen\n",
        "\n",
        "\n",
        "\n",
        "##### **Beschreibung des Datensatzes**\n",
        "\n",
        "Der [Datensatz](https://archive.ics.uci.edu/ml/datasets/Combined+Cycle+Power+Plant) beinhaltet 9568 Datenpunkte (Zeilen) welche über eine Zeitraum von 6 Jahren (2006-2011) gesammelt wurden. Der Datensatz verfügt über vier unabhängige Variablen und einer abhängigen Variable (Label).\n",
        "Die Merkmale bestehen aus stündlich gemittelten Umgebungsvariablen\n",
        "* Temperatur (T) im Bereich von 1,81°C und 37,11°C,\n",
        "* Umgebungsdruck (AP) im Bereich von 992,89-1033,30 milibar,\n",
        "* Relative Luftfeuchtigkeit (RH) im Bereich von 25,56% bis 100,16%\n",
        "* Auslass-Unterdruck (V) im Bereich 25,36-81,56 cm Hg (Zentimeter Quecksilbersäule)\n",
        "\n",
        "Das Label besteht aus der Netto-Stundenleistung an elektrischer Energie (EP) 420,26-495,76 MegaWatt (MW).\n",
        "\n",
        "Die Mittelwerte werden von verschiedenen Sensoren genommen, die sich um die Anlage herum befinden und die Umgebungsvariablen jede Sekunde aufzeichnen. Die Variablen werden ohne Normalisierung angegeben.\n",
        "\n",
        "Ein Kombikraftwerk (CCPP) besteht aus Gasturbinen (GT), Dampfturbinen (ST) und Dampferzeugern mit Wärmerückgewinnung. In einem GuD-Kraftwerk wird der Strom durch Gas- und Dampfturbinen erzeugt, die in einem Zyklus kombiniert und von einer Turbine auf eine andere übertragen werden. Während das Vakuum von der Dampfturbine gesammelt wird und sich auf die Dampfturbine auswirkt, beeinflussen die anderen drei Umgebungsvariablen die Leistung der GT.\n",
        "\n",
        "<img src='https://upload.wikimedia.org/wikipedia/commons/thumb/4/40/Prinzip_Gas-und-Dampf-Kombikraftwerk.svg/1920px-Prinzip_Gas-und-Dampf-Kombikraftwerk.svg.png' width=500>\n",
        "\n",
        "2.Bild: Funktionsweise eines GuD-Kraftwerks\n",
        "\n",
        "##### **Ziel**\n",
        "\n",
        "Es soll mittels Regression der stündliche Netto-Stundenertrag an elektrischer Energie (EP) welches das Kraftwerks erzeugt vorhergesagt werden.\n",
        "\n",
        "\n",
        "\n",
        "\n",
        "\n",
        "\n"
      ]
    },
    {
      "cell_type": "markdown",
      "metadata": {
        "id": "tHLB_-8oVr2N"
      },
      "source": [
        "#### Teil 1 - Datenaufbereitung (Data Preprocessing)"
      ]
    },
    {
      "cell_type": "markdown",
      "metadata": {
        "id": "gocbCIizJjnv"
      },
      "source": [
        "##### Datenimport"
      ]
    },
    {
      "cell_type": "code",
      "metadata": {
        "id": "HKXzepZoWNb4"
      },
      "source": [
        "import pandas as pd\n",
        "import numpy as np\n",
        "import tensorflow as tf"
      ],
      "execution_count": null,
      "outputs": []
    },
    {
      "cell_type": "code",
      "metadata": {
        "id": "ABML0Cs1KVcB",
        "outputId": "c2518312-90d2-46ec-fcd3-15bc593fbe2d"
      },
      "source": [
        "tf.__version__"
      ],
      "execution_count": null,
      "outputs": [
        {
          "output_type": "execute_result",
          "data": {
            "text/plain": [
              "'2.3.0'"
            ]
          },
          "metadata": {
            "tags": []
          },
          "execution_count": 2
        }
      ]
    },
    {
      "cell_type": "code",
      "metadata": {
        "id": "CSG9FAuSWXuE"
      },
      "source": [
        "datloc = 'https://raw.githubusercontent.com/sakuronohana/my_datascience/master/udemy/mlaz/Part%208%20-%20Deep%20Learning/Section%2039%20-%20Artificial%20Neural%20Networks%20(ANN)/Python/CCPP_Data_Set.xlsx'\n",
        "dataset = pd.read_excel(datloc)\n",
        "\n",
        "X = dataset.iloc[:,:-1].values\n",
        "y = dataset.iloc[:,-1].values"
      ],
      "execution_count": null,
      "outputs": []
    },
    {
      "cell_type": "markdown",
      "metadata": {
        "id": "VPrwArjPJnPG"
      },
      "source": [
        "##### Datensatz in Trainings- und Testdaten aufteilen"
      ]
    },
    {
      "cell_type": "code",
      "metadata": {
        "id": "tl6R_kG0J2DX",
        "outputId": "bf8f57fd-110f-400d-ccf6-b5cc4bec72d0"
      },
      "source": [
        "from sklearn.model_selection import train_test_split\n",
        "\n",
        "X_train, X_test, y_train,y_test = train_test_split(X,y,test_size=0.2, random_state=0)\n",
        "\n",
        "print('In unserem Trainingsdatenset befinden sich',X_train.shape[0],'Zeilen.')\n",
        "print('Im Testdatenset befinden sich',X_test.shape[0],'Zeilen')"
      ],
      "execution_count": null,
      "outputs": [
        {
          "output_type": "stream",
          "text": [
            "In unserem Trainingsdatenset befinden sich 7654 Zeilen.\n",
            "Im Testdatenset befinden sich 1914 Zeilen\n"
          ],
          "name": "stdout"
        }
      ]
    },
    {
      "cell_type": "markdown",
      "metadata": {
        "id": "o05cyLEbhL_y"
      },
      "source": [
        "#### Skalierung der Daten"
      ]
    },
    {
      "cell_type": "code",
      "metadata": {
        "id": "QY_eYeNBhSFZ"
      },
      "source": [
        "from sklearn.preprocessing import StandardScaler\n",
        "\n",
        "sc = StandardScaler()\n",
        "X_train = sc.fit_transform(X_train)\n",
        "X_test = sc.transform(X_test)"
      ],
      "execution_count": null,
      "outputs": []
    },
    {
      "cell_type": "markdown",
      "metadata": {
        "id": "0VdjISgghI73"
      },
      "source": [
        "#### Teil 2 - Aufbau des KNN"
      ]
    },
    {
      "cell_type": "markdown",
      "metadata": {
        "id": "ai7HAznEjklk"
      },
      "source": [
        "##### Initialisierung des KNN"
      ]
    },
    {
      "cell_type": "code",
      "metadata": {
        "id": "fC1OjIcihwIy"
      },
      "source": [
        "knnr = tf.keras.Sequential()"
      ],
      "execution_count": null,
      "outputs": []
    },
    {
      "cell_type": "markdown",
      "metadata": {
        "id": "_YZPcX5ajrLp"
      },
      "source": [
        "##### Hinzufügen des Input Layers und des ersten Hidden Layers"
      ]
    },
    {
      "cell_type": "code",
      "metadata": {
        "id": "7sBT2599ky3t"
      },
      "source": [
        "knnr.add(tf.keras.layers.Dense(units=6, activation='relu'))"
      ],
      "execution_count": null,
      "outputs": []
    },
    {
      "cell_type": "markdown",
      "metadata": {
        "id": "0bYLmM1Tj3zT"
      },
      "source": [
        "##### Hinzufügen des zweiten Hidden Layers"
      ]
    },
    {
      "cell_type": "code",
      "metadata": {
        "id": "97ZlrMTvlvvN"
      },
      "source": [
        "knnr.add(tf.keras.layers.Dense(units=6, activation='relu'))"
      ],
      "execution_count": null,
      "outputs": []
    },
    {
      "cell_type": "markdown",
      "metadata": {
        "id": "1YqxCrHFletX"
      },
      "source": [
        "##### Hinzufügen des Output Layer\n",
        "\n",
        "Im Gegensatz zu KNN für Klassifikation müssen wir bei der Regression keine Aktivierungsfunktion hinzufügen (Default activation = none), da wir ja den eigentlichen Wert möchten."
      ]
    },
    {
      "cell_type": "code",
      "metadata": {
        "id": "WLIkYQROlyfN"
      },
      "source": [
        "knnr.add(tf.keras.layers.Dense(units=1))"
      ],
      "execution_count": null,
      "outputs": []
    },
    {
      "cell_type": "markdown",
      "metadata": {
        "id": "CxZUVdsXjNcb"
      },
      "source": [
        "#### Teil 3 - Training des KNN"
      ]
    },
    {
      "cell_type": "markdown",
      "metadata": {
        "id": "NHDJ2tQqoF6e"
      },
      "source": [
        "#### Kompilierung des KNN\n",
        "\n",
        "Hier kommt noch eine Unterschied gegenüber einem KNN für Klassifikation. Die Cost function ist bei Regression natürlich die mittlere quadratische Abweichunng (Mean squared error)."
      ]
    },
    {
      "cell_type": "code",
      "metadata": {
        "id": "aU7qwzXkn83v"
      },
      "source": [
        "knnr.compile(optimizer='adam', loss='mean_squared_error')"
      ],
      "execution_count": null,
      "outputs": []
    },
    {
      "cell_type": "markdown",
      "metadata": {
        "id": "lYMlsWtrpaCn"
      },
      "source": [
        "#### Training des KNN"
      ]
    },
    {
      "cell_type": "code",
      "metadata": {
        "id": "5ajLY0EmpfG4"
      },
      "source": [
        "knnr.fit(X_train, y_train, batch_size=32, epochs=100)"
      ],
      "execution_count": null,
      "outputs": []
    },
    {
      "cell_type": "markdown",
      "metadata": {
        "id": "yrHNTLRLjO88"
      },
      "source": [
        "#### Teil 4 - Durchführung der Prediction und evaluieren des Modells"
      ]
    },
    {
      "cell_type": "code",
      "metadata": {
        "id": "RWJRIgL1rq9K",
        "outputId": "0298bbdb-8e8f-4bc0-f717-26c5919680c8"
      },
      "source": [
        "y_pred = knnr.predict(X_test)\n",
        "np.set_printoptions(precision=2)\n",
        "\n",
        "print(np.concatenate((y_pred.reshape(len(y_pred),1),y_test.reshape(len(y_test),1)),1))"
      ],
      "execution_count": null,
      "outputs": [
        {
          "output_type": "stream",
          "text": [
            "[[432.4  431.23]\n",
            " [457.71 460.01]\n",
            " [461.35 461.14]\n",
            " ...\n",
            " [468.24 473.26]\n",
            " [442.72 438.  ]\n",
            " [461.18 463.28]]\n"
          ],
          "name": "stdout"
        }
      ]
    },
    {
      "cell_type": "code",
      "metadata": {
        "id": "EF7_tN87uBgx",
        "outputId": "df6e8110-3fe6-44d1-e21b-17fedbb25a43"
      },
      "source": [
        "from sklearn.metrics import r2_score\n",
        "score = r2_score(y_test,y_pred, multioutput='variance_weighted')\n",
        "print('Der r2 Score ohne Skalierung ist 0.9159165151046462')\n",
        "print('Der r2 Score mit Skalierung ist',score)"
      ],
      "execution_count": null,
      "outputs": [
        {
          "output_type": "stream",
          "text": [
            "Der r2 Score ohne Skalierung ist 0.9159165151046462\n",
            "Der r2 Score mit Skalierung ist 0.9320946784214379\n"
          ],
          "name": "stdout"
        }
      ]
    },
    {
      "cell_type": "markdown",
      "metadata": {
        "id": "dX-ICYbywWLH"
      },
      "source": [
        "Wir sehen mittels des Bestimmtheitsmaß (r2 Scores), dass das Resultat mit Skalierung der Daten um 0.02 Prozent besser ausfällt als ohne Skalierung. Es lohnt sich also in einen KNN die Daten zu skalieren."
      ]
    },
    {
      "cell_type": "markdown",
      "metadata": {
        "id": "Qq9MIqn4Rlnn"
      },
      "source": [
        "### Convolutional Neural Networks (CNN)\n",
        "\n",
        "Quelle: [Wikipedia](https://de.wikipedia.org/wiki/Convolutional_Neural_Network)\n",
        "\n",
        "Ein Convolutional Neural Network (CNN oder ConvNet), zu Deutsch \"faltendes neuronales Netzwerk“, ist ein künstliches neuronales Netz. Es handelt sich um ein von biologischen Prozessen inspiriertes Konzept im Bereich des maschinellen Lernens[1]. Convolutional Neural Networks finden Anwendung in zahlreichen Technologien der künstlichen Intelligenz, vornehmlich bei der maschinellen Verarbeitung von Bild- oder Audiodaten.\n",
        "\n",
        "Grundsätzlich besteht die Struktur eines klassischen Convolutional Neural Networks aus einem oder mehreren **Convolutional Layer**, gefolgt von einem **Pooling Layer**. Diese Einheit kann sich prinzipiell beliebig oft wiederholen, bei ausreichend Wiederholungen spricht man dann von Deep Convolutional Neural Networks, die in den Bereich Deep Learning fallen. Nach den genannten Layers folgt ein **Flattening** und danach werden die Resultate aus dem Conv-Net in ein **Fully-Connected Neural Network** übertragen in welchem die eigentliche Klassifkation stattfindet.\n",
        "\n",
        "<img src='https://miro.medium.com/max/758/1*-Bo5d1RCDWu9MeHluC5hfw.png' \n",
        "width=600>\n",
        "\n",
        "Die Daten durchlaufen das CNN in folgenden Schritten:\n",
        "\n",
        "<img src='https://miro.medium.com/max/411/1*XFLitGL4Q54PjXqx2pFztg.png' width=200>\n",
        "\n",
        "Innerhalb der Conv- und Polling-Layer besteht ein **Feature Detector** (auch Kernel oder Filter genannt) der Schrittweise durch die Matrix ders Input Images schreitet und seine Resultate in eine sogenannte **Feature Map** schreibt. \n",
        "\n",
        "<img src='https://github.com/sakuronohana/my_datascience/blob/master/udemy/mlaz/Part%208%20-%20Deep%20Learning/CNN_function_1.jpg?raw=true' width=500>\n",
        "\n",
        "Wichtig ist hierbei noch zu erwähnen, dass es noch einen **ReLu Layer** gibt.\n",
        "ReLU wird mit einer elementweise Operation (pro Pixel angewendet) und ersetzt alle negativen Pixelwerte in der Feature Map durch Null. Der Zweck von ReLU besteht darin, Nichtlinearität in unser ConvNet einzuführen, da die meisten Daten der realen Welt, die unser ConvNet lernen soll, nichtlinear sind (Faltung ist eine lineare Operation - elementweise Matrixmultiplikation und -addition, so dass wir die Nichtlinearität durch Einführung einer nichtlinearen Funktion wie ReLU berücksichtigen).\n",
        "\n",
        "**Pooling**\n",
        "\n",
        "Im folgenden Schritt, dem Pooling, werden überflüssige Informationen verworfen. Zur Objekterkennung in Bildern etwa ist die exakte Position einer Kante im Bild von vernachlässigbarem Interesse – die ungefähre Lokalisierung eines Features ist hinreichend. Es gibt verschiedene Arten des Poolings. Mit Abstand am stärksten verbreitet ist das Max-Pooling, wobei aus jedem 2 × 2 Quadrat aus Neuronen des Convolutional Layers nur die Aktivität des aktivsten (daher \"Max\") Neurons für die weiteren Berechnungsschritte beibehalten wird; die Aktivität der übrigen Neuronen wird verworfen. Trotz der Datenreduktion (im Beispiel 75 %) verringert sich in der Regel die Performance des Netzwerks nicht durch das Pooling. Im Gegenteil, es bietet einige signifikante Vorteile:\n",
        "\n",
        "* Verringerter Platzbedarf und erhöhte Berechnungsgeschwindigkeit\n",
        "* Daraus resultierende Möglichkeit zur Erzeugung tieferer Netzwerke, die komplexere Aufgaben lösen können\n",
        "* Automatisches Wachstum der Größe der rezeptiven Felder in tieferen Convolutional Layers (ohne dass dafür explizit die Größe der Faltungsmatrizen erhöht werden müsste)\n",
        "* Präventionsmaßnahme gegen Overfitting\n",
        "\n",
        "Das nachfolgende Bild zeigt ein Max pooling mit 2x2 Filter und Schrittgrösse = 2. Die Schrittgrösse gibt an, wie viele Pixel der Filter pro Operation verschiebt.\n",
        "\n",
        "<img src='https://upload.wikimedia.org/wikipedia/commons/e/e9/Max_pooling.png' width=450>\n",
        "\n",
        "Wir können bei obigen Beispiel gut erkennen, dass der Filter lediglich die grösste Pixelzahl überträgt. Nachfolgenden eine kurze Animation dieser Operation:\n",
        "\n",
        "<img src='https://upload.wikimedia.org/wikipedia/commons/1/19/2D_Convolution_Animation.gif'>\n",
        "\n",
        "**Flattening**\n",
        "\n",
        "Ist die Operation, welche durchgeführt werden muss um die Resultate aus dem Conv-Net ins FKNN zu übertragen. Beim Flattening werden die Resultate aus der Pooling Feature Map ins einen 1D-Array übertragen.\n",
        "\n",
        "<img src='https://miro.medium.com/max/758/1*oJSpK_KcHUTIZxniOQ_vOQ.png' width=500>\n",
        "\n",
        "Die genaue Funktionsweise eines CNN kann aus einem sehr empfehlenswerten Medium Artikel von Amir Ali entnommen werden.\n",
        "\n",
        "https://medium.com/machine-learning-researcher/convlutional-neural-network-cnn-2fc4faa7bb63"
      ]
    },
    {
      "cell_type": "markdown",
      "metadata": {
        "id": "831ESsONXslF"
      },
      "source": [
        "#### Funktionsweise eines CNN\n",
        "\n",
        "Um es schon einmal vorweg zu nehmen. Das CNN arbeitet in etwa gleich wie Menschen Bilder wahrnehmen. Schauen wir uns mal folgende Zeichnung an:\n",
        "\n",
        "<img src='https://image.freepik.com/vektoren-kostenlos/pferd-koepfe-konturen_23-2147501777.jpg' width=200>\n",
        "\n",
        "Unser Hirn regestriert auf den ersten Blick, dass es sich dabei um Pferdeköpfe handelt. Obwohl wir nur Striche sehen kann unser Hirn die Konturen sofort zuordnen. Nachchfolgend noch ein weiteres Bild:\n",
        "\n",
        "<img src='https://images.derstandard.at/img/2012/10/22/1350285669783.jpg?w=600&s=b6d88952196b9cc5f92b0c5df03bece9' width=300>\n",
        "\n",
        "Auch wenn wir nur das linke sehr unscharfe Bild betrachten würden, würde unser Hirn sofort ein Gebäude identifizieren. Diese Beispiele zeigen ungefähr wie unser Hirn bei der Erkennung von Bildern vorgeht. Anstelle sich auf Details zu fokussieren beschränkt es sich auf die Wahrnehmung der Konturen. So ähnlich arbeitet der CNN-Algorithmus auch. \n",
        "\n",
        "Eine Maschine betrachtet ein Bild nur mittels Zahlenwerte.\n",
        "\n",
        "\n",
        "Ein wirklich coole Art ein CNN zu verstehen ist mittels des Tools auf der folgenden Seite:\n",
        "\n",
        "https://www.cs.ryerson.ca/~aharley/vis/conv/flat.html\n",
        "\n",
        "\n",
        "\n",
        "\n"
      ]
    },
    {
      "cell_type": "markdown",
      "metadata": {
        "id": "_oKCtgli493R"
      },
      "source": [
        "#### Teil 1 - Datenaufbereitung (Data-Preprocessing)"
      ]
    },
    {
      "cell_type": "markdown",
      "metadata": {
        "id": "0gdpDGRR-Lst"
      },
      "source": [
        "#### Datenimport"
      ]
    },
    {
      "cell_type": "code",
      "metadata": {
        "id": "hCYW6BKF-Qv8"
      },
      "source": [
        "import tensorflow as tf\n",
        "# ImageDataGenerator wird für Aufbereitung der Bilder benötigt\n",
        "from tensorflow.keras.preprocessing.image import ImageDataGenerator"
      ],
      "execution_count": null,
      "outputs": []
    },
    {
      "cell_type": "code",
      "metadata": {
        "colab": {
          "base_uri": "https://localhost:8080/",
          "height": 34
        },
        "id": "mq_D2tra_oJU",
        "scrolled": true,
        "outputId": "89b51bcf-5d28-4167-b1bf-969b944dfca9"
      },
      "source": [
        "tf.__version__"
      ],
      "execution_count": null,
      "outputs": [
        {
          "output_type": "execute_result",
          "data": {
            "application/vnd.google.colaboratory.intrinsic+json": {
              "type": "string"
            },
            "text/plain": [
              "'2.4.0'"
            ]
          },
          "metadata": {
            "tags": []
          },
          "execution_count": 48
        }
      ]
    },
    {
      "cell_type": "markdown",
      "metadata": {
        "id": "vVqRBbq7-urJ"
      },
      "source": [
        "#### GPU Support im Tensorflow\n",
        "\n",
        "Wenn man über eine Grafikkarte von NVIDIA verfügt, dann kann diese im Rahmen des Trainings eingesetzt werden. \n",
        "Im nachfolgenden Link sind die erforderlichen Schritte um die GPU für Tensorflow zu nutzen:\n",
        "\n",
        "https://www.tensorflow.org/install/gpu\n",
        "\n",
        "https://www.tensorflow.org/guide/gpu\n",
        "\n",
        "Sehr zu empfehlen ist dieser Link:\n",
        "\n",
        "https://shawnhymel.com/1961/how-to-install-tensorflow-with-gpu-support-on-windows/\n",
        "\n",
        "Hinweis: Auch noch conda install pillow durchführen."
      ]
    },
    {
      "cell_type": "code",
      "metadata": {
        "id": "TQgcyWnL-urJ",
        "colab": {
          "base_uri": "https://localhost:8080/"
        },
        "outputId": "49dc4795-9a32-4087-b4da-63c4e4f4c897"
      },
      "source": [
        "# Prüfen ob eine GPU verfügbar ist\n",
        "print(\"Num GPUs Available: \", len(tf.config.experimental.list_physical_devices('GPU')))"
      ],
      "execution_count": null,
      "outputs": [
        {
          "output_type": "stream",
          "text": [
            "Num GPUs Available:  1\n"
          ],
          "name": "stdout"
        }
      ]
    },
    {
      "cell_type": "markdown",
      "metadata": {
        "id": "r4BWNjez__gx"
      },
      "source": [
        "#### Aufbereitung Trainingdatensatz\n",
        "\n",
        "Damit wir ein Overfitting verhindern können, müssen wir die Bilder des Trainingsdatensatzes etwas transformieren. Das Ziel einer solchen Transformation ist es die Bilder etwas zu manipulieren um es dem Algorithmus nicht allzu leicht zu machen. So werden Bilder beispielweise verpixelt, verdreht, verzerrt usw. Diese Transformation wird auch **Image Augmentation** genannt. Eines der besten Tools um eine Image Augmentation durchzuführen ist das Keras Modul **ImageDataGenerator**.\n",
        "\n",
        "Ein guter Überblick über die Image Augmentation mittels ImageDataGenerator (Keras) findet man auf dem Blog [Yumi's](https://fairyonice.github.io/Learn-about-ImageDataGenerator.html).\n",
        "\n",
        "**Wichtig!** Wir führen die Transformierung nur auf den Trainingsdatensatz nicht auf dem Testdatensatz aus. Der Grund dafür ist sehr einfach. Der Testdatensatz repräsentiert die richitge Welt und in der richtigen Welt kommen die Bilder nicht immer im gleichen Format daher.\n"
      ]
    },
    {
      "cell_type": "code",
      "metadata": {
        "id": "hSGdRJOw-urJ"
      },
      "source": [
        "# Default Laufwerk definieren\n",
        "import os\n",
        "os.chdir('D:\\\\GithubReps\\my_datascience\\\\udemy\\mlaz\\\\Part 8 - Deep Learning\\\\')\n",
        "os.getcwd()"
      ],
      "execution_count": null,
      "outputs": []
    },
    {
      "cell_type": "code",
      "metadata": {
        "id": "7haMMFk-v7xc"
      },
      "source": [
        "train_datagen = ImageDataGenerator( #Wir erstellen eine Funktion mit IDG\n",
        "        # Die Pixelwerte jedes einzelnen Bilds wird durch 255 geteilt bzw. zwischen 0 und 1 skaliert.\n",
        "        rescale=1./255,  \n",
        "        # Die nachfolgenden Attribute haben mit der Image Augmentation zu tun.\n",
        "        shear_range=0.2, # Verzehrt die Bilder\n",
        "        zoom_range=0.2, # Zoomed in die Bilder\n",
        "        horizontal_flip=True) # Dreht Bilder\n",
        "\n",
        "# Diese Klasse verbindet train_datagen mit dem Datensatz.\n",
        "training_set = train_datagen.flow_from_directory( \n",
        "        'Section 40 - Convolutional Neural Networks (CNN)/Python/dataset/training_set',\n",
        "        target_size=(64, 64), # Grösse der Bilder welche ins CNN gefeedet werden\n",
        "        batch_size=32,\n",
        "        class_mode='binary') # Wir haben nur zwei Werte Dog oder Cat"
      ],
      "execution_count": null,
      "outputs": []
    },
    {
      "cell_type": "markdown",
      "metadata": {
        "id": "5Gz0IuR8AKuZ"
      },
      "source": [
        "##### Aufbereitung Testdatensatz"
      ]
    },
    {
      "cell_type": "code",
      "metadata": {
        "id": "CR58g62-votp"
      },
      "source": [
        "test_datagen = ImageDataGenerator(rescale=1./255)\n",
        "test_set = test_datagen.flow_from_directory(\n",
        "        'Section 40 - Convolutional Neural Networks (CNN)/Python/dataset/test_set',\n",
        "        target_size=(64, 64),\n",
        "        batch_size=32,\n",
        "        class_mode='binary')"
      ],
      "execution_count": null,
      "outputs": []
    },
    {
      "cell_type": "markdown",
      "metadata": {
        "id": "5PmR1sBrAQAR"
      },
      "source": [
        "#### Teil 2 - Aufbau des CNN"
      ]
    },
    {
      "cell_type": "markdown",
      "metadata": {
        "id": "c_SQuvOiAXzV"
      },
      "source": [
        "#### Initialisierung des CNN"
      ]
    },
    {
      "cell_type": "code",
      "metadata": {
        "id": "8SVvjEpuw_Kz"
      },
      "source": [
        "cnn = tf.keras.models.Sequential()"
      ],
      "execution_count": null,
      "outputs": []
    },
    {
      "cell_type": "markdown",
      "metadata": {
        "id": "VZx1moJaAg1h"
      },
      "source": [
        "##### Schritt 1 - Convolution (Falten)\n",
        "\n",
        "Wir bauen in diese Schritt den ersten ConvLayer aus dem gleichen Keras Objekt Layers. Diese Klasse heisst Conv2D und lässt grundsätzlich bereits erwähnen welche Art von Input in diesen CNN verarbeitet werden. "
      ]
    },
    {
      "cell_type": "code",
      "metadata": {
        "id": "lHain8J7xUcS"
      },
      "source": [
        "cnn.add(tf.keras.layers.Conv2D(\n",
        "    filters=32, # Output Filters im CNN bzw. Anzhal Feature Detectors\n",
        "    kernel_size=3, # Hier definieren wir die Grösse des Feature Detectors 3x3\n",
        "    activation='relu', # Wie auch bereits im KNN verwenden wir auch hier ReLu\n",
        "    # Input Format wie oben spezifiziert. Da es sich um Farbfotos handelt definieren wir 3 (RGB)\n",
        "    # bei Schwarz-Weiss Fotos wären es 1\n",
        "    input_shape=[64,64,3])) "
      ],
      "execution_count": null,
      "outputs": []
    },
    {
      "cell_type": "markdown",
      "metadata": {
        "id": "iXGTHgQAAvlm"
      },
      "source": [
        "##### Schritt 2 - Pooling"
      ]
    },
    {
      "cell_type": "code",
      "metadata": {
        "id": "YlrsLvk1yjKk"
      },
      "source": [
        "cnn.add(tf.keras.layers.MaxPool2D(\n",
        "    pool_size=2, # Die Pooling Grösse ist 2 x 2\n",
        "    strides=2)) # Hier definieren wir wieviel Slides das Pooling-Frame nach rechts macht."
      ],
      "execution_count": null,
      "outputs": []
    },
    {
      "cell_type": "markdown",
      "metadata": {
        "id": "tkjLoIaYAyuq"
      },
      "source": [
        "###### Hinzufügen eines zweiten Conv-Layers\n",
        "\n",
        "Im zweiten Layer definieren wir die gleichen Attribute wie auch schon im Ersten mit Ausnahme mit dem Input-Shape."
      ]
    },
    {
      "cell_type": "code",
      "metadata": {
        "id": "-xJdWxCpzhCQ"
      },
      "source": [
        "cnn.add(tf.keras.layers.Conv2D(filters=32, kernel_size=3,activation='relu'))\n",
        "cnn.add(tf.keras.layers.MaxPool2D(pool_size=2, strides=2))"
      ],
      "execution_count": null,
      "outputs": []
    },
    {
      "cell_type": "markdown",
      "metadata": {
        "id": "R02CHTewBBqi"
      },
      "source": [
        "##### Schritt 3 - Flattening\n",
        "\n",
        "Hier transponieren wird die Resultate aus den Conv- und Polling Schichten in einen 1D Array, damit wir ihn dem NN übergeben können"
      ]
    },
    {
      "cell_type": "code",
      "metadata": {
        "id": "bt_094D6zw70"
      },
      "source": [
        "cnn.add(tf.keras.layers.Flatten())"
      ],
      "execution_count": null,
      "outputs": []
    },
    {
      "cell_type": "markdown",
      "metadata": {
        "id": "L5AgKuBDBJzp"
      },
      "source": [
        "##### Schritt 4 - Full Connection\n",
        "\n",
        "Hier definieren wir das FKNN."
      ]
    },
    {
      "cell_type": "code",
      "metadata": {
        "id": "Mba-ZvwO0AsM"
      },
      "source": [
        "cnn.add(tf.keras.layers.Dense(\n",
        "    units=128, # Da wir eine Input Shape von 64x64 haben nehmen wir 128 \n",
        "    activation='relu'))"
      ],
      "execution_count": null,
      "outputs": []
    },
    {
      "cell_type": "markdown",
      "metadata": {
        "id": "9VMmHy6ZBS6n"
      },
      "source": [
        "##### Schritt 5 - Output Layer"
      ]
    },
    {
      "cell_type": "code",
      "metadata": {
        "id": "h8DiQy5Z0uH4"
      },
      "source": [
        "cnn.add(tf.keras.layers.Dense(\n",
        "    units=1, # In einem Binary Classifier benötigen wir nur ein Output\n",
        "    activation='sigmoid'))"
      ],
      "execution_count": null,
      "outputs": []
    },
    {
      "cell_type": "markdown",
      "metadata": {
        "id": "tDz5-aUVBaTl"
      },
      "source": [
        "#### Teil 3 - Trainieren des CNN"
      ]
    },
    {
      "cell_type": "markdown",
      "metadata": {
        "id": "sQ_ob8VgBrDl"
      },
      "source": [
        "#### Kompilieren des CNN"
      ]
    },
    {
      "cell_type": "code",
      "metadata": {
        "id": "ij7cD_-X1eHZ"
      },
      "source": [
        "cnn.compile(optimizer = 'adam', loss = 'binary_crossentropy', metrics=['accuracy'])"
      ],
      "execution_count": null,
      "outputs": []
    },
    {
      "cell_type": "markdown",
      "metadata": {
        "id": "g9bh8SbJBzB0"
      },
      "source": [
        "#### Trainieren des CNN und Evaluation mittels Testdatensatzes\n",
        "\n",
        "Im Unterschied zum KNN trainieren wir hier zuerst den Trainingsdatensatz und validieren diesen direkt gegenüber den Testdatensatz."
      ]
    },
    {
      "cell_type": "code",
      "metadata": {
        "id": "hxT9MNUO1xzZ",
        "scrolled": true
      },
      "source": [
        "cnn.fit(\n",
        "    x = training_set, \n",
        "    validation_data=test_set, \n",
        "    epochs = 25)"
      ],
      "execution_count": null,
      "outputs": []
    },
    {
      "cell_type": "markdown",
      "metadata": {
        "id": "hvKTgCpACR5g"
      },
      "source": [
        "#### Teil 4 - Erstellung einer Vorhersage auf Basis einer einzelnen Beobachtung"
      ]
    },
    {
      "cell_type": "code",
      "metadata": {
        "id": "zmfXWTz22lAd"
      },
      "source": [
        "import numpy as np\n",
        "from tensorflow.keras.preprocessing import image\n",
        "test_image = image.load_img('Section 40 - Convolutional Neural Networks (CNN)/Python/dataset/single_prediction/cat_or_dog_1.jpg', target_size=(64,64))\n",
        "test_image = image.img_to_array(test_image) # Hier wandeln wir das Bild in einen Array um\n",
        "test_image = np.expand_dims(test_image, axis=0) # Wir müssen das Image noch in die richtige Dimension bringen.\n",
        "result = cnn.predict(test_image)\n",
        "training_set.class_indices \n",
        "if result[0][0] == 1:\n",
        "  prediction = 'dog'\n",
        "else:\n",
        "  prediction = 'cat'"
      ],
      "execution_count": null,
      "outputs": []
    },
    {
      "cell_type": "code",
      "metadata": {
        "id": "bvrA5-cI6LEk"
      },
      "source": [
        "print(prediction)"
      ],
      "execution_count": null,
      "outputs": []
    },
    {
      "cell_type": "markdown",
      "metadata": {
        "id": "XvQvBZWMo2g3"
      },
      "source": [
        "### Recurrent Neural Networks (RNN)\n",
        "\n",
        "Quelle: [Wikipedia](https://de.wikipedia.org/wiki/Rekurrentes_neuronales_Netz)\n",
        "\n",
        "Als rekurrente bzw. rückgekoppelte neuronale Netze bezeichnet man neuronale Netze, die sich im Gegensatz zu den Feedforward-Netzen durch Verbindungen von Neuronen einer Schicht zu Neuronen derselben oder einer vorangegangenen Schicht auszeichnen. Im Gehirn ist dies die bevorzugte Verschaltungsweise neuronaler Netze, insbesondere im Neocortex. In künstlichen neuronalen Netzen wird die rekurrente Verschaltung von Modellneuronen benutzt, um zeitlich codierte Informationen in den Daten zu entdecken. Beispiele für solche rekurrenten neuronalen Netze sind das Elman-Netz, das Jordan-Netz, das Hopfield-Netz sowie das vollständig verschaltete neuronale Netz.\n",
        "\n",
        "<img src='https://upload.wikimedia.org/wikipedia/commons/4/4c/Neuronal-Networks-Feedback.png' width=400>\n",
        "\n",
        "Rekurrente Netze lassen sich folgendermaßen unterteilen:\n",
        "\n",
        "* Bei einer direkten Rückkopplung (englisch direct feedback) wird der eigene Ausgang eines Neurons als weiterer Eingang genutzt.\n",
        "* Die indirekte Rückkopplung (englisch indirect feedback) verbindet den Ausgang eines Neurons mit einem Neuron der vorhergehenden Schichten.\n",
        "* Die seitliche Rückkopplung (englisch lateral feedback) verbindet den Ausgang eines Neurons mit einem anderen Neuron derselben Schicht.\n",
        "* Bei einer vollständigen Verbindung hat jeder Neuronenausgang eine Verbindung zu jedem anderen Neuron\n",
        "\n",
        "#### Long Short Term Memory (LSTM) \n",
        "\n",
        "Eine der bekanntesten RNN Architekturen ist das Long Short Term Memory (LSTM) Netzwerk. Hierbei werden zusätzliche Parameter darauf trainiert, den Input und Output des Netzes für die nächste Iteration zu speichern oder zu verwerfen, um auf diese Weise zusätzliche Informationen zur Vorhersage für den nächsten Sequenzabschnitt zur Verfügung zu stellen. So können zuvor aufgetretene Signale über die zeitliche Dimension der Daten gespeichert und später verwendet werden. LSTMs werden aktuell sehr erfolgreich im NLP (Natural Language Processing) angewendet, um Übersetzungen von Texten anzufertigen oder Chat-Bots zu trainieren. Weiterhin eignen sich RNNs für die Modellierung von Sequenzen im Allgemeinen, bspw. bei der Zeitreihenprognose oder aber auch für Next Best Action Empfehlungen.\n",
        "\n",
        "Empfehlenswerte Beiträge zur Vertiefung von LSTM sind auf [Cola's Blog](https://colah.github.io/posts/2015-08-Understanding-LSTMs/) und [Andrej Karpathy blog](http://karpathy.github.io/2015/05/21/rnn-effectiveness/) zu finden.\n"
      ]
    },
    {
      "cell_type": "markdown",
      "metadata": {
        "id": "GWpOQYXg6Qol"
      },
      "source": [
        "#### Teil 1 - Datenaufbereitung (Data-Preprocessing)"
      ]
    },
    {
      "cell_type": "markdown",
      "metadata": {
        "id": "axkozIG67ITT"
      },
      "source": [
        "##### Import der Python Libs\n",
        "\n"
      ]
    },
    {
      "cell_type": "code",
      "metadata": {
        "id": "p4R7Vq5J7TjT"
      },
      "source": [
        "import pandas as pd\n",
        "import numpy as np\n",
        "import matplotlib.pyplot as plt\n",
        "import tensorflow as tf"
      ],
      "execution_count": null,
      "outputs": []
    },
    {
      "cell_type": "markdown",
      "metadata": {
        "id": "f1y2SWHz73VS"
      },
      "source": [
        "##### Datenimport"
      ]
    },
    {
      "cell_type": "code",
      "metadata": {
        "id": "y_3YODYU7iTr"
      },
      "source": [
        "datloc = 'https://raw.githubusercontent.com/sakuronohana/my_datascience/master/udemy/dlaz/Volume%201%20-%20Supervised%20Deep%20Learning/Part%203%20-%20Recurrent%20Neural%20Networks/Google_Stock_Price_Train.csv'\n",
        "dataset_train = pd.read_csv (datloc)\n",
        "training_set = dataset_train.iloc[:,1:2].values"
      ],
      "execution_count": null,
      "outputs": []
    },
    {
      "cell_type": "code",
      "metadata": {
        "colab": {
          "base_uri": "https://localhost:8080/",
          "height": 402
        },
        "id": "QwCF5C488M6H",
        "outputId": "686ac389-d2ed-4218-aeb0-512ee2de3405"
      },
      "source": [
        "dataset_train"
      ],
      "execution_count": null,
      "outputs": [
        {
          "output_type": "execute_result",
          "data": {
            "text/html": [
              "<div>\n",
              "<style scoped>\n",
              "    .dataframe tbody tr th:only-of-type {\n",
              "        vertical-align: middle;\n",
              "    }\n",
              "\n",
              "    .dataframe tbody tr th {\n",
              "        vertical-align: top;\n",
              "    }\n",
              "\n",
              "    .dataframe thead th {\n",
              "        text-align: right;\n",
              "    }\n",
              "</style>\n",
              "<table border=\"1\" class=\"dataframe\">\n",
              "  <thead>\n",
              "    <tr style=\"text-align: right;\">\n",
              "      <th></th>\n",
              "      <th>Date</th>\n",
              "      <th>Open</th>\n",
              "      <th>High</th>\n",
              "      <th>Low</th>\n",
              "      <th>Close</th>\n",
              "      <th>Volume</th>\n",
              "    </tr>\n",
              "  </thead>\n",
              "  <tbody>\n",
              "    <tr>\n",
              "      <th>0</th>\n",
              "      <td>1/3/2012</td>\n",
              "      <td>325.25</td>\n",
              "      <td>332.83</td>\n",
              "      <td>324.97</td>\n",
              "      <td>663.59</td>\n",
              "      <td>7,380,500</td>\n",
              "    </tr>\n",
              "    <tr>\n",
              "      <th>1</th>\n",
              "      <td>1/4/2012</td>\n",
              "      <td>331.27</td>\n",
              "      <td>333.87</td>\n",
              "      <td>329.08</td>\n",
              "      <td>666.45</td>\n",
              "      <td>5,749,400</td>\n",
              "    </tr>\n",
              "    <tr>\n",
              "      <th>2</th>\n",
              "      <td>1/5/2012</td>\n",
              "      <td>329.83</td>\n",
              "      <td>330.75</td>\n",
              "      <td>326.89</td>\n",
              "      <td>657.21</td>\n",
              "      <td>6,590,300</td>\n",
              "    </tr>\n",
              "    <tr>\n",
              "      <th>3</th>\n",
              "      <td>1/6/2012</td>\n",
              "      <td>328.34</td>\n",
              "      <td>328.77</td>\n",
              "      <td>323.68</td>\n",
              "      <td>648.24</td>\n",
              "      <td>5,405,900</td>\n",
              "    </tr>\n",
              "    <tr>\n",
              "      <th>4</th>\n",
              "      <td>1/9/2012</td>\n",
              "      <td>322.04</td>\n",
              "      <td>322.29</td>\n",
              "      <td>309.46</td>\n",
              "      <td>620.76</td>\n",
              "      <td>11,688,800</td>\n",
              "    </tr>\n",
              "    <tr>\n",
              "      <th>...</th>\n",
              "      <td>...</td>\n",
              "      <td>...</td>\n",
              "      <td>...</td>\n",
              "      <td>...</td>\n",
              "      <td>...</td>\n",
              "      <td>...</td>\n",
              "    </tr>\n",
              "    <tr>\n",
              "      <th>1253</th>\n",
              "      <td>12/23/2016</td>\n",
              "      <td>790.90</td>\n",
              "      <td>792.74</td>\n",
              "      <td>787.28</td>\n",
              "      <td>789.91</td>\n",
              "      <td>623,400</td>\n",
              "    </tr>\n",
              "    <tr>\n",
              "      <th>1254</th>\n",
              "      <td>12/27/2016</td>\n",
              "      <td>790.68</td>\n",
              "      <td>797.86</td>\n",
              "      <td>787.66</td>\n",
              "      <td>791.55</td>\n",
              "      <td>789,100</td>\n",
              "    </tr>\n",
              "    <tr>\n",
              "      <th>1255</th>\n",
              "      <td>12/28/2016</td>\n",
              "      <td>793.70</td>\n",
              "      <td>794.23</td>\n",
              "      <td>783.20</td>\n",
              "      <td>785.05</td>\n",
              "      <td>1,153,800</td>\n",
              "    </tr>\n",
              "    <tr>\n",
              "      <th>1256</th>\n",
              "      <td>12/29/2016</td>\n",
              "      <td>783.33</td>\n",
              "      <td>785.93</td>\n",
              "      <td>778.92</td>\n",
              "      <td>782.79</td>\n",
              "      <td>744,300</td>\n",
              "    </tr>\n",
              "    <tr>\n",
              "      <th>1257</th>\n",
              "      <td>12/30/2016</td>\n",
              "      <td>782.75</td>\n",
              "      <td>782.78</td>\n",
              "      <td>770.41</td>\n",
              "      <td>771.82</td>\n",
              "      <td>1,770,000</td>\n",
              "    </tr>\n",
              "  </tbody>\n",
              "</table>\n",
              "<p>1258 rows × 6 columns</p>\n",
              "</div>"
            ],
            "text/plain": [
              "            Date    Open    High     Low   Close      Volume\n",
              "0       1/3/2012  325.25  332.83  324.97  663.59   7,380,500\n",
              "1       1/4/2012  331.27  333.87  329.08  666.45   5,749,400\n",
              "2       1/5/2012  329.83  330.75  326.89  657.21   6,590,300\n",
              "3       1/6/2012  328.34  328.77  323.68  648.24   5,405,900\n",
              "4       1/9/2012  322.04  322.29  309.46  620.76  11,688,800\n",
              "...          ...     ...     ...     ...     ...         ...\n",
              "1253  12/23/2016  790.90  792.74  787.28  789.91     623,400\n",
              "1254  12/27/2016  790.68  797.86  787.66  791.55     789,100\n",
              "1255  12/28/2016  793.70  794.23  783.20  785.05   1,153,800\n",
              "1256  12/29/2016  783.33  785.93  778.92  782.79     744,300\n",
              "1257  12/30/2016  782.75  782.78  770.41  771.82   1,770,000\n",
              "\n",
              "[1258 rows x 6 columns]"
            ]
          },
          "metadata": {
            "tags": []
          },
          "execution_count": 3
        }
      ]
    },
    {
      "cell_type": "markdown",
      "metadata": {
        "id": "cohLCZ_49c_h"
      },
      "source": [
        "##### Skaliering der Features\n",
        "\n",
        "Der Datensatz den wir in diesem Beispiel verwenden beinhaltet den Google Aktienkurs von 2012 - 2016 genauer gesagt der jeweilige Kurs bei Eröffnung des Börsentags. Das Feature \"Open\" verfügt über einen minimalen und maximalen Wert. Nun stellt sich die Frage welche Skalierung wir für unser RNN verwendet sollen:\n",
        "\n",
        "**MinMax Scaling**\n",
        "\n",
        "<img src='https://chrisalbon.com/images/machine_learning_flashcards/MinMax_Scaling_print.png' width='500'>\n",
        "\n",
        "Quelle: Chris Albon\n",
        "\n",
        "**Standard Scaling**\n",
        "\n",
        "<img src='https://chrisalbon.com/images/machine_learning_flashcards/Standardization_print.png' width='500'>\n",
        "\n",
        "Quelle: Chris Albon"
      ]
    },
    {
      "cell_type": "code",
      "metadata": {
        "id": "0e4PEYdg9kzN"
      },
      "source": [
        "from sklearn.preprocessing import MinMaxScaler\n",
        "\n",
        "sc = MinMaxScaler(feature_range = (0,1)) \n",
        "training_set_scaled = sc.fit_transform(training_set)"
      ],
      "execution_count": null,
      "outputs": []
    },
    {
      "cell_type": "code",
      "metadata": {
        "id": "G2gPT8Ts_78d"
      },
      "source": [
        "# Erstellung einer Datenstruktur mit 60 Zeitschritten und 1 Output\n",
        "X_train = []\n",
        "y_train = []\n",
        "\n",
        "# Wir wollen die 60 Aktienkurse der letzen 60 Tag voraussagen, weshalb wir erst bei 60 Anfangen \n",
        "for i in range (60, 1258):\n",
        "  X_train.append(training_set_scaled[i-60:i, 0])\n",
        "  y_train.append(training_set_scaled[i, 0])\n",
        "\n",
        "X_train, y_train = np.array(X_train), np.array(y_train)\n"
      ],
      "execution_count": null,
      "outputs": []
    },
    {
      "cell_type": "code",
      "metadata": {
        "id": "Nl_LR8EqCdYF"
      },
      "source": [
        "# RNN erwartet eine 3D Shape der Daten\n",
        "# Reshaping die Daten\n",
        "X_train = np.reshape(X_train, (X_train.shape[0], X_train.shape[1], 1))"
      ],
      "execution_count": null,
      "outputs": []
    },
    {
      "cell_type": "code",
      "metadata": {
        "colab": {
          "base_uri": "https://localhost:8080/"
        },
        "id": "fzS_YSuXH603",
        "outputId": "e0e9dc81-4e44-412e-b590-3cd005c8d89e"
      },
      "source": [
        "X_train.shape"
      ],
      "execution_count": null,
      "outputs": [
        {
          "output_type": "execute_result",
          "data": {
            "text/plain": [
              "(1198, 60, 1)"
            ]
          },
          "metadata": {
            "tags": []
          },
          "execution_count": 6
        }
      ]
    },
    {
      "cell_type": "markdown",
      "metadata": {
        "id": "JDE7L3tq6T1O"
      },
      "source": [
        "#### Teil 2 - Aufbau des RNN"
      ]
    },
    {
      "cell_type": "code",
      "metadata": {
        "id": "Ax5H8MqyIXAX"
      },
      "source": [
        "# Initialisierung RNN\n",
        "regressor = tf.keras.models.Sequential()"
      ],
      "execution_count": null,
      "outputs": []
    },
    {
      "cell_type": "code",
      "metadata": {
        "id": "-4ZhVctiKcWM"
      },
      "source": [
        "# Hinzufügen des ersten LSTM layers mit Dropout regularisation\n",
        "regressor.add(tf.keras.layers.LSTM(units = 50, return_sequences=True, input_shape = (X_train.shape[1], 1)))\n",
        "regressor.add(tf.keras.layers.Dropout(0.2)) # 20% der Neuronen werden ignoriert"
      ],
      "execution_count": null,
      "outputs": []
    },
    {
      "cell_type": "code",
      "metadata": {
        "id": "yOec_i7IN426"
      },
      "source": [
        "# Hinzufügen des zweiten LSTM layers mit Dropout regularisation\n",
        "regressor.add(tf.keras.layers.LSTM(units = 50, return_sequences=True)) # Wir brauchen hier die Input Form nicht mehr zu definieren.\n",
        "regressor.add(tf.keras.layers.Dropout(0.2)) # 20% der Neuronen werden ignoriert"
      ],
      "execution_count": null,
      "outputs": []
    },
    {
      "cell_type": "code",
      "metadata": {
        "id": "8Bl8A8KPO9aG"
      },
      "source": [
        "# Hinzufügen des dritten LSTM layers mit Dropout regularisation\n",
        "regressor.add(tf.keras.layers.LSTM(units = 50, return_sequences=True)) # Wir brauchen hier die Input Form nicht mehr zu definieren.\n",
        "regressor.add(tf.keras.layers.Dropout(0.2)) # 20% der Neuronen werden ignoriert"
      ],
      "execution_count": null,
      "outputs": []
    },
    {
      "cell_type": "code",
      "metadata": {
        "id": "_BH-aREGPAoK"
      },
      "source": [
        "# Hinzufügen des vierten LSTM layers mit Dropout regularisation\n",
        "regressor.add(tf.keras.layers.LSTM(units = 50)) # Wir brauchen hier die Input Form nicht mehr zu definieren.\n",
        "regressor.add(tf.keras.layers.Dropout(0.2)) # 20% der Neuronen werden ignoriert"
      ],
      "execution_count": null,
      "outputs": []
    },
    {
      "cell_type": "code",
      "metadata": {
        "id": "YIwPU0sRPmk-"
      },
      "source": [
        "# Hinzufügen des Output Layers\n",
        "regressor.add(tf.keras.layers.Dense(units=1)) # Wir haben nur ein Wert der ausgegeben werden kann deshalb nur ein Unit"
      ],
      "execution_count": null,
      "outputs": []
    },
    {
      "cell_type": "code",
      "metadata": {
        "id": "KFIo50vLQgnZ"
      },
      "source": [
        "# Kompilierung des RNNs\n",
        "regressor.compile(optimizer='adam', loss='mean_squared_error') # Für RNNs kann auch RMSprop verwendet werden\n"
      ],
      "execution_count": null,
      "outputs": []
    },
    {
      "cell_type": "code",
      "metadata": {
        "id": "6UBNn1stRzJP"
      },
      "source": [
        "# Fitting RNN zum Trainigssatz\n",
        "regressor.fit(X_train,y_train, epochs = 100, batch_size=32)"
      ],
      "execution_count": null,
      "outputs": []
    },
    {
      "cell_type": "markdown",
      "metadata": {
        "id": "_av3gBbs6hYg"
      },
      "source": [
        "#### Teil 3 - Predictions erstellen und Visualisierung der Resultate"
      ]
    },
    {
      "cell_type": "code",
      "metadata": {
        "id": "0xU1UV_UV6hJ"
      },
      "source": [
        "# Download des echten Google Aktienkurses 2017\n",
        "\n",
        "datloc = 'https://raw.githubusercontent.com/sakuronohana/my_datascience/master/udemy/dlaz/Volume%201%20-%20Supervised%20Deep%20Learning/Part%203%20-%20Recurrent%20Neural%20Networks/Google_Stock_Price_Test.csv'\n",
        "dataset_test = pd.read_csv (datloc)\n",
        "real_stock_price = dataset_test.iloc[:,1:2].values"
      ],
      "execution_count": null,
      "outputs": []
    },
    {
      "cell_type": "code",
      "metadata": {
        "id": "5gEL1qIfW3fF"
      },
      "source": [
        "# Getting the predicted stock price of 2017\n",
        "dataset_total = pd.concat((dataset_train['Open'], dataset_test['Open']),axis=0)\n",
        "inputs = dataset_total[len(dataset_total)-len(dataset_test)-60:].values\n",
        "inputs = inputs.reshape(-1,1)\n",
        "inputs = sc.transform(inputs)\n",
        "\n",
        "# Erstellung einer Datenstruktur mit 60 Zeitschritten und 1 Output\n",
        "X_test = []\n",
        "\n",
        "# Wir wollen die 60 Aktienkurse der letzen 60 Tag voraussagen, weshalb wir erst bei 60 Anfangen \n",
        "for i in range (60, 80):\n",
        "  X_test.append(inputs[i-60:i, 0])\n",
        "\n",
        "X_test = np.array(X_test)\n",
        "\n",
        "# RNN erwartet eine 3D Shape der Daten\n",
        "# Reshaping die Daten\n",
        "X_test = np.reshape(X_test, (X_test.shape[0], X_test.shape[1], 1))\n",
        "\n",
        "predicted_stock_price = regressor.predict(X_test)\n",
        "predicted_stock_price = sc.inverse_transform(predicted_stock_price)"
      ],
      "execution_count": null,
      "outputs": []
    },
    {
      "cell_type": "code",
      "metadata": {
        "colab": {
          "base_uri": "https://localhost:8080/",
          "height": 295
        },
        "id": "Yjp-dIpx9OiZ",
        "outputId": "fc913356-86cf-4e62-d53d-edd3183b5f90"
      },
      "source": [
        "# Visualisieurung der Resultate\n",
        "\n",
        "plt.plot(real_stock_price, color='red', label = 'Real Google Stock Price')\n",
        "plt.plot(predicted_stock_price, color='blue', label = 'Predicted Google Stock Price')\n",
        "plt.title('Google Stock Price Prediction')\n",
        "plt.xlabel('Time')\n",
        "plt.ylabel('Google Stock Price')\n",
        "plt.legend()\n",
        "plt.show()"
      ],
      "execution_count": null,
      "outputs": [
        {
          "output_type": "display_data",
          "data": {
            "image/png": "[encoded data removed]",
            "text/plain": [
              "<Figure size 432x288 with 1 Axes>"
            ]
          },
          "metadata": {
            "tags": [],
            "needs_background": "light"
          }
        }
      ]
    },
    {
      "cell_type": "markdown",
      "metadata": {
        "id": "nozBHIZJRahA"
      },
      "source": [
        "## Unsupervised Deep Learning\n",
        "\n",
        "Nachfolgende werden Deep Learning Modelle vorgestellt, welche sich für das unüberwachte Lernen eignen."
      ]
    },
    {
      "cell_type": "markdown",
      "metadata": {
        "id": "jEM6FSu3T-7c"
      },
      "source": [
        "### Self Organizing Maps (SOM)\n",
        "\n",
        "Bei SOM geht es in erster Linie darum Merkmale (Features) zu reduzieren bzw. die wesentlichsten Features zu extrahieren. SOM wird oft im Bereich Data-Mining verwendet. Das Vorgehen dabei ist vergleichbar mit der uns bereits bekannten Clustering-Methode [K-Means](https://github.com/sakuronohana/my_datascience/blob/master/udemy/mlaz/Part%204%20-%20Clustering/Section%2024%20-%20K-Means%20Clustering/Python/k_means_clustering.ipynb). \n",
        "\n",
        "#### Wie funktionieren SOMs\n",
        "\n",
        "In nachfolgenden Bild wird ein SOM-Architektur repräsentiert. Auch wenn diese wie eine KNN aussieht gibt es doch den einen oder anderen grösseren Unterschied.\n",
        "\n",
        "<img src='https://image.slidesharecdn.com/nigqtyw5qqgzmjqtkbnc-signature-a8b8daa82312c33588e8ca91d8c4fc770e891e421c440e8374323d4726539ed0-poli-180817161347/95/deep-learning-az-self-organizing-maps-som-how-do-soms-learn-part-1-2-638.jpg?cb=1534525134' width=500>\n",
        "\n",
        "Eine der Unterschiede ist einerseits, dass die Neuronen über keine Aktivierungsfunktion ($\\sigma$) verfügen und die Gewichtungen ($w^x$) als Koordinaten für den Input-Space (Nodes) agieren, welche die Distanz zwischen den einzelnen Daten (Rows) berechnen. \n",
        "\n",
        "<img src='https://image.slidesharecdn.com/nigqtyw5qqgzmjqtkbnc-signature-a8b8daa82312c33588e8ca91d8c4fc770e891e421c440e8374323d4726539ed0-poli-180817161347/95/deep-learning-az-self-organizing-maps-som-how-do-soms-learn-part-1-13-638.jpg?cb=1534525134' width=500>\n",
        "\n",
        "Das Training einer SOM besteht aus folgenden Schritten:\n",
        "\n",
        "<img src='https://github.com/sakuronohana/my_datascience/blob/master/udemy/dlaz/Volume%202%20-%20Unsupervised%20Deep%20Learning/Self_Organizing_Maps/Trainingsteps_SOM.jpeg?raw=true' width=600>\n",
        "\n"
      ]
    },
    {
      "cell_type": "markdown",
      "metadata": {
        "id": "EpuPiYuHIT8P"
      },
      "source": [
        "#### Beispiel SOM-Modell\n",
        "\n",
        "Nachfolgend bauen wir ein SOM-Modell mit Hilfe dessen wir Kartenbetrugsfälle entdecken können. Dabei wird uns SOM helfen die Kreditkartenkunden zu identfizieren, welche womöglich betrogen haben. SOM wird dabei ein Muster (Outliers/Ausreisser) in den Daten erkennen und die Kunden bestimmten Segementen zuteilen. "
      ]
    },
    {
      "cell_type": "code",
      "metadata": {
        "id": "6XXOq4zBJLFm"
      },
      "source": [
        "# Import Python-Libraries\n",
        "import pandas as pd\n",
        "import numpy as np"
      ],
      "execution_count": null,
      "outputs": []
    },
    {
      "cell_type": "code",
      "metadata": {
        "id": "i9DSEn7HJm_5"
      },
      "source": [
        "# Import Datensatz\n",
        "datloc = 'https://raw.githubusercontent.com/sakuronohana/my_datascience/master/udemy/dlaz/Volume%202%20-%20Unsupervised%20Deep%20Learning/Self_Organizing_Maps/Credit_Card_Applications.csv'\n",
        "dataset = pd.read_csv(datloc)\n",
        "\n",
        "X = dataset.iloc[:,:-1].values\n",
        "y = dataset.iloc[:,-1].values"
      ],
      "execution_count": null,
      "outputs": []
    },
    {
      "cell_type": "markdown",
      "metadata": {
        "id": "qWaGaOpQLI_A"
      },
      "source": [
        "Die einzelnen Zeilen (Rows) stellen ein Set an Gewichtungen innerhalb der SOM dar. D.h. jedes der 14 Features des Vektor CustomerID hat ein Gewicht. \n",
        "\n",
        "Das letzte Feature Class zeigt, ob der Kreditantrag genehmigt (1) oder abgelehnt (0) wurde. Wir trennen oben zwar das Feature Class vom Rest der Daten aber Vorsicht es handelt sich dabei nicht um ein eigendliches Label (unabhängige Variable) bzw. wir befinden uns nicht im Supervised Learning. Wir tun das nur um die Kunden welche über einen genehmigten Kreditantrag verfügen von den Restlichen zu trennen."
      ]
    },
    {
      "cell_type": "code",
      "metadata": {
        "colab": {
          "base_uri": "https://localhost:8080/",
          "height": 204
        },
        "id": "j1m3lDlLJ7fo",
        "outputId": "9901d982-0d81-4654-a327-4eabaefb7f4d"
      },
      "source": [
        "dataset.head()"
      ],
      "execution_count": null,
      "outputs": [
        {
          "output_type": "execute_result",
          "data": {
            "text/html": [
              "<div>\n",
              "<style scoped>\n",
              "    .dataframe tbody tr th:only-of-type {\n",
              "        vertical-align: middle;\n",
              "    }\n",
              "\n",
              "    .dataframe tbody tr th {\n",
              "        vertical-align: top;\n",
              "    }\n",
              "\n",
              "    .dataframe thead th {\n",
              "        text-align: right;\n",
              "    }\n",
              "</style>\n",
              "<table border=\"1\" class=\"dataframe\">\n",
              "  <thead>\n",
              "    <tr style=\"text-align: right;\">\n",
              "      <th></th>\n",
              "      <th>CustomerID</th>\n",
              "      <th>A1</th>\n",
              "      <th>A2</th>\n",
              "      <th>A3</th>\n",
              "      <th>A4</th>\n",
              "      <th>A5</th>\n",
              "      <th>A6</th>\n",
              "      <th>A7</th>\n",
              "      <th>A8</th>\n",
              "      <th>A9</th>\n",
              "      <th>A10</th>\n",
              "      <th>A11</th>\n",
              "      <th>A12</th>\n",
              "      <th>A13</th>\n",
              "      <th>A14</th>\n",
              "      <th>Class</th>\n",
              "    </tr>\n",
              "  </thead>\n",
              "  <tbody>\n",
              "    <tr>\n",
              "      <th>0</th>\n",
              "      <td>15776156</td>\n",
              "      <td>1</td>\n",
              "      <td>22.08</td>\n",
              "      <td>11.46</td>\n",
              "      <td>2</td>\n",
              "      <td>4</td>\n",
              "      <td>4</td>\n",
              "      <td>1.585</td>\n",
              "      <td>0</td>\n",
              "      <td>0</td>\n",
              "      <td>0</td>\n",
              "      <td>1</td>\n",
              "      <td>2</td>\n",
              "      <td>100</td>\n",
              "      <td>1213</td>\n",
              "      <td>0</td>\n",
              "    </tr>\n",
              "    <tr>\n",
              "      <th>1</th>\n",
              "      <td>15739548</td>\n",
              "      <td>0</td>\n",
              "      <td>22.67</td>\n",
              "      <td>7.00</td>\n",
              "      <td>2</td>\n",
              "      <td>8</td>\n",
              "      <td>4</td>\n",
              "      <td>0.165</td>\n",
              "      <td>0</td>\n",
              "      <td>0</td>\n",
              "      <td>0</td>\n",
              "      <td>0</td>\n",
              "      <td>2</td>\n",
              "      <td>160</td>\n",
              "      <td>1</td>\n",
              "      <td>0</td>\n",
              "    </tr>\n",
              "    <tr>\n",
              "      <th>2</th>\n",
              "      <td>15662854</td>\n",
              "      <td>0</td>\n",
              "      <td>29.58</td>\n",
              "      <td>1.75</td>\n",
              "      <td>1</td>\n",
              "      <td>4</td>\n",
              "      <td>4</td>\n",
              "      <td>1.250</td>\n",
              "      <td>0</td>\n",
              "      <td>0</td>\n",
              "      <td>0</td>\n",
              "      <td>1</td>\n",
              "      <td>2</td>\n",
              "      <td>280</td>\n",
              "      <td>1</td>\n",
              "      <td>0</td>\n",
              "    </tr>\n",
              "    <tr>\n",
              "      <th>3</th>\n",
              "      <td>15687688</td>\n",
              "      <td>0</td>\n",
              "      <td>21.67</td>\n",
              "      <td>11.50</td>\n",
              "      <td>1</td>\n",
              "      <td>5</td>\n",
              "      <td>3</td>\n",
              "      <td>0.000</td>\n",
              "      <td>1</td>\n",
              "      <td>1</td>\n",
              "      <td>11</td>\n",
              "      <td>1</td>\n",
              "      <td>2</td>\n",
              "      <td>0</td>\n",
              "      <td>1</td>\n",
              "      <td>1</td>\n",
              "    </tr>\n",
              "    <tr>\n",
              "      <th>4</th>\n",
              "      <td>15715750</td>\n",
              "      <td>1</td>\n",
              "      <td>20.17</td>\n",
              "      <td>8.17</td>\n",
              "      <td>2</td>\n",
              "      <td>6</td>\n",
              "      <td>4</td>\n",
              "      <td>1.960</td>\n",
              "      <td>1</td>\n",
              "      <td>1</td>\n",
              "      <td>14</td>\n",
              "      <td>0</td>\n",
              "      <td>2</td>\n",
              "      <td>60</td>\n",
              "      <td>159</td>\n",
              "      <td>1</td>\n",
              "    </tr>\n",
              "  </tbody>\n",
              "</table>\n",
              "</div>"
            ],
            "text/plain": [
              "   CustomerID  A1     A2     A3  A4  A5  ...  A10  A11  A12  A13   A14  Class\n",
              "0    15776156   1  22.08  11.46   2   4  ...    0    1    2  100  1213      0\n",
              "1    15739548   0  22.67   7.00   2   8  ...    0    0    2  160     1      0\n",
              "2    15662854   0  29.58   1.75   1   4  ...    0    1    2  280     1      0\n",
              "3    15687688   0  21.67  11.50   1   5  ...   11    1    2    0     1      1\n",
              "4    15715750   1  20.17   8.17   2   6  ...   14    0    2   60   159      1\n",
              "\n",
              "[5 rows x 16 columns]"
            ]
          },
          "metadata": {
            "tags": []
          },
          "execution_count": 3
        }
      ]
    },
    {
      "cell_type": "code",
      "metadata": {
        "id": "ZMjzjScR2jun"
      },
      "source": [
        "# Feature Scaling\n",
        "from sklearn.preprocessing import MinMaxScaler\n",
        "sc = MinMaxScaler(feature_range=(0,1))\n",
        "X = sc.fit_transform(X)"
      ],
      "execution_count": null,
      "outputs": []
    },
    {
      "cell_type": "code",
      "metadata": {
        "colab": {
          "base_uri": "https://localhost:8080/"
        },
        "id": "lCVn_ywy36eX",
        "outputId": "ec8076cb-9a59-4fde-b3d0-35a000d07b8e"
      },
      "source": [
        "# Für das Training einer SOM benötigen wir noch ein neues Python Modul\n",
        "!pip install minisom"
      ],
      "execution_count": null,
      "outputs": [
        {
          "output_type": "stream",
          "text": [
            "Requirement already satisfied: minisom in /usr/local/lib/python3.6/dist-packages (2.2.7)\n"
          ],
          "name": "stdout"
        }
      ]
    },
    {
      "cell_type": "code",
      "metadata": {
        "id": "lIs-Rhp13Eqe"
      },
      "source": [
        "# Training the SOM\n",
        "from minisom import MiniSom\n",
        "som = MiniSom(x = 10, y = 10, input_len= 15, sigma=1.0, learning_rate=0.5)\n",
        "som.random_weights_init(X)\n",
        "som.train_random(data = X, num_iteration= 100)"
      ],
      "execution_count": null,
      "outputs": []
    },
    {
      "cell_type": "code",
      "metadata": {
        "colab": {
          "base_uri": "https://localhost:8080/",
          "height": 269
        },
        "id": "g1Qe_Y_-9VCA",
        "outputId": "ffbb40f2-c6ef-48e7-8279-ae390bc0934e"
      },
      "source": [
        "# Visualizing the results\n",
        "from pylab import bone, pcolor, colorbar, plot, show\n",
        "bone()\n",
        "pcolor(som.distance_map().T)\n",
        "colorbar()\n",
        "markers = ['o','s']\n",
        "colors = ['r', 'g']\n",
        "for i,x in enumerate(X): # i = Index, x = Vektoren\n",
        "  w = som.winner(x) # Hiermit ziehen wir die Gewinnner aus der SOM\n",
        "  plot(w[0] + 0.5,\n",
        "       w[1] + 0.5,\n",
        "       markers[y[i]],\n",
        "       markeredgecolor = colors[y[i]],\n",
        "       markerfacecolor = 'None',\n",
        "       markersize = 10,\n",
        "       markeredgewidth = 2) \n",
        "show()\n"
      ],
      "execution_count": null,
      "outputs": [
        {
          "output_type": "display_data",
          "data": {
            "image/png": "[encoded data removed]",
            "text/plain": [
              "<Figure size 432x288 with 2 Axes>"
            ]
          },
          "metadata": {
            "tags": [],
            "needs_background": "light"
          }
        }
      ]
    },
    {
      "cell_type": "code",
      "metadata": {
        "id": "2hWLMLgCKR1V"
      },
      "source": [
        "# Finden der Betrugsfälle\n",
        "mappings = som.win_map(X)\n",
        "frauds = np.concatenate((mappings[(6,8)], mappings[(8,8)]),axis=0)\n",
        "#frauds = mappings[3,3] # Bei einzel Beobachtungen\n",
        "frauds = sc.inverse_transform(frauds)"
      ],
      "execution_count": null,
      "outputs": []
    },
    {
      "cell_type": "code",
      "metadata": {
        "colab": {
          "base_uri": "https://localhost:8080/"
        },
        "id": "juZ8CUW-6v0B",
        "outputId": "0e2db834-ee2a-4628-bad7-32857d3645aa"
      },
      "source": [
        "print('Kunden.IDs unter Betrugsverdacht')\n",
        "for i in frauds[:, 0]:\n",
        "  print(int(i))"
      ],
      "execution_count": null,
      "outputs": [
        {
          "output_type": "stream",
          "text": [
            "Kunden.IDs unter Betrugsverdacht\n",
            "15593694\n",
            "15781574\n",
            "15766183\n",
            "15808662\n",
            "15684722\n",
            "15772329\n",
            "15734649\n",
            "15646082\n",
            "15717629\n",
            "15757188\n",
            "15604536\n",
            "15635598\n",
            "15647191\n",
            "15776545\n",
            "15792107\n",
            "15623369\n",
            "15667588\n",
            "15793896\n",
            "15650591\n",
            "15813192\n",
            "15633608\n",
            "15675450\n"
          ],
          "name": "stdout"
        }
      ]
    },
    {
      "cell_type": "markdown",
      "metadata": {
        "id": "-4-oikffpoA-"
      },
      "source": [
        "##### Von Unsupervised zu Supervised-Learning\n",
        "\n",
        "Da wir nun mittels Unsupervised-Learning eine Muster bzw. eine abhänginge Variabele gefunden haben, können wir es nun in das Supervised-Learning übertragen."
      ]
    },
    {
      "cell_type": "code",
      "metadata": {
        "id": "RsDQ-EipKo5f"
      },
      "source": [
        "# Erstellung eine Matrix mit Merkmalen (Features)\n",
        "customers = dataset.iloc[:,1:].values"
      ],
      "execution_count": null,
      "outputs": []
    },
    {
      "cell_type": "code",
      "metadata": {
        "id": "W7WCM9t_2V_2"
      },
      "source": [
        "# Erstellen des Labels (Abhängige Variable)\n",
        "is_fraud = np.zeros(len(dataset))\n",
        "for i in range(len(dataset)):\n",
        "  if dataset.iloc[i,0] in frauds:\n",
        "    is_fraud[i] = 1"
      ],
      "execution_count": null,
      "outputs": []
    },
    {
      "cell_type": "markdown",
      "metadata": {
        "id": "uWTO38YR5vkZ"
      },
      "source": [
        "Da wir nun die abhänigen Variablen haben, können wir diese für unser KNN verwenden"
      ]
    },
    {
      "cell_type": "code",
      "metadata": {
        "colab": {
          "base_uri": "https://localhost:8080/"
        },
        "id": "9buKnxgI7Qth",
        "outputId": "13cce447-24e4-4105-df15-ae9108a9a748"
      },
      "source": [
        "### Feature Scaling\n",
        "\n",
        "from sklearn.preprocessing import StandardScaler\n",
        "sc = StandardScaler()\n",
        "customers = sc.fit_transform(customers)\n",
        "\n",
        "\"\"\"## Building the ANN\n",
        "##Import Tensorflow\n",
        "\"\"\"\n",
        "\n",
        "import tensorflow as tf\n",
        "tf.__version__\n",
        "\n",
        "## Initializing the ANN\n",
        "\n",
        "ann = tf.keras.models.Sequential()\n",
        "\n",
        "##Adding the input layer and the first hidden layer\n",
        "\n",
        "ann.add(tf.keras.layers.Dense(units=2, kernel_initializer='uniform', activation='relu', input_dim = 15))\n",
        "\n",
        "## Adding the output layer\"\"\"\n",
        "\n",
        "ann.add(tf.keras.layers.Dense(units=1, kernel_initializer='uniform',activation='sigmoid'))\n",
        "\n",
        "## Training the ANN\n",
        "## Compiling the ANN\n",
        "\n",
        "ann.compile(optimizer = 'adam', loss = 'binary_crossentropy', metrics = ['accuracy'])\n",
        "\n",
        "## Training the ANN on the Training set\"\"\"\n",
        "\n",
        "ann.fit(customers, is_fraud, batch_size = 1, epochs = 2)\n",
        "\n",
        "## Predicting test set results\"\"\"\n",
        "\n",
        "y_pred = ann.predict(customers)\n",
        "y_pred = np.concatenate((dataset.iloc[:, 0:1].values, y_pred), axis = 1)\n",
        "y_pred = y_pred[y_pred[:, 1].argsort()]\n",
        "\n",
        "print(y_pred)"
      ],
      "execution_count": null,
      "outputs": [
        {
          "output_type": "stream",
          "text": [
            "Epoch 1/2\n",
            "690/690 [==============================] - 1s 851us/step - loss: 0.5822 - accuracy: 0.9616\n",
            "Epoch 2/2\n",
            "690/690 [==============================] - 1s 905us/step - loss: 0.2017 - accuracy: 0.9672\n",
            "[[1.57442730e+07 1.22229159e-02]\n",
            " [1.55837240e+07 1.28696859e-02]\n",
            " [1.55709900e+07 1.31408870e-02]\n",
            " ...\n",
            " [1.55988020e+07 3.39036584e-01]\n",
            " [1.57723290e+07 3.39036584e-01]\n",
            " [1.57627160e+07 3.39036584e-01]]\n"
          ],
          "name": "stdout"
        }
      ]
    },
    {
      "cell_type": "code",
      "metadata": {
        "colab": {
          "base_uri": "https://localhost:8080/",
          "height": 419
        },
        "id": "XHSa2v9YUd_c",
        "outputId": "c860e785-483b-435e-8f85-9f21fa0da10a"
      },
      "source": [
        "y_pred = pd.DataFrame(y_pred)\n",
        "y_pred.head(len(y_pred))"
      ],
      "execution_count": null,
      "outputs": [
        {
          "output_type": "execute_result",
          "data": {
            "text/html": [
              "<div>\n",
              "<style scoped>\n",
              "    .dataframe tbody tr th:only-of-type {\n",
              "        vertical-align: middle;\n",
              "    }\n",
              "\n",
              "    .dataframe tbody tr th {\n",
              "        vertical-align: top;\n",
              "    }\n",
              "\n",
              "    .dataframe thead th {\n",
              "        text-align: right;\n",
              "    }\n",
              "</style>\n",
              "<table border=\"1\" class=\"dataframe\">\n",
              "  <thead>\n",
              "    <tr style=\"text-align: right;\">\n",
              "      <th></th>\n",
              "      <th>0</th>\n",
              "      <th>1</th>\n",
              "    </tr>\n",
              "  </thead>\n",
              "  <tbody>\n",
              "    <tr>\n",
              "      <th>0</th>\n",
              "      <td>15744273.0</td>\n",
              "      <td>0.012223</td>\n",
              "    </tr>\n",
              "    <tr>\n",
              "      <th>1</th>\n",
              "      <td>15583724.0</td>\n",
              "      <td>0.012870</td>\n",
              "    </tr>\n",
              "    <tr>\n",
              "      <th>2</th>\n",
              "      <td>15570990.0</td>\n",
              "      <td>0.013141</td>\n",
              "    </tr>\n",
              "    <tr>\n",
              "      <th>3</th>\n",
              "      <td>15810716.0</td>\n",
              "      <td>0.013305</td>\n",
              "    </tr>\n",
              "    <tr>\n",
              "      <th>4</th>\n",
              "      <td>15711635.0</td>\n",
              "      <td>0.013872</td>\n",
              "    </tr>\n",
              "    <tr>\n",
              "      <th>...</th>\n",
              "      <td>...</td>\n",
              "      <td>...</td>\n",
              "    </tr>\n",
              "    <tr>\n",
              "      <th>685</th>\n",
              "      <td>15790113.0</td>\n",
              "      <td>0.339037</td>\n",
              "    </tr>\n",
              "    <tr>\n",
              "      <th>686</th>\n",
              "      <td>15708714.0</td>\n",
              "      <td>0.339037</td>\n",
              "    </tr>\n",
              "    <tr>\n",
              "      <th>687</th>\n",
              "      <td>15598802.0</td>\n",
              "      <td>0.339037</td>\n",
              "    </tr>\n",
              "    <tr>\n",
              "      <th>688</th>\n",
              "      <td>15772329.0</td>\n",
              "      <td>0.339037</td>\n",
              "    </tr>\n",
              "    <tr>\n",
              "      <th>689</th>\n",
              "      <td>15762716.0</td>\n",
              "      <td>0.339037</td>\n",
              "    </tr>\n",
              "  </tbody>\n",
              "</table>\n",
              "<p>690 rows × 2 columns</p>\n",
              "</div>"
            ],
            "text/plain": [
              "              0         1\n",
              "0    15744273.0  0.012223\n",
              "1    15583724.0  0.012870\n",
              "2    15570990.0  0.013141\n",
              "3    15810716.0  0.013305\n",
              "4    15711635.0  0.013872\n",
              "..          ...       ...\n",
              "685  15790113.0  0.339037\n",
              "686  15708714.0  0.339037\n",
              "687  15598802.0  0.339037\n",
              "688  15772329.0  0.339037\n",
              "689  15762716.0  0.339037\n",
              "\n",
              "[690 rows x 2 columns]"
            ]
          },
          "metadata": {
            "tags": []
          },
          "execution_count": 42
        }
      ]
    },
    {
      "cell_type": "markdown",
      "metadata": {
        "id": "4oaIazJiUU5D"
      },
      "source": [
        "### Boltzmann Machines (BM)\n",
        "\n",
        "Eine Boltzmann-Maschine ist ein stochastisches künstliches neuronales Netz, das von Geoffrey Hinton und Terrence J. Sejnowski 1985 entwickelt wurde. Benannt sind diese Netze nach der [Boltzmann-Verteilung](https://de.wikipedia.org/wiki/Boltzmann-Statistik#:~:text=Mathematisch%20ist%20die%20Boltzmann%2DVerteilung,neuronale%20Netz%20der%20Boltzmann%2DMaschine). Boltzmann-Maschinen ohne Beschränkung der Verbindungen lassen sich nur sehr schwer trainieren. Beschränkt man die Verbindungen zwischen den Neuronen jedoch, lässt sich der Lernvorgang stark vereinfachen, wodurch Beschränkte Boltzmann-Maschinen sich zur Lösung praktischer Probleme einsetzen lassen.\n",
        "\n",
        "Im Gegensatz zu anderen Modellen wie KNN, CNN, RNN oder SOM gibt es bei der Boltzmann-Maschine erstens keine Richtung (bspw. Feedforward), in welcher die Daten prozessiert werden und zweites kein Output-Layer. Eine BM kann deshalb grafisch wie folgt dargestellt werden:\n",
        "\n",
        "<img src='https://miro.medium.com/max/864/1*Ere0a83PN-Rj7DF5_IVZdg.png' width=700>\n",
        "\n",
        "* Boltzmann-Maschinen verwenden neuronale Netze mit Neuronen, die nicht nur mit anderen Neuronen in anderen Schichten, sondern auch mit Neuronen innerhalb derselben Schicht verbunden sind. \n",
        "* Alles ist mit allem verbunden. Verbindungen sind bidirektionale, sichtbare Neuronen, die miteinander verbunden sind, und versteckte Neuronen, die ebenfalls miteinander verbunden sind. \n",
        "* Boltzmann Machine erwartet keine Eingabedaten, sondern generiert Daten. Neuronen erzeugen Informationen, unabhängig davon, ob sie versteckt oder sichtbar sind. \n",
        "* Bei Boltzmann Machine sind alle Neuronen gleich, es wird nicht zwischen versteckten und sichtbaren Neuronen unterschieden. Für Boltzmann Machine ist das Ganze das System und sein Erzeugungszustand des Systems.\n",
        "\n",
        "#### **Vergleichbar mit Atomkraftwerk**\n",
        "\n",
        "Geoffrey Hinton (einer der Erfinder der BM), verglich die BM mal mit einem Atomkraftwerk:\n",
        "\n",
        "<img src='https://miro.medium.com/max/1400/1*DtFQJ4e7QTtqlEStFkNruA.png' width = 600>\n",
        "\n",
        "* Nehmen wir zum Beispiel an, wir haben ein Kernkraftwerk und es gibt bestimmte Dinge, die wir im Kernkraftwerk messen können, wie die Temperatur des Sicherheitsgebäudes, wie schnell sich die Turbine dreht, der Druck in der Pumpe usw. \n",
        "* Es gibt viele Dinge, die wir nicht messen, wie die Geschwindigkeit Wind, die Feuchtigkeit des Bodens an diesem bestimmten Ort, sein sonniger Tag oder Regentag usw. Alle diese Parameter bilden zusammen ein System, sie arbeiten alle zusammen. \n",
        "* Alle diese Parameter sind binär. Wir erhalten also eine ganze Reihe von Binärzahlen, die uns etwas über den Zustand des Kraftwerks erzählen. \n",
        "* Was wir tun möchten, ist, dass wir das bemerken wollen, wenn es in einem ungewöhnlichen Zustand sein wird. Ein Zustand, der **nicht wie ein normaler Zustand** ist, den wir zuvor gesehen hatten. Und dafür möchten wir kein überwachtes Lernen verwenden. Weil wir keine Beispiele für Zustände haben, die dazu führen, dass es explodiert. \n",
        "* Wir wären eher in der Lage, dies zu erkennen, wenn es in einen solchen Zustand übergeht, ohne zuvor einen solchen Zustand gesehen zu haben. Und wir könnten dies tun, indem wir ein Modell eines normalen Zustands erstellen und feststellen, dass sich dieser Zustand von den normalen Zuständen unterscheidet. Das repräsentiert die Boltzmann-Maschine. \n",
        "* Bei der Funktionsweise dieses Systems verwenden wir unsere Trainingsdaten und geben sie als Eingabe in die Boltzmann-Maschine ein, um das System bei der Anpassung seiner Gewichte zu unterstützen. \n",
        "* Es lernt aus der Eingabe, welche Verbindungen zwischen all diesen Parametern möglich sind, wie sie sich gegenseitig beeinflussen, und wird so zu einer Maschine, die unser System repräsentiert. Mit dieser Boltzmann-Maschine können wir unser System überwachen. Die Boltzmann-Maschine lernt anhand eines guten Beispiels, wie das System im Normalzustand funktioniert.\n",
        "\n",
        "Die Boltzmann-Maschine besteht aus einem neuronalen Netzwerk mit einer Eingangsschicht und einer oder mehreren verborgenen Schichten. Die Neuronen im neuronalen Netzwerk treffen stochastische Entscheidungen darüber, ob sie ein- oder ausgeschaltet werden sollen, basierend auf den Daten, die wir während des Trainings eingeben, und der Kostenfunktion, die die Boltzmann-Maschine zu minimieren versucht. Auf diese Weise entdeckt die Boltzmann-Maschine interessante Merkmale der Daten, mit deren Hilfe die komplexen zugrunde liegenden Beziehungen und Muster in den Daten modelliert werden können. Diese Boltzmann-Maschinen verwenden neuronale Netze mit Neuronen, die nicht nur mit anderen Neuronen in anderen Schichten, sondern auch mit Neuronen innerhalb derselben Schicht verbunden sind. Das macht das Training einer unrestricted Boltzmann-Maschine sehr ineffizient. Dies ist mitunter ein Grund weshalb Boltzmann-Maschine einen nur sehr geringen kommerziellen Erfolg hat.\n",
        "\n",
        "Empfohlener Artikel: \n",
        "\n",
        "https://medium.com/datadriveninvestor/an-intuitive-introduction-of-boltzmann-machine-8ec54980d789"
      ]
    },
    {
      "cell_type": "markdown",
      "metadata": {
        "id": "jUaueMeGfGcJ"
      },
      "source": [
        "#### Restricted Boltzmann Machine (RBM)\n",
        "\n",
        "Wie oben bereits erwähnt, stellt die dichte Konnektivität auch ein Problem dar. Um dieses zu Umgehen wurde BM dahingehen eingeschränkt, dass weder die Hidden noch die Visible Nodes untereinander verbunden sind. Daraus entsteht die Restricted Bolzmann Machine (RBM).\n",
        "\n",
        "<img src='https://miro.medium.com/max/1163/1*LoeBW9Stm6HjK57yBp45sQ.png' width = 500>"
      ]
    },
    {
      "cell_type": "markdown",
      "metadata": {
        "id": "KLQjN9mVhv85"
      },
      "source": [
        "#### Beispiel Boltzmann Machine\n",
        "\n",
        "Nachfolgenden bauen wir auf Basis einer BM ein Recommender System"
      ]
    },
    {
      "cell_type": "code",
      "metadata": {
        "id": "bEFsZ1uPiOzw"
      },
      "source": [
        "# Loading Python Libraries \n",
        "\n",
        "import pandas as pd\n",
        "import numpy as np\n",
        "import torch\n",
        "import torch.nn as nn\n",
        "import torch.nn.parallel\n",
        "import torch.optim as optim\n",
        "import torch.utils.data\n",
        "from torch.autograd import Variable"
      ],
      "execution_count": null,
      "outputs": []
    },
    {
      "cell_type": "code",
      "metadata": {
        "id": "f_gR-4sijON0"
      },
      "source": [
        "# Loading Datasets\n",
        "\n",
        "datlocmov = 'https://raw.githubusercontent.com/sakuronohana/my_datascience/master/udemy/dlaz/Volume%202%20-%20Unsupervised%20Deep%20Learning/AutoEncoders/ml-1m/movies.dat'\n",
        "datlocuser = 'https://raw.githubusercontent.com/sakuronohana/my_datascience/master/udemy/dlaz/Volume%202%20-%20Unsupervised%20Deep%20Learning/AutoEncoders/ml-1m/users.dat'\n",
        "datlocrate = 'https://raw.githubusercontent.com/sakuronohana/my_datascience/master/udemy/dlaz/Volume%202%20-%20Unsupervised%20Deep%20Learning/AutoEncoders/ml-1m/ratings.dat'\n",
        "datloctrainset = 'https://raw.githubusercontent.com/sakuronohana/my_datascience/master/udemy/dlaz/Volume%202%20-%20Unsupervised%20Deep%20Learning/AutoEncoders/ml-100k/u1.base'\n",
        "datloctestset = 'https://raw.githubusercontent.com/sakuronohana/my_datascience/master/udemy/dlaz/Volume%202%20-%20Unsupervised%20Deep%20Learning/AutoEncoders/ml-100k/u1.test'\n",
        "\n",
        "movies = pd.read_csv(datlocmov, sep='::', header=None, engine='python', encoding='latin-1')\n",
        "users = pd.read_csv(datlocuser, sep='::', header=None, engine='python', encoding='latin-1')\n",
        "ratings = pd.read_csv(datlocrate, sep='::', header=None, engine='python', encoding='latin-1')\n",
        "training_set = pd.read_csv(datloctrainset, sep='\\t')\n",
        "test_set = pd.read_csv(datloctestset, sep='\\t')\n"
      ],
      "execution_count": null,
      "outputs": []
    },
    {
      "cell_type": "code",
      "metadata": {
        "id": "PkgyOzJVofQr"
      },
      "source": [
        "# Vorbereitung der Trainings- und Testdaten\n",
        "training_set = np.array(training_set, dtype = 'int')\n",
        "test_set = np.array(test_set, dtype = 'int')\n"
      ],
      "execution_count": null,
      "outputs": []
    },
    {
      "cell_type": "code",
      "metadata": {
        "id": "kJrpYY_zt_J7"
      },
      "source": [
        "# Extrahierung der Anzahl von Benutzern und Filme\n",
        "nb_users = int(max(max(training_set[:, 0], ), max(test_set[:, 0])))\n",
        "nb_movies = int(max(max(training_set[:, 1], ), max(test_set[:, 1])))"
      ],
      "execution_count": null,
      "outputs": []
    },
    {
      "cell_type": "code",
      "metadata": {
        "id": "0vNNluCjvETE"
      },
      "source": [
        "# Konvertierung der Daten in einen Array mit Benutzers (Zeilen) und Movies (Spalten)\n",
        "# Hierfür erstellen wir eine Funktion\n",
        "\n",
        "def convert(data):\n",
        "  new_data = []\n",
        "  for id_users in range(1, nb_users + 1):\n",
        "    id_movies = data[:, 1] [data[:, 0] == id_users]\n",
        "    id_ratings = data[:, 2] [data[:, 0] == id_users]\n",
        "    ratings = np.zeros(nb_movies)\n",
        "    ratings[id_movies - 1] = id_ratings\n",
        "    new_data.append(list(ratings))\n",
        "  return new_data\n",
        "training_set = convert(training_set)\n",
        "test_set = convert(test_set)"
      ],
      "execution_count": null,
      "outputs": []
    },
    {
      "cell_type": "code",
      "metadata": {
        "id": "I7MjWUdNzMFE"
      },
      "source": [
        "# Konvertierung die Daten in PyTorch Tensors\n",
        "training_set = torch.FloatTensor(training_set)\n",
        "test_set = torch.FloatTensor(test_set)"
      ],
      "execution_count": null,
      "outputs": []
    },
    {
      "cell_type": "code",
      "metadata": {
        "id": "4WfJAGTfz3HE"
      },
      "source": [
        "# Konvertierung die Ratings in Binary Ratings 1 (Liked) or 0 (Not Liked)\n",
        "training_set[training_set == 0] = -1\n",
        "training_set[training_set == 1] = 0\n",
        "training_set[training_set == 2] = 0\n",
        "training_set[training_set >= 3] = 1\n",
        "test_set[test_set == 0] = -1\n",
        "test_set[test_set == 1] = 0\n",
        "test_set[test_set == 2] = 0\n",
        "test_set[test_set >= 3] = 1"
      ],
      "execution_count": null,
      "outputs": []
    },
    {
      "cell_type": "code",
      "metadata": {
        "id": "jQM6mkNr3qO1"
      },
      "source": [
        "# Erstellung der Architektur des Neural Network\n",
        "class RBM():\n",
        "  def __init__(self, nv, nh):\n",
        "    self.W = torch.randn(nh, nv)\n",
        "    self.a = torch.randn(1, nh)\n",
        "    self.b = torch.randn(1, nv)\n",
        "  def sample_h(self, x):\n",
        "    wx = torch.mm(x, self.W.t())\n",
        "    activation = wx + self.a.expand_as(wx)\n",
        "    p_h_given_v = torch.sigmoid(activation)\n",
        "    return p_h_given_v, torch.bernoulli(p_h_given_v)\n",
        "  def sample_v(self, y):\n",
        "    wy = torch.mm(y, self.W)\n",
        "    activation = wy + self.b.expand_as(wy)\n",
        "    p_v_given_h = torch.sigmoid(activation)\n",
        "    return p_v_given_h, torch.bernoulli(p_v_given_h)\n",
        "  def train(self, v0, vk, ph0, phk):\n",
        "    self.W += (torch.mm(v0.t(), ph0) - torch.mm(vk.t(), phk)).t()\n",
        "    self.b += torch.sum((v0 - vk), 0)\n",
        "    self.a += torch.sum((ph0 - phk), 0)\n",
        "nv = len(training_set[0])\n",
        "nh = 100\n",
        "batch_size = 100\n",
        "rbm = RBM(nv, nh)"
      ],
      "execution_count": null,
      "outputs": []
    },
    {
      "cell_type": "code",
      "metadata": {
        "colab": {
          "base_uri": "https://localhost:8080/"
        },
        "id": "SZllcONlIRZ1",
        "outputId": "ee3d53d4-14de-42f4-c25c-0f79f4f8ee79"
      },
      "source": [
        "# Training RBM\n",
        "nb_epoch = 10\n",
        "for epoch in range(1, nb_epoch + 1):\n",
        "  train_loss = 0\n",
        "  s = 0.\n",
        "  for id_user in range(0, nb_users - batch_size, batch_size):\n",
        "    vk = training_set[id_user : id_user + batch_size]\n",
        "    v0 = training_set[id_user : id_user + batch_size]\n",
        "    ph0,_ = rbm.sample_h(v0)\n",
        "    for k in range(10):\n",
        "      _,hk = rbm.sample_h(vk)\n",
        "      _,vk = rbm.sample_v(hk)\n",
        "      vk[v0<0] = v0[v0<0]\n",
        "    phk,_ = rbm.sample_h(vk)\n",
        "    rbm.train(v0, vk, ph0, phk)\n",
        "    train_loss += torch.mean(torch.abs(v0[v0 >= 0] - vk[v0 >= 0]))\n",
        "    s += 1.\n",
        "  print('epoch: '+str(epoch)+' loss: '+str(train_loss/s))"
      ],
      "execution_count": null,
      "outputs": [
        {
          "output_type": "stream",
          "text": [
            "epoch: 1 loss: tensor(0.3573)\n",
            "epoch: 2 loss: tensor(0.2523)\n",
            "epoch: 3 loss: tensor(0.2509)\n",
            "epoch: 4 loss: tensor(0.2471)\n",
            "epoch: 5 loss: tensor(0.2503)\n",
            "epoch: 6 loss: tensor(0.2482)\n",
            "epoch: 7 loss: tensor(0.2478)\n",
            "epoch: 8 loss: tensor(0.2493)\n",
            "epoch: 9 loss: tensor(0.2501)\n",
            "epoch: 10 loss: tensor(0.2478)\n"
          ],
          "name": "stdout"
        }
      ]
    },
    {
      "cell_type": "code",
      "metadata": {
        "colab": {
          "base_uri": "https://localhost:8080/"
        },
        "id": "e3Oj-KG2Ky0q",
        "outputId": "38e62bca-7e1f-455d-d047-9310b0ef9afb"
      },
      "source": [
        "# Testing RBM\n",
        "\n",
        "test_loss = 0\n",
        "s = 0.\n",
        "for id_user in range(nb_users):\n",
        "    v = training_set[id_user:id_user+1]\n",
        "    vt = test_set[id_user:id_user+1]\n",
        "    if len(vt[vt>=0]) > 0:\n",
        "        _,h = rbm.sample_h(v)\n",
        "        _,v = rbm.sample_v(h)\n",
        "        test_loss += torch.mean(torch.abs(vt[vt>=0] - v[vt>=0]))\n",
        "        s += 1.\n",
        "print('test loss: '+str(test_loss/s))"
      ],
      "execution_count": null,
      "outputs": [
        {
          "output_type": "stream",
          "text": [
            "test loss: tensor(0.2437)\n"
          ],
          "name": "stdout"
        }
      ]
    },
    {
      "cell_type": "markdown",
      "metadata": {
        "id": "Yu9II-gMUbp7"
      },
      "source": [
        "### AutoEncoders\n",
        "\n",
        "Autoencoder sind künstliche neuronale Netze, die mittels der Eingabedaten ohne jegliche Überwachung (Unsupervised), für die Erkennung von Mustern eingesetzt werden können. Korrekterweise müsste man AutoEncoder als Self-Supervised Learning Algorthimus bezeichnen, da sie sich selber kontrollieren, aber hierzu kommen wir später. Autoencoder sind vor allem bei der Merkmalserkennung sehr mächtig. Mittels dieser Algorithmen können so zufällige neue Daten generieren werden, die den Trainingsdaten sehr ähnlich sind; dies nennt man ein generatives Modell. Beispielsweise\n",
        "kann ein Autoencoder mit Bildern von Gesichtern trainieren werden, und er würde daraufhin neue Gesichter generieren können. Diese Technik wird hat vor allem mit dem Begriff \"Deepfake\" einen unrühmlichen Bekanntheitsgrad erlangt ([Artikel](https://www.scip.ch/?labs.20181004)).\n",
        "\n",
        "Autoencoder tun in wesentlichen nichts weiter, als zu lernen, ihre Eingaben zu den Ausgaben zu kopieren. Was sich hier so einfach anhört wird jedoch durch zusätzliche Einschränkungen des Netzes absichtlich erschwert. Beispielsweise\n",
        "können Sie die Größe der internen Repräsentation begrenzen oder den Eingabedaten zusätzliches Rauschen (Bias) beimischen und dann das Netz so trainieren, dass es die ursprünglichen Eingaben wiederherstellt. Dies verhindert, dass das Modell die Eingaben einfach direkt in die Ausgabe kopiert und zwingt es dazu\n",
        "effiziente Wege zur Repräsentation der Daten zu finden.\n",
        "\n",
        "Das erstaunliche an Autoencoder ist die verhältnismässig einfach Architektur. So besteht ein Autoencoder aus zwei wesentlichen Bestandteilen, einem **Encoder** (Recognition Network), der die Eingabedaten in eine interne Repräsentation überführt und eine **Decoder** (Generative Network), der die interne Repräsentation in eine Ausgabe umwandelt. Die Ausgabe eines Autoencoders wird oft auch als *Rekonstruktionen* bezeichnet. Ein wichtiges Element dieser Architektur ist die zentrale verborgenen Schicht oder auch die codierende Schicht genannt.\n",
        "\n",
        "<img src='https://cdn-images-1.medium.com/max/1600/1*ZEvDcg1LP7xvrTSHt0B5-Q@2x.png' width=500>\n",
        "\n",
        "*Quelle: Towards Data Science*\n",
        "\n",
        "Wie in der vorhergehend Abbildung erkennbar besitzt ein Autoencoder die gleiche Architektur wie ein mehrschichtiges Perzeptron (MLP),  jedoch in der Ausgabeschicht die gleiche Anzahl Units (Neuronen) wie in der Eingabeschicht verfügbar.\n",
        "\n",
        "Durch die oben beschriebene Eigenschaft lassen sich Autoencoder auf verschiede Weise einsetzen. Sei es zur **Dimensionsreduktion**, zur **Merkmalserkennung**, zum unüberwachten Vortrainieren oder als generatives Modell (z.B. für Deepfake-Anwendungen). Im Zusammenhang mit der Dimensionsreduktion arbeiten Autoencoder besser als Modelle für die Hauptkomponentenanalyse (PCA).\n",
        "\n",
        "Nachfolgend die Schritte wie ein AutoEncoder trainiert:\n",
        "\n",
        "<img src='https://github.com/sakuronohana/my_datascience/blob/master/udemy/dlaz/Volume%202%20-%20Unsupervised%20Deep%20Learning/AutoEncoders/Training_Autoencoder.png?raw=true' width=600>\n",
        "\n",
        "Es gibt mittlerweile verschiedene Arten von AutoEncoders (Aufzählung nicht abschliessend):"
      ]
    },
    {
      "cell_type": "markdown",
      "metadata": {
        "id": "EgP8Ybv7_hqR"
      },
      "source": [
        "#### Stacked Autoencoder\n",
        "\n",
        "Wie wir in der Kurzeinführung zur den Autoencoder gesehen habe, besteht ein klassischer Autoencoder meist aus einer verborgenen Schicht (Hidden Layer). Diese Architektur hat sich jedoch bei komplexeren Eingabedaten nur bedingt bewährt, weshalb auch mehrere Hidden Layers hinzugefügt werden können. Hierbei spricht man von sogenannten *Stacked Autoencoder*. Dabei werden weitere Schichten symmentrisch um die zentrale Codierungsschicht herum aufgebaut. Symmetrisch deshalb, weil die weiteren Schichten immer in gespiegelter Weise über die gleiche Anzahl an Units verfügen.\n",
        "\n",
        "<img src='https://cdn-images-1.medium.com/max/1600/1*7H9VQlN94-wv7Ianqt6GZg.png' width=500>\n",
        "\n",
        "*Quelle: Medium Corporation*"
      ]
    },
    {
      "cell_type": "markdown",
      "metadata": {
        "id": "tLHycqyxABL1"
      },
      "source": [
        "#### Denoising Autoencoder\n",
        "\n",
        "Im wesentlichen unterscheidet sich der Denosing Autoencoder vom Stacked Autoencoder dardurch, dass hier noch ein sogenannte \"Rauschen\" hinzugefügt wird. Mit diesem \"Rauschen\" verhindert man, dass der Autoencoder den Input einfach in den Output kopiert und stattessen ein Muster in den Daten findet. \n",
        "\n",
        "Entweder wird ein normalverteiltes Rauschen dazu addiert oder wie bei der [Drop-out](https://de.wikipedia.org/wiki/Dropout_(k%C3%BCnstliches_neuronales_Netz)) Methode zufällig Eingabewerte deaktiviert. \n",
        "\n",
        "<img src='https://lilianweng.github.io/lil-log/assets/images/denoising-autoencoder-architecture.png' width=500>\n",
        "\n",
        "*Quelle: [Lilian Weng](https://lilianweng.github.io/lil-log/2018/08/12/from-autoencoder-to-beta-vae.html)*"
      ]
    },
    {
      "cell_type": "markdown",
      "metadata": {
        "id": "LKf2y9iEAtMt"
      },
      "source": [
        "#### Variational Autoencoder\n",
        "\n",
        "Dieser Typ Autoencoder untscheidet sich zu den oben beschriebenen Autoencoder dahingehen, dass es sich hierbei einerseits um einen probabilistischen Ansatz handelt bzw. auch nach dem Training wird die Ausgabe zufällig festgelegt, nicht wie beim Denoising Autocoder, welcher nur während des Trainigs Zufallselemente enthält. Andererseits handelt es sich dabei um einen generativen Autoencoder, der neue Daten generiert die so aussehen als ob sie aus dem ursprünglichen Trainingsdatensatz kommen würden.\n",
        "\n",
        "<img src='https://miro.medium.com/max/1314/1*CiVcrrPmpcB1YGMkTF7hzA.png' width=400>\n",
        "\n",
        "*Quelle: [Towards Data Science](https://towardsdatascience.com/intuitively-understanding-variational-autoencoders-1bfe67eb5daf)*\n",
        "\n",
        "Wie in der Grafik oben ersichtlich, sieht der Variational Autoencoder in der Grundstruktur weitgehend aus wie die bereits beschriebenen Autoencoder. Der wesentliche Unterschied wird im mittleren Teil ersichtlich. Statt aus der Eingabe des 2. Hidden Layers ein Coding herzustellen, berechnet der Encoder ein mittleres Coding μ und dessen Standardabweichung σ. Das tatsächliche Coding wird zufällig Stichprobe einer Normalverteilung entnommen. Nach dem beschriebenen Schritt wird fährt der Decoder wie gewohnt weiter.   "
      ]
    },
    {
      "cell_type": "markdown",
      "metadata": {
        "id": "5ukrFoh2yYru"
      },
      "source": [
        "#### Beispiel Autoencoder\n",
        "\n",
        "Nachfolgenden bauen wir auf Basis einer BM ein Recommender System"
      ]
    },
    {
      "cell_type": "code",
      "metadata": {
        "id": "9FTTgmnzygIx"
      },
      "source": [
        "# Python Libraries importieren\n",
        "import numpy as np\n",
        "import pandas as pd\n",
        "import torch\n",
        "import torch.nn as nn\n",
        "import torch.nn.parallel\n",
        "import torch.optim as optim\n",
        "import torch.utils.data\n",
        "from torch.autograd import Variable"
      ],
      "execution_count": null,
      "outputs": []
    },
    {
      "cell_type": "code",
      "metadata": {
        "id": "OD8pV-b9zzb0"
      },
      "source": [
        "# Datensatz importieren\n",
        "datlocmov = 'https://raw.githubusercontent.com/sakuronohana/my_datascience/master/udemy/dlaz/Volume%202%20-%20Unsupervised%20Deep%20Learning/AutoEncoders/ml-1m/movies.dat'\n",
        "datlocuser = 'https://raw.githubusercontent.com/sakuronohana/my_datascience/master/udemy/dlaz/Volume%202%20-%20Unsupervised%20Deep%20Learning/AutoEncoders/ml-1m/users.dat'\n",
        "datlocrate = 'https://raw.githubusercontent.com/sakuronohana/my_datascience/master/udemy/dlaz/Volume%202%20-%20Unsupervised%20Deep%20Learning/AutoEncoders/ml-1m/ratings.dat'\n",
        "datloctrainset = 'https://raw.githubusercontent.com/sakuronohana/my_datascience/master/udemy/dlaz/Volume%202%20-%20Unsupervised%20Deep%20Learning/AutoEncoders/ml-100k/u1.base'\n",
        "datloctestset = 'https://raw.githubusercontent.com/sakuronohana/my_datascience/master/udemy/dlaz/Volume%202%20-%20Unsupervised%20Deep%20Learning/AutoEncoders/ml-100k/u1.test'\n",
        "\n",
        "movies = pd.read_csv(datlocmov, sep='::', header=None, engine='python', encoding='latin-1')\n",
        "users = pd.read_csv(datlocuser, sep='::', header=None, engine='python', encoding='latin-1')\n",
        "ratings = pd.read_csv(datlocrate, sep='::', header=None, engine='python', encoding='latin-1')\n",
        "training_set = pd.read_csv(datloctrainset, sep='\\t')\n",
        "test_set = pd.read_csv(datloctestset, sep='\\t')"
      ],
      "execution_count": null,
      "outputs": []
    },
    {
      "cell_type": "code",
      "metadata": {
        "id": "hupJAThg157G"
      },
      "source": [
        "# Vorbereitung der Trainings- und Testdaten\n",
        "training_set = np.array(training_set, dtype = 'int')\n",
        "test_set = np.array(test_set, dtype = 'int')"
      ],
      "execution_count": null,
      "outputs": []
    },
    {
      "cell_type": "code",
      "metadata": {
        "id": "eittLSZE2bb4"
      },
      "source": [
        "# Extrahierung der Anzahl von Benutzern und Filme\n",
        "nb_users = int(max(max(training_set[:, 0], ), max(test_set[:, 0])))\n",
        "nb_movies = int(max(max(training_set[:, 1], ), max(test_set[:, 1])))"
      ],
      "execution_count": null,
      "outputs": []
    },
    {
      "cell_type": "code",
      "metadata": {
        "id": "COpY5QsRwMfo"
      },
      "source": [
        "# Konvetierung der Daten in Array mit Users (Zeilen) und Movies (Spalte)\n",
        "def convert(data):\n",
        "    new_data = []\n",
        "    for id_users in range(1, nb_users + 1):\n",
        "      id_movies = data[:,1][data[:,0] == id_users]\n",
        "      id_ratings = data[:,2][data[:,0] == id_users]\n",
        "      ratings = np.zeros(nb_movies)\n",
        "      ratings[id_movies - 1] = id_ratings\n",
        "      new_data.append(list(ratings))\n",
        "    return new_data\n",
        "training_set = convert(training_set)\n",
        "test_set = convert(test_set)"
      ],
      "execution_count": null,
      "outputs": []
    },
    {
      "cell_type": "code",
      "metadata": {
        "id": "LTHxUAJG7UDx"
      },
      "source": [
        "# Konvertierung der Daten in einen Torch Tensor\n",
        "training_set = torch.FloatTensor(training_set)\n",
        "test_set = torch.FloatTensor(test_set)"
      ],
      "execution_count": null,
      "outputs": []
    },
    {
      "cell_type": "code",
      "metadata": {
        "id": "atrw5MDa7-jJ"
      },
      "source": [
        "# Erstellung der Autoencoder Architektur\n",
        "class SAE(nn.Module):\n",
        "  # Die erste Funktion definiert die Architektur unsere AE\n",
        "  def __init__(self, ): \n",
        "    super(SAE, self).__init__()\n",
        "    self.fc1 = nn.Linear(nb_movies, 20) # Input-Layer, fc = fullconnection\n",
        "    self.fc2 = nn.Linear(20, 10) # 1. Hidden-Layer, Encoding\n",
        "    self.fc3 = nn.Linear(10, 20) # 2. Hidden-Layer, Decoding\n",
        "    self.fc4 = nn.Linear(20, nb_movies) # Output-Layer\n",
        "    self.activation = nn.Sigmoid()\n",
        "\n",
        "  # Die zweite Funkton definiert die Ausführung der Architektur\n",
        "  def forward(self,x): \n",
        "    x = self.activation(self.fc1(x))\n",
        "    x = self.activation(self.fc2(x))\n",
        "    x = self.activation(self.fc3(x))\n",
        "    x = self.fc4(x)\n",
        "    return x\n",
        "\n",
        "sae = SAE()\n",
        "criterion = nn.MSELoss() # Definition des Mean Square Erros \n",
        "optimizer = optim.RMSprop(sae.parameters(), lr = 0.01, weight_decay = 0.5)"
      ],
      "execution_count": null,
      "outputs": []
    },
    {
      "cell_type": "code",
      "metadata": {
        "id": "LxT9zOODD9dr"
      },
      "source": [
        "# Training des Autoencoders\n",
        "nb_epoch = 200\n",
        "for epoch in range(1, nb_epoch + 1):\n",
        "  train_loss = 0\n",
        "  s = 0. # Der Punkt bedeutet ein Float\n",
        "  for id_user in range(nb_users):\n",
        "    input = Variable(training_set[id_user]).unsqueeze(0)\n",
        "    target = input.clone()\n",
        "    if torch.sum(target.data > 0) > 0:\n",
        "      output = sae(input)\n",
        "      target.require_grad = False\n",
        "      output[target == 0] = 0\n",
        "      loss = criterion(output, target)\n",
        "      mean_corrector = nb_movies/float(torch.sum(target.data > 0) + 1e-10)\n",
        "      loss.backward()\n",
        "      train_loss += np.sqrt(loss.data*mean_corrector)\n",
        "      s += 1.\n",
        "      optimizer.step()\n",
        "  print('epoch: '+str(epoch)+' loss: '+str(train_loss/s))"
      ],
      "execution_count": null,
      "outputs": []
    },
    {
      "cell_type": "code",
      "metadata": {
        "colab": {
          "base_uri": "https://localhost:8080/"
        },
        "id": "OS-9wVhuP0c8",
        "outputId": "3fcca640-9f08-4c42-d961-e8356ed63e8f"
      },
      "source": [
        "# Testing das AE\n",
        "test_loss = 0\n",
        "s = 0. # Der Punkt bedeutet ein Float\n",
        "for id_user in range(nb_users):\n",
        "    input = Variable(training_set[id_user]).unsqueeze(0)\n",
        "    target = Variable(test_set[id_user]).unsqueeze(0)\n",
        "    if torch.sum(target.data > 0) > 0:\n",
        "      output = sae(input)\n",
        "      target.require_grad = False\n",
        "      output[target == 0] = 0\n",
        "      loss = criterion(output, target)\n",
        "      mean_corrector = nb_movies/float(torch.sum(target.data > 0) + 1e-10)\n",
        "      test_loss += np.sqrt(loss.data*mean_corrector)\n",
        "      s += 1.\n",
        "print(' loss: '+str(test_loss/s))\n"
      ],
      "execution_count": null,
      "outputs": [
        {
          "output_type": "stream",
          "text": [
            " loss: tensor(0.9490)\n"
          ],
          "name": "stdout"
        }
      ]
    },
    {
      "cell_type": "markdown",
      "metadata": {
        "id": "hX37ifm3TZHw"
      },
      "source": [
        "### Auswahlverfahren Deep Learning Modelle\n",
        "\n",
        "Spätestens wenn es darum geht ein eigenes AI Projekt in Angriff zu nehmen, kommmt die Frage nach der richtigen Modellwahl. Aber was ist die richtige Wahl und von was ist diese Abhängig?\n",
        "\n",
        "### Daten\n",
        "In Bezug auf die Abhängigkeit, ist die Frage relativ schnell beantwortete. Die Wahl ist in erster Line von den bestehenden Daten abhängig. Nachfolgenden eine kurze Checkliste:\n",
        "\n",
        "* Daten **mit** Label  -> **Supervised Learning**\n",
        "* Daten **ohne** Label -> **Unsupervised Learning**\n",
        "* **Keine** Daten -> **Reinforcement Learning** -> gehört nicht zum DL\n",
        "\n",
        "Aufbauend auf der vorherigen Checkliste können wir nun die Auswahl weiter einschänken:\n",
        "\n",
        "#### Supervised Learning\n",
        "\n",
        "##### **Classification**\n",
        "* Natural Language Processing (NLP) -> **Recurrent Neural Network (RNN)**\n",
        "* Bildererkennung (Image Recognition) -> **Convolutional Neural Networks (CNN)**\n",
        "* Objekteerkennung (Object Recognition) -> **RNN** oder **CNN**\n",
        "* Spracherkennung (Speech Recognition) -> **RNN**\n",
        "\n",
        "##### **Regression**\n",
        "* Zeitreihenanalyse (Time Series Analysis) -> **RNN**\n",
        "\n",
        "#### Unsupervised Learning\n",
        "* Extraktion von Merkmalen (Features) -> **Restricted Boltsman Machine**\n",
        "* Muster in Daten erkennen -> **Autoencoder**\n",
        "\n",
        "#### Reinforcement Learning -> Gehört nicht zum Thema Deep Learning\n",
        "* Business Strategie Planung  \n",
        "* Robotics\n",
        "* Gaming "
      ]
    },
    {
      "cell_type": "markdown",
      "metadata": {
        "id": "9gmMP2-yt2BD"
      },
      "source": [
        "## **Reinforcement Learning**\n",
        "\n",
        "Reinforcement Learning (RL) bildet neben Supervised und Unsupervised Learning die dritte große Gruppe von Machine Learning Verfahren. RL ist eine am natürlichen Lernverhalten des Menschen orientierte Methode. Menschliches Lernen erfolgt, insbesondere in frühen Stadien des Lernens, häufig über eine einfache Exploration der Umwelt. Dabei sind unsere Handlungen im Rahmen des Lernproblems durch einen gewissen Aktionsraum definiert. Über \"Trial and Error\" werden die Auswirkungen verschiedener Handlungen auf unsere Umwelt beobachtet und bewertet. Als Reaktion auf unsere Handlungen erhalten wir von unserer Umgebung ein Feedback, abstrakt dargestellt in Form einer Belohnung oder Bestrafung. Dabei ist das Konzept der Belohnung bzw. Bestrafung nur in den allerwenigsten Fällen monetär zu verstehen. In vielen Fällen wird die Belohnung in Form von sozialer Akzeptanz, Lob anderer Menschen aber auch durch persönliches Wohlbefinden oder Erfolgserlebnisse ausgezahlt. Vielfach zeigt sich auch eine zeitliche Latenz zwischen Handlung und Belohnung. Hierbei versucht der Mensch häufig, durch sein Handeln die erwartete \"Gesamtbelohnung\" im Zeitverlauf zu maximieren und nicht nur unmittelbare Belohnungen zu generieren.\n",
        "\n",
        "Ein Beispiel: Wenn wir lernen Gitarre zu spielen, umfasst unser Aktionsraum das Zupfen der Seiten sowie das Greifen am Bund. Über eine zunächst zufällige Exploration des Handlungsraums erhalten wir in Form von Tönen der Gitarre ein Feedback der Umwelt. Dabei werden wir belohnt, wenn die Töne \"gerade\" sind bzw. bestraft, wenn die Nachbarn mit dem Besen von unten gegen die Decke klopfen. Wir versuchen, die erwartete Gesamtbelohnung in Form von richtig gespielten Noten und Akkorden im für uns relevanten Zeithorizont zu maximieren. Dies geschieht nicht dadurch, dass wir aufhören zu lernen sobald wir einen Akkord sauber spielen können, sondern manifestiert sich durch ein stetiges Training und immer wieder neue Belohnungen und Erfolge, die uns im Zeitverlauf erwarten. Natürlich kann die Dauer der Exploration der möglichen Handlungen und Belohnungen der Umwelt durch die Hinzunahme eines externen Trainers verbessert werden. Dieses Beispiel ist natürlich sehr vereinfacht, stellt aber das Grundprinzip im Kern gut dar.\n",
        "\n",
        "Reinforcement Learning besteht formal betrachtet aus den folgenden fünf wichtigen Komponenten:\n",
        "\n",
        "* **Agent**: Ein RL-Agent ist die Entität, die wir trainieren, um korrekte Entscheidungen zu treffen (z. B. ein Roboter, der trainiert wird, sich in einem Haus zu bewegen, ohne abzustürzen).\n",
        "* **Environment** (dt. Umgebung): Die Umgebung ist die Umgebung, mit der der Agent interagiert (z. B. das Haus, in dem sich der Roboter bewegt). Der Agent kann die Umgebung nicht manipulieren; er kann nur seine eigenen Aktionen steuern (z. B.: der Roboter kann nicht steuern, wo ein Tisch im Haus steht, aber er kann um ihn herumgehen, um einen Absturz zu vermeiden).\n",
        "* **State** (dt. Zustand): Der State definiert die aktuelle Situation des Agenten (z. B.: es kann die genaue Position des Roboters im Haus sein, oder die Ausrichtung seiner beiden Beine, oder seine aktuelle Körperhaltung; es hängt davon ab, wie Sie das Problem angehen).\n",
        "* **Action** (dt. Aktion): Die Entscheidung, die der Agent im aktuellen Zeitschritt trifft (z. B.: er kann sein rechtes oder linkes Bein bewegen oder seinen Arm heben oder ein Objekt anheben, sich nach rechts oder links drehen usw.). Wir kennen die Menge der Aktionen (Entscheidungen), die der Agent im Voraus ausführen kann.\n",
        "* **Reward** (dt. Belohnung): Je nach dem welche Aktion der Agent auswählt bekommt er eine Belohnung oder nicht.\n",
        "* **Policy** (dt. Richtlinie): Eine Policy ist der Denkprozess, der hinter der Auswahl einer Aktion steht, welche auf Basis eine State ausgelöst wird . In der Praxis ist es eine Wahrscheinlichkeitsverteilung, die der Menge der Aktionen zugeordnet ist. Aktionen mit hoher Belohnung haben eine hohe Wahrscheinlichkeit und umgekehrt.\n",
        "Beachten Sie, dass eine niedrige Wahrscheinlichkeit für eine Aktion nicht bedeutet, dass sie überhaupt nicht ausgewählt wird. Es bedeutet nur, dass es weniger wahrscheinlich ist, dass sie ausgewählt wird.\n",
        "\n",
        "Grundsätzlich lässt sich der Ablauf wie folgt beschreiben: Der Agent führt in einer Umgebung zu einem bestimmten Status ($s_t$) eine Aktion ($a_t$) aus dem zur Verfügung stehenden Aktionsraum A durch, die zu einer Reaktion der Umgebung in Form einer Belohnungen ($r_t$) führt.\n",
        "\n",
        "<img src='https://www.statworx.com/wp-content/uploads/reinforcement-learning.png' width='600'>\n",
        "\n",
        "Die Reaktion der Umgebung auf die Aktion des Agenten beeinflusst nun wiederum die Wahl der Aktion des Agenten im nächsten Status ($s_{t+1}$). Über mehrere tausend, hunderttausend oder sogar millionen von Iterationen ist der Agent in der Lage, einen Zusammenhang zwischen seinen Aktionen und dem künftig zu erwartenden Nutzen in jedem Status zu approximieren und sich somit entsprechend optimal zu verhalten. Dabei befindet sich der Agent immer in einem Dilemma zwischen der Nutzung seiner bisher erworbenen Erfahrung auf der einen und der Exploration neuer Strategien zur Erhöhung der Belohnung auf der anderen Seite. Dies wird als \"Exploration-Exploitation Dilemma\" bezeichnet.\n",
        "\n",
        "Die Approximation des Nutzens kann dabei modellfrei (**model-free**), also über reine Exploration der Umgebung erfolgen oder durch die Anwendung von Machine Learning Modellen (**model-based**), die den Nutzen einer Aktion versuchen zu approximieren. Letztere Variante wird insbesondere dann angewendet, wenn der Status- und/oder Aktionsraum von hoher Dimensionalität ist bzw. eine komplexe Umgebung besteht. Das ist bspw. der Fall bei selbstfahrenden Autos, Strategiespielen etc.\n",
        "\n",
        "Quelle: [Statworx.com](https://www.statworx.com/ch/blog/einfuehrung-in-reinforcement-learning-wenn-maschinen-wie-menschen-lernen/)"
      ]
    },
    {
      "cell_type": "markdown",
      "metadata": {
        "id": "Flc78xwp-19M"
      },
      "source": [
        "### Multi-Armed Bandit Problem\n",
        "\n",
        "Das Dilemma zwischen Exploration (Erkundung) und Exploitation (Ausbeutung) besteht in vielen Aspekten unseres Lebens. Sagen wir, dein Lieblingsrestaurant ist gleich um die Ecke. Wenn du jeden Tag dorthin gehst dann weisst du, was du für dein Geld bekommen wirst. Aber vielleicht verpasst du damit die Chance, eine noch bessere Option (Preis/Qualität) zu entdecken. Wenn du aber ständig neue Orte ausprobierst, wirst du wahrscheinlich von Zeit zu Zeit auch qualitativ schlechteres Essen bekommen. In ähnlicher Weise versuchen Online-Anzeigen, ein Gleichgewicht zwischen den bekanntermaßen attraktivsten Werbungen (Ads) und den neuen Werbungen zu finden, die vielleicht sogar noch erfolgreicher sind.\n",
        "\n",
        "Wenn wir alle Informationen über die Umwelt gelernt haben, sind wir in der Lage, die beste Strategie zu finden, indem wir auch nur Brute-Force simulieren, ganz zu schweigen von vielen anderen intelligenten Ansätzen. Das Dilemma ergibt sich aus den unvollständigen Informationen: Wir müssen genügend Informationen sammeln, um die besten Gesamtentscheidungen zu treffen und gleichzeitig das Risiko unter Kontrolle zu halten. Mit Ausbeutung nutzen wir die beste Option, die wir kennen. Bei der Exploration gehen wir ein gewisses Risiko ein, um Informationen über unbekannte Optionen zu sammeln. Die beste langfristige Strategie kann mit kurzfristigen Opfern verbunden sein. Zum Beispiel könnte ein Explorationsversuch ein totaler Fehlschlag sein, aber das warnt uns davor, diese Maßnahme in Zukunft nicht zu oft zu ergreifen.\n",
        "\n",
        "Das Problem der **mehrarmigen Banditen (Multi-Armed Bandit)** ist ein klassisches Problem, das das Dilemma Exploration vs. Ausbeutung deutlich macht. Stellen Sie sich vor, Sie befinden sich in einem Casino und stehen mehreren Spielautomaten gegenüber, von denen jeder mit einer unbekannten Wahrscheinlichkeit konfiguriert ist, wie wahrscheinlich es ist, dass Sie bei einem Spiel eine Belohnung erhalten können. Die Frage ist: Was ist die beste Strategie, um langfristig die höchsten Belohnungen zu erzielen?\n",
        "\n",
        "<img src='https://user-images.githubusercontent.com/22970879/41629289-ec662a58-73e5-11e8-9f41-40c6d7ba5a36.jpg'>\n",
        "\n",
        "\n",
        "Die Beschränkung auf eine endliche Anzahl von Versuchen führt zu einer neue Art von Explorationsproblem. Wenn z.B. die Anzahl der Versuche kleiner ist als die Anzahl der Spielautomaten, können wir nicht einmal jeden Automaten ausprobieren, um die Belohnungswahrscheinlichkeit (!) abzuschätzen, und müssen uns daher mit einer begrenzten Menge an Wissen und Ressourcen (d.h. Zeit) klug verhalten.\n",
        "\n",
        "Ein naiver Ansatz kann darin bestehen, dass man mit einem Automaten sehr viele Runden lang weiterspielt, um schließlich die \"wahre\" Belohnungswahrscheinlichkeit nach dem Gesetz der großen Zahlen zu schätzen. Dies ist jedoch ziemlich verschwenderisch und garantiert sicherlich nicht die beste langfristige Belohnung.\n",
        "\n",
        "Je nachdem, wie wir Exploration betreiben, gibt es mehrere Möglichkeiten, das Problem der mehrarmigen Banditen zu lösen.\n",
        "\n",
        "* Keine Erkundung: der naivste Ansatz und ein schlechter.\n",
        "* Exploration nach dem Zufallsprinzip\n",
        "* Exploration klug mit Vorzug vor Unsicherheit\n",
        "\n",
        "\n",
        "Quelle: [Lil Log](https://lilianweng.github.io/lil-log/2018/01/23/the-multi-armed-bandit-problem-and-its-solutions.html)"
      ]
    },
    {
      "cell_type": "markdown",
      "metadata": {
        "id": "QJdrJJQUv3-k"
      },
      "source": [
        "### Upper Confidence Bound (UCB)\n",
        "\n",
        "Ein Weg um das Multi-Armed-Bandit Problem zu lösen ist der UCB-Algorithmus.\n",
        "Der UCB-Algorithmus (Upper Confidence Bound) wird oft als \"Optimismus angesichts der Unsicherheit\" formuliert. Um zu verstehen, warum, bedenken Sie in einer bestimmten Runde, dass die Belohnungsfunktion jedes Arms als eine Punktschätzung auf der Grundlage der beobachteten durchschnittlichen Belohnungsrate wahrgenommen werden kann. Indem wir die Intuition aus [Konfidenzintervallen](https://www.statistik-nachhilfe.de/ratgeber/statistik/induktive-statistik/konfidenzintervall-fuer-erwartungswert-varianz-und-median) ableiten, können wir für jede Punktschätzung auch eine Form der Unsicherheitsgrenze um die Punktschätzung herum einbeziehen. In diesem Sinne haben wir sowohl eine untere Grenze als auch eine obere Grenze für jeden Arm.\n",
        "Der UCB-Algorithmus hat einen treffenden Namen, weil wir uns nur mit der oberen Grenze befassen, da wir versuchen, den Arm mit der höchsten Belohnungsrate zu finden.\n",
        "\n",
        "Der UCB-Algorithmus gehört zu den am meist verwendesten RL-Algorithmen im Zusammenhang mit Online Advertisements.\n",
        "\n"
      ]
    },
    {
      "cell_type": "markdown",
      "metadata": {
        "id": "2XCjepjJwEv-"
      },
      "source": [
        "#### Importing the libraries"
      ]
    },
    {
      "cell_type": "code",
      "metadata": {
        "id": "l_mBkG3YwNTt"
      },
      "source": [
        "import numpy as np\n",
        "import matplotlib.pyplot as plt\n",
        "import pandas as pd"
      ],
      "execution_count": null,
      "outputs": []
    },
    {
      "cell_type": "markdown",
      "metadata": {
        "id": "npqlXjaNwYTv"
      },
      "source": [
        "#### Importing the dataset\n",
        "\n",
        "Dieser Datensatz bernötigen wir zu Simulation einer Webseite, auf welcher 10 verschiedene Werbungen eines Autos aufgeschaltet werden. Die Webseite wird von 10000 Benutzern besucht. Jeder der Benutzer klickt auf die Ads welche ihn am meisten ansprechen. In einem realen Business-Case würde der Reenforcement Learning Algorithmus mittels realtime Daten mit minimalen Aufwand lernen, welche Ads am meisten angeklickt bzw. am meisten gezeigt werden sollten. Wichtig ist es dabei zu wissen, dass jedes Advertisment welches aufgeschaltet wird je nach Plazierung viel Geld kostet. Das Marketing des Autoherstellers möchte somit so schnell wie möglich den am \"gewinnbringensten\" Ad ermitteln."
      ]
    },
    {
      "cell_type": "code",
      "metadata": {
        "id": "HMJfUVLVwcFc"
      },
      "source": [
        "datloc = 'https://raw.githubusercontent.com/sakuronohana/my_datascience/master/udemy/mlaz/Part%206%20-%20Reinforcement%20Learning/Section%2032%20-%20Upper%20Confidence%20Bound%20(UCB)/Python/Ads_CTR_Optimisation.csv'\n",
        "dataset = pd.read_csv(datloc)"
      ],
      "execution_count": null,
      "outputs": []
    },
    {
      "cell_type": "code",
      "metadata": {
        "id": "66I-mZM1ryF5"
      },
      "source": [
        "print(dataset.shape)\n",
        "dataset.head()"
      ],
      "execution_count": null,
      "outputs": []
    },
    {
      "cell_type": "markdown",
      "metadata": {
        "id": "PaSbots_wfoB"
      },
      "source": [
        "#### Implementing UCB\n",
        "\n",
        "Anschliessend werden wir die folgende Schritte mittels Python implementieren:\n",
        "\n",
        "<img src='https://github.com/sakuronohana/my_datascience/blob/master/udemy/mlaz/Part%206%20-%20Reinforcement%20Learning/Section%2032%20-%20Upper%20Confidence%20Bound%20(UCB)/UCB-Steps.jpg?raw=true' width='600'>"
      ]
    },
    {
      "cell_type": "code",
      "metadata": {
        "id": "KnvZKJ5UqIFA"
      },
      "source": [
        "import math\n",
        "# Step 1 \n",
        "N = 10000 # Anzahl Runden bzw. Benutzer welche auf Ads klicken\n",
        "d = 10 # Anzahl Ads\n",
        "ads_selected = [] # Leere Liste für die angeklickten Ads\n",
        "numbers_of_selections = [0] * d # Leere Liste für die Anzahl der gewählten Ads\n",
        "sums_of_rewards = [0] * d # Liste für die Summe aller Belohnungen\n",
        "total_reward = 0 # \n",
        "\n",
        "# Step 2 \n",
        "for n in range(0,N): # 1. Iteration für die Runden (0 bis 10000)\n",
        "  ad = 0 # Started jede Iteration mit Ad 1\n",
        "  max_upper_bound = 0 # Started am Anfang mit der obersten Vertrauensgrenze von 0 welche jedes Runde aktualisiert wird.\n",
        "\n",
        "  for i in range(0,d): # 2. Iteration für Ads (0 bis 9)\n",
        "    if (numbers_of_selections[i] > 0): # Falls ausgewählte Ad ist grösser als 0\n",
        "      # Computing average reward\n",
        "      average_reward = sums_of_rewards[i] / numbers_of_selections[i]\n",
        "      # Computing confidence interval\n",
        "      delta_i = math.sqrt(3/2 * math.log(n + 1) / numbers_of_selections[i])\n",
        "      upper_bound = average_reward + delta_i\n",
        "   \n",
        "    else:\n",
        "      # Step 3 \n",
        "      upper_bound = 1e400 # Trick um eine Zahl fast auf endlos zu setzen\n",
        "    if (upper_bound > max_upper_bound):\n",
        "      max_upper_bound = upper_bound\n",
        "      ad = i\n",
        "\n",
        "  ads_selected.append(ad)\n",
        "  numbers_of_selections[ad] = numbers_of_selections[ad] + 1 # += 1 ist das gleiche wie numbers_of_selections[ad] + 1\n",
        "  reward = dataset.values[n, ad]\n",
        "  sums_of_rewards[ad] = sums_of_rewards[ad] + reward\n",
        "  total_reward = total_reward + reward"
      ],
      "execution_count": null,
      "outputs": []
    },
    {
      "cell_type": "code",
      "metadata": {
        "id": "ozQRDby7BRh1",
        "colab": {
          "base_uri": "https://localhost:8080/",
          "height": 33
        },
        "outputId": "72561bd0-75b5-454f-b43e-eee1ad402208"
      },
      "source": [
        "(3/2 * math.log(n + 1))\n"
      ],
      "execution_count": null,
      "outputs": [
        {
          "output_type": "execute_result",
          "data": {
            "text/plain": [
              "13.815510557964275"
            ]
          },
          "metadata": {
            "tags": []
          },
          "execution_count": 25
        }
      ]
    },
    {
      "cell_type": "markdown",
      "metadata": {
        "id": "AXftWcjDwsYj"
      },
      "source": [
        "#### Visualising the results"
      ]
    },
    {
      "cell_type": "code",
      "metadata": {
        "id": "1uV3N9Mo9PGE",
        "colab": {
          "base_uri": "https://localhost:8080/",
          "height": 295
        },
        "outputId": "32ab16a0-9a4e-4ac8-a314-5b8bceb5f257"
      },
      "source": [
        "plt.hist(ads_selected)\n",
        "plt.title('Histogramm of ads selections')\n",
        "plt.xlabel('Ads')\n",
        "plt.ylabel('Number of times each ad was selected')\n",
        "plt.show()"
      ],
      "execution_count": null,
      "outputs": [
        {
          "output_type": "display_data",
          "data": {
            "image/png": "[encoded data removed]",
            "text/plain": [
              "<Figure size 432x288 with 1 Axes>"
            ]
          },
          "metadata": {
            "tags": [],
            "needs_background": "light"
          }
        }
      ]
    },
    {
      "cell_type": "markdown",
      "metadata": {
        "id": "p92KenfABSR4"
      },
      "source": [
        "Wir können anhand des Histogramms erkennen, dass der UCB-Algoritmus einen klaren Favoriten erkoren hat. Ads Nummer 4 scheint mit Abstand am beliebtesten zu sein. Was wir hier auch klar erkennen können ist, dass UCB auch mit weniger Runden auskommen würde, was natürlich unser Ziel wäre.\n",
        "Wie es scheint könnten wir es wagen, die Rudenzahl auf 1000 zu reduzieren, was zu folgendem Resultat geführt hat:\n",
        "\n",
        "<img src='https://github.com/sakuronohana/my_datascience/blob/master/udemy/mlaz/Part%206%20-%20Reinforcement%20Learning/Section%2032%20-%20Upper%20Confidence%20Bound%20(UCB)/UCB_Hist_Result.jpg?raw=true' width='400'>\n",
        "\n",
        "Wir könnten jetzt sicher noch etwas optimieren, jedoch spätenstens bei einer Rundenanzahl von 500 ist Schluss:\n",
        "\n",
        "<img src='https://github.com/sakuronohana/my_datascience/blob/master/udemy/mlaz/Part%206%20-%20Reinforcement%20Learning/Section%2032%20-%20Upper%20Confidence%20Bound%20(UCB)/UCB_Hist_Result_2.png?raw=true' width='400'>"
      ]
    },
    {
      "cell_type": "markdown",
      "metadata": {
        "id": "vPKTIRAtx232"
      },
      "source": [
        "### Thompson Sampling\n",
        "\n",
        "Der Thompson Sampling-Algorithmus ist eine andere Art um das [Multi-Armed Bandit Problem](https://github.com/sakuronohana/my_datascience/blob/master/udemy/mlaz/Part%206%20-%20Reinforcement%20Learning/Section%2032%20-%20Upper%20Confidence%20Bound%20(UCB)/Python/upper_confidence_bound.ipynb) zu lösen. \n",
        "\n",
        "Der wesentliche Unterschied zur Upper Confidence Bound Methode besteht darin, dass bei der Thompson Sampling Methode mit einer Verteilung (engl. Distribution) gearbeitet wird. Dabei wird eine Verteilung dort erstellt wo die tatsächlichen Werte liegen könnten. Der Thompson Sampling Algorithmus grenzt also mittels eines [probabilistische](https://www.werbewoche.ch/marketing/2017-01-04/daten-probabilistisch-vs-deterministischen) Vorgehens den Beispielsbereich ein. Ein weitere Unterschiede zwischen UCB und TS ist, dass bei UCB nach jeder Runde der Status updaten muss während bei der TS der Update erst nach mehreren Runden (bspw. 200, 500 usw.). Dieser Unterschied hat auch einen Einfluss auf die Rechenperformance, da jeder Update auch Rechenleistung benötigt.\n",
        "\n",
        "Die erwähnten Unterschiede machen den Thompson Sampling Algorithmus so beliebt, da er auch die besseren empirischen Beweise liefert."
      ]
    },
    {
      "cell_type": "markdown",
      "metadata": {
        "id": "PqPv9zpAx-EE"
      },
      "source": [
        "#### Importing the libraries"
      ]
    },
    {
      "cell_type": "code",
      "metadata": {
        "id": "FHlI03QVlSYW"
      },
      "source": [
        "import pandas as pd\n",
        "import numpy as np\n",
        "import matplotlib.pyplot as plt"
      ],
      "execution_count": null,
      "outputs": []
    },
    {
      "cell_type": "markdown",
      "metadata": {
        "id": "iqpVk5HhyGmO"
      },
      "source": [
        "#### Importing the dataset"
      ]
    },
    {
      "cell_type": "code",
      "metadata": {
        "id": "2f3eypGRj4HT"
      },
      "source": [
        "datloc = 'https://raw.githubusercontent.com/sakuronohana/my_datascience/master/udemy/mlaz/Part%206%20-%20Reinforcement%20Learning/Section%2033%20-%20Thompson%20Sampling/Python/Ads_CTR_Optimisation.csv'\n",
        "\n",
        "dataset = pd.read_csv(datloc)"
      ],
      "execution_count": null,
      "outputs": []
    },
    {
      "cell_type": "markdown",
      "metadata": {
        "id": "WqoXeWOYyQhB"
      },
      "source": [
        "#### Implementing Thompson Sampling\n",
        "\n",
        "Wie auch schon im UCB-Algorithmus gibt es auch in der Thompson Sampling Methode verschieden Schritte, welche implementiert werden müssen.\n",
        "\n",
        "<img src='https://github.com/sakuronohana/my_datascience/blob/master/udemy/mlaz/Part%206%20-%20Reinforcement%20Learning/Section%2033%20-%20Thompson%20Sampling/Thompson_Sampling_Slide.png?raw=true' width=600>"
      ]
    },
    {
      "cell_type": "code",
      "metadata": {
        "id": "7zTtsgmstfVB"
      },
      "source": [
        "import random\n",
        "\n",
        "# Step 1 \n",
        "N = 10000 # Anzahl Runden bzw. Benutzer welche auf Ads klicken\n",
        "d = 10 # Anzahl Ads\n",
        "ads_selected = []\n",
        "numbers_of_rewards_1 = [0] *d\n",
        "numbers_of_rewards_0 = [0] *d\n",
        "total_reward = 0\n",
        "\n",
        "for n in range(0,N): # Iteration durch Runden\n",
        "  ad = 0\n",
        "  max_random = 0\n",
        "  for i in range(0,d): # Iteration durch Ads\n",
        "    # Step 2\n",
        "    random_beta = random.betavariate(numbers_of_rewards_1[i] + 1, numbers_of_rewards_0[i] + 1)\n",
        "    # Step 3\n",
        "    if (random_beta > max_random):\n",
        "      max_random = random_beta\n",
        "      ad = i\n",
        "  ads_selected.append(ad)\n",
        "  reward = dataset.values[n, ad]\n",
        "  if reward == 1:\n",
        "    numbers_of_rewards_1[ad] = numbers_of_rewards_1[ad] + 1\n",
        "  else:\n",
        "    numbers_of_rewards_0[ad] = numbers_of_rewards_0[ad] + 1\n",
        "\n",
        "  total_reward = total_reward + reward"
      ],
      "execution_count": null,
      "outputs": []
    },
    {
      "cell_type": "markdown",
      "metadata": {
        "id": "tweWsgTHyXhv"
      },
      "source": [
        "#### Visualising the results - Histogram"
      ]
    },
    {
      "cell_type": "code",
      "metadata": {
        "id": "WcpxpGowj8wb",
        "colab": {
          "base_uri": "https://localhost:8080/",
          "height": 295
        },
        "outputId": "961362d8-bb15-4e2e-b560-848014e9b5b2"
      },
      "source": [
        "plt.hist(ads_selected)\n",
        "plt.title('Histogramm of ads selections')\n",
        "plt.xlabel('Ads')\n",
        "plt.ylabel('Number of times each ad was selected')\n",
        "plt.show()"
      ],
      "execution_count": null,
      "outputs": [
        {
          "output_type": "display_data",
          "data": {
            "image/png": "[encoded data removed]",
            "text/plain": [
              "<Figure size 432x288 with 1 Axes>"
            ]
          },
          "metadata": {
            "tags": [],
            "needs_background": "light"
          }
        }
      ]
    },
    {
      "cell_type": "markdown",
      "metadata": {
        "id": "nVr2kF0pkcn6"
      },
      "source": [
        "Wie auch schon beim UCB-Algorithmus hat auch Thompson Sampling den richtigen Ad Kandidaten (Nr. 4) erkoren. Zudem siehen wir auch in diesem Histogramm, dass der Algorithmus mit viel weniger Runde auskommen würde. Wir habe aus diesem Grund die Rundenzahl mutigerweise mal auf 100 gesetzt. Wie das nachfolgenden Histogramm zeigt, scheint der Thompson Sampling Algorithmus auch mit viel weniger Rund als UCB (min. 500) auszukommen. Wir konnten uns nun davon überzeugen, warum der TS beliebter ist als der UCB.\n",
        "\n",
        "<img src='https://github.com/sakuronohana/my_datascience/blob/master/udemy/mlaz/Part%206%20-%20Reinforcement%20Learning/Section%2033%20-%20Thompson%20Sampling/Python/Thompson_Sampling_Resultat.png?raw=true' width='400' >"
      ]
    },
    {
      "cell_type": "markdown",
      "metadata": {
        "id": "A1LcN0BqynLy"
      },
      "source": [
        "### Markov Decision Process (MDP)\n",
        "\n",
        "Bevor wir uns mit den am häufigsten angewendeten RL-Methoden (Q-Learning, Deep Q-Learning etc.) befassen, müssen wir zuerst eine kurzen Abstecher in eines der wichtigsten mathematische Frameworks in Bezug auf das Thema \"Entscheidungsprobleme\" tätigen ... den Markov Decision Process (MDP).\n",
        "\n",
        "Ein wichtiger Punkt, der zu beachten ist - jeder Zustand (State) innerhalb eines Environments ist eine Folge des vorherigen Zustands, der wiederum eine Folge des vorherigen Zustands ist. Die Speicherung all dieser Informationen wird jedoch, selbst bei Umgebungen mit kurzen Episoden, schnell unpraktikabel werden.\n",
        "\n",
        "Um dieses Problem zu lösen, nehmen wir an, dass jeder Zustand einer Markov-Eigenschaft folgt, d. h., jeder Zustand hängt nur vom vorherigen Zustand und dem Übergang von diesem Zustand zum aktuellen Zustand ab. Schauen Sie sich das folgende Labyrinth an, um besser zu verstehen, wie dies funktioniert:\n",
        "\n",
        "<img src='https://cdn.analyticsvidhya.com/wp-content/uploads/2019/04/Screenshot-2019-04-16-at-3.39.31-PM-850x332.png' width=600>\n",
        "\n",
        "Nun gibt es 2 Szenarien mit 2 verschiedenen Startpunkten und der Agent durchläuft verschiedene Pfade, um denselben vorletzten Zustand zu erreichen. Nun spielt es keine Rolle, welchen Weg der Agent nimmt, um den roten Zustand zu erreichen. Der nächste Schritt, um das Labyrinth zu verlassen und den letzten Zustand zu erreichen, ist, nach rechts zu gehen. Es ist klar, dass wir nur die Information über den roten/vorletzten Zustand benötigen, um die nächstbeste Aktion herauszufinden, was genau das ist, was die Markov-Eigenschaft impliziert.\n",
        "\n",
        "Nehmen wir an, wir kennen die erwartete Belohnung für jede Aktion bei jedem Schritt. Dies wäre im Wesentlichen wie ein Spickzettel für den Agenten! Unser Agent wird genau wissen, welche Aktion er ausführen muss.\n",
        "\n",
        "Er wird die Sequenz von Aktionen ausführen, die letztendlich die maximale Gesamtbelohnung generiert. Diese Gesamtbelohnung wird auch als Q-Wert bezeichnet, was uns zum Thema Q-Learning führt.\n",
        "\n",
        "Quelle: [AnalyticsVidhya.com](https://www.analyticsvidhya.com/blog/2019/04/introduction-deep-q-learning-python/)"
      ]
    },
    {
      "cell_type": "markdown",
      "metadata": {
        "id": "II9mmaaSqNBp"
      },
      "source": [
        "### **Q-Learning**\n",
        "\n",
        "Um Reinforcement Learning Systeme zu trainieren, wird häufig eine Methode verwendet, die als Q-Learning bekannt ist - wobei Q für Quality steht. Den Namen erhält Q-Learning von der sog. Q-Funktion $Q(s,a)$, die den erwarteten Nutzen $Q$ einer Aktion $a$ im Status $s$ beschreibt. Die Nutzenwerte werden in der sog. Q-Matrix $Q$ gespeichert, deren Dimensionalität sich über die Anzahl der möglichen Stati sowie Aktionen definiert. Während des Trainings versucht der Agent, die Q-Werte der Q-Matrix durch Exploration zu approximieren, um diese später als Entscheidungsregel zu nutzen. Die Belohnungsmatrix $R$ enthält, korrespondierend zu $Q$, die entsprechenden Belohnungen, die der Agent in jedem Status-Aktions-Paar erhält.\n",
        "\n",
        "Die Approximation der **Q-Values** (Q-Werte) funktioniert im einfachsten Falle wie folgt: Der Agent startet in einem zufällig initialisierten Status $s_t$. Anschließend selektiert der Agent zufällig eine Aktion $a_t$ aus $A$, beobachtet die entsprechende Belohnung $r_t$ und den darauf folgenden Status $s_{t+1}$. Die Update-Regel der Q-Matrix ist dabei wie folgt definiert:\n",
        "\n",
        "  $Q(s_t,a_t)=(1-\\alpha)Q(s_t, a_t)+\\alpha(r_t+\\gamma \\max Q(s_{t+1},a))$\n",
        "\n",
        "Der Q-Wert im Status $s_t$ bei Ausführung der Aktion $a_t$ ist eine Funktion des bereits gelernten Q-Wertes (erster Teil der Gleichung) sowie der Belohnung im aktuellen Status zzgl. des diskontierten maximalen Q-Wertes aller möglichen Aktionen a im folgenden Status $s_{t+1}$.\n",
        "\n",
        "Der Q-Wert im Status $s_t$ bei Ausführung der Aktion $a_t$ ist eine Funktion des bereits gelernten Q-Wertes (erster Teil der Gleichung) sowie der Belohnung im aktuellen Status zzgl. des diskontierten maximalen Q-Wertes aller möglichen Aktionen a im folgenden Status $s_{t+1}$.\n",
        "\n",
        "Der Parameter $\\alpha$ im ersten Teil der Gleichung wird als Lernrate (learning rate) bezeichnet und steuert, zu welchem Anteil eine neu beobachtete Information den Agenten in seiner Entscheidung eine bestimmte Aktion zu treffen beeinflusst.\n",
        "\n",
        "Der Parameter $\\gamma$ ist der sog. Diskontierungsfaktor (discount factor) und steuert den Trade-off zwischen der Präferenz von kurzfristigen oder zukünftigen Belohnungen in der Entscheidungsfindung des Agenten. Kleine Werte für $\\gamma$ lassen den Agenten eher Entscheidungen treffen, die näher liegende Belohnungen in der Entscheidungsfindung priorisieren, während höhere Werte für $\\gamma$ den Agenten langfristige Belohnungen in der Entscheidungsfindung priorisieren lassen.\n",
        "\n",
        "In modellbasierten Q-Learning Umgebungen findet die Exploration der Umgebung nicht rein zufällig statt. Die Q-Werte der Q-Matrix werden basierend auf dem aktuellen Status durch Machine Learning Modelle, in der Regel neuronale Netze und Deep Learning Modelle, approximiert. Häufig wird während des Trainings von modellbasierten RL Systemen noch eine zufällige Handlungskomponente implementiert, die der Agent mit einer gewissen Wahrscheinlichkeit $p < \\epsilon$ durchführt. Dieses Vorgehen wird als $\\epsilon$-greedy bezeichnet und soll verhindern, dass der Agent immer nur die gleichen Aktionen bei der Exploration der Umgebung durchführt.\n",
        "\n",
        "Nach Abschluss der Lernphase wählt der Agent in jedem Status diejenige Aktion mit dem höchsten Q-Wert aus, $\\max Q(s_t, a)$. Somit kann sich der Agent von Status zu Status bewegen und immer diejenige Aktion wählen, die den approximierten Nutzen maximiert.\n",
        "\n",
        "Auch wenn die vorhergehenden Erklärungen manchmal etwas schwierig nachzuvollziehen sind ist es ganz wichtig sich im Zusammenhang mit Q-Learning folgendes zu merken:\n",
        "\n",
        "**Der Agent versucht den höchsten Q-Value zu erhalten, denn je höher dieser Wert ist desto klarer ist es, dass der Agent sich im richtigen Status (State) befindet und die richtige Aktion ausführt um anschliessen die optimale Rückgabe (Return) zu erhalten**\n",
        "\n",
        "Q-Learning eignet sich insbesondere dann als Lernverfahren, wenn die Anzahl der möglichen Stati und Aktionen überschaubar ist. Andernfalls wird das Problem aufgrund der kombinatorischen Komplexität mit reinen Explorationsmechanismen nur schwer lösbar. Aus diesem Grund findet in extrem hochdimensionalen Status- und Aktionsräumen die Approximation der Q-Werte häufig über modellbasierte Ansätze statt.\n",
        "\n",
        "Eine weitere Schwierigkeit bei der Anwendung von Q-Learning zeigt sich, wenn die Belohnungen zeitlich sehr weit vom aktuellen Status- und Handlungsraum des Agenten entfernt liegen. Wenn in naheliegenden Stati keine Belohnungen vorhanden sind, kann der Agent erst nach einer lagen Explorationsphase weit in der Zukunft liegende Belohnungen in die naheliegenden Stati propagieren.\n",
        "\n",
        "Quelle: [Statworx.com](https://www.statworx.com/ch/blog/einfuehrung-in-reinforcement-learning-wenn-maschinen-wie-menschen-lernen/)"
      ]
    },
    {
      "cell_type": "markdown",
      "metadata": {
        "id": "zMc1ACapuhwc"
      },
      "source": [
        "#### Minimalbeispiel für Q Learning\n",
        "\n",
        "Der neue, autonome Stabsaugerroboter \"Dusty3000\" der Firma STAUBWORX soll sich vollautomatisch in unbekannten Wohnungen zurecht finden. Dabei nutzt das Gerät einen Reinforcement Learning Ansatz, um herauszufinden, in welchen Räumen einer Wohnung sich Staubballen und Flusen anhäufen. Eine virtuelle Testwohnung, in der der Roboter kalibriert werden soll, hat den folgenden Grundriss:\n",
        "\n",
        "<img src='https://www.statworx.com/wp-content/uploads/grundriss-wohnung-1.png' width=400>\n",
        "\n",
        "Insgesamt verfügt die virtuelle Testwohnung über 5 Zimmer, wobei im Testszenario lediglich im Wohnzimmer Staub anzufinden ist. Findet der Roboter den Weg zum Staub, erhält er eine Belohnung von $r = 1$ andernfalls wird keine Belohnung angesetzt $r=0$. Räume, die der Roboter von seiner aktuellen Position aus nicht erreichen kann, werden in der Belohnungsmatrix mit $r=-1$ definiert. In Matrizenschreibweise stellen sich die Belohnungen sowie die möglichen Aktionen pro Raum wie folgt dar:\n",
        "\n",
        "<img src='https://www.statworx.com/wp-content/uploads/reward-matrix-1.png' width=500>\n",
        "\n",
        "Stellen wir uns vor, der Saugroboter startet seine Erkundung zufällig im Flur (Raum 0). Ausgehend vom aktuellen Raum (Status) s=0 bieten sich dem Roboter drei mögliche Aktionen: 1, 2 oder 4. Aktion 0 und 3 sind nicht möglich, da diese Räume vom Flur aus nicht erreichbar sind. Der Agent erhält keine Belohnung, wenn er Aktion a=1 wählt und sich vom Flur in Raum 1 (Bad) begibt. Das gleiche gilt für Aktion a=2 (Bewegung ins Schlafzimmer). Wählt der Roboter jedoch Aktion a=4 und fährt ins Wohnzimmer, so findet er dort den Staub und er erhält eine Belohnung von r=1. Für den externen Betrachter erscheint die Wahl der Aktion trivial, unser Roboter jedoch kennt seine Umgebung nicht und wählt zufällig aus den zur Verfügung stehenden Aktionen aus.\n",
        "\n",
        "Der Roboter startet die zufällige Erkundung der Wohnung. Die Lernrate wird auf $\\alpha=1$ und der Diskontierungsfaktor auf $\\gamma=0.95$ gesetzt. Basierend auf dem Startpunkt im Flur wählt er per Zufallsgenerator aus den zur Verfügung stehenden Aktionen $a=2$ aus. Somit initiiert der Roboter zunächst eine Bewegung ins Schlafzimmer. Im vereinfachten Fall von $\\alpha=0.8$ is der Q Value für die Bewegung vom Flur ins Schlafzimmer ist definiert durch:\n",
        "\n",
        "  $Q(0,2)=(1-\\alpha)Q(0,2)+\\alpha(r_t+\\gamma \\max Q(s_{t+1},a))$\n",
        "\n",
        "  $=(1-1)*0+1*(0+0.95\\max[Q(2,0),Q(2,4)])$\n",
        "\n",
        "  $=0+1*(0+0.95 \\max[0, 1])=0.95$\n",
        "\n",
        "Hier zeigt sich auch die Bedeutung des Diskontierungsfaktors: Bei einem Wert von $0$ würde die mögliche Bewegung vom Schlafzimmer aus ins Wohnzimmer bei der momentanen Bewegung vom Flur ins Schlafzimmer nicht berücksichtigt werden. Es ergäbe sich Q Value von $Q(0,2)=0$​. Da der Diskontierungsfaktor in unserem Beispiel aber größer $0$ ist, wird auch die mögliche, zukünftige Belohnung in $Q(0,2)$​ mit eingepreist.\n",
        "\n",
        "Im Schlafzimmer angekommen ergeben sich wiederum zwei mögliche Aktionen. Entweder der Roboter bewegt sich zurück in den Flur, $a=0$ oder er fährt weiter ins Wohnzimmer, $a=4$. Zufällig fällt die Wahl diesmal auf das Wohnzimmer, womit sich folgender Q Value ergibt\n",
        "\n",
        "  $Q(2,4)=(1-\\alpha)+\\alpha(r_t+\\gamma \\max Q(s_{t+1},a))$\n",
        "\n",
        "  $=(1-1)*0+1*(1+0.95\\max[Q(4,0),Q(4,3)$\n",
        "\n",
        "  $=0+1*(1+0.95\\max[0,0])=1$\n",
        "\n",
        "Der gesamte Vorgang der Exploration bis hin zur Belohnung wird als eine Episode bezeichnet. Da der Roboter nun am Ziel angekommen ist, wird die Episode beendet. Während dieses Durchlaufs konnte der Agent zwei Q-Werte berechnen. Diese werden in die Q-Matrix eingetragen, die sozusagen das Gedächtnis des Roboters abbildet.\n",
        "\n",
        "<img src='https://www.statworx.com/wp-content/uploads/q-matrix-1.png' width=500>\n",
        "\n",
        "Im weiteren Trainingsverlauf werden nun Schritt für Schritt die Werte der Q-Matrix durch den Algorithmus aktualisiert. Der Roboter entscheidet sicht in jedem Raum für diejenige Aktion, die den höchsten Q-Wert aufweist. Die Exploration der Umgebung endet dann, wenn der Agent eine Belohnung erhalten hat.\n",
        "\n",
        "Quelle: [Statworx.com](https://www.statworx.com/ch/blog/einfuehrung-in-reinforcement-learning-wenn-maschinen-wie-menschen-lernen/)"
      ]
    },
    {
      "cell_type": "markdown",
      "metadata": {
        "id": "xHpMMUzGxyNY"
      },
      "source": [
        "### Deep Q-Learning (DQN)\n",
        "\n",
        "Q-Learning ist ein einfacher, aber sehr leistungsfähiger Algorithmus zur Erstellung eines Spickzettels für unseren Agenten. Dieser hilft dem Agenten, genau herauszufinden, welche Aktion er ausführen soll.\n",
        "\n",
        "Aber was ist, wenn dieser Spickzettel zu lang ist? Stellen Sie sich eine Umgebung mit 10.000 Zuständen und 1.000 Aktionen pro Zustand vor. Dies würde eine Tabelle mit 10 Millionen Zellen erzeugen. Die Dinge werden schnell außer Kontrolle geraten!\n",
        "\n",
        "Es ist ziemlich klar, dass wir den Q-Wert von neuen Zuständen nicht aus bereits erforschten Zuständen ableiten können. Dies stellt zwei Probleme dar:\n",
        "\n",
        "* Erstens würde der Speicherbedarf für das Speichern und Aktualisieren dieser Tabelle mit zunehmender Anzahl von Zuständen steigen\n",
        "* Zweitens wäre die Zeit, die benötigt wird, um jeden Zustand zu untersuchen, um die erforderliche Q-Tabelle zu erstellen, unrealistisch.\n",
        "\n",
        "Hier ist ein Gedanke - was wäre, wenn wir diese Q-Werte mit maschinellen Lernmodellen wie einem neuronalen Netzwerk approximieren? Das war die Idee hinter dem Algorithmus von [DeepMind](https://de.wikipedia.org/wiki/DeepMind). Dieser Ansatz nennt sich auch Deep Q-Learning.\n",
        "\n",
        "Beim Deep Q-Learning wird ein neuronales Netz verwendet, um die Q-Wert-Funktion zu approximieren. Der Zustand wird als Eingabe gegeben und der Q-Wert aller möglichen Aktionen wird als Ausgabe generiert. Nachfolgende eine Darstelung die den Unterschied zwischen Q-Learning und DQN verdeutlichen soll:\n",
        "\n",
        "<img src='https://cdn.analyticsvidhya.com/wp-content/uploads/2019/04/Screenshot-2019-04-16-at-5.46.01-PM.png' width=500>\n",
        "\n",
        "Nachfolgend die Schritte beim Reinforcement Learning mit DQN:\n",
        "\n",
        "1. Alle vergangenen Erfahrungen werden vom Benutzer im Speicher abgelegt\n",
        "2. Die nächste Aktion wird durch den maximalen Output des Q-Netzes bestimmt\n",
        "3. Die Verlustfunktion (Loss) ist hier der mittlere quadratische Fehler (mean squared error) des vorhergesagten Q-Wertes und des Ziel-Q-Wertes - Q*. Dies ist im Grunde ein Regressionsproblem. Allerdings kennen wir hier den Ziel- oder Istwert nicht, da wir es mit einem Reinforcement-Learning-Problem zu tun haben. Zurück zur Aktualisierungsgleichung für den Q-Wert, die aus der Bellman-Gleichung abgeleitet wurde, haben wir:\n",
        "\n",
        "  <img src='https://cdn.analyticsvidhya.com/wp-content/uploads/2019/04/Screenshot-2019-04-16-at-6.02.08-PM-768x79.png' width=500>\n",
        "\n",
        "  Der Abschnitt in Grün stellt das Ziel dar. Wir können argumentieren, dass es seinen eigenen Wert vorhersagt, aber da $R$ die unvoreingenommene wahre Belohnung ist, wird das Netzwerk seinen Gradienten mit Backpropagation aktualisieren, um schließlich zu konvergieren.\n",
        "\n",
        "Betrachten wir mal die Schritte im DQN im Zusammenhang mit dem Training eines einfachen Computerspiels:\n",
        "\n",
        "1. Vorverarbeitung und Einspeisung des Spielbildschirms (Zustand s) in unser DQN, das die Q-Werte aller möglichen Aktionen in diesem Zustand zurückgibt\n",
        "2. Wählen Sie eine Aktion unter Verwendung der $\\epsilon$-Greedy-Richtlinie. Mit der Wahrscheinlichkeit epsilon wählen wir eine zufällige Aktion a und mit der Wahrscheinlichkeit 1-epsilon wählen wir eine Aktion, die einen maximalen Q-Wert hat, z. B. $a = argmax(Q(s,a,w))$\n",
        "3. Führen Sie diese Aktion in einem Zustand s aus und wechseln Sie in einen neuen Zustand s', um eine Belohnung zu erhalten. Dieser Zustand $s'$ ist das vorverarbeitete Bild des nächsten Spielbildschirms. Wir speichern diese Transition in unserem Replay-Puffer als $<s,a,r,s'>$\n",
        "4. Als nächstes entnehmen wir einige zufällige Stapel von Übergängen aus dem Wiedergabepuffer und berechnen den Verlust\n",
        "5. Es ist bekannt, dass: \n",
        "\n",
        "    $Loss = (r+\\gamma max_a'Q(s^´,a^´) - Q(s,a))^2$\n",
        "\n",
        "  nur die quadratische Differenz zwischen dem Ziel Q und dem vorhergesagten Q ist.\n",
        "6. Führen Sie einen Gradientenabstieg in Bezug auf unsere aktuellen Netzwerkparameter durch, um diesen Verlust zu minimieren\n",
        "7. Kopieren Sie nach jeder C-Iteration unsere Ist-Netzwerkgewichte in die Ziel-Netzwerkgewichte\n",
        "8. Wiederholen Sie diese Schritte für $N$-Anzahl von Episoden.\n",
        "\n",
        "**Achtung**: DQN wird nur in einem diskreten Aktionsraum (discrete action space) verwendet. \n"
      ]
    },
    {
      "cell_type": "markdown",
      "metadata": {
        "id": "u_nkcjRam1gb"
      },
      "source": [
        "#### DQN-Beispiel Self Driving Car\n",
        "\n",
        "Nachfolgend bauen wir Modell für das Training eines selbstfahrenden Autos.\n",
        "\n",
        "**Hinweis**\n",
        "\n",
        "Der nachfolgende Code kann nicht im Colab ausgeführt werden. Ich empfehle Spyder dafür zu nutzen."
      ]
    },
    {
      "cell_type": "code",
      "metadata": {
        "id": "Gdw6m9Q6nujR"
      },
      "source": [
        "# Importing the libraries\n",
        "import numpy as np\n",
        "from random import random, randint\n",
        "import matplotlib.pyplot as plt\n",
        "import time"
      ],
      "execution_count": null,
      "outputs": []
    },
    {
      "cell_type": "code",
      "metadata": {
        "id": "PP-5zJUqoMF8",
        "colab": {
          "base_uri": "https://localhost:8080/"
        },
        "outputId": "5652b7b9-6fae-4aca-f502-a9b1073ab223"
      },
      "source": [
        "# Installing Kivy Package\n",
        "!pip3 install Kivy"
      ],
      "execution_count": null,
      "outputs": [
        {
          "output_type": "stream",
          "text": [
            "Collecting Kivy\n",
            "\u001b[?25l  Downloading https://files.pythonhosted.org/packages/a0/aa/4a99a6b9ce71e00170bc82eb21a4880adb77e4c691e31219b47f4b3cd47a/Kivy-2.0.0-cp36-cp36m-manylinux2010_x86_64.whl (19.3MB)\n",
            "\u001b[K     |████████████████████████████████| 19.3MB 1.2MB/s \n",
            "\u001b[?25hRequirement already satisfied: pygments in /usr/local/lib/python3.6/dist-packages (from Kivy) (2.6.1)\n",
            "Requirement already satisfied: docutils in /usr/local/lib/python3.6/dist-packages (from Kivy) (0.16)\n",
            "Collecting Kivy-Garden>=0.1.4\n",
            "  Downloading https://files.pythonhosted.org/packages/7d/68/decaee596ff8168a39432eb3949fc7c0be952ebb9467806823bffc165d48/kivy-garden-0.1.4.tar.gz\n",
            "Requirement already satisfied: requests in /usr/local/lib/python3.6/dist-packages (from Kivy-Garden>=0.1.4->Kivy) (2.23.0)\n",
            "Requirement already satisfied: chardet<4,>=3.0.2 in /usr/local/lib/python3.6/dist-packages (from requests->Kivy-Garden>=0.1.4->Kivy) (3.0.4)\n",
            "Requirement already satisfied: idna<3,>=2.5 in /usr/local/lib/python3.6/dist-packages (from requests->Kivy-Garden>=0.1.4->Kivy) (2.10)\n",
            "Requirement already satisfied: urllib3!=1.25.0,!=1.25.1,<1.26,>=1.21.1 in /usr/local/lib/python3.6/dist-packages (from requests->Kivy-Garden>=0.1.4->Kivy) (1.24.3)\n",
            "Requirement already satisfied: certifi>=2017.4.17 in /usr/local/lib/python3.6/dist-packages (from requests->Kivy-Garden>=0.1.4->Kivy) (2020.12.5)\n",
            "Building wheels for collected packages: Kivy-Garden\n",
            "  Building wheel for Kivy-Garden (setup.py) ... \u001b[?25l\u001b[?25hdone\n",
            "  Created wheel for Kivy-Garden: filename=Kivy_Garden-0.1.4-cp36-none-any.whl size=4532 sha256=f2a0c19dd2b11d609d6d4f2063f34f4c70dd2e74365cc1a7a53651f2d27a4e9a\n",
            "  Stored in directory: /root/.cache/pip/wheels/e5/09/36/4bec048252175b6aa7ba75441cbeed8f31a0bea37abedcfed0\n",
            "Successfully built Kivy-Garden\n",
            "Installing collected packages: Kivy-Garden, Kivy\n",
            "Successfully installed Kivy-2.0.0 Kivy-Garden-0.1.4\n"
          ],
          "name": "stdout"
        }
      ]
    },
    {
      "cell_type": "code",
      "metadata": {
        "id": "T7OG_NbfoHSc",
        "colab": {
          "base_uri": "https://localhost:8080/"
        },
        "outputId": "02522d9f-078d-4ce9-9e32-dd2902db6b55"
      },
      "source": [
        "# Importing the Kivy packages\n",
        "from kivy.app import App\n",
        "from kivy.uix.widget import Widget\n",
        "from kivy.uix.button import Button\n",
        "from kivy.graphics import Color, Ellipse, Line\n",
        "from kivy.config import Config\n",
        "from kivy.properties import NumericProperty, ReferenceListProperty, ObjectProperty\n",
        "from kivy.vector import Vector\n",
        "from kivy.clock import Clock"
      ],
      "execution_count": null,
      "outputs": [
        {
          "output_type": "stream",
          "text": [
            "[WARNING] [Config      ] Older configuration version detected (0 instead of 21)\n",
            "[WARNING] [Config      ] Upgrading configuration in progress.\n",
            "[INFO   ] [Logger      ] Record log in /root/.kivy/logs/kivy_21-02-04_0.txt\n",
            "[INFO   ] [Kivy        ] v2.0.0\n",
            "[INFO   ] [Kivy        ] Installed at \"/usr/local/lib/python3.6/dist-packages/kivy/__init__.py\"\n",
            "[INFO   ] [Python      ] v3.6.9 (default, Oct  8 2020, 12:12:24) \n",
            "[GCC 8.4.0]\n",
            "[INFO   ] [Python      ] Interpreter at \"/usr/bin/python3\"\n",
            "[INFO   ] [Logger      ] Purge log fired. Analysing...\n",
            "[INFO   ] [Logger      ] Purge finished!\n",
            "[INFO   ] [Factory     ] 186 symbols loaded\n",
            "[INFO   ] [Image       ] Providers: img_tex, img_dds, img_sdl2, img_pil (img_ffpyplayer ignored)\n",
            "[INFO   ] [Text        ] Provider: sdl2\n"
          ],
          "name": "stderr"
        }
      ]
    },
    {
      "cell_type": "code",
      "metadata": {
        "id": "pgfJwHWXoiFT"
      },
      "source": [
        "# Importing the Dqn object from our AI in ai.py\n",
        "# Für den nächsten Schritt muss das Script ai.py von der folgenden URL heruntergeladen werden:\n",
        "# https://raw.githubusercontent.com/sakuronohana/my_datascience/master/udemy/aiaz/self_driving_car/ai.py'\n",
        "\n",
        "from ai import Dqn"
      ],
      "execution_count": null,
      "outputs": []
    },
    {
      "cell_type": "code",
      "metadata": {
        "id": "HD7p6n8xr417"
      },
      "source": [
        "# Adding this line if we don't want the right click to put a red point\n",
        "Config.set('input', 'mouse', 'mouse,multitouch_on_demand')"
      ],
      "execution_count": null,
      "outputs": []
    },
    {
      "cell_type": "code",
      "metadata": {
        "id": "3Pwajg5FsAQM"
      },
      "source": [
        "# Introducing last_x and last_y, used to keep the last point in memory when we draw the sand on the map\n",
        "last_x = 0\n",
        "last_y = 0\n",
        "n_points = 0\n",
        "length = 0"
      ],
      "execution_count": null,
      "outputs": []
    },
    {
      "cell_type": "code",
      "metadata": {
        "id": "1P98ITIysXj8"
      },
      "source": [
        "# Getting our AI, which we call \"brain\", and that contains our neural network that represents our Q-function\n",
        "brain = Dqn(5,3,0.9)\n",
        "action2rotation = [0,20,-20]\n",
        "last_reward = 0\n",
        "scores = []"
      ],
      "execution_count": null,
      "outputs": []
    },
    {
      "cell_type": "code",
      "metadata": {
        "id": "OlHK1d4KseCP"
      },
      "source": [
        "# Initializing the map\n",
        "first_update = True\n",
        "def init():\n",
        "    global sand\n",
        "    global goal_x\n",
        "    global goal_y\n",
        "    global first_update\n",
        "    sand = np.zeros((longueur,largeur))\n",
        "    goal_x = 20\n",
        "    goal_y = largeur - 20\n",
        "    first_update = False"
      ],
      "execution_count": null,
      "outputs": []
    },
    {
      "cell_type": "code",
      "metadata": {
        "id": "b5305VIOsj1T"
      },
      "source": [
        "# Initializing the last distance\n",
        "last_distance = 0"
      ],
      "execution_count": null,
      "outputs": []
    },
    {
      "cell_type": "code",
      "metadata": {
        "id": "i6Ta4OFcspWh"
      },
      "source": [
        "class Car(Widget):\n",
        "    \n",
        "    angle = NumericProperty(0)\n",
        "    rotation = NumericProperty(0)\n",
        "    velocity_x = NumericProperty(0)\n",
        "    velocity_y = NumericProperty(0)\n",
        "    velocity = ReferenceListProperty(velocity_x, velocity_y)\n",
        "    sensor1_x = NumericProperty(0)\n",
        "    sensor1_y = NumericProperty(0)\n",
        "    sensor1 = ReferenceListProperty(sensor1_x, sensor1_y)\n",
        "    sensor2_x = NumericProperty(0)\n",
        "    sensor2_y = NumericProperty(0)\n",
        "    sensor2 = ReferenceListProperty(sensor2_x, sensor2_y)\n",
        "    sensor3_x = NumericProperty(0)\n",
        "    sensor3_y = NumericProperty(0)\n",
        "    sensor3 = ReferenceListProperty(sensor3_x, sensor3_y)\n",
        "    signal1 = NumericProperty(0)\n",
        "    signal2 = NumericProperty(0)\n",
        "    signal3 = NumericProperty(0)\n",
        "\n",
        "    def move(self, rotation):\n",
        "        self.pos = Vector(*self.velocity) + self.pos\n",
        "        self.rotation = rotation\n",
        "        self.angle = self.angle + self.rotation\n",
        "        self.sensor1 = Vector(30, 0).rotate(self.angle) + self.pos\n",
        "        self.sensor2 = Vector(30, 0).rotate((self.angle+30)%360) + self.pos\n",
        "        self.sensor3 = Vector(30, 0).rotate((self.angle-30)%360) + self.pos\n",
        "        self.signal1 = int(np.sum(sand[int(self.sensor1_x)-10:int(self.sensor1_x)+10, int(self.sensor1_y)-10:int(self.sensor1_y)+10]))/400.\n",
        "        self.signal2 = int(np.sum(sand[int(self.sensor2_x)-10:int(self.sensor2_x)+10, int(self.sensor2_y)-10:int(self.sensor2_y)+10]))/400.\n",
        "        self.signal3 = int(np.sum(sand[int(self.sensor3_x)-10:int(self.sensor3_x)+10, int(self.sensor3_y)-10:int(self.sensor3_y)+10]))/400.\n",
        "        if self.sensor1_x>longueur-10 or self.sensor1_x<10 or self.sensor1_y>largeur-10 or self.sensor1_y<10:\n",
        "            self.signal1 = 1.\n",
        "        if self.sensor2_x>longueur-10 or self.sensor2_x<10 or self.sensor2_y>largeur-10 or self.sensor2_y<10:\n",
        "            self.signal2 = 1.\n",
        "        if self.sensor3_x>longueur-10 or self.sensor3_x<10 or self.sensor3_y>largeur-10 or self.sensor3_y<10:\n",
        "            self.signal3 = 1.\n",
        "\n",
        "class Ball1(Widget):\n",
        "    pass\n",
        "class Ball2(Widget):\n",
        "    pass\n",
        "class Ball3(Widget):\n",
        "    pass\n"
      ],
      "execution_count": null,
      "outputs": []
    },
    {
      "cell_type": "code",
      "metadata": {
        "id": "Kme-L6azssv7"
      },
      "source": [
        "# Creating the game class\n",
        "\n",
        "class Game(Widget):\n",
        "\n",
        "    car = ObjectProperty(None)\n",
        "    ball1 = ObjectProperty(None)\n",
        "    ball2 = ObjectProperty(None)\n",
        "    ball3 = ObjectProperty(None)\n",
        "\n",
        "    def serve_car(self):\n",
        "        self.car.center = self.center\n",
        "        self.car.velocity = Vector(6, 0)\n",
        "\n",
        "    def update(self, dt):\n",
        "\n",
        "        global brain\n",
        "        global last_reward\n",
        "        global scores\n",
        "        global last_distance\n",
        "        global goal_x\n",
        "        global goal_y\n",
        "        global longueur\n",
        "        global largeur\n",
        "\n",
        "        longueur = self.width\n",
        "        largeur = self.height\n",
        "        if first_update:\n",
        "            init()\n",
        "\n",
        "        xx = goal_x - self.car.x\n",
        "        yy = goal_y - self.car.y\n",
        "        orientation = Vector(*self.car.velocity).angle((xx,yy))/180.\n",
        "        last_signal = [self.car.signal1, self.car.signal2, self.car.signal3, orientation, -orientation]\n",
        "        action = brain.update(last_reward, last_signal)\n",
        "        scores.append(brain.score())\n",
        "        rotation = action2rotation[action]\n",
        "        self.car.move(rotation)\n",
        "        distance = np.sqrt((self.car.x - goal_x)**2 + (self.car.y - goal_y)**2)\n",
        "        self.ball1.pos = self.car.sensor1\n",
        "        self.ball2.pos = self.car.sensor2\n",
        "        self.ball3.pos = self.car.sensor3\n",
        "\n",
        "        if sand[int(self.car.x),int(self.car.y)] > 0:\n",
        "            self.car.velocity = Vector(1, 0).rotate(self.car.angle)\n",
        "            last_reward = -1\n",
        "        else: # otherwise\n",
        "            self.car.velocity = Vector(6, 0).rotate(self.car.angle)\n",
        "            last_reward = -0.2\n",
        "            if distance < last_distance:\n",
        "                last_reward = 0.1\n",
        "\n",
        "        if self.car.x < 10:\n",
        "            self.car.x = 10\n",
        "            last_reward = -1\n",
        "        if self.car.x > self.width - 10:\n",
        "            self.car.x = self.width - 10\n",
        "            last_reward = -1\n",
        "        if self.car.y < 10:\n",
        "            self.car.y = 10\n",
        "            last_reward = -1\n",
        "        if self.car.y > self.height - 10:\n",
        "            self.car.y = self.height - 10\n",
        "            last_reward = -1\n",
        "\n",
        "        if distance < 100:\n",
        "            goal_x = self.width-goal_x\n",
        "            goal_y = self.height-goal_y\n",
        "        last_distance = distance\n"
      ],
      "execution_count": null,
      "outputs": []
    },
    {
      "cell_type": "code",
      "metadata": {
        "id": "XeyQdDgptK58"
      },
      "source": [
        "# Adding the painting tools\n",
        "\n",
        "class MyPaintWidget(Widget):\n",
        "\n",
        "    def on_touch_down(self, touch):\n",
        "        global length, n_points, last_x, last_y\n",
        "        with self.canvas:\n",
        "            Color(0.8,0.7,0)\n",
        "            d = 10.\n",
        "            touch.ud['line'] = Line(points = (touch.x, touch.y), width = 10)\n",
        "            last_x = int(touch.x)\n",
        "            last_y = int(touch.y)\n",
        "            n_points = 0\n",
        "            length = 0\n",
        "            sand[int(touch.x),int(touch.y)] = 1\n",
        "\n",
        "    def on_touch_move(self, touch):\n",
        "        global length, n_points, last_x, last_y\n",
        "        if touch.button == 'left':\n",
        "            touch.ud['line'].points += [touch.x, touch.y]\n",
        "            x = int(touch.x)\n",
        "            y = int(touch.y)\n",
        "            length += np.sqrt(max((x - last_x)**2 + (y - last_y)**2, 2))\n",
        "            n_points += 1.\n",
        "            density = n_points/(length)\n",
        "            touch.ud['line'].width = int(20 * density + 1)\n",
        "            sand[int(touch.x) - 10 : int(touch.x) + 10, int(touch.y) - 10 : int(touch.y) + 10] = 1\n",
        "            last_x = x\n",
        "            last_y = y\n"
      ],
      "execution_count": null,
      "outputs": []
    },
    {
      "cell_type": "code",
      "metadata": {
        "id": "o7DYvfMAtPBa"
      },
      "source": [
        "# Adding the API Buttons (clear, save and load)\n",
        "\n",
        "class CarApp(App):\n",
        "\n",
        "    def build(self):\n",
        "        parent = Game()\n",
        "        parent.serve_car()\n",
        "        Clock.schedule_interval(parent.update, 1.0/60.0)\n",
        "        self.painter = MyPaintWidget()\n",
        "        clearbtn = Button(text = 'clear')\n",
        "        savebtn = Button(text = 'save', pos = (parent.width, 0))\n",
        "        loadbtn = Button(text = 'load', pos = (2 * parent.width, 0))\n",
        "        clearbtn.bind(on_release = self.clear_canvas)\n",
        "        savebtn.bind(on_release = self.save)\n",
        "        loadbtn.bind(on_release = self.load)\n",
        "        parent.add_widget(self.painter)\n",
        "        parent.add_widget(clearbtn)\n",
        "        parent.add_widget(savebtn)\n",
        "        parent.add_widget(loadbtn)\n",
        "        return parent\n",
        "\n",
        "    def clear_canvas(self, obj):\n",
        "        global sand\n",
        "        self.painter.canvas.clear()\n",
        "        sand = np.zeros((longueur,largeur))\n",
        "\n",
        "    def save(self, obj):\n",
        "        print(\"saving brain...\")\n",
        "        brain.save()\n",
        "        plt.plot(scores)\n",
        "        plt.show()\n",
        "\n",
        "    def load(self, obj):\n",
        "        print(\"loading last saved brain...\")\n",
        "        brain.load()"
      ],
      "execution_count": null,
      "outputs": []
    },
    {
      "cell_type": "code",
      "metadata": {
        "id": "1k-z7ArStYx1"
      },
      "source": [
        "# Running the whole thing\n",
        "if __name__ == '__main__':\n",
        "    CarApp().run()"
      ],
      "execution_count": null,
      "outputs": []
    },
    {
      "cell_type": "markdown",
      "metadata": {
        "id": "ZmGxXFZmipmi"
      },
      "source": [
        "### Asynchronous Advantage Actor-Critic (A3C)\n",
        "\n",
        "Kommen wir nun zu einem der mächtigsten Algorithmen im Zusammenhang mit Deep Reinforcement Learning. Der A3C wurde das erste Mal in einem Research Paper von Google DeepMind erwähnt ([Asynchronous Methods for Deep Reinforcement Learning](https://arxiv.org/pdf/1602.01783.pdf)). Schauen wir uns zuerst einmal an, was sich hinter den drei A's verbirgt: (Quelle: [GeeksforGeeks](https://www.geeksforgeeks.org/asynchronous-advantage-actor-critic-a3c-algorithm/))\n",
        "\n",
        "**Asynchronous**\n",
        "\n",
        "Im Gegensatz zu anderen beliebten Deep Reinforcement Learning-Algorithmen wie Deep Q-Learning, die einen einzelnen Agenten und eine einzelne Umgebung verwenden, verwendet dieser Algorithmus **mehrere Agenten**, wobei jeder Agent seine eigenen Netzwerkparameter und eine Kopie der Umgebung hat. Diese Agenten interagieren mit ihren jeweiligen Umgebungen asynchron und lernen mit jeder Interaktion. Jeder Agent wird durch ein globales Netzwerk gesteuert. Wenn jeder Agent mehr Wissen erlangt, trägt er zum Gesamtwissen des globalen Netzwerks bei. Das Vorhandensein eines globalen Netzwerks ermöglicht es jedem Agenten, über vielfältigere Trainingsdaten zu verfügen. Dieser Aufbau ahmt die reale Umgebung nach, in der Menschen leben, da jeder Mensch Wissen aus den Erfahrungen eines anderen Menschen gewinnt, wodurch das gesamte \"globale Netzwerk\" besser werden kann.\n",
        "\n",
        "<img src='https://theaisummer.com/static/bac1621ae2cdc7375540d511b9191752/bdffb/a3c.jpg' width=400>\n",
        "\n",
        "Quelle ([A Brandom-ian view of Reinforcement Learning towards strong-AI](https://arxiv.org/pdf/1803.02912v1.pdf))\n",
        "\n",
        "**Advantage**\n",
        "\n",
        "Normalerweise wird bei der Implementierung von Policy Gradient der Wert von Discounted Returns ($\\gamma r$ ) verwendet, um dem Agenten mitzuteilen, welche seiner Aktionen belohnt und welche bestraft wurden. Indem er stattdessen den Wert von Advantage verwendet, lernt der Agent auch, wie viel besser die Belohnungen waren als seine Erwartung. Dies gibt dem Agenten einen neuen Einblick in die Umgebung und somit ist der Lernprozess besser. Die Advantage-Metrik ist durch den folgenden Ausdruck gegeben:- \n",
        "\n",
        "Vorteil: $A = Q(s, a) - V(s)$ \n",
        "\n",
        "**Actor-Critic**\n",
        "\n",
        "Im Gegensatz zu einigen einfacheren Techniken, die entweder auf Value-Iteration-Methoden oder Policy-Gradient-Methoden basieren, kombiniert der A3C-Algorithmus die besten Teile beider Methoden, d. h. der Algorithmus sagt sowohl die Wertfunktion V(s) als auch die optimale Policy-Funktion $\\pi$ (s) voraus. Der lernende Agent verwendet den Wert der Wertfunktion (Critic), um die optimale Policy-Funktion (Actor) zu aktualisieren. Beachten Sie, dass die Policy-Funktion hier die probabilistische Verteilung des Aktionsraums bedeutet. Um genau zu sein, bestimmt der lernende Agent die bedingte Wahrscheinlichkeit P(a|s ;$\\theta$ ), d. h. die parametrisierte Wahrscheinlichkeit, dass der Agent die Aktion a wählt, wenn er sich im Zustand s befindet.\n",
        "\n",
        "<img src = 'https://theaisummer.com/static/a4620c153553ad622c5dbae389367c90/8608d/ac.jpg' width=400>\n",
        "\n",
        "Quelle ([A Brandom-ian view of Reinforcement Learning towards strong-AI](https://arxiv.org/pdf/1803.02912v1.pdf))\n",
        "\n",
        "\n",
        "Empfehlenswerter Artikel: [The idea behind Actor-Critics and how A2C and A3C improve them](https://theaisummer.com/Actor_critics/) (Quelle: AI Summer)\n",
        "\n",
        "\n",
        "\n"
      ]
    },
    {
      "cell_type": "markdown",
      "metadata": {
        "id": "fvLmdORtw6iC"
      },
      "source": [
        "### Deep Deterministic Policy Gradients (DDPG)\n",
        "\n",
        "DDPG, oder Deep Deterministic Policy Gradient, ist ein actor-critic, modellfreier Algorithmus, der auf dem deterministischen Policy-Gradienten basiert und über kontinuierliche Aktionsräume (continuous action spaces) operieren kann. Er kombiniert den Actor-Critic-Ansatz mit Erkenntnissen aus DQNs: insbesondere die Erkenntnisse, dass 1) das Netz außerhalb der Policy mit Samples aus einem Replay-Buffer trainiert wird, um Korrelationen zwischen Samples zu minimieren, und 2) das Netz mit einem Target-Q-Netz trainiert wird, um konsistente Targets bei zeitlich unterschiedlichen Backups zu erhalten. DDPG nutzt dieselben Ideen zusammen mit der Batch-Normalisierung.\n",
        "\n",
        "DDPG wurde in der von Deepmind veröffentlichen Publikation [\"Continuous Control With Deep Reinforcement Learning\"](https://arxiv.org/abs/1509.02971) im 2015 erstmalig erklärt.\n"
      ]
    },
    {
      "cell_type": "markdown",
      "metadata": {
        "id": "yj-iZCoUy0Kj"
      },
      "source": [
        "#### Twin Delayed DDPG (TD3)\n",
        "\n",
        "<img src='https://github.com/sakuronohana/my_datascience/blob/master/udemy/drl2.0/td3.png?raw=true' width=600>\n",
        "\n",
        "Nachfolgend werden wir ein Beispiel einer Implementierung mit TD3 erstellen."
      ]
    },
    {
      "cell_type": "code",
      "metadata": {
        "id": "uSxSmmPanA0D"
      },
      "source": [
        "# Installation erforderlicher Python Packete\n",
        "!pip install pybullet\n"
      ],
      "execution_count": null,
      "outputs": []
    },
    {
      "cell_type": "code",
      "metadata": {
        "id": "c1D40iqGoSnG"
      },
      "source": [
        "# Erforderliche Biblitotheken installieren.\n",
        "\n",
        "import os\n",
        "import time\n",
        "import random\n",
        "import numpy as np\n",
        "import matplotlib.pyplot as plt\n",
        "import pybullet_envs\n",
        "import gym\n",
        "import torch\n",
        "import torch.nn as nn\n",
        "import torch.nn.functional as F\n",
        "from gym import wrappers\n",
        "from torch.autograd import Variable\n",
        "from collections import deque"
      ],
      "execution_count": null,
      "outputs": []
    },
    {
      "cell_type": "code",
      "metadata": {
        "id": "-dCihTG_0i3j"
      },
      "source": [
        "# Schritt 1: Initialisierung des Experience Replay memory\n",
        "class ReplayBuffer(object):\n",
        "\n",
        "  def __init__(self, max_size= 1e6):\n",
        "    self.storage = []\n",
        "    self.max_size = max_size\n",
        "    self.ptr = 0\n",
        "\n",
        "  def add(self, transition):\n",
        "    if len(self.storage) == self.max_size:\n",
        "      self.storage[init(self.ptr)] = transition\n",
        "      self.ptr = (self.ptr + 1) % self.max_size\n",
        "    else:\n",
        "      self.storage.append(transition)\n",
        "\n",
        "  def sample(self, batch_size):\n",
        "    ind = np.random.randint(0, len(self.storage), batch_size)\n",
        "    batch_states, batch_next_states, batch_actions, batch_rewards, batch_dones = [], [], [], [], []\n",
        "    for i in ind:\n",
        "      state, next_state, action, reward, done = self.storage[i]\n",
        "      batch_states.append(np.array(state, copy=False))\n",
        "      batch_next_states.append(np.array(next_state, copy=False))\n",
        "      batch_actions.append(np.array(action, copy=False))\n",
        "      batch_rewards.append(np.array(reward, copy=False))\n",
        "      batch_doness.append(np.array(done, copy=False))\n",
        "    return np.array(batch_states), np.array(batch_next_states), np.array(batch_actions), np.array(batch_rewards).reshape(-1,1), np.array(batch_dones).reshape(-1,1)"
      ],
      "execution_count": null,
      "outputs": []
    },
    {
      "cell_type": "code",
      "metadata": {
        "id": "9wjlXQ8y6Iwk"
      },
      "source": [
        "# Schritt 2: Erstellen der Neuronalen Neztwerke für das Actor Modell und Actor Target\n",
        "class Actor(nn.Module):\n",
        "\n",
        "  def __init__(self, state_dim, action_dim, max_action):\n",
        "    super(Actor, self).__init__()\n",
        "    self.layer_1 = nn.Linear(state_dim, 400)\n",
        "    self.layer_2 = nn.Linear(400, 300)\n",
        "    self.layer_3 = nn.Linear(300, action_dim)\n",
        "    self.max_action = max_action\n",
        "\n",
        "  def forward(self, x):\n",
        "    x = F.relu(self.layer_1(x))\n",
        "    x = F.relu(self.layer_2(x))\n",
        "    x = self.max_action * F.tanh(self.layer_3(x))\n",
        "    return x"
      ],
      "execution_count": null,
      "outputs": []
    },
    {
      "cell_type": "code",
      "metadata": {
        "id": "MHUGM2Z8-HyU"
      },
      "source": [
        "# Schritt 3: Erstellen der neuronalen Netzwerke für die zwei Critic Modelle und Critic Targets\n",
        "class Critic(nn.Module):\n",
        "\n",
        "  def __init__(self, state_dim, action_dim):\n",
        "    super(Critic, self).__init__()\n",
        "    # Erstes Critic neural Network\n",
        "    self.layer_1 = nn.Linear(state_dim + action_dim, 400)\n",
        "    self.layer_2 = nn.Linear(400, 300)\n",
        "    self.layer_3 = nn.Linear(300, 1)\n",
        "    # Zweites Critic Neural Network\n",
        "    self.layer_4 = nn.Linear(state_dim + action_dim, 400)\n",
        "    self.layer_5 = nn.Linear(400, 300)\n",
        "    self.layer_6 = nn.Linear(300, 1)\n",
        "\n",
        "  def forward(self, x, u):\n",
        "    xu = torch.cat([x, u], 1)\n",
        "    # Foward-propagatioin für das erste Critic NN\n",
        "    x1 = F.relu(self.layer_1(xu))\n",
        "    x1 = F.relu(self.layer_2(x1))\n",
        "    x1 = self.layer_3(x1)\n",
        "    # Foward-propagatioin für das zweite Critic NN\n",
        "    x2 = F.relu(self.layer_4(xu))\n",
        "    x2 = F.relu(self.layer_5(x1))\n",
        "    x2 = self.layer_6(x2)\n",
        "    return x1, x2\n",
        "\n",
        "  def Q1(self, x, u):\n",
        "    xu = torch.cat([x, u], 1)\n",
        "    x1 = F.relu(self.layer_1(xu))\n",
        "    x1 = F.relu(self.layer_2(x1))\n",
        "    x1 = self.layer_3(x1)\n",
        "    return x1"
      ],
      "execution_count": null,
      "outputs": []
    },
    {
      "cell_type": "code",
      "metadata": {
        "id": "d61NFEmRB3XI"
      },
      "source": [
        "# Schritt 4 - 15: Trainingsprozess\n",
        "\n",
        "# Auswahl der Hardware (GPU or GPU)\n",
        "device = torch.device(\"cuda\" if torch.cuda.is_available() else 'cpu')\n",
        "\n",
        "# Erstellen des ganzen Trainingprozesse in eine Klasse (Class)\n",
        "\n",
        "class TD3(object):\n",
        "\n",
        "  def __init__()"
      ],
      "execution_count": null,
      "outputs": []
    },
    {
      "cell_type": "markdown",
      "metadata": {
        "id": "1479GPfVU0YZ"
      },
      "source": [
        "## **KI-Modellen**\n",
        "\n",
        "An dieser Stelle wollen wir uns einmal mit den verschiedenen Konzepten von KI-Modellen befassen. Die folgenden Taxonomie wird vermehrt im Zusammenhang mit KI-Modellen verwendet und gibt uns die Möglichkeit die im voherigen Kapitel **\"Reinforcement Learning\"** beschriebenen Techniken einzuordnen.\n",
        "\n",
        "### Modell-Free vs. Model-Based\n",
        "\n",
        "KI mit dem **Modell-Free**-Konzept wurden im eigentlichen Environment trainiert, d.h. in dem Environment, in welchem sie auch zum Einsatz kommen.  **Model-Based** KIs hingegen  ihr eigenes optimales Environment erschaffen um darin zu trainieren. \n",
        "\n",
        "### Value-Based vs. Policy-Based\n",
        "\n",
        "....\n",
        "\n",
        "### Off-Policy vs. On-Policy\n",
        "\n",
        "..."
      ]
    },
    {
      "cell_type": "markdown",
      "metadata": {
        "id": "rGXtjc0bIL6z"
      },
      "source": [
        "## **Explainable Artificial Intelligence (XAI)**$^*$\n",
        "\n",
        "$^*$Bis 2015 noch unter dem Begriff *Interpretable machine learning* bekannt\n",
        "\n",
        "Der Einsatz von KI-/ML-Modellen in Unternehmen, Behörden oder im Gesundheitswesen bringt neben effizienteren Prozessen und einem allfälligen Wettbewerbsvorteil natürlich auch vielVerantwortung mit sich. In vielen Ländern wird dem Kunden eines Unternehmens das Recht auf volle Transparenz im Zusammenhang mit Entscheidungen (bspw. Kreditvergabe) welche ihn betreffen zugesprochen. Während sich Entscheidungen, welche durch Menschen innerhalb eines strukturierten Prozesses getroffen wurden, meist gut nachvollziehen lassen sieht dieses Thema beim Einsatz von KI bzw. ML-Modelle meist ganz anders aus. Die meist sehr grosse Anzahl von Merkmalen (Features) welche ein Modell während eines Entscheidungsprozess berücksichtigt und die Komplexität (bspw. Deep Neural Networks) der Algorithmen machen es schwierig der Anforderung der vollen Entscheidungstransparenz nachzukommen. Die meisten Unternehmen sehen sich ausserstande die Entscheidungen ihrer KI zu erklären. Dies führt zu Misstrauen der Kunden und einem Vertrauensproblem gegenüber dem Unternehmen. Die Entwickler von KIs sind somit vermehrt gefordert die Entscheidungen ihrer Modelle transparenter und nachvollziehbarer zu machen. \n",
        "\n",
        "Dieses Problem hat Forscher schon in den 1990er Jahren beschäftigt und wurde im Jahr 2004 mit dem Konzept \"*An Explainable Artificial Intelligence System for Small-unit Tactical Behavior*\" ([Link](https://www.aaai.org/Papers/IAAI/2004/IAAI04-019.pdf)) das erste Mal formalisiert. Im Verlauf der letzten Jahre wurde auch in diesem Bereich des Themas KI viel geforscht und Techniken entwickelt, welche die Vertrauenswürdikeit in KI-Modelle erhöhen sollen. Auch die EU hat sich in verschiedenen Projekten mit diesem Thema auseinandergesetzt und durch eine unabhängige Expertengruppe eine Ethic-Guidelinies für vertrauenswürdige KI ([Link]( https://digital-strategy.ec.europa.eu/en/library/ethics-guidelines-trustworthy-ai)) erstellen lassen. Gemäss den Experten muss eine KI folgende Eigenschaften aufweisen um als vertrauenswürdig eingestuft zu werden:\n",
        "\n",
        "* Erklärbarkeit\n",
        "* Fairness\n",
        "* Prüffähigkeit\n",
        "* Genauigkeit\n",
        "* Haftbarkeit\n",
        "\n",
        "Im Zusammenhang mit der Erklärbarkeit von ML-Modellen ist noch zu erwähnen, dass nicht alle Modelle per se schwierig zu interpretieren sind. So können beispielsweise Lineare Modelle und Entscheidungsbäume - auch **White-Box Modelle** genannt - mittels einfacher grafischer Darstellung bereits einen guten Aufschluss über deren Entscheidungsfindung aufzeigen. Hierbei muss gesagt sein, dass auch bei Entscheidungsbäumen mit mehreren hunderten und tausenden von Ebenen die Erklärbarkeit schwierig wird. Schwierig zu interpretierende Modellen nennt man übrigens **Black-Box Modelle**.\n"
      ]
    },
    {
      "cell_type": "markdown",
      "metadata": {
        "id": "KdBHrqrw5XNW"
      },
      "source": [
        "### Arten von XAI\n",
        "\n",
        "Grundsätzlich wird zwischen zwei Arten von Erklärbarkeit unterschieden:\n",
        "\n",
        "* **Modellerklärbarkeit (Global Interpretability)** - Hier wird erklärt wie ein bestimmtes Modell als Ganzes funktioniert.\n",
        "* **Datenerklärbarkeit (Local Interpretability)** - Hierbei geht es darum, weshalb bestimmte Eingaben $x$ zu einer bestimmten Ausgabe $y$ führt.\n",
        "\n",
        "In diesem  Artikel werden die Begriffe genaustens erklärt: \n",
        "[What is Explainable AI (XAI)?](https://towardsdatascience.com/what-is-explainable-ai-xai-afc56938d513)\n",
        "\n",
        "In den nachfolgenden Kapiteln werden wir uns mit verschiedenen Techniken zu den zwei Arten der Erklärbarkeit befassen."
      ]
    },
    {
      "cell_type": "markdown",
      "metadata": {
        "id": "bNXt0nUE7e5p"
      },
      "source": [
        "### Modellerklärbarkeit (Global Interpretability)"
      ]
    },
    {
      "cell_type": "markdown",
      "metadata": {
        "id": "MFoSKNnR7ndF"
      },
      "source": [
        "### Datenerklärbarkeit (Local Interpretability)"
      ]
    },
    {
      "cell_type": "markdown",
      "metadata": {
        "id": "cQ-AX2vz9DiI"
      },
      "source": [
        "#### Local Interpretable Model-Agnostic Explanations (LIME)\n",
        "\n",
        "https://youtu.be/VwpdMXGssPY"
      ]
    },
    {
      "cell_type": "markdown",
      "metadata": {
        "id": "TilEInxS_lCD"
      },
      "source": [
        "#### SHapley Additive exPlanations (SHAP)"
      ]
    }
  ]
}