{
 "cells": [
  {
   "cell_type": "markdown",
   "metadata": {
    "colab_type": "text",
    "id": "view-in-github"
   },
   "source": [
    "<a href=\"https://colab.research.google.com/github/sakuronohana/my_datascience/blob/master/3_DS_Bootcamp_R_Basic_%26_Advanced.ipynb\" target=\"_parent\"><img src=\"https://colab.research.google.com/assets/colab-badge.svg\" alt=\"Open In Colab\"/></a>"
   ]
  },
  {
   "cell_type": "markdown",
   "metadata": {
    "colab_type": "text",
    "id": "SyxBmxgRxnMS"
   },
   "source": [
    "# DS Bootcamp Teil 1b - R Basic & Advanced #"
   ]
  },
  {
   "cell_type": "markdown",
   "metadata": {
    "colab_type": "text",
    "id": "wzg8_V-3-pOb"
   },
   "source": [
    "## DS Bootcamp Verzeichnis ##\n",
    "\n",
    "[**Teil 1 - Data Science - Prozesse & Grundlagen**](https://github.com/sakuronohana/my_datascience/blob/master/1_DS_Bootcamp_Prozesse_%26_Grundlagen.ipynb)\n",
    "\n",
    "[**Teil 1a - Data Science - Python Basic & Advanced**](https://github.com/sakuronohana/my_datascience/blob/master/2_DS_Bootcamp_Python_Basic_%26_Advanced.ipynb)\n",
    "\n",
    "[**Teil 1b - Data Science - R Basic & Advanced**](https://github.com/sakuronohana/my_datascience/blob/master/3_DS_Bootcamp_R_Basic_%26_Advanced.ipynb)\n",
    "\n",
    "[**Teil 2 - Data Science - ML - Datenbeschaffung & Datenaufbereitung**](https://github.com/sakuronohana/my_datascience/blob/master/4_DS_Bootcamp_ML_Datenbeschaffung_Datenaufbereitung.ipynb)\n",
    "\n",
    "[**Teil 3 - Data Science - ML - Modellwahl**](https://github.com/sakuronohana/my_datascience/blob/master/5_DS_Bootcamp_ML_Modellwahl.ipynb)\n",
    "\n",
    "[**Teil 4 - Data Science - ML - Modell Training, Testing & Optimierung**](https://github.com/sakuronohana/my_datascience/blob/master/6_DS_Bootcamp_ML_Modell_Train_Test_Optimize.ipynb)\n",
    "\n",
    "[**Teil 5 - Data Science - ML - Modell Produktivsetzung, Überwachung & Pflege**](https://github.com/sakuronohana/my_datascience/blob/master/7_DS_Bootcamp_ML_Modell_Deploy_Monitor_Maintain.ipynb)"
   ]
  },
  {
   "cell_type": "markdown",
   "metadata": {
    "colab_type": "text",
    "id": "TkskrT228Qqe"
   },
   "source": [
    "<img src=\"https://upload.wikimedia.org/wikipedia/commons/thumb/1/1b/R_logo.svg/400px-R_logo.svg.png\" alt=\"Drawing\" width = \"300\"/>\n",
    "\n",
    "##About R##\n",
    "\n",
    "R ist eine freie Programmiersprache für statistische Berechnungen und Grafiken. Sie wurde 1992 von Statistikern für Anwender mit statistischen Aufgaben neu entwickelt. Die Syntax orientiert sich an der Programmiersprache S, mit der R weitgehend kompatibel ist, und die Semantik an Scheme. Als Standarddistribution kommt R mit einem Interpreter als Kommandozeilenumgebung mit rudimentären grafischen Schaltflächen. So ist R aktuell auf den wichtigsten Plattformen verfügbar; die Umgebung wird von den Entwicklern ausdrücklich ebenfalls als R bezeichnet. R ist Teil des GNU-Projekts. Als integrierte Entwicklungsumgebung und um die Benutzerfreundlichkeit von R zu erhöhen, wird außerdem RStudio angeboten.\n",
    "\n",
    "Zahlreiche online abrufbare Pakete enthalten zusätzliche Funktionen, um Daten hinsichtlich Fragestellungen aus unterschiedlichen Fachbereichen zu analysieren; weitere eigene Funktionen können erstellt werden. Die Sprache bietet Schnittstellen zu anderen Programmiersprachen und Möglichkeiten zur Integration in verschiedene Software. R grenzt sich in mehrerer Hinsicht von anderen bekannten Statistik-Umgebungen ab und ist nicht ausschließlich als Statistiksoftware zu bezeichnen. Obwohl andere, heutzutage mit grafischen Benutzeroberflächen versehene Statistik-Umgebungen wie SPSS ebenfalls als spezialisierte Programmiersprachen begannen (und diese Fähigkeit bis heute beibehalten), fokussiert sich R auf seine Stärke als Statistik-orientierte Programmiersprache. R grenzt sich von anderen Programmiersprachen durch die für Statistik entworfenen Datenstrukturen und Funktionen sowie die besonderen Möglichkeiten bei der Grafikerzeugung ab.\n",
    "\n",
    "(Quelle: Wikipedia)\n"
   ]
  },
  {
   "cell_type": "markdown",
   "metadata": {
    "colab_type": "text",
    "id": "N-L3CqPINB1S"
   },
   "source": [
    "## R Basics"
   ]
  },
  {
   "cell_type": "markdown",
   "metadata": {
    "colab_type": "text",
    "id": "WNN57RwS_5Wr"
   },
   "source": [
    "### R in Kaggle\n",
    "\n",
    "Da Google Colab aktuell kein R Kernel unterstützt wird dieses Bootcamp in Kaggle Notebooks erstellt.\n",
    "\n",
    "* [R Basics](https://www.kaggle.com/sakuro/ds-bootcamp-teil-1b-r-basics)\n",
    "* [R Datenvisualisierung](https://www.kaggle.com/sakuro/ds-bootcamp-teil-1b-r-datenvisualisierung)\n",
    "\n"
   ]
  },
  {
   "cell_type": "code",
   "execution_count": 2,
   "metadata": {},
   "outputs": [
    {
     "data": {
      "text/html": [
       "<ol class=list-inline>\n",
       "\t<li>3</li>\n",
       "\t<li>5</li>\n",
       "\t<li>67</li>\n",
       "\t<li>70</li>\n",
       "\t<li>80</li>\n",
       "</ol>\n"
      ],
      "text/latex": [
       "\\begin{enumerate*}\n",
       "\\item 3\n",
       "\\item 5\n",
       "\\item 67\n",
       "\\item 70\n",
       "\\item 80\n",
       "\\end{enumerate*}\n"
      ],
      "text/markdown": [
       "1. 3\n",
       "2. 5\n",
       "3. 67\n",
       "4. 70\n",
       "5. 80\n",
       "\n",
       "\n"
      ],
      "text/plain": [
       "[1]  3  5 67 70 80"
      ]
     },
     "metadata": {},
     "output_type": "display_data"
    }
   ],
   "source": [
    "# Verctors sind nichts anderes als einzelne Sektionen die eine Wert\n",
    "# wie Zahlen, Buchstaben beinhalten.\n",
    "\n",
    "v <- c(3,5,67,70,80)\n",
    "v\n"
   ]
  }
 ],
 "metadata": {
  "colab": {
   "include_colab_link": true,
   "name": "DS Bootcamp R Basic & Advanced ipynb",
   "provenance": []
  },
  "kernelspec": {
   "display_name": "R",
   "language": "R",
   "name": "ir"
  },
  "language_info": {
   "codemirror_mode": "r",
   "file_extension": ".r",
   "mimetype": "text/x-r-source",
   "name": "R",
   "pygments_lexer": "r",
   "version": "3.6.1"
  }
 },
 "nbformat": 4,
 "nbformat_minor": 4
}
