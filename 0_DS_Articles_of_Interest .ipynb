{
  "nbformat": 4,
  "nbformat_minor": 0,
  "metadata": {
    "colab": {
      "name": "DS Articles of Interest ipynb",
      "provenance": [],
      "include_colab_link": true
    },
    "kernelspec": {
      "name": "python3",
      "display_name": "Python 3"
    }
  },
  "cells": [
    {
      "cell_type": "markdown",
      "metadata": {
        "id": "view-in-github",
        "colab_type": "text"
      },
      "source": [
        "<a href=\"https://colab.research.google.com/github/sakuronohana/my_datascience/blob/master/0_DS_Articles_of_Interest%20.ipynb\" target=\"_parent\"><img src=\"https://colab.research.google.com/assets/colab-badge.svg\" alt=\"Open In Colab\"/></a>"
      ]
    },
    {
      "cell_type": "markdown",
      "metadata": {
        "colab_type": "text",
        "id": "ALSIwZ7bmcTv"
      },
      "source": [
        "# Intressante Artikel zum Data Science #\n",
        "\n",
        "<img src=\"https://www.fhnw.ch/de/die-fhnw/hochschulen/ht/institute/institut-fuer-business-engineering/ibe-newsletter/muster-erkennen-und-datenqualitaet-verbessern-mit-hilfe-von-data-science/media/webcontent_data-science.jpg\" alt=\"Drawing\" width=\"600\"/>\n",
        "\n",
        "Nachfolgend eine Auflistung intressanter Artikel rund um Data Science (Data-Analytic, AI, ML usw.) geliedert in \n",
        "\n",
        "* Domains / Business / Themen\n",
        "* Jahr\n",
        "\n",
        "\n",
        "\n",
        "\n",
        "\n"
      ]
    },
    {
      "cell_type": "markdown",
      "metadata": {
        "id": "68k6QKuPpe_K",
        "colab_type": "text"
      },
      "source": [
        "## Programming ##\n",
        "\n",
        "###2019###\n",
        "\n",
        "* Generell - Data Scientist’s 2020 Toolbox: A List of Tools to Increase Your Productivity [Link](https://towardsdatascience.com/data-science-101-a-list-of-tools-to-increase-your-productivity-134f57b01922)\n",
        "* Python - The Essential Python Libraries for Data Science [Link](https://towardsdatascience.com/the-essential-python-libraries-for-data-science-ce55c53dfd6b)\n",
        "* Python - Automating excel files using Pandas [Link](https://medium.com/swlh/automating-excel-files-using-pandas-f6c4ec52e49e)\n",
        "* Python - 25 Useful Python Snippets to Help in Your Day-to-Day Work [Link](https://medium.com/better-programming/25-useful-python-snippets-to-help-in-your-day-to-day-work-d59c636ec1b)\n",
        "* Python - Advanced Python List Methods and Techniques [Link](https://medium.com/better-programming/advanced-python-list-methods-and-techniques-python-like-a-pro-bcc52e93c646)\n",
        "* Python - The Most Underrated Python Packages [Link](https://towardsdatascience.com/the-most-underrated-python-packages-e22bf6049b5e)\n",
        "* Python - Introducing Bamboolib — a GUI for Pandas [Link](https://towardsdatascience.com/introducing-bamboolib-a-gui-for-pandas-4f6c091089e3)\n",
        "* Python (Numpy) - Reshaping numpy arrays in Python — a step-by-step pictorial tutorial [Link](https://towardsdatascience.com/reshaping-numpy-arrays-in-python-a-step-by-step-pictorial-tutorial-aed5f471cf0b)"
      ]
    },
    {
      "cell_type": "markdown",
      "metadata": {
        "id": "CKEKtI8axxLG",
        "colab_type": "text"
      },
      "source": [
        "## Machine Learning ##\n",
        "\n",
        "###2019###\n",
        "\n",
        "* Interpreting Machine Learning Model [Link](https://towardsdatascience.com/interpreting-machine-learning-model-70fa49d20af1)\n",
        "* Hyperparameter Tuning Explained — Tuning Phases, Tuning Methods, Bayesian Optimization, and Sample Code! [Link](https://towardsdatascience.com/hyperparameter-tuning-explained-d0ebb2ba1d35)\n",
        "* Decision Tree Algorithm — Explained [Link](https://towardsdatascience.com/decision-tree-algorithm-explained-83beb6e78ef4)\n",
        "* Incremental (Online) Learning with Scikit-Multiflow [Link](https://towardsdatascience.com/incremental-online-learning-with-scikit-multiflow-6b846913a50b)\n",
        "* The Ultimate Guide to Data Labeling for Machine Learning [Link](https://www.cloudfactory.com/data-labeling-guide)\n",
        "* DeepMind Unveils MuZero, a New Agent that Mastered Chess, Shogi, Atari and Go Without Knowing the Rules [Link](https://towardsdatascience.com/deepmind-unveils-muzero-a-new-agent-that-mastered-chess-shogi-atari-and-go-without-knowing-the-d755dc80ff08)\n",
        "* Everything you need to know about Google’s new PlaNet reinforcement learning network [Link](https://towardsdatascience.com/everything-you-need-to-know-about-googles-new-planet-reinforcement-learning-network-144c2ca3f284)\n",
        "\n",
        "###2018###\n",
        "* Improving the Performance of a Neural Network [Link](https://towardsdatascience.com/how-to-increase-the-accuracy-of-a-neural-network-9f5d1c6f407d)\n",
        "* Deep Dive into Math Behind Deep Networks [Link](https://towardsdatascience.com/https-medium-com-piotr-skalski92-deep-dive-into-deep-networks-math-17660bc376ba)\n",
        "* Reinforcement Learning 101 [Link](https://towardsdatascience.com/reinforcement-learning-101-e24b50e1d292)"
      ]
    },
    {
      "cell_type": "markdown",
      "metadata": {
        "id": "HgIjLzru_Hwi",
        "colab_type": "text"
      },
      "source": [
        "### Artificial Intelligence ###\n",
        "\n",
        "####2019####\n",
        "\n",
        "* The History of AI Research [Link](https://towardsdatascience.com/history-of-ai-research-90a6cc8adc9c)\n",
        "* A Distilled List of AI Trends For 2020 [Link](https://towardsdatascience.com/a-distilled-list-of-ai-trends-for-2020-e2fc83a9b092)\n",
        "* Explainable Artificial Intelligence (XAI) [Tools](https://cloud.google.com/explainable-ai/), [Link](https://www.kdnuggets.com/2019/01/explainable-ai.html)\n",
        "* Vier unterschiedliche Arten Künstlicher Intelligenz – Infografik [Link](https://www.der-bank-blog.de/typologie-kuenstliche-intelligenz/technologie/29269/?utm_source=newsletter&utm_medium=email&utm_term=https%3A%2F%2Fwww.der-bank-blog.de%2Ftypologie-kuenstliche-intelligenz%2Ftechnologie%2F29269%2F&utm_content&utm_campaign=Top+Ten+Artikel+2019)\n",
        "\n",
        "####2017###\n",
        "\n",
        "* How to Use Artificial Intelligence in Google Sheets [Link](https://business.tutsplus.com/tutorials/how-to-use-ai-in-google-sheets--cms-29268)"
      ]
    },
    {
      "cell_type": "markdown",
      "metadata": {
        "id": "izW4-Jnjd9qV",
        "colab_type": "text"
      },
      "source": [
        "## Gefahren & Bedrohungen ##"
      ]
    },
    {
      "cell_type": "markdown",
      "metadata": {
        "id": "fbAJFUqReUPF",
        "colab_type": "text"
      },
      "source": [
        "###2019###\n",
        "\n",
        "* Auf dem Weg zur totalen Überwachung mittels intelligenten Systemen [Link](https://www.tagesschau.de/ausland/ueberwachung-china-101.html)\n",
        "* Wer mit KI experimentiert, wird selbst zum Motor der Transformation [Link](https://www.der-bank-blog.de/ki-personalarbeit/fuehrung-und-management/37659227/?utm_source=newsletter&utm_medium=email&utm_term=https%3A%2F%2Fwww.der-bank-blog.de%2Fki-personalarbeit%2Ffuehrung-und-management%2F37659227%2F&utm_content&utm_campaign=Der+Bank+Blog+Newsletter+T%C3%A4glich)"
      ]
    },
    {
      "cell_type": "markdown",
      "metadata": {
        "id": "IKgGX4VzeImO",
        "colab_type": "text"
      },
      "source": [
        "###2018###"
      ]
    },
    {
      "cell_type": "markdown",
      "metadata": {
        "id": "Q5anItY2dWzW",
        "colab_type": "text"
      },
      "source": [
        "## Finance & Banking ##"
      ]
    },
    {
      "cell_type": "markdown",
      "metadata": {
        "id": "w5n7NeuNeo_m",
        "colab_type": "text"
      },
      "source": [
        "### 2019 ###\n",
        "\n",
        "* Vertriebsansätze im digitalen Zeitalter [Link](https://www.der-bank-blog.de/vertriebsansaetze-im-digitalen-zeitalter/trends/37659303/?utm_source=newsletter&utm_medium=email&utm_term=https%3A%2F%2Fwww.der-bank-blog.de%2Fvertriebsansaetze-im-digitalen-zeitalter%2Ftrends%2F37659303%2F&utm_content&utm_campaign=Der+Bank+Blog+Newsletter+T%C3%A4glich)\n",
        "* Künstliche Intelligenz für nachhaltige Investments in die Zukunft [Link](https://www.der-bank-blog.de/ki-personalarbeit/fuehrung-und-management/37659227/?utm_source=newsletter&utm_medium=email&utm_term=https%3A%2F%2Fwww.der-bank-blog.de%2Fki-personalarbeit%2Ffuehrung-und-management%2F37659227%2F&utm_content&utm_campaign=Der+Bank+Blog+Newsletter+T%C3%A4glich)\n",
        "* Wie die Commerzbank aus Daten Produkte macht [Link](https://www.der-bank-blog.de/commerzbank-daten-bankprodukte/digital-banking/37655791/?utm_source=newsletter&utm_medium=email&utm_term=https%3A%2F%2Fwww.der-bank-blog.de%2Fcommerzbank-daten-bankprodukte%2Fdigital-banking%2F37655791%2F&utm_content&utm_campaign=Top+Ten+Artikel+2019)"
      ]
    },
    {
      "cell_type": "markdown",
      "metadata": {
        "id": "-4eXre3Bdhtm",
        "colab_type": "text"
      },
      "source": [
        "###2018###"
      ]
    }
  ]
}