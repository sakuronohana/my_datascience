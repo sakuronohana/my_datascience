{
  "nbformat": 4,
  "nbformat_minor": 0,
  "metadata": {
    "colab": {
      "name": "DS Articles of Interest ipynb",
      "provenance": [],
      "include_colab_link": true
    },
    "kernelspec": {
      "name": "python3",
      "display_name": "Python 3"
    }
  },
  "cells": [
    {
      "cell_type": "markdown",
      "metadata": {
        "id": "view-in-github",
        "colab_type": "text"
      },
      "source": [
        "<a href=\"https://colab.research.google.com/github/sakuronohana/my_datascience/blob/master/0_DS_Articles_of_Interest%20.ipynb\" target=\"_parent\"><img src=\"https://colab.research.google.com/assets/colab-badge.svg\" alt=\"Open In Colab\"/></a>"
      ]
    },
    {
      "cell_type": "markdown",
      "metadata": {
        "colab_type": "text",
        "id": "ALSIwZ7bmcTv"
      },
      "source": [
        "# Intressante Artikel zum Data Science #\n",
        "\n",
        "<img src=\"https://www.fhnw.ch/de/die-fhnw/hochschulen/ht/institute/institut-fuer-business-engineering/ibe-newsletter/muster-erkennen-und-datenqualitaet-verbessern-mit-hilfe-von-data-science/media/webcontent_data-science.jpg\" alt=\"Drawing\" width=\"600\"/>\n",
        "\n",
        "Nachfolgend eine Auflistung intressanter Artikel rund um Data Science (Data-Analytic, AI, ML usw.) geliedert in \n",
        "\n",
        "* Domains / Business / Themen\n",
        "* Jahr\n",
        "\n",
        "\n",
        "\n",
        "\n",
        "\n"
      ]
    },
    {
      "cell_type": "markdown",
      "metadata": {
        "id": "RybCd6imWmbs",
        "colab_type": "text"
      },
      "source": [
        "## Mathematik ##"
      ]
    },
    {
      "cell_type": "markdown",
      "metadata": {
        "id": "ARWu9ZxeTE2q",
        "colab_type": "text"
      },
      "source": [
        "###2019###\n",
        "\n",
        "* [Probability Learning I: Bayes’ Theorem](https://towardsdatascience.com/probability-learning-i-bayes-theorem-708a4c02909a)\n",
        "* [Probability Learning II: How Bayes’ Theorem is applied in Machine Learning](https://towardsdatascience.com/probability-learning-ii-how-bayes-theorem-is-applied-in-machine-learning-bd747a960962)\n",
        "* [Probability Learning III: Maximum Likelihood](https://towardsdatascience.com/probability-learning-iii-maximum-likelihood-e78d5ebea80c)\n",
        "* [Probability Learning IV : The Math Behind Bayes](https://towardsdatascience.com/probability-learning-iv-the-math-behind-bayes-bfb94ea03dd8)\n",
        "* [Probability Learning VI: Hidden Markov Models](https://towardsdatascience.com/probability-learning-vi-hidden-markov-models-fab5c1f0a31d)\n",
        "* [Probability Learning V: Naive Bayes](https://towardsdatascience.com/probability-learning-v-naive-bayes-7f1d0466f5f1)\n"
      ]
    },
    {
      "cell_type": "markdown",
      "metadata": {
        "id": "T8VX5n-4WiSN",
        "colab_type": "text"
      },
      "source": [
        "###2018###\n",
        "\n",
        "* [Deep Dive into Math Behind Deep Networks](https://towardsdatascience.com/https-medium-com-piotr-skalski92-deep-dive-into-deep-networks-math-17660bc376ba)"
      ]
    },
    {
      "cell_type": "markdown",
      "metadata": {
        "id": "xmRgfK72Ws4c",
        "colab_type": "text"
      },
      "source": [
        "## Coding ##"
      ]
    },
    {
      "cell_type": "markdown",
      "metadata": {
        "id": "68k6QKuPpe_K",
        "colab_type": "text"
      },
      "source": [
        "###2019###\n",
        "\n",
        "* Generell - [Data Scientist’s 2020 Toolbox: A List of Tools to Increase Your Productivity](https://towardsdatascience.com/data-science-101-a-list-of-tools-to-increase-your-productivity-134f57b01922)\n",
        "* Python - [The Essential Python Libraries for Data Science](https://towardsdatascience.com/the-essential-python-libraries-for-data-science-ce55c53dfd6b)\n",
        "* Python - [Automating excel files using Pandas](https://medium.com/swlh/automating-excel-files-using-pandas-f6c4ec52e49e)\n",
        "* Python - [25 Useful Python Snippets to Help in Your Day-to-Day Work](https://medium.com/better-programming/25-useful-python-snippets-to-help-in-your-day-to-day-work-d59c636ec1b)\n",
        "* Python - [Advanced Python List Methods and Techniques](https://medium.com/better-programming/advanced-python-list-methods-and-techniques-python-like-a-pro-bcc52e93c646)\n",
        "* Python - [The Most Underrated Python Packages](https://towardsdatascience.com/the-most-underrated-python-packages-e22bf6049b5e)\n",
        "* Python - [Introducing Bamboolib — a GUI for Pandas](https://towardsdatascience.com/introducing-bamboolib-a-gui-for-pandas-4f6c091089e3)\n",
        "* Python (Numpy) - [Reshaping numpy arrays in Python — a step-by-step pictorial tutorial](https://towardsdatascience.com/reshaping-numpy-arrays-in-python-a-step-by-step-pictorial-tutorial-aed5f471cf0b)"
      ]
    },
    {
      "cell_type": "markdown",
      "metadata": {
        "id": "pNAC0-COW4es",
        "colab_type": "text"
      },
      "source": [
        "## Machine Learning ##"
      ]
    },
    {
      "cell_type": "markdown",
      "metadata": {
        "id": "CKEKtI8axxLG",
        "colab_type": "text"
      },
      "source": [
        "###2019###\n",
        "\n",
        "* [Interpreting Machine Learning Model](https://towardsdatascience.com/interpreting-machine-learning-model-70fa49d20af1)\n",
        "* [Hyperparameter Tuning Explained — Tuning Phases, Tuning Methods, Bayesian Optimization, and Sample Code!](https://towardsdatascience.com/hyperparameter-tuning-explained-d0ebb2ba1d35)\n",
        "* [Decision Tree Algorithm — Explained](https://towardsdatascience.com/decision-tree-algorithm-explained-83beb6e78ef4)\n",
        "* [Incremental (Online) Learning with Scikit-Multiflow](https://towardsdatascience.com/incremental-online-learning-with-scikit-multiflow-6b846913a50b)\n",
        "* [The Ultimate Guide to Data Labeling for Machine Learning](https://www.cloudfactory.com/data-labeling-guide)\n",
        "* [DeepMind Unveils MuZero, a New Agent that Mastered Chess, Shogi, Atari and Go Without Knowing the Rules](https://towardsdatascience.com/deepmind-unveils-muzero-a-new-agent-that-mastered-chess-shogi-atari-and-go-without-knowing-the-d755dc80ff08)\n",
        "* [Everything you need to know about Google’s new PlaNet reinforcement learning network](https://towardsdatascience.com/everything-you-need-to-know-about-googles-new-planet-reinforcement-learning-network-144c2ca3f284)\n"
      ]
    },
    {
      "cell_type": "markdown",
      "metadata": {
        "id": "QOrDEiNwW9zl",
        "colab_type": "text"
      },
      "source": [
        "###2018###\n",
        "* [Improving the Performance of a Neural Network](https://towardsdatascience.com/how-to-increase-the-accuracy-of-a-neural-network-9f5d1c6f407d)\n",
        "* [Reinforcement Learning 101](https://towardsdatascience.com/reinforcement-learning-101-e24b50e1d292)"
      ]
    },
    {
      "cell_type": "markdown",
      "metadata": {
        "id": "Z5Tgl52FXL6s",
        "colab_type": "text"
      },
      "source": [
        "## Artificial Intelligence ##\n"
      ]
    },
    {
      "cell_type": "markdown",
      "metadata": {
        "id": "HgIjLzru_Hwi",
        "colab_type": "text"
      },
      "source": [
        "###2019###\n",
        "\n",
        "* [The History of AI Research](https://towardsdatascience.com/history-of-ai-research-90a6cc8adc9c)\n",
        "* [A Distilled List of AI Trends For 2020](https://towardsdatascience.com/a-distilled-list-of-ai-trends-for-2020-e2fc83a9b092)\n",
        "* [Explainable Artificial Intelligence (XAI)](https://www.kdnuggets.com/2019/01/explainable-ai.html)) [Tools](https://cloud.google.com/explainable-ai/)\n",
        "* [Vier unterschiedliche Arten Künstlicher Intelligenz – Infografik](https://www.der-bank-blog.de/typologie-kuenstliche-intelligenz/technologie/29269/?utm_source=newsletter&utm_medium=email&utm_term=https%3A%2F%2Fwww.der-bank-blog.de%2Ftypologie-kuenstliche-intelligenz%2Ftechnologie%2F29269%2F&utm_content&utm_campaign=Top+Ten+Artikel+2019)\n"
      ]
    },
    {
      "cell_type": "markdown",
      "metadata": {
        "id": "8uMUyWHjXSvz",
        "colab_type": "text"
      },
      "source": [
        "###2017###\n",
        "\n",
        "* [How to Use Artificial Intelligence in Google Sheets](https://business.tutsplus.com/tutorials/how-to-use-ai-in-google-sheets--cms-29268)"
      ]
    },
    {
      "cell_type": "markdown",
      "metadata": {
        "id": "izW4-Jnjd9qV",
        "colab_type": "text"
      },
      "source": [
        "## Gefahren & Bedrohungen ##"
      ]
    },
    {
      "cell_type": "markdown",
      "metadata": {
        "id": "GuFpy8edWYnf",
        "colab_type": "text"
      },
      "source": [
        "###2020###\n",
        " * [Facebook geht gegen Deep Fakes und manipulierte Medieninhalte vor](https://www.itmagazine.ch/Artikel/71247/Facebook_geht_gegen_Deep_Fakes_und_manipulierte_Medieninhalte_vor.html)\n"
      ]
    },
    {
      "cell_type": "markdown",
      "metadata": {
        "id": "fbAJFUqReUPF",
        "colab_type": "text"
      },
      "source": [
        "###2019###\n",
        "\n",
        "* [Auf dem Weg zur totalen Überwachung mittels intelligenten Systemen](https://www.tagesschau.de/ausland/ueberwachung-china-101.html)\n",
        "* [Wer mit KI experimentiert, wird selbst zum Motor der Transformation](https://www.der-bank-blog.de/ki-personalarbeit/fuehrung-und-management/37659227/?utm_source=newsletter&utm_medium=email&utm_term=https%3A%2F%2Fwww.der-bank-blog.de%2Fki-personalarbeit%2Ffuehrung-und-management%2F37659227%2F&utm_content&utm_campaign=Der+Bank+Blog+Newsletter+T%C3%A4glich)"
      ]
    },
    {
      "cell_type": "markdown",
      "metadata": {
        "id": "Q5anItY2dWzW",
        "colab_type": "text"
      },
      "source": [
        "## Finance & Banking ##"
      ]
    },
    {
      "cell_type": "markdown",
      "metadata": {
        "id": "w5n7NeuNeo_m",
        "colab_type": "text"
      },
      "source": [
        "### 2019 ###\n",
        "\n",
        "* [Vertriebsansätze im digitalen Zeitalter](https://www.der-bank-blog.de/vertriebsansaetze-im-digitalen-zeitalter/trends/37659303/?utm_source=newsletter&utm_medium=email&utm_term=https%3A%2F%2Fwww.der-bank-blog.de%2Fvertriebsansaetze-im-digitalen-zeitalter%2Ftrends%2F37659303%2F&utm_content&utm_campaign=Der+Bank+Blog+Newsletter+T%C3%A4glich)\n",
        "* [Künstliche Intelligenz für nachhaltige Investments in die Zukunft](https://www.der-bank-blog.de/ki-personalarbeit/fuehrung-und-management/37659227/?utm_source=newsletter&utm_medium=email&utm_term=https%3A%2F%2Fwww.der-bank-blog.de%2Fki-personalarbeit%2Ffuehrung-und-management%2F37659227%2F&utm_content&utm_campaign=Der+Bank+Blog+Newsletter+T%C3%A4glich)\n",
        "* [Wie die Commerzbank aus Daten Produkte macht](https://www.der-bank-blog.de/commerzbank-daten-bankprodukte/digital-banking/37655791/?utm_source=newsletter&utm_medium=email&utm_term=https%3A%2F%2Fwww.der-bank-blog.de%2Fcommerzbank-daten-bankprodukte%2Fdigital-banking%2F37655791%2F&utm_content&utm_campaign=Top+Ten+Artikel+2019)"
      ]
    }
  ]
}