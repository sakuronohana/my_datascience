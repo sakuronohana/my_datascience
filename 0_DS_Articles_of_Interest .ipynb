{
  "nbformat": 4,
  "nbformat_minor": 0,
  "metadata": {
    "colab": {
      "name": "DS Articles of Interest ipynb",
      "provenance": [],
      "include_colab_link": true
    },
    "kernelspec": {
      "name": "python3",
      "display_name": "Python 3"
    }
  },
  "cells": [
    {
      "cell_type": "markdown",
      "metadata": {
        "id": "view-in-github",
        "colab_type": "text"
      },
      "source": [
        "<a href=\"https://colab.research.google.com/github/sakuronohana/my_datascience/blob/master/0_DS_Articles_of_Interest%20.ipynb\" target=\"_parent\"><img src=\"https://colab.research.google.com/assets/colab-badge.svg\" alt=\"Open In Colab\"/></a>"
      ]
    },
    {
      "cell_type": "markdown",
      "metadata": {
        "colab_type": "text",
        "id": "ALSIwZ7bmcTv"
      },
      "source": [
        "# Intressante Artikel zum Data Science #\n",
        "\n",
        "<img src=\"https://www.fhnw.ch/de/die-fhnw/hochschulen/ht/institute/institut-fuer-business-engineering/ibe-newsletter/muster-erkennen-und-datenqualitaet-verbessern-mit-hilfe-von-data-science/media/webcontent_data-science.jpg\" alt=\"Drawing\" width=\"600\"/>\n",
        "\n",
        "Nachfolgend eine Auflistung intressanter Artikel rund um Data Science (Data-Analytic, AI, ML usw.) geliedert in \n",
        "\n",
        "* Domains / Business / Themen\n",
        "* Jahr\n",
        "\n",
        "\n",
        "\n",
        "\n",
        "\n"
      ]
    },
    {
      "cell_type": "markdown",
      "metadata": {
        "id": "68k6QKuPpe_K",
        "colab_type": "text"
      },
      "source": [
        "## Programming ##\n",
        "\n",
        "###2019###\n",
        "\n",
        "* Python - The Essential Python Libraries for Data Science [Link](https://towardsdatascience.com/the-essential-python-libraries-for-data-science-ce55c53dfd6b)\n",
        "* Python - Automating excel files using Pandas [Link](https://medium.com/swlh/automating-excel-files-using-pandas-f6c4ec52e49e)\n",
        "* Python - 25 Useful Python Snippets to Help in Your Day-to-Day Work [Link](https://medium.com/better-programming/25-useful-python-snippets-to-help-in-your-day-to-day-work-d59c636ec1b)\n",
        "* Python - Advanced Python List Methods and Techniques [Link](https://medium.com/better-programming/advanced-python-list-methods-and-techniques-python-like-a-pro-bcc52e93c646)\n",
        "* Python - The Most Underrated Python Packages [Link](https://towardsdatascience.com/the-most-underrated-python-packages-e22bf6049b5e)\n",
        "* Python - Introducing Bamboolib — a GUI for Pandas [Link](https://towardsdatascience.com/introducing-bamboolib-a-gui-for-pandas-4f6c091089e3)"
      ]
    },
    {
      "cell_type": "markdown",
      "metadata": {
        "id": "CKEKtI8axxLG",
        "colab_type": "text"
      },
      "source": [
        "## Machine Learning ##\n",
        "\n",
        "###2019###\n",
        "\n",
        "* Interpreting Machine Learning Model [Link](https://towardsdatascience.com/interpreting-machine-learning-model-70fa49d20af1)\n",
        "* Hyperparameter Tuning Explained — Tuning Phases, Tuning Methods, Bayesian Optimization, and Sample Code! [Link](https://towardsdatascience.com/hyperparameter-tuning-explained-d0ebb2ba1d35)"
      ]
    },
    {
      "cell_type": "markdown",
      "metadata": {
        "id": "HgIjLzru_Hwi",
        "colab_type": "text"
      },
      "source": [
        "### Artificial Intelligence ###\n",
        "\n",
        "####2019####\n",
        "\n",
        "* The History of AI Research [Link](https://towardsdatascience.com/history-of-ai-research-90a6cc8adc9c)"
      ]
    },
    {
      "cell_type": "markdown",
      "metadata": {
        "id": "izW4-Jnjd9qV",
        "colab_type": "text"
      },
      "source": [
        "## Gefahren & Bedrohungen ##"
      ]
    },
    {
      "cell_type": "markdown",
      "metadata": {
        "id": "fbAJFUqReUPF",
        "colab_type": "text"
      },
      "source": [
        "###2019###\n",
        "\n",
        "* Auf dem Weg zur totalen Überwachung mittels intelligenten Systemen [Link](https://www.tagesschau.de/ausland/ueberwachung-china-101.html)\n",
        "* Wer mit KI experimentiert, wird selbst zum Motor der Transformation [Link](https://www.der-bank-blog.de/ki-personalarbeit/fuehrung-und-management/37659227/?utm_source=newsletter&utm_medium=email&utm_term=https%3A%2F%2Fwww.der-bank-blog.de%2Fki-personalarbeit%2Ffuehrung-und-management%2F37659227%2F&utm_content&utm_campaign=Der+Bank+Blog+Newsletter+T%C3%A4glich)"
      ]
    },
    {
      "cell_type": "markdown",
      "metadata": {
        "id": "IKgGX4VzeImO",
        "colab_type": "text"
      },
      "source": [
        "###2018###"
      ]
    },
    {
      "cell_type": "markdown",
      "metadata": {
        "id": "Q5anItY2dWzW",
        "colab_type": "text"
      },
      "source": [
        "## Finance & Banking ##"
      ]
    },
    {
      "cell_type": "markdown",
      "metadata": {
        "id": "w5n7NeuNeo_m",
        "colab_type": "text"
      },
      "source": [
        "### 2019 ###\n",
        "\n",
        "* Vertriebsansätze im digitalen Zeitalter [Link](https://www.der-bank-blog.de/vertriebsansaetze-im-digitalen-zeitalter/trends/37659303/?utm_source=newsletter&utm_medium=email&utm_term=https%3A%2F%2Fwww.der-bank-blog.de%2Fvertriebsansaetze-im-digitalen-zeitalter%2Ftrends%2F37659303%2F&utm_content&utm_campaign=Der+Bank+Blog+Newsletter+T%C3%A4glich)\n",
        "* Künstliche Intelligenz für nachhaltige Investments in die Zukunft [Link](https://www.der-bank-blog.de/ki-personalarbeit/fuehrung-und-management/37659227/?utm_source=newsletter&utm_medium=email&utm_term=https%3A%2F%2Fwww.der-bank-blog.de%2Fki-personalarbeit%2Ffuehrung-und-management%2F37659227%2F&utm_content&utm_campaign=Der+Bank+Blog+Newsletter+T%C3%A4glich)"
      ]
    },
    {
      "cell_type": "markdown",
      "metadata": {
        "id": "-4eXre3Bdhtm",
        "colab_type": "text"
      },
      "source": [
        "###2018###"
      ]
    }
  ]
}