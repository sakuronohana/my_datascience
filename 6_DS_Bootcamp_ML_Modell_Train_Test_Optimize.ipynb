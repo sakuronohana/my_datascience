{
  "nbformat": 4,
  "nbformat_minor": 0,
  "metadata": {
    "colab": {
      "name": "DS_Bootcamp ML Modellwahl Train Test Optimize ipynb",
      "provenance": [],
      "include_colab_link": true
    },
    "kernelspec": {
      "name": "python3",
      "display_name": "Python 3"
    }
  },
  "cells": [
    {
      "cell_type": "markdown",
      "metadata": {
        "id": "view-in-github",
        "colab_type": "text"
      },
      "source": [
        "<a href=\"https://colab.research.google.com/github/sakuronohana/my_datascience/blob/master/6_DS_Bootcamp_ML_Modell_Train_Test_Optimize.ipynb\" target=\"_parent\"><img src=\"https://colab.research.google.com/assets/colab-badge.svg\" alt=\"Open In Colab\"/></a>"
      ]
    },
    {
      "cell_type": "markdown",
      "metadata": {
        "id": "SyxBmxgRxnMS",
        "colab_type": "text"
      },
      "source": [
        "# DS Bootcamp Teil 4 - Machine Learning - Modell Training, Testing & Optimierung #"
      ]
    },
    {
      "cell_type": "markdown",
      "metadata": {
        "id": "wzg8_V-3-pOb",
        "colab_type": "text"
      },
      "source": [
        "## DS Bootcamp Verzeichnis ##\n",
        "\n",
        "[**Teil 1 - Data Science - Prozesse & Grundlagen**](https://github.com/sakuronohana/my_datascience/blob/master/1_DS_Bootcamp_Prozesse_%26_Grundlagen.ipynb)\n",
        "\n",
        "[**Teil 1a - Data Science - Python Basic & Advanced**](https://github.com/sakuronohana/my_datascience/blob/master/2_DS_Bootcamp_Python_Basic_%26_Advanced.ipynb)\n",
        "\n",
        "[**Teil 1b - Data Science - R Basic & Advanced**](https://github.com/sakuronohana/my_datascience/blob/master/3_DS_Bootcamp_R_Basic_%26_Advanced.ipynb)\n",
        "\n",
        "[**Teil 2 - Data Science - ML - Datenbeschaffung & Datenaufbereitung**](https://github.com/sakuronohana/my_datascience/blob/master/4_DS_Bootcamp_ML_Datenbeschaffung_Datenaufbereitung.ipynb)\n",
        "\n",
        "[**Teil 3 - Data Science - ML - Modellwahl**](https://github.com/sakuronohana/my_datascience/blob/master/5_DS_Bootcamp_ML_Modellwahl.ipynb)\n",
        "\n",
        "[**Teil 4 - Data Science - ML - Modell Training, Testing & Optimierung**](https://github.com/sakuronohana/my_datascience/blob/master/6_DS_Bootcamp_ML_Modell_Train_Test_Optimize.ipynb)\n",
        "\n",
        "[**Teil 5 - Data Science - ML - Modell Produktivsetzung, Überwachung & Pflege**](https://github.com/sakuronohana/my_datascience/blob/master/7_DS_Bootcamp_ML_Modell_Deploy_Monitor_Maintain.ipynb)"
      ]
    },
    {
      "cell_type": "markdown",
      "metadata": {
        "id": "ELtCrIcWJ7DP",
        "colab_type": "text"
      },
      "source": [
        "##Modelltraining (Train Model)\n"
      ]
    },
    {
      "cell_type": "markdown",
      "metadata": {
        "id": "hCdQlsIV9kHn",
        "colab_type": "text"
      },
      "source": [
        "### Qualitätsmasse eines ML-Modells\n",
        "\n",
        "Idealerweise stellen wir bereits während des Trainings eines Modells sicher, dass wir beim Testing keine bösen Überraschungen erleben. Hierfür stehen uns die folgenden verschiedenen Methoden und Techniken zur Verfügung. \n"
      ]
    },
    {
      "cell_type": "markdown",
      "metadata": {
        "id": "ZLRRtH_Y_Y3O",
        "colab_type": "text"
      },
      "source": [
        "####Kreuzvalidierung (Cross-Validation)\n",
        "\n"
      ]
    },
    {
      "cell_type": "markdown",
      "metadata": {
        "id": "b_97ZE6hWFN3",
        "colab_type": "text"
      },
      "source": [
        "####Konfusionsmatrix (Confusion matrix)\n",
        "Eine gute Möglichkeit zur Auswertung der Performance eines Klassifikators bietet die Konfusionsmatrix. Mittels der Matrix lässt sich die Zuverlässigkeit der Vorhersage (Prediction) eines Klassifikationsmodells feststellen. Die Konfusionsmatrix wird wie folgt dargestellt:\n",
        "\n",
        "<img src=\"https://miro.medium.com/max/712/1*Z54JgbS4DUwWSknhDCvNTQ.png\" width=400/>\n",
        "\n",
        "Quelle: Towards Data Science (Autor: [Sarang Narkhede](https://towardsdatascience.com/understanding-confusion-matrix-a9ad42dcfd62))\n",
        "\n",
        "Die Performace wird mittels den folgenden vier Werten gemacht:\n",
        "\n",
        "* **True Positive** (TP) - richtig Vorhersage. Beispiel: Anzahl Patienten bei welchen **korrekterweise** Krebs diagnostiziert wurde. \n",
        "* **True Negative** (TN) - richtig Vorhersage. Beispiel: Anzahl Patienten bei welchen **korrekterweise** kein Krebs diagnostiziert wurde. \n",
        "* **False Positive** (FP) - falsche Vorhersage. Beispiel: Anzahl Patienten bei welchen **fälschlicherweise** Krebs diagnostiziert wurde. \n",
        "* **False Negative** (FN) - falsche Vorhersage. Beispiel: Anzahl Patienten bei welchen **fälschlicherweise** kein Krebs diagnostiziert wurde. \n",
        "\n",
        "Nachfolgend eine bildliche Darstellung:\n",
        "<img src=\"https://miro.medium.com/max/924/1*7EYylA6XlXSGBCF77j_rOA.png\" width=400/>\n",
        "\n",
        "Quelle: Towards Data Science (Autor: [Sarang Narkhede](https://towardsdatascience.com/understanding-confusion-matrix-a9ad42dcfd62))"
      ]
    },
    {
      "cell_type": "code",
      "metadata": {
        "id": "sq195ln1kWlg",
        "colab_type": "code",
        "colab": {
          "base_uri": "https://localhost:8080/",
          "height": 265
        },
        "outputId": "59a155e5-2012-454f-caa7-a277162fbd2b"
      },
      "source": [
        "# Nachfolgend importieren wir den MNIST Datensatz.\n",
        "\n",
        "%tensorflow_version 2.x\n",
        "%matplotlib inline\n",
        "import tensorflow as tf\n",
        "import matplotlib.pyplot as plt\n",
        "import numpy as np\n",
        "from sklearn.linear_model import SGDClassifier\n",
        "\n",
        "mnist = tf.keras.datasets.mnist\n",
        "\n",
        "(X_train, y_train),(X_test,y_test) = mnist.load_data()\n",
        "X_train, X_test = x_train / 255.0, x_train / 255.0\n",
        "\n",
        "# Wir werden uns nun davon überzeugen, dass es sich um den MNIST Datensatz handelt.\n",
        "one_digit = X_train[36000]\n",
        "one_digit_image = one_digit.reshape(28,28)\n",
        "\n",
        "plt.imshow(one_digit_image, cmap = plt.cm.binary, interpolation=\"nearest\")\n",
        "plt.axis('off')\n",
        "plt.show()\n",
        "\n",
        "print ('Der Datenpunkt 36000 hat das Label', y_train[36000])\n",
        "\n",
        "# Wir wollen in diesem Beispiel den Klassifikator nur auf die Zahl 9 fokusieren\n",
        "y_train_9 = (y_train == 9) # Nur korrekt bei allen Zahlen mit 9\n",
        "y_test_9 = (y_test == 9)\n",
        "\n",
        "# Nun trainieren wird einen Klassifier\n",
        "\n",
        "#sgd_clf = SGDClassifier(random_state=42)\n",
        "#sgd_clf.fit(X_train, y_train_9)\n",
        "\n",
        "#sgd_clf.predict([one_digit])\n",
        "\n",
        "\n",
        "\n",
        "\n"
      ],
      "execution_count": 45,
      "outputs": [
        {
          "output_type": "display_data",
          "data": {
            "image/png": "[encoded data removed]",
            "text/plain": [
              "<Figure size 432x288 with 1 Axes>"
            ]
          },
          "metadata": {
            "tags": []
          }
        },
        {
          "output_type": "stream",
          "text": [
            "Der Datenpunkt 36000 hat das Label 9\n"
          ],
          "name": "stdout"
        }
      ]
    },
    {
      "cell_type": "markdown",
      "metadata": {
        "id": "VTeWxo86J-Di",
        "colab_type": "text"
      },
      "source": [
        "##Modelltesting (Test Model)##\n"
      ]
    },
    {
      "cell_type": "markdown",
      "metadata": {
        "id": "QxxlwT_XKEKZ",
        "colab_type": "text"
      },
      "source": [
        "##Modelloptimierung (Tune Model)##\n"
      ]
    },
    {
      "cell_type": "markdown",
      "metadata": {
        "id": "xhDGAgE9KIYJ",
        "colab_type": "text"
      },
      "source": [
        "##Modellproduktivsetzung (Prediction)##"
      ]
    }
  ]
}