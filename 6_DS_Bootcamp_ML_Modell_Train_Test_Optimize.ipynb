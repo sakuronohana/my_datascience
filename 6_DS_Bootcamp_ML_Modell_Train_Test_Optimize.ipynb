{
  "nbformat": 4,
  "nbformat_minor": 0,
  "metadata": {
    "colab": {
      "name": "DS_Bootcamp ML Modellwahl Train Test Optimize ipynb",
      "provenance": [],
      "include_colab_link": true
    },
    "kernelspec": {
      "name": "python3",
      "display_name": "Python 3"
    }
  },
  "cells": [
    {
      "cell_type": "markdown",
      "metadata": {
        "id": "view-in-github",
        "colab_type": "text"
      },
      "source": [
        "<a href=\"https://colab.research.google.com/github/sakuronohana/my_datascience/blob/master/DS_Bootcamp_ML_Modell_Train_Test_Optimize.ipynb\" target=\"_parent\"><img src=\"https://colab.research.google.com/assets/colab-badge.svg\" alt=\"Open In Colab\"/></a>"
      ]
    },
    {
      "cell_type": "markdown",
      "metadata": {
        "id": "SyxBmxgRxnMS",
        "colab_type": "text"
      },
      "source": [
        "# DS Bootcamp Teil 4 - Machine Learning - Modell Training, Testing & Optimierung #"
      ]
    },
    {
      "cell_type": "markdown",
      "metadata": {
        "id": "wzg8_V-3-pOb",
        "colab_type": "text"
      },
      "source": [
        "## DS Bootcamp Verzeichnis ##\n",
        "\n",
        "[**Teil 1 - Data Science - Prozesse & Grundlagen**](https://github.com/sakuronohana/my_datascience/blob/master/DS_Bootcamp_Prozesse_%26_Grundlagen.ipynb)\n",
        "\n",
        "[**Teil 1a - Data Science - Python Basic & Advanced**]()\n",
        "\n",
        "[**Teil 2 - Data Science - ML - Datenbeschaffung & Datenaufbereitung**](https://github.com/sakuronohana/my_datascience/blob/master/DS_Bootcamp_ML_Datenbeschaffung_Datenaufbereitung.ipynb)\n",
        "\n",
        "[**Teil 3 - Data Science - ML - Modellwahl**](https://github.com/sakuronohana/my_datascience/blob/master/DS_Bootcamp_ML_Modellwahl.ipynb)\n",
        "\n",
        "[**Teil 4 - Data Science - ML - Modell Training, Testing & Optimierung**](https://github.com/sakuronohana/my_datascience/blob/master/DS_Bootcamp_ML_Modell_Train_Test_Optimize.ipynb)\n",
        "\n",
        "[**Teil 5 - Data Science - ML - Modell Produktivsetzung, Überwachung & Pflege**](https://github.com/sakuronohana/my_datascience/blob/master/DS_Bootcamp_ML_Modell_Deploy_Monitor_Maintain.ipynb)"
      ]
    },
    {
      "cell_type": "markdown",
      "metadata": {
        "id": "ELtCrIcWJ7DP",
        "colab_type": "text"
      },
      "source": [
        "##Modelltraining (Train Model)\n"
      ]
    },
    {
      "cell_type": "markdown",
      "metadata": {
        "id": "VTeWxo86J-Di",
        "colab_type": "text"
      },
      "source": [
        "##Modelltesting (Test Model)##\n"
      ]
    },
    {
      "cell_type": "markdown",
      "metadata": {
        "id": "QxxlwT_XKEKZ",
        "colab_type": "text"
      },
      "source": [
        "##Modelloptimierung (Tune Model)##\n"
      ]
    },
    {
      "cell_type": "markdown",
      "metadata": {
        "id": "xhDGAgE9KIYJ",
        "colab_type": "text"
      },
      "source": [
        "##Modellproduktivsetzung (Prediction)##"
      ]
    }
  ]
}
