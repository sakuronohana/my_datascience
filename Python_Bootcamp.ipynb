{
  "nbformat": 4,
  "nbformat_minor": 0,
  "metadata": {
    "colab": {
      "name": "Python Bootcamp.ipynb",
      "version": "0.3.2",
      "provenance": [],
      "collapsed_sections": [
        "cIJAYHUp9Ybg",
        "DEPVfMhx9Yb7",
        "2p8kx40E9Ycx",
        "4NeomiM89YdD",
        "d9S8jFok9YdO",
        "aOhvE0D39Ydc",
        "yiPp5f299Ydq",
        "brefSeeA9Ydv",
        "uVHYHyeq9Ydv",
        "B5fVG4NA9Yd0",
        "HZdCiwWs9YeD",
        "Q83LmTkg9YeJ",
        "fhUowMGp9YeU",
        "MrcdekCW9Yen",
        "EfCuU2JI9Yer",
        "Azdb-r_Q9YfE",
        "hyi5QHEP9YfS",
        "Ru9WQqKH9Yfe",
        "EyLorKC09Yfj",
        "kqapW2QN9Yft",
        "qjx9Wt1I9Yfz",
        "c8SlFoWw9Yf5",
        "Are90w149YgD",
        "gLu6QrG4-1WA"
      ],
      "include_colab_link": true
    },
    "kernelspec": {
      "display_name": "Python 3",
      "language": "python",
      "name": "python3"
    }
  },
  "cells": [
    {
      "cell_type": "markdown",
      "metadata": {
        "id": "view-in-github",
        "colab_type": "text"
      },
      "source": [
        "<a href=\"https://colab.research.google.com/github/sakuronohana/my_datascience/blob/master/Python_Bootcamp.ipynb\" target=\"_parent\"><img src=\"https://colab.research.google.com/assets/colab-badge.svg\" alt=\"Open In Colab\"/></a>"
      ]
    },
    {
      "metadata": {
        "id": "aHTwGSN89YZ3",
        "colab_type": "text"
      },
      "cell_type": "markdown",
      "source": [
        "# Zahlen"
      ]
    },
    {
      "metadata": {
        "id": "2vqnfUOy9YZ6",
        "colab_type": "text"
      },
      "cell_type": "markdown",
      "source": [
        "Python beinhaltet verschiedene \"Arten\" (en.: types) von Zahlen. Wir werden uns hauptsächlich mit Ganzzahlen (en.: integers) und Kommazahlen (en.: floats) beschäftigen. Später unternehmen wir einen kurzen Abstecher zu den komplexen Zahlen (en.: complex numbers). Integers sind einfach ganze Zahlen, positiv und negativ. Zum Beispiel: 2 und -2 sind Integers. Floats sind Kommazahlen und in Python besonders, da sie einen Dezimalpunkt oder einen Exponenten (e) beinhalten, um die Zahl zu definieren. Zum Beispiel sind 2.0 und -2.1 Zahlen mit Dezimalpunkt. 4E2 (4 mal 10 hoch 2) ist ebenso ein Beispiel für eine Float-Zahl in Python"
      ]
    },
    {
      "metadata": {
        "id": "A3IDFYkY9YZ6",
        "colab_type": "text"
      },
      "cell_type": "markdown",
      "source": [
        "http://nbviewer.jupyter.org/github/datamics/Originale-Python-Bootcamp/blob/master/1%20Python%20Grundlagen/1-Grundlagen%20der%20Python%20Objekte%20und%20Datenstrukturen/1-Zahlen.ipynb"
      ]
    },
    {
      "metadata": {
        "id": "AlnKupoG9YZ8",
        "colab_type": "code",
        "outputId": "b7f7c59a-1983-4c26-c341-2c82a2ef59af",
        "colab": {}
      },
      "cell_type": "code",
      "source": [
        "# Addition\n",
        "1 + 2"
      ],
      "execution_count": 0,
      "outputs": [
        {
          "output_type": "execute_result",
          "data": {
            "text/plain": [
              "3"
            ]
          },
          "metadata": {
            "tags": []
          },
          "execution_count": 6
        }
      ]
    },
    {
      "metadata": {
        "id": "heBYSQly9YaD",
        "colab_type": "code",
        "outputId": "5f6e870c-2e09-4f66-916c-60f88eb73bec",
        "colab": {}
      },
      "cell_type": "code",
      "source": [
        "# Subtraktion\n",
        "2 - 1"
      ],
      "execution_count": 0,
      "outputs": [
        {
          "output_type": "execute_result",
          "data": {
            "text/plain": [
              "1"
            ]
          },
          "metadata": {
            "tags": []
          },
          "execution_count": 8
        }
      ]
    },
    {
      "metadata": {
        "id": "W8wMfctr9YaG",
        "colab_type": "code",
        "outputId": "19159ae5-d123-455c-bfa7-92646b96ea7e",
        "colab": {}
      },
      "cell_type": "code",
      "source": [
        "# Multiplikation\n",
        "1 * 2"
      ],
      "execution_count": 0,
      "outputs": [
        {
          "output_type": "execute_result",
          "data": {
            "text/plain": [
              "2"
            ]
          },
          "metadata": {
            "tags": []
          },
          "execution_count": 3
        }
      ]
    },
    {
      "metadata": {
        "id": "5IqqICg09YaK",
        "colab_type": "code",
        "colab": {}
      },
      "cell_type": "code",
      "source": [
        ""
      ],
      "execution_count": 0,
      "outputs": []
    },
    {
      "metadata": {
        "id": "E3YdC0bS9YaN",
        "colab_type": "code",
        "outputId": "466e29c5-5e31-4515-b8a0-e6242ca86150",
        "colab": {}
      },
      "cell_type": "code",
      "source": [
        "# Division - Wird im Python3 im Float Type ausgegeben.\n",
        "4/2"
      ],
      "execution_count": 0,
      "outputs": [
        {
          "output_type": "execute_result",
          "data": {
            "text/plain": [
              "2.0"
            ]
          },
          "metadata": {
            "tags": []
          },
          "execution_count": 14
        }
      ]
    },
    {
      "metadata": {
        "id": "drZVwnB-9YaR",
        "colab_type": "code",
        "outputId": "50965a45-ea3b-4aaf-a8fa-cf4fa366936e",
        "colab": {}
      },
      "cell_type": "code",
      "source": [
        "# Potenzen \n",
        "2**3"
      ],
      "execution_count": 0,
      "outputs": [
        {
          "output_type": "execute_result",
          "data": {
            "text/plain": [
              "8"
            ]
          },
          "metadata": {
            "tags": []
          },
          "execution_count": 15
        }
      ]
    },
    {
      "metadata": {
        "id": "4HZ4YKiU9YaW",
        "colab_type": "code",
        "outputId": "cb1dac89-2460-4e8e-b15b-e7b409900d65",
        "colab": {}
      },
      "cell_type": "code",
      "source": [
        "# Wurzel\n",
        "2**0.5"
      ],
      "execution_count": 0,
      "outputs": [
        {
          "output_type": "execute_result",
          "data": {
            "text/plain": [
              "1.4142135623730951"
            ]
          },
          "metadata": {
            "tags": []
          },
          "execution_count": 16
        }
      ]
    },
    {
      "metadata": {
        "id": "dguSDW-99Yab",
        "colab_type": "code",
        "outputId": "1652eb99-7187-458e-9aab-28177b729230",
        "colab": {}
      },
      "cell_type": "code",
      "source": [
        "# Reihenfolge der Operationen wird automatisch durch Python sichergestellt. Bsp. Klammer, Punkt vor Strich\n",
        "(2 + 10) * 10 + 3"
      ],
      "execution_count": 0,
      "outputs": [
        {
          "output_type": "execute_result",
          "data": {
            "text/plain": [
              "123"
            ]
          },
          "metadata": {
            "tags": []
          },
          "execution_count": 17
        }
      ]
    },
    {
      "metadata": {
        "id": "FDVlTc_59Yaf",
        "colab_type": "code",
        "outputId": "9b27d3bd-1934-47f7-e6ab-cc7c336d4053",
        "colab": {}
      },
      "cell_type": "code",
      "source": [
        "# Variablen zuweisen. Namen dürfen nicht mit Zahl beginnen bsp. 4a, es darf keine Leerzeichen bsp a 4 (a_4) und \n",
        "# spezielle Sonderzeichen enthalten.\n",
        "a=5\n",
        "a+a"
      ],
      "execution_count": 0,
      "outputs": [
        {
          "output_type": "execute_result",
          "data": {
            "text/plain": [
              "10"
            ]
          },
          "metadata": {
            "tags": []
          },
          "execution_count": 19
        }
      ]
    },
    {
      "metadata": {
        "id": "ObP7Ikpz9Yai",
        "colab_type": "code",
        "outputId": "8e5f2049-616c-483e-cc29-48601ff0d410",
        "colab": {}
      },
      "cell_type": "code",
      "source": [
        "# Variablen lassen sich in verschiedensten Varianten einsetzt \n",
        "einkommen = 100\n",
        "steuersatz = 0.15\n",
        "steuer = einkommen * steuersatz\n",
        "steuer"
      ],
      "execution_count": 0,
      "outputs": [
        {
          "output_type": "execute_result",
          "data": {
            "text/plain": [
              "15.0"
            ]
          },
          "metadata": {
            "tags": []
          },
          "execution_count": 23
        }
      ]
    },
    {
      "metadata": {
        "id": "eryXlepT9Yam",
        "colab_type": "text"
      },
      "cell_type": "markdown",
      "source": [
        "## Strings"
      ]
    },
    {
      "metadata": {
        "id": "7kZviRlQ9Yao",
        "colab_type": "raw"
      },
      "cell_type": "markdown",
      "source": [
        "Strings werden in Python dazu benutzt, um Textinformationen, wie bspw. Namen, festzuhalten.\n",
        "Genau genommen sind Strings in Python eine Sequenz. Das bedeutet, dass Python jedes einzelne Element in der Sequenz (in diesem Fall ein String) individuell beachtet. Ein Beispiel ist der String \"hallo\", den Python als Sequenz der einzelnen Buchstaben in einer bestimmten Reihenfolge speichert. Das hat zur Folge, dass wir später in der Lage sein werden zu indexieren und so bestimmte Buchstaben (z.B. den ersten oder letzten) aus einem String auszulesen.\n",
        "\n",
        "Diese Idee einer Sequenz ist wichtig in Python und sie wird uns begleiten.\n",
        "\n",
        "Zu den Sequenzen in Python gehören:\n",
        "\n",
        "    Strings\n",
        "    Listen\n",
        "    Tupel\n",
        "    Binärdaten\n"
      ]
    },
    {
      "metadata": {
        "id": "gtvlGVW_9Yap",
        "colab_type": "code",
        "outputId": "7a49260a-ff66-431d-da3f-34bbe26de08a",
        "colab": {}
      },
      "cell_type": "code",
      "source": [
        "'hallo, ich bin ein Wort'"
      ],
      "execution_count": 0,
      "outputs": [
        {
          "output_type": "execute_result",
          "data": {
            "text/plain": [
              "'hallo, ich bin ein Wort'"
            ]
          },
          "metadata": {
            "tags": []
          },
          "execution_count": 31
        }
      ]
    },
    {
      "metadata": {
        "id": "6U0uOZ1N9Yat",
        "colab_type": "code",
        "outputId": "e909abb7-7ebf-4a09-b6a4-1b07276b4a96",
        "colab": {}
      },
      "cell_type": "code",
      "source": [
        "# Wenn innerhalb eines Strings Hochkommas verwendet werden, dann muss mit Anführungszeichen gearbeitet werden.\n",
        "\"Hallo ich bin's\""
      ],
      "execution_count": 0,
      "outputs": [
        {
          "output_type": "execute_result",
          "data": {
            "text/plain": [
              "\"Hallo ich bin's\""
            ]
          },
          "metadata": {
            "tags": []
          },
          "execution_count": 33
        }
      ]
    },
    {
      "metadata": {
        "id": "sEn5WfPB9Yay",
        "colab_type": "code",
        "outputId": "32f05173-18cc-4e4f-a80f-433d6cc8880a",
        "colab": {}
      },
      "cell_type": "code",
      "source": [
        "print(\"Hallo Welt!\")\n",
        "print(\"Hallo Mond\")"
      ],
      "execution_count": 0,
      "outputs": [
        {
          "output_type": "stream",
          "text": [
            "Hallo Welt!\n",
            "Hallo Mond\n"
          ],
          "name": "stdout"
        }
      ]
    },
    {
      "metadata": {
        "id": "FL4cB5vl9Ya2",
        "colab_type": "code",
        "outputId": "5c80e1e3-e5fa-4f4c-8131-d8be65cf0194",
        "colab": {}
      },
      "cell_type": "code",
      "source": [
        "# Möchte man den String verschiedene Zeilen verteilen dann benötigt man ein \\n (Auf Mac mit Umschalt+Alt+7)\n",
        "print(\"Eine neue Zeile \\n in eine neue Zeile\")"
      ],
      "execution_count": 0,
      "outputs": [
        {
          "output_type": "stream",
          "text": [
            "Eine neue Zeile \n",
            " in eine neue Zeile\n"
          ],
          "name": "stdout"
        }
      ]
    },
    {
      "metadata": {
        "id": "X9Ht130R9Ya5",
        "colab_type": "code",
        "outputId": "dad5aaa5-0f72-4bbc-c328-6ad3cecb4f66",
        "colab": {}
      },
      "cell_type": "code",
      "source": [
        "# Um einen Tab einzufügen muss man \\t benutzen.\n",
        "print(\"Hier kommt eine Tab \\t in der Zeile\")"
      ],
      "execution_count": 0,
      "outputs": [
        {
          "output_type": "stream",
          "text": [
            "Hier kommt eine Tab \t in der Zeile\n"
          ],
          "name": "stdout"
        }
      ]
    },
    {
      "metadata": {
        "id": "H2P2OyP29Ya-",
        "colab_type": "code",
        "outputId": "d906e15b-2e93-44de-e59d-9eb155018ee6",
        "colab": {}
      },
      "cell_type": "code",
      "source": [
        "# Um die länge bzw. Anzahl Zeichen in eine String zu ermitteln verwenden wir len\n",
        "len(\"Hallo Welt\")"
      ],
      "execution_count": 0,
      "outputs": [
        {
          "output_type": "execute_result",
          "data": {
            "text/plain": [
              "10"
            ]
          },
          "metadata": {
            "tags": []
          },
          "execution_count": 2
        }
      ]
    },
    {
      "metadata": {
        "id": "Rf6llZHn9YbD",
        "colab_type": "code",
        "outputId": "4f337b77-75a0-4ffc-b47b-a4ec2f4d4b44",
        "colab": {}
      },
      "cell_type": "code",
      "source": [
        "# Die Ausgabe von bestimmten Zeichen wird mit einer eckigen Klammer und der entsprechenden Nummer augegeben\n",
        "s = \"Hallo Welt!\"\n",
        "print(s[0]) # Hiermit wird die Positon 0 bzw. das erste Zeichen der Variable s augegeben"
      ],
      "execution_count": 0,
      "outputs": [
        {
          "output_type": "stream",
          "text": [
            "H\n"
          ],
          "name": "stdout"
        }
      ]
    },
    {
      "metadata": {
        "id": "6Av3wlCO9YbG",
        "colab_type": "code",
        "outputId": "6f1355c6-5b21-4771-b4ec-5f957989bc28",
        "colab": {}
      },
      "cell_type": "code",
      "source": [
        "# Es lässt sich natürlich auch eine ganze Zeichenkette von einer bestimmten Positon aus, ausgeben.\n",
        "print(s[1:]) # Nach 0\n",
        "print(s[:3]) # von 0 bis 3\n",
        "print(s[:]) # ganzer String\n",
        "print(s[-3:]) # von hinten angefangen\n",
        "print(s[::2]) # nur jeder 2. Buchstabe wird ausgegeben"
      ],
      "execution_count": 0,
      "outputs": [
        {
          "output_type": "stream",
          "text": [
            "allo Welt!\n",
            "Hal\n",
            "Hallo Welt!\n",
            "lt!\n",
            "HloWl!\n"
          ],
          "name": "stdout"
        }
      ]
    },
    {
      "metadata": {
        "id": "wOVMRBbT9YbL",
        "colab_type": "code",
        "outputId": "7ebfb69b-ebd3-4122-8727-5b01bcd0615f",
        "colab": {}
      },
      "cell_type": "code",
      "source": [
        "# Um einen String zu erweitern kann man das + Zeichen verwenden. \n",
        "s + \" Hi Mond\" # Achtung dies wir nicht unter der Variabel s gespeichert. \n",
        "sx = s + \" Hi Mond\" # nun ist es in eine neuen Variabel gespeichert.\n",
        "sx"
      ],
      "execution_count": 0,
      "outputs": [
        {
          "output_type": "execute_result",
          "data": {
            "text/plain": [
              "'Hallo Welt! Hi Mond'"
            ]
          },
          "metadata": {
            "tags": []
          },
          "execution_count": 15
        }
      ]
    },
    {
      "metadata": {
        "id": "MZFoArEe9YbQ",
        "colab_type": "code",
        "outputId": "d8ce5de6-9558-4238-a910-0add67ebb3ba",
        "colab": {}
      },
      "cell_type": "code",
      "source": [
        "# Auch Multiplikation in den Strings ist möglich bzw. der String wird um die Anzahl im Multiplikator erhöht.\n",
        "s = \"Z\"\n",
        "s*10"
      ],
      "execution_count": 0,
      "outputs": [
        {
          "output_type": "execute_result",
          "data": {
            "text/plain": [
              "'ZZZZZZZZZZ'"
            ]
          },
          "metadata": {
            "tags": []
          },
          "execution_count": 1
        }
      ]
    },
    {
      "metadata": {
        "id": "d_P2rE609YbT",
        "colab_type": "code",
        "outputId": "9fe73878-67fb-4808-d5ff-52ae582700d0",
        "colab": {}
      },
      "cell_type": "code",
      "source": [
        "# Der String ist eine Objekt für welche eine bestimmte Methode mit zusätzlichen Parametern ausgeführt wird\n",
        "# Objekt.Methode(Parameter)\n",
        "s = 'Hallo Welt'\n",
        "s.upper() # Wandelt alle Zeichen im String in Grossbuchstaben"
      ],
      "execution_count": 0,
      "outputs": [
        {
          "output_type": "execute_result",
          "data": {
            "text/plain": [
              "'HALLO WELT'"
            ]
          },
          "metadata": {
            "tags": []
          },
          "execution_count": 2
        }
      ]
    },
    {
      "metadata": {
        "id": "d62URpN49YbZ",
        "colab_type": "code",
        "outputId": "5028631d-3f5b-4c43-ac07-f8d511de0d63",
        "colab": {}
      },
      "cell_type": "code",
      "source": [
        "# Eine der wichtigsten Methoden ist split\n",
        "s.split() # Fügen wir nichts in die Klammern, dann trennt Split einfach jedes Wort. "
      ],
      "execution_count": 0,
      "outputs": [
        {
          "output_type": "execute_result",
          "data": {
            "text/plain": [
              "['Hallo', 'Welt']"
            ]
          },
          "metadata": {
            "tags": []
          },
          "execution_count": 11
        }
      ]
    },
    {
      "metadata": {
        "id": "hxPfHK7z9Ybc",
        "colab_type": "code",
        "outputId": "a1a27f12-0f66-43c4-b0d4-53b01f04d33f",
        "colab": {}
      },
      "cell_type": "code",
      "source": [
        "# Wir können aber in der Klammer auch definieren wo der Split stattfinden soll\n",
        "s.split ('W') # Python splittet jetzt den String bei W"
      ],
      "execution_count": 0,
      "outputs": [
        {
          "output_type": "execute_result",
          "data": {
            "text/plain": [
              "['Hallo ', 'elt']"
            ]
          },
          "metadata": {
            "tags": []
          },
          "execution_count": 12
        }
      ]
    },
    {
      "metadata": {
        "id": "cIJAYHUp9Ybg",
        "colab_type": "text"
      },
      "cell_type": "markdown",
      "source": [
        "## Ausgabe Formatierung"
      ]
    },
    {
      "metadata": {
        "id": "EMBNB-_Y9Ybg",
        "colab_type": "code",
        "colab": {}
      },
      "cell_type": "code",
      "source": [
        "# Hier wird gezeigt in welchen verschiedenen Arten bzw. Methoden die Print Anweisung formatiert werden kann.\n",
        "# Empfohlen Methode um die Strings zu bearbeiten ist .format(). Es wird her aber auch andere vorgestellt. "
      ],
      "execution_count": 0,
      "outputs": []
    },
    {
      "metadata": {
        "id": "NVVjR3En9Ybj",
        "colab_type": "code",
        "outputId": "4b1e4e74-d2a8-4da2-c8b1-76cde3f490a2",
        "colab": {}
      },
      "cell_type": "code",
      "source": [
        "# Das ist eine normale Ausgabe eines Strings\n",
        "print(\"Das ist ein String\")"
      ],
      "execution_count": 0,
      "outputs": [
        {
          "output_type": "stream",
          "text": [
            "Das ist ein String\n"
          ],
          "name": "stdout"
        }
      ]
    },
    {
      "metadata": {
        "id": "I4KhP6DR9Ybn",
        "colab_type": "code",
        "outputId": "439dea7b-d6d9-41c0-9591-8101cf267bd7",
        "colab": {}
      },
      "cell_type": "code",
      "source": [
        "# Wollen wir eine bestimmte Variable in einen String einführen so machen wir das wie folgt. Dazu verwenden wir das %s\n",
        "s = \"String\"\n",
        "print('Setze einen String mit einem mod und s ein: %s' %(s)) # "
      ],
      "execution_count": 0,
      "outputs": [
        {
          "output_type": "stream",
          "text": [
            "Setze einen String mit einem mod und s ein: String\n"
          ],
          "name": "stdout"
        }
      ]
    },
    {
      "metadata": {
        "id": "85Ws8smy9Ybr",
        "colab_type": "code",
        "outputId": "3f61a314-c62e-4b1d-c514-8c26440e1008",
        "colab": {}
      },
      "cell_type": "code",
      "source": [
        "print('Kommazahlen: %1.0f' %(13.144)) # In diesem Beispiel generieren wir einen Platzhalter für Float ohne Komma"
      ],
      "execution_count": 0,
      "outputs": [
        {
          "output_type": "stream",
          "text": [
            "Kommazahlen: 13\n"
          ],
          "name": "stdout"
        }
      ]
    },
    {
      "metadata": {
        "id": "ZBtlEXux9Ybv",
        "colab_type": "code",
        "outputId": "29577d0a-29f0-4d1b-9d3f-1f897ee4715f",
        "colab": {}
      },
      "cell_type": "code",
      "source": [
        "# Nun kommen wir zur Umwandlungsmethode diese können wir mit %s (String) %r (Repräsentativ)\n",
        "print('Hier ist eine Nummer: %s. Hier ist ein String: %s' %(123.1, 'hi'))\n",
        "\n",
        "# In diesem Beispiel können wir auch %r anstelle %s verwendet. Kommt auf das gleiche Resultat"
      ],
      "execution_count": 0,
      "outputs": [
        {
          "output_type": "stream",
          "text": [
            "Hier ist eine Nummer: 123.1. Hier ist ein String: hi\n"
          ],
          "name": "stdout"
        }
      ]
    },
    {
      "metadata": {
        "id": "kOcKgK3y9Yby",
        "colab_type": "code",
        "outputId": "2f9e7ec1-2087-45fd-ff65-e1319cf7ffaa",
        "colab": {}
      },
      "cell_type": "code",
      "source": [
        "# Wir können hiermit natürlich auch eine Tuple (unveränderbare Liste)\n",
        "print ('Erstes: %s, zweite %s, drittes %r' %(('Hi',3.14,22)))"
      ],
      "execution_count": 0,
      "outputs": [
        {
          "output_type": "stream",
          "text": [
            "Erstes: Hi, zweite 3.14, drittes 22\n"
          ],
          "name": "stdout"
        }
      ]
    },
    {
      "metadata": {
        "id": "SyGIKn5_9Yb0",
        "colab_type": "code",
        "outputId": "efca8242-5d48-4688-f99d-535281b8d2b1",
        "colab": {}
      },
      "cell_type": "code",
      "source": [
        "# So weit so gut. Wie bereits erwähnt ist es am Besten, wenn man generell die Format Methode nimmt\n",
        "print('Das ist ein String mit einer {p}'.format(p='Einfügung'))"
      ],
      "execution_count": 0,
      "outputs": [
        {
          "output_type": "stream",
          "text": [
            "Das ist ein String mit einer Einfügung\n"
          ],
          "name": "stdout"
        }
      ]
    },
    {
      "metadata": {
        "id": "nyHuKbnx9Yb3",
        "colab_type": "code",
        "outputId": "9b6d525d-63fc-4dfe-e59c-a46e7933845c",
        "colab": {}
      },
      "cell_type": "code",
      "source": [
        "# Auch mit der Format-Methode lassen sich mehrer Objekte analog einer Liste ausgeben.\n",
        "print('Erste Ausgabe {a}, Zweite Ausgabe {b}, Dritte Ausgabe {c}'.format(a=1, b=2, c='Drei'))\n",
        "\n",
        "# Die Reihenfolge der Ausgabe spielt dabei keine Rolle"
      ],
      "execution_count": 0,
      "outputs": [
        {
          "output_type": "stream",
          "text": [
            "Erste Ausgabe 1, Zweite Ausgabe 2, Dritte Ausgabe Drei\n"
          ],
          "name": "stdout"
        }
      ]
    },
    {
      "metadata": {
        "id": "DEPVfMhx9Yb7",
        "colab_type": "text"
      },
      "cell_type": "markdown",
      "source": [
        "# Listen"
      ]
    },
    {
      "metadata": {
        "id": "o49-nere9Yb8",
        "colab_type": "text"
      },
      "cell_type": "markdown",
      "source": [
        "Auch schon mit normalen Strings können Sequenzen bzw. Auflistungen gemacht werden diese sind aber im normalfall nicht änderbar. Listen hingegen lassen sich auf verschiedenen Arten einsetzen und lassen sich auch jederzeit beliebig ändern und erweitern."
      ]
    },
    {
      "metadata": {
        "id": "ppT9y3ve9Yb9",
        "colab_type": "code",
        "colab": {}
      },
      "cell_type": "code",
      "source": [
        "# In Listen lassen sich verschieden Arten von Typen (String, Float usw) unterbringen\n",
        "liste = [1,2,3,'String', 2.4]"
      ],
      "execution_count": 0,
      "outputs": []
    },
    {
      "metadata": {
        "id": "HsgPvip99YcB",
        "colab_type": "code",
        "outputId": "7fd40003-e29f-44a0-8b22-5aa922bfb1b6",
        "colab": {}
      },
      "cell_type": "code",
      "source": [
        "# Die Listen lassen sich auf verschiedene Arten ausgeben\n",
        "\n",
        "len(liste) # Zeigt die Länge eines Liste bzw. die in der Liste erfassten Elemente \n",
        "liste[2] # Zeigt das dritte Element, beginnend mit 0, aus der Liste\n",
        "liste[:2] # Gibt alles bis zum Element 3 aus. Achtung ab beginnt ab 0\n",
        "liste[2:] # Gibt alles ab dem Element 3 aus.\n",
        "liste[1:3] # Gibt alles zwischen Element 2 und 4 aus"
      ],
      "execution_count": 0,
      "outputs": [
        {
          "output_type": "execute_result",
          "data": {
            "text/plain": [
              "[2, 'String']"
            ]
          },
          "metadata": {
            "tags": []
          },
          "execution_count": 33
        }
      ]
    },
    {
      "metadata": {
        "id": "m4cvUBY_9YcG",
        "colab_type": "code",
        "colab": {}
      },
      "cell_type": "code",
      "source": [
        "#Die Liste kann auch beliebig erweitert werden. Die hier beschriebene Erweiterung ist aber nur Temporär\n",
        "liste + ['Neues Element']"
      ],
      "execution_count": 0,
      "outputs": []
    },
    {
      "metadata": {
        "id": "zz4MF2wx9YcL",
        "colab_type": "code",
        "outputId": "39376c38-de05-4448-87c5-c3aea7194fe8",
        "colab": {}
      },
      "cell_type": "code",
      "source": [
        "# Um die Liste permanent zu erweitern muss eine neue Liste angelegt werden.\n",
        "liste = liste + ['Neues Element']\n",
        "liste"
      ],
      "execution_count": 0,
      "outputs": [
        {
          "output_type": "execute_result",
          "data": {
            "text/plain": [
              "[1, 2, 'String', 2.4, 'Neues Element', 'Neues Element', 'Neues Element']"
            ]
          },
          "metadata": {
            "tags": []
          },
          "execution_count": 44
        }
      ]
    },
    {
      "metadata": {
        "id": "jMc2z9Bz9YcP",
        "colab_type": "code",
        "outputId": "3b027a89-5684-4541-db34-aba80292d748",
        "colab": {}
      },
      "cell_type": "code",
      "source": [
        "# Einen gängige Methode einen Wert einer Liste hinzuzufügen ist die Methode .append\n",
        "liste.append('Ein neueres Element')\n",
        "liste"
      ],
      "execution_count": 0,
      "outputs": [
        {
          "output_type": "execute_result",
          "data": {
            "text/plain": [
              "[1, 2, 3, 'String', 2.4, 'Ein neueres Element']"
            ]
          },
          "metadata": {
            "tags": []
          },
          "execution_count": 55
        }
      ]
    },
    {
      "metadata": {
        "id": "l4i9aEjs9YcS",
        "colab_type": "code",
        "outputId": "86dbcb8f-e473-4a8b-bed9-be597a74fb14",
        "colab": {}
      },
      "cell_type": "code",
      "source": [
        "# Um ein Element wieder aus der Liste zu entfernen kann die Methode .pop verwendet werden\n",
        "liste.pop(0) # Wir entfernen hier die 1\n",
        "liste"
      ],
      "execution_count": 0,
      "outputs": [
        {
          "output_type": "execute_result",
          "data": {
            "text/plain": [
              "[2, 3, 'String', 2.4, 'Ein neueres Element']"
            ]
          },
          "metadata": {
            "tags": []
          },
          "execution_count": 59
        }
      ]
    },
    {
      "metadata": {
        "id": "34e9Hl3k9YcV",
        "colab_type": "code",
        "outputId": "ee78174a-ff6e-492a-95a2-26995b96e55e",
        "colab": {}
      },
      "cell_type": "code",
      "source": [
        "# Um ein Element aus einer Liste zu enfernen und in eine andere Liste zu transferieren \n",
        "pop = liste.pop(1)\n",
        "pop"
      ],
      "execution_count": 0,
      "outputs": [
        {
          "output_type": "execute_result",
          "data": {
            "text/plain": [
              "[2, 2.4, 'Ein neueres Element']"
            ]
          },
          "metadata": {
            "tags": []
          },
          "execution_count": 63
        }
      ]
    },
    {
      "metadata": {
        "id": "av-npjsi9Yca",
        "colab_type": "code",
        "outputId": "c8144cac-230e-4960-ff41-c0577d4247ce",
        "colab": {}
      },
      "cell_type": "code",
      "source": [
        "# Eine weitere Ausgabemöglichkeit ist die Berechnung \n",
        "liste * 2 # Gibt die Liste zweimal aus\n",
        "liste[1] + 2 # Addiert das erste Elemente mit 2 resp. 1 + 2\n",
        "liste[2] * 2 # Multipliziert das zweite Element mit 2"
      ],
      "execution_count": 0,
      "outputs": [
        {
          "output_type": "execute_result",
          "data": {
            "text/plain": [
              "'Ein neueres ElementEin neueres Element'"
            ]
          },
          "metadata": {
            "tags": []
          },
          "execution_count": 64
        }
      ]
    },
    {
      "metadata": {
        "id": "n5Aj1BcZ9Ycg",
        "colab_type": "code",
        "outputId": "48983052-3750-4dc1-b725-617c22b8b0af",
        "colab": {}
      },
      "cell_type": "code",
      "source": [
        "# Um die Reihenfolgen einer Liste zu ändern kann wie folgt vorgegangen werden.\n",
        "neue_liste = ['a','s', 'd', 'f']\n",
        "neue_liste.reverse() # Die neue Liste wird jetzt umgekehrt erstellt\n",
        "neue_liste.sort() # Die umgekehrte Liste kann jettzt noch alfapethisch sortiert werden\n",
        "neue_liste"
      ],
      "execution_count": 0,
      "outputs": [
        {
          "output_type": "execute_result",
          "data": {
            "text/plain": [
              "['a', 'd', 'f', 's']"
            ]
          },
          "metadata": {
            "tags": []
          },
          "execution_count": 71
        }
      ]
    },
    {
      "metadata": {
        "id": "FE-22P_U9Ycj",
        "colab_type": "code",
        "outputId": "ad164b64-e336-4a1f-f19d-32d439cadd3d",
        "colab": {}
      },
      "cell_type": "code",
      "source": [
        "# Es können natürlich auch Listen in Listen erstellt werden. Eine sogennante Matrix\n",
        "list_1 = [1,2,3]\n",
        "list_2 = [4,5,6]\n",
        "list_3 = [7,8,9]\n",
        "matrix = [list_1, list_2, list_3] # Wir fügen nun die Listen zu einer Matrix zusammen\n",
        "matrix # Hier geben wir nun die Matrix mit ihren 3 Zeilen aus"
      ],
      "execution_count": 0,
      "outputs": [
        {
          "output_type": "error",
          "ename": "TypeError",
          "evalue": "sequence item 0: expected str instance, int found",
          "traceback": [
            "\u001b[0;31m---------------------------------------------------------------------------\u001b[0m",
            "\u001b[0;31mTypeError\u001b[0m                                 Traceback (most recent call last)",
            "\u001b[0;32m<ipython-input-85-b605b7332895>\u001b[0m in \u001b[0;36m<module>\u001b[0;34m()\u001b[0m\n\u001b[1;32m      5\u001b[0m \u001b[0mmatrix\u001b[0m \u001b[0;34m=\u001b[0m \u001b[0;34m[\u001b[0m\u001b[0mlist_1\u001b[0m\u001b[0;34m,\u001b[0m \u001b[0mlist_2\u001b[0m\u001b[0;34m,\u001b[0m \u001b[0mlist_3\u001b[0m\u001b[0;34m]\u001b[0m \u001b[0;31m# Wir fügen nun die Listen zu einer Matrix zusammen\u001b[0m\u001b[0;34m\u001b[0m\u001b[0m\n\u001b[1;32m      6\u001b[0m \u001b[0mmatrix\u001b[0m \u001b[0;31m# Hier geben wir nun die Matrix mit ihren 3 Zeilen aus\u001b[0m\u001b[0;34m\u001b[0m\u001b[0m\n\u001b[0;32m----> 7\u001b[0;31m \u001b[0mprint\u001b[0m\u001b[0;34m(\u001b[0m\u001b[0;34m\"-\"\u001b[0m\u001b[0;34m.\u001b[0m\u001b[0mjoin\u001b[0m\u001b[0;34m(\u001b[0m\u001b[0mlist_1\u001b[0m\u001b[0;34m)\u001b[0m\u001b[0;34m)\u001b[0m\u001b[0;34m\u001b[0m\u001b[0m\n\u001b[0m",
            "\u001b[0;31mTypeError\u001b[0m: sequence item 0: expected str instance, int found"
          ]
        }
      ]
    },
    {
      "metadata": {
        "id": "P7Cy7W2o9Ycn",
        "colab_type": "code",
        "outputId": "a4069db7-5bfc-41a6-d3fe-d6a532382c3a",
        "colab": {}
      },
      "cell_type": "code",
      "source": [
        "# Die erstellte Matrix kann man sich jetzt wie folgt vorstellen:\n",
        "#   y y y\n",
        "# x 1 2 3\n",
        "# x 4 5 6\n",
        "# x 7 8 9\n",
        "# x repräsentiert die Zeile und y die Spalte\n",
        "\n",
        "# Für den Zugriff muss zuerst die Zeile und dann das Element angegeben werden\n",
        "matrix[0] #Gibt die komplette erste Zeile (0) aus\n",
        "matrix[0][1] #Gibt das zweite Element der ersten Zeile aus"
      ],
      "execution_count": 0,
      "outputs": [
        {
          "output_type": "execute_result",
          "data": {
            "text/plain": [
              "2"
            ]
          },
          "metadata": {
            "tags": []
          },
          "execution_count": 76
        }
      ]
    },
    {
      "metadata": {
        "id": "N-LmO5z09Ycr",
        "colab_type": "code",
        "outputId": "1c12a4b0-8e01-4f4a-baef-8ca3b3f4ed85",
        "colab": {}
      },
      "cell_type": "code",
      "source": [
        "# Wir erstellen nun aus der Matrix eine erste Spalte mit Hilfe einer for-Schleife\n",
        "spalte_1 = [zeile[0] for zeile in matrix]\n",
        "spalte_1"
      ],
      "execution_count": 0,
      "outputs": [
        {
          "output_type": "error",
          "ename": "TypeError",
          "evalue": "sequence item 0: expected str instance, int found",
          "traceback": [
            "\u001b[0;31m---------------------------------------------------------------------------\u001b[0m",
            "\u001b[0;31mTypeError\u001b[0m                                 Traceback (most recent call last)",
            "\u001b[0;32m<ipython-input-83-f96103bd502c>\u001b[0m in \u001b[0;36m<module>\u001b[0;34m()\u001b[0m\n\u001b[1;32m      2\u001b[0m \u001b[0mspalte_1\u001b[0m \u001b[0;34m=\u001b[0m \u001b[0;34m[\u001b[0m\u001b[0mzeile\u001b[0m\u001b[0;34m[\u001b[0m\u001b[0;36m0\u001b[0m\u001b[0;34m]\u001b[0m \u001b[0;32mfor\u001b[0m \u001b[0mzeile\u001b[0m \u001b[0;32min\u001b[0m \u001b[0mmatrix\u001b[0m\u001b[0;34m]\u001b[0m\u001b[0;34m\u001b[0m\u001b[0m\n\u001b[1;32m      3\u001b[0m \u001b[0mspalte_1\u001b[0m\u001b[0;34m\u001b[0m\u001b[0m\n\u001b[0;32m----> 4\u001b[0;31m \u001b[0mprint\u001b[0m\u001b[0;34m(\u001b[0m\u001b[0;34m'-'\u001b[0m\u001b[0;34m.\u001b[0m\u001b[0mjoin\u001b[0m\u001b[0;34m(\u001b[0m\u001b[0mspalte_1\u001b[0m\u001b[0;34m)\u001b[0m\u001b[0;34m)\u001b[0m\u001b[0;34m\u001b[0m\u001b[0m\n\u001b[0m",
            "\u001b[0;31mTypeError\u001b[0m: sequence item 0: expected str instance, int found"
          ]
        }
      ]
    },
    {
      "metadata": {
        "id": "QzMCwJxZ9Ycu",
        "colab_type": "code",
        "outputId": "1b09d380-1392-409d-9c43-07379c26a508",
        "colab": {}
      },
      "cell_type": "code",
      "source": [
        "spalte_1[:2]"
      ],
      "execution_count": 0,
      "outputs": [
        {
          "output_type": "execute_result",
          "data": {
            "text/plain": [
              "[1, 4]"
            ]
          },
          "metadata": {
            "tags": []
          },
          "execution_count": 81
        }
      ]
    },
    {
      "metadata": {
        "id": "2p8kx40E9Ycx",
        "colab_type": "text"
      },
      "cell_type": "markdown",
      "source": [
        "# Dictionaries"
      ]
    },
    {
      "metadata": {
        "id": "G__uOFM89Ycy",
        "colab_type": "text"
      },
      "cell_type": "markdown",
      "source": [
        "Dictionaries auch bekannt als Mapping sind Sammlungen von Objekten welche über einen Key gespeichert werden. Ein wesentlicher Unterschied zu den Listen ist, dass hier nicht über einen Index [0] usw. auf die Objekte zugegriffen werden kann sondern nur mittels Key. Zudem wird bei Dicts mit geschweiften Klammern gearbeitet. (Mac = alt + 8{ und 9}"
      ]
    },
    {
      "metadata": {
        "id": "hAotmsnm9Ycz",
        "colab_type": "code",
        "outputId": "01244fa6-c4fa-48bb-e987-26448822a841",
        "colab": {}
      },
      "cell_type": "code",
      "source": [
        "d = {'Key':'Wert','Key2':'Wert2'}\n",
        "d['Key'] # Der Zugriff auf den Wert wir nun mittels Key gemacht."
      ],
      "execution_count": 0,
      "outputs": [
        {
          "output_type": "execute_result",
          "data": {
            "text/plain": [
              "'Wert'"
            ]
          },
          "metadata": {
            "tags": []
          },
          "execution_count": 89
        }
      ]
    },
    {
      "metadata": {
        "id": "L3ma3tfk9Yc4",
        "colab_type": "code",
        "outputId": "ef15595f-b1d7-4609-9e3b-d2f406a8af96",
        "colab": {}
      },
      "cell_type": "code",
      "source": [
        "# In einen Dict können die Keys im Gegensatz zu den Werten in einen Dict nicht mehr verändert werden\n",
        "# In einem Dict können alle Arten von Element verstaut werden. Der Zugriff kann dann gemäss der \n",
        "# verschiedenen Methoden durchgeführt werden. \n",
        "dict = {'K_Int': 1234, 'K_Float':12.33, 'K_String':\"String\", 'K_List':['A', 'B', 'C']}\n",
        "dict['K_Int']\n",
        "dict['K_List'][0] # Beispiel für den Zugriff auf Liste\n",
        "dict['K_String'].upper() # Beispiel für Zugriff auf String mit entsprechenden Methoden\n",
        "dict['K_Int']-3+5 # Beispiel einer arithmetischen Operation"
      ],
      "execution_count": 0,
      "outputs": [
        {
          "output_type": "execute_result",
          "data": {
            "text/plain": [
              "1236"
            ]
          },
          "metadata": {
            "tags": []
          },
          "execution_count": 106
        }
      ]
    },
    {
      "metadata": {
        "id": "PieWLg9P9Yc5",
        "colab_type": "code",
        "outputId": "29a7827a-5800-479a-9a46-11199438acc5",
        "colab": {}
      },
      "cell_type": "code",
      "source": [
        "# Ein Dictionary kann auch durch neue Werte ergänzt werden\n",
        "dict['Tier'] = 'Hund'\n",
        "dict['Zahl'] = 12\n",
        "dict"
      ],
      "execution_count": 0,
      "outputs": [
        {
          "output_type": "execute_result",
          "data": {
            "text/plain": [
              "{'K_Int': 1234,\n",
              " 'K_Float': 12.33,\n",
              " 'K_String': 'String',\n",
              " 'K_List': ['A', 'B', 'C'],\n",
              " 'Tier': 'Hund',\n",
              " 'Zahl': 12}"
            ]
          },
          "metadata": {
            "tags": []
          },
          "execution_count": 109
        }
      ]
    },
    {
      "metadata": {
        "id": "dMja0gM09Yc8",
        "colab_type": "code",
        "outputId": "3329d49f-ef69-41aa-c96e-6281d1d30c0b",
        "colab": {}
      },
      "cell_type": "code",
      "source": [
        "# Dictionaries lassen sich auch gut verschachteln bzw. ein Dict kann wie eine Liste auch in einem Dict erstellt werden\n",
        "dict2 ={'Key': {'Unterkey': {'Unterunterkey': 'Wert'}}}\n",
        "dict2['Key']['Unterkey']"
      ],
      "execution_count": 0,
      "outputs": [
        {
          "output_type": "execute_result",
          "data": {
            "text/plain": [
              "{'Unterunterkey': 'Wert'}"
            ]
          },
          "metadata": {
            "tags": []
          },
          "execution_count": 115
        }
      ]
    },
    {
      "metadata": {
        "id": "cVSSgjw69Yc-",
        "colab_type": "code",
        "outputId": "1c89164d-6c6c-4466-b10b-a4a87412ccb2",
        "colab": {}
      },
      "cell_type": "code",
      "source": [
        "# Auch in einen Dictionary bestehen Methoden\n",
        "#dict2. # mit TAB-Taste zeigen alle verfügbaren Methoden\n",
        "dict2.items"
      ],
      "execution_count": 0,
      "outputs": [
        {
          "output_type": "execute_result",
          "data": {
            "text/plain": [
              "<function dict.items>"
            ]
          },
          "metadata": {
            "tags": []
          },
          "execution_count": 120
        }
      ]
    },
    {
      "metadata": {
        "id": "g-lfTJ1d9YdB",
        "colab_type": "code",
        "outputId": "e1761afc-3b1f-46fa-f082-14594bc9bef8",
        "colab": {}
      },
      "cell_type": "code",
      "source": [
        "dict2.values()"
      ],
      "execution_count": 0,
      "outputs": [
        {
          "output_type": "execute_result",
          "data": {
            "text/plain": [
              "dict_values([{'Unterkey': {'Unterunterkey': 'Wert'}}])"
            ]
          },
          "metadata": {
            "tags": []
          },
          "execution_count": 122
        }
      ]
    },
    {
      "metadata": {
        "id": "4NeomiM89YdD",
        "colab_type": "text"
      },
      "cell_type": "markdown",
      "source": [
        "# Tuple"
      ]
    },
    {
      "metadata": {
        "id": "9LA5aqch9YdD",
        "colab_type": "text"
      },
      "cell_type": "markdown",
      "source": [
        "Tubel sind ähnlich wie Listen nur können sie nicht mehr verändert bzw. ergänzt werden. Deshalb verwendet man Tubel \n",
        "vor allem dann wenn es Werte gibt die nicht mehr geändert werden müssen Bsp. Wochentage, usw. Tubel werden aber im Gegensatz zu Listen viel weniger eingesetzt."
      ]
    },
    {
      "metadata": {
        "id": "BieBgIMS9YdD",
        "colab_type": "code",
        "outputId": "a21402a9-7e02-410a-a347-ff110df566d0",
        "colab": {}
      },
      "cell_type": "code",
      "source": [
        "tub = ['Montag', 'Dienstag', 'Mittwoch']\n",
        "tub[0] # Der Zugriff auf eine Element im Tubel ist wie bei einer Liste\n",
        "tub[0:2] # Gibt alle Elemente von 0-1 aus\n"
      ],
      "execution_count": 0,
      "outputs": [
        {
          "output_type": "execute_result",
          "data": {
            "text/plain": [
              "['Montag', 'Dienstag']"
            ]
          },
          "metadata": {
            "tags": []
          },
          "execution_count": 135
        }
      ]
    },
    {
      "metadata": {
        "id": "qK3RNprg9YdH",
        "colab_type": "code",
        "outputId": "0a84e75b-daad-46f4-81f5-64dcd9de18fb",
        "colab": {}
      },
      "cell_type": "code",
      "source": [
        "# Auch hier bestehen Methoden wieder tub. + TAB. Es werden zwar diverse Methoden angezeigt die meisten gelten jedoch\n",
        "# für die Listen. Für Tubels bestehen lediglich zwei Methoden\n",
        "tub.index('Montag') # Zeigt den Index also 0 des Elements an\n",
        "tub.count('Montag') # Zeigt die Anzahl der gleichen Elemente im Tubel an "
      ],
      "execution_count": 0,
      "outputs": [
        {
          "output_type": "execute_result",
          "data": {
            "text/plain": [
              "1"
            ]
          },
          "metadata": {
            "tags": []
          },
          "execution_count": 144
        }
      ]
    },
    {
      "metadata": {
        "id": "HpjUZA7M9YdK",
        "colab_type": "code",
        "outputId": "d508f2fd-8db1-4ae7-f30c-96541aeea322",
        "colab": {}
      },
      "cell_type": "code",
      "source": [
        "# Und hier noch der Beweis, dass am Tubel kein weiteres Element angehängt werde kann.\n",
        "tub.append['Donnerstag']"
      ],
      "execution_count": 0,
      "outputs": [
        {
          "output_type": "error",
          "ename": "NameError",
          "evalue": "name 'tub' is not defined",
          "traceback": [
            "\u001b[0;31m---------------------------------------------------------------------------\u001b[0m",
            "\u001b[0;31mNameError\u001b[0m                                 Traceback (most recent call last)",
            "\u001b[0;32m<ipython-input-139-8524767eb2cf>\u001b[0m in \u001b[0;36m<module>\u001b[0;34m()\u001b[0m\n\u001b[1;32m      1\u001b[0m \u001b[0;31m# Und hier noch der Beweis, dass am Tubel kein weiteres Element angehängt werde kann.\u001b[0m\u001b[0;34m\u001b[0m\u001b[0;34m\u001b[0m\u001b[0m\n\u001b[0;32m----> 2\u001b[0;31m \u001b[0mtub\u001b[0m\u001b[0;34m.\u001b[0m\u001b[0mappend\u001b[0m\u001b[0;34m[\u001b[0m\u001b[0;34m'Donnerstag'\u001b[0m\u001b[0;34m]\u001b[0m\u001b[0;34m\u001b[0m\u001b[0m\n\u001b[0m",
            "\u001b[0;31mNameError\u001b[0m: name 'tub' is not defined"
          ]
        }
      ]
    },
    {
      "metadata": {
        "id": "d9S8jFok9YdO",
        "colab_type": "text"
      },
      "cell_type": "markdown",
      "source": [
        "# Dateien"
      ]
    },
    {
      "metadata": {
        "id": "xK1aABpG9YdP",
        "colab_type": "text"
      },
      "cell_type": "markdown",
      "source": [
        "Python nutzt Datei Objekte um mit externen Dateien auf eine Computer zu interagieren. Grundsätzlich kann Python mit\n",
        "einer Vielzahl von Dateien arbeiten wobei für das eine oder andere Format noch zusätzlich Library Module installiert \n",
        "werden muss."
      ]
    },
    {
      "metadata": {
        "id": "FHiAdCSV9YdP",
        "colab_type": "text"
      },
      "cell_type": "markdown",
      "source": [
        "Bevor wir nun Anfang mit Dateien zu arbeiten, wollen wir zuerst herausfinden in welchem Working Directory \n",
        "wir arbeiten dazu geben wir den folgenden Befehl ein"
      ]
    },
    {
      "metadata": {
        "id": "TI-oLTkg9YdQ",
        "colab_type": "code",
        "outputId": "daa82618-32fc-4433-f63e-b16545c9be55",
        "colab": {}
      },
      "cell_type": "code",
      "source": [
        "pwd"
      ],
      "execution_count": 0,
      "outputs": [
        {
          "output_type": "execute_result",
          "data": {
            "text/plain": [
              "'/Users/dili/Wissen/Work/Udemy-DataScience/Python_Bootcamp'"
            ]
          },
          "metadata": {
            "tags": []
          },
          "execution_count": 152
        }
      ]
    },
    {
      "metadata": {
        "id": "6tesihjj9YdS",
        "colab_type": "code",
        "outputId": "f4e7f346-cd19-461e-b693-2ff4ee071d00",
        "colab": {}
      },
      "cell_type": "code",
      "source": [
        "# Nun öffnen wir eine Datei und lesen sie\n",
        "file = open('test.txt')\n",
        "file.read()"
      ],
      "execution_count": 0,
      "outputs": [
        {
          "output_type": "execute_result",
          "data": {
            "text/plain": [
              "'Das ist eine neue Datei'"
            ]
          },
          "metadata": {
            "tags": []
          },
          "execution_count": 167
        }
      ]
    },
    {
      "metadata": {
        "id": "NeuaZYXH9YdU",
        "colab_type": "code",
        "outputId": "88bcb989-9a85-4976-859e-c1dd8cb78a09",
        "colab": {}
      },
      "cell_type": "code",
      "source": [
        "# Eine Besonderheit im Python ist, dass wenn die Datei einmal gelesen wurde, diese nicht erneut gelesen werden kann.\n",
        "# Dies hat damit zu tun, das der Cursor bei der letzten Lese-Operation am Ende der Datei verblieben ist. Ein er\n",
        "file.read() # Gibt jetzt nur '' aus\n",
        "file.seek(0) # Mit diesem Befehl kann man nun den Curson zurücksetzen\n",
        "file.read() # Und danach funktioniert es wieder wie gewohnt."
      ],
      "execution_count": 0,
      "outputs": [
        {
          "output_type": "execute_result",
          "data": {
            "text/plain": [
              "'Das ist eine neue Datei\\nDas ist die zweite Zeile'"
            ]
          },
          "metadata": {
            "tags": []
          },
          "execution_count": 164
        }
      ]
    },
    {
      "metadata": {
        "id": "kcU79wiE9YdW",
        "colab_type": "code",
        "outputId": "ea9fbe29-c1fe-4a44-a72a-fc8c6f11c7cb",
        "colab": {}
      },
      "cell_type": "code",
      "source": [
        "# Als nächtes öffnen wir die Datei und schreiben etwas neues hinein\n",
        "file = open('test.txt','w')\n",
        "file.write('Das ist eine neue Zeile')"
      ],
      "execution_count": 0,
      "outputs": [
        {
          "output_type": "execute_result",
          "data": {
            "text/plain": [
              "23"
            ]
          },
          "metadata": {
            "tags": []
          },
          "execution_count": 170
        }
      ]
    },
    {
      "metadata": {
        "id": "knqt2-_b9YdY",
        "colab_type": "code",
        "outputId": "3669ea21-36b0-4450-c6dc-91975290cd49",
        "colab": {}
      },
      "cell_type": "code",
      "source": [
        "# Um den neuen Inhalt erneut lesen zu können müssen wir die Datei erneut im Read-Modus lesen\n",
        "file = open('test.txt','r')\n",
        "file.read()"
      ],
      "execution_count": 0,
      "outputs": [
        {
          "output_type": "execute_result",
          "data": {
            "text/plain": [
              "'Das ist eine neue Zeile'"
            ]
          },
          "metadata": {
            "tags": []
          },
          "execution_count": 174
        }
      ]
    },
    {
      "metadata": {
        "id": "rvsd4d6F9Yda",
        "colab_type": "code",
        "outputId": "6513ad3d-dfc2-4f3f-ae1c-b98bb27e03ab",
        "colab": {}
      },
      "cell_type": "code",
      "source": [
        "# Nun lesen wir mit einer Interation (Schleife for) die einzelnen Zeilen aus\n",
        "for zeile in open('test.txt'):\n",
        "    print(zeile)\n"
      ],
      "execution_count": 0,
      "outputs": [
        {
          "output_type": "stream",
          "text": [
            "Das ist eine neue Zeile\n",
            "\n",
            "Das ist noch eine Zeile\n"
          ],
          "name": "stdout"
        }
      ]
    },
    {
      "metadata": {
        "id": "aOhvE0D39Ydc",
        "colab_type": "text"
      },
      "cell_type": "markdown",
      "source": [
        "# Sets und Booleans"
      ]
    },
    {
      "metadata": {
        "id": "zjMVOL2d9Ydd",
        "colab_type": "text"
      },
      "cell_type": "markdown",
      "source": [
        "Ein Set ist eine Sammlung von einzigartigen Elementen. Ein Set wird mit dem Befehl set()angelegt. "
      ]
    },
    {
      "metadata": {
        "id": "tuLR53hj9Yde",
        "colab_type": "code",
        "outputId": "da47e4a4-fd49-471b-9a14-8ed367c1902f",
        "colab": {}
      },
      "cell_type": "code",
      "source": [
        "s = set()\n",
        "s.add(1) # mit add lassen sich neue Elemente ins Set einführen.\n",
        "s.add(2)\n",
        "s.remove(2) # mit remove lassen sich die Elemente auch wieder löschen\n",
        "s."
      ],
      "execution_count": 0,
      "outputs": [
        {
          "output_type": "execute_result",
          "data": {
            "text/plain": [
              "{1}"
            ]
          },
          "metadata": {
            "tags": []
          },
          "execution_count": 196
        }
      ]
    },
    {
      "metadata": {
        "id": "UCQQ5n6C9Ydk",
        "colab_type": "code",
        "outputId": "7461a5ab-90d6-43cd-de41-0dcccb141a22",
        "colab": {}
      },
      "cell_type": "code",
      "source": [
        "# Man kann Beispielsweise auch eine Liste in ein Set überführen. Dabei werden \n",
        "# dann aber die redundanten Elemente ausgefiltert.\n",
        "list = [1,1,2,2,3,4,5,6,6]\n",
        "set(list)"
      ],
      "execution_count": 0,
      "outputs": [
        {
          "output_type": "execute_result",
          "data": {
            "text/plain": [
              "{1, 2, 3, 4, 5, 6}"
            ]
          },
          "metadata": {
            "tags": []
          },
          "execution_count": 194
        }
      ]
    },
    {
      "metadata": {
        "id": "p-oOnkxC9Ydm",
        "colab_type": "text"
      },
      "cell_type": "markdown",
      "source": [
        "Booleans sind Wahrheitswerte die entweder True (1) oder False (0) sind. Booleans werden oft benutzt um beispielsweise eine Entscheidung in einer Schleife zu forsieren."
      ]
    },
    {
      "metadata": {
        "id": "p5PK7yUL9Ydm",
        "colab_type": "code",
        "outputId": "6d5c712f-84d6-4a56-8801-6caffb618b32",
        "colab": {}
      },
      "cell_type": "code",
      "source": [
        "a = ()\n",
        "if a == True:\n",
        "    print('Wahr')\n",
        "else:\n",
        "    print('Nicht Wahr')"
      ],
      "execution_count": 0,
      "outputs": [
        {
          "output_type": "stream",
          "text": [
            "Nicht Wahr\n"
          ],
          "name": "stdout"
        }
      ]
    },
    {
      "metadata": {
        "id": "yiPp5f299Ydq",
        "colab_type": "text"
      },
      "cell_type": "markdown",
      "source": [
        "# Vergleichsoperatoren"
      ]
    },
    {
      "metadata": {
        "id": "QWfnLreC9Ydq",
        "colab_type": "code",
        "outputId": "1952767f-a434-4c7a-bbff-9cc9bcb588e0",
        "colab": {}
      },
      "cell_type": "code",
      "source": [
        "2 == 2 # Wenn Wert der Operatoren gleich sind ergibt es true\n",
        "2 != 1 # Wenn Wert der Operatoren nicht gleich sind ergibt es true\n",
        "2 > 1 # Wenn ein Wert der Operatoren grösser ist ergibt es true\n",
        "1 < 2 # Wenn ein Wert der Operatoren kleiner ist ergibt es true\n",
        "2 >= 2 # Wenn ein Wert der Operatoren grösser oder gleich ist ergibt es true\n",
        "1 <= 1 # Wenn ein Wert der Operatoren kleiner oder gleich ist ergibt "
      ],
      "execution_count": 0,
      "outputs": [
        {
          "output_type": "execute_result",
          "data": {
            "text/plain": [
              "True"
            ]
          },
          "metadata": {
            "tags": []
          },
          "execution_count": 272
        }
      ]
    },
    {
      "metadata": {
        "id": "wEgNQCDk9Ydt",
        "colab_type": "code",
        "outputId": "33c4c67e-a987-4de8-fa68-0797b01e8a2d",
        "colab": {}
      },
      "cell_type": "code",
      "source": [
        "# Vergleichsoperatoren kann man auch verknüpfen\n",
        "1 < 2 < 3 # Ergibt true\n",
        "1 < 2 and 2 < 3 # Das vorherige Beispiel kann man auch so schreiben\n",
        "1 == 2 or 2 < 3 # Auch mit or kann man Operatoren verknüpfen"
      ],
      "execution_count": 0,
      "outputs": [
        {
          "output_type": "execute_result",
          "data": {
            "text/plain": [
              "True"
            ]
          },
          "metadata": {
            "tags": []
          },
          "execution_count": 274
        }
      ]
    },
    {
      "metadata": {
        "id": "brefSeeA9Ydv",
        "colab_type": "text"
      },
      "cell_type": "markdown",
      "source": [
        "# Anweisungen"
      ]
    },
    {
      "metadata": {
        "id": "uVHYHyeq9Ydv",
        "colab_type": "text"
      },
      "cell_type": "markdown",
      "source": [
        "## If, Elif und Else"
      ]
    },
    {
      "metadata": {
        "id": "iybcgLAp9Ydv",
        "colab_type": "text"
      },
      "cell_type": "markdown",
      "source": [
        "if, elif und else werden verwendet um Aktionen abhängig von bestimmten Voraussetzungen oder Ergebnissen durchzuführen.\n",
        "Sprachlich sieht das wie folgt aus:\n",
        "\n",
        "\"Falls (if) die Ampel rot anzeigt, da bleibe stehen und prüfen dein Mobil falls (elif) die Ampel orange oder grün anzeigt kannst du über die Strasse gehen falls (else) nichts von beidem zutrifft (Ampel defekt) schaue links und rechts und gehen dann über die Strasse\""
      ]
    },
    {
      "metadata": {
        "id": "i2S_FUlh9Ydw",
        "colab_type": "code",
        "outputId": "c61fee09-69f7-4578-95db-80ae2e671fe1",
        "colab": {}
      },
      "cell_type": "code",
      "source": [
        "r = 'rot'\n",
        "g = 'grün'\n",
        "\n",
        "i = input ('Gibt etwas ein: ') # Mit Input kann man einen Wert eingeben.\n",
        "\n",
        "if i == r:\n",
        "    print('Bleibe stehen und prüfe dein Mobile')\n",
        "elif i == g:\n",
        "    print('Du kannst über die Strasse gehen')\n",
        "else:\n",
        "    print('Die Ampel ist möglicherweise kaputt. Gehe wenn es frei ist')\n",
        "    \n",
        "    \n",
        "    "
      ],
      "execution_count": 0,
      "outputs": [
        {
          "output_type": "stream",
          "text": [
            "Gibt etwas ein: \n",
            "Die Ampel ist möglicherweise kapput. Gehe wenn es frei ist\n"
          ],
          "name": "stdout"
        }
      ]
    },
    {
      "metadata": {
        "id": "B5fVG4NA9Yd0",
        "colab_type": "text"
      },
      "cell_type": "markdown",
      "source": [
        "## for Schleife"
      ]
    },
    {
      "metadata": {
        "id": "EhBhrCMC9Yd0",
        "colab_type": "text"
      },
      "cell_type": "markdown",
      "source": [
        "Eine for Schleife wird auch Loop genannt. Sie wird solange durchlaufen, bis ein definierte Wert erreich wurde. Die kann eine Zahl sein oder das Ende einer Lese-Operation in einer Datei.\n",
        "\n",
        "Sprachlich ausgedrückt sieht das dann so aus:\n",
        "\n",
        "\"Das Buch hat 10 Seiten für (for) jede Seite (Item) im (in) Buch (Objekt) lese jeden Buchstaben bis du auf Seite 10 angekommen bist.\"\n",
        "\n",
        "Der Syntax sieht wie folgt aus:\n",
        "\n",
        "for item in object\n",
        "\n",
        "Das item ist frei wählbar."
      ]
    },
    {
      "metadata": {
        "id": "6IDHtZaM9Yd1",
        "colab_type": "code",
        "outputId": "32da1e00-dad6-4ff0-8d88-6afe34c222d1",
        "colab": {}
      },
      "cell_type": "code",
      "source": [
        "buch = [1,2,3,4,5,6,7,8,9,10] # Eine Liste wird erstellt\n",
        "buch_sum = 0\n",
        "\n",
        "for seite in buch:\n",
        "    buch_sum += seite # Das += (Selbstzuweisung) ersetzt folgende Zeile buch_sum = buch_sum + Seite\n",
        "    print ('Nun lese ich Seite', buch_sum)\n",
        "\n",
        "# In dem Beispiel oben wird bei jeder Interation der vorherige Wert zum\n",
        "# aktuelle Wert addiert, beginnend bei 0. bzw. \n",
        "# 0 + 1 = 1\n",
        "# 1 + 2 = 3\n",
        "# 3 + 3 = 6\n",
        "# 6 + 4 = 10 usw."
      ],
      "execution_count": 0,
      "outputs": [
        {
          "output_type": "stream",
          "text": [
            "Nun lese ich Seite 1\n",
            "Nun lese ich Seite 3\n",
            "Nun lese ich Seite 6\n",
            "Nun lese ich Seite 10\n",
            "Nun lese ich Seite 15\n",
            "Nun lese ich Seite 21\n",
            "Nun lese ich Seite 28\n",
            "Nun lese ich Seite 36\n",
            "Nun lese ich Seite 45\n",
            "Nun lese ich Seite 55\n"
          ],
          "name": "stdout"
        }
      ]
    },
    {
      "metadata": {
        "id": "GRNh3YWA9Yd3",
        "colab_type": "code",
        "outputId": "542baa49-caa0-49a6-fbd7-e0b4b3d68862",
        "colab": {}
      },
      "cell_type": "code",
      "source": [
        "# Ein guter Trick um nun beispielweise nur die geraden Zahlen auszugeben ist \n",
        "# der Einsatz von Modulo. Modulo (%) teil eine Zahl durch die andere und gibt\n",
        "# dann nur den Resten aus. Hier Modulo mit for Schleife:\n",
        "\n",
        "for seite in buch:\n",
        "    if seite % 2 == 0:\n",
        "        print('Nun lese ich nur jeweils die graden Seiten dieses Buchs', seite)"
      ],
      "execution_count": 0,
      "outputs": [
        {
          "output_type": "stream",
          "text": [
            "Nun lese ich nur jeweils die graden Seiten dieses Buchs 0\n",
            "Nun lese ich nur jeweils die graden Seiten dieses Buchs 2\n",
            "Nun lese ich nur jeweils die graden Seiten dieses Buchs 4\n",
            "Nun lese ich nur jeweils die graden Seiten dieses Buchs 6\n",
            "Nun lese ich nur jeweils die graden Seiten dieses Buchs 8\n",
            "Nun lese ich nur jeweils die graden Seiten dieses Buchs 10\n"
          ],
          "name": "stdout"
        }
      ]
    },
    {
      "metadata": {
        "id": "w--joEPs9Yd5",
        "colab_type": "code",
        "outputId": "15e20fba-2185-4479-bedb-21e996ffa36f",
        "colab": {}
      },
      "cell_type": "code",
      "source": [
        "# Das ganze funktioniert auch mit Strings\n",
        "for zeichen in 'String':\n",
        "    print(zeichen)"
      ],
      "execution_count": 0,
      "outputs": [
        {
          "output_type": "stream",
          "text": [
            "S\n",
            "t\n",
            "r\n",
            "i\n",
            "n\n",
            "g\n"
          ],
          "name": "stdout"
        }
      ]
    },
    {
      "metadata": {
        "id": "3sa6ijOz9Yd8",
        "colab_type": "code",
        "outputId": "9731ace5-9075-4a52-eb0f-220151e1ee91",
        "colab": {}
      },
      "cell_type": "code",
      "source": [
        "# In Bezug auf Tuples hat die Schleife eine besonderer Bedeutung. So können\n",
        "# die Tuple Elemente auf verschieden Arten entpackt werden.\n",
        "l = [(2,4),(6,8),(10,12)] # Hier erstellen wir Tuple innerhalb einer Liste\n",
        "\n",
        "for tup in l:\n",
        "    print(tup)"
      ],
      "execution_count": 0,
      "outputs": [
        {
          "output_type": "stream",
          "text": [
            "(2, 4)\n",
            "(6, 8)\n",
            "(10, 12)\n"
          ],
          "name": "stdout"
        }
      ]
    },
    {
      "metadata": {
        "id": "GNsiR6LI9Yd-",
        "colab_type": "code",
        "outputId": "97ecdf17-86bd-4940-9935-bd04e640c7ea",
        "colab": {}
      },
      "cell_type": "code",
      "source": [
        "for (t1,t2) in l:\n",
        "    print(t1,t2)"
      ],
      "execution_count": 0,
      "outputs": [
        {
          "output_type": "stream",
          "text": [
            "2 4\n",
            "6 8\n",
            "10 12\n"
          ],
          "name": "stdout"
        }
      ]
    },
    {
      "metadata": {
        "id": "5RIMnlCQ9Yd_",
        "colab_type": "code",
        "outputId": "9898a2c7-8285-42e8-a91d-d9423041ba2e",
        "colab": {}
      },
      "cell_type": "code",
      "source": [
        "# Auch in Zusammenhang mit Listen kann man die for Schleife verwenden\n",
        "dict = {'k1':1,'k2':2,'k3':3}\n",
        "for item in dict:\n",
        "    print (item)"
      ],
      "execution_count": 0,
      "outputs": [
        {
          "output_type": "stream",
          "text": [
            "k1\n",
            "k2\n",
            "k3\n"
          ],
          "name": "stdout"
        }
      ]
    },
    {
      "metadata": {
        "id": "9RkQkEsR9YeB",
        "colab_type": "code",
        "outputId": "4454b945-a43d-4519-d275-3a8bb9f76a4c",
        "colab": {}
      },
      "cell_type": "code",
      "source": [
        "dict.items() # So lassen sich überigen die in einem Dictionary definierten \n",
        "# Element bzw. Items ausgeben."
      ],
      "execution_count": 0,
      "outputs": [
        {
          "output_type": "execute_result",
          "data": {
            "text/plain": [
              "dict_items([('k1', 1), ('k2', 2), ('k3', 3)])"
            ]
          },
          "metadata": {
            "tags": []
          },
          "execution_count": 315
        }
      ]
    },
    {
      "metadata": {
        "id": "oze1SBPf9YeC",
        "colab_type": "code",
        "outputId": "67194371-49da-401b-ec57-e446bde0123c",
        "colab": {}
      },
      "cell_type": "code",
      "source": [
        "# Diese Methode kann in einer Schleife ebenfalls verwendet werden.\n",
        "for k,v in dict.items(): # Wir definieren zwei Item Key und Value\n",
        "    print(k,v)"
      ],
      "execution_count": 0,
      "outputs": [
        {
          "output_type": "stream",
          "text": [
            "k1 1\n",
            "k2 2\n",
            "k3 3\n"
          ],
          "name": "stdout"
        }
      ]
    },
    {
      "metadata": {
        "id": "HZdCiwWs9YeD",
        "colab_type": "text"
      },
      "cell_type": "markdown",
      "source": [
        "## while Scheifen"
      ]
    },
    {
      "metadata": {
        "id": "jo5HR4Nh9YeE",
        "colab_type": "text"
      },
      "cell_type": "markdown",
      "source": [
        "Die while Schleife gehört zu den allgemeinsten Wegen eine Interation durchzuführen. Eine while Schleife wird solange ausgeführt, wie ein Wert True ist. \n",
        "\n",
        "Sprachliche ausgedrückt sieht das so aus:\n",
        "\n",
        "\"Wenn (while) dein Bankkonto noch im plus ist, kannst du Geld vom Automaten abheben (Statement), ansonsten (else) musst du wieder Geld auf dein Bankkonto überweisen.\"\n",
        "\n",
        "Der Syntax sieht wie folgt aus:\n",
        "\n",
        "while test:\n",
        "    code statement\n",
        "else\n",
        "    finales code statement"
      ]
    },
    {
      "metadata": {
        "id": "25BRP7_v9YeE",
        "colab_type": "code",
        "outputId": "61a33077-dec9-4203-9dc5-f823355187c4",
        "colab": {}
      },
      "cell_type": "code",
      "source": [
        "i = 1 # Wir definieren eine Initialwert\n",
        "while i < 10: # Wir fordern die Scheife auf solange der Wert i kleiner als 10 ist duchzulaufen\n",
        "    print('X ist aktuell: ',i)\n",
        "    i+=1 # Damit der Wert i steigt lassen wir ihn in jeder Rund eine 1 dazuaddieren.\n",
        "else:\n",
        "    print('Fertig')"
      ],
      "execution_count": 0,
      "outputs": [
        {
          "output_type": "stream",
          "text": [
            "X ist aktuell:  1\n",
            "X ist aktuell:  2\n",
            "X ist aktuell:  3\n",
            "X ist aktuell:  4\n",
            "X ist aktuell:  5\n",
            "X ist aktuell:  6\n",
            "X ist aktuell:  7\n",
            "X ist aktuell:  8\n",
            "X ist aktuell:  9\n",
            "Fertig\n"
          ],
          "name": "stdout"
        }
      ]
    },
    {
      "metadata": {
        "id": "tEgvjBw39YeG",
        "colab_type": "code",
        "outputId": "229e3e81-be7f-40bf-a34d-24d1ae5dfc93",
        "colab": {}
      },
      "cell_type": "code",
      "source": [
        "# Mit dieser Anweisung können auch noch andere Funktionen mit gegeben werden \n",
        "# Break: hier können wir aus einem Loop ausbrechen\n",
        "# Continue: Geht an den Anfang des nächsten umfasseden Loops\n",
        "# Pass: Tut gar nichts\n",
        "\n",
        "x = 0\n",
        "while x < 10:\n",
        "    print(x)\n",
        "    x+=1\n",
        "    if x==3:\n",
        "        print('x==3')\n",
        "        break\n",
        "    else:\n",
        "        print('Fortsetzen..')\n",
        "        continue\n",
        "    print('nach continue')\n",
        "\n"
      ],
      "execution_count": 0,
      "outputs": [
        {
          "output_type": "stream",
          "text": [
            "0\n",
            "Fortsetzen..\n",
            "1\n",
            "Fortsetzen..\n",
            "2\n",
            "x==3\n"
          ],
          "name": "stdout"
        }
      ]
    },
    {
      "metadata": {
        "id": "u8ALOeV-9YeJ",
        "colab_type": "text"
      },
      "cell_type": "markdown",
      "source": [
        "Wichtig bei der While Schleife ist, dass folgender Befehl zu einer Endlosschleife führen würde. Also darauf achten nie den folgendne Befehl zu verwenden:\n",
        "while True:\n",
        "    print('Ach du Scheisse!')"
      ]
    },
    {
      "metadata": {
        "id": "Q83LmTkg9YeJ",
        "colab_type": "text"
      },
      "cell_type": "markdown",
      "source": [
        "## Range()"
      ]
    },
    {
      "metadata": {
        "id": "MBD3I0Zz9YeK",
        "colab_type": "text"
      },
      "cell_type": "markdown",
      "source": [
        "Die Funktion Range erlaubt es uns eine Liste von Nummern auszugeben und dabei einen Start- und Endpukt zu denfinieren. Zudem können wir die Schrittgrösse ausgeben. In Python3 verbindet man diese Funktion mit einer Liste.\n",
        "\n",
        "Der Syntax gestaltet sich wie folgt:\n",
        "\n",
        "range(start,ende,schrittgrösse)"
      ]
    },
    {
      "metadata": {
        "id": "hQKOehkY9YeK",
        "colab_type": "code",
        "outputId": "c0c046f5-9737-4cf9-b371-e0392b1428cb",
        "colab": {}
      },
      "cell_type": "code",
      "source": [
        "range(10)\n",
        "x = list(range(0,10,2))\n",
        "print(x)\n",
        "\n",
        "# Der letzte Wert wird nie ausgegeben"
      ],
      "execution_count": 0,
      "outputs": [
        {
          "output_type": "error",
          "ename": "TypeError",
          "evalue": "'list' object is not callable",
          "traceback": [
            "\u001b[0;31m---------------------------------------------------------------------------\u001b[0m",
            "\u001b[0;31mTypeError\u001b[0m                                 Traceback (most recent call last)",
            "\u001b[0;32m<ipython-input-148-154a9a978c06>\u001b[0m in \u001b[0;36m<module>\u001b[0;34m()\u001b[0m\n\u001b[1;32m      1\u001b[0m \u001b[0mrange\u001b[0m\u001b[0;34m(\u001b[0m\u001b[0;36m10\u001b[0m\u001b[0;34m)\u001b[0m\u001b[0;34m\u001b[0m\u001b[0m\n\u001b[0;32m----> 2\u001b[0;31m \u001b[0mx\u001b[0m \u001b[0;34m=\u001b[0m \u001b[0mlist\u001b[0m\u001b[0;34m(\u001b[0m\u001b[0mrange\u001b[0m\u001b[0;34m(\u001b[0m\u001b[0;36m0\u001b[0m\u001b[0;34m,\u001b[0m\u001b[0;36m10\u001b[0m\u001b[0;34m,\u001b[0m\u001b[0;36m2\u001b[0m\u001b[0;34m)\u001b[0m\u001b[0;34m)\u001b[0m\u001b[0;34m\u001b[0m\u001b[0m\n\u001b[0m\u001b[1;32m      3\u001b[0m \u001b[0mprint\u001b[0m\u001b[0;34m(\u001b[0m\u001b[0mx\u001b[0m\u001b[0;34m)\u001b[0m\u001b[0;34m\u001b[0m\u001b[0m\n\u001b[1;32m      4\u001b[0m \u001b[0;34m\u001b[0m\u001b[0m\n\u001b[1;32m      5\u001b[0m \u001b[0;31m# Der letzte Wert wird nie ausgegeben\u001b[0m\u001b[0;34m\u001b[0m\u001b[0;34m\u001b[0m\u001b[0m\n",
            "\u001b[0;31mTypeError\u001b[0m: 'list' object is not callable"
          ]
        }
      ]
    },
    {
      "metadata": {
        "id": "RiiJgVOR9YeM",
        "colab_type": "code",
        "outputId": "42b0f3e9-e6e1-46df-9dda-7aedc23accde",
        "colab": {}
      },
      "cell_type": "code",
      "source": [
        "# Hier noch eine weitere Variante wie man einen Start- und Endwert definieren kann\n",
        "start = 0\n",
        "end = 20\n",
        "x = list(range(start,end))\n",
        "print(x)"
      ],
      "execution_count": 0,
      "outputs": [
        {
          "output_type": "stream",
          "text": [
            "[0, 1, 2, 3, 4, 5, 6, 7, 8, 9, 10, 11, 12, 13, 14, 15, 16, 17, 18, 19]\n"
          ],
          "name": "stdout"
        }
      ]
    },
    {
      "metadata": {
        "id": "5nPFutiJ9YeO",
        "colab_type": "code",
        "outputId": "3d95667d-734f-40c1-81a8-05c4d13032bb",
        "colab": {}
      },
      "cell_type": "code",
      "source": [
        "# Im nächsten Beispiel können auch noch definieren in welchen Schritten die Ausgabe \n",
        "# erfolgen soll.\n",
        "x = list(range(start,end,2)) # Hier wird in zweierschritten ausgegeben.\n",
        "print(x)"
      ],
      "execution_count": 0,
      "outputs": [
        {
          "output_type": "stream",
          "text": [
            "[0, 2, 4, 6, 8, 10, 12, 14, 16, 18]\n"
          ],
          "name": "stdout"
        }
      ]
    },
    {
      "metadata": {
        "id": "jhbXW-909YeQ",
        "colab_type": "code",
        "outputId": "05bfdbc6-8656-4e3e-fe50-5ed86c66e329",
        "colab": {}
      },
      "cell_type": "code",
      "source": [
        "# In Zusammenhang mit diesen Funktionen (Range, List, Directory) stellt sich\n",
        "# auch die Frage wie man eine grosse Anzahl von Daten im Memory behalten kann.\n",
        "# die Lösung ist eine Generator mit der Funktion Range\n",
        "\n",
        "for num in range(0,10,2): # Der Syntax von Range range(Startwert, Endwert, Schritte)\n",
        "    print(num)"
      ],
      "execution_count": 0,
      "outputs": [
        {
          "output_type": "stream",
          "text": [
            "0\n",
            "2\n",
            "4\n",
            "6\n",
            "8\n"
          ],
          "name": "stdout"
        }
      ]
    },
    {
      "metadata": {
        "id": "3mHYR_vF9YeS",
        "colab_type": "code",
        "outputId": "1df134ed-ab7c-4d72-d05f-e6c1b39b088c",
        "colab": {}
      },
      "cell_type": "code",
      "source": [
        "# Zahlen bis 50 durch 3 teilbar machen und nur diese Ausgeben welche durch 3 Teilbar sind\n",
        "[x for x in range(1,50) if x%3 == 0] # Hier setzen wir Modulo ein"
      ],
      "execution_count": 0,
      "outputs": [
        {
          "output_type": "execute_result",
          "data": {
            "text/plain": [
              "[3, 6, 9, 12, 15, 18, 21, 24, 27, 30, 33, 36, 39, 42, 45, 48]"
            ]
          },
          "metadata": {
            "tags": []
          },
          "execution_count": 157
        }
      ]
    },
    {
      "metadata": {
        "id": "fhUowMGp9YeU",
        "colab_type": "text"
      },
      "cell_type": "markdown",
      "source": [
        "## Listen Abstraktion (List comprehension)"
      ]
    },
    {
      "metadata": {
        "id": "d5LI9Bu99YeU",
        "colab_type": "text"
      },
      "cell_type": "markdown",
      "source": [
        "Die Listen-Abstraktion, eigentlich auch im Deutschen besser als \"List Comprehension\" bekannt, ist eine elegante Methode Mengen in Python zu definieren oder zu erzeugen. Die List-Comprehension kommt der mathematischen Notation von Mengen sehr nahe. In Mathematik definiert man die Quadratzahlen der natürlichen Zahlen beispielsweise als { x2 | x ∈ ℕ } oder die Menge der komplexen ganzen Zahlen { (x,y) | x ∈ ℤ ∧ y ∈ ℤ }.\n",
        "So kann man Beispielsweise eine Formel definieren und jeweils die einzelnen Werte in der Liste berechnen und auf diese zugreifen."
      ]
    },
    {
      "metadata": {
        "id": "26kaUsvE9YeU",
        "colab_type": "code",
        "outputId": "b0f735b3-0d21-4ec9-8652-14b70a8d97a9",
        "colab": {}
      },
      "cell_type": "code",
      "source": [
        "# Hier eingehens nochmal ein Beispiel wie man eine Liste erstellt\n",
        "l = []\n",
        "for buchstabe in 'wort':\n",
        "    l.append(buchstabe)\n",
        "print(l)"
      ],
      "execution_count": 0,
      "outputs": [
        {
          "output_type": "stream",
          "text": [
            "['w', 'o', 'r', 't']\n"
          ],
          "name": "stdout"
        }
      ]
    },
    {
      "metadata": {
        "id": "m54BoiDQ9YeX",
        "colab_type": "code",
        "outputId": "57467963-6d5c-40cf-f82e-42c010c91afd",
        "colab": {}
      },
      "cell_type": "code",
      "source": [
        "# Ein List comprehension erstellt man wie folgt\n",
        "list = [buchstabe for buchstabe in 'Wort']\n",
        "print(list)"
      ],
      "execution_count": 0,
      "outputs": [
        {
          "output_type": "stream",
          "text": [
            "['W', 'o', 'r', 't']\n"
          ],
          "name": "stdout"
        }
      ]
    },
    {
      "metadata": {
        "id": "87HKc_g49YeZ",
        "colab_type": "code",
        "outputId": "7bb24ac5-27c4-48fc-dd32-e1b82f624ddd",
        "colab": {}
      },
      "cell_type": "code",
      "source": [
        "list = [x**2 for x in range(1,11)] # Beispiel mit Wurzel\n",
        "print(list)"
      ],
      "execution_count": 0,
      "outputs": [
        {
          "output_type": "stream",
          "text": [
            "[1, 4, 9, 16, 25, 36, 49, 64, 81, 100]\n"
          ],
          "name": "stdout"
        }
      ]
    },
    {
      "metadata": {
        "id": "QKWfksw_9Yeb",
        "colab_type": "code",
        "outputId": "9858850f-07fd-470b-9c35-b3e2fdc64380",
        "colab": {}
      },
      "cell_type": "code",
      "source": [
        "list = [x for x in range(11) if x % 2 == 0] # Beispiel mit Modulo\n",
        "print(list)"
      ],
      "execution_count": 0,
      "outputs": [
        {
          "output_type": "stream",
          "text": [
            "[0, 2, 4, 6, 8, 10]\n"
          ],
          "name": "stdout"
        }
      ]
    },
    {
      "metadata": {
        "id": "IoYok8an9Yee",
        "colab_type": "code",
        "outputId": "9258b047-aa98-4d98-852c-1015720c9e6d",
        "colab": {}
      },
      "cell_type": "code",
      "source": [
        "celsius = [0,10,21.2,36.7]\n",
        "\n",
        "fahrenheit = [((9/5*temp+32)) for temp in celsius]\n",
        "print(fahrenheit)"
      ],
      "execution_count": 0,
      "outputs": [
        {
          "output_type": "stream",
          "text": [
            "[32.0, 50.0, 70.16, 98.06]\n"
          ],
          "name": "stdout"
        }
      ]
    },
    {
      "metadata": {
        "id": "5o4_VPu69Yek",
        "colab_type": "code",
        "outputId": "ee9b3f52-65ea-42e2-cbbe-8f1f716e42c2",
        "colab": {}
      },
      "cell_type": "code",
      "source": [
        "list = [x**2 for x in range(11)]\n",
        "for zahl in x:\n",
        "    print(zahl) # Nun können wir eine if-Anweisung einbauen und einen bestimmten Wert abfragen\n",
        "    if zahl == 4:\n",
        "        print ('Dies ist ein bestimmter Wert')\n",
        "    else:\n",
        "        break"
      ],
      "execution_count": 0,
      "outputs": [
        {
          "output_type": "stream",
          "text": [
            "0\n"
          ],
          "name": "stdout"
        }
      ]
    },
    {
      "metadata": {
        "id": "MrcdekCW9Yen",
        "colab_type": "text"
      },
      "cell_type": "markdown",
      "source": [
        "# Methoden"
      ]
    },
    {
      "metadata": {
        "id": "ZwftSs7F9Yen",
        "colab_type": "text"
      },
      "cell_type": "markdown",
      "source": [
        "Methoden sind Funktionen die in Objekte eingebaut werden. Diese Methoden führen spezifische Aktionen mit dem Objekt durch können Parameter aufnehmen und Funktionen wiedergeben.\n",
        "\n",
        "Der generelle Syntax einer Methode sieht wie folgt aus:\n",
        "\n",
        "object.method(arg1,arg2,arg3,...)"
      ]
    },
    {
      "metadata": {
        "id": "yZAk4Vy09Yeo",
        "colab_type": "code",
        "outputId": "815eca27-7799-4586-dc7a-8c8626c3c1d8",
        "colab": {}
      },
      "cell_type": "code",
      "source": [
        "# Hier ein einfaches Beispiel einer Methode\n",
        "l = [1,2,3]\n",
        "l.append(4) # mit Tab können die verfügbaren Methoden bsp. append angesehen werden\n",
        "print(l)"
      ],
      "execution_count": 0,
      "outputs": [
        {
          "output_type": "stream",
          "text": [
            "[1, 2, 3, 4]\n"
          ],
          "name": "stdout"
        }
      ]
    },
    {
      "metadata": {
        "scrolled": true,
        "id": "AQoZAh5F9Yep",
        "colab_type": "code",
        "outputId": "2ecad572-4836-4967-e43c-ed053c211c26",
        "colab": {}
      },
      "cell_type": "code",
      "source": [
        "# Ein Möglichkeit die Bescheibung einer Methode auszugeben ist mit help\n",
        "w = \"Das ist eine Wort\"\n",
        "w.count('e') # Count gibt die Anzahl der gesuchten Werte aus\n",
        "help(l.count)"
      ],
      "execution_count": 0,
      "outputs": [
        {
          "output_type": "stream",
          "text": [
            "Help on built-in function count:\n",
            "\n",
            "count(...) method of builtins.list instance\n",
            "    L.count(value) -> integer -- return number of occurrences of value\n",
            "\n"
          ],
          "name": "stdout"
        }
      ]
    },
    {
      "metadata": {
        "id": "EfCuU2JI9Yer",
        "colab_type": "text"
      },
      "cell_type": "markdown",
      "source": [
        "# Funktionen"
      ]
    },
    {
      "metadata": {
        "id": "s37aqzgP9Yer",
        "colab_type": "text"
      },
      "cell_type": "markdown",
      "source": [
        "Formell betrachtet ist eine Funktion ein nützliches Hilfsmittel, dass \n",
        "mehrerer Anweisungen gruppiert, damit sie mehr als einmal ausgeführt werden können.\n",
        "Man kann Funktionen so definieren, dass man sie innerhalb des Codes immer wieder verwenden kann.\n",
        "\n",
        "Eine Funktion beginnt mit einer def Anweisung"
      ]
    },
    {
      "metadata": {
        "id": "_WgaP0tv9Yer",
        "colab_type": "code",
        "outputId": "a47ccd46-309e-4775-944c-054188e91dfc",
        "colab": {}
      },
      "cell_type": "code",
      "source": [
        "def name_der_funktion(parameter1, parameter2):\n",
        "    '''Hier kommt ein Kommentar'''\n",
        "    return\n",
        "name_der_funktion # mit Shift + Tab kann man nun die Funktion inkl Kommentar ausgeben\n",
        "help(name_der_funktion) # oder aus so "
      ],
      "execution_count": 0,
      "outputs": [
        {
          "output_type": "stream",
          "text": [
            "Help on function name_der_funktion in module __main__:\n",
            "\n",
            "name_der_funktion(parameter1, parameter2)\n",
            "    Hier kommt ein Kommentar\n",
            "\n"
          ],
          "name": "stdout"
        }
      ]
    },
    {
      "metadata": {
        "id": "kBye-qBe9Yet",
        "colab_type": "code",
        "colab": {}
      },
      "cell_type": "code",
      "source": [
        "# Um die Funktion auszuführen muss wir folgt vorgegangen werden\n",
        "\n",
        "name_der_funktion(1,2) # Mit der Funktion über geben wir die geforderten Parameter"
      ],
      "execution_count": 0,
      "outputs": []
    },
    {
      "metadata": {
        "id": "_oo1PLPi9Yeu",
        "colab_type": "code",
        "colab": {}
      },
      "cell_type": "code",
      "source": [
        "# In diesem Beispiel definieren wir eine Funktion mit eine Parameter\n",
        "def sag_hallo(name): # Der Parameter ist zu vergleichen mit einem Platzhalter\n",
        "        print('Hallo',name)"
      ],
      "execution_count": 0,
      "outputs": []
    },
    {
      "metadata": {
        "id": "bzDzrX179Ye0",
        "colab_type": "code",
        "outputId": "e640ba49-ef88-4432-94c3-9b4ab33278d6",
        "colab": {}
      },
      "cell_type": "code",
      "source": [
        "sag_hallo('David') # Hier über geben wir einen Name für den Parameter"
      ],
      "execution_count": 0,
      "outputs": [
        {
          "output_type": "stream",
          "text": [
            "Hallo David\n"
          ],
          "name": "stdout"
        }
      ]
    },
    {
      "metadata": {
        "id": "k6LQweZr9Ye3",
        "colab_type": "code",
        "colab": {}
      },
      "cell_type": "code",
      "source": [
        "def add_num(num1,num2): # Bei diesem Beispiel definieren wir eine Funktion mit 2 Parameter\n",
        "    return num1+num2 # Nun definieren wir was in der Funktion gemacht werden soll"
      ],
      "execution_count": 0,
      "outputs": []
    },
    {
      "metadata": {
        "id": "0wacNWRZ9Ye4",
        "colab_type": "code",
        "outputId": "6c24fe99-d11a-44ea-c197-b059c1a7d877",
        "colab": {}
      },
      "cell_type": "code",
      "source": [
        "add_num(4,5) # Nun übergeben wir zwei Parameter und die Funktion führt sie aus\n",
        "\n",
        "# In diesem Fall wird nun der Wert 4 und 5 zusammengerechnet"
      ],
      "execution_count": 0,
      "outputs": [
        {
          "output_type": "execute_result",
          "data": {
            "text/plain": [
              "9"
            ]
          },
          "metadata": {
            "tags": []
          },
          "execution_count": 197
        }
      ]
    },
    {
      "metadata": {
        "id": "pHKkkEOZ9Ye6",
        "colab_type": "code",
        "outputId": "b1d9f572-19c8-4cc8-ba9f-ad3efa4b08a0",
        "colab": {}
      },
      "cell_type": "code",
      "source": [
        "# Die Ausgabe einer Funktion können wir auch als Variable speichern\n",
        "ergebnis = add_num(3,7)\n",
        "print(ergebnis)"
      ],
      "execution_count": 0,
      "outputs": [
        {
          "output_type": "stream",
          "text": [
            "10\n"
          ],
          "name": "stdout"
        }
      ]
    },
    {
      "metadata": {
        "id": "3dge7fQq9Ye8",
        "colab_type": "code",
        "outputId": "33addfd2-11d3-4932-ee04-10d52f6e198d",
        "colab": {}
      },
      "cell_type": "code",
      "source": [
        "# All diese funktioniert natürlich auch mit strings und in direkter Ausgabe\n",
        "print(add_num('Halllo ', 'David'))"
      ],
      "execution_count": 0,
      "outputs": [
        {
          "output_type": "stream",
          "text": [
            "Halllo David\n"
          ],
          "name": "stdout"
        }
      ]
    },
    {
      "metadata": {
        "id": "JdIWhIAv9Ye-",
        "colab_type": "code",
        "colab": {}
      },
      "cell_type": "code",
      "source": [
        "# In einer Funktion lassen sich ganze Routinen mit Schleifen-Anweisungen ausgeben\n",
        "\n",
        "def ist_prim(num):\n",
        "    for n in range(2,num):\n",
        "        if num % n == 0:\n",
        "            print('keine Primzahl')\n",
        "            break\n",
        "    else:\n",
        "        print('Primzahl')"
      ],
      "execution_count": 0,
      "outputs": []
    },
    {
      "metadata": {
        "id": "vzR4iAx99Ye_",
        "colab_type": "code",
        "colab": {}
      },
      "cell_type": "code",
      "source": [
        "ist_prim(10)"
      ],
      "execution_count": 0,
      "outputs": []
    },
    {
      "metadata": {
        "id": "_4WRLpn39YfA",
        "colab_type": "code",
        "colab": {}
      },
      "cell_type": "code",
      "source": [
        "# Das oben gezeigte Beispiel geht auch einfacher\n",
        "\n",
        "import math # Hier importieren wir eine mathematisches Python Package \n",
        "\n",
        "def ist_prim(num):\n",
        "    if num % 2 == 0 and num > 2: #\n",
        "        return False\n",
        "    for i in range(3, int(math.sqrt(num))+1, 2):\n",
        "        if num % i == 0:\n",
        "            return False\n",
        "    return True\n"
      ],
      "execution_count": 0,
      "outputs": []
    },
    {
      "metadata": {
        "id": "4YL0DaTl9YfD",
        "colab_type": "code",
        "outputId": "9c86ccf6-611d-4a40-88b6-9d297cc189fc",
        "colab": {}
      },
      "cell_type": "code",
      "source": [
        "ist_prim(11)"
      ],
      "execution_count": 0,
      "outputs": [
        {
          "output_type": "execute_result",
          "data": {
            "text/plain": [
              "True"
            ]
          },
          "metadata": {
            "tags": []
          },
          "execution_count": 9
        }
      ]
    },
    {
      "metadata": {
        "id": "Azdb-r_Q9YfE",
        "colab_type": "text"
      },
      "cell_type": "markdown",
      "source": [
        "## Lambda Ausdrücke"
      ]
    },
    {
      "metadata": {
        "id": "nz14glRc9YfF",
        "colab_type": "text"
      },
      "cell_type": "markdown",
      "source": [
        "Lambda Ausdrücke sind sehr nützliche Tools im Pyhton. Sie erlauben es uns sogenannte \"anonyme\" Funktionen zu erstellen. Vereinfacht gesagt heisst das, dass wir schnell eine Funktion erstellen können ohne sie per def zu definieren. Ein Lambda Ausruck ist meist auf einer Zeile geschrieben und ist für das coden einfacher Aufgaben gedacht. Bei grösseren Aufgaben verwenden wir def."
      ]
    },
    {
      "metadata": {
        "id": "0klKJsvA9YfF",
        "colab_type": "code",
        "outputId": "0d9a2fb0-4925-44e5-88f3-d117720ac7e5",
        "colab": {}
      },
      "cell_type": "code",
      "source": [
        "# Um ein Gefühl für Lambda zu erhalten werden wir nun eine def Funktion in einen Lambda Ausdruck umwandeln.\n",
        "\n",
        "def square(num):\n",
        "    return num**2\n",
        "\n",
        "square(2)"
      ],
      "execution_count": 0,
      "outputs": [
        {
          "output_type": "execute_result",
          "data": {
            "text/plain": [
              "4"
            ]
          },
          "metadata": {
            "tags": []
          },
          "execution_count": 13
        }
      ]
    },
    {
      "metadata": {
        "id": "qNQJzDzO9YfH",
        "colab_type": "code",
        "outputId": "13000c7d-342e-4cf9-c286-045579fb7096",
        "colab": {}
      },
      "cell_type": "code",
      "source": [
        "# Wir können dies natürlich auch noch vereinfachen und in einer einzige Zeile schreiben.\n",
        "def square(num): return num**2\n",
        "\n",
        "square(4)"
      ],
      "execution_count": 0,
      "outputs": [
        {
          "output_type": "execute_result",
          "data": {
            "text/plain": [
              "16"
            ]
          },
          "metadata": {
            "tags": []
          },
          "execution_count": 16
        }
      ]
    },
    {
      "metadata": {
        "id": "PNc18TbB9YfL",
        "colab_type": "code",
        "outputId": "0addaebe-76d5-45d2-db61-a13fe1d9717e",
        "colab": {}
      },
      "cell_type": "code",
      "source": [
        "# Wir werden nun diese def Beispiel in eine Lambda Funktion umwandeln.\n",
        "\n",
        "square = lambda num: num**2 # Die return Anweisung ist bereits in Lambda beinhaltet\n",
        "square(5)"
      ],
      "execution_count": 0,
      "outputs": [
        {
          "output_type": "execute_result",
          "data": {
            "text/plain": [
              "25"
            ]
          },
          "metadata": {
            "tags": []
          },
          "execution_count": 21
        }
      ]
    },
    {
      "metadata": {
        "id": "hsP7Ew7e9YfM",
        "colab_type": "code",
        "outputId": "4027d0bb-19f8-4881-b51e-e2fd872c603d",
        "colab": {}
      },
      "cell_type": "code",
      "source": [
        "# Auch die Modulo bzw. die Suche nach einer teilbaren Zahl lässt sich mittels Lambda \n",
        "# um einiges vereinfachen.\n",
        "\n",
        "even = lambda x: x%2==0 # Lässt sich eine Wert durch zwei dividieren?\n",
        "even(9)"
      ],
      "execution_count": 0,
      "outputs": [
        {
          "output_type": "execute_result",
          "data": {
            "text/plain": [
              "False"
            ]
          },
          "metadata": {
            "tags": []
          },
          "execution_count": 26
        }
      ]
    },
    {
      "metadata": {
        "id": "kzqv5gpQ9YfN",
        "colab_type": "code",
        "outputId": "65261f69-ae4b-4be7-cbb2-e70ba8119b21",
        "colab": {}
      },
      "cell_type": "code",
      "source": [
        "# Auch mit Strings lassen sich in Lambda operieren.\n",
        "\n",
        "erstes = lambda s: s[0] # Gibt den Buchstabe im Index 0 aus\n",
        "umk = lambda s: s[::-1] # Gibt den String in umgekehrter Reihenfolge aus\n",
        "erstes('halt'), umk('Hallo')"
      ],
      "execution_count": 0,
      "outputs": [
        {
          "output_type": "execute_result",
          "data": {
            "text/plain": [
              "('h', 'ollaH')"
            ]
          },
          "metadata": {
            "tags": []
          },
          "execution_count": 33
        }
      ]
    },
    {
      "metadata": {
        "id": "ymrZjnUJ9YfP",
        "colab_type": "code",
        "outputId": "c3965c08-db83-48b5-f13f-ea7333d93c82",
        "colab": {}
      },
      "cell_type": "code",
      "source": [
        "# Hier noch ein Lambda Beispiel mit mehreren Parameter\n",
        "add = lambda x,y: x+y\n",
        "add(2,4)"
      ],
      "execution_count": 0,
      "outputs": [
        {
          "output_type": "execute_result",
          "data": {
            "text/plain": [
              "6"
            ]
          },
          "metadata": {
            "tags": []
          },
          "execution_count": 34
        }
      ]
    },
    {
      "metadata": {
        "id": "4e2M3s9S9YfQ",
        "colab_type": "code",
        "outputId": "1545d1d7-0123-4e1d-a226-02f642a9ca4a",
        "colab": {}
      },
      "cell_type": "code",
      "source": [
        "# Hier ein kleines Programm zur Umrechung von Grad & Fahrenheit\n",
        "\n",
        "quest = input('Was möchtest du berechnen 1 = Fahrenheit / 2 = Grad: ')\n",
        "\n",
        "if quest == '1':\n",
        "    grad = input('Gebe den Wert in Grad Celsius ein: ')\n",
        "    g2f = lambda g: g*2+32\n",
        "    print(g2f(int(grad)), 'Fahrenheit')\n",
        "elif quest == '2':\n",
        "    fahr = input('Gebe den Wert in Fahrenheit ein: ')\n",
        "    f2g = lambda f: (f-32)/2\n",
        "    print(f2g(int(fahr)), 'Grad Celsius')\n",
        "else:\n",
        "    print('Falscher Wert, Program beendet!')\n",
        "    "
      ],
      "execution_count": 0,
      "outputs": [
        {
          "output_type": "stream",
          "text": [
            "Was möchtest du berechnen 1 = Fahrenheit / 2 = Grad: 2\n",
            "Gebe den Wert in Fahrenheit ein: 140\n",
            "54.0 Grad Celsius\n"
          ],
          "name": "stdout"
        }
      ]
    },
    {
      "metadata": {
        "id": "hyi5QHEP9YfS",
        "colab_type": "text"
      },
      "cell_type": "markdown",
      "source": [
        "## Verschachtelte Anweisung und Geltungsbereiche"
      ]
    },
    {
      "metadata": {
        "id": "YBQnfAjW9YfS",
        "colab_type": "text"
      },
      "cell_type": "markdown",
      "source": [
        "Jetzt, da wir unsere eigenen Funktionen zu schreiben gelernt haben, ist es wichtig zu verstehen, wie Python mit Variablen Namen umgeht. Wenn wir einen Variable Namen erstellen wird dieser im sogenannten Namensraum (en.: name space) gespeichert. Variablen Namen haben außerdem einen Geltungsbereich, welcher bestimmt, welche anderen Teile des Codes diesen Namen kennen.\n",
        "\n",
        "Der Geltungsbereich der Variablen ist über die sogenannte LEGB Regel definiert:\n",
        "\n",
        "L: Lokal - Namen die in irgendeiner Form innerhalb einer Funktion (def oder lambda) zugewiesen werden und nicht global in dieser Funktion definiert sind.\n",
        "\n",
        "E: Einschließende Funktionen - Namen im lokalen Geltungsbereich aller einschließenden Funktionen (def oder lambda) von innen nach außen.\n",
        "\n",
        "G: Globale (Module) - Namen die auf der höchsten Ebene einer Datei zugewiesen werden oder innerhalb einer Funktion als global ausgewiesen werden.\n",
        "\n",
        "B: Bereits (in Python) eingebaute - Namen die bereits in die vorinstallierten Module wie range, open, usw. eingebaut sind.\n",
        "\n",
        "Lokale Variablen innerhalb einer Funktion gelten nur in Zusammenhang mit dieser Funktion und nicht ausserhalb.\n"
      ]
    },
    {
      "metadata": {
        "id": "SPYt5mGa9YfU",
        "colab_type": "code",
        "outputId": "fce73913-0517-4b9c-fede-608925249fad",
        "colab": {}
      },
      "cell_type": "code",
      "source": [
        "# Beispiel - Lokal\n",
        "\n",
        "calc = lambda y,x: x+y # x und y sind lokale Variablen\n",
        "print(calc(10,5))"
      ],
      "execution_count": 0,
      "outputs": [
        {
          "output_type": "stream",
          "text": [
            "15\n"
          ],
          "name": "stdout"
        }
      ]
    },
    {
      "metadata": {
        "id": "wu28iVY49YfY",
        "colab_type": "code",
        "outputId": "08ade40c-5a32-4de8-dab0-079df588cc73",
        "colab": {}
      },
      "cell_type": "code",
      "source": [
        "x = 50\n",
        "\n",
        "def funk(x):\n",
        "    print('x ist ',x) # Hier gilt die Globale Variable\n",
        "    x = 2 # Ab hier gilt diese Variable, aber nur innerhalb dieser Funktion\n",
        "    print ('Lokales x ist jetzt', x)\n",
        "    \n",
        "funk(x)\n",
        "print('x ist noch',x)\n"
      ],
      "execution_count": 0,
      "outputs": [
        {
          "output_type": "stream",
          "text": [
            "x ist  50\n",
            "Lokales x ist jetzt 2\n",
            "x ist noch 50\n"
          ],
          "name": "stdout"
        }
      ]
    },
    {
      "metadata": {
        "id": "uuNfQBkN9Yfa",
        "colab_type": "code",
        "outputId": "4ec5f31a-bfe8-48e2-b4d5-89f806bbccae",
        "colab": {}
      },
      "cell_type": "code",
      "source": [
        "# Beispiel - Einschliessende Funktionen\n",
        "\n",
        "name = 'Das ist ein globaler Name'\n",
        "\n",
        "def gruss():\n",
        "    # Hier eine Einschliessende Funkton\n",
        "    name = 'David'\n",
        "    \n",
        "    def hallo():\n",
        "        name = 'Hans' # Innerhalb einer Funktion wird immer der \"innerste\" Wert genommen\n",
        "        print('Hallo '+ name)\n",
        "    \n",
        "    hallo()\n",
        "\n",
        "gruss()\n",
        "print (name) # Wie wir unschwer erkennen können wird auch diese Variable ausgegeben."
      ],
      "execution_count": 0,
      "outputs": [
        {
          "output_type": "stream",
          "text": [
            "Hallo Hans\n",
            "Das ist ein globaler Name\n"
          ],
          "name": "stdout"
        }
      ]
    },
    {
      "metadata": {
        "id": "zV0xof699Yfd",
        "colab_type": "code",
        "outputId": "d3b667a4-5d27-4f97-d22e-c8f4dc76ab1c",
        "colab": {}
      },
      "cell_type": "code",
      "source": [
        "# Eine bereits eingebaute Variable ist beispielsweise \n",
        "\n",
        "test = 'Test'\n",
        "print(len(test))"
      ],
      "execution_count": 0,
      "outputs": [
        {
          "output_type": "stream",
          "text": [
            "4\n"
          ],
          "name": "stdout"
        }
      ]
    },
    {
      "metadata": {
        "id": "Ru9WQqKH9Yfe",
        "colab_type": "text"
      },
      "cell_type": "markdown",
      "source": [
        "# Objektorientierte Programmierung (OOP)"
      ]
    },
    {
      "metadata": {
        "id": "m0FHwkvK9Yff",
        "colab_type": "code",
        "outputId": "837ce414-27c2-4ba2-9bab-a1a11c220c0f",
        "colab": {}
      },
      "cell_type": "code",
      "source": [
        "# Fast alles in Python ist ein Objekt so auch Listen\n",
        "l = [1,2,3]\n",
        "l.count(2)\n",
        "print(type(l))"
      ],
      "execution_count": 0,
      "outputs": [
        {
          "output_type": "stream",
          "text": [
            "<class 'list'>\n"
          ],
          "name": "stdout"
        }
      ]
    },
    {
      "metadata": {
        "id": "ayOZrcY09Yfi",
        "colab_type": "code",
        "outputId": "d8b191b9-1272-4922-865a-a50c3e78a03a",
        "colab": {}
      },
      "cell_type": "code",
      "source": [
        "# wie ach Functionen\n",
        "\n",
        "def quadrat(num):\n",
        "    return num**2\n",
        "print(type (quadrat))"
      ],
      "execution_count": 0,
      "outputs": [
        {
          "output_type": "stream",
          "text": [
            "<class 'function'>\n"
          ],
          "name": "stdout"
        }
      ]
    },
    {
      "metadata": {
        "id": "EyLorKC09Yfj",
        "colab_type": "text"
      },
      "cell_type": "markdown",
      "source": [
        "## Class (Klassen)"
      ]
    },
    {
      "metadata": {
        "id": "FgND894D9Yfk",
        "colab_type": "text"
      },
      "cell_type": "markdown",
      "source": [
        "Klassen sind von Nutzer definierte Objekte. Klassen sind wie Blaupausen welche die Eigenschaften zukünfitger Objekte festhält. Instanzen sind spezifische Objekte werlche aus bestimmten Klassen geschaffen werden. Wie Beispielweise die Liste welche wir oben erstellt haben."
      ]
    },
    {
      "metadata": {
        "id": "CYS6h4QW9Yfl",
        "colab_type": "code",
        "outputId": "43066330-2444-4805-9acc-94e9344be96d",
        "colab": {}
      },
      "cell_type": "code",
      "source": [
        "# Wir generieren nun eine eigene KLasse\n",
        "\n",
        "class Beispiel (object): # Wichtig ist das der Klassenname mit einem Grossbuchstaben beginnt\n",
        "    pass\n",
        "\n",
        "x = Beispiel() # Hier verküpfen wir unsere Klasse mit einer Variabel\n",
        "\n",
        "print(type(x)) # Nun können wir uns vergewissern, dass x eine Klasse ist\n"
      ],
      "execution_count": 0,
      "outputs": [
        {
          "output_type": "stream",
          "text": [
            "<class '__main__.Beispiel'>\n"
          ],
          "name": "stdout"
        }
      ]
    },
    {
      "metadata": {
        "id": "4BjuM5h_9Yfm",
        "colab_type": "text"
      },
      "cell_type": "markdown",
      "source": [
        "Der Klasse können jetzt natürlich noch Attribute und Methoden \n",
        "hinzugefügt werden. \n",
        "\n",
        "Ein Attribute ist dabei eine Charakteristik eines Objekts. Wenn wir Beispielsweise eine Klasse \"Hund\" Haben können wir ihr Attribute wie Hunderasse, Alter, Stammbaum usw. hinzufügen.\n",
        "\n",
        "Eine Methode ist eine Operation welche wir auf ein Objekt anwenden können. Beispielswiese bei der Klasse \"Hund\" würde dies bellen, knurren, springen usw. sein. "
      ]
    },
    {
      "metadata": {
        "id": "-n_LowHU9Yfn",
        "colab_type": "code",
        "outputId": "113ae43f-a797-48a0-f217-b254cbac6fbf",
        "colab": {}
      },
      "cell_type": "code",
      "source": [
        "# Hier das Beispiel Klasse \"Hund\"\n",
        "\n",
        "class Hund(object):\n",
        "    def __init__(self, rasse): # Hiermit definieren wir eine Funkton mit dem Attribut rasse\n",
        "        self.rasse = rasse # Hiermit weisen wir die Funktion Rasse der Klasse zu\n",
        "        \n",
        "sam = Hund(rasse='Lab') # Mit Hilfe der Klasse generieren wir nun ein neues Objekt\n",
        "frank = Hund(rasse='Husky') # Dito\n",
        "frank # Wir können nun überprüfen zu welche Klasse das Objekt Frank gehört\n",
        "print(type(frank)) # Das geht natürlich auch so\n"
      ],
      "execution_count": 0,
      "outputs": [
        {
          "output_type": "stream",
          "text": [
            "<class '__main__.Hund'>\n"
          ],
          "name": "stdout"
        }
      ]
    },
    {
      "metadata": {
        "id": "G44qko1e9Yfo",
        "colab_type": "code",
        "outputId": "85e2d6b0-95b3-4ea5-c9fa-160f58d89d35",
        "colab": {}
      },
      "cell_type": "code",
      "source": [
        "# Nun wollen wir das Objekt Sam mal mit einem in der Klasse definierten Attribut ausgehben\n",
        "sam.rasse #Ein Klammer ist nicht notwendig, da es sich nicht um eine Methode handelt "
      ],
      "execution_count": 0,
      "outputs": [
        {
          "output_type": "execute_result",
          "data": {
            "text/plain": [
              "'Lab'"
            ]
          },
          "metadata": {
            "tags": []
          },
          "execution_count": 10
        }
      ]
    },
    {
      "metadata": {
        "id": "o4UuDlNR9Yfp",
        "colab_type": "code",
        "outputId": "15d3cd4c-1fed-4187-9aa8-65819851f67c",
        "colab": {}
      },
      "cell_type": "code",
      "source": [
        "# Kommen wir nun zu den Klassen-Objekt-Attribute. Diese gelten für alle Instanzen einer Klasse\n",
        "class Hund(object):\n",
        "    spezies = 'Säugetier'\n",
        "    \n",
        "    def __init__(self,rasse,name):\n",
        "        self.rasse = rasse\n",
        "        self.name = name\n",
        "        \n",
        "sam = Hund('Lab','Sam')\n",
        "\n",
        "print(type(sam))\n",
        "sam.name\n",
        "sam.spezies"
      ],
      "execution_count": 0,
      "outputs": [
        {
          "output_type": "stream",
          "text": [
            "<class '__main__.Hund'>\n"
          ],
          "name": "stdout"
        },
        {
          "output_type": "execute_result",
          "data": {
            "text/plain": [
              "'Säugetier'"
            ]
          },
          "metadata": {
            "tags": []
          },
          "execution_count": 16
        }
      ]
    },
    {
      "metadata": {
        "id": "kqapW2QN9Yft",
        "colab_type": "text"
      },
      "cell_type": "markdown",
      "source": [
        "# Methoden"
      ]
    },
    {
      "metadata": {
        "id": "0GntEF6a9Yft",
        "colab_type": "text"
      },
      "cell_type": "markdown",
      "source": [
        "Neben Attributen können auch Methoden (Funktionen) in einer Klasse definiert werden. Mit ihnen können Operationen mit den Attributen durchgeführt werden.\n"
      ]
    },
    {
      "metadata": {
        "id": "3BAubZ2I9Yft",
        "colab_type": "code",
        "outputId": "2894bd45-b734-43e9-a37e-0ee9dde9ba4f",
        "colab": {}
      },
      "cell_type": "code",
      "source": [
        "class Kreis(object):\n",
        "    pi = 3.14\n",
        "    \n",
        "    def __init__(self, radius = 1): # Hier definieren wir wieder eine Funktion und weisen Radius gleich einen Default-Wert zu. \n",
        "        self.radius = radius\n",
        "        \n",
        "    def flaeche(self):\n",
        "        return self.radius * self.radius * Kreis.pi\n",
        "    \n",
        "    def radiusEinstellen(self,radius): # Mit diesem Attribut können wir den Radius individuell verändern.\n",
        "        self.radius = radius\n",
        "        \n",
        "    def radiusErhalten(self): #Mit diesem Attribut können wir die Einstellung jederzeit abfragen\n",
        "        return self.radius\n",
        "        \n",
        "\n",
        "k = Kreis(radius=100)\n",
        "k.flaeche() #Achtung da es sich um einen Methode handelt bnötigen wir wieder eine Klammer\n"
      ],
      "execution_count": 0,
      "outputs": [
        {
          "output_type": "execute_result",
          "data": {
            "text/plain": [
              "31400.0"
            ]
          },
          "metadata": {
            "tags": []
          },
          "execution_count": 54
        }
      ]
    },
    {
      "metadata": {
        "scrolled": true,
        "id": "6OclyaEc9Yfv",
        "colab_type": "code",
        "colab": {}
      },
      "cell_type": "code",
      "source": [
        "k.radiusEinstellen(10)"
      ],
      "execution_count": 0,
      "outputs": []
    },
    {
      "metadata": {
        "id": "s77xCeeg9Yfw",
        "colab_type": "code",
        "outputId": "3641fc5a-b99a-4690-ed78-67d6edcee0f7",
        "colab": {}
      },
      "cell_type": "code",
      "source": [
        "k.flaeche()"
      ],
      "execution_count": 0,
      "outputs": [
        {
          "output_type": "execute_result",
          "data": {
            "text/plain": [
              "314.0"
            ]
          },
          "metadata": {
            "tags": []
          },
          "execution_count": 51
        }
      ]
    },
    {
      "metadata": {
        "id": "WGAnqNAr9Yfx",
        "colab_type": "code",
        "outputId": "8eb9484c-4986-4312-b696-71728103dceb",
        "colab": {}
      },
      "cell_type": "code",
      "source": [
        "k.radiusErhalten()"
      ],
      "execution_count": 0,
      "outputs": [
        {
          "output_type": "execute_result",
          "data": {
            "text/plain": [
              "10"
            ]
          },
          "metadata": {
            "tags": []
          },
          "execution_count": 52
        }
      ]
    },
    {
      "metadata": {
        "id": "qjx9Wt1I9Yfz",
        "colab_type": "text"
      },
      "cell_type": "markdown",
      "source": [
        "# Vererbung"
      ]
    },
    {
      "metadata": {
        "id": "-QiqgikW9Yfz",
        "colab_type": "text"
      },
      "cell_type": "markdown",
      "source": [
        "Mit der Vererbung können neue Klassen durch bereits existierenden Klassen erstellt werden. Dies neu erstellten Klassen werden abgeleitete Klassen genannnt. Die Klassen von welche wir Vererben heissen Basisklassen. Mit der Vererbung lassen sich somit einfach bestehende Codes wieder verwenden."
      ]
    },
    {
      "metadata": {
        "id": "hj1UMWJb9Yf0",
        "colab_type": "code",
        "colab": {}
      },
      "cell_type": "code",
      "source": [
        "class Tier(object):\n",
        "    def __init__(self):\n",
        "        print('Tier erschaffen')\n",
        "        \n",
        "    def werBinIch(self):\n",
        "        print('Tier')\n",
        "        \n",
        "    def essen(self):\n",
        "        print('Essen')\n",
        "        \n",
        "class Hund(Tier): # Wir erstellen eine neue Klassen und Vererben die Tier Klasse\n",
        "    def __init__(self):\n",
        "        Tier.__init__(self) #Hier beziehen wir uns auf die Klasse Tier\n",
        "        print('Hund erstellen')\n",
        "        \n",
        "    def werBinIch(self):\n",
        "        print('Hund')\n",
        "        \n",
        "    def bellen(self):\n",
        "        print('Wuff!')\n",
        "    "
      ],
      "execution_count": 0,
      "outputs": []
    },
    {
      "metadata": {
        "id": "uX-Ou1ha9Yf1",
        "colab_type": "code",
        "outputId": "2bf7f5ba-97c7-484f-ea0b-79671b348fa3",
        "colab": {}
      },
      "cell_type": "code",
      "source": [
        "t = Tier()\n",
        "t.werBinIch()\n",
        "t.essen()"
      ],
      "execution_count": 0,
      "outputs": [
        {
          "output_type": "stream",
          "text": [
            "Tier erschaffen\n",
            "Tier\n",
            "Essen\n"
          ],
          "name": "stdout"
        }
      ]
    },
    {
      "metadata": {
        "id": "5bYEll5N9Yf3",
        "colab_type": "code",
        "outputId": "5c263bb8-94d8-446c-c38b-4b6654d48a91",
        "colab": {}
      },
      "cell_type": "code",
      "source": [
        "h = Hund()\n",
        "h.werBinIch()\n",
        "h.bellen()\n",
        "h.essen() # Dieses Attribut hat die Klasse Hund von der Klasse Tier vererbt bekommen."
      ],
      "execution_count": 0,
      "outputs": [
        {
          "output_type": "stream",
          "text": [
            "Tier erschaffen\n",
            "Hund erstellen\n",
            "Hund\n",
            "Wuff!\n",
            "Essen\n"
          ],
          "name": "stdout"
        }
      ]
    },
    {
      "metadata": {
        "id": "c8SlFoWw9Yf5",
        "colab_type": "text"
      },
      "cell_type": "markdown",
      "source": [
        "## Spezielle Methoden"
      ]
    },
    {
      "metadata": {
        "id": "Izrw8G6z9Yf6",
        "colab_type": "code",
        "outputId": "5633b44d-68da-44fb-ed79-557bf3d54c12",
        "colab": {}
      },
      "cell_type": "code",
      "source": [
        "# Wir kennen ja die bereits die Methoden welche in Python standardmässig implementiert sind.\n",
        "l = [1,2,3]\n",
        "print(l)\n",
        "len(l)"
      ],
      "execution_count": 0,
      "outputs": [
        {
          "output_type": "stream",
          "text": [
            "[1, 2, 3]\n"
          ],
          "name": "stdout"
        },
        {
          "output_type": "execute_result",
          "data": {
            "text/plain": [
              "3"
            ]
          },
          "metadata": {
            "tags": []
          },
          "execution_count": 2
        }
      ]
    },
    {
      "metadata": {
        "id": "TAJWYop29Yf7",
        "colab_type": "code",
        "outputId": "de96b9f2-19b5-4921-d1bd-14ce6a09fab1",
        "colab": {}
      },
      "cell_type": "code",
      "source": [
        "# Solchen Methoden können wir aber auch selber definieren.\n",
        "\n",
        "class Buch(object):\n",
        "    def __init__(self, titel, autor, seiten):\n",
        "        print('Ein Buch wird geschrieben!')\n",
        "        self.titel = titel\n",
        "        self. autor = autor\n",
        "        self.seiten = seiten\n",
        "    \n",
        "    def __str__(self):\n",
        "        return \"Titel:%s, Autor: %s, Seiten %s\"% (self.titel, self.autor, self.seiten)\n",
        "        \n",
        "    def __len__(self):\n",
        "        return self.seiten\n",
        "    \n",
        "    def __del__(self):\n",
        "        print('Ein Buch wurde gelöscht')\n",
        "        \n",
        "buch = Buch('Python rockt!', 'Patrik Di Lena', 1000)\n",
        "print (buch)\n",
        "        "
      ],
      "execution_count": 0,
      "outputs": [
        {
          "output_type": "stream",
          "text": [
            "Ein Buch wird geschrieben!\n",
            "Titel:Python rockt!, Autor: Patrik Di Lena, Seiten 1000\n"
          ],
          "name": "stdout"
        }
      ]
    },
    {
      "metadata": {
        "id": "pSXuIirC9Yf9",
        "colab_type": "code",
        "colab": {}
      },
      "cell_type": "code",
      "source": [
        "del(buch) # Wenn wir jetzt die Methode len ausführen wird Python das nicht interpretieren können"
      ],
      "execution_count": 0,
      "outputs": []
    },
    {
      "metadata": {
        "id": "Ifgl7BAy9Yf-",
        "colab_type": "code",
        "colab": {}
      },
      "cell_type": "code",
      "source": [
        "class Ubuntu:\n",
        "    def __init__(self, ramsize):\n",
        "        self.ram = ramsize\n",
        "        self.type = 'server'\n",
        "        \n",
        "Ubuntu = Ubuntu(2000)"
      ],
      "execution_count": 0,
      "outputs": []
    },
    {
      "metadata": {
        "id": "3d4P5tlN9YgA",
        "colab_type": "code",
        "outputId": "d21b3b44-8f48-40ee-be04-acc4018e5a19",
        "colab": {}
      },
      "cell_type": "code",
      "source": [
        "print(Ubuntu)"
      ],
      "execution_count": 0,
      "outputs": [
        {
          "output_type": "stream",
          "text": [
            "<class '__main__.Ubuntu'>\n"
          ],
          "name": "stdout"
        }
      ]
    },
    {
      "metadata": {
        "id": "Are90w149YgD",
        "colab_type": "text"
      },
      "cell_type": "markdown",
      "source": [
        "## Errors und Ausnahmen Handhabung"
      ]
    },
    {
      "metadata": {
        "id": "4yUopAl_9YgE",
        "colab_type": "text"
      },
      "cell_type": "markdown",
      "source": [
        "Es gibt unterschiedliche Fehlerquellen bei der Nutzung von Python. Man unterscheidet dabei zwischen folgenden Fehlerarten:\n",
        "\n",
        "Syntaxfehler - Hierbei handelt es sich zum Beispiel um einen vergessenen Einschub, Tipfehler usw.\n",
        "Semantische Fehler - Diese Fehler sind die gefährlichsten von allen Fehlern, da sie die Logik des erstellen Algorithmus betreffen. Diese Fehler werden meist erst später erstellt."
      ]
    },
    {
      "metadata": {
        "id": "X7hNRv7l9YgE",
        "colab_type": "code",
        "outputId": "dfcf9716-6655-4ffd-c2d4-65b9d17946a4",
        "colab": {}
      },
      "cell_type": "code",
      "source": [
        "# Das ist ein typischer SyntaxError auch End of Line Error (EOL) genannt\n",
        "\n",
        "print(Hello) # Vergessen von String-Hochkommas bei Print-Funktion"
      ],
      "execution_count": 0,
      "outputs": [
        {
          "output_type": "error",
          "ename": "NameError",
          "evalue": "name 'Hello' is not defined",
          "traceback": [
            "\u001b[0;31m---------------------------------------------------------------------------\u001b[0m",
            "\u001b[0;31mNameError\u001b[0m                                 Traceback (most recent call last)",
            "\u001b[0;32m<ipython-input-26-23ad3f3f48db>\u001b[0m in \u001b[0;36m<module>\u001b[0;34m()\u001b[0m\n\u001b[1;32m      1\u001b[0m \u001b[0;31m# Das ist ein typischer SyntaxError auch End of Line Error (EOL) genannt\u001b[0m\u001b[0;34m\u001b[0m\u001b[0;34m\u001b[0m\u001b[0m\n\u001b[1;32m      2\u001b[0m \u001b[0;34m\u001b[0m\u001b[0m\n\u001b[0;32m----> 3\u001b[0;31m \u001b[0mprint\u001b[0m\u001b[0;34m(\u001b[0m\u001b[0mHello\u001b[0m\u001b[0;34m)\u001b[0m \u001b[0;31m#\u001b[0m\u001b[0;34m\u001b[0m\u001b[0m\n\u001b[0m",
            "\u001b[0;31mNameError\u001b[0m: name 'Hello' is not defined"
          ]
        }
      ]
    },
    {
      "metadata": {
        "id": "5GdVFmRD9YgF",
        "colab_type": "code",
        "colab": {}
      },
      "cell_type": "code",
      "source": [
        "# Syntaxfehler kann man mit try und except Anweisungen abfangen.\n",
        "\n"
      ],
      "execution_count": 0,
      "outputs": []
    },
    {
      "metadata": {
        "id": "Ufgb-cd1Eobn",
        "colab_type": "text"
      },
      "cell_type": "markdown",
      "source": [
        "#Data Science mit Python#"
      ]
    },
    {
      "metadata": {
        "id": "D25kIDjR9tRS",
        "colab_type": "text"
      },
      "cell_type": "markdown",
      "source": [
        "##Numpy & Pandas##\n",
        "\n",
        "Die Python- Libraries Pandas & Numpy finden vor allem im Gebiet der Data Science eine sehr Breite Anwendung. In den folgenden Abschnitten werden wir uns zuerst mit Pandas befassen und danach auf Numpy eingehen."
      ]
    },
    {
      "metadata": {
        "id": "Nt7Up6ZN-DT4",
        "colab_type": "code",
        "colab": {}
      },
      "cell_type": "code",
      "source": [
        "# to delete\n",
        "import fix_yahoo_finance as fyf"
      ],
      "execution_count": 0,
      "outputs": []
    },
    {
      "metadata": {
        "id": "L3eqho0e_lZU",
        "colab_type": "text"
      },
      "cell_type": "markdown",
      "source": [
        "###Pandas###\n",
        "Pandas ist eine Programmbibliothek für die Programmiersprache Python, die Hilfsmittel für die Verwaltung von Daten und deren Analyse anbietet. Insbesondere enthält sie Datenstrukturen und Operatoren für den Zugriff auf numerische Tabellen und Zeitreihen."
      ]
    },
    {
      "metadata": {
        "id": "qXPmfI8yUoS9",
        "colab_type": "text"
      },
      "cell_type": "markdown",
      "source": [
        "**Import & Export**\n",
        "\n",
        "Mit Pandas besteht eine Vielzahl von Möglichkeiten Daten zu importieren und zu exportieren. \n",
        "\n",
        "Nachfolgenden ein paar Beispiele: "
      ]
    },
    {
      "metadata": {
        "id": "utzHGezmFUL0",
        "colab_type": "code",
        "colab": {}
      },
      "cell_type": "code",
      "source": [
        "# Daten lassen sich ganz einfach aus verschiedenen Dateien oder sogar\n",
        "# Datenbanken laden. Die einfachste Form ist aus CSVs wie im folgenden\n",
        "# Beispiel gezeigt.\n",
        "\n",
        "import pandas as pd # Zuerst muss die Library geladen geladen werden\n",
        "\n",
        "\n",
        "# from .csv\n",
        "data = pd.read_csv(\"planecrashinfo.csv\") # nun lesen wir ein csv\n",
        "\n",
        "# mit .head werden die in der Klammer definierten Zeilen angezeigt, \n",
        "# dass genügt um zu überprüfen ob er Import funktioniert.\n",
        "data.head(10) \n",
        "# Mit der Option data.tail(10) werden die letzten 10 Zeilen angezeigt"
      ],
      "execution_count": 0,
      "outputs": []
    },
    {
      "metadata": {
        "id": "AukJfi8oDLLi",
        "colab_type": "code",
        "colab": {}
      },
      "cell_type": "code",
      "source": [
        "# Mit Pandas lassen sich auch Daten direkt aus dem Internet importieren\n",
        "# Im folgenden Beispiel importieren wir historische Exxon Finanzdaten (XOM)\n",
        "# von Yahoo.com mittels einer API.\n",
        "\n",
        "import pandas as pd\n",
        "import datetime\n",
        "import pandas_datareader.data as web \n",
        "\n",
        "\n",
        "# Nun definieren wir den Datum-Range 1.Januar 2010 bis Heute\n",
        "start = datetime.datetime(2010, 1 ,1)\n",
        "end = datetime.datetime.now()\n",
        "\n",
        "# Als nächsten importieren wir die Daten in ein Dataframe (df)\n",
        "df_exxon = web.DataReader(\"XOM\", \"yahoo\",start, end) \n",
        "\n",
        "\n",
        "print(df_exxon.head())\n"
      ],
      "execution_count": 0,
      "outputs": []
    },
    {
      "metadata": {
        "id": "UDU3tXghJK4_",
        "colab_type": "code",
        "colab": {}
      },
      "cell_type": "code",
      "source": [
        "# Der Export von Daten gestaltet sich mit Pandas ebenfalls sehr einfach\n",
        "# In den folgenden Beispiel werden die Daten einerseits in ein CSV und\n",
        "# andererseits in ein XLS exportiert.\n",
        "\n",
        "import pandas as pd # Zuerst muss die Library geladen geladen werden\n",
        "\n",
        "\n",
        "# from .csv\n",
        "data = pd.read_csv(\"planecrashinfo.csv\") # nun lesen wir ein csv\n",
        "\n",
        "\n",
        "# Exportieren von ausgewählten Spalten in ein Excel\n",
        "data[['date', 'location', 'operator']].to_excel('plaincrash_short.xls')\n",
        "\n",
        "# Exportieren aller Daten in ein CSV\n",
        "data.to_csv('plaintcrash_short.csv')\n"
      ],
      "execution_count": 0,
      "outputs": []
    },
    {
      "metadata": {
        "id": "wqSVy5fNVpvR",
        "colab_type": "text"
      },
      "cell_type": "markdown",
      "source": [
        "**Ändern, Ersetzen, Einfügen und Löschen**\n",
        "\n",
        "Mit Pandas können einzelne oder mehrere Werte, Spalten und Zeilen verändern, ersetzen, hinzufügen oder gar löschen.\n",
        "\n",
        "Siehe nachfolgend ein paar Beispiele:\n"
      ]
    },
    {
      "metadata": {
        "id": "eDP0CUGAMFWj",
        "colab_type": "code",
        "colab": {}
      },
      "cell_type": "code",
      "source": [
        "# Mit Pandas lassen sich auch Daten in verschiedene Formate konvertieren\n",
        "\n",
        "import pandas as pd # Zuerst muss die Library geladen geladen werden\n",
        "\n",
        "\n",
        "# from .csv\n",
        "data = pd.read_csv(\"planecrashinfo.csv\") # nun lesen wir ein csv\n",
        "\n",
        "# Konverterien bestimmter Spalten in String\n",
        "data['time'] = data['time'].astype('str')\n",
        "\n",
        "# Konvertieren von bestimmten Spalten in Integer\n",
        "# data['ground'] = data['ground'].fillna(-1).astype(int)\n",
        "\n",
        "# Konvertieren von bestimmten Spalten in Numeric\n",
        "# data['time'] = pd.to_numeric(data['time'])\n",
        "\n",
        "data.head(5)\n",
        "\n"
      ],
      "execution_count": 0,
      "outputs": []
    },
    {
      "metadata": {
        "id": "fN7Nmc1_3pq2",
        "colab_type": "code",
        "colab": {}
      },
      "cell_type": "code",
      "source": [
        "# Wir können aus ein durch Panda importiertes Datenset bestimmte Werte \n",
        "# auslesen.\n",
        "\n",
        "import pandas as pd # Zuerst muss die Library geladen geladen werden\n",
        "\n",
        "\n",
        "# from .csv\n",
        "data = pd.read_csv(\"planecrashinfo.csv\") # nun lesen wir ein csv\n",
        "\n",
        "# Nachfolgend lesen wir einen bestimmten Wert aus der Spalte operator\n",
        "# aus der das Wort Military beinhaltet.\n",
        "\n",
        "data_selc = data['operator'].where(data['operator'] != 'Military')\n",
        "\n",
        "data_selc.head(10)"
      ],
      "execution_count": 0,
      "outputs": []
    },
    {
      "metadata": {
        "id": "7yLBfF7SRGtu",
        "colab_type": "code",
        "colab": {}
      },
      "cell_type": "code",
      "source": [
        "# Bei der Datenselektion mit Pandas lassen sich bestimmte Werte in Spalten\n",
        "# ausblenden. Hierzu wird drop verwendet.\n",
        "\n",
        "import pandas as pd # Zuerst muss die Library geladen geladen werden\n",
        "\n",
        "\n",
        "# from .csv\n",
        "data = pd.read_csv(\"planecrashinfo.csv\") # nun lesen wir ein csv\n",
        "\n",
        "\n",
        "value_list = ['Private'] # Liste \n",
        "null_value_list = ['?']\n",
        "\n",
        "# Mit .drop können unnötige Informationen wir folgt ausblendet werden\n",
        "data = data.drop(\"time\", axis=1) # Ganze Spalten\n",
        "data1 = data.drop(data.index[2:4]) # Einzelen oder mehrere Zeilen\n",
        "# :4 = bis und mit Zeile 3, 4: = Ab Zeile 4, 2:4 = Zeile 2 und 3 etc.\n",
        "data2 = data.operator != 'Private' # Zeigt die Anzahl Zeilen mit True or Flase\n",
        "data3 = data[data.operator.isin(value_list)] # Nur Zeilen mit Werten aus Liste\n",
        "data4 = data[~data.operator.isin(null_value_list)] # Nur Zeilen mit Werten aus Liste\n",
        "\n",
        "# mit .head werden die ersten 5 Zeilen angezeigt, dass genügt um zu \n",
        "# überprüfen ob er Import funktioniert.\n",
        "data4.head()\n"
      ],
      "execution_count": 0,
      "outputs": []
    },
    {
      "metadata": {
        "id": "6OPInxUmWooL",
        "colab_type": "code",
        "colab": {}
      },
      "cell_type": "code",
      "source": [
        "# Das folgende Beispiel zeigt, wie man mit Pandas Werte in einem Datenset\n",
        "# ändern kann.\n",
        "\n",
        "import pandas as pd # Zuerst muss die Library geladen geladen werden\n",
        "\n",
        "\n",
        "# from .csv\n",
        "data = pd.read_csv(\"planecrashinfo.csv\") # nun lesen wir ein csv\n",
        "\n",
        "# Nachfolgend ersetzen wir einen bestimmten Wert im Dataset durch einen\n",
        "# anderen.\n",
        "\n",
        "data_rep = data.replace('?', 'Unknown')\n",
        "\n",
        "data_rep.head(10)"
      ],
      "execution_count": 0,
      "outputs": []
    },
    {
      "metadata": {
        "id": "lOuW98XKeeje",
        "colab_type": "code",
        "outputId": "14f4fde8-7002-492b-be7d-2a008a0563bb",
        "colab": {
          "base_uri": "https://localhost:8080/",
          "height": 906
        }
      },
      "cell_type": "code",
      "source": [
        "# Das folgende Beispiel zeigt, wie man mit Pandas eine neue Spalte erstellt.\n",
        "\n",
        "import pandas as pd # Zuerst muss die Library geladen geladen werden\n",
        "\n",
        "\n",
        "# from .csv\n",
        "data = pd.read_csv(\"planecrashinfo.csv\") # nun lesen wir ein csv\n",
        "\n",
        "# Nachfolgend erstellen wir eine neue Spalte und fügen Werte in die\n",
        "# Datenfelder\n",
        "\n",
        "data['casualties'] = 'n.a'\n",
        "\n",
        "data.head(10)"
      ],
      "execution_count": 2,
      "outputs": [
        {
          "output_type": "execute_result",
          "data": {
            "text/html": [
              "<div>\n",
              "<style scoped>\n",
              "    .dataframe tbody tr th:only-of-type {\n",
              "        vertical-align: middle;\n",
              "    }\n",
              "\n",
              "    .dataframe tbody tr th {\n",
              "        vertical-align: top;\n",
              "    }\n",
              "\n",
              "    .dataframe thead th {\n",
              "        text-align: right;\n",
              "    }\n",
              "</style>\n",
              "<table border=\"1\" class=\"dataframe\">\n",
              "  <thead>\n",
              "    <tr style=\"text-align: right;\">\n",
              "      <th></th>\n",
              "      <th>date</th>\n",
              "      <th>time</th>\n",
              "      <th>location</th>\n",
              "      <th>operator</th>\n",
              "      <th>flight_no</th>\n",
              "      <th>route</th>\n",
              "      <th>ac_type</th>\n",
              "      <th>registration</th>\n",
              "      <th>cn_ln</th>\n",
              "      <th>aboard</th>\n",
              "      <th>fatalities</th>\n",
              "      <th>ground</th>\n",
              "      <th>summary</th>\n",
              "      <th>casualties</th>\n",
              "    </tr>\n",
              "  </thead>\n",
              "  <tbody>\n",
              "    <tr>\n",
              "      <th>0</th>\n",
              "      <td>September 17, 1908</td>\n",
              "      <td>17:18</td>\n",
              "      <td>Fort Myer, Virginia</td>\n",
              "      <td>Military - U.S. Army</td>\n",
              "      <td>?</td>\n",
              "      <td>Demonstration</td>\n",
              "      <td>Wright Flyer III</td>\n",
              "      <td>?</td>\n",
              "      <td>1</td>\n",
              "      <td>2   (passengers:1  crew:1)</td>\n",
              "      <td>1   (passengers:1  crew:0)</td>\n",
              "      <td>0</td>\n",
              "      <td>During a demonstration flight, a U.S. Army fly...</td>\n",
              "      <td>n.a</td>\n",
              "    </tr>\n",
              "    <tr>\n",
              "      <th>1</th>\n",
              "      <td>September 07, 1909</td>\n",
              "      <td>?</td>\n",
              "      <td>Juvisy-sur-Orge, France</td>\n",
              "      <td>?</td>\n",
              "      <td>?</td>\n",
              "      <td>Air show</td>\n",
              "      <td>Wright Byplane</td>\n",
              "      <td>SC1</td>\n",
              "      <td>?</td>\n",
              "      <td>1   (passengers:0  crew:1)</td>\n",
              "      <td>1   (passengers:0  crew:0)</td>\n",
              "      <td>0</td>\n",
              "      <td>Eugene Lefebvre was the first pilot to ever be...</td>\n",
              "      <td>n.a</td>\n",
              "    </tr>\n",
              "    <tr>\n",
              "      <th>2</th>\n",
              "      <td>July 12, 1912</td>\n",
              "      <td>06:30</td>\n",
              "      <td>Atlantic City, New Jersey</td>\n",
              "      <td>Military - U.S. Navy</td>\n",
              "      <td>?</td>\n",
              "      <td>Test flight</td>\n",
              "      <td>Dirigible</td>\n",
              "      <td>?</td>\n",
              "      <td>?</td>\n",
              "      <td>5   (passengers:0  crew:5)</td>\n",
              "      <td>5   (passengers:0  crew:5)</td>\n",
              "      <td>0</td>\n",
              "      <td>First U.S. dirigible Akron exploded just offsh...</td>\n",
              "      <td>n.a</td>\n",
              "    </tr>\n",
              "    <tr>\n",
              "      <th>3</th>\n",
              "      <td>August 06, 1913</td>\n",
              "      <td>?</td>\n",
              "      <td>Victoria, British Columbia, Canada</td>\n",
              "      <td>Private</td>\n",
              "      <td>?</td>\n",
              "      <td>?</td>\n",
              "      <td>Curtiss seaplane</td>\n",
              "      <td>?</td>\n",
              "      <td>?</td>\n",
              "      <td>1   (passengers:0  crew:1)</td>\n",
              "      <td>1   (passengers:0  crew:1)</td>\n",
              "      <td>0</td>\n",
              "      <td>The first fatal airplane accident in Canada oc...</td>\n",
              "      <td>n.a</td>\n",
              "    </tr>\n",
              "    <tr>\n",
              "      <th>4</th>\n",
              "      <td>September 09, 1913</td>\n",
              "      <td>c 18:30</td>\n",
              "      <td>Over the North Sea</td>\n",
              "      <td>Military - German Navy</td>\n",
              "      <td>?</td>\n",
              "      <td>?</td>\n",
              "      <td>Zeppelin L-1 (airship)</td>\n",
              "      <td>?</td>\n",
              "      <td>?</td>\n",
              "      <td>20   (passengers:?  crew:?)</td>\n",
              "      <td>14   (passengers:?  crew:?)</td>\n",
              "      <td>0</td>\n",
              "      <td>The airship flew into a thunderstorm and encou...</td>\n",
              "      <td>n.a</td>\n",
              "    </tr>\n",
              "    <tr>\n",
              "      <th>5</th>\n",
              "      <td>October 17, 1913</td>\n",
              "      <td>c 10:30</td>\n",
              "      <td>Near Johannisthal, Germany</td>\n",
              "      <td>Military - German Navy</td>\n",
              "      <td>?</td>\n",
              "      <td>?</td>\n",
              "      <td>Zeppelin L-2 (airship)</td>\n",
              "      <td>?</td>\n",
              "      <td>?</td>\n",
              "      <td>30   (passengers:?  crew:?)</td>\n",
              "      <td>30   (passengers:?  crew:?)</td>\n",
              "      <td>0</td>\n",
              "      <td>Hydrogen gas which was being vented was sucked...</td>\n",
              "      <td>n.a</td>\n",
              "    </tr>\n",
              "    <tr>\n",
              "      <th>6</th>\n",
              "      <td>March 05, 1915</td>\n",
              "      <td>c 01:00</td>\n",
              "      <td>Tienen, Belgium</td>\n",
              "      <td>Military - German Navy</td>\n",
              "      <td>?</td>\n",
              "      <td>?</td>\n",
              "      <td>Zeppelin L-8 (airship)</td>\n",
              "      <td>?</td>\n",
              "      <td>?</td>\n",
              "      <td>41   (passengers:?  crew:?)</td>\n",
              "      <td>21   (passengers:?  crew:?)</td>\n",
              "      <td>0</td>\n",
              "      <td>Crashed into trees while attempting to land af...</td>\n",
              "      <td>n.a</td>\n",
              "    </tr>\n",
              "    <tr>\n",
              "      <th>7</th>\n",
              "      <td>September 03, 1915</td>\n",
              "      <td>c 15:20</td>\n",
              "      <td>Off Cuxhaven, Germany</td>\n",
              "      <td>Military - German Navy</td>\n",
              "      <td>?</td>\n",
              "      <td>?</td>\n",
              "      <td>Zeppelin L-10 (airship)</td>\n",
              "      <td>?</td>\n",
              "      <td>?</td>\n",
              "      <td>19   (passengers:?  crew:?)</td>\n",
              "      <td>19   (passengers:?  crew:?)</td>\n",
              "      <td>0</td>\n",
              "      <td>Exploded and burned near Neuwerk Island,  when...</td>\n",
              "      <td>n.a</td>\n",
              "    </tr>\n",
              "    <tr>\n",
              "      <th>8</th>\n",
              "      <td>July 28, 1916</td>\n",
              "      <td>?</td>\n",
              "      <td>Near Jambol, Bulgeria</td>\n",
              "      <td>Military - German Army</td>\n",
              "      <td>?</td>\n",
              "      <td>?</td>\n",
              "      <td>Schutte-Lanz S-L-10 (airship)</td>\n",
              "      <td>?</td>\n",
              "      <td>?</td>\n",
              "      <td>20   (passengers:?  crew:?)</td>\n",
              "      <td>20   (passengers:?  crew:?)</td>\n",
              "      <td>0</td>\n",
              "      <td>Crashed near the Black Sea, cause unknown.</td>\n",
              "      <td>n.a</td>\n",
              "    </tr>\n",
              "    <tr>\n",
              "      <th>9</th>\n",
              "      <td>September 24, 1916</td>\n",
              "      <td>c 01:00</td>\n",
              "      <td>Billericay, England</td>\n",
              "      <td>Military - German Navy</td>\n",
              "      <td>?</td>\n",
              "      <td>?</td>\n",
              "      <td>Zeppelin L-32 (airship)</td>\n",
              "      <td>?</td>\n",
              "      <td>?</td>\n",
              "      <td>22   (passengers:?  crew:?)</td>\n",
              "      <td>22   (passengers:?  crew:?)</td>\n",
              "      <td>0</td>\n",
              "      <td>Shot down by British aircraft crashing in flames.</td>\n",
              "      <td>n.a</td>\n",
              "    </tr>\n",
              "  </tbody>\n",
              "</table>\n",
              "</div>"
            ],
            "text/plain": [
              "                 date     time                            location  \\\n",
              "0  September 17, 1908    17:18                 Fort Myer, Virginia   \n",
              "1  September 07, 1909        ?             Juvisy-sur-Orge, France   \n",
              "2       July 12, 1912    06:30           Atlantic City, New Jersey   \n",
              "3     August 06, 1913        ?  Victoria, British Columbia, Canada   \n",
              "4  September 09, 1913  c 18:30                  Over the North Sea   \n",
              "5    October 17, 1913  c 10:30          Near Johannisthal, Germany   \n",
              "6      March 05, 1915  c 01:00                     Tienen, Belgium   \n",
              "7  September 03, 1915  c 15:20               Off Cuxhaven, Germany   \n",
              "8       July 28, 1916        ?               Near Jambol, Bulgeria   \n",
              "9  September 24, 1916  c 01:00                 Billericay, England   \n",
              "\n",
              "                 operator flight_no          route  \\\n",
              "0    Military - U.S. Army         ?  Demonstration   \n",
              "1                       ?         ?       Air show   \n",
              "2    Military - U.S. Navy         ?    Test flight   \n",
              "3                 Private         ?              ?   \n",
              "4  Military - German Navy         ?              ?   \n",
              "5  Military - German Navy         ?              ?   \n",
              "6  Military - German Navy         ?              ?   \n",
              "7  Military - German Navy         ?              ?   \n",
              "8  Military - German Army         ?              ?   \n",
              "9  Military - German Navy         ?              ?   \n",
              "\n",
              "                         ac_type registration cn_ln  \\\n",
              "0               Wright Flyer III            ?     1   \n",
              "1                 Wright Byplane          SC1     ?   \n",
              "2                      Dirigible            ?     ?   \n",
              "3               Curtiss seaplane            ?     ?   \n",
              "4         Zeppelin L-1 (airship)            ?     ?   \n",
              "5         Zeppelin L-2 (airship)            ?     ?   \n",
              "6         Zeppelin L-8 (airship)            ?     ?   \n",
              "7        Zeppelin L-10 (airship)            ?     ?   \n",
              "8  Schutte-Lanz S-L-10 (airship)            ?     ?   \n",
              "9        Zeppelin L-32 (airship)            ?     ?   \n",
              "\n",
              "                        aboard                   fatalities ground  \\\n",
              "0   2   (passengers:1  crew:1)   1   (passengers:1  crew:0)      0   \n",
              "1   1   (passengers:0  crew:1)   1   (passengers:0  crew:0)      0   \n",
              "2   5   (passengers:0  crew:5)   5   (passengers:0  crew:5)      0   \n",
              "3   1   (passengers:0  crew:1)   1   (passengers:0  crew:1)      0   \n",
              "4  20   (passengers:?  crew:?)  14   (passengers:?  crew:?)      0   \n",
              "5  30   (passengers:?  crew:?)  30   (passengers:?  crew:?)      0   \n",
              "6  41   (passengers:?  crew:?)  21   (passengers:?  crew:?)      0   \n",
              "7  19   (passengers:?  crew:?)  19   (passengers:?  crew:?)      0   \n",
              "8  20   (passengers:?  crew:?)  20   (passengers:?  crew:?)      0   \n",
              "9  22   (passengers:?  crew:?)  22   (passengers:?  crew:?)      0   \n",
              "\n",
              "                                             summary casualties  \n",
              "0  During a demonstration flight, a U.S. Army fly...        n.a  \n",
              "1  Eugene Lefebvre was the first pilot to ever be...        n.a  \n",
              "2  First U.S. dirigible Akron exploded just offsh...        n.a  \n",
              "3  The first fatal airplane accident in Canada oc...        n.a  \n",
              "4  The airship flew into a thunderstorm and encou...        n.a  \n",
              "5  Hydrogen gas which was being vented was sucked...        n.a  \n",
              "6  Crashed into trees while attempting to land af...        n.a  \n",
              "7  Exploded and burned near Neuwerk Island,  when...        n.a  \n",
              "8         Crashed near the Black Sea, cause unknown.        n.a  \n",
              "9  Shot down by British aircraft crashing in flames.        n.a  "
            ]
          },
          "metadata": {
            "tags": []
          },
          "execution_count": 2
        }
      ]
    },
    {
      "metadata": {
        "id": "gLu6QrG4-1WA",
        "colab_type": "text"
      },
      "cell_type": "markdown",
      "source": [
        "###Numpy###\n",
        "NumPy ist eine Programmbibliothek für die Programmiersprache Python, die eine einfache Handhabung von Vektoren, Matrizen oder generell großen mehrdimensionalen Arrays ermöglicht. Neben den Datenstrukturen bietet NumPy auch effizient implementierte Funktionen für numerische Berechnungen an."
      ]
    }
  ]
}