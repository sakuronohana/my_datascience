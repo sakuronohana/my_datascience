{
  "nbformat": 4,
  "nbformat_minor": 0,
  "metadata": {
    "colab": {
      "name": "DS Articles of Interest ipynb",
      "provenance": [],
      "include_colab_link": true
    },
    "kernelspec": {
      "name": "python3",
      "display_name": "Python 3"
    }
  },
  "cells": [
    {
      "cell_type": "markdown",
      "metadata": {
        "id": "view-in-github",
        "colab_type": "text"
      },
      "source": [
        "<a href=\"https://colab.research.google.com/github/sakuronohana/my_datascience/blob/master/DS_Articles_of_Interest%20.ipynb\" target=\"_parent\"><img src=\"https://colab.research.google.com/assets/colab-badge.svg\" alt=\"Open In Colab\"/></a>"
      ]
    },
    {
      "cell_type": "markdown",
      "metadata": {
        "id": "SyxBmxgRxnMS",
        "colab_type": "text"
      },
      "source": [
        "# Intressante Artikel zum Data Science #\n",
        "\n",
        "Nachfolgend eine Auflistung intressanter Artikel rund um Data Science (Data-Analytic, AI, ML usw.) geliedert in \n",
        "\n",
        "* Domains / Business / Themen\n",
        "* Jahr\n"
      ]
    },
    {
      "cell_type": "markdown",
      "metadata": {
        "id": "izW4-Jnjd9qV",
        "colab_type": "text"
      },
      "source": [
        "## Gefahren & Bedrohungen ##"
      ]
    },
    {
      "cell_type": "markdown",
      "metadata": {
        "id": "fbAJFUqReUPF",
        "colab_type": "text"
      },
      "source": [
        "###2019###\n",
        "\n",
        "* Auf dem Weg zur totalen Überwachung mittels intelligenten Systemen [Link](https://www.tagesschau.de/ausland/ueberwachung-china-101.html)\n",
        "* Wer mit KI experimentiert, wird selbst zum Motor der Transformation [Link](https://www.der-bank-blog.de/ki-personalarbeit/fuehrung-und-management/37659227/?utm_source=newsletter&utm_medium=email&utm_term=https%3A%2F%2Fwww.der-bank-blog.de%2Fki-personalarbeit%2Ffuehrung-und-management%2F37659227%2F&utm_content&utm_campaign=Der+Bank+Blog+Newsletter+T%C3%A4glich)"
      ]
    },
    {
      "cell_type": "markdown",
      "metadata": {
        "id": "IKgGX4VzeImO",
        "colab_type": "text"
      },
      "source": [
        "###2018###"
      ]
    },
    {
      "cell_type": "markdown",
      "metadata": {
        "id": "Q5anItY2dWzW",
        "colab_type": "text"
      },
      "source": [
        "## Finance & Banking ##"
      ]
    },
    {
      "cell_type": "markdown",
      "metadata": {
        "id": "w5n7NeuNeo_m",
        "colab_type": "text"
      },
      "source": [
        "### 2019 ###\n",
        "\n",
        "* Vertriebsansätze im digitalen Zeitalter [Link](https://www.der-bank-blog.de/vertriebsansaetze-im-digitalen-zeitalter/trends/37659303/?utm_source=newsletter&utm_medium=email&utm_term=https%3A%2F%2Fwww.der-bank-blog.de%2Fvertriebsansaetze-im-digitalen-zeitalter%2Ftrends%2F37659303%2F&utm_content&utm_campaign=Der+Bank+Blog+Newsletter+T%C3%A4glich)\n",
        "* Künstliche Intelligenz für nachhaltige Investments in die Zukunft [Link](https://www.der-bank-blog.de/ki-personalarbeit/fuehrung-und-management/37659227/?utm_source=newsletter&utm_medium=email&utm_term=https%3A%2F%2Fwww.der-bank-blog.de%2Fki-personalarbeit%2Ffuehrung-und-management%2F37659227%2F&utm_content&utm_campaign=Der+Bank+Blog+Newsletter+T%C3%A4glich)"
      ]
    },
    {
      "cell_type": "markdown",
      "metadata": {
        "id": "-4eXre3Bdhtm",
        "colab_type": "text"
      },
      "source": [
        "###2018###"
      ]
    }
  ]
}