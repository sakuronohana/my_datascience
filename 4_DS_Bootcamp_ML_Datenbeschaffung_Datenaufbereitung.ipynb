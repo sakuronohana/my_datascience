{
  "nbformat": 4,
  "nbformat_minor": 0,
  "metadata": {
    "colab": {
      "name": "DS Bootcamp Machine Learning Datenbeschaffung Datenaufbereitung ipynb",
      "provenance": [],
      "include_colab_link": true
    },
    "kernelspec": {
      "name": "python3",
      "display_name": "Python 3"
    }
  },
  "cells": [
    {
      "cell_type": "markdown",
      "metadata": {
        "id": "view-in-github",
        "colab_type": "text"
      },
      "source": [
        "<a href=\"https://colab.research.google.com/github/sakuronohana/my_datascience/blob/master/4_DS_Bootcamp_ML_Datenbeschaffung_Datenaufbereitung.ipynb\" target=\"_parent\"><img src=\"https://colab.research.google.com/assets/colab-badge.svg\" alt=\"Open In Colab\"/></a>"
      ]
    },
    {
      "cell_type": "markdown",
      "metadata": {
        "id": "SyxBmxgRxnMS",
        "colab_type": "text"
      },
      "source": [
        "# DS Bootcamp Teil 2 - Machine Learning - Datenbeschaffung & Datenaufbereitung #"
      ]
    },
    {
      "cell_type": "markdown",
      "metadata": {
        "id": "wzg8_V-3-pOb",
        "colab_type": "text"
      },
      "source": [
        "## DS Bootcamp Verzeichnis ##\n",
        "\n",
        "[**Teil 1 - Data Science - Prozesse & Grundlagen**](https://github.com/sakuronohana/my_datascience/blob/master/1_DS_Bootcamp_Prozesse_%26_Grundlagen.ipynb)\n",
        "\n",
        "[**Teil 1a - Data Science - Python Basic & Advanced**](https://github.com/sakuronohana/my_datascience/blob/master/2_DS_Bootcamp_Python_Basic_%26_Advanced.ipynb)\n",
        "\n",
        "[**Teil 1b - Data Science - R Basic & Advanced**](https://github.com/sakuronohana/my_datascience/blob/master/3_DS_Bootcamp_R_Basic_%26_Advanced.ipynb)\n",
        "\n",
        "[**Teil 2 - Data Science - ML - Datenbeschaffung & Datenaufbereitung**](https://github.com/sakuronohana/my_datascience/blob/master/4_DS_Bootcamp_ML_Datenbeschaffung_Datenaufbereitung.ipynb)\n",
        "\n",
        "[**Teil 3 - Data Science - ML - Modellwahl**](https://github.com/sakuronohana/my_datascience/blob/master/5_DS_Bootcamp_ML_Modellwahl.ipynb)\n",
        "\n",
        "[**Teil 4 - Data Science - ML - Modell Training, Testing & Optimierung**](https://github.com/sakuronohana/my_datascience/blob/master/6_DS_Bootcamp_ML_Modell_Train_Test_Optimize.ipynb)\n",
        "\n",
        "[**Teil 5 - Data Science - ML - Modell Produktivsetzung, Überwachung & Pflege**](https://github.com/sakuronohana/my_datascience/blob/master/7_DS_Bootcamp_ML_Modell_Deploy_Monitor_Maintain.ipynb)"
      ]
    },
    {
      "cell_type": "markdown",
      "metadata": {
        "id": "R_IA7ITTJFce",
        "colab_type": "text"
      },
      "source": [
        "##Datenbeschaffung (Research/Data Gathering)##\n",
        "\n",
        "Die Beschaffung der richtigen Daten zur Erreichung des gesetzten Zieles stellt sich oft als schwieriger heraus als gedacht. Einen Datensatz in der richtigen Qualität und Quantität zu finden ist oft eine Herausforderung. Mit viel Glück bestehen im eigenen Unternehmen grossen Datenmengen die genutzt werden können. Oft müssen diese jedoch noch zusätzlich mit externen Daten angereichert werden."
      ]
    },
    {
      "cell_type": "markdown",
      "metadata": {
        "id": "qpvkX09dU1j4",
        "colab_type": "text"
      },
      "source": [
        "###Datensatzsuche im Internet###\n",
        "\n",
        "Nachfolgend werden ein paar wertvolle Quellen für den Bezug von Datensätzen aufgelistet. Die meisten dieser Datenquellen sind frei zugänglich:\n",
        "\n",
        "*  Google Dataset Search - Ist eine von Google optimierte Engine für die Suche von Datensätzen [Link](https://toolbox.google.com/datasetsearch)\n",
        "*  Google Dataset Selection [Link](https://ai.google/tools/datasets/)\n",
        "*  Google TensorFlow Datasets - Mit dem Module tensorflow_dataset können verschieden Datensätze für das Testen von ML Modellen angezogen werden [Link](https://www.tensorflow.org/datasets/catalog/overview) \n",
        "*  Kaggle Datasets - Die grosse DS Competition Platform Kaggle verfügt über eine Vielzahl von guten Datensätzen [Link](https://www.kaggle.com/datasets)\n",
        "*  U.S. Government’s open data - Datenbank mit ein Vielzahl von Datensätzen ermittelt durch die U.S Regierung [Link](https://www.data.gov/)\n",
        "*  Swiss Open Government Data - Datensätze der Schweizer Regierung [Link](https://opendata.swiss/de/)\n",
        "*  European Bioinformatics Institute - Enthält eine Vielzahl von Daten aus dem Domains Biologie und Chemie [Link](https://www.ebi.ac.uk/services)\n",
        "* Cool Datasets - Sammlung von Datensatzquellen [Link](https://www.cooldatasets.com/)\n",
        "*  Wikipedia List of Datasets - Wikipedia Seite mit einer Vielzahl von Links zu Datensätzen [Link](https://en.wikipedia.org/wiki/List_of_datasets_for_machine-learning_research)\n",
        "\n",
        "Neben den oben gelisteten Datensätze gibt es noch eine Menge mehr. Am besten jeweils mit folgenden Suchbegriffen in Google suchen:\n",
        "\n",
        "    open dataset for \"Thema\"\n"
      ]
    },
    {
      "cell_type": "markdown",
      "metadata": {
        "colab_type": "text",
        "id": "qNntcDOQxuMI"
      },
      "source": [
        "###Bilder selber herstellen###\n",
        "\n",
        "Neben den unzähligen Datensets welche sich im Internet finden lassen, gibt es auch andere Möglichkeiten Bilder für die das Trainieren eines Klassifikators zu erstellen.\n",
        "\n",
        "***Bilder mit Fotokamera erstellen***\n",
        "\n",
        "Diese Methode gehört wohl zur mühsamsten Art um Bilder selber herzustellen, da es für das Training eines Klassifikators tausende von Bildern braucht.\n",
        "\n",
        "***Bilder aus Video extrahieren***\n",
        "\n",
        "Ein guter Trick um in einer kurzen Zeit zu vielen Bildern zu gelangen ist ein Video eines Gegenstands zu drehen. Die einzelnen Bilder lassen sich dann mit dem Tool ffmpeg aus dem Video extrahieren:\n",
        "\n",
        "   *ffmpeg -i schale.mp4 schale%03d.jpg*\n",
        "\n"
      ]
    },
    {
      "cell_type": "markdown",
      "metadata": {
        "colab_type": "text",
        "id": "4H8Ea2zyHsNK"
      },
      "source": [
        "###Scraping (Sammeln) von Google Images###\n",
        "\n",
        "Google verfügt mittlerweilen über eine riesige Datenbank von Bildern, welche sich natürlich gut für das Training von Klassifikatoren (Neuronale Netzwerke)eignet.\n",
        "\n",
        "Nachfolgend kurz eine kleines Python-Script für die Sammlung von verschiedenen Bildern"
      ]
    },
    {
      "cell_type": "code",
      "metadata": {
        "colab_type": "code",
        "id": "yAXhWVUaF3O7",
        "colab": {}
      },
      "source": [
        "# importing google_images_download module\n",
        "from google_images_download import google_images_download\n",
        "\n",
        "# creating object \n",
        "response = google_images_download.googleimagesdownload()\n",
        "\n",
        "search_queries = ['Dogs', \n",
        "                  'Cats',]\n",
        "  \n",
        "def downloadimages(query): \n",
        "    # keywords is the search query \n",
        "    # format is the image file format \n",
        "    # limit is the number of images to be downloaded \n",
        "    # print urs is to print the image file url \n",
        "    # size is the image size which can \n",
        "    # be specified manually (\"large, medium, icon\") \n",
        "    # aspect ratio denotes the height width ratio \n",
        "    # of images to download. (\"tall, square, wide, panoramic\") \n",
        "    arguments = {\"keywords\": query, \n",
        "                 \"format\": \"jpg\", \n",
        "                 \"limit\":4, \n",
        "                 \"print_urls\":True, \n",
        "                 \"size\": \"medium\"} \n",
        "    try: \n",
        "        response.download(arguments) \n",
        "      \n",
        "    # Handling File NotFound Error     \n",
        "    except FileNotFoundError:  \n",
        "        arguments = {\"keywords\": query, \n",
        "                     \"format\": \"jpg\", \n",
        "                     \"limit\":4, \n",
        "                     \"print_urls\":True,  \n",
        "                     \"size\": \"medium\"} \n",
        "                       \n",
        "        # Providing arguments for the searched query \n",
        "        try: \n",
        "            # Downloading the photos based \n",
        "            # on the given arguments \n",
        "            response.download(arguments)  \n",
        "        except: \n",
        "            pass\n",
        "  \n",
        "# Driver Code \n",
        "for query in search_queries: \n",
        "    downloadimages(query)  \n",
        "    print()  "
      ],
      "execution_count": 0,
      "outputs": []
    },
    {
      "cell_type": "markdown",
      "metadata": {
        "id": "0czLYODUdz6L",
        "colab_type": "text"
      },
      "source": [
        "### Extraktion von Informationen (Daten) aus XML/HTML ###\n",
        "\n",
        "Daten lassen sich auch direkt aus XML oder HTML Inhalten auslesen. Zu diesem Zweck gibt es eine Python Bibliothek namens \"Beautiful Soup\" [Link](https://www.crummy.com/software/BeautifulSoup/bs4/doc/). Nachfolgend ein kleines Python Beispiel:\n",
        "\n",
        "[Link zum Tutorial](https://www.dataquest.io/blog/web-scraping-tutorial-python/)\n",
        "\n",
        "Ein ***Parser*** [ˈpɑːʁzɐ] (engl. to parse, „analysieren“, bzw. lateinisch pars, „Teil“; im Deutschen gelegentlich auch Zerteiler) ist ein Computerprogramm, das in der Informatik für die Zerlegung und Umwandlung einer Eingabe in ein für die Weiterverarbeitung geeigneteres Format zuständig ist."
      ]
    },
    {
      "cell_type": "code",
      "metadata": {
        "id": "TOGfL912fCF-",
        "colab_type": "code",
        "outputId": "ffe86a75-2eab-4a5d-9325-5d19d3225f66",
        "colab": {
          "base_uri": "https://localhost:8080/",
          "height": 102
        }
      },
      "source": [
        "''' Installation der Python Bibliothek. Hinweis: Auf Google Colab ist die Bibliothenk bereits installiert ''' \n",
        "\n",
        "!pip install beautifulsoup4\n",
        "\n",
        "''' Installation des XML Parser'''\n",
        "!pip install lxml\n",
        "\n",
        "''' Installation dex HMLM Parser '''\n",
        "!pip install html5lib"
      ],
      "execution_count": 0,
      "outputs": [
        {
          "output_type": "stream",
          "text": [
            "Requirement already satisfied: beautifulsoup4 in /usr/local/lib/python3.6/dist-packages (4.6.3)\n",
            "Requirement already satisfied: lxml in /usr/local/lib/python3.6/dist-packages (4.2.6)\n",
            "Requirement already satisfied: html5lib in /usr/local/lib/python3.6/dist-packages (1.0.1)\n",
            "Requirement already satisfied: webencodings in /usr/local/lib/python3.6/dist-packages (from html5lib) (0.5.1)\n",
            "Requirement already satisfied: six>=1.9 in /usr/local/lib/python3.6/dist-packages (from html5lib) (1.12.0)\n"
          ],
          "name": "stdout"
        }
      ]
    },
    {
      "cell_type": "code",
      "metadata": {
        "id": "FfCXi4JvfjT8",
        "colab_type": "code",
        "colab": {}
      },
      "source": [
        "# Nun können wir das entsprechenden Modul laden bzw. importieren\n",
        "import pandas as pd\n",
        "from bs4 import BeautifulSoup\n",
        "\n",
        "# Die request Bibliothek ermöglicht es uns mittels GET request ein HTML von einem Webserver herunterzuladen, da dies BS4 nicht kann.\n",
        "import requests as rq  "
      ],
      "execution_count": 0,
      "outputs": []
    },
    {
      "cell_type": "code",
      "metadata": {
        "id": "SlXMNxm9-ZNh",
        "colab_type": "code",
        "outputId": "46e70fa9-8aae-4941-9765-e8b9f66f40c4",
        "colab": {
          "base_uri": "https://localhost:8080/",
          "height": 34
        }
      },
      "source": [
        "# Nun werden wir mit Hilfe von Reqiest eine Webseite herunterladen\n",
        "\n",
        "url = 'http://dataquestio.github.io/web-scraping-pages/simple.html'\n",
        "page = rq.get(url)\n",
        "page.status_code\n",
        "\n",
        "# Ist der Status Code 200, dann hat der Download funktioniert. Fängt der \n",
        "# Code mit 4 oder 5 an, dann besteht ein Error"
      ],
      "execution_count": 0,
      "outputs": [
        {
          "output_type": "execute_result",
          "data": {
            "text/plain": [
              "200"
            ]
          },
          "metadata": {
            "tags": []
          },
          "execution_count": 22
        }
      ]
    },
    {
      "cell_type": "code",
      "metadata": {
        "id": "I5CPZGJK_brT",
        "colab_type": "code",
        "outputId": "eeef4852-4e82-4a0e-aee1-70c836da568b",
        "colab": {
          "base_uri": "https://localhost:8080/",
          "height": 54
        }
      },
      "source": [
        "# Nun lassen wir uns mal den geladenen Inhalt anschauen\n",
        "\n",
        "page.content"
      ],
      "execution_count": 0,
      "outputs": [
        {
          "output_type": "execute_result",
          "data": {
            "text/plain": [
              "b'<!DOCTYPE html>\\n<html>\\n    <head>\\n        <title>A simple example page</title>\\n    </head>\\n    <body>\\n        <p>Here is some simple content for this page.</p>\\n    </body>\\n</html>'"
            ]
          },
          "metadata": {
            "tags": []
          },
          "execution_count": 9
        }
      ]
    },
    {
      "cell_type": "code",
      "metadata": {
        "id": "8khcOZif_3oy",
        "colab_type": "code",
        "outputId": "3e5cf509-d005-4318-bade-35d8e2753396",
        "colab": {
          "base_uri": "https://localhost:8080/",
          "height": 238
        }
      },
      "source": [
        "# Nun könnnen wir das heruntergeladene HTML Dokument parsern (analysieren)\n",
        "soup = BeautifulSoup(page.content, 'html.parser')\n",
        "print(soup.prettify())"
      ],
      "execution_count": 0,
      "outputs": [
        {
          "output_type": "stream",
          "text": [
            "<!DOCTYPE html>\n",
            "<html>\n",
            " <head>\n",
            "  <title>\n",
            "   A simple example page\n",
            "  </title>\n",
            " </head>\n",
            " <body>\n",
            "  <p>\n",
            "   Here is some simple content for this page.\n",
            "  </p>\n",
            " </body>\n",
            "</html>\n"
          ],
          "name": "stdout"
        }
      ]
    },
    {
      "cell_type": "code",
      "metadata": {
        "id": "3eixgStYBqWF",
        "colab_type": "code",
        "outputId": "27cfb591-a180-4e05-d6f5-f297070aa71a",
        "colab": {
          "base_uri": "https://localhost:8080/",
          "height": 153
        }
      },
      "source": [
        "list(soup.children)"
      ],
      "execution_count": 0,
      "outputs": [
        {
          "output_type": "execute_result",
          "data": {
            "text/plain": [
              "['html', '\\n', <html>\n",
              " <head>\n",
              " <title>A simple example page</title>\n",
              " </head>\n",
              " <body>\n",
              " <p>Here is some simple content for this page.</p>\n",
              " </body>\n",
              " </html>]"
            ]
          },
          "metadata": {
            "tags": []
          },
          "execution_count": 18
        }
      ]
    },
    {
      "cell_type": "code",
      "metadata": {
        "id": "EOycIMY-DHk-",
        "colab_type": "code",
        "outputId": "576b3dec-936e-4c7f-d902-67142cc2b711",
        "colab": {
          "base_uri": "https://localhost:8080/",
          "height": 34
        }
      },
      "source": [
        "[type(item) for item in list(soup.children)]"
      ],
      "execution_count": 0,
      "outputs": [
        {
          "output_type": "execute_result",
          "data": {
            "text/plain": [
              "[bs4.element.Doctype, bs4.element.NavigableString, bs4.element.Tag]"
            ]
          },
          "metadata": {
            "tags": []
          },
          "execution_count": 23
        }
      ]
    },
    {
      "cell_type": "markdown",
      "metadata": {
        "id": "XeuHVeVEr04x",
        "colab_type": "text"
      },
      "source": [
        "###Datenformate###\n",
        "\n",
        "Daten können beispielsweise direkt aus Datenbanken (Rationale DB, Polystrukturierte DB usw.) oder mittels Dateien extrahiert werden. Während man im Unternehmen selbst oft auf Datenbanken wie das Data Warehouse (DWH oder IWH) usw. mittels SQL zugreifen und Daten daraus extrahieren kann, sind im Internet verschiedene Dateiformate im Umlauf. Welches Format am Besten ist, ist oft eine philosophische Angelegenheit. Es gibt aber teilweise Unterschiede im Bezug auf die Performance beim Import (bspw. CSVs werden viel schneller geladen als XLSX) Nachfolgend die wichtigsten bzw. beliebtesten Formate (siehe detailierte Beschreibung ([Link](https://towardsdatascience.com/guide-to-file-formats-for-machine-learning-columnar-training-inferencing-and-the-feature-store-2e0c3d18d4f9)):\n",
        "\n",
        "* Columnar Data File Formats (Database-Files)\n",
        "  * .parquet\n",
        "  * .orc\n",
        "  * .petastorm\n",
        "* Tabular Text-based File Formats\n",
        "  * .csv\n",
        "  * .xlsx\n",
        "* Nested File Formats\n",
        "  * .tfrecords\n",
        "  * .json\n",
        "  * .xml\n",
        "  * .avro\n",
        "* Array-Based Formats\n",
        "  * .npy\n",
        "* Hierarchical Data Formats\n",
        " * .h5\n",
        " * .hdf5\n",
        " * .nc\n",
        "* Model File Formats\n",
        " * .pb\n",
        " * .onnx\n",
        " * .pkl\n",
        " * .mlmodel\n",
        " * .zip\n",
        " * .pmml\n",
        " * .pt\n",
        "\n",
        " Nachfolgend die verwendeten Datenformat noch nach Einsatzzweck:\n",
        "<img align=\"left\" src=\"https://miro.medium.com/max/715/0*H7CB1kGuukCv2rcK.png\" width=\"500\"/>\n",
        "<img align=\"left\" src=\"https://miro.medium.com/max/626/0*0MZyp6CdafGNrnUr.png\" width=\"500\"/>\n",
        "<img align=\"left\" src=\"https://miro.medium.com/max/713/0*phrNmrrcyoX-lnIE.png\" width=\"500\"/>\n",
        "\n",
        "\n"
      ]
    },
    {
      "cell_type": "markdown",
      "metadata": {
        "id": "FoNpJtqD1erP",
        "colab_type": "text"
      },
      "source": [
        "##Datenaufbereitung (Data Pre-Processing)##\n",
        "\n",
        "*Quelle: [Microsoft](https://docs.microsoft.com/de-de/azure/machine-learning/team-data-science-process/prepare-data)*\n",
        "\n",
        "Warum müssen Daten vorverarbeitet und bereinigt werden?\n",
        "Echte Daten stammen aus verschiedenen Quellen und Abläufen und können daher Unregelmäßigkeiten oder beschädigte Daten enthalten, die die Qualität des DataSets beeinträchtigen. Folgende Qualitätsprobleme treten bei Daten häufiger auf:\n",
        "* **Unvollständige Informationen**: Den Daten fehlen Attribute oder Werte.\n",
        "* **Überflüssige Informationen**: Die Daten enthalten fehlerhafte Datensätze oder Ausreißer.\n",
        "* **Inkonsistente Informationen**: Die Daten enthalten widersprüchliche Datensätze oder Abweichungen.\n",
        "\n",
        "Daten von hoher Qualität sind eine wichtige Voraussetzung für die Qualität von Vorhersagemodellen. Um schlechte Ergebnisse aufgrund schlechter Ausgangsdaten zu vermeiden und die Datenqualität und damit die Leistung des Modells zu verbessern, ist es unerlässlich, die Datenintegrität zu untersuchen, um Probleme mit den Daten frühzeitig zu erkennen und geeignete Schritte zur Vorverarbeitung und Bereinigung durchführen zu können.\n"
      ]
    },
    {
      "cell_type": "markdown",
      "metadata": {
        "id": "4vexp-ZwJWfG",
        "colab_type": "text"
      },
      "source": [
        "\n",
        "\n",
        "###Datensatzanalyse & Datenvorverarbeitung### \n",
        "\n",
        "\n",
        "\n",
        "\n"
      ]
    },
    {
      "cell_type": "markdown",
      "metadata": {
        "id": "K30KXvfZsFb2",
        "colab_type": "text"
      },
      "source": [
        "####Datenanalyse####\n",
        "Die allgemeine Qualität der Daten kann wie folgt überprüft werden:\n",
        "* Die Anzahl der **Datensätze**.\n",
        "* Die Anzahl der Attribute (oder **Features**).\n",
        "* Die Attribut-**Datentypen** (nummerische oder kategorische Werte).\n",
        "* Die Anzahl der fehlenden **Werte**.\n",
        "* **Struktur** der Daten.\n",
        "Wenn die Daten in TSV- oder CSV-Dateien gespeichert sind, sollten Sie prüfen,ob die Spalten- und Zeilentrennzeichen die Spalten und Zeilen auch immer richtig trennen.\n",
        "Bei Daten im HTML- oder XML-Format überprüfen Sie, ob die Daten gemäß den jeweiligen Standards gut strukturiert sind.\n",
        "Es ist möglicherweise eine Analyse erforderlich, um strukturierte Informationen aus teilweise strukturierten oder unstrukturierten Daten zu extrahieren.\n",
        "* **Inkonsistente** Datensätze. Überprüfen Sie den zulässigen Wertebereich. Wenn die Daten z.B. die Notendurchschnitte von Schülern enthalten, sollte der Durchschnitt im festgelegten Bereich liegen, also z.B. 0 bis 4.\n",
        "\n",
        "Wenn Sie Probleme für die Daten ermitteln, sind Verarbeitungsschritte erforderlich. Dazu gehören häufig die Bereinigung fehlender Werte, die Datennormalisierung, die Diskretisierung, die Textverarbeitung zum Entfernen und/oder Ersetzen eingebetteter Zeichen, die Einfluss auf die Datenausrichtung haben können, das Bereinigen gemischter Datentypen in gemeinsamen Feldern u. a.\n",
        "\n",
        "Meist visuelle Erkundung der Art und Struktur des Datensatzes und dessen Qualität. Oft wird in dieser Phase folgende Punkte ermittelt:\n",
        "  * Datentyp (nummerische oder kategorische Werte)\n",
        "  * Datensatzwerte (oft pro Feature):\n",
        "    * Anzahl Datensätze (Count)\n",
        "    * Anzahl fehlende Werte (Missing)\n",
        "    * Arihmetischer Mittelwert (Mean) -> nur nummerischen Features\n",
        "    * Zentralwert (Median)\n",
        "    * Häufigster Wert (Modus)\n",
        "    * Standardabweichung (Standard Deviation) zeigt Streuung der Werte bzw. wie\n",
        "      durchschnittliche Entfernung zum Mittelwert.\n",
        "    * Null-Werte (Zeros)\n",
        "    * Kleinster Wert (Min)\n",
        "    * Grösster Wert (Max)\n",
        "    * Anzahl einmaliger Werte (Uniques)\n",
        "    * Perzentil auch Quartil (1.Quartil = 25%, 2.Quartil = 50%    3.Quartil =    75%) besagt, dass ein bestimmter prozentualer Anteil der Beobachtungen unterhalb eines Wertes liegt. Beispiel 25% = 18 bedeutet, dass 25% der Werte unter 18 liegen. 2. Quartil bzw. 50% deckt sich immer mit dem arithmetischen Mittelwert.\n",
        "\n",
        "####Datenvorverarbeitung\n",
        "Die folgenden Tätigkeiten werden meist bereits während der Datenanalyse durchgeführt:\n",
        "* **Datenbereinigung**: Auffüllen fehlender Werte, Erkennen und Entfernen überflüssiger Daten und Ausreißer.\n",
        "* **Datentransformation**: Normalisierung der Daten, um Umfang und Störungen zu verringern.\n",
        "* **Datenreduzierung**: Erstellen von Stichproben aus den Datensätzen oder Attributen zur einfacheren Datenverarbeitung.\n",
        "* **Datendiskretisierung**: Konvertieren kontinuierlicher Attribute in kategorische Attribute zur einfacheren Verwendung in bestimmten Machine Learning-Methoden.\n",
        "* **Textbereinigung**: Entfernen eingebetteter Zeichen, die zu einer falschen Datenausrichtung führen können, z. B. eingebetteter Tabstopps in tabstoppgetrennten Dateien oder eingebetteter Zeilenumbrüche, die Datensätze unterbrechen könnten, usw.\n",
        "\n",
        "Bei fehlenden Werten empfiehlt es sich, zunächst den Grund für die fehlenden Werte zu ermitteln, um das Problem besser angehen zu können. Folgende Vorgehensweisen werden bei fehlenden Werten häufig angewendet:\n",
        "* **Löschen**: Entfernen von Datensätze mit fehlenden Werten.\n",
        "* **Ersetzen durch Platzhalterwerte**: Ersetzen fehlender Werte durch Platzhalterwerte: z.B. unbekannt bei kategorischen oder „0“ bei numerischen Werten.\n",
        "Ersetzen durch Mittelwerte: Ersetzen fehlender numerischer Daten durch Mittelwerte.\n",
        "* **Ersetzen durch häufige Werte**: Ersetzen fehlender kategorischer Daten durch den häufigsten Eintrag.\n",
        "* **Ersetzen durch Regressionswerte**: Verwenden eines Regressionsverfahren, um fehlende Werte durch Regressionswerte zu ersetzen\n"
      ]
    },
    {
      "cell_type": "markdown",
      "metadata": {
        "id": "ehw67eDEr11r",
        "colab_type": "text"
      },
      "source": [
        "####Tools####\n",
        "\n",
        "Für die Datensatzanalyse bzw. Erkundung der Daten bestehen verschiedene Methoden und Tools. Nachfolgenden werden ein paar mögliche Toosl und Methoden vorgestellt:"
      ]
    },
    {
      "cell_type": "markdown",
      "metadata": {
        "id": "EgYQBTO5RM-H",
        "colab_type": "text"
      },
      "source": [
        "#####**Python**#####\n",
        "\n",
        "In erster Line kann eine Datensatzanalyse mittels den Boardmittel von Python gemacht werden. Nachfolgend die wichtigsten Befehlen zur Sichtung der Datenstruktur"
      ]
    },
    {
      "cell_type": "code",
      "metadata": {
        "id": "eXLM3sg1RxqB",
        "colab_type": "code",
        "outputId": "33419807-d5c2-4dce-ca39-4a1fd5af5fef",
        "colab": {
          "base_uri": "https://localhost:8080/",
          "height": 204
        }
      },
      "source": [
        "import pandas as pd\n",
        "import numpy as np\n",
        "\n",
        "datloc = 'https://raw.githubusercontent.com/sakuronohana/my_datascience/master/datasets/new_strada2_data_2738408.csv'\n",
        "datload = pd.read_csv(datloc)\n",
        "datload.head()"
      ],
      "execution_count": 0,
      "outputs": [
        {
          "output_type": "execute_result",
          "data": {
            "text/html": [
              "<div>\n",
              "<style scoped>\n",
              "    .dataframe tbody tr th:only-of-type {\n",
              "        vertical-align: middle;\n",
              "    }\n",
              "\n",
              "    .dataframe tbody tr th {\n",
              "        vertical-align: top;\n",
              "    }\n",
              "\n",
              "    .dataframe thead th {\n",
              "        text-align: right;\n",
              "    }\n",
              "</style>\n",
              "<table border=\"1\" class=\"dataframe\">\n",
              "  <thead>\n",
              "    <tr style=\"text-align: right;\">\n",
              "      <th></th>\n",
              "      <th>Unnamed: 0</th>\n",
              "      <th>Unnamed: 0.1</th>\n",
              "      <th>BFS_NR</th>\n",
              "      <th>GEBIET_NAME</th>\n",
              "      <th>THEMA_NAME</th>\n",
              "      <th>SET_NAME</th>\n",
              "      <th>SUBSET_NAME</th>\n",
              "      <th>INDIKATOR_ID</th>\n",
              "      <th>INDIKATOR_NAME</th>\n",
              "      <th>INDIKATOR_JAHR</th>\n",
              "      <th>INDIKATOR_VALUE</th>\n",
              "      <th>EINHEIT_KURZ</th>\n",
              "      <th>EINHEIT_LANG</th>\n",
              "      <th>Unnamed: 11</th>\n",
              "    </tr>\n",
              "  </thead>\n",
              "  <tbody>\n",
              "    <tr>\n",
              "      <th>0</th>\n",
              "      <td>0</td>\n",
              "      <td>NaN</td>\n",
              "      <td>3251</td>\n",
              "      <td>Altstätten</td>\n",
              "      <td>Energie</td>\n",
              "      <td>Gasverbrauch</td>\n",
              "      <td>NaN</td>\n",
              "      <td>570</td>\n",
              "      <td>Gasverbrauch Total [MWh]</td>\n",
              "      <td>2013</td>\n",
              "      <td>32838.0</td>\n",
              "      <td>MWh</td>\n",
              "      <td>Megawattstunden</td>\n",
              "      <td>NaN</td>\n",
              "    </tr>\n",
              "    <tr>\n",
              "      <th>1</th>\n",
              "      <td>1</td>\n",
              "      <td>1.0</td>\n",
              "      <td>3251</td>\n",
              "      <td>Altstätten</td>\n",
              "      <td>Energie</td>\n",
              "      <td>Gasverbrauch</td>\n",
              "      <td>NaN</td>\n",
              "      <td>570</td>\n",
              "      <td>Gasverbrauch Total [MWh]</td>\n",
              "      <td>2014</td>\n",
              "      <td>26909.0</td>\n",
              "      <td>MWh</td>\n",
              "      <td>Megawattstunden</td>\n",
              "      <td>NaN</td>\n",
              "    </tr>\n",
              "    <tr>\n",
              "      <th>2</th>\n",
              "      <td>2</td>\n",
              "      <td>2.0</td>\n",
              "      <td>3251</td>\n",
              "      <td>Altstätten</td>\n",
              "      <td>Energie</td>\n",
              "      <td>Gasverbrauch</td>\n",
              "      <td>NaN</td>\n",
              "      <td>570</td>\n",
              "      <td>Gasverbrauch Total [MWh]</td>\n",
              "      <td>2015</td>\n",
              "      <td>27777.0</td>\n",
              "      <td>MWh</td>\n",
              "      <td>Megawattstunden</td>\n",
              "      <td>NaN</td>\n",
              "    </tr>\n",
              "    <tr>\n",
              "      <th>3</th>\n",
              "      <td>3</td>\n",
              "      <td>3.0</td>\n",
              "      <td>3251</td>\n",
              "      <td>Altstätten</td>\n",
              "      <td>Energie</td>\n",
              "      <td>Gasverbrauch</td>\n",
              "      <td>NaN</td>\n",
              "      <td>570</td>\n",
              "      <td>Gasverbrauch Total [MWh]</td>\n",
              "      <td>2016</td>\n",
              "      <td>27936.0</td>\n",
              "      <td>MWh</td>\n",
              "      <td>Megawattstunden</td>\n",
              "      <td>NaN</td>\n",
              "    </tr>\n",
              "    <tr>\n",
              "      <th>4</th>\n",
              "      <td>4</td>\n",
              "      <td>4.0</td>\n",
              "      <td>3251</td>\n",
              "      <td>Altstätten</td>\n",
              "      <td>Energie</td>\n",
              "      <td>Gasverbrauch</td>\n",
              "      <td>NaN</td>\n",
              "      <td>570</td>\n",
              "      <td>Gasverbrauch Total [MWh]</td>\n",
              "      <td>2017</td>\n",
              "      <td>30093.0</td>\n",
              "      <td>MWh</td>\n",
              "      <td>Megawattstunden</td>\n",
              "      <td>NaN</td>\n",
              "    </tr>\n",
              "  </tbody>\n",
              "</table>\n",
              "</div>"
            ],
            "text/plain": [
              "   Unnamed: 0  Unnamed: 0.1  BFS_NR  ... EINHEIT_KURZ     EINHEIT_LANG Unnamed: 11\n",
              "0           0           NaN    3251  ...          MWh  Megawattstunden         NaN\n",
              "1           1           1.0    3251  ...          MWh  Megawattstunden         NaN\n",
              "2           2           2.0    3251  ...          MWh  Megawattstunden         NaN\n",
              "3           3           3.0    3251  ...          MWh  Megawattstunden         NaN\n",
              "4           4           4.0    3251  ...          MWh  Megawattstunden         NaN\n",
              "\n",
              "[5 rows x 14 columns]"
            ]
          },
          "metadata": {
            "tags": []
          },
          "execution_count": 24
        }
      ]
    },
    {
      "cell_type": "code",
      "metadata": {
        "id": "9Pk3AGQCmEzS",
        "colab_type": "code",
        "colab": {}
      },
      "source": [
        "datanaly = datload.drop(['Unnamed: 0','Unnamed: 0.1','Unnamed: 11'], axis=1)"
      ],
      "execution_count": 0,
      "outputs": []
    },
    {
      "cell_type": "code",
      "metadata": {
        "id": "cJ0cEA0QSI0o",
        "colab_type": "code",
        "outputId": "4ec14051-0f25-431f-f133-a7f805b54ae0",
        "colab": {
          "base_uri": "https://localhost:8080/",
          "height": 289
        }
      },
      "source": [
        "''' Mit der Methode info() lässt sich ein kurze Beschreibung pro Merkmal inkl. Anzahl Zeilen, Anzahl Wert ungleich Null, Datentyp und Speichernutzung darstellen '''\n",
        "\n",
        "datanaly.info()"
      ],
      "execution_count": 0,
      "outputs": [
        {
          "output_type": "stream",
          "text": [
            "<class 'pandas.core.frame.DataFrame'>\n",
            "RangeIndex: 56 entries, 0 to 55\n",
            "Data columns (total 11 columns):\n",
            "BFS_NR             56 non-null int64\n",
            "GEBIET_NAME        56 non-null object\n",
            "THEMA_NAME         56 non-null object\n",
            "SET_NAME           56 non-null object\n",
            "SUBSET_NAME        0 non-null float64\n",
            "INDIKATOR_ID       56 non-null int64\n",
            "INDIKATOR_NAME     56 non-null object\n",
            "INDIKATOR_JAHR     56 non-null int64\n",
            "INDIKATOR_VALUE    55 non-null float64\n",
            "EINHEIT_KURZ       56 non-null object\n",
            "EINHEIT_LANG       56 non-null object\n",
            "dtypes: float64(2), int64(3), object(6)\n",
            "memory usage: 4.9+ KB\n"
          ],
          "name": "stdout"
        }
      ]
    },
    {
      "cell_type": "markdown",
      "metadata": {
        "id": "ll59EIGdsHaZ",
        "colab_type": "text"
      },
      "source": [
        "**Hinweis**: In der Datensatzinformation sehen wir beispielsweise, dass das Feature SUBSET_NAME keine Wert bzw. nur die Werte NaN enthalten. Wir können somit dieses Feature ignorieren bzw. löschen."
      ]
    },
    {
      "cell_type": "code",
      "metadata": {
        "id": "EUqJ55QztA6t",
        "colab_type": "code",
        "colab": {}
      },
      "source": [
        "datanaly = datanaly.drop('SUBSET_NAME', axis=1)"
      ],
      "execution_count": 0,
      "outputs": []
    },
    {
      "cell_type": "code",
      "metadata": {
        "id": "YSg_Zt1jTD2s",
        "colab_type": "code",
        "outputId": "d39f946c-9127-48e0-ee1c-20147045a720",
        "colab": {
          "base_uri": "https://localhost:8080/",
          "height": 297
        }
      },
      "source": [
        "''' Mit describe() ermitteln wir die wichtigsten Werte pro nummerisches Merkmal (ohne objects)\n",
        "siehe Erklärung oben \n",
        "'''\n",
        "\n",
        "datanaly.describe()"
      ],
      "execution_count": 0,
      "outputs": [
        {
          "output_type": "execute_result",
          "data": {
            "text/html": [
              "<div>\n",
              "<style scoped>\n",
              "    .dataframe tbody tr th:only-of-type {\n",
              "        vertical-align: middle;\n",
              "    }\n",
              "\n",
              "    .dataframe tbody tr th {\n",
              "        vertical-align: top;\n",
              "    }\n",
              "\n",
              "    .dataframe thead th {\n",
              "        text-align: right;\n",
              "    }\n",
              "</style>\n",
              "<table border=\"1\" class=\"dataframe\">\n",
              "  <thead>\n",
              "    <tr style=\"text-align: right;\">\n",
              "      <th></th>\n",
              "      <th>BFS_NR</th>\n",
              "      <th>INDIKATOR_ID</th>\n",
              "      <th>INDIKATOR_JAHR</th>\n",
              "      <th>INDIKATOR_VALUE</th>\n",
              "    </tr>\n",
              "  </thead>\n",
              "  <tbody>\n",
              "    <tr>\n",
              "      <th>count</th>\n",
              "      <td>56.0</td>\n",
              "      <td>56.000000</td>\n",
              "      <td>56.000000</td>\n",
              "      <td>55.000000</td>\n",
              "    </tr>\n",
              "    <tr>\n",
              "      <th>mean</th>\n",
              "      <td>3251.0</td>\n",
              "      <td>575.250000</td>\n",
              "      <td>2015.142857</td>\n",
              "      <td>17690.158182</td>\n",
              "    </tr>\n",
              "    <tr>\n",
              "      <th>std</th>\n",
              "      <td>0.0</td>\n",
              "      <td>3.444363</td>\n",
              "      <td>1.367527</td>\n",
              "      <td>22151.306149</td>\n",
              "    </tr>\n",
              "    <tr>\n",
              "      <th>min</th>\n",
              "      <td>3251.0</td>\n",
              "      <td>570.000000</td>\n",
              "      <td>2013.000000</td>\n",
              "      <td>3.700000</td>\n",
              "    </tr>\n",
              "    <tr>\n",
              "      <th>25%</th>\n",
              "      <td>3251.0</td>\n",
              "      <td>572.000000</td>\n",
              "      <td>2014.000000</td>\n",
              "      <td>47.500000</td>\n",
              "    </tr>\n",
              "    <tr>\n",
              "      <th>50%</th>\n",
              "      <td>3251.0</td>\n",
              "      <td>575.000000</td>\n",
              "      <td>2015.000000</td>\n",
              "      <td>3716.000000</td>\n",
              "    </tr>\n",
              "    <tr>\n",
              "      <th>75%</th>\n",
              "      <td>3251.0</td>\n",
              "      <td>578.000000</td>\n",
              "      <td>2016.000000</td>\n",
              "      <td>30401.000000</td>\n",
              "    </tr>\n",
              "    <tr>\n",
              "      <th>max</th>\n",
              "      <td>3251.0</td>\n",
              "      <td>581.000000</td>\n",
              "      <td>2017.000000</td>\n",
              "      <td>77874.000000</td>\n",
              "    </tr>\n",
              "  </tbody>\n",
              "</table>\n",
              "</div>"
            ],
            "text/plain": [
              "       BFS_NR  INDIKATOR_ID  INDIKATOR_JAHR  INDIKATOR_VALUE\n",
              "count    56.0     56.000000       56.000000        55.000000\n",
              "mean   3251.0    575.250000     2015.142857     17690.158182\n",
              "std       0.0      3.444363        1.367527     22151.306149\n",
              "min    3251.0    570.000000     2013.000000         3.700000\n",
              "25%    3251.0    572.000000     2014.000000        47.500000\n",
              "50%    3251.0    575.000000     2015.000000      3716.000000\n",
              "75%    3251.0    578.000000     2016.000000     30401.000000\n",
              "max    3251.0    581.000000     2017.000000     77874.000000"
            ]
          },
          "metadata": {
            "tags": []
          },
          "execution_count": 18
        }
      ]
    },
    {
      "cell_type": "markdown",
      "metadata": {
        "id": "Hh_9r4H4tsK_",
        "colab_type": "text"
      },
      "source": [
        "**Hinweis**: Die Datensatzbeschreibungen sollte jeweils mit Vorsicht bedacht werden. So verbirgt sich hinter dem Wert INDIKATOR_VALUE in diesem Datensatz sowohl die Anzahl verbrachtes Gas wie auch Strom. Es lohnt gerade in diesem Fall zusätzlich noch eine Gruppierung vorzunehmen damit die Beschreibung noch etwas klarer wird.\n",
        "Weiter können wir in der Beschreibung sehen, dass das Feature BFS_NR überall den gleichen Wert anzeigt, was daraufhin deutet, dass es nur diesen einen Wert gibt. Wir können somit dieses Feature auch ausschliessen."
      ]
    },
    {
      "cell_type": "code",
      "metadata": {
        "id": "tIimU5V3vQGM",
        "colab_type": "code",
        "outputId": "f2243ea4-ef45-4cb3-f048-0ce26511be5f",
        "colab": {
          "base_uri": "https://localhost:8080/",
          "height": 500
        }
      },
      "source": [
        "datanaly = datanaly.drop('BFS_NR', axis=1)\n",
        "\n",
        "datanaly.groupby('INDIKATOR_NAME').describe()"
      ],
      "execution_count": 0,
      "outputs": [
        {
          "output_type": "execute_result",
          "data": {
            "text/html": [
              "<div>\n",
              "<style scoped>\n",
              "    .dataframe tbody tr th:only-of-type {\n",
              "        vertical-align: middle;\n",
              "    }\n",
              "\n",
              "    .dataframe tbody tr th {\n",
              "        vertical-align: top;\n",
              "    }\n",
              "\n",
              "    .dataframe thead tr th {\n",
              "        text-align: left;\n",
              "    }\n",
              "\n",
              "    .dataframe thead tr:last-of-type th {\n",
              "        text-align: right;\n",
              "    }\n",
              "</style>\n",
              "<table border=\"1\" class=\"dataframe\">\n",
              "  <thead>\n",
              "    <tr>\n",
              "      <th></th>\n",
              "      <th colspan=\"8\" halign=\"left\">INDIKATOR_ID</th>\n",
              "      <th colspan=\"8\" halign=\"left\">INDIKATOR_JAHR</th>\n",
              "      <th colspan=\"8\" halign=\"left\">INDIKATOR_VALUE</th>\n",
              "    </tr>\n",
              "    <tr>\n",
              "      <th></th>\n",
              "      <th>count</th>\n",
              "      <th>mean</th>\n",
              "      <th>std</th>\n",
              "      <th>min</th>\n",
              "      <th>25%</th>\n",
              "      <th>50%</th>\n",
              "      <th>75%</th>\n",
              "      <th>max</th>\n",
              "      <th>count</th>\n",
              "      <th>mean</th>\n",
              "      <th>std</th>\n",
              "      <th>min</th>\n",
              "      <th>25%</th>\n",
              "      <th>50%</th>\n",
              "      <th>75%</th>\n",
              "      <th>max</th>\n",
              "      <th>count</th>\n",
              "      <th>mean</th>\n",
              "      <th>std</th>\n",
              "      <th>min</th>\n",
              "      <th>25%</th>\n",
              "      <th>50%</th>\n",
              "      <th>75%</th>\n",
              "      <th>max</th>\n",
              "    </tr>\n",
              "    <tr>\n",
              "      <th>INDIKATOR_NAME</th>\n",
              "      <th></th>\n",
              "      <th></th>\n",
              "      <th></th>\n",
              "      <th></th>\n",
              "      <th></th>\n",
              "      <th></th>\n",
              "      <th></th>\n",
              "      <th></th>\n",
              "      <th></th>\n",
              "      <th></th>\n",
              "      <th></th>\n",
              "      <th></th>\n",
              "      <th></th>\n",
              "      <th></th>\n",
              "      <th></th>\n",
              "      <th></th>\n",
              "      <th></th>\n",
              "      <th></th>\n",
              "      <th></th>\n",
              "      <th></th>\n",
              "      <th></th>\n",
              "      <th></th>\n",
              "      <th></th>\n",
              "      <th></th>\n",
              "    </tr>\n",
              "  </thead>\n",
              "  <tbody>\n",
              "    <tr>\n",
              "      <th>Gasverbrauch Gewerbe [MWh]</th>\n",
              "      <td>5.0</td>\n",
              "      <td>572.0</td>\n",
              "      <td>0.0</td>\n",
              "      <td>572.0</td>\n",
              "      <td>572.0</td>\n",
              "      <td>572.0</td>\n",
              "      <td>572.0</td>\n",
              "      <td>572.0</td>\n",
              "      <td>5.0</td>\n",
              "      <td>2015.0</td>\n",
              "      <td>1.581139</td>\n",
              "      <td>2013.0</td>\n",
              "      <td>2014.00</td>\n",
              "      <td>2015.0</td>\n",
              "      <td>2016.00</td>\n",
              "      <td>2017.0</td>\n",
              "      <td>5.0</td>\n",
              "      <td>3996.80</td>\n",
              "      <td>1822.182538</td>\n",
              "      <td>2984.0</td>\n",
              "      <td>3004.000</td>\n",
              "      <td>3354.00</td>\n",
              "      <td>3404.000</td>\n",
              "      <td>7238.0</td>\n",
              "    </tr>\n",
              "    <tr>\n",
              "      <th>Gasverbrauch Haushalte [MWh]</th>\n",
              "      <td>5.0</td>\n",
              "      <td>571.0</td>\n",
              "      <td>0.0</td>\n",
              "      <td>571.0</td>\n",
              "      <td>571.0</td>\n",
              "      <td>571.0</td>\n",
              "      <td>571.0</td>\n",
              "      <td>571.0</td>\n",
              "      <td>5.0</td>\n",
              "      <td>2015.0</td>\n",
              "      <td>1.581139</td>\n",
              "      <td>2013.0</td>\n",
              "      <td>2014.00</td>\n",
              "      <td>2015.0</td>\n",
              "      <td>2016.00</td>\n",
              "      <td>2017.0</td>\n",
              "      <td>5.0</td>\n",
              "      <td>24538.40</td>\n",
              "      <td>1366.117967</td>\n",
              "      <td>22947.0</td>\n",
              "      <td>23604.000</td>\n",
              "      <td>24306.00</td>\n",
              "      <td>25600.000</td>\n",
              "      <td>26235.0</td>\n",
              "    </tr>\n",
              "    <tr>\n",
              "      <th>Gasverbrauch Industrie [MWh]</th>\n",
              "      <td>5.0</td>\n",
              "      <td>573.0</td>\n",
              "      <td>0.0</td>\n",
              "      <td>573.0</td>\n",
              "      <td>573.0</td>\n",
              "      <td>573.0</td>\n",
              "      <td>573.0</td>\n",
              "      <td>573.0</td>\n",
              "      <td>5.0</td>\n",
              "      <td>2015.0</td>\n",
              "      <td>1.581139</td>\n",
              "      <td>2013.0</td>\n",
              "      <td>2014.00</td>\n",
              "      <td>2015.0</td>\n",
              "      <td>2016.00</td>\n",
              "      <td>2017.0</td>\n",
              "      <td>4.0</td>\n",
              "      <td>718.75</td>\n",
              "      <td>125.282015</td>\n",
              "      <td>608.0</td>\n",
              "      <td>621.500</td>\n",
              "      <td>697.00</td>\n",
              "      <td>794.250</td>\n",
              "      <td>873.0</td>\n",
              "    </tr>\n",
              "    <tr>\n",
              "      <th>Gasverbrauch Total [MWh]</th>\n",
              "      <td>5.0</td>\n",
              "      <td>570.0</td>\n",
              "      <td>0.0</td>\n",
              "      <td>570.0</td>\n",
              "      <td>570.0</td>\n",
              "      <td>570.0</td>\n",
              "      <td>570.0</td>\n",
              "      <td>570.0</td>\n",
              "      <td>5.0</td>\n",
              "      <td>2015.0</td>\n",
              "      <td>1.581139</td>\n",
              "      <td>2013.0</td>\n",
              "      <td>2014.00</td>\n",
              "      <td>2015.0</td>\n",
              "      <td>2016.00</td>\n",
              "      <td>2017.0</td>\n",
              "      <td>5.0</td>\n",
              "      <td>29110.60</td>\n",
              "      <td>2390.807249</td>\n",
              "      <td>26909.0</td>\n",
              "      <td>27777.000</td>\n",
              "      <td>27936.00</td>\n",
              "      <td>30093.000</td>\n",
              "      <td>32838.0</td>\n",
              "    </tr>\n",
              "    <tr>\n",
              "      <th>Stromverbrauch Grossverbraucher [%]</th>\n",
              "      <td>4.0</td>\n",
              "      <td>581.0</td>\n",
              "      <td>0.0</td>\n",
              "      <td>581.0</td>\n",
              "      <td>581.0</td>\n",
              "      <td>581.0</td>\n",
              "      <td>581.0</td>\n",
              "      <td>581.0</td>\n",
              "      <td>4.0</td>\n",
              "      <td>2015.5</td>\n",
              "      <td>1.290994</td>\n",
              "      <td>2014.0</td>\n",
              "      <td>2014.75</td>\n",
              "      <td>2015.5</td>\n",
              "      <td>2016.25</td>\n",
              "      <td>2017.0</td>\n",
              "      <td>4.0</td>\n",
              "      <td>48.45</td>\n",
              "      <td>2.490649</td>\n",
              "      <td>45.7</td>\n",
              "      <td>46.675</td>\n",
              "      <td>48.65</td>\n",
              "      <td>50.425</td>\n",
              "      <td>50.8</td>\n",
              "    </tr>\n",
              "    <tr>\n",
              "      <th>Stromverbrauch Grossverbraucher [MWh]</th>\n",
              "      <td>4.0</td>\n",
              "      <td>578.0</td>\n",
              "      <td>0.0</td>\n",
              "      <td>578.0</td>\n",
              "      <td>578.0</td>\n",
              "      <td>578.0</td>\n",
              "      <td>578.0</td>\n",
              "      <td>578.0</td>\n",
              "      <td>4.0</td>\n",
              "      <td>2015.5</td>\n",
              "      <td>1.290994</td>\n",
              "      <td>2014.0</td>\n",
              "      <td>2014.75</td>\n",
              "      <td>2015.5</td>\n",
              "      <td>2016.25</td>\n",
              "      <td>2017.0</td>\n",
              "      <td>4.0</td>\n",
              "      <td>34355.25</td>\n",
              "      <td>3716.550406</td>\n",
              "      <td>29508.0</td>\n",
              "      <td>32471.250</td>\n",
              "      <td>35059.00</td>\n",
              "      <td>36943.000</td>\n",
              "      <td>37795.0</td>\n",
              "    </tr>\n",
              "    <tr>\n",
              "      <th>Stromverbrauch Kleinverbraucher [%]</th>\n",
              "      <td>5.0</td>\n",
              "      <td>579.0</td>\n",
              "      <td>0.0</td>\n",
              "      <td>579.0</td>\n",
              "      <td>579.0</td>\n",
              "      <td>579.0</td>\n",
              "      <td>579.0</td>\n",
              "      <td>579.0</td>\n",
              "      <td>5.0</td>\n",
              "      <td>2015.0</td>\n",
              "      <td>1.581139</td>\n",
              "      <td>2013.0</td>\n",
              "      <td>2014.00</td>\n",
              "      <td>2015.0</td>\n",
              "      <td>2016.00</td>\n",
              "      <td>2017.0</td>\n",
              "      <td>5.0</td>\n",
              "      <td>45.04</td>\n",
              "      <td>3.219161</td>\n",
              "      <td>40.9</td>\n",
              "      <td>43.700</td>\n",
              "      <td>44.00</td>\n",
              "      <td>48.000</td>\n",
              "      <td>48.6</td>\n",
              "    </tr>\n",
              "    <tr>\n",
              "      <th>Stromverbrauch Kleinverbraucher [MWh]</th>\n",
              "      <td>5.0</td>\n",
              "      <td>576.0</td>\n",
              "      <td>0.0</td>\n",
              "      <td>576.0</td>\n",
              "      <td>576.0</td>\n",
              "      <td>576.0</td>\n",
              "      <td>576.0</td>\n",
              "      <td>576.0</td>\n",
              "      <td>5.0</td>\n",
              "      <td>2015.0</td>\n",
              "      <td>1.581139</td>\n",
              "      <td>2013.0</td>\n",
              "      <td>2014.00</td>\n",
              "      <td>2015.0</td>\n",
              "      <td>2016.00</td>\n",
              "      <td>2017.0</td>\n",
              "      <td>5.0</td>\n",
              "      <td>32467.40</td>\n",
              "      <td>2766.856935</td>\n",
              "      <td>30709.0</td>\n",
              "      <td>31071.000</td>\n",
              "      <td>31434.00</td>\n",
              "      <td>31756.000</td>\n",
              "      <td>37367.0</td>\n",
              "    </tr>\n",
              "    <tr>\n",
              "      <th>Stromverbrauch Total [MWh/Energienutzer]</th>\n",
              "      <td>5.0</td>\n",
              "      <td>575.0</td>\n",
              "      <td>0.0</td>\n",
              "      <td>575.0</td>\n",
              "      <td>575.0</td>\n",
              "      <td>575.0</td>\n",
              "      <td>575.0</td>\n",
              "      <td>575.0</td>\n",
              "      <td>5.0</td>\n",
              "      <td>2015.0</td>\n",
              "      <td>1.581139</td>\n",
              "      <td>2013.0</td>\n",
              "      <td>2014.00</td>\n",
              "      <td>2015.0</td>\n",
              "      <td>2016.00</td>\n",
              "      <td>2017.0</td>\n",
              "      <td>5.0</td>\n",
              "      <td>4.14</td>\n",
              "      <td>0.296648</td>\n",
              "      <td>3.7</td>\n",
              "      <td>4.100</td>\n",
              "      <td>4.10</td>\n",
              "      <td>4.300</td>\n",
              "      <td>4.5</td>\n",
              "    </tr>\n",
              "    <tr>\n",
              "      <th>Stromverbrauch Total [MWh]</th>\n",
              "      <td>5.0</td>\n",
              "      <td>574.0</td>\n",
              "      <td>0.0</td>\n",
              "      <td>574.0</td>\n",
              "      <td>574.0</td>\n",
              "      <td>574.0</td>\n",
              "      <td>574.0</td>\n",
              "      <td>574.0</td>\n",
              "      <td>5.0</td>\n",
              "      <td>2015.0</td>\n",
              "      <td>1.581139</td>\n",
              "      <td>2013.0</td>\n",
              "      <td>2014.00</td>\n",
              "      <td>2015.0</td>\n",
              "      <td>2016.00</td>\n",
              "      <td>2017.0</td>\n",
              "      <td>5.0</td>\n",
              "      <td>72189.20</td>\n",
              "      <td>4981.817510</td>\n",
              "      <td>64626.0</td>\n",
              "      <td>71173.000</td>\n",
              "      <td>72131.00</td>\n",
              "      <td>75142.000</td>\n",
              "      <td>77874.0</td>\n",
              "    </tr>\n",
              "    <tr>\n",
              "      <th>Stromverbrauch mittelgrosse Verbraucher [%]</th>\n",
              "      <td>4.0</td>\n",
              "      <td>580.0</td>\n",
              "      <td>0.0</td>\n",
              "      <td>580.0</td>\n",
              "      <td>580.0</td>\n",
              "      <td>580.0</td>\n",
              "      <td>580.0</td>\n",
              "      <td>580.0</td>\n",
              "      <td>4.0</td>\n",
              "      <td>2015.5</td>\n",
              "      <td>1.290994</td>\n",
              "      <td>2014.0</td>\n",
              "      <td>2014.75</td>\n",
              "      <td>2015.5</td>\n",
              "      <td>2016.25</td>\n",
              "      <td>2017.0</td>\n",
              "      <td>4.0</td>\n",
              "      <td>7.25</td>\n",
              "      <td>2.098412</td>\n",
              "      <td>5.2</td>\n",
              "      <td>5.575</td>\n",
              "      <td>7.25</td>\n",
              "      <td>8.925</td>\n",
              "      <td>9.3</td>\n",
              "    </tr>\n",
              "    <tr>\n",
              "      <th>Stromverbrauch mittelgrosse Verbraucher [MWh]</th>\n",
              "      <td>4.0</td>\n",
              "      <td>577.0</td>\n",
              "      <td>0.0</td>\n",
              "      <td>577.0</td>\n",
              "      <td>577.0</td>\n",
              "      <td>577.0</td>\n",
              "      <td>577.0</td>\n",
              "      <td>577.0</td>\n",
              "      <td>4.0</td>\n",
              "      <td>2015.5</td>\n",
              "      <td>1.290994</td>\n",
              "      <td>2014.0</td>\n",
              "      <td>2014.75</td>\n",
              "      <td>2015.5</td>\n",
              "      <td>2016.25</td>\n",
              "      <td>2017.0</td>\n",
              "      <td>4.0</td>\n",
              "      <td>5170.50</td>\n",
              "      <td>1698.038182</td>\n",
              "      <td>3684.0</td>\n",
              "      <td>3708.000</td>\n",
              "      <td>5177.50</td>\n",
              "      <td>6640.000</td>\n",
              "      <td>6643.0</td>\n",
              "    </tr>\n",
              "  </tbody>\n",
              "</table>\n",
              "</div>"
            ],
            "text/plain": [
              "                                              INDIKATOR_ID  ... INDIKATOR_VALUE\n",
              "                                                     count  ...             max\n",
              "INDIKATOR_NAME                                              ...                \n",
              "Gasverbrauch Gewerbe [MWh]                             5.0  ...          7238.0\n",
              "Gasverbrauch Haushalte [MWh]                           5.0  ...         26235.0\n",
              "Gasverbrauch Industrie [MWh]                           5.0  ...           873.0\n",
              "Gasverbrauch Total [MWh]                               5.0  ...         32838.0\n",
              "Stromverbrauch Grossverbraucher [%]                    4.0  ...            50.8\n",
              "Stromverbrauch Grossverbraucher [MWh]                  4.0  ...         37795.0\n",
              "Stromverbrauch Kleinverbraucher [%]                    5.0  ...            48.6\n",
              "Stromverbrauch Kleinverbraucher [MWh]                  5.0  ...         37367.0\n",
              "Stromverbrauch Total [MWh/Energienutzer]               5.0  ...             4.5\n",
              "Stromverbrauch Total [MWh]                             5.0  ...         77874.0\n",
              "Stromverbrauch mittelgrosse Verbraucher [%]            4.0  ...             9.3\n",
              "Stromverbrauch mittelgrosse Verbraucher [MWh]          4.0  ...          6643.0\n",
              "\n",
              "[12 rows x 24 columns]"
            ]
          },
          "metadata": {
            "tags": []
          },
          "execution_count": 19
        }
      ]
    },
    {
      "cell_type": "markdown",
      "metadata": {
        "id": "kNtBReyUvg0I",
        "colab_type": "text"
      },
      "source": [
        "Eine weitere gute Möglichkeit das Wertverhälnis in einem Datensatz visuell darzustellen ist das Histogramm. Das **Histogramm** zeigt die Anzahl Datenpunkte auf der vertikalen Achse (Y) die in einem bestimmen Wertebereich auf der horizontalen Achse (X) liegen."
      ]
    },
    {
      "cell_type": "code",
      "metadata": {
        "id": "-c56OnGKwrfo",
        "colab_type": "code",
        "outputId": "8ca121e9-488e-491d-80e1-d54c33867ca5",
        "colab": {
          "base_uri": "https://localhost:8080/",
          "height": 608
        }
      },
      "source": [
        "# Für die Darstellung des Histogramm Plots benötigen wir die Matplotlib Library.\n",
        "# so lässt sich das Histogramm im Jupyter Notebook darstellen\n",
        "\n",
        "%matplotlib inline \n",
        "import matplotlib.pyplot as plt\n",
        "\n",
        "datanaly.hist (bins=50, figsize=(10,10))\n",
        "plt.show()"
      ],
      "execution_count": 0,
      "outputs": [
        {
          "output_type": "display_data",
          "data": {
            "image/png": "[encoded data removed]",
            "text/plain": [
              "<Figure size 720x720 with 4 Axes>"
            ]
          },
          "metadata": {
            "tags": []
          }
        }
      ]
    },
    {
      "cell_type": "markdown",
      "metadata": {
        "id": "3qBpC7wuzO96",
        "colab_type": "text"
      },
      "source": [
        "**Hinweis**: Im Histogramm sehen wir beim Merkmal INDIKATOR_JAHR, dass das Jahr 2013 gegenüber den anderen Jahren wenig Datenpunkt enthält. Es könnte ein Hinweis darüber sein, dass hier einige Daten fehlen oder die Aufzeichnungen erst ab einen gewissen Monat angefangen haben. Vielleicht könnte uns eine Gruppierung nach Jahr etwas mehr Aufschluss darüber geben:"
      ]
    },
    {
      "cell_type": "code",
      "metadata": {
        "id": "A5i39h7Z0w9l",
        "colab_type": "code",
        "outputId": "0345009e-a0a4-4e95-eee0-4f8005b505c6",
        "colab": {
          "base_uri": "https://localhost:8080/",
          "height": 297
        }
      },
      "source": [
        "datanaly[datanaly['INDIKATOR_JAHR'] == 2013]"
      ],
      "execution_count": 0,
      "outputs": [
        {
          "output_type": "execute_result",
          "data": {
            "text/html": [
              "<div>\n",
              "<style scoped>\n",
              "    .dataframe tbody tr th:only-of-type {\n",
              "        vertical-align: middle;\n",
              "    }\n",
              "\n",
              "    .dataframe tbody tr th {\n",
              "        vertical-align: top;\n",
              "    }\n",
              "\n",
              "    .dataframe thead th {\n",
              "        text-align: right;\n",
              "    }\n",
              "</style>\n",
              "<table border=\"1\" class=\"dataframe\">\n",
              "  <thead>\n",
              "    <tr style=\"text-align: right;\">\n",
              "      <th></th>\n",
              "      <th>GEBIET_NAME</th>\n",
              "      <th>THEMA_NAME</th>\n",
              "      <th>SET_NAME</th>\n",
              "      <th>INDIKATOR_ID</th>\n",
              "      <th>INDIKATOR_NAME</th>\n",
              "      <th>INDIKATOR_JAHR</th>\n",
              "      <th>INDIKATOR_VALUE</th>\n",
              "      <th>EINHEIT_KURZ</th>\n",
              "      <th>EINHEIT_LANG</th>\n",
              "    </tr>\n",
              "  </thead>\n",
              "  <tbody>\n",
              "    <tr>\n",
              "      <th>0</th>\n",
              "      <td>Altstätten</td>\n",
              "      <td>Energie</td>\n",
              "      <td>Gasverbrauch</td>\n",
              "      <td>570</td>\n",
              "      <td>Gasverbrauch Total [MWh]</td>\n",
              "      <td>2013</td>\n",
              "      <td>32838.0</td>\n",
              "      <td>MWh</td>\n",
              "      <td>Megawattstunden</td>\n",
              "    </tr>\n",
              "    <tr>\n",
              "      <th>5</th>\n",
              "      <td>Altstätten</td>\n",
              "      <td>Energie</td>\n",
              "      <td>Gasverbrauch</td>\n",
              "      <td>571</td>\n",
              "      <td>Gasverbrauch Haushalte [MWh]</td>\n",
              "      <td>2013</td>\n",
              "      <td>25600.0</td>\n",
              "      <td>MWh</td>\n",
              "      <td>Megawattstunden</td>\n",
              "    </tr>\n",
              "    <tr>\n",
              "      <th>10</th>\n",
              "      <td>Altstätten</td>\n",
              "      <td>Energie</td>\n",
              "      <td>Gasverbrauch</td>\n",
              "      <td>572</td>\n",
              "      <td>Gasverbrauch Gewerbe [MWh]</td>\n",
              "      <td>2013</td>\n",
              "      <td>7238.0</td>\n",
              "      <td>MWh</td>\n",
              "      <td>Megawattstunden</td>\n",
              "    </tr>\n",
              "    <tr>\n",
              "      <th>15</th>\n",
              "      <td>Altstätten</td>\n",
              "      <td>Energie</td>\n",
              "      <td>Gasverbrauch</td>\n",
              "      <td>573</td>\n",
              "      <td>Gasverbrauch Industrie [MWh]</td>\n",
              "      <td>2013</td>\n",
              "      <td>NaN</td>\n",
              "      <td>MWh</td>\n",
              "      <td>Megawattstunden</td>\n",
              "    </tr>\n",
              "    <tr>\n",
              "      <th>20</th>\n",
              "      <td>Altstätten</td>\n",
              "      <td>Energie</td>\n",
              "      <td>Stromverbrauch</td>\n",
              "      <td>574</td>\n",
              "      <td>Stromverbrauch Total [MWh]</td>\n",
              "      <td>2013</td>\n",
              "      <td>77874.0</td>\n",
              "      <td>MWh</td>\n",
              "      <td>Megawattstunden</td>\n",
              "    </tr>\n",
              "    <tr>\n",
              "      <th>25</th>\n",
              "      <td>Altstätten</td>\n",
              "      <td>Energie</td>\n",
              "      <td>Stromverbrauch</td>\n",
              "      <td>575</td>\n",
              "      <td>Stromverbrauch Total [MWh/Energienutzer]</td>\n",
              "      <td>2013</td>\n",
              "      <td>4.5</td>\n",
              "      <td>MWh/Energienutzer</td>\n",
              "      <td>Megawattstunden pro Energienutzer</td>\n",
              "    </tr>\n",
              "    <tr>\n",
              "      <th>30</th>\n",
              "      <td>Altstätten</td>\n",
              "      <td>Energie</td>\n",
              "      <td>Stromverbrauch</td>\n",
              "      <td>576</td>\n",
              "      <td>Stromverbrauch Kleinverbraucher [MWh]</td>\n",
              "      <td>2013</td>\n",
              "      <td>37367.0</td>\n",
              "      <td>MWh</td>\n",
              "      <td>Megawattstunden</td>\n",
              "    </tr>\n",
              "    <tr>\n",
              "      <th>43</th>\n",
              "      <td>Altstätten</td>\n",
              "      <td>Energie</td>\n",
              "      <td>Stromverbrauch</td>\n",
              "      <td>579</td>\n",
              "      <td>Stromverbrauch Kleinverbraucher [%]</td>\n",
              "      <td>2013</td>\n",
              "      <td>48.0</td>\n",
              "      <td>%</td>\n",
              "      <td>Prozent</td>\n",
              "    </tr>\n",
              "  </tbody>\n",
              "</table>\n",
              "</div>"
            ],
            "text/plain": [
              "   GEBIET_NAME THEMA_NAME  ...       EINHEIT_KURZ                       EINHEIT_LANG\n",
              "0   Altstätten    Energie  ...                MWh                    Megawattstunden\n",
              "5   Altstätten    Energie  ...                MWh                    Megawattstunden\n",
              "10  Altstätten    Energie  ...                MWh                    Megawattstunden\n",
              "15  Altstätten    Energie  ...                MWh                    Megawattstunden\n",
              "20  Altstätten    Energie  ...                MWh                    Megawattstunden\n",
              "25  Altstätten    Energie  ...  MWh/Energienutzer  Megawattstunden pro Energienutzer\n",
              "30  Altstätten    Energie  ...                MWh                    Megawattstunden\n",
              "43  Altstätten    Energie  ...                  %                            Prozent\n",
              "\n",
              "[8 rows x 9 columns]"
            ]
          },
          "metadata": {
            "tags": []
          },
          "execution_count": 21
        }
      ]
    },
    {
      "cell_type": "code",
      "metadata": {
        "id": "CjzBQ1632Pge",
        "colab_type": "code",
        "outputId": "79bac087-29b2-4b2f-801c-d3da79554de8",
        "colab": {
          "base_uri": "https://localhost:8080/",
          "height": 421
        }
      },
      "source": [
        "datanaly[datanaly['INDIKATOR_JAHR'] == 2014]"
      ],
      "execution_count": 0,
      "outputs": [
        {
          "output_type": "execute_result",
          "data": {
            "text/html": [
              "<div>\n",
              "<style scoped>\n",
              "    .dataframe tbody tr th:only-of-type {\n",
              "        vertical-align: middle;\n",
              "    }\n",
              "\n",
              "    .dataframe tbody tr th {\n",
              "        vertical-align: top;\n",
              "    }\n",
              "\n",
              "    .dataframe thead th {\n",
              "        text-align: right;\n",
              "    }\n",
              "</style>\n",
              "<table border=\"1\" class=\"dataframe\">\n",
              "  <thead>\n",
              "    <tr style=\"text-align: right;\">\n",
              "      <th></th>\n",
              "      <th>GEBIET_NAME</th>\n",
              "      <th>THEMA_NAME</th>\n",
              "      <th>SET_NAME</th>\n",
              "      <th>INDIKATOR_ID</th>\n",
              "      <th>INDIKATOR_NAME</th>\n",
              "      <th>INDIKATOR_JAHR</th>\n",
              "      <th>INDIKATOR_VALUE</th>\n",
              "      <th>EINHEIT_KURZ</th>\n",
              "      <th>EINHEIT_LANG</th>\n",
              "    </tr>\n",
              "  </thead>\n",
              "  <tbody>\n",
              "    <tr>\n",
              "      <th>1</th>\n",
              "      <td>Altstätten</td>\n",
              "      <td>Energie</td>\n",
              "      <td>Gasverbrauch</td>\n",
              "      <td>570</td>\n",
              "      <td>Gasverbrauch Total [MWh]</td>\n",
              "      <td>2014</td>\n",
              "      <td>26909.0</td>\n",
              "      <td>MWh</td>\n",
              "      <td>Megawattstunden</td>\n",
              "    </tr>\n",
              "    <tr>\n",
              "      <th>6</th>\n",
              "      <td>Altstätten</td>\n",
              "      <td>Energie</td>\n",
              "      <td>Gasverbrauch</td>\n",
              "      <td>571</td>\n",
              "      <td>Gasverbrauch Haushalte [MWh]</td>\n",
              "      <td>2014</td>\n",
              "      <td>22947.0</td>\n",
              "      <td>MWh</td>\n",
              "      <td>Megawattstunden</td>\n",
              "    </tr>\n",
              "    <tr>\n",
              "      <th>11</th>\n",
              "      <td>Altstätten</td>\n",
              "      <td>Energie</td>\n",
              "      <td>Gasverbrauch</td>\n",
              "      <td>572</td>\n",
              "      <td>Gasverbrauch Gewerbe [MWh]</td>\n",
              "      <td>2014</td>\n",
              "      <td>3354.0</td>\n",
              "      <td>MWh</td>\n",
              "      <td>Megawattstunden</td>\n",
              "    </tr>\n",
              "    <tr>\n",
              "      <th>16</th>\n",
              "      <td>Altstätten</td>\n",
              "      <td>Energie</td>\n",
              "      <td>Gasverbrauch</td>\n",
              "      <td>573</td>\n",
              "      <td>Gasverbrauch Industrie [MWh]</td>\n",
              "      <td>2014</td>\n",
              "      <td>608.0</td>\n",
              "      <td>MWh</td>\n",
              "      <td>Megawattstunden</td>\n",
              "    </tr>\n",
              "    <tr>\n",
              "      <th>21</th>\n",
              "      <td>Altstätten</td>\n",
              "      <td>Energie</td>\n",
              "      <td>Stromverbrauch</td>\n",
              "      <td>574</td>\n",
              "      <td>Stromverbrauch Total [MWh]</td>\n",
              "      <td>2014</td>\n",
              "      <td>75142.0</td>\n",
              "      <td>MWh</td>\n",
              "      <td>Megawattstunden</td>\n",
              "    </tr>\n",
              "    <tr>\n",
              "      <th>26</th>\n",
              "      <td>Altstätten</td>\n",
              "      <td>Energie</td>\n",
              "      <td>Stromverbrauch</td>\n",
              "      <td>575</td>\n",
              "      <td>Stromverbrauch Total [MWh/Energienutzer]</td>\n",
              "      <td>2014</td>\n",
              "      <td>4.3</td>\n",
              "      <td>MWh/Energienutzer</td>\n",
              "      <td>Megawattstunden pro Energienutzer</td>\n",
              "    </tr>\n",
              "    <tr>\n",
              "      <th>31</th>\n",
              "      <td>Altstätten</td>\n",
              "      <td>Energie</td>\n",
              "      <td>Stromverbrauch</td>\n",
              "      <td>576</td>\n",
              "      <td>Stromverbrauch Kleinverbraucher [MWh]</td>\n",
              "      <td>2014</td>\n",
              "      <td>30709.0</td>\n",
              "      <td>MWh</td>\n",
              "      <td>Megawattstunden</td>\n",
              "    </tr>\n",
              "    <tr>\n",
              "      <th>35</th>\n",
              "      <td>Altstätten</td>\n",
              "      <td>Energie</td>\n",
              "      <td>Stromverbrauch</td>\n",
              "      <td>577</td>\n",
              "      <td>Stromverbrauch mittelgrosse Verbraucher [MWh]</td>\n",
              "      <td>2014</td>\n",
              "      <td>6639.0</td>\n",
              "      <td>MWh</td>\n",
              "      <td>Megawattstunden</td>\n",
              "    </tr>\n",
              "    <tr>\n",
              "      <th>39</th>\n",
              "      <td>Altstätten</td>\n",
              "      <td>Energie</td>\n",
              "      <td>Stromverbrauch</td>\n",
              "      <td>578</td>\n",
              "      <td>Stromverbrauch Grossverbraucher [MWh]</td>\n",
              "      <td>2014</td>\n",
              "      <td>37795.0</td>\n",
              "      <td>MWh</td>\n",
              "      <td>Megawattstunden</td>\n",
              "    </tr>\n",
              "    <tr>\n",
              "      <th>44</th>\n",
              "      <td>Altstätten</td>\n",
              "      <td>Energie</td>\n",
              "      <td>Stromverbrauch</td>\n",
              "      <td>579</td>\n",
              "      <td>Stromverbrauch Kleinverbraucher [%]</td>\n",
              "      <td>2014</td>\n",
              "      <td>40.9</td>\n",
              "      <td>%</td>\n",
              "      <td>Prozent</td>\n",
              "    </tr>\n",
              "    <tr>\n",
              "      <th>48</th>\n",
              "      <td>Altstätten</td>\n",
              "      <td>Energie</td>\n",
              "      <td>Stromverbrauch</td>\n",
              "      <td>580</td>\n",
              "      <td>Stromverbrauch mittelgrosse Verbraucher [%]</td>\n",
              "      <td>2014</td>\n",
              "      <td>8.8</td>\n",
              "      <td>%</td>\n",
              "      <td>Prozent</td>\n",
              "    </tr>\n",
              "    <tr>\n",
              "      <th>52</th>\n",
              "      <td>Altstätten</td>\n",
              "      <td>Energie</td>\n",
              "      <td>Stromverbrauch</td>\n",
              "      <td>581</td>\n",
              "      <td>Stromverbrauch Grossverbraucher [%]</td>\n",
              "      <td>2014</td>\n",
              "      <td>50.3</td>\n",
              "      <td>%</td>\n",
              "      <td>Prozent</td>\n",
              "    </tr>\n",
              "  </tbody>\n",
              "</table>\n",
              "</div>"
            ],
            "text/plain": [
              "   GEBIET_NAME THEMA_NAME  ...       EINHEIT_KURZ                       EINHEIT_LANG\n",
              "1   Altstätten    Energie  ...                MWh                    Megawattstunden\n",
              "6   Altstätten    Energie  ...                MWh                    Megawattstunden\n",
              "11  Altstätten    Energie  ...                MWh                    Megawattstunden\n",
              "16  Altstätten    Energie  ...                MWh                    Megawattstunden\n",
              "21  Altstätten    Energie  ...                MWh                    Megawattstunden\n",
              "26  Altstätten    Energie  ...  MWh/Energienutzer  Megawattstunden pro Energienutzer\n",
              "31  Altstätten    Energie  ...                MWh                    Megawattstunden\n",
              "35  Altstätten    Energie  ...                MWh                    Megawattstunden\n",
              "39  Altstätten    Energie  ...                MWh                    Megawattstunden\n",
              "44  Altstätten    Energie  ...                  %                            Prozent\n",
              "48  Altstätten    Energie  ...                  %                            Prozent\n",
              "52  Altstätten    Energie  ...                  %                            Prozent\n",
              "\n",
              "[12 rows x 9 columns]"
            ]
          },
          "metadata": {
            "tags": []
          },
          "execution_count": 22
        }
      ]
    },
    {
      "cell_type": "code",
      "metadata": {
        "id": "wL7qRZpZ7pbv",
        "colab_type": "code",
        "outputId": "e7490529-e4c6-4ae1-e5a8-afc61da6971e",
        "colab": {
          "base_uri": "https://localhost:8080/",
          "height": 700
        }
      },
      "source": [
        "# Machen wir doch mal kurz einen kleinen Vergleich:\n",
        "\n",
        "da2013 = datanaly[datanaly['INDIKATOR_JAHR'] == 2013]\n",
        "da2014 = datanaly[datanaly['INDIKATOR_JAHR'] == 2014]\n",
        "\n",
        "def dataframe_difference(da2013, da2014, which=None):\n",
        "    \"\"\"Find rows which are different between two DataFrames.\"\"\"\n",
        "    comparison_df = da2013.merge(da2014,\n",
        "                              indicator=True,\n",
        "                              how='outer')\n",
        "    if which is None:\n",
        "        diff_df = comparison_df[comparison_df['_merge'] != 'both']\n",
        "    else:\n",
        "        diff_df = comparison_df[comparison_df['_merge'] == which]\n",
        "    #diff_df.to_csv('data/diff.csv')\n",
        "    return diff_df\n",
        "\n",
        "dfcomp = dataframe_difference(da2013, da2014)\n",
        "dfcomp.groupby(['INDIKATOR_NAME','INDIKATOR_JAHR']).count()"
      ],
      "execution_count": 0,
      "outputs": [
        {
          "output_type": "execute_result",
          "data": {
            "text/html": [
              "<div>\n",
              "<style scoped>\n",
              "    .dataframe tbody tr th:only-of-type {\n",
              "        vertical-align: middle;\n",
              "    }\n",
              "\n",
              "    .dataframe tbody tr th {\n",
              "        vertical-align: top;\n",
              "    }\n",
              "\n",
              "    .dataframe thead th {\n",
              "        text-align: right;\n",
              "    }\n",
              "</style>\n",
              "<table border=\"1\" class=\"dataframe\">\n",
              "  <thead>\n",
              "    <tr style=\"text-align: right;\">\n",
              "      <th></th>\n",
              "      <th></th>\n",
              "      <th>GEBIET_NAME</th>\n",
              "      <th>THEMA_NAME</th>\n",
              "      <th>SET_NAME</th>\n",
              "      <th>INDIKATOR_ID</th>\n",
              "      <th>INDIKATOR_VALUE</th>\n",
              "      <th>EINHEIT_KURZ</th>\n",
              "      <th>EINHEIT_LANG</th>\n",
              "      <th>_merge</th>\n",
              "    </tr>\n",
              "    <tr>\n",
              "      <th>INDIKATOR_NAME</th>\n",
              "      <th>INDIKATOR_JAHR</th>\n",
              "      <th></th>\n",
              "      <th></th>\n",
              "      <th></th>\n",
              "      <th></th>\n",
              "      <th></th>\n",
              "      <th></th>\n",
              "      <th></th>\n",
              "      <th></th>\n",
              "    </tr>\n",
              "  </thead>\n",
              "  <tbody>\n",
              "    <tr>\n",
              "      <th rowspan=\"2\" valign=\"top\">Gasverbrauch Gewerbe [MWh]</th>\n",
              "      <th>2013</th>\n",
              "      <td>1</td>\n",
              "      <td>1</td>\n",
              "      <td>1</td>\n",
              "      <td>1</td>\n",
              "      <td>1</td>\n",
              "      <td>1</td>\n",
              "      <td>1</td>\n",
              "      <td>1</td>\n",
              "    </tr>\n",
              "    <tr>\n",
              "      <th>2014</th>\n",
              "      <td>1</td>\n",
              "      <td>1</td>\n",
              "      <td>1</td>\n",
              "      <td>1</td>\n",
              "      <td>1</td>\n",
              "      <td>1</td>\n",
              "      <td>1</td>\n",
              "      <td>1</td>\n",
              "    </tr>\n",
              "    <tr>\n",
              "      <th rowspan=\"2\" valign=\"top\">Gasverbrauch Haushalte [MWh]</th>\n",
              "      <th>2013</th>\n",
              "      <td>1</td>\n",
              "      <td>1</td>\n",
              "      <td>1</td>\n",
              "      <td>1</td>\n",
              "      <td>1</td>\n",
              "      <td>1</td>\n",
              "      <td>1</td>\n",
              "      <td>1</td>\n",
              "    </tr>\n",
              "    <tr>\n",
              "      <th>2014</th>\n",
              "      <td>1</td>\n",
              "      <td>1</td>\n",
              "      <td>1</td>\n",
              "      <td>1</td>\n",
              "      <td>1</td>\n",
              "      <td>1</td>\n",
              "      <td>1</td>\n",
              "      <td>1</td>\n",
              "    </tr>\n",
              "    <tr>\n",
              "      <th rowspan=\"2\" valign=\"top\">Gasverbrauch Industrie [MWh]</th>\n",
              "      <th>2013</th>\n",
              "      <td>1</td>\n",
              "      <td>1</td>\n",
              "      <td>1</td>\n",
              "      <td>1</td>\n",
              "      <td>0</td>\n",
              "      <td>1</td>\n",
              "      <td>1</td>\n",
              "      <td>1</td>\n",
              "    </tr>\n",
              "    <tr>\n",
              "      <th>2014</th>\n",
              "      <td>1</td>\n",
              "      <td>1</td>\n",
              "      <td>1</td>\n",
              "      <td>1</td>\n",
              "      <td>1</td>\n",
              "      <td>1</td>\n",
              "      <td>1</td>\n",
              "      <td>1</td>\n",
              "    </tr>\n",
              "    <tr>\n",
              "      <th rowspan=\"2\" valign=\"top\">Gasverbrauch Total [MWh]</th>\n",
              "      <th>2013</th>\n",
              "      <td>1</td>\n",
              "      <td>1</td>\n",
              "      <td>1</td>\n",
              "      <td>1</td>\n",
              "      <td>1</td>\n",
              "      <td>1</td>\n",
              "      <td>1</td>\n",
              "      <td>1</td>\n",
              "    </tr>\n",
              "    <tr>\n",
              "      <th>2014</th>\n",
              "      <td>1</td>\n",
              "      <td>1</td>\n",
              "      <td>1</td>\n",
              "      <td>1</td>\n",
              "      <td>1</td>\n",
              "      <td>1</td>\n",
              "      <td>1</td>\n",
              "      <td>1</td>\n",
              "    </tr>\n",
              "    <tr>\n",
              "      <th>Stromverbrauch Grossverbraucher [%]</th>\n",
              "      <th>2014</th>\n",
              "      <td>1</td>\n",
              "      <td>1</td>\n",
              "      <td>1</td>\n",
              "      <td>1</td>\n",
              "      <td>1</td>\n",
              "      <td>1</td>\n",
              "      <td>1</td>\n",
              "      <td>1</td>\n",
              "    </tr>\n",
              "    <tr>\n",
              "      <th>Stromverbrauch Grossverbraucher [MWh]</th>\n",
              "      <th>2014</th>\n",
              "      <td>1</td>\n",
              "      <td>1</td>\n",
              "      <td>1</td>\n",
              "      <td>1</td>\n",
              "      <td>1</td>\n",
              "      <td>1</td>\n",
              "      <td>1</td>\n",
              "      <td>1</td>\n",
              "    </tr>\n",
              "    <tr>\n",
              "      <th rowspan=\"2\" valign=\"top\">Stromverbrauch Kleinverbraucher [%]</th>\n",
              "      <th>2013</th>\n",
              "      <td>1</td>\n",
              "      <td>1</td>\n",
              "      <td>1</td>\n",
              "      <td>1</td>\n",
              "      <td>1</td>\n",
              "      <td>1</td>\n",
              "      <td>1</td>\n",
              "      <td>1</td>\n",
              "    </tr>\n",
              "    <tr>\n",
              "      <th>2014</th>\n",
              "      <td>1</td>\n",
              "      <td>1</td>\n",
              "      <td>1</td>\n",
              "      <td>1</td>\n",
              "      <td>1</td>\n",
              "      <td>1</td>\n",
              "      <td>1</td>\n",
              "      <td>1</td>\n",
              "    </tr>\n",
              "    <tr>\n",
              "      <th rowspan=\"2\" valign=\"top\">Stromverbrauch Kleinverbraucher [MWh]</th>\n",
              "      <th>2013</th>\n",
              "      <td>1</td>\n",
              "      <td>1</td>\n",
              "      <td>1</td>\n",
              "      <td>1</td>\n",
              "      <td>1</td>\n",
              "      <td>1</td>\n",
              "      <td>1</td>\n",
              "      <td>1</td>\n",
              "    </tr>\n",
              "    <tr>\n",
              "      <th>2014</th>\n",
              "      <td>1</td>\n",
              "      <td>1</td>\n",
              "      <td>1</td>\n",
              "      <td>1</td>\n",
              "      <td>1</td>\n",
              "      <td>1</td>\n",
              "      <td>1</td>\n",
              "      <td>1</td>\n",
              "    </tr>\n",
              "    <tr>\n",
              "      <th rowspan=\"2\" valign=\"top\">Stromverbrauch Total [MWh/Energienutzer]</th>\n",
              "      <th>2013</th>\n",
              "      <td>1</td>\n",
              "      <td>1</td>\n",
              "      <td>1</td>\n",
              "      <td>1</td>\n",
              "      <td>1</td>\n",
              "      <td>1</td>\n",
              "      <td>1</td>\n",
              "      <td>1</td>\n",
              "    </tr>\n",
              "    <tr>\n",
              "      <th>2014</th>\n",
              "      <td>1</td>\n",
              "      <td>1</td>\n",
              "      <td>1</td>\n",
              "      <td>1</td>\n",
              "      <td>1</td>\n",
              "      <td>1</td>\n",
              "      <td>1</td>\n",
              "      <td>1</td>\n",
              "    </tr>\n",
              "    <tr>\n",
              "      <th rowspan=\"2\" valign=\"top\">Stromverbrauch Total [MWh]</th>\n",
              "      <th>2013</th>\n",
              "      <td>1</td>\n",
              "      <td>1</td>\n",
              "      <td>1</td>\n",
              "      <td>1</td>\n",
              "      <td>1</td>\n",
              "      <td>1</td>\n",
              "      <td>1</td>\n",
              "      <td>1</td>\n",
              "    </tr>\n",
              "    <tr>\n",
              "      <th>2014</th>\n",
              "      <td>1</td>\n",
              "      <td>1</td>\n",
              "      <td>1</td>\n",
              "      <td>1</td>\n",
              "      <td>1</td>\n",
              "      <td>1</td>\n",
              "      <td>1</td>\n",
              "      <td>1</td>\n",
              "    </tr>\n",
              "    <tr>\n",
              "      <th>Stromverbrauch mittelgrosse Verbraucher [%]</th>\n",
              "      <th>2014</th>\n",
              "      <td>1</td>\n",
              "      <td>1</td>\n",
              "      <td>1</td>\n",
              "      <td>1</td>\n",
              "      <td>1</td>\n",
              "      <td>1</td>\n",
              "      <td>1</td>\n",
              "      <td>1</td>\n",
              "    </tr>\n",
              "    <tr>\n",
              "      <th>Stromverbrauch mittelgrosse Verbraucher [MWh]</th>\n",
              "      <th>2014</th>\n",
              "      <td>1</td>\n",
              "      <td>1</td>\n",
              "      <td>1</td>\n",
              "      <td>1</td>\n",
              "      <td>1</td>\n",
              "      <td>1</td>\n",
              "      <td>1</td>\n",
              "      <td>1</td>\n",
              "    </tr>\n",
              "  </tbody>\n",
              "</table>\n",
              "</div>"
            ],
            "text/plain": [
              "                                                              GEBIET_NAME  ...  _merge\n",
              "INDIKATOR_NAME                                INDIKATOR_JAHR               ...        \n",
              "Gasverbrauch Gewerbe [MWh]                    2013                      1  ...       1\n",
              "                                              2014                      1  ...       1\n",
              "Gasverbrauch Haushalte [MWh]                  2013                      1  ...       1\n",
              "                                              2014                      1  ...       1\n",
              "Gasverbrauch Industrie [MWh]                  2013                      1  ...       1\n",
              "                                              2014                      1  ...       1\n",
              "Gasverbrauch Total [MWh]                      2013                      1  ...       1\n",
              "                                              2014                      1  ...       1\n",
              "Stromverbrauch Grossverbraucher [%]           2014                      1  ...       1\n",
              "Stromverbrauch Grossverbraucher [MWh]         2014                      1  ...       1\n",
              "Stromverbrauch Kleinverbraucher [%]           2013                      1  ...       1\n",
              "                                              2014                      1  ...       1\n",
              "Stromverbrauch Kleinverbraucher [MWh]         2013                      1  ...       1\n",
              "                                              2014                      1  ...       1\n",
              "Stromverbrauch Total [MWh/Energienutzer]      2013                      1  ...       1\n",
              "                                              2014                      1  ...       1\n",
              "Stromverbrauch Total [MWh]                    2013                      1  ...       1\n",
              "                                              2014                      1  ...       1\n",
              "Stromverbrauch mittelgrosse Verbraucher [%]   2014                      1  ...       1\n",
              "Stromverbrauch mittelgrosse Verbraucher [MWh] 2014                      1  ...       1\n",
              "\n",
              "[20 rows x 8 columns]"
            ]
          },
          "metadata": {
            "tags": []
          },
          "execution_count": 54
        }
      ]
    },
    {
      "cell_type": "markdown",
      "metadata": {
        "id": "IFmNrBzE-GkC",
        "colab_type": "text"
      },
      "source": [
        "**Hinweis**: Wie wir oben erkennen können, fehlen im 2013 die folgenden Verbrauchskategorien:\n",
        "* Stromverbrauch Grossverbraucher [%]\n",
        "* Stromverbrauch Grossverbraucher [MWh]\n",
        "* Stromverbrauch mittelgrosse Verbraucher [%]\n",
        "* Stromverbrauch mittelgrosse Verbraucher [MWh]\n",
        "\n",
        "**Erkenntnis:** Für das Training/Testing unseres ML-Algorithmus macht diese jedoch keinen Unterschied, denn im Zusammenhang mit den anderen bestehenden Verbrauchkategorien im 2013 haben wir somit mehr Daten zur Verfügung. Je mehr Daten um so besser. "
      ]
    },
    {
      "cell_type": "markdown",
      "metadata": {
        "id": "fIGMx7G8tNXU",
        "colab_type": "text"
      },
      "source": [
        "#####**Facets**#####\n",
        "\n",
        "Eines meiner absoluten Lieblingstools ist das von Google zur Verfügung gestellte Tool **Facets** ([Link](https://pair-code.github.io/facets/)) an. Mittels Facets lassen sich die Daten aus mehreren Sichten betrachte.\n",
        "\n",
        "OVERVIEW\n",
        "\n",
        "Mit der Übersicht (engl. Overview) werden Feature-Daten aus einer beliebigen Anzahl von Datensätzen abgerufen, Feature für Feature analysiert und die Analyse visualisiert.\n",
        "Die Übersicht bietet Benutzern ein schnelles Verständnis der Werteverteilung über die Features ihrer Datenmenge. Es lassen sich damit ungewöhnliche und häufige Probleme wie unerwartete Merkmalswerte, fehlende Merkmalswerte für eine große Anzahl von Beobachtungen, mögliche Verzerrungen beim Trainieren / Testen / Validieren etc. endecken.\n",
        "\n",
        "<img src=\"https://3.bp.blogspot.com/-lkb4w1DrJ-A/WWzzyPC428I/AAAAAAAAB48/TrSFgqxaYPY-jMv0cmXJaskUz9ImyXxLwCLcBGAs/s1600/image3.png\" width =\"800\"/>\n",
        " \n",
        "DIVE\n",
        "\n",
        "Dive bietet eine interaktive Oberfläche zum Erkunden der Beziehung zwischen Datenpunkten für alle verschiedenen Funktionen eines Datensatzes. Jedes einzelne Element in der Visualisierung repräsentiert einen Datenpunkt. Positionieren Sie Elemente, indem Sie sie anhand ihrer Feature-Werte \"facettieren\" oder in mehrere Dimensionen unterteilen. Zu den Erfolgsgeschichten von Dive gehören das Erkennen von Klassifikatorfehlern, das Erkennen systematischer Fehler, das Bewerten der Grundwahrheit und potenzielle neue Signale für die Rangfolge.\n",
        "\n",
        " <img src=\"https://raw.githubusercontent.com/PAIR-code/facets/master/img/dive-census.png\" width = \"800\"/>\n",
        "\n",
        " Es gibt grundsätzlich zwei Arten um Facets zu nutzen. Einerseits können Daten direkt auf das Facets [Portal](https://pair-code.github.io/facets/)) geladen werden. Hier gilt natürlich zu beachten, dass es wohl nicht wirklich sinnvoll ist beispielsweise vertrauliche Unternehmensdaten auf das Portal zu laden. Die zweite Möglichkeit ist es Facets in einem Jupyter Notebook einzubinden. Nachfolgenden möchte ich diese Möglichkeit genauer aufzeigen.\n",
        "\n",
        "\n",
        "***Anwendung Facets in Jupyter Notebook***\n",
        "\n",
        "Auf dem folgenden Link ist eine detailierte Installationsanleitung zu finden [Link](https://github.com/PAIR-code/facets)"
      ]
    },
    {
      "cell_type": "code",
      "metadata": {
        "id": "4Oen8CjS0qeq",
        "colab_type": "code",
        "outputId": "e9785be2-ea9c-4f10-d92a-8376bbd25ce5",
        "colab": {
          "base_uri": "https://localhost:8080/",
          "height": 224
        }
      },
      "source": [
        "# Facets Komponenten installieren\n",
        "\n",
        "!pip install facets-overview"
      ],
      "execution_count": 0,
      "outputs": [
        {
          "output_type": "stream",
          "text": [
            "Collecting facets-overview\n",
            "  Downloading https://files.pythonhosted.org/packages/df/8a/0042de5450dbd9e7e0773de93fe84c999b5b078b1f60b4c19ac76b5dd889/facets_overview-1.0.0-py2.py3-none-any.whl\n",
            "Requirement already satisfied: protobuf>=3.7.0 in /usr/local/lib/python3.6/dist-packages (from facets-overview) (3.10.0)\n",
            "Requirement already satisfied: pandas>=0.22.0 in /usr/local/lib/python3.6/dist-packages (from facets-overview) (0.25.3)\n",
            "Requirement already satisfied: numpy>=1.16.0 in /usr/local/lib/python3.6/dist-packages (from facets-overview) (1.17.4)\n",
            "Requirement already satisfied: six>=1.9 in /usr/local/lib/python3.6/dist-packages (from protobuf>=3.7.0->facets-overview) (1.12.0)\n",
            "Requirement already satisfied: setuptools in /usr/local/lib/python3.6/dist-packages (from protobuf>=3.7.0->facets-overview) (42.0.2)\n",
            "Requirement already satisfied: python-dateutil>=2.6.1 in /usr/local/lib/python3.6/dist-packages (from pandas>=0.22.0->facets-overview) (2.6.1)\n",
            "Requirement already satisfied: pytz>=2017.2 in /usr/local/lib/python3.6/dist-packages (from pandas>=0.22.0->facets-overview) (2018.9)\n",
            "Installing collected packages: facets-overview\n",
            "Successfully installed facets-overview-1.0.0\n"
          ],
          "name": "stdout"
        }
      ]
    },
    {
      "cell_type": "code",
      "metadata": {
        "id": "g0NcDfv8yhzD",
        "colab_type": "code",
        "colab": {}
      },
      "source": [
        "import pandas as pd\n",
        "\n",
        "datloc = 'https://raw.githubusercontent.com/sakuronohana/my_datascience/master/datasets/new_strada2_data_2738408.csv'\n",
        "\n",
        "datimp = pd.read_csv(datloc)\n"
      ],
      "execution_count": 0,
      "outputs": []
    },
    {
      "cell_type": "code",
      "metadata": {
        "id": "sYoL9gAi2uoG",
        "colab_type": "code",
        "colab": {}
      },
      "source": [
        "# Create the feature stats for the datasets and stringify it.\n",
        "import base64\n",
        "from facets_overview.generic_feature_statistics_generator import GenericFeatureStatisticsGenerator\n",
        "\n",
        "gfsg = GenericFeatureStatisticsGenerator()\n",
        "proto = gfsg.ProtoFromDataFrames([{'name': 'train', 'table': datimp}])\n",
        "protostr = base64.b64encode(proto.SerializeToString()).decode(\"utf-8\")"
      ],
      "execution_count": 0,
      "outputs": []
    },
    {
      "cell_type": "code",
      "metadata": {
        "id": "wksMNNyN3L8y",
        "colab_type": "code",
        "outputId": "c826b2a0-3cf8-430f-d05b-708f65aa4a11",
        "colab": {
          "base_uri": "https://localhost:8080/",
          "height": 1000
        }
      },
      "source": [
        "# Display the facets overview visualization for this data\n",
        "from IPython.core.display import display, HTML\n",
        "\n",
        "HTML_TEMPLATE = \"\"\"\n",
        "        <script src=\"https://cdnjs.cloudflare.com/ajax/libs/webcomponentsjs/1.3.3/webcomponents-lite.js\"></script>\n",
        "        <link rel=\"import\" href=\"https://raw.githubusercontent.com/PAIR-code/facets/1.0.0/facets-dist/facets-jupyter.html\" >\n",
        "        <facets-overview id=\"elem\"></facets-overview>\n",
        "        <script>\n",
        "          document.querySelector(\"#elem\").protoInput = \"{protostr}\";\n",
        "        </script>\"\"\"\n",
        "html = HTML_TEMPLATE.format(protostr=protostr)\n",
        "display(HTML(html))"
      ],
      "execution_count": 0,
      "outputs": [
        {
          "output_type": "display_data",
          "data": {
            "text/html": [
              "\n",
              "        <script src=\"https://cdnjs.cloudflare.com/ajax/libs/webcomponentsjs/1.3.3/webcomponents-lite.js\"></script>\n",
              "        <link rel=\"import\" href=\"https://raw.githubusercontent.com/PAIR-code/facets/1.0.0/facets-dist/facets-jupyter.html\" >\n",
              "        <facets-overview id=\"elem\"></facets-overview>\n",
              "        <script>\n",
              "          document.querySelector(\"#elem\").protoInput = \"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\";\n",
              "        </script>"
            ],
            "text/plain": [
              "<IPython.core.display.HTML object>"
            ]
          },
          "metadata": {
            "tags": []
          }
        }
      ]
    },
    {
      "cell_type": "code",
      "metadata": {
        "id": "dJ0L5LWa19xU",
        "colab_type": "code",
        "outputId": "d9f248c0-62fd-413f-c420-d6ae9256debe",
        "colab": {
          "base_uri": "https://localhost:8080/",
          "height": 617
        }
      },
      "source": [
        "# Die Daten können nun in Dive wie folgt visualisiert werden.\n",
        "from IPython.core.display import display, HTML\n",
        "\n",
        "jsonstr = datimp.to_json(orient='records')\n",
        "HTML_TEMPLATE = \"\"\"\n",
        "        <script src=\"https://cdnjs.cloudflare.com/ajax/libs/webcomponentsjs/1.3.3/webcomponents-lite.js\"></script>\n",
        "        <link rel=\"import\" href=\"https://raw.githubusercontent.com/PAIR-code/facets/1.0.0/facets-dist/facets-jupyter.html\">\n",
        "        <facets-dive id=\"elem\" height=\"600\"></facets-dive>\n",
        "        <script>\n",
        "          var data = {jsonstr};\n",
        "          document.querySelector(\"#elem\").data = data;\n",
        "        </script>\"\"\"\n",
        "html = HTML_TEMPLATE.format(jsonstr=jsonstr)\n",
        "display(HTML(html))"
      ],
      "execution_count": 0,
      "outputs": [
        {
          "output_type": "display_data",
          "data": {
            "text/html": [
              "\n",
              "        <script src=\"https://cdnjs.cloudflare.com/ajax/libs/webcomponentsjs/1.3.3/webcomponents-lite.js\"></script>\n",
              "        <link rel=\"import\" href=\"https://raw.githubusercontent.com/PAIR-code/facets/1.0.0/facets-dist/facets-jupyter.html\">\n",
              "        <facets-dive id=\"elem\" height=\"600\"></facets-dive>\n",
              "        <script>\n",
              "          var data = [{\"Unnamed: 0\":0,\"Unnamed: 0.1\":null,\"BFS_NR\":3251,\"GEBIET_NAME\":\"Altst\\u00e4tten\",\"THEMA_NAME\":\"Energie\",\"SET_NAME\":\"Gasverbrauch\",\"SUBSET_NAME\":null,\"INDIKATOR_ID\":570,\"INDIKATOR_NAME\":\"Gasverbrauch Total [MWh]\",\"INDIKATOR_JAHR\":2013,\"INDIKATOR_VALUE\":32838.0,\"EINHEIT_KURZ\":\"MWh\",\"EINHEIT_LANG\":\"Megawattstunden\",\"Unnamed: 11\":null},{\"Unnamed: 0\":1,\"Unnamed: 0.1\":1.0,\"BFS_NR\":3251,\"GEBIET_NAME\":\"Altst\\u00e4tten\",\"THEMA_NAME\":\"Energie\",\"SET_NAME\":\"Gasverbrauch\",\"SUBSET_NAME\":null,\"INDIKATOR_ID\":570,\"INDIKATOR_NAME\":\"Gasverbrauch Total [MWh]\",\"INDIKATOR_JAHR\":2014,\"INDIKATOR_VALUE\":26909.0,\"EINHEIT_KURZ\":\"MWh\",\"EINHEIT_LANG\":\"Megawattstunden\",\"Unnamed: 11\":null},{\"Unnamed: 0\":2,\"Unnamed: 0.1\":2.0,\"BFS_NR\":3251,\"GEBIET_NAME\":\"Altst\\u00e4tten\",\"THEMA_NAME\":\"Energie\",\"SET_NAME\":\"Gasverbrauch\",\"SUBSET_NAME\":null,\"INDIKATOR_ID\":570,\"INDIKATOR_NAME\":\"Gasverbrauch Total [MWh]\",\"INDIKATOR_JAHR\":2015,\"INDIKATOR_VALUE\":27777.0,\"EINHEIT_KURZ\":\"MWh\",\"EINHEIT_LANG\":\"Megawattstunden\",\"Unnamed: 11\":null},{\"Unnamed: 0\":3,\"Unnamed: 0.1\":3.0,\"BFS_NR\":3251,\"GEBIET_NAME\":\"Altst\\u00e4tten\",\"THEMA_NAME\":\"Energie\",\"SET_NAME\":\"Gasverbrauch\",\"SUBSET_NAME\":null,\"INDIKATOR_ID\":570,\"INDIKATOR_NAME\":\"Gasverbrauch Total [MWh]\",\"INDIKATOR_JAHR\":2016,\"INDIKATOR_VALUE\":27936.0,\"EINHEIT_KURZ\":\"MWh\",\"EINHEIT_LANG\":\"Megawattstunden\",\"Unnamed: 11\":null},{\"Unnamed: 0\":4,\"Unnamed: 0.1\":4.0,\"BFS_NR\":3251,\"GEBIET_NAME\":\"Altst\\u00e4tten\",\"THEMA_NAME\":\"Energie\",\"SET_NAME\":\"Gasverbrauch\",\"SUBSET_NAME\":null,\"INDIKATOR_ID\":570,\"INDIKATOR_NAME\":\"Gasverbrauch Total [MWh]\",\"INDIKATOR_JAHR\":2017,\"INDIKATOR_VALUE\":30093.0,\"EINHEIT_KURZ\":\"MWh\",\"EINHEIT_LANG\":\"Megawattstunden\",\"Unnamed: 11\":null},{\"Unnamed: 0\":5,\"Unnamed: 0.1\":5.0,\"BFS_NR\":3251,\"GEBIET_NAME\":\"Altst\\u00e4tten\",\"THEMA_NAME\":\"Energie\",\"SET_NAME\":\"Gasverbrauch\",\"SUBSET_NAME\":null,\"INDIKATOR_ID\":571,\"INDIKATOR_NAME\":\"Gasverbrauch Haushalte [MWh]\",\"INDIKATOR_JAHR\":2013,\"INDIKATOR_VALUE\":25600.0,\"EINHEIT_KURZ\":\"MWh\",\"EINHEIT_LANG\":\"Megawattstunden\",\"Unnamed: 11\":null},{\"Unnamed: 0\":6,\"Unnamed: 0.1\":6.0,\"BFS_NR\":3251,\"GEBIET_NAME\":\"Altst\\u00e4tten\",\"THEMA_NAME\":\"Energie\",\"SET_NAME\":\"Gasverbrauch\",\"SUBSET_NAME\":null,\"INDIKATOR_ID\":571,\"INDIKATOR_NAME\":\"Gasverbrauch Haushalte [MWh]\",\"INDIKATOR_JAHR\":2014,\"INDIKATOR_VALUE\":22947.0,\"EINHEIT_KURZ\":\"MWh\",\"EINHEIT_LANG\":\"Megawattstunden\",\"Unnamed: 11\":null},{\"Unnamed: 0\":7,\"Unnamed: 0.1\":7.0,\"BFS_NR\":3251,\"GEBIET_NAME\":\"Altst\\u00e4tten\",\"THEMA_NAME\":\"Energie\",\"SET_NAME\":\"Gasverbrauch\",\"SUBSET_NAME\":null,\"INDIKATOR_ID\":571,\"INDIKATOR_NAME\":\"Gasverbrauch Haushalte [MWh]\",\"INDIKATOR_JAHR\":2015,\"INDIKATOR_VALUE\":23604.0,\"EINHEIT_KURZ\":\"MWh\",\"EINHEIT_LANG\":\"Megawattstunden\",\"Unnamed: 11\":null},{\"Unnamed: 0\":8,\"Unnamed: 0.1\":8.0,\"BFS_NR\":3251,\"GEBIET_NAME\":\"Altst\\u00e4tten\",\"THEMA_NAME\":\"Energie\",\"SET_NAME\":\"Gasverbrauch\",\"SUBSET_NAME\":null,\"INDIKATOR_ID\":571,\"INDIKATOR_NAME\":\"Gasverbrauch Haushalte [MWh]\",\"INDIKATOR_JAHR\":2016,\"INDIKATOR_VALUE\":24306.0,\"EINHEIT_KURZ\":\"MWh\",\"EINHEIT_LANG\":\"Megawattstunden\",\"Unnamed: 11\":null},{\"Unnamed: 0\":9,\"Unnamed: 0.1\":9.0,\"BFS_NR\":3251,\"GEBIET_NAME\":\"Altst\\u00e4tten\",\"THEMA_NAME\":\"Energie\",\"SET_NAME\":\"Gasverbrauch\",\"SUBSET_NAME\":null,\"INDIKATOR_ID\":571,\"INDIKATOR_NAME\":\"Gasverbrauch Haushalte [MWh]\",\"INDIKATOR_JAHR\":2017,\"INDIKATOR_VALUE\":26235.0,\"EINHEIT_KURZ\":\"MWh\",\"EINHEIT_LANG\":\"Megawattstunden\",\"Unnamed: 11\":null},{\"Unnamed: 0\":10,\"Unnamed: 0.1\":10.0,\"BFS_NR\":3251,\"GEBIET_NAME\":\"Altst\\u00e4tten\",\"THEMA_NAME\":\"Energie\",\"SET_NAME\":\"Gasverbrauch\",\"SUBSET_NAME\":null,\"INDIKATOR_ID\":572,\"INDIKATOR_NAME\":\"Gasverbrauch Gewerbe [MWh]\",\"INDIKATOR_JAHR\":2013,\"INDIKATOR_VALUE\":7238.0,\"EINHEIT_KURZ\":\"MWh\",\"EINHEIT_LANG\":\"Megawattstunden\",\"Unnamed: 11\":null},{\"Unnamed: 0\":11,\"Unnamed: 0.1\":11.0,\"BFS_NR\":3251,\"GEBIET_NAME\":\"Altst\\u00e4tten\",\"THEMA_NAME\":\"Energie\",\"SET_NAME\":\"Gasverbrauch\",\"SUBSET_NAME\":null,\"INDIKATOR_ID\":572,\"INDIKATOR_NAME\":\"Gasverbrauch Gewerbe [MWh]\",\"INDIKATOR_JAHR\":2014,\"INDIKATOR_VALUE\":3354.0,\"EINHEIT_KURZ\":\"MWh\",\"EINHEIT_LANG\":\"Megawattstunden\",\"Unnamed: 11\":null},{\"Unnamed: 0\":12,\"Unnamed: 0.1\":12.0,\"BFS_NR\":3251,\"GEBIET_NAME\":\"Altst\\u00e4tten\",\"THEMA_NAME\":\"Energie\",\"SET_NAME\":\"Gasverbrauch\",\"SUBSET_NAME\":null,\"INDIKATOR_ID\":572,\"INDIKATOR_NAME\":\"Gasverbrauch Gewerbe [MWh]\",\"INDIKATOR_JAHR\":2015,\"INDIKATOR_VALUE\":3404.0,\"EINHEIT_KURZ\":\"MWh\",\"EINHEIT_LANG\":\"Megawattstunden\",\"Unnamed: 11\":null},{\"Unnamed: 0\":13,\"Unnamed: 0.1\":13.0,\"BFS_NR\":3251,\"GEBIET_NAME\":\"Altst\\u00e4tten\",\"THEMA_NAME\":\"Energie\",\"SET_NAME\":\"Gasverbrauch\",\"SUBSET_NAME\":null,\"INDIKATOR_ID\":572,\"INDIKATOR_NAME\":\"Gasverbrauch Gewerbe [MWh]\",\"INDIKATOR_JAHR\":2016,\"INDIKATOR_VALUE\":3004.0,\"EINHEIT_KURZ\":\"MWh\",\"EINHEIT_LANG\":\"Megawattstunden\",\"Unnamed: 11\":null},{\"Unnamed: 0\":14,\"Unnamed: 0.1\":14.0,\"BFS_NR\":3251,\"GEBIET_NAME\":\"Altst\\u00e4tten\",\"THEMA_NAME\":\"Energie\",\"SET_NAME\":\"Gasverbrauch\",\"SUBSET_NAME\":null,\"INDIKATOR_ID\":572,\"INDIKATOR_NAME\":\"Gasverbrauch Gewerbe [MWh]\",\"INDIKATOR_JAHR\":2017,\"INDIKATOR_VALUE\":2984.0,\"EINHEIT_KURZ\":\"MWh\",\"EINHEIT_LANG\":\"Megawattstunden\",\"Unnamed: 11\":null},{\"Unnamed: 0\":15,\"Unnamed: 0.1\":15.0,\"BFS_NR\":3251,\"GEBIET_NAME\":\"Altst\\u00e4tten\",\"THEMA_NAME\":\"Energie\",\"SET_NAME\":\"Gasverbrauch\",\"SUBSET_NAME\":null,\"INDIKATOR_ID\":573,\"INDIKATOR_NAME\":\"Gasverbrauch Industrie [MWh]\",\"INDIKATOR_JAHR\":2013,\"INDIKATOR_VALUE\":null,\"EINHEIT_KURZ\":\"MWh\",\"EINHEIT_LANG\":\"Megawattstunden\",\"Unnamed: 11\":null},{\"Unnamed: 0\":16,\"Unnamed: 0.1\":16.0,\"BFS_NR\":3251,\"GEBIET_NAME\":\"Altst\\u00e4tten\",\"THEMA_NAME\":\"Energie\",\"SET_NAME\":\"Gasverbrauch\",\"SUBSET_NAME\":null,\"INDIKATOR_ID\":573,\"INDIKATOR_NAME\":\"Gasverbrauch Industrie [MWh]\",\"INDIKATOR_JAHR\":2014,\"INDIKATOR_VALUE\":608.0,\"EINHEIT_KURZ\":\"MWh\",\"EINHEIT_LANG\":\"Megawattstunden\",\"Unnamed: 11\":null},{\"Unnamed: 0\":17,\"Unnamed: 0.1\":17.0,\"BFS_NR\":3251,\"GEBIET_NAME\":\"Altst\\u00e4tten\",\"THEMA_NAME\":\"Energie\",\"SET_NAME\":\"Gasverbrauch\",\"SUBSET_NAME\":null,\"INDIKATOR_ID\":573,\"INDIKATOR_NAME\":\"Gasverbrauch Industrie [MWh]\",\"INDIKATOR_JAHR\":2015,\"INDIKATOR_VALUE\":768.0,\"EINHEIT_KURZ\":\"MWh\",\"EINHEIT_LANG\":\"Megawattstunden\",\"Unnamed: 11\":null},{\"Unnamed: 0\":18,\"Unnamed: 0.1\":18.0,\"BFS_NR\":3251,\"GEBIET_NAME\":\"Altst\\u00e4tten\",\"THEMA_NAME\":\"Energie\",\"SET_NAME\":\"Gasverbrauch\",\"SUBSET_NAME\":null,\"INDIKATOR_ID\":573,\"INDIKATOR_NAME\":\"Gasverbrauch Industrie [MWh]\",\"INDIKATOR_JAHR\":2016,\"INDIKATOR_VALUE\":626.0,\"EINHEIT_KURZ\":\"MWh\",\"EINHEIT_LANG\":\"Megawattstunden\",\"Unnamed: 11\":null},{\"Unnamed: 0\":19,\"Unnamed: 0.1\":19.0,\"BFS_NR\":3251,\"GEBIET_NAME\":\"Altst\\u00e4tten\",\"THEMA_NAME\":\"Energie\",\"SET_NAME\":\"Gasverbrauch\",\"SUBSET_NAME\":null,\"INDIKATOR_ID\":573,\"INDIKATOR_NAME\":\"Gasverbrauch Industrie [MWh]\",\"INDIKATOR_JAHR\":2017,\"INDIKATOR_VALUE\":873.0,\"EINHEIT_KURZ\":\"MWh\",\"EINHEIT_LANG\":\"Megawattstunden\",\"Unnamed: 11\":null},{\"Unnamed: 0\":20,\"Unnamed: 0.1\":20.0,\"BFS_NR\":3251,\"GEBIET_NAME\":\"Altst\\u00e4tten\",\"THEMA_NAME\":\"Energie\",\"SET_NAME\":\"Stromverbrauch\",\"SUBSET_NAME\":null,\"INDIKATOR_ID\":574,\"INDIKATOR_NAME\":\"Stromverbrauch Total [MWh]\",\"INDIKATOR_JAHR\":2013,\"INDIKATOR_VALUE\":77874.0,\"EINHEIT_KURZ\":\"MWh\",\"EINHEIT_LANG\":\"Megawattstunden\",\"Unnamed: 11\":null},{\"Unnamed: 0\":21,\"Unnamed: 0.1\":21.0,\"BFS_NR\":3251,\"GEBIET_NAME\":\"Altst\\u00e4tten\",\"THEMA_NAME\":\"Energie\",\"SET_NAME\":\"Stromverbrauch\",\"SUBSET_NAME\":null,\"INDIKATOR_ID\":574,\"INDIKATOR_NAME\":\"Stromverbrauch Total [MWh]\",\"INDIKATOR_JAHR\":2014,\"INDIKATOR_VALUE\":75142.0,\"EINHEIT_KURZ\":\"MWh\",\"EINHEIT_LANG\":\"Megawattstunden\",\"Unnamed: 11\":null},{\"Unnamed: 0\":22,\"Unnamed: 0.1\":22.0,\"BFS_NR\":3251,\"GEBIET_NAME\":\"Altst\\u00e4tten\",\"THEMA_NAME\":\"Energie\",\"SET_NAME\":\"Stromverbrauch\",\"SUBSET_NAME\":null,\"INDIKATOR_ID\":574,\"INDIKATOR_NAME\":\"Stromverbrauch Total [MWh]\",\"INDIKATOR_JAHR\":2015,\"INDIKATOR_VALUE\":71173.0,\"EINHEIT_KURZ\":\"MWh\",\"EINHEIT_LANG\":\"Megawattstunden\",\"Unnamed: 11\":null},{\"Unnamed: 0\":23,\"Unnamed: 0.1\":23.0,\"BFS_NR\":3251,\"GEBIET_NAME\":\"Altst\\u00e4tten\",\"THEMA_NAME\":\"Energie\",\"SET_NAME\":\"Stromverbrauch\",\"SUBSET_NAME\":null,\"INDIKATOR_ID\":574,\"INDIKATOR_NAME\":\"Stromverbrauch Total [MWh]\",\"INDIKATOR_JAHR\":2016,\"INDIKATOR_VALUE\":72131.0,\"EINHEIT_KURZ\":\"MWh\",\"EINHEIT_LANG\":\"Megawattstunden\",\"Unnamed: 11\":null},{\"Unnamed: 0\":24,\"Unnamed: 0.1\":24.0,\"BFS_NR\":3251,\"GEBIET_NAME\":\"Altst\\u00e4tten\",\"THEMA_NAME\":\"Energie\",\"SET_NAME\":\"Stromverbrauch\",\"SUBSET_NAME\":null,\"INDIKATOR_ID\":574,\"INDIKATOR_NAME\":\"Stromverbrauch Total [MWh]\",\"INDIKATOR_JAHR\":2017,\"INDIKATOR_VALUE\":64626.0,\"EINHEIT_KURZ\":\"MWh\",\"EINHEIT_LANG\":\"Megawattstunden\",\"Unnamed: 11\":null},{\"Unnamed: 0\":25,\"Unnamed: 0.1\":25.0,\"BFS_NR\":3251,\"GEBIET_NAME\":\"Altst\\u00e4tten\",\"THEMA_NAME\":\"Energie\",\"SET_NAME\":\"Stromverbrauch\",\"SUBSET_NAME\":null,\"INDIKATOR_ID\":575,\"INDIKATOR_NAME\":\"Stromverbrauch Total [MWh\\/Energienutzer]\",\"INDIKATOR_JAHR\":2013,\"INDIKATOR_VALUE\":4.5,\"EINHEIT_KURZ\":\"MWh\\/Energienutzer\",\"EINHEIT_LANG\":\"Megawattstunden pro Energienutzer\",\"Unnamed: 11\":null},{\"Unnamed: 0\":26,\"Unnamed: 0.1\":26.0,\"BFS_NR\":3251,\"GEBIET_NAME\":\"Altst\\u00e4tten\",\"THEMA_NAME\":\"Energie\",\"SET_NAME\":\"Stromverbrauch\",\"SUBSET_NAME\":null,\"INDIKATOR_ID\":575,\"INDIKATOR_NAME\":\"Stromverbrauch Total [MWh\\/Energienutzer]\",\"INDIKATOR_JAHR\":2014,\"INDIKATOR_VALUE\":4.3,\"EINHEIT_KURZ\":\"MWh\\/Energienutzer\",\"EINHEIT_LANG\":\"Megawattstunden pro Energienutzer\",\"Unnamed: 11\":null},{\"Unnamed: 0\":27,\"Unnamed: 0.1\":27.0,\"BFS_NR\":3251,\"GEBIET_NAME\":\"Altst\\u00e4tten\",\"THEMA_NAME\":\"Energie\",\"SET_NAME\":\"Stromverbrauch\",\"SUBSET_NAME\":null,\"INDIKATOR_ID\":575,\"INDIKATOR_NAME\":\"Stromverbrauch Total [MWh\\/Energienutzer]\",\"INDIKATOR_JAHR\":2015,\"INDIKATOR_VALUE\":4.1,\"EINHEIT_KURZ\":\"MWh\\/Energienutzer\",\"EINHEIT_LANG\":\"Megawattstunden pro Energienutzer\",\"Unnamed: 11\":null},{\"Unnamed: 0\":28,\"Unnamed: 0.1\":28.0,\"BFS_NR\":3251,\"GEBIET_NAME\":\"Altst\\u00e4tten\",\"THEMA_NAME\":\"Energie\",\"SET_NAME\":\"Stromverbrauch\",\"SUBSET_NAME\":null,\"INDIKATOR_ID\":575,\"INDIKATOR_NAME\":\"Stromverbrauch Total [MWh\\/Energienutzer]\",\"INDIKATOR_JAHR\":2016,\"INDIKATOR_VALUE\":4.1,\"EINHEIT_KURZ\":\"MWh\\/Energienutzer\",\"EINHEIT_LANG\":\"Megawattstunden pro Energienutzer\",\"Unnamed: 11\":null},{\"Unnamed: 0\":29,\"Unnamed: 0.1\":29.0,\"BFS_NR\":3251,\"GEBIET_NAME\":\"Altst\\u00e4tten\",\"THEMA_NAME\":\"Energie\",\"SET_NAME\":\"Stromverbrauch\",\"SUBSET_NAME\":null,\"INDIKATOR_ID\":575,\"INDIKATOR_NAME\":\"Stromverbrauch Total [MWh\\/Energienutzer]\",\"INDIKATOR_JAHR\":2017,\"INDIKATOR_VALUE\":3.7,\"EINHEIT_KURZ\":\"MWh\\/Energienutzer\",\"EINHEIT_LANG\":\"Megawattstunden pro Energienutzer\",\"Unnamed: 11\":null},{\"Unnamed: 0\":30,\"Unnamed: 0.1\":30.0,\"BFS_NR\":3251,\"GEBIET_NAME\":\"Altst\\u00e4tten\",\"THEMA_NAME\":\"Energie\",\"SET_NAME\":\"Stromverbrauch\",\"SUBSET_NAME\":null,\"INDIKATOR_ID\":576,\"INDIKATOR_NAME\":\"Stromverbrauch Kleinverbraucher [MWh]\",\"INDIKATOR_JAHR\":2013,\"INDIKATOR_VALUE\":37367.0,\"EINHEIT_KURZ\":\"MWh\",\"EINHEIT_LANG\":\"Megawattstunden\",\"Unnamed: 11\":null},{\"Unnamed: 0\":31,\"Unnamed: 0.1\":31.0,\"BFS_NR\":3251,\"GEBIET_NAME\":\"Altst\\u00e4tten\",\"THEMA_NAME\":\"Energie\",\"SET_NAME\":\"Stromverbrauch\",\"SUBSET_NAME\":null,\"INDIKATOR_ID\":576,\"INDIKATOR_NAME\":\"Stromverbrauch Kleinverbraucher [MWh]\",\"INDIKATOR_JAHR\":2014,\"INDIKATOR_VALUE\":30709.0,\"EINHEIT_KURZ\":\"MWh\",\"EINHEIT_LANG\":\"Megawattstunden\",\"Unnamed: 11\":null},{\"Unnamed: 0\":32,\"Unnamed: 0.1\":32.0,\"BFS_NR\":3251,\"GEBIET_NAME\":\"Altst\\u00e4tten\",\"THEMA_NAME\":\"Energie\",\"SET_NAME\":\"Stromverbrauch\",\"SUBSET_NAME\":null,\"INDIKATOR_ID\":576,\"INDIKATOR_NAME\":\"Stromverbrauch Kleinverbraucher [MWh]\",\"INDIKATOR_JAHR\":2015,\"INDIKATOR_VALUE\":31071.0,\"EINHEIT_KURZ\":\"MWh\",\"EINHEIT_LANG\":\"Megawattstunden\",\"Unnamed: 11\":null},{\"Unnamed: 0\":33,\"Unnamed: 0.1\":33.0,\"BFS_NR\":3251,\"GEBIET_NAME\":\"Altst\\u00e4tten\",\"THEMA_NAME\":\"Energie\",\"SET_NAME\":\"Stromverbrauch\",\"SUBSET_NAME\":null,\"INDIKATOR_ID\":576,\"INDIKATOR_NAME\":\"Stromverbrauch Kleinverbraucher [MWh]\",\"INDIKATOR_JAHR\":2016,\"INDIKATOR_VALUE\":31756.0,\"EINHEIT_KURZ\":\"MWh\",\"EINHEIT_LANG\":\"Megawattstunden\",\"Unnamed: 11\":null},{\"Unnamed: 0\":34,\"Unnamed: 0.1\":34.0,\"BFS_NR\":3251,\"GEBIET_NAME\":\"Altst\\u00e4tten\",\"THEMA_NAME\":\"Energie\",\"SET_NAME\":\"Stromverbrauch\",\"SUBSET_NAME\":null,\"INDIKATOR_ID\":576,\"INDIKATOR_NAME\":\"Stromverbrauch Kleinverbraucher [MWh]\",\"INDIKATOR_JAHR\":2017,\"INDIKATOR_VALUE\":31434.0,\"EINHEIT_KURZ\":\"MWh\",\"EINHEIT_LANG\":\"Megawattstunden\",\"Unnamed: 11\":null},{\"Unnamed: 0\":35,\"Unnamed: 0.1\":35.0,\"BFS_NR\":3251,\"GEBIET_NAME\":\"Altst\\u00e4tten\",\"THEMA_NAME\":\"Energie\",\"SET_NAME\":\"Stromverbrauch\",\"SUBSET_NAME\":null,\"INDIKATOR_ID\":577,\"INDIKATOR_NAME\":\"Stromverbrauch mittelgrosse Verbraucher [MWh]\",\"INDIKATOR_JAHR\":2014,\"INDIKATOR_VALUE\":6639.0,\"EINHEIT_KURZ\":\"MWh\",\"EINHEIT_LANG\":\"Megawattstunden\",\"Unnamed: 11\":null},{\"Unnamed: 0\":36,\"Unnamed: 0.1\":36.0,\"BFS_NR\":3251,\"GEBIET_NAME\":\"Altst\\u00e4tten\",\"THEMA_NAME\":\"Energie\",\"SET_NAME\":\"Stromverbrauch\",\"SUBSET_NAME\":null,\"INDIKATOR_ID\":577,\"INDIKATOR_NAME\":\"Stromverbrauch mittelgrosse Verbraucher [MWh]\",\"INDIKATOR_JAHR\":2015,\"INDIKATOR_VALUE\":6643.0,\"EINHEIT_KURZ\":\"MWh\",\"EINHEIT_LANG\":\"Megawattstunden\",\"Unnamed: 11\":null},{\"Unnamed: 0\":37,\"Unnamed: 0.1\":37.0,\"BFS_NR\":3251,\"GEBIET_NAME\":\"Altst\\u00e4tten\",\"THEMA_NAME\":\"Energie\",\"SET_NAME\":\"Stromverbrauch\",\"SUBSET_NAME\":null,\"INDIKATOR_ID\":577,\"INDIKATOR_NAME\":\"Stromverbrauch mittelgrosse Verbraucher [MWh]\",\"INDIKATOR_JAHR\":2016,\"INDIKATOR_VALUE\":3716.0,\"EINHEIT_KURZ\":\"MWh\",\"EINHEIT_LANG\":\"Megawattstunden\",\"Unnamed: 11\":null},{\"Unnamed: 0\":38,\"Unnamed: 0.1\":38.0,\"BFS_NR\":3251,\"GEBIET_NAME\":\"Altst\\u00e4tten\",\"THEMA_NAME\":\"Energie\",\"SET_NAME\":\"Stromverbrauch\",\"SUBSET_NAME\":null,\"INDIKATOR_ID\":577,\"INDIKATOR_NAME\":\"Stromverbrauch mittelgrosse Verbraucher [MWh]\",\"INDIKATOR_JAHR\":2017,\"INDIKATOR_VALUE\":3684.0,\"EINHEIT_KURZ\":\"MWh\",\"EINHEIT_LANG\":\"Megawattstunden\",\"Unnamed: 11\":null},{\"Unnamed: 0\":39,\"Unnamed: 0.1\":39.0,\"BFS_NR\":3251,\"GEBIET_NAME\":\"Altst\\u00e4tten\",\"THEMA_NAME\":\"Energie\",\"SET_NAME\":\"Stromverbrauch\",\"SUBSET_NAME\":null,\"INDIKATOR_ID\":578,\"INDIKATOR_NAME\":\"Stromverbrauch Grossverbraucher [MWh]\",\"INDIKATOR_JAHR\":2014,\"INDIKATOR_VALUE\":37795.0,\"EINHEIT_KURZ\":\"MWh\",\"EINHEIT_LANG\":\"Megawattstunden\",\"Unnamed: 11\":null},{\"Unnamed: 0\":40,\"Unnamed: 0.1\":40.0,\"BFS_NR\":3251,\"GEBIET_NAME\":\"Altst\\u00e4tten\",\"THEMA_NAME\":\"Energie\",\"SET_NAME\":\"Stromverbrauch\",\"SUBSET_NAME\":null,\"INDIKATOR_ID\":578,\"INDIKATOR_NAME\":\"Stromverbrauch Grossverbraucher [MWh]\",\"INDIKATOR_JAHR\":2015,\"INDIKATOR_VALUE\":33459.0,\"EINHEIT_KURZ\":\"MWh\",\"EINHEIT_LANG\":\"Megawattstunden\",\"Unnamed: 11\":null},{\"Unnamed: 0\":41,\"Unnamed: 0.1\":41.0,\"BFS_NR\":3251,\"GEBIET_NAME\":\"Altst\\u00e4tten\",\"THEMA_NAME\":\"Energie\",\"SET_NAME\":\"Stromverbrauch\",\"SUBSET_NAME\":null,\"INDIKATOR_ID\":578,\"INDIKATOR_NAME\":\"Stromverbrauch Grossverbraucher [MWh]\",\"INDIKATOR_JAHR\":2016,\"INDIKATOR_VALUE\":36659.0,\"EINHEIT_KURZ\":\"MWh\",\"EINHEIT_LANG\":\"Megawattstunden\",\"Unnamed: 11\":null},{\"Unnamed: 0\":42,\"Unnamed: 0.1\":42.0,\"BFS_NR\":3251,\"GEBIET_NAME\":\"Altst\\u00e4tten\",\"THEMA_NAME\":\"Energie\",\"SET_NAME\":\"Stromverbrauch\",\"SUBSET_NAME\":null,\"INDIKATOR_ID\":578,\"INDIKATOR_NAME\":\"Stromverbrauch Grossverbraucher [MWh]\",\"INDIKATOR_JAHR\":2017,\"INDIKATOR_VALUE\":29508.0,\"EINHEIT_KURZ\":\"MWh\",\"EINHEIT_LANG\":\"Megawattstunden\",\"Unnamed: 11\":null},{\"Unnamed: 0\":43,\"Unnamed: 0.1\":43.0,\"BFS_NR\":3251,\"GEBIET_NAME\":\"Altst\\u00e4tten\",\"THEMA_NAME\":\"Energie\",\"SET_NAME\":\"Stromverbrauch\",\"SUBSET_NAME\":null,\"INDIKATOR_ID\":579,\"INDIKATOR_NAME\":\"Stromverbrauch Kleinverbraucher [%]\",\"INDIKATOR_JAHR\":2013,\"INDIKATOR_VALUE\":48.0,\"EINHEIT_KURZ\":\"%\",\"EINHEIT_LANG\":\"Prozent\",\"Unnamed: 11\":null},{\"Unnamed: 0\":44,\"Unnamed: 0.1\":44.0,\"BFS_NR\":3251,\"GEBIET_NAME\":\"Altst\\u00e4tten\",\"THEMA_NAME\":\"Energie\",\"SET_NAME\":\"Stromverbrauch\",\"SUBSET_NAME\":null,\"INDIKATOR_ID\":579,\"INDIKATOR_NAME\":\"Stromverbrauch Kleinverbraucher [%]\",\"INDIKATOR_JAHR\":2014,\"INDIKATOR_VALUE\":40.9,\"EINHEIT_KURZ\":\"%\",\"EINHEIT_LANG\":\"Prozent\",\"Unnamed: 11\":null},{\"Unnamed: 0\":45,\"Unnamed: 0.1\":45.0,\"BFS_NR\":3251,\"GEBIET_NAME\":\"Altst\\u00e4tten\",\"THEMA_NAME\":\"Energie\",\"SET_NAME\":\"Stromverbrauch\",\"SUBSET_NAME\":null,\"INDIKATOR_ID\":579,\"INDIKATOR_NAME\":\"Stromverbrauch Kleinverbraucher [%]\",\"INDIKATOR_JAHR\":2015,\"INDIKATOR_VALUE\":43.7,\"EINHEIT_KURZ\":\"%\",\"EINHEIT_LANG\":\"Prozent\",\"Unnamed: 11\":null},{\"Unnamed: 0\":46,\"Unnamed: 0.1\":46.0,\"BFS_NR\":3251,\"GEBIET_NAME\":\"Altst\\u00e4tten\",\"THEMA_NAME\":\"Energie\",\"SET_NAME\":\"Stromverbrauch\",\"SUBSET_NAME\":null,\"INDIKATOR_ID\":579,\"INDIKATOR_NAME\":\"Stromverbrauch Kleinverbraucher [%]\",\"INDIKATOR_JAHR\":2016,\"INDIKATOR_VALUE\":44.0,\"EINHEIT_KURZ\":\"%\",\"EINHEIT_LANG\":\"Prozent\",\"Unnamed: 11\":null},{\"Unnamed: 0\":47,\"Unnamed: 0.1\":47.0,\"BFS_NR\":3251,\"GEBIET_NAME\":\"Altst\\u00e4tten\",\"THEMA_NAME\":\"Energie\",\"SET_NAME\":\"Stromverbrauch\",\"SUBSET_NAME\":null,\"INDIKATOR_ID\":579,\"INDIKATOR_NAME\":\"Stromverbrauch Kleinverbraucher [%]\",\"INDIKATOR_JAHR\":2017,\"INDIKATOR_VALUE\":48.6,\"EINHEIT_KURZ\":\"%\",\"EINHEIT_LANG\":\"Prozent\",\"Unnamed: 11\":null},{\"Unnamed: 0\":48,\"Unnamed: 0.1\":48.0,\"BFS_NR\":3251,\"GEBIET_NAME\":\"Altst\\u00e4tten\",\"THEMA_NAME\":\"Energie\",\"SET_NAME\":\"Stromverbrauch\",\"SUBSET_NAME\":null,\"INDIKATOR_ID\":580,\"INDIKATOR_NAME\":\"Stromverbrauch mittelgrosse Verbraucher [%]\",\"INDIKATOR_JAHR\":2014,\"INDIKATOR_VALUE\":8.8,\"EINHEIT_KURZ\":\"%\",\"EINHEIT_LANG\":\"Prozent\",\"Unnamed: 11\":null},{\"Unnamed: 0\":49,\"Unnamed: 0.1\":49.0,\"BFS_NR\":3251,\"GEBIET_NAME\":\"Altst\\u00e4tten\",\"THEMA_NAME\":\"Energie\",\"SET_NAME\":\"Stromverbrauch\",\"SUBSET_NAME\":null,\"INDIKATOR_ID\":580,\"INDIKATOR_NAME\":\"Stromverbrauch mittelgrosse Verbraucher [%]\",\"INDIKATOR_JAHR\":2015,\"INDIKATOR_VALUE\":9.3,\"EINHEIT_KURZ\":\"%\",\"EINHEIT_LANG\":\"Prozent\",\"Unnamed: 11\":null},{\"Unnamed: 0\":50,\"Unnamed: 0.1\":50.0,\"BFS_NR\":3251,\"GEBIET_NAME\":\"Altst\\u00e4tten\",\"THEMA_NAME\":\"Energie\",\"SET_NAME\":\"Stromverbrauch\",\"SUBSET_NAME\":null,\"INDIKATOR_ID\":580,\"INDIKATOR_NAME\":\"Stromverbrauch mittelgrosse Verbraucher [%]\",\"INDIKATOR_JAHR\":2016,\"INDIKATOR_VALUE\":5.2,\"EINHEIT_KURZ\":\"%\",\"EINHEIT_LANG\":\"Prozent\",\"Unnamed: 11\":null},{\"Unnamed: 0\":51,\"Unnamed: 0.1\":51.0,\"BFS_NR\":3251,\"GEBIET_NAME\":\"Altst\\u00e4tten\",\"THEMA_NAME\":\"Energie\",\"SET_NAME\":\"Stromverbrauch\",\"SUBSET_NAME\":null,\"INDIKATOR_ID\":580,\"INDIKATOR_NAME\":\"Stromverbrauch mittelgrosse Verbraucher [%]\",\"INDIKATOR_JAHR\":2017,\"INDIKATOR_VALUE\":5.7,\"EINHEIT_KURZ\":\"%\",\"EINHEIT_LANG\":\"Prozent\",\"Unnamed: 11\":null},{\"Unnamed: 0\":52,\"Unnamed: 0.1\":52.0,\"BFS_NR\":3251,\"GEBIET_NAME\":\"Altst\\u00e4tten\",\"THEMA_NAME\":\"Energie\",\"SET_NAME\":\"Stromverbrauch\",\"SUBSET_NAME\":null,\"INDIKATOR_ID\":581,\"INDIKATOR_NAME\":\"Stromverbrauch Grossverbraucher [%]\",\"INDIKATOR_JAHR\":2014,\"INDIKATOR_VALUE\":50.3,\"EINHEIT_KURZ\":\"%\",\"EINHEIT_LANG\":\"Prozent\",\"Unnamed: 11\":null},{\"Unnamed: 0\":53,\"Unnamed: 0.1\":53.0,\"BFS_NR\":3251,\"GEBIET_NAME\":\"Altst\\u00e4tten\",\"THEMA_NAME\":\"Energie\",\"SET_NAME\":\"Stromverbrauch\",\"SUBSET_NAME\":null,\"INDIKATOR_ID\":581,\"INDIKATOR_NAME\":\"Stromverbrauch Grossverbraucher [%]\",\"INDIKATOR_JAHR\":2015,\"INDIKATOR_VALUE\":47.0,\"EINHEIT_KURZ\":\"%\",\"EINHEIT_LANG\":\"Prozent\",\"Unnamed: 11\":null},{\"Unnamed: 0\":54,\"Unnamed: 0.1\":54.0,\"BFS_NR\":3251,\"GEBIET_NAME\":\"Altst\\u00e4tten\",\"THEMA_NAME\":\"Energie\",\"SET_NAME\":\"Stromverbrauch\",\"SUBSET_NAME\":null,\"INDIKATOR_ID\":581,\"INDIKATOR_NAME\":\"Stromverbrauch Grossverbraucher [%]\",\"INDIKATOR_JAHR\":2016,\"INDIKATOR_VALUE\":50.8,\"EINHEIT_KURZ\":\"%\",\"EINHEIT_LANG\":\"Prozent\",\"Unnamed: 11\":null},{\"Unnamed: 0\":55,\"Unnamed: 0.1\":55.0,\"BFS_NR\":3251,\"GEBIET_NAME\":\"Altst\\u00e4tten\",\"THEMA_NAME\":\"Energie\",\"SET_NAME\":\"Stromverbrauch\",\"SUBSET_NAME\":null,\"INDIKATOR_ID\":581,\"INDIKATOR_NAME\":\"Stromverbrauch Grossverbraucher [%]\",\"INDIKATOR_JAHR\":2017,\"INDIKATOR_VALUE\":45.7,\"EINHEIT_KURZ\":\"%\",\"EINHEIT_LANG\":\"Prozent\",\"Unnamed: 11\":null}];\n",
              "          document.querySelector(\"#elem\").data = data;\n",
              "        </script>"
            ],
            "text/plain": [
              "<IPython.core.display.HTML object>"
            ]
          },
          "metadata": {
            "tags": []
          }
        }
      ]
    },
    {
      "cell_type": "markdown",
      "metadata": {
        "id": "-PT1dLK4OKzE",
        "colab_type": "text"
      },
      "source": [
        "###Datenaggregation & Datenanreicherung###\n",
        "\n",
        "Je nach Ziel, welches wir mit unserem ML-Modell erreichen wollen, müssen wir Daten aus verschiedenen Quellen zusammenführen (aggregieren) oder die Daten aufwerten(angereichert). \n",
        "\n",
        "https://towardsdatascience.com/data-preprocessing-concepts-fa946d11c825\n"
      ]
    },
    {
      "cell_type": "markdown",
      "metadata": {
        "id": "pzPfZCZiLn9V",
        "colab_type": "text"
      },
      "source": [
        "### Datenaufbereitung ML-Modell ###\n",
        "\n",
        "Nachdem wir uns nun einen Überblick über den Datensatz verschafft haben und bereits schon die irrelevanten Daten gelöscht oder den Datensatz mit weiteren Daten angereichert haben, müssen wir nun die Daten ins richtige Format bringen."
      ]
    },
    {
      "cell_type": "markdown",
      "metadata": {
        "id": "Jrc1pSgaKIN7",
        "colab_type": "text"
      },
      "source": [
        "####Feature Encoding\n",
        "\n",
        "Die Disziplinen im Machine Learning basieren auf mathematischen Funktionen. Womit sich die Form der im ML verwendete Daten auf nummerische Zeichen beschränken. Datensätze beinhalten in ihrer urspünglichen Form jedoch sehr wohl auch textuale und kategorische Werte, welche jedoch in dieser Form nicht in einem ML verwendet werden können. Demzufolge müssen kategorische Werte in nummerische Wert umgewandelt werden. \n",
        "\n",
        "Im Machine Learning wurden zu diesem Zweck verschiedene Verfahren entwickelt welche dem ML Engineer bei diesem Problem helfen sollen.\n",
        "Das als allgemeinhin bekannte Encoding gehört dabei zu den am meisten eingesetzten Verfahren zur Transformation von kategorische in nummerische Werte. Zu den beliebtensten Techniken gehören **Label Encoding** und **One-Hot Encoding**. Nachfolgend kurz eine Erklärung zu den einzelnen Techniken:\n",
        "\n",
        "**Label Encoding**\n",
        "Hierbei werden die kategorischen Werte in einem Datensatz Spalte für Spalte in nummerische Werte umgewandelt. Beispielsweise würde der folgenden Datensatz:\n",
        "\n",
        "Jahr | Marke | Verkaufszahlen (Mio.)\n",
        "--- | --- | ---\n",
        "1980 | Adidas | 50.5\n",
        "1980 | Puma | 30.2\n",
        "1980| Asics | 20.5\n",
        "1980| Nike | 45.2\n",
        "1990 | Adidas | 60.5\n",
        "1990 | Puma | 40.2\n",
        "1990| Asics | 50.5\n",
        "1990| Nike | 65.2\n",
        "\n",
        "so aussehen:\n",
        "\n",
        "Jahr | Marke | Verkaufszahlen (Mio.)\n",
        "--- | --- | ---\n",
        "1980 | **0** | 50.5\n",
        "1980 | **1** | 30.2\n",
        "1980| **2** | 20.5\n",
        "1980| **3** | 45.2\n",
        "1990 | **0** | 60.5\n",
        "1990 | **1** | 40.2\n",
        "1990| **2** | 50.5\n",
        "1990| **3** | 65.2\n",
        "\n",
        "Der Nachteil von Label Encoding ist die auferlegte Ordinalität mit welcher nicht alle ML-Algorithmen umgehen können. Ein wesentlicher Vorteil dieses Verfahrens ist der geringe Speicherplatzbedarf.\n",
        "\n",
        "**One-Hot Encoding**\n",
        "Beim One-Hot Encoding Verfahren wird eine Spalte mit kategorischen Daten in mehrere Spalten aufgeteilt. Dabei erhält jede Spalte einen Namen der auf dem ursprünglichen Spaltennamen basiert. Die Werte in den Spalten werden durch 1 und 0 ersetzt, je nachdem welche Spalte welchen Wert hat. Wenn wir nochmal unser Beispiel von oben nehmen, dann würde dies wie folgt aussehen:\n",
        "\n",
        "Jahr | Marke_Adidas | Marke_Puma | Marke_Asics  | Marke_Nike | Verkaufszahlen (Mio.)\n",
        "--- | --- | --- | --- | ---  | ---\n",
        "1980 | **1** | 0 | 0 | 0 | 50.5\n",
        "1980 | 0 | **1** | 0 | 0 |30.2\n",
        "1980| 0 | 0 | **1** | 0 |20.5\n",
        "1980| 0 | 0 | 0 | **1** |45.2\n",
        "1990 | **1** | 0 | 0 | 0 |60.5\n",
        "1990 | 0 | **1** | 0 | 0 |40.2\n",
        "1990| 0 | 0 | **1** | 0 |50.5\n",
        "1990| 0 | 0 | 0 | **1** |65.2 \n",
        "\n",
        "Für Zeilen mit dem ersten Spaltenwert \"Adidas\" hat die Spalte \"Marke_Adidas\" eine \"1\" und die anderen drei Spalten eine \"0\". In ähnlicher Weise haben für Zeilen mit dem ersten Spaltenwert als Puma die Spalte \"Marke_Puma\" eine \"1\" und die anderen drei Spalten \"0\" und so weiter.\n",
        "\n",
        "Der Vorteil dieses Verfahrens ist, dass wir hier anstelle kardinaler Zahlen nur binäre Werte verwenden womit keine ordinales Muster entsteht. Der Nachteil ist der durch die hohe Anzahl Spalten entstehende Speicherverbrauch und zunehmende Dimensionalität. Letzteres muss mittels Hauptkomponentenzerlegung (PCA) reduziert werden um nicht dem Fluch der Dimentsionalität zu verfallen"
      ]
    },
    {
      "cell_type": "code",
      "metadata": {
        "id": "sxjLO6QsOmno",
        "colab_type": "code",
        "colab": {}
      },
      "source": [
        "# LabelEndoder aus Scikit-learn importieren.\n",
        "\n",
        "import pandas as pd\n",
        "import numpy as np\n",
        "from sklearn.preprocessing import LabelEncoder\n",
        "\n",
        "datimploc = 'https://raw.githubusercontent.com/sakuronohana/my_datascience/master/datasets/google_stock_data.csv'\n",
        "datload = pd.read_csv(datimploc)\n",
        "\n",
        "# Instanzierung des LabelEncoder Objects\n",
        "le = LabelEncoder()\n",
        "\n",
        "# apply le on categorical feature columns\n",
        "datlabenc = datload[''].apply(lambda col: le.fit_transform(col))\n",
        "\n"
      ],
      "execution_count": 0,
      "outputs": []
    },
    {
      "cell_type": "markdown",
      "metadata": {
        "id": "nVjvbwUt1TQQ",
        "colab_type": "text"
      },
      "source": [
        "####Skalierung und Normalisierung von Merkmalen####\n",
        "\n",
        "Normalisierung ist der Prozess der Skalierung einzelner Stichproben auf Einheitsnorm. Die Skalierung ändert nur den Bereich Ihrer Daten. Normalisierung ist eine radikalere Transformation. Der Normalisierungspunkt besteht darin, Ihre Beobachtungen so zu ändern, dass sie als Normalverteilung beschrieben werden können\n",
        "\n",
        "Die Skalierung von Daten ist im ML sehr wichtig, da die ML-Algorithmen davon ausgehen, dass die Daten auf der gleichen Skala (i.d.R. 0 und 1 oder -1 und 1) liegen. Daten lassen sich auf verschiedene Arten skalieren. \n",
        "\n",
        "Nachfolgend stelle ich die eine oder andere Technik vor:"
      ]
    },
    {
      "cell_type": "markdown",
      "metadata": {
        "id": "vcjXt7xl32f2",
        "colab_type": "text"
      },
      "source": [
        "##### Min-Max-Skalierung #####\n",
        "Diese Methode gehört zu den einfachsten Skalierungstechniken. Sie verwendet die Kleinst- und Grösstwerte eines Merkmales um Werte in einem bestimmten Bereich zu skalieren. Hierzu wird folgende Berechnung angestellt:\n",
        "\n",
        "$x^´_i = \\frac{x_i-min(X)}{max(X) - min(X)} $\n",
        "\n",
        "<img src=\"https://github.com/sakuronohana/my_datascience/blob/master/doc_images/Min_Max_Skalierung.png?raw=1\" alt=\"Drawing\" width = \"600\"/>\n",
        " \n",
        " *Quelle: Min-Max Scaling image created by [Chris Albon](https://chrisalbon.com/machine_learning/preprocessing_structured_data/rescale_a_feature/)*\n",
        "\n",
        "\n",
        "\n",
        "Nachfolgend werden wir die Skalierung mittels Scikit-Learn durchführen:\n",
        "\n",
        "\n",
        "\n"
      ]
    },
    {
      "cell_type": "code",
      "metadata": {
        "id": "3nUtEKVrBy52",
        "colab_type": "code",
        "colab": {
          "base_uri": "https://localhost:8080/",
          "height": 238
        },
        "outputId": "1a7044d9-9da4-4da1-f162-669d67365099"
      },
      "source": [
        "import pandas as pd\n",
        "import numpy as np\n",
        "from sklearn.preprocessing import MinMaxScaler\n",
        "\n",
        "datimploc = 'https://raw.githubusercontent.com/sakuronohana/my_datascience/master/datasets/google_stock_data.csv'\n",
        "datload = pd.read_csv(datimploc)\n",
        "x = datload[(['Open','High','Low','Close','Volume','Adj Close'])]\n",
        "\n",
        "# Skalierer erzeugen\n",
        "scaler = MinMaxScaler()\n",
        "\n",
        "# Merkmal transformieren\n",
        "datscaled = scaler.fit_transform(x)\n",
        "datscaled"
      ],
      "execution_count": 15,
      "outputs": [
        {
          "output_type": "execute_result",
          "data": {
            "text/plain": [
              "array([[4.30832998e-01, 4.30826400e-01, 4.34726741e-01, 4.34626895e-01,\n",
              "        1.17612706e-02, 9.59583498e-01],\n",
              "       [4.22949043e-01, 4.28315601e-01, 4.27600667e-01, 4.30431051e-01,\n",
              "        1.54627933e-02, 9.51183420e-01],\n",
              "       [4.24501030e-01, 4.23764234e-01, 4.22719329e-01, 4.22682177e-01,\n",
              "        1.83101185e-02, 9.35670174e-01],\n",
              "       ...,\n",
              "       [1.02517694e-02, 1.04157419e-02, 1.16600118e-02, 8.38273135e-03,\n",
              "        2.22150736e-01, 8.38273015e-03],\n",
              "       [1.61403216e-03, 6.51205767e-03, 4.04404016e-03, 7.40965591e-03,\n",
              "        2.77885613e-01, 7.40965389e-03],\n",
              "       [7.18327772e-04, 2.05831051e-03, 0.00000000e+00, 2.94606529e-04,\n",
              "        5.43577404e-01, 2.94605348e-04]])"
            ]
          },
          "metadata": {
            "tags": []
          },
          "execution_count": 15
        }
      ]
    },
    {
      "cell_type": "markdown",
      "metadata": {
        "id": "Vvd_x7YHnDBp",
        "colab_type": "text"
      },
      "source": [
        "####Normalizierung von Beobachtungen\n",
        "\n",
        "Die Normalisierung der Daten ist ein weiterer Aspekt, den man betrachten sollte. Bei Bildern kann dies z.B. die Skalierung auf eine fixe Auflösung sowie die Anpassung der durchschnittlichen Helligkeit sein\n",
        "\n",
        "<img src=\"https://chrisalbon.com/images/machine_learning_flashcards/Normalizing_Observations_print.png\" width=\"500\"/>\n",
        "\n",
        "*Quelle: Normalizing Observation image created by [Chris Albon](https://chrisalbon.com/machine_learning/preprocessing_structured_data/normalizing_observations/)*"
      ]
    },
    {
      "cell_type": "code",
      "metadata": {
        "colab_type": "code",
        "outputId": "16d7ed78-66c4-478b-d85c-a5911f9c8978",
        "id": "qcYmLHtfE9ax",
        "colab": {
          "base_uri": "https://localhost:8080/",
          "height": 238
        }
      },
      "source": [
        "import pandas as pd\n",
        "import numpy as np\n",
        "from sklearn.preprocessing import Normalizer\n",
        "\n",
        "datimploc = 'https://raw.githubusercontent.com/sakuronohana/my_datascience/master/datasets/google_stock_data.csv'\n",
        "datload = pd.read_csv(datimploc)\n",
        "x = datload[(['Open','High','Low','Close','Volume','Adj Close'])]\n",
        "\n",
        "# Normalizer erzeugen\n",
        "normalizer = Normalizer(norm='l2')\n",
        "\n",
        "# Feature matrix transformieren\n",
        "datnorm = normalizer.transform(x)\n",
        "datnorm\n"
      ],
      "execution_count": 18,
      "outputs": [
        {
          "output_type": "execute_result",
          "data": {
            "text/plain": [
              "array([[5.97794909e-04, 6.00186114e-04, 5.96773047e-04, 5.99695603e-04,\n",
              "        9.99999104e-01, 5.99695603e-04],\n",
              "       [4.48650639e-04, 4.55192222e-04, 4.48564990e-04, 4.53362138e-04,\n",
              "        9.99999490e-01, 4.53362138e-04],\n",
              "       [3.80397875e-04, 3.81398451e-04, 3.75566058e-04, 3.77514595e-04,\n",
              "        9.99999642e-01, 3.77514595e-04],\n",
              "       ...,\n",
              "       [6.03780181e-06, 6.18663416e-06, 5.94512195e-06, 5.96420312e-06,\n",
              "        1.00000000e+00, 2.97912243e-06],\n",
              "       [4.40269605e-06, 4.75444091e-06, 4.38046681e-06, 4.72087901e-06,\n",
              "        1.00000000e+00, 2.35808140e-06],\n",
              "       [2.22859975e-06, 2.31908106e-06, 2.13856441e-06, 2.23617716e-06,\n",
              "        1.00000000e+00, 1.11697161e-06]])"
            ]
          },
          "metadata": {
            "tags": []
          },
          "execution_count": 18
        }
      ]
    }
  ]
}