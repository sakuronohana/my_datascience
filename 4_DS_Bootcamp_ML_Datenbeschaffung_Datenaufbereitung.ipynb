{
  "nbformat": 4,
  "nbformat_minor": 0,
  "metadata": {
    "colab": {
      "name": "DS Bootcamp Machine Learning Datenbeschaffung Datenaufbereitung ipynb",
      "provenance": [],
      "include_colab_link": true
    },
    "kernelspec": {
      "name": "python3",
      "display_name": "Python 3"
    }
  },
  "cells": [
    {
      "cell_type": "markdown",
      "metadata": {
        "id": "view-in-github",
        "colab_type": "text"
      },
      "source": [
        "<a href=\"https://colab.research.google.com/github/sakuronohana/my_datascience/blob/master/4_DS_Bootcamp_ML_Datenbeschaffung_Datenaufbereitung.ipynb\" target=\"_parent\"><img src=\"https://colab.research.google.com/assets/colab-badge.svg\" alt=\"Open In Colab\"/></a>"
      ]
    },
    {
      "cell_type": "markdown",
      "metadata": {
        "id": "SyxBmxgRxnMS",
        "colab_type": "text"
      },
      "source": [
        "# DS Bootcamp Teil 2 - Machine Learning - Datenbeschaffung & Datenaufbereitung #"
      ]
    },
    {
      "cell_type": "markdown",
      "metadata": {
        "id": "wzg8_V-3-pOb",
        "colab_type": "text"
      },
      "source": [
        "## DS Bootcamp Verzeichnis ##\n",
        "\n",
        "[**Teil 1 - Data Science - Prozesse & Grundlagen**](https://github.com/sakuronohana/my_datascience/blob/master/1_DS_Bootcamp_Prozesse_%26_Grundlagen.ipynb)\n",
        "\n",
        "[**Teil 1a - Data Science - Python Basic & Advanced**](https://github.com/sakuronohana/my_datascience/blob/master/2_DS_Bootcamp_Python_Basic_%26_Advanced.ipynb)\n",
        "\n",
        "[**Teil 1b - Data Science - R Basic & Advanced**](https://github.com/sakuronohana/my_datascience/blob/master/3_DS_Bootcamp_R_Basic_%26_Advanced.ipynb)\n",
        "\n",
        "[**Teil 2 - Data Science - ML - Datenbeschaffung & Datenaufbereitung**](https://github.com/sakuronohana/my_datascience/blob/master/4_DS_Bootcamp_ML_Datenbeschaffung_Datenaufbereitung.ipynb)\n",
        "\n",
        "[**Teil 3 - Data Science - ML - Modellwahl**](https://github.com/sakuronohana/my_datascience/blob/master/5_DS_Bootcamp_ML_Modellwahl.ipynb)\n",
        "\n",
        "[**Teil 4 - Data Science - ML - Modell Training, Testing & Optimierung**](https://github.com/sakuronohana/my_datascience/blob/master/6_DS_Bootcamp_ML_Modell_Train_Test_Optimize.ipynb)\n",
        "\n",
        "[**Teil 5 - Data Science - ML - Modell Produktivsetzung, Überwachung & Pflege**](https://github.com/sakuronohana/my_datascience/blob/master/7_DS_Bootcamp_ML_Modell_Deploy_Monitor_Maintain.ipynb)"
      ]
    },
    {
      "cell_type": "markdown",
      "metadata": {
        "id": "R_IA7ITTJFce",
        "colab_type": "text"
      },
      "source": [
        "##Datenbeschaffung (Research/Data Gathering)##\n",
        "\n",
        "Die Beschaffung der richtigen Daten zur Erreichung des gesetzten Zieles stellt sich oft als schwieriger heraus als gedacht. Einen Datensatz in der richtigen Qualität und Quantität zu finden ist oft eine Herausforderung. Mit viel Glück bestehen im eigenen Unternehmen grossen Datenmengen die genutzt werden können. Oft müssen diese jedoch noch zusätzlich mit externen Daten angereichert werden."
      ]
    },
    {
      "cell_type": "markdown",
      "metadata": {
        "id": "qpvkX09dU1j4",
        "colab_type": "text"
      },
      "source": [
        "###Datensatzsuche im Internet###\n",
        "\n",
        "Nachfolgend werden ein paar wertvolle Quellen für den Bezug von Datensätzen aufgelistet. Die meisten dieser Datenquellen sind frei zugänglich:\n",
        "\n",
        "*  Google Dataset Search - Ist eine von Google optimierte Engine für die Suche von Datensätzen [Link](https://toolbox.google.com/datasetsearch)\n",
        "*  Google Dataset Selection [Link](https://ai.google/tools/datasets/)\n",
        "*  Google TensorFlow Datasets - Mit dem Module tensorflow_dataset können verschieden Datensätze für das Testen von ML Modellen angezogen werden [Link](https://www.tensorflow.org/datasets/catalog/overview) \n",
        "*  Kaggle Datasets - Die grosse DS Competition Platform Kaggle verfügt über eine Vielzahl von guten Datensätzen [Link](https://www.kaggle.com/datasets)\n",
        "*  U.S. Government’s open data - Datenbank mit ein Vielzahl von Datensätzen ermittelt durch die U.S Regierung [Link](https://www.data.gov/)\n",
        "*  Swiss Open Government Data - Datensätze der Schweizer Regierung [Link](https://opendata.swiss/de/)\n",
        "*  European Bioinformatics Institute - Enthält eine Vielzahl von Daten aus dem Domains Biologie und Chemie [Link](https://www.ebi.ac.uk/services)\n",
        "* Cool Datasets - Sammlung von Datensatzquellen [Link](https://www.cooldatasets.com/)\n",
        "*  Wikipedia List of Datasets - Wikipedia Seite mit einer Vielzahl von Links zu Datensätzen [Link](https://en.wikipedia.org/wiki/List_of_datasets_for_machine-learning_research)\n",
        "\n",
        "Neben den oben gelisteten Datensätze gibt es noch eine Menge mehr. Am besten jeweils mit folgenden Suchbegriffen in Google suchen:\n",
        "\n",
        "    open dataset for \"Thema\"\n"
      ]
    },
    {
      "cell_type": "markdown",
      "metadata": {
        "colab_type": "text",
        "id": "qNntcDOQxuMI"
      },
      "source": [
        "###Bilder selber herstellen###\n",
        "\n",
        "Neben den unzähligen Datensets welche sich im Internet finden lassen, gibt es auch andere Möglichkeiten Bilder für die das Trainieren eines Klassifikators zu erstellen.\n",
        "\n",
        "***Bilder mit Fotokamera erstellen***\n",
        "\n",
        "Diese Methode gehört wohl zur mühsamsten Art um Bilder selber herzustellen, da es für das Training eines Klassifikators tausende von Bildern braucht.\n",
        "\n",
        "***Bilder aus Video extrahieren***\n",
        "\n",
        "Ein guter Trick um in einer kurzen Zeit zu vielen Bildern zu gelangen ist ein Video eines Gegenstands zu drehen. Die einzelnen Bilder lassen sich dann mit dem Tool ffmpeg aus dem Video extrahieren:\n",
        "\n",
        "   *ffmpeg -i schale.mp4 schale%03d.jpg*\n",
        "\n"
      ]
    },
    {
      "cell_type": "markdown",
      "metadata": {
        "colab_type": "text",
        "id": "4H8Ea2zyHsNK"
      },
      "source": [
        "###Scraping (Sammeln) von Google Images###\n",
        "\n",
        "Google verfügt mittlerweilen über eine riesige Datenbank von Bildern, welche sich natürlich gut für das Training von Klassifikatoren (Neuronale Netzwerke)eignet.\n",
        "\n",
        "Nachfolgend kurz eine kleines Python-Script für die Sammlung von verschiedenen Bildern"
      ]
    },
    {
      "cell_type": "code",
      "metadata": {
        "colab_type": "code",
        "id": "yAXhWVUaF3O7",
        "colab": {}
      },
      "source": [
        "# importing google_images_download module\n",
        "from google_images_download import google_images_download\n",
        "\n",
        "# creating object \n",
        "response = google_images_download.googleimagesdownload()\n",
        "\n",
        "search_queries = ['Dogs', \n",
        "                  'Cats',]\n",
        "  \n",
        "def downloadimages(query): \n",
        "    # keywords is the search query \n",
        "    # format is the image file format \n",
        "    # limit is the number of images to be downloaded \n",
        "    # print urs is to print the image file url \n",
        "    # size is the image size which can \n",
        "    # be specified manually (\"large, medium, icon\") \n",
        "    # aspect ratio denotes the height width ratio \n",
        "    # of images to download. (\"tall, square, wide, panoramic\") \n",
        "    arguments = {\"keywords\": query, \n",
        "                 \"format\": \"jpg\", \n",
        "                 \"limit\":4, \n",
        "                 \"print_urls\":True, \n",
        "                 \"size\": \"medium\"} \n",
        "    try: \n",
        "        response.download(arguments) \n",
        "      \n",
        "    # Handling File NotFound Error     \n",
        "    except FileNotFoundError:  \n",
        "        arguments = {\"keywords\": query, \n",
        "                     \"format\": \"jpg\", \n",
        "                     \"limit\":4, \n",
        "                     \"print_urls\":True,  \n",
        "                     \"size\": \"medium\"} \n",
        "                       \n",
        "        # Providing arguments for the searched query \n",
        "        try: \n",
        "            # Downloading the photos based \n",
        "            # on the given arguments \n",
        "            response.download(arguments)  \n",
        "        except: \n",
        "            pass\n",
        "  \n",
        "# Driver Code \n",
        "for query in search_queries: \n",
        "    downloadimages(query)  \n",
        "    print()  "
      ],
      "execution_count": 0,
      "outputs": []
    },
    {
      "cell_type": "markdown",
      "metadata": {
        "id": "0czLYODUdz6L",
        "colab_type": "text"
      },
      "source": [
        "### Extraktion von Informationen (Daten) aus XML/HTML ###\n",
        "\n",
        "Daten lassen sich auch direkt aus XML oder HTML Inhalten auslesen. Zu diesem Zweck gibt es eine Python Bibliothek namens \"Beautiful Soup\" [Link](https://www.crummy.com/software/BeautifulSoup/bs4/doc/). Nachfolgend ein kleines Python Beispiel:\n",
        "\n",
        "\n",
        "Ein ***Parser*** [ˈpɑːʁzɐ] (engl. to parse, „analysieren“, bzw. lateinisch pars, „Teil“; im Deutschen gelegentlich auch Zerteiler) ist ein Computerprogramm, das in der Informatik für die Zerlegung und Umwandlung einer Eingabe in ein für die Weiterverarbeitung geeigneteres Format zuständig ist."
      ]
    },
    {
      "cell_type": "code",
      "metadata": {
        "id": "TOGfL912fCF-",
        "colab_type": "code",
        "colab": {
          "base_uri": "https://localhost:8080/",
          "height": 102
        },
        "outputId": "ffe86a75-2eab-4a5d-9325-5d19d3225f66"
      },
      "source": [
        "''' Installation der Python Bibliothek. Hinweis: Auf Google Colab ist die Bibliothenk bereits installiert ''' \n",
        "\n",
        "!pip install beautifulsoup4\n",
        "\n",
        "''' Installation des XML Parser'''\n",
        "!pip install lxml\n",
        "\n",
        "''' Installation dex HMLM Parser '''\n",
        "!pip install html5lib"
      ],
      "execution_count": 1,
      "outputs": [
        {
          "output_type": "stream",
          "text": [
            "Requirement already satisfied: beautifulsoup4 in /usr/local/lib/python3.6/dist-packages (4.6.3)\n",
            "Requirement already satisfied: lxml in /usr/local/lib/python3.6/dist-packages (4.2.6)\n",
            "Requirement already satisfied: html5lib in /usr/local/lib/python3.6/dist-packages (1.0.1)\n",
            "Requirement already satisfied: webencodings in /usr/local/lib/python3.6/dist-packages (from html5lib) (0.5.1)\n",
            "Requirement already satisfied: six>=1.9 in /usr/local/lib/python3.6/dist-packages (from html5lib) (1.12.0)\n"
          ],
          "name": "stdout"
        }
      ]
    },
    {
      "cell_type": "code",
      "metadata": {
        "id": "FfCXi4JvfjT8",
        "colab_type": "code",
        "colab": {}
      },
      "source": [
        "# Nun können wir das entsprechenden Modul laden bzw. importieren\n",
        "\n",
        "from bs4 import BeautifulSoup\n",
        "\n",
        "# The requests library will make a GET request to a web server, which will download the HTML contents of a given web page for us\n",
        "import requests as rq  "
      ],
      "execution_count": 0,
      "outputs": []
    },
    {
      "cell_type": "code",
      "metadata": {
        "id": "SlXMNxm9-ZNh",
        "colab_type": "code",
        "colab": {
          "base_uri": "https://localhost:8080/",
          "height": 34
        },
        "outputId": "c340a791-7a8f-4120-b056-b2b95a0030d2"
      },
      "source": [
        "# Nun werden wir mit Hilfe von Reqiest eine Webseite herunterladen\n",
        "\n",
        "page = rq.get(\"http://dataquestio.github.io/web-scraping-pages/simple.html\")\n",
        "page.status_code\n",
        "\n",
        "''' Ist der Status Code 200, dann hat der Download funktioniert. Fängt der \n",
        "Code mit 4 oder 5 an, dann besteht ein Error"
      ],
      "execution_count": 8,
      "outputs": [
        {
          "output_type": "execute_result",
          "data": {
            "text/plain": [
              "200"
            ]
          },
          "metadata": {
            "tags": []
          },
          "execution_count": 8
        }
      ]
    },
    {
      "cell_type": "markdown",
      "metadata": {
        "id": "XeuHVeVEr04x",
        "colab_type": "text"
      },
      "source": [
        "###Datenformate###\n",
        "\n",
        "Daten können beispielsweise direkt aus Datenbanken (Rationale DB, Polystrukturierte DB usw.) oder mittels Dateien extrahiert werden. Während man im Unternehmen selbst oft auf Datenbanken wie das Data Warehouse (DWH oder IWH) usw. mittels SQL zugreifen und Daten daraus extrahieren kann, sind im Internet verschiedene Dateiformate im Umlauf. Welches Format am Besten ist, ist oft eine philosophische Angelegenheit. Es gibt aber teilweise Unterschiede im Bezug auf die Performance beim Import (bspw. CSVs werden viel schneller geladen als XLSX) Nachfolgend die wichtigsten bzw. beliebtesten Formate (siehe detailierte Beschreibung ([Link](https://towardsdatascience.com/guide-to-file-formats-for-machine-learning-columnar-training-inferencing-and-the-feature-store-2e0c3d18d4f9)):\n",
        "\n",
        "* Columnar Data File Formats (Database-Files)\n",
        "  * .parquet\n",
        "  * .orc\n",
        "  * .petastorm\n",
        "* Tabular Text-based File Formats\n",
        "  * .csv\n",
        "  * .xlsx\n",
        "* Nested File Formats\n",
        "  * .tfrecords\n",
        "  * .json\n",
        "  * .xml\n",
        "  * .avro\n",
        "* Array-Based Formats\n",
        "  * .npy\n",
        "* Hierarchical Data Formats\n",
        " * .h5\n",
        " * .hdf5\n",
        " * .nc\n",
        "* Model File Formats\n",
        " * .pb\n",
        " * .onnx\n",
        " * .pkl\n",
        " * .mlmodel\n",
        " * .zip\n",
        " * .pmml\n",
        " * .pt\n",
        "\n",
        " Nachfolgend die verwendeten Datenformat noch nach Einsatzzweck:\n",
        " <img src=\"https://miro.medium.com/max/715/0*H7CB1kGuukCv2rcK.png\" alt=\"Drawing\" width = \"500\"/>\n",
        "  <img src=\"https://miro.medium.com/max/626/0*0MZyp6CdafGNrnUr.png\" alt=\"Drawing\" width = \"500\"/>\n",
        "  <img src=\"https://miro.medium.com/max/713/0*phrNmrrcyoX-lnIE.png\" alt=\"Drawing\" width = \"500\"/>\n",
        "\n"
      ]
    },
    {
      "cell_type": "markdown",
      "metadata": {
        "id": "FoNpJtqD1erP",
        "colab_type": "text"
      },
      "source": [
        "##Datenaufbereitung (Data Pre-Processing)##\n",
        "\n",
        "Beim Data Pre-Processing, geht es im Wesentlichen darum, die Daten für das ML-Modell nutzbar zu machen. Was sich hier so einfach anhört ist in der Praxis ein relativ aufwendiger Prozess und benötigt nebst der Datenbeschaffung das grösste Zeitbudget. Das DPP besteht aus folgenden nicht abschliessenden Aktivitäten:\n",
        "\n",
        "* **Datenbereinigung**. Entfernen oder Korrigieren von Datensätzen mit beschädigten oder ungültigen Werten aus Rohdaten sowie Entfernen von Datensätzen, bei denen eine große Zahl von Spalten fehlt\n",
        "* **Instanzauswahl und Partitionierung**. Auswählen von Datenpunkten aus dem Eingabe-Dataset zum Erstellen von Trainings-, Evaluations- (Validierungs-) und Testdaten. Dieser Prozess umfasst Verfahren für wiederholbare, zufällige Stichproben, die Überabtastung von \"Minderheitsklassen\" und geschichtete Partitionierung.\n",
        "* **Abstimmung von Merkmalen**. Verbessern der Qualität eines Merkmals für ML, einschließlich der Skalierung und Normalisierung numerischer Werte, der Eingabe fehlender Werte, des Ausklammerns von Ausreißern und der Anpassung von Werten mit asymmetrischen Verteilungen\n",
        "* **Darstellungstransformation**. Umwandeln eines numerischen Merkmals in ein kategoriales Merkmal (durch \"Bucketization\") und Umwandeln kategorialer Merkmale in eine numerische Darstellung (durch One-Hot-Codierung, Lernen mit Anzahlen, Einbetten von Merkmalen mit geringer Dichte usw.). Einige Modelle funktionieren nur mit numerischen oder kategorialen Merkmalen, andere können gemischte Merkmale verarbeiten. Auch wenn Modelle beide Typen verarbeiten können, können sie von einer unterschiedlichen Darstellung (numerisch und kategorial) desselben Merkmals profitieren.\n",
        "* **Extraktion von Merkmalen**. Reduzieren der Anzahl von Merkmalen durch das Erstellen von Datendarstellungen mit weniger Dimensionen und höherer Leistungsfähigkeit. Dabei werden Verfahren wie PCA, das Extrahieren von Einbettungen und Hashen eingesetzt.\n",
        "* **Auswahl von Merkmalen**. Auswählen einer Teilmenge der Eingabemerkmale zum Trainieren des Modells und Ignorieren irrelevanter oder redundanter Merkmale mithilfe von Filter- oder Wrapper-Methoden. Das kann auch einfaches Löschen von Merkmalen beinhalten, wenn bei den Merkmalen eine große Zahl von Werten fehlt\n",
        "* **Erstellung von Merkmalen**. Erstellen neuer Merkmale, entweder mithilfe typischer Methoden wie Polynom-Erweiterung (Distributiv-/Verteilungsgesetze) – durch Verwendung univariater mathematischer Funktionen – oder durch Feature Crossing (zum Erfassen von Merkmalsinteraktionen). Merkmale können auch mithilfe von Geschäftslogik aus dem Fachbereich des ML-Anwendungsfalls erstellt werden."
      ]
    },
    {
      "cell_type": "markdown",
      "metadata": {
        "id": "4vexp-ZwJWfG",
        "colab_type": "text"
      },
      "source": [
        "\n",
        "\n",
        "###Datensatzanalyse### \n",
        "\n",
        "\n",
        "\n",
        "\n"
      ]
    },
    {
      "cell_type": "markdown",
      "metadata": {
        "id": "K30KXvfZsFb2",
        "colab_type": "text"
      },
      "source": [
        "\n",
        "Meist visuelle Erkundung der Art und Struktur des Datensatzes. Oft wird in dieser Phase folgende Punkte ermittelt:\n",
        "  * Datentyp (nummerische oder kategorische Werte)\n",
        "  * Datensatzwerte (oft pro Feature):\n",
        "    * Anzahl Datensätze (Count)\n",
        "    * Anzahl fehlende Werte (Missing)\n",
        "    * Arihmetischer Mittelwert (Mean) -> nur nummerischen Features\n",
        "    * Zentralwert (Median)\n",
        "    * Häufigster Wert (Modus)\n",
        "    * Standardabweichung (Standard Deviation) -> nur nummerischen Features \n",
        "    * Null-Werte (Zeros)\n",
        "    * Kleinster Wert (Min)\n",
        "    * Grösster Wert (Max)\n",
        "    * Anzahl einmaliger Werte (Uniques)"
      ]
    },
    {
      "cell_type": "markdown",
      "metadata": {
        "id": "ehw67eDEr11r",
        "colab_type": "text"
      },
      "source": [
        "####Tools####\n",
        "\n",
        "Für die Datensatzanalyse bzw. Erkundung der Daten bestehen verschiedene Methoden und Tools. Nachfolgenden werden ein paar mögliche Toosl und Methoden vorgestellt:"
      ]
    },
    {
      "cell_type": "markdown",
      "metadata": {
        "id": "fIGMx7G8tNXU",
        "colab_type": "text"
      },
      "source": [
        "#####**Facets**#####\n",
        "\n",
        "Eines meiner absoluten Lieblingstools ist das von Google zur Verfügung gestellte Tool **Facets** ([Link](https://pair-code.github.io/facets/)) an. Mittels Facets lassen sich die Daten aus mehreren Sichten betrachte.\n",
        "\n",
        "OVERVIEW\n",
        "\n",
        "Mit der Übersicht (engl. Overview) werden Feature-Daten aus einer beliebigen Anzahl von Datensätzen abgerufen, Feature für Feature analysiert und die Analyse visualisiert.\n",
        "Die Übersicht bietet Benutzern ein schnelles Verständnis der Werteverteilung über die Features ihrer Datenmenge. Es lassen sich damit ungewöhnliche und häufige Probleme wie unerwartete Merkmalswerte, fehlende Merkmalswerte für eine große Anzahl von Beobachtungen, mögliche Verzerrungen beim Trainieren / Testen / Validieren etc. endecken.\n",
        "\n",
        " <img src=\"https://3.bp.blogspot.com/-lkb4w1DrJ-A/WWzzyPC428I/AAAAAAAAB48/TrSFgqxaYPY-jMv0cmXJaskUz9ImyXxLwCLcBGAs/s1600/image3.png\" alt=\"Drawing\" width = \"800\"/>\n",
        "  \n",
        "DIVE\n",
        "\n",
        "Dive bietet eine interaktive Oberfläche zum Erkunden der Beziehung zwischen Datenpunkten für alle verschiedenen Funktionen eines Datensatzes. Jedes einzelne Element in der Visualisierung repräsentiert einen Datenpunkt. Positionieren Sie Elemente, indem Sie sie anhand ihrer Feature-Werte \"facettieren\" oder in mehrere Dimensionen unterteilen. Zu den Erfolgsgeschichten von Dive gehören das Erkennen von Klassifikatorfehlern, das Erkennen systematischer Fehler, das Bewerten der Grundwahrheit und potenzielle neue Signale für die Rangfolge.\n",
        "\n",
        " <img src=\"https://raw.githubusercontent.com/PAIR-code/facets/master/img/dive-census.png\" alt=\"Drawing\" width = \"800\"/>\n",
        "\n",
        " Es gibt grundsätzlich zwei Arten um Facets zu nutzen. Einerseits können Daten direkt auf das Facets [Portal](https://pair-code.github.io/facets/)) geladen werden. Hier gilt natürlich zu beachten, dass es wohl nicht wirklich sinnvoll ist beispielsweise vertrauliche Unternehmensdaten auf das Portal zu laden. Die zweite Möglichkeit ist es Facets in einem Jupyter Notebook einzubinden. Nachfolgenden möchte ich diese Möglichkeit genauer aufzeigen.\n",
        "\n",
        "\n",
        "***Anwendung Facets in Jupyter Notebook***\n",
        "\n",
        "Auf dem folgenden Link ist eine detailierte Installationsanleitung zu finden [Link](https://github.com/PAIR-code/facets)"
      ]
    },
    {
      "cell_type": "code",
      "metadata": {
        "id": "4Oen8CjS0qeq",
        "colab_type": "code",
        "outputId": "e9785be2-ea9c-4f10-d92a-8376bbd25ce5",
        "colab": {
          "base_uri": "https://localhost:8080/",
          "height": 224
        }
      },
      "source": [
        "# Facets Komponenten installieren\n",
        "\n",
        "!pip install facets-overview"
      ],
      "execution_count": 0,
      "outputs": [
        {
          "output_type": "stream",
          "text": [
            "Collecting facets-overview\n",
            "  Downloading https://files.pythonhosted.org/packages/df/8a/0042de5450dbd9e7e0773de93fe84c999b5b078b1f60b4c19ac76b5dd889/facets_overview-1.0.0-py2.py3-none-any.whl\n",
            "Requirement already satisfied: protobuf>=3.7.0 in /usr/local/lib/python3.6/dist-packages (from facets-overview) (3.10.0)\n",
            "Requirement already satisfied: pandas>=0.22.0 in /usr/local/lib/python3.6/dist-packages (from facets-overview) (0.25.3)\n",
            "Requirement already satisfied: numpy>=1.16.0 in /usr/local/lib/python3.6/dist-packages (from facets-overview) (1.17.4)\n",
            "Requirement already satisfied: six>=1.9 in /usr/local/lib/python3.6/dist-packages (from protobuf>=3.7.0->facets-overview) (1.12.0)\n",
            "Requirement already satisfied: setuptools in /usr/local/lib/python3.6/dist-packages (from protobuf>=3.7.0->facets-overview) (42.0.2)\n",
            "Requirement already satisfied: python-dateutil>=2.6.1 in /usr/local/lib/python3.6/dist-packages (from pandas>=0.22.0->facets-overview) (2.6.1)\n",
            "Requirement already satisfied: pytz>=2017.2 in /usr/local/lib/python3.6/dist-packages (from pandas>=0.22.0->facets-overview) (2018.9)\n",
            "Installing collected packages: facets-overview\n",
            "Successfully installed facets-overview-1.0.0\n"
          ],
          "name": "stdout"
        }
      ]
    },
    {
      "cell_type": "code",
      "metadata": {
        "id": "g0NcDfv8yhzD",
        "colab_type": "code",
        "colab": {}
      },
      "source": [
        "import pandas as pd\n",
        "\n",
        "datloc = 'https://raw.githubusercontent.com/sakuronohana/my_datascience/master/datasets/new_strada2_data_2738408.csv'\n",
        "\n",
        "datimp = pd.read_csv(datloc)\n"
      ],
      "execution_count": 0,
      "outputs": []
    },
    {
      "cell_type": "code",
      "metadata": {
        "id": "sYoL9gAi2uoG",
        "colab_type": "code",
        "colab": {}
      },
      "source": [
        "# Create the feature stats for the datasets and stringify it.\n",
        "import base64\n",
        "from facets_overview.generic_feature_statistics_generator import GenericFeatureStatisticsGenerator\n",
        "\n",
        "gfsg = GenericFeatureStatisticsGenerator()\n",
        "proto = gfsg.ProtoFromDataFrames([{'name': 'train', 'table': datimp}])\n",
        "protostr = base64.b64encode(proto.SerializeToString()).decode(\"utf-8\")"
      ],
      "execution_count": 0,
      "outputs": []
    },
    {
      "cell_type": "code",
      "metadata": {
        "id": "wksMNNyN3L8y",
        "colab_type": "code",
        "outputId": "c826b2a0-3cf8-430f-d05b-708f65aa4a11",
        "colab": {
          "base_uri": "https://localhost:8080/",
          "height": 1000
        }
      },
      "source": [
        "# Display the facets overview visualization for this data\n",
        "from IPython.core.display import display, HTML\n",
        "\n",
        "HTML_TEMPLATE = \"\"\"\n",
        "        <script src=\"https://cdnjs.cloudflare.com/ajax/libs/webcomponentsjs/1.3.3/webcomponents-lite.js\"></script>\n",
        "        <link rel=\"import\" href=\"https://raw.githubusercontent.com/PAIR-code/facets/1.0.0/facets-dist/facets-jupyter.html\" >\n",
        "        <facets-overview id=\"elem\"></facets-overview>\n",
        "        <script>\n",
        "          document.querySelector(\"#elem\").protoInput = \"{protostr}\";\n",
        "        </script>\"\"\"\n",
        "html = HTML_TEMPLATE.format(protostr=protostr)\n",
        "display(HTML(html))"
      ],
      "execution_count": 0,
      "outputs": [
        {
          "output_type": "display_data",
          "data": {
            "text/html": [
              "\n",
              "        <script src=\"https://cdnjs.cloudflare.com/ajax/libs/webcomponentsjs/1.3.3/webcomponents-lite.js\"></script>\n",
              "        <link rel=\"import\" href=\"https://raw.githubusercontent.com/PAIR-code/facets/1.0.0/facets-dist/facets-jupyter.html\" >\n",
              "        <facets-overview id=\"elem\"></facets-overview>\n",
              "        <script>\n",
              "          document.querySelector(\"#elem\").protoInput = \"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\";\n",
              "        </script>"
            ],
            "text/plain": [
              "<IPython.core.display.HTML object>"
            ]
          },
          "metadata": {
            "tags": []
          }
        }
      ]
    },
    {
      "cell_type": "code",
      "metadata": {
        "id": "dJ0L5LWa19xU",
        "colab_type": "code",
        "outputId": "d9f248c0-62fd-413f-c420-d6ae9256debe",
        "colab": {
          "base_uri": "https://localhost:8080/",
          "height": 617
        }
      },
      "source": [
        "# Die Daten können nun in Dive wie folgt visualisiert werden.\n",
        "from IPython.core.display import display, HTML\n",
        "\n",
        "jsonstr = datimp.to_json(orient='records')\n",
        "HTML_TEMPLATE = \"\"\"\n",
        "        <script src=\"https://cdnjs.cloudflare.com/ajax/libs/webcomponentsjs/1.3.3/webcomponents-lite.js\"></script>\n",
        "        <link rel=\"import\" href=\"https://raw.githubusercontent.com/PAIR-code/facets/1.0.0/facets-dist/facets-jupyter.html\">\n",
        "        <facets-dive id=\"elem\" height=\"600\"></facets-dive>\n",
        "        <script>\n",
        "          var data = {jsonstr};\n",
        "          document.querySelector(\"#elem\").data = data;\n",
        "        </script>\"\"\"\n",
        "html = HTML_TEMPLATE.format(jsonstr=jsonstr)\n",
        "display(HTML(html))"
      ],
      "execution_count": 0,
      "outputs": [
        {
          "output_type": "display_data",
          "data": {
            "text/html": [
              "\n",
              "        <script src=\"https://cdnjs.cloudflare.com/ajax/libs/webcomponentsjs/1.3.3/webcomponents-lite.js\"></script>\n",
              "        <link rel=\"import\" href=\"https://raw.githubusercontent.com/PAIR-code/facets/1.0.0/facets-dist/facets-jupyter.html\">\n",
              "        <facets-dive id=\"elem\" height=\"600\"></facets-dive>\n",
              "        <script>\n",
              "          var data = [{\"Unnamed: 0\":0,\"Unnamed: 0.1\":null,\"BFS_NR\":3251,\"GEBIET_NAME\":\"Altst\\u00e4tten\",\"THEMA_NAME\":\"Energie\",\"SET_NAME\":\"Gasverbrauch\",\"SUBSET_NAME\":null,\"INDIKATOR_ID\":570,\"INDIKATOR_NAME\":\"Gasverbrauch Total [MWh]\",\"INDIKATOR_JAHR\":2013,\"INDIKATOR_VALUE\":32838.0,\"EINHEIT_KURZ\":\"MWh\",\"EINHEIT_LANG\":\"Megawattstunden\",\"Unnamed: 11\":null},{\"Unnamed: 0\":1,\"Unnamed: 0.1\":1.0,\"BFS_NR\":3251,\"GEBIET_NAME\":\"Altst\\u00e4tten\",\"THEMA_NAME\":\"Energie\",\"SET_NAME\":\"Gasverbrauch\",\"SUBSET_NAME\":null,\"INDIKATOR_ID\":570,\"INDIKATOR_NAME\":\"Gasverbrauch Total [MWh]\",\"INDIKATOR_JAHR\":2014,\"INDIKATOR_VALUE\":26909.0,\"EINHEIT_KURZ\":\"MWh\",\"EINHEIT_LANG\":\"Megawattstunden\",\"Unnamed: 11\":null},{\"Unnamed: 0\":2,\"Unnamed: 0.1\":2.0,\"BFS_NR\":3251,\"GEBIET_NAME\":\"Altst\\u00e4tten\",\"THEMA_NAME\":\"Energie\",\"SET_NAME\":\"Gasverbrauch\",\"SUBSET_NAME\":null,\"INDIKATOR_ID\":570,\"INDIKATOR_NAME\":\"Gasverbrauch Total [MWh]\",\"INDIKATOR_JAHR\":2015,\"INDIKATOR_VALUE\":27777.0,\"EINHEIT_KURZ\":\"MWh\",\"EINHEIT_LANG\":\"Megawattstunden\",\"Unnamed: 11\":null},{\"Unnamed: 0\":3,\"Unnamed: 0.1\":3.0,\"BFS_NR\":3251,\"GEBIET_NAME\":\"Altst\\u00e4tten\",\"THEMA_NAME\":\"Energie\",\"SET_NAME\":\"Gasverbrauch\",\"SUBSET_NAME\":null,\"INDIKATOR_ID\":570,\"INDIKATOR_NAME\":\"Gasverbrauch Total [MWh]\",\"INDIKATOR_JAHR\":2016,\"INDIKATOR_VALUE\":27936.0,\"EINHEIT_KURZ\":\"MWh\",\"EINHEIT_LANG\":\"Megawattstunden\",\"Unnamed: 11\":null},{\"Unnamed: 0\":4,\"Unnamed: 0.1\":4.0,\"BFS_NR\":3251,\"GEBIET_NAME\":\"Altst\\u00e4tten\",\"THEMA_NAME\":\"Energie\",\"SET_NAME\":\"Gasverbrauch\",\"SUBSET_NAME\":null,\"INDIKATOR_ID\":570,\"INDIKATOR_NAME\":\"Gasverbrauch Total [MWh]\",\"INDIKATOR_JAHR\":2017,\"INDIKATOR_VALUE\":30093.0,\"EINHEIT_KURZ\":\"MWh\",\"EINHEIT_LANG\":\"Megawattstunden\",\"Unnamed: 11\":null},{\"Unnamed: 0\":5,\"Unnamed: 0.1\":5.0,\"BFS_NR\":3251,\"GEBIET_NAME\":\"Altst\\u00e4tten\",\"THEMA_NAME\":\"Energie\",\"SET_NAME\":\"Gasverbrauch\",\"SUBSET_NAME\":null,\"INDIKATOR_ID\":571,\"INDIKATOR_NAME\":\"Gasverbrauch Haushalte [MWh]\",\"INDIKATOR_JAHR\":2013,\"INDIKATOR_VALUE\":25600.0,\"EINHEIT_KURZ\":\"MWh\",\"EINHEIT_LANG\":\"Megawattstunden\",\"Unnamed: 11\":null},{\"Unnamed: 0\":6,\"Unnamed: 0.1\":6.0,\"BFS_NR\":3251,\"GEBIET_NAME\":\"Altst\\u00e4tten\",\"THEMA_NAME\":\"Energie\",\"SET_NAME\":\"Gasverbrauch\",\"SUBSET_NAME\":null,\"INDIKATOR_ID\":571,\"INDIKATOR_NAME\":\"Gasverbrauch Haushalte [MWh]\",\"INDIKATOR_JAHR\":2014,\"INDIKATOR_VALUE\":22947.0,\"EINHEIT_KURZ\":\"MWh\",\"EINHEIT_LANG\":\"Megawattstunden\",\"Unnamed: 11\":null},{\"Unnamed: 0\":7,\"Unnamed: 0.1\":7.0,\"BFS_NR\":3251,\"GEBIET_NAME\":\"Altst\\u00e4tten\",\"THEMA_NAME\":\"Energie\",\"SET_NAME\":\"Gasverbrauch\",\"SUBSET_NAME\":null,\"INDIKATOR_ID\":571,\"INDIKATOR_NAME\":\"Gasverbrauch Haushalte [MWh]\",\"INDIKATOR_JAHR\":2015,\"INDIKATOR_VALUE\":23604.0,\"EINHEIT_KURZ\":\"MWh\",\"EINHEIT_LANG\":\"Megawattstunden\",\"Unnamed: 11\":null},{\"Unnamed: 0\":8,\"Unnamed: 0.1\":8.0,\"BFS_NR\":3251,\"GEBIET_NAME\":\"Altst\\u00e4tten\",\"THEMA_NAME\":\"Energie\",\"SET_NAME\":\"Gasverbrauch\",\"SUBSET_NAME\":null,\"INDIKATOR_ID\":571,\"INDIKATOR_NAME\":\"Gasverbrauch Haushalte [MWh]\",\"INDIKATOR_JAHR\":2016,\"INDIKATOR_VALUE\":24306.0,\"EINHEIT_KURZ\":\"MWh\",\"EINHEIT_LANG\":\"Megawattstunden\",\"Unnamed: 11\":null},{\"Unnamed: 0\":9,\"Unnamed: 0.1\":9.0,\"BFS_NR\":3251,\"GEBIET_NAME\":\"Altst\\u00e4tten\",\"THEMA_NAME\":\"Energie\",\"SET_NAME\":\"Gasverbrauch\",\"SUBSET_NAME\":null,\"INDIKATOR_ID\":571,\"INDIKATOR_NAME\":\"Gasverbrauch Haushalte [MWh]\",\"INDIKATOR_JAHR\":2017,\"INDIKATOR_VALUE\":26235.0,\"EINHEIT_KURZ\":\"MWh\",\"EINHEIT_LANG\":\"Megawattstunden\",\"Unnamed: 11\":null},{\"Unnamed: 0\":10,\"Unnamed: 0.1\":10.0,\"BFS_NR\":3251,\"GEBIET_NAME\":\"Altst\\u00e4tten\",\"THEMA_NAME\":\"Energie\",\"SET_NAME\":\"Gasverbrauch\",\"SUBSET_NAME\":null,\"INDIKATOR_ID\":572,\"INDIKATOR_NAME\":\"Gasverbrauch Gewerbe [MWh]\",\"INDIKATOR_JAHR\":2013,\"INDIKATOR_VALUE\":7238.0,\"EINHEIT_KURZ\":\"MWh\",\"EINHEIT_LANG\":\"Megawattstunden\",\"Unnamed: 11\":null},{\"Unnamed: 0\":11,\"Unnamed: 0.1\":11.0,\"BFS_NR\":3251,\"GEBIET_NAME\":\"Altst\\u00e4tten\",\"THEMA_NAME\":\"Energie\",\"SET_NAME\":\"Gasverbrauch\",\"SUBSET_NAME\":null,\"INDIKATOR_ID\":572,\"INDIKATOR_NAME\":\"Gasverbrauch Gewerbe [MWh]\",\"INDIKATOR_JAHR\":2014,\"INDIKATOR_VALUE\":3354.0,\"EINHEIT_KURZ\":\"MWh\",\"EINHEIT_LANG\":\"Megawattstunden\",\"Unnamed: 11\":null},{\"Unnamed: 0\":12,\"Unnamed: 0.1\":12.0,\"BFS_NR\":3251,\"GEBIET_NAME\":\"Altst\\u00e4tten\",\"THEMA_NAME\":\"Energie\",\"SET_NAME\":\"Gasverbrauch\",\"SUBSET_NAME\":null,\"INDIKATOR_ID\":572,\"INDIKATOR_NAME\":\"Gasverbrauch Gewerbe [MWh]\",\"INDIKATOR_JAHR\":2015,\"INDIKATOR_VALUE\":3404.0,\"EINHEIT_KURZ\":\"MWh\",\"EINHEIT_LANG\":\"Megawattstunden\",\"Unnamed: 11\":null},{\"Unnamed: 0\":13,\"Unnamed: 0.1\":13.0,\"BFS_NR\":3251,\"GEBIET_NAME\":\"Altst\\u00e4tten\",\"THEMA_NAME\":\"Energie\",\"SET_NAME\":\"Gasverbrauch\",\"SUBSET_NAME\":null,\"INDIKATOR_ID\":572,\"INDIKATOR_NAME\":\"Gasverbrauch Gewerbe [MWh]\",\"INDIKATOR_JAHR\":2016,\"INDIKATOR_VALUE\":3004.0,\"EINHEIT_KURZ\":\"MWh\",\"EINHEIT_LANG\":\"Megawattstunden\",\"Unnamed: 11\":null},{\"Unnamed: 0\":14,\"Unnamed: 0.1\":14.0,\"BFS_NR\":3251,\"GEBIET_NAME\":\"Altst\\u00e4tten\",\"THEMA_NAME\":\"Energie\",\"SET_NAME\":\"Gasverbrauch\",\"SUBSET_NAME\":null,\"INDIKATOR_ID\":572,\"INDIKATOR_NAME\":\"Gasverbrauch Gewerbe [MWh]\",\"INDIKATOR_JAHR\":2017,\"INDIKATOR_VALUE\":2984.0,\"EINHEIT_KURZ\":\"MWh\",\"EINHEIT_LANG\":\"Megawattstunden\",\"Unnamed: 11\":null},{\"Unnamed: 0\":15,\"Unnamed: 0.1\":15.0,\"BFS_NR\":3251,\"GEBIET_NAME\":\"Altst\\u00e4tten\",\"THEMA_NAME\":\"Energie\",\"SET_NAME\":\"Gasverbrauch\",\"SUBSET_NAME\":null,\"INDIKATOR_ID\":573,\"INDIKATOR_NAME\":\"Gasverbrauch Industrie [MWh]\",\"INDIKATOR_JAHR\":2013,\"INDIKATOR_VALUE\":null,\"EINHEIT_KURZ\":\"MWh\",\"EINHEIT_LANG\":\"Megawattstunden\",\"Unnamed: 11\":null},{\"Unnamed: 0\":16,\"Unnamed: 0.1\":16.0,\"BFS_NR\":3251,\"GEBIET_NAME\":\"Altst\\u00e4tten\",\"THEMA_NAME\":\"Energie\",\"SET_NAME\":\"Gasverbrauch\",\"SUBSET_NAME\":null,\"INDIKATOR_ID\":573,\"INDIKATOR_NAME\":\"Gasverbrauch Industrie [MWh]\",\"INDIKATOR_JAHR\":2014,\"INDIKATOR_VALUE\":608.0,\"EINHEIT_KURZ\":\"MWh\",\"EINHEIT_LANG\":\"Megawattstunden\",\"Unnamed: 11\":null},{\"Unnamed: 0\":17,\"Unnamed: 0.1\":17.0,\"BFS_NR\":3251,\"GEBIET_NAME\":\"Altst\\u00e4tten\",\"THEMA_NAME\":\"Energie\",\"SET_NAME\":\"Gasverbrauch\",\"SUBSET_NAME\":null,\"INDIKATOR_ID\":573,\"INDIKATOR_NAME\":\"Gasverbrauch Industrie [MWh]\",\"INDIKATOR_JAHR\":2015,\"INDIKATOR_VALUE\":768.0,\"EINHEIT_KURZ\":\"MWh\",\"EINHEIT_LANG\":\"Megawattstunden\",\"Unnamed: 11\":null},{\"Unnamed: 0\":18,\"Unnamed: 0.1\":18.0,\"BFS_NR\":3251,\"GEBIET_NAME\":\"Altst\\u00e4tten\",\"THEMA_NAME\":\"Energie\",\"SET_NAME\":\"Gasverbrauch\",\"SUBSET_NAME\":null,\"INDIKATOR_ID\":573,\"INDIKATOR_NAME\":\"Gasverbrauch Industrie [MWh]\",\"INDIKATOR_JAHR\":2016,\"INDIKATOR_VALUE\":626.0,\"EINHEIT_KURZ\":\"MWh\",\"EINHEIT_LANG\":\"Megawattstunden\",\"Unnamed: 11\":null},{\"Unnamed: 0\":19,\"Unnamed: 0.1\":19.0,\"BFS_NR\":3251,\"GEBIET_NAME\":\"Altst\\u00e4tten\",\"THEMA_NAME\":\"Energie\",\"SET_NAME\":\"Gasverbrauch\",\"SUBSET_NAME\":null,\"INDIKATOR_ID\":573,\"INDIKATOR_NAME\":\"Gasverbrauch Industrie [MWh]\",\"INDIKATOR_JAHR\":2017,\"INDIKATOR_VALUE\":873.0,\"EINHEIT_KURZ\":\"MWh\",\"EINHEIT_LANG\":\"Megawattstunden\",\"Unnamed: 11\":null},{\"Unnamed: 0\":20,\"Unnamed: 0.1\":20.0,\"BFS_NR\":3251,\"GEBIET_NAME\":\"Altst\\u00e4tten\",\"THEMA_NAME\":\"Energie\",\"SET_NAME\":\"Stromverbrauch\",\"SUBSET_NAME\":null,\"INDIKATOR_ID\":574,\"INDIKATOR_NAME\":\"Stromverbrauch Total [MWh]\",\"INDIKATOR_JAHR\":2013,\"INDIKATOR_VALUE\":77874.0,\"EINHEIT_KURZ\":\"MWh\",\"EINHEIT_LANG\":\"Megawattstunden\",\"Unnamed: 11\":null},{\"Unnamed: 0\":21,\"Unnamed: 0.1\":21.0,\"BFS_NR\":3251,\"GEBIET_NAME\":\"Altst\\u00e4tten\",\"THEMA_NAME\":\"Energie\",\"SET_NAME\":\"Stromverbrauch\",\"SUBSET_NAME\":null,\"INDIKATOR_ID\":574,\"INDIKATOR_NAME\":\"Stromverbrauch Total [MWh]\",\"INDIKATOR_JAHR\":2014,\"INDIKATOR_VALUE\":75142.0,\"EINHEIT_KURZ\":\"MWh\",\"EINHEIT_LANG\":\"Megawattstunden\",\"Unnamed: 11\":null},{\"Unnamed: 0\":22,\"Unnamed: 0.1\":22.0,\"BFS_NR\":3251,\"GEBIET_NAME\":\"Altst\\u00e4tten\",\"THEMA_NAME\":\"Energie\",\"SET_NAME\":\"Stromverbrauch\",\"SUBSET_NAME\":null,\"INDIKATOR_ID\":574,\"INDIKATOR_NAME\":\"Stromverbrauch Total [MWh]\",\"INDIKATOR_JAHR\":2015,\"INDIKATOR_VALUE\":71173.0,\"EINHEIT_KURZ\":\"MWh\",\"EINHEIT_LANG\":\"Megawattstunden\",\"Unnamed: 11\":null},{\"Unnamed: 0\":23,\"Unnamed: 0.1\":23.0,\"BFS_NR\":3251,\"GEBIET_NAME\":\"Altst\\u00e4tten\",\"THEMA_NAME\":\"Energie\",\"SET_NAME\":\"Stromverbrauch\",\"SUBSET_NAME\":null,\"INDIKATOR_ID\":574,\"INDIKATOR_NAME\":\"Stromverbrauch Total [MWh]\",\"INDIKATOR_JAHR\":2016,\"INDIKATOR_VALUE\":72131.0,\"EINHEIT_KURZ\":\"MWh\",\"EINHEIT_LANG\":\"Megawattstunden\",\"Unnamed: 11\":null},{\"Unnamed: 0\":24,\"Unnamed: 0.1\":24.0,\"BFS_NR\":3251,\"GEBIET_NAME\":\"Altst\\u00e4tten\",\"THEMA_NAME\":\"Energie\",\"SET_NAME\":\"Stromverbrauch\",\"SUBSET_NAME\":null,\"INDIKATOR_ID\":574,\"INDIKATOR_NAME\":\"Stromverbrauch Total [MWh]\",\"INDIKATOR_JAHR\":2017,\"INDIKATOR_VALUE\":64626.0,\"EINHEIT_KURZ\":\"MWh\",\"EINHEIT_LANG\":\"Megawattstunden\",\"Unnamed: 11\":null},{\"Unnamed: 0\":25,\"Unnamed: 0.1\":25.0,\"BFS_NR\":3251,\"GEBIET_NAME\":\"Altst\\u00e4tten\",\"THEMA_NAME\":\"Energie\",\"SET_NAME\":\"Stromverbrauch\",\"SUBSET_NAME\":null,\"INDIKATOR_ID\":575,\"INDIKATOR_NAME\":\"Stromverbrauch Total [MWh\\/Energienutzer]\",\"INDIKATOR_JAHR\":2013,\"INDIKATOR_VALUE\":4.5,\"EINHEIT_KURZ\":\"MWh\\/Energienutzer\",\"EINHEIT_LANG\":\"Megawattstunden pro Energienutzer\",\"Unnamed: 11\":null},{\"Unnamed: 0\":26,\"Unnamed: 0.1\":26.0,\"BFS_NR\":3251,\"GEBIET_NAME\":\"Altst\\u00e4tten\",\"THEMA_NAME\":\"Energie\",\"SET_NAME\":\"Stromverbrauch\",\"SUBSET_NAME\":null,\"INDIKATOR_ID\":575,\"INDIKATOR_NAME\":\"Stromverbrauch Total [MWh\\/Energienutzer]\",\"INDIKATOR_JAHR\":2014,\"INDIKATOR_VALUE\":4.3,\"EINHEIT_KURZ\":\"MWh\\/Energienutzer\",\"EINHEIT_LANG\":\"Megawattstunden pro Energienutzer\",\"Unnamed: 11\":null},{\"Unnamed: 0\":27,\"Unnamed: 0.1\":27.0,\"BFS_NR\":3251,\"GEBIET_NAME\":\"Altst\\u00e4tten\",\"THEMA_NAME\":\"Energie\",\"SET_NAME\":\"Stromverbrauch\",\"SUBSET_NAME\":null,\"INDIKATOR_ID\":575,\"INDIKATOR_NAME\":\"Stromverbrauch Total [MWh\\/Energienutzer]\",\"INDIKATOR_JAHR\":2015,\"INDIKATOR_VALUE\":4.1,\"EINHEIT_KURZ\":\"MWh\\/Energienutzer\",\"EINHEIT_LANG\":\"Megawattstunden pro Energienutzer\",\"Unnamed: 11\":null},{\"Unnamed: 0\":28,\"Unnamed: 0.1\":28.0,\"BFS_NR\":3251,\"GEBIET_NAME\":\"Altst\\u00e4tten\",\"THEMA_NAME\":\"Energie\",\"SET_NAME\":\"Stromverbrauch\",\"SUBSET_NAME\":null,\"INDIKATOR_ID\":575,\"INDIKATOR_NAME\":\"Stromverbrauch Total [MWh\\/Energienutzer]\",\"INDIKATOR_JAHR\":2016,\"INDIKATOR_VALUE\":4.1,\"EINHEIT_KURZ\":\"MWh\\/Energienutzer\",\"EINHEIT_LANG\":\"Megawattstunden pro Energienutzer\",\"Unnamed: 11\":null},{\"Unnamed: 0\":29,\"Unnamed: 0.1\":29.0,\"BFS_NR\":3251,\"GEBIET_NAME\":\"Altst\\u00e4tten\",\"THEMA_NAME\":\"Energie\",\"SET_NAME\":\"Stromverbrauch\",\"SUBSET_NAME\":null,\"INDIKATOR_ID\":575,\"INDIKATOR_NAME\":\"Stromverbrauch Total [MWh\\/Energienutzer]\",\"INDIKATOR_JAHR\":2017,\"INDIKATOR_VALUE\":3.7,\"EINHEIT_KURZ\":\"MWh\\/Energienutzer\",\"EINHEIT_LANG\":\"Megawattstunden pro Energienutzer\",\"Unnamed: 11\":null},{\"Unnamed: 0\":30,\"Unnamed: 0.1\":30.0,\"BFS_NR\":3251,\"GEBIET_NAME\":\"Altst\\u00e4tten\",\"THEMA_NAME\":\"Energie\",\"SET_NAME\":\"Stromverbrauch\",\"SUBSET_NAME\":null,\"INDIKATOR_ID\":576,\"INDIKATOR_NAME\":\"Stromverbrauch Kleinverbraucher [MWh]\",\"INDIKATOR_JAHR\":2013,\"INDIKATOR_VALUE\":37367.0,\"EINHEIT_KURZ\":\"MWh\",\"EINHEIT_LANG\":\"Megawattstunden\",\"Unnamed: 11\":null},{\"Unnamed: 0\":31,\"Unnamed: 0.1\":31.0,\"BFS_NR\":3251,\"GEBIET_NAME\":\"Altst\\u00e4tten\",\"THEMA_NAME\":\"Energie\",\"SET_NAME\":\"Stromverbrauch\",\"SUBSET_NAME\":null,\"INDIKATOR_ID\":576,\"INDIKATOR_NAME\":\"Stromverbrauch Kleinverbraucher [MWh]\",\"INDIKATOR_JAHR\":2014,\"INDIKATOR_VALUE\":30709.0,\"EINHEIT_KURZ\":\"MWh\",\"EINHEIT_LANG\":\"Megawattstunden\",\"Unnamed: 11\":null},{\"Unnamed: 0\":32,\"Unnamed: 0.1\":32.0,\"BFS_NR\":3251,\"GEBIET_NAME\":\"Altst\\u00e4tten\",\"THEMA_NAME\":\"Energie\",\"SET_NAME\":\"Stromverbrauch\",\"SUBSET_NAME\":null,\"INDIKATOR_ID\":576,\"INDIKATOR_NAME\":\"Stromverbrauch Kleinverbraucher [MWh]\",\"INDIKATOR_JAHR\":2015,\"INDIKATOR_VALUE\":31071.0,\"EINHEIT_KURZ\":\"MWh\",\"EINHEIT_LANG\":\"Megawattstunden\",\"Unnamed: 11\":null},{\"Unnamed: 0\":33,\"Unnamed: 0.1\":33.0,\"BFS_NR\":3251,\"GEBIET_NAME\":\"Altst\\u00e4tten\",\"THEMA_NAME\":\"Energie\",\"SET_NAME\":\"Stromverbrauch\",\"SUBSET_NAME\":null,\"INDIKATOR_ID\":576,\"INDIKATOR_NAME\":\"Stromverbrauch Kleinverbraucher [MWh]\",\"INDIKATOR_JAHR\":2016,\"INDIKATOR_VALUE\":31756.0,\"EINHEIT_KURZ\":\"MWh\",\"EINHEIT_LANG\":\"Megawattstunden\",\"Unnamed: 11\":null},{\"Unnamed: 0\":34,\"Unnamed: 0.1\":34.0,\"BFS_NR\":3251,\"GEBIET_NAME\":\"Altst\\u00e4tten\",\"THEMA_NAME\":\"Energie\",\"SET_NAME\":\"Stromverbrauch\",\"SUBSET_NAME\":null,\"INDIKATOR_ID\":576,\"INDIKATOR_NAME\":\"Stromverbrauch Kleinverbraucher [MWh]\",\"INDIKATOR_JAHR\":2017,\"INDIKATOR_VALUE\":31434.0,\"EINHEIT_KURZ\":\"MWh\",\"EINHEIT_LANG\":\"Megawattstunden\",\"Unnamed: 11\":null},{\"Unnamed: 0\":35,\"Unnamed: 0.1\":35.0,\"BFS_NR\":3251,\"GEBIET_NAME\":\"Altst\\u00e4tten\",\"THEMA_NAME\":\"Energie\",\"SET_NAME\":\"Stromverbrauch\",\"SUBSET_NAME\":null,\"INDIKATOR_ID\":577,\"INDIKATOR_NAME\":\"Stromverbrauch mittelgrosse Verbraucher [MWh]\",\"INDIKATOR_JAHR\":2014,\"INDIKATOR_VALUE\":6639.0,\"EINHEIT_KURZ\":\"MWh\",\"EINHEIT_LANG\":\"Megawattstunden\",\"Unnamed: 11\":null},{\"Unnamed: 0\":36,\"Unnamed: 0.1\":36.0,\"BFS_NR\":3251,\"GEBIET_NAME\":\"Altst\\u00e4tten\",\"THEMA_NAME\":\"Energie\",\"SET_NAME\":\"Stromverbrauch\",\"SUBSET_NAME\":null,\"INDIKATOR_ID\":577,\"INDIKATOR_NAME\":\"Stromverbrauch mittelgrosse Verbraucher [MWh]\",\"INDIKATOR_JAHR\":2015,\"INDIKATOR_VALUE\":6643.0,\"EINHEIT_KURZ\":\"MWh\",\"EINHEIT_LANG\":\"Megawattstunden\",\"Unnamed: 11\":null},{\"Unnamed: 0\":37,\"Unnamed: 0.1\":37.0,\"BFS_NR\":3251,\"GEBIET_NAME\":\"Altst\\u00e4tten\",\"THEMA_NAME\":\"Energie\",\"SET_NAME\":\"Stromverbrauch\",\"SUBSET_NAME\":null,\"INDIKATOR_ID\":577,\"INDIKATOR_NAME\":\"Stromverbrauch mittelgrosse Verbraucher [MWh]\",\"INDIKATOR_JAHR\":2016,\"INDIKATOR_VALUE\":3716.0,\"EINHEIT_KURZ\":\"MWh\",\"EINHEIT_LANG\":\"Megawattstunden\",\"Unnamed: 11\":null},{\"Unnamed: 0\":38,\"Unnamed: 0.1\":38.0,\"BFS_NR\":3251,\"GEBIET_NAME\":\"Altst\\u00e4tten\",\"THEMA_NAME\":\"Energie\",\"SET_NAME\":\"Stromverbrauch\",\"SUBSET_NAME\":null,\"INDIKATOR_ID\":577,\"INDIKATOR_NAME\":\"Stromverbrauch mittelgrosse Verbraucher [MWh]\",\"INDIKATOR_JAHR\":2017,\"INDIKATOR_VALUE\":3684.0,\"EINHEIT_KURZ\":\"MWh\",\"EINHEIT_LANG\":\"Megawattstunden\",\"Unnamed: 11\":null},{\"Unnamed: 0\":39,\"Unnamed: 0.1\":39.0,\"BFS_NR\":3251,\"GEBIET_NAME\":\"Altst\\u00e4tten\",\"THEMA_NAME\":\"Energie\",\"SET_NAME\":\"Stromverbrauch\",\"SUBSET_NAME\":null,\"INDIKATOR_ID\":578,\"INDIKATOR_NAME\":\"Stromverbrauch Grossverbraucher [MWh]\",\"INDIKATOR_JAHR\":2014,\"INDIKATOR_VALUE\":37795.0,\"EINHEIT_KURZ\":\"MWh\",\"EINHEIT_LANG\":\"Megawattstunden\",\"Unnamed: 11\":null},{\"Unnamed: 0\":40,\"Unnamed: 0.1\":40.0,\"BFS_NR\":3251,\"GEBIET_NAME\":\"Altst\\u00e4tten\",\"THEMA_NAME\":\"Energie\",\"SET_NAME\":\"Stromverbrauch\",\"SUBSET_NAME\":null,\"INDIKATOR_ID\":578,\"INDIKATOR_NAME\":\"Stromverbrauch Grossverbraucher [MWh]\",\"INDIKATOR_JAHR\":2015,\"INDIKATOR_VALUE\":33459.0,\"EINHEIT_KURZ\":\"MWh\",\"EINHEIT_LANG\":\"Megawattstunden\",\"Unnamed: 11\":null},{\"Unnamed: 0\":41,\"Unnamed: 0.1\":41.0,\"BFS_NR\":3251,\"GEBIET_NAME\":\"Altst\\u00e4tten\",\"THEMA_NAME\":\"Energie\",\"SET_NAME\":\"Stromverbrauch\",\"SUBSET_NAME\":null,\"INDIKATOR_ID\":578,\"INDIKATOR_NAME\":\"Stromverbrauch Grossverbraucher [MWh]\",\"INDIKATOR_JAHR\":2016,\"INDIKATOR_VALUE\":36659.0,\"EINHEIT_KURZ\":\"MWh\",\"EINHEIT_LANG\":\"Megawattstunden\",\"Unnamed: 11\":null},{\"Unnamed: 0\":42,\"Unnamed: 0.1\":42.0,\"BFS_NR\":3251,\"GEBIET_NAME\":\"Altst\\u00e4tten\",\"THEMA_NAME\":\"Energie\",\"SET_NAME\":\"Stromverbrauch\",\"SUBSET_NAME\":null,\"INDIKATOR_ID\":578,\"INDIKATOR_NAME\":\"Stromverbrauch Grossverbraucher [MWh]\",\"INDIKATOR_JAHR\":2017,\"INDIKATOR_VALUE\":29508.0,\"EINHEIT_KURZ\":\"MWh\",\"EINHEIT_LANG\":\"Megawattstunden\",\"Unnamed: 11\":null},{\"Unnamed: 0\":43,\"Unnamed: 0.1\":43.0,\"BFS_NR\":3251,\"GEBIET_NAME\":\"Altst\\u00e4tten\",\"THEMA_NAME\":\"Energie\",\"SET_NAME\":\"Stromverbrauch\",\"SUBSET_NAME\":null,\"INDIKATOR_ID\":579,\"INDIKATOR_NAME\":\"Stromverbrauch Kleinverbraucher [%]\",\"INDIKATOR_JAHR\":2013,\"INDIKATOR_VALUE\":48.0,\"EINHEIT_KURZ\":\"%\",\"EINHEIT_LANG\":\"Prozent\",\"Unnamed: 11\":null},{\"Unnamed: 0\":44,\"Unnamed: 0.1\":44.0,\"BFS_NR\":3251,\"GEBIET_NAME\":\"Altst\\u00e4tten\",\"THEMA_NAME\":\"Energie\",\"SET_NAME\":\"Stromverbrauch\",\"SUBSET_NAME\":null,\"INDIKATOR_ID\":579,\"INDIKATOR_NAME\":\"Stromverbrauch Kleinverbraucher [%]\",\"INDIKATOR_JAHR\":2014,\"INDIKATOR_VALUE\":40.9,\"EINHEIT_KURZ\":\"%\",\"EINHEIT_LANG\":\"Prozent\",\"Unnamed: 11\":null},{\"Unnamed: 0\":45,\"Unnamed: 0.1\":45.0,\"BFS_NR\":3251,\"GEBIET_NAME\":\"Altst\\u00e4tten\",\"THEMA_NAME\":\"Energie\",\"SET_NAME\":\"Stromverbrauch\",\"SUBSET_NAME\":null,\"INDIKATOR_ID\":579,\"INDIKATOR_NAME\":\"Stromverbrauch Kleinverbraucher [%]\",\"INDIKATOR_JAHR\":2015,\"INDIKATOR_VALUE\":43.7,\"EINHEIT_KURZ\":\"%\",\"EINHEIT_LANG\":\"Prozent\",\"Unnamed: 11\":null},{\"Unnamed: 0\":46,\"Unnamed: 0.1\":46.0,\"BFS_NR\":3251,\"GEBIET_NAME\":\"Altst\\u00e4tten\",\"THEMA_NAME\":\"Energie\",\"SET_NAME\":\"Stromverbrauch\",\"SUBSET_NAME\":null,\"INDIKATOR_ID\":579,\"INDIKATOR_NAME\":\"Stromverbrauch Kleinverbraucher [%]\",\"INDIKATOR_JAHR\":2016,\"INDIKATOR_VALUE\":44.0,\"EINHEIT_KURZ\":\"%\",\"EINHEIT_LANG\":\"Prozent\",\"Unnamed: 11\":null},{\"Unnamed: 0\":47,\"Unnamed: 0.1\":47.0,\"BFS_NR\":3251,\"GEBIET_NAME\":\"Altst\\u00e4tten\",\"THEMA_NAME\":\"Energie\",\"SET_NAME\":\"Stromverbrauch\",\"SUBSET_NAME\":null,\"INDIKATOR_ID\":579,\"INDIKATOR_NAME\":\"Stromverbrauch Kleinverbraucher [%]\",\"INDIKATOR_JAHR\":2017,\"INDIKATOR_VALUE\":48.6,\"EINHEIT_KURZ\":\"%\",\"EINHEIT_LANG\":\"Prozent\",\"Unnamed: 11\":null},{\"Unnamed: 0\":48,\"Unnamed: 0.1\":48.0,\"BFS_NR\":3251,\"GEBIET_NAME\":\"Altst\\u00e4tten\",\"THEMA_NAME\":\"Energie\",\"SET_NAME\":\"Stromverbrauch\",\"SUBSET_NAME\":null,\"INDIKATOR_ID\":580,\"INDIKATOR_NAME\":\"Stromverbrauch mittelgrosse Verbraucher [%]\",\"INDIKATOR_JAHR\":2014,\"INDIKATOR_VALUE\":8.8,\"EINHEIT_KURZ\":\"%\",\"EINHEIT_LANG\":\"Prozent\",\"Unnamed: 11\":null},{\"Unnamed: 0\":49,\"Unnamed: 0.1\":49.0,\"BFS_NR\":3251,\"GEBIET_NAME\":\"Altst\\u00e4tten\",\"THEMA_NAME\":\"Energie\",\"SET_NAME\":\"Stromverbrauch\",\"SUBSET_NAME\":null,\"INDIKATOR_ID\":580,\"INDIKATOR_NAME\":\"Stromverbrauch mittelgrosse Verbraucher [%]\",\"INDIKATOR_JAHR\":2015,\"INDIKATOR_VALUE\":9.3,\"EINHEIT_KURZ\":\"%\",\"EINHEIT_LANG\":\"Prozent\",\"Unnamed: 11\":null},{\"Unnamed: 0\":50,\"Unnamed: 0.1\":50.0,\"BFS_NR\":3251,\"GEBIET_NAME\":\"Altst\\u00e4tten\",\"THEMA_NAME\":\"Energie\",\"SET_NAME\":\"Stromverbrauch\",\"SUBSET_NAME\":null,\"INDIKATOR_ID\":580,\"INDIKATOR_NAME\":\"Stromverbrauch mittelgrosse Verbraucher [%]\",\"INDIKATOR_JAHR\":2016,\"INDIKATOR_VALUE\":5.2,\"EINHEIT_KURZ\":\"%\",\"EINHEIT_LANG\":\"Prozent\",\"Unnamed: 11\":null},{\"Unnamed: 0\":51,\"Unnamed: 0.1\":51.0,\"BFS_NR\":3251,\"GEBIET_NAME\":\"Altst\\u00e4tten\",\"THEMA_NAME\":\"Energie\",\"SET_NAME\":\"Stromverbrauch\",\"SUBSET_NAME\":null,\"INDIKATOR_ID\":580,\"INDIKATOR_NAME\":\"Stromverbrauch mittelgrosse Verbraucher [%]\",\"INDIKATOR_JAHR\":2017,\"INDIKATOR_VALUE\":5.7,\"EINHEIT_KURZ\":\"%\",\"EINHEIT_LANG\":\"Prozent\",\"Unnamed: 11\":null},{\"Unnamed: 0\":52,\"Unnamed: 0.1\":52.0,\"BFS_NR\":3251,\"GEBIET_NAME\":\"Altst\\u00e4tten\",\"THEMA_NAME\":\"Energie\",\"SET_NAME\":\"Stromverbrauch\",\"SUBSET_NAME\":null,\"INDIKATOR_ID\":581,\"INDIKATOR_NAME\":\"Stromverbrauch Grossverbraucher [%]\",\"INDIKATOR_JAHR\":2014,\"INDIKATOR_VALUE\":50.3,\"EINHEIT_KURZ\":\"%\",\"EINHEIT_LANG\":\"Prozent\",\"Unnamed: 11\":null},{\"Unnamed: 0\":53,\"Unnamed: 0.1\":53.0,\"BFS_NR\":3251,\"GEBIET_NAME\":\"Altst\\u00e4tten\",\"THEMA_NAME\":\"Energie\",\"SET_NAME\":\"Stromverbrauch\",\"SUBSET_NAME\":null,\"INDIKATOR_ID\":581,\"INDIKATOR_NAME\":\"Stromverbrauch Grossverbraucher [%]\",\"INDIKATOR_JAHR\":2015,\"INDIKATOR_VALUE\":47.0,\"EINHEIT_KURZ\":\"%\",\"EINHEIT_LANG\":\"Prozent\",\"Unnamed: 11\":null},{\"Unnamed: 0\":54,\"Unnamed: 0.1\":54.0,\"BFS_NR\":3251,\"GEBIET_NAME\":\"Altst\\u00e4tten\",\"THEMA_NAME\":\"Energie\",\"SET_NAME\":\"Stromverbrauch\",\"SUBSET_NAME\":null,\"INDIKATOR_ID\":581,\"INDIKATOR_NAME\":\"Stromverbrauch Grossverbraucher [%]\",\"INDIKATOR_JAHR\":2016,\"INDIKATOR_VALUE\":50.8,\"EINHEIT_KURZ\":\"%\",\"EINHEIT_LANG\":\"Prozent\",\"Unnamed: 11\":null},{\"Unnamed: 0\":55,\"Unnamed: 0.1\":55.0,\"BFS_NR\":3251,\"GEBIET_NAME\":\"Altst\\u00e4tten\",\"THEMA_NAME\":\"Energie\",\"SET_NAME\":\"Stromverbrauch\",\"SUBSET_NAME\":null,\"INDIKATOR_ID\":581,\"INDIKATOR_NAME\":\"Stromverbrauch Grossverbraucher [%]\",\"INDIKATOR_JAHR\":2017,\"INDIKATOR_VALUE\":45.7,\"EINHEIT_KURZ\":\"%\",\"EINHEIT_LANG\":\"Prozent\",\"Unnamed: 11\":null}];\n",
              "          document.querySelector(\"#elem\").data = data;\n",
              "        </script>"
            ],
            "text/plain": [
              "<IPython.core.display.HTML object>"
            ]
          },
          "metadata": {
            "tags": []
          }
        }
      ]
    },
    {
      "cell_type": "markdown",
      "metadata": {
        "colab_type": "text",
        "id": "DZiyhxqvuE4s"
      },
      "source": [
        "###Extract, Transfer and Load (ETL)###\n",
        "\n",
        "Im nachfolgenden Beispiel werden werden wir folgende Schritte ausführen:\n",
        "\n",
        "1.   Verschiedene Datensätze aus CSV's laden\n",
        "2.   Die Datensätze vergleichen\n",
        "3.   Features aus verschiedenen Datensätzen zusammenführen\n",
        "4.   Die Zusammengeführten Datensätze wieder in ein CSV exportieren.\n",
        "\n"
      ]
    },
    {
      "cell_type": "code",
      "metadata": {
        "colab_type": "code",
        "id": "z7hK6Wfjt4Ki",
        "colab": {}
      },
      "source": [
        "#Zwei Datensätze laden#\n",
        "\n",
        "import pandas as pd\n",
        "import numpy as np\n",
        "import datetime\n",
        "\n",
        "daturl = 'https://raw.githubusercontent.com/sakuronohana/my_datascience/master/plane_crash_data.csv'\n",
        "\n",
        "dimport1 = pd.DataFrame(pd.read_csv(daturl))\n",
        "dimport2 = pd.DataFrame(pd.read_csv(daturl))\n"
      ],
      "execution_count": 0,
      "outputs": []
    },
    {
      "cell_type": "code",
      "metadata": {
        "colab_type": "code",
        "id": "AOYc-XiRxHP_",
        "colab": {}
      },
      "source": [
        "# Datensätze vergleichen #\n",
        "\n",
        "# Datentypen und Features prüfen\n",
        "# dimport1.info()\n",
        "# dimport2.info()\n",
        "\n",
        "# Datentypen wie Datum und Zeit anpassen\n",
        "dimport1['date'] = pd.to_datetime(dimport1['date']).dt.strftime('%d.%m.%Y')\n",
        "\n",
        "# Bestimmte Werte ersetzen\n",
        "dimport1 = dimport1.replace(to_replace='?', value ='')\n",
        "\n",
        "# Bestimmter Wert in Spalte suchen\n",
        "dimport1[dimport1['time'].str.contains('c', na=False)]# mit na=False werden NAN Werte ignoriert\n",
        "#dimport1[dimport1['time'].str.replace('c','')]\n",
        "\n",
        "         \n",
        "#dimport1['time'] = pd.Timestamp(dimport1['time']).time('%m:%h')"
      ],
      "execution_count": 0,
      "outputs": []
    }
  ]
}