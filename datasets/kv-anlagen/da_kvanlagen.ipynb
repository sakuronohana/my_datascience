{
  "nbformat": 4,
  "nbformat_minor": 0,
  "metadata": {
    "colab": {
      "name": "Datenanalyse Kehrichtverbrennungsanlagen (KVA)",
      "provenance": [],
      "collapsed_sections": [],
      "toc_visible": true,
      "include_colab_link": true
    },
    "kernelspec": {
      "display_name": "Python 3",
      "name": "python3"
    }
  },
  "cells": [
    {
      "cell_type": "markdown",
      "metadata": {
        "id": "view-in-github",
        "colab_type": "text"
      },
      "source": [
        "<a href=\"https://colab.research.google.com/github/sakuronohana/my_datascience/blob/master/datasets/kv-anlagen/da_kvanlagen.ipynb\" target=\"_parent\"><img src=\"https://colab.research.google.com/assets/colab-badge.svg\" alt=\"Open In Colab\"/></a>"
      ]
    },
    {
      "cell_type": "markdown",
      "metadata": {
        "id": "kVhksj22y6R8"
      },
      "source": [
        "# Beschreibung Datensatz\n",
        "\n",
        "Die Kehrichtverbrennung ist die Verbrennung der atmosphärisch brennbaren Anteile von Abfall zum Zwecke der Volumenreduzierung des Abfalls unter Nutzung der enthaltenen Energie.Der schweizerische KVA-Park umfasst im Jahr 2017 30 Anlagen mit Kapazitäten zwischen 30‘000 und 230‘000 Jahrestonnen. Die Gesamtmenge an brennbaren Abfällen aus der Schweiz und dem Ausland, die in KVA thermisch verwertet werden, beläuft sich auf ca. 4 Mio. Tonnen. Die bei der Verbrennung anfallende Wärme wird für die Produktion von Strom oder für den Betrieb von Fernwärmenetzen bzw. für Prozesswärme für Industrieanlagen eingesetzt. Im Jahr 2017 produzierten die 30 KVA eine bisherige Rekordmenge an Energie von gesamthaft 4'036 Gigawattstunden (GWh) Wärme und 2338 GWh Strom. Sie tragen damit rund 2.5 Prozent zur Deckung des schweizerischen Gesamtenergiebedarfs bzw. knapp 4 Prozent zur schweizerischen Stromproduktion bei. Die Geofachdaten KVA dokumentieren den aktuellen Stand verwerteter Abfallmengen und der nach aussen gelieferten Energiemengen. Sämtliche Informationen basieren auf den Auskünften der Anlagenbetreibenden. Die Angaben dienen als Informationsmaterial für die Öffentlichkeit und stellen keine amtliche Auskunft oder rechtsverbindliche Aussage dar.\n",
        "\n",
        "Quelle: [opendata.swiss](https://opendata.swiss/de/dataset/kehrichtverbrennungsanlagen-kva)\n",
        "\n",
        "Weiterführende Informationen ([PDF](https://github.com/sakuronohana/my_datascience/blob/master/datasets/kv-anlagen/9701-Modelldokumentation_MGDM_Kehrichtverbrennungsanlagen_DE_V1_0_PDF.pdf))"
      ]
    },
    {
      "cell_type": "code",
      "metadata": {
        "id": "8Z_U__FG41tE"
      },
      "source": [
        "!pip install geopandas"
      ],
      "execution_count": null,
      "outputs": []
    },
    {
      "cell_type": "code",
      "metadata": {
        "id": "ah37oQYzzdDw"
      },
      "source": [
        "# Load python libraries\n",
        "\n",
        "import pandas as pd\n",
        "import numpy as np\n",
        "import seaborn as sns\n",
        "# import geopandas as gpd\n"
      ],
      "execution_count": 32,
      "outputs": []
    },
    {
      "cell_type": "code",
      "metadata": {
        "id": "iwBiVGEO0DyG"
      },
      "source": [
        "# Load datas\n",
        "\n",
        "datloc_el = 'https://raw.githubusercontent.com/sakuronohana/my_datascience/master/datasets/kv-anlagen/Electricity.csv'\n",
        "datloc_ht = 'https://raw.githubusercontent.com/sakuronohana/my_datascience/master/datasets/kv-anlagen/Heat.csv'\n",
        "datloc_rw = 'https://raw.githubusercontent.com/sakuronohana/my_datascience/master/datasets/kv-anlagen/RecycledWaste.csv'\n",
        "datloc_wip = 'https://raw.githubusercontent.com/sakuronohana/my_datascience/master/datasets/kv-anlagen/WasteIncinerationPlant.csv'\n",
        "\n",
        "kv_electricity = pd.read_csv(datloc_el) # Durch KV produzierter Strom\n",
        "kv_heat = pd.read_csv(datloc_ht) # Durch KV produzierte Wärme\n",
        "kv_recywaste = pd.read_csv(datloc_rw) # Durch KV verbrante Abfallmenge\n",
        "kv_wasteincplant = pd.read_csv(datloc_wip, encoding='latin1') # Informationen zu Kehrichtverbrennugsanlagen"
      ],
      "execution_count": 33,
      "outputs": []
    },
    {
      "cell_type": "code",
      "metadata": {
        "id": "4flqQ2H4Vlr6"
      },
      "source": [
        "# Sample of determining the Values of a Dataset\n",
        "kv_electricity.info()"
      ],
      "execution_count": null,
      "outputs": []
    },
    {
      "cell_type": "code",
      "metadata": {
        "id": "o54iwgi65qQE"
      },
      "source": [
        "# Datentype von float auf int64 ändern\n",
        "kv_electricity['2018'] =  kv_electricity['2018'].astype('int64')\n",
        "kv_electricity['2019'] =  kv_electricity['2019'].astype('int64')\n",
        "kv_heat['2018'] =  kv_heat['2018'].astype('int64')\n",
        "kv_heat['2019'] =  kv_heat['2019'].astype('int64')\n",
        "kv_recywaste['2017'] =  kv_recywaste['2017'].astype('int64')\n",
        "kv_recywaste['2018'] =  kv_recywaste['2018'].astype('int64')\n",
        "kv_recywaste['2019'] =  kv_recywaste['2019'].astype('int64')"
      ],
      "execution_count": 3,
      "outputs": []
    },
    {
      "cell_type": "code",
      "metadata": {
        "id": "uU3gvNzKRIBX"
      },
      "source": [
        "# Show Basic Statistics Electricity Production\n",
        "kv_electricity.describe()"
      ],
      "execution_count": null,
      "outputs": []
    },
    {
      "cell_type": "code",
      "metadata": {
        "id": "G-fADiwuTrId"
      },
      "source": [
        "# Find the max. Value \n",
        "print(kv_electricity[kv_electricity['2018'] == kv_electricity['2018'].max()])\n",
        "\n",
        "# Find the min. Value\n",
        "print(kv_electricity[kv_electricity['2018'] == kv_electricity['2018'].max()])\n"
      ],
      "execution_count": null,
      "outputs": []
    },
    {
      "cell_type": "code",
      "metadata": {
        "id": "_0zxGUQYOlPk"
      },
      "source": [
        "# Transpose of a Matrix \n",
        "kv_elect_transp = pd.DataFrame(kv_electricity.select_dtypes(include=['int64']).transpose())\n",
        "kv_elect_transp.columns = kv_electricity['Name']\n",
        "kv_elect_transp"
      ],
      "execution_count": null,
      "outputs": []
    },
    {
      "cell_type": "code",
      "metadata": {
        "id": "FmmS-DX46pTa",
        "colab": {
          "base_uri": "https://localhost:8080/",
          "height": 338
        },
        "outputId": "18260abe-4b48-4fb0-cb3f-42339e99c6f2"
      },
      "source": [
        "ax = sns.barplot(kv_electricity['Name'], y = kv_electricity['2010'])\n",
        "\n",
        "\n"
      ],
      "execution_count": null,
      "outputs": [
        {
          "output_type": "stream",
          "text": [
            "/usr/local/lib/python3.7/dist-packages/seaborn/_decorators.py:43: FutureWarning: Pass the following variable as a keyword arg: x. From version 0.12, the only valid positional argument will be `data`, and passing other arguments without an explicit keyword will result in an error or misinterpretation.\n",
            "  FutureWarning\n"
          ],
          "name": "stderr"
        },
        {
          "output_type": "display_data",
          "data": {
            "image/png": "[encoded data removed]",
            "text/plain": [
              "<Figure size 432x288 with 1 Axes>"
            ]
          },
          "metadata": {
            "tags": []
          }
        }
      ]
    },
    {
      "cell_type": "code",
      "metadata": {
        "colab": {
          "base_uri": "https://localhost:8080/"
        },
        "id": "yP9CuzRjISN4",
        "outputId": "1f10dcdd-3355-4412-af54-6413b2e088d5"
      },
      "source": [
        "kv_elect_transp.info()"
      ],
      "execution_count": null,
      "outputs": [
        {
          "output_type": "stream",
          "text": [
            "<class 'pandas.core.frame.DataFrame'>\n",
            "Index: 10 entries, 2010 to 2019\n",
            "Data columns (total 30 columns):\n",
            " #   Column                 Non-Null Count  Dtype\n",
            "---  ------                 --------------  -----\n",
            " 0   (Buchs (AG),)          10 non-null     int64\n",
            " 1   (Oftringen,)           10 non-null     int64\n",
            " 2   (Turgi,)               10 non-null     int64\n",
            " 3   (Bern,)                10 non-null     int64\n",
            " 4   (Biel,)                10 non-null     int64\n",
            " 5   (Thun,)                10 non-null     int64\n",
            " 6   (Basel,)               10 non-null     int64\n",
            " 7   (Posieux,)             10 non-null     int64\n",
            " 8   (Genf,)                10 non-null     int64\n",
            " 9   (Niederurnen,)         10 non-null     int64\n",
            " 10  (Trimmis,)             10 non-null     int64\n",
            " 11  (Perlen,)              10 non-null     int64\n",
            " 12  (Colombier ,)          10 non-null     int64\n",
            " 13  (La Chaux-de-Fonds ,)  10 non-null     int64\n",
            " 14  (Bazenheid,)           10 non-null     int64\n",
            " 15  (Buchs (SG),)          10 non-null     int64\n",
            " 16  (St. Gallen,)          10 non-null     int64\n",
            " 17  (Zuchwil,)             10 non-null     int64\n",
            " 18  (Weinfelden,)          10 non-null     int64\n",
            " 19  (Giubiasco,)           10 non-null     int64\n",
            " 20  (Lausanne,)            10 non-null     int64\n",
            " 21  (Gamsen,)              10 non-null     int64\n",
            " 22  (Sion,)                10 non-null     int64\n",
            " 23  (Monthey,)             10 non-null     int64\n",
            " 24  (Dietikon,)            10 non-null     int64\n",
            " 25  (Hinwil,)              10 non-null     int64\n",
            " 26  (Horgen,)              10 non-null     int64\n",
            " 27  (ZH Hagenholz,)        10 non-null     int64\n",
            " 28  (ZH Josefstrasse ,)    10 non-null     int64\n",
            " 29  (Winterthur,)          10 non-null     int64\n",
            "dtypes: int64(30)\n",
            "memory usage: 2.4+ KB\n"
          ],
          "name": "stdout"
        }
      ]
    }
  ]
}