{
  "nbformat": 4,
  "nbformat_minor": 0,
  "metadata": {
    "colab": {
      "name": "Datenanalyse Kehrichtverbrennungsanlagen (KVA)",
      "provenance": [],
      "collapsed_sections": [],
      "include_colab_link": true
    },
    "kernelspec": {
      "display_name": "Python 3",
      "name": "python3"
    }
  },
  "cells": [
    {
      "cell_type": "markdown",
      "metadata": {
        "id": "view-in-github",
        "colab_type": "text"
      },
      "source": [
        "<a href=\"https://colab.research.google.com/github/sakuronohana/my_datascience/blob/master/datasets/kv-anlagen/da_kvanlagen.ipynb\" target=\"_parent\"><img src=\"https://colab.research.google.com/assets/colab-badge.svg\" alt=\"Open In Colab\"/></a>"
      ]
    },
    {
      "cell_type": "markdown",
      "metadata": {
        "id": "kVhksj22y6R8"
      },
      "source": [
        "# Beschreibung Datensatz\n",
        "\n",
        "Die Kehrichtverbrennung ist die Verbrennung der atmosphärisch brennbaren Anteile von Abfall zum Zwecke der Volumenreduzierung des Abfalls unter Nutzung der enthaltenen Energie.Der schweizerische KVA-Park umfasst im Jahr 2017 30 Anlagen mit Kapazitäten zwischen 30‘000 und 230‘000 Jahrestonnen. Die Gesamtmenge an brennbaren Abfällen aus der Schweiz und dem Ausland, die in KVA thermisch verwertet werden, beläuft sich auf ca. 4 Mio. Tonnen. Die bei der Verbrennung anfallende Wärme wird für die Produktion von Strom oder für den Betrieb von Fernwärmenetzen bzw. für Prozesswärme für Industrieanlagen eingesetzt. Im Jahr 2017 produzierten die 30 KVA eine bisherige Rekordmenge an Energie von gesamthaft 4'036 Gigawattstunden (GWh) Wärme und 2338 GWh Strom. Sie tragen damit rund 2.5 Prozent zur Deckung des schweizerischen Gesamtenergiebedarfs bzw. knapp 4 Prozent zur schweizerischen Stromproduktion bei. Die Geofachdaten KVA dokumentieren den aktuellen Stand verwerteter Abfallmengen und der nach aussen gelieferten Energiemengen. Sämtliche Informationen basieren auf den Auskünften der Anlagenbetreibenden. Die Angaben dienen als Informationsmaterial für die Öffentlichkeit und stellen keine amtliche Auskunft oder rechtsverbindliche Aussage dar.\n",
        "\n",
        "Quelle: [opendata.swiss](https://opendata.swiss/de/dataset/kehrichtverbrennungsanlagen-kva)\n",
        "\n",
        "Weiterführende Informationen ([PDF](https://github.com/sakuronohana/my_datascience/blob/master/datasets/kv-anlagen/9701-Modelldokumentation_MGDM_Kehrichtverbrennungsanlagen_DE_V1_0_PDF.pdf))"
      ]
    },
    {
      "cell_type": "code",
      "metadata": {
        "id": "8Z_U__FG41tE"
      },
      "source": [
        "!pip install geopandas"
      ],
      "execution_count": null,
      "outputs": []
    },
    {
      "cell_type": "code",
      "metadata": {
        "id": "ah37oQYzzdDw"
      },
      "source": [
        "# Load python libraries\n",
        "\n",
        "import pandas as pd\n",
        "import numpy as np\n",
        "import seaborn as sns\n",
        "import matplotlib.pyplot as plt\n",
        "%matplotlib inline\n",
        "# import geopandas as gpd\n"
      ],
      "execution_count": 2,
      "outputs": []
    },
    {
      "cell_type": "code",
      "metadata": {
        "id": "iwBiVGEO0DyG"
      },
      "source": [
        "# Load datas\n",
        "\n",
        "datloc_el = 'https://raw.githubusercontent.com/sakuronohana/my_datascience/master/datasets/kv-anlagen/Electricity.csv'\n",
        "datloc_ht = 'https://raw.githubusercontent.com/sakuronohana/my_datascience/master/datasets/kv-anlagen/Heat.csv'\n",
        "datloc_rw = 'https://raw.githubusercontent.com/sakuronohana/my_datascience/master/datasets/kv-anlagen/RecycledWaste.csv'\n",
        "datloc_wip = 'https://raw.githubusercontent.com/sakuronohana/my_datascience/master/datasets/kv-anlagen/WasteIncinerationPlant.csv'\n",
        "\n",
        "kv_electricity = pd.read_csv(datloc_el) # Durch KV produzierter Strom\n",
        "kv_heat = pd.read_csv(datloc_ht) # Durch KV produzierte Wärme\n",
        "kv_recywaste = pd.read_csv(datloc_rw) # Durch KV verbrante Abfallmenge\n",
        "kv_wasteincplant = pd.read_csv(datloc_wip, encoding='latin1') # Informationen zu Kehrichtverbrennugsanlagen"
      ],
      "execution_count": 28,
      "outputs": []
    },
    {
      "cell_type": "code",
      "metadata": {
        "id": "4flqQ2H4Vlr6",
        "colab": {
          "base_uri": "https://localhost:8080/"
        },
        "outputId": "d63397aa-c90e-4679-b1cd-90f46ec63ef2"
      },
      "source": [
        "# Sample of determining the Values of a Dataset\n",
        "kv_electricity.info()"
      ],
      "execution_count": 3,
      "outputs": [
        {
          "output_type": "stream",
          "text": [
            "<class 'pandas.core.frame.DataFrame'>\n",
            "RangeIndex: 30 entries, 0 to 29\n",
            "Data columns (total 12 columns):\n",
            " #   Column  Non-Null Count  Dtype  \n",
            "---  ------  --------------  -----  \n",
            " 0   Name    30 non-null     object \n",
            " 1   id      30 non-null     object \n",
            " 2   2010    30 non-null     int64  \n",
            " 3   2011    30 non-null     int64  \n",
            " 4   2012    30 non-null     int64  \n",
            " 5   2013    30 non-null     int64  \n",
            " 6   2014    30 non-null     int64  \n",
            " 7   2015    30 non-null     int64  \n",
            " 8   2016    30 non-null     int64  \n",
            " 9   2017    30 non-null     int64  \n",
            " 10  2018    30 non-null     float64\n",
            " 11  2019    30 non-null     float64\n",
            "dtypes: float64(2), int64(8), object(2)\n",
            "memory usage: 2.9+ KB\n"
          ],
          "name": "stdout"
        }
      ]
    },
    {
      "cell_type": "code",
      "metadata": {
        "id": "o54iwgi65qQE"
      },
      "source": [
        "# Datentype von float auf int64 ändern\n",
        "kv_electricity['2018'] =  kv_electricity['2018'].astype('int64')\n",
        "kv_electricity['2019'] =  kv_electricity['2019'].astype('int64')\n",
        "kv_heat['2018'] =  kv_heat['2018'].astype('int64')\n",
        "kv_heat['2019'] =  kv_heat['2019'].astype('int64')\n",
        "kv_recywaste['2017'] =  kv_recywaste['2017'].astype('int64')\n",
        "kv_recywaste['2018'] =  kv_recywaste['2018'].astype('int64')\n",
        "kv_recywaste['2019'] =  kv_recywaste['2019'].astype('int64')"
      ],
      "execution_count": 29,
      "outputs": []
    },
    {
      "cell_type": "code",
      "metadata": {
        "colab": {
          "base_uri": "https://localhost:8080/",
          "height": 294
        },
        "id": "uU3gvNzKRIBX",
        "outputId": "05d1a27d-a9cc-4ecc-abf1-6deb4413bd66"
      },
      "source": [
        "# Show Basic Statistics Electricity Production\n",
        "kv_electricity.describe()"
      ],
      "execution_count": 5,
      "outputs": [
        {
          "output_type": "execute_result",
          "data": {
            "text/html": [
              "<div>\n",
              "<style scoped>\n",
              "    .dataframe tbody tr th:only-of-type {\n",
              "        vertical-align: middle;\n",
              "    }\n",
              "\n",
              "    .dataframe tbody tr th {\n",
              "        vertical-align: top;\n",
              "    }\n",
              "\n",
              "    .dataframe thead th {\n",
              "        text-align: right;\n",
              "    }\n",
              "</style>\n",
              "<table border=\"1\" class=\"dataframe\">\n",
              "  <thead>\n",
              "    <tr style=\"text-align: right;\">\n",
              "      <th></th>\n",
              "      <th>2010</th>\n",
              "      <th>2011</th>\n",
              "      <th>2012</th>\n",
              "      <th>2013</th>\n",
              "      <th>2014</th>\n",
              "      <th>2015</th>\n",
              "      <th>2016</th>\n",
              "      <th>2017</th>\n",
              "      <th>2018</th>\n",
              "      <th>2019</th>\n",
              "    </tr>\n",
              "  </thead>\n",
              "  <tbody>\n",
              "    <tr>\n",
              "      <th>count</th>\n",
              "      <td>30.000000</td>\n",
              "      <td>30.000000</td>\n",
              "      <td>30.000000</td>\n",
              "      <td>30.000000</td>\n",
              "      <td>30.000000</td>\n",
              "      <td>30.000000</td>\n",
              "      <td>30.000000</td>\n",
              "      <td>30.000000</td>\n",
              "      <td>30.000000</td>\n",
              "      <td>30.000000</td>\n",
              "    </tr>\n",
              "    <tr>\n",
              "      <th>mean</th>\n",
              "      <td>45551.633333</td>\n",
              "      <td>46567.566667</td>\n",
              "      <td>49057.233333</td>\n",
              "      <td>51795.200000</td>\n",
              "      <td>55275.233333</td>\n",
              "      <td>57182.333333</td>\n",
              "      <td>61506.333333</td>\n",
              "      <td>61748.033333</td>\n",
              "      <td>61019.500000</td>\n",
              "      <td>61845.100000</td>\n",
              "    </tr>\n",
              "    <tr>\n",
              "      <th>std</th>\n",
              "      <td>28655.553064</td>\n",
              "      <td>28997.873496</td>\n",
              "      <td>31563.700279</td>\n",
              "      <td>34142.826413</td>\n",
              "      <td>34779.440771</td>\n",
              "      <td>33928.672938</td>\n",
              "      <td>38197.343047</td>\n",
              "      <td>37912.767479</td>\n",
              "      <td>37523.973317</td>\n",
              "      <td>37577.819241</td>\n",
              "    </tr>\n",
              "    <tr>\n",
              "      <th>min</th>\n",
              "      <td>0.000000</td>\n",
              "      <td>0.000000</td>\n",
              "      <td>0.000000</td>\n",
              "      <td>0.000000</td>\n",
              "      <td>0.000000</td>\n",
              "      <td>671.000000</td>\n",
              "      <td>426.000000</td>\n",
              "      <td>847.000000</td>\n",
              "      <td>651.000000</td>\n",
              "      <td>907.000000</td>\n",
              "    </tr>\n",
              "    <tr>\n",
              "      <th>25%</th>\n",
              "      <td>25291.750000</td>\n",
              "      <td>26366.000000</td>\n",
              "      <td>21500.500000</td>\n",
              "      <td>23473.750000</td>\n",
              "      <td>25063.250000</td>\n",
              "      <td>27102.250000</td>\n",
              "      <td>33017.500000</td>\n",
              "      <td>33330.000000</td>\n",
              "      <td>32632.000000</td>\n",
              "      <td>33153.250000</td>\n",
              "    </tr>\n",
              "    <tr>\n",
              "      <th>50%</th>\n",
              "      <td>42718.500000</td>\n",
              "      <td>43676.000000</td>\n",
              "      <td>45938.500000</td>\n",
              "      <td>46230.000000</td>\n",
              "      <td>52597.500000</td>\n",
              "      <td>58790.500000</td>\n",
              "      <td>59277.000000</td>\n",
              "      <td>59573.500000</td>\n",
              "      <td>57716.500000</td>\n",
              "      <td>59091.500000</td>\n",
              "    </tr>\n",
              "    <tr>\n",
              "      <th>75%</th>\n",
              "      <td>67155.000000</td>\n",
              "      <td>64120.500000</td>\n",
              "      <td>66720.500000</td>\n",
              "      <td>76324.500000</td>\n",
              "      <td>82235.750000</td>\n",
              "      <td>81949.500000</td>\n",
              "      <td>82195.500000</td>\n",
              "      <td>86105.500000</td>\n",
              "      <td>81882.750000</td>\n",
              "      <td>75007.500000</td>\n",
              "    </tr>\n",
              "    <tr>\n",
              "      <th>max</th>\n",
              "      <td>97638.000000</td>\n",
              "      <td>101842.000000</td>\n",
              "      <td>112786.000000</td>\n",
              "      <td>132666.000000</td>\n",
              "      <td>136451.000000</td>\n",
              "      <td>134900.000000</td>\n",
              "      <td>149511.000000</td>\n",
              "      <td>151555.000000</td>\n",
              "      <td>164449.000000</td>\n",
              "      <td>155779.000000</td>\n",
              "    </tr>\n",
              "  </tbody>\n",
              "</table>\n",
              "</div>"
            ],
            "text/plain": [
              "               2010           2011  ...           2018           2019\n",
              "count     30.000000      30.000000  ...      30.000000      30.000000\n",
              "mean   45551.633333   46567.566667  ...   61019.500000   61845.100000\n",
              "std    28655.553064   28997.873496  ...   37523.973317   37577.819241\n",
              "min        0.000000       0.000000  ...     651.000000     907.000000\n",
              "25%    25291.750000   26366.000000  ...   32632.000000   33153.250000\n",
              "50%    42718.500000   43676.000000  ...   57716.500000   59091.500000\n",
              "75%    67155.000000   64120.500000  ...   81882.750000   75007.500000\n",
              "max    97638.000000  101842.000000  ...  164449.000000  155779.000000\n",
              "\n",
              "[8 rows x 10 columns]"
            ]
          },
          "metadata": {
            "tags": []
          },
          "execution_count": 5
        }
      ]
    },
    {
      "cell_type": "code",
      "metadata": {
        "colab": {
          "base_uri": "https://localhost:8080/"
        },
        "id": "G-fADiwuTrId",
        "outputId": "7d4b30a7-5a73-42b9-feea-fe7d5352a9bd"
      },
      "source": [
        "# Find the max. Value \n",
        "print(kv_electricity[kv_electricity['2018'] == kv_electricity['2018'].max()])\n",
        "\n",
        "# Find the min. Value\n",
        "print(kv_electricity[kv_electricity['2018'] == kv_electricity['2018'].min()])\n"
      ],
      "execution_count": null,
      "outputs": [
        {
          "output_type": "stream",
          "text": [
            "      Name    id  2010  2011  2012  ...    2015    2016    2017    2018    2019\n",
            "11  Perlen  LU_2     0     0     0  ...  100658  149511  151555  164449  155779\n",
            "\n",
            "[1 rows x 12 columns]\n",
            "      Name    id  2010  2011  2012  2013  2014  2015  2016  2017  2018  2019\n",
            "21  Gamsen  VS_1   509   510   534   511   426   671   426   847   651   907\n"
          ],
          "name": "stdout"
        }
      ]
    },
    {
      "cell_type": "code",
      "metadata": {
        "colab": {
          "base_uri": "https://localhost:8080/",
          "height": 426
        },
        "id": "_0zxGUQYOlPk",
        "outputId": "442fae63-0584-4c95-c1fc-87ce40c5b757"
      },
      "source": [
        "# Transpose of a Matrix \n",
        "kv_elect_transp = pd.DataFrame(kv_electricity.select_dtypes(include=['int64']).transpose())\n",
        "kv_elect_transp.columns = kv_electricity['Name']\n",
        "kv_elect_transp = kv_elect_transp.reset_index()\n",
        "kv_elect_transp = kv_elect_transp.reset_index(drop=True)\n",
        "kv_elect_transp.rename(columns={'index':'Jahr'}, inplace=True)\n",
        "kv_elect_transp"
      ],
      "execution_count": 6,
      "outputs": [
        {
          "output_type": "execute_result",
          "data": {
            "text/html": [
              "<div>\n",
              "<style scoped>\n",
              "    .dataframe tbody tr th:only-of-type {\n",
              "        vertical-align: middle;\n",
              "    }\n",
              "\n",
              "    .dataframe tbody tr th {\n",
              "        vertical-align: top;\n",
              "    }\n",
              "\n",
              "    .dataframe thead th {\n",
              "        text-align: right;\n",
              "    }\n",
              "</style>\n",
              "<table border=\"1\" class=\"dataframe\">\n",
              "  <thead>\n",
              "    <tr style=\"text-align: right;\">\n",
              "      <th>Name</th>\n",
              "      <th>Jahr</th>\n",
              "      <th>Buchs (AG)</th>\n",
              "      <th>Oftringen</th>\n",
              "      <th>Turgi</th>\n",
              "      <th>Bern</th>\n",
              "      <th>Biel</th>\n",
              "      <th>Thun</th>\n",
              "      <th>Basel</th>\n",
              "      <th>Posieux</th>\n",
              "      <th>Genf</th>\n",
              "      <th>Niederurnen</th>\n",
              "      <th>Trimmis</th>\n",
              "      <th>Perlen</th>\n",
              "      <th>Colombier</th>\n",
              "      <th>La Chaux-de-Fonds</th>\n",
              "      <th>Bazenheid</th>\n",
              "      <th>Buchs (SG)</th>\n",
              "      <th>St. Gallen</th>\n",
              "      <th>Zuchwil</th>\n",
              "      <th>Weinfelden</th>\n",
              "      <th>Giubiasco</th>\n",
              "      <th>Lausanne</th>\n",
              "      <th>Gamsen</th>\n",
              "      <th>Sion</th>\n",
              "      <th>Monthey</th>\n",
              "      <th>Dietikon</th>\n",
              "      <th>Hinwil</th>\n",
              "      <th>Horgen</th>\n",
              "      <th>ZH Hagenholz</th>\n",
              "      <th>ZH Josefstrasse</th>\n",
              "      <th>Winterthur</th>\n",
              "    </tr>\n",
              "  </thead>\n",
              "  <tbody>\n",
              "    <tr>\n",
              "      <th>0</th>\n",
              "      <td>2010</td>\n",
              "      <td>45221</td>\n",
              "      <td>46166</td>\n",
              "      <td>68338</td>\n",
              "      <td>18795</td>\n",
              "      <td>15000</td>\n",
              "      <td>70199</td>\n",
              "      <td>28820</td>\n",
              "      <td>52000</td>\n",
              "      <td>93658</td>\n",
              "      <td>63606</td>\n",
              "      <td>39851</td>\n",
              "      <td>0</td>\n",
              "      <td>27079</td>\n",
              "      <td>18358</td>\n",
              "      <td>9000</td>\n",
              "      <td>87704</td>\n",
              "      <td>24696</td>\n",
              "      <td>40216</td>\n",
              "      <td>31350</td>\n",
              "      <td>97638</td>\n",
              "      <td>55773</td>\n",
              "      <td>509</td>\n",
              "      <td>27212</td>\n",
              "      <td>80182</td>\n",
              "      <td>47919</td>\n",
              "      <td>89089</td>\n",
              "      <td>18131</td>\n",
              "      <td>88691</td>\n",
              "      <td>49763</td>\n",
              "      <td>31585</td>\n",
              "    </tr>\n",
              "    <tr>\n",
              "      <th>1</th>\n",
              "      <td>2011</td>\n",
              "      <td>47105</td>\n",
              "      <td>46181</td>\n",
              "      <td>69023</td>\n",
              "      <td>23339</td>\n",
              "      <td>17761</td>\n",
              "      <td>69391</td>\n",
              "      <td>41171</td>\n",
              "      <td>55166</td>\n",
              "      <td>98601</td>\n",
              "      <td>58860</td>\n",
              "      <td>50254</td>\n",
              "      <td>0</td>\n",
              "      <td>27861</td>\n",
              "      <td>18309</td>\n",
              "      <td>9643</td>\n",
              "      <td>88895</td>\n",
              "      <td>26438</td>\n",
              "      <td>39341</td>\n",
              "      <td>39133</td>\n",
              "      <td>101842</td>\n",
              "      <td>65874</td>\n",
              "      <td>510</td>\n",
              "      <td>26342</td>\n",
              "      <td>50576</td>\n",
              "      <td>50675</td>\n",
              "      <td>98781</td>\n",
              "      <td>19382</td>\n",
              "      <td>92843</td>\n",
              "      <td>32098</td>\n",
              "      <td>31632</td>\n",
              "    </tr>\n",
              "    <tr>\n",
              "      <th>2</th>\n",
              "      <td>2012</td>\n",
              "      <td>45046</td>\n",
              "      <td>46821</td>\n",
              "      <td>68877</td>\n",
              "      <td>20000</td>\n",
              "      <td>16969</td>\n",
              "      <td>67576</td>\n",
              "      <td>45056</td>\n",
              "      <td>45056</td>\n",
              "      <td>102283</td>\n",
              "      <td>62616</td>\n",
              "      <td>47901</td>\n",
              "      <td>0</td>\n",
              "      <td>26002</td>\n",
              "      <td>16903</td>\n",
              "      <td>10853</td>\n",
              "      <td>84143</td>\n",
              "      <td>18574</td>\n",
              "      <td>50144</td>\n",
              "      <td>39527</td>\n",
              "      <td>106718</td>\n",
              "      <td>63624</td>\n",
              "      <td>534</td>\n",
              "      <td>26529</td>\n",
              "      <td>112786</td>\n",
              "      <td>49832</td>\n",
              "      <td>99645</td>\n",
              "      <td>19033</td>\n",
              "      <td>82187</td>\n",
              "      <td>32328</td>\n",
              "      <td>64154</td>\n",
              "    </tr>\n",
              "    <tr>\n",
              "      <th>3</th>\n",
              "      <td>2013</td>\n",
              "      <td>42011</td>\n",
              "      <td>45906</td>\n",
              "      <td>67293</td>\n",
              "      <td>46554</td>\n",
              "      <td>14750</td>\n",
              "      <td>72534</td>\n",
              "      <td>44408</td>\n",
              "      <td>53915</td>\n",
              "      <td>84382</td>\n",
              "      <td>60223</td>\n",
              "      <td>42593</td>\n",
              "      <td>0</td>\n",
              "      <td>22558</td>\n",
              "      <td>16900</td>\n",
              "      <td>8075</td>\n",
              "      <td>77588</td>\n",
              "      <td>23113</td>\n",
              "      <td>132666</td>\n",
              "      <td>38127</td>\n",
              "      <td>102212</td>\n",
              "      <td>46922</td>\n",
              "      <td>511</td>\n",
              "      <td>24556</td>\n",
              "      <td>97010</td>\n",
              "      <td>50627</td>\n",
              "      <td>102441</td>\n",
              "      <td>18862</td>\n",
              "      <td>96570</td>\n",
              "      <td>31413</td>\n",
              "      <td>89136</td>\n",
              "    </tr>\n",
              "    <tr>\n",
              "      <th>4</th>\n",
              "      <td>2014</td>\n",
              "      <td>64247</td>\n",
              "      <td>46689</td>\n",
              "      <td>66822</td>\n",
              "      <td>45198</td>\n",
              "      <td>14326</td>\n",
              "      <td>73262</td>\n",
              "      <td>55193</td>\n",
              "      <td>53956</td>\n",
              "      <td>88665</td>\n",
              "      <td>63826</td>\n",
              "      <td>49191</td>\n",
              "      <td>0</td>\n",
              "      <td>24766</td>\n",
              "      <td>18942</td>\n",
              "      <td>21381</td>\n",
              "      <td>85227</td>\n",
              "      <td>20869</td>\n",
              "      <td>136451</td>\n",
              "      <td>40176</td>\n",
              "      <td>98235</td>\n",
              "      <td>52101</td>\n",
              "      <td>426</td>\n",
              "      <td>25955</td>\n",
              "      <td>111816</td>\n",
              "      <td>53094</td>\n",
              "      <td>102341</td>\n",
              "      <td>20463</td>\n",
              "      <td>101598</td>\n",
              "      <td>33837</td>\n",
              "      <td>89204</td>\n",
              "    </tr>\n",
              "    <tr>\n",
              "      <th>5</th>\n",
              "      <td>2015</td>\n",
              "      <td>64431</td>\n",
              "      <td>21865</td>\n",
              "      <td>63914</td>\n",
              "      <td>60519</td>\n",
              "      <td>15629</td>\n",
              "      <td>71084</td>\n",
              "      <td>59158</td>\n",
              "      <td>55504</td>\n",
              "      <td>82198</td>\n",
              "      <td>62224</td>\n",
              "      <td>45817</td>\n",
              "      <td>100658</td>\n",
              "      <td>25500</td>\n",
              "      <td>15111</td>\n",
              "      <td>36289</td>\n",
              "      <td>81204</td>\n",
              "      <td>18232</td>\n",
              "      <td>134900</td>\n",
              "      <td>39873</td>\n",
              "      <td>103862</td>\n",
              "      <td>58423</td>\n",
              "      <td>671</td>\n",
              "      <td>23055</td>\n",
              "      <td>86413</td>\n",
              "      <td>51773</td>\n",
              "      <td>91368</td>\n",
              "      <td>8839</td>\n",
              "      <td>95197</td>\n",
              "      <td>31909</td>\n",
              "      <td>109850</td>\n",
              "    </tr>\n",
              "    <tr>\n",
              "      <th>6</th>\n",
              "      <td>2016</td>\n",
              "      <td>68333</td>\n",
              "      <td>46242</td>\n",
              "      <td>63679</td>\n",
              "      <td>73081</td>\n",
              "      <td>14583</td>\n",
              "      <td>73291</td>\n",
              "      <td>47708</td>\n",
              "      <td>45785</td>\n",
              "      <td>80646</td>\n",
              "      <td>64327</td>\n",
              "      <td>44649</td>\n",
              "      <td>149511</td>\n",
              "      <td>18325</td>\n",
              "      <td>15636</td>\n",
              "      <td>40039</td>\n",
              "      <td>82712</td>\n",
              "      <td>18981</td>\n",
              "      <td>124869</td>\n",
              "      <td>43513</td>\n",
              "      <td>105845</td>\n",
              "      <td>63037</td>\n",
              "      <td>426</td>\n",
              "      <td>23864</td>\n",
              "      <td>113888</td>\n",
              "      <td>55517</td>\n",
              "      <td>110190</td>\n",
              "      <td>12603</td>\n",
              "      <td>104570</td>\n",
              "      <td>30677</td>\n",
              "      <td>108663</td>\n",
              "    </tr>\n",
              "    <tr>\n",
              "      <th>7</th>\n",
              "      <td>2017</td>\n",
              "      <td>64348</td>\n",
              "      <td>45827</td>\n",
              "      <td>64470</td>\n",
              "      <td>72863</td>\n",
              "      <td>15438</td>\n",
              "      <td>64382</td>\n",
              "      <td>54964</td>\n",
              "      <td>54781</td>\n",
              "      <td>88151</td>\n",
              "      <td>64183</td>\n",
              "      <td>46295</td>\n",
              "      <td>151555</td>\n",
              "      <td>11899</td>\n",
              "      <td>15549</td>\n",
              "      <td>41019</td>\n",
              "      <td>79969</td>\n",
              "      <td>18095</td>\n",
              "      <td>123748</td>\n",
              "      <td>41327</td>\n",
              "      <td>103597</td>\n",
              "      <td>70548</td>\n",
              "      <td>847</td>\n",
              "      <td>23314</td>\n",
              "      <td>107423</td>\n",
              "      <td>53305</td>\n",
              "      <td>112274</td>\n",
              "      <td>18954</td>\n",
              "      <td>104002</td>\n",
              "      <td>30767</td>\n",
              "      <td>108547</td>\n",
              "    </tr>\n",
              "    <tr>\n",
              "      <th>8</th>\n",
              "      <td>2018</td>\n",
              "      <td>73645</td>\n",
              "      <td>45411</td>\n",
              "      <td>63612</td>\n",
              "      <td>76311</td>\n",
              "      <td>14929</td>\n",
              "      <td>75286</td>\n",
              "      <td>58461</td>\n",
              "      <td>56972</td>\n",
              "      <td>71719</td>\n",
              "      <td>36889</td>\n",
              "      <td>48690</td>\n",
              "      <td>164449</td>\n",
              "      <td>26464</td>\n",
              "      <td>14982</td>\n",
              "      <td>39064</td>\n",
              "      <td>83740</td>\n",
              "      <td>12332</td>\n",
              "      <td>129084</td>\n",
              "      <td>43982</td>\n",
              "      <td>99467</td>\n",
              "      <td>70086</td>\n",
              "      <td>651</td>\n",
              "      <td>27329</td>\n",
              "      <td>90212</td>\n",
              "      <td>54388</td>\n",
              "      <td>102185</td>\n",
              "      <td>18818</td>\n",
              "      <td>104083</td>\n",
              "      <td>31213</td>\n",
              "      <td>96131</td>\n",
              "    </tr>\n",
              "    <tr>\n",
              "      <th>9</th>\n",
              "      <td>2019</td>\n",
              "      <td>73914</td>\n",
              "      <td>47961</td>\n",
              "      <td>63237</td>\n",
              "      <td>75372</td>\n",
              "      <td>14236</td>\n",
              "      <td>73000</td>\n",
              "      <td>55542</td>\n",
              "      <td>42175</td>\n",
              "      <td>70656</td>\n",
              "      <td>62641</td>\n",
              "      <td>44521</td>\n",
              "      <td>155779</td>\n",
              "      <td>29442</td>\n",
              "      <td>13190</td>\n",
              "      <td>37651</td>\n",
              "      <td>73700</td>\n",
              "      <td>20106</td>\n",
              "      <td>129095</td>\n",
              "      <td>48452</td>\n",
              "      <td>100121</td>\n",
              "      <td>69849</td>\n",
              "      <td>907</td>\n",
              "      <td>26227</td>\n",
              "      <td>109733</td>\n",
              "      <td>47447</td>\n",
              "      <td>108743</td>\n",
              "      <td>18776</td>\n",
              "      <td>103211</td>\n",
              "      <td>31654</td>\n",
              "      <td>108015</td>\n",
              "    </tr>\n",
              "  </tbody>\n",
              "</table>\n",
              "</div>"
            ],
            "text/plain": [
              "Name  Jahr  Buchs (AG)  Oftringen  ...  ZH Hagenholz  ZH Josefstrasse   Winterthur\n",
              "0     2010       45221      46166  ...         88691             49763       31585\n",
              "1     2011       47105      46181  ...         92843             32098       31632\n",
              "2     2012       45046      46821  ...         82187             32328       64154\n",
              "3     2013       42011      45906  ...         96570             31413       89136\n",
              "4     2014       64247      46689  ...        101598             33837       89204\n",
              "5     2015       64431      21865  ...         95197             31909      109850\n",
              "6     2016       68333      46242  ...        104570             30677      108663\n",
              "7     2017       64348      45827  ...        104002             30767      108547\n",
              "8     2018       73645      45411  ...        104083             31213       96131\n",
              "9     2019       73914      47961  ...        103211             31654      108015\n",
              "\n",
              "[10 rows x 31 columns]"
            ]
          },
          "metadata": {
            "tags": []
          },
          "execution_count": 6
        }
      ]
    },
    {
      "cell_type": "code",
      "metadata": {
        "id": "dQSfgIVnm-e3"
      },
      "source": [
        "# Zusammenführung ohne Transponierung\n",
        "list_elect = []\n",
        "list_heat = []\n",
        "list_waste = []\n",
        "\n",
        "# Loop für Elektrizität\n",
        "for i in kv_electricity.columns[2:]:\n",
        "  kv_select_el = kv_electricity[i].sum()/1000 #summieren und in Gigawatt umwandeln\n",
        "  list_elect.append(kv_select_el)\n",
        "sum_elect = pd.DataFrame(list_elect,columns=['Electricity'])\n",
        "\n",
        "# Loop für Heat\n",
        "for i in kv_heat.columns[2:]:\n",
        "  kv_select_heat = kv_heat[i].sum()/1000 #summieren und in Gigawatt umwandeln\n",
        "  list_heat.append(kv_select_heat)\n",
        "sum_heat = pd.DataFrame(list_heat,columns=['Heat'])\n",
        "\n",
        "# Loop für Waste\n",
        "for i in kv_recywaste.columns[2:]:\n",
        "  kv_select_waste = kv_recywaste[i].sum()\n",
        "  list_waste.append(kv_select_waste)\n",
        "sum_waste = pd.DataFrame(list_waste,columns=['Recywaste'])  \n",
        "\n",
        "# Zusammenführung  \n",
        "kv_all = pd.DataFrame(columns=['Year','Electricity', 'Heat', 'Recywaste'])\n",
        "kv_all['Year'] = kv_electricity.columns[2:]\n",
        "kv_all['Electricity'] = sum_elect.iloc[:,0]\n",
        "kv_all['Heat'] = sum_heat.iloc[:,0]\n",
        "kv_all['Recywaste'] = sum_waste.iloc[:,0]\n",
        "\n",
        "# Konvertierung in Integer\n",
        "kv_all = kv_all.astype(int)\n"
      ],
      "execution_count": 7,
      "outputs": []
    },
    {
      "cell_type": "code",
      "metadata": {
        "colab": {
          "base_uri": "https://localhost:8080/",
          "height": 356
        },
        "id": "jMzbPZaoUVvU",
        "outputId": "97563648-88e4-41f0-a8bf-065190c35f1c"
      },
      "source": [
        "kv_all"
      ],
      "execution_count": 8,
      "outputs": [
        {
          "output_type": "execute_result",
          "data": {
            "text/html": [
              "<div>\n",
              "<style scoped>\n",
              "    .dataframe tbody tr th:only-of-type {\n",
              "        vertical-align: middle;\n",
              "    }\n",
              "\n",
              "    .dataframe tbody tr th {\n",
              "        vertical-align: top;\n",
              "    }\n",
              "\n",
              "    .dataframe thead th {\n",
              "        text-align: right;\n",
              "    }\n",
              "</style>\n",
              "<table border=\"1\" class=\"dataframe\">\n",
              "  <thead>\n",
              "    <tr style=\"text-align: right;\">\n",
              "      <th></th>\n",
              "      <th>Year</th>\n",
              "      <th>Electricity</th>\n",
              "      <th>Heat</th>\n",
              "      <th>Recywaste</th>\n",
              "    </tr>\n",
              "  </thead>\n",
              "  <tbody>\n",
              "    <tr>\n",
              "      <th>0</th>\n",
              "      <td>2010</td>\n",
              "      <td>1366</td>\n",
              "      <td>2999</td>\n",
              "      <td>3641864</td>\n",
              "    </tr>\n",
              "    <tr>\n",
              "      <th>1</th>\n",
              "      <td>2011</td>\n",
              "      <td>1397</td>\n",
              "      <td>2871</td>\n",
              "      <td>3656235</td>\n",
              "    </tr>\n",
              "    <tr>\n",
              "      <th>2</th>\n",
              "      <td>2012</td>\n",
              "      <td>1471</td>\n",
              "      <td>2931</td>\n",
              "      <td>3778110</td>\n",
              "    </tr>\n",
              "    <tr>\n",
              "      <th>3</th>\n",
              "      <td>2013</td>\n",
              "      <td>1553</td>\n",
              "      <td>3060</td>\n",
              "      <td>3704130</td>\n",
              "    </tr>\n",
              "    <tr>\n",
              "      <th>4</th>\n",
              "      <td>2014</td>\n",
              "      <td>1658</td>\n",
              "      <td>3014</td>\n",
              "      <td>3727348</td>\n",
              "    </tr>\n",
              "    <tr>\n",
              "      <th>5</th>\n",
              "      <td>2015</td>\n",
              "      <td>1715</td>\n",
              "      <td>3395</td>\n",
              "      <td>3889161</td>\n",
              "    </tr>\n",
              "    <tr>\n",
              "      <th>6</th>\n",
              "      <td>2016</td>\n",
              "      <td>1845</td>\n",
              "      <td>3600</td>\n",
              "      <td>4010006</td>\n",
              "    </tr>\n",
              "    <tr>\n",
              "      <th>7</th>\n",
              "      <td>2017</td>\n",
              "      <td>1852</td>\n",
              "      <td>3696</td>\n",
              "      <td>4011020</td>\n",
              "    </tr>\n",
              "    <tr>\n",
              "      <th>8</th>\n",
              "      <td>2018</td>\n",
              "      <td>1830</td>\n",
              "      <td>3731</td>\n",
              "      <td>4041681</td>\n",
              "    </tr>\n",
              "    <tr>\n",
              "      <th>9</th>\n",
              "      <td>2019</td>\n",
              "      <td>1855</td>\n",
              "      <td>3990</td>\n",
              "      <td>4059368</td>\n",
              "    </tr>\n",
              "  </tbody>\n",
              "</table>\n",
              "</div>"
            ],
            "text/plain": [
              "   Year  Electricity  Heat  Recywaste\n",
              "0  2010         1366  2999    3641864\n",
              "1  2011         1397  2871    3656235\n",
              "2  2012         1471  2931    3778110\n",
              "3  2013         1553  3060    3704130\n",
              "4  2014         1658  3014    3727348\n",
              "5  2015         1715  3395    3889161\n",
              "6  2016         1845  3600    4010006\n",
              "7  2017         1852  3696    4011020\n",
              "8  2018         1830  3731    4041681\n",
              "9  2019         1855  3990    4059368"
            ]
          },
          "metadata": {
            "tags": []
          },
          "execution_count": 8
        }
      ]
    },
    {
      "cell_type": "code",
      "metadata": {
        "colab": {
          "base_uri": "https://localhost:8080/"
        },
        "id": "BKW3CaGBXVs0",
        "outputId": "1e1f61bb-23ae-472b-d0b3-70c2e625d8ae"
      },
      "source": [
        "selct = kv_all[(kv_all.Electricity > 1000) & (kv_all.Heat > 3000)]\n",
        "print(selct)"
      ],
      "execution_count": 30,
      "outputs": [
        {
          "output_type": "stream",
          "text": [
            "   Year  Electricity  Heat  Recywaste\n",
            "3  2013         1553  3060    3704130\n",
            "4  2014         1658  3014    3727348\n",
            "5  2015         1715  3395    3889161\n",
            "6  2016         1845  3600    4010006\n",
            "7  2017         1852  3696    4011020\n",
            "8  2018         1830  3731    4041681\n",
            "9  2019         1855  3990    4059368\n"
          ],
          "name": "stdout"
        }
      ]
    },
    {
      "cell_type": "markdown",
      "metadata": {
        "id": "pF6_rhJrbMYN"
      },
      "source": [
        "https://datatofish.com/join-pandas-dataframes-merge/"
      ]
    },
    {
      "cell_type": "code",
      "metadata": {
        "colab": {
          "base_uri": "https://localhost:8080/"
        },
        "id": "hA7g7kigCBat",
        "outputId": "bd128867-1181-49e5-9ffe-5fa4be4b143b"
      },
      "source": [
        "kv_electricity['Comp'] = np.where(kv_electricity['2010'] == kv_heat['2010'] , 'True', 'False')\n",
        "print(kv_electricity)"
      ],
      "execution_count": 22,
      "outputs": [
        {
          "output_type": "stream",
          "text": [
            "                  Name    id   2010    2011  ...    2017    2018    2019   Comp\n",
            "0           Buchs (AG)  AG_1  45221   47105  ...   64348   73645   73914  False\n",
            "1            Oftringen  AG_2  46166   46181  ...   45827   45411   47961  False\n",
            "2                Turgi  AG_3  68338   69023  ...   64470   63612   63237  False\n",
            "3                 Bern  BE_1  18795   23339  ...   72863   76311   75372  False\n",
            "4                 Biel  BE_2  15000   17761  ...   15438   14929   14236  False\n",
            "5                 Thun  BE_3  70199   69391  ...   64382   75286   73000  False\n",
            "6                Basel  BS_1  28820   41171  ...   54964   58461   55542  False\n",
            "7              Posieux  FR_1  52000   55166  ...   54781   56972   42175  False\n",
            "8                 Genf  GE_1  93658   98601  ...   88151   71719   70656  False\n",
            "9          Niederurnen  GL_1  63606   58860  ...   64183   36889   62641  False\n",
            "10             Trimmis  GR_1  39851   50254  ...   46295   48690   44521  False\n",
            "11              Perlen  LU_2      0       0  ...  151555  164449  155779   True\n",
            "12          Colombier   NE_1  27079   27861  ...   11899   26464   29442  False\n",
            "13  La Chaux-de-Fonds   NE_2  18358   18309  ...   15549   14982   13190  False\n",
            "14           Bazenheid  SG_1   9000    9643  ...   41019   39064   37651  False\n",
            "15          Buchs (SG)  SG_2  87704   88895  ...   79969   83740   73700  False\n",
            "16          St. Gallen  SG_3  24696   26438  ...   18095   12332   20106  False\n",
            "17             Zuchwil  SO_1  40216   39341  ...  123748  129084  129095  False\n",
            "18          Weinfelden  TG_1  31350   39133  ...   41327   43982   48452  False\n",
            "19           Giubiasco  TI_1  97638  101842  ...  103597   99467  100121  False\n",
            "20            Lausanne  VD_2  55773   65874  ...   70548   70086   69849  False\n",
            "21              Gamsen  VS_1    509     510  ...     847     651     907  False\n",
            "22                Sion  VS_2  27212   26342  ...   23314   27329   26227  False\n",
            "23             Monthey  VS_3  80182   50576  ...  107423   90212  109733  False\n",
            "24            Dietikon  ZH_1  47919   50675  ...   53305   54388   47447  False\n",
            "25              Hinwil  ZH_2  89089   98781  ...  112274  102185  108743  False\n",
            "26              Horgen  ZH_3  18131   19382  ...   18954   18818   18776  False\n",
            "27        ZH Hagenholz  ZH_4  88691   92843  ...  104002  104083  103211  False\n",
            "28    ZH Josefstrasse   ZH_5  49763   32098  ...   30767   31213   31654  False\n",
            "29          Winterthur  ZH_6  31585   31632  ...  108547   96131  108015  False\n",
            "\n",
            "[30 rows x 13 columns]\n"
          ],
          "name": "stdout"
        }
      ]
    },
    {
      "cell_type": "code",
      "metadata": {
        "colab": {
          "base_uri": "https://localhost:8080/"
        },
        "id": "9ZpvTWArFPrV",
        "outputId": "90c9c92d-0783-4d8d-85c6-731e3a2e3bbb"
      },
      "source": [
        "kv_electricity['Comp2'] = np.where(kv_electricity.iloc[:,2] == kv_heat.iloc[:,2], 0, kv_electricity['2010'] - kv_heat['2010'])\n",
        "print(kv_electricity)"
      ],
      "execution_count": 27,
      "outputs": [
        {
          "output_type": "stream",
          "text": [
            "                  Name    id   2010    2011  ...    2018    2019   Comp   Comp2\n",
            "0           Buchs (AG)  AG_1  45221   47105  ...   73645   73914  False  -34933\n",
            "1            Oftringen  AG_2  46166   46181  ...   45411   47961  False   35718\n",
            "2                Turgi  AG_3  68338   69023  ...   63612   63237  False   14203\n",
            "3                 Bern  BE_1  18795   23339  ...   76311   75372  False -159752\n",
            "4                 Biel  BE_2  15000   17761  ...   14929   14236  False   -6000\n",
            "5                 Thun  BE_3  70199   69391  ...   75286   73000  False   10020\n",
            "6                Basel  BS_1  28820   41171  ...   58461   55542  False -421156\n",
            "7              Posieux  FR_1  52000   55166  ...   56972   42175  False    9000\n",
            "8                 Genf  GE_1  93658   98601  ...   71719   70656  False  -45064\n",
            "9          Niederurnen  GL_1  63606   58860  ...   36889   62641  False   61527\n",
            "10             Trimmis  GR_1  39851   50254  ...   48690   44521  False  -16294\n",
            "11              Perlen  LU_2      0       0  ...  164449  155779   True       0\n",
            "12          Colombier   NE_1  27079   27861  ...   26464   29442  False     639\n",
            "13  La Chaux-de-Fonds   NE_2  18358   18309  ...   14982   13190  False  -45542\n",
            "14           Bazenheid  SG_1   9000    9643  ...   39064   37651  False  -46000\n",
            "15          Buchs (SG)  SG_2  87704   88895  ...   83740   73700  False  -84096\n",
            "16          St. Gallen  SG_3  24696   26438  ...   12332   20106  False  -39509\n",
            "17             Zuchwil  SO_1  40216   39341  ...  129084  129095  False -272353\n",
            "18          Weinfelden  TG_1  31350   39133  ...   43982   48452  False -161389\n",
            "19           Giubiasco  TI_1  97638  101842  ...   99467  100121  False   97638\n",
            "20            Lausanne  VD_2  55773   65874  ...   70086   69849  False -184851\n",
            "21              Gamsen  VS_1    509     510  ...     651     907  False  -14491\n",
            "22                Sion  VS_2  27212   26342  ...   27329   26227  False   25296\n",
            "23             Monthey  VS_3  80182   50576  ...   90212  109733  False   10741\n",
            "24            Dietikon  ZH_1  47919   50675  ...   54388   47447  False   20914\n",
            "25              Hinwil  ZH_2  89089   98781  ...  102185  108743  False   48335\n",
            "26              Horgen  ZH_3  18131   19382  ...   18818   18776  False  -32370\n",
            "27        ZH Hagenholz  ZH_4  88691   92843  ...  104083  103211  False -277569\n",
            "28    ZH Josefstrasse   ZH_5  49763   32098  ...   31213   31654  False  -36563\n",
            "29          Winterthur  ZH_6  31585   31632  ...   96131  108015  False  -89159\n",
            "\n",
            "[30 rows x 14 columns]\n"
          ],
          "name": "stdout"
        }
      ]
    },
    {
      "cell_type": "code",
      "metadata": {
        "id": "flHIhyfLRNyH",
        "colab": {
          "base_uri": "https://localhost:8080/",
          "height": 332
        },
        "outputId": "74a01687-fca4-4197-fcf5-7a785d080d34"
      },
      "source": [
        "# Visualisierung Verteilung der Daten (Histogramm)\n",
        "\n",
        "fig, axs = plt.subplots(1,3, sharey=True)\n",
        "axs[0].hist(kv_elect_transp.iloc[0,1:].values)\n",
        "axs[1].hist(kv_elect_transp.iloc[1,1:].values)\n",
        "axs[2].hist(kv_elect_transp.iloc[2,1:].values)"
      ],
      "execution_count": null,
      "outputs": [
        {
          "output_type": "execute_result",
          "data": {
            "text/plain": [
              "(array([3., 5., 3., 4., 4., 4., 1., 2., 1., 3.]),\n",
              " array([0.0, 11278.6, 22557.2, 33835.8, 45114.4, 56393.0, 67671.6, 78950.2,\n",
              "        90228.8, 101507.40000000001, 112786.0], dtype=object),\n",
              " <a list of 10 Patch objects>)"
            ]
          },
          "metadata": {
            "tags": []
          },
          "execution_count": 63
        },
        {
          "output_type": "display_data",
          "data": {
            "image/png": "[encoded data removed]",
            "text/plain": [
              "<Figure size 432x288 with 3 Axes>"
            ]
          },
          "metadata": {
            "tags": [],
            "needs_background": "light"
          }
        }
      ]
    },
    {
      "cell_type": "code",
      "metadata": {
        "id": "FmmS-DX46pTa",
        "colab": {
          "base_uri": "https://localhost:8080/",
          "height": 303
        },
        "outputId": "b4002318-30fc-4e3f-c1a8-27f80c26117e"
      },
      "source": [
        "# Scatterplot mit Seaborn\n",
        "sns.set()\n",
        "sns.scatterplot(\n",
        "    data = kv_elect_transp,\n",
        "    x = 'Biel', \n",
        "    y = 'Bern', \n",
        "    s=50,\n",
        "    )"
      ],
      "execution_count": null,
      "outputs": [
        {
          "output_type": "execute_result",
          "data": {
            "text/plain": [
              "<matplotlib.axes._subplots.AxesSubplot at 0x7f76a39b2410>"
            ]
          },
          "metadata": {
            "tags": []
          },
          "execution_count": 9
        },
        {
          "output_type": "display_data",
          "data": {
            "image/png": "[encoded data removed]",
            "text/plain": [
              "<Figure size 432x288 with 1 Axes>"
            ]
          },
          "metadata": {
            "tags": []
          }
        }
      ]
    },
    {
      "cell_type": "code",
      "metadata": {
        "colab": {
          "base_uri": "https://localhost:8080/",
          "height": 428
        },
        "id": "t4gwRLFDpHEx",
        "outputId": "7d3cdcae-c62e-44db-9091-6a9dd047cc69"
      },
      "source": [
        "kv_electricity.iloc[:13,[0,2,3,4,5,6,7,8,9,10,11]]"
      ],
      "execution_count": null,
      "outputs": [
        {
          "output_type": "execute_result",
          "data": {
            "text/html": [
              "<div>\n",
              "<style scoped>\n",
              "    .dataframe tbody tr th:only-of-type {\n",
              "        vertical-align: middle;\n",
              "    }\n",
              "\n",
              "    .dataframe tbody tr th {\n",
              "        vertical-align: top;\n",
              "    }\n",
              "\n",
              "    .dataframe thead th {\n",
              "        text-align: right;\n",
              "    }\n",
              "</style>\n",
              "<table border=\"1\" class=\"dataframe\">\n",
              "  <thead>\n",
              "    <tr style=\"text-align: right;\">\n",
              "      <th></th>\n",
              "      <th>Name</th>\n",
              "      <th>2010</th>\n",
              "      <th>2011</th>\n",
              "      <th>2012</th>\n",
              "      <th>2013</th>\n",
              "      <th>2014</th>\n",
              "      <th>2015</th>\n",
              "      <th>2016</th>\n",
              "      <th>2017</th>\n",
              "      <th>2018</th>\n",
              "      <th>2019</th>\n",
              "    </tr>\n",
              "  </thead>\n",
              "  <tbody>\n",
              "    <tr>\n",
              "      <th>0</th>\n",
              "      <td>Buchs (AG)</td>\n",
              "      <td>45221</td>\n",
              "      <td>47105</td>\n",
              "      <td>45046</td>\n",
              "      <td>42011</td>\n",
              "      <td>64247</td>\n",
              "      <td>64431</td>\n",
              "      <td>68333</td>\n",
              "      <td>64348</td>\n",
              "      <td>73645</td>\n",
              "      <td>73914</td>\n",
              "    </tr>\n",
              "    <tr>\n",
              "      <th>1</th>\n",
              "      <td>Oftringen</td>\n",
              "      <td>46166</td>\n",
              "      <td>46181</td>\n",
              "      <td>46821</td>\n",
              "      <td>45906</td>\n",
              "      <td>46689</td>\n",
              "      <td>21865</td>\n",
              "      <td>46242</td>\n",
              "      <td>45827</td>\n",
              "      <td>45411</td>\n",
              "      <td>47961</td>\n",
              "    </tr>\n",
              "    <tr>\n",
              "      <th>2</th>\n",
              "      <td>Turgi</td>\n",
              "      <td>68338</td>\n",
              "      <td>69023</td>\n",
              "      <td>68877</td>\n",
              "      <td>67293</td>\n",
              "      <td>66822</td>\n",
              "      <td>63914</td>\n",
              "      <td>63679</td>\n",
              "      <td>64470</td>\n",
              "      <td>63612</td>\n",
              "      <td>63237</td>\n",
              "    </tr>\n",
              "    <tr>\n",
              "      <th>3</th>\n",
              "      <td>Bern</td>\n",
              "      <td>18795</td>\n",
              "      <td>23339</td>\n",
              "      <td>20000</td>\n",
              "      <td>46554</td>\n",
              "      <td>45198</td>\n",
              "      <td>60519</td>\n",
              "      <td>73081</td>\n",
              "      <td>72863</td>\n",
              "      <td>76311</td>\n",
              "      <td>75372</td>\n",
              "    </tr>\n",
              "    <tr>\n",
              "      <th>4</th>\n",
              "      <td>Biel</td>\n",
              "      <td>15000</td>\n",
              "      <td>17761</td>\n",
              "      <td>16969</td>\n",
              "      <td>14750</td>\n",
              "      <td>14326</td>\n",
              "      <td>15629</td>\n",
              "      <td>14583</td>\n",
              "      <td>15438</td>\n",
              "      <td>14929</td>\n",
              "      <td>14236</td>\n",
              "    </tr>\n",
              "    <tr>\n",
              "      <th>5</th>\n",
              "      <td>Thun</td>\n",
              "      <td>70199</td>\n",
              "      <td>69391</td>\n",
              "      <td>67576</td>\n",
              "      <td>72534</td>\n",
              "      <td>73262</td>\n",
              "      <td>71084</td>\n",
              "      <td>73291</td>\n",
              "      <td>64382</td>\n",
              "      <td>75286</td>\n",
              "      <td>73000</td>\n",
              "    </tr>\n",
              "    <tr>\n",
              "      <th>6</th>\n",
              "      <td>Basel</td>\n",
              "      <td>28820</td>\n",
              "      <td>41171</td>\n",
              "      <td>45056</td>\n",
              "      <td>44408</td>\n",
              "      <td>55193</td>\n",
              "      <td>59158</td>\n",
              "      <td>47708</td>\n",
              "      <td>54964</td>\n",
              "      <td>58461</td>\n",
              "      <td>55542</td>\n",
              "    </tr>\n",
              "    <tr>\n",
              "      <th>7</th>\n",
              "      <td>Posieux</td>\n",
              "      <td>52000</td>\n",
              "      <td>55166</td>\n",
              "      <td>45056</td>\n",
              "      <td>53915</td>\n",
              "      <td>53956</td>\n",
              "      <td>55504</td>\n",
              "      <td>45785</td>\n",
              "      <td>54781</td>\n",
              "      <td>56972</td>\n",
              "      <td>42175</td>\n",
              "    </tr>\n",
              "    <tr>\n",
              "      <th>8</th>\n",
              "      <td>Genf</td>\n",
              "      <td>93658</td>\n",
              "      <td>98601</td>\n",
              "      <td>102283</td>\n",
              "      <td>84382</td>\n",
              "      <td>88665</td>\n",
              "      <td>82198</td>\n",
              "      <td>80646</td>\n",
              "      <td>88151</td>\n",
              "      <td>71719</td>\n",
              "      <td>70656</td>\n",
              "    </tr>\n",
              "    <tr>\n",
              "      <th>9</th>\n",
              "      <td>Niederurnen</td>\n",
              "      <td>63606</td>\n",
              "      <td>58860</td>\n",
              "      <td>62616</td>\n",
              "      <td>60223</td>\n",
              "      <td>63826</td>\n",
              "      <td>62224</td>\n",
              "      <td>64327</td>\n",
              "      <td>64183</td>\n",
              "      <td>36889</td>\n",
              "      <td>62641</td>\n",
              "    </tr>\n",
              "    <tr>\n",
              "      <th>10</th>\n",
              "      <td>Trimmis</td>\n",
              "      <td>39851</td>\n",
              "      <td>50254</td>\n",
              "      <td>47901</td>\n",
              "      <td>42593</td>\n",
              "      <td>49191</td>\n",
              "      <td>45817</td>\n",
              "      <td>44649</td>\n",
              "      <td>46295</td>\n",
              "      <td>48690</td>\n",
              "      <td>44521</td>\n",
              "    </tr>\n",
              "    <tr>\n",
              "      <th>11</th>\n",
              "      <td>Perlen</td>\n",
              "      <td>0</td>\n",
              "      <td>0</td>\n",
              "      <td>0</td>\n",
              "      <td>0</td>\n",
              "      <td>0</td>\n",
              "      <td>100658</td>\n",
              "      <td>149511</td>\n",
              "      <td>151555</td>\n",
              "      <td>164449</td>\n",
              "      <td>155779</td>\n",
              "    </tr>\n",
              "    <tr>\n",
              "      <th>12</th>\n",
              "      <td>Colombier</td>\n",
              "      <td>27079</td>\n",
              "      <td>27861</td>\n",
              "      <td>26002</td>\n",
              "      <td>22558</td>\n",
              "      <td>24766</td>\n",
              "      <td>25500</td>\n",
              "      <td>18325</td>\n",
              "      <td>11899</td>\n",
              "      <td>26464</td>\n",
              "      <td>29442</td>\n",
              "    </tr>\n",
              "  </tbody>\n",
              "</table>\n",
              "</div>"
            ],
            "text/plain": [
              "           Name   2010   2011    2012  ...    2016    2017    2018    2019\n",
              "0    Buchs (AG)  45221  47105   45046  ...   68333   64348   73645   73914\n",
              "1     Oftringen  46166  46181   46821  ...   46242   45827   45411   47961\n",
              "2         Turgi  68338  69023   68877  ...   63679   64470   63612   63237\n",
              "3          Bern  18795  23339   20000  ...   73081   72863   76311   75372\n",
              "4          Biel  15000  17761   16969  ...   14583   15438   14929   14236\n",
              "5          Thun  70199  69391   67576  ...   73291   64382   75286   73000\n",
              "6         Basel  28820  41171   45056  ...   47708   54964   58461   55542\n",
              "7       Posieux  52000  55166   45056  ...   45785   54781   56972   42175\n",
              "8          Genf  93658  98601  102283  ...   80646   88151   71719   70656\n",
              "9   Niederurnen  63606  58860   62616  ...   64327   64183   36889   62641\n",
              "10      Trimmis  39851  50254   47901  ...   44649   46295   48690   44521\n",
              "11       Perlen      0      0       0  ...  149511  151555  164449  155779\n",
              "12   Colombier   27079  27861   26002  ...   18325   11899   26464   29442\n",
              "\n",
              "[13 rows x 11 columns]"
            ]
          },
          "metadata": {
            "tags": []
          },
          "execution_count": 162
        }
      ]
    },
    {
      "cell_type": "code",
      "metadata": {
        "colab": {
          "base_uri": "https://localhost:8080/",
          "height": 288
        },
        "id": "FlUCz2EfQHPU",
        "outputId": "5aa61ee6-c14a-480b-eaf0-cff6462d51cb"
      },
      "source": [
        "# Balkendiagramm mit Seaborn\n",
        "\n",
        "ax = sns.barplot(\n",
        "    x = kv_elect_transp['Jahr'],\n",
        "    y = kv_elect_transp['Bern']\n",
        ")\n"
      ],
      "execution_count": null,
      "outputs": [
        {
          "output_type": "display_data",
          "data": {
            "image/png": "[encoded data removed]",
            "text/plain": [
              "<Figure size 432x288 with 1 Axes>"
            ]
          },
          "metadata": {
            "tags": []
          }
        }
      ]
    },
    {
      "cell_type": "code",
      "metadata": {
        "colab": {
          "base_uri": "https://localhost:8080/",
          "height": 271
        },
        "id": "4fqzM7G-33uY",
        "outputId": "aed0969f-1336-4171-942d-58c975dd0b2f"
      },
      "source": [
        "ax = sns.barplot(\n",
        "    x = kv_electricity.columns[2:],\n",
        "    y = kv_electricity.iloc[3,2:],\n",
        ")"
      ],
      "execution_count": null,
      "outputs": [
        {
          "output_type": "display_data",
          "data": {
            "image/png": "[encoded data removed]",
            "text/plain": [
              "<Figure size 432x288 with 1 Axes>"
            ]
          },
          "metadata": {
            "tags": []
          }
        }
      ]
    },
    {
      "cell_type": "code",
      "metadata": {
        "colab": {
          "base_uri": "https://localhost:8080/",
          "height": 284
        },
        "id": "lU4tIQYJruqR",
        "outputId": "7c2f9d6e-ad5a-4b92-f08e-1bfe1400c4b2"
      },
      "source": [
        "plt.bar(kv_electricity.columns[2:],kv_electricity.iloc[3,2:])\n",
        "plt.title('Stromproduktion KV Bern')\n",
        "plt.ylabel('MWh')\n",
        "plt.show()"
      ],
      "execution_count": null,
      "outputs": [
        {
          "output_type": "display_data",
          "data": {
            "image/png": "[encoded data removed]",
            "text/plain": [
              "<Figure size 432x288 with 1 Axes>"
            ]
          },
          "metadata": {
            "tags": []
          }
        }
      ]
    },
    {
      "cell_type": "code",
      "metadata": {
        "colab": {
          "base_uri": "https://localhost:8080/",
          "height": 400
        },
        "id": "8TOcbxVx9Sac",
        "outputId": "34b2ef80-ae16-4644-92b9-fd2ffd284c9a"
      },
      "source": [
        "\n",
        "plt.bar(kv_electricity['Name'].values, kv_electricity.iloc[:,11])\n",
        "plt.xticks(kv_electricity['Name'].values, rotation=90)\n",
        "plt.title('KV-Stromproduktion 2019')\n",
        "plt.ylabel('MWh')\n",
        "plt.xlabel('Kehrichtverbrennungsanlagen Schweiz')\n",
        "plt.show()"
      ],
      "execution_count": null,
      "outputs": [
        {
          "output_type": "display_data",
          "data": {
            "image/png": "[encoded data removed]",
            "text/plain": [
              "<Figure size 432x288 with 1 Axes>"
            ]
          },
          "metadata": {
            "tags": []
          }
        }
      ]
    }
  ]
}