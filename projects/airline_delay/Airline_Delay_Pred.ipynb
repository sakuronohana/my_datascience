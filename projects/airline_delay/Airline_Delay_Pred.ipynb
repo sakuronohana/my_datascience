{
  "nbformat": 4,
  "nbformat_minor": 0,
  "metadata": {
    "colab": {
      "name": "Airline Delay Prediction",
      "provenance": [],
      "authorship_tag": "ABX9TyOv1pAA5oKj895/bhL23GEM",
      "include_colab_link": true
    },
    "kernelspec": {
      "name": "python3",
      "display_name": "Python 3"
    },
    "language_info": {
      "name": "python"
    }
  },
  "cells": [
    {
      "cell_type": "markdown",
      "metadata": {
        "id": "view-in-github",
        "colab_type": "text"
      },
      "source": [
        "<a href=\"https://colab.research.google.com/github/sakuronohana/my_datascience/blob/master/projects/airline_delay/Airline_Delay_Pred.ipynb\" target=\"_parent\"><img src=\"https://colab.research.google.com/assets/colab-badge.svg\" alt=\"Open In Colab\"/></a>"
      ]
    },
    {
      "cell_type": "markdown",
      "source": [
        "## Prediction einer Flugverspätung\n",
        "\n",
        "In dieser Trainingssession werden wir eine Klassifikation mittels KNN durchführen. Zu diesem Zweck werden wir auf einen auf Kaggle zur Verfügung gestellten Datensatz zurückgreifen. \n",
        "\n",
        "[Quelle: Kaggle](https://www.kaggle.com/datasets/jimschacko/airlines-dataset-to-predict-a-delay)"
      ],
      "metadata": {
        "id": "WCm3z0aoTMHV"
      }
    },
    {
      "cell_type": "code",
      "execution_count": null,
      "metadata": {
        "id": "_h_aSL9CStS-"
      },
      "outputs": [],
      "source": [
        "###"
      ]
    }
  ]
}
