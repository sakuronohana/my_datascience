{
  "nbformat": 4,
  "nbformat_minor": 0,
  "metadata": {
    "colab": {
      "name": "da_energieverbrauch_altstätten.ipynb",
      "provenance": [],
      "include_colab_link": true
    },
    "kernelspec": {
      "name": "python3",
      "display_name": "Python 3"
    }
  },
  "cells": [
    {
      "cell_type": "markdown",
      "metadata": {
        "id": "view-in-github",
        "colab_type": "text"
      },
      "source": [
        "<a href=\"https://colab.research.google.com/github/sakuronohana/my_datascience/blob/master/da_energieverbrauch_altst%C3%A4tten/da_energieverbrauch_altst%C3%A4tten.ipynb\" target=\"_parent\"><img src=\"https://colab.research.google.com/assets/colab-badge.svg\" alt=\"Open In Colab\"/></a>"
      ]
    },
    {
      "cell_type": "code",
      "metadata": {
        "id": "5vk2bUhWodWl",
        "colab_type": "code",
        "colab": {}
      },
      "source": [
        "import pandas as pd\n",
        "import matplotlib.pyplot as plt\n",
        "\n",
        "daturl = 'https://raw.githubusercontent.com/sakuronohana/my_datascience/master/datasets/new_strada2_data_2738408.csv'\n",
        "\n",
        "importdat = pd.read_csv(daturl, encoding='utf-8', na_values='0')"
      ],
      "execution_count": 0,
      "outputs": []
    },
    {
      "cell_type": "code",
      "metadata": {
        "id": "s8Ecz1b05oyI",
        "colab_type": "code",
        "colab": {
          "base_uri": "https://localhost:8080/",
          "height": 326
        },
        "outputId": "a242423d-c8ba-4d28-df2a-d544295f12ef"
      },
      "source": [
        "importdat.head()"
      ],
      "execution_count": 25,
      "outputs": [
        {
          "output_type": "execute_result",
          "data": {
            "text/html": [
              "<div>\n",
              "<style scoped>\n",
              "    .dataframe tbody tr th:only-of-type {\n",
              "        vertical-align: middle;\n",
              "    }\n",
              "\n",
              "    .dataframe tbody tr th {\n",
              "        vertical-align: top;\n",
              "    }\n",
              "\n",
              "    .dataframe thead th {\n",
              "        text-align: right;\n",
              "    }\n",
              "</style>\n",
              "<table border=\"1\" class=\"dataframe\">\n",
              "  <thead>\n",
              "    <tr style=\"text-align: right;\">\n",
              "      <th></th>\n",
              "      <th>Unnamed: 0</th>\n",
              "      <th>Unnamed: 0.1</th>\n",
              "      <th>BFS_NR</th>\n",
              "      <th>GEBIET_NAME</th>\n",
              "      <th>THEMA_NAME</th>\n",
              "      <th>SET_NAME</th>\n",
              "      <th>SUBSET_NAME</th>\n",
              "      <th>INDIKATOR_ID</th>\n",
              "      <th>INDIKATOR_NAME</th>\n",
              "      <th>INDIKATOR_JAHR</th>\n",
              "      <th>INDIKATOR_VALUE</th>\n",
              "      <th>EINHEIT_KURZ</th>\n",
              "      <th>EINHEIT_LANG</th>\n",
              "      <th>Unnamed: 11</th>\n",
              "    </tr>\n",
              "  </thead>\n",
              "  <tbody>\n",
              "    <tr>\n",
              "      <th>0</th>\n",
              "      <td>NaN</td>\n",
              "      <td>NaN</td>\n",
              "      <td>3251</td>\n",
              "      <td>Altstätten</td>\n",
              "      <td>Energie</td>\n",
              "      <td>Gasverbrauch</td>\n",
              "      <td>NaN</td>\n",
              "      <td>570</td>\n",
              "      <td>Gasverbrauch Total [MWh]</td>\n",
              "      <td>2013</td>\n",
              "      <td>32838.0</td>\n",
              "      <td>MWh</td>\n",
              "      <td>Megawattstunden</td>\n",
              "      <td>NaN</td>\n",
              "    </tr>\n",
              "    <tr>\n",
              "      <th>1</th>\n",
              "      <td>1.0</td>\n",
              "      <td>1.0</td>\n",
              "      <td>3251</td>\n",
              "      <td>Altstätten</td>\n",
              "      <td>Energie</td>\n",
              "      <td>Gasverbrauch</td>\n",
              "      <td>NaN</td>\n",
              "      <td>570</td>\n",
              "      <td>Gasverbrauch Total [MWh]</td>\n",
              "      <td>2014</td>\n",
              "      <td>26909.0</td>\n",
              "      <td>MWh</td>\n",
              "      <td>Megawattstunden</td>\n",
              "      <td>NaN</td>\n",
              "    </tr>\n",
              "    <tr>\n",
              "      <th>2</th>\n",
              "      <td>2.0</td>\n",
              "      <td>2.0</td>\n",
              "      <td>3251</td>\n",
              "      <td>Altstätten</td>\n",
              "      <td>Energie</td>\n",
              "      <td>Gasverbrauch</td>\n",
              "      <td>NaN</td>\n",
              "      <td>570</td>\n",
              "      <td>Gasverbrauch Total [MWh]</td>\n",
              "      <td>2015</td>\n",
              "      <td>27777.0</td>\n",
              "      <td>MWh</td>\n",
              "      <td>Megawattstunden</td>\n",
              "      <td>NaN</td>\n",
              "    </tr>\n",
              "    <tr>\n",
              "      <th>3</th>\n",
              "      <td>3.0</td>\n",
              "      <td>3.0</td>\n",
              "      <td>3251</td>\n",
              "      <td>Altstätten</td>\n",
              "      <td>Energie</td>\n",
              "      <td>Gasverbrauch</td>\n",
              "      <td>NaN</td>\n",
              "      <td>570</td>\n",
              "      <td>Gasverbrauch Total [MWh]</td>\n",
              "      <td>2016</td>\n",
              "      <td>27936.0</td>\n",
              "      <td>MWh</td>\n",
              "      <td>Megawattstunden</td>\n",
              "      <td>NaN</td>\n",
              "    </tr>\n",
              "    <tr>\n",
              "      <th>4</th>\n",
              "      <td>4.0</td>\n",
              "      <td>4.0</td>\n",
              "      <td>3251</td>\n",
              "      <td>Altstätten</td>\n",
              "      <td>Energie</td>\n",
              "      <td>Gasverbrauch</td>\n",
              "      <td>NaN</td>\n",
              "      <td>570</td>\n",
              "      <td>Gasverbrauch Total [MWh]</td>\n",
              "      <td>2017</td>\n",
              "      <td>30093.0</td>\n",
              "      <td>MWh</td>\n",
              "      <td>Megawattstunden</td>\n",
              "      <td>NaN</td>\n",
              "    </tr>\n",
              "  </tbody>\n",
              "</table>\n",
              "</div>"
            ],
            "text/plain": [
              "   Unnamed: 0  Unnamed: 0.1  BFS_NR  ... EINHEIT_KURZ     EINHEIT_LANG Unnamed: 11\n",
              "0         NaN           NaN    3251  ...          MWh  Megawattstunden         NaN\n",
              "1         1.0           1.0    3251  ...          MWh  Megawattstunden         NaN\n",
              "2         2.0           2.0    3251  ...          MWh  Megawattstunden         NaN\n",
              "3         3.0           3.0    3251  ...          MWh  Megawattstunden         NaN\n",
              "4         4.0           4.0    3251  ...          MWh  Megawattstunden         NaN\n",
              "\n",
              "[5 rows x 14 columns]"
            ]
          },
          "metadata": {
            "tags": []
          },
          "execution_count": 25
        }
      ]
    },
    {
      "cell_type": "markdown",
      "metadata": {
        "id": "aQwpLqN5-COq",
        "colab_type": "text"
      },
      "source": [
        "##Übersicht der Datenstruktur"
      ]
    },
    {
      "cell_type": "code",
      "metadata": {
        "id": "5sNk3Jwu9uhg",
        "colab_type": "code",
        "colab": {}
      },
      "source": [
        "#"
      ],
      "execution_count": 0,
      "outputs": []
    }
  ]
}
