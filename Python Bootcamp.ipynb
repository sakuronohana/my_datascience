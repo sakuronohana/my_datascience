{
 "cells": [
  {
   "cell_type": "markdown",
   "metadata": {},
   "source": [
    "# Zahlen"
   ]
  },
  {
   "cell_type": "markdown",
   "metadata": {},
   "source": [
    "Python beinhaltet verschiedene \"Arten\" (en.: types) von Zahlen. Wir werden uns hauptsächlich mit Ganzzahlen (en.: integers) und Kommazahlen (en.: floats) beschäftigen. Später unternehmen wir einen kurzen Abstecher zu den komplexen Zahlen (en.: complex numbers). Integers sind einfach ganze Zahlen, positiv und negativ. Zum Beispiel: 2 und -2 sind Integers. Floats sind Kommazahlen und in Python besonders, da sie einen Dezimalpunkt oder einen Exponenten (e) beinhalten, um die Zahl zu definieren. Zum Beispiel sind 2.0 und -2.1 Zahlen mit Dezimalpunkt. 4E2 (4 mal 10 hoch 2) ist ebenso ein Beispiel für eine Float-Zahl in Python"
   ]
  },
  {
   "cell_type": "markdown",
   "metadata": {},
   "source": [
    "http://nbviewer.jupyter.org/github/datamics/Originale-Python-Bootcamp/blob/master/1%20Python%20Grundlagen/1-Grundlagen%20der%20Python%20Objekte%20und%20Datenstrukturen/1-Zahlen.ipynb"
   ]
  },
  {
   "cell_type": "code",
   "execution_count": 6,
   "metadata": {},
   "outputs": [
    {
     "data": {
      "text/plain": [
       "3"
      ]
     },
     "execution_count": 6,
     "metadata": {},
     "output_type": "execute_result"
    }
   ],
   "source": [
    "# Addition\n",
    "1 + 2"
   ]
  },
  {
   "cell_type": "code",
   "execution_count": 8,
   "metadata": {},
   "outputs": [
    {
     "data": {
      "text/plain": [
       "1"
      ]
     },
     "execution_count": 8,
     "metadata": {},
     "output_type": "execute_result"
    }
   ],
   "source": [
    "# Subtraktion\n",
    "2 - 1"
   ]
  },
  {
   "cell_type": "code",
   "execution_count": 3,
   "metadata": {},
   "outputs": [
    {
     "data": {
      "text/plain": [
       "2"
      ]
     },
     "execution_count": 3,
     "metadata": {},
     "output_type": "execute_result"
    }
   ],
   "source": [
    "# Multiplikation\n",
    "1 * 2"
   ]
  },
  {
   "cell_type": "code",
   "execution_count": null,
   "metadata": {},
   "outputs": [],
   "source": []
  },
  {
   "cell_type": "code",
   "execution_count": 14,
   "metadata": {},
   "outputs": [
    {
     "data": {
      "text/plain": [
       "2.0"
      ]
     },
     "execution_count": 14,
     "metadata": {},
     "output_type": "execute_result"
    }
   ],
   "source": [
    "# Division - Wird im Python3 im Float Type ausgegeben.\n",
    "4/2"
   ]
  },
  {
   "cell_type": "code",
   "execution_count": 15,
   "metadata": {},
   "outputs": [
    {
     "data": {
      "text/plain": [
       "8"
      ]
     },
     "execution_count": 15,
     "metadata": {},
     "output_type": "execute_result"
    }
   ],
   "source": [
    "# Potenzen \n",
    "2**3"
   ]
  },
  {
   "cell_type": "code",
   "execution_count": 16,
   "metadata": {},
   "outputs": [
    {
     "data": {
      "text/plain": [
       "1.4142135623730951"
      ]
     },
     "execution_count": 16,
     "metadata": {},
     "output_type": "execute_result"
    }
   ],
   "source": [
    "# Wurzel\n",
    "2**0.5"
   ]
  },
  {
   "cell_type": "code",
   "execution_count": 17,
   "metadata": {},
   "outputs": [
    {
     "data": {
      "text/plain": [
       "123"
      ]
     },
     "execution_count": 17,
     "metadata": {},
     "output_type": "execute_result"
    }
   ],
   "source": [
    "# Reihenfolge der Operationen wird automatisch durch Python sichergestellt. Bsp. Klammer, Punkt vor Strich\n",
    "(2 + 10) * 10 + 3"
   ]
  },
  {
   "cell_type": "code",
   "execution_count": 19,
   "metadata": {},
   "outputs": [
    {
     "data": {
      "text/plain": [
       "10"
      ]
     },
     "execution_count": 19,
     "metadata": {},
     "output_type": "execute_result"
    }
   ],
   "source": [
    "# Variablen zuweisen. Namen dürfen nicht mit Zahl beginnen bsp. 4a, es darf keine Leerzeichen bsp a 4 (a_4) und \n",
    "# spezielle Sonderzeichen enthalten.\n",
    "a=5\n",
    "a+a"
   ]
  },
  {
   "cell_type": "code",
   "execution_count": 23,
   "metadata": {},
   "outputs": [
    {
     "data": {
      "text/plain": [
       "15.0"
      ]
     },
     "execution_count": 23,
     "metadata": {},
     "output_type": "execute_result"
    }
   ],
   "source": [
    "# Variablen lassen sich in verschiedensten Varianten einsetzt \n",
    "einkommen = 100\n",
    "steuersatz = 0.15\n",
    "steuer = einkommen * steuersatz\n",
    "steuer"
   ]
  },
  {
   "cell_type": "markdown",
   "metadata": {},
   "source": [
    "## Strings"
   ]
  },
  {
   "cell_type": "raw",
   "metadata": {},
   "source": [
    "Strings werden in Python dazu benutzt, um Textinformationen, wie bspw. Namen, festzuhalten.\n",
    "Genau genommen sind Strings in Python eine Sequenz. Das bedeutet, dass Python jedes einzelne Element in der Sequenz (in diesem Fall ein String) individuell beachtet. Ein Beispiel ist der String \"hallo\", den Python als Sequenz der einzelnen Buchstaben in einer bestimmten Reihenfolge speichert. Das hat zur Folge, dass wir später in der Lage sein werden zu indexieren und so bestimmte Buchstaben (z.B. den ersten oder letzten) aus einem String auszulesen.\n",
    "\n",
    "Diese Idee einer Sequenz ist wichtig in Python und sie wird uns begleiten.\n",
    "\n",
    "Zu den Sequenzen in Python gehören:\n",
    "\n",
    "    Strings\n",
    "    Listen\n",
    "    Tupel\n",
    "    Binärdaten\n"
   ]
  },
  {
   "cell_type": "code",
   "execution_count": 31,
   "metadata": {},
   "outputs": [
    {
     "data": {
      "text/plain": [
       "'hallo, ich bin ein Wort'"
      ]
     },
     "execution_count": 31,
     "metadata": {},
     "output_type": "execute_result"
    }
   ],
   "source": [
    "'hallo, ich bin ein Wort'"
   ]
  },
  {
   "cell_type": "code",
   "execution_count": 33,
   "metadata": {},
   "outputs": [
    {
     "data": {
      "text/plain": [
       "\"Hallo ich bin's\""
      ]
     },
     "execution_count": 33,
     "metadata": {},
     "output_type": "execute_result"
    }
   ],
   "source": [
    "# Wenn innerhalb eines Strings Hochkommas verwendet werden, dann muss mit Anführungszeichen gearbeitet werden.\n",
    "\"Hallo ich bin's\""
   ]
  },
  {
   "cell_type": "code",
   "execution_count": 35,
   "metadata": {},
   "outputs": [
    {
     "name": "stdout",
     "output_type": "stream",
     "text": [
      "Hallo Welt!\n",
      "Hallo Mond\n"
     ]
    }
   ],
   "source": [
    "print(\"Hallo Welt!\")\n",
    "print(\"Hallo Mond\")"
   ]
  },
  {
   "cell_type": "code",
   "execution_count": 38,
   "metadata": {},
   "outputs": [
    {
     "name": "stdout",
     "output_type": "stream",
     "text": [
      "Eine neue Zeile \n",
      " in eine neue Zeile\n"
     ]
    }
   ],
   "source": [
    "# Möchte man den String verschiedene Zeilen verteilen dann benötigt man ein \\n (Auf Mac mit Umschalt+Alt+7)\n",
    "print(\"Eine neue Zeile \\n in eine neue Zeile\")"
   ]
  },
  {
   "cell_type": "code",
   "execution_count": 1,
   "metadata": {},
   "outputs": [
    {
     "name": "stdout",
     "output_type": "stream",
     "text": [
      "Hier kommt eine Tab \t in der Zeile\n"
     ]
    }
   ],
   "source": [
    "# Um einen Tab einzufügen muss man \\t benutzen.\n",
    "print(\"Hier kommt eine Tab \\t in der Zeile\")"
   ]
  },
  {
   "cell_type": "code",
   "execution_count": 2,
   "metadata": {},
   "outputs": [
    {
     "data": {
      "text/plain": [
       "10"
      ]
     },
     "execution_count": 2,
     "metadata": {},
     "output_type": "execute_result"
    }
   ],
   "source": [
    "# Um die länge bzw. Anzahl Zeichen in eine String zu ermitteln verwenden wir len\n",
    "len(\"Hallo Welt\")"
   ]
  },
  {
   "cell_type": "code",
   "execution_count": 5,
   "metadata": {},
   "outputs": [
    {
     "name": "stdout",
     "output_type": "stream",
     "text": [
      "H\n"
     ]
    }
   ],
   "source": [
    "# Die Ausgabe von bestimmten Zeichen wird mit einer eckigen Klammer und der entsprechenden Nummer augegeben\n",
    "s = \"Hallo Welt!\"\n",
    "print(s[0]) # Hiermit wird die Positon 0 bzw. das erste Zeichen der Variable s augegeben"
   ]
  },
  {
   "cell_type": "code",
   "execution_count": 12,
   "metadata": {},
   "outputs": [
    {
     "name": "stdout",
     "output_type": "stream",
     "text": [
      "allo Welt!\n",
      "Hal\n",
      "Hallo Welt!\n",
      "lt!\n",
      "HloWl!\n"
     ]
    }
   ],
   "source": [
    "# Es lässt sich natürlich auch eine ganze Zeichenkette von einer bestimmten Positon aus, ausgeben.\n",
    "print(s[1:]) # Nach 0\n",
    "print(s[:3]) # von 0 bis 3\n",
    "print(s[:]) # ganzer String\n",
    "print(s[-3:]) # von hinten angefangen\n",
    "print(s[::2]) # nur jeder 2. Buchstabe wird ausgegeben"
   ]
  },
  {
   "cell_type": "code",
   "execution_count": 15,
   "metadata": {},
   "outputs": [
    {
     "data": {
      "text/plain": [
       "'Hallo Welt! Hi Mond'"
      ]
     },
     "execution_count": 15,
     "metadata": {},
     "output_type": "execute_result"
    }
   ],
   "source": [
    "# Um einen String zu erweitern kann man das + Zeichen verwenden. \n",
    "s + \" Hi Mond\" # Achtung dies wir nicht unter der Variabel s gespeichert. \n",
    "sx = s + \" Hi Mond\" # nun ist es in eine neuen Variabel gespeichert.\n",
    "sx"
   ]
  },
  {
   "cell_type": "code",
   "execution_count": 1,
   "metadata": {},
   "outputs": [
    {
     "data": {
      "text/plain": [
       "'ZZZZZZZZZZ'"
      ]
     },
     "execution_count": 1,
     "metadata": {},
     "output_type": "execute_result"
    }
   ],
   "source": [
    "# Auch Multiplikation in den Strings ist möglich bzw. der String wird um die Anzahl im Multiplikator erhöht.\n",
    "s = \"Z\"\n",
    "s*10"
   ]
  },
  {
   "cell_type": "code",
   "execution_count": 2,
   "metadata": {},
   "outputs": [
    {
     "data": {
      "text/plain": [
       "'HALLO WELT'"
      ]
     },
     "execution_count": 2,
     "metadata": {},
     "output_type": "execute_result"
    }
   ],
   "source": [
    "# Der String ist eine Objekt für welche eine bestimmte Methode mit zusätzlichen Parametern ausgeführt wird\n",
    "# Objekt.Methode(Parameter)\n",
    "s = 'Hallo Welt'\n",
    "s.upper() # Wandelt alle Zeichen im String in Grossbuchstaben"
   ]
  },
  {
   "cell_type": "code",
   "execution_count": 11,
   "metadata": {},
   "outputs": [
    {
     "data": {
      "text/plain": [
       "['Hallo', 'Welt']"
      ]
     },
     "execution_count": 11,
     "metadata": {},
     "output_type": "execute_result"
    }
   ],
   "source": [
    "# Eine der wichtigsten Methoden ist split\n",
    "s.split() # Fügen wir nichts in die Klammern, dann trennt Split einfach jedes Wort. "
   ]
  },
  {
   "cell_type": "code",
   "execution_count": 12,
   "metadata": {},
   "outputs": [
    {
     "data": {
      "text/plain": [
       "['Hallo ', 'elt']"
      ]
     },
     "execution_count": 12,
     "metadata": {},
     "output_type": "execute_result"
    }
   ],
   "source": [
    "# Wir können aber in der Klammer auch definieren wo der Split stattfinden soll\n",
    "s.split ('W') # Python splittet jetzt den String bei W"
   ]
  },
  {
   "cell_type": "markdown",
   "metadata": {},
   "source": [
    "## Ausgabe Formatierung"
   ]
  },
  {
   "cell_type": "code",
   "execution_count": null,
   "metadata": {},
   "outputs": [],
   "source": [
    "# Hier wird gezeigt in welchen verschiedenen Arten bzw. Methoden die Print Anweisung formatiert werden kann.\n",
    "# Empfohlen Methode um die Strings zu bearbeiten ist .format(). Es wird her aber auch andere vorgestellt. "
   ]
  },
  {
   "cell_type": "code",
   "execution_count": 15,
   "metadata": {},
   "outputs": [
    {
     "name": "stdout",
     "output_type": "stream",
     "text": [
      "Das ist ein String\n"
     ]
    }
   ],
   "source": [
    "# Das ist eine normale Ausgabe eines Strings\n",
    "print(\"Das ist ein String\")"
   ]
  },
  {
   "cell_type": "code",
   "execution_count": 21,
   "metadata": {},
   "outputs": [
    {
     "name": "stdout",
     "output_type": "stream",
     "text": [
      "Setze einen String mit einem mod und s ein: String\n"
     ]
    }
   ],
   "source": [
    "# Wollen wir eine bestimmte Variable in einen String einführen so machen wir das wie folgt. Dazu verwenden wir das %s\n",
    "s = \"String\"\n",
    "print('Setze einen String mit einem mod und s ein: %s' %(s)) # "
   ]
  },
  {
   "cell_type": "code",
   "execution_count": 3,
   "metadata": {},
   "outputs": [
    {
     "name": "stdout",
     "output_type": "stream",
     "text": [
      "Kommazahlen: 13\n"
     ]
    }
   ],
   "source": [
    "print('Kommazahlen: %1.0f' %(13.144)) # In diesem Beispiel generieren wir einen Platzhalter für Float ohne Komma"
   ]
  },
  {
   "cell_type": "code",
   "execution_count": 4,
   "metadata": {},
   "outputs": [
    {
     "name": "stdout",
     "output_type": "stream",
     "text": [
      "Hier ist eine Nummer: 123.1. Hier ist ein String: hi\n"
     ]
    }
   ],
   "source": [
    "# Nun kommen wir zur Umwandlungsmethode diese können wir mit %s (String) %r (Repräsentativ)\n",
    "print('Hier ist eine Nummer: %s. Hier ist ein String: %s' %(123.1, 'hi'))\n",
    "\n",
    "# In diesem Beispiel können wir auch %r anstelle %s verwendet. Kommt auf das gleiche Resultat"
   ]
  },
  {
   "cell_type": "code",
   "execution_count": 18,
   "metadata": {},
   "outputs": [
    {
     "name": "stdout",
     "output_type": "stream",
     "text": [
      "Erstes: Hi, zweite 3.14, drittes 22\n"
     ]
    }
   ],
   "source": [
    "# Wir können hiermit natürlich auch eine Tuple (unveränderbare Liste)\n",
    "print ('Erstes: %s, zweite %s, drittes %r' %(('Hi',3.14,22)))"
   ]
  },
  {
   "cell_type": "code",
   "execution_count": 19,
   "metadata": {},
   "outputs": [
    {
     "name": "stdout",
     "output_type": "stream",
     "text": [
      "Das ist ein String mit einer Einfügung\n"
     ]
    }
   ],
   "source": [
    "# So weit so gut. Wie bereits erwähnt ist es am Besten, wenn man generell die Format Methode nimmt\n",
    "print('Das ist ein String mit einer {p}'.format(p='Einfügung'))"
   ]
  },
  {
   "cell_type": "code",
   "execution_count": 20,
   "metadata": {},
   "outputs": [
    {
     "name": "stdout",
     "output_type": "stream",
     "text": [
      "Erste Ausgabe 1, Zweite Ausgabe 2, Dritte Ausgabe Drei\n"
     ]
    }
   ],
   "source": [
    "# Auch mit der Format-Methode lassen sich mehrer Objekte analog einer Liste ausgeben.\n",
    "print('Erste Ausgabe {a}, Zweite Ausgabe {b}, Dritte Ausgabe {c}'.format(a=1, b=2, c='Drei'))\n",
    "\n",
    "# Die Reihenfolge der Ausgabe spielt dabei keine Rolle"
   ]
  },
  {
   "cell_type": "markdown",
   "metadata": {},
   "source": [
    "# Listen"
   ]
  },
  {
   "cell_type": "markdown",
   "metadata": {},
   "source": [
    "Auch schon mit normalen Strings können Sequenzen bzw. Auflistungen gemacht werden diese sind aber im normalfall nicht änderbar. Listen hingegen lassen sich auf verschiedenen Arten einsetzen und lassen sich auch jederzeit beliebig ändern und erweitern."
   ]
  },
  {
   "cell_type": "code",
   "execution_count": 54,
   "metadata": {},
   "outputs": [],
   "source": [
    "# In Listen lassen sich verschieden Arten von Typen (String, Float usw) unterbringen\n",
    "liste = [1,2,3,'String', 2.4]"
   ]
  },
  {
   "cell_type": "code",
   "execution_count": 33,
   "metadata": {},
   "outputs": [
    {
     "data": {
      "text/plain": [
       "[2, 'String']"
      ]
     },
     "execution_count": 33,
     "metadata": {},
     "output_type": "execute_result"
    }
   ],
   "source": [
    "# Die Listen lassen sich auf verschiedene Arten ausgeben\n",
    "\n",
    "len(liste) # Zeigt die Länge eines Liste bzw. die in der Liste erfassten Elemente \n",
    "liste[2] # Zeigt das dritte Element, beginnend mit 0, aus der Liste\n",
    "liste[:2] # Gibt alles bis zum Element 3 aus. Achtung ab beginnt ab 0\n",
    "liste[2:] # Gibt alles ab dem Element 3 aus.\n",
    "liste[1:3] # Gibt alles zwischen Element 2 und 4 aus"
   ]
  },
  {
   "cell_type": "code",
   "execution_count": null,
   "metadata": {},
   "outputs": [],
   "source": [
    "#Die Liste kann auch beliebig erweitert werden. Die hier beschriebene Erweiterung ist aber nur Temporär\n",
    "liste + ['Neues Element']"
   ]
  },
  {
   "cell_type": "code",
   "execution_count": 44,
   "metadata": {},
   "outputs": [
    {
     "data": {
      "text/plain": [
       "[1, 2, 'String', 2.4, 'Neues Element', 'Neues Element', 'Neues Element']"
      ]
     },
     "execution_count": 44,
     "metadata": {},
     "output_type": "execute_result"
    }
   ],
   "source": [
    "# Um die Liste permanent zu erweitern muss eine neue Liste angelegt werden.\n",
    "liste = liste + ['Neues Element']\n",
    "liste"
   ]
  },
  {
   "cell_type": "code",
   "execution_count": 55,
   "metadata": {},
   "outputs": [
    {
     "data": {
      "text/plain": [
       "[1, 2, 3, 'String', 2.4, 'Ein neueres Element']"
      ]
     },
     "execution_count": 55,
     "metadata": {},
     "output_type": "execute_result"
    }
   ],
   "source": [
    "# Einen gängige Methode einen Wert einer Liste hinzuzufügen ist die Methode .append\n",
    "liste.append('Ein neueres Element')\n",
    "liste"
   ]
  },
  {
   "cell_type": "code",
   "execution_count": 59,
   "metadata": {},
   "outputs": [
    {
     "data": {
      "text/plain": [
       "[2, 3, 'String', 2.4, 'Ein neueres Element']"
      ]
     },
     "execution_count": 59,
     "metadata": {},
     "output_type": "execute_result"
    }
   ],
   "source": [
    "# Um ein Element wieder aus der Liste zu entfernen kann die Methode .pop verwendet werden\n",
    "liste.pop(0) # Wir entfernen hier die 1\n",
    "liste"
   ]
  },
  {
   "cell_type": "code",
   "execution_count": 63,
   "metadata": {},
   "outputs": [
    {
     "data": {
      "text/plain": [
       "[2, 2.4, 'Ein neueres Element']"
      ]
     },
     "execution_count": 63,
     "metadata": {},
     "output_type": "execute_result"
    }
   ],
   "source": [
    "# Um ein Element aus einer Liste zu enfernen und in eine andere Liste zu transferieren \n",
    "pop = liste.pop(1)\n",
    "pop"
   ]
  },
  {
   "cell_type": "code",
   "execution_count": 64,
   "metadata": {},
   "outputs": [
    {
     "data": {
      "text/plain": [
       "'Ein neueres ElementEin neueres Element'"
      ]
     },
     "execution_count": 64,
     "metadata": {},
     "output_type": "execute_result"
    }
   ],
   "source": [
    "# Eine weitere Ausgabemöglichkeit ist die Berechnung \n",
    "liste * 2 # Gibt die Liste zweimal aus\n",
    "liste[1] + 2 # Addiert das erste Elemente mit 2 resp. 1 + 2\n",
    "liste[2] * 2 # Multipliziert das zweite Element mit 2"
   ]
  },
  {
   "cell_type": "code",
   "execution_count": 71,
   "metadata": {},
   "outputs": [
    {
     "data": {
      "text/plain": [
       "['a', 'd', 'f', 's']"
      ]
     },
     "execution_count": 71,
     "metadata": {},
     "output_type": "execute_result"
    }
   ],
   "source": [
    "# Um die Reihenfolgen einer Liste zu ändern kann wie folgt vorgegangen werden.\n",
    "neue_liste = ['a','s', 'd', 'f']\n",
    "neue_liste.reverse() # Die neue Liste wird jetzt umgekehrt erstellt\n",
    "neue_liste.sort() # Die umgekehrte Liste kann jettzt noch alfapethisch sortiert werden\n",
    "neue_liste"
   ]
  },
  {
   "cell_type": "code",
   "execution_count": 85,
   "metadata": {},
   "outputs": [
    {
     "ename": "TypeError",
     "evalue": "sequence item 0: expected str instance, int found",
     "output_type": "error",
     "traceback": [
      "\u001b[0;31m---------------------------------------------------------------------------\u001b[0m",
      "\u001b[0;31mTypeError\u001b[0m                                 Traceback (most recent call last)",
      "\u001b[0;32m<ipython-input-85-b605b7332895>\u001b[0m in \u001b[0;36m<module>\u001b[0;34m()\u001b[0m\n\u001b[1;32m      5\u001b[0m \u001b[0mmatrix\u001b[0m \u001b[0;34m=\u001b[0m \u001b[0;34m[\u001b[0m\u001b[0mlist_1\u001b[0m\u001b[0;34m,\u001b[0m \u001b[0mlist_2\u001b[0m\u001b[0;34m,\u001b[0m \u001b[0mlist_3\u001b[0m\u001b[0;34m]\u001b[0m \u001b[0;31m# Wir fügen nun die Listen zu einer Matrix zusammen\u001b[0m\u001b[0;34m\u001b[0m\u001b[0m\n\u001b[1;32m      6\u001b[0m \u001b[0mmatrix\u001b[0m \u001b[0;31m# Hier geben wir nun die Matrix mit ihren 3 Zeilen aus\u001b[0m\u001b[0;34m\u001b[0m\u001b[0m\n\u001b[0;32m----> 7\u001b[0;31m \u001b[0mprint\u001b[0m\u001b[0;34m(\u001b[0m\u001b[0;34m\"-\"\u001b[0m\u001b[0;34m.\u001b[0m\u001b[0mjoin\u001b[0m\u001b[0;34m(\u001b[0m\u001b[0mlist_1\u001b[0m\u001b[0;34m)\u001b[0m\u001b[0;34m)\u001b[0m\u001b[0;34m\u001b[0m\u001b[0m\n\u001b[0m",
      "\u001b[0;31mTypeError\u001b[0m: sequence item 0: expected str instance, int found"
     ]
    }
   ],
   "source": [
    "# Es können natürlich auch Listen in Listen erstellt werden. Eine sogennante Matrix\n",
    "list_1 = [1,2,3]\n",
    "list_2 = [4,5,6]\n",
    "list_3 = [7,8,9]\n",
    "matrix = [list_1, list_2, list_3] # Wir fügen nun die Listen zu einer Matrix zusammen\n",
    "matrix # Hier geben wir nun die Matrix mit ihren 3 Zeilen aus"
   ]
  },
  {
   "cell_type": "code",
   "execution_count": 76,
   "metadata": {},
   "outputs": [
    {
     "data": {
      "text/plain": [
       "2"
      ]
     },
     "execution_count": 76,
     "metadata": {},
     "output_type": "execute_result"
    }
   ],
   "source": [
    "# Die erstellte Matrix kann man sich jetzt wie folgt vorstellen:\n",
    "#   y y y\n",
    "# x 1 2 3\n",
    "# x 4 5 6\n",
    "# x 7 8 9\n",
    "# x repräsentiert die Zeile und y die Spalte\n",
    "\n",
    "# Für den Zugriff muss zuerst die Zeile und dann das Element angegeben werden\n",
    "matrix[0] #Gibt die komplette erste Zeile (0) aus\n",
    "matrix[0][1] #Gibt das zweite Element der ersten Zeile aus"
   ]
  },
  {
   "cell_type": "code",
   "execution_count": 83,
   "metadata": {},
   "outputs": [
    {
     "ename": "TypeError",
     "evalue": "sequence item 0: expected str instance, int found",
     "output_type": "error",
     "traceback": [
      "\u001b[0;31m---------------------------------------------------------------------------\u001b[0m",
      "\u001b[0;31mTypeError\u001b[0m                                 Traceback (most recent call last)",
      "\u001b[0;32m<ipython-input-83-f96103bd502c>\u001b[0m in \u001b[0;36m<module>\u001b[0;34m()\u001b[0m\n\u001b[1;32m      2\u001b[0m \u001b[0mspalte_1\u001b[0m \u001b[0;34m=\u001b[0m \u001b[0;34m[\u001b[0m\u001b[0mzeile\u001b[0m\u001b[0;34m[\u001b[0m\u001b[0;36m0\u001b[0m\u001b[0;34m]\u001b[0m \u001b[0;32mfor\u001b[0m \u001b[0mzeile\u001b[0m \u001b[0;32min\u001b[0m \u001b[0mmatrix\u001b[0m\u001b[0;34m]\u001b[0m\u001b[0;34m\u001b[0m\u001b[0m\n\u001b[1;32m      3\u001b[0m \u001b[0mspalte_1\u001b[0m\u001b[0;34m\u001b[0m\u001b[0m\n\u001b[0;32m----> 4\u001b[0;31m \u001b[0mprint\u001b[0m\u001b[0;34m(\u001b[0m\u001b[0;34m'-'\u001b[0m\u001b[0;34m.\u001b[0m\u001b[0mjoin\u001b[0m\u001b[0;34m(\u001b[0m\u001b[0mspalte_1\u001b[0m\u001b[0;34m)\u001b[0m\u001b[0;34m)\u001b[0m\u001b[0;34m\u001b[0m\u001b[0m\n\u001b[0m",
      "\u001b[0;31mTypeError\u001b[0m: sequence item 0: expected str instance, int found"
     ]
    }
   ],
   "source": [
    "# Wir erstellen nun aus der Matrix eine erste Spalte mit Hilfe einer for-Schleife\n",
    "spalte_1 = [zeile[0] for zeile in matrix]\n",
    "spalte_1"
   ]
  },
  {
   "cell_type": "code",
   "execution_count": 81,
   "metadata": {},
   "outputs": [
    {
     "data": {
      "text/plain": [
       "[1, 4]"
      ]
     },
     "execution_count": 81,
     "metadata": {},
     "output_type": "execute_result"
    }
   ],
   "source": [
    "spalte_1[:2]"
   ]
  },
  {
   "cell_type": "markdown",
   "metadata": {},
   "source": [
    "# Dictionaries"
   ]
  },
  {
   "cell_type": "markdown",
   "metadata": {},
   "source": [
    "Dictionaries auch bekannt als Mapping sind Sammlungen von Objekten welche über einen Key gespeichert werden. Ein wesentlicher Unterschied zu den Listen ist, dass hier nicht über einen Index [0] usw. auf die Objekte zugegriffen werden kann sondern nur mittels Key. Zudem wird bei Dicts mit geschweiften Klammern gearbeitet. (Mac = alt + 8{ und 9}"
   ]
  },
  {
   "cell_type": "code",
   "execution_count": 89,
   "metadata": {},
   "outputs": [
    {
     "data": {
      "text/plain": [
       "'Wert'"
      ]
     },
     "execution_count": 89,
     "metadata": {},
     "output_type": "execute_result"
    }
   ],
   "source": [
    "d = {'Key':'Wert','Key2':'Wert2'}\n",
    "d['Key'] # Der Zugriff auf den Wert wir nun mittels Key gemacht."
   ]
  },
  {
   "cell_type": "code",
   "execution_count": 106,
   "metadata": {},
   "outputs": [
    {
     "data": {
      "text/plain": [
       "1236"
      ]
     },
     "execution_count": 106,
     "metadata": {},
     "output_type": "execute_result"
    }
   ],
   "source": [
    "# In einen Dict können die Keys im Gegensatz zu den Werten in einen Dict nicht mehr verändert werden\n",
    "# In einem Dict können alle Arten von Element verstaut werden. Der Zugriff kann dann gemäss der \n",
    "# verschiedenen Methoden durchgeführt werden. \n",
    "dict = {'K_Int': 1234, 'K_Float':12.33, 'K_String':\"String\", 'K_List':['A', 'B', 'C']}\n",
    "dict['K_Int']\n",
    "dict['K_List'][0] # Beispiel für den Zugriff auf Liste\n",
    "dict['K_String'].upper() # Beispiel für Zugriff auf String mit entsprechenden Methoden\n",
    "dict['K_Int']-3+5 # Beispiel einer arithmetischen Operation"
   ]
  },
  {
   "cell_type": "code",
   "execution_count": 109,
   "metadata": {},
   "outputs": [
    {
     "data": {
      "text/plain": [
       "{'K_Int': 1234,\n",
       " 'K_Float': 12.33,\n",
       " 'K_String': 'String',\n",
       " 'K_List': ['A', 'B', 'C'],\n",
       " 'Tier': 'Hund',\n",
       " 'Zahl': 12}"
      ]
     },
     "execution_count": 109,
     "metadata": {},
     "output_type": "execute_result"
    }
   ],
   "source": [
    "# Ein Dictionary kann auch durch neue Werte ergänzt werden\n",
    "dict['Tier'] = 'Hund'\n",
    "dict['Zahl'] = 12\n",
    "dict"
   ]
  },
  {
   "cell_type": "code",
   "execution_count": 115,
   "metadata": {},
   "outputs": [
    {
     "data": {
      "text/plain": [
       "{'Unterunterkey': 'Wert'}"
      ]
     },
     "execution_count": 115,
     "metadata": {},
     "output_type": "execute_result"
    }
   ],
   "source": [
    "# Dictionaries lassen sich auch gut verschachteln bzw. ein Dict kann wie eine Liste auch in einem Dict erstellt werden\n",
    "dict2 ={'Key': {'Unterkey': {'Unterunterkey': 'Wert'}}}\n",
    "dict2['Key']['Unterkey']"
   ]
  },
  {
   "cell_type": "code",
   "execution_count": 120,
   "metadata": {},
   "outputs": [
    {
     "data": {
      "text/plain": [
       "<function dict.items>"
      ]
     },
     "execution_count": 120,
     "metadata": {},
     "output_type": "execute_result"
    }
   ],
   "source": [
    "# Auch in einen Dictionary bestehen Methoden\n",
    "#dict2. # mit TAB-Taste zeigen alle verfügbaren Methoden\n",
    "dict2.items"
   ]
  },
  {
   "cell_type": "code",
   "execution_count": 122,
   "metadata": {},
   "outputs": [
    {
     "data": {
      "text/plain": [
       "dict_values([{'Unterkey': {'Unterunterkey': 'Wert'}}])"
      ]
     },
     "execution_count": 122,
     "metadata": {},
     "output_type": "execute_result"
    }
   ],
   "source": [
    "dict2.values()"
   ]
  },
  {
   "cell_type": "markdown",
   "metadata": {},
   "source": [
    "# Tuple"
   ]
  },
  {
   "cell_type": "markdown",
   "metadata": {},
   "source": [
    "Tubel sind ähnlich wie Listen nur können sie nicht mehr verändert bzw. ergänzt werden. Deshalb verwendet man Tubel \n",
    "vor allem dann wenn es Werte gibt die nicht mehr geändert werden müssen Bsp. Wochentage, usw. Tubel werden aber im Gegensatz zu Listen viel weniger eingesetzt."
   ]
  },
  {
   "cell_type": "code",
   "execution_count": 135,
   "metadata": {},
   "outputs": [
    {
     "data": {
      "text/plain": [
       "['Montag', 'Dienstag']"
      ]
     },
     "execution_count": 135,
     "metadata": {},
     "output_type": "execute_result"
    }
   ],
   "source": [
    "tub = ['Montag', 'Dienstag', 'Mittwoch']\n",
    "tub[0] # Der Zugriff auf eine Element im Tubel ist wie bei einer Liste\n",
    "tub[0:2] # Gibt alle Elemente von 0-1 aus\n"
   ]
  },
  {
   "cell_type": "code",
   "execution_count": 144,
   "metadata": {},
   "outputs": [
    {
     "data": {
      "text/plain": [
       "1"
      ]
     },
     "execution_count": 144,
     "metadata": {},
     "output_type": "execute_result"
    }
   ],
   "source": [
    "# Auch hier bestehen Methoden wieder tub. + TAB. Es werden zwar diverse Methoden angezeigt die meisten gelten jedoch\n",
    "# für die Listen. Für Tubels bestehen lediglich zwei Methoden\n",
    "tub.index('Montag') # Zeigt den Index also 0 des Elements an\n",
    "tub.count('Montag') # Zeigt die Anzahl der gleichen Elemente im Tubel an "
   ]
  },
  {
   "cell_type": "code",
   "execution_count": 139,
   "metadata": {},
   "outputs": [
    {
     "ename": "NameError",
     "evalue": "name 'tub' is not defined",
     "output_type": "error",
     "traceback": [
      "\u001b[0;31m---------------------------------------------------------------------------\u001b[0m",
      "\u001b[0;31mNameError\u001b[0m                                 Traceback (most recent call last)",
      "\u001b[0;32m<ipython-input-139-8524767eb2cf>\u001b[0m in \u001b[0;36m<module>\u001b[0;34m()\u001b[0m\n\u001b[1;32m      1\u001b[0m \u001b[0;31m# Und hier noch der Beweis, dass am Tubel kein weiteres Element angehängt werde kann.\u001b[0m\u001b[0;34m\u001b[0m\u001b[0;34m\u001b[0m\u001b[0m\n\u001b[0;32m----> 2\u001b[0;31m \u001b[0mtub\u001b[0m\u001b[0;34m.\u001b[0m\u001b[0mappend\u001b[0m\u001b[0;34m[\u001b[0m\u001b[0;34m'Donnerstag'\u001b[0m\u001b[0;34m]\u001b[0m\u001b[0;34m\u001b[0m\u001b[0m\n\u001b[0m",
      "\u001b[0;31mNameError\u001b[0m: name 'tub' is not defined"
     ]
    }
   ],
   "source": [
    "# Und hier noch der Beweis, dass am Tubel kein weiteres Element angehängt werde kann.\n",
    "tub.append['Donnerstag']"
   ]
  },
  {
   "cell_type": "markdown",
   "metadata": {},
   "source": [
    "# Dateien"
   ]
  },
  {
   "cell_type": "markdown",
   "metadata": {},
   "source": [
    "Python nutzt Datei Objekte um mit externen Dateien auf eine Computer zu interagieren. Grundsätzlich kann Python mit\n",
    "einer Vielzahl von Dateien arbeiten wobei für das eine oder andere Format noch zusätzlich Library Module installiert \n",
    "werden muss."
   ]
  },
  {
   "cell_type": "markdown",
   "metadata": {},
   "source": [
    "Bevor wir nun Anfang mit Dateien zu arbeiten, wollen wir zuerst herausfinden in welchem Working Directory \n",
    "wir arbeiten dazu geben wir den folgenden Befehl ein"
   ]
  },
  {
   "cell_type": "code",
   "execution_count": 152,
   "metadata": {},
   "outputs": [
    {
     "data": {
      "text/plain": [
       "'/Users/dili/Wissen/Work/Udemy-DataScience/Python_Bootcamp'"
      ]
     },
     "execution_count": 152,
     "metadata": {},
     "output_type": "execute_result"
    }
   ],
   "source": [
    "pwd"
   ]
  },
  {
   "cell_type": "code",
   "execution_count": 167,
   "metadata": {},
   "outputs": [
    {
     "data": {
      "text/plain": [
       "'Das ist eine neue Datei'"
      ]
     },
     "execution_count": 167,
     "metadata": {},
     "output_type": "execute_result"
    }
   ],
   "source": [
    "# Nun öffnen wir eine Datei und lesen sie\n",
    "file = open('test.txt')\n",
    "file.read()"
   ]
  },
  {
   "cell_type": "code",
   "execution_count": 164,
   "metadata": {},
   "outputs": [
    {
     "data": {
      "text/plain": [
       "'Das ist eine neue Datei\\nDas ist die zweite Zeile'"
      ]
     },
     "execution_count": 164,
     "metadata": {},
     "output_type": "execute_result"
    }
   ],
   "source": [
    "# Eine Besonderheit im Python ist, dass wenn die Datei einmal gelesen wurde, diese nicht erneut gelesen werden kann.\n",
    "# Dies hat damit zu tun, das der Cursor bei der letzten Lese-Operation am Ende der Datei verblieben ist. Ein er\n",
    "file.read() # Gibt jetzt nur '' aus\n",
    "file.seek(0) # Mit diesem Befehl kann man nun den Curson zurücksetzen\n",
    "file.read() # Und danach funktioniert es wieder wie gewohnt."
   ]
  },
  {
   "cell_type": "code",
   "execution_count": 170,
   "metadata": {},
   "outputs": [
    {
     "data": {
      "text/plain": [
       "23"
      ]
     },
     "execution_count": 170,
     "metadata": {},
     "output_type": "execute_result"
    }
   ],
   "source": [
    "# Als nächtes öffnen wir die Datei und schreiben etwas neues hinein\n",
    "file = open('test.txt','w')\n",
    "file.write('Das ist eine neue Zeile')"
   ]
  },
  {
   "cell_type": "code",
   "execution_count": 174,
   "metadata": {},
   "outputs": [
    {
     "data": {
      "text/plain": [
       "'Das ist eine neue Zeile'"
      ]
     },
     "execution_count": 174,
     "metadata": {},
     "output_type": "execute_result"
    }
   ],
   "source": [
    "# Um den neuen Inhalt erneut lesen zu können müssen wir die Datei erneut im Read-Modus lesen\n",
    "file = open('test.txt','r')\n",
    "file.read()"
   ]
  },
  {
   "cell_type": "code",
   "execution_count": 189,
   "metadata": {},
   "outputs": [
    {
     "name": "stdout",
     "output_type": "stream",
     "text": [
      "Das ist eine neue Zeile\n",
      "\n",
      "Das ist noch eine Zeile\n"
     ]
    }
   ],
   "source": [
    "# Nun lesen wir mit einer Interation (Schleife for) die einzelnen Zeilen aus\n",
    "for zeile in open('test.txt'):\n",
    "    print(zeile)\n"
   ]
  },
  {
   "cell_type": "markdown",
   "metadata": {},
   "source": [
    "# Sets und Booleans"
   ]
  },
  {
   "cell_type": "markdown",
   "metadata": {},
   "source": [
    "Ein Set ist eine Sammlung von einzigartigen Elementen. Ein Set wird mit dem Befehl set()angelegt. "
   ]
  },
  {
   "cell_type": "code",
   "execution_count": 196,
   "metadata": {},
   "outputs": [
    {
     "data": {
      "text/plain": [
       "{1}"
      ]
     },
     "execution_count": 196,
     "metadata": {},
     "output_type": "execute_result"
    }
   ],
   "source": [
    "s = set()\n",
    "s.add(1) # mit add lassen sich neue Elemente ins Set einführen.\n",
    "s.add(2)\n",
    "s.remove(2) # mit remove lassen sich die Elemente auch wieder löschen\n",
    "s."
   ]
  },
  {
   "cell_type": "code",
   "execution_count": 194,
   "metadata": {},
   "outputs": [
    {
     "data": {
      "text/plain": [
       "{1, 2, 3, 4, 5, 6}"
      ]
     },
     "execution_count": 194,
     "metadata": {},
     "output_type": "execute_result"
    }
   ],
   "source": [
    "# Man kann Beispielsweise auch eine Liste in ein Set überführen. Dabei werden \n",
    "# dann aber die redundanten Elemente ausgefiltert.\n",
    "list = [1,1,2,2,3,4,5,6,6]\n",
    "set(list)"
   ]
  },
  {
   "cell_type": "markdown",
   "metadata": {},
   "source": [
    "Booleans sind Wahrheitswerte die entweder True (1) oder False (0) sind. Booleans werden oft benutzt um beispielsweise eine Entscheidung in einer Schleife zu forsieren."
   ]
  },
  {
   "cell_type": "code",
   "execution_count": 205,
   "metadata": {},
   "outputs": [
    {
     "name": "stdout",
     "output_type": "stream",
     "text": [
      "Nicht Wahr\n"
     ]
    }
   ],
   "source": [
    "a = ()\n",
    "if a == True:\n",
    "    print('Wahr')\n",
    "else:\n",
    "    print('Nicht Wahr')"
   ]
  },
  {
   "cell_type": "markdown",
   "metadata": {},
   "source": [
    "# Vergleichsoperatoren"
   ]
  },
  {
   "cell_type": "code",
   "execution_count": 272,
   "metadata": {},
   "outputs": [
    {
     "data": {
      "text/plain": [
       "True"
      ]
     },
     "execution_count": 272,
     "metadata": {},
     "output_type": "execute_result"
    }
   ],
   "source": [
    "2 == 2 # Wenn Wert der Operatoren gleich sind ergibt es true\n",
    "2 != 1 # Wenn Wert der Operatoren nicht gleich sind ergibt es true\n",
    "2 > 1 # Wenn ein Wert der Operatoren grösser ist ergibt es true\n",
    "1 < 2 # Wenn ein Wert der Operatoren kleiner ist ergibt es true\n",
    "2 >= 2 # Wenn ein Wert der Operatoren grösser oder gleich ist ergibt es true\n",
    "1 <= 1 # Wenn ein Wert der Operatoren kleiner oder gleich ist ergibt "
   ]
  },
  {
   "cell_type": "code",
   "execution_count": 274,
   "metadata": {},
   "outputs": [
    {
     "data": {
      "text/plain": [
       "True"
      ]
     },
     "execution_count": 274,
     "metadata": {},
     "output_type": "execute_result"
    }
   ],
   "source": [
    "# Vergleichsoperatoren kann man auch verknüpfen\n",
    "1 < 2 < 3 # Ergibt true\n",
    "1 < 2 and 2 < 3 # Das vorherige Beispiel kann man auch so schreiben\n",
    "1 == 2 or 2 < 3 # Auch mit or kann man Operatoren verknüpfen"
   ]
  },
  {
   "cell_type": "markdown",
   "metadata": {},
   "source": [
    "# Anweisungen"
   ]
  },
  {
   "cell_type": "markdown",
   "metadata": {},
   "source": [
    "## If, Elif und Else"
   ]
  },
  {
   "cell_type": "markdown",
   "metadata": {},
   "source": [
    "if, elif und else werden verwendet um Aktionen abhängig von bestimmten Voraussetzungen oder Ergebnissen durchzuführen.\n",
    "Sprachlich sieht das wie folgt aus:\n",
    "\n",
    "\"Falls (if) die Ampel rot anzeigt, da bleibe stehen und prüfen dein Mobil falls (elif) die Ampel orange oder grün anzeigt kannst du über die Strasse gehen falls (else) nichts von beidem zutrifft (Ampel defekt) schaue links und rechts und gehen dann über die Strasse\""
   ]
  },
  {
   "cell_type": "code",
   "execution_count": 284,
   "metadata": {},
   "outputs": [
    {
     "name": "stdout",
     "output_type": "stream",
     "text": [
      "Gibt etwas ein: \n",
      "Die Ampel ist möglicherweise kapput. Gehe wenn es frei ist\n"
     ]
    }
   ],
   "source": [
    "r = 'rot'\n",
    "g = 'grün'\n",
    "\n",
    "i = input ('Gibt etwas ein: ') # Mit Input kann man einen Wert eingeben.\n",
    "\n",
    "if i == r:\n",
    "    print('Bleibe stehen und prüfe dein Mobile')\n",
    "elif i == g:\n",
    "    print('Du kannst über die Strasse gehen')\n",
    "else:\n",
    "    print('Die Ampel ist möglicherweise kaputt. Gehe wenn es frei ist')\n",
    "    \n",
    "    \n",
    "    "
   ]
  },
  {
   "cell_type": "markdown",
   "metadata": {},
   "source": [
    "## for Schleife"
   ]
  },
  {
   "cell_type": "markdown",
   "metadata": {},
   "source": [
    "Eine for Schleife wird auch Loop genannt. Sie wird solange durchlaufen, bis ein definierte Wert erreich wurde. Die kann eine Zahl sein oder das Ende einer Lese-Operation in einer Datei.\n",
    "\n",
    "Sprachlich ausgedrückt sieht das dann so aus:\n",
    "\n",
    "\"Das Buch hat 10 Seiten für (for) jede Seite (Item) im (in) Buch (Objekt) lese jeden Buchstaben bis du auf Seite 10 angekommen bist.\"\n",
    "\n",
    "Der Syntax sieht wie folgt aus:\n",
    "\n",
    "for item in object\n",
    "\n",
    "Das item ist frei wählbar."
   ]
  },
  {
   "cell_type": "code",
   "execution_count": 305,
   "metadata": {},
   "outputs": [
    {
     "name": "stdout",
     "output_type": "stream",
     "text": [
      "Nun lese ich Seite 1\n",
      "Nun lese ich Seite 3\n",
      "Nun lese ich Seite 6\n",
      "Nun lese ich Seite 10\n",
      "Nun lese ich Seite 15\n",
      "Nun lese ich Seite 21\n",
      "Nun lese ich Seite 28\n",
      "Nun lese ich Seite 36\n",
      "Nun lese ich Seite 45\n",
      "Nun lese ich Seite 55\n"
     ]
    }
   ],
   "source": [
    "buch = [1,2,3,4,5,6,7,8,9,10] # Eine Liste wird erstellt\n",
    "buch_sum = 0\n",
    "\n",
    "for seite in buch:\n",
    "    buch_sum += seite # Das += (Selbstzuweisung) ersetzt folgende Zeile buch_sum = buch_sum + Seite\n",
    "    print ('Nun lese ich Seite', buch_sum)\n",
    "\n",
    "# In dem Beispiel oben wird bei jeder Interation der vorherige Wert zum\n",
    "# aktuelle Wert addiert, beginnend bei 0. bzw. \n",
    "# 0 + 1 = 1\n",
    "# 1 + 2 = 3\n",
    "# 3 + 3 = 6\n",
    "# 6 + 4 = 10 usw."
   ]
  },
  {
   "cell_type": "code",
   "execution_count": 302,
   "metadata": {},
   "outputs": [
    {
     "name": "stdout",
     "output_type": "stream",
     "text": [
      "Nun lese ich nur jeweils die graden Seiten dieses Buchs 0\n",
      "Nun lese ich nur jeweils die graden Seiten dieses Buchs 2\n",
      "Nun lese ich nur jeweils die graden Seiten dieses Buchs 4\n",
      "Nun lese ich nur jeweils die graden Seiten dieses Buchs 6\n",
      "Nun lese ich nur jeweils die graden Seiten dieses Buchs 8\n",
      "Nun lese ich nur jeweils die graden Seiten dieses Buchs 10\n"
     ]
    }
   ],
   "source": [
    "# Ein guter Trick um nun beispielweise nur die geraden Zahlen auszugeben ist \n",
    "# der Einsatz von Modulo. Modulo (%) teil eine Zahl durch die andere und gibt\n",
    "# dann nur den Resten aus. Hier Modulo mit for Schleife:\n",
    "\n",
    "for seite in buch:\n",
    "    if seite % 2 == 0:\n",
    "        print('Nun lese ich nur jeweils die graden Seiten dieses Buchs', seite)"
   ]
  },
  {
   "cell_type": "code",
   "execution_count": 319,
   "metadata": {},
   "outputs": [
    {
     "name": "stdout",
     "output_type": "stream",
     "text": [
      "S\n",
      "t\n",
      "r\n",
      "i\n",
      "n\n",
      "g\n"
     ]
    }
   ],
   "source": [
    "# Das ganze funktioniert auch mit Strings\n",
    "for zeichen in 'String':\n",
    "    print(zeichen)"
   ]
  },
  {
   "cell_type": "code",
   "execution_count": 309,
   "metadata": {},
   "outputs": [
    {
     "name": "stdout",
     "output_type": "stream",
     "text": [
      "(2, 4)\n",
      "(6, 8)\n",
      "(10, 12)\n"
     ]
    }
   ],
   "source": [
    "# In Bezug auf Tuples hat die Schleife eine besonderer Bedeutung. So können\n",
    "# die Tuple Elemente auf verschieden Arten entpackt werden.\n",
    "l = [(2,4),(6,8),(10,12)] # Hier erstellen wir Tuple innerhalb einer Liste\n",
    "\n",
    "for tup in l:\n",
    "    print(tup)"
   ]
  },
  {
   "cell_type": "code",
   "execution_count": 312,
   "metadata": {},
   "outputs": [
    {
     "name": "stdout",
     "output_type": "stream",
     "text": [
      "2 4\n",
      "6 8\n",
      "10 12\n"
     ]
    }
   ],
   "source": [
    "for (t1,t2) in l:\n",
    "    print(t1,t2)"
   ]
  },
  {
   "cell_type": "code",
   "execution_count": 313,
   "metadata": {},
   "outputs": [
    {
     "name": "stdout",
     "output_type": "stream",
     "text": [
      "k1\n",
      "k2\n",
      "k3\n"
     ]
    }
   ],
   "source": [
    "# Auch in Zusammenhang mit Listen kann man die for Schleife verwenden\n",
    "dict = {'k1':1,'k2':2,'k3':3}\n",
    "for item in dict:\n",
    "    print (item)"
   ]
  },
  {
   "cell_type": "code",
   "execution_count": 315,
   "metadata": {},
   "outputs": [
    {
     "data": {
      "text/plain": [
       "dict_items([('k1', 1), ('k2', 2), ('k3', 3)])"
      ]
     },
     "execution_count": 315,
     "metadata": {},
     "output_type": "execute_result"
    }
   ],
   "source": [
    "dict.items() # So lassen sich überigen die in einem Dictionary definierten \n",
    "# Element bzw. Items ausgeben."
   ]
  },
  {
   "cell_type": "code",
   "execution_count": 318,
   "metadata": {},
   "outputs": [
    {
     "name": "stdout",
     "output_type": "stream",
     "text": [
      "k1 1\n",
      "k2 2\n",
      "k3 3\n"
     ]
    }
   ],
   "source": [
    "# Diese Methode kann in einer Schleife ebenfalls verwendet werden.\n",
    "for k,v in dict.items(): # Wir definieren zwei Item Key und Value\n",
    "    print(k,v)"
   ]
  },
  {
   "cell_type": "markdown",
   "metadata": {},
   "source": [
    "## while Scheifen"
   ]
  },
  {
   "cell_type": "markdown",
   "metadata": {},
   "source": [
    "Die while Schleife gehört zu den allgemeinsten Wegen eine Interation durchzuführen. Eine while Schleife wird solange ausgeführt, wie ein Wert True ist. \n",
    "\n",
    "Sprachliche ausgedrückt sieht das so aus:\n",
    "\n",
    "\"Wenn (while) dein Bankkonto noch im plus ist, kannst du Geld vom Automaten abheben (Statement), ansonsten (else) musst du wieder Geld auf dein Bankkonto überweisen.\"\n",
    "\n",
    "Der Syntax sieht wie folgt aus:\n",
    "\n",
    "while test:\n",
    "    code statement\n",
    "else\n",
    "    finales code statement"
   ]
  },
  {
   "cell_type": "code",
   "execution_count": 325,
   "metadata": {},
   "outputs": [
    {
     "name": "stdout",
     "output_type": "stream",
     "text": [
      "X ist aktuell:  1\n",
      "X ist aktuell:  2\n",
      "X ist aktuell:  3\n",
      "X ist aktuell:  4\n",
      "X ist aktuell:  5\n",
      "X ist aktuell:  6\n",
      "X ist aktuell:  7\n",
      "X ist aktuell:  8\n",
      "X ist aktuell:  9\n",
      "Fertig\n"
     ]
    }
   ],
   "source": [
    "i = 1 # Wir definieren eine Initialwert\n",
    "while i < 10: # Wir fordern die Scheife auf solange der Wert i kleiner als 10 ist duchzulaufen\n",
    "    print('X ist aktuell: ',i)\n",
    "    i+=1 # Damit der Wert i steigt lassen wir ihn in jeder Rund eine 1 dazuaddieren.\n",
    "else:\n",
    "    print('Fertig')"
   ]
  },
  {
   "cell_type": "code",
   "execution_count": 329,
   "metadata": {},
   "outputs": [
    {
     "name": "stdout",
     "output_type": "stream",
     "text": [
      "0\n",
      "Fortsetzen..\n",
      "1\n",
      "Fortsetzen..\n",
      "2\n",
      "x==3\n"
     ]
    }
   ],
   "source": [
    "# Mit dieser Anweisung können auch noch andere Funktionen mit gegeben werden \n",
    "# Break: hier können wir aus einem Loop ausbrechen\n",
    "# Continue: Geht an den Anfang des nächsten umfasseden Loops\n",
    "# Pass: Tut gar nichts\n",
    "\n",
    "x = 0\n",
    "while x < 10:\n",
    "    print(x)\n",
    "    x+=1\n",
    "    if x==3:\n",
    "        print('x==3')\n",
    "        break\n",
    "    else:\n",
    "        print('Fortsetzen..')\n",
    "        continue\n",
    "    print('nach continue')\n",
    "\n"
   ]
  },
  {
   "cell_type": "markdown",
   "metadata": {},
   "source": [
    "Wichtig bei der While Schleife ist, dass folgender Befehl zu einer Endlosschleife führen würde. Also darauf achten nie den folgendne Befehl zu verwenden:\n",
    "while True:\n",
    "    print('Ach du Scheisse!')"
   ]
  },
  {
   "cell_type": "markdown",
   "metadata": {},
   "source": [
    "## Range()"
   ]
  },
  {
   "cell_type": "markdown",
   "metadata": {},
   "source": [
    "Die Funktion Range erlaubt es uns eine Liste von Nummern auszugeben und dabei einen Start- und Endpukt zu denfinieren. Zudem können wir die Schrittgrösse ausgeben. In Python3 verbindet man diese Funktion mit einer Liste.\n",
    "\n",
    "Der Syntax gestaltet sich wie folgt:\n",
    "\n",
    "range(start,ende,schrittgrösse)"
   ]
  },
  {
   "cell_type": "code",
   "execution_count": 148,
   "metadata": {},
   "outputs": [
    {
     "ename": "TypeError",
     "evalue": "'list' object is not callable",
     "output_type": "error",
     "traceback": [
      "\u001b[0;31m---------------------------------------------------------------------------\u001b[0m",
      "\u001b[0;31mTypeError\u001b[0m                                 Traceback (most recent call last)",
      "\u001b[0;32m<ipython-input-148-154a9a978c06>\u001b[0m in \u001b[0;36m<module>\u001b[0;34m()\u001b[0m\n\u001b[1;32m      1\u001b[0m \u001b[0mrange\u001b[0m\u001b[0;34m(\u001b[0m\u001b[0;36m10\u001b[0m\u001b[0;34m)\u001b[0m\u001b[0;34m\u001b[0m\u001b[0m\n\u001b[0;32m----> 2\u001b[0;31m \u001b[0mx\u001b[0m \u001b[0;34m=\u001b[0m \u001b[0mlist\u001b[0m\u001b[0;34m(\u001b[0m\u001b[0mrange\u001b[0m\u001b[0;34m(\u001b[0m\u001b[0;36m0\u001b[0m\u001b[0;34m,\u001b[0m\u001b[0;36m10\u001b[0m\u001b[0;34m,\u001b[0m\u001b[0;36m2\u001b[0m\u001b[0;34m)\u001b[0m\u001b[0;34m)\u001b[0m\u001b[0;34m\u001b[0m\u001b[0m\n\u001b[0m\u001b[1;32m      3\u001b[0m \u001b[0mprint\u001b[0m\u001b[0;34m(\u001b[0m\u001b[0mx\u001b[0m\u001b[0;34m)\u001b[0m\u001b[0;34m\u001b[0m\u001b[0m\n\u001b[1;32m      4\u001b[0m \u001b[0;34m\u001b[0m\u001b[0m\n\u001b[1;32m      5\u001b[0m \u001b[0;31m# Der letzte Wert wird nie ausgegeben\u001b[0m\u001b[0;34m\u001b[0m\u001b[0;34m\u001b[0m\u001b[0m\n",
      "\u001b[0;31mTypeError\u001b[0m: 'list' object is not callable"
     ]
    }
   ],
   "source": [
    "range(10)\n",
    "x = list(range(0,10,2))\n",
    "print(x)\n",
    "\n",
    "# Der letzte Wert wird nie ausgegeben"
   ]
  },
  {
   "cell_type": "code",
   "execution_count": 9,
   "metadata": {},
   "outputs": [
    {
     "name": "stdout",
     "output_type": "stream",
     "text": [
      "[0, 1, 2, 3, 4, 5, 6, 7, 8, 9, 10, 11, 12, 13, 14, 15, 16, 17, 18, 19]\n"
     ]
    }
   ],
   "source": [
    "# Hier noch eine weitere Variante wie man einen Start- und Endwert definieren kann\n",
    "start = 0\n",
    "end = 20\n",
    "x = list(range(start,end))\n",
    "print(x)"
   ]
  },
  {
   "cell_type": "code",
   "execution_count": 12,
   "metadata": {},
   "outputs": [
    {
     "name": "stdout",
     "output_type": "stream",
     "text": [
      "[0, 2, 4, 6, 8, 10, 12, 14, 16, 18]\n"
     ]
    }
   ],
   "source": [
    "# Im nächsten Beispiel können auch noch definieren in welchen Schritten die Ausgabe \n",
    "# erfolgen soll.\n",
    "x = list(range(start,end,2)) # Hier wird in zweierschritten ausgegeben.\n",
    "print(x)"
   ]
  },
  {
   "cell_type": "code",
   "execution_count": 154,
   "metadata": {},
   "outputs": [
    {
     "name": "stdout",
     "output_type": "stream",
     "text": [
      "0\n",
      "2\n",
      "4\n",
      "6\n",
      "8\n"
     ]
    }
   ],
   "source": [
    "# In Zusammenhang mit diesen Funktionen (Range, List, Directory) stellt sich\n",
    "# auch die Frage wie man eine grosse Anzahl von Daten im Memory behalten kann.\n",
    "# die Lösung ist eine Generator mit der Funktion Range\n",
    "\n",
    "for num in range(0,10,2): # Der Syntax von Range range(Startwert, Endwert, Schritte)\n",
    "    print(num)"
   ]
  },
  {
   "cell_type": "code",
   "execution_count": 157,
   "metadata": {},
   "outputs": [
    {
     "data": {
      "text/plain": [
       "[3, 6, 9, 12, 15, 18, 21, 24, 27, 30, 33, 36, 39, 42, 45, 48]"
      ]
     },
     "execution_count": 157,
     "metadata": {},
     "output_type": "execute_result"
    }
   ],
   "source": [
    "# Zahlen bis 50 durch 3 teilbar machen und nur diese Ausgeben welche durch 3 Teilbar sind\n",
    "[x for x in range(1,50) if x%3 == 0] # Hier setzen wir Modulo ein"
   ]
  },
  {
   "cell_type": "markdown",
   "metadata": {},
   "source": [
    "## Listen Abstraktion (List comprehension)"
   ]
  },
  {
   "cell_type": "markdown",
   "metadata": {},
   "source": [
    "Die Listen-Abstraktion, eigentlich auch im Deutschen besser als \"List Comprehension\" bekannt, ist eine elegante Methode Mengen in Python zu definieren oder zu erzeugen. Die List-Comprehension kommt der mathematischen Notation von Mengen sehr nahe. In Mathematik definiert man die Quadratzahlen der natürlichen Zahlen beispielsweise als { x2 | x ∈ ℕ } oder die Menge der komplexen ganzen Zahlen { (x,y) | x ∈ ℤ ∧ y ∈ ℤ }.\n",
    "So kann man Beispielsweise eine Formel definieren und jeweils die einzelnen Werte in der Liste berechnen und auf diese zugreifen."
   ]
  },
  {
   "cell_type": "code",
   "execution_count": 17,
   "metadata": {},
   "outputs": [
    {
     "name": "stdout",
     "output_type": "stream",
     "text": [
      "['w', 'o', 'r', 't']\n"
     ]
    }
   ],
   "source": [
    "# Hier eingehens nochmal ein Beispiel wie man eine Liste erstellt\n",
    "l = []\n",
    "for buchstabe in 'wort':\n",
    "    l.append(buchstabe)\n",
    "print(l)"
   ]
  },
  {
   "cell_type": "code",
   "execution_count": 19,
   "metadata": {},
   "outputs": [
    {
     "name": "stdout",
     "output_type": "stream",
     "text": [
      "['W', 'o', 'r', 't']\n"
     ]
    }
   ],
   "source": [
    "# Ein List comprehension erstellt man wie folgt\n",
    "list = [buchstabe for buchstabe in 'Wort']\n",
    "print(list)"
   ]
  },
  {
   "cell_type": "code",
   "execution_count": 22,
   "metadata": {},
   "outputs": [
    {
     "name": "stdout",
     "output_type": "stream",
     "text": [
      "[1, 4, 9, 16, 25, 36, 49, 64, 81, 100]\n"
     ]
    }
   ],
   "source": [
    "list = [x**2 for x in range(1,11)] # Beispiel mit Wurzel\n",
    "print(list)"
   ]
  },
  {
   "cell_type": "code",
   "execution_count": 24,
   "metadata": {},
   "outputs": [
    {
     "name": "stdout",
     "output_type": "stream",
     "text": [
      "[0, 2, 4, 6, 8, 10]\n"
     ]
    }
   ],
   "source": [
    "list = [x for x in range(11) if x % 2 == 0] # Beispiel mit Modulo\n",
    "print(list)"
   ]
  },
  {
   "cell_type": "code",
   "execution_count": 25,
   "metadata": {},
   "outputs": [
    {
     "name": "stdout",
     "output_type": "stream",
     "text": [
      "[32.0, 50.0, 70.16, 98.06]\n"
     ]
    }
   ],
   "source": [
    "celsius = [0,10,21.2,36.7]\n",
    "\n",
    "fahrenheit = [((9/5*temp+32)) for temp in celsius]\n",
    "print(fahrenheit)"
   ]
  },
  {
   "cell_type": "code",
   "execution_count": 86,
   "metadata": {},
   "outputs": [
    {
     "name": "stdout",
     "output_type": "stream",
     "text": [
      "0\n"
     ]
    }
   ],
   "source": [
    "list = [x**2 for x in range(11)]\n",
    "for zahl in x:\n",
    "    print(zahl) # Nun können wir eine if-Anweisung einbauen und einen bestimmten Wert abfragen\n",
    "    if zahl == 4:\n",
    "        print ('Dies ist ein bestimmter Wert')\n",
    "    else:\n",
    "        break"
   ]
  },
  {
   "cell_type": "markdown",
   "metadata": {},
   "source": [
    "# Methoden"
   ]
  },
  {
   "cell_type": "markdown",
   "metadata": {},
   "source": [
    "Methoden sind Funktionen die in Objekte eingebaut werden. Diese Methoden führen spezifische Aktionen mit dem Objekt durch können Parameter aufnehmen und Funktionen wiedergeben.\n",
    "\n",
    "Der generelle Syntax einer Methode sieht wie folgt aus:\n",
    "\n",
    "object.method(arg1,arg2,arg3,...)"
   ]
  },
  {
   "cell_type": "code",
   "execution_count": 160,
   "metadata": {},
   "outputs": [
    {
     "name": "stdout",
     "output_type": "stream",
     "text": [
      "[1, 2, 3, 4]\n"
     ]
    }
   ],
   "source": [
    "# Hier ein einfaches Beispiel einer Methode\n",
    "l = [1,2,3]\n",
    "l.append(4) # mit Tab können die verfügbaren Methoden bsp. append angesehen werden\n",
    "print(l)"
   ]
  },
  {
   "cell_type": "code",
   "execution_count": 171,
   "metadata": {
    "scrolled": true
   },
   "outputs": [
    {
     "name": "stdout",
     "output_type": "stream",
     "text": [
      "Help on built-in function count:\n",
      "\n",
      "count(...) method of builtins.list instance\n",
      "    L.count(value) -> integer -- return number of occurrences of value\n",
      "\n"
     ]
    }
   ],
   "source": [
    "# Ein Möglichkeit die Bescheibung einer Methode auszugeben ist mit help\n",
    "w = \"Das ist eine Wort\"\n",
    "w.count('e') # Count gibt die Anzahl der gesuchten Werte aus\n",
    "help(l.count)"
   ]
  },
  {
   "cell_type": "markdown",
   "metadata": {},
   "source": [
    "# Funktionen"
   ]
  },
  {
   "cell_type": "markdown",
   "metadata": {},
   "source": [
    "Formell betrachtet ist eine Funktion ein nützliches Hilfsmittel, dass \n",
    "mehrerer Anweisungen gruppiert, damit sie mehr als einmal ausgeführt werden können.\n",
    "Man kann Funktionen so definieren, dass man sie innerhalb des Codes immer wieder verwenden kann.\n",
    "\n",
    "Eine Funktion beginnt mit einer def Anweisung"
   ]
  },
  {
   "cell_type": "code",
   "execution_count": 178,
   "metadata": {},
   "outputs": [
    {
     "name": "stdout",
     "output_type": "stream",
     "text": [
      "Help on function name_der_funktion in module __main__:\n",
      "\n",
      "name_der_funktion(parameter1, parameter2)\n",
      "    Hier kommt ein Kommentar\n",
      "\n"
     ]
    }
   ],
   "source": [
    "def name_der_funktion(parameter1, parameter2):\n",
    "    '''Hier kommt ein Kommentar'''\n",
    "    return\n",
    "name_der_funktion # mit Shift + Tab kann man nun die Funktion inkl Kommentar ausgeben\n",
    "help(name_der_funktion) # oder aus so "
   ]
  },
  {
   "cell_type": "code",
   "execution_count": 180,
   "metadata": {},
   "outputs": [],
   "source": [
    "# Um die Funktion auszuführen muss wir folgt vorgegangen werden\n",
    "\n",
    "name_der_funktion(1,2) # Mit der Funktion über geben wir die geforderten Parameter"
   ]
  },
  {
   "cell_type": "code",
   "execution_count": 193,
   "metadata": {},
   "outputs": [],
   "source": [
    "# In diesem Beispiel definieren wir eine Funktion mit eine Parameter\n",
    "def sag_hallo(name): # Der Parameter ist zu vergleichen mit einem Platzhalter\n",
    "        print('Hallo',name)"
   ]
  },
  {
   "cell_type": "code",
   "execution_count": 194,
   "metadata": {},
   "outputs": [
    {
     "name": "stdout",
     "output_type": "stream",
     "text": [
      "Hallo David\n"
     ]
    }
   ],
   "source": [
    "sag_hallo('David') # Hier über geben wir einen Name für den Parameter"
   ]
  },
  {
   "cell_type": "code",
   "execution_count": 195,
   "metadata": {},
   "outputs": [],
   "source": [
    "def add_num(num1,num2): # Bei diesem Beispiel definieren wir eine Funktion mit 2 Parameter\n",
    "    return num1+num2 # Nun definieren wir was in der Funktion gemacht werden soll"
   ]
  },
  {
   "cell_type": "code",
   "execution_count": 197,
   "metadata": {},
   "outputs": [
    {
     "data": {
      "text/plain": [
       "9"
      ]
     },
     "execution_count": 197,
     "metadata": {},
     "output_type": "execute_result"
    }
   ],
   "source": [
    "add_num(4,5) # Nun übergeben wir zwei Parameter und die Funktion führt sie aus\n",
    "\n",
    "# In diesem Fall wird nun der Wert 4 und 5 zusammengerechnet"
   ]
  },
  {
   "cell_type": "code",
   "execution_count": 198,
   "metadata": {},
   "outputs": [
    {
     "name": "stdout",
     "output_type": "stream",
     "text": [
      "10\n"
     ]
    }
   ],
   "source": [
    "# Die Ausgabe einer Funktion können wir auch als Variable speichern\n",
    "ergebnis = add_num(3,7)\n",
    "print(ergebnis)"
   ]
  },
  {
   "cell_type": "code",
   "execution_count": 200,
   "metadata": {},
   "outputs": [
    {
     "name": "stdout",
     "output_type": "stream",
     "text": [
      "Halllo David\n"
     ]
    }
   ],
   "source": [
    "# All diese funktioniert natürlich auch mit strings und in direkter Ausgabe\n",
    "print(add_num('Halllo ', 'David'))"
   ]
  },
  {
   "cell_type": "code",
   "execution_count": null,
   "metadata": {},
   "outputs": [],
   "source": [
    "# In einer Funktion lassen sich ganze Routinen mit Schleifen-Anweisungen ausgeben\n",
    "\n",
    "def ist_prim(num):\n",
    "    for n in range(2,num):\n",
    "        if num % n == 0:\n",
    "            print('keine Primzahl')\n",
    "            break\n",
    "    else:\n",
    "        print('Primzahl')"
   ]
  },
  {
   "cell_type": "code",
   "execution_count": null,
   "metadata": {},
   "outputs": [],
   "source": [
    "ist_prim(10)"
   ]
  },
  {
   "cell_type": "code",
   "execution_count": 6,
   "metadata": {},
   "outputs": [],
   "source": [
    "# Das oben gezeigte Beispiel geht auch einfacher\n",
    "\n",
    "import math # Hier importieren wir eine mathematisches Python Package \n",
    "\n",
    "def ist_prim(num):\n",
    "    if num % 2 == 0 and num > 2: #\n",
    "        return False\n",
    "    for i in range(3, int(math.sqrt(num))+1, 2):\n",
    "        if num % i == 0:\n",
    "            return False\n",
    "    return True\n"
   ]
  },
  {
   "cell_type": "code",
   "execution_count": 9,
   "metadata": {},
   "outputs": [
    {
     "data": {
      "text/plain": [
       "True"
      ]
     },
     "execution_count": 9,
     "metadata": {},
     "output_type": "execute_result"
    }
   ],
   "source": [
    "ist_prim(11)"
   ]
  },
  {
   "cell_type": "markdown",
   "metadata": {},
   "source": [
    "## Lambda Ausdrücke"
   ]
  },
  {
   "cell_type": "markdown",
   "metadata": {},
   "source": [
    "Lambda Ausdrücke sind sehr nützliche Tools im Pyhton. Sie erlauben es uns sogenannte \"anonyme\" Funktionen zu erstellen. Vereinfacht gesagt heisst das, dass wir schnell eine Funktion erstellen können ohne sie per def zu definieren. Ein Lambda Ausruck ist meist auf einer Zeile geschrieben und ist für das coden einfacher Aufgaben gedacht. Bei grösseren Aufgaben verwenden wir def."
   ]
  },
  {
   "cell_type": "code",
   "execution_count": 13,
   "metadata": {},
   "outputs": [
    {
     "data": {
      "text/plain": [
       "4"
      ]
     },
     "execution_count": 13,
     "metadata": {},
     "output_type": "execute_result"
    }
   ],
   "source": [
    "# Um ein Gefühl für Lambda zu erhalten werden wir nun eine def Funktion in einen Lambda Ausdruck umwandeln.\n",
    "\n",
    "def square(num):\n",
    "    return num**2\n",
    "\n",
    "square(2)"
   ]
  },
  {
   "cell_type": "code",
   "execution_count": 16,
   "metadata": {},
   "outputs": [
    {
     "data": {
      "text/plain": [
       "16"
      ]
     },
     "execution_count": 16,
     "metadata": {},
     "output_type": "execute_result"
    }
   ],
   "source": [
    "# Wir können dies natürlich auch noch vereinfachen und in einer einzige Zeile schreiben.\n",
    "def square(num): return num**2\n",
    "\n",
    "square(4)"
   ]
  },
  {
   "cell_type": "code",
   "execution_count": 21,
   "metadata": {},
   "outputs": [
    {
     "data": {
      "text/plain": [
       "25"
      ]
     },
     "execution_count": 21,
     "metadata": {},
     "output_type": "execute_result"
    }
   ],
   "source": [
    "# Wir werden nun diese def Beispiel in eine Lambda Funktion umwandeln.\n",
    "\n",
    "square = lambda num: num**2 # Die return Anweisung ist bereits in Lambda beinhaltet\n",
    "square(5)"
   ]
  },
  {
   "cell_type": "code",
   "execution_count": 26,
   "metadata": {},
   "outputs": [
    {
     "data": {
      "text/plain": [
       "False"
      ]
     },
     "execution_count": 26,
     "metadata": {},
     "output_type": "execute_result"
    }
   ],
   "source": [
    "# Auch die Modulo bzw. die Suche nach einer teilbaren Zahl lässt sich mittels Lambda \n",
    "# um einiges vereinfachen.\n",
    "\n",
    "even = lambda x: x%2==0 # Lässt sich eine Wert durch zwei dividieren?\n",
    "even(9)"
   ]
  },
  {
   "cell_type": "code",
   "execution_count": 33,
   "metadata": {},
   "outputs": [
    {
     "data": {
      "text/plain": [
       "('h', 'ollaH')"
      ]
     },
     "execution_count": 33,
     "metadata": {},
     "output_type": "execute_result"
    }
   ],
   "source": [
    "# Auch mit Strings lassen sich in Lambda operieren.\n",
    "\n",
    "erstes = lambda s: s[0] # Gibt den Buchstabe im Index 0 aus\n",
    "umk = lambda s: s[::-1] # Gibt den String in umgekehrter Reihenfolge aus\n",
    "erstes('halt'), umk('Hallo')"
   ]
  },
  {
   "cell_type": "code",
   "execution_count": 34,
   "metadata": {},
   "outputs": [
    {
     "data": {
      "text/plain": [
       "6"
      ]
     },
     "execution_count": 34,
     "metadata": {},
     "output_type": "execute_result"
    }
   ],
   "source": [
    "# Hier noch ein Lambda Beispiel mit mehreren Parameter\n",
    "add = lambda x,y: x+y\n",
    "add(2,4)"
   ]
  },
  {
   "cell_type": "code",
   "execution_count": 57,
   "metadata": {},
   "outputs": [
    {
     "name": "stdout",
     "output_type": "stream",
     "text": [
      "Was möchtest du berechnen 1 = Fahrenheit / 2 = Grad: 2\n",
      "Gebe den Wert in Fahrenheit ein: 140\n",
      "54.0 Grad Celsius\n"
     ]
    }
   ],
   "source": [
    "# Hier ein kleines Programm zur Umrechung von Grad & Fahrenheit\n",
    "\n",
    "quest = input('Was möchtest du berechnen 1 = Fahrenheit / 2 = Grad: ')\n",
    "\n",
    "if quest == '1':\n",
    "    grad = input('Gebe den Wert in Grad Celsius ein: ')\n",
    "    g2f = lambda g: g*2+32\n",
    "    print(g2f(int(grad)), 'Fahrenheit')\n",
    "elif quest == '2':\n",
    "    fahr = input('Gebe den Wert in Fahrenheit ein: ')\n",
    "    f2g = lambda f: (f-32)/2\n",
    "    print(f2g(int(fahr)), 'Grad Celsius')\n",
    "else:\n",
    "    print('Falscher Wert, Program beendet!')\n",
    "    "
   ]
  },
  {
   "cell_type": "markdown",
   "metadata": {},
   "source": [
    "## Verschachtelte Anweisung und Geltungsbereiche"
   ]
  },
  {
   "cell_type": "markdown",
   "metadata": {},
   "source": [
    "Jetzt, da wir unsere eigenen Funktionen zu schreiben gelernt haben, ist es wichtig zu verstehen, wie Python mit Variablen Namen umgeht. Wenn wir einen Variable Namen erstellen wird dieser im sogenannten Namensraum (en.: name space) gespeichert. Variablen Namen haben außerdem einen Geltungsbereich, welcher bestimmt, welche anderen Teile des Codes diesen Namen kennen.\n",
    "\n",
    "Der Geltungsbereich der Variablen ist über die sogenannte LEGB Regel definiert:\n",
    "\n",
    "L: Lokal - Namen die in irgendeiner Form innerhalb einer Funktion (def oder lambda) zugewiesen werden und nicht global in dieser Funktion definiert sind.\n",
    "\n",
    "E: Einschließende Funktionen - Namen im lokalen Geltungsbereich aller einschließenden Funktionen (def oder lambda) von innen nach außen.\n",
    "\n",
    "G: Globale (Module) - Namen die auf der höchsten Ebene einer Datei zugewiesen werden oder innerhalb einer Funktion als global ausgewiesen werden.\n",
    "\n",
    "B: Bereits (in Python) eingebaute - Namen die bereits in die vorinstallierten Module wie range, open, usw. eingebaut sind.\n",
    "\n",
    "Lokale Variablen innerhalb einer Funktion gelten nur in Zusammenhang mit dieser Funktion und nicht ausserhalb.\n"
   ]
  },
  {
   "cell_type": "code",
   "execution_count": 59,
   "metadata": {},
   "outputs": [
    {
     "name": "stdout",
     "output_type": "stream",
     "text": [
      "15\n"
     ]
    }
   ],
   "source": [
    "# Beispiel - Lokal\n",
    "\n",
    "calc = lambda y,x: x+y # x und y sind lokale Variablen\n",
    "print(calc(10,5))"
   ]
  },
  {
   "cell_type": "code",
   "execution_count": 67,
   "metadata": {},
   "outputs": [
    {
     "name": "stdout",
     "output_type": "stream",
     "text": [
      "x ist  50\n",
      "Lokales x ist jetzt 2\n",
      "x ist noch 50\n"
     ]
    }
   ],
   "source": [
    "x = 50\n",
    "\n",
    "def funk(x):\n",
    "    print('x ist ',x) # Hier gilt die Globale Variable\n",
    "    x = 2 # Ab hier gilt diese Variable, aber nur innerhalb dieser Funktion\n",
    "    print ('Lokales x ist jetzt', x)\n",
    "    \n",
    "funk(x)\n",
    "print('x ist noch',x)\n"
   ]
  },
  {
   "cell_type": "code",
   "execution_count": 68,
   "metadata": {},
   "outputs": [
    {
     "name": "stdout",
     "output_type": "stream",
     "text": [
      "Hallo Hans\n",
      "Das ist ein globaler Name\n"
     ]
    }
   ],
   "source": [
    "# Beispiel - Einschliessende Funktionen\n",
    "\n",
    "name = 'Das ist ein globaler Name'\n",
    "\n",
    "def gruss():\n",
    "    # Hier eine Einschliessende Funkton\n",
    "    name = 'David'\n",
    "    \n",
    "    def hallo():\n",
    "        name = 'Hans' # Innerhalb einer Funktion wird immer der \"innerste\" Wert genommen\n",
    "        print('Hallo '+ name)\n",
    "    \n",
    "    hallo()\n",
    "\n",
    "gruss()\n",
    "print (name) # Wie wir unschwer erkennen können wird auch diese Variable ausgegeben."
   ]
  },
  {
   "cell_type": "code",
   "execution_count": 69,
   "metadata": {},
   "outputs": [
    {
     "name": "stdout",
     "output_type": "stream",
     "text": [
      "4\n"
     ]
    }
   ],
   "source": [
    "# Eine bereits eingebaute Variable ist beispielsweise \n",
    "\n",
    "test = 'Test'\n",
    "print(len(test))"
   ]
  },
  {
   "cell_type": "markdown",
   "metadata": {},
   "source": [
    "# Objektorientierte Programmierung (OOP)"
   ]
  },
  {
   "cell_type": "code",
   "execution_count": 78,
   "metadata": {},
   "outputs": [
    {
     "name": "stdout",
     "output_type": "stream",
     "text": [
      "<class 'list'>\n"
     ]
    }
   ],
   "source": [
    "# Fast alles in Python ist ein Objekt so auch Listen\n",
    "l = [1,2,3]\n",
    "l.count(2)\n",
    "print(type(l))"
   ]
  },
  {
   "cell_type": "code",
   "execution_count": 82,
   "metadata": {},
   "outputs": [
    {
     "name": "stdout",
     "output_type": "stream",
     "text": [
      "<class 'function'>\n"
     ]
    }
   ],
   "source": [
    "# wie ach Functionen\n",
    "\n",
    "def quadrat(num):\n",
    "    return num**2\n",
    "print(type (quadrat))"
   ]
  },
  {
   "cell_type": "markdown",
   "metadata": {},
   "source": [
    "## Class (Klassen)"
   ]
  },
  {
   "cell_type": "markdown",
   "metadata": {},
   "source": [
    "Klassen sind von Nutzer definierte Objekte. Klassen sind wie Blaupausen welche die Eigenschaften zukünfitger Objekte festhält. Instanzen sind spezifische Objekte werlche aus bestimmten Klassen geschaffen werden. Wie Beispielweise die Liste welche wir oben erstellt haben."
   ]
  },
  {
   "cell_type": "code",
   "execution_count": 86,
   "metadata": {},
   "outputs": [
    {
     "name": "stdout",
     "output_type": "stream",
     "text": [
      "<class '__main__.Beispiel'>\n"
     ]
    }
   ],
   "source": [
    "# Wir generieren nun eine eigene KLasse\n",
    "\n",
    "class Beispiel (object): # Wichtig ist das der Klassenname mit einem Grossbuchstaben beginnt\n",
    "    pass\n",
    "\n",
    "x = Beispiel() # Hier verküpfen wir unsere Klasse mit einer Variabel\n",
    "\n",
    "print(type(x)) # Nun können wir uns vergewissern, dass x eine Klasse ist\n"
   ]
  },
  {
   "cell_type": "markdown",
   "metadata": {},
   "source": [
    "Der Klasse können jetzt natürlich noch Attribute und Methoden \n",
    "hinzugefügt werden. \n",
    "\n",
    "Ein Attribute ist dabei eine Charakteristik eines Objekts. Wenn wir Beispielsweise eine Klasse \"Hund\" Haben können wir ihr Attribute wie Hunderasse, Alter, Stammbaum usw. hinzufügen.\n",
    "\n",
    "Eine Methode ist eine Operation welche wir auf ein Objekt anwenden können. Beispielswiese bei der Klasse \"Hund\" würde dies bellen, knurren, springen usw. sein. "
   ]
  },
  {
   "cell_type": "code",
   "execution_count": 9,
   "metadata": {},
   "outputs": [
    {
     "name": "stdout",
     "output_type": "stream",
     "text": [
      "<class '__main__.Hund'>\n"
     ]
    }
   ],
   "source": [
    "# Hier das Beispiel Klasse \"Hund\"\n",
    "\n",
    "class Hund(object):\n",
    "    def __init__(self, rasse): # Hiermit definieren wir eine Funkton mit dem Attribut rasse\n",
    "        self.rasse = rasse # Hiermit weisen wir die Funktion Rasse der Klasse zu\n",
    "        \n",
    "sam = Hund(rasse='Lab') # Mit Hilfe der Klasse generieren wir nun ein neues Objekt\n",
    "frank = Hund(rasse='Husky') # Dito\n",
    "frank # Wir können nun überprüfen zu welche Klasse das Objekt Frank gehört\n",
    "print(type(frank)) # Das geht natürlich auch so\n"
   ]
  },
  {
   "cell_type": "code",
   "execution_count": 10,
   "metadata": {},
   "outputs": [
    {
     "data": {
      "text/plain": [
       "'Lab'"
      ]
     },
     "execution_count": 10,
     "metadata": {},
     "output_type": "execute_result"
    }
   ],
   "source": [
    "# Nun wollen wir das Objekt Sam mal mit einem in der Klasse definierten Attribut ausgehben\n",
    "sam.rasse #Ein Klammer ist nicht notwendig, da es sich nicht um eine Methode handelt "
   ]
  },
  {
   "cell_type": "code",
   "execution_count": 16,
   "metadata": {},
   "outputs": [
    {
     "name": "stdout",
     "output_type": "stream",
     "text": [
      "<class '__main__.Hund'>\n"
     ]
    },
    {
     "data": {
      "text/plain": [
       "'Säugetier'"
      ]
     },
     "execution_count": 16,
     "metadata": {},
     "output_type": "execute_result"
    }
   ],
   "source": [
    "# Kommen wir nun zu den Klassen-Objekt-Attribute. Diese gelten für alle Instanzen einer Klasse\n",
    "class Hund(object):\n",
    "    spezies = 'Säugetier'\n",
    "    \n",
    "    def __init__(self,rasse,name):\n",
    "        self.rasse = rasse\n",
    "        self.name = name\n",
    "        \n",
    "sam = Hund('Lab','Sam')\n",
    "\n",
    "print(type(sam))\n",
    "sam.name\n",
    "sam.spezies"
   ]
  },
  {
   "cell_type": "markdown",
   "metadata": {},
   "source": [
    "# Methoden"
   ]
  },
  {
   "cell_type": "markdown",
   "metadata": {},
   "source": [
    "Neben Attributen können auch Methoden (Funktionen) in einer Klasse definiert werden. Mit ihnen können Operationen mit den Attributen durchgeführt werden.\n"
   ]
  },
  {
   "cell_type": "code",
   "execution_count": 54,
   "metadata": {},
   "outputs": [
    {
     "data": {
      "text/plain": [
       "31400.0"
      ]
     },
     "execution_count": 54,
     "metadata": {},
     "output_type": "execute_result"
    }
   ],
   "source": [
    "class Kreis(object):\n",
    "    pi = 3.14\n",
    "    \n",
    "    def __init__(self, radius = 1): # Hier definieren wir wieder eine Funktion und weisen Radius gleich einen Default-Wert zu. \n",
    "        self.radius = radius\n",
    "        \n",
    "    def flaeche(self):\n",
    "        return self.radius * self.radius * Kreis.pi\n",
    "    \n",
    "    def radiusEinstellen(self,radius): # Mit diesem Attribut können wir den Radius individuell verändern.\n",
    "        self.radius = radius\n",
    "        \n",
    "    def radiusErhalten(self): #Mit diesem Attribut können wir die Einstellung jederzeit abfragen\n",
    "        return self.radius\n",
    "        \n",
    "\n",
    "k = Kreis(radius=100)\n",
    "k.flaeche() #Achtung da es sich um einen Methode handelt bnötigen wir wieder eine Klammer\n"
   ]
  },
  {
   "cell_type": "code",
   "execution_count": 50,
   "metadata": {
    "scrolled": true
   },
   "outputs": [],
   "source": [
    "k.radiusEinstellen(10)"
   ]
  },
  {
   "cell_type": "code",
   "execution_count": 51,
   "metadata": {},
   "outputs": [
    {
     "data": {
      "text/plain": [
       "314.0"
      ]
     },
     "execution_count": 51,
     "metadata": {},
     "output_type": "execute_result"
    }
   ],
   "source": [
    "k.flaeche()"
   ]
  },
  {
   "cell_type": "code",
   "execution_count": 52,
   "metadata": {},
   "outputs": [
    {
     "data": {
      "text/plain": [
       "10"
      ]
     },
     "execution_count": 52,
     "metadata": {},
     "output_type": "execute_result"
    }
   ],
   "source": [
    "k.radiusErhalten()"
   ]
  },
  {
   "cell_type": "markdown",
   "metadata": {},
   "source": [
    "# Vererbung"
   ]
  },
  {
   "cell_type": "markdown",
   "metadata": {},
   "source": [
    "Mit der Vererbung können neue Klassen durch bereits existierenden Klassen erstellt werden. Dies neu erstellten Klassen werden abgeleitete Klassen genannnt. Die Klassen von welche wir Vererben heissen Basisklassen. Mit der Vererbung lassen sich somit einfach bestehende Codes wieder verwenden."
   ]
  },
  {
   "cell_type": "code",
   "execution_count": 68,
   "metadata": {},
   "outputs": [],
   "source": [
    "class Tier(object):\n",
    "    def __init__(self):\n",
    "        print('Tier erschaffen')\n",
    "        \n",
    "    def werBinIch(self):\n",
    "        print('Tier')\n",
    "        \n",
    "    def essen(self):\n",
    "        print('Essen')\n",
    "        \n",
    "class Hund(Tier): # Wir erstellen eine neue Klassen und Vererben die Tier Klasse\n",
    "    def __init__(self):\n",
    "        Tier.__init__(self) #Hier beziehen wir uns auf die Klasse Tier\n",
    "        print('Hund erstellen')\n",
    "        \n",
    "    def werBinIch(self):\n",
    "        print('Hund')\n",
    "        \n",
    "    def bellen(self):\n",
    "        print('Wuff!')\n",
    "    "
   ]
  },
  {
   "cell_type": "code",
   "execution_count": 60,
   "metadata": {},
   "outputs": [
    {
     "name": "stdout",
     "output_type": "stream",
     "text": [
      "Tier erschaffen\n",
      "Tier\n",
      "Essen\n"
     ]
    }
   ],
   "source": [
    "t = Tier()\n",
    "t.werBinIch()\n",
    "t.essen()"
   ]
  },
  {
   "cell_type": "code",
   "execution_count": 70,
   "metadata": {},
   "outputs": [
    {
     "name": "stdout",
     "output_type": "stream",
     "text": [
      "Tier erschaffen\n",
      "Hund erstellen\n",
      "Hund\n",
      "Wuff!\n",
      "Essen\n"
     ]
    }
   ],
   "source": [
    "h = Hund()\n",
    "h.werBinIch()\n",
    "h.bellen()\n",
    "h.essen() # Dieses Attribut hat die Klasse Hund von der Klasse Tier vererbt bekommen."
   ]
  },
  {
   "cell_type": "markdown",
   "metadata": {},
   "source": [
    "## Spezielle Methoden"
   ]
  },
  {
   "cell_type": "code",
   "execution_count": 2,
   "metadata": {},
   "outputs": [
    {
     "name": "stdout",
     "output_type": "stream",
     "text": [
      "[1, 2, 3]\n"
     ]
    },
    {
     "data": {
      "text/plain": [
       "3"
      ]
     },
     "execution_count": 2,
     "metadata": {},
     "output_type": "execute_result"
    }
   ],
   "source": [
    "# Wir kennen ja die bereits die Methoden welche in Python standardmässig implementiert sind.\n",
    "l = [1,2,3]\n",
    "print(l)\n",
    "len(l)"
   ]
  },
  {
   "cell_type": "code",
   "execution_count": 11,
   "metadata": {},
   "outputs": [
    {
     "name": "stdout",
     "output_type": "stream",
     "text": [
      "Ein Buch wird geschrieben!\n",
      "Titel:Python rockt!, Autor: Patrik Di Lena, Seiten 1000\n"
     ]
    }
   ],
   "source": [
    "# Solchen Methoden können wir aber auch selber definieren.\n",
    "\n",
    "class Buch(object):\n",
    "    def __init__(self, titel, autor, seiten):\n",
    "        print('Ein Buch wird geschrieben!')\n",
    "        self.titel = titel\n",
    "        self. autor = autor\n",
    "        self.seiten = seiten\n",
    "    \n",
    "    def __str__(self):\n",
    "        return \"Titel:%s, Autor: %s, Seiten %s\"% (self.titel, self.autor, self.seiten)\n",
    "        \n",
    "    def __len__(self):\n",
    "        return self.seiten\n",
    "    \n",
    "    def __del__(self):\n",
    "        print('Ein Buch wurde gelöscht')\n",
    "        \n",
    "buch = Buch('Python rockt!', 'Patrik Di Lena', 1000)\n",
    "print (buch)\n",
    "        "
   ]
  },
  {
   "cell_type": "code",
   "execution_count": 13,
   "metadata": {},
   "outputs": [],
   "source": [
    "del(buch) # Wenn wir jetzt die Methode len ausführen wird Python das nicht interpretieren können"
   ]
  },
  {
   "cell_type": "code",
   "execution_count": 22,
   "metadata": {},
   "outputs": [],
   "source": [
    "class Ubuntu:\n",
    "    def __init__(self, ramsize):\n",
    "        self.ram = ramsize\n",
    "        self.type = 'server'\n",
    "        \n",
    "Ubuntu = Ubuntu(2000)"
   ]
  },
  {
   "cell_type": "code",
   "execution_count": 21,
   "metadata": {},
   "outputs": [
    {
     "name": "stdout",
     "output_type": "stream",
     "text": [
      "<class '__main__.Ubuntu'>\n"
     ]
    }
   ],
   "source": [
    "print(Ubuntu)"
   ]
  },
  {
   "cell_type": "markdown",
   "metadata": {},
   "source": [
    "## Errors und Ausnahmen Handhabung"
   ]
  },
  {
   "cell_type": "markdown",
   "metadata": {},
   "source": [
    "Es gibt unterschiedliche Fehlerquellen bei der Nutzung von Python. Man unterscheidet dabei zwischen folgenden Fehlerarten:\n",
    "\n",
    "Syntaxfehler - Hierbei handelt es sich zum Beispiel um einen vergessenen Einschub, Tipfehler usw.\n",
    "Semantische Fehler - Diese Fehler sind die gefährlichsten von allen Fehlern, da sie die Logik des erstellen Algorithmus betreffen. Diese Fehler werden meist erst später erstellt."
   ]
  },
  {
   "cell_type": "code",
   "execution_count": 26,
   "metadata": {},
   "outputs": [
    {
     "ename": "NameError",
     "evalue": "name 'Hello' is not defined",
     "output_type": "error",
     "traceback": [
      "\u001b[0;31m---------------------------------------------------------------------------\u001b[0m",
      "\u001b[0;31mNameError\u001b[0m                                 Traceback (most recent call last)",
      "\u001b[0;32m<ipython-input-26-23ad3f3f48db>\u001b[0m in \u001b[0;36m<module>\u001b[0;34m()\u001b[0m\n\u001b[1;32m      1\u001b[0m \u001b[0;31m# Das ist ein typischer SyntaxError auch End of Line Error (EOL) genannt\u001b[0m\u001b[0;34m\u001b[0m\u001b[0;34m\u001b[0m\u001b[0m\n\u001b[1;32m      2\u001b[0m \u001b[0;34m\u001b[0m\u001b[0m\n\u001b[0;32m----> 3\u001b[0;31m \u001b[0mprint\u001b[0m\u001b[0;34m(\u001b[0m\u001b[0mHello\u001b[0m\u001b[0;34m)\u001b[0m \u001b[0;31m#\u001b[0m\u001b[0;34m\u001b[0m\u001b[0m\n\u001b[0m",
      "\u001b[0;31mNameError\u001b[0m: name 'Hello' is not defined"
     ]
    }
   ],
   "source": [
    "# Das ist ein typischer SyntaxError auch End of Line Error (EOL) genannt\n",
    "\n",
    "print(Hello) # Vergessen von String-Hochkommas bei Print-Funktion"
   ]
  },
  {
   "cell_type": "code",
   "execution_count": null,
   "metadata": {},
   "outputs": [],
   "source": [
    "# Syntaxfehler kann man mit try und except Anweisungen abfangen.\n",
    "\n"
   ]
  }
 ],
 "metadata": {
  "kernelspec": {
   "display_name": "Python 3",
   "language": "python",
   "name": "python3"
  },
  "language_info": {
   "codemirror_mode": {
    "name": "ipython",
    "version": 3
   },
   "file_extension": ".py",
   "mimetype": "text/x-python",
   "name": "python",
   "nbconvert_exporter": "python",
   "pygments_lexer": "ipython3",
   "version": "3.6.6"
  }
 },
 "nbformat": 4,
 "nbformat_minor": 2
}
