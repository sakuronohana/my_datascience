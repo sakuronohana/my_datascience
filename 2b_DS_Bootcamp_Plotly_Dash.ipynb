{
  "nbformat": 4,
  "nbformat_minor": 0,
  "metadata": {
    "kernelspec": {
      "display_name": "Python 3",
      "language": "python",
      "name": "python3"
    },
    "language_info": {
      "codemirror_mode": {
        "name": "ipython",
        "version": 3
      },
      "file_extension": ".py",
      "mimetype": "text/x-python",
      "name": "python",
      "nbconvert_exporter": "python",
      "pygments_lexer": "ipython3",
      "version": "3.7.4"
    },
    "colab": {
      "name": "2b_DS_Bootcamp_Plotly_Dash.ipynb",
      "provenance": [],
      "include_colab_link": true
    }
  },
  "cells": [
    {
      "cell_type": "markdown",
      "metadata": {
        "id": "view-in-github",
        "colab_type": "text"
      },
      "source": [
        "<a href=\"https://colab.research.google.com/github/sakuronohana/my_datascience/blob/master/2b_DS_Bootcamp_Plotly_Dash.ipynb\" target=\"_parent\"><img src=\"https://colab.research.google.com/assets/colab-badge.svg\" alt=\"Open In Colab\"/></a>"
      ]
    },
    {
      "cell_type": "markdown",
      "metadata": {
        "id": "Sl8nNrUWQrRP",
        "colab_type": "text"
      },
      "source": [
        "# DS Bootcamp Teil 1d - Visualisierung mit Plotly & Dash #"
      ]
    },
    {
      "cell_type": "markdown",
      "metadata": {
        "colab_type": "text",
        "id": "QoQEryhL9Hxw"
      },
      "source": [
        "## DS Bootcamp Verzeichnis ##\n",
        "\n",
        "[**Teil 1 - Data Science - Prozesse & Grundlagen**](https://github.com/sakuronohana/my_datascience/blob/master/1_DS_Bootcamp_Prozesse_%26_Grundlagen.ipynb)\n",
        "\n",
        "[**Teil 1a - Data Science - Python Basic & Advanced**](https://github.com/sakuronohana/my_datascience/blob/master/2_DS_Bootcamp_Python_Basic_%26_Advanced.ipynb)\n",
        "\n",
        "[**Teil 1b - Data Science - R Basic & Advanced**](https://github.com/sakuronohana/my_datascience/blob/master/3_DS_Bootcamp_R_Basic_%26_Advanced.ipynb)\n",
        "\n",
        "[**Teil 1c - Data Science - Tensorflow Basic & Advanced**](https://github.com/sakuronohana/my_datascience/blob/master/2a_DS_Bootcamp_Tensorflow_Basic_%26_Advanced.ipynb)\n",
        "\n",
        "[**Teil 1d - Data Science - Plotly & Dash**](https://colab.research.google.com/github/sakuronohana/my_datascience/blob/master/2b_DS_Bootcamp_Plotly_Dash.ipynb#scrollTo=QoQEryhL9Hxw)\n",
        "\n",
        "[**Teil 2 - Data Science - ML - Datenbeschaffung & Datenaufbereitung**](https://github.com/sakuronohana/my_datascience/blob/master/4_DS_Bootcamp_ML_Datenbeschaffung_Datenaufbereitung.ipynb)\n",
        "\n",
        "[**Teil 3 - Data Science - ML - Modellwahl**](https://github.com/sakuronohana/my_datascience/blob/master/5_DS_Bootcamp_ML_Modellwahl.ipynb)\n",
        "\n",
        "[**Teil 4 - Data Science - ML - Modell Training, Testing & Optimierung**](https://github.com/sakuronohana/my_datascience/blob/master/6_DS_Bootcamp_ML_Modell_Train_Test_Optimize.ipynb)\n",
        "\n",
        "[**Teil 5 - Data Science - ML - Modell Produktivsetzung, Überwachung & Pflege**](https://github.com/sakuronohana/my_datascience/blob/master/7_DS_Bootcamp_ML_Modell_Deploy_Monitor_Maintain.ipynb)"
      ]
    },
    {
      "cell_type": "markdown",
      "metadata": {
        "id": "FRqJF7RCRsZf",
        "colab_type": "text"
      },
      "source": [
        "## About Plotly & Dash ##\n",
        "\n",
        "Nachfolgend eine kleine Einführung in die Visualisierung mit Plotly und Dash.\n",
        "\n",
        "Dash ist ein produktives Python-Framework zum Erstellen von Webanwendungen. Dash wurde auf Flask, Plotly.js und React.js geschrieben und ist ideal zum Erstellen von Datenvisualisierungs-Apps mit hochgradig benutzerdefinierten Benutzeroberflächen in reinem Python. \n",
        "Dash-Apps werden im Webbrowser gerendert. Sie können Ihre Apps auf Servern bereitstellen und sie dann über URLs freigeben. Da Dash-Apps im Webbrowser angezeigt werden, ist Dash von Natur aus plattformübergreifend und mobil einsetzbar.\n",
        "\n",
        "Quelle: [Plotly Dash](https://dash.plot.ly/introduction)\n",
        "\n",
        "<img src='https://images.prismic.io/plotly-marketing-website/d076c072-a8d5-4316-9d87-be7d7109cf43_social+media+logo-01.png?auto=compress,format' width='400'>"
      ]
    },
    {
      "cell_type": "markdown",
      "metadata": {
        "id": "rrdt5ZTjRsZg",
        "colab_type": "text"
      },
      "source": [
        "## Einführung in Plotly ##\n",
        "\n",
        "Bevor wir uns mit Dash beschäftigen ist es ratsam eine kurze Einführung in Plotly selbst zu machen. Auf der folgenden Webseite finden wir sehr viele Beispiele welche Art von Plots wir mit Plotly erstellen können. \n",
        "\n",
        "https://plot.ly/python"
      ]
    },
    {
      "cell_type": "markdown",
      "metadata": {
        "id": "xIhx0s_TRsZg",
        "colab_type": "text"
      },
      "source": [
        "### Aufbau ###\n",
        "\n",
        "Bevor wir uns nun mit den einzelnen Plots beschäftigen ist es wichtig mal zuerst den generellen Aufbau zu verstehen. Plotly besteht aus folgenden Objekten:\n",
        "\n",
        "* Data - Hier werden immer die Daten und ihre Attribute definiert bspw. Plotart (Scatter, Bar usw.) x, y, Mode, Marker usw.)\n",
        "* Layout - In diesem Element wird das grundsätzliche Erscheinungsbild des Plots bspw. Titel, Axenbeschrieftungen, Hovermode usw.\n"
      ]
    },
    {
      "cell_type": "markdown",
      "metadata": {
        "id": "IboqBROYRsZh",
        "colab_type": "text"
      },
      "source": [
        "### Scatter Plots ###\n",
        "\n",
        "Der Scatter Plot ist ein unverzichtbarer Graph wenn es darum geht Korrelationen zwischen zwei Variablen zu finden.\n",
        "\n",
        "Referenz zu Scatter Plot ([Link](https://plotly.com/python/reference/#scatter))"
      ]
    },
    {
      "cell_type": "code",
      "metadata": {
        "id": "ZX7ilqtlRsZm",
        "colab_type": "code",
        "outputId": "1e0db3f2-1d42-4e02-ac4b-b3c966117532",
        "colab": {
          "base_uri": "https://localhost:8080/",
          "height": 542
        }
      },
      "source": [
        "import pandas as pd\n",
        "import plotly.offline as pyo\n",
        "import plotly.graph_objs as go\n",
        "\n",
        "# Datenimport \n",
        "\n",
        "datloc = 'https://raw.githubusercontent.com/sakuronohana/cas_StatDaVi/master/Semesterarbeit/Daten/wb_total_population.csv'\n",
        "wpop = pd.read_csv(datloc)\n",
        "\n",
        "wpop.set_index('Country Name',inplace=True)\n",
        "\n",
        "x = wpop['1994']\n",
        "y = wpop['2015']\n",
        "\n",
        "# Nun ploten wir die Daten. Wichtig dabei ist, es handelt sich um eine Liste\n",
        "data = [go.Scatter(\n",
        "    x=x, \n",
        "    y=y, \n",
        "    mode='markers', # Form der Datenpunkte \n",
        "    marker=dict( # Konfiguration der Datenpunkte\n",
        "        size=12, # Datenpunkte auf Grösse 12\n",
        "        color='red', #Datenpunkte in Rot\n",
        "        symbol= 'pentagon', # Form der Datenpunkte\n",
        "        line = dict(width=2), # Linienbreite der Datenpunkte\n",
        "    ))]\n",
        "\n",
        "# Nun defineren wir das Layout unserere Plots. Layout ist keine Liste\n",
        "layout = go.Layout(\n",
        "        title='Mein Plotly Scatter Plot',\n",
        "        # Hier die erste Methode einer Axenbeschriftung\n",
        "        xaxis= {'title':'Werte der Axe x'},\n",
        "        # Zweite Methode einer Axenbeschrifung\n",
        "        yaxis=dict(title='Werte der Axe y'),\n",
        "        hovermode='closest')\n",
        "\n",
        "# Nun fassen wir alles in einer Variablen zusammen\n",
        "fig = go.Figure(data=data, layout=layout)\n",
        "\n",
        "# Führen wir nun diesen Plot aus wird ein Browser geöffnet\n",
        "fig.show() \n",
        "\n",
        "# Als alternative können den Plot Offline bzw. als HTML speichern und ausführen.\n",
        "# pyo.plot(fig, filename = 'scatter.html')"
      ],
      "execution_count": 0,
      "outputs": [
        {
          "output_type": "display_data",
          "data": {
            "text/html": [
              "<html>\n",
              "<head><meta charset=\"utf-8\" /></head>\n",
              "<body>\n",
              "    <div>\n",
              "            <script src=\"https://cdnjs.cloudflare.com/ajax/libs/mathjax/2.7.5/MathJax.js?config=TeX-AMS-MML_SVG\"></script><script type=\"text/javascript\">if (window.MathJax) {MathJax.Hub.Config({SVG: {font: \"STIX-Web\"}});}</script>\n",
              "                <script type=\"text/javascript\">window.PlotlyConfig = {MathJaxConfig: 'local'};</script>\n",
              "        <script src=\"https://cdn.plot.ly/plotly-latest.min.js\"></script>    \n",
              "            <div id=\"7509938a-89f6-46f2-97aa-141c16fe193e\" class=\"plotly-graph-div\" style=\"height:525px; width:100%;\"></div>\n",
              "            <script type=\"text/javascript\">\n",
              "                \n",
              "                    window.PLOTLYENV=window.PLOTLYENV || {};\n",
              "                    \n",
              "                if (document.getElementById(\"7509938a-89f6-46f2-97aa-141c16fe193e\")) {\n",
              "                    Plotly.newPlot(\n",
              "                        '7509938a-89f6-46f2-97aa-141c16fe193e',\n",
              "                        [{\"marker\": {\"color\": \"red\", \"line\": {\"width\": 2}, \"size\": 12, \"symbol\": \"pentagon\"}, \"mode\": \"markers\", \"type\": \"scatter\", \"x\": [13503747, 34402672, 17855000, 7466793, 159432716, 29000663, 1191835000, 40252975, 81438348, 10512922, 945601831, 124961000, 56843400, 90156400, 14948048, 148336000, 8780745, 6993795, 263126000, 21474549], \"y\": [27884381, 43131966, 23815995, 10869730, 204471769, 35702908, 1371220000, 76244544, 81686611, 10820883, 1310152403, 127141000, 60730582, 121858258, 27042002, 144096870, 9799186, 8282396, 320742673, 30081829]}],\n",
              "                        {\"hovermode\": \"closest\", \"template\": {\"data\": {\"bar\": [{\"error_x\": {\"color\": \"#2a3f5f\"}, \"error_y\": {\"color\": \"#2a3f5f\"}, \"marker\": {\"line\": {\"color\": \"#E5ECF6\", \"width\": 0.5}}, \"type\": \"bar\"}], \"barpolar\": [{\"marker\": {\"line\": {\"color\": \"#E5ECF6\", \"width\": 0.5}}, \"type\": \"barpolar\"}], \"carpet\": [{\"aaxis\": {\"endlinecolor\": \"#2a3f5f\", \"gridcolor\": \"white\", \"linecolor\": \"white\", \"minorgridcolor\": \"white\", \"startlinecolor\": \"#2a3f5f\"}, \"baxis\": {\"endlinecolor\": \"#2a3f5f\", \"gridcolor\": \"white\", \"linecolor\": \"white\", \"minorgridcolor\": \"white\", \"startlinecolor\": \"#2a3f5f\"}, \"type\": \"carpet\"}], \"choropleth\": [{\"colorbar\": {\"outlinewidth\": 0, \"ticks\": \"\"}, \"type\": \"choropleth\"}], \"contour\": [{\"colorbar\": {\"outlinewidth\": 0, \"ticks\": \"\"}, \"colorscale\": [[0.0, \"#0d0887\"], [0.1111111111111111, \"#46039f\"], [0.2222222222222222, \"#7201a8\"], [0.3333333333333333, \"#9c179e\"], [0.4444444444444444, \"#bd3786\"], [0.5555555555555556, \"#d8576b\"], [0.6666666666666666, \"#ed7953\"], [0.7777777777777778, \"#fb9f3a\"], [0.8888888888888888, \"#fdca26\"], [1.0, \"#f0f921\"]], \"type\": \"contour\"}], \"contourcarpet\": [{\"colorbar\": {\"outlinewidth\": 0, \"ticks\": \"\"}, \"type\": \"contourcarpet\"}], \"heatmap\": [{\"colorbar\": {\"outlinewidth\": 0, \"ticks\": \"\"}, \"colorscale\": [[0.0, \"#0d0887\"], [0.1111111111111111, \"#46039f\"], [0.2222222222222222, \"#7201a8\"], [0.3333333333333333, \"#9c179e\"], [0.4444444444444444, \"#bd3786\"], [0.5555555555555556, \"#d8576b\"], [0.6666666666666666, \"#ed7953\"], [0.7777777777777778, \"#fb9f3a\"], [0.8888888888888888, \"#fdca26\"], [1.0, \"#f0f921\"]], \"type\": \"heatmap\"}], \"heatmapgl\": [{\"colorbar\": {\"outlinewidth\": 0, \"ticks\": \"\"}, \"colorscale\": [[0.0, \"#0d0887\"], [0.1111111111111111, \"#46039f\"], [0.2222222222222222, \"#7201a8\"], [0.3333333333333333, \"#9c179e\"], [0.4444444444444444, \"#bd3786\"], [0.5555555555555556, \"#d8576b\"], [0.6666666666666666, \"#ed7953\"], [0.7777777777777778, \"#fb9f3a\"], [0.8888888888888888, \"#fdca26\"], [1.0, \"#f0f921\"]], \"type\": \"heatmapgl\"}], \"histogram\": [{\"marker\": {\"colorbar\": {\"outlinewidth\": 0, \"ticks\": \"\"}}, \"type\": \"histogram\"}], \"histogram2d\": [{\"colorbar\": {\"outlinewidth\": 0, \"ticks\": \"\"}, \"colorscale\": [[0.0, \"#0d0887\"], [0.1111111111111111, \"#46039f\"], [0.2222222222222222, \"#7201a8\"], [0.3333333333333333, \"#9c179e\"], [0.4444444444444444, \"#bd3786\"], [0.5555555555555556, \"#d8576b\"], [0.6666666666666666, \"#ed7953\"], [0.7777777777777778, \"#fb9f3a\"], [0.8888888888888888, \"#fdca26\"], [1.0, \"#f0f921\"]], \"type\": \"histogram2d\"}], \"histogram2dcontour\": [{\"colorbar\": {\"outlinewidth\": 0, \"ticks\": \"\"}, \"colorscale\": [[0.0, \"#0d0887\"], [0.1111111111111111, \"#46039f\"], [0.2222222222222222, \"#7201a8\"], [0.3333333333333333, \"#9c179e\"], [0.4444444444444444, \"#bd3786\"], [0.5555555555555556, \"#d8576b\"], [0.6666666666666666, \"#ed7953\"], [0.7777777777777778, \"#fb9f3a\"], [0.8888888888888888, \"#fdca26\"], [1.0, \"#f0f921\"]], \"type\": \"histogram2dcontour\"}], \"mesh3d\": [{\"colorbar\": {\"outlinewidth\": 0, \"ticks\": \"\"}, \"type\": \"mesh3d\"}], \"parcoords\": [{\"line\": {\"colorbar\": {\"outlinewidth\": 0, \"ticks\": \"\"}}, \"type\": \"parcoords\"}], \"pie\": [{\"automargin\": true, \"type\": \"pie\"}], \"scatter\": [{\"marker\": {\"colorbar\": {\"outlinewidth\": 0, \"ticks\": \"\"}}, \"type\": \"scatter\"}], \"scatter3d\": [{\"line\": {\"colorbar\": {\"outlinewidth\": 0, \"ticks\": \"\"}}, \"marker\": {\"colorbar\": {\"outlinewidth\": 0, \"ticks\": \"\"}}, \"type\": \"scatter3d\"}], \"scattercarpet\": [{\"marker\": {\"colorbar\": {\"outlinewidth\": 0, \"ticks\": \"\"}}, \"type\": \"scattercarpet\"}], \"scattergeo\": [{\"marker\": {\"colorbar\": {\"outlinewidth\": 0, \"ticks\": \"\"}}, \"type\": \"scattergeo\"}], \"scattergl\": [{\"marker\": {\"colorbar\": {\"outlinewidth\": 0, \"ticks\": \"\"}}, \"type\": \"scattergl\"}], \"scattermapbox\": [{\"marker\": {\"colorbar\": {\"outlinewidth\": 0, \"ticks\": \"\"}}, \"type\": \"scattermapbox\"}], \"scatterpolar\": [{\"marker\": {\"colorbar\": {\"outlinewidth\": 0, \"ticks\": \"\"}}, \"type\": \"scatterpolar\"}], \"scatterpolargl\": [{\"marker\": {\"colorbar\": {\"outlinewidth\": 0, \"ticks\": \"\"}}, \"type\": \"scatterpolargl\"}], \"scatterternary\": [{\"marker\": {\"colorbar\": {\"outlinewidth\": 0, \"ticks\": \"\"}}, \"type\": \"scatterternary\"}], \"surface\": [{\"colorbar\": {\"outlinewidth\": 0, \"ticks\": \"\"}, \"colorscale\": [[0.0, \"#0d0887\"], [0.1111111111111111, \"#46039f\"], [0.2222222222222222, \"#7201a8\"], [0.3333333333333333, \"#9c179e\"], [0.4444444444444444, \"#bd3786\"], [0.5555555555555556, \"#d8576b\"], [0.6666666666666666, \"#ed7953\"], [0.7777777777777778, \"#fb9f3a\"], [0.8888888888888888, \"#fdca26\"], [1.0, \"#f0f921\"]], \"type\": \"surface\"}], \"table\": [{\"cells\": {\"fill\": {\"color\": \"#EBF0F8\"}, \"line\": {\"color\": \"white\"}}, \"header\": {\"fill\": {\"color\": \"#C8D4E3\"}, \"line\": {\"color\": \"white\"}}, \"type\": \"table\"}]}, \"layout\": {\"annotationdefaults\": {\"arrowcolor\": \"#2a3f5f\", \"arrowhead\": 0, \"arrowwidth\": 1}, \"coloraxis\": {\"colorbar\": {\"outlinewidth\": 0, \"ticks\": \"\"}}, \"colorscale\": {\"diverging\": [[0, \"#8e0152\"], [0.1, \"#c51b7d\"], [0.2, \"#de77ae\"], [0.3, \"#f1b6da\"], [0.4, \"#fde0ef\"], [0.5, \"#f7f7f7\"], [0.6, \"#e6f5d0\"], [0.7, \"#b8e186\"], [0.8, \"#7fbc41\"], [0.9, \"#4d9221\"], [1, \"#276419\"]], \"sequential\": [[0.0, \"#0d0887\"], [0.1111111111111111, \"#46039f\"], [0.2222222222222222, \"#7201a8\"], [0.3333333333333333, \"#9c179e\"], [0.4444444444444444, \"#bd3786\"], [0.5555555555555556, \"#d8576b\"], [0.6666666666666666, \"#ed7953\"], [0.7777777777777778, \"#fb9f3a\"], [0.8888888888888888, \"#fdca26\"], [1.0, \"#f0f921\"]], \"sequentialminus\": [[0.0, \"#0d0887\"], [0.1111111111111111, \"#46039f\"], [0.2222222222222222, \"#7201a8\"], [0.3333333333333333, \"#9c179e\"], [0.4444444444444444, \"#bd3786\"], [0.5555555555555556, \"#d8576b\"], [0.6666666666666666, \"#ed7953\"], [0.7777777777777778, \"#fb9f3a\"], [0.8888888888888888, \"#fdca26\"], [1.0, \"#f0f921\"]]}, \"colorway\": [\"#636efa\", \"#EF553B\", \"#00cc96\", \"#ab63fa\", \"#FFA15A\", \"#19d3f3\", \"#FF6692\", \"#B6E880\", \"#FF97FF\", \"#FECB52\"], \"font\": {\"color\": \"#2a3f5f\"}, \"geo\": {\"bgcolor\": \"white\", \"lakecolor\": \"white\", \"landcolor\": \"#E5ECF6\", \"showlakes\": true, \"showland\": true, \"subunitcolor\": \"white\"}, \"hoverlabel\": {\"align\": \"left\"}, \"hovermode\": \"closest\", \"mapbox\": {\"style\": \"light\"}, \"paper_bgcolor\": \"white\", \"plot_bgcolor\": \"#E5ECF6\", \"polar\": {\"angularaxis\": {\"gridcolor\": \"white\", \"linecolor\": \"white\", \"ticks\": \"\"}, \"bgcolor\": \"#E5ECF6\", \"radialaxis\": {\"gridcolor\": \"white\", \"linecolor\": \"white\", \"ticks\": \"\"}}, \"scene\": {\"xaxis\": {\"backgroundcolor\": \"#E5ECF6\", \"gridcolor\": \"white\", \"gridwidth\": 2, \"linecolor\": \"white\", \"showbackground\": true, \"ticks\": \"\", \"zerolinecolor\": \"white\"}, \"yaxis\": {\"backgroundcolor\": \"#E5ECF6\", \"gridcolor\": \"white\", \"gridwidth\": 2, \"linecolor\": \"white\", \"showbackground\": true, \"ticks\": \"\", \"zerolinecolor\": \"white\"}, \"zaxis\": {\"backgroundcolor\": \"#E5ECF6\", \"gridcolor\": \"white\", \"gridwidth\": 2, \"linecolor\": \"white\", \"showbackground\": true, \"ticks\": \"\", \"zerolinecolor\": \"white\"}}, \"shapedefaults\": {\"line\": {\"color\": \"#2a3f5f\"}}, \"ternary\": {\"aaxis\": {\"gridcolor\": \"white\", \"linecolor\": \"white\", \"ticks\": \"\"}, \"baxis\": {\"gridcolor\": \"white\", \"linecolor\": \"white\", \"ticks\": \"\"}, \"bgcolor\": \"#E5ECF6\", \"caxis\": {\"gridcolor\": \"white\", \"linecolor\": \"white\", \"ticks\": \"\"}}, \"title\": {\"x\": 0.05}, \"xaxis\": {\"automargin\": true, \"gridcolor\": \"white\", \"linecolor\": \"white\", \"ticks\": \"\", \"title\": {\"standoff\": 15}, \"zerolinecolor\": \"white\", \"zerolinewidth\": 2}, \"yaxis\": {\"automargin\": true, \"gridcolor\": \"white\", \"linecolor\": \"white\", \"ticks\": \"\", \"title\": {\"standoff\": 15}, \"zerolinecolor\": \"white\", \"zerolinewidth\": 2}}}, \"title\": {\"text\": \"Mein Plotly Scatter Plot\"}, \"xaxis\": {\"title\": {\"text\": \"Werte der Axe x\"}}, \"yaxis\": {\"title\": {\"text\": \"Werte der Axe y\"}}},\n",
              "                        {\"responsive\": true}\n",
              "                    ).then(function(){\n",
              "                            \n",
              "var gd = document.getElementById('7509938a-89f6-46f2-97aa-141c16fe193e');\n",
              "var x = new MutationObserver(function (mutations, observer) {{\n",
              "        var display = window.getComputedStyle(gd).display;\n",
              "        if (!display || display === 'none') {{\n",
              "            console.log([gd, 'removed!']);\n",
              "            Plotly.purge(gd);\n",
              "            observer.disconnect();\n",
              "        }}\n",
              "}});\n",
              "\n",
              "// Listen for the removal of the full notebook cells\n",
              "var notebookContainer = gd.closest('#notebook-container');\n",
              "if (notebookContainer) {{\n",
              "    x.observe(notebookContainer, {childList: true});\n",
              "}}\n",
              "\n",
              "// Listen for the clearing of the current output cell\n",
              "var outputEl = gd.closest('.output');\n",
              "if (outputEl) {{\n",
              "    x.observe(outputEl, {childList: true});\n",
              "}}\n",
              "\n",
              "                        })\n",
              "                };\n",
              "                \n",
              "            </script>\n",
              "        </div>\n",
              "</body>\n",
              "</html>"
            ]
          },
          "metadata": {
            "tags": []
          }
        }
      ]
    },
    {
      "cell_type": "markdown",
      "metadata": {
        "id": "VQUNV1tqRsZo",
        "colab_type": "text"
      },
      "source": [
        "### Line Plots ###\n",
        "\n",
        "Wenn es darum geht stetige Daten in eine Zeitreihe aufzuzeigen, dann führt nichts an einem gute Line Plot vorbei."
      ]
    },
    {
      "cell_type": "code",
      "metadata": {
        "id": "7hBAsgP6Y4RI",
        "colab_type": "code",
        "outputId": "0bc076c2-c827-4dac-ea53-7b5c36a88388",
        "colab": {
          "base_uri": "https://localhost:8080/",
          "height": 542
        }
      },
      "source": [
        "import plotly.offline as pyo\n",
        "import plotly.graph_objs as go\n",
        "import numpy as np\n",
        "\n",
        "np.random.seed(56)\n",
        "x_values = np.linspace(0, 1, 100) # 100 evenly spaced values\n",
        "y_values = np.random.randn(100)   # 100 random values\n",
        "\n",
        "# create traces\n",
        "trace0 = go.Scatter(\n",
        "    x = x_values,\n",
        "    y = y_values+5,\n",
        "    mode = 'markers',\n",
        "    name = 'markers'\n",
        ")\n",
        "trace1 = go.Scatter(\n",
        "    x = x_values,\n",
        "    y = y_values,\n",
        "    mode = 'lines+markers',\n",
        "    name = 'lines+markers'\n",
        ")\n",
        "trace2 = go.Scatter(\n",
        "    x = x_values,\n",
        "    y = y_values-5,\n",
        "    mode = 'lines',\n",
        "    name = 'lines'\n",
        ")\n",
        "data = [trace0, trace1, trace2]  # assign traces to data\n",
        "layout = go.Layout(\n",
        "    title = 'Line chart showing three different modes'\n",
        ")\n",
        "fig = go.Figure(data=data,layout=layout)\n",
        "fig.show()"
      ],
      "execution_count": 0,
      "outputs": [
        {
          "output_type": "display_data",
          "data": {
            "text/html": [
              "<html>\n",
              "<head><meta charset=\"utf-8\" /></head>\n",
              "<body>\n",
              "    <div>\n",
              "            <script src=\"https://cdnjs.cloudflare.com/ajax/libs/mathjax/2.7.5/MathJax.js?config=TeX-AMS-MML_SVG\"></script><script type=\"text/javascript\">if (window.MathJax) {MathJax.Hub.Config({SVG: {font: \"STIX-Web\"}});}</script>\n",
              "                <script type=\"text/javascript\">window.PlotlyConfig = {MathJaxConfig: 'local'};</script>\n",
              "        <script src=\"https://cdn.plot.ly/plotly-latest.min.js\"></script>    \n",
              "            <div id=\"b23fcf1d-5773-4e66-9fe6-8119c4a31e9d\" class=\"plotly-graph-div\" style=\"height:525px; width:100%;\"></div>\n",
              "            <script type=\"text/javascript\">\n",
              "                \n",
              "                    window.PLOTLYENV=window.PLOTLYENV || {};\n",
              "                    \n",
              "                if (document.getElementById(\"b23fcf1d-5773-4e66-9fe6-8119c4a31e9d\")) {\n",
              "                    Plotly.newPlot(\n",
              "                        'b23fcf1d-5773-4e66-9fe6-8119c4a31e9d',\n",
              "                        [{\"mode\": \"markers\", \"name\": \"markers\", \"type\": \"scatter\", \"x\": [0.0, 0.010101010101010102, 0.020202020202020204, 0.030303030303030304, 0.04040404040404041, 0.05050505050505051, 0.06060606060606061, 0.07070707070707072, 0.08080808080808081, 0.09090909090909091, 0.10101010101010102, 0.11111111111111112, 0.12121212121212122, 0.13131313131313133, 0.14141414141414144, 0.15151515151515152, 0.16161616161616163, 0.17171717171717174, 0.18181818181818182, 0.19191919191919193, 0.20202020202020204, 0.21212121212121213, 0.22222222222222224, 0.23232323232323235, 0.24242424242424243, 0.25252525252525254, 0.26262626262626265, 0.27272727272727276, 0.2828282828282829, 0.29292929292929293, 0.30303030303030304, 0.31313131313131315, 0.32323232323232326, 0.33333333333333337, 0.3434343434343435, 0.3535353535353536, 0.36363636363636365, 0.37373737373737376, 0.38383838383838387, 0.393939393939394, 0.4040404040404041, 0.4141414141414142, 0.42424242424242425, 0.43434343434343436, 0.4444444444444445, 0.4545454545454546, 0.4646464646464647, 0.4747474747474748, 0.48484848484848486, 0.494949494949495, 0.5050505050505051, 0.5151515151515152, 0.5252525252525253, 0.5353535353535354, 0.5454545454545455, 0.5555555555555556, 0.5656565656565657, 0.5757575757575758, 0.5858585858585859, 0.595959595959596, 0.6060606060606061, 0.6161616161616162, 0.6262626262626263, 0.6363636363636365, 0.6464646464646465, 0.6565656565656566, 0.6666666666666667, 0.6767676767676768, 0.686868686868687, 0.696969696969697, 0.7070707070707072, 0.7171717171717172, 0.7272727272727273, 0.7373737373737375, 0.7474747474747475, 0.7575757575757577, 0.7676767676767677, 0.7777777777777778, 0.787878787878788, 0.797979797979798, 0.8080808080808082, 0.8181818181818182, 0.8282828282828284, 0.8383838383838385, 0.8484848484848485, 0.8585858585858587, 0.8686868686868687, 0.8787878787878789, 0.888888888888889, 0.8989898989898991, 0.9090909090909092, 0.9191919191919192, 0.9292929292929294, 0.9393939393939394, 0.9494949494949496, 0.9595959595959597, 0.9696969696969697, 0.9797979797979799, 0.98989898989899, 1.0], \"y\": [3.9623568244974257, 5.59365815715703, 6.102680622168492, 4.487822268824424, 4.734580140302545, 3.3829939864921883, 4.728485511420428, 5.945554250031659, 4.373007213314565, 4.734052718056487, 5.687293575189152, 7.048456908637855, 4.538441048186675, 5.687847423168455, 6.00812262256532, 4.843491018426125, 5.900077530374725, 6.000471322140927, 5.688374960247316, 3.1189042387372545, 5.859958148933172, 5.92045267748011, 5.270603246468369, 5.027819141649983, 2.8127423886446943, 5.134743775497379, 4.318544353923637, 2.577608938692351, 5.421173751836292, 4.322665354254515, 3.8597855763685898, 5.284615961239685, 4.457758597421851, 5.463519461503606, 4.1383119436689535, 5.8745422712420226, 4.455741457932556, 5.369966062639821, 4.565058772422818, 6.110123049123135, 3.6386332411614033, 4.864486324938091, 4.447977799800293, 4.950470775286345, 5.887307752015507, 6.154646723315321, 5.115766954170989, 3.838479672389576, 4.815368462077817, 5.466984070663726, 2.999014469238763, 3.652241541456256, 4.779371847210642, 4.921033624959668, 4.39215278183303, 3.7542661222313978, 6.629794317758779, 5.177528567116626, 4.328013422053625, 5.331128138937101, 7.006042774550741, 5.0061448421051935, 3.465309390584875, 4.930336576372079, 5.227687821018511, 2.487383266330429, 7.702712505968621, 5.58365058076347, 5.338781748592111, 5.689001408268186, 6.700348675458416, 4.558732757505499, 5.314493800301297, 5.636297587454268, 5.086771378076907, 4.882208369832598, 3.724126565435677, 5.906755961687117, 5.006062617766832, 4.147896360899007, 5.499587436442585, 3.4871907342782507, 7.004290632975638, 6.25882568579033, 6.040154873274862, 6.0513821040268425, 5.971570159583026, 3.413608859269023, 4.489418150856028, 4.121027062594841, 3.8644799238689185, 5.497006777318358, 6.510225865307171, 5.92073363775182, 5.639412012922287, 6.217040385050823, 5.15525235849528, 5.009229263598528, 4.8253182515555215, 5.3738363071150275]}, {\"mode\": \"lines+markers\", \"name\": \"lines+markers\", \"type\": \"scatter\", \"x\": [0.0, 0.010101010101010102, 0.020202020202020204, 0.030303030303030304, 0.04040404040404041, 0.05050505050505051, 0.06060606060606061, 0.07070707070707072, 0.08080808080808081, 0.09090909090909091, 0.10101010101010102, 0.11111111111111112, 0.12121212121212122, 0.13131313131313133, 0.14141414141414144, 0.15151515151515152, 0.16161616161616163, 0.17171717171717174, 0.18181818181818182, 0.19191919191919193, 0.20202020202020204, 0.21212121212121213, 0.22222222222222224, 0.23232323232323235, 0.24242424242424243, 0.25252525252525254, 0.26262626262626265, 0.27272727272727276, 0.2828282828282829, 0.29292929292929293, 0.30303030303030304, 0.31313131313131315, 0.32323232323232326, 0.33333333333333337, 0.3434343434343435, 0.3535353535353536, 0.36363636363636365, 0.37373737373737376, 0.38383838383838387, 0.393939393939394, 0.4040404040404041, 0.4141414141414142, 0.42424242424242425, 0.43434343434343436, 0.4444444444444445, 0.4545454545454546, 0.4646464646464647, 0.4747474747474748, 0.48484848484848486, 0.494949494949495, 0.5050505050505051, 0.5151515151515152, 0.5252525252525253, 0.5353535353535354, 0.5454545454545455, 0.5555555555555556, 0.5656565656565657, 0.5757575757575758, 0.5858585858585859, 0.595959595959596, 0.6060606060606061, 0.6161616161616162, 0.6262626262626263, 0.6363636363636365, 0.6464646464646465, 0.6565656565656566, 0.6666666666666667, 0.6767676767676768, 0.686868686868687, 0.696969696969697, 0.7070707070707072, 0.7171717171717172, 0.7272727272727273, 0.7373737373737375, 0.7474747474747475, 0.7575757575757577, 0.7676767676767677, 0.7777777777777778, 0.787878787878788, 0.797979797979798, 0.8080808080808082, 0.8181818181818182, 0.8282828282828284, 0.8383838383838385, 0.8484848484848485, 0.8585858585858587, 0.8686868686868687, 0.8787878787878789, 0.888888888888889, 0.8989898989898991, 0.9090909090909092, 0.9191919191919192, 0.9292929292929294, 0.9393939393939394, 0.9494949494949496, 0.9595959595959597, 0.9696969696969697, 0.9797979797979799, 0.98989898989899, 1.0], \"y\": [-1.0376431755025746, 0.5936581571570304, 1.102680622168492, -0.5121777311755766, -0.26541985969745524, -1.617006013507812, -0.2715144885795719, 0.9455542500316586, -0.626992786685435, -0.26594728194351275, 0.6872935751891517, 2.0484569086378546, -0.46155895181332507, 0.6878474231684545, 1.00812262256532, -0.15650898157387488, 0.9000775303747252, 1.0004713221409274, 0.6883749602473159, -1.8810957612627452, 0.8599581489331719, 0.9204526774801102, 0.2706032464683683, 0.02781914164998324, -2.1872576113553057, 0.1347437754973787, -0.6814556460763626, -2.422391061307649, 0.4211737518362921, -0.6773346457454847, -1.14021442363141, 0.28461596123968486, -0.542241402578149, 0.4635194615036054, -0.8616880563310468, 0.8745422712420226, -0.5442585420674441, 0.36996606263982135, -0.43494122757718234, 1.1101230491231344, -1.3613667588385965, -0.13551367506190884, -0.5520222001997066, -0.0495292247136558, 0.8873077520155068, 1.1546467233153208, 0.11576695417098896, -1.161520327610424, -0.18463153792218284, 0.4669840706637252, -2.000985530761237, -1.3477584585437443, -0.22062815278935807, -0.07896637504033216, -0.6078472181669707, -1.2457338777686022, 1.6297943177587786, 0.17752856711662585, -0.6719865779463751, 0.33112813893710036, 2.0060427745507408, 0.006144842105193356, -1.5346906094151251, -0.06966342362792169, 0.22768782101851137, -2.512616733669571, 2.702712505968621, 0.5836505807634701, 0.33878174859211124, 0.6890014082681857, 1.700348675458416, -0.441267242494501, 0.31449380030129703, 0.6362975874542686, 0.08677137807690763, -0.11779163016740253, -1.2758734345643228, 0.906755961687117, 0.006062617766832723, -0.8521036391009931, 0.49958743644258546, -1.5128092657217496, 2.0042906329756383, 1.2588256857903302, 1.0401548732748613, 1.0513821040268427, 0.971570159583026, -1.5863911407309772, -0.5105818491439725, -0.8789729374051589, -1.1355200761310813, 0.497006777318358, 1.510225865307171, 0.9207336377518199, 0.6394120129222873, 1.2170403850508231, 0.15525235849527985, 0.009229263598528001, -0.1746817484444784, 0.373836307115027]}, {\"mode\": \"lines\", \"name\": \"lines\", \"type\": \"scatter\", \"x\": [0.0, 0.010101010101010102, 0.020202020202020204, 0.030303030303030304, 0.04040404040404041, 0.05050505050505051, 0.06060606060606061, 0.07070707070707072, 0.08080808080808081, 0.09090909090909091, 0.10101010101010102, 0.11111111111111112, 0.12121212121212122, 0.13131313131313133, 0.14141414141414144, 0.15151515151515152, 0.16161616161616163, 0.17171717171717174, 0.18181818181818182, 0.19191919191919193, 0.20202020202020204, 0.21212121212121213, 0.22222222222222224, 0.23232323232323235, 0.24242424242424243, 0.25252525252525254, 0.26262626262626265, 0.27272727272727276, 0.2828282828282829, 0.29292929292929293, 0.30303030303030304, 0.31313131313131315, 0.32323232323232326, 0.33333333333333337, 0.3434343434343435, 0.3535353535353536, 0.36363636363636365, 0.37373737373737376, 0.38383838383838387, 0.393939393939394, 0.4040404040404041, 0.4141414141414142, 0.42424242424242425, 0.43434343434343436, 0.4444444444444445, 0.4545454545454546, 0.4646464646464647, 0.4747474747474748, 0.48484848484848486, 0.494949494949495, 0.5050505050505051, 0.5151515151515152, 0.5252525252525253, 0.5353535353535354, 0.5454545454545455, 0.5555555555555556, 0.5656565656565657, 0.5757575757575758, 0.5858585858585859, 0.595959595959596, 0.6060606060606061, 0.6161616161616162, 0.6262626262626263, 0.6363636363636365, 0.6464646464646465, 0.6565656565656566, 0.6666666666666667, 0.6767676767676768, 0.686868686868687, 0.696969696969697, 0.7070707070707072, 0.7171717171717172, 0.7272727272727273, 0.7373737373737375, 0.7474747474747475, 0.7575757575757577, 0.7676767676767677, 0.7777777777777778, 0.787878787878788, 0.797979797979798, 0.8080808080808082, 0.8181818181818182, 0.8282828282828284, 0.8383838383838385, 0.8484848484848485, 0.8585858585858587, 0.8686868686868687, 0.8787878787878789, 0.888888888888889, 0.8989898989898991, 0.9090909090909092, 0.9191919191919192, 0.9292929292929294, 0.9393939393939394, 0.9494949494949496, 0.9595959595959597, 0.9696969696969697, 0.9797979797979799, 0.98989898989899, 1.0], \"y\": [-6.037643175502574, -4.40634184284297, -3.897319377831508, -5.512177731175576, -5.265419859697455, -6.617006013507812, -5.271514488579572, -4.054445749968341, -5.626992786685435, -5.265947281943513, -4.312706424810848, -2.9515430913621454, -5.461558951813325, -4.312152576831545, -3.99187737743468, -5.156508981573875, -4.099922469625275, -3.9995286778590726, -4.311625039752684, -6.8810957612627455, -4.140041851066828, -4.07954732251989, -4.729396753531631, -4.972180858350017, -7.187257611355306, -4.865256224502621, -5.681455646076363, -7.422391061307649, -4.578826248163708, -5.677334645745485, -6.14021442363141, -4.715384038760315, -5.542241402578149, -4.536480538496394, -5.8616880563310465, -4.1254577287579774, -5.544258542067444, -4.630033937360179, -5.434941227577182, -3.8898769508768654, -6.361366758838597, -5.135513675061909, -5.552022200199707, -5.049529224713655, -4.112692247984493, -3.845353276684679, -4.884233045829011, -6.161520327610424, -5.184631537922183, -4.533015929336274, -7.000985530761238, -6.347758458543744, -5.220628152789358, -5.078966375040332, -5.60784721816697, -6.245733877768602, -3.370205682241221, -4.822471432883374, -5.671986577946375, -4.668871861062899, -2.9939572254492592, -4.9938551578948065, -6.534690609415125, -5.069663423627921, -4.772312178981489, -7.512616733669571, -2.297287494031379, -4.41634941923653, -4.661218251407889, -4.310998591731814, -3.2996513245415837, -5.441267242494501, -4.685506199698703, -4.363702412545732, -4.913228621923093, -5.117791630167402, -6.275873434564323, -4.093244038312883, -4.993937382233168, -5.852103639100993, -4.500412563557415, -6.512809265721749, -2.9957093670243617, -3.74117431420967, -3.9598451267251384, -3.9486178959731575, -4.028429840416974, -6.586391140730977, -5.510581849143972, -5.878972937405159, -6.1355200761310815, -4.502993222681642, -3.489774134692829, -4.07926636224818, -4.360587987077713, -3.782959614949177, -4.84474764150472, -4.990770736401472, -5.1746817484444785, -4.6261636928849725]}],\n",
              "                        {\"template\": {\"data\": {\"bar\": [{\"error_x\": {\"color\": \"#2a3f5f\"}, \"error_y\": {\"color\": \"#2a3f5f\"}, \"marker\": {\"line\": {\"color\": \"#E5ECF6\", \"width\": 0.5}}, \"type\": \"bar\"}], \"barpolar\": [{\"marker\": {\"line\": {\"color\": \"#E5ECF6\", \"width\": 0.5}}, \"type\": \"barpolar\"}], \"carpet\": [{\"aaxis\": {\"endlinecolor\": \"#2a3f5f\", \"gridcolor\": \"white\", \"linecolor\": \"white\", \"minorgridcolor\": \"white\", \"startlinecolor\": \"#2a3f5f\"}, \"baxis\": {\"endlinecolor\": \"#2a3f5f\", \"gridcolor\": \"white\", \"linecolor\": \"white\", \"minorgridcolor\": \"white\", \"startlinecolor\": \"#2a3f5f\"}, \"type\": \"carpet\"}], \"choropleth\": [{\"colorbar\": {\"outlinewidth\": 0, \"ticks\": \"\"}, \"type\": \"choropleth\"}], \"contour\": [{\"colorbar\": {\"outlinewidth\": 0, \"ticks\": \"\"}, \"colorscale\": [[0.0, \"#0d0887\"], [0.1111111111111111, \"#46039f\"], [0.2222222222222222, \"#7201a8\"], [0.3333333333333333, \"#9c179e\"], [0.4444444444444444, \"#bd3786\"], [0.5555555555555556, \"#d8576b\"], [0.6666666666666666, \"#ed7953\"], [0.7777777777777778, \"#fb9f3a\"], [0.8888888888888888, \"#fdca26\"], [1.0, \"#f0f921\"]], \"type\": \"contour\"}], \"contourcarpet\": [{\"colorbar\": {\"outlinewidth\": 0, \"ticks\": \"\"}, \"type\": \"contourcarpet\"}], \"heatmap\": [{\"colorbar\": {\"outlinewidth\": 0, \"ticks\": \"\"}, \"colorscale\": [[0.0, \"#0d0887\"], [0.1111111111111111, \"#46039f\"], [0.2222222222222222, \"#7201a8\"], [0.3333333333333333, \"#9c179e\"], [0.4444444444444444, \"#bd3786\"], [0.5555555555555556, \"#d8576b\"], [0.6666666666666666, \"#ed7953\"], [0.7777777777777778, \"#fb9f3a\"], [0.8888888888888888, \"#fdca26\"], [1.0, \"#f0f921\"]], \"type\": \"heatmap\"}], \"heatmapgl\": [{\"colorbar\": {\"outlinewidth\": 0, \"ticks\": \"\"}, \"colorscale\": [[0.0, \"#0d0887\"], [0.1111111111111111, \"#46039f\"], [0.2222222222222222, \"#7201a8\"], [0.3333333333333333, \"#9c179e\"], [0.4444444444444444, \"#bd3786\"], [0.5555555555555556, \"#d8576b\"], [0.6666666666666666, \"#ed7953\"], [0.7777777777777778, \"#fb9f3a\"], [0.8888888888888888, \"#fdca26\"], [1.0, \"#f0f921\"]], \"type\": \"heatmapgl\"}], \"histogram\": [{\"marker\": {\"colorbar\": {\"outlinewidth\": 0, \"ticks\": \"\"}}, \"type\": \"histogram\"}], \"histogram2d\": [{\"colorbar\": {\"outlinewidth\": 0, \"ticks\": \"\"}, \"colorscale\": [[0.0, \"#0d0887\"], [0.1111111111111111, \"#46039f\"], [0.2222222222222222, \"#7201a8\"], [0.3333333333333333, \"#9c179e\"], [0.4444444444444444, \"#bd3786\"], [0.5555555555555556, \"#d8576b\"], [0.6666666666666666, \"#ed7953\"], [0.7777777777777778, \"#fb9f3a\"], [0.8888888888888888, \"#fdca26\"], [1.0, \"#f0f921\"]], \"type\": \"histogram2d\"}], \"histogram2dcontour\": [{\"colorbar\": {\"outlinewidth\": 0, \"ticks\": \"\"}, \"colorscale\": [[0.0, \"#0d0887\"], [0.1111111111111111, \"#46039f\"], [0.2222222222222222, \"#7201a8\"], [0.3333333333333333, \"#9c179e\"], [0.4444444444444444, \"#bd3786\"], [0.5555555555555556, \"#d8576b\"], [0.6666666666666666, \"#ed7953\"], [0.7777777777777778, \"#fb9f3a\"], [0.8888888888888888, \"#fdca26\"], [1.0, \"#f0f921\"]], \"type\": \"histogram2dcontour\"}], \"mesh3d\": [{\"colorbar\": {\"outlinewidth\": 0, \"ticks\": \"\"}, \"type\": \"mesh3d\"}], \"parcoords\": [{\"line\": {\"colorbar\": {\"outlinewidth\": 0, \"ticks\": \"\"}}, \"type\": \"parcoords\"}], \"pie\": [{\"automargin\": true, \"type\": \"pie\"}], \"scatter\": [{\"marker\": {\"colorbar\": {\"outlinewidth\": 0, \"ticks\": \"\"}}, \"type\": \"scatter\"}], \"scatter3d\": [{\"line\": {\"colorbar\": {\"outlinewidth\": 0, \"ticks\": \"\"}}, \"marker\": {\"colorbar\": {\"outlinewidth\": 0, \"ticks\": \"\"}}, \"type\": \"scatter3d\"}], \"scattercarpet\": [{\"marker\": {\"colorbar\": {\"outlinewidth\": 0, \"ticks\": \"\"}}, \"type\": \"scattercarpet\"}], \"scattergeo\": [{\"marker\": {\"colorbar\": {\"outlinewidth\": 0, \"ticks\": \"\"}}, \"type\": \"scattergeo\"}], \"scattergl\": [{\"marker\": {\"colorbar\": {\"outlinewidth\": 0, \"ticks\": \"\"}}, \"type\": \"scattergl\"}], \"scattermapbox\": [{\"marker\": {\"colorbar\": {\"outlinewidth\": 0, \"ticks\": \"\"}}, \"type\": \"scattermapbox\"}], \"scatterpolar\": [{\"marker\": {\"colorbar\": {\"outlinewidth\": 0, \"ticks\": \"\"}}, \"type\": \"scatterpolar\"}], \"scatterpolargl\": [{\"marker\": {\"colorbar\": {\"outlinewidth\": 0, \"ticks\": \"\"}}, \"type\": \"scatterpolargl\"}], \"scatterternary\": [{\"marker\": {\"colorbar\": {\"outlinewidth\": 0, \"ticks\": \"\"}}, \"type\": \"scatterternary\"}], \"surface\": [{\"colorbar\": {\"outlinewidth\": 0, \"ticks\": \"\"}, \"colorscale\": [[0.0, \"#0d0887\"], [0.1111111111111111, \"#46039f\"], [0.2222222222222222, \"#7201a8\"], [0.3333333333333333, \"#9c179e\"], [0.4444444444444444, \"#bd3786\"], [0.5555555555555556, \"#d8576b\"], [0.6666666666666666, \"#ed7953\"], [0.7777777777777778, \"#fb9f3a\"], [0.8888888888888888, \"#fdca26\"], [1.0, \"#f0f921\"]], \"type\": \"surface\"}], \"table\": [{\"cells\": {\"fill\": {\"color\": \"#EBF0F8\"}, \"line\": {\"color\": \"white\"}}, \"header\": {\"fill\": {\"color\": \"#C8D4E3\"}, \"line\": {\"color\": \"white\"}}, \"type\": \"table\"}]}, \"layout\": {\"annotationdefaults\": {\"arrowcolor\": \"#2a3f5f\", \"arrowhead\": 0, \"arrowwidth\": 1}, \"coloraxis\": {\"colorbar\": {\"outlinewidth\": 0, \"ticks\": \"\"}}, \"colorscale\": {\"diverging\": [[0, \"#8e0152\"], [0.1, \"#c51b7d\"], [0.2, \"#de77ae\"], [0.3, \"#f1b6da\"], [0.4, \"#fde0ef\"], [0.5, \"#f7f7f7\"], [0.6, \"#e6f5d0\"], [0.7, \"#b8e186\"], [0.8, \"#7fbc41\"], [0.9, \"#4d9221\"], [1, \"#276419\"]], \"sequential\": [[0.0, \"#0d0887\"], [0.1111111111111111, \"#46039f\"], [0.2222222222222222, \"#7201a8\"], [0.3333333333333333, \"#9c179e\"], [0.4444444444444444, \"#bd3786\"], [0.5555555555555556, \"#d8576b\"], [0.6666666666666666, \"#ed7953\"], [0.7777777777777778, \"#fb9f3a\"], [0.8888888888888888, \"#fdca26\"], [1.0, \"#f0f921\"]], \"sequentialminus\": [[0.0, \"#0d0887\"], [0.1111111111111111, \"#46039f\"], [0.2222222222222222, \"#7201a8\"], [0.3333333333333333, \"#9c179e\"], [0.4444444444444444, \"#bd3786\"], [0.5555555555555556, \"#d8576b\"], [0.6666666666666666, \"#ed7953\"], [0.7777777777777778, \"#fb9f3a\"], [0.8888888888888888, \"#fdca26\"], [1.0, \"#f0f921\"]]}, \"colorway\": [\"#636efa\", \"#EF553B\", \"#00cc96\", \"#ab63fa\", \"#FFA15A\", \"#19d3f3\", \"#FF6692\", \"#B6E880\", \"#FF97FF\", \"#FECB52\"], \"font\": {\"color\": \"#2a3f5f\"}, \"geo\": {\"bgcolor\": \"white\", \"lakecolor\": \"white\", \"landcolor\": \"#E5ECF6\", \"showlakes\": true, \"showland\": true, \"subunitcolor\": \"white\"}, \"hoverlabel\": {\"align\": \"left\"}, \"hovermode\": \"closest\", \"mapbox\": {\"style\": \"light\"}, \"paper_bgcolor\": \"white\", \"plot_bgcolor\": \"#E5ECF6\", \"polar\": {\"angularaxis\": {\"gridcolor\": \"white\", \"linecolor\": \"white\", \"ticks\": \"\"}, \"bgcolor\": \"#E5ECF6\", \"radialaxis\": {\"gridcolor\": \"white\", \"linecolor\": \"white\", \"ticks\": \"\"}}, \"scene\": {\"xaxis\": {\"backgroundcolor\": \"#E5ECF6\", \"gridcolor\": \"white\", \"gridwidth\": 2, \"linecolor\": \"white\", \"showbackground\": true, \"ticks\": \"\", \"zerolinecolor\": \"white\"}, \"yaxis\": {\"backgroundcolor\": \"#E5ECF6\", \"gridcolor\": \"white\", \"gridwidth\": 2, \"linecolor\": \"white\", \"showbackground\": true, \"ticks\": \"\", \"zerolinecolor\": \"white\"}, \"zaxis\": {\"backgroundcolor\": \"#E5ECF6\", \"gridcolor\": \"white\", \"gridwidth\": 2, \"linecolor\": \"white\", \"showbackground\": true, \"ticks\": \"\", \"zerolinecolor\": \"white\"}}, \"shapedefaults\": {\"line\": {\"color\": \"#2a3f5f\"}}, \"ternary\": {\"aaxis\": {\"gridcolor\": \"white\", \"linecolor\": \"white\", \"ticks\": \"\"}, \"baxis\": {\"gridcolor\": \"white\", \"linecolor\": \"white\", \"ticks\": \"\"}, \"bgcolor\": \"#E5ECF6\", \"caxis\": {\"gridcolor\": \"white\", \"linecolor\": \"white\", \"ticks\": \"\"}}, \"title\": {\"x\": 0.05}, \"xaxis\": {\"automargin\": true, \"gridcolor\": \"white\", \"linecolor\": \"white\", \"ticks\": \"\", \"title\": {\"standoff\": 15}, \"zerolinecolor\": \"white\", \"zerolinewidth\": 2}, \"yaxis\": {\"automargin\": true, \"gridcolor\": \"white\", \"linecolor\": \"white\", \"ticks\": \"\", \"title\": {\"standoff\": 15}, \"zerolinecolor\": \"white\", \"zerolinewidth\": 2}}}, \"title\": {\"text\": \"Line chart showing three different modes\"}},\n",
              "                        {\"responsive\": true}\n",
              "                    ).then(function(){\n",
              "                            \n",
              "var gd = document.getElementById('b23fcf1d-5773-4e66-9fe6-8119c4a31e9d');\n",
              "var x = new MutationObserver(function (mutations, observer) {{\n",
              "        var display = window.getComputedStyle(gd).display;\n",
              "        if (!display || display === 'none') {{\n",
              "            console.log([gd, 'removed!']);\n",
              "            Plotly.purge(gd);\n",
              "            observer.disconnect();\n",
              "        }}\n",
              "}});\n",
              "\n",
              "// Listen for the removal of the full notebook cells\n",
              "var notebookContainer = gd.closest('#notebook-container');\n",
              "if (notebookContainer) {{\n",
              "    x.observe(notebookContainer, {childList: true});\n",
              "}}\n",
              "\n",
              "// Listen for the clearing of the current output cell\n",
              "var outputEl = gd.closest('.output');\n",
              "if (outputEl) {{\n",
              "    x.observe(outputEl, {childList: true});\n",
              "}}\n",
              "\n",
              "                        })\n",
              "                };\n",
              "                \n",
              "            </script>\n",
              "        </div>\n",
              "</body>\n",
              "</html>"
            ]
          },
          "metadata": {
            "tags": []
          }
        }
      ]
    },
    {
      "cell_type": "markdown",
      "metadata": {
        "id": "DDJCsr2CZCkw",
        "colab_type": "text"
      },
      "source": [
        "Und hier noch ein Line Plot mit richtigen Daten"
      ]
    },
    {
      "cell_type": "code",
      "metadata": {
        "id": "FGO9ONB7RsZp",
        "colab_type": "code",
        "colab": {}
      },
      "source": [
        "import pandas as pd\n",
        "import plotly.offline as pyo\n",
        "import plotly.graph_objs as go\n",
        "\n",
        "# Datenimport \n",
        "\n",
        "datloc = 'https://raw.githubusercontent.com/Pierian-Data/Plotly-Dashboards-with-Dash/master/Data/population.csv'\n",
        "pop = pd.read_csv(datloc)\n",
        "\n",
        "# Um die Selektion einfacher zu gestalten setzten wir den Index neu\n",
        "pop.set_index('Name', inplace=True)\n",
        "\n",
        "data = [go.Scatter(x=pop.columns, \n",
        "                   y=pop.loc[name], \n",
        "                   mode='lines', \n",
        "                   name=name,) for name in pop.index]\n",
        "\n",
        "fig = go.Figure(data=data)\n",
        "\n",
        "fig.show()\n"
      ],
      "execution_count": 0,
      "outputs": []
    },
    {
      "cell_type": "markdown",
      "metadata": {
        "id": "1fArdbTQZ8Lp",
        "colab_type": "text"
      },
      "source": [
        "### Bar Plots ###\n",
        "\n",
        "Möchte man kategorische Daten (x) mit ihren Werten (y) oder mehrere Merkmale auf einer definierten Zeitachse darstellen, dann ist der Bar Plot (Balkendiagramm) ideal dafür. \n"
      ]
    },
    {
      "cell_type": "code",
      "metadata": {
        "id": "svSbx8G2fYPg",
        "colab_type": "code",
        "colab": {}
      },
      "source": [
        "olym"
      ],
      "execution_count": 0,
      "outputs": []
    },
    {
      "cell_type": "code",
      "metadata": {
        "id": "HVhCy_Clay9x",
        "colab_type": "code",
        "outputId": "298e3392-0fe8-47a0-d2f7-deed0f57997b",
        "colab": {
          "base_uri": "https://localhost:8080/",
          "height": 542
        }
      },
      "source": [
        "import pandas as pd\n",
        "import plotly.offline as pyo\n",
        "import plotly.graph_objs as go\n",
        "\n",
        "datloc = 'https://raw.githubusercontent.com/Pierian-Data/Plotly-Dashboards-with-Dash/master/Data/2018WinterOlympics.csv'\n",
        "olym = pd.read_csv(datloc)\n",
        "\n",
        "trace1 = go.Bar(\n",
        "          x=olym['NOC'], \n",
        "          y=olym['Gold'],\n",
        "          name='Gold',\n",
        "          marker={'color':'#FFD700'})\n",
        "\n",
        "trace2 = go.Bar(\n",
        "          x=olym['NOC'], \n",
        "          y=olym['Silver'],\n",
        "          name='Silver',\n",
        "          marker={'color':'#9EA0A1'})\n",
        "\n",
        "trace3 = go.Bar(\n",
        "          x=olym['NOC'], \n",
        "          y=olym['Bronze'],\n",
        "          name='Bronze',\n",
        "          marker={'color':'#CD7F32'})\n",
        "\n",
        "data = [trace1,trace2,trace3]\n",
        "layout = go.Layout(title='Medals',\n",
        "                   barmode='stack') # Mit dieser Zeile erstellen wir eine gestapeltes Bankendiagramm.\n",
        "\n",
        "fig = go.Figure(data=data, layout=layout)\n",
        "fig.show()\n"
      ],
      "execution_count": 0,
      "outputs": [
        {
          "output_type": "display_data",
          "data": {
            "text/html": [
              "<html>\n",
              "<head><meta charset=\"utf-8\" /></head>\n",
              "<body>\n",
              "    <div>\n",
              "            <script src=\"https://cdnjs.cloudflare.com/ajax/libs/mathjax/2.7.5/MathJax.js?config=TeX-AMS-MML_SVG\"></script><script type=\"text/javascript\">if (window.MathJax) {MathJax.Hub.Config({SVG: {font: \"STIX-Web\"}});}</script>\n",
              "                <script type=\"text/javascript\">window.PlotlyConfig = {MathJaxConfig: 'local'};</script>\n",
              "        <script src=\"https://cdn.plot.ly/plotly-latest.min.js\"></script>    \n",
              "            <div id=\"12d4d5d1-756f-4913-9d3d-382ee082aec5\" class=\"plotly-graph-div\" style=\"height:525px; width:100%;\"></div>\n",
              "            <script type=\"text/javascript\">\n",
              "                \n",
              "                    window.PLOTLYENV=window.PLOTLYENV || {};\n",
              "                    \n",
              "                if (document.getElementById(\"12d4d5d1-756f-4913-9d3d-382ee082aec5\")) {\n",
              "                    Plotly.newPlot(\n",
              "                        '12d4d5d1-756f-4913-9d3d-382ee082aec5',\n",
              "                        [{\"marker\": {\"color\": \"#FFD700\"}, \"name\": \"Gold\", \"type\": \"bar\", \"x\": [\"Norway\", \"Germany\", \"Canada\", \"United States\", \"Netherlands\", \"Sweden\", \"Republic of Korea\", \"Switzerland\", \"France\", \"Austria\", \"Japan\", \"Italy\", \"OAR\", \"Czech Republic\", \"Belarus\", \"China\", \"Slovakia\", \"Finland\", \"Great Britain\", \"Poland\", \"Hungary\", \"Ukraine\", \"Australia\", \"Slovenia\", \"Belgium\", \"Spain\", \"New Zealand\", \"Kazakhstan\", \"Latvia\", \"Liechtenstein\"], \"y\": [14, 14, 11, 9, 8, 7, 5, 5, 5, 5, 4, 3, 2, 2, 2, 1, 1, 1, 1, 1, 1, 1, 0, 0, 0, 0, 0, 0, 0, 0]}, {\"marker\": {\"color\": \"#9EA0A1\"}, \"name\": \"Silver\", \"type\": \"bar\", \"x\": [\"Norway\", \"Germany\", \"Canada\", \"United States\", \"Netherlands\", \"Sweden\", \"Republic of Korea\", \"Switzerland\", \"France\", \"Austria\", \"Japan\", \"Italy\", \"OAR\", \"Czech Republic\", \"Belarus\", \"China\", \"Slovakia\", \"Finland\", \"Great Britain\", \"Poland\", \"Hungary\", \"Ukraine\", \"Australia\", \"Slovenia\", \"Belgium\", \"Spain\", \"New Zealand\", \"Kazakhstan\", \"Latvia\", \"Liechtenstein\"], \"y\": [14, 10, 8, 8, 6, 6, 8, 6, 4, 3, 5, 2, 6, 2, 1, 6, 2, 1, 0, 0, 0, 0, 2, 1, 1, 0, 0, 0, 0, 0]}, {\"marker\": {\"color\": \"#CD7F32\"}, \"name\": \"Bronze\", \"type\": \"bar\", \"x\": [\"Norway\", \"Germany\", \"Canada\", \"United States\", \"Netherlands\", \"Sweden\", \"Republic of Korea\", \"Switzerland\", \"France\", \"Austria\", \"Japan\", \"Italy\", \"OAR\", \"Czech Republic\", \"Belarus\", \"China\", \"Slovakia\", \"Finland\", \"Great Britain\", \"Poland\", \"Hungary\", \"Ukraine\", \"Australia\", \"Slovenia\", \"Belgium\", \"Spain\", \"New Zealand\", \"Kazakhstan\", \"Latvia\", \"Liechtenstein\"], \"y\": [11, 7, 10, 6, 6, 1, 4, 4, 6, 6, 4, 5, 9, 3, 0, 2, 0, 4, 4, 1, 0, 0, 1, 1, 0, 2, 2, 1, 1, 1]}],\n",
              "                        {\"barmode\": \"stack\", \"template\": {\"data\": {\"bar\": [{\"error_x\": {\"color\": \"#2a3f5f\"}, \"error_y\": {\"color\": \"#2a3f5f\"}, \"marker\": {\"line\": {\"color\": \"#E5ECF6\", \"width\": 0.5}}, \"type\": \"bar\"}], \"barpolar\": [{\"marker\": {\"line\": {\"color\": \"#E5ECF6\", \"width\": 0.5}}, \"type\": \"barpolar\"}], \"carpet\": [{\"aaxis\": {\"endlinecolor\": \"#2a3f5f\", \"gridcolor\": \"white\", \"linecolor\": \"white\", \"minorgridcolor\": \"white\", \"startlinecolor\": \"#2a3f5f\"}, \"baxis\": {\"endlinecolor\": \"#2a3f5f\", \"gridcolor\": \"white\", \"linecolor\": \"white\", \"minorgridcolor\": \"white\", \"startlinecolor\": \"#2a3f5f\"}, \"type\": \"carpet\"}], \"choropleth\": [{\"colorbar\": {\"outlinewidth\": 0, \"ticks\": \"\"}, \"type\": \"choropleth\"}], \"contour\": [{\"colorbar\": {\"outlinewidth\": 0, \"ticks\": \"\"}, \"colorscale\": [[0.0, \"#0d0887\"], [0.1111111111111111, \"#46039f\"], [0.2222222222222222, \"#7201a8\"], [0.3333333333333333, \"#9c179e\"], [0.4444444444444444, \"#bd3786\"], [0.5555555555555556, \"#d8576b\"], [0.6666666666666666, \"#ed7953\"], [0.7777777777777778, \"#fb9f3a\"], [0.8888888888888888, \"#fdca26\"], [1.0, \"#f0f921\"]], \"type\": \"contour\"}], \"contourcarpet\": [{\"colorbar\": {\"outlinewidth\": 0, \"ticks\": \"\"}, \"type\": \"contourcarpet\"}], \"heatmap\": [{\"colorbar\": {\"outlinewidth\": 0, \"ticks\": \"\"}, \"colorscale\": [[0.0, \"#0d0887\"], [0.1111111111111111, \"#46039f\"], [0.2222222222222222, \"#7201a8\"], [0.3333333333333333, \"#9c179e\"], [0.4444444444444444, \"#bd3786\"], [0.5555555555555556, \"#d8576b\"], [0.6666666666666666, \"#ed7953\"], [0.7777777777777778, \"#fb9f3a\"], [0.8888888888888888, \"#fdca26\"], [1.0, \"#f0f921\"]], \"type\": \"heatmap\"}], \"heatmapgl\": [{\"colorbar\": {\"outlinewidth\": 0, \"ticks\": \"\"}, \"colorscale\": [[0.0, \"#0d0887\"], [0.1111111111111111, \"#46039f\"], [0.2222222222222222, \"#7201a8\"], [0.3333333333333333, \"#9c179e\"], [0.4444444444444444, \"#bd3786\"], [0.5555555555555556, \"#d8576b\"], [0.6666666666666666, \"#ed7953\"], [0.7777777777777778, \"#fb9f3a\"], [0.8888888888888888, \"#fdca26\"], [1.0, \"#f0f921\"]], \"type\": \"heatmapgl\"}], \"histogram\": [{\"marker\": {\"colorbar\": {\"outlinewidth\": 0, \"ticks\": \"\"}}, \"type\": \"histogram\"}], \"histogram2d\": [{\"colorbar\": {\"outlinewidth\": 0, \"ticks\": \"\"}, \"colorscale\": [[0.0, \"#0d0887\"], [0.1111111111111111, \"#46039f\"], [0.2222222222222222, \"#7201a8\"], [0.3333333333333333, \"#9c179e\"], [0.4444444444444444, \"#bd3786\"], [0.5555555555555556, \"#d8576b\"], [0.6666666666666666, \"#ed7953\"], [0.7777777777777778, \"#fb9f3a\"], [0.8888888888888888, \"#fdca26\"], [1.0, \"#f0f921\"]], \"type\": \"histogram2d\"}], \"histogram2dcontour\": [{\"colorbar\": {\"outlinewidth\": 0, \"ticks\": \"\"}, \"colorscale\": [[0.0, \"#0d0887\"], [0.1111111111111111, \"#46039f\"], [0.2222222222222222, \"#7201a8\"], [0.3333333333333333, \"#9c179e\"], [0.4444444444444444, \"#bd3786\"], [0.5555555555555556, \"#d8576b\"], [0.6666666666666666, \"#ed7953\"], [0.7777777777777778, \"#fb9f3a\"], [0.8888888888888888, \"#fdca26\"], [1.0, \"#f0f921\"]], \"type\": \"histogram2dcontour\"}], \"mesh3d\": [{\"colorbar\": {\"outlinewidth\": 0, \"ticks\": \"\"}, \"type\": \"mesh3d\"}], \"parcoords\": [{\"line\": {\"colorbar\": {\"outlinewidth\": 0, \"ticks\": \"\"}}, \"type\": \"parcoords\"}], \"pie\": [{\"automargin\": true, \"type\": \"pie\"}], \"scatter\": [{\"marker\": {\"colorbar\": {\"outlinewidth\": 0, \"ticks\": \"\"}}, \"type\": \"scatter\"}], \"scatter3d\": [{\"line\": {\"colorbar\": {\"outlinewidth\": 0, \"ticks\": \"\"}}, \"marker\": {\"colorbar\": {\"outlinewidth\": 0, \"ticks\": \"\"}}, \"type\": \"scatter3d\"}], \"scattercarpet\": [{\"marker\": {\"colorbar\": {\"outlinewidth\": 0, \"ticks\": \"\"}}, \"type\": \"scattercarpet\"}], \"scattergeo\": [{\"marker\": {\"colorbar\": {\"outlinewidth\": 0, \"ticks\": \"\"}}, \"type\": \"scattergeo\"}], \"scattergl\": [{\"marker\": {\"colorbar\": {\"outlinewidth\": 0, \"ticks\": \"\"}}, \"type\": \"scattergl\"}], \"scattermapbox\": [{\"marker\": {\"colorbar\": {\"outlinewidth\": 0, \"ticks\": \"\"}}, \"type\": \"scattermapbox\"}], \"scatterpolar\": [{\"marker\": {\"colorbar\": {\"outlinewidth\": 0, \"ticks\": \"\"}}, \"type\": \"scatterpolar\"}], \"scatterpolargl\": [{\"marker\": {\"colorbar\": {\"outlinewidth\": 0, \"ticks\": \"\"}}, \"type\": \"scatterpolargl\"}], \"scatterternary\": [{\"marker\": {\"colorbar\": {\"outlinewidth\": 0, \"ticks\": \"\"}}, \"type\": \"scatterternary\"}], \"surface\": [{\"colorbar\": {\"outlinewidth\": 0, \"ticks\": \"\"}, \"colorscale\": [[0.0, \"#0d0887\"], [0.1111111111111111, \"#46039f\"], [0.2222222222222222, \"#7201a8\"], [0.3333333333333333, \"#9c179e\"], [0.4444444444444444, \"#bd3786\"], [0.5555555555555556, \"#d8576b\"], [0.6666666666666666, \"#ed7953\"], [0.7777777777777778, \"#fb9f3a\"], [0.8888888888888888, \"#fdca26\"], [1.0, \"#f0f921\"]], \"type\": \"surface\"}], \"table\": [{\"cells\": {\"fill\": {\"color\": \"#EBF0F8\"}, \"line\": {\"color\": \"white\"}}, \"header\": {\"fill\": {\"color\": \"#C8D4E3\"}, \"line\": {\"color\": \"white\"}}, \"type\": \"table\"}]}, \"layout\": {\"annotationdefaults\": {\"arrowcolor\": \"#2a3f5f\", \"arrowhead\": 0, \"arrowwidth\": 1}, \"coloraxis\": {\"colorbar\": {\"outlinewidth\": 0, \"ticks\": \"\"}}, \"colorscale\": {\"diverging\": [[0, \"#8e0152\"], [0.1, \"#c51b7d\"], [0.2, \"#de77ae\"], [0.3, \"#f1b6da\"], [0.4, \"#fde0ef\"], [0.5, \"#f7f7f7\"], [0.6, \"#e6f5d0\"], [0.7, \"#b8e186\"], [0.8, \"#7fbc41\"], [0.9, \"#4d9221\"], [1, \"#276419\"]], \"sequential\": [[0.0, \"#0d0887\"], [0.1111111111111111, \"#46039f\"], [0.2222222222222222, \"#7201a8\"], [0.3333333333333333, \"#9c179e\"], [0.4444444444444444, \"#bd3786\"], [0.5555555555555556, \"#d8576b\"], [0.6666666666666666, \"#ed7953\"], [0.7777777777777778, \"#fb9f3a\"], [0.8888888888888888, \"#fdca26\"], [1.0, \"#f0f921\"]], \"sequentialminus\": [[0.0, \"#0d0887\"], [0.1111111111111111, \"#46039f\"], [0.2222222222222222, \"#7201a8\"], [0.3333333333333333, \"#9c179e\"], [0.4444444444444444, \"#bd3786\"], [0.5555555555555556, \"#d8576b\"], [0.6666666666666666, \"#ed7953\"], [0.7777777777777778, \"#fb9f3a\"], [0.8888888888888888, \"#fdca26\"], [1.0, \"#f0f921\"]]}, \"colorway\": [\"#636efa\", \"#EF553B\", \"#00cc96\", \"#ab63fa\", \"#FFA15A\", \"#19d3f3\", \"#FF6692\", \"#B6E880\", \"#FF97FF\", \"#FECB52\"], \"font\": {\"color\": \"#2a3f5f\"}, \"geo\": {\"bgcolor\": \"white\", \"lakecolor\": \"white\", \"landcolor\": \"#E5ECF6\", \"showlakes\": true, \"showland\": true, \"subunitcolor\": \"white\"}, \"hoverlabel\": {\"align\": \"left\"}, \"hovermode\": \"closest\", \"mapbox\": {\"style\": \"light\"}, \"paper_bgcolor\": \"white\", \"plot_bgcolor\": \"#E5ECF6\", \"polar\": {\"angularaxis\": {\"gridcolor\": \"white\", \"linecolor\": \"white\", \"ticks\": \"\"}, \"bgcolor\": \"#E5ECF6\", \"radialaxis\": {\"gridcolor\": \"white\", \"linecolor\": \"white\", \"ticks\": \"\"}}, \"scene\": {\"xaxis\": {\"backgroundcolor\": \"#E5ECF6\", \"gridcolor\": \"white\", \"gridwidth\": 2, \"linecolor\": \"white\", \"showbackground\": true, \"ticks\": \"\", \"zerolinecolor\": \"white\"}, \"yaxis\": {\"backgroundcolor\": \"#E5ECF6\", \"gridcolor\": \"white\", \"gridwidth\": 2, \"linecolor\": \"white\", \"showbackground\": true, \"ticks\": \"\", \"zerolinecolor\": \"white\"}, \"zaxis\": {\"backgroundcolor\": \"#E5ECF6\", \"gridcolor\": \"white\", \"gridwidth\": 2, \"linecolor\": \"white\", \"showbackground\": true, \"ticks\": \"\", \"zerolinecolor\": \"white\"}}, \"shapedefaults\": {\"line\": {\"color\": \"#2a3f5f\"}}, \"ternary\": {\"aaxis\": {\"gridcolor\": \"white\", \"linecolor\": \"white\", \"ticks\": \"\"}, \"baxis\": {\"gridcolor\": \"white\", \"linecolor\": \"white\", \"ticks\": \"\"}, \"bgcolor\": \"#E5ECF6\", \"caxis\": {\"gridcolor\": \"white\", \"linecolor\": \"white\", \"ticks\": \"\"}}, \"title\": {\"x\": 0.05}, \"xaxis\": {\"automargin\": true, \"gridcolor\": \"white\", \"linecolor\": \"white\", \"ticks\": \"\", \"title\": {\"standoff\": 15}, \"zerolinecolor\": \"white\", \"zerolinewidth\": 2}, \"yaxis\": {\"automargin\": true, \"gridcolor\": \"white\", \"linecolor\": \"white\", \"ticks\": \"\", \"title\": {\"standoff\": 15}, \"zerolinecolor\": \"white\", \"zerolinewidth\": 2}}}, \"title\": {\"text\": \"Medals\"}},\n",
              "                        {\"responsive\": true}\n",
              "                    ).then(function(){\n",
              "                            \n",
              "var gd = document.getElementById('12d4d5d1-756f-4913-9d3d-382ee082aec5');\n",
              "var x = new MutationObserver(function (mutations, observer) {{\n",
              "        var display = window.getComputedStyle(gd).display;\n",
              "        if (!display || display === 'none') {{\n",
              "            console.log([gd, 'removed!']);\n",
              "            Plotly.purge(gd);\n",
              "            observer.disconnect();\n",
              "        }}\n",
              "}});\n",
              "\n",
              "// Listen for the removal of the full notebook cells\n",
              "var notebookContainer = gd.closest('#notebook-container');\n",
              "if (notebookContainer) {{\n",
              "    x.observe(notebookContainer, {childList: true});\n",
              "}}\n",
              "\n",
              "// Listen for the clearing of the current output cell\n",
              "var outputEl = gd.closest('.output');\n",
              "if (outputEl) {{\n",
              "    x.observe(outputEl, {childList: true});\n",
              "}}\n",
              "\n",
              "                        })\n",
              "                };\n",
              "                \n",
              "            </script>\n",
              "        </div>\n",
              "</body>\n",
              "</html>"
            ]
          },
          "metadata": {
            "tags": []
          }
        }
      ]
    },
    {
      "cell_type": "markdown",
      "metadata": {
        "id": "nl-vH3PukZ67",
        "colab_type": "text"
      },
      "source": [
        "### Bubble Plot ###\n",
        "\n",
        "Ein Bubble Plot (Blasendiagramm) ähnlich wie eine Scatter Plot. Der wesentliche Unterschied dabei ist, dass wir mit der Grösse der Bubbles auch die Werteverhältnisse anzeigen können. Die Bubble Plots waren bei Hans Rosling (bekannter schwedischer Arzt und Statistiker) eine sehr beliebtes Instrument um verschiedenen Datensätze miteinander zu vergleichen.\n"
      ]
    },
    {
      "cell_type": "code",
      "metadata": {
        "id": "B0ze7AGAkJVm",
        "colab_type": "code",
        "outputId": "901ef4f7-a30b-4814-eeff-493c6cd91c11",
        "colab": {
          "base_uri": "https://localhost:8080/",
          "height": 542
        }
      },
      "source": [
        "import pandas as pd\n",
        "import plotly.graph_objs as go\n",
        "import plotly.offline as pyo\n",
        "\n",
        "datloc = 'https://raw.githubusercontent.com/Pierian-Data/Plotly-Dashboards-with-Dash/master/Data/mpg.csv'\n",
        "cars = pd.read_csv(datloc)\n",
        "\n",
        "data = [go.Scatter(\n",
        "        x=cars['horsepower'], \n",
        "        y=round(cars['mpg']*1.6), # Umrechnung Meilen auf Kilometer \n",
        "        text=cars['name'],\n",
        "        mode='markers',\n",
        "        marker=dict(size=round(cars['weight']/200), \n",
        "        color=cars['model_year'],\n",
        "        showscale=True)\n",
        "        )]\n",
        "\n",
        "layout = go.Layout(title='Bubble Plot - Vergleich Kraftstoffverbrauch vs. Pferdestärken',\n",
        "                  xaxis=dict(title='Anzahl Pferdestärken'),\n",
        "                  yaxis=dict(title='Kilometer pro US Gallone'),\n",
        "                  hovermode='y')\n",
        "\n",
        "fig = go.Figure(data=data, layout=layout)\n",
        "fig.show()\n",
        "\n"
      ],
      "execution_count": 0,
      "outputs": [
        {
          "output_type": "display_data",
          "data": {
            "text/html": [
              "<html>\n",
              "<head><meta charset=\"utf-8\" /></head>\n",
              "<body>\n",
              "    <div>\n",
              "            <script src=\"https://cdnjs.cloudflare.com/ajax/libs/mathjax/2.7.5/MathJax.js?config=TeX-AMS-MML_SVG\"></script><script type=\"text/javascript\">if (window.MathJax) {MathJax.Hub.Config({SVG: {font: \"STIX-Web\"}});}</script>\n",
              "                <script type=\"text/javascript\">window.PlotlyConfig = {MathJaxConfig: 'local'};</script>\n",
              "        <script src=\"https://cdn.plot.ly/plotly-latest.min.js\"></script>    \n",
              "            <div id=\"8b9dc279-863b-43b5-aff9-ab3eccf79b3c\" class=\"plotly-graph-div\" style=\"height:525px; width:100%;\"></div>\n",
              "            <script type=\"text/javascript\">\n",
              "                \n",
              "                    window.PLOTLYENV=window.PLOTLYENV || {};\n",
              "                    \n",
              "                if (document.getElementById(\"8b9dc279-863b-43b5-aff9-ab3eccf79b3c\")) {\n",
              "                    Plotly.newPlot(\n",
              "                        '8b9dc279-863b-43b5-aff9-ab3eccf79b3c',\n",
              "                        [{\"marker\": {\"color\": [70, 70, 70, 70, 70, 70, 70, 70, 70, 70, 70, 70, 70, 70, 70, 70, 70, 70, 70, 70, 70, 70, 70, 70, 70, 70, 70, 70, 70, 71, 71, 71, 71, 71, 71, 71, 71, 71, 71, 71, 71, 71, 71, 71, 71, 71, 71, 71, 71, 71, 71, 71, 71, 71, 71, 71, 71, 72, 72, 72, 72, 72, 72, 72, 72, 72, 72, 72, 72, 72, 72, 72, 72, 72, 72, 72, 72, 72, 72, 72, 72, 72, 72, 72, 72, 73, 73, 73, 73, 73, 73, 73, 73, 73, 73, 73, 73, 73, 73, 73, 73, 73, 73, 73, 73, 73, 73, 73, 73, 73, 73, 73, 73, 73, 73, 73, 73, 73, 73, 73, 73, 73, 73, 73, 73, 74, 74, 74, 74, 74, 74, 74, 74, 74, 74, 74, 74, 74, 74, 74, 74, 74, 74, 74, 74, 74, 74, 74, 74, 74, 74, 74, 75, 75, 75, 75, 75, 75, 75, 75, 75, 75, 75, 75, 75, 75, 75, 75, 75, 75, 75, 75, 75, 75, 75, 75, 75, 75, 75, 75, 75, 75, 76, 76, 76, 76, 76, 76, 76, 76, 76, 76, 76, 76, 76, 76, 76, 76, 76, 76, 76, 76, 76, 76, 76, 76, 76, 76, 76, 76, 76, 76, 76, 76, 76, 76, 77, 77, 77, 77, 77, 77, 77, 77, 77, 77, 77, 77, 77, 77, 77, 77, 77, 77, 77, 77, 77, 77, 77, 77, 77, 77, 77, 77, 78, 78, 78, 78, 78, 78, 78, 78, 78, 78, 78, 78, 78, 78, 78, 78, 78, 78, 78, 78, 78, 78, 78, 78, 78, 78, 78, 78, 78, 78, 78, 78, 78, 78, 78, 78, 79, 79, 79, 79, 79, 79, 79, 79, 79, 79, 79, 79, 79, 79, 79, 79, 79, 79, 79, 79, 79, 79, 79, 79, 79, 79, 79, 79, 79, 80, 80, 80, 80, 80, 80, 80, 80, 80, 80, 80, 80, 80, 80, 80, 80, 80, 80, 80, 80, 80, 80, 80, 80, 80, 80, 80, 80, 80, 81, 81, 81, 81, 81, 81, 81, 81, 81, 81, 81, 81, 81, 81, 81, 81, 81, 81, 81, 81, 81, 81, 81, 81, 81, 81, 81, 81, 81, 82, 82, 82, 82, 82, 82, 82, 82, 82, 82, 82, 82, 82, 82, 82, 82, 82, 82, 82, 82, 82, 82, 82, 82, 82, 82, 82, 82, 82, 82, 82], \"showscale\": true, \"size\": [18.0, 18.0, 17.0, 17.0, 17.0, 22.0, 22.0, 22.0, 22.0, 19.0, 18.0, 18.0, 19.0, 15.0, 12.0, 14.0, 14.0, 13.0, 11.0, 9.0, 13.0, 12.0, 12.0, 11.0, 13.0, 23.0, 22.0, 22.0, 24.0, 11.0, 11.0, 11.0, 10.0, 13.0, 17.0, 17.0, 17.0, 16.0, 21.0, 22.0, 21.0, 20.0, 25.0, 24.0, 26.0, 15.0, 12.0, 16.0, 16.0, 11.0, 11.0, 10.0, 10.0, 9.0, 8.0, 9.0, 10.0, 11.0, 11.0, 11.0, 12.0, 11.0, 21.0, 22.0, 21.0, 21.0, 18.0, 23.0, 23.0, 22.0, 22.0, 12.0, 19.0, 20.0, 21.0, 20.0, 15.0, 13.0, 15.0, 11.0, 12.0, 11.0, 13.0, 11.0, 10.0, 20.0, 18.0, 20.0, 20.0, 19.0, 25.0, 22.0, 22.0, 21.0, 24.0, 25.0, 19.0, 16.0, 16.0, 15.0, 15.0, 15.0, 10.0, 25.0, 25.0, 23.0, 22.0, 14.0, 11.0, 12.0, 12.0, 11.0, 12.0, 12.0, 11.0, 20.0, 21.0, 9.0, 11.0, 13.0, 14.0, 17.0, 13.0, 14.0, 18.0, 16.0, 14.0, 15.0, 17.0, 10.0, 12.0, 9.0, 13.0, 19.0, 18.0, 18.0, 21.0, 23.0, 22.0, 23.0, 21.0, 11.0, 10.0, 12.0, 8.0, 10.0, 11.0, 11.0, 11.0, 12.0, 12.0, 10.0, 16.0, 17.0, 17.0, 16.0, 23.0, 22.0, 22.0, 23.0, 20.0, 19.0, 19.0, 19.0, 15.0, 16.0, 16.0, 11.0, 13.0, 15.0, 13.0, 14.0, 11.0, 13.0, 15.0, 10.0, 16.0, 13.0, 15.0, 15.0, 13.0, 9.0, 12.0, 11.0, 13.0, 11.0, 11.0, 21.0, 21.0, 20.0, 21.0, 16.0, 17.0, 15.0, 15.0, 10.0, 11.0, 10.0, 9.0, 18.0, 18.0, 18.0, 16.0, 9.0, 10.0, 11.0, 13.0, 16.0, 20.0, 16.0, 15.0, 19.0, 22.0, 20.0, 19.0, 19.0, 10.0, 11.0, 9.0, 12.0, 10.0, 19.0, 20.0, 21.0, 21.0, 18.0, 17.0, 18.0, 18.0, 21.0, 21.0, 22.0, 22.0, 10.0, 14.0, 11.0, 14.0, 10.0, 10.0, 10.0, 11.0, 14.0, 13.0, 14.0, 10.0, 9.0, 10.0, 10.0, 9.0, 17.0, 19.0, 18.0, 18.0, 16.0, 15.0, 14.0, 17.0, 16.0, 17.0, 15.0, 18.0, 17.0, 17.0, 17.0, 16.0, 20.0, 11.0, 13.0, 12.0, 11.0, 13.0, 14.0, 14.0, 12.0, 14.0, 16.0, 14.0, 17.0, 10.0, 11.0, 16.0, 15.0, 14.0, 16.0, 17.0, 19.0, 19.0, 20.0, 19.0, 22.0, 20.0, 18.0, 20.0, 10.0, 10.0, 10.0, 13.0, 18.0, 20.0, 16.0, 17.0, 11.0, 11.0, 10.0, 11.0, 13.0, 13.0, 14.0, 13.0, 11.0, 10.0, 11.0, 10.0, 13.0, 14.0, 15.0, 17.0, 11.0, 14.0, 13.0, 12.0, 11.0, 11.0, 14.0, 11.0, 10.0, 12.0, 15.0, 16.0, 9.0, 9.0, 11.0, 9.0, 15.0, 12.0, 12.0, 15.0, 11.0, 12.0, 13.0, 13.0, 14.0, 12.0, 9.0, 9.0, 9.0, 10.0, 10.0, 10.0, 10.0, 11.0, 10.0, 12.0, 11.0, 12.0, 11.0, 12.0, 13.0, 13.0, 16.0, 16.0, 14.0, 15.0, 17.0, 19.0, 15.0, 17.0, 13.0, 13.0, 12.0, 13.0, 13.0, 14.0, 14.0, 15.0, 10.0, 10.0, 10.0, 11.0, 11.0, 11.0, 11.0, 11.0, 10.0, 10.0, 10.0, 15.0, 15.0, 13.0, 14.0, 13.0, 12.0, 15.0, 14.0, 11.0, 11.0, 13.0, 14.0]}, \"mode\": \"markers\", \"text\": [\"chevrolet chevelle malibu\", \"buick skylark 320\", \"plymouth satellite\", \"amc rebel sst\", \"ford torino\", \"ford galaxie 500\", \"chevrolet impala\", \"plymouth fury iii\", \"pontiac catalina\", \"amc ambassador dpl\", \"dodge challenger se\", \"plymouth 'cuda 340\", \"chevrolet monte carlo\", \"buick estate wagon (sw)\", \"toyota corona mark ii\", \"plymouth duster\", \"amc hornet\", \"ford maverick\", \"datsun pl510\", \"volkswagen 1131 deluxe sedan\", \"peugeot 504\", \"audi 100 ls\", \"saab 99e\", \"bmw 2002\", \"amc gremlin\", \"ford f250\", \"chevy c20\", \"dodge d200\", \"hi 1200d\", \"datsun pl510\", \"chevrolet vega 2300\", \"toyota corona\", \"ford pinto\", \"amc gremlin\", \"plymouth satellite custom\", \"chevrolet chevelle malibu\", \"ford torino 500\", \"amc matador\", \"chevrolet impala\", \"pontiac catalina brougham\", \"ford galaxie 500\", \"plymouth fury iii\", \"dodge monaco (sw)\", \"ford country squire (sw)\", \"pontiac safari (sw)\", \"amc hornet sportabout (sw)\", \"chevrolet vega (sw)\", \"pontiac firebird\", \"ford mustang\", \"mercury capri 2000\", \"opel 1900\", \"peugeot 304\", \"fiat 124b\", \"toyota corolla 1200\", \"datsun 1200\", \"volkswagen model 111\", \"plymouth cricket\", \"toyota corona hardtop\", \"dodge colt hardtop\", \"volkswagen type 3\", \"chevrolet vega\", \"ford pinto runabout\", \"chevrolet impala\", \"pontiac catalina\", \"plymouth fury iii\", \"ford galaxie 500\", \"amc ambassador sst\", \"mercury marquis\", \"buick lesabre custom\", \"oldsmobile delta 88 royale\", \"chrysler newport royal\", \"mazda rx2 coupe\", \"amc matador (sw)\", \"chevrolet chevelle concours (sw)\", \"ford gran torino (sw)\", \"plymouth satellite custom (sw)\", \"volvo 145e (sw)\", \"volkswagen 411 (sw)\", \"peugeot 504 (sw)\", \"renault 12 (sw)\", \"ford pinto (sw)\", \"datsun 510 (sw)\", \"toyouta corona mark ii (sw)\", \"dodge colt (sw)\", \"toyota corolla 1600 (sw)\", \"buick century 350\", \"amc matador\", \"chevrolet malibu\", \"ford gran torino\", \"dodge coronet custom\", \"mercury marquis brougham\", \"chevrolet caprice classic\", \"ford ltd\", \"plymouth fury gran sedan\", \"chrysler new yorker brougham\", \"buick electra 225 custom\", \"amc ambassador brougham\", \"plymouth valiant\", \"chevrolet nova custom\", \"amc hornet\", \"ford maverick\", \"plymouth duster\", \"volkswagen super beetle\", \"chevrolet impala\", \"ford country\", \"plymouth custom suburb\", \"oldsmobile vista cruiser\", \"amc gremlin\", \"toyota carina\", \"chevrolet vega\", \"datsun 610\", \"maxda rx3\", \"ford pinto\", \"mercury capri v6\", \"fiat 124 sport coupe\", \"chevrolet monte carlo s\", \"pontiac grand prix\", \"fiat 128\", \"opel manta\", \"audi 100ls\", \"volvo 144ea\", \"dodge dart custom\", \"saab 99le\", \"toyota mark ii\", \"oldsmobile omega\", \"plymouth duster\", \"ford maverick\", \"amc hornet\", \"chevrolet nova\", \"datsun b210\", \"ford pinto\", \"toyota corolla 1200\", \"chevrolet vega\", \"chevrolet chevelle malibu classic\", \"amc matador\", \"plymouth satellite sebring\", \"ford gran torino\", \"buick century luxus (sw)\", \"dodge coronet custom (sw)\", \"ford gran torino (sw)\", \"amc matador (sw)\", \"audi fox\", \"volkswagen dasher\", \"opel manta\", \"toyota corona\", \"datsun 710\", \"dodge colt\", \"fiat 128\", \"fiat 124 tc\", \"honda civic\", \"subaru\", \"fiat x1.9\", \"plymouth valiant custom\", \"chevrolet nova\", \"mercury monarch\", \"ford maverick\", \"pontiac catalina\", \"chevrolet bel air\", \"plymouth grand fury\", \"ford ltd\", \"buick century\", \"chevroelt chevelle malibu\", \"amc matador\", \"plymouth fury\", \"buick skyhawk\", \"chevrolet monza 2+2\", \"ford mustang ii\", \"toyota corolla\", \"ford pinto\", \"amc gremlin\", \"pontiac astro\", \"toyota corona\", \"volkswagen dasher\", \"datsun 710\", \"ford pinto\", \"volkswagen rabbit\", \"amc pacer\", \"audi 100ls\", \"peugeot 504\", \"volvo 244dl\", \"saab 99le\", \"honda civic cvcc\", \"fiat 131\", \"opel 1900\", \"capri ii\", \"dodge colt\", \"renault 12tl\", \"chevrolet chevelle malibu classic\", \"dodge coronet brougham\", \"amc matador\", \"ford gran torino\", \"plymouth valiant\", \"chevrolet nova\", \"ford maverick\", \"amc hornet\", \"chevrolet chevette\", \"chevrolet woody\", \"vw rabbit\", \"honda civic\", \"dodge aspen se\", \"ford granada ghia\", \"pontiac ventura sj\", \"amc pacer d/l\", \"volkswagen rabbit\", \"datsun b-210\", \"toyota corolla\", \"ford pinto\", \"volvo 245\", \"plymouth volare premier v8\", \"peugeot 504\", \"toyota mark ii\", \"mercedes-benz 280s\", \"cadillac seville\", \"chevy c10\", \"ford f108\", \"dodge d100\", \"honda accord cvcc\", \"buick opel isuzu deluxe\", \"renault 5 gtl\", \"plymouth arrow gs\", \"datsun f-10 hatchback\", \"chevrolet caprice classic\", \"oldsmobile cutlass supreme\", \"dodge monaco brougham\", \"mercury cougar brougham\", \"chevrolet concours\", \"buick skylark\", \"plymouth volare custom\", \"ford granada\", \"pontiac grand prix lj\", \"chevrolet monte carlo landau\", \"chrysler cordoba\", \"ford thunderbird\", \"volkswagen rabbit custom\", \"pontiac sunbird coupe\", \"toyota corolla liftback\", \"ford mustang ii 2+2\", \"chevrolet chevette\", \"dodge colt m/m\", \"subaru dl\", \"volkswagen dasher\", \"datsun 810\", \"bmw 320i\", \"mazda rx-4\", \"volkswagen rabbit custom diesel\", \"ford fiesta\", \"mazda glc deluxe\", \"datsun b210 gx\", \"honda civic cvcc\", \"oldsmobile cutlass salon brougham\", \"dodge diplomat\", \"mercury monarch ghia\", \"pontiac phoenix lj\", \"chevrolet malibu\", \"ford fairmont (auto)\", \"ford fairmont (man)\", \"plymouth volare\", \"amc concord\", \"buick century special\", \"mercury zephyr\", \"dodge aspen\", \"amc concord d/l\", \"chevrolet monte carlo landau\", \"buick regal sport coupe (turbo)\", \"ford futura\", \"dodge magnum xe\", \"chevrolet chevette\", \"toyota corona\", \"datsun 510\", \"dodge omni\", \"toyota celica gt liftback\", \"plymouth sapporo\", \"oldsmobile starfire sx\", \"datsun 200-sx\", \"audi 5000\", \"volvo 264gl\", \"saab 99gle\", \"peugeot 604sl\", \"volkswagen scirocco\", \"honda accord lx\", \"pontiac lemans v6\", \"mercury zephyr 6\", \"ford fairmont 4\", \"amc concord dl 6\", \"dodge aspen 6\", \"chevrolet caprice classic\", \"ford ltd landau\", \"mercury grand marquis\", \"dodge st. regis\", \"buick estate wagon (sw)\", \"ford country squire (sw)\", \"chevrolet malibu classic (sw)\", \"chrysler lebaron town @ country (sw)\", \"vw rabbit custom\", \"maxda glc deluxe\", \"dodge colt hatchback custom\", \"amc spirit dl\", \"mercedes benz 300d\", \"cadillac eldorado\", \"peugeot 504\", \"oldsmobile cutlass salon brougham\", \"plymouth horizon\", \"plymouth horizon tc3\", \"datsun 210\", \"fiat strada custom\", \"buick skylark limited\", \"chevrolet citation\", \"oldsmobile omega brougham\", \"pontiac phoenix\", \"vw rabbit\", \"toyota corolla tercel\", \"chevrolet chevette\", \"datsun 310\", \"chevrolet citation\", \"ford fairmont\", \"amc concord\", \"dodge aspen\", \"audi 4000\", \"toyota corona liftback\", \"mazda 626\", \"datsun 510 hatchback\", \"toyota corolla\", \"mazda glc\", \"dodge colt\", \"datsun 210\", \"vw rabbit c (diesel)\", \"vw dasher (diesel)\", \"audi 5000s (diesel)\", \"mercedes-benz 240d\", \"honda civic 1500 gl\", \"renault lecar deluxe\", \"subaru dl\", \"vokswagen rabbit\", \"datsun 280-zx\", \"mazda rx-7 gs\", \"triumph tr7 coupe\", \"ford mustang cobra\", \"honda accord\", \"plymouth reliant\", \"buick skylark\", \"dodge aries wagon (sw)\", \"chevrolet citation\", \"plymouth reliant\", \"toyota starlet\", \"plymouth champ\", \"honda civic 1300\", \"subaru\", \"datsun 210 mpg\", \"toyota tercel\", \"mazda glc 4\", \"plymouth horizon 4\", \"ford escort 4w\", \"ford escort 2h\", \"volkswagen jetta\", \"renault 18i\", \"honda prelude\", \"toyota corolla\", \"datsun 200sx\", \"mazda 626\", \"peugeot 505s turbo diesel\", \"volvo diesel\", \"toyota cressida\", \"datsun 810 maxima\", \"buick century\", \"oldsmobile cutlass ls\", \"ford granada gl\", \"chrysler lebaron salon\", \"chevrolet cavalier\", \"chevrolet cavalier wagon\", \"chevrolet cavalier 2-door\", \"pontiac j2000 se hatchback\", \"dodge aries se\", \"pontiac phoenix\", \"ford fairmont futura\", \"amc concord dl\", \"volkswagen rabbit l\", \"mazda glc custom l\", \"mazda glc custom\", \"plymouth horizon miser\", \"mercury lynx l\", \"nissan stanza xe\", \"honda accord\", \"toyota corolla\", \"honda civic\", \"honda civic (auto)\", \"datsun 310 gx\", \"buick century limited\", \"oldsmobile cutlass ciera (diesel)\", \"chrysler lebaron medallion\", \"ford granada l\", \"toyota celica gt\", \"dodge charger 2.2\", \"chevrolet camaro\", \"ford mustang gl\", \"vw pickup\", \"dodge rampage\", \"ford ranger\", \"chevy s-10\"], \"type\": \"scatter\", \"x\": [\"130\", \"165\", \"150\", \"150\", \"140\", \"198\", \"220\", \"215\", \"225\", \"190\", \"170\", \"160\", \"150\", \"225\", \"95\", \"95\", \"97\", \"85\", \"88\", \"46\", \"87\", \"90\", \"95\", \"113\", \"90\", \"215\", \"200\", \"210\", \"193\", \"88\", \"90\", \"95\", \"?\", \"100\", \"105\", \"100\", \"88\", \"100\", \"165\", \"175\", \"153\", \"150\", \"180\", \"170\", \"175\", \"110\", \"72\", \"100\", \"88\", \"86\", \"90\", \"70\", \"76\", \"65\", \"69\", \"60\", \"70\", \"95\", \"80\", \"54\", \"90\", \"86\", \"165\", \"175\", \"150\", \"153\", \"150\", \"208\", \"155\", \"160\", \"190\", \"97\", \"150\", \"130\", \"140\", \"150\", \"112\", \"76\", \"87\", \"69\", \"86\", \"92\", \"97\", \"80\", \"88\", \"175\", \"150\", \"145\", \"137\", \"150\", \"198\", \"150\", \"158\", \"150\", \"215\", \"225\", \"175\", \"105\", \"100\", \"100\", \"88\", \"95\", \"46\", \"150\", \"167\", \"170\", \"180\", \"100\", \"88\", \"72\", \"94\", \"90\", \"85\", \"107\", \"90\", \"145\", \"230\", \"49\", \"75\", \"91\", \"112\", \"150\", \"110\", \"122\", \"180\", \"95\", \"?\", \"100\", \"100\", \"67\", \"80\", \"65\", \"75\", \"100\", \"110\", \"105\", \"140\", \"150\", \"150\", \"140\", \"150\", \"83\", \"67\", \"78\", \"52\", \"61\", \"75\", \"75\", \"75\", \"97\", \"93\", \"67\", \"95\", \"105\", \"72\", \"72\", \"170\", \"145\", \"150\", \"148\", \"110\", \"105\", \"110\", \"95\", \"110\", \"110\", \"129\", \"75\", \"83\", \"100\", \"78\", \"96\", \"71\", \"97\", \"97\", \"70\", \"90\", \"95\", \"88\", \"98\", \"115\", \"53\", \"86\", \"81\", \"92\", \"79\", \"83\", \"140\", \"150\", \"120\", \"152\", \"100\", \"105\", \"81\", \"90\", \"52\", \"60\", \"70\", \"53\", \"100\", \"78\", \"110\", \"95\", \"71\", \"70\", \"75\", \"72\", \"102\", \"150\", \"88\", \"108\", \"120\", \"180\", \"145\", \"130\", \"150\", \"68\", \"80\", \"58\", \"96\", \"70\", \"145\", \"110\", \"145\", \"130\", \"110\", \"105\", \"100\", \"98\", \"180\", \"170\", \"190\", \"149\", \"78\", \"88\", \"75\", \"89\", \"63\", \"83\", \"67\", \"78\", \"97\", \"110\", \"110\", \"48\", \"66\", \"52\", \"70\", \"60\", \"110\", \"140\", \"139\", \"105\", \"95\", \"85\", \"88\", \"100\", \"90\", \"105\", \"85\", \"110\", \"120\", \"145\", \"165\", \"139\", \"140\", \"68\", \"95\", \"97\", \"75\", \"95\", \"105\", \"85\", \"97\", \"103\", \"125\", \"115\", \"133\", \"71\", \"68\", \"115\", \"85\", \"88\", \"90\", \"110\", \"130\", \"129\", \"138\", \"135\", \"155\", \"142\", \"125\", \"150\", \"71\", \"65\", \"80\", \"80\", \"77\", \"125\", \"71\", \"90\", \"70\", \"70\", \"65\", \"69\", \"90\", \"115\", \"115\", \"90\", \"76\", \"60\", \"70\", \"65\", \"90\", \"88\", \"90\", \"90\", \"78\", \"90\", \"75\", \"92\", \"75\", \"65\", \"105\", \"65\", \"48\", \"48\", \"67\", \"67\", \"67\", \"?\", \"67\", \"62\", \"132\", \"100\", \"88\", \"?\", \"72\", \"84\", \"84\", \"92\", \"110\", \"84\", \"58\", \"64\", \"60\", \"67\", \"65\", \"62\", \"68\", \"63\", \"65\", \"65\", \"74\", \"?\", \"75\", \"75\", \"100\", \"74\", \"80\", \"76\", \"116\", \"120\", \"110\", \"105\", \"88\", \"85\", \"88\", \"88\", \"88\", \"85\", \"84\", \"90\", \"92\", \"?\", \"74\", \"68\", \"68\", \"63\", \"70\", \"88\", \"75\", \"70\", \"67\", \"67\", \"67\", \"110\", \"85\", \"92\", \"112\", \"96\", \"84\", \"90\", \"86\", \"52\", \"84\", \"79\", \"82\"], \"y\": [29.0, 24.0, 29.0, 26.0, 27.0, 24.0, 22.0, 22.0, 22.0, 24.0, 24.0, 22.0, 24.0, 22.0, 38.0, 35.0, 29.0, 34.0, 43.0, 42.0, 40.0, 38.0, 40.0, 42.0, 34.0, 16.0, 16.0, 18.0, 14.0, 43.0, 45.0, 40.0, 40.0, 30.0, 26.0, 27.0, 30.0, 29.0, 22.0, 22.0, 22.0, 22.0, 19.0, 21.0, 21.0, 29.0, 35.0, 30.0, 29.0, 37.0, 45.0, 48.0, 48.0, 50.0, 56.0, 43.0, 42.0, 38.0, 40.0, 37.0, 32.0, 34.0, 21.0, 22.0, 24.0, 22.0, 27.0, 18.0, 21.0, 19.0, 21.0, 30.0, 24.0, 21.0, 21.0, 22.0, 29.0, 35.0, 34.0, 42.0, 35.0, 45.0, 37.0, 45.0, 43.0, 21.0, 22.0, 21.0, 22.0, 24.0, 19.0, 21.0, 21.0, 22.0, 21.0, 19.0, 21.0, 29.0, 26.0, 29.0, 29.0, 37.0, 42.0, 18.0, 19.0, 21.0, 19.0, 29.0, 32.0, 34.0, 35.0, 29.0, 30.0, 34.0, 42.0, 24.0, 26.0, 46.0, 38.0, 32.0, 30.0, 24.0, 38.0, 32.0, 18.0, 32.0, 34.0, 30.0, 24.0, 50.0, 42.0, 51.0, 40.0, 26.0, 26.0, 29.0, 26.0, 21.0, 22.0, 22.0, 22.0, 46.0, 42.0, 42.0, 50.0, 51.0, 45.0, 38.0, 42.0, 38.0, 42.0, 50.0, 30.0, 29.0, 24.0, 24.0, 26.0, 24.0, 26.0, 22.0, 27.0, 26.0, 24.0, 29.0, 34.0, 32.0, 21.0, 46.0, 37.0, 32.0, 37.0, 38.0, 40.0, 38.0, 29.0, 46.0, 30.0, 37.0, 37.0, 35.0, 40.0, 53.0, 45.0, 40.0, 40.0, 42.0, 43.0, 28.0, 26.0, 25.0, 23.0, 35.0, 35.0, 38.0, 36.0, 46.0, 39.0, 46.0, 53.0, 32.0, 29.0, 30.0, 28.0, 47.0, 51.0, 45.0, 42.0, 32.0, 21.0, 30.0, 30.0, 26.0, 26.0, 21.0, 21.0, 21.0, 50.0, 48.0, 58.0, 41.0, 54.0, 28.0, 27.0, 25.0, 24.0, 28.0, 33.0, 30.0, 30.0, 26.0, 25.0, 25.0, 26.0, 46.0, 39.0, 42.0, 41.0, 49.0, 54.0, 48.0, 49.0, 35.0, 34.0, 34.0, 69.0, 58.0, 52.0, 63.0, 58.0, 32.0, 31.0, 32.0, 31.0, 33.0, 32.0, 40.0, 33.0, 31.0, 33.0, 33.0, 30.0, 29.0, 31.0, 28.0, 29.0, 28.0, 48.0, 44.0, 44.0, 49.0, 34.0, 37.0, 38.0, 38.0, 32.0, 27.0, 35.0, 26.0, 50.0, 47.0, 34.0, 32.0, 36.0, 32.0, 33.0, 27.0, 28.0, 26.0, 29.0, 27.0, 25.0, 31.0, 30.0, 51.0, 55.0, 57.0, 44.0, 41.0, 37.0, 44.0, 38.0, 55.0, 55.0, 51.0, 60.0, 45.0, 46.0, 43.0, 54.0, 66.0, 61.0, 51.0, 60.0, 45.0, 42.0, 39.0, 31.0, 55.0, 48.0, 50.0, 59.0, 52.0, 75.0, 45.0, 65.0, 71.0, 69.0, 58.0, 48.0, 71.0, 65.0, 54.0, 48.0, 52.0, 38.0, 56.0, 38.0, 52.0, 44.0, 43.0, 41.0, 38.0, 48.0, 63.0, 62.0, 56.0, 52.0, 59.0, 60.0, 55.0, 56.0, 55.0, 48.0, 53.0, 55.0, 54.0, 52.0, 53.0, 51.0, 45.0, 49.0, 41.0, 39.0, 36.0, 43.0, 32.0, 28.0, 45.0, 43.0, 54.0, 50.0, 46.0, 43.0, 38.0, 37.0, 58.0, 59.0, 50.0, 61.0, 58.0, 58.0, 58.0, 54.0, 61.0, 51.0, 61.0, 40.0, 61.0, 42.0, 35.0, 51.0, 58.0, 43.0, 43.0, 70.0, 51.0, 45.0, 50.0]}],\n",
              "                        {\"hovermode\": \"y\", \"template\": {\"data\": {\"bar\": [{\"error_x\": {\"color\": \"#2a3f5f\"}, \"error_y\": {\"color\": \"#2a3f5f\"}, \"marker\": {\"line\": {\"color\": \"#E5ECF6\", \"width\": 0.5}}, \"type\": \"bar\"}], \"barpolar\": [{\"marker\": {\"line\": {\"color\": \"#E5ECF6\", \"width\": 0.5}}, \"type\": \"barpolar\"}], \"carpet\": [{\"aaxis\": {\"endlinecolor\": \"#2a3f5f\", \"gridcolor\": \"white\", \"linecolor\": \"white\", \"minorgridcolor\": \"white\", \"startlinecolor\": \"#2a3f5f\"}, \"baxis\": {\"endlinecolor\": \"#2a3f5f\", \"gridcolor\": \"white\", \"linecolor\": \"white\", \"minorgridcolor\": \"white\", \"startlinecolor\": \"#2a3f5f\"}, \"type\": \"carpet\"}], \"choropleth\": [{\"colorbar\": {\"outlinewidth\": 0, \"ticks\": \"\"}, \"type\": \"choropleth\"}], \"contour\": [{\"colorbar\": {\"outlinewidth\": 0, \"ticks\": \"\"}, \"colorscale\": [[0.0, \"#0d0887\"], [0.1111111111111111, \"#46039f\"], [0.2222222222222222, \"#7201a8\"], [0.3333333333333333, \"#9c179e\"], [0.4444444444444444, \"#bd3786\"], [0.5555555555555556, \"#d8576b\"], [0.6666666666666666, \"#ed7953\"], [0.7777777777777778, \"#fb9f3a\"], [0.8888888888888888, \"#fdca26\"], [1.0, \"#f0f921\"]], \"type\": \"contour\"}], \"contourcarpet\": [{\"colorbar\": {\"outlinewidth\": 0, \"ticks\": \"\"}, \"type\": \"contourcarpet\"}], \"heatmap\": [{\"colorbar\": {\"outlinewidth\": 0, \"ticks\": \"\"}, \"colorscale\": [[0.0, \"#0d0887\"], [0.1111111111111111, \"#46039f\"], [0.2222222222222222, \"#7201a8\"], [0.3333333333333333, \"#9c179e\"], [0.4444444444444444, \"#bd3786\"], [0.5555555555555556, \"#d8576b\"], [0.6666666666666666, \"#ed7953\"], [0.7777777777777778, \"#fb9f3a\"], [0.8888888888888888, \"#fdca26\"], [1.0, \"#f0f921\"]], \"type\": \"heatmap\"}], \"heatmapgl\": [{\"colorbar\": {\"outlinewidth\": 0, \"ticks\": \"\"}, \"colorscale\": [[0.0, \"#0d0887\"], [0.1111111111111111, \"#46039f\"], [0.2222222222222222, \"#7201a8\"], [0.3333333333333333, \"#9c179e\"], [0.4444444444444444, \"#bd3786\"], [0.5555555555555556, \"#d8576b\"], [0.6666666666666666, \"#ed7953\"], [0.7777777777777778, \"#fb9f3a\"], [0.8888888888888888, \"#fdca26\"], [1.0, \"#f0f921\"]], \"type\": \"heatmapgl\"}], \"histogram\": [{\"marker\": {\"colorbar\": {\"outlinewidth\": 0, \"ticks\": \"\"}}, \"type\": \"histogram\"}], \"histogram2d\": [{\"colorbar\": {\"outlinewidth\": 0, \"ticks\": \"\"}, \"colorscale\": [[0.0, \"#0d0887\"], [0.1111111111111111, \"#46039f\"], [0.2222222222222222, \"#7201a8\"], [0.3333333333333333, \"#9c179e\"], [0.4444444444444444, \"#bd3786\"], [0.5555555555555556, \"#d8576b\"], [0.6666666666666666, \"#ed7953\"], [0.7777777777777778, \"#fb9f3a\"], [0.8888888888888888, \"#fdca26\"], [1.0, \"#f0f921\"]], \"type\": \"histogram2d\"}], \"histogram2dcontour\": [{\"colorbar\": {\"outlinewidth\": 0, \"ticks\": \"\"}, \"colorscale\": [[0.0, \"#0d0887\"], [0.1111111111111111, \"#46039f\"], [0.2222222222222222, \"#7201a8\"], [0.3333333333333333, \"#9c179e\"], [0.4444444444444444, \"#bd3786\"], [0.5555555555555556, \"#d8576b\"], [0.6666666666666666, \"#ed7953\"], [0.7777777777777778, \"#fb9f3a\"], [0.8888888888888888, \"#fdca26\"], [1.0, \"#f0f921\"]], \"type\": \"histogram2dcontour\"}], \"mesh3d\": [{\"colorbar\": {\"outlinewidth\": 0, \"ticks\": \"\"}, \"type\": \"mesh3d\"}], \"parcoords\": [{\"line\": {\"colorbar\": {\"outlinewidth\": 0, \"ticks\": \"\"}}, \"type\": \"parcoords\"}], \"pie\": [{\"automargin\": true, \"type\": \"pie\"}], \"scatter\": [{\"marker\": {\"colorbar\": {\"outlinewidth\": 0, \"ticks\": \"\"}}, \"type\": \"scatter\"}], \"scatter3d\": [{\"line\": {\"colorbar\": {\"outlinewidth\": 0, \"ticks\": \"\"}}, \"marker\": {\"colorbar\": {\"outlinewidth\": 0, \"ticks\": \"\"}}, \"type\": \"scatter3d\"}], \"scattercarpet\": [{\"marker\": {\"colorbar\": {\"outlinewidth\": 0, \"ticks\": \"\"}}, \"type\": \"scattercarpet\"}], \"scattergeo\": [{\"marker\": {\"colorbar\": {\"outlinewidth\": 0, \"ticks\": \"\"}}, \"type\": \"scattergeo\"}], \"scattergl\": [{\"marker\": {\"colorbar\": {\"outlinewidth\": 0, \"ticks\": \"\"}}, \"type\": \"scattergl\"}], \"scattermapbox\": [{\"marker\": {\"colorbar\": {\"outlinewidth\": 0, \"ticks\": \"\"}}, \"type\": \"scattermapbox\"}], \"scatterpolar\": [{\"marker\": {\"colorbar\": {\"outlinewidth\": 0, \"ticks\": \"\"}}, \"type\": \"scatterpolar\"}], \"scatterpolargl\": [{\"marker\": {\"colorbar\": {\"outlinewidth\": 0, \"ticks\": \"\"}}, \"type\": \"scatterpolargl\"}], \"scatterternary\": [{\"marker\": {\"colorbar\": {\"outlinewidth\": 0, \"ticks\": \"\"}}, \"type\": \"scatterternary\"}], \"surface\": [{\"colorbar\": {\"outlinewidth\": 0, \"ticks\": \"\"}, \"colorscale\": [[0.0, \"#0d0887\"], [0.1111111111111111, \"#46039f\"], [0.2222222222222222, \"#7201a8\"], [0.3333333333333333, \"#9c179e\"], [0.4444444444444444, \"#bd3786\"], [0.5555555555555556, \"#d8576b\"], [0.6666666666666666, \"#ed7953\"], [0.7777777777777778, \"#fb9f3a\"], [0.8888888888888888, \"#fdca26\"], [1.0, \"#f0f921\"]], \"type\": \"surface\"}], \"table\": [{\"cells\": {\"fill\": {\"color\": \"#EBF0F8\"}, \"line\": {\"color\": \"white\"}}, \"header\": {\"fill\": {\"color\": \"#C8D4E3\"}, \"line\": {\"color\": \"white\"}}, \"type\": \"table\"}]}, \"layout\": {\"annotationdefaults\": {\"arrowcolor\": \"#2a3f5f\", \"arrowhead\": 0, \"arrowwidth\": 1}, \"coloraxis\": {\"colorbar\": {\"outlinewidth\": 0, \"ticks\": \"\"}}, \"colorscale\": {\"diverging\": [[0, \"#8e0152\"], [0.1, \"#c51b7d\"], [0.2, \"#de77ae\"], [0.3, \"#f1b6da\"], [0.4, \"#fde0ef\"], [0.5, \"#f7f7f7\"], [0.6, \"#e6f5d0\"], [0.7, \"#b8e186\"], [0.8, \"#7fbc41\"], [0.9, \"#4d9221\"], [1, \"#276419\"]], \"sequential\": [[0.0, \"#0d0887\"], [0.1111111111111111, \"#46039f\"], [0.2222222222222222, \"#7201a8\"], [0.3333333333333333, \"#9c179e\"], [0.4444444444444444, \"#bd3786\"], [0.5555555555555556, \"#d8576b\"], [0.6666666666666666, \"#ed7953\"], [0.7777777777777778, \"#fb9f3a\"], [0.8888888888888888, \"#fdca26\"], [1.0, \"#f0f921\"]], \"sequentialminus\": [[0.0, \"#0d0887\"], [0.1111111111111111, \"#46039f\"], [0.2222222222222222, \"#7201a8\"], [0.3333333333333333, \"#9c179e\"], [0.4444444444444444, \"#bd3786\"], [0.5555555555555556, \"#d8576b\"], [0.6666666666666666, \"#ed7953\"], [0.7777777777777778, \"#fb9f3a\"], [0.8888888888888888, \"#fdca26\"], [1.0, \"#f0f921\"]]}, \"colorway\": [\"#636efa\", \"#EF553B\", \"#00cc96\", \"#ab63fa\", \"#FFA15A\", \"#19d3f3\", \"#FF6692\", \"#B6E880\", \"#FF97FF\", \"#FECB52\"], \"font\": {\"color\": \"#2a3f5f\"}, \"geo\": {\"bgcolor\": \"white\", \"lakecolor\": \"white\", \"landcolor\": \"#E5ECF6\", \"showlakes\": true, \"showland\": true, \"subunitcolor\": \"white\"}, \"hoverlabel\": {\"align\": \"left\"}, \"hovermode\": \"closest\", \"mapbox\": {\"style\": \"light\"}, \"paper_bgcolor\": \"white\", \"plot_bgcolor\": \"#E5ECF6\", \"polar\": {\"angularaxis\": {\"gridcolor\": \"white\", \"linecolor\": \"white\", \"ticks\": \"\"}, \"bgcolor\": \"#E5ECF6\", \"radialaxis\": {\"gridcolor\": \"white\", \"linecolor\": \"white\", \"ticks\": \"\"}}, \"scene\": {\"xaxis\": {\"backgroundcolor\": \"#E5ECF6\", \"gridcolor\": \"white\", \"gridwidth\": 2, \"linecolor\": \"white\", \"showbackground\": true, \"ticks\": \"\", \"zerolinecolor\": \"white\"}, \"yaxis\": {\"backgroundcolor\": \"#E5ECF6\", \"gridcolor\": \"white\", \"gridwidth\": 2, \"linecolor\": \"white\", \"showbackground\": true, \"ticks\": \"\", \"zerolinecolor\": \"white\"}, \"zaxis\": {\"backgroundcolor\": \"#E5ECF6\", \"gridcolor\": \"white\", \"gridwidth\": 2, \"linecolor\": \"white\", \"showbackground\": true, \"ticks\": \"\", \"zerolinecolor\": \"white\"}}, \"shapedefaults\": {\"line\": {\"color\": \"#2a3f5f\"}}, \"ternary\": {\"aaxis\": {\"gridcolor\": \"white\", \"linecolor\": \"white\", \"ticks\": \"\"}, \"baxis\": {\"gridcolor\": \"white\", \"linecolor\": \"white\", \"ticks\": \"\"}, \"bgcolor\": \"#E5ECF6\", \"caxis\": {\"gridcolor\": \"white\", \"linecolor\": \"white\", \"ticks\": \"\"}}, \"title\": {\"x\": 0.05}, \"xaxis\": {\"automargin\": true, \"gridcolor\": \"white\", \"linecolor\": \"white\", \"ticks\": \"\", \"title\": {\"standoff\": 15}, \"zerolinecolor\": \"white\", \"zerolinewidth\": 2}, \"yaxis\": {\"automargin\": true, \"gridcolor\": \"white\", \"linecolor\": \"white\", \"ticks\": \"\", \"title\": {\"standoff\": 15}, \"zerolinecolor\": \"white\", \"zerolinewidth\": 2}}}, \"title\": {\"text\": \"Bubble Plot - Vergleich Kraftstoffverbrauch vs. Pferdest\\u00e4rken\"}, \"xaxis\": {\"title\": {\"text\": \"Anzahl Pferdest\\u00e4rken\"}}, \"yaxis\": {\"title\": {\"text\": \"Kilometer pro US Gallone\"}}},\n",
              "                        {\"responsive\": true}\n",
              "                    ).then(function(){\n",
              "                            \n",
              "var gd = document.getElementById('8b9dc279-863b-43b5-aff9-ab3eccf79b3c');\n",
              "var x = new MutationObserver(function (mutations, observer) {{\n",
              "        var display = window.getComputedStyle(gd).display;\n",
              "        if (!display || display === 'none') {{\n",
              "            console.log([gd, 'removed!']);\n",
              "            Plotly.purge(gd);\n",
              "            observer.disconnect();\n",
              "        }}\n",
              "}});\n",
              "\n",
              "// Listen for the removal of the full notebook cells\n",
              "var notebookContainer = gd.closest('#notebook-container');\n",
              "if (notebookContainer) {{\n",
              "    x.observe(notebookContainer, {childList: true});\n",
              "}}\n",
              "\n",
              "// Listen for the clearing of the current output cell\n",
              "var outputEl = gd.closest('.output');\n",
              "if (outputEl) {{\n",
              "    x.observe(outputEl, {childList: true});\n",
              "}}\n",
              "\n",
              "                        })\n",
              "                };\n",
              "                \n",
              "            </script>\n",
              "        </div>\n",
              "</body>\n",
              "</html>"
            ]
          },
          "metadata": {
            "tags": []
          }
        }
      ]
    },
    {
      "cell_type": "markdown",
      "metadata": {
        "id": "BDCd47IaXDFt",
        "colab_type": "text"
      },
      "source": [
        "### Box Plots ###\n",
        "\n",
        "Box Plots werden dazu verwendet um Quartile abzubilden bzw. robuste Lage- und Streuungsmasse zusammenzufassen. Quartile zeigen das prozentuale Verhältnis von Daten in vier Abschnitte, wobei das 50% Quartile der Median darstellt. Box Plots lassen somit Aussagen wie bspw. die Anzahl der Prüfergebnisse mit der Note 6 liegen unter 25% folglich machen alle Noten die schlechter sind als die Note 6 75% der Prüfresultat aus.\n",
        "\n",
        "<img src='https://github.com/sakuronohana/my_datascience/blob/master/doc_images/boxplot.jpg?raw=1' width='600'>\n",
        "\n",
        "Quelle: [DWH Wiki - Boxplot](http://de.dwhwiki.info/charting/boxplot) "
      ]
    },
    {
      "cell_type": "code",
      "metadata": {
        "id": "EVbq9wYwY2zH",
        "colab_type": "code",
        "outputId": "a6b9dc1a-2949-491f-b273-a651d1172931",
        "colab": {
          "base_uri": "https://localhost:8080/",
          "height": 542
        }
      },
      "source": [
        "import pandas as pd\n",
        "import plotly.graph_objs as go\n",
        "\n",
        "datloc = 'https://raw.githubusercontent.com/Pierian-Data/Plotly-Dashboards-with-Dash/master/Data/mpg.csv'\n",
        "cars = pd.DataFrame(pd.read_csv(datloc))\n",
        "\n",
        "cars['horsepower'] = round(pd.to_numeric(cars['horsepower'],errors='coerce'))\n",
        "y1 = cars[cars['name'].str.contains('ford')]\n",
        "y2 = cars[cars['name'].str.contains('toyota')]\n",
        "y3 = cars[cars['name'].str.contains('chev')]\n",
        "\n",
        "data = [go.Box(y=y1['horsepower'],\n",
        "               name='Ford',\n",
        "               boxpoints='outliers', # Zeigt alle Datenpunkte oder nur Ausreisser\n",
        "               jitter=0.3, # Gibt die Dichte der Streuung der Datenpunkte an\n",
        "               pointpos=0 #Schiebt die Positon der Datenpunkte -2 ist ganz links\n",
        "               ),\n",
        "        go.Box(y=y2['horsepower'],\n",
        "               name='Toyota',\n",
        "               boxpoints='outliers', # Zeigt alle Datenpunkte oder nur Ausreisser\n",
        "               jitter=0.3, # Gibt die Dichte der Streuung der Datenpunkte an\n",
        "               pointpos=0 #Schiebt die Positon der Datenpunkte -2 ist ganz links\n",
        "               ),\n",
        "          go.Box(y=y3['horsepower'],\n",
        "               name='Chevrolet',\n",
        "               boxpoints='outliers', # Zeigt alle Datenpunkte oder nur Ausreisser\n",
        "               jitter=0.3, # Gibt die Dichte der Streuung der Datenpunkte an\n",
        "               pointpos=0 #Schiebt die Positon der Datenpunkte -2 ist ganz links\n",
        "               )]\n",
        "\n",
        "layout = go.Layout(\n",
        "          title='Boxplot - Auto Pferdestärken (PS)', \n",
        "          yaxis=dict(title='Pferdestärken'))\n",
        "\n",
        "fig = go.Figure(data=data, layout=layout)\n",
        "\n",
        "fig.show()\n"
      ],
      "execution_count": 0,
      "outputs": [
        {
          "output_type": "display_data",
          "data": {
            "text/html": [
              "<html>\n",
              "<head><meta charset=\"utf-8\" /></head>\n",
              "<body>\n",
              "    <div>\n",
              "            <script src=\"https://cdnjs.cloudflare.com/ajax/libs/mathjax/2.7.5/MathJax.js?config=TeX-AMS-MML_SVG\"></script><script type=\"text/javascript\">if (window.MathJax) {MathJax.Hub.Config({SVG: {font: \"STIX-Web\"}});}</script>\n",
              "                <script type=\"text/javascript\">window.PlotlyConfig = {MathJaxConfig: 'local'};</script>\n",
              "        <script src=\"https://cdn.plot.ly/plotly-latest.min.js\"></script>    \n",
              "            <div id=\"2892e1ca-7737-49b0-a359-ae1ae3bbeb3b\" class=\"plotly-graph-div\" style=\"height:525px; width:100%;\"></div>\n",
              "            <script type=\"text/javascript\">\n",
              "                \n",
              "                    window.PLOTLYENV=window.PLOTLYENV || {};\n",
              "                    \n",
              "                if (document.getElementById(\"2892e1ca-7737-49b0-a359-ae1ae3bbeb3b\")) {\n",
              "                    Plotly.newPlot(\n",
              "                        '2892e1ca-7737-49b0-a359-ae1ae3bbeb3b',\n",
              "                        [{\"boxpoints\": \"outliers\", \"jitter\": 0.3, \"name\": \"Ford\", \"pointpos\": 0, \"type\": \"box\", \"y\": [140.0, 198.0, 85.0, 215.0, null, 88.0, 153.0, 170.0, 88.0, 86.0, 153.0, 140.0, 86.0, 137.0, 158.0, 88.0, 167.0, 85.0, null, 80.0, 140.0, 140.0, 72.0, 148.0, 129.0, 83.0, 97.0, 152.0, 81.0, 78.0, 72.0, 130.0, 98.0, 149.0, 89.0, 66.0, 85.0, 88.0, 139.0, 88.0, 129.0, 142.0, 88.0, null, 65.0, 65.0, 88.0, 92.0, 112.0, 86.0, 79.0]}, {\"boxpoints\": \"outliers\", \"jitter\": 0.3, \"name\": \"Toyota\", \"pointpos\": 0, \"type\": \"box\", \"y\": [95.0, 95.0, 65.0, 95.0, 88.0, 88.0, 122.0, 65.0, 52.0, 75.0, 96.0, 75.0, 108.0, 75.0, 95.0, 95.0, 60.0, 90.0, 75.0, 58.0, 62.0, 75.0, 116.0, 70.0, 96.0]}, {\"boxpoints\": \"outliers\", \"jitter\": 0.3, \"name\": \"Chevrolet\", \"pointpos\": 0, \"type\": \"box\", \"y\": [130.0, 220.0, 150.0, 200.0, 90.0, 100.0, 165.0, 72.0, 90.0, 165.0, 130.0, 145.0, 150.0, 100.0, 150.0, 72.0, 145.0, 100.0, 75.0, 100.0, 105.0, 145.0, 105.0, 110.0, 140.0, 105.0, 52.0, 60.0, 145.0, 145.0, 110.0, 170.0, 63.0, 95.0, 145.0, 68.0, 130.0, 125.0, 115.0, 70.0, 90.0, 110.0, 88.0, 88.0, 88.0, 90.0, 82.0]}],\n",
              "                        {\"template\": {\"data\": {\"bar\": [{\"error_x\": {\"color\": \"#2a3f5f\"}, \"error_y\": {\"color\": \"#2a3f5f\"}, \"marker\": {\"line\": {\"color\": \"#E5ECF6\", \"width\": 0.5}}, \"type\": \"bar\"}], \"barpolar\": [{\"marker\": {\"line\": {\"color\": \"#E5ECF6\", \"width\": 0.5}}, \"type\": \"barpolar\"}], \"carpet\": [{\"aaxis\": {\"endlinecolor\": \"#2a3f5f\", \"gridcolor\": \"white\", \"linecolor\": \"white\", \"minorgridcolor\": \"white\", \"startlinecolor\": \"#2a3f5f\"}, \"baxis\": {\"endlinecolor\": \"#2a3f5f\", \"gridcolor\": \"white\", \"linecolor\": \"white\", \"minorgridcolor\": \"white\", \"startlinecolor\": \"#2a3f5f\"}, \"type\": \"carpet\"}], \"choropleth\": [{\"colorbar\": {\"outlinewidth\": 0, \"ticks\": \"\"}, \"type\": \"choropleth\"}], \"contour\": [{\"colorbar\": {\"outlinewidth\": 0, \"ticks\": \"\"}, \"colorscale\": [[0.0, \"#0d0887\"], [0.1111111111111111, \"#46039f\"], [0.2222222222222222, \"#7201a8\"], [0.3333333333333333, \"#9c179e\"], [0.4444444444444444, \"#bd3786\"], [0.5555555555555556, \"#d8576b\"], [0.6666666666666666, \"#ed7953\"], [0.7777777777777778, \"#fb9f3a\"], [0.8888888888888888, \"#fdca26\"], [1.0, \"#f0f921\"]], \"type\": \"contour\"}], \"contourcarpet\": [{\"colorbar\": {\"outlinewidth\": 0, \"ticks\": \"\"}, \"type\": \"contourcarpet\"}], \"heatmap\": [{\"colorbar\": {\"outlinewidth\": 0, \"ticks\": \"\"}, \"colorscale\": [[0.0, \"#0d0887\"], [0.1111111111111111, \"#46039f\"], [0.2222222222222222, \"#7201a8\"], [0.3333333333333333, \"#9c179e\"], [0.4444444444444444, \"#bd3786\"], [0.5555555555555556, \"#d8576b\"], [0.6666666666666666, \"#ed7953\"], [0.7777777777777778, \"#fb9f3a\"], [0.8888888888888888, \"#fdca26\"], [1.0, \"#f0f921\"]], \"type\": \"heatmap\"}], \"heatmapgl\": [{\"colorbar\": {\"outlinewidth\": 0, \"ticks\": \"\"}, \"colorscale\": [[0.0, \"#0d0887\"], [0.1111111111111111, \"#46039f\"], [0.2222222222222222, \"#7201a8\"], [0.3333333333333333, \"#9c179e\"], [0.4444444444444444, \"#bd3786\"], [0.5555555555555556, \"#d8576b\"], [0.6666666666666666, \"#ed7953\"], [0.7777777777777778, \"#fb9f3a\"], [0.8888888888888888, \"#fdca26\"], [1.0, \"#f0f921\"]], \"type\": \"heatmapgl\"}], \"histogram\": [{\"marker\": {\"colorbar\": {\"outlinewidth\": 0, \"ticks\": \"\"}}, \"type\": \"histogram\"}], \"histogram2d\": [{\"colorbar\": {\"outlinewidth\": 0, \"ticks\": \"\"}, \"colorscale\": [[0.0, \"#0d0887\"], [0.1111111111111111, \"#46039f\"], [0.2222222222222222, \"#7201a8\"], [0.3333333333333333, \"#9c179e\"], [0.4444444444444444, \"#bd3786\"], [0.5555555555555556, \"#d8576b\"], [0.6666666666666666, \"#ed7953\"], [0.7777777777777778, \"#fb9f3a\"], [0.8888888888888888, \"#fdca26\"], [1.0, \"#f0f921\"]], \"type\": \"histogram2d\"}], \"histogram2dcontour\": [{\"colorbar\": {\"outlinewidth\": 0, \"ticks\": \"\"}, \"colorscale\": [[0.0, \"#0d0887\"], [0.1111111111111111, \"#46039f\"], [0.2222222222222222, \"#7201a8\"], [0.3333333333333333, \"#9c179e\"], [0.4444444444444444, \"#bd3786\"], [0.5555555555555556, \"#d8576b\"], [0.6666666666666666, \"#ed7953\"], [0.7777777777777778, \"#fb9f3a\"], [0.8888888888888888, \"#fdca26\"], [1.0, \"#f0f921\"]], \"type\": \"histogram2dcontour\"}], \"mesh3d\": [{\"colorbar\": {\"outlinewidth\": 0, \"ticks\": \"\"}, \"type\": \"mesh3d\"}], \"parcoords\": [{\"line\": {\"colorbar\": {\"outlinewidth\": 0, \"ticks\": \"\"}}, \"type\": \"parcoords\"}], \"pie\": [{\"automargin\": true, \"type\": \"pie\"}], \"scatter\": [{\"marker\": {\"colorbar\": {\"outlinewidth\": 0, \"ticks\": \"\"}}, \"type\": \"scatter\"}], \"scatter3d\": [{\"line\": {\"colorbar\": {\"outlinewidth\": 0, \"ticks\": \"\"}}, \"marker\": {\"colorbar\": {\"outlinewidth\": 0, \"ticks\": \"\"}}, \"type\": \"scatter3d\"}], \"scattercarpet\": [{\"marker\": {\"colorbar\": {\"outlinewidth\": 0, \"ticks\": \"\"}}, \"type\": \"scattercarpet\"}], \"scattergeo\": [{\"marker\": {\"colorbar\": {\"outlinewidth\": 0, \"ticks\": \"\"}}, \"type\": \"scattergeo\"}], \"scattergl\": [{\"marker\": {\"colorbar\": {\"outlinewidth\": 0, \"ticks\": \"\"}}, \"type\": \"scattergl\"}], \"scattermapbox\": [{\"marker\": {\"colorbar\": {\"outlinewidth\": 0, \"ticks\": \"\"}}, \"type\": \"scattermapbox\"}], \"scatterpolar\": [{\"marker\": {\"colorbar\": {\"outlinewidth\": 0, \"ticks\": \"\"}}, \"type\": \"scatterpolar\"}], \"scatterpolargl\": [{\"marker\": {\"colorbar\": {\"outlinewidth\": 0, \"ticks\": \"\"}}, \"type\": \"scatterpolargl\"}], \"scatterternary\": [{\"marker\": {\"colorbar\": {\"outlinewidth\": 0, \"ticks\": \"\"}}, \"type\": \"scatterternary\"}], \"surface\": [{\"colorbar\": {\"outlinewidth\": 0, \"ticks\": \"\"}, \"colorscale\": [[0.0, \"#0d0887\"], [0.1111111111111111, \"#46039f\"], [0.2222222222222222, \"#7201a8\"], [0.3333333333333333, \"#9c179e\"], [0.4444444444444444, \"#bd3786\"], [0.5555555555555556, \"#d8576b\"], [0.6666666666666666, \"#ed7953\"], [0.7777777777777778, \"#fb9f3a\"], [0.8888888888888888, \"#fdca26\"], [1.0, \"#f0f921\"]], \"type\": \"surface\"}], \"table\": [{\"cells\": {\"fill\": {\"color\": \"#EBF0F8\"}, \"line\": {\"color\": \"white\"}}, \"header\": {\"fill\": {\"color\": \"#C8D4E3\"}, \"line\": {\"color\": \"white\"}}, \"type\": \"table\"}]}, \"layout\": {\"annotationdefaults\": {\"arrowcolor\": \"#2a3f5f\", \"arrowhead\": 0, \"arrowwidth\": 1}, \"coloraxis\": {\"colorbar\": {\"outlinewidth\": 0, \"ticks\": \"\"}}, \"colorscale\": {\"diverging\": [[0, \"#8e0152\"], [0.1, \"#c51b7d\"], [0.2, \"#de77ae\"], [0.3, \"#f1b6da\"], [0.4, \"#fde0ef\"], [0.5, \"#f7f7f7\"], [0.6, \"#e6f5d0\"], [0.7, \"#b8e186\"], [0.8, \"#7fbc41\"], [0.9, \"#4d9221\"], [1, \"#276419\"]], \"sequential\": [[0.0, \"#0d0887\"], [0.1111111111111111, \"#46039f\"], [0.2222222222222222, \"#7201a8\"], [0.3333333333333333, \"#9c179e\"], [0.4444444444444444, \"#bd3786\"], [0.5555555555555556, \"#d8576b\"], [0.6666666666666666, \"#ed7953\"], [0.7777777777777778, \"#fb9f3a\"], [0.8888888888888888, \"#fdca26\"], [1.0, \"#f0f921\"]], \"sequentialminus\": [[0.0, \"#0d0887\"], [0.1111111111111111, \"#46039f\"], [0.2222222222222222, \"#7201a8\"], [0.3333333333333333, \"#9c179e\"], [0.4444444444444444, \"#bd3786\"], [0.5555555555555556, \"#d8576b\"], [0.6666666666666666, \"#ed7953\"], [0.7777777777777778, \"#fb9f3a\"], [0.8888888888888888, \"#fdca26\"], [1.0, \"#f0f921\"]]}, \"colorway\": [\"#636efa\", \"#EF553B\", \"#00cc96\", \"#ab63fa\", \"#FFA15A\", \"#19d3f3\", \"#FF6692\", \"#B6E880\", \"#FF97FF\", \"#FECB52\"], \"font\": {\"color\": \"#2a3f5f\"}, \"geo\": {\"bgcolor\": \"white\", \"lakecolor\": \"white\", \"landcolor\": \"#E5ECF6\", \"showlakes\": true, \"showland\": true, \"subunitcolor\": \"white\"}, \"hoverlabel\": {\"align\": \"left\"}, \"hovermode\": \"closest\", \"mapbox\": {\"style\": \"light\"}, \"paper_bgcolor\": \"white\", \"plot_bgcolor\": \"#E5ECF6\", \"polar\": {\"angularaxis\": {\"gridcolor\": \"white\", \"linecolor\": \"white\", \"ticks\": \"\"}, \"bgcolor\": \"#E5ECF6\", \"radialaxis\": {\"gridcolor\": \"white\", \"linecolor\": \"white\", \"ticks\": \"\"}}, \"scene\": {\"xaxis\": {\"backgroundcolor\": \"#E5ECF6\", \"gridcolor\": \"white\", \"gridwidth\": 2, \"linecolor\": \"white\", \"showbackground\": true, \"ticks\": \"\", \"zerolinecolor\": \"white\"}, \"yaxis\": {\"backgroundcolor\": \"#E5ECF6\", \"gridcolor\": \"white\", \"gridwidth\": 2, \"linecolor\": \"white\", \"showbackground\": true, \"ticks\": \"\", \"zerolinecolor\": \"white\"}, \"zaxis\": {\"backgroundcolor\": \"#E5ECF6\", \"gridcolor\": \"white\", \"gridwidth\": 2, \"linecolor\": \"white\", \"showbackground\": true, \"ticks\": \"\", \"zerolinecolor\": \"white\"}}, \"shapedefaults\": {\"line\": {\"color\": \"#2a3f5f\"}}, \"ternary\": {\"aaxis\": {\"gridcolor\": \"white\", \"linecolor\": \"white\", \"ticks\": \"\"}, \"baxis\": {\"gridcolor\": \"white\", \"linecolor\": \"white\", \"ticks\": \"\"}, \"bgcolor\": \"#E5ECF6\", \"caxis\": {\"gridcolor\": \"white\", \"linecolor\": \"white\", \"ticks\": \"\"}}, \"title\": {\"x\": 0.05}, \"xaxis\": {\"automargin\": true, \"gridcolor\": \"white\", \"linecolor\": \"white\", \"ticks\": \"\", \"title\": {\"standoff\": 15}, \"zerolinecolor\": \"white\", \"zerolinewidth\": 2}, \"yaxis\": {\"automargin\": true, \"gridcolor\": \"white\", \"linecolor\": \"white\", \"ticks\": \"\", \"title\": {\"standoff\": 15}, \"zerolinecolor\": \"white\", \"zerolinewidth\": 2}}}, \"title\": {\"text\": \"Boxplot - Auto Pferdest\\u00e4rken (PS)\"}, \"yaxis\": {\"title\": {\"text\": \"Pferdest\\u00e4rken\"}}},\n",
              "                        {\"responsive\": true}\n",
              "                    ).then(function(){\n",
              "                            \n",
              "var gd = document.getElementById('2892e1ca-7737-49b0-a359-ae1ae3bbeb3b');\n",
              "var x = new MutationObserver(function (mutations, observer) {{\n",
              "        var display = window.getComputedStyle(gd).display;\n",
              "        if (!display || display === 'none') {{\n",
              "            console.log([gd, 'removed!']);\n",
              "            Plotly.purge(gd);\n",
              "            observer.disconnect();\n",
              "        }}\n",
              "}});\n",
              "\n",
              "// Listen for the removal of the full notebook cells\n",
              "var notebookContainer = gd.closest('#notebook-container');\n",
              "if (notebookContainer) {{\n",
              "    x.observe(notebookContainer, {childList: true});\n",
              "}}\n",
              "\n",
              "// Listen for the clearing of the current output cell\n",
              "var outputEl = gd.closest('.output');\n",
              "if (outputEl) {{\n",
              "    x.observe(outputEl, {childList: true});\n",
              "}}\n",
              "\n",
              "                        })\n",
              "                };\n",
              "                \n",
              "            </script>\n",
              "        </div>\n",
              "</body>\n",
              "</html>"
            ]
          },
          "metadata": {
            "tags": []
          }
        }
      ]
    },
    {
      "cell_type": "markdown",
      "metadata": {
        "id": "3JUcC2QIPnyL",
        "colab_type": "text"
      },
      "source": [
        "### Histogramm ###\n",
        "\n",
        "Das Histogramm ist eine Darstellungsform von absoluten oder relativen Häufigkeitsverteilungen kardinal skalierter, also quantitativer Merkmale. Trotz der Ähnlichkeit handelt es sich hierbei nicht um ein Säulendiagramm, denn für die Erstellung eines Histogramms müssen die Daten in Klassen unterteilt werden. So könnte man beispielsweise das Alter von Personen in 10-Jahres-Abstände klassifizieren (z.B. 0-9 Jahre, 10-19 Jahre, 20-29 Jahre etc.). Allerdings müssen die Klassen nicht zwingend gleich groß (konstante Klassen) sein, sondern können auch eine unterschiedliche Breite besitzen (variable Klassen). Die verschiedenen Klassen werden abschließend nebeneinander in Rechtecken dargestellt. Der Flächeninhalt dieser Rechtecke stellt die Klassenhäufigkeit dar, die Höhe gibt Auskunft über die Häufigkeitsdichte und die Breite entspricht der jeweiligen Klasse."
      ]
    },
    {
      "cell_type": "code",
      "metadata": {
        "id": "nVxMXDkpOdP7",
        "colab_type": "code",
        "outputId": "764f796a-337e-4655-cf7e-c98313a765c8",
        "colab": {
          "base_uri": "https://localhost:8080/",
          "height": 542
        }
      },
      "source": [
        "import pandas as pd\n",
        "import plotly.graph_objs as go\n",
        "\n",
        "datloc = 'http://datasets.flowingdata.com/crimeRatesByState2005.csv'\n",
        "datload = pd.DataFrame(pd.read_csv(datloc))\n",
        "crime = datload.drop([0,9])\n",
        "\n",
        "data = [go.Histogram(\n",
        "                    x=crime['murder'], \n",
        "                    xbins=dict(start=0,end=60))]\n",
        "\n",
        "layout = go.Layout(\n",
        "                  title='Histogram',\n",
        "                  xaxis = dict(title='Anzahl Morde'),\n",
        "                  yaxis = dict(title='Anzahl US-Bundesstaaten'))\n",
        "\n",
        "fig = go.Figure(data=data,layout=layout)\n",
        "\n",
        "fig.show()"
      ],
      "execution_count": 0,
      "outputs": [
        {
          "output_type": "display_data",
          "data": {
            "text/html": [
              "<html>\n",
              "<head><meta charset=\"utf-8\" /></head>\n",
              "<body>\n",
              "    <div>\n",
              "            <script src=\"https://cdnjs.cloudflare.com/ajax/libs/mathjax/2.7.5/MathJax.js?config=TeX-AMS-MML_SVG\"></script><script type=\"text/javascript\">if (window.MathJax) {MathJax.Hub.Config({SVG: {font: \"STIX-Web\"}});}</script>\n",
              "                <script type=\"text/javascript\">window.PlotlyConfig = {MathJaxConfig: 'local'};</script>\n",
              "        <script src=\"https://cdn.plot.ly/plotly-latest.min.js\"></script>    \n",
              "            <div id=\"8e2a54fb-dcaa-4bc7-857b-ed202f65f2ed\" class=\"plotly-graph-div\" style=\"height:525px; width:100%;\"></div>\n",
              "            <script type=\"text/javascript\">\n",
              "                \n",
              "                    window.PLOTLYENV=window.PLOTLYENV || {};\n",
              "                    \n",
              "                if (document.getElementById(\"8e2a54fb-dcaa-4bc7-857b-ed202f65f2ed\")) {\n",
              "                    Plotly.newPlot(\n",
              "                        '8e2a54fb-dcaa-4bc7-857b-ed202f65f2ed',\n",
              "                        [{\"type\": \"histogram\", \"x\": [8.2, 4.8, 7.5, 6.7, 6.9, 3.7, 2.9, 4.4, 5.0, 6.2, 1.9, 2.4, 6.0, 5.7, 1.3, 3.7, 4.6, 9.9, 1.4, 9.9, 2.7, 6.1, 2.2, 7.3, 6.9, 1.9, 2.5, 8.5, 1.4, 4.8, 7.4, 4.5, 6.7, 1.1, 5.1, 5.3, 2.2, 6.1, 3.2, 7.4, 2.3, 7.2, 6.2, 2.3, 1.3, 6.1, 3.3, 4.4, 3.5, 2.7], \"xbins\": {\"end\": 60, \"start\": 0}}],\n",
              "                        {\"template\": {\"data\": {\"bar\": [{\"error_x\": {\"color\": \"#2a3f5f\"}, \"error_y\": {\"color\": \"#2a3f5f\"}, \"marker\": {\"line\": {\"color\": \"#E5ECF6\", \"width\": 0.5}}, \"type\": \"bar\"}], \"barpolar\": [{\"marker\": {\"line\": {\"color\": \"#E5ECF6\", \"width\": 0.5}}, \"type\": \"barpolar\"}], \"carpet\": [{\"aaxis\": {\"endlinecolor\": \"#2a3f5f\", \"gridcolor\": \"white\", \"linecolor\": \"white\", \"minorgridcolor\": \"white\", \"startlinecolor\": \"#2a3f5f\"}, \"baxis\": {\"endlinecolor\": \"#2a3f5f\", \"gridcolor\": \"white\", \"linecolor\": \"white\", \"minorgridcolor\": \"white\", \"startlinecolor\": \"#2a3f5f\"}, \"type\": \"carpet\"}], \"choropleth\": [{\"colorbar\": {\"outlinewidth\": 0, \"ticks\": \"\"}, \"type\": \"choropleth\"}], \"contour\": [{\"colorbar\": {\"outlinewidth\": 0, \"ticks\": \"\"}, \"colorscale\": [[0.0, \"#0d0887\"], [0.1111111111111111, \"#46039f\"], [0.2222222222222222, \"#7201a8\"], [0.3333333333333333, \"#9c179e\"], [0.4444444444444444, \"#bd3786\"], [0.5555555555555556, \"#d8576b\"], [0.6666666666666666, \"#ed7953\"], [0.7777777777777778, \"#fb9f3a\"], [0.8888888888888888, \"#fdca26\"], [1.0, \"#f0f921\"]], \"type\": \"contour\"}], \"contourcarpet\": [{\"colorbar\": {\"outlinewidth\": 0, \"ticks\": \"\"}, \"type\": \"contourcarpet\"}], \"heatmap\": [{\"colorbar\": {\"outlinewidth\": 0, \"ticks\": \"\"}, \"colorscale\": [[0.0, \"#0d0887\"], [0.1111111111111111, \"#46039f\"], [0.2222222222222222, \"#7201a8\"], [0.3333333333333333, \"#9c179e\"], [0.4444444444444444, \"#bd3786\"], [0.5555555555555556, \"#d8576b\"], [0.6666666666666666, \"#ed7953\"], [0.7777777777777778, \"#fb9f3a\"], [0.8888888888888888, \"#fdca26\"], [1.0, \"#f0f921\"]], \"type\": \"heatmap\"}], \"heatmapgl\": [{\"colorbar\": {\"outlinewidth\": 0, \"ticks\": \"\"}, \"colorscale\": [[0.0, \"#0d0887\"], [0.1111111111111111, \"#46039f\"], [0.2222222222222222, \"#7201a8\"], [0.3333333333333333, \"#9c179e\"], [0.4444444444444444, \"#bd3786\"], [0.5555555555555556, \"#d8576b\"], [0.6666666666666666, \"#ed7953\"], [0.7777777777777778, \"#fb9f3a\"], [0.8888888888888888, \"#fdca26\"], [1.0, \"#f0f921\"]], \"type\": \"heatmapgl\"}], \"histogram\": [{\"marker\": {\"colorbar\": {\"outlinewidth\": 0, \"ticks\": \"\"}}, \"type\": \"histogram\"}], \"histogram2d\": [{\"colorbar\": {\"outlinewidth\": 0, \"ticks\": \"\"}, \"colorscale\": [[0.0, \"#0d0887\"], [0.1111111111111111, \"#46039f\"], [0.2222222222222222, \"#7201a8\"], [0.3333333333333333, \"#9c179e\"], [0.4444444444444444, \"#bd3786\"], [0.5555555555555556, \"#d8576b\"], [0.6666666666666666, \"#ed7953\"], [0.7777777777777778, \"#fb9f3a\"], [0.8888888888888888, \"#fdca26\"], [1.0, \"#f0f921\"]], \"type\": \"histogram2d\"}], \"histogram2dcontour\": [{\"colorbar\": {\"outlinewidth\": 0, \"ticks\": \"\"}, \"colorscale\": [[0.0, \"#0d0887\"], [0.1111111111111111, \"#46039f\"], [0.2222222222222222, \"#7201a8\"], [0.3333333333333333, \"#9c179e\"], [0.4444444444444444, \"#bd3786\"], [0.5555555555555556, \"#d8576b\"], [0.6666666666666666, \"#ed7953\"], [0.7777777777777778, \"#fb9f3a\"], [0.8888888888888888, \"#fdca26\"], [1.0, \"#f0f921\"]], \"type\": \"histogram2dcontour\"}], \"mesh3d\": [{\"colorbar\": {\"outlinewidth\": 0, \"ticks\": \"\"}, \"type\": \"mesh3d\"}], \"parcoords\": [{\"line\": {\"colorbar\": {\"outlinewidth\": 0, \"ticks\": \"\"}}, \"type\": \"parcoords\"}], \"pie\": [{\"automargin\": true, \"type\": \"pie\"}], \"scatter\": [{\"marker\": {\"colorbar\": {\"outlinewidth\": 0, \"ticks\": \"\"}}, \"type\": \"scatter\"}], \"scatter3d\": [{\"line\": {\"colorbar\": {\"outlinewidth\": 0, \"ticks\": \"\"}}, \"marker\": {\"colorbar\": {\"outlinewidth\": 0, \"ticks\": \"\"}}, \"type\": \"scatter3d\"}], \"scattercarpet\": [{\"marker\": {\"colorbar\": {\"outlinewidth\": 0, \"ticks\": \"\"}}, \"type\": \"scattercarpet\"}], \"scattergeo\": [{\"marker\": {\"colorbar\": {\"outlinewidth\": 0, \"ticks\": \"\"}}, \"type\": \"scattergeo\"}], \"scattergl\": [{\"marker\": {\"colorbar\": {\"outlinewidth\": 0, \"ticks\": \"\"}}, \"type\": \"scattergl\"}], \"scattermapbox\": [{\"marker\": {\"colorbar\": {\"outlinewidth\": 0, \"ticks\": \"\"}}, \"type\": \"scattermapbox\"}], \"scatterpolar\": [{\"marker\": {\"colorbar\": {\"outlinewidth\": 0, \"ticks\": \"\"}}, \"type\": \"scatterpolar\"}], \"scatterpolargl\": [{\"marker\": {\"colorbar\": {\"outlinewidth\": 0, \"ticks\": \"\"}}, \"type\": \"scatterpolargl\"}], \"scatterternary\": [{\"marker\": {\"colorbar\": {\"outlinewidth\": 0, \"ticks\": \"\"}}, \"type\": \"scatterternary\"}], \"surface\": [{\"colorbar\": {\"outlinewidth\": 0, \"ticks\": \"\"}, \"colorscale\": [[0.0, \"#0d0887\"], [0.1111111111111111, \"#46039f\"], [0.2222222222222222, \"#7201a8\"], [0.3333333333333333, \"#9c179e\"], [0.4444444444444444, \"#bd3786\"], [0.5555555555555556, \"#d8576b\"], [0.6666666666666666, \"#ed7953\"], [0.7777777777777778, \"#fb9f3a\"], [0.8888888888888888, \"#fdca26\"], [1.0, \"#f0f921\"]], \"type\": \"surface\"}], \"table\": [{\"cells\": {\"fill\": {\"color\": \"#EBF0F8\"}, \"line\": {\"color\": \"white\"}}, \"header\": {\"fill\": {\"color\": \"#C8D4E3\"}, \"line\": {\"color\": \"white\"}}, \"type\": \"table\"}]}, \"layout\": {\"annotationdefaults\": {\"arrowcolor\": \"#2a3f5f\", \"arrowhead\": 0, \"arrowwidth\": 1}, \"coloraxis\": {\"colorbar\": {\"outlinewidth\": 0, \"ticks\": \"\"}}, \"colorscale\": {\"diverging\": [[0, \"#8e0152\"], [0.1, \"#c51b7d\"], [0.2, \"#de77ae\"], [0.3, \"#f1b6da\"], [0.4, \"#fde0ef\"], [0.5, \"#f7f7f7\"], [0.6, \"#e6f5d0\"], [0.7, \"#b8e186\"], [0.8, \"#7fbc41\"], [0.9, \"#4d9221\"], [1, \"#276419\"]], \"sequential\": [[0.0, \"#0d0887\"], [0.1111111111111111, \"#46039f\"], [0.2222222222222222, \"#7201a8\"], [0.3333333333333333, \"#9c179e\"], [0.4444444444444444, \"#bd3786\"], [0.5555555555555556, \"#d8576b\"], [0.6666666666666666, \"#ed7953\"], [0.7777777777777778, \"#fb9f3a\"], [0.8888888888888888, \"#fdca26\"], [1.0, \"#f0f921\"]], \"sequentialminus\": [[0.0, \"#0d0887\"], [0.1111111111111111, \"#46039f\"], [0.2222222222222222, \"#7201a8\"], [0.3333333333333333, \"#9c179e\"], [0.4444444444444444, \"#bd3786\"], [0.5555555555555556, \"#d8576b\"], [0.6666666666666666, \"#ed7953\"], [0.7777777777777778, \"#fb9f3a\"], [0.8888888888888888, \"#fdca26\"], [1.0, \"#f0f921\"]]}, \"colorway\": [\"#636efa\", \"#EF553B\", \"#00cc96\", \"#ab63fa\", \"#FFA15A\", \"#19d3f3\", \"#FF6692\", \"#B6E880\", \"#FF97FF\", \"#FECB52\"], \"font\": {\"color\": \"#2a3f5f\"}, \"geo\": {\"bgcolor\": \"white\", \"lakecolor\": \"white\", \"landcolor\": \"#E5ECF6\", \"showlakes\": true, \"showland\": true, \"subunitcolor\": \"white\"}, \"hoverlabel\": {\"align\": \"left\"}, \"hovermode\": \"closest\", \"mapbox\": {\"style\": \"light\"}, \"paper_bgcolor\": \"white\", \"plot_bgcolor\": \"#E5ECF6\", \"polar\": {\"angularaxis\": {\"gridcolor\": \"white\", \"linecolor\": \"white\", \"ticks\": \"\"}, \"bgcolor\": \"#E5ECF6\", \"radialaxis\": {\"gridcolor\": \"white\", \"linecolor\": \"white\", \"ticks\": \"\"}}, \"scene\": {\"xaxis\": {\"backgroundcolor\": \"#E5ECF6\", \"gridcolor\": \"white\", \"gridwidth\": 2, \"linecolor\": \"white\", \"showbackground\": true, \"ticks\": \"\", \"zerolinecolor\": \"white\"}, \"yaxis\": {\"backgroundcolor\": \"#E5ECF6\", \"gridcolor\": \"white\", \"gridwidth\": 2, \"linecolor\": \"white\", \"showbackground\": true, \"ticks\": \"\", \"zerolinecolor\": \"white\"}, \"zaxis\": {\"backgroundcolor\": \"#E5ECF6\", \"gridcolor\": \"white\", \"gridwidth\": 2, \"linecolor\": \"white\", \"showbackground\": true, \"ticks\": \"\", \"zerolinecolor\": \"white\"}}, \"shapedefaults\": {\"line\": {\"color\": \"#2a3f5f\"}}, \"ternary\": {\"aaxis\": {\"gridcolor\": \"white\", \"linecolor\": \"white\", \"ticks\": \"\"}, \"baxis\": {\"gridcolor\": \"white\", \"linecolor\": \"white\", \"ticks\": \"\"}, \"bgcolor\": \"#E5ECF6\", \"caxis\": {\"gridcolor\": \"white\", \"linecolor\": \"white\", \"ticks\": \"\"}}, \"title\": {\"x\": 0.05}, \"xaxis\": {\"automargin\": true, \"gridcolor\": \"white\", \"linecolor\": \"white\", \"ticks\": \"\", \"title\": {\"standoff\": 15}, \"zerolinecolor\": \"white\", \"zerolinewidth\": 2}, \"yaxis\": {\"automargin\": true, \"gridcolor\": \"white\", \"linecolor\": \"white\", \"ticks\": \"\", \"title\": {\"standoff\": 15}, \"zerolinecolor\": \"white\", \"zerolinewidth\": 2}}}, \"title\": {\"text\": \"Histogram\"}, \"xaxis\": {\"title\": {\"text\": \"Anzahl Morde\"}}, \"yaxis\": {\"title\": {\"text\": \"Anzahl US-Bundesstaaten\"}}},\n",
              "                        {\"responsive\": true}\n",
              "                    ).then(function(){\n",
              "                            \n",
              "var gd = document.getElementById('8e2a54fb-dcaa-4bc7-857b-ed202f65f2ed');\n",
              "var x = new MutationObserver(function (mutations, observer) {{\n",
              "        var display = window.getComputedStyle(gd).display;\n",
              "        if (!display || display === 'none') {{\n",
              "            console.log([gd, 'removed!']);\n",
              "            Plotly.purge(gd);\n",
              "            observer.disconnect();\n",
              "        }}\n",
              "}});\n",
              "\n",
              "// Listen for the removal of the full notebook cells\n",
              "var notebookContainer = gd.closest('#notebook-container');\n",
              "if (notebookContainer) {{\n",
              "    x.observe(notebookContainer, {childList: true});\n",
              "}}\n",
              "\n",
              "// Listen for the clearing of the current output cell\n",
              "var outputEl = gd.closest('.output');\n",
              "if (outputEl) {{\n",
              "    x.observe(outputEl, {childList: true});\n",
              "}}\n",
              "\n",
              "                        })\n",
              "                };\n",
              "                \n",
              "            </script>\n",
              "        </div>\n",
              "</body>\n",
              "</html>"
            ]
          },
          "metadata": {
            "tags": []
          }
        }
      ]
    },
    {
      "cell_type": "markdown",
      "metadata": {
        "id": "iPzII6qpTrgm",
        "colab_type": "text"
      },
      "source": [
        "### Distribution Plots (Distplot) ###\n",
        "\n",
        "Mit einem Verteilungsdiagramm (engl. Distribution Plot) besteht typischerweise aus drei Plots, welche übereinandergelegt werden. \n",
        "\n",
        "Die erste Ebene besteht aus einem Histogramm in welcher die einzelnen Datenpunkt in einem Kasten (bins) gleichwertiger Datenpunkte abgelegt wird.\n",
        "\n",
        "Auf der zweiten Ebene werden die Markierungen entlang der x-Axe für jeden Datenpunkt platziert. Womit die Verteilung für jeden Wert innerhalb eines Kasten ersichtlich wird.\n",
        "\n",
        "Auf der dritten Ebene kommt eine Kernel Density Estimate (KDE) (dt. Kerndichteschätzung) Line hinzu, mit welche versucht wird die Form der Verteilung wiederzugeben. \n",
        "\n"
      ]
    },
    {
      "cell_type": "code",
      "metadata": {
        "id": "zmN5dNQWXi-X",
        "colab_type": "code",
        "outputId": "9914c726-9276-4dd8-e25a-23a4f9c64926",
        "colab": {
          "base_uri": "https://localhost:8080/",
          "height": 542
        }
      },
      "source": [
        "import pandas as pd\n",
        "\n",
        "# Um einen etwas komplexeren Plot darzustellen, importieren wir eine andere Library als normal. \n",
        "import plotly.figure_factory as ff \n",
        "\n",
        "datloc = 'http://datasets.flowingdata.com/crimeRatesByState2005.csv'\n",
        "datload = pd.DataFrame(pd.read_csv(datloc))\n",
        "crime = datload.drop([0,9])\n",
        "\n",
        "\n",
        "x1 = crime['aggravated_assault']\n",
        "x2 = crime['motor_vehicle_theft']\n",
        "\n",
        "\n",
        "hist_data = [x1,x2]\n",
        "group_labels = ['Schwere Angriffe','Autodiebstahl']\n",
        "\n",
        "fig = ff.create_distplot(hist_data,group_labels,bin_size=[15,15])\n",
        "fig.show()\n"
      ],
      "execution_count": 0,
      "outputs": [
        {
          "output_type": "display_data",
          "data": {
            "text/html": [
              "<html>\n",
              "<head><meta charset=\"utf-8\" /></head>\n",
              "<body>\n",
              "    <div>\n",
              "            <script src=\"https://cdnjs.cloudflare.com/ajax/libs/mathjax/2.7.5/MathJax.js?config=TeX-AMS-MML_SVG\"></script><script type=\"text/javascript\">if (window.MathJax) {MathJax.Hub.Config({SVG: {font: \"STIX-Web\"}});}</script>\n",
              "                <script type=\"text/javascript\">window.PlotlyConfig = {MathJaxConfig: 'local'};</script>\n",
              "        <script src=\"https://cdn.plot.ly/plotly-latest.min.js\"></script>    \n",
              "            <div id=\"e679267f-0bbf-455d-aa38-e04d294306b4\" class=\"plotly-graph-div\" style=\"height:525px; width:100%;\"></div>\n",
              "            <script type=\"text/javascript\">\n",
              "                \n",
              "                    window.PLOTLYENV=window.PLOTLYENV || {};\n",
              "                    \n",
              "                if (document.getElementById(\"e679267f-0bbf-455d-aa38-e04d294306b4\")) {\n",
              "                    Plotly.newPlot(\n",
              "                        'e679267f-0bbf-455d-aa38-e04d294306b4',\n",
              "                        [{\"autobinx\": false, \"histnorm\": \"probability density\", \"legendgroup\": \"Schwere Angriffe\", \"marker\": {\"color\": \"rgb(31, 119, 180)\"}, \"name\": \"Schwere Angriffe\", \"opacity\": 0.7, \"type\": \"histogram\", \"x\": [247.8, 465.1, 327.4, 386.8, 317.3, 264.7, 138.6, 428.2, 496.6, 264.3, 147.8, 195.4, 330.2, 179.9, 223.3, 280.0, 139.8, 435.1, 61.7, 413.8, 308.1, 362.9, 158.7, 149.4, 366.4, 228.5, 192.5, 361.5, 72.3, 184.4, 541.9, 239.7, 289.4, 65.5, 143.4, 370.5, 181.8, 235.0, 146.1, 579.0, 108.1, 541.9, 329.8, 143.4, 83.5, 154.8, 205.8, 206.1, 135.2, 188.1], \"xaxis\": \"x\", \"xbins\": {\"end\": 579.0, \"size\": 15, \"start\": 61.7}, \"yaxis\": \"y\"}, {\"autobinx\": false, \"histnorm\": \"probability density\", \"legendgroup\": \"Autodiebstahl\", \"marker\": {\"color\": \"rgb(255, 127, 14)\"}, \"name\": \"Autodiebstahl\", \"opacity\": 0.7, \"type\": \"histogram\", \"x\": [288.3, 391.0, 924.4, 262.1, 712.8, 559.5, 296.8, 278.5, 423.3, 490.2, 716.4, 201.8, 308.6, 346.7, 184.6, 339.6, 210.8, 318.1, 102.0, 608.4, 295.1, 476.5, 278.2, 256.5, 443.1, 210.7, 316.5, 1115.2, 102.1, 317.5, 414.5, 185.6, 327.8, 166.0, 360.9, 391.8, 529.0, 236.5, 408.7, 384.4, 108.4, 420.6, 408.7, 343.9, 102.9, 211.1, 783.9, 210.0, 226.6, 145.1], \"xaxis\": \"x\", \"xbins\": {\"end\": 1115.2, \"size\": 15, \"start\": 102.0}, \"yaxis\": \"y\"}, {\"legendgroup\": \"Schwere Angriffe\", \"marker\": {\"color\": \"rgb(31, 119, 180)\"}, \"mode\": \"lines\", \"name\": \"Schwere Angriffe\", \"showlegend\": false, \"type\": \"scatter\", \"x\": [61.7, 62.7346, 63.769200000000005, 64.8038, 65.83840000000001, 66.873, 67.9076, 68.9422, 69.9768, 71.01140000000001, 72.046, 73.0806, 74.1152, 75.1498, 76.1844, 77.219, 78.2536, 79.2882, 80.3228, 81.3574, 82.392, 83.42660000000001, 84.4612, 85.4958, 86.5304, 87.565, 88.59960000000001, 89.63419999999999, 90.6688, 91.7034, 92.738, 93.77260000000001, 94.8072, 95.8418, 96.87639999999999, 97.911, 98.9456, 99.9802, 101.01480000000001, 102.04939999999999, 103.084, 104.1186, 105.1532, 106.1878, 107.2224, 108.257, 109.2916, 110.3262, 111.3608, 112.3954, 113.42999999999999, 114.4646, 115.4992, 116.5338, 117.5684, 118.603, 119.63759999999999, 120.6722, 121.7068, 122.7414, 123.776, 124.8106, 125.8452, 126.8798, 127.9144, 128.949, 129.9836, 131.01819999999998, 132.0528, 133.0874, 134.122, 135.1566, 136.19119999999998, 137.2258, 138.2604, 139.29500000000002, 140.3296, 141.36419999999998, 142.3988, 143.4334, 144.46800000000002, 145.5026, 146.53719999999998, 147.5718, 148.6064, 149.641, 150.67559999999997, 151.7102, 152.7448, 153.7794, 154.814, 155.84859999999998, 156.8832, 157.9178, 158.9524, 159.987, 161.02159999999998, 162.0562, 163.0908, 164.1254, 165.15999999999997, 166.19459999999998, 167.2292, 168.2638, 169.29840000000002, 170.33299999999997, 171.36759999999998, 172.4022, 173.4368, 174.47140000000002, 175.50599999999997, 176.54059999999998, 177.5752, 178.6098, 179.6444, 180.67899999999997, 181.71359999999999, 182.7482, 183.7828, 184.8174, 185.85199999999998, 186.8866, 187.9212, 188.9558, 189.99040000000002, 191.02499999999998, 192.0596, 193.0942, 194.1288, 195.16340000000002, 196.19799999999998, 197.2326, 198.2672, 199.30180000000001, 200.33639999999997, 201.37099999999998, 202.4056, 203.4402, 204.47480000000002, 205.50939999999997, 206.54399999999998, 207.5786, 208.6132, 209.64780000000002, 210.68239999999997, 211.71699999999998, 212.7516, 213.7862, 214.82079999999996, 215.85539999999997, 216.89, 217.9246, 218.9592, 219.99379999999996, 221.02839999999998, 222.063, 223.0976, 224.1322, 225.16679999999997, 226.20139999999998, 227.236, 228.2706, 229.3052, 230.33979999999997, 231.37439999999998, 232.409, 233.4436, 234.47819999999996, 235.51279999999997, 236.54739999999998, 237.582, 238.6166, 239.65119999999996, 240.68579999999997, 241.72039999999998, 242.755, 243.7896, 244.82419999999996, 245.85879999999997, 246.89339999999999, 247.928, 248.96259999999995, 249.99719999999996, 251.03179999999998, 252.0664, 253.101, 254.13559999999995, 255.17019999999997, 256.2048, 257.2394, 258.274, 259.30859999999996, 260.34319999999997, 261.3778, 262.4124, 263.44699999999995, 264.48159999999996, 265.51619999999997, 266.5508, 267.5854, 268.61999999999995, 269.65459999999996, 270.68919999999997, 271.7238, 272.7584, 273.79299999999995, 274.82759999999996, 275.8622, 276.8968, 277.9314, 278.96599999999995, 280.00059999999996, 281.0352, 282.0698, 283.1044, 284.13899999999995, 285.17359999999996, 286.2082, 287.2428, 288.2774, 289.31199999999995, 290.34659999999997, 291.3812, 292.4158, 293.45039999999995, 294.48499999999996, 295.51959999999997, 296.5542, 297.5888, 298.62339999999995, 299.65799999999996, 300.69259999999997, 301.7272, 302.7618, 303.79639999999995, 304.83099999999996, 305.8656, 306.9002, 307.9348, 308.96939999999995, 310.00399999999996, 311.0386, 312.0732, 313.1078, 314.14239999999995, 315.17699999999996, 316.2116, 317.2462, 318.2808, 319.31539999999995, 320.34999999999997, 321.3846, 322.4192, 323.4538, 324.48839999999996, 325.52299999999997, 326.5576, 327.59219999999993, 328.6268, 329.66139999999996, 330.69599999999997, 331.7306, 332.76519999999994, 333.7998, 334.83439999999996, 335.86899999999997, 336.9036, 337.93819999999994, 338.97279999999995, 340.00739999999996, 341.042, 342.0766, 343.11119999999994, 344.14579999999995, 345.18039999999996, 346.215, 347.2496, 348.28419999999994, 349.31879999999995, 350.35339999999997, 351.388, 352.4226, 353.45719999999994, 354.49179999999996, 355.52639999999997, 356.561, 357.5956, 358.63019999999995, 359.66479999999996, 360.69939999999997, 361.734, 362.7686, 363.80319999999995, 364.83779999999996, 365.87239999999997, 366.907, 367.94159999999994, 368.97619999999995, 370.01079999999996, 371.0454, 372.08, 373.11459999999994, 374.14919999999995, 375.18379999999996, 376.2184, 377.253, 378.28759999999994, 379.32219999999995, 380.35679999999996, 381.3914, 382.426, 383.46059999999994, 384.49519999999995, 385.52979999999997, 386.5644, 387.599, 388.63359999999994, 389.66819999999996, 390.70279999999997, 391.7374, 392.772, 393.80659999999995, 394.84119999999996, 395.87579999999997, 396.9104, 397.94499999999994, 398.97959999999995, 400.01419999999996, 401.04879999999997, 402.0833999999999, 403.11799999999994, 404.15259999999995, 405.18719999999996, 406.2218, 407.2563999999999, 408.29099999999994, 409.32559999999995, 410.36019999999996, 411.3948, 412.42939999999993, 413.46399999999994, 414.49859999999995, 415.53319999999997, 416.5678, 417.60239999999993, 418.63699999999994, 419.67159999999996, 420.70619999999997, 421.7408, 422.77539999999993, 423.80999999999995, 424.84459999999996, 425.87919999999997, 426.9138, 427.94839999999994, 428.98299999999995, 430.01759999999996, 431.0521999999999, 432.0868, 433.12139999999994, 434.15599999999995, 435.19059999999996, 436.2251999999999, 437.2598, 438.29439999999994, 439.32899999999995, 440.36359999999996, 441.3981999999999, 442.4328, 443.46739999999994, 444.50199999999995, 445.53659999999996, 446.5711999999999, 447.6058, 448.64039999999994, 449.67499999999995, 450.70959999999997, 451.7441999999999, 452.7788, 453.81339999999994, 454.84799999999996, 455.88259999999997, 456.9171999999999, 457.9518, 458.98639999999995, 460.02099999999996, 461.05559999999997, 462.0901999999999, 463.1248, 464.15939999999995, 465.1939999999999, 466.2286, 467.2631999999999, 468.2978, 469.33239999999995, 470.3669999999999, 471.4016, 472.43619999999993, 473.4708, 474.50539999999995, 475.5399999999999, 476.5746, 477.60919999999993, 478.6438, 479.67839999999995, 480.7129999999999, 481.7476, 482.78219999999993, 483.8168, 484.85139999999996, 485.8859999999999, 486.9206, 487.95519999999993, 488.9898, 490.02439999999996, 491.0589999999999, 492.0936, 493.12819999999994, 494.1628, 495.19739999999996, 496.2319999999999, 497.2666, 498.30119999999994, 499.33579999999995, 500.37039999999996, 501.4049999999999, 502.4396, 503.47419999999994, 504.50879999999995, 505.54339999999996, 506.5779999999999, 507.6126, 508.64719999999994, 509.68179999999995, 510.71639999999996, 511.7509999999999, 512.7856, 513.8202, 514.8548, 515.8894, 516.924, 517.9586, 518.9932, 520.0278, 521.0624, 522.097, 523.1316, 524.1662, 525.2008, 526.2354, 527.27, 528.3046, 529.3392, 530.3738, 531.4084, 532.443, 533.4775999999999, 534.5122, 535.5468, 536.5814, 537.616, 538.6505999999999, 539.6852, 540.7198, 541.7544, 542.789, 543.8235999999999, 544.8582, 545.8928, 546.9274, 547.962, 548.9966, 550.0312, 551.0658, 552.1004, 553.135, 554.1696, 555.2042, 556.2388, 557.2734, 558.308, 559.3426, 560.3772, 561.4118, 562.4463999999999, 563.481, 564.5156, 565.5502, 566.5848, 567.6193999999999, 568.654, 569.6886, 570.7232, 571.7578, 572.7923999999999, 573.827, 574.8616000000001, 575.8962, 576.9308, 577.9654], \"xaxis\": \"x\", \"y\": [0.0012445079480447561, 0.0012635467078208624, 0.0012826943077398345, 0.0013019475658646285, 0.0013213032123964772, 0.0013407578891814335, 0.0013603081492708981, 0.0013799504565404912, 0.0013996811853716849, 0.0014194966204006342, 0.0014393929563386513, 0.0014593662978687923, 0.0014794126596229772, 0.0014995279662440625, 0.0015197080525372272, 0.0015399486637149645, 0.0015602454557399178, 0.001580593995769671, 0.0016009897627075336, 0.0016214281478632024, 0.0016419044557270557, 0.0016624139048616866, 0.0016829516289140862, 0.001703512677751726, 0.0017240920187255688, 0.0017446845380628233, 0.0017652850423920449, 0.0017858882604028946, 0.0018064888446426772, 0.0018270813734514463, 0.0018476603530372174, 0.0018682202196925323, 0.0018887553421533029, 0.0019092600241005725, 0.001929728506805468, 0.0019501549719173569, 0.001970533544394804, 0.0019908582955786465, 0.002011123246406136, 0.002031322370764718, 0.0020514495989837323, 0.0020714988214618766, 0.0020914638924279896, 0.0021113386338323294, 0.0021311168393651405, 0.002150792278599007, 0.0021703587012510757, 0.0021898098415609594, 0.0022091394227797124, 0.002228341161765014, 0.0022474087736773308, 0.0022663359767715005, 0.0022851164972779226, 0.002303744074367209, 0.0023222124651918735, 0.002340515449998377, 0.002358646837302587, 0.002376600469121459, 0.002394370226253536, 0.002411950033600652, 0.0024293338655230045, 0.0024465157512196384, 0.002463489780126164, 0.0024802501073214415, 0.002496790958934828, 0.0025131066375454697, 0.002529191527565063, 0.0025450401005954306, 0.00256064692075223, 0.0025760066499460935, 0.0025911140531124774, 0.002605964003381553, 0.0026205514871795008, 0.0026348716092526097, 0.0026489195976057063, 0.002662690808346524, 0.0026761807304277255, 0.0026893849902784837, 0.0027022993563176386, 0.002714919743340647, 0.0027272422167727733, 0.00273926299678112, 0.002750978462238401, 0.002762385154531554, 0.002773479781208589, 0.002784259219457342, 0.002794720519410095, 0.002804860907268318, 0.0028146777882421454, 0.002824168749299493, 0.002833331561720073, 0.002842164183449959, 0.0028506647612526153, 0.0028588316326527874, 0.002866663327669945, 0.002874158570338384, 0.0028813162800114516, 0.0028881355724477862, 0.0028946157606778117, 0.002900756355649144, 0.0029065570666499414, 0.0029120178015096553, 0.002917138666576966, 0.0029219199664751406, 0.0029263622036353955, 0.0029304660776092264, 0.0029342324841610656, 0.0029376625141429575, 0.002940757452153339, 0.002943518774982344, 0.0029459481498463865, 0.0029480474324151437, 0.002949818664634354, 0.0029512640723481495, 0.0029523860627250083, 0.0029531872214916114, 0.002953670309979236, 0.0029538382619875595, 0.0029536941804709934, 0.002953241334052914, 0.0029524831533733757, 0.0029514232272761097, 0.0029500652988408067, 0.0029484132612668454, 0.0029464711536148235, 0.0029442431564123796, 0.002941733587130945, 0.0029389468955401594, 0.0029358876589468405, 0.0029325605773254464, 0.0029289704683470525, 0.002925122262313967, 0.002921020997007119, 0.002916671812453394, 0.002912079945620142, 0.002907250725044056, 0.00290218956540166, 0.0028969019620285635, 0.0028913934853947035, 0.0028856697755426544, 0.0028797365364961187, 0.002873599530645603, 0.0028672645731182326, 0.002860737526138551, 0.002854024293387112, 0.002847130814363501, 0.002840063058760383, 0.002832827020855004, 0.0028254287139245003, 0.0028178741646911784, 0.002810169407803882, 0.0028023204803612964, 0.002794333416483048, 0.002786214241934149, 0.0027779689688083105, 0.0027696035902754147, 0.00276112407539828, 0.002752536364023732, 0.0027438463617527977, 0.0027350599349946236, 0.0027261829061086752, 0.0027172210486394494, 0.002708180082647887, 0.0026990656701434187, 0.0026898834106204484, 0.0026806388367028922, 0.002671337409900206, 0.0026619845164781966, 0.0026525854634476993, 0.0026431454746740834, 0.002633669687110328, 0.002624163147156291, 0.002614630807146603, 0.0026050775219694632, 0.0025955080458184504, 0.0025859270290793223, 0.0025763390153535765, 0.0025667484386204522, 0.002557159620538848, 0.0025475767678905183, 0.0025380039701657195, 0.0025284451972923997, 0.0025189042975098043, 0.002509384995387291, 0.002499890889988967, 0.002490425453184671, 0.002480992028107603, 0.002471593827758897, 0.002462233933759163, 0.00245291529524702, 0.0024436407279243904, 0.0024344129132483406, 0.002425234397768975, 0.002416107592612896, 0.0024070347731115446, 0.002398018078573638, 0.002389059512200785, 0.002380160941145297, 0.0023713240967089965, 0.0023625505746817962, 0.0023538418358186636, 0.0023451992064534763, 0.002336623879248152, 0.0023281169140753535, 0.002319679239032895, 0.002311311651587939, 0.0023030148198489, 0.0022947892839628907, 0.002286635457636427, 0.002278553629777004, 0.0022705439662530362, 0.0022626065117695602, 0.0022547411918569997, 0.0022469478149701435, 0.002239226074694448, 0.0022315755520566235, 0.002223995717936393, 0.0022164859355761866, 0.0022090454631854763, 0.002201673456636305, 0.002194368972246556, 0.002187130969647311, 0.0021799583147306713, 0.002172849782674225, 0.0021658040610383687, 0.0021588197529325195, 0.0021518953802462312, 0.0021450293869411637, 0.002138220142399747, 0.002131465944826368, 0.0021247650246968065, 0.002118115548251621, 0.002111515621029141, 0.002104963291433636, 0.002098456554334262, 0.0020919933546902896, 0.002085571591198116, 0.0020791891199555667, 0.0020728437581389193, 0.0020665332876881304, 0.002060255458995708, 0.0020540079945946883, 0.002047788592841175, 0.0020415949315869416, 0.0020354246718375757, 0.0020292754613917222, 0.0020231449384569746, 0.002017030735238059, 0.00201093048149293, 0.0020048418080525483, 0.0019987623503000865, 0.0019926897516054313, 0.0019866216667109244, 0.0019805557650643428, 0.001974489734095237, 0.001968421282430814, 0.001962348143047701, 0.0019562680763559777, 0.0019501788732120288, 0.0019440783578568523, 0.0019379643907766338, 0.0019318348714824599, 0.0019256877412062565, 0.0019195209855101267, 0.0019133326368064296, 0.0019071207767860858, 0.001900883538752781, 0.001894619109860832, 0.0018883257332547125, 0.0018820017101083613, 0.0018756454015625703, 0.0018692552305589274, 0.0018628296835689385, 0.001856367312217171, 0.0018498667347973878, 0.0018433266376808419, 0.001836745776616068, 0.0018301229779196908, 0.0018234571395579432, 0.0018167472321187438, 0.0018099922996743932, 0.0018031914605350697, 0.0017963439078935342, 0.0017894489103615424, 0.0017825058123987414, 0.0017755140346348256, 0.0017684730740860726, 0.0017613825042673665, 0.0017542419752010674, 0.0017470512133242037, 0.001739810021295572, 0.0017325182777045217, 0.0017251759366832737, 0.0017177830274247893, 0.0017103396536082862, 0.0017028459927346587, 0.0016953022953740912, 0.0016877088843283352, 0.0016800661537101536, 0.0016723745679425364, 0.001664634660680381, 0.0016568470336573906, 0.001649012355461015, 0.00164113136023829, 0.0016332048463355451, 0.0016252336748749019, 0.0016172187682705946, 0.0016091611086881358, 0.0016010617364493895, 0.0015929217483866135, 0.0015847422961485363, 0.001576524584461576, 0.001568269869349225, 0.001559979456312705, 0.0015516546984758962, 0.0015432969946975754, 0.0015349077876539372, 0.0015264885618943458, 0.001518040841873232, 0.0015095661899609868, 0.0015010662044366632, 0.0014925425174652437, 0.0014839967930621563, 0.0014754307250476816, 0.0014668460349938097, 0.0014582444701660264, 0.0014496278014624704, 0.001440997821352784, 0.0014323563418189326, 0.0014237051923001803, 0.0014150462176443115, 0.0014063812760671405, 0.0013977122371222291, 0.0013890409796826694, 0.0013803693899367144, 0.001371699359398917, 0.0013630327829384132, 0.0013543715568258355, 0.001345717576800315, 0.0013370727361579336, 0.0013284389238628729, 0.0013198180226825184, 0.0013112119073475825, 0.0013026224427383612, 0.0012940514820980575, 0.0012855008652741416, 0.0012769724169885562, 0.0012684679451376011, 0.001259989239122203, 0.001251538068209275, 0.001243116179924791, 0.0012347252984791601, 0.001226367123225442, 0.0012180433271509136, 0.0012097555554024448, 0.0012015054238461256, 0.001193294517661557, 0.001185124389971168, 0.0011769965605049437, 0.0011689125143008936, 0.0011608737004416018, 0.0011528815308271656, 0.0011449373789848484, 0.0011370425789157545, 0.0011291984239788228, 0.0011214061658124648, 0.0011136670132941482, 0.0011059821315382605, 0.0010983526409325663, 0.0010907796162136201, 0.0010832640855814681, 0.0010758070298540195, 0.0010684093816614774, 0.0010610720246812151, 0.0010537957929135212, 0.0010465814699986559, 0.0010394297885756706, 0.001032341429683452, 0.001025317022204496, 0.0010183571423519105, 0.0010114623132001662, 0.0010046330042601422, 0.0009978696310990146, 0.0009911725550055476, 0.000984542082701369, 0.000977978466098804, 0.0009714819021058594, 0.0009650525324789511, 0.0009586904437239594, 0.0009523956670462023, 0.0009461681783499129, 0.0009400078982877847, 0.0009339146923611609, 0.0009278883710713858, 0.0009219286901228709, 0.0009160353506783468, 0.0009102079996667957, 0.0009044462301444903, 0.0008987495817095407, 0.0008931175409703208, 0.0008875495420680836, 0.0008820449672540415, 0.000876603147521129, 0.0008712233632905943, 0.0008659048451535466, 0.0008606467746674633, 0.0008554482852076495, 0.0008503084628735303, 0.0008452263474495957, 0.0008402009334207566, 0.0008352311710417367, 0.000830315967460107, 0.0008254541878924347, 0.0008206446568529317, 0.000815886159433926, 0.000811177442637346, 0.0008065172167563362, 0.0008019041568060184, 0.0007973369040023021, 0.0007928140672875692, 0.0007883342249019374, 0.0007838959259987065, 0.0007794976923025159, 0.0007751380198085951, 0.0007708153805214389, 0.0007665282242310927, 0.0007622749803251794, 0.0007580540596346598, 0.0007538638563112632, 0.0007497027497344028, 0.000745569106445315, 0.0007414612821060791, 0.0007373776234810758, 0.0007333164704383775, 0.0007292761579684798, 0.0007252550182177147, 0.0007212513825336192, 0.0007172635835194708, 0.0007132899570951376, 0.0007093288445613558, 0.0007053785946644793, 0.0007014375656587185, 0.0006975041273628547, 0.0006935766632083673, 0.0006896535722759219, 0.0006857332713171109, 0.0006818141967583622, 0.0006778948066839195, 0.0006739735827947886, 0.0006700490323405675, 0.0006661196900211086, 0.0006621841198549421, 0.0006582409170114837, 0.0006542887096040277, 0.0006503261604406122, 0.0006463519687298889, 0.0006423648717391614, 0.0006383636464018682, 0.0006343471108718173, 0.0006303141260215753, 0.0006262635968825133, 0.0006221944740240619, 0.0006181057548698797, 0.0006139964849486908, 0.0006098657590776847, 0.0006057127224764879, 0.000601536571809806, 0.0005973365561569921, 0.00059311197790691, 0.0005888621935765774, 0.0005845866145522469, 0.0005802847077516747, 0.0005759559962065106, 0.0005716000595638683, 0.0005672165345062674, 0.0005628051150893315, 0.0005583655529967209, 0.0005538976577119816, 0.0005494012966071161, 0.0005448763949478367, 0.0005403229358156355, 0.0005357409599469321, 0.0005311305654897336, 0.0005264919076783902, 0.0005218251984271642, 0.0005171307058435097, 0.000512408753662076, 0.000507659720600611, 0.0005028840396390873, 0.000498082197223487, 0.0004932547323958488, 0.0004884022358522974, 0.00048352534893088576, 0.00047862476253125155, 0.0004737012159681497, 0.0004687554957610812, 0.0004637884343623377, 0.0004588009088258566, 0.0004537938394194247, 0.00044876818818282403], \"yaxis\": \"y\"}, {\"legendgroup\": \"Autodiebstahl\", \"marker\": {\"color\": \"rgb(255, 127, 14)\"}, \"mode\": \"lines\", \"name\": \"Autodiebstahl\", \"showlegend\": false, \"type\": \"scatter\", \"x\": [102.0, 104.0264, 106.0528, 108.0792, 110.1056, 112.132, 114.1584, 116.1848, 118.2112, 120.2376, 122.264, 124.2904, 126.3168, 128.3432, 130.3696, 132.39600000000002, 134.4224, 136.4488, 138.4752, 140.5016, 142.528, 144.5544, 146.5808, 148.6072, 150.6336, 152.66, 154.6864, 156.71280000000002, 158.7392, 160.7656, 162.792, 164.8184, 166.84480000000002, 168.8712, 170.8976, 172.924, 174.9504, 176.9768, 179.0032, 181.02960000000002, 183.05599999999998, 185.0824, 187.1088, 189.1352, 191.16160000000002, 193.188, 195.2144, 197.2408, 199.2672, 201.29360000000003, 203.32, 205.34640000000002, 207.37279999999998, 209.3992, 211.4256, 213.452, 215.47840000000002, 217.5048, 219.5312, 221.5576, 223.584, 225.61040000000003, 227.6368, 229.66320000000002, 231.6896, 233.716, 235.7424, 237.76880000000003, 239.79520000000002, 241.82160000000002, 243.848, 245.87439999999998, 247.9008, 249.9272, 251.9536, 253.98, 256.0064, 258.0328, 260.05920000000003, 262.0856, 264.11199999999997, 266.1384, 268.1648, 270.1912, 272.2176, 274.244, 276.2704, 278.2968, 280.32320000000004, 282.3496, 284.376, 286.4024, 288.4288, 290.4552, 292.4816, 294.50800000000004, 296.5344, 298.56080000000003, 300.58720000000005, 302.6136, 304.64, 306.6664, 308.69280000000003, 310.7192, 312.74559999999997, 314.772, 316.7984, 318.8248, 320.8512, 322.87760000000003, 324.904, 326.9304, 328.95680000000004, 330.9832, 333.0096, 335.036, 337.0624, 339.0888, 341.1152, 343.14160000000004, 345.168, 347.19440000000003, 349.22080000000005, 351.2472, 353.2736, 355.3, 357.32640000000004, 359.3528, 361.3792, 363.4056, 365.432, 367.45840000000004, 369.4848, 371.51120000000003, 373.53760000000005, 375.564, 377.59040000000005, 379.6168, 381.64320000000004, 383.66960000000006, 385.696, 387.72240000000005, 389.74879999999996, 391.7752, 393.8016, 395.828, 397.8544, 399.88079999999997, 401.9072, 403.9336, 405.96, 407.9864, 410.01279999999997, 412.0392, 414.0656, 416.092, 418.1184, 420.1448, 422.1712, 424.1976, 426.224, 428.2504, 430.2768, 432.3032, 434.3296, 436.356, 438.3824, 440.4088, 442.4352, 444.46160000000003, 446.488, 448.5144, 450.5408, 452.5672, 454.59360000000004, 456.62, 458.6464, 460.6728, 462.6992, 464.72560000000004, 466.752, 468.77840000000003, 470.8048, 472.8312, 474.85760000000005, 476.884, 478.91040000000004, 480.9368, 482.96320000000003, 484.98960000000005, 487.016, 489.04240000000004, 491.06880000000007, 493.09520000000003, 495.12160000000006, 497.148, 499.17440000000005, 501.2008000000001, 503.22720000000004, 505.25360000000006, 507.28, 509.3064, 511.3328, 513.3592, 515.3856000000001, 517.412, 519.4384, 521.4648, 523.4911999999999, 525.5176, 527.544, 529.5704000000001, 531.5968, 533.6232, 535.6496, 537.6759999999999, 539.7024, 541.7288000000001, 543.7552000000001, 545.7816, 547.808, 549.8344, 551.8608, 553.8872, 555.9136000000001, 557.94, 559.9664, 561.9928, 564.0192, 566.0456, 568.072, 570.0984000000001, 572.1248, 574.1512, 576.1776, 578.204, 580.2304, 582.2568000000001, 584.2832000000001, 586.3096, 588.336, 590.3624, 592.3888000000001, 594.4152, 596.4416000000001, 598.4680000000001, 600.4944, 602.5208, 604.5472, 606.5736, 608.6, 610.6264000000001, 612.6528000000001, 614.6792, 616.7056, 618.732, 620.7584, 622.7848, 624.8112, 626.8376, 628.864, 630.8904, 632.9168000000001, 634.9432, 636.9696, 638.996, 641.0224000000001, 643.0488, 645.0752000000001, 647.1016, 649.128, 651.1544, 653.1808000000001, 655.2072000000001, 657.2336, 659.26, 661.2864000000001, 663.3128, 665.3392000000001, 667.3656, 669.392, 671.4184, 673.4448000000001, 675.4712000000001, 677.4975999999999, 679.524, 681.5504, 683.5768, 685.6032, 687.6296, 689.656, 691.6824, 693.7088, 695.7352000000001, 697.7615999999999, 699.788, 701.8144, 703.8408000000001, 705.8672, 707.8936, 709.92, 711.9464, 713.9728, 715.9992000000001, 718.0255999999999, 720.052, 722.0784, 724.1048000000001, 726.1312, 728.1576, 730.184, 732.2104, 734.2368, 736.2632000000001, 738.2896, 740.316, 742.3424, 744.3688000000001, 746.3952, 748.4216, 750.448, 752.4744000000001, 754.5008, 756.5272000000001, 758.5536, 760.58, 762.6064, 764.6328000000001, 766.6592, 768.6856, 770.712, 772.7384000000001, 774.7648, 776.7912000000001, 778.8176, 780.844, 782.8704, 784.8968000000001, 786.9232000000001, 788.9496, 790.976, 793.0024000000001, 795.0288, 797.0552, 799.0816, 801.108, 803.1344, 805.1608, 807.1872000000001, 809.2135999999999, 811.24, 813.2664, 815.2928, 817.3192, 819.3456, 821.372, 823.3984, 825.4248, 827.4512000000001, 829.4775999999999, 831.504, 833.5304, 835.5568000000001, 837.5832, 839.6096, 841.636, 843.6624, 845.6888, 847.7152000000001, 849.7416, 851.768, 853.7944, 855.8208000000001, 857.8472, 859.8736, 861.9, 863.9264000000001, 865.9528, 867.9792000000001, 870.0056, 872.032, 874.0584, 876.0848000000001, 878.1112, 880.1376000000001, 882.164, 884.1904000000001, 886.2168, 888.2432000000001, 890.2696000000001, 892.296, 894.3224, 896.3488000000001, 898.3752000000001, 900.4016000000001, 902.428, 904.4544000000001, 906.4808, 908.5072000000001, 910.5336000000001, 912.56, 914.5864, 916.6128, 918.6392000000001, 920.6656, 922.692, 924.7184, 926.7448, 928.7712, 930.7976000000001, 932.824, 934.8504, 936.8768, 938.9032000000001, 940.9296, 942.956, 944.9824, 947.0088000000001, 949.0352, 951.0616000000001, 953.088, 955.1144, 957.1408, 959.1672000000001, 961.1936000000001, 963.22, 965.2464, 967.2728000000001, 969.2992, 971.3256000000001, 973.352, 975.3784, 977.4048, 979.4312000000001, 981.4576000000001, 983.484, 985.5104, 987.5368000000001, 989.5632, 991.5896000000001, 993.616, 995.6424000000001, 997.6688, 999.6952000000001, 1001.7216000000001, 1003.748, 1005.7744, 1007.8008000000001, 1009.8272000000001, 1011.8536000000001, 1013.88, 1015.9064000000001, 1017.9328, 1019.9592000000001, 1021.9856000000001, 1024.012, 1026.0384, 1028.0648, 1030.0912, 1032.1176, 1034.144, 1036.1704, 1038.1968000000002, 1040.2232, 1042.2496, 1044.2759999999998, 1046.3024, 1048.3288, 1050.3552, 1052.3816000000002, 1054.408, 1056.4344, 1058.4608, 1060.4872, 1062.5136000000002, 1064.54, 1066.5664000000002, 1068.5928, 1070.6192, 1072.6456, 1074.672, 1076.6984, 1078.7248, 1080.7512000000002, 1082.7776000000001, 1084.804, 1086.8304, 1088.8568, 1090.8832000000002, 1092.9096, 1094.9360000000001, 1096.9624, 1098.9888, 1101.0152, 1103.0416, 1105.068, 1107.0944, 1109.1208000000001, 1111.1472, 1113.1736], \"xaxis\": \"x\", \"y\": [0.0010373121109608367, 0.0010552272869881374, 0.0010732041257757927, 0.001091237277018113, 0.0011093213440815952, 0.0011274508871708104, 0.0011456204264519033, 0.0011638244451303286, 0.001182057392479729, 0.0012003136868192039, 0.0012185877184365053, 0.001236873852455023, 0.0012551664316427025, 0.0012734597791613895, 0.0012917482012553348, 0.001310025989877938, 0.0013282874252560555, 0.001346526778391506, 0.001364738313499657, 0.0013829162903852413, 0.001401054966755813, 0.0014191486004734766, 0.001437191451745764, 0.0014551777852567522, 0.001473101872239721, 0.0014909579924928212, 0.0015087404363394574, 0.0015264435065352059, 0.0015440615201232754, 0.0015615888102406556, 0.001579019727877233, 0.0015963486435902673, 0.0016135699491767383, 0.0016306780593061485, 0.0016476674131164955, 0.0016645324757761245, 0.0016812677400143078, 0.001697867727623398, 0.0017143269909354493, 0.001730640114276235, 0.0017468017153995945, 0.0017628064469050514, 0.0017786489976416406, 0.0017943240941008696, 0.0018098265018016944, 0.0018251510266703958, 0.0018402925164181553, 0.001855245861919112, 0.001870005998591609, 0.001884567907785266, 0.0018989266181764508, 0.0019130772071746399, 0.0019270148023420508, 0.0019407345828288689, 0.001954231780826238, 0.001967501683039131, 0.0019805396321810618, 0.0019933410284924797, 0.0020059013312845988, 0.0020182160605102346, 0.002030280798363104, 0.002042091190906922, 0.002053642949735433, 0.002064931853664419, 0.0020759537504565096, 0.0020867045585795403, 0.0020971802689989274, 0.002107376947004486, 0.0021172907340718462, 0.002126917849758497, 0.002136254593634306, 0.002145297347246165, 0.0021540425761162464, 0.002162486831773166, 0.002170626753815152, 0.0021784590720041555, 0.0021859806083896105, 0.0021931882794604188, 0.002200079098323471, 0.0022066501769069185, 0.0022128987281861095, 0.0022188220684300325, 0.002224417619465833, 0.002229682910958814, 0.002234615582705176, 0.002239213386934517, 0.0022434741906189907, 0.0022473959777857882, 0.0022509768518295015, 0.002254215037820714, 0.0022571088848069992, 0.002259656868102415, 0.0022618575915613367, 0.0022637097898323974, 0.002265212330588163, 0.002266364216725977, 0.002267164588535371, 0.0022676127258272555, 0.002267708050020043, 0.002267450126177711, 0.0022668386649947825, 0.0022658735247230717, 0.002264554713034987, 0.002262882388818163, 0.0022608568638960605, 0.002258478604669255, 0.00225574823367199, 0.002252666531038647, 0.0022492344358747514, 0.0022454530475271234, 0.0022413236267478783, 0.0022368475967469315, 0.0022320265441278025, 0.0022268622197015127, 0.002221356539173505, 0.002215511583698581, 0.0022093296002989675, 0.002202813002140775, 0.002195964368664213, 0.002188786445563135, 0.0021812821446096065, 0.002173454543319434, 0.0021653068844547482, 0.0021568425753600005, 0.0021480651871279284, 0.002138978453592327, 0.002129586270144729, 0.00211989269237235, 0.0021099019345150022, 0.002099618367738941, 0.0020890465182259793, 0.0020781910650765163, 0.002067056838025491, 0.0020556488149706393, 0.0020439721193128233, 0.002032032017108538, 0.002019833914035198, 0.002007383352170114, 0.001994686006584545, 0.0019817476817546374, 0.001968574307791474, 0.001955171936492893, 0.00194154673722021, 0.0019277049926033748, 0.0019136530940785847, 0.0018993975372627867, 0.0018849449171699606, 0.0018703019232745276, 0.0018554753344276287, 0.0018404720136324928, 0.0018252989026854988, 0.0018099630166899558, 0.0017944714384500525, 0.0017788313127527597, 0.0017630498405459194, 0.0017471342730210069, 0.0017310919056094884, 0.0017149300719019652, 0.0016986561374995642, 0.0016822774938073809, 0.0016658015517799487, 0.0016492357356289792, 0.0016325874765038017, 0.0016158642061550655, 0.001599073350592452, 0.001582222323747187, 0.001565318521150272, 0.001548369313637356, 0.0015313820410911456, 0.0015143640062323107, 0.0014973224684696723, 0.0014802646378204135, 0.0014631976689109334, 0.0014461286550687222, 0.0014290646225155216, 0.0014120125246717186, 0.0013949792365816607, 0.0013779715494693326, 0.0013609961654333842, 0.0013440596922902467, 0.0013271686385735654, 0.0013103294086978354, 0.001293548298293605, 0.0012768314897211646, 0.0012601850477691238, 0.0012436149155437472, 0.0012271269105543652, 0.0012107267209996607, 0.0011944199022589684, 0.00117821187359222, 0.001162107915051517, 0.0011461131646067144, 0.001130232615486817, 0.0011144711137383236, 0.0010988333560010917, 0.001083323887501677, 0.0010679471002634654, 0.0010527072315323943, 0.0010376083624163918, 0.0010226544167361849, 0.0010078491600845185, 0.0009931961990903254, 0.0009786989808838918, 0.0009643607927585452, 0.0009501847620239835, 0.0009361738560459081, 0.0009223308824662344, 0.0009086584895977997, 0.0008951591669871504, 0.000881835246138703, 0.0008686889013933091, 0.0008557221509540407, 0.0008429368580518296, 0.0008303347322434437, 0.0008179173308341886, 0.0008056860604176503, 0.0007936421785247686, 0.000781786795374545, 0.0007701208757187344, 0.0007586452407729524, 0.0007473605702267797, 0.000736267404325558, 0.0007253661460167989, 0.0007146570631543439, 0.0007041402907536532, 0.0006938158332919021, 0.000683683567046861, 0.0006737432424688705, 0.0006639944865805824, 0.0006544368053995038, 0.0006450695863787821, 0.0006358921008620569, 0.0006269035065486511, 0.0006181028499657578, 0.0006094890689447495, 0.0006010609950991396, 0.0005928173563021808, 0.000584756779162499, 0.0005768777914965967, 0.0005691788247974666, 0.0005616582166989791, 0.000554314213436072, 0.0005471449723011655, 0.0005401485640975788, 0.0005333229755910421, 0.000526666111960742, 0.0005201757992515827, 0.0005138497868296434, 0.0005076857498430131, 0.0005016812916903992, 0.0004958339465000696, 0.0004901411816218163, 0.00048460040013474507, 0.00047920894337374616, 0.00047396409347754147, 0.0004688630759611992, 0.00046390306231596954, 0.0004590811726392183, 0.0004543944782971303, 0.00044984000462271195, 0.00044541473365145235, 0.00044111560689678387, 0.00043693952816725896, 0.000432883366427088, 0.00042894395870138297, 0.000425118113027145, 0.0004214026114506769, 0.0004177942130717426, 0.0004142896571344081, 0.0004108856661641019, 0.00040757894915000346, 0.00040436620477145746, 0.000401244124666652, 0.0003982093967413774, 0.00039525870851521265, 0.0003923887505020533, 0.0003895962196214376, 0.00038687782263668977, 0.0003842302796154612, 0.0003816503274078333, 0.000379134723136717, 0.0003766802476949189, 0.00037428370924282896, 0.00037194194670036565, 0.0003696518332264558, 0.00036741027967903273, 0.0003652142380482589, 0.0003630607048554207, 0.00036094672450973786, 0.00035886939261514205, 0.00035682585921892725, 0.0003548133319940757, 0.0003528290793469734, 0.00035087043344220545, 0.0003489347931361236, 0.0003470196268109173, 0.0003451224751010092, 0.00034324095350371785, 0.0003413727548662954, 0.00033951565174165075, 0.0003376674986053161, 0.00033582623392649244, 0.00033398988208633467, 0.00033215655513698766, 0.00033032445439528323, 0.00032849187186542587, 0.0003266571914854602, 0.0003248188901927949, 0.0003229755388045778, 0.0003211258027092548, 0.0003192684423662162, 0.0003174023136110147, 0.00031552636776425194, 0.00031363965154284203, 0.00031174130677301095, 0.0003098305699050145, 0.0003079067713302384, 0.00030596933450197176, 0.0003040177748618316, 0.0003020516985744548, 0.00030007080107374417, 0.0002980748654245865, 0.0002960637605046155, 0.0002940374390111983, 0.00029199593529945044, 0.00028993936305766094, 0.00028786791282708635, 0.0002857818493736108, 0.00028368150891929623, 0.0002815672962423295, 0.000279439681654335, 0.00027729919786444884, 0.0002751464367399411, 0.0002729820459735219, 0.0002708067256677944, 0.00026862122484757966, 0.0002664263379110826, 0.00026422290103105916, 0.0002620117885172883, 0.0002597939091517655, 0.00025757020250808706, 0.00025534163526651796, 0.00025310919753619883, 0.0002508738991958807, 0.00024863676626445173, 0.00024639883731235925, 0.0002441611599248275, 0.0002419247872275122, 0.00023969077448495604, 0.00023746017578186622, 0.00023523404079686883, 0.00023301341167799441, 0.0002307993200286895, 0.00022859278401269044, 0.00022639480558557236, 0.00022420636786025684, 0.00022202843261319056, 0.00021986193793732092, 0.00021770779604737698, 0.00021556689124233784, 0.00021344007802931263, 0.00021132817941240498, 0.0002092319853494418, 0.00020715225137878348, 0.0002050896974177257, 0.0002030450067333221, 0.00020101882508576183, 0.00019901176004374782, 0.00019702438047064004, 0.00019505721617945823, 0.00019311075775417028, 0.00019118545653405868, 0.00018928172475731256, 0.00018739993585940328, 0.00018554042492119837, 0.0001837034892612212, 0.00018188938916592268, 0.00018009834875133376, 0.00017833055694898924, 0.00017658616860858435, 0.0001748653057094145, 0.00017316805867228978, 0.0001714944877632866, 0.00016984462458041172, 0.0001682184736140087, 0.00016661601387153575, 0.00016503720055717524, 0.00016348196679662823, 0.00016195022539736004, 0.00016044187063454413, 0.00015895678005295425, 0.0001574948162751181, 0.00015605582880614171, 0.0001546396558257539, 0.000153246125958306, 0.0001518750600116854, 0.00015052627267636128, 0.00014919957417608556, 0.00014789477186210668, 0.0001466116717431293, 0.0001453500799436534, 0.0001441098040837695, 0.0001428906545739469, 0.00014169244581884247, 0.00014051499732468386, 0.00013935813470530498, 0.00013822169058248226, 0.00013710550537678813, 0.00013600942798576698, 0.00013493331634684255, 0.00013387703788297014, 0.00013284046982966273, 0.00013182349944264104, 0.00013082602408596666, 0.00012984795120113985, 0.00012888919815824915, 0.0001279496919908584, 0.0001270293690169101, 0.00012612817434849792, 0.0001252460612939177, 0.0001243829906559528, 0.00012353892993086183, 0.00012271385241303758, 0.00012190773621077206, 0.00012112056317900647, 0.00012035231777535513, 0.00011960298584607473, 0.00011887255334899443, 0.00011816100502073865, 0.00011746832299584598, 0.00011679448538563179, 0.00011613946482483782, 0.00011550322699428078, 0.00011488572912782647, 0.00011428691851210756, 0.00011370673098743692, 0.0001131450894583788, 0.00011260190242239617, 0.00011207706252491949, 0.00011157044514906234, 0.00011108190704805796, 0.00011061128502829344, 0.00011015839469059437, 0.00010972302923714239, 0.00010930495835111484, 0.00010890392715580041, 0.00010851965525958496, 0.00010815183589280978, 0.0001078001351420862, 0.00010746419128720815, 0.00010714361424533674, 0.00010683798512664495, 0.00010654685590510525, 0.00010626974920758088, 0.00010600615822384791, 0.00010575554673962809, 0.0001055173492941604, 0.00010529097146327639, 0.00010507579026838391, 0.00010487115471119716, 0.00010467638643349123, 0.0001044907805006004, 0.00010431360630682831, 0.00010414410860039865, 0.00010398150862504293, 0.00010382500537481077, 0.00010367377695818431, 0.000103526982067103, 0.00010338376154604295, 0.00010324324005585928, 0.00010310452782668832, 0.00010296672249381926, 0.00010282891101008913, 0.00010269017162802406, 0.0001025495759446533, 0.00010240619100165638, 0.00010225908143326836, 0.00010210731165417154, 0.0001019499480794328, 0.00010178606136841835, 0.00010161472868451933, 0.00010143503596246339, 0.00010124608017496137, 0.0001010469715904492, 0.00010083683601372955, 0.00010061481700139885, 0.0001003800780440566, 0.00010013180470744384, 9.986920672483185e-05, 9.959152003319765e-05, 9.929800874595597e-05, 9.898796705529333e-05, 9.866072105743733e-05, 9.831563049452362e-05, 9.795209040706038e-05, 9.756953269136389e-05, 9.716742755672332e-05, 9.674528487745849e-05, 9.630265543546198e-05, 9.583913204924703e-05], \"yaxis\": \"y\"}, {\"legendgroup\": \"Schwere Angriffe\", \"marker\": {\"color\": \"rgb(31, 119, 180)\", \"symbol\": \"line-ns-open\"}, \"mode\": \"markers\", \"name\": \"Schwere Angriffe\", \"showlegend\": false, \"type\": \"scatter\", \"x\": [247.8, 465.1, 327.4, 386.8, 317.3, 264.7, 138.6, 428.2, 496.6, 264.3, 147.8, 195.4, 330.2, 179.9, 223.3, 280.0, 139.8, 435.1, 61.7, 413.8, 308.1, 362.9, 158.7, 149.4, 366.4, 228.5, 192.5, 361.5, 72.3, 184.4, 541.9, 239.7, 289.4, 65.5, 143.4, 370.5, 181.8, 235.0, 146.1, 579.0, 108.1, 541.9, 329.8, 143.4, 83.5, 154.8, 205.8, 206.1, 135.2, 188.1], \"xaxis\": \"x\", \"y\": [\"Schwere Angriffe\", \"Schwere Angriffe\", \"Schwere Angriffe\", \"Schwere Angriffe\", \"Schwere Angriffe\", \"Schwere Angriffe\", \"Schwere Angriffe\", \"Schwere Angriffe\", \"Schwere Angriffe\", \"Schwere Angriffe\", \"Schwere Angriffe\", \"Schwere Angriffe\", \"Schwere Angriffe\", \"Schwere Angriffe\", \"Schwere Angriffe\", \"Schwere Angriffe\", \"Schwere Angriffe\", \"Schwere Angriffe\", \"Schwere Angriffe\", \"Schwere Angriffe\", \"Schwere Angriffe\", \"Schwere Angriffe\", \"Schwere Angriffe\", \"Schwere Angriffe\", \"Schwere Angriffe\", \"Schwere Angriffe\", \"Schwere Angriffe\", \"Schwere Angriffe\", \"Schwere Angriffe\", \"Schwere Angriffe\", \"Schwere Angriffe\", \"Schwere Angriffe\", \"Schwere Angriffe\", \"Schwere Angriffe\", \"Schwere Angriffe\", \"Schwere Angriffe\", \"Schwere Angriffe\", \"Schwere Angriffe\", \"Schwere Angriffe\", \"Schwere Angriffe\", \"Schwere Angriffe\", \"Schwere Angriffe\", \"Schwere Angriffe\", \"Schwere Angriffe\", \"Schwere Angriffe\", \"Schwere Angriffe\", \"Schwere Angriffe\", \"Schwere Angriffe\", \"Schwere Angriffe\", \"Schwere Angriffe\"], \"yaxis\": \"y2\"}, {\"legendgroup\": \"Autodiebstahl\", \"marker\": {\"color\": \"rgb(255, 127, 14)\", \"symbol\": \"line-ns-open\"}, \"mode\": \"markers\", \"name\": \"Autodiebstahl\", \"showlegend\": false, \"type\": \"scatter\", \"x\": [288.3, 391.0, 924.4, 262.1, 712.8, 559.5, 296.8, 278.5, 423.3, 490.2, 716.4, 201.8, 308.6, 346.7, 184.6, 339.6, 210.8, 318.1, 102.0, 608.4, 295.1, 476.5, 278.2, 256.5, 443.1, 210.7, 316.5, 1115.2, 102.1, 317.5, 414.5, 185.6, 327.8, 166.0, 360.9, 391.8, 529.0, 236.5, 408.7, 384.4, 108.4, 420.6, 408.7, 343.9, 102.9, 211.1, 783.9, 210.0, 226.6, 145.1], \"xaxis\": \"x\", \"y\": [\"Autodiebstahl\", \"Autodiebstahl\", \"Autodiebstahl\", \"Autodiebstahl\", \"Autodiebstahl\", \"Autodiebstahl\", \"Autodiebstahl\", \"Autodiebstahl\", \"Autodiebstahl\", \"Autodiebstahl\", \"Autodiebstahl\", \"Autodiebstahl\", \"Autodiebstahl\", \"Autodiebstahl\", \"Autodiebstahl\", \"Autodiebstahl\", \"Autodiebstahl\", \"Autodiebstahl\", \"Autodiebstahl\", \"Autodiebstahl\", \"Autodiebstahl\", \"Autodiebstahl\", \"Autodiebstahl\", \"Autodiebstahl\", \"Autodiebstahl\", \"Autodiebstahl\", \"Autodiebstahl\", \"Autodiebstahl\", \"Autodiebstahl\", \"Autodiebstahl\", \"Autodiebstahl\", \"Autodiebstahl\", \"Autodiebstahl\", \"Autodiebstahl\", \"Autodiebstahl\", \"Autodiebstahl\", \"Autodiebstahl\", \"Autodiebstahl\", \"Autodiebstahl\", \"Autodiebstahl\", \"Autodiebstahl\", \"Autodiebstahl\", \"Autodiebstahl\", \"Autodiebstahl\", \"Autodiebstahl\", \"Autodiebstahl\", \"Autodiebstahl\", \"Autodiebstahl\", \"Autodiebstahl\", \"Autodiebstahl\"], \"yaxis\": \"y2\"}],\n",
              "                        {\"barmode\": \"overlay\", \"hovermode\": \"closest\", \"legend\": {\"traceorder\": \"reversed\"}, \"template\": {\"data\": {\"bar\": [{\"error_x\": {\"color\": \"#2a3f5f\"}, \"error_y\": {\"color\": \"#2a3f5f\"}, \"marker\": {\"line\": {\"color\": \"#E5ECF6\", \"width\": 0.5}}, \"type\": \"bar\"}], \"barpolar\": [{\"marker\": {\"line\": {\"color\": \"#E5ECF6\", \"width\": 0.5}}, \"type\": \"barpolar\"}], \"carpet\": [{\"aaxis\": {\"endlinecolor\": \"#2a3f5f\", \"gridcolor\": \"white\", \"linecolor\": \"white\", \"minorgridcolor\": \"white\", \"startlinecolor\": \"#2a3f5f\"}, \"baxis\": {\"endlinecolor\": \"#2a3f5f\", \"gridcolor\": \"white\", \"linecolor\": \"white\", \"minorgridcolor\": \"white\", \"startlinecolor\": \"#2a3f5f\"}, \"type\": \"carpet\"}], \"choropleth\": [{\"colorbar\": {\"outlinewidth\": 0, \"ticks\": \"\"}, \"type\": \"choropleth\"}], \"contour\": [{\"colorbar\": {\"outlinewidth\": 0, \"ticks\": \"\"}, \"colorscale\": [[0.0, \"#0d0887\"], [0.1111111111111111, \"#46039f\"], [0.2222222222222222, \"#7201a8\"], [0.3333333333333333, \"#9c179e\"], [0.4444444444444444, \"#bd3786\"], [0.5555555555555556, \"#d8576b\"], [0.6666666666666666, \"#ed7953\"], [0.7777777777777778, \"#fb9f3a\"], [0.8888888888888888, \"#fdca26\"], [1.0, \"#f0f921\"]], \"type\": \"contour\"}], \"contourcarpet\": [{\"colorbar\": {\"outlinewidth\": 0, \"ticks\": \"\"}, \"type\": \"contourcarpet\"}], \"heatmap\": [{\"colorbar\": {\"outlinewidth\": 0, \"ticks\": \"\"}, \"colorscale\": [[0.0, \"#0d0887\"], [0.1111111111111111, \"#46039f\"], [0.2222222222222222, \"#7201a8\"], [0.3333333333333333, \"#9c179e\"], [0.4444444444444444, \"#bd3786\"], [0.5555555555555556, \"#d8576b\"], [0.6666666666666666, \"#ed7953\"], [0.7777777777777778, \"#fb9f3a\"], [0.8888888888888888, \"#fdca26\"], [1.0, \"#f0f921\"]], \"type\": \"heatmap\"}], \"heatmapgl\": [{\"colorbar\": {\"outlinewidth\": 0, \"ticks\": \"\"}, \"colorscale\": [[0.0, \"#0d0887\"], [0.1111111111111111, \"#46039f\"], [0.2222222222222222, \"#7201a8\"], [0.3333333333333333, \"#9c179e\"], [0.4444444444444444, \"#bd3786\"], [0.5555555555555556, \"#d8576b\"], [0.6666666666666666, \"#ed7953\"], [0.7777777777777778, \"#fb9f3a\"], [0.8888888888888888, \"#fdca26\"], [1.0, \"#f0f921\"]], \"type\": \"heatmapgl\"}], \"histogram\": [{\"marker\": {\"colorbar\": {\"outlinewidth\": 0, \"ticks\": \"\"}}, \"type\": \"histogram\"}], \"histogram2d\": [{\"colorbar\": {\"outlinewidth\": 0, \"ticks\": \"\"}, \"colorscale\": [[0.0, \"#0d0887\"], [0.1111111111111111, \"#46039f\"], [0.2222222222222222, \"#7201a8\"], [0.3333333333333333, \"#9c179e\"], [0.4444444444444444, \"#bd3786\"], [0.5555555555555556, \"#d8576b\"], [0.6666666666666666, \"#ed7953\"], [0.7777777777777778, \"#fb9f3a\"], [0.8888888888888888, \"#fdca26\"], [1.0, \"#f0f921\"]], \"type\": \"histogram2d\"}], \"histogram2dcontour\": [{\"colorbar\": {\"outlinewidth\": 0, \"ticks\": \"\"}, \"colorscale\": [[0.0, \"#0d0887\"], [0.1111111111111111, \"#46039f\"], [0.2222222222222222, \"#7201a8\"], [0.3333333333333333, \"#9c179e\"], [0.4444444444444444, \"#bd3786\"], [0.5555555555555556, \"#d8576b\"], [0.6666666666666666, \"#ed7953\"], [0.7777777777777778, \"#fb9f3a\"], [0.8888888888888888, \"#fdca26\"], [1.0, \"#f0f921\"]], \"type\": \"histogram2dcontour\"}], \"mesh3d\": [{\"colorbar\": {\"outlinewidth\": 0, \"ticks\": \"\"}, \"type\": \"mesh3d\"}], \"parcoords\": [{\"line\": {\"colorbar\": {\"outlinewidth\": 0, \"ticks\": \"\"}}, \"type\": \"parcoords\"}], \"pie\": [{\"automargin\": true, \"type\": \"pie\"}], \"scatter\": [{\"marker\": {\"colorbar\": {\"outlinewidth\": 0, \"ticks\": \"\"}}, \"type\": \"scatter\"}], \"scatter3d\": [{\"line\": {\"colorbar\": {\"outlinewidth\": 0, \"ticks\": \"\"}}, \"marker\": {\"colorbar\": {\"outlinewidth\": 0, \"ticks\": \"\"}}, \"type\": \"scatter3d\"}], \"scattercarpet\": [{\"marker\": {\"colorbar\": {\"outlinewidth\": 0, \"ticks\": \"\"}}, \"type\": \"scattercarpet\"}], \"scattergeo\": [{\"marker\": {\"colorbar\": {\"outlinewidth\": 0, \"ticks\": \"\"}}, \"type\": \"scattergeo\"}], \"scattergl\": [{\"marker\": {\"colorbar\": {\"outlinewidth\": 0, \"ticks\": \"\"}}, \"type\": \"scattergl\"}], \"scattermapbox\": [{\"marker\": {\"colorbar\": {\"outlinewidth\": 0, \"ticks\": \"\"}}, \"type\": \"scattermapbox\"}], \"scatterpolar\": [{\"marker\": {\"colorbar\": {\"outlinewidth\": 0, \"ticks\": \"\"}}, \"type\": \"scatterpolar\"}], \"scatterpolargl\": [{\"marker\": {\"colorbar\": {\"outlinewidth\": 0, \"ticks\": \"\"}}, \"type\": \"scatterpolargl\"}], \"scatterternary\": [{\"marker\": {\"colorbar\": {\"outlinewidth\": 0, \"ticks\": \"\"}}, \"type\": \"scatterternary\"}], \"surface\": [{\"colorbar\": {\"outlinewidth\": 0, \"ticks\": \"\"}, \"colorscale\": [[0.0, \"#0d0887\"], [0.1111111111111111, \"#46039f\"], [0.2222222222222222, \"#7201a8\"], [0.3333333333333333, \"#9c179e\"], [0.4444444444444444, \"#bd3786\"], [0.5555555555555556, \"#d8576b\"], [0.6666666666666666, \"#ed7953\"], [0.7777777777777778, \"#fb9f3a\"], [0.8888888888888888, \"#fdca26\"], [1.0, \"#f0f921\"]], \"type\": \"surface\"}], \"table\": [{\"cells\": {\"fill\": {\"color\": \"#EBF0F8\"}, \"line\": {\"color\": \"white\"}}, \"header\": {\"fill\": {\"color\": \"#C8D4E3\"}, \"line\": {\"color\": \"white\"}}, \"type\": \"table\"}]}, \"layout\": {\"annotationdefaults\": {\"arrowcolor\": \"#2a3f5f\", \"arrowhead\": 0, \"arrowwidth\": 1}, \"coloraxis\": {\"colorbar\": {\"outlinewidth\": 0, \"ticks\": \"\"}}, \"colorscale\": {\"diverging\": [[0, \"#8e0152\"], [0.1, \"#c51b7d\"], [0.2, \"#de77ae\"], [0.3, \"#f1b6da\"], [0.4, \"#fde0ef\"], [0.5, \"#f7f7f7\"], [0.6, \"#e6f5d0\"], [0.7, \"#b8e186\"], [0.8, \"#7fbc41\"], [0.9, \"#4d9221\"], [1, \"#276419\"]], \"sequential\": [[0.0, \"#0d0887\"], [0.1111111111111111, \"#46039f\"], [0.2222222222222222, \"#7201a8\"], [0.3333333333333333, \"#9c179e\"], [0.4444444444444444, \"#bd3786\"], [0.5555555555555556, \"#d8576b\"], [0.6666666666666666, \"#ed7953\"], [0.7777777777777778, \"#fb9f3a\"], [0.8888888888888888, \"#fdca26\"], [1.0, \"#f0f921\"]], \"sequentialminus\": [[0.0, \"#0d0887\"], [0.1111111111111111, \"#46039f\"], [0.2222222222222222, \"#7201a8\"], [0.3333333333333333, \"#9c179e\"], [0.4444444444444444, \"#bd3786\"], [0.5555555555555556, \"#d8576b\"], [0.6666666666666666, \"#ed7953\"], [0.7777777777777778, \"#fb9f3a\"], [0.8888888888888888, \"#fdca26\"], [1.0, \"#f0f921\"]]}, \"colorway\": [\"#636efa\", \"#EF553B\", \"#00cc96\", \"#ab63fa\", \"#FFA15A\", \"#19d3f3\", \"#FF6692\", \"#B6E880\", \"#FF97FF\", \"#FECB52\"], \"font\": {\"color\": \"#2a3f5f\"}, \"geo\": {\"bgcolor\": \"white\", \"lakecolor\": \"white\", \"landcolor\": \"#E5ECF6\", \"showlakes\": true, \"showland\": true, \"subunitcolor\": \"white\"}, \"hoverlabel\": {\"align\": \"left\"}, \"hovermode\": \"closest\", \"mapbox\": {\"style\": \"light\"}, \"paper_bgcolor\": \"white\", \"plot_bgcolor\": \"#E5ECF6\", \"polar\": {\"angularaxis\": {\"gridcolor\": \"white\", \"linecolor\": \"white\", \"ticks\": \"\"}, \"bgcolor\": \"#E5ECF6\", \"radialaxis\": {\"gridcolor\": \"white\", \"linecolor\": \"white\", \"ticks\": \"\"}}, \"scene\": {\"xaxis\": {\"backgroundcolor\": \"#E5ECF6\", \"gridcolor\": \"white\", \"gridwidth\": 2, \"linecolor\": \"white\", \"showbackground\": true, \"ticks\": \"\", \"zerolinecolor\": \"white\"}, \"yaxis\": {\"backgroundcolor\": \"#E5ECF6\", \"gridcolor\": \"white\", \"gridwidth\": 2, \"linecolor\": \"white\", \"showbackground\": true, \"ticks\": \"\", \"zerolinecolor\": \"white\"}, \"zaxis\": {\"backgroundcolor\": \"#E5ECF6\", \"gridcolor\": \"white\", \"gridwidth\": 2, \"linecolor\": \"white\", \"showbackground\": true, \"ticks\": \"\", \"zerolinecolor\": \"white\"}}, \"shapedefaults\": {\"line\": {\"color\": \"#2a3f5f\"}}, \"ternary\": {\"aaxis\": {\"gridcolor\": \"white\", \"linecolor\": \"white\", \"ticks\": \"\"}, \"baxis\": {\"gridcolor\": \"white\", \"linecolor\": \"white\", \"ticks\": \"\"}, \"bgcolor\": \"#E5ECF6\", \"caxis\": {\"gridcolor\": \"white\", \"linecolor\": \"white\", \"ticks\": \"\"}}, \"title\": {\"x\": 0.05}, \"xaxis\": {\"automargin\": true, \"gridcolor\": \"white\", \"linecolor\": \"white\", \"ticks\": \"\", \"title\": {\"standoff\": 15}, \"zerolinecolor\": \"white\", \"zerolinewidth\": 2}, \"yaxis\": {\"automargin\": true, \"gridcolor\": \"white\", \"linecolor\": \"white\", \"ticks\": \"\", \"title\": {\"standoff\": 15}, \"zerolinecolor\": \"white\", \"zerolinewidth\": 2}}}, \"xaxis\": {\"anchor\": \"y2\", \"domain\": [0.0, 1.0], \"zeroline\": false}, \"yaxis\": {\"anchor\": \"free\", \"domain\": [0.35, 1], \"position\": 0.0}, \"yaxis2\": {\"anchor\": \"x\", \"domain\": [0, 0.25], \"dtick\": 1, \"showticklabels\": false}},\n",
              "                        {\"responsive\": true}\n",
              "                    ).then(function(){\n",
              "                            \n",
              "var gd = document.getElementById('e679267f-0bbf-455d-aa38-e04d294306b4');\n",
              "var x = new MutationObserver(function (mutations, observer) {{\n",
              "        var display = window.getComputedStyle(gd).display;\n",
              "        if (!display || display === 'none') {{\n",
              "            console.log([gd, 'removed!']);\n",
              "            Plotly.purge(gd);\n",
              "            observer.disconnect();\n",
              "        }}\n",
              "}});\n",
              "\n",
              "// Listen for the removal of the full notebook cells\n",
              "var notebookContainer = gd.closest('#notebook-container');\n",
              "if (notebookContainer) {{\n",
              "    x.observe(notebookContainer, {childList: true});\n",
              "}}\n",
              "\n",
              "// Listen for the clearing of the current output cell\n",
              "var outputEl = gd.closest('.output');\n",
              "if (outputEl) {{\n",
              "    x.observe(outputEl, {childList: true});\n",
              "}}\n",
              "\n",
              "                        })\n",
              "                };\n",
              "                \n",
              "            </script>\n",
              "        </div>\n",
              "</body>\n",
              "</html>"
            ]
          },
          "metadata": {
            "tags": []
          }
        }
      ]
    },
    {
      "cell_type": "markdown",
      "metadata": {
        "id": "senbXV5eaQn6",
        "colab_type": "text"
      },
      "source": [
        "### HeatMaps ###\n",
        "\n",
        "Eine Heatmap ist ein Diagramm zur Visualisierung von Daten. Heatmaps dienen dazu, große Datenmengen schnell überblicken zu können indem Zahlenwerte je nach Größe farblich markiert werden. Grundsätzlich kann man 3 Merkmale damit visualisieren. Je ein kategorisches Merkmal auf der X- und Y-Axe und ein weiteres Merkmal mittels Einfärbung."
      ]
    },
    {
      "cell_type": "code",
      "metadata": {
        "id": "UkWLQ-Ov2b7L",
        "colab_type": "code",
        "colab": {
          "base_uri": "https://localhost:8080/",
          "height": 542
        },
        "outputId": "9c6d08a9-9d37-46ab-a1ce-6fea8555f91c"
      },
      "source": [
        "# Einfache Heatmap\n",
        "\n",
        "import pandas as pd\n",
        "import plotly.graph_objs as go\n",
        "\n",
        "datlocsb = 'https://raw.githubusercontent.com/Pierian-Data/Plotly-Dashboards-with-Dash/master/Data/2010SantaBarbaraCA.csv'\n",
        "tempsb = pd.DataFrame(pd.read_csv(datlocsb))\n",
        "\n",
        "\n",
        "data = [go.Heatmap(\n",
        "                  x=tempsb['DAY'], \n",
        "                  y=tempsb['LST_TIME'],\n",
        "                  z=tempsb['T_HR_AVG'].values.tolist(), # Auf der Z-Achse können wir nur Pyton Lists anwenden.\n",
        "                  colorscale='Jet'\n",
        "                  )]\n",
        "\n",
        "layout = go.Layout(title='SB CA Temperatures')\n",
        "\n",
        "fig = go.Figure(data=data, layout=layout)\n",
        "fig.show()"
      ],
      "execution_count": 3,
      "outputs": [
        {
          "output_type": "display_data",
          "data": {
            "text/html": [
              "<html>\n",
              "<head><meta charset=\"utf-8\" /></head>\n",
              "<body>\n",
              "    <div>\n",
              "            <script src=\"https://cdnjs.cloudflare.com/ajax/libs/mathjax/2.7.5/MathJax.js?config=TeX-AMS-MML_SVG\"></script><script type=\"text/javascript\">if (window.MathJax) {MathJax.Hub.Config({SVG: {font: \"STIX-Web\"}});}</script>\n",
              "                <script type=\"text/javascript\">window.PlotlyConfig = {MathJaxConfig: 'local'};</script>\n",
              "        <script src=\"https://cdn.plot.ly/plotly-latest.min.js\"></script>    \n",
              "            <div id=\"5359c942-fa1f-4710-b02f-e3e735e054a3\" class=\"plotly-graph-div\" style=\"height:525px; width:100%;\"></div>\n",
              "            <script type=\"text/javascript\">\n",
              "                \n",
              "                    window.PLOTLYENV=window.PLOTLYENV || {};\n",
              "                    \n",
              "                if (document.getElementById(\"5359c942-fa1f-4710-b02f-e3e735e054a3\")) {\n",
              "                    Plotly.newPlot(\n",
              "                        '5359c942-fa1f-4710-b02f-e3e735e054a3',\n",
              "                        [{\"colorscale\": [[0.0, \"rgb(0,0,131)\"], [0.2, \"rgb(0,60,170)\"], [0.4, \"rgb(5,255,255)\"], [0.6, \"rgb(255,255,0)\"], [0.8, \"rgb(250,0,0)\"], [1.0, \"rgb(128,0,0)\"]], \"type\": \"heatmap\", \"x\": [\"TUESDAY\", \"TUESDAY\", \"TUESDAY\", \"TUESDAY\", \"TUESDAY\", \"TUESDAY\", \"TUESDAY\", \"TUESDAY\", \"TUESDAY\", \"TUESDAY\", \"TUESDAY\", \"TUESDAY\", \"TUESDAY\", \"TUESDAY\", \"TUESDAY\", \"TUESDAY\", \"TUESDAY\", \"TUESDAY\", \"TUESDAY\", \"TUESDAY\", \"TUESDAY\", \"TUESDAY\", \"TUESDAY\", \"TUESDAY\", \"WEDNESDAY\", \"WEDNESDAY\", \"WEDNESDAY\", \"WEDNESDAY\", \"WEDNESDAY\", \"WEDNESDAY\", \"WEDNESDAY\", \"WEDNESDAY\", \"WEDNESDAY\", \"WEDNESDAY\", \"WEDNESDAY\", \"WEDNESDAY\", \"WEDNESDAY\", \"WEDNESDAY\", \"WEDNESDAY\", \"WEDNESDAY\", \"WEDNESDAY\", \"WEDNESDAY\", \"WEDNESDAY\", \"WEDNESDAY\", \"WEDNESDAY\", \"WEDNESDAY\", \"WEDNESDAY\", \"WEDNESDAY\", \"THURSDAY\", \"THURSDAY\", \"THURSDAY\", \"THURSDAY\", \"THURSDAY\", \"THURSDAY\", \"THURSDAY\", \"THURSDAY\", \"THURSDAY\", \"THURSDAY\", \"THURSDAY\", \"THURSDAY\", \"THURSDAY\", \"THURSDAY\", \"THURSDAY\", \"THURSDAY\", \"THURSDAY\", \"THURSDAY\", \"THURSDAY\", \"THURSDAY\", \"THURSDAY\", \"THURSDAY\", \"THURSDAY\", \"THURSDAY\", \"FRIDAY\", \"FRIDAY\", \"FRIDAY\", \"FRIDAY\", \"FRIDAY\", \"FRIDAY\", \"FRIDAY\", \"FRIDAY\", \"FRIDAY\", \"FRIDAY\", \"FRIDAY\", \"FRIDAY\", \"FRIDAY\", \"FRIDAY\", \"FRIDAY\", \"FRIDAY\", \"FRIDAY\", \"FRIDAY\", \"FRIDAY\", \"FRIDAY\", \"FRIDAY\", \"FRIDAY\", \"FRIDAY\", \"FRIDAY\", \"SATURDAY\", \"SATURDAY\", \"SATURDAY\", \"SATURDAY\", \"SATURDAY\", \"SATURDAY\", \"SATURDAY\", \"SATURDAY\", \"SATURDAY\", \"SATURDAY\", \"SATURDAY\", \"SATURDAY\", \"SATURDAY\", \"SATURDAY\", \"SATURDAY\", \"SATURDAY\", \"SATURDAY\", \"SATURDAY\", \"SATURDAY\", \"SATURDAY\", \"SATURDAY\", \"SATURDAY\", \"SATURDAY\", \"SATURDAY\", \"SUNDAY\", \"SUNDAY\", \"SUNDAY\", \"SUNDAY\", \"SUNDAY\", \"SUNDAY\", \"SUNDAY\", \"SUNDAY\", \"SUNDAY\", \"SUNDAY\", \"SUNDAY\", \"SUNDAY\", \"SUNDAY\", \"SUNDAY\", \"SUNDAY\", \"SUNDAY\", \"SUNDAY\", \"SUNDAY\", \"SUNDAY\", \"SUNDAY\", \"SUNDAY\", \"SUNDAY\", \"SUNDAY\", \"SUNDAY\", \"MONDAY\", \"MONDAY\", \"MONDAY\", \"MONDAY\", \"MONDAY\", \"MONDAY\", \"MONDAY\", \"MONDAY\", \"MONDAY\", \"MONDAY\", \"MONDAY\", \"MONDAY\", \"MONDAY\", \"MONDAY\", \"MONDAY\", \"MONDAY\", \"MONDAY\", \"MONDAY\", \"MONDAY\", \"MONDAY\", \"MONDAY\", \"MONDAY\", \"MONDAY\", \"MONDAY\"], \"y\": [\"0:00\", \"1:00\", \"2:00\", \"3:00\", \"4:00\", \"5:00\", \"6:00\", \"7:00\", \"8:00\", \"9:00\", \"10:00\", \"11:00\", \"12:00\", \"13:00\", \"14:00\", \"15:00\", \"16:00\", \"17:00\", \"18:00\", \"19:00\", \"20:00\", \"21:00\", \"22:00\", \"23:00\", \"0:00\", \"1:00\", \"2:00\", \"3:00\", \"4:00\", \"5:00\", \"6:00\", \"7:00\", \"8:00\", \"9:00\", \"10:00\", \"11:00\", \"12:00\", \"13:00\", \"14:00\", \"15:00\", \"16:00\", \"17:00\", \"18:00\", \"19:00\", \"20:00\", \"21:00\", \"22:00\", \"23:00\", \"0:00\", \"1:00\", \"2:00\", \"3:00\", \"4:00\", \"5:00\", \"6:00\", \"7:00\", \"8:00\", \"9:00\", \"10:00\", \"11:00\", \"12:00\", \"13:00\", \"14:00\", \"15:00\", \"16:00\", \"17:00\", \"18:00\", \"19:00\", \"20:00\", \"21:00\", \"22:00\", \"23:00\", \"0:00\", \"1:00\", \"2:00\", \"3:00\", \"4:00\", \"5:00\", \"6:00\", \"7:00\", \"8:00\", \"9:00\", \"10:00\", \"11:00\", \"12:00\", \"13:00\", \"14:00\", \"15:00\", \"16:00\", \"17:00\", \"18:00\", \"19:00\", \"20:00\", \"21:00\", \"22:00\", \"23:00\", \"0:00\", \"1:00\", \"2:00\", \"3:00\", \"4:00\", \"5:00\", \"6:00\", \"7:00\", \"8:00\", \"9:00\", \"10:00\", \"11:00\", \"12:00\", \"13:00\", \"14:00\", \"15:00\", \"16:00\", \"17:00\", \"18:00\", \"19:00\", \"20:00\", \"21:00\", \"22:00\", \"23:00\", \"0:00\", \"1:00\", \"2:00\", \"3:00\", \"4:00\", \"5:00\", \"6:00\", \"7:00\", \"8:00\", \"9:00\", \"10:00\", \"11:00\", \"12:00\", \"13:00\", \"14:00\", \"15:00\", \"16:00\", \"17:00\", \"18:00\", \"19:00\", \"20:00\", \"21:00\", \"22:00\", \"23:00\", \"0:00\", \"1:00\", \"2:00\", \"3:00\", \"4:00\", \"5:00\", \"6:00\", \"7:00\", \"8:00\", \"9:00\", \"10:00\", \"11:00\", \"12:00\", \"13:00\", \"14:00\", \"15:00\", \"16:00\", \"17:00\", \"18:00\", \"19:00\", \"20:00\", \"21:00\", \"22:00\", \"23:00\"], \"z\": [25.2, 24.1, 24.4, 24.9, 22.8, 19.8, 18.8, 21.2, 24.2, 27.1, 29.3, 30.6, 32.6, 34.0, 34.0, 34.9, 34.6, 33.8, 33.5, 32.8, 31.0, 29.0, 27.6, 26.3, 23.8, 20.6, 19.1, 18.4, 18.9, 18.2, 17.9, 20.2, 23.8, 26.1, 27.9, 29.3, 30.9, 32.2, 33.1, 33.7, 34.5, 34.7, 34.8, 34.2, 32.8, 31.0, 28.7, 25.5, 24.3, 23.1, 21.8, 19.8, 18.5, 19.2, 19.7, 20.7, 23.2, 26.1, 28.6, 30.8, 32.3, 33.8, 34.9, 35.8, 35.9, 36.3, 35.8, 35.4, 34.2, 32.7, 31.1, 28.6, 26.4, 25.4, 24.2, 23.6, 22.5, 21.0, 21.3, 22.5, 24.7, 28.1, 30.6, 32.5, 33.9, 35.5, 36.6, 37.2, 37.8, 38.1, 38.2, 37.4, 36.0, 34.4, 32.6, 30.1, 28.3, 27.3, 26.3, 25.3, 24.7, 24.7, 23.9, 24.7, 27.7, 30.4, 32.6, 34.8, 36.4, 37.2, 38.4, 39.7, 40.0, 40.4, 40.1, 39.0, 37.3, 35.7, 33.9, 31.4, 29.7, 28.6, 26.9, 25.9, 25.2, 24.8, 23.9, 26.1, 27.9, 30.5, 33.7, 35.6, 36.9, 38.4, 39.2, 40.2, 40.6, 40.6, 40.3, 39.5, 37.9, 36.5, 35.0, 32.9, 30.9, 28.7, 26.9, 25.2, 24.1, 24.3, 23.4, 25.7, 28.5, 30.7, 32.5, 34.1, 36.1, 37.6, 39.0, 40.2, 40.3, 40.2, 40.1, 39.4, 38.5, 37.0, 34.7, 32.6]}],\n",
              "                        {\"template\": {\"data\": {\"bar\": [{\"error_x\": {\"color\": \"#2a3f5f\"}, \"error_y\": {\"color\": \"#2a3f5f\"}, \"marker\": {\"line\": {\"color\": \"#E5ECF6\", \"width\": 0.5}}, \"type\": \"bar\"}], \"barpolar\": [{\"marker\": {\"line\": {\"color\": \"#E5ECF6\", \"width\": 0.5}}, \"type\": \"barpolar\"}], \"carpet\": [{\"aaxis\": {\"endlinecolor\": \"#2a3f5f\", \"gridcolor\": \"white\", \"linecolor\": \"white\", \"minorgridcolor\": \"white\", \"startlinecolor\": \"#2a3f5f\"}, \"baxis\": {\"endlinecolor\": \"#2a3f5f\", \"gridcolor\": \"white\", \"linecolor\": \"white\", \"minorgridcolor\": \"white\", \"startlinecolor\": \"#2a3f5f\"}, \"type\": \"carpet\"}], \"choropleth\": [{\"colorbar\": {\"outlinewidth\": 0, \"ticks\": \"\"}, \"type\": \"choropleth\"}], \"contour\": [{\"colorbar\": {\"outlinewidth\": 0, \"ticks\": \"\"}, \"colorscale\": [[0.0, \"#0d0887\"], [0.1111111111111111, \"#46039f\"], [0.2222222222222222, \"#7201a8\"], [0.3333333333333333, \"#9c179e\"], [0.4444444444444444, \"#bd3786\"], [0.5555555555555556, \"#d8576b\"], [0.6666666666666666, \"#ed7953\"], [0.7777777777777778, \"#fb9f3a\"], [0.8888888888888888, \"#fdca26\"], [1.0, \"#f0f921\"]], \"type\": \"contour\"}], \"contourcarpet\": [{\"colorbar\": {\"outlinewidth\": 0, \"ticks\": \"\"}, \"type\": \"contourcarpet\"}], \"heatmap\": [{\"colorbar\": {\"outlinewidth\": 0, \"ticks\": \"\"}, \"colorscale\": [[0.0, \"#0d0887\"], [0.1111111111111111, \"#46039f\"], [0.2222222222222222, \"#7201a8\"], [0.3333333333333333, \"#9c179e\"], [0.4444444444444444, \"#bd3786\"], [0.5555555555555556, \"#d8576b\"], [0.6666666666666666, \"#ed7953\"], [0.7777777777777778, \"#fb9f3a\"], [0.8888888888888888, \"#fdca26\"], [1.0, \"#f0f921\"]], \"type\": \"heatmap\"}], \"heatmapgl\": [{\"colorbar\": {\"outlinewidth\": 0, \"ticks\": \"\"}, \"colorscale\": [[0.0, \"#0d0887\"], [0.1111111111111111, \"#46039f\"], [0.2222222222222222, \"#7201a8\"], [0.3333333333333333, \"#9c179e\"], [0.4444444444444444, \"#bd3786\"], [0.5555555555555556, \"#d8576b\"], [0.6666666666666666, \"#ed7953\"], [0.7777777777777778, \"#fb9f3a\"], [0.8888888888888888, \"#fdca26\"], [1.0, \"#f0f921\"]], \"type\": \"heatmapgl\"}], \"histogram\": [{\"marker\": {\"colorbar\": {\"outlinewidth\": 0, \"ticks\": \"\"}}, \"type\": \"histogram\"}], \"histogram2d\": [{\"colorbar\": {\"outlinewidth\": 0, \"ticks\": \"\"}, \"colorscale\": [[0.0, \"#0d0887\"], [0.1111111111111111, \"#46039f\"], [0.2222222222222222, \"#7201a8\"], [0.3333333333333333, \"#9c179e\"], [0.4444444444444444, \"#bd3786\"], [0.5555555555555556, \"#d8576b\"], [0.6666666666666666, \"#ed7953\"], [0.7777777777777778, \"#fb9f3a\"], [0.8888888888888888, \"#fdca26\"], [1.0, \"#f0f921\"]], \"type\": \"histogram2d\"}], \"histogram2dcontour\": [{\"colorbar\": {\"outlinewidth\": 0, \"ticks\": \"\"}, \"colorscale\": [[0.0, \"#0d0887\"], [0.1111111111111111, \"#46039f\"], [0.2222222222222222, \"#7201a8\"], [0.3333333333333333, \"#9c179e\"], [0.4444444444444444, \"#bd3786\"], [0.5555555555555556, \"#d8576b\"], [0.6666666666666666, \"#ed7953\"], [0.7777777777777778, \"#fb9f3a\"], [0.8888888888888888, \"#fdca26\"], [1.0, \"#f0f921\"]], \"type\": \"histogram2dcontour\"}], \"mesh3d\": [{\"colorbar\": {\"outlinewidth\": 0, \"ticks\": \"\"}, \"type\": \"mesh3d\"}], \"parcoords\": [{\"line\": {\"colorbar\": {\"outlinewidth\": 0, \"ticks\": \"\"}}, \"type\": \"parcoords\"}], \"pie\": [{\"automargin\": true, \"type\": \"pie\"}], \"scatter\": [{\"marker\": {\"colorbar\": {\"outlinewidth\": 0, \"ticks\": \"\"}}, \"type\": \"scatter\"}], \"scatter3d\": [{\"line\": {\"colorbar\": {\"outlinewidth\": 0, \"ticks\": \"\"}}, \"marker\": {\"colorbar\": {\"outlinewidth\": 0, \"ticks\": \"\"}}, \"type\": \"scatter3d\"}], \"scattercarpet\": [{\"marker\": {\"colorbar\": {\"outlinewidth\": 0, \"ticks\": \"\"}}, \"type\": \"scattercarpet\"}], \"scattergeo\": [{\"marker\": {\"colorbar\": {\"outlinewidth\": 0, \"ticks\": \"\"}}, \"type\": \"scattergeo\"}], \"scattergl\": [{\"marker\": {\"colorbar\": {\"outlinewidth\": 0, \"ticks\": \"\"}}, \"type\": \"scattergl\"}], \"scattermapbox\": [{\"marker\": {\"colorbar\": {\"outlinewidth\": 0, \"ticks\": \"\"}}, \"type\": \"scattermapbox\"}], \"scatterpolar\": [{\"marker\": {\"colorbar\": {\"outlinewidth\": 0, \"ticks\": \"\"}}, \"type\": \"scatterpolar\"}], \"scatterpolargl\": [{\"marker\": {\"colorbar\": {\"outlinewidth\": 0, \"ticks\": \"\"}}, \"type\": \"scatterpolargl\"}], \"scatterternary\": [{\"marker\": {\"colorbar\": {\"outlinewidth\": 0, \"ticks\": \"\"}}, \"type\": \"scatterternary\"}], \"surface\": [{\"colorbar\": {\"outlinewidth\": 0, \"ticks\": \"\"}, \"colorscale\": [[0.0, \"#0d0887\"], [0.1111111111111111, \"#46039f\"], [0.2222222222222222, \"#7201a8\"], [0.3333333333333333, \"#9c179e\"], [0.4444444444444444, \"#bd3786\"], [0.5555555555555556, \"#d8576b\"], [0.6666666666666666, \"#ed7953\"], [0.7777777777777778, \"#fb9f3a\"], [0.8888888888888888, \"#fdca26\"], [1.0, \"#f0f921\"]], \"type\": \"surface\"}], \"table\": [{\"cells\": {\"fill\": {\"color\": \"#EBF0F8\"}, \"line\": {\"color\": \"white\"}}, \"header\": {\"fill\": {\"color\": \"#C8D4E3\"}, \"line\": {\"color\": \"white\"}}, \"type\": \"table\"}]}, \"layout\": {\"annotationdefaults\": {\"arrowcolor\": \"#2a3f5f\", \"arrowhead\": 0, \"arrowwidth\": 1}, \"coloraxis\": {\"colorbar\": {\"outlinewidth\": 0, \"ticks\": \"\"}}, \"colorscale\": {\"diverging\": [[0, \"#8e0152\"], [0.1, \"#c51b7d\"], [0.2, \"#de77ae\"], [0.3, \"#f1b6da\"], [0.4, \"#fde0ef\"], [0.5, \"#f7f7f7\"], [0.6, \"#e6f5d0\"], [0.7, \"#b8e186\"], [0.8, \"#7fbc41\"], [0.9, \"#4d9221\"], [1, \"#276419\"]], \"sequential\": [[0.0, \"#0d0887\"], [0.1111111111111111, \"#46039f\"], [0.2222222222222222, \"#7201a8\"], [0.3333333333333333, \"#9c179e\"], [0.4444444444444444, \"#bd3786\"], [0.5555555555555556, \"#d8576b\"], [0.6666666666666666, \"#ed7953\"], [0.7777777777777778, \"#fb9f3a\"], [0.8888888888888888, \"#fdca26\"], [1.0, \"#f0f921\"]], \"sequentialminus\": [[0.0, \"#0d0887\"], [0.1111111111111111, \"#46039f\"], [0.2222222222222222, \"#7201a8\"], [0.3333333333333333, \"#9c179e\"], [0.4444444444444444, \"#bd3786\"], [0.5555555555555556, \"#d8576b\"], [0.6666666666666666, \"#ed7953\"], [0.7777777777777778, \"#fb9f3a\"], [0.8888888888888888, \"#fdca26\"], [1.0, \"#f0f921\"]]}, \"colorway\": [\"#636efa\", \"#EF553B\", \"#00cc96\", \"#ab63fa\", \"#FFA15A\", \"#19d3f3\", \"#FF6692\", \"#B6E880\", \"#FF97FF\", \"#FECB52\"], \"font\": {\"color\": \"#2a3f5f\"}, \"geo\": {\"bgcolor\": \"white\", \"lakecolor\": \"white\", \"landcolor\": \"#E5ECF6\", \"showlakes\": true, \"showland\": true, \"subunitcolor\": \"white\"}, \"hoverlabel\": {\"align\": \"left\"}, \"hovermode\": \"closest\", \"mapbox\": {\"style\": \"light\"}, \"paper_bgcolor\": \"white\", \"plot_bgcolor\": \"#E5ECF6\", \"polar\": {\"angularaxis\": {\"gridcolor\": \"white\", \"linecolor\": \"white\", \"ticks\": \"\"}, \"bgcolor\": \"#E5ECF6\", \"radialaxis\": {\"gridcolor\": \"white\", \"linecolor\": \"white\", \"ticks\": \"\"}}, \"scene\": {\"xaxis\": {\"backgroundcolor\": \"#E5ECF6\", \"gridcolor\": \"white\", \"gridwidth\": 2, \"linecolor\": \"white\", \"showbackground\": true, \"ticks\": \"\", \"zerolinecolor\": \"white\"}, \"yaxis\": {\"backgroundcolor\": \"#E5ECF6\", \"gridcolor\": \"white\", \"gridwidth\": 2, \"linecolor\": \"white\", \"showbackground\": true, \"ticks\": \"\", \"zerolinecolor\": \"white\"}, \"zaxis\": {\"backgroundcolor\": \"#E5ECF6\", \"gridcolor\": \"white\", \"gridwidth\": 2, \"linecolor\": \"white\", \"showbackground\": true, \"ticks\": \"\", \"zerolinecolor\": \"white\"}}, \"shapedefaults\": {\"line\": {\"color\": \"#2a3f5f\"}}, \"ternary\": {\"aaxis\": {\"gridcolor\": \"white\", \"linecolor\": \"white\", \"ticks\": \"\"}, \"baxis\": {\"gridcolor\": \"white\", \"linecolor\": \"white\", \"ticks\": \"\"}, \"bgcolor\": \"#E5ECF6\", \"caxis\": {\"gridcolor\": \"white\", \"linecolor\": \"white\", \"ticks\": \"\"}}, \"title\": {\"x\": 0.05}, \"xaxis\": {\"automargin\": true, \"gridcolor\": \"white\", \"linecolor\": \"white\", \"ticks\": \"\", \"title\": {\"standoff\": 15}, \"zerolinecolor\": \"white\", \"zerolinewidth\": 2}, \"yaxis\": {\"automargin\": true, \"gridcolor\": \"white\", \"linecolor\": \"white\", \"ticks\": \"\", \"title\": {\"standoff\": 15}, \"zerolinecolor\": \"white\", \"zerolinewidth\": 2}}}, \"title\": {\"text\": \"SB CA Temperatures\"}},\n",
              "                        {\"responsive\": true}\n",
              "                    ).then(function(){\n",
              "                            \n",
              "var gd = document.getElementById('5359c942-fa1f-4710-b02f-e3e735e054a3');\n",
              "var x = new MutationObserver(function (mutations, observer) {{\n",
              "        var display = window.getComputedStyle(gd).display;\n",
              "        if (!display || display === 'none') {{\n",
              "            console.log([gd, 'removed!']);\n",
              "            Plotly.purge(gd);\n",
              "            observer.disconnect();\n",
              "        }}\n",
              "}});\n",
              "\n",
              "// Listen for the removal of the full notebook cells\n",
              "var notebookContainer = gd.closest('#notebook-container');\n",
              "if (notebookContainer) {{\n",
              "    x.observe(notebookContainer, {childList: true});\n",
              "}}\n",
              "\n",
              "// Listen for the clearing of the current output cell\n",
              "var outputEl = gd.closest('.output');\n",
              "if (outputEl) {{\n",
              "    x.observe(outputEl, {childList: true});\n",
              "}}\n",
              "\n",
              "                        })\n",
              "                };\n",
              "                \n",
              "            </script>\n",
              "        </div>\n",
              "</body>\n",
              "</html>"
            ]
          },
          "metadata": {
            "tags": []
          }
        }
      ]
    },
    {
      "cell_type": "code",
      "metadata": {
        "id": "5C5Xbyez4DZU",
        "colab_type": "code",
        "colab": {
          "base_uri": "https://localhost:8080/",
          "height": 542
        },
        "outputId": "b7334766-301c-4515-d0ff-3eaa781626da"
      },
      "source": [
        "# Heatmap mit Subplots\n",
        "\n",
        "import pandas as pd\n",
        "import plotly.graph_objs as go\n",
        "# Um mit Subplots zu arbeiten benötigen wir noch die Libray Subplots von Plotly\n",
        "from plotly import subplots \n",
        "\n",
        "datlocyu = 'https://raw.githubusercontent.com/Pierian-Data/Plotly-Dashboards-with-Dash/master/Data/2010YumaAZ.csv'\n",
        "datlocsb = 'https://raw.githubusercontent.com/Pierian-Data/Plotly-Dashboards-with-Dash/master/Data/2010SantaBarbaraCA.csv'\n",
        "datlocsi = 'https://raw.githubusercontent.com/Pierian-Data/Plotly-Dashboards-with-Dash/master/Data/2010SitkaAK.csv'\n",
        "tempsi = pd.DataFrame(pd.read_csv(datlocsi))\n",
        "tempsb = pd.DataFrame(pd.read_csv(datlocsb))\n",
        "tempyu = pd.DataFrame(pd.read_csv(datlocyu))\n",
        "\n",
        "# Bei einem Subplots erstellen wir erneut Traces\n",
        "trace1 = go.Heatmap (x=tempsi['DAY'], y=tempsi['LST_TIME'],z=tempsi['T_HR_AVG'], colorscale='JET',zmin=5,zmax=40)\n",
        "trace2 = go.Heatmap (x=tempsb['DAY'], y=tempsb['LST_TIME'],z=tempsb['T_HR_AVG'], colorscale='JET',zmin=5,zmax=40)\n",
        "trace3 = go.Heatmap (x=tempyu['DAY'], y=tempyu['LST_TIME'],z=tempyu['T_HR_AVG'], colorscale='JET',zmin=5,zmax=40)\n",
        "\n",
        "fig = subplots.make_subplots(rows=1, # Definiert auf wievielen Zeilen die Plots verteilt werden sollen\n",
        "                          cols=3, # Definiert auf wievielen Spalten die Plots verteilt werden sollen\n",
        "                          subplot_titles=['Sitka AK', 'SantaBarbara', 'Yuma AZ'],\n",
        "                          shared_yaxes=False) # Definiert, ob nur eine Y-Achse beschriftet wird oder alle.\n",
        "\n",
        "fig.append_trace(trace1,1,1) #1 Zeile, 1 Spalte\n",
        "fig.append_trace(trace2,1,2) #1 Zeile, 2 Spalte\n",
        "fig.append_trace(trace3,1,3) #1 Zeile, 3 Spalte\n",
        "\n",
        "fig['layout'].update(title='Temperaturen für 3 US Städte') # Hier sprechen wir das Gesamtlayout an\n",
        "\n",
        "fig.show()\n"
      ],
      "execution_count": 20,
      "outputs": [
        {
          "output_type": "display_data",
          "data": {
            "text/html": [
              "<html>\n",
              "<head><meta charset=\"utf-8\" /></head>\n",
              "<body>\n",
              "    <div>\n",
              "            <script src=\"https://cdnjs.cloudflare.com/ajax/libs/mathjax/2.7.5/MathJax.js?config=TeX-AMS-MML_SVG\"></script><script type=\"text/javascript\">if (window.MathJax) {MathJax.Hub.Config({SVG: {font: \"STIX-Web\"}});}</script>\n",
              "                <script type=\"text/javascript\">window.PlotlyConfig = {MathJaxConfig: 'local'};</script>\n",
              "        <script src=\"https://cdn.plot.ly/plotly-latest.min.js\"></script>    \n",
              "            <div id=\"47e4b2ab-ae31-4650-b2e8-64f188561eee\" class=\"plotly-graph-div\" style=\"height:525px; width:100%;\"></div>\n",
              "            <script type=\"text/javascript\">\n",
              "                \n",
              "                    window.PLOTLYENV=window.PLOTLYENV || {};\n",
              "                    \n",
              "                if (document.getElementById(\"47e4b2ab-ae31-4650-b2e8-64f188561eee\")) {\n",
              "                    Plotly.newPlot(\n",
              "                        '47e4b2ab-ae31-4650-b2e8-64f188561eee',\n",
              "                        [{\"colorscale\": [[0.0, \"rgb(0,0,131)\"], [0.2, \"rgb(0,60,170)\"], [0.4, \"rgb(5,255,255)\"], [0.6, \"rgb(255,255,0)\"], [0.8, \"rgb(250,0,0)\"], [1.0, \"rgb(128,0,0)\"]], \"type\": \"heatmap\", \"x\": [\"TUESDAY\", \"TUESDAY\", \"TUESDAY\", \"TUESDAY\", \"TUESDAY\", \"TUESDAY\", \"TUESDAY\", \"TUESDAY\", \"TUESDAY\", \"TUESDAY\", \"TUESDAY\", \"TUESDAY\", \"TUESDAY\", \"TUESDAY\", \"TUESDAY\", \"TUESDAY\", \"TUESDAY\", \"TUESDAY\", \"TUESDAY\", \"TUESDAY\", \"TUESDAY\", \"TUESDAY\", \"TUESDAY\", \"TUESDAY\", \"WEDNESDAY\", \"WEDNESDAY\", \"WEDNESDAY\", \"WEDNESDAY\", \"WEDNESDAY\", \"WEDNESDAY\", \"WEDNESDAY\", \"WEDNESDAY\", \"WEDNESDAY\", \"WEDNESDAY\", \"WEDNESDAY\", \"WEDNESDAY\", \"WEDNESDAY\", \"WEDNESDAY\", \"WEDNESDAY\", \"WEDNESDAY\", \"WEDNESDAY\", \"WEDNESDAY\", \"WEDNESDAY\", \"WEDNESDAY\", \"WEDNESDAY\", \"WEDNESDAY\", \"WEDNESDAY\", \"WEDNESDAY\", \"THURSDAY\", \"THURSDAY\", \"THURSDAY\", \"THURSDAY\", \"THURSDAY\", \"THURSDAY\", \"THURSDAY\", \"THURSDAY\", \"THURSDAY\", \"THURSDAY\", \"THURSDAY\", \"THURSDAY\", \"THURSDAY\", \"THURSDAY\", \"THURSDAY\", \"THURSDAY\", \"THURSDAY\", \"THURSDAY\", \"THURSDAY\", \"THURSDAY\", \"THURSDAY\", \"THURSDAY\", \"THURSDAY\", \"THURSDAY\", \"FRIDAY\", \"FRIDAY\", \"FRIDAY\", \"FRIDAY\", \"FRIDAY\", \"FRIDAY\", \"FRIDAY\", \"FRIDAY\", \"FRIDAY\", \"FRIDAY\", \"FRIDAY\", \"FRIDAY\", \"FRIDAY\", \"FRIDAY\", \"FRIDAY\", \"FRIDAY\", \"FRIDAY\", \"FRIDAY\", \"FRIDAY\", \"FRIDAY\", \"FRIDAY\", \"FRIDAY\", \"FRIDAY\", \"FRIDAY\", \"SATURDAY\", \"SATURDAY\", \"SATURDAY\", \"SATURDAY\", \"SATURDAY\", \"SATURDAY\", \"SATURDAY\", \"SATURDAY\", \"SATURDAY\", \"SATURDAY\", \"SATURDAY\", \"SATURDAY\", \"SATURDAY\", \"SATURDAY\", \"SATURDAY\", \"SATURDAY\", \"SATURDAY\", \"SATURDAY\", \"SATURDAY\", \"SATURDAY\", \"SATURDAY\", \"SATURDAY\", \"SATURDAY\", \"SATURDAY\", \"SUNDAY\", \"SUNDAY\", \"SUNDAY\", \"SUNDAY\", \"SUNDAY\", \"SUNDAY\", \"SUNDAY\", \"SUNDAY\", \"SUNDAY\", \"SUNDAY\", \"SUNDAY\", \"SUNDAY\", \"SUNDAY\", \"SUNDAY\", \"SUNDAY\", \"SUNDAY\", \"SUNDAY\", \"SUNDAY\", \"SUNDAY\", \"SUNDAY\", \"SUNDAY\", \"SUNDAY\", \"SUNDAY\", \"SUNDAY\", \"MONDAY\", \"MONDAY\", \"MONDAY\", \"MONDAY\", \"MONDAY\", \"MONDAY\", \"MONDAY\", \"MONDAY\", \"MONDAY\", \"MONDAY\", \"MONDAY\", \"MONDAY\", \"MONDAY\", \"MONDAY\", \"MONDAY\", \"MONDAY\", \"MONDAY\", \"MONDAY\", \"MONDAY\", \"MONDAY\", \"MONDAY\", \"MONDAY\", \"MONDAY\", \"MONDAY\"], \"xaxis\": \"x\", \"y\": [\"0:00\", \"1:00\", \"2:00\", \"3:00\", \"4:00\", \"5:00\", \"6:00\", \"7:00\", \"8:00\", \"9:00\", \"10:00\", \"11:00\", \"12:00\", \"13:00\", \"14:00\", \"15:00\", \"16:00\", \"17:00\", \"18:00\", \"19:00\", \"20:00\", \"21:00\", \"22:00\", \"23:00\", \"0:00\", \"1:00\", \"2:00\", \"3:00\", \"4:00\", \"5:00\", \"6:00\", \"7:00\", \"8:00\", \"9:00\", \"10:00\", \"11:00\", \"12:00\", \"13:00\", \"14:00\", \"15:00\", \"16:00\", \"17:00\", \"18:00\", \"19:00\", \"20:00\", \"21:00\", \"22:00\", \"23:00\", \"0:00\", \"1:00\", \"2:00\", \"3:00\", \"4:00\", \"5:00\", \"6:00\", \"7:00\", \"8:00\", \"9:00\", \"10:00\", \"11:00\", \"12:00\", \"13:00\", \"14:00\", \"15:00\", \"16:00\", \"17:00\", \"18:00\", \"19:00\", \"20:00\", \"21:00\", \"22:00\", \"23:00\", \"0:00\", \"1:00\", \"2:00\", \"3:00\", \"4:00\", \"5:00\", \"6:00\", \"7:00\", \"8:00\", \"9:00\", \"10:00\", \"11:00\", \"12:00\", \"13:00\", \"14:00\", \"15:00\", \"16:00\", \"17:00\", \"18:00\", \"19:00\", \"20:00\", \"21:00\", \"22:00\", \"23:00\", \"0:00\", \"1:00\", \"2:00\", \"3:00\", \"4:00\", \"5:00\", \"6:00\", \"7:00\", \"8:00\", \"9:00\", \"10:00\", \"11:00\", \"12:00\", \"13:00\", \"14:00\", \"15:00\", \"16:00\", \"17:00\", \"18:00\", \"19:00\", \"20:00\", \"21:00\", \"22:00\", \"23:00\", \"0:00\", \"1:00\", \"2:00\", \"3:00\", \"4:00\", \"5:00\", \"6:00\", \"7:00\", \"8:00\", \"9:00\", \"10:00\", \"11:00\", \"12:00\", \"13:00\", \"14:00\", \"15:00\", \"16:00\", \"17:00\", \"18:00\", \"19:00\", \"20:00\", \"21:00\", \"22:00\", \"23:00\", \"0:00\", \"1:00\", \"2:00\", \"3:00\", \"4:00\", \"5:00\", \"6:00\", \"7:00\", \"8:00\", \"9:00\", \"10:00\", \"11:00\", \"12:00\", \"13:00\", \"14:00\", \"15:00\", \"16:00\", \"17:00\", \"18:00\", \"19:00\", \"20:00\", \"21:00\", \"22:00\", \"23:00\"], \"yaxis\": \"y\", \"z\": [10.5, 10.5, 10.0, 9.7, 9.4, 9.4, 9.7, 10.3, 10.9, 10.8, 10.6, 11.9, 12.3, 14.9, 16.0, 14.1, 14.8, 16.6, 16.2, 14.7, 13.9, 13.6, 13.5, 12.7, 12.6, 12.1, 12.4, 12.7, 12.0, 11.5, 12.1, 14.2, 15.3, 16.0, 17.2, 16.7, 15.7, 15.4, 15.9, 12.1, 9.9, 9.7, 10.8, 10.2, 9.1, 7.1, 6.0, 5.4, 5.7, 6.0, 6.4, 6.4, 6.6, 6.9, 7.9, 9.5, 11.9, 13.1, 13.8, 14.0, 14.9, 15.1, 13.7, 14.4, 13.2, 10.9, 9.6, 9.7, 9.6, 8.9, 7.7, 7.8, 7.6, 7.3, 6.1, 5.5, 5.2, 6.9, 8.8, 9.7, 11.9, 12.5, 13.8, 14.1, 14.3, 15.7, 16.5, 15.0, 13.4, 13.1, 12.6, 12.1, 10.3, 9.5, 9.1, 8.7, 9.3, 9.6, 9.0, 8.6, 8.4, 8.6, 9.0, 9.5, 10.2, 10.9, 12.0, 11.4, 11.4, 11.3, 12.0, 13.0, 12.3, 11.1, 10.7, 10.5, 10.0, 9.6, 8.1, 7.0, 5.9, 5.3, 4.9, 4.3, 3.9, 4.1, 5.7, 8.3, 11.3, 13.4, 14.3, 14.8, 14.4, 14.7, 14.8, 14.6, 15.1, 15.3, 14.9, 13.9, 12.1, 9.9, 8.1, 6.9, 5.9, 5.2, 4.6, 4.0, 3.7, 4.3, 6.0, 8.8, 10.7, 11.9, 13.1, 14.0, 14.2, 13.6, 13.7, 13.5, 12.8, 12.6, 12.0, 11.9, 10.8, 9.2, 7.8, 6.7], \"zmax\": 40, \"zmin\": 5}, {\"colorscale\": [[0.0, \"rgb(0,0,131)\"], [0.2, \"rgb(0,60,170)\"], [0.4, \"rgb(5,255,255)\"], [0.6, \"rgb(255,255,0)\"], [0.8, \"rgb(250,0,0)\"], [1.0, \"rgb(128,0,0)\"]], \"type\": \"heatmap\", \"x\": [\"TUESDAY\", \"TUESDAY\", \"TUESDAY\", \"TUESDAY\", \"TUESDAY\", \"TUESDAY\", \"TUESDAY\", \"TUESDAY\", \"TUESDAY\", \"TUESDAY\", \"TUESDAY\", \"TUESDAY\", \"TUESDAY\", \"TUESDAY\", \"TUESDAY\", \"TUESDAY\", \"TUESDAY\", \"TUESDAY\", \"TUESDAY\", \"TUESDAY\", \"TUESDAY\", \"TUESDAY\", \"TUESDAY\", \"TUESDAY\", \"WEDNESDAY\", \"WEDNESDAY\", \"WEDNESDAY\", \"WEDNESDAY\", \"WEDNESDAY\", \"WEDNESDAY\", \"WEDNESDAY\", \"WEDNESDAY\", \"WEDNESDAY\", \"WEDNESDAY\", \"WEDNESDAY\", \"WEDNESDAY\", \"WEDNESDAY\", \"WEDNESDAY\", \"WEDNESDAY\", \"WEDNESDAY\", \"WEDNESDAY\", \"WEDNESDAY\", \"WEDNESDAY\", \"WEDNESDAY\", \"WEDNESDAY\", \"WEDNESDAY\", \"WEDNESDAY\", \"WEDNESDAY\", \"THURSDAY\", \"THURSDAY\", \"THURSDAY\", \"THURSDAY\", \"THURSDAY\", \"THURSDAY\", \"THURSDAY\", \"THURSDAY\", \"THURSDAY\", \"THURSDAY\", \"THURSDAY\", \"THURSDAY\", \"THURSDAY\", \"THURSDAY\", \"THURSDAY\", \"THURSDAY\", \"THURSDAY\", \"THURSDAY\", \"THURSDAY\", \"THURSDAY\", \"THURSDAY\", \"THURSDAY\", \"THURSDAY\", \"THURSDAY\", \"FRIDAY\", \"FRIDAY\", \"FRIDAY\", \"FRIDAY\", \"FRIDAY\", \"FRIDAY\", \"FRIDAY\", \"FRIDAY\", \"FRIDAY\", \"FRIDAY\", \"FRIDAY\", \"FRIDAY\", \"FRIDAY\", \"FRIDAY\", \"FRIDAY\", \"FRIDAY\", \"FRIDAY\", \"FRIDAY\", \"FRIDAY\", \"FRIDAY\", \"FRIDAY\", \"FRIDAY\", \"FRIDAY\", \"FRIDAY\", \"SATURDAY\", \"SATURDAY\", \"SATURDAY\", \"SATURDAY\", \"SATURDAY\", \"SATURDAY\", \"SATURDAY\", \"SATURDAY\", \"SATURDAY\", \"SATURDAY\", \"SATURDAY\", \"SATURDAY\", \"SATURDAY\", \"SATURDAY\", \"SATURDAY\", \"SATURDAY\", \"SATURDAY\", \"SATURDAY\", \"SATURDAY\", \"SATURDAY\", \"SATURDAY\", \"SATURDAY\", \"SATURDAY\", \"SATURDAY\", \"SUNDAY\", \"SUNDAY\", \"SUNDAY\", \"SUNDAY\", \"SUNDAY\", \"SUNDAY\", \"SUNDAY\", \"SUNDAY\", \"SUNDAY\", \"SUNDAY\", \"SUNDAY\", \"SUNDAY\", \"SUNDAY\", \"SUNDAY\", \"SUNDAY\", \"SUNDAY\", \"SUNDAY\", \"SUNDAY\", \"SUNDAY\", \"SUNDAY\", \"SUNDAY\", \"SUNDAY\", \"SUNDAY\", \"SUNDAY\", \"MONDAY\", \"MONDAY\", \"MONDAY\", \"MONDAY\", \"MONDAY\", \"MONDAY\", \"MONDAY\", \"MONDAY\", \"MONDAY\", \"MONDAY\", \"MONDAY\", \"MONDAY\", \"MONDAY\", \"MONDAY\", \"MONDAY\", \"MONDAY\", \"MONDAY\", \"MONDAY\", \"MONDAY\", \"MONDAY\", \"MONDAY\", \"MONDAY\", \"MONDAY\", \"MONDAY\"], \"xaxis\": \"x2\", \"y\": [\"0:00\", \"1:00\", \"2:00\", \"3:00\", \"4:00\", \"5:00\", \"6:00\", \"7:00\", \"8:00\", \"9:00\", \"10:00\", \"11:00\", \"12:00\", \"13:00\", \"14:00\", \"15:00\", \"16:00\", \"17:00\", \"18:00\", \"19:00\", \"20:00\", \"21:00\", \"22:00\", \"23:00\", \"0:00\", \"1:00\", \"2:00\", \"3:00\", \"4:00\", \"5:00\", \"6:00\", \"7:00\", \"8:00\", \"9:00\", \"10:00\", \"11:00\", \"12:00\", \"13:00\", \"14:00\", \"15:00\", \"16:00\", \"17:00\", \"18:00\", \"19:00\", \"20:00\", \"21:00\", \"22:00\", \"23:00\", \"0:00\", \"1:00\", \"2:00\", \"3:00\", \"4:00\", \"5:00\", \"6:00\", \"7:00\", \"8:00\", \"9:00\", \"10:00\", \"11:00\", \"12:00\", \"13:00\", \"14:00\", \"15:00\", \"16:00\", \"17:00\", \"18:00\", \"19:00\", \"20:00\", \"21:00\", \"22:00\", \"23:00\", \"0:00\", \"1:00\", \"2:00\", \"3:00\", \"4:00\", \"5:00\", \"6:00\", \"7:00\", \"8:00\", \"9:00\", \"10:00\", \"11:00\", \"12:00\", \"13:00\", \"14:00\", \"15:00\", \"16:00\", \"17:00\", \"18:00\", \"19:00\", \"20:00\", \"21:00\", \"22:00\", \"23:00\", \"0:00\", \"1:00\", \"2:00\", \"3:00\", \"4:00\", \"5:00\", \"6:00\", \"7:00\", \"8:00\", \"9:00\", \"10:00\", \"11:00\", \"12:00\", \"13:00\", \"14:00\", \"15:00\", \"16:00\", \"17:00\", \"18:00\", \"19:00\", \"20:00\", \"21:00\", \"22:00\", \"23:00\", \"0:00\", \"1:00\", \"2:00\", \"3:00\", \"4:00\", \"5:00\", \"6:00\", \"7:00\", \"8:00\", \"9:00\", \"10:00\", \"11:00\", \"12:00\", \"13:00\", \"14:00\", \"15:00\", \"16:00\", \"17:00\", \"18:00\", \"19:00\", \"20:00\", \"21:00\", \"22:00\", \"23:00\", \"0:00\", \"1:00\", \"2:00\", \"3:00\", \"4:00\", \"5:00\", \"6:00\", \"7:00\", \"8:00\", \"9:00\", \"10:00\", \"11:00\", \"12:00\", \"13:00\", \"14:00\", \"15:00\", \"16:00\", \"17:00\", \"18:00\", \"19:00\", \"20:00\", \"21:00\", \"22:00\", \"23:00\"], \"yaxis\": \"y2\", \"z\": [12.7, 12.7, 12.3, 12.5, 12.7, 12.7, 13.0, 12.7, 12.8, 12.7, 13.2, 14.1, 14.8, 15.3, 15.6, 15.8, 16.0, 15.5, 14.9, 14.4, 13.6, 13.1, 12.3, 11.9, 11.3, 11.1, 10.8, 10.5, 10.4, 10.3, 11.8, 13.7, 14.5, 14.3, 14.9, 16.0, 16.5, 17.0, 17.1, 16.9, 16.4, 15.9, 15.4, 14.4, 13.6, 13.7, 12.8, 12.8, 12.1, 11.9, 11.6, 11.5, 11.2, 12.4, 12.9, 13.7, 14.0, 14.1, 14.5, 14.9, 15.7, 15.6, 15.5, 15.8, 15.6, 14.9, 14.9, 14.5, 13.8, 13.7, 13.6, 13.7, 13.8, 13.0, 12.7, 13.3, 13.6, 13.6, 13.7, 14.1, 14.7, 14.8, 15.9, 16.3, 16.5, 16.8, 17.3, 17.0, 16.3, 15.6, 15.3, 15.0, 14.4, 14.3, 14.2, 14.1, 14.2, 14.0, 13.7, 13.7, 13.7, 13.7, 13.8, 14.2, 14.6, 15.1, 16.2, 17.2, 17.3, 17.2, 17.0, 16.9, 16.2, 15.5, 15.3, 14.6, 15.0, 15.2, 15.0, 15.1, 15.0, 15.0, 15.0, 15.1, 15.2, 15.2, 15.2, 15.3, 15.3, 15.3, 15.8, 16.3, 17.4, 17.6, 17.7, 17.4, 16.4, 16.2, 16.0, 15.0, 13.9, 13.7, 14.6, 15.0, 15.1, 14.9, 14.8, 14.8, 14.9, 14.9, 14.8, 14.9, 15.1, 15.3, 15.6, 15.8, 16.5, 16.5, 16.8, 17.5, 17.7, 17.6, 16.5, 15.6, 14.8, 14.3, 14.4, 14.6], \"zmax\": 40, \"zmin\": 5}, {\"colorscale\": [[0.0, \"rgb(0,0,131)\"], [0.2, \"rgb(0,60,170)\"], [0.4, \"rgb(5,255,255)\"], [0.6, \"rgb(255,255,0)\"], [0.8, \"rgb(250,0,0)\"], [1.0, \"rgb(128,0,0)\"]], \"type\": \"heatmap\", \"x\": [\"TUESDAY\", \"TUESDAY\", \"TUESDAY\", \"TUESDAY\", \"TUESDAY\", \"TUESDAY\", \"TUESDAY\", \"TUESDAY\", \"TUESDAY\", \"TUESDAY\", \"TUESDAY\", \"TUESDAY\", \"TUESDAY\", \"TUESDAY\", \"TUESDAY\", \"TUESDAY\", \"TUESDAY\", \"TUESDAY\", \"TUESDAY\", \"TUESDAY\", \"TUESDAY\", \"TUESDAY\", \"TUESDAY\", \"TUESDAY\", \"WEDNESDAY\", \"WEDNESDAY\", \"WEDNESDAY\", \"WEDNESDAY\", \"WEDNESDAY\", \"WEDNESDAY\", \"WEDNESDAY\", \"WEDNESDAY\", \"WEDNESDAY\", \"WEDNESDAY\", \"WEDNESDAY\", \"WEDNESDAY\", \"WEDNESDAY\", \"WEDNESDAY\", \"WEDNESDAY\", \"WEDNESDAY\", \"WEDNESDAY\", \"WEDNESDAY\", \"WEDNESDAY\", \"WEDNESDAY\", \"WEDNESDAY\", \"WEDNESDAY\", \"WEDNESDAY\", \"WEDNESDAY\", \"THURSDAY\", \"THURSDAY\", \"THURSDAY\", \"THURSDAY\", \"THURSDAY\", \"THURSDAY\", \"THURSDAY\", \"THURSDAY\", \"THURSDAY\", \"THURSDAY\", \"THURSDAY\", \"THURSDAY\", \"THURSDAY\", \"THURSDAY\", \"THURSDAY\", \"THURSDAY\", \"THURSDAY\", \"THURSDAY\", \"THURSDAY\", \"THURSDAY\", \"THURSDAY\", \"THURSDAY\", \"THURSDAY\", \"THURSDAY\", \"FRIDAY\", \"FRIDAY\", \"FRIDAY\", \"FRIDAY\", \"FRIDAY\", \"FRIDAY\", \"FRIDAY\", \"FRIDAY\", \"FRIDAY\", \"FRIDAY\", \"FRIDAY\", \"FRIDAY\", \"FRIDAY\", \"FRIDAY\", \"FRIDAY\", \"FRIDAY\", \"FRIDAY\", \"FRIDAY\", \"FRIDAY\", \"FRIDAY\", \"FRIDAY\", \"FRIDAY\", \"FRIDAY\", \"FRIDAY\", \"SATURDAY\", \"SATURDAY\", \"SATURDAY\", \"SATURDAY\", \"SATURDAY\", \"SATURDAY\", \"SATURDAY\", \"SATURDAY\", \"SATURDAY\", \"SATURDAY\", \"SATURDAY\", \"SATURDAY\", \"SATURDAY\", \"SATURDAY\", \"SATURDAY\", \"SATURDAY\", \"SATURDAY\", \"SATURDAY\", \"SATURDAY\", \"SATURDAY\", \"SATURDAY\", \"SATURDAY\", \"SATURDAY\", \"SATURDAY\", \"SUNDAY\", \"SUNDAY\", \"SUNDAY\", \"SUNDAY\", \"SUNDAY\", \"SUNDAY\", \"SUNDAY\", \"SUNDAY\", \"SUNDAY\", \"SUNDAY\", \"SUNDAY\", \"SUNDAY\", \"SUNDAY\", \"SUNDAY\", \"SUNDAY\", \"SUNDAY\", \"SUNDAY\", \"SUNDAY\", \"SUNDAY\", \"SUNDAY\", \"SUNDAY\", \"SUNDAY\", \"SUNDAY\", \"SUNDAY\", \"MONDAY\", \"MONDAY\", \"MONDAY\", \"MONDAY\", \"MONDAY\", \"MONDAY\", \"MONDAY\", \"MONDAY\", \"MONDAY\", \"MONDAY\", \"MONDAY\", \"MONDAY\", \"MONDAY\", \"MONDAY\", \"MONDAY\", \"MONDAY\", \"MONDAY\", \"MONDAY\", \"MONDAY\", \"MONDAY\", \"MONDAY\", \"MONDAY\", \"MONDAY\", \"MONDAY\"], \"xaxis\": \"x3\", \"y\": [\"0:00\", \"1:00\", \"2:00\", \"3:00\", \"4:00\", \"5:00\", \"6:00\", \"7:00\", \"8:00\", \"9:00\", \"10:00\", \"11:00\", \"12:00\", \"13:00\", \"14:00\", \"15:00\", \"16:00\", \"17:00\", \"18:00\", \"19:00\", \"20:00\", \"21:00\", \"22:00\", \"23:00\", \"0:00\", \"1:00\", \"2:00\", \"3:00\", \"4:00\", \"5:00\", \"6:00\", \"7:00\", \"8:00\", \"9:00\", \"10:00\", \"11:00\", \"12:00\", \"13:00\", \"14:00\", \"15:00\", \"16:00\", \"17:00\", \"18:00\", \"19:00\", \"20:00\", \"21:00\", \"22:00\", \"23:00\", \"0:00\", \"1:00\", \"2:00\", \"3:00\", \"4:00\", \"5:00\", \"6:00\", \"7:00\", \"8:00\", \"9:00\", \"10:00\", \"11:00\", \"12:00\", \"13:00\", \"14:00\", \"15:00\", \"16:00\", \"17:00\", \"18:00\", \"19:00\", \"20:00\", \"21:00\", \"22:00\", \"23:00\", \"0:00\", \"1:00\", \"2:00\", \"3:00\", \"4:00\", \"5:00\", \"6:00\", \"7:00\", \"8:00\", \"9:00\", \"10:00\", \"11:00\", \"12:00\", \"13:00\", \"14:00\", \"15:00\", \"16:00\", \"17:00\", \"18:00\", \"19:00\", \"20:00\", \"21:00\", \"22:00\", \"23:00\", \"0:00\", \"1:00\", \"2:00\", \"3:00\", \"4:00\", \"5:00\", \"6:00\", \"7:00\", \"8:00\", \"9:00\", \"10:00\", \"11:00\", \"12:00\", \"13:00\", \"14:00\", \"15:00\", \"16:00\", \"17:00\", \"18:00\", \"19:00\", \"20:00\", \"21:00\", \"22:00\", \"23:00\", \"0:00\", \"1:00\", \"2:00\", \"3:00\", \"4:00\", \"5:00\", \"6:00\", \"7:00\", \"8:00\", \"9:00\", \"10:00\", \"11:00\", \"12:00\", \"13:00\", \"14:00\", \"15:00\", \"16:00\", \"17:00\", \"18:00\", \"19:00\", \"20:00\", \"21:00\", \"22:00\", \"23:00\", \"0:00\", \"1:00\", \"2:00\", \"3:00\", \"4:00\", \"5:00\", \"6:00\", \"7:00\", \"8:00\", \"9:00\", \"10:00\", \"11:00\", \"12:00\", \"13:00\", \"14:00\", \"15:00\", \"16:00\", \"17:00\", \"18:00\", \"19:00\", \"20:00\", \"21:00\", \"22:00\", \"23:00\"], \"yaxis\": \"y3\", \"z\": [25.2, 24.1, 24.4, 24.9, 22.8, 19.8, 18.8, 21.2, 24.2, 27.1, 29.3, 30.6, 32.6, 34.0, 34.0, 34.9, 34.6, 33.8, 33.5, 32.8, 31.0, 29.0, 27.6, 26.3, 23.8, 20.6, 19.1, 18.4, 18.9, 18.2, 17.9, 20.2, 23.8, 26.1, 27.9, 29.3, 30.9, 32.2, 33.1, 33.7, 34.5, 34.7, 34.8, 34.2, 32.8, 31.0, 28.7, 25.5, 24.3, 23.1, 21.8, 19.8, 18.5, 19.2, 19.7, 20.7, 23.2, 26.1, 28.6, 30.8, 32.3, 33.8, 34.9, 35.8, 35.9, 36.3, 35.8, 35.4, 34.2, 32.7, 31.1, 28.6, 26.4, 25.4, 24.2, 23.6, 22.5, 21.0, 21.3, 22.5, 24.7, 28.1, 30.6, 32.5, 33.9, 35.5, 36.6, 37.2, 37.8, 38.1, 38.2, 37.4, 36.0, 34.4, 32.6, 30.1, 28.3, 27.3, 26.3, 25.3, 24.7, 24.7, 23.9, 24.7, 27.7, 30.4, 32.6, 34.8, 36.4, 37.2, 38.4, 39.7, 40.0, 40.4, 40.1, 39.0, 37.3, 35.7, 33.9, 31.4, 29.7, 28.6, 26.9, 25.9, 25.2, 24.8, 23.9, 26.1, 27.9, 30.5, 33.7, 35.6, 36.9, 38.4, 39.2, 40.2, 40.6, 40.6, 40.3, 39.5, 37.9, 36.5, 35.0, 32.9, 30.9, 28.7, 26.9, 25.2, 24.1, 24.3, 23.4, 25.7, 28.5, 30.7, 32.5, 34.1, 36.1, 37.6, 39.0, 40.2, 40.3, 40.2, 40.1, 39.4, 38.5, 37.0, 34.7, 32.6], \"zmax\": 40, \"zmin\": 5}],\n",
              "                        {\"annotations\": [{\"font\": {\"size\": 16}, \"showarrow\": false, \"text\": \"Sitka AK\", \"x\": 0.14444444444444446, \"xanchor\": \"center\", \"xref\": \"paper\", \"y\": 1.0, \"yanchor\": \"bottom\", \"yref\": \"paper\"}, {\"font\": {\"size\": 16}, \"showarrow\": false, \"text\": \"SantaBarbara\", \"x\": 0.5, \"xanchor\": \"center\", \"xref\": \"paper\", \"y\": 1.0, \"yanchor\": \"bottom\", \"yref\": \"paper\"}, {\"font\": {\"size\": 16}, \"showarrow\": false, \"text\": \"Yuma AZ\", \"x\": 0.8555555555555556, \"xanchor\": \"center\", \"xref\": \"paper\", \"y\": 1.0, \"yanchor\": \"bottom\", \"yref\": \"paper\"}], \"template\": {\"data\": {\"bar\": [{\"error_x\": {\"color\": \"#2a3f5f\"}, \"error_y\": {\"color\": \"#2a3f5f\"}, \"marker\": {\"line\": {\"color\": \"#E5ECF6\", \"width\": 0.5}}, \"type\": \"bar\"}], \"barpolar\": [{\"marker\": {\"line\": {\"color\": \"#E5ECF6\", \"width\": 0.5}}, \"type\": \"barpolar\"}], \"carpet\": [{\"aaxis\": {\"endlinecolor\": \"#2a3f5f\", \"gridcolor\": \"white\", \"linecolor\": \"white\", \"minorgridcolor\": \"white\", \"startlinecolor\": \"#2a3f5f\"}, \"baxis\": {\"endlinecolor\": \"#2a3f5f\", \"gridcolor\": \"white\", \"linecolor\": \"white\", \"minorgridcolor\": \"white\", \"startlinecolor\": \"#2a3f5f\"}, \"type\": \"carpet\"}], \"choropleth\": [{\"colorbar\": {\"outlinewidth\": 0, \"ticks\": \"\"}, \"type\": \"choropleth\"}], \"contour\": [{\"colorbar\": {\"outlinewidth\": 0, \"ticks\": \"\"}, \"colorscale\": [[0.0, \"#0d0887\"], [0.1111111111111111, \"#46039f\"], [0.2222222222222222, \"#7201a8\"], [0.3333333333333333, \"#9c179e\"], [0.4444444444444444, \"#bd3786\"], [0.5555555555555556, \"#d8576b\"], [0.6666666666666666, \"#ed7953\"], [0.7777777777777778, \"#fb9f3a\"], [0.8888888888888888, \"#fdca26\"], [1.0, \"#f0f921\"]], \"type\": \"contour\"}], \"contourcarpet\": [{\"colorbar\": {\"outlinewidth\": 0, \"ticks\": \"\"}, \"type\": \"contourcarpet\"}], \"heatmap\": [{\"colorbar\": {\"outlinewidth\": 0, \"ticks\": \"\"}, \"colorscale\": [[0.0, \"#0d0887\"], [0.1111111111111111, \"#46039f\"], [0.2222222222222222, \"#7201a8\"], [0.3333333333333333, \"#9c179e\"], [0.4444444444444444, \"#bd3786\"], [0.5555555555555556, \"#d8576b\"], [0.6666666666666666, \"#ed7953\"], [0.7777777777777778, \"#fb9f3a\"], [0.8888888888888888, \"#fdca26\"], [1.0, \"#f0f921\"]], \"type\": \"heatmap\"}], \"heatmapgl\": [{\"colorbar\": {\"outlinewidth\": 0, \"ticks\": \"\"}, \"colorscale\": [[0.0, \"#0d0887\"], [0.1111111111111111, \"#46039f\"], [0.2222222222222222, \"#7201a8\"], [0.3333333333333333, \"#9c179e\"], [0.4444444444444444, \"#bd3786\"], [0.5555555555555556, \"#d8576b\"], [0.6666666666666666, \"#ed7953\"], [0.7777777777777778, \"#fb9f3a\"], [0.8888888888888888, \"#fdca26\"], [1.0, \"#f0f921\"]], \"type\": \"heatmapgl\"}], \"histogram\": [{\"marker\": {\"colorbar\": {\"outlinewidth\": 0, \"ticks\": \"\"}}, \"type\": \"histogram\"}], \"histogram2d\": [{\"colorbar\": {\"outlinewidth\": 0, \"ticks\": \"\"}, \"colorscale\": [[0.0, \"#0d0887\"], [0.1111111111111111, \"#46039f\"], [0.2222222222222222, \"#7201a8\"], [0.3333333333333333, \"#9c179e\"], [0.4444444444444444, \"#bd3786\"], [0.5555555555555556, \"#d8576b\"], [0.6666666666666666, \"#ed7953\"], [0.7777777777777778, \"#fb9f3a\"], [0.8888888888888888, \"#fdca26\"], [1.0, \"#f0f921\"]], \"type\": \"histogram2d\"}], \"histogram2dcontour\": [{\"colorbar\": {\"outlinewidth\": 0, \"ticks\": \"\"}, \"colorscale\": [[0.0, \"#0d0887\"], [0.1111111111111111, \"#46039f\"], [0.2222222222222222, \"#7201a8\"], [0.3333333333333333, \"#9c179e\"], [0.4444444444444444, \"#bd3786\"], [0.5555555555555556, \"#d8576b\"], [0.6666666666666666, \"#ed7953\"], [0.7777777777777778, \"#fb9f3a\"], [0.8888888888888888, \"#fdca26\"], [1.0, \"#f0f921\"]], \"type\": \"histogram2dcontour\"}], \"mesh3d\": [{\"colorbar\": {\"outlinewidth\": 0, \"ticks\": \"\"}, \"type\": \"mesh3d\"}], \"parcoords\": [{\"line\": {\"colorbar\": {\"outlinewidth\": 0, \"ticks\": \"\"}}, \"type\": \"parcoords\"}], \"pie\": [{\"automargin\": true, \"type\": \"pie\"}], \"scatter\": [{\"marker\": {\"colorbar\": {\"outlinewidth\": 0, \"ticks\": \"\"}}, \"type\": \"scatter\"}], \"scatter3d\": [{\"line\": {\"colorbar\": {\"outlinewidth\": 0, \"ticks\": \"\"}}, \"marker\": {\"colorbar\": {\"outlinewidth\": 0, \"ticks\": \"\"}}, \"type\": \"scatter3d\"}], \"scattercarpet\": [{\"marker\": {\"colorbar\": {\"outlinewidth\": 0, \"ticks\": \"\"}}, \"type\": \"scattercarpet\"}], \"scattergeo\": [{\"marker\": {\"colorbar\": {\"outlinewidth\": 0, \"ticks\": \"\"}}, \"type\": \"scattergeo\"}], \"scattergl\": [{\"marker\": {\"colorbar\": {\"outlinewidth\": 0, \"ticks\": \"\"}}, \"type\": \"scattergl\"}], \"scattermapbox\": [{\"marker\": {\"colorbar\": {\"outlinewidth\": 0, \"ticks\": \"\"}}, \"type\": \"scattermapbox\"}], \"scatterpolar\": [{\"marker\": {\"colorbar\": {\"outlinewidth\": 0, \"ticks\": \"\"}}, \"type\": \"scatterpolar\"}], \"scatterpolargl\": [{\"marker\": {\"colorbar\": {\"outlinewidth\": 0, \"ticks\": \"\"}}, \"type\": \"scatterpolargl\"}], \"scatterternary\": [{\"marker\": {\"colorbar\": {\"outlinewidth\": 0, \"ticks\": \"\"}}, \"type\": \"scatterternary\"}], \"surface\": [{\"colorbar\": {\"outlinewidth\": 0, \"ticks\": \"\"}, \"colorscale\": [[0.0, \"#0d0887\"], [0.1111111111111111, \"#46039f\"], [0.2222222222222222, \"#7201a8\"], [0.3333333333333333, \"#9c179e\"], [0.4444444444444444, \"#bd3786\"], [0.5555555555555556, \"#d8576b\"], [0.6666666666666666, \"#ed7953\"], [0.7777777777777778, \"#fb9f3a\"], [0.8888888888888888, \"#fdca26\"], [1.0, \"#f0f921\"]], \"type\": \"surface\"}], \"table\": [{\"cells\": {\"fill\": {\"color\": \"#EBF0F8\"}, \"line\": {\"color\": \"white\"}}, \"header\": {\"fill\": {\"color\": \"#C8D4E3\"}, \"line\": {\"color\": \"white\"}}, \"type\": \"table\"}]}, \"layout\": {\"annotationdefaults\": {\"arrowcolor\": \"#2a3f5f\", \"arrowhead\": 0, \"arrowwidth\": 1}, \"coloraxis\": {\"colorbar\": {\"outlinewidth\": 0, \"ticks\": \"\"}}, \"colorscale\": {\"diverging\": [[0, \"#8e0152\"], [0.1, \"#c51b7d\"], [0.2, \"#de77ae\"], [0.3, \"#f1b6da\"], [0.4, \"#fde0ef\"], [0.5, \"#f7f7f7\"], [0.6, \"#e6f5d0\"], [0.7, \"#b8e186\"], [0.8, \"#7fbc41\"], [0.9, \"#4d9221\"], [1, \"#276419\"]], \"sequential\": [[0.0, \"#0d0887\"], [0.1111111111111111, \"#46039f\"], [0.2222222222222222, \"#7201a8\"], [0.3333333333333333, \"#9c179e\"], [0.4444444444444444, \"#bd3786\"], [0.5555555555555556, \"#d8576b\"], [0.6666666666666666, \"#ed7953\"], [0.7777777777777778, \"#fb9f3a\"], [0.8888888888888888, \"#fdca26\"], [1.0, \"#f0f921\"]], \"sequentialminus\": [[0.0, \"#0d0887\"], [0.1111111111111111, \"#46039f\"], [0.2222222222222222, \"#7201a8\"], [0.3333333333333333, \"#9c179e\"], [0.4444444444444444, \"#bd3786\"], [0.5555555555555556, \"#d8576b\"], [0.6666666666666666, \"#ed7953\"], [0.7777777777777778, \"#fb9f3a\"], [0.8888888888888888, \"#fdca26\"], [1.0, \"#f0f921\"]]}, \"colorway\": [\"#636efa\", \"#EF553B\", \"#00cc96\", \"#ab63fa\", \"#FFA15A\", \"#19d3f3\", \"#FF6692\", \"#B6E880\", \"#FF97FF\", \"#FECB52\"], \"font\": {\"color\": \"#2a3f5f\"}, \"geo\": {\"bgcolor\": \"white\", \"lakecolor\": \"white\", \"landcolor\": \"#E5ECF6\", \"showlakes\": true, \"showland\": true, \"subunitcolor\": \"white\"}, \"hoverlabel\": {\"align\": \"left\"}, \"hovermode\": \"closest\", \"mapbox\": {\"style\": \"light\"}, \"paper_bgcolor\": \"white\", \"plot_bgcolor\": \"#E5ECF6\", \"polar\": {\"angularaxis\": {\"gridcolor\": \"white\", \"linecolor\": \"white\", \"ticks\": \"\"}, \"bgcolor\": \"#E5ECF6\", \"radialaxis\": {\"gridcolor\": \"white\", \"linecolor\": \"white\", \"ticks\": \"\"}}, \"scene\": {\"xaxis\": {\"backgroundcolor\": \"#E5ECF6\", \"gridcolor\": \"white\", \"gridwidth\": 2, \"linecolor\": \"white\", \"showbackground\": true, \"ticks\": \"\", \"zerolinecolor\": \"white\"}, \"yaxis\": {\"backgroundcolor\": \"#E5ECF6\", \"gridcolor\": \"white\", \"gridwidth\": 2, \"linecolor\": \"white\", \"showbackground\": true, \"ticks\": \"\", \"zerolinecolor\": \"white\"}, \"zaxis\": {\"backgroundcolor\": \"#E5ECF6\", \"gridcolor\": \"white\", \"gridwidth\": 2, \"linecolor\": \"white\", \"showbackground\": true, \"ticks\": \"\", \"zerolinecolor\": \"white\"}}, \"shapedefaults\": {\"line\": {\"color\": \"#2a3f5f\"}}, \"ternary\": {\"aaxis\": {\"gridcolor\": \"white\", \"linecolor\": \"white\", \"ticks\": \"\"}, \"baxis\": {\"gridcolor\": \"white\", \"linecolor\": \"white\", \"ticks\": \"\"}, \"bgcolor\": \"#E5ECF6\", \"caxis\": {\"gridcolor\": \"white\", \"linecolor\": \"white\", \"ticks\": \"\"}}, \"title\": {\"x\": 0.05}, \"xaxis\": {\"automargin\": true, \"gridcolor\": \"white\", \"linecolor\": \"white\", \"ticks\": \"\", \"title\": {\"standoff\": 15}, \"zerolinecolor\": \"white\", \"zerolinewidth\": 2}, \"yaxis\": {\"automargin\": true, \"gridcolor\": \"white\", \"linecolor\": \"white\", \"ticks\": \"\", \"title\": {\"standoff\": 15}, \"zerolinecolor\": \"white\", \"zerolinewidth\": 2}}}, \"title\": {\"text\": \"Temperaturen f\\u00fcr 3 US St\\u00e4dte\"}, \"xaxis\": {\"anchor\": \"y\", \"domain\": [0.0, 0.2888888888888889]}, \"xaxis2\": {\"anchor\": \"y2\", \"domain\": [0.35555555555555557, 0.6444444444444445]}, \"xaxis3\": {\"anchor\": \"y3\", \"domain\": [0.7111111111111111, 1.0]}, \"yaxis\": {\"anchor\": \"x\", \"domain\": [0.0, 1.0]}, \"yaxis2\": {\"anchor\": \"x2\", \"domain\": [0.0, 1.0]}, \"yaxis3\": {\"anchor\": \"x3\", \"domain\": [0.0, 1.0]}},\n",
              "                        {\"responsive\": true}\n",
              "                    ).then(function(){\n",
              "                            \n",
              "var gd = document.getElementById('47e4b2ab-ae31-4650-b2e8-64f188561eee');\n",
              "var x = new MutationObserver(function (mutations, observer) {{\n",
              "        var display = window.getComputedStyle(gd).display;\n",
              "        if (!display || display === 'none') {{\n",
              "            console.log([gd, 'removed!']);\n",
              "            Plotly.purge(gd);\n",
              "            observer.disconnect();\n",
              "        }}\n",
              "}});\n",
              "\n",
              "// Listen for the removal of the full notebook cells\n",
              "var notebookContainer = gd.closest('#notebook-container');\n",
              "if (notebookContainer) {{\n",
              "    x.observe(notebookContainer, {childList: true});\n",
              "}}\n",
              "\n",
              "// Listen for the clearing of the current output cell\n",
              "var outputEl = gd.closest('.output');\n",
              "if (outputEl) {{\n",
              "    x.observe(outputEl, {childList: true});\n",
              "}}\n",
              "\n",
              "                        })\n",
              "                };\n",
              "                \n",
              "            </script>\n",
              "        </div>\n",
              "</body>\n",
              "</html>"
            ]
          },
          "metadata": {
            "tags": []
          }
        }
      ]
    },
    {
      "cell_type": "markdown",
      "metadata": {
        "id": "zri4c2DZQFP1",
        "colab_type": "text"
      },
      "source": [
        "## Einführung in Dash ##\n",
        "\n",
        "Einfach gesagt ist Dash eine Open Source Python Bibliothek um interaktive web-basierte App, welche meist im Bereich der Date Science eingesetzt wird. Der wesentliche Vorteil von Dash ist, dass lediglich Python und etwas Plotly Knowhow gefragt ist aber kein JS oder HTML Wissen."
      ]
    },
    {
      "cell_type": "markdown",
      "metadata": {
        "id": "X33JxSSuTs0v",
        "colab_type": "text"
      },
      "source": [
        "### Installation von Dash ###\n",
        "\n",
        "Die Installation kann ganz einfach mittels Pip gemacht werden"
      ]
    },
    {
      "cell_type": "code",
      "metadata": {
        "id": "dbRl_OjjT7rP",
        "colab_type": "code",
        "colab": {}
      },
      "source": [
        "!pip install dash"
      ],
      "execution_count": 0,
      "outputs": []
    }
  ]
}