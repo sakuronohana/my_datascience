{
  "nbformat": 4,
  "nbformat_minor": 0,
  "metadata": {
    "colab": {
      "name": "2b_DS_Bootcamp_Plotly_Dash.ipynb",
      "provenance": [],
      "include_colab_link": true
    },
    "kernelspec": {
      "display_name": "Python 3",
      "language": "python",
      "name": "python3"
    },
    "language_info": {
      "codemirror_mode": {
        "name": "ipython",
        "version": 3
      },
      "file_extension": ".py",
      "mimetype": "text/x-python",
      "name": "python",
      "nbconvert_exporter": "python",
      "pygments_lexer": "ipython3",
      "version": "3.7.7"
    }
  },
  "cells": [
    {
      "cell_type": "markdown",
      "metadata": {
        "id": "view-in-github",
        "colab_type": "text"
      },
      "source": [
        "<a href=\"https://colab.research.google.com/github/sakuronohana/my_datascience/blob/master/2b_DS_Bootcamp_Plotly_Dash.ipynb\" target=\"_parent\"><img src=\"https://colab.research.google.com/assets/colab-badge.svg\" alt=\"Open In Colab\"/></a>"
      ]
    },
    {
      "cell_type": "markdown",
      "metadata": {
        "colab_type": "text",
        "id": "Sl8nNrUWQrRP"
      },
      "source": [
        "# DS Bootcamp Teil 1d - Visualisierung mit Plotly & Dash #"
      ]
    },
    {
      "cell_type": "markdown",
      "metadata": {
        "colab_type": "text",
        "id": "QoQEryhL9Hxw"
      },
      "source": [
        "## DS Bootcamp Verzeichnis ##\n",
        "\n",
        "[**Teil 1 - Data Science - Prozesse & Grundlagen**](https://github.com/sakuronohana/my_datascience/blob/master/1_DS_Bootcamp_Prozesse_%26_Grundlagen.ipynb)\n",
        "\n",
        "[**Teil 1a - Data Science - Python Basic & Advanced**](https://github.com/sakuronohana/my_datascience/blob/master/2_DS_Bootcamp_Python_Basic_%26_Advanced.ipynb)\n",
        "\n",
        "[**Teil 1b - Data Science - R Basic & Advanced**](https://github.com/sakuronohana/my_datascience/blob/master/3_DS_Bootcamp_R_Basic_%26_Advanced.ipynb)\n",
        "\n",
        "[**Teil 1c - Data Science - Tensorflow Basic & Advanced**](https://github.com/sakuronohana/my_datascience/blob/master/2a_DS_Bootcamp_Tensorflow_Basic_%26_Advanced.ipynb)\n",
        "\n",
        "[**Teil 1d - Data Science - Plotly & Dash**](https://colab.research.google.com/github/sakuronohana/my_datascience/blob/master/2b_DS_Bootcamp_Plotly_Dash.ipynb#scrollTo=QoQEryhL9Hxw)\n",
        "\n",
        "[**Teil 2 - Data Science - ML - Datenbeschaffung & Datenaufbereitung**](https://github.com/sakuronohana/my_datascience/blob/master/4_DS_Bootcamp_ML_Datenbeschaffung_Datenaufbereitung.ipynb)\n",
        "\n",
        "[**Teil 3 - Data Science - ML - Modellwahl**](https://github.com/sakuronohana/my_datascience/blob/master/5_DS_Bootcamp_ML_Modellwahl.ipynb)\n",
        "\n",
        "[**Teil 4 - Data Science - ML - Modell Training, Testing & Optimierung**](https://github.com/sakuronohana/my_datascience/blob/master/6_DS_Bootcamp_ML_Modell_Train_Test_Optimize.ipynb)\n",
        "\n",
        "[**Teil 5 - Data Science - ML - Modell Produktivsetzung, Überwachung & Pflege**](https://github.com/sakuronohana/my_datascience/blob/master/7_DS_Bootcamp_ML_Modell_Deploy_Monitor_Maintain.ipynb)"
      ]
    },
    {
      "cell_type": "markdown",
      "metadata": {
        "colab_type": "text",
        "id": "FRqJF7RCRsZf"
      },
      "source": [
        "## About Plotly & Dash ##\n",
        "\n",
        "Nachfolgend eine kleine Einführung in die Visualisierung mit Plotly und Dash.\n",
        "\n",
        "Dash ist ein produktives Python-Framework zum Erstellen von Webanwendungen. Dash wurde auf Flask, Plotly.js und React.js geschrieben und ist ideal zum Erstellen von Datenvisualisierungs-Apps mit hochgradig benutzerdefinierten Benutzeroberflächen in reinem Python. \n",
        "Dash-Apps werden im Webbrowser gerendert. Sie können Ihre Apps auf Servern bereitstellen und sie dann über URLs freigeben. Da Dash-Apps im Webbrowser angezeigt werden, ist Dash von Natur aus plattformübergreifend und mobil einsetzbar.\n",
        "\n",
        "Quelle: [Plotly Dash](https://dash.plot.ly/introduction)\n",
        "\n",
        "<img src='https://images.prismic.io/plotly-marketing-website/d076c072-a8d5-4316-9d87-be7d7109cf43_social+media+logo-01.png?auto=compress,format' width='400'>"
      ]
    },
    {
      "cell_type": "markdown",
      "metadata": {
        "colab_type": "text",
        "id": "rrdt5ZTjRsZg"
      },
      "source": [
        "## Einführung in Plotly ##\n",
        "\n",
        "Bevor wir uns mit Dash beschäftigen ist es ratsam eine kurze Einführung in Plotly selbst zu machen. Auf der folgenden Webseite finden wir sehr viele Beispiele welche Art von Plots wir mit Plotly erstellen können. \n",
        "\n",
        "https://plot.ly/python"
      ]
    },
    {
      "cell_type": "markdown",
      "metadata": {
        "colab_type": "text",
        "id": "xIhx0s_TRsZg"
      },
      "source": [
        "### Aufbau ###\n",
        "\n",
        "Bevor wir uns nun mit den einzelnen Plots beschäftigen ist es wichtig mal zuerst den generellen Aufbau zu verstehen. Plotly besteht aus folgenden Objekten:\n",
        "\n",
        "* Data - Hier werden immer die Daten und ihre Attribute definiert bspw. Plotart (Scatter, Bar usw.) x, y, Mode, Marker usw.)\n",
        "* Layout - In diesem Element wird das grundsätzliche Erscheinungsbild des Plots bspw. Titel, Axenbeschrieftungen, Hovermode usw.\n"
      ]
    },
    {
      "cell_type": "markdown",
      "metadata": {
        "colab_type": "text",
        "id": "IboqBROYRsZh"
      },
      "source": [
        "### Scatter Plots ###\n",
        "\n",
        "Der Scatter Plot ist ein unverzichtbarer Graph wenn es darum geht Korrelationen zwischen zwei Variablen zu finden.\n",
        "\n",
        "Referenz zu Scatter Plot ([Link](https://plotly.com/python/reference/#scatter))"
      ]
    },
    {
      "cell_type": "code",
      "metadata": {
        "colab_type": "code",
        "id": "ZX7ilqtlRsZm",
        "colab": {
          "base_uri": "https://localhost:8080/",
          "height": 542
        },
        "outputId": "91cf099d-4c9a-4476-cafe-9e48d1df5eb8"
      },
      "source": [
        "import pandas as pd\n",
        "import plotly.offline as pyo\n",
        "import plotly.graph_objs as go\n",
        "\n",
        "# Datenimport \n",
        "\n",
        "datloc = 'https://raw.githubusercontent.com/sakuronohana/cas_StatDaVi/master/Semesterarbeit/Daten/wb_total_population.csv'\n",
        "wpop = pd.read_csv(datloc)\n",
        "\n",
        "wpop.set_index('Country Name',inplace=True)\n",
        "\n",
        "x = wpop['1994']\n",
        "y = wpop['2015']\n",
        "\n",
        "# Nun ploten wir die Daten. Wichtig dabei ist, es handelt sich um eine Liste\n",
        "data = [go.Scatter(\n",
        "    x=x, \n",
        "    y=y, \n",
        "    mode='markers', # Form der Datenpunkte \n",
        "    marker=dict( # Konfiguration der Datenpunkte\n",
        "        size=12, # Datenpunkte auf Grösse 12\n",
        "        color='red', #Datenpunkte in Rot\n",
        "        symbol= 'pentagon', # Form der Datenpunkte\n",
        "        line = dict(width=2), # Linienbreite der Datenpunkte\n",
        "    ))]\n",
        "\n",
        "# Nun defineren wir das Layout unserere Plots. Layout ist keine Liste\n",
        "layout = go.Layout(\n",
        "        title='Mein Plotly Scatter Plot',\n",
        "        # Hier die erste Methode einer Axenbeschriftung\n",
        "        xaxis= {'title':'Werte der Axe x'},\n",
        "        # Zweite Methode einer Axenbeschrifung\n",
        "        yaxis=dict(title='Werte der Axe y'),\n",
        "        hovermode='closest')\n",
        "\n",
        "# Nun fassen wir alles in einer Variablen zusammen\n",
        "fig = go.Figure(data=data, layout=layout)\n",
        "\n",
        "# Führen wir nun diesen Plot aus wird ein Browser geöffnet\n",
        "fig.show() \n",
        "\n",
        "# Als alternative können den Plot Offline bzw. als HTML speichern und ausführen.\n",
        "# pyo.plot(fig, filename = 'scatter.html')"
      ],
      "execution_count": 1,
      "outputs": [
        {
          "output_type": "display_data",
          "data": {
            "text/html": [
              "<html>\n",
              "<head><meta charset=\"utf-8\" /></head>\n",
              "<body>\n",
              "    <div>\n",
              "            <script src=\"https://cdnjs.cloudflare.com/ajax/libs/mathjax/2.7.5/MathJax.js?config=TeX-AMS-MML_SVG\"></script><script type=\"text/javascript\">if (window.MathJax) {MathJax.Hub.Config({SVG: {font: \"STIX-Web\"}});}</script>\n",
              "                <script type=\"text/javascript\">window.PlotlyConfig = {MathJaxConfig: 'local'};</script>\n",
              "        <script src=\"https://cdn.plot.ly/plotly-latest.min.js\"></script>    \n",
              "            <div id=\"cceb0e23-383c-41f2-b258-984df0eb4d84\" class=\"plotly-graph-div\" style=\"height:525px; width:100%;\"></div>\n",
              "            <script type=\"text/javascript\">\n",
              "                \n",
              "                    window.PLOTLYENV=window.PLOTLYENV || {};\n",
              "                    \n",
              "                if (document.getElementById(\"cceb0e23-383c-41f2-b258-984df0eb4d84\")) {\n",
              "                    Plotly.newPlot(\n",
              "                        'cceb0e23-383c-41f2-b258-984df0eb4d84',\n",
              "                        [{\"marker\": {\"color\": \"red\", \"line\": {\"width\": 2}, \"size\": 12, \"symbol\": \"pentagon\"}, \"mode\": \"markers\", \"type\": \"scatter\", \"x\": [13503747, 34402672, 17855000, 7466793, 159432716, 29000663, 1191835000, 40252975, 81438348, 10512922, 945601831, 124961000, 56843400, 90156400, 14948048, 148336000, 8780745, 6993795, 263126000, 21474549], \"y\": [27884381, 43131966, 23815995, 10869730, 204471769, 35702908, 1371220000, 76244544, 81686611, 10820883, 1310152403, 127141000, 60730582, 121858258, 27042002, 144096870, 9799186, 8282396, 320742673, 30081829]}],\n",
              "                        {\"hovermode\": \"closest\", \"template\": {\"data\": {\"bar\": [{\"error_x\": {\"color\": \"#2a3f5f\"}, \"error_y\": {\"color\": \"#2a3f5f\"}, \"marker\": {\"line\": {\"color\": \"#E5ECF6\", \"width\": 0.5}}, \"type\": \"bar\"}], \"barpolar\": [{\"marker\": {\"line\": {\"color\": \"#E5ECF6\", \"width\": 0.5}}, \"type\": \"barpolar\"}], \"carpet\": [{\"aaxis\": {\"endlinecolor\": \"#2a3f5f\", \"gridcolor\": \"white\", \"linecolor\": \"white\", \"minorgridcolor\": \"white\", \"startlinecolor\": \"#2a3f5f\"}, \"baxis\": {\"endlinecolor\": \"#2a3f5f\", \"gridcolor\": \"white\", \"linecolor\": \"white\", \"minorgridcolor\": \"white\", \"startlinecolor\": \"#2a3f5f\"}, \"type\": \"carpet\"}], \"choropleth\": [{\"colorbar\": {\"outlinewidth\": 0, \"ticks\": \"\"}, \"type\": \"choropleth\"}], \"contour\": [{\"colorbar\": {\"outlinewidth\": 0, \"ticks\": \"\"}, \"colorscale\": [[0.0, \"#0d0887\"], [0.1111111111111111, \"#46039f\"], [0.2222222222222222, \"#7201a8\"], [0.3333333333333333, \"#9c179e\"], [0.4444444444444444, \"#bd3786\"], [0.5555555555555556, \"#d8576b\"], [0.6666666666666666, \"#ed7953\"], [0.7777777777777778, \"#fb9f3a\"], [0.8888888888888888, \"#fdca26\"], [1.0, \"#f0f921\"]], \"type\": \"contour\"}], \"contourcarpet\": [{\"colorbar\": {\"outlinewidth\": 0, \"ticks\": \"\"}, \"type\": \"contourcarpet\"}], \"heatmap\": [{\"colorbar\": {\"outlinewidth\": 0, \"ticks\": \"\"}, \"colorscale\": [[0.0, \"#0d0887\"], [0.1111111111111111, \"#46039f\"], [0.2222222222222222, \"#7201a8\"], [0.3333333333333333, \"#9c179e\"], [0.4444444444444444, \"#bd3786\"], [0.5555555555555556, \"#d8576b\"], [0.6666666666666666, \"#ed7953\"], [0.7777777777777778, \"#fb9f3a\"], [0.8888888888888888, \"#fdca26\"], [1.0, \"#f0f921\"]], \"type\": \"heatmap\"}], \"heatmapgl\": [{\"colorbar\": {\"outlinewidth\": 0, \"ticks\": \"\"}, \"colorscale\": [[0.0, \"#0d0887\"], [0.1111111111111111, \"#46039f\"], [0.2222222222222222, \"#7201a8\"], [0.3333333333333333, \"#9c179e\"], [0.4444444444444444, \"#bd3786\"], [0.5555555555555556, \"#d8576b\"], [0.6666666666666666, \"#ed7953\"], [0.7777777777777778, \"#fb9f3a\"], [0.8888888888888888, \"#fdca26\"], [1.0, \"#f0f921\"]], \"type\": \"heatmapgl\"}], \"histogram\": [{\"marker\": {\"colorbar\": {\"outlinewidth\": 0, \"ticks\": \"\"}}, \"type\": \"histogram\"}], \"histogram2d\": [{\"colorbar\": {\"outlinewidth\": 0, \"ticks\": \"\"}, \"colorscale\": [[0.0, \"#0d0887\"], [0.1111111111111111, \"#46039f\"], [0.2222222222222222, \"#7201a8\"], [0.3333333333333333, \"#9c179e\"], [0.4444444444444444, \"#bd3786\"], [0.5555555555555556, \"#d8576b\"], [0.6666666666666666, \"#ed7953\"], [0.7777777777777778, \"#fb9f3a\"], [0.8888888888888888, \"#fdca26\"], [1.0, \"#f0f921\"]], \"type\": \"histogram2d\"}], \"histogram2dcontour\": [{\"colorbar\": {\"outlinewidth\": 0, \"ticks\": \"\"}, \"colorscale\": [[0.0, \"#0d0887\"], [0.1111111111111111, \"#46039f\"], [0.2222222222222222, \"#7201a8\"], [0.3333333333333333, \"#9c179e\"], [0.4444444444444444, \"#bd3786\"], [0.5555555555555556, \"#d8576b\"], [0.6666666666666666, \"#ed7953\"], [0.7777777777777778, \"#fb9f3a\"], [0.8888888888888888, \"#fdca26\"], [1.0, \"#f0f921\"]], \"type\": \"histogram2dcontour\"}], \"mesh3d\": [{\"colorbar\": {\"outlinewidth\": 0, \"ticks\": \"\"}, \"type\": \"mesh3d\"}], \"parcoords\": [{\"line\": {\"colorbar\": {\"outlinewidth\": 0, \"ticks\": \"\"}}, \"type\": \"parcoords\"}], \"pie\": [{\"automargin\": true, \"type\": \"pie\"}], \"scatter\": [{\"marker\": {\"colorbar\": {\"outlinewidth\": 0, \"ticks\": \"\"}}, \"type\": \"scatter\"}], \"scatter3d\": [{\"line\": {\"colorbar\": {\"outlinewidth\": 0, \"ticks\": \"\"}}, \"marker\": {\"colorbar\": {\"outlinewidth\": 0, \"ticks\": \"\"}}, \"type\": \"scatter3d\"}], \"scattercarpet\": [{\"marker\": {\"colorbar\": {\"outlinewidth\": 0, \"ticks\": \"\"}}, \"type\": \"scattercarpet\"}], \"scattergeo\": [{\"marker\": {\"colorbar\": {\"outlinewidth\": 0, \"ticks\": \"\"}}, \"type\": \"scattergeo\"}], \"scattergl\": [{\"marker\": {\"colorbar\": {\"outlinewidth\": 0, \"ticks\": \"\"}}, \"type\": \"scattergl\"}], \"scattermapbox\": [{\"marker\": {\"colorbar\": {\"outlinewidth\": 0, \"ticks\": \"\"}}, \"type\": \"scattermapbox\"}], \"scatterpolar\": [{\"marker\": {\"colorbar\": {\"outlinewidth\": 0, \"ticks\": \"\"}}, \"type\": \"scatterpolar\"}], \"scatterpolargl\": [{\"marker\": {\"colorbar\": {\"outlinewidth\": 0, \"ticks\": \"\"}}, \"type\": \"scatterpolargl\"}], \"scatterternary\": [{\"marker\": {\"colorbar\": {\"outlinewidth\": 0, \"ticks\": \"\"}}, \"type\": \"scatterternary\"}], \"surface\": [{\"colorbar\": {\"outlinewidth\": 0, \"ticks\": \"\"}, \"colorscale\": [[0.0, \"#0d0887\"], [0.1111111111111111, \"#46039f\"], [0.2222222222222222, \"#7201a8\"], [0.3333333333333333, \"#9c179e\"], [0.4444444444444444, \"#bd3786\"], [0.5555555555555556, \"#d8576b\"], [0.6666666666666666, \"#ed7953\"], [0.7777777777777778, \"#fb9f3a\"], [0.8888888888888888, \"#fdca26\"], [1.0, \"#f0f921\"]], \"type\": \"surface\"}], \"table\": [{\"cells\": {\"fill\": {\"color\": \"#EBF0F8\"}, \"line\": {\"color\": \"white\"}}, \"header\": {\"fill\": {\"color\": \"#C8D4E3\"}, \"line\": {\"color\": \"white\"}}, \"type\": \"table\"}]}, \"layout\": {\"annotationdefaults\": {\"arrowcolor\": \"#2a3f5f\", \"arrowhead\": 0, \"arrowwidth\": 1}, \"coloraxis\": {\"colorbar\": {\"outlinewidth\": 0, \"ticks\": \"\"}}, \"colorscale\": {\"diverging\": [[0, \"#8e0152\"], [0.1, \"#c51b7d\"], [0.2, \"#de77ae\"], [0.3, \"#f1b6da\"], [0.4, \"#fde0ef\"], [0.5, \"#f7f7f7\"], [0.6, \"#e6f5d0\"], [0.7, \"#b8e186\"], [0.8, \"#7fbc41\"], [0.9, \"#4d9221\"], [1, \"#276419\"]], \"sequential\": [[0.0, \"#0d0887\"], [0.1111111111111111, \"#46039f\"], [0.2222222222222222, \"#7201a8\"], [0.3333333333333333, \"#9c179e\"], [0.4444444444444444, \"#bd3786\"], [0.5555555555555556, \"#d8576b\"], [0.6666666666666666, \"#ed7953\"], [0.7777777777777778, \"#fb9f3a\"], [0.8888888888888888, \"#fdca26\"], [1.0, \"#f0f921\"]], \"sequentialminus\": [[0.0, \"#0d0887\"], [0.1111111111111111, \"#46039f\"], [0.2222222222222222, \"#7201a8\"], [0.3333333333333333, \"#9c179e\"], [0.4444444444444444, \"#bd3786\"], [0.5555555555555556, \"#d8576b\"], [0.6666666666666666, \"#ed7953\"], [0.7777777777777778, \"#fb9f3a\"], [0.8888888888888888, \"#fdca26\"], [1.0, \"#f0f921\"]]}, \"colorway\": [\"#636efa\", \"#EF553B\", \"#00cc96\", \"#ab63fa\", \"#FFA15A\", \"#19d3f3\", \"#FF6692\", \"#B6E880\", \"#FF97FF\", \"#FECB52\"], \"font\": {\"color\": \"#2a3f5f\"}, \"geo\": {\"bgcolor\": \"white\", \"lakecolor\": \"white\", \"landcolor\": \"#E5ECF6\", \"showlakes\": true, \"showland\": true, \"subunitcolor\": \"white\"}, \"hoverlabel\": {\"align\": \"left\"}, \"hovermode\": \"closest\", \"mapbox\": {\"style\": \"light\"}, \"paper_bgcolor\": \"white\", \"plot_bgcolor\": \"#E5ECF6\", \"polar\": {\"angularaxis\": {\"gridcolor\": \"white\", \"linecolor\": \"white\", \"ticks\": \"\"}, \"bgcolor\": \"#E5ECF6\", \"radialaxis\": {\"gridcolor\": \"white\", \"linecolor\": \"white\", \"ticks\": \"\"}}, \"scene\": {\"xaxis\": {\"backgroundcolor\": \"#E5ECF6\", \"gridcolor\": \"white\", \"gridwidth\": 2, \"linecolor\": \"white\", \"showbackground\": true, \"ticks\": \"\", \"zerolinecolor\": \"white\"}, \"yaxis\": {\"backgroundcolor\": \"#E5ECF6\", \"gridcolor\": \"white\", \"gridwidth\": 2, \"linecolor\": \"white\", \"showbackground\": true, \"ticks\": \"\", \"zerolinecolor\": \"white\"}, \"zaxis\": {\"backgroundcolor\": \"#E5ECF6\", \"gridcolor\": \"white\", \"gridwidth\": 2, \"linecolor\": \"white\", \"showbackground\": true, \"ticks\": \"\", \"zerolinecolor\": \"white\"}}, \"shapedefaults\": {\"line\": {\"color\": \"#2a3f5f\"}}, \"ternary\": {\"aaxis\": {\"gridcolor\": \"white\", \"linecolor\": \"white\", \"ticks\": \"\"}, \"baxis\": {\"gridcolor\": \"white\", \"linecolor\": \"white\", \"ticks\": \"\"}, \"bgcolor\": \"#E5ECF6\", \"caxis\": {\"gridcolor\": \"white\", \"linecolor\": \"white\", \"ticks\": \"\"}}, \"title\": {\"x\": 0.05}, \"xaxis\": {\"automargin\": true, \"gridcolor\": \"white\", \"linecolor\": \"white\", \"ticks\": \"\", \"title\": {\"standoff\": 15}, \"zerolinecolor\": \"white\", \"zerolinewidth\": 2}, \"yaxis\": {\"automargin\": true, \"gridcolor\": \"white\", \"linecolor\": \"white\", \"ticks\": \"\", \"title\": {\"standoff\": 15}, \"zerolinecolor\": \"white\", \"zerolinewidth\": 2}}}, \"title\": {\"text\": \"Mein Plotly Scatter Plot\"}, \"xaxis\": {\"title\": {\"text\": \"Werte der Axe x\"}}, \"yaxis\": {\"title\": {\"text\": \"Werte der Axe y\"}}},\n",
              "                        {\"responsive\": true}\n",
              "                    ).then(function(){\n",
              "                            \n",
              "var gd = document.getElementById('cceb0e23-383c-41f2-b258-984df0eb4d84');\n",
              "var x = new MutationObserver(function (mutations, observer) {{\n",
              "        var display = window.getComputedStyle(gd).display;\n",
              "        if (!display || display === 'none') {{\n",
              "            console.log([gd, 'removed!']);\n",
              "            Plotly.purge(gd);\n",
              "            observer.disconnect();\n",
              "        }}\n",
              "}});\n",
              "\n",
              "// Listen for the removal of the full notebook cells\n",
              "var notebookContainer = gd.closest('#notebook-container');\n",
              "if (notebookContainer) {{\n",
              "    x.observe(notebookContainer, {childList: true});\n",
              "}}\n",
              "\n",
              "// Listen for the clearing of the current output cell\n",
              "var outputEl = gd.closest('.output');\n",
              "if (outputEl) {{\n",
              "    x.observe(outputEl, {childList: true});\n",
              "}}\n",
              "\n",
              "                        })\n",
              "                };\n",
              "                \n",
              "            </script>\n",
              "        </div>\n",
              "</body>\n",
              "</html>"
            ]
          },
          "metadata": {
            "tags": []
          }
        }
      ]
    },
    {
      "cell_type": "markdown",
      "metadata": {
        "colab_type": "text",
        "id": "VQUNV1tqRsZo"
      },
      "source": [
        "### Line Plots ###\n",
        "\n",
        "Wenn es darum geht stetige Daten in eine Zeitreihe aufzuzeigen, dann führt nichts an einem gute Line Plot vorbei."
      ]
    },
    {
      "cell_type": "code",
      "metadata": {
        "colab_type": "code",
        "id": "7hBAsgP6Y4RI",
        "colab": {}
      },
      "source": [
        "import plotly.offline as pyo\n",
        "import plotly.graph_objs as go\n",
        "import numpy as np\n",
        "\n",
        "np.random.seed(56)\n",
        "x_values = np.linspace(0, 1, 100) # 100 evenly spaced values\n",
        "y_values = np.random.randn(100)   # 100 random values\n",
        "\n",
        "# create traces\n",
        "trace0 = go.Scatter(\n",
        "    x = x_values,\n",
        "    y = y_values+5,\n",
        "    mode = 'markers',\n",
        "    name = 'markers'\n",
        ")\n",
        "trace1 = go.Scatter(\n",
        "    x = x_values,\n",
        "    y = y_values,\n",
        "    mode = 'lines+markers',\n",
        "    name = 'lines+markers'\n",
        ")\n",
        "trace2 = go.Scatter(\n",
        "    x = x_values,\n",
        "    y = y_values-5,\n",
        "    mode = 'lines',\n",
        "    name = 'lines'\n",
        ")\n",
        "data = [trace0, trace1, trace2]  # assign traces to data\n",
        "layout = go.Layout(\n",
        "    title = 'Line chart showing three different modes'\n",
        ")\n",
        "fig = go.Figure(data=data,layout=layout)\n",
        "fig.show()\n"
      ],
      "execution_count": null,
      "outputs": []
    },
    {
      "cell_type": "markdown",
      "metadata": {
        "colab_type": "text",
        "id": "DDJCsr2CZCkw"
      },
      "source": [
        "Und hier noch ein Line Plot mit richtigen Daten"
      ]
    },
    {
      "cell_type": "code",
      "metadata": {
        "colab_type": "code",
        "id": "FGO9ONB7RsZp",
        "colab": {}
      },
      "source": [
        "import pandas as pd\n",
        "import plotly.offline as pyo\n",
        "import plotly.graph_objs as go\n",
        "\n",
        "# Datenimport \n",
        "\n",
        "datloc = 'https://raw.githubusercontent.com/Pierian-Data/Plotly-Dashboards-with-Dash/master/Data/population.csv'\n",
        "pop = pd.read_csv(datloc)\n",
        "\n",
        "# Um die Selektion einfacher zu gestalten setzten wir den Index neu\n",
        "pop.set_index('Name', inplace=True)\n",
        "\n",
        "data = [go.Scatter(x=pop.columns, \n",
        "                   y=pop.loc[name], \n",
        "                   mode='lines', \n",
        "                   name=name,) for name in pop.index]\n",
        "\n",
        "fig = go.Figure(data=data)\n",
        "\n",
        "fig.show()\n"
      ],
      "execution_count": null,
      "outputs": []
    },
    {
      "cell_type": "markdown",
      "metadata": {
        "colab_type": "text",
        "id": "1fArdbTQZ8Lp"
      },
      "source": [
        "### Bar Plots ###\n",
        "\n",
        "Möchte man kategorische Daten (x) mit ihren Werten (y) oder mehrere Merkmale auf einer definierten Zeitachse darstellen, dann ist der Bar Plot (Balkendiagramm) ideal dafür. \n"
      ]
    },
    {
      "cell_type": "code",
      "metadata": {
        "colab_type": "code",
        "id": "HVhCy_Clay9x",
        "colab": {}
      },
      "source": [
        "import pandas as pd\n",
        "import plotly.offline as pyo\n",
        "import plotly.graph_objs as go\n",
        "\n",
        "datloc = 'https://raw.githubusercontent.com/Pierian-Data/Plotly-Dashboards-with-Dash/master/Data/2018WinterOlympics.csv'\n",
        "olym = pd.read_csv(datloc)\n",
        "\n",
        "trace1 = go.Bar(\n",
        "          x=olym['NOC'], \n",
        "          y=olym['Gold'],\n",
        "          name='Gold',\n",
        "          marker={'color':'#FFD700'})\n",
        "\n",
        "trace2 = go.Bar(\n",
        "          x=olym['NOC'], \n",
        "          y=olym['Silver'],\n",
        "          name='Silver',\n",
        "          marker={'color':'#9EA0A1'})\n",
        "\n",
        "trace3 = go.Bar(\n",
        "          x=olym['NOC'], \n",
        "          y=olym['Bronze'],\n",
        "          name='Bronze',\n",
        "          marker={'color':'#CD7F32'})\n",
        "\n",
        "data = [trace1,trace2,trace3]\n",
        "layout = go.Layout(title='Medals',\n",
        "                   barmode='stack') # Mit dieser Zeile erstellen wir eine gestapeltes Bankendiagramm.\n",
        "\n",
        "fig = go.Figure(data=data, layout=layout)\n",
        "fig.show()\n"
      ],
      "execution_count": null,
      "outputs": []
    },
    {
      "cell_type": "markdown",
      "metadata": {
        "colab_type": "text",
        "id": "nl-vH3PukZ67"
      },
      "source": [
        "### Bubble Plot ###\n",
        "\n",
        "Ein Bubble Plot (Blasendiagramm) ähnlich wie eine Scatter Plot. Der wesentliche Unterschied dabei ist, dass wir mit der Grösse der Bubbles auch die Werteverhältnisse anzeigen können. Die Bubble Plots waren bei Hans Rosling (bekannter schwedischer Arzt und Statistiker) eine sehr beliebtes Instrument um verschiedenen Datensätze miteinander zu vergleichen.\n"
      ]
    },
    {
      "cell_type": "code",
      "metadata": {
        "colab_type": "code",
        "id": "B0ze7AGAkJVm",
        "colab": {}
      },
      "source": [
        "import pandas as pd\n",
        "import plotly.graph_objs as go\n",
        "import plotly.offline as pyo\n",
        "\n",
        "datloc = 'https://raw.githubusercontent.com/Pierian-Data/Plotly-Dashboards-with-Dash/master/Data/mpg.csv'\n",
        "cars = pd.read_csv(datloc)\n",
        "\n",
        "data = [go.Scatter(\n",
        "        x=cars['horsepower'], \n",
        "        y=round(cars['mpg']*1.6), # Umrechnung Meilen auf Kilometer \n",
        "        text=cars['name'],\n",
        "        mode='markers',\n",
        "        marker=dict(size=round(cars['weight']/200), \n",
        "        color=cars['model_year'],\n",
        "        showscale=True)\n",
        "        )]\n",
        "\n",
        "layout = go.Layout(title='Bubble Plot - Vergleich Kraftstoffverbrauch vs. Pferdestärken',\n",
        "                  xaxis=dict(title='Anzahl Pferdestärken'),\n",
        "                  yaxis=dict(title='Kilometer pro US Gallone'),\n",
        "                  hovermode='y')\n",
        "\n",
        "fig = go.Figure(data=data, layout=layout)\n",
        "fig.show()\n",
        "\n"
      ],
      "execution_count": null,
      "outputs": []
    },
    {
      "cell_type": "markdown",
      "metadata": {
        "colab_type": "text",
        "id": "BDCd47IaXDFt"
      },
      "source": [
        "### Box Plots ###\n",
        "\n",
        "Box Plots werden dazu verwendet um Quartile abzubilden bzw. robuste Lage- und Streuungsmasse zusammenzufassen. Quartile zeigen das prozentuale Verhältnis von Daten in vier Abschnitte, wobei das 50% Quartile der Median darstellt. Box Plots lassen somit Aussagen wie bspw. die Anzahl der Prüfergebnisse mit der Note 6 liegen unter 25% folglich machen alle Noten die schlechter sind als die Note 6 75% der Prüfresultat aus.\n",
        "\n",
        "<img src='https://github.com/sakuronohana/my_datascience/blob/master/doc_images/boxplot.jpg?raw=1' width='600'>\n",
        "\n",
        "Quelle: [DWH Wiki - Boxplot](http://de.dwhwiki.info/charting/boxplot) "
      ]
    },
    {
      "cell_type": "code",
      "metadata": {
        "colab_type": "code",
        "id": "EVbq9wYwY2zH",
        "colab": {}
      },
      "source": [
        "import pandas as pd\n",
        "import plotly.graph_objs as go\n",
        "\n",
        "datloc = 'https://raw.githubusercontent.com/Pierian-Data/Plotly-Dashboards-with-Dash/master/Data/mpg.csv'\n",
        "cars = pd.DataFrame(pd.read_csv(datloc))\n",
        "\n",
        "cars['horsepower'] = round(pd.to_numeric(cars['horsepower'],errors='coerce'))\n",
        "y1 = cars[cars['name'].str.contains('ford')]\n",
        "y2 = cars[cars['name'].str.contains('toyota')]\n",
        "y3 = cars[cars['name'].str.contains('chev')]\n",
        "\n",
        "data = [go.Box(y=y1['horsepower'],\n",
        "               name='Ford',\n",
        "               boxpoints='outliers', # Zeigt alle Datenpunkte oder nur Ausreisser\n",
        "               jitter=0.3, # Gibt die Dichte der Streuung der Datenpunkte an\n",
        "               pointpos=0 #Schiebt die Positon der Datenpunkte -2 ist ganz links\n",
        "               ),\n",
        "        go.Box(y=y2['horsepower'],\n",
        "               name='Toyota',\n",
        "               boxpoints='outliers', # Zeigt alle Datenpunkte oder nur Ausreisser\n",
        "               jitter=0.3, # Gibt die Dichte der Streuung der Datenpunkte an\n",
        "               pointpos=0 #Schiebt die Positon der Datenpunkte -2 ist ganz links\n",
        "               ),\n",
        "          go.Box(y=y3['horsepower'],\n",
        "               name='Chevrolet',\n",
        "               boxpoints='outliers', # Zeigt alle Datenpunkte oder nur Ausreisser\n",
        "               jitter=0.3, # Gibt die Dichte der Streuung der Datenpunkte an\n",
        "               pointpos=0 #Schiebt die Positon der Datenpunkte -2 ist ganz links\n",
        "               )]\n",
        "\n",
        "layout = go.Layout(\n",
        "          title='Boxplot - Auto Pferdestärken (PS)', \n",
        "          yaxis=dict(title='Pferdestärken'))\n",
        "\n",
        "fig = go.Figure(data=data, layout=layout)\n",
        "\n",
        "fig.show()\n"
      ],
      "execution_count": null,
      "outputs": []
    },
    {
      "cell_type": "markdown",
      "metadata": {
        "colab_type": "text",
        "id": "3JUcC2QIPnyL"
      },
      "source": [
        "### Histogramm ###\n",
        "\n",
        "Das Histogramm ist eine Darstellungsform von absoluten oder relativen Häufigkeitsverteilungen kardinal skalierter, also quantitativer Merkmale. Trotz der Ähnlichkeit handelt es sich hierbei nicht um ein Säulendiagramm, denn für die Erstellung eines Histogramms müssen die Daten in Klassen unterteilt werden. So könnte man beispielsweise das Alter von Personen in 10-Jahres-Abstände klassifizieren (z.B. 0-9 Jahre, 10-19 Jahre, 20-29 Jahre etc.). Allerdings müssen die Klassen nicht zwingend gleich groß (konstante Klassen) sein, sondern können auch eine unterschiedliche Breite besitzen (variable Klassen). Die verschiedenen Klassen werden abschließend nebeneinander in Rechtecken dargestellt. Der Flächeninhalt dieser Rechtecke stellt die Klassenhäufigkeit dar, die Höhe gibt Auskunft über die Häufigkeitsdichte und die Breite entspricht der jeweiligen Klasse."
      ]
    },
    {
      "cell_type": "code",
      "metadata": {
        "colab_type": "code",
        "id": "nVxMXDkpOdP7",
        "colab": {}
      },
      "source": [
        "import pandas as pd\n",
        "import plotly.graph_objs as go\n",
        "\n",
        "datloc = 'http://datasets.flowingdata.com/crimeRatesByState2005.csv'\n",
        "datload = pd.DataFrame(pd.read_csv(datloc))\n",
        "crime = datload.drop([0,9])\n",
        "\n",
        "data = [go.Histogram(\n",
        "                    x=crime['murder'], \n",
        "                    xbins=dict(start=0,end=60))]\n",
        "\n",
        "layout = go.Layout(\n",
        "                  title='Histogram',\n",
        "                  xaxis = dict(title='Anzahl Morde'),\n",
        "                  yaxis = dict(title='Anzahl US-Bundesstaaten'))\n",
        "\n",
        "fig = go.Figure(data=data,layout=layout)\n",
        "\n",
        "fig.show()"
      ],
      "execution_count": null,
      "outputs": []
    },
    {
      "cell_type": "markdown",
      "metadata": {
        "colab_type": "text",
        "id": "iPzII6qpTrgm"
      },
      "source": [
        "### Distribution Plots (Distplot) ###\n",
        "\n",
        "Mit einem Verteilungsdiagramm (engl. Distribution Plot) besteht typischerweise aus drei Plots, welche übereinandergelegt werden. \n",
        "\n",
        "Die erste Ebene besteht aus einem Histogramm in welcher die einzelnen Datenpunkt in einem Kasten (bins) gleichwertiger Datenpunkte abgelegt wird.\n",
        "\n",
        "Auf der zweiten Ebene werden die Markierungen entlang der x-Axe für jeden Datenpunkt platziert. Womit die Verteilung für jeden Wert innerhalb eines Kasten ersichtlich wird.\n",
        "\n",
        "Auf der dritten Ebene kommt eine Kernel Density Estimate (KDE) (dt. Kerndichteschätzung) Line hinzu, mit welche versucht wird die Form der Verteilung wiederzugeben. \n",
        "\n"
      ]
    },
    {
      "cell_type": "code",
      "metadata": {
        "colab_type": "code",
        "id": "zmN5dNQWXi-X",
        "colab": {}
      },
      "source": [
        "import pandas as pd\n",
        "\n",
        "# Um einen etwas komplexeren Plot darzustellen, importieren wir eine andere Library als normal. \n",
        "import plotly.figure_factory as ff \n",
        "\n",
        "datloc = 'http://datasets.flowingdata.com/crimeRatesByState2005.csv'\n",
        "datload = pd.DataFrame(pd.read_csv(datloc))\n",
        "crime = datload.drop([0,9])\n",
        "\n",
        "\n",
        "x1 = crime['aggravated_assault']\n",
        "x2 = crime['motor_vehicle_theft']\n",
        "\n",
        "\n",
        "hist_data = [x1,x2]\n",
        "group_labels = ['Schwere Angriffe','Autodiebstahl']\n",
        "\n",
        "fig = ff.create_distplot(hist_data,group_labels,bin_size=[15,15])\n",
        "fig.show()\n"
      ],
      "execution_count": null,
      "outputs": []
    },
    {
      "cell_type": "markdown",
      "metadata": {
        "colab_type": "text",
        "id": "senbXV5eaQn6"
      },
      "source": [
        "### HeatMaps ###\n",
        "\n",
        "Eine Heatmap ist ein Diagramm zur Visualisierung von Daten. Heatmaps dienen dazu, große Datenmengen schnell überblicken zu können indem Zahlenwerte je nach Größe farblich markiert werden. Grundsätzlich kann man 3 Merkmale damit visualisieren. Je ein kategorisches Merkmal auf der X- und Y-Axe und ein weiteres Merkmal mittels Einfärbung."
      ]
    },
    {
      "cell_type": "code",
      "metadata": {
        "colab_type": "code",
        "id": "UkWLQ-Ov2b7L",
        "colab": {}
      },
      "source": [
        "# Einfache Heatmap\n",
        "\n",
        "import pandas as pd\n",
        "import plotly.graph_objs as go\n",
        "\n",
        "datlocsb = 'https://raw.githubusercontent.com/Pierian-Data/Plotly-Dashboards-with-Dash/master/Data/2010SantaBarbaraCA.csv'\n",
        "tempsb = pd.DataFrame(pd.read_csv(datlocsb))\n",
        "\n",
        "\n",
        "data = [go.Heatmap(\n",
        "                  x=tempsb['DAY'], \n",
        "                  y=tempsb['LST_TIME'],\n",
        "                  z=tempsb['T_HR_AVG'].values.tolist(), # Auf der Z-Achse können wir nur Pyton Lists anwenden.\n",
        "                  colorscale='Jet'\n",
        "                  )]\n",
        "\n",
        "layout = go.Layout(title='SB CA Temperatures')\n",
        "\n",
        "fig = go.Figure(data=data, layout=layout)\n",
        "fig.show()"
      ],
      "execution_count": null,
      "outputs": []
    },
    {
      "cell_type": "code",
      "metadata": {
        "colab_type": "code",
        "id": "5C5Xbyez4DZU",
        "colab": {}
      },
      "source": [
        "# Heatmap mit Subplots\n",
        "\n",
        "import pandas as pd\n",
        "import plotly.graph_objs as go\n",
        "# Um mit Subplots zu arbeiten benötigen wir noch die Libray Subplots von Plotly\n",
        "from plotly import subplots \n",
        "\n",
        "datlocyu = 'https://raw.githubusercontent.com/Pierian-Data/Plotly-Dashboards-with-Dash/master/Data/2010YumaAZ.csv'\n",
        "datlocsb = 'https://raw.githubusercontent.com/Pierian-Data/Plotly-Dashboards-with-Dash/master/Data/2010SantaBarbaraCA.csv'\n",
        "datlocsi = 'https://raw.githubusercontent.com/Pierian-Data/Plotly-Dashboards-with-Dash/master/Data/2010SitkaAK.csv'\n",
        "tempsi = pd.DataFrame(pd.read_csv(datlocsi))\n",
        "tempsb = pd.DataFrame(pd.read_csv(datlocsb))\n",
        "tempyu = pd.DataFrame(pd.read_csv(datlocyu))\n",
        "\n",
        "# Bei einem Subplots erstellen wir erneut Traces\n",
        "trace1 = go.Heatmap (x=tempsi['DAY'], y=tempsi['LST_TIME'],z=tempsi['T_HR_AVG'], colorscale='JET',zmin=5,zmax=40)\n",
        "trace2 = go.Heatmap (x=tempsb['DAY'], y=tempsb['LST_TIME'],z=tempsb['T_HR_AVG'], colorscale='JET',zmin=5,zmax=40)\n",
        "trace3 = go.Heatmap (x=tempyu['DAY'], y=tempyu['LST_TIME'],z=tempyu['T_HR_AVG'], colorscale='JET',zmin=5,zmax=40)\n",
        "\n",
        "fig = subplots.make_subplots(rows=1, # Definiert auf wievielen Zeilen die Plots verteilt werden sollen\n",
        "                          cols=3, # Definiert auf wievielen Spalten die Plots verteilt werden sollen\n",
        "                          subplot_titles=['Sitka AK', 'SantaBarbara', 'Yuma AZ'],\n",
        "                          shared_yaxes=False) # Definiert, ob nur eine Y-Achse beschriftet wird oder alle.\n",
        "\n",
        "fig.append_trace(trace1,1,1) #1 Zeile, 1 Spalte\n",
        "fig.append_trace(trace2,1,2) #1 Zeile, 2 Spalte\n",
        "fig.append_trace(trace3,1,3) #1 Zeile, 3 Spalte\n",
        "\n",
        "fig['layout'].update(title='Temperaturen für 3 US Städte') # Hier sprechen wir das Gesamtlayout an\n",
        "\n",
        "fig.show()\n"
      ],
      "execution_count": null,
      "outputs": []
    },
    {
      "cell_type": "markdown",
      "metadata": {
        "colab_type": "text",
        "id": "zri4c2DZQFP1"
      },
      "source": [
        "## Einführung in Dash ##\n",
        "\n",
        "Einfach gesagt ist Dash eine Open Source Python Bibliothek um interaktive web-basierte App, welche meist im Bereich der Date Science eingesetzt wird. Der wesentliche Vorteil von Dash ist, dass lediglich Python und etwas Plotly Knowhow gefragt ist aber kein CSS oder HTML Wissen. \n",
        "\n",
        "Eine Dash App besteht aus den folgenden zwei Teilen:\n",
        "* Der erste Teil bescheibt das Layout bzw. wie die App dargestellt wird.\n",
        "* Der zweite Teil beschreibt die Interaktivität der App.\n",
        "\n",
        "Dash besteht aus den folgenden zwei Bibliotheken:\n",
        "* dash_html_components - Beinhaltet alle HTML Tags\n",
        "* dash_core_components - Beinhaltet die interaktiven Komponenten welche mittels JavaScript, HTML und CSS generiert werden."
      ]
    },
    {
      "cell_type": "markdown",
      "metadata": {
        "colab_type": "text",
        "id": "X33JxSSuTs0v"
      },
      "source": [
        "### Installation von Dash ###\n",
        "\n",
        "Die Installation kann ganz einfach mittels Pip druchgeführt werden"
      ]
    },
    {
      "cell_type": "code",
      "metadata": {
        "colab_type": "code",
        "id": "dbRl_OjjT7rP",
        "colab": {}
      },
      "source": [
        "!pip install dash"
      ],
      "execution_count": null,
      "outputs": []
    },
    {
      "cell_type": "markdown",
      "metadata": {
        "colab_type": "text",
        "id": "NYZxZOlidCS2"
      },
      "source": [
        "### Dash Basics - Layout ###\n"
      ]
    },
    {
      "cell_type": "code",
      "metadata": {
        "colab_type": "code",
        "id": "AbFZM5M4in8U",
        "colab": {}
      },
      "source": [
        "import dash\n",
        "import dash_core_components as dcc\n",
        "import dash_html_components as html\n",
        "\n",
        "# Zuerst wird immer eine App erstellt\n",
        "app = dash.Dash()\n",
        "\n",
        "app.layout = html.Div(children=[ # Hier erstellen wir einen Container\n",
        "            html.H1('Hello Dash!'), # Hier erstellen wir unser erstes HTML Element (Titel) in diesem Container\n",
        "            html.Div('Dash: Web Dashboard with Python'), # Nun noch ein weiteres HTML Element (Text)\n",
        "            dcc.Graph(id='example', # Hier erstellen wir unsere erste Grafik in diesem Container\n",
        "                    figure={'data':[ # Nachfolgend kommen unserer Daten inkl. dem Plot den wir erstellen wollen.\n",
        "                    {'x':[1,2,3],'y':[4,1,2],'type':'bar', 'name':'SF'},\n",
        "                    {'x':[1,2,3],'y':[2,4,5],'type':'bar', 'name':'NYC'},\n",
        "                    ],\n",
        "                            'layout':{ # Dieser Layout bezieht sich auf den Plot\n",
        "                                'title':'BAR PLOTS!'\n",
        "                            }})\n",
        "])\n",
        "\n",
        "if __name__ == '__main__': # Bedeutet, dass wir das Python Script direkt starten\n",
        "  app.run_server() # Hiermit führen wir die App in Form eines Webservices aus\n"
      ],
      "execution_count": null,
      "outputs": []
    },
    {
      "cell_type": "markdown",
      "metadata": {
        "id": "JlvkDiPkeuZS",
        "colab_type": "text"
      },
      "source": [
        "### Dash Basics - Layout - Styling ###\n"
      ]
    },
    {
      "cell_type": "code",
      "metadata": {
        "id": "4hGeu9aTeuZS",
        "colab_type": "code",
        "colab": {}
      },
      "source": [
        "import dash\n",
        "import dash_core_components as dcc\n",
        "import dash_html_components as html\n",
        "\n",
        "# Zuerst wird immer eine App erstellt\n",
        "app = dash.Dash()\n",
        "\n",
        "colors = {'background':'Black','text':'Yellow'} # Hier erstellen wir ein Standard Gerüst welche wir im unterne Code immer wieder anziehen können\n",
        "\n",
        "app.layout = html.Div(children=[ # Hier erstellen wir einen Container\n",
        "            html.H1('Hello Dash!', style={'textAlign':'center', \n",
        "                                         'color':colors['text']}), \n",
        "    \n",
        "            dcc.Graph(id='example', # Hier erstellen wir unsere erste Grafik in diesem Container\n",
        "                    figure={'data':[ # Nachfolgend kommen unserer Daten inkl. dem Plot den wir erstellen wollen.\n",
        "                    {'x':[1,2,3],'y':[4,1,2],'type':'bar', 'name':'SF'},\n",
        "                    {'x':[1,2,3],'y':[2,4,5],'type':'bar', 'name':'NYC'},\n",
        "                    ],\n",
        "                            'layout':{  # Dieser Layout bezieht sich auf den Plot\n",
        "                                'plot_bgcolor':colors['background'], # Hier ziehen wir die Farbe Schwarz aus dem colors dict an\n",
        "                                'paper_bgcolor':colors['background'],\n",
        "                                'font':{'color':colors['text']},\n",
        "                                'title':'BAR PLOTS!'\n",
        "                            }})\n",
        "], style={'backgroundColor':colors['background']}\n",
        "                     \n",
        "                     )\n",
        "\n",
        "if __name__ == '__main__': # Bedeutet, dass wir das Python Script direkt starten\n",
        "  app.run_server() # Hiermit führen wir die App in Form eines Webservices aus"
      ],
      "execution_count": null,
      "outputs": []
    },
    {
      "cell_type": "markdown",
      "metadata": {
        "id": "9bQPQ3XbeuZU",
        "colab_type": "text"
      },
      "source": [
        "### Konvertierung Plotly zu Dash ###\n",
        "\n",
        "Wie wir ja bereits wissen, können wir die Graphs von Plotly auch in Dash verwenden."
      ]
    },
    {
      "cell_type": "code",
      "metadata": {
        "id": "CrMmsPtyeuZW",
        "colab_type": "code",
        "colab": {},
        "outputId": "058d62eb-d4cb-4ba3-f686-8d7f36944b38"
      },
      "source": [
        "import dash\n",
        "import dash_core_components as dcc\n",
        "import dash_html_components as html\n",
        "import plotly.graph_objs as go\n",
        "import numpy as np\n",
        "\n",
        "app = dash.Dash()\n",
        "\n",
        "# zuerste ersetllen wir ein paar beispielsdaten\n",
        "np.random.seed(42)\n",
        "x = np.random.randint(1,101,100)\n",
        "y = np.random.randint(1,101,100)\n",
        "\n",
        "app.layout = html.Div([dcc.Graph(id='scatterplot',\n",
        "                        figure = {'data':[  # Hier sind wir nun wieder bei Plotly\n",
        "                            go.Scatter(\n",
        "                            x=x,\n",
        "                            y=y,\n",
        "                            mode='markers',\n",
        "                            marker = {\n",
        "                                'size':12,\n",
        "                                'color':'rgb(51,204,153)',\n",
        "                                'symbol':'pentagon',\n",
        "                                'line':{'width':2}\n",
        "                            }\n",
        "                            )],\n",
        "                        'layout':go.Layout(title='1. Scatterplot',\n",
        "                                          xaxis=dict(title='Some Random Datas'),\n",
        "                                          yaxis=dict(title='Some Data'))}\n",
        "                                ),\n",
        "                       dcc.Graph(id='scatterplot2', #Hier erstellen wir einen Scatter Plot\n",
        "                        figure = {'data':[  # Hier sind wir nun wieder bei Plotly\n",
        "                            go.Scatter(\n",
        "                            x=x,\n",
        "                            y=y,\n",
        "                            mode='markers',\n",
        "                            marker = {\n",
        "                                'size':12,\n",
        "                                'color':'Red',\n",
        "                                'line':{'width':2}\n",
        "                            }\n",
        "                            )],\n",
        "                        'layout':go.Layout(title='2. Scatterplot',\n",
        "                                          xaxis=dict(title='Some Random Datas'),\n",
        "                                          yaxis=dict(title='Some Data'))}\n",
        "                                )\n",
        "                      ])\n",
        "\n",
        "if __name__ == '__main__':\n",
        "    app.run_server()\n",
        "\n",
        "                                  "
      ],
      "execution_count": null,
      "outputs": [
        {
          "output_type": "stream",
          "text": [
            " * Serving Flask app \"__main__\" (lazy loading)\n",
            " * Environment: production\n",
            "\u001b[31m   WARNING: This is a development server. Do not use it in a production deployment.\u001b[0m\n",
            "\u001b[2m   Use a production WSGI server instead.\u001b[0m\n",
            " * Debug mode: off\n"
          ],
          "name": "stdout"
        },
        {
          "output_type": "stream",
          "text": [
            " * Running on http://127.0.0.1:8050/ (Press CTRL+C to quit)\n",
            "127.0.0.1 - - [19/Apr/2020 17:26:49] \"\u001b[37mGET / HTTP/1.1\u001b[0m\" 200 -\n",
            "127.0.0.1 - - [19/Apr/2020 17:26:50] \"\u001b[37mGET /_dash-component-suites/dash_renderer/prop-types@15.7.2.min.js?v=1.1.2&m=1576595738 HTTP/1.1\u001b[0m\" 200 -\n",
            "127.0.0.1 - - [19/Apr/2020 17:26:50] \"\u001b[37mGET /_dash-component-suites/dash_renderer/react@16.8.6.min.js?v=1.1.2&m=1576595738 HTTP/1.1\u001b[0m\" 200 -\n",
            "127.0.0.1 - - [19/Apr/2020 17:26:50] \"\u001b[37mGET /_dash-component-suites/dash_html_components/dash_html_components.min.js?v=1.0.1&m=1576596177 HTTP/1.1\u001b[0m\" 200 -\n",
            "127.0.0.1 - - [19/Apr/2020 17:26:50] \"\u001b[37mGET /_dash-component-suites/dash_core_components/highlight.pack.js?v=1.3.1&m=1576595950 HTTP/1.1\u001b[0m\" 200 -\n",
            "127.0.0.1 - - [19/Apr/2020 17:26:50] \"\u001b[37mGET /_dash-component-suites/dash_renderer/react-dom@16.8.6.min.js?v=1.1.2&m=1576595738 HTTP/1.1\u001b[0m\" 200 -\n",
            "127.0.0.1 - - [19/Apr/2020 17:26:50] \"\u001b[37mGET /_dash-component-suites/dash_renderer/dash_renderer.min.js?v=1.1.2&m=1576595738 HTTP/1.1\u001b[0m\" 200 -\n",
            "127.0.0.1 - - [19/Apr/2020 17:26:50] \"\u001b[37mGET /_dash-component-suites/dash_core_components/dash_core_components.min.js?v=1.3.1&m=1576595950 HTTP/1.1\u001b[0m\" 200 -\n",
            "127.0.0.1 - - [19/Apr/2020 17:26:50] \"\u001b[37mGET /_dash-component-suites/dash_core_components/plotly-1.50.1.min.js?v=1.3.1&m=1576595950 HTTP/1.1\u001b[0m\" 200 -\n",
            "127.0.0.1 - - [19/Apr/2020 17:26:50] \"\u001b[37mGET /_dash-dependencies HTTP/1.1\u001b[0m\" 200 -\n",
            "127.0.0.1 - - [19/Apr/2020 17:26:50] \"\u001b[37mGET /_dash-layout HTTP/1.1\u001b[0m\" 200 -\n"
          ],
          "name": "stderr"
        }
      ]
    },
    {
      "cell_type": "markdown",
      "metadata": {
        "id": "BW2R8HvAeuZY",
        "colab_type": "text"
      },
      "source": [
        "### Dash Komponenten ###\n",
        "\n",
        "Nachfolgend werden wir uns mal etwas genauer mit den Dash Komponenten befassen."
      ]
    },
    {
      "cell_type": "markdown",
      "metadata": {
        "id": "JcnZuS0leuZZ",
        "colab_type": "text"
      },
      "source": [
        "#### Dash - HTML Komponent ####\n",
        "\n",
        "* HTML Div ist ein Divison Element oder besser gesagt eine Sektion oder Block des Dashboards\n",
        "* CSS ist das Styling Element im HTML bzw. Fonts, Colors, Borders usw. Dash verwendet sogenannt Dictionaries zur Übergabe von CSS Elementen."
      ]
    },
    {
      "cell_type": "code",
      "metadata": {
        "id": "LWqKbuyaeuZZ",
        "colab_type": "code",
        "colab": {}
      },
      "source": [
        "import dash\n",
        "import dash_html_components as html\n",
        "\n",
        "app = dash.Dash()\n",
        "\n",
        "app.layout = html.Div(['Das ist der äusserste Block dieses Dashboards', # Hauptblock\n",
        "                       html.Div('Das ist einer Block innerhalb des äusseren Block',\n",
        "                               style=dict(color='red',border='2px red solid')), \n",
        "                       html.Div('Das ist noch einer Block innerhalb des äusseren Blocks',\n",
        "                               style=dict(color='blue', border='2px blue solid')),\n",
        "                      ],\n",
        "                     style=dict(color='green', border='2px green solid') # Style des Hauptblocks\n",
        "                     )\n",
        "\n",
        "if __name__ == '__main__':\n",
        "    app.run_server()"
      ],
      "execution_count": null,
      "outputs": []
    },
    {
      "cell_type": "markdown",
      "metadata": {
        "id": "MYURHmnyeuZb",
        "colab_type": "text"
      },
      "source": [
        "#### Dash - Core Komponent ####\n",
        "\n",
        "https://dash.plotly.com/dash-core-components/confirmdialog"
      ]
    },
    {
      "cell_type": "code",
      "metadata": {
        "scrolled": true,
        "id": "TEcL81zMeuZc",
        "colab_type": "code",
        "colab": {}
      },
      "source": [
        "import dash\n",
        "import dash_core_components as dcc\n",
        "import dash_html_components as html\n",
        "\n",
        "app = dash.Dash()\n",
        "\n",
        "app.layout = html.Div([\n",
        "            html.Label('Dropdown'),\n",
        "            dcc.Dropdown(options=[{'label':'New York City',\n",
        "                                     'value':'NYC'},\n",
        "                                     {'label':'San Francisco',\n",
        "                                     'value':'SF'}],\n",
        "                         value='SF'),\n",
        "    \n",
        "            html.Label('Slider'),\n",
        "            dcc.Slider(min=-10, max=10, step=0.5,value=0,\n",
        "                       marks={i: i for i in range(-10,10)}),\n",
        "    \n",
        "            html.P(html.Label('Radio Items')),\n",
        "            dcc.RadioItems(options=[{'label':'New York City',\n",
        "                                     'value':'NYC'},\n",
        "                                    {'label':'San Francisco',\n",
        "                                    'value':'SF'}],\n",
        "                                value='SF')\n",
        "])\n",
        "\n",
        "if __name__ == '__main__':\n",
        "    app.run_server()"
      ],
      "execution_count": null,
      "outputs": []
    },
    {
      "cell_type": "markdown",
      "metadata": {
        "id": "H_AEaK_6euZe",
        "colab_type": "text"
      },
      "source": [
        "#### Dash Markdowns ####\n",
        "\n",
        "Mit Markdowns ist es möglich Links, Text, Bullet Lists usw. in einen Dashboard einzufügen. Weitere Infos gibt es unter dem folgenden Link. \n",
        "\n",
        "http://commonmark.org/help"
      ]
    },
    {
      "cell_type": "code",
      "metadata": {
        "scrolled": true,
        "id": "ZlFZLNUYeuZe",
        "colab_type": "code",
        "colab": {}
      },
      "source": [
        "import dash\n",
        "import dash_html_components as html\n",
        "\n",
        "markdown_text = '''\n",
        "### Das ist ein Dash Markdown\n",
        "Mehr dazu auf [CommonMark](http://commonmark.org)\n",
        "'''\n",
        "\n",
        "app = dash.Dash()\n",
        "\n",
        "app.layout = html.Div([\n",
        "    dcc.Markdown(children=markdown_text)\n",
        "                       ])\n",
        "\n",
        "if __name__ == '__main__':\n",
        "    app.run_server()"
      ],
      "execution_count": null,
      "outputs": []
    },
    {
      "cell_type": "markdown",
      "metadata": {
        "id": "SwPcu8MzeuZg",
        "colab_type": "text"
      },
      "source": [
        "#### Dash Hilfe ####"
      ]
    },
    {
      "cell_type": "code",
      "metadata": {
        "id": "Rru1Jz28euZg",
        "colab_type": "code",
        "colab": {}
      },
      "source": [
        "import dash\n",
        "import dash_html_components as html\n",
        "\n",
        "# Mit dem folgenden Befehl ist es möglich eine Hilfsfunktion aufzurufen.\n",
        "print(help(html.Div))\n",
        "\n",
        "# Mit dem folgenden Befehl wird ein HTML mit einem Hilfstext erstellt.\n",
        "!pydoc -w dash_html_components.Div"
      ],
      "execution_count": null,
      "outputs": []
    },
    {
      "cell_type": "markdown",
      "metadata": {
        "id": "ukZwTfCjeuZi",
        "colab_type": "text"
      },
      "source": [
        "### Interactive Components"
      ]
    },
    {
      "cell_type": "markdown",
      "metadata": {
        "id": "TotYCrw8euZi",
        "colab_type": "text"
      },
      "source": [
        "#### Dash Callbacks \n",
        "\n",
        "Nach dem wir uns im oberen Teil vor allem mit dem Layout und der Erstellung interaktiver Elemente beschäftigt haben. Kommen wir nun zu einem wirklich spannenden Teil von Dash, den Callbacks.\n",
        "Callbacks werden darzu verwendet um Outputs aus Inputs zu generieren."
      ]
    },
    {
      "cell_type": "code",
      "metadata": {
        "scrolled": false,
        "id": "Sv0uKHuQeuZj",
        "colab_type": "code",
        "colab": {},
        "outputId": "f9057b3c-035a-4f46-cccd-add71e4aed07"
      },
      "source": [
        "import dash\n",
        "import dash_html_components as html\n",
        "import dash_core_components as dcc\n",
        "from dash.dependencies import Input, Output\n",
        "\n",
        "app = dash.Dash()\n",
        "\n",
        "app.layout = html.Div([\n",
        "                    dcc.Input(id='my-id', value='Initial Text',type='text'),\n",
        "                    html.Div(id='my-div')\n",
        "])\n",
        "\n",
        "@app.callback(Output(component_id='my-div',component_property='children'),\n",
        "             [Input(component_id='my-id',component_property='value')])\n",
        "\n",
        "def update_output_div(input_value): # Diese Funktion stellt den Realtime Update \n",
        "    return 'You entered: {}'.format(input_value)\n",
        "    \n",
        "\n",
        "if __name__ == '__main__':\n",
        "    app.run_server()"
      ],
      "execution_count": null,
      "outputs": [
        {
          "output_type": "stream",
          "text": [
            "127.0.0.1 - - [19/Apr/2020 17:18:34] \"\u001b[37mGET / HTTP/1.1\u001b[0m\" 200 -\n",
            "127.0.0.1 - - [19/Apr/2020 17:18:35] \"\u001b[37mGET /_dash-component-suites/dash_renderer/react@16.8.6.min.js?v=1.1.2&m=1576595738 HTTP/1.1\u001b[0m\" 200 -\n",
            "127.0.0.1 - - [19/Apr/2020 17:18:35] \"\u001b[37mGET /_dash-component-suites/dash_renderer/react-dom@16.8.6.min.js?v=1.1.2&m=1576595738 HTTP/1.1\u001b[0m\" 200 -\n",
            "127.0.0.1 - - [19/Apr/2020 17:18:35] \"\u001b[37mGET /_dash-component-suites/dash_renderer/prop-types@15.7.2.min.js?v=1.1.2&m=1576595738 HTTP/1.1\u001b[0m\" 200 -\n",
            "127.0.0.1 - - [19/Apr/2020 17:18:35] \"\u001b[37mGET /_dash-component-suites/dash_core_components/highlight.pack.js?v=1.3.1&m=1576595950 HTTP/1.1\u001b[0m\" 200 -\n",
            "127.0.0.1 - - [19/Apr/2020 17:18:35] \"\u001b[37mGET /_dash-component-suites/dash_html_components/dash_html_components.min.js?v=1.0.1&m=1576596177 HTTP/1.1\u001b[0m\" 200 -\n",
            "127.0.0.1 - - [19/Apr/2020 17:18:35] \"\u001b[37mGET /_dash-component-suites/dash_renderer/dash_renderer.min.js?v=1.1.2&m=1576595738 HTTP/1.1\u001b[0m\" 200 -\n",
            "127.0.0.1 - - [19/Apr/2020 17:18:35] \"\u001b[37mGET /_dash-component-suites/dash_core_components/dash_core_components.min.js?v=1.3.1&m=1576595950 HTTP/1.1\u001b[0m\" 200 -\n",
            "127.0.0.1 - - [19/Apr/2020 17:18:35] \"\u001b[37mGET /_dash-component-suites/dash_core_components/plotly-1.50.1.min.js?v=1.3.1&m=1576595950 HTTP/1.1\u001b[0m\" 200 -\n",
            "127.0.0.1 - - [19/Apr/2020 17:18:36] \"\u001b[37mGET /_dash-layout HTTP/1.1\u001b[0m\" 200 -\n",
            "127.0.0.1 - - [19/Apr/2020 17:18:36] \"\u001b[37mGET /_dash-dependencies HTTP/1.1\u001b[0m\" 200 -\n",
            "127.0.0.1 - - [19/Apr/2020 17:18:36] \"\u001b[37mPOST /_dash-update-component HTTP/1.1\u001b[0m\" 200 -\n",
            "127.0.0.1 - - [19/Apr/2020 17:19:10] \"\u001b[37mGET / HTTP/1.1\u001b[0m\" 200 -\n",
            "127.0.0.1 - - [19/Apr/2020 17:19:10] \"\u001b[37mGET /_dash-component-suites/dash_renderer/react@16.8.6.min.js?v=1.1.2&m=1576595738 HTTP/1.1\u001b[0m\" 200 -\n",
            "127.0.0.1 - - [19/Apr/2020 17:19:10] \"\u001b[37mGET /_dash-component-suites/dash_renderer/prop-types@15.7.2.min.js?v=1.1.2&m=1576595738 HTTP/1.1\u001b[0m\" 200 -\n",
            "127.0.0.1 - - [19/Apr/2020 17:19:10] \"\u001b[37mGET /_dash-component-suites/dash_core_components/highlight.pack.js?v=1.3.1&m=1576595950 HTTP/1.1\u001b[0m\" 200 -\n",
            "127.0.0.1 - - [19/Apr/2020 17:19:10] \"\u001b[37mGET /_dash-component-suites/dash_renderer/react-dom@16.8.6.min.js?v=1.1.2&m=1576595738 HTTP/1.1\u001b[0m\" 200 -\n",
            "127.0.0.1 - - [19/Apr/2020 17:19:10] \"\u001b[37mGET /_dash-component-suites/dash_html_components/dash_html_components.min.js?v=1.0.1&m=1576596177 HTTP/1.1\u001b[0m\" 200 -\n",
            "127.0.0.1 - - [19/Apr/2020 17:19:10] \"\u001b[37mGET /_dash-component-suites/dash_renderer/dash_renderer.min.js?v=1.1.2&m=1576595738 HTTP/1.1\u001b[0m\" 200 -\n",
            "127.0.0.1 - - [19/Apr/2020 17:19:10] \"\u001b[37mGET /_dash-component-suites/dash_core_components/dash_core_components.min.js?v=1.3.1&m=1576595950 HTTP/1.1\u001b[0m\" 200 -\n",
            "127.0.0.1 - - [19/Apr/2020 17:19:10] \"\u001b[37mGET /_dash-component-suites/dash_core_components/plotly-1.50.1.min.js?v=1.3.1&m=1576595950 HTTP/1.1\u001b[0m\" 200 -\n",
            "127.0.0.1 - - [19/Apr/2020 17:19:11] \"\u001b[37mGET /_dash-layout HTTP/1.1\u001b[0m\" 200 -\n",
            "127.0.0.1 - - [19/Apr/2020 17:19:11] \"\u001b[37mGET /_dash-dependencies HTTP/1.1\u001b[0m\" 200 -\n",
            "127.0.0.1 - - [19/Apr/2020 17:19:11] \"\u001b[37mPOST /_dash-update-component HTTP/1.1\u001b[0m\" 200 -\n",
            "127.0.0.1 - - [19/Apr/2020 17:19:25] \"\u001b[37mGET / HTTP/1.1\u001b[0m\" 200 -\n",
            "127.0.0.1 - - [19/Apr/2020 17:19:25] \"\u001b[37mGET /_dash-component-suites/dash_renderer/react@16.8.6.min.js?v=1.1.2&m=1576595738 HTTP/1.1\u001b[0m\" 200 -\n",
            "127.0.0.1 - - [19/Apr/2020 17:19:25] \"\u001b[37mGET /_dash-component-suites/dash_renderer/react-dom@16.8.6.min.js?v=1.1.2&m=1576595738 HTTP/1.1\u001b[0m\" 200 -\n",
            "127.0.0.1 - - [19/Apr/2020 17:19:25] \"\u001b[37mGET /_dash-component-suites/dash_renderer/prop-types@15.7.2.min.js?v=1.1.2&m=1576595738 HTTP/1.1\u001b[0m\" 200 -\n",
            "127.0.0.1 - - [19/Apr/2020 17:19:25] \"\u001b[37mGET /_dash-component-suites/dash_core_components/highlight.pack.js?v=1.3.1&m=1576595950 HTTP/1.1\u001b[0m\" 200 -\n",
            "127.0.0.1 - - [19/Apr/2020 17:19:25] \"\u001b[37mGET /_dash-component-suites/dash_html_components/dash_html_components.min.js?v=1.0.1&m=1576596177 HTTP/1.1\u001b[0m\" 200 -\n",
            "127.0.0.1 - - [19/Apr/2020 17:19:25] \"\u001b[37mGET /_dash-component-suites/dash_renderer/dash_renderer.min.js?v=1.1.2&m=1576595738 HTTP/1.1\u001b[0m\" 200 -\n",
            "127.0.0.1 - - [19/Apr/2020 17:19:25] \"\u001b[37mGET /_dash-component-suites/dash_core_components/dash_core_components.min.js?v=1.3.1&m=1576595950 HTTP/1.1\u001b[0m\" 200 -\n",
            "127.0.0.1 - - [19/Apr/2020 17:19:25] \"\u001b[37mGET /_dash-component-suites/dash_core_components/plotly-1.50.1.min.js?v=1.3.1&m=1576595950 HTTP/1.1\u001b[0m\" 200 -\n",
            "127.0.0.1 - - [19/Apr/2020 17:19:25] \"\u001b[37mGET /_dash-layout HTTP/1.1\u001b[0m\" 200 -\n",
            "127.0.0.1 - - [19/Apr/2020 17:19:25] \"\u001b[37mGET /_dash-dependencies HTTP/1.1\u001b[0m\" 200 -\n",
            "127.0.0.1 - - [19/Apr/2020 17:19:26] \"\u001b[37mPOST /_dash-update-component HTTP/1.1\u001b[0m\" 200 -\n"
          ],
          "name": "stderr"
        }
      ]
    },
    {
      "cell_type": "markdown",
      "metadata": {
        "id": "CjHx1Dmfe4Hr",
        "colab_type": "text"
      },
      "source": [
        "### Sankey Plot erstellen"
      ]
    },
    {
      "cell_type": "code",
      "metadata": {
        "id": "JoP8tmWNe_vG",
        "colab_type": "code",
        "colab": {}
      },
      "source": [
        "import plotly.graph_objects as go\n",
        "\n",
        "source = [0, 0, 0, 0,       # Op Expeditures\n",
        "          1, 1,             # Public Safety\n",
        "          2, 2,             # Eng n Util\n",
        "          3, 3, 3, 3, 3, 3, # Community Serv\n",
        "          4, 4, 4]          # Corp Support\n",
        "target = [1, 2, 3, 4, \n",
        "          5, 6,\n",
        "          7, 8, \n",
        "          9, 10, 11, 12, 13, 14, \n",
        "          15, 16, 17]\n",
        "value = [484500, 468350, 355300, 306850, \n",
        "         339150, 145350, \n",
        "         371450, 96900, \n",
        "         129200, 80750, 48450, 48450, 32300, 16150, \n",
        "         113050, 129200, 64600]\n",
        "\n",
        "label = ['Operating Expeditures', \n",
        "         'Public Safety', \n",
        "         'Engineering and Utilities', \n",
        "         'Community-Related Services', \n",
        "         'Corporate Support',\n",
        "         'Police', \n",
        "         'Fire',\n",
        "         'Utilities', \n",
        "         'Engineering Public Works',\n",
        "         'Parks and Recreation', \n",
        "         'Arts, Culture, and Community Services',\n",
        "         'Library', \n",
        "         'Development, Buildings, and Licensing',\n",
        "         'Planning, Urban Design, and Sustainability', \n",
        "         'Other',\n",
        "         'Corporate Support', \n",
        "         'Debt and Capital (Non-Utility)', \n",
        "         'Contingencies and Transfers']\n",
        "\n",
        "color_node = [\n",
        "'#808B96', \n",
        "'#EC7063', '#F7DC6F', '#48C9B0', '#AF7AC5',\n",
        "'#EC7063', '#EC7063',\n",
        "'#F7DC6F', '#F7DC6F',\n",
        "'#48C9B0', '#48C9B0', '#48C9B0', '#48C9B0', '#48C9B0', '#48C9B0',\n",
        "'#AF7AC5', '#AF7AC5', '#AF7AC5']\n",
        "color_link = [\n",
        "'#EBBAB5', '#FEF3C7', '#A6E3D7', '#CBB4D5',\n",
        "'#EBBAB5', '#EBBAB5',\n",
        "'#FEF3C7', '#FEF3C7',\n",
        "'#A6E3D7', '#A6E3D7', '#A6E3D7', '#A6E3D7', '#A6E3D7', '#A6E3D7',\n",
        "'#CBB4D5', '#CBB4D5', '#CBB4D5']"
      ],
      "execution_count": 17,
      "outputs": []
    },
    {
      "cell_type": "code",
      "metadata": {
        "id": "xU6KGGG5fSbr",
        "colab_type": "code",
        "colab": {
          "base_uri": "https://localhost:8080/",
          "height": 542
        },
        "outputId": "91acba84-8278-4f54-d168-f5d3b69d164b"
      },
      "source": [
        "link = dict(source = source, target = target, value=value, color=color_link)\n",
        "node = dict(label=label, pad=15, thickness=5, color=color_node)\n",
        "data = go.Sankey(link=link, node=node)\n",
        "\n",
        "fig = go.Figure(data)\n",
        "fig.update_layout(\n",
        "    hovermode = 'x',\n",
        "    title=\"Vancouver Operating Expeditures by Area of Service\",\n",
        "    font=dict(size = 10, color = 'white'),\n",
        "    paper_bgcolor='#5B5958'\n",
        ")\n",
        "fig.show()"
      ],
      "execution_count": 20,
      "outputs": [
        {
          "output_type": "display_data",
          "data": {
            "text/html": [
              "<html>\n",
              "<head><meta charset=\"utf-8\" /></head>\n",
              "<body>\n",
              "    <div>\n",
              "            <script src=\"https://cdnjs.cloudflare.com/ajax/libs/mathjax/2.7.5/MathJax.js?config=TeX-AMS-MML_SVG\"></script><script type=\"text/javascript\">if (window.MathJax) {MathJax.Hub.Config({SVG: {font: \"STIX-Web\"}});}</script>\n",
              "                <script type=\"text/javascript\">window.PlotlyConfig = {MathJaxConfig: 'local'};</script>\n",
              "        <script src=\"https://cdn.plot.ly/plotly-latest.min.js\"></script>    \n",
              "            <div id=\"9373cf0c-1ff1-43da-af18-c1e34647f996\" class=\"plotly-graph-div\" style=\"height:525px; width:100%;\"></div>\n",
              "            <script type=\"text/javascript\">\n",
              "                \n",
              "                    window.PLOTLYENV=window.PLOTLYENV || {};\n",
              "                    \n",
              "                if (document.getElementById(\"9373cf0c-1ff1-43da-af18-c1e34647f996\")) {\n",
              "                    Plotly.newPlot(\n",
              "                        '9373cf0c-1ff1-43da-af18-c1e34647f996',\n",
              "                        [{\"link\": {\"color\": [\"#EBBAB5\", \"#FEF3C7\", \"#A6E3D7\", \"#CBB4D5\", \"#EBBAB5\", \"#EBBAB5\", \"#FEF3C7\", \"#FEF3C7\", \"#A6E3D7\", \"#A6E3D7\", \"#A6E3D7\", \"#A6E3D7\", \"#A6E3D7\", \"#A6E3D7\", \"#CBB4D5\", \"#CBB4D5\", \"#CBB4D5\"], \"source\": [0, 0, 0, 0, 1, 1, 2, 2, 3, 3, 3, 3, 3, 3, 4, 4, 4], \"target\": [1, 2, 3, 4, 5, 6, 7, 8, 9, 10, 11, 12, 13, 14, 15, 16, 17], \"value\": [484500, 468350, 355300, 306850, 339150, 145350, 371450, 96900, 129200, 80750, 48450, 48450, 32300, 16150, 113050, 129200, 64600]}, \"node\": {\"color\": [\"#808B96\", \"#EC7063\", \"#F7DC6F\", \"#48C9B0\", \"#AF7AC5\", \"#EC7063\", \"#EC7063\", \"#F7DC6F\", \"#F7DC6F\", \"#48C9B0\", \"#48C9B0\", \"#48C9B0\", \"#48C9B0\", \"#48C9B0\", \"#48C9B0\", \"#AF7AC5\", \"#AF7AC5\", \"#AF7AC5\"], \"label\": [\"Operating Expeditures\", \"Public Safety\", \"Engineering and Utilities\", \"Community-Related Services\", \"Corporate Support\", \"Police\", \"Fire\", \"Utilities\", \"Engineering Public Works\", \"Parks and Recreation\", \"Arts, Culture, and Community Services\", \"Library\", \"Development, Buildings, and Licensing\", \"Planning, Urban Design, and Sustainability\", \"Other\", \"Corporate Support\", \"Debt and Capital (Non-Utility)\", \"Contingencies and Transfers\"], \"pad\": 15, \"thickness\": 5}, \"type\": \"sankey\"}],\n",
              "                        {\"font\": {\"color\": \"white\", \"size\": 10}, \"hovermode\": \"x\", \"paper_bgcolor\": \"#5B5958\", \"template\": {\"data\": {\"bar\": [{\"error_x\": {\"color\": \"#2a3f5f\"}, \"error_y\": {\"color\": \"#2a3f5f\"}, \"marker\": {\"line\": {\"color\": \"#E5ECF6\", \"width\": 0.5}}, \"type\": \"bar\"}], \"barpolar\": [{\"marker\": {\"line\": {\"color\": \"#E5ECF6\", \"width\": 0.5}}, \"type\": \"barpolar\"}], \"carpet\": [{\"aaxis\": {\"endlinecolor\": \"#2a3f5f\", \"gridcolor\": \"white\", \"linecolor\": \"white\", \"minorgridcolor\": \"white\", \"startlinecolor\": \"#2a3f5f\"}, \"baxis\": {\"endlinecolor\": \"#2a3f5f\", \"gridcolor\": \"white\", \"linecolor\": \"white\", \"minorgridcolor\": \"white\", \"startlinecolor\": \"#2a3f5f\"}, \"type\": \"carpet\"}], \"choropleth\": [{\"colorbar\": {\"outlinewidth\": 0, \"ticks\": \"\"}, \"type\": \"choropleth\"}], \"contour\": [{\"colorbar\": {\"outlinewidth\": 0, \"ticks\": \"\"}, \"colorscale\": [[0.0, \"#0d0887\"], [0.1111111111111111, \"#46039f\"], [0.2222222222222222, \"#7201a8\"], [0.3333333333333333, \"#9c179e\"], [0.4444444444444444, \"#bd3786\"], [0.5555555555555556, \"#d8576b\"], [0.6666666666666666, \"#ed7953\"], [0.7777777777777778, \"#fb9f3a\"], [0.8888888888888888, \"#fdca26\"], [1.0, \"#f0f921\"]], \"type\": \"contour\"}], \"contourcarpet\": [{\"colorbar\": {\"outlinewidth\": 0, \"ticks\": \"\"}, \"type\": \"contourcarpet\"}], \"heatmap\": [{\"colorbar\": {\"outlinewidth\": 0, \"ticks\": \"\"}, \"colorscale\": [[0.0, \"#0d0887\"], [0.1111111111111111, \"#46039f\"], [0.2222222222222222, \"#7201a8\"], [0.3333333333333333, \"#9c179e\"], [0.4444444444444444, \"#bd3786\"], [0.5555555555555556, \"#d8576b\"], [0.6666666666666666, \"#ed7953\"], [0.7777777777777778, \"#fb9f3a\"], [0.8888888888888888, \"#fdca26\"], [1.0, \"#f0f921\"]], \"type\": \"heatmap\"}], \"heatmapgl\": [{\"colorbar\": {\"outlinewidth\": 0, \"ticks\": \"\"}, \"colorscale\": [[0.0, \"#0d0887\"], [0.1111111111111111, \"#46039f\"], [0.2222222222222222, \"#7201a8\"], [0.3333333333333333, \"#9c179e\"], [0.4444444444444444, \"#bd3786\"], [0.5555555555555556, \"#d8576b\"], [0.6666666666666666, \"#ed7953\"], [0.7777777777777778, \"#fb9f3a\"], [0.8888888888888888, \"#fdca26\"], [1.0, \"#f0f921\"]], \"type\": \"heatmapgl\"}], \"histogram\": [{\"marker\": {\"colorbar\": {\"outlinewidth\": 0, \"ticks\": \"\"}}, \"type\": \"histogram\"}], \"histogram2d\": [{\"colorbar\": {\"outlinewidth\": 0, \"ticks\": \"\"}, \"colorscale\": [[0.0, \"#0d0887\"], [0.1111111111111111, \"#46039f\"], [0.2222222222222222, \"#7201a8\"], [0.3333333333333333, \"#9c179e\"], [0.4444444444444444, \"#bd3786\"], [0.5555555555555556, \"#d8576b\"], [0.6666666666666666, \"#ed7953\"], [0.7777777777777778, \"#fb9f3a\"], [0.8888888888888888, \"#fdca26\"], [1.0, \"#f0f921\"]], \"type\": \"histogram2d\"}], \"histogram2dcontour\": [{\"colorbar\": {\"outlinewidth\": 0, \"ticks\": \"\"}, \"colorscale\": [[0.0, \"#0d0887\"], [0.1111111111111111, \"#46039f\"], [0.2222222222222222, \"#7201a8\"], [0.3333333333333333, \"#9c179e\"], [0.4444444444444444, \"#bd3786\"], [0.5555555555555556, \"#d8576b\"], [0.6666666666666666, \"#ed7953\"], [0.7777777777777778, \"#fb9f3a\"], [0.8888888888888888, \"#fdca26\"], [1.0, \"#f0f921\"]], \"type\": \"histogram2dcontour\"}], \"mesh3d\": [{\"colorbar\": {\"outlinewidth\": 0, \"ticks\": \"\"}, \"type\": \"mesh3d\"}], \"parcoords\": [{\"line\": {\"colorbar\": {\"outlinewidth\": 0, \"ticks\": \"\"}}, \"type\": \"parcoords\"}], \"pie\": [{\"automargin\": true, \"type\": \"pie\"}], \"scatter\": [{\"marker\": {\"colorbar\": {\"outlinewidth\": 0, \"ticks\": \"\"}}, \"type\": \"scatter\"}], \"scatter3d\": [{\"line\": {\"colorbar\": {\"outlinewidth\": 0, \"ticks\": \"\"}}, \"marker\": {\"colorbar\": {\"outlinewidth\": 0, \"ticks\": \"\"}}, \"type\": \"scatter3d\"}], \"scattercarpet\": [{\"marker\": {\"colorbar\": {\"outlinewidth\": 0, \"ticks\": \"\"}}, \"type\": \"scattercarpet\"}], \"scattergeo\": [{\"marker\": {\"colorbar\": {\"outlinewidth\": 0, \"ticks\": \"\"}}, \"type\": \"scattergeo\"}], \"scattergl\": [{\"marker\": {\"colorbar\": {\"outlinewidth\": 0, \"ticks\": \"\"}}, \"type\": \"scattergl\"}], \"scattermapbox\": [{\"marker\": {\"colorbar\": {\"outlinewidth\": 0, \"ticks\": \"\"}}, \"type\": \"scattermapbox\"}], \"scatterpolar\": [{\"marker\": {\"colorbar\": {\"outlinewidth\": 0, \"ticks\": \"\"}}, \"type\": \"scatterpolar\"}], \"scatterpolargl\": [{\"marker\": {\"colorbar\": {\"outlinewidth\": 0, \"ticks\": \"\"}}, \"type\": \"scatterpolargl\"}], \"scatterternary\": [{\"marker\": {\"colorbar\": {\"outlinewidth\": 0, \"ticks\": \"\"}}, \"type\": \"scatterternary\"}], \"surface\": [{\"colorbar\": {\"outlinewidth\": 0, \"ticks\": \"\"}, \"colorscale\": [[0.0, \"#0d0887\"], [0.1111111111111111, \"#46039f\"], [0.2222222222222222, \"#7201a8\"], [0.3333333333333333, \"#9c179e\"], [0.4444444444444444, \"#bd3786\"], [0.5555555555555556, \"#d8576b\"], [0.6666666666666666, \"#ed7953\"], [0.7777777777777778, \"#fb9f3a\"], [0.8888888888888888, \"#fdca26\"], [1.0, \"#f0f921\"]], \"type\": \"surface\"}], \"table\": [{\"cells\": {\"fill\": {\"color\": \"#EBF0F8\"}, \"line\": {\"color\": \"white\"}}, \"header\": {\"fill\": {\"color\": \"#C8D4E3\"}, \"line\": {\"color\": \"white\"}}, \"type\": \"table\"}]}, \"layout\": {\"annotationdefaults\": {\"arrowcolor\": \"#2a3f5f\", \"arrowhead\": 0, \"arrowwidth\": 1}, \"coloraxis\": {\"colorbar\": {\"outlinewidth\": 0, \"ticks\": \"\"}}, \"colorscale\": {\"diverging\": [[0, \"#8e0152\"], [0.1, \"#c51b7d\"], [0.2, \"#de77ae\"], [0.3, \"#f1b6da\"], [0.4, \"#fde0ef\"], [0.5, \"#f7f7f7\"], [0.6, \"#e6f5d0\"], [0.7, \"#b8e186\"], [0.8, \"#7fbc41\"], [0.9, \"#4d9221\"], [1, \"#276419\"]], \"sequential\": [[0.0, \"#0d0887\"], [0.1111111111111111, \"#46039f\"], [0.2222222222222222, \"#7201a8\"], [0.3333333333333333, \"#9c179e\"], [0.4444444444444444, \"#bd3786\"], [0.5555555555555556, \"#d8576b\"], [0.6666666666666666, \"#ed7953\"], [0.7777777777777778, \"#fb9f3a\"], [0.8888888888888888, \"#fdca26\"], [1.0, \"#f0f921\"]], \"sequentialminus\": [[0.0, \"#0d0887\"], [0.1111111111111111, \"#46039f\"], [0.2222222222222222, \"#7201a8\"], [0.3333333333333333, \"#9c179e\"], [0.4444444444444444, \"#bd3786\"], [0.5555555555555556, \"#d8576b\"], [0.6666666666666666, \"#ed7953\"], [0.7777777777777778, \"#fb9f3a\"], [0.8888888888888888, \"#fdca26\"], [1.0, \"#f0f921\"]]}, \"colorway\": [\"#636efa\", \"#EF553B\", \"#00cc96\", \"#ab63fa\", \"#FFA15A\", \"#19d3f3\", \"#FF6692\", \"#B6E880\", \"#FF97FF\", \"#FECB52\"], \"font\": {\"color\": \"#2a3f5f\"}, \"geo\": {\"bgcolor\": \"white\", \"lakecolor\": \"white\", \"landcolor\": \"#E5ECF6\", \"showlakes\": true, \"showland\": true, \"subunitcolor\": \"white\"}, \"hoverlabel\": {\"align\": \"left\"}, \"hovermode\": \"closest\", \"mapbox\": {\"style\": \"light\"}, \"paper_bgcolor\": \"white\", \"plot_bgcolor\": \"#E5ECF6\", \"polar\": {\"angularaxis\": {\"gridcolor\": \"white\", \"linecolor\": \"white\", \"ticks\": \"\"}, \"bgcolor\": \"#E5ECF6\", \"radialaxis\": {\"gridcolor\": \"white\", \"linecolor\": \"white\", \"ticks\": \"\"}}, \"scene\": {\"xaxis\": {\"backgroundcolor\": \"#E5ECF6\", \"gridcolor\": \"white\", \"gridwidth\": 2, \"linecolor\": \"white\", \"showbackground\": true, \"ticks\": \"\", \"zerolinecolor\": \"white\"}, \"yaxis\": {\"backgroundcolor\": \"#E5ECF6\", \"gridcolor\": \"white\", \"gridwidth\": 2, \"linecolor\": \"white\", \"showbackground\": true, \"ticks\": \"\", \"zerolinecolor\": \"white\"}, \"zaxis\": {\"backgroundcolor\": \"#E5ECF6\", \"gridcolor\": \"white\", \"gridwidth\": 2, \"linecolor\": \"white\", \"showbackground\": true, \"ticks\": \"\", \"zerolinecolor\": \"white\"}}, \"shapedefaults\": {\"line\": {\"color\": \"#2a3f5f\"}}, \"ternary\": {\"aaxis\": {\"gridcolor\": \"white\", \"linecolor\": \"white\", \"ticks\": \"\"}, \"baxis\": {\"gridcolor\": \"white\", \"linecolor\": \"white\", \"ticks\": \"\"}, \"bgcolor\": \"#E5ECF6\", \"caxis\": {\"gridcolor\": \"white\", \"linecolor\": \"white\", \"ticks\": \"\"}}, \"title\": {\"x\": 0.05}, \"xaxis\": {\"automargin\": true, \"gridcolor\": \"white\", \"linecolor\": \"white\", \"ticks\": \"\", \"title\": {\"standoff\": 15}, \"zerolinecolor\": \"white\", \"zerolinewidth\": 2}, \"yaxis\": {\"automargin\": true, \"gridcolor\": \"white\", \"linecolor\": \"white\", \"ticks\": \"\", \"title\": {\"standoff\": 15}, \"zerolinecolor\": \"white\", \"zerolinewidth\": 2}}}, \"title\": {\"text\": \"Vancouver Operating Expeditures by Area of Service\"}},\n",
              "                        {\"responsive\": true}\n",
              "                    ).then(function(){\n",
              "                            \n",
              "var gd = document.getElementById('9373cf0c-1ff1-43da-af18-c1e34647f996');\n",
              "var x = new MutationObserver(function (mutations, observer) {{\n",
              "        var display = window.getComputedStyle(gd).display;\n",
              "        if (!display || display === 'none') {{\n",
              "            console.log([gd, 'removed!']);\n",
              "            Plotly.purge(gd);\n",
              "            observer.disconnect();\n",
              "        }}\n",
              "}});\n",
              "\n",
              "// Listen for the removal of the full notebook cells\n",
              "var notebookContainer = gd.closest('#notebook-container');\n",
              "if (notebookContainer) {{\n",
              "    x.observe(notebookContainer, {childList: true});\n",
              "}}\n",
              "\n",
              "// Listen for the clearing of the current output cell\n",
              "var outputEl = gd.closest('.output');\n",
              "if (outputEl) {{\n",
              "    x.observe(outputEl, {childList: true});\n",
              "}}\n",
              "\n",
              "                        })\n",
              "                };\n",
              "                \n",
              "            </script>\n",
              "        </div>\n",
              "</body>\n",
              "</html>"
            ]
          },
          "metadata": {
            "tags": []
          }
        }
      ]
    }
  ]
}