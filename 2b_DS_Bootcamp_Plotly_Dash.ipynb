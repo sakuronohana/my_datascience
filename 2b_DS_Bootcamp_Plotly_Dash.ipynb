{
  "nbformat": 4,
  "nbformat_minor": 0,
  "metadata": {
    "kernelspec": {
      "display_name": "Python 3",
      "language": "python",
      "name": "python3"
    },
    "language_info": {
      "codemirror_mode": {
        "name": "ipython",
        "version": 3
      },
      "file_extension": ".py",
      "mimetype": "text/x-python",
      "name": "python",
      "nbconvert_exporter": "python",
      "pygments_lexer": "ipython3",
      "version": "3.7.4"
    },
    "colab": {
      "name": "2b_DS_Bootcamp_Plotly_Dash.ipynb",
      "provenance": [],
      "include_colab_link": true
    }
  },
  "cells": [
    {
      "cell_type": "markdown",
      "metadata": {
        "id": "view-in-github",
        "colab_type": "text"
      },
      "source": [
        "<a href=\"https://colab.research.google.com/github/sakuronohana/my_datascience/blob/master/2b_DS_Bootcamp_Plotly_Dash.ipynb\" target=\"_parent\"><img src=\"https://colab.research.google.com/assets/colab-badge.svg\" alt=\"Open In Colab\"/></a>"
      ]
    },
    {
      "cell_type": "markdown",
      "metadata": {
        "id": "Sl8nNrUWQrRP",
        "colab_type": "text"
      },
      "source": [
        "# DS Bootcamp Teil 1d - Visualisierung mit Plotly & Dash #"
      ]
    },
    {
      "cell_type": "markdown",
      "metadata": {
        "colab_type": "text",
        "id": "QoQEryhL9Hxw"
      },
      "source": [
        "## DS Bootcamp Verzeichnis ##\n",
        "\n",
        "[**Teil 1 - Data Science - Prozesse & Grundlagen**](https://github.com/sakuronohana/my_datascience/blob/master/1_DS_Bootcamp_Prozesse_%26_Grundlagen.ipynb)\n",
        "\n",
        "[**Teil 1a - Data Science - Python Basic & Advanced**](https://github.com/sakuronohana/my_datascience/blob/master/2_DS_Bootcamp_Python_Basic_%26_Advanced.ipynb)\n",
        "\n",
        "[**Teil 1b - Data Science - R Basic & Advanced**](https://github.com/sakuronohana/my_datascience/blob/master/3_DS_Bootcamp_R_Basic_%26_Advanced.ipynb)\n",
        "\n",
        "[**Teil 1c - Data Science - Tensorflow Basic & Advanced**](https://github.com/sakuronohana/my_datascience/blob/master/2a_DS_Bootcamp_Tensorflow_Basic_%26_Advanced.ipynb)\n",
        "\n",
        "[**Teil 1d - Data Science - Plotly & Dash**](https://colab.research.google.com/github/sakuronohana/my_datascience/blob/master/2b_DS_Bootcamp_Plotly_Dash.ipynb#scrollTo=QoQEryhL9Hxw)\n",
        "\n",
        "[**Teil 2 - Data Science - ML - Datenbeschaffung & Datenaufbereitung**](https://github.com/sakuronohana/my_datascience/blob/master/4_DS_Bootcamp_ML_Datenbeschaffung_Datenaufbereitung.ipynb)\n",
        "\n",
        "[**Teil 3 - Data Science - ML - Modellwahl**](https://github.com/sakuronohana/my_datascience/blob/master/5_DS_Bootcamp_ML_Modellwahl.ipynb)\n",
        "\n",
        "[**Teil 4 - Data Science - ML - Modell Training, Testing & Optimierung**](https://github.com/sakuronohana/my_datascience/blob/master/6_DS_Bootcamp_ML_Modell_Train_Test_Optimize.ipynb)\n",
        "\n",
        "[**Teil 5 - Data Science - ML - Modell Produktivsetzung, Überwachung & Pflege**](https://github.com/sakuronohana/my_datascience/blob/master/7_DS_Bootcamp_ML_Modell_Deploy_Monitor_Maintain.ipynb)"
      ]
    },
    {
      "cell_type": "markdown",
      "metadata": {
        "id": "FRqJF7RCRsZf",
        "colab_type": "text"
      },
      "source": [
        "## About Plotly & Dash ##\n",
        "\n",
        "Nachfolgend eine kleine Einführung in die Visualisierung mit Plotly und Dash.\n",
        "\n",
        "Dash ist ein produktives Python-Framework zum Erstellen von Webanwendungen. Dash wurde auf Flask, Plotly.js und React.js geschrieben und ist ideal zum Erstellen von Datenvisualisierungs-Apps mit hochgradig benutzerdefinierten Benutzeroberflächen in reinem Python. \n",
        "Dash-Apps werden im Webbrowser gerendert. Sie können Ihre Apps auf Servern bereitstellen und sie dann über URLs freigeben. Da Dash-Apps im Webbrowser angezeigt werden, ist Dash von Natur aus plattformübergreifend und mobil einsetzbar.\n",
        "\n",
        "Quelle: [Plotly Dash](https://dash.plot.ly/introduction)\n",
        "\n",
        "<img src='https://images.prismic.io/plotly-marketing-website/d076c072-a8d5-4316-9d87-be7d7109cf43_social+media+logo-01.png?auto=compress,format' width='400'>"
      ]
    },
    {
      "cell_type": "markdown",
      "metadata": {
        "id": "rrdt5ZTjRsZg",
        "colab_type": "text"
      },
      "source": [
        "## Einführung in Plotly ##\n",
        "\n",
        "Bevor wir uns mit Dash beschäftigen ist es ratsam eine kurze Einführung in Plotly selbst zu machen. Auf der folgenden Webseite finden wir sehr viele Beispiele welche Art von Plots wir mit Plotly erstellen können. \n",
        "\n",
        "https://plot.ly/python"
      ]
    },
    {
      "cell_type": "markdown",
      "metadata": {
        "id": "xIhx0s_TRsZg",
        "colab_type": "text"
      },
      "source": [
        "### Aufbau ###\n",
        "\n",
        "Bevor wir uns nun mit den einzelnen Plots beschäftigen ist es wichtig mal zuerst den generellen Aufbau zu verstehen. Plotly besteht aus folgenden Objekten:\n",
        "\n",
        "* Data - Hier werden immer die Daten und ihre Attribute definiert bspw. Plotart (Scatter, Bar usw.) x, y, Mode, Marker usw.)\n",
        "* Layout - In diesem Element wird das grundsätzliche Erscheinungsbild des Plots bspw. Titel, Axenbeschrieftungen, Hovermode usw.\n"
      ]
    },
    {
      "cell_type": "markdown",
      "metadata": {
        "id": "IboqBROYRsZh",
        "colab_type": "text"
      },
      "source": [
        "### Scatter Plots ###\n",
        "\n",
        "Der Scatter Plot ist ein unverzichtbarer Graph wenn es darum geht Korrelationen zwischen zwei Variablen zu finden.\n",
        "\n",
        "Referenz zu Scatter Plot ([Link](https://plotly.com/python/reference/#scatter))"
      ]
    },
    {
      "cell_type": "code",
      "metadata": {
        "id": "ZX7ilqtlRsZm",
        "colab_type": "code",
        "outputId": "1e0db3f2-1d42-4e02-ac4b-b3c966117532",
        "colab": {
          "base_uri": "https://localhost:8080/",
          "height": 542
        }
      },
      "source": [
        "import pandas as pd\n",
        "import plotly.offline as pyo\n",
        "import plotly.graph_objs as go\n",
        "\n",
        "# Datenimport \n",
        "\n",
        "datloc = 'https://raw.githubusercontent.com/sakuronohana/cas_StatDaVi/master/Semesterarbeit/Daten/wb_total_population.csv'\n",
        "wpop = pd.read_csv(datloc)\n",
        "\n",
        "wpop.set_index('Country Name',inplace=True)\n",
        "\n",
        "x = wpop['1994']\n",
        "y = wpop['2015']\n",
        "\n",
        "# Nun ploten wir die Daten. Wichtig dabei ist, es handelt sich um eine Liste\n",
        "data = [go.Scatter(\n",
        "    x=x, \n",
        "    y=y, \n",
        "    mode='markers', # Form der Datenpunkte \n",
        "    marker=dict( # Konfiguration der Datenpunkte\n",
        "        size=12, # Datenpunkte auf Grösse 12\n",
        "        color='red', #Datenpunkte in Rot\n",
        "        symbol= 'pentagon', # Form der Datenpunkte\n",
        "        line = dict(width=2), # Linienbreite der Datenpunkte\n",
        "    ))]\n",
        "\n",
        "# Nun defineren wir das Layout unserere Plots. Layout ist keine Liste\n",
        "layout = go.Layout(\n",
        "        title='Mein Plotly Scatter Plot',\n",
        "        # Hier die erste Methode einer Axenbeschriftung\n",
        "        xaxis= {'title':'Werte der Axe x'},\n",
        "        # Zweite Methode einer Axenbeschrifung\n",
        "        yaxis=dict(title='Werte der Axe y'),\n",
        "        hovermode='closest')\n",
        "\n",
        "# Nun fassen wir alles in einer Variablen zusammen\n",
        "fig = go.Figure(data=data, layout=layout)\n",
        "\n",
        "# Führen wir nun diesen Plot aus wird ein Browser geöffnet\n",
        "fig.show() \n",
        "\n",
        "# Als alternative können den Plot Offline bzw. als HTML speichern und ausführen.\n",
        "# pyo.plot(fig, filename = 'scatter.html')"
      ],
      "execution_count": 0,
      "outputs": [
        {
          "output_type": "display_data",
          "data": {
            "text/html": [
              "<html>\n",
              "<head><meta charset=\"utf-8\" /></head>\n",
              "<body>\n",
              "    <div>\n",
              "            <script src=\"https://cdnjs.cloudflare.com/ajax/libs/mathjax/2.7.5/MathJax.js?config=TeX-AMS-MML_SVG\"></script><script type=\"text/javascript\">if (window.MathJax) {MathJax.Hub.Config({SVG: {font: \"STIX-Web\"}});}</script>\n",
              "                <script type=\"text/javascript\">window.PlotlyConfig = {MathJaxConfig: 'local'};</script>\n",
              "        <script src=\"https://cdn.plot.ly/plotly-latest.min.js\"></script>    \n",
              "            <div id=\"7509938a-89f6-46f2-97aa-141c16fe193e\" class=\"plotly-graph-div\" style=\"height:525px; width:100%;\"></div>\n",
              "            <script type=\"text/javascript\">\n",
              "                \n",
              "                    window.PLOTLYENV=window.PLOTLYENV || {};\n",
              "                    \n",
              "                if (document.getElementById(\"7509938a-89f6-46f2-97aa-141c16fe193e\")) {\n",
              "                    Plotly.newPlot(\n",
              "                        '7509938a-89f6-46f2-97aa-141c16fe193e',\n",
              "                        [{\"marker\": {\"color\": \"red\", \"line\": {\"width\": 2}, \"size\": 12, \"symbol\": \"pentagon\"}, \"mode\": \"markers\", \"type\": \"scatter\", \"x\": [13503747, 34402672, 17855000, 7466793, 159432716, 29000663, 1191835000, 40252975, 81438348, 10512922, 945601831, 124961000, 56843400, 90156400, 14948048, 148336000, 8780745, 6993795, 263126000, 21474549], \"y\": [27884381, 43131966, 23815995, 10869730, 204471769, 35702908, 1371220000, 76244544, 81686611, 10820883, 1310152403, 127141000, 60730582, 121858258, 27042002, 144096870, 9799186, 8282396, 320742673, 30081829]}],\n",
              "                        {\"hovermode\": \"closest\", \"template\": {\"data\": {\"bar\": [{\"error_x\": {\"color\": \"#2a3f5f\"}, \"error_y\": {\"color\": \"#2a3f5f\"}, \"marker\": {\"line\": {\"color\": \"#E5ECF6\", \"width\": 0.5}}, \"type\": \"bar\"}], \"barpolar\": [{\"marker\": {\"line\": {\"color\": \"#E5ECF6\", \"width\": 0.5}}, \"type\": \"barpolar\"}], \"carpet\": [{\"aaxis\": {\"endlinecolor\": \"#2a3f5f\", \"gridcolor\": \"white\", \"linecolor\": \"white\", \"minorgridcolor\": \"white\", \"startlinecolor\": \"#2a3f5f\"}, \"baxis\": {\"endlinecolor\": \"#2a3f5f\", \"gridcolor\": \"white\", \"linecolor\": \"white\", \"minorgridcolor\": \"white\", \"startlinecolor\": \"#2a3f5f\"}, \"type\": \"carpet\"}], \"choropleth\": [{\"colorbar\": {\"outlinewidth\": 0, \"ticks\": \"\"}, \"type\": \"choropleth\"}], \"contour\": [{\"colorbar\": {\"outlinewidth\": 0, \"ticks\": \"\"}, \"colorscale\": [[0.0, \"#0d0887\"], [0.1111111111111111, \"#46039f\"], [0.2222222222222222, \"#7201a8\"], [0.3333333333333333, \"#9c179e\"], [0.4444444444444444, \"#bd3786\"], [0.5555555555555556, \"#d8576b\"], [0.6666666666666666, \"#ed7953\"], [0.7777777777777778, \"#fb9f3a\"], [0.8888888888888888, \"#fdca26\"], [1.0, \"#f0f921\"]], \"type\": \"contour\"}], \"contourcarpet\": [{\"colorbar\": {\"outlinewidth\": 0, \"ticks\": \"\"}, \"type\": \"contourcarpet\"}], \"heatmap\": [{\"colorbar\": {\"outlinewidth\": 0, \"ticks\": \"\"}, \"colorscale\": [[0.0, \"#0d0887\"], [0.1111111111111111, \"#46039f\"], [0.2222222222222222, \"#7201a8\"], [0.3333333333333333, \"#9c179e\"], [0.4444444444444444, \"#bd3786\"], [0.5555555555555556, \"#d8576b\"], [0.6666666666666666, \"#ed7953\"], [0.7777777777777778, \"#fb9f3a\"], [0.8888888888888888, \"#fdca26\"], [1.0, \"#f0f921\"]], \"type\": \"heatmap\"}], \"heatmapgl\": [{\"colorbar\": {\"outlinewidth\": 0, \"ticks\": \"\"}, \"colorscale\": [[0.0, \"#0d0887\"], [0.1111111111111111, \"#46039f\"], [0.2222222222222222, \"#7201a8\"], [0.3333333333333333, \"#9c179e\"], [0.4444444444444444, \"#bd3786\"], [0.5555555555555556, \"#d8576b\"], [0.6666666666666666, \"#ed7953\"], [0.7777777777777778, \"#fb9f3a\"], [0.8888888888888888, \"#fdca26\"], [1.0, \"#f0f921\"]], \"type\": \"heatmapgl\"}], \"histogram\": [{\"marker\": {\"colorbar\": {\"outlinewidth\": 0, \"ticks\": \"\"}}, \"type\": \"histogram\"}], \"histogram2d\": [{\"colorbar\": {\"outlinewidth\": 0, \"ticks\": \"\"}, \"colorscale\": [[0.0, \"#0d0887\"], [0.1111111111111111, \"#46039f\"], [0.2222222222222222, \"#7201a8\"], [0.3333333333333333, \"#9c179e\"], [0.4444444444444444, \"#bd3786\"], [0.5555555555555556, \"#d8576b\"], [0.6666666666666666, \"#ed7953\"], [0.7777777777777778, \"#fb9f3a\"], [0.8888888888888888, \"#fdca26\"], [1.0, \"#f0f921\"]], \"type\": \"histogram2d\"}], \"histogram2dcontour\": [{\"colorbar\": {\"outlinewidth\": 0, \"ticks\": \"\"}, \"colorscale\": [[0.0, \"#0d0887\"], [0.1111111111111111, \"#46039f\"], [0.2222222222222222, \"#7201a8\"], [0.3333333333333333, \"#9c179e\"], [0.4444444444444444, \"#bd3786\"], [0.5555555555555556, \"#d8576b\"], [0.6666666666666666, \"#ed7953\"], [0.7777777777777778, \"#fb9f3a\"], [0.8888888888888888, \"#fdca26\"], [1.0, \"#f0f921\"]], \"type\": \"histogram2dcontour\"}], \"mesh3d\": [{\"colorbar\": {\"outlinewidth\": 0, \"ticks\": \"\"}, \"type\": \"mesh3d\"}], \"parcoords\": [{\"line\": {\"colorbar\": {\"outlinewidth\": 0, \"ticks\": \"\"}}, \"type\": \"parcoords\"}], \"pie\": [{\"automargin\": true, \"type\": \"pie\"}], \"scatter\": [{\"marker\": {\"colorbar\": {\"outlinewidth\": 0, \"ticks\": \"\"}}, \"type\": \"scatter\"}], \"scatter3d\": [{\"line\": {\"colorbar\": {\"outlinewidth\": 0, \"ticks\": \"\"}}, \"marker\": {\"colorbar\": {\"outlinewidth\": 0, \"ticks\": \"\"}}, \"type\": \"scatter3d\"}], \"scattercarpet\": [{\"marker\": {\"colorbar\": {\"outlinewidth\": 0, \"ticks\": \"\"}}, \"type\": \"scattercarpet\"}], \"scattergeo\": [{\"marker\": {\"colorbar\": {\"outlinewidth\": 0, \"ticks\": \"\"}}, \"type\": \"scattergeo\"}], \"scattergl\": [{\"marker\": {\"colorbar\": {\"outlinewidth\": 0, \"ticks\": \"\"}}, \"type\": \"scattergl\"}], \"scattermapbox\": [{\"marker\": {\"colorbar\": {\"outlinewidth\": 0, \"ticks\": \"\"}}, \"type\": \"scattermapbox\"}], \"scatterpolar\": [{\"marker\": {\"colorbar\": {\"outlinewidth\": 0, \"ticks\": \"\"}}, \"type\": \"scatterpolar\"}], \"scatterpolargl\": [{\"marker\": {\"colorbar\": {\"outlinewidth\": 0, \"ticks\": \"\"}}, \"type\": \"scatterpolargl\"}], \"scatterternary\": [{\"marker\": {\"colorbar\": {\"outlinewidth\": 0, \"ticks\": \"\"}}, \"type\": \"scatterternary\"}], \"surface\": [{\"colorbar\": {\"outlinewidth\": 0, \"ticks\": \"\"}, \"colorscale\": [[0.0, \"#0d0887\"], [0.1111111111111111, \"#46039f\"], [0.2222222222222222, \"#7201a8\"], [0.3333333333333333, \"#9c179e\"], [0.4444444444444444, \"#bd3786\"], [0.5555555555555556, \"#d8576b\"], [0.6666666666666666, \"#ed7953\"], [0.7777777777777778, \"#fb9f3a\"], [0.8888888888888888, \"#fdca26\"], [1.0, \"#f0f921\"]], \"type\": \"surface\"}], \"table\": [{\"cells\": {\"fill\": {\"color\": \"#EBF0F8\"}, \"line\": {\"color\": \"white\"}}, \"header\": {\"fill\": {\"color\": \"#C8D4E3\"}, \"line\": {\"color\": \"white\"}}, \"type\": \"table\"}]}, \"layout\": {\"annotationdefaults\": {\"arrowcolor\": \"#2a3f5f\", \"arrowhead\": 0, \"arrowwidth\": 1}, \"coloraxis\": {\"colorbar\": {\"outlinewidth\": 0, \"ticks\": \"\"}}, \"colorscale\": {\"diverging\": [[0, \"#8e0152\"], [0.1, \"#c51b7d\"], [0.2, \"#de77ae\"], [0.3, \"#f1b6da\"], [0.4, \"#fde0ef\"], [0.5, \"#f7f7f7\"], [0.6, \"#e6f5d0\"], [0.7, \"#b8e186\"], [0.8, \"#7fbc41\"], [0.9, \"#4d9221\"], [1, \"#276419\"]], \"sequential\": [[0.0, \"#0d0887\"], [0.1111111111111111, \"#46039f\"], [0.2222222222222222, \"#7201a8\"], [0.3333333333333333, \"#9c179e\"], [0.4444444444444444, \"#bd3786\"], [0.5555555555555556, \"#d8576b\"], [0.6666666666666666, \"#ed7953\"], [0.7777777777777778, \"#fb9f3a\"], [0.8888888888888888, \"#fdca26\"], [1.0, \"#f0f921\"]], \"sequentialminus\": [[0.0, \"#0d0887\"], [0.1111111111111111, \"#46039f\"], [0.2222222222222222, \"#7201a8\"], [0.3333333333333333, \"#9c179e\"], [0.4444444444444444, \"#bd3786\"], [0.5555555555555556, \"#d8576b\"], [0.6666666666666666, \"#ed7953\"], [0.7777777777777778, \"#fb9f3a\"], [0.8888888888888888, \"#fdca26\"], [1.0, \"#f0f921\"]]}, \"colorway\": [\"#636efa\", \"#EF553B\", \"#00cc96\", \"#ab63fa\", \"#FFA15A\", \"#19d3f3\", \"#FF6692\", \"#B6E880\", \"#FF97FF\", \"#FECB52\"], \"font\": {\"color\": \"#2a3f5f\"}, \"geo\": {\"bgcolor\": \"white\", \"lakecolor\": \"white\", \"landcolor\": \"#E5ECF6\", \"showlakes\": true, \"showland\": true, \"subunitcolor\": \"white\"}, \"hoverlabel\": {\"align\": \"left\"}, \"hovermode\": \"closest\", \"mapbox\": {\"style\": \"light\"}, \"paper_bgcolor\": \"white\", \"plot_bgcolor\": \"#E5ECF6\", \"polar\": {\"angularaxis\": {\"gridcolor\": \"white\", \"linecolor\": \"white\", \"ticks\": \"\"}, \"bgcolor\": \"#E5ECF6\", \"radialaxis\": {\"gridcolor\": \"white\", \"linecolor\": \"white\", \"ticks\": \"\"}}, \"scene\": {\"xaxis\": {\"backgroundcolor\": \"#E5ECF6\", \"gridcolor\": \"white\", \"gridwidth\": 2, \"linecolor\": \"white\", \"showbackground\": true, \"ticks\": \"\", \"zerolinecolor\": \"white\"}, \"yaxis\": {\"backgroundcolor\": \"#E5ECF6\", \"gridcolor\": \"white\", \"gridwidth\": 2, \"linecolor\": \"white\", \"showbackground\": true, \"ticks\": \"\", \"zerolinecolor\": \"white\"}, \"zaxis\": {\"backgroundcolor\": \"#E5ECF6\", \"gridcolor\": \"white\", \"gridwidth\": 2, \"linecolor\": \"white\", \"showbackground\": true, \"ticks\": \"\", \"zerolinecolor\": \"white\"}}, \"shapedefaults\": {\"line\": {\"color\": \"#2a3f5f\"}}, \"ternary\": {\"aaxis\": {\"gridcolor\": \"white\", \"linecolor\": \"white\", \"ticks\": \"\"}, \"baxis\": {\"gridcolor\": \"white\", \"linecolor\": \"white\", \"ticks\": \"\"}, \"bgcolor\": \"#E5ECF6\", \"caxis\": {\"gridcolor\": \"white\", \"linecolor\": \"white\", \"ticks\": \"\"}}, \"title\": {\"x\": 0.05}, \"xaxis\": {\"automargin\": true, \"gridcolor\": \"white\", \"linecolor\": \"white\", \"ticks\": \"\", \"title\": {\"standoff\": 15}, \"zerolinecolor\": \"white\", \"zerolinewidth\": 2}, \"yaxis\": {\"automargin\": true, \"gridcolor\": \"white\", \"linecolor\": \"white\", \"ticks\": \"\", \"title\": {\"standoff\": 15}, \"zerolinecolor\": \"white\", \"zerolinewidth\": 2}}}, \"title\": {\"text\": \"Mein Plotly Scatter Plot\"}, \"xaxis\": {\"title\": {\"text\": \"Werte der Axe x\"}}, \"yaxis\": {\"title\": {\"text\": \"Werte der Axe y\"}}},\n",
              "                        {\"responsive\": true}\n",
              "                    ).then(function(){\n",
              "                            \n",
              "var gd = document.getElementById('7509938a-89f6-46f2-97aa-141c16fe193e');\n",
              "var x = new MutationObserver(function (mutations, observer) {{\n",
              "        var display = window.getComputedStyle(gd).display;\n",
              "        if (!display || display === 'none') {{\n",
              "            console.log([gd, 'removed!']);\n",
              "            Plotly.purge(gd);\n",
              "            observer.disconnect();\n",
              "        }}\n",
              "}});\n",
              "\n",
              "// Listen for the removal of the full notebook cells\n",
              "var notebookContainer = gd.closest('#notebook-container');\n",
              "if (notebookContainer) {{\n",
              "    x.observe(notebookContainer, {childList: true});\n",
              "}}\n",
              "\n",
              "// Listen for the clearing of the current output cell\n",
              "var outputEl = gd.closest('.output');\n",
              "if (outputEl) {{\n",
              "    x.observe(outputEl, {childList: true});\n",
              "}}\n",
              "\n",
              "                        })\n",
              "                };\n",
              "                \n",
              "            </script>\n",
              "        </div>\n",
              "</body>\n",
              "</html>"
            ]
          },
          "metadata": {
            "tags": []
          }
        }
      ]
    },
    {
      "cell_type": "markdown",
      "metadata": {
        "id": "VQUNV1tqRsZo",
        "colab_type": "text"
      },
      "source": [
        "### Line Plots ###\n",
        "\n",
        "Wenn es darum geht stetige Daten in eine Zeitreihe aufzuzeigen, dann führt nichts an einem gute Line Plot vorbei."
      ]
    },
    {
      "cell_type": "code",
      "metadata": {
        "id": "7hBAsgP6Y4RI",
        "colab_type": "code",
        "outputId": "0bc076c2-c827-4dac-ea53-7b5c36a88388",
        "colab": {
          "base_uri": "https://localhost:8080/",
          "height": 542
        }
      },
      "source": [
        "import plotly.offline as pyo\n",
        "import plotly.graph_objs as go\n",
        "import numpy as np\n",
        "\n",
        "np.random.seed(56)\n",
        "x_values = np.linspace(0, 1, 100) # 100 evenly spaced values\n",
        "y_values = np.random.randn(100)   # 100 random values\n",
        "\n",
        "# create traces\n",
        "trace0 = go.Scatter(\n",
        "    x = x_values,\n",
        "    y = y_values+5,\n",
        "    mode = 'markers',\n",
        "    name = 'markers'\n",
        ")\n",
        "trace1 = go.Scatter(\n",
        "    x = x_values,\n",
        "    y = y_values,\n",
        "    mode = 'lines+markers',\n",
        "    name = 'lines+markers'\n",
        ")\n",
        "trace2 = go.Scatter(\n",
        "    x = x_values,\n",
        "    y = y_values-5,\n",
        "    mode = 'lines',\n",
        "    name = 'lines'\n",
        ")\n",
        "data = [trace0, trace1, trace2]  # assign traces to data\n",
        "layout = go.Layout(\n",
        "    title = 'Line chart showing three different modes'\n",
        ")\n",
        "fig = go.Figure(data=data,layout=layout)\n",
        "fig.show()"
      ],
      "execution_count": 0,
      "outputs": [
        {
          "output_type": "display_data",
          "data": {
            "text/html": [
              "<html>\n",
              "<head><meta charset=\"utf-8\" /></head>\n",
              "<body>\n",
              "    <div>\n",
              "            <script src=\"https://cdnjs.cloudflare.com/ajax/libs/mathjax/2.7.5/MathJax.js?config=TeX-AMS-MML_SVG\"></script><script type=\"text/javascript\">if (window.MathJax) {MathJax.Hub.Config({SVG: {font: \"STIX-Web\"}});}</script>\n",
              "                <script type=\"text/javascript\">window.PlotlyConfig = {MathJaxConfig: 'local'};</script>\n",
              "        <script src=\"https://cdn.plot.ly/plotly-latest.min.js\"></script>    \n",
              "            <div id=\"b23fcf1d-5773-4e66-9fe6-8119c4a31e9d\" class=\"plotly-graph-div\" style=\"height:525px; width:100%;\"></div>\n",
              "            <script type=\"text/javascript\">\n",
              "                \n",
              "                    window.PLOTLYENV=window.PLOTLYENV || {};\n",
              "                    \n",
              "                if (document.getElementById(\"b23fcf1d-5773-4e66-9fe6-8119c4a31e9d\")) {\n",
              "                    Plotly.newPlot(\n",
              "                        'b23fcf1d-5773-4e66-9fe6-8119c4a31e9d',\n",
              "                        [{\"mode\": \"markers\", \"name\": \"markers\", \"type\": \"scatter\", \"x\": [0.0, 0.010101010101010102, 0.020202020202020204, 0.030303030303030304, 0.04040404040404041, 0.05050505050505051, 0.06060606060606061, 0.07070707070707072, 0.08080808080808081, 0.09090909090909091, 0.10101010101010102, 0.11111111111111112, 0.12121212121212122, 0.13131313131313133, 0.14141414141414144, 0.15151515151515152, 0.16161616161616163, 0.17171717171717174, 0.18181818181818182, 0.19191919191919193, 0.20202020202020204, 0.21212121212121213, 0.22222222222222224, 0.23232323232323235, 0.24242424242424243, 0.25252525252525254, 0.26262626262626265, 0.27272727272727276, 0.2828282828282829, 0.29292929292929293, 0.30303030303030304, 0.31313131313131315, 0.32323232323232326, 0.33333333333333337, 0.3434343434343435, 0.3535353535353536, 0.36363636363636365, 0.37373737373737376, 0.38383838383838387, 0.393939393939394, 0.4040404040404041, 0.4141414141414142, 0.42424242424242425, 0.43434343434343436, 0.4444444444444445, 0.4545454545454546, 0.4646464646464647, 0.4747474747474748, 0.48484848484848486, 0.494949494949495, 0.5050505050505051, 0.5151515151515152, 0.5252525252525253, 0.5353535353535354, 0.5454545454545455, 0.5555555555555556, 0.5656565656565657, 0.5757575757575758, 0.5858585858585859, 0.595959595959596, 0.6060606060606061, 0.6161616161616162, 0.6262626262626263, 0.6363636363636365, 0.6464646464646465, 0.6565656565656566, 0.6666666666666667, 0.6767676767676768, 0.686868686868687, 0.696969696969697, 0.7070707070707072, 0.7171717171717172, 0.7272727272727273, 0.7373737373737375, 0.7474747474747475, 0.7575757575757577, 0.7676767676767677, 0.7777777777777778, 0.787878787878788, 0.797979797979798, 0.8080808080808082, 0.8181818181818182, 0.8282828282828284, 0.8383838383838385, 0.8484848484848485, 0.8585858585858587, 0.8686868686868687, 0.8787878787878789, 0.888888888888889, 0.8989898989898991, 0.9090909090909092, 0.9191919191919192, 0.9292929292929294, 0.9393939393939394, 0.9494949494949496, 0.9595959595959597, 0.9696969696969697, 0.9797979797979799, 0.98989898989899, 1.0], \"y\": [3.9623568244974257, 5.59365815715703, 6.102680622168492, 4.487822268824424, 4.734580140302545, 3.3829939864921883, 4.728485511420428, 5.945554250031659, 4.373007213314565, 4.734052718056487, 5.687293575189152, 7.048456908637855, 4.538441048186675, 5.687847423168455, 6.00812262256532, 4.843491018426125, 5.900077530374725, 6.000471322140927, 5.688374960247316, 3.1189042387372545, 5.859958148933172, 5.92045267748011, 5.270603246468369, 5.027819141649983, 2.8127423886446943, 5.134743775497379, 4.318544353923637, 2.577608938692351, 5.421173751836292, 4.322665354254515, 3.8597855763685898, 5.284615961239685, 4.457758597421851, 5.463519461503606, 4.1383119436689535, 5.8745422712420226, 4.455741457932556, 5.369966062639821, 4.565058772422818, 6.110123049123135, 3.6386332411614033, 4.864486324938091, 4.447977799800293, 4.950470775286345, 5.887307752015507, 6.154646723315321, 5.115766954170989, 3.838479672389576, 4.815368462077817, 5.466984070663726, 2.999014469238763, 3.652241541456256, 4.779371847210642, 4.921033624959668, 4.39215278183303, 3.7542661222313978, 6.629794317758779, 5.177528567116626, 4.328013422053625, 5.331128138937101, 7.006042774550741, 5.0061448421051935, 3.465309390584875, 4.930336576372079, 5.227687821018511, 2.487383266330429, 7.702712505968621, 5.58365058076347, 5.338781748592111, 5.689001408268186, 6.700348675458416, 4.558732757505499, 5.314493800301297, 5.636297587454268, 5.086771378076907, 4.882208369832598, 3.724126565435677, 5.906755961687117, 5.006062617766832, 4.147896360899007, 5.499587436442585, 3.4871907342782507, 7.004290632975638, 6.25882568579033, 6.040154873274862, 6.0513821040268425, 5.971570159583026, 3.413608859269023, 4.489418150856028, 4.121027062594841, 3.8644799238689185, 5.497006777318358, 6.510225865307171, 5.92073363775182, 5.639412012922287, 6.217040385050823, 5.15525235849528, 5.009229263598528, 4.8253182515555215, 5.3738363071150275]}, {\"mode\": \"lines+markers\", \"name\": \"lines+markers\", \"type\": \"scatter\", \"x\": [0.0, 0.010101010101010102, 0.020202020202020204, 0.030303030303030304, 0.04040404040404041, 0.05050505050505051, 0.06060606060606061, 0.07070707070707072, 0.08080808080808081, 0.09090909090909091, 0.10101010101010102, 0.11111111111111112, 0.12121212121212122, 0.13131313131313133, 0.14141414141414144, 0.15151515151515152, 0.16161616161616163, 0.17171717171717174, 0.18181818181818182, 0.19191919191919193, 0.20202020202020204, 0.21212121212121213, 0.22222222222222224, 0.23232323232323235, 0.24242424242424243, 0.25252525252525254, 0.26262626262626265, 0.27272727272727276, 0.2828282828282829, 0.29292929292929293, 0.30303030303030304, 0.31313131313131315, 0.32323232323232326, 0.33333333333333337, 0.3434343434343435, 0.3535353535353536, 0.36363636363636365, 0.37373737373737376, 0.38383838383838387, 0.393939393939394, 0.4040404040404041, 0.4141414141414142, 0.42424242424242425, 0.43434343434343436, 0.4444444444444445, 0.4545454545454546, 0.4646464646464647, 0.4747474747474748, 0.48484848484848486, 0.494949494949495, 0.5050505050505051, 0.5151515151515152, 0.5252525252525253, 0.5353535353535354, 0.5454545454545455, 0.5555555555555556, 0.5656565656565657, 0.5757575757575758, 0.5858585858585859, 0.595959595959596, 0.6060606060606061, 0.6161616161616162, 0.6262626262626263, 0.6363636363636365, 0.6464646464646465, 0.6565656565656566, 0.6666666666666667, 0.6767676767676768, 0.686868686868687, 0.696969696969697, 0.7070707070707072, 0.7171717171717172, 0.7272727272727273, 0.7373737373737375, 0.7474747474747475, 0.7575757575757577, 0.7676767676767677, 0.7777777777777778, 0.787878787878788, 0.797979797979798, 0.8080808080808082, 0.8181818181818182, 0.8282828282828284, 0.8383838383838385, 0.8484848484848485, 0.8585858585858587, 0.8686868686868687, 0.8787878787878789, 0.888888888888889, 0.8989898989898991, 0.9090909090909092, 0.9191919191919192, 0.9292929292929294, 0.9393939393939394, 0.9494949494949496, 0.9595959595959597, 0.9696969696969697, 0.9797979797979799, 0.98989898989899, 1.0], \"y\": [-1.0376431755025746, 0.5936581571570304, 1.102680622168492, -0.5121777311755766, -0.26541985969745524, -1.617006013507812, -0.2715144885795719, 0.9455542500316586, -0.626992786685435, -0.26594728194351275, 0.6872935751891517, 2.0484569086378546, -0.46155895181332507, 0.6878474231684545, 1.00812262256532, -0.15650898157387488, 0.9000775303747252, 1.0004713221409274, 0.6883749602473159, -1.8810957612627452, 0.8599581489331719, 0.9204526774801102, 0.2706032464683683, 0.02781914164998324, -2.1872576113553057, 0.1347437754973787, -0.6814556460763626, -2.422391061307649, 0.4211737518362921, -0.6773346457454847, -1.14021442363141, 0.28461596123968486, -0.542241402578149, 0.4635194615036054, -0.8616880563310468, 0.8745422712420226, -0.5442585420674441, 0.36996606263982135, -0.43494122757718234, 1.1101230491231344, -1.3613667588385965, -0.13551367506190884, -0.5520222001997066, -0.0495292247136558, 0.8873077520155068, 1.1546467233153208, 0.11576695417098896, -1.161520327610424, -0.18463153792218284, 0.4669840706637252, -2.000985530761237, -1.3477584585437443, -0.22062815278935807, -0.07896637504033216, -0.6078472181669707, -1.2457338777686022, 1.6297943177587786, 0.17752856711662585, -0.6719865779463751, 0.33112813893710036, 2.0060427745507408, 0.006144842105193356, -1.5346906094151251, -0.06966342362792169, 0.22768782101851137, -2.512616733669571, 2.702712505968621, 0.5836505807634701, 0.33878174859211124, 0.6890014082681857, 1.700348675458416, -0.441267242494501, 0.31449380030129703, 0.6362975874542686, 0.08677137807690763, -0.11779163016740253, -1.2758734345643228, 0.906755961687117, 0.006062617766832723, -0.8521036391009931, 0.49958743644258546, -1.5128092657217496, 2.0042906329756383, 1.2588256857903302, 1.0401548732748613, 1.0513821040268427, 0.971570159583026, -1.5863911407309772, -0.5105818491439725, -0.8789729374051589, -1.1355200761310813, 0.497006777318358, 1.510225865307171, 0.9207336377518199, 0.6394120129222873, 1.2170403850508231, 0.15525235849527985, 0.009229263598528001, -0.1746817484444784, 0.373836307115027]}, {\"mode\": \"lines\", \"name\": \"lines\", \"type\": \"scatter\", \"x\": [0.0, 0.010101010101010102, 0.020202020202020204, 0.030303030303030304, 0.04040404040404041, 0.05050505050505051, 0.06060606060606061, 0.07070707070707072, 0.08080808080808081, 0.09090909090909091, 0.10101010101010102, 0.11111111111111112, 0.12121212121212122, 0.13131313131313133, 0.14141414141414144, 0.15151515151515152, 0.16161616161616163, 0.17171717171717174, 0.18181818181818182, 0.19191919191919193, 0.20202020202020204, 0.21212121212121213, 0.22222222222222224, 0.23232323232323235, 0.24242424242424243, 0.25252525252525254, 0.26262626262626265, 0.27272727272727276, 0.2828282828282829, 0.29292929292929293, 0.30303030303030304, 0.31313131313131315, 0.32323232323232326, 0.33333333333333337, 0.3434343434343435, 0.3535353535353536, 0.36363636363636365, 0.37373737373737376, 0.38383838383838387, 0.393939393939394, 0.4040404040404041, 0.4141414141414142, 0.42424242424242425, 0.43434343434343436, 0.4444444444444445, 0.4545454545454546, 0.4646464646464647, 0.4747474747474748, 0.48484848484848486, 0.494949494949495, 0.5050505050505051, 0.5151515151515152, 0.5252525252525253, 0.5353535353535354, 0.5454545454545455, 0.5555555555555556, 0.5656565656565657, 0.5757575757575758, 0.5858585858585859, 0.595959595959596, 0.6060606060606061, 0.6161616161616162, 0.6262626262626263, 0.6363636363636365, 0.6464646464646465, 0.6565656565656566, 0.6666666666666667, 0.6767676767676768, 0.686868686868687, 0.696969696969697, 0.7070707070707072, 0.7171717171717172, 0.7272727272727273, 0.7373737373737375, 0.7474747474747475, 0.7575757575757577, 0.7676767676767677, 0.7777777777777778, 0.787878787878788, 0.797979797979798, 0.8080808080808082, 0.8181818181818182, 0.8282828282828284, 0.8383838383838385, 0.8484848484848485, 0.8585858585858587, 0.8686868686868687, 0.8787878787878789, 0.888888888888889, 0.8989898989898991, 0.9090909090909092, 0.9191919191919192, 0.9292929292929294, 0.9393939393939394, 0.9494949494949496, 0.9595959595959597, 0.9696969696969697, 0.9797979797979799, 0.98989898989899, 1.0], \"y\": [-6.037643175502574, -4.40634184284297, -3.897319377831508, -5.512177731175576, -5.265419859697455, -6.617006013507812, -5.271514488579572, -4.054445749968341, -5.626992786685435, -5.265947281943513, -4.312706424810848, -2.9515430913621454, -5.461558951813325, -4.312152576831545, -3.99187737743468, -5.156508981573875, -4.099922469625275, -3.9995286778590726, -4.311625039752684, -6.8810957612627455, -4.140041851066828, -4.07954732251989, -4.729396753531631, -4.972180858350017, -7.187257611355306, -4.865256224502621, -5.681455646076363, -7.422391061307649, -4.578826248163708, -5.677334645745485, -6.14021442363141, -4.715384038760315, -5.542241402578149, -4.536480538496394, -5.8616880563310465, -4.1254577287579774, -5.544258542067444, -4.630033937360179, -5.434941227577182, -3.8898769508768654, -6.361366758838597, -5.135513675061909, -5.552022200199707, -5.049529224713655, -4.112692247984493, -3.845353276684679, -4.884233045829011, -6.161520327610424, -5.184631537922183, -4.533015929336274, -7.000985530761238, -6.347758458543744, -5.220628152789358, -5.078966375040332, -5.60784721816697, -6.245733877768602, -3.370205682241221, -4.822471432883374, -5.671986577946375, -4.668871861062899, -2.9939572254492592, -4.9938551578948065, -6.534690609415125, -5.069663423627921, -4.772312178981489, -7.512616733669571, -2.297287494031379, -4.41634941923653, -4.661218251407889, -4.310998591731814, -3.2996513245415837, -5.441267242494501, -4.685506199698703, -4.363702412545732, -4.913228621923093, -5.117791630167402, -6.275873434564323, -4.093244038312883, -4.993937382233168, -5.852103639100993, -4.500412563557415, -6.512809265721749, -2.9957093670243617, -3.74117431420967, -3.9598451267251384, -3.9486178959731575, -4.028429840416974, -6.586391140730977, -5.510581849143972, -5.878972937405159, -6.1355200761310815, -4.502993222681642, -3.489774134692829, -4.07926636224818, -4.360587987077713, -3.782959614949177, -4.84474764150472, -4.990770736401472, -5.1746817484444785, -4.6261636928849725]}],\n",
              "                        {\"template\": {\"data\": {\"bar\": [{\"error_x\": {\"color\": \"#2a3f5f\"}, \"error_y\": {\"color\": \"#2a3f5f\"}, \"marker\": {\"line\": {\"color\": \"#E5ECF6\", \"width\": 0.5}}, \"type\": \"bar\"}], \"barpolar\": [{\"marker\": {\"line\": {\"color\": \"#E5ECF6\", \"width\": 0.5}}, \"type\": \"barpolar\"}], \"carpet\": [{\"aaxis\": {\"endlinecolor\": \"#2a3f5f\", \"gridcolor\": \"white\", \"linecolor\": \"white\", \"minorgridcolor\": \"white\", \"startlinecolor\": \"#2a3f5f\"}, \"baxis\": {\"endlinecolor\": \"#2a3f5f\", \"gridcolor\": \"white\", \"linecolor\": \"white\", \"minorgridcolor\": \"white\", \"startlinecolor\": \"#2a3f5f\"}, \"type\": \"carpet\"}], \"choropleth\": [{\"colorbar\": {\"outlinewidth\": 0, \"ticks\": \"\"}, \"type\": \"choropleth\"}], \"contour\": [{\"colorbar\": {\"outlinewidth\": 0, \"ticks\": \"\"}, \"colorscale\": [[0.0, \"#0d0887\"], [0.1111111111111111, \"#46039f\"], [0.2222222222222222, \"#7201a8\"], [0.3333333333333333, \"#9c179e\"], [0.4444444444444444, \"#bd3786\"], [0.5555555555555556, \"#d8576b\"], [0.6666666666666666, \"#ed7953\"], [0.7777777777777778, \"#fb9f3a\"], [0.8888888888888888, \"#fdca26\"], [1.0, \"#f0f921\"]], \"type\": \"contour\"}], \"contourcarpet\": [{\"colorbar\": {\"outlinewidth\": 0, \"ticks\": \"\"}, \"type\": \"contourcarpet\"}], \"heatmap\": [{\"colorbar\": {\"outlinewidth\": 0, \"ticks\": \"\"}, \"colorscale\": [[0.0, \"#0d0887\"], [0.1111111111111111, \"#46039f\"], [0.2222222222222222, \"#7201a8\"], [0.3333333333333333, \"#9c179e\"], [0.4444444444444444, \"#bd3786\"], [0.5555555555555556, \"#d8576b\"], [0.6666666666666666, \"#ed7953\"], [0.7777777777777778, \"#fb9f3a\"], [0.8888888888888888, \"#fdca26\"], [1.0, \"#f0f921\"]], \"type\": \"heatmap\"}], \"heatmapgl\": [{\"colorbar\": {\"outlinewidth\": 0, \"ticks\": \"\"}, \"colorscale\": [[0.0, \"#0d0887\"], [0.1111111111111111, \"#46039f\"], [0.2222222222222222, \"#7201a8\"], [0.3333333333333333, \"#9c179e\"], [0.4444444444444444, \"#bd3786\"], [0.5555555555555556, \"#d8576b\"], [0.6666666666666666, \"#ed7953\"], [0.7777777777777778, \"#fb9f3a\"], [0.8888888888888888, \"#fdca26\"], [1.0, \"#f0f921\"]], \"type\": \"heatmapgl\"}], \"histogram\": [{\"marker\": {\"colorbar\": {\"outlinewidth\": 0, \"ticks\": \"\"}}, \"type\": \"histogram\"}], \"histogram2d\": [{\"colorbar\": {\"outlinewidth\": 0, \"ticks\": \"\"}, \"colorscale\": [[0.0, \"#0d0887\"], [0.1111111111111111, \"#46039f\"], [0.2222222222222222, \"#7201a8\"], [0.3333333333333333, \"#9c179e\"], [0.4444444444444444, \"#bd3786\"], [0.5555555555555556, \"#d8576b\"], [0.6666666666666666, \"#ed7953\"], [0.7777777777777778, \"#fb9f3a\"], [0.8888888888888888, \"#fdca26\"], [1.0, \"#f0f921\"]], \"type\": \"histogram2d\"}], \"histogram2dcontour\": [{\"colorbar\": {\"outlinewidth\": 0, \"ticks\": \"\"}, \"colorscale\": [[0.0, \"#0d0887\"], [0.1111111111111111, \"#46039f\"], [0.2222222222222222, \"#7201a8\"], [0.3333333333333333, \"#9c179e\"], [0.4444444444444444, \"#bd3786\"], [0.5555555555555556, \"#d8576b\"], [0.6666666666666666, \"#ed7953\"], [0.7777777777777778, \"#fb9f3a\"], [0.8888888888888888, \"#fdca26\"], [1.0, \"#f0f921\"]], \"type\": \"histogram2dcontour\"}], \"mesh3d\": [{\"colorbar\": {\"outlinewidth\": 0, \"ticks\": \"\"}, \"type\": \"mesh3d\"}], \"parcoords\": [{\"line\": {\"colorbar\": {\"outlinewidth\": 0, \"ticks\": \"\"}}, \"type\": \"parcoords\"}], \"pie\": [{\"automargin\": true, \"type\": \"pie\"}], \"scatter\": [{\"marker\": {\"colorbar\": {\"outlinewidth\": 0, \"ticks\": \"\"}}, \"type\": \"scatter\"}], \"scatter3d\": [{\"line\": {\"colorbar\": {\"outlinewidth\": 0, \"ticks\": \"\"}}, \"marker\": {\"colorbar\": {\"outlinewidth\": 0, \"ticks\": \"\"}}, \"type\": \"scatter3d\"}], \"scattercarpet\": [{\"marker\": {\"colorbar\": {\"outlinewidth\": 0, \"ticks\": \"\"}}, \"type\": \"scattercarpet\"}], \"scattergeo\": [{\"marker\": {\"colorbar\": {\"outlinewidth\": 0, \"ticks\": \"\"}}, \"type\": \"scattergeo\"}], \"scattergl\": [{\"marker\": {\"colorbar\": {\"outlinewidth\": 0, \"ticks\": \"\"}}, \"type\": \"scattergl\"}], \"scattermapbox\": [{\"marker\": {\"colorbar\": {\"outlinewidth\": 0, \"ticks\": \"\"}}, \"type\": \"scattermapbox\"}], \"scatterpolar\": [{\"marker\": {\"colorbar\": {\"outlinewidth\": 0, \"ticks\": \"\"}}, \"type\": \"scatterpolar\"}], \"scatterpolargl\": [{\"marker\": {\"colorbar\": {\"outlinewidth\": 0, \"ticks\": \"\"}}, \"type\": \"scatterpolargl\"}], \"scatterternary\": [{\"marker\": {\"colorbar\": {\"outlinewidth\": 0, \"ticks\": \"\"}}, \"type\": \"scatterternary\"}], \"surface\": [{\"colorbar\": {\"outlinewidth\": 0, \"ticks\": \"\"}, \"colorscale\": [[0.0, \"#0d0887\"], [0.1111111111111111, \"#46039f\"], [0.2222222222222222, \"#7201a8\"], [0.3333333333333333, \"#9c179e\"], [0.4444444444444444, \"#bd3786\"], [0.5555555555555556, \"#d8576b\"], [0.6666666666666666, \"#ed7953\"], [0.7777777777777778, \"#fb9f3a\"], [0.8888888888888888, \"#fdca26\"], [1.0, \"#f0f921\"]], \"type\": \"surface\"}], \"table\": [{\"cells\": {\"fill\": {\"color\": \"#EBF0F8\"}, \"line\": {\"color\": \"white\"}}, \"header\": {\"fill\": {\"color\": \"#C8D4E3\"}, \"line\": {\"color\": \"white\"}}, \"type\": \"table\"}]}, \"layout\": {\"annotationdefaults\": {\"arrowcolor\": \"#2a3f5f\", \"arrowhead\": 0, \"arrowwidth\": 1}, \"coloraxis\": {\"colorbar\": {\"outlinewidth\": 0, \"ticks\": \"\"}}, \"colorscale\": {\"diverging\": [[0, \"#8e0152\"], [0.1, \"#c51b7d\"], [0.2, \"#de77ae\"], [0.3, \"#f1b6da\"], [0.4, \"#fde0ef\"], [0.5, \"#f7f7f7\"], [0.6, \"#e6f5d0\"], [0.7, \"#b8e186\"], [0.8, \"#7fbc41\"], [0.9, \"#4d9221\"], [1, \"#276419\"]], \"sequential\": [[0.0, \"#0d0887\"], [0.1111111111111111, \"#46039f\"], [0.2222222222222222, \"#7201a8\"], [0.3333333333333333, \"#9c179e\"], [0.4444444444444444, \"#bd3786\"], [0.5555555555555556, \"#d8576b\"], [0.6666666666666666, \"#ed7953\"], [0.7777777777777778, \"#fb9f3a\"], [0.8888888888888888, \"#fdca26\"], [1.0, \"#f0f921\"]], \"sequentialminus\": [[0.0, \"#0d0887\"], [0.1111111111111111, \"#46039f\"], [0.2222222222222222, \"#7201a8\"], [0.3333333333333333, \"#9c179e\"], [0.4444444444444444, \"#bd3786\"], [0.5555555555555556, \"#d8576b\"], [0.6666666666666666, \"#ed7953\"], [0.7777777777777778, \"#fb9f3a\"], [0.8888888888888888, \"#fdca26\"], [1.0, \"#f0f921\"]]}, \"colorway\": [\"#636efa\", \"#EF553B\", \"#00cc96\", \"#ab63fa\", \"#FFA15A\", \"#19d3f3\", \"#FF6692\", \"#B6E880\", \"#FF97FF\", \"#FECB52\"], \"font\": {\"color\": \"#2a3f5f\"}, \"geo\": {\"bgcolor\": \"white\", \"lakecolor\": \"white\", \"landcolor\": \"#E5ECF6\", \"showlakes\": true, \"showland\": true, \"subunitcolor\": \"white\"}, \"hoverlabel\": {\"align\": \"left\"}, \"hovermode\": \"closest\", \"mapbox\": {\"style\": \"light\"}, \"paper_bgcolor\": \"white\", \"plot_bgcolor\": \"#E5ECF6\", \"polar\": {\"angularaxis\": {\"gridcolor\": \"white\", \"linecolor\": \"white\", \"ticks\": \"\"}, \"bgcolor\": \"#E5ECF6\", \"radialaxis\": {\"gridcolor\": \"white\", \"linecolor\": \"white\", \"ticks\": \"\"}}, \"scene\": {\"xaxis\": {\"backgroundcolor\": \"#E5ECF6\", \"gridcolor\": \"white\", \"gridwidth\": 2, \"linecolor\": \"white\", \"showbackground\": true, \"ticks\": \"\", \"zerolinecolor\": \"white\"}, \"yaxis\": {\"backgroundcolor\": \"#E5ECF6\", \"gridcolor\": \"white\", \"gridwidth\": 2, \"linecolor\": \"white\", \"showbackground\": true, \"ticks\": \"\", \"zerolinecolor\": \"white\"}, \"zaxis\": {\"backgroundcolor\": \"#E5ECF6\", \"gridcolor\": \"white\", \"gridwidth\": 2, \"linecolor\": \"white\", \"showbackground\": true, \"ticks\": \"\", \"zerolinecolor\": \"white\"}}, \"shapedefaults\": {\"line\": {\"color\": \"#2a3f5f\"}}, \"ternary\": {\"aaxis\": {\"gridcolor\": \"white\", \"linecolor\": \"white\", \"ticks\": \"\"}, \"baxis\": {\"gridcolor\": \"white\", \"linecolor\": \"white\", \"ticks\": \"\"}, \"bgcolor\": \"#E5ECF6\", \"caxis\": {\"gridcolor\": \"white\", \"linecolor\": \"white\", \"ticks\": \"\"}}, \"title\": {\"x\": 0.05}, \"xaxis\": {\"automargin\": true, \"gridcolor\": \"white\", \"linecolor\": \"white\", \"ticks\": \"\", \"title\": {\"standoff\": 15}, \"zerolinecolor\": \"white\", \"zerolinewidth\": 2}, \"yaxis\": {\"automargin\": true, \"gridcolor\": \"white\", \"linecolor\": \"white\", \"ticks\": \"\", \"title\": {\"standoff\": 15}, \"zerolinecolor\": \"white\", \"zerolinewidth\": 2}}}, \"title\": {\"text\": \"Line chart showing three different modes\"}},\n",
              "                        {\"responsive\": true}\n",
              "                    ).then(function(){\n",
              "                            \n",
              "var gd = document.getElementById('b23fcf1d-5773-4e66-9fe6-8119c4a31e9d');\n",
              "var x = new MutationObserver(function (mutations, observer) {{\n",
              "        var display = window.getComputedStyle(gd).display;\n",
              "        if (!display || display === 'none') {{\n",
              "            console.log([gd, 'removed!']);\n",
              "            Plotly.purge(gd);\n",
              "            observer.disconnect();\n",
              "        }}\n",
              "}});\n",
              "\n",
              "// Listen for the removal of the full notebook cells\n",
              "var notebookContainer = gd.closest('#notebook-container');\n",
              "if (notebookContainer) {{\n",
              "    x.observe(notebookContainer, {childList: true});\n",
              "}}\n",
              "\n",
              "// Listen for the clearing of the current output cell\n",
              "var outputEl = gd.closest('.output');\n",
              "if (outputEl) {{\n",
              "    x.observe(outputEl, {childList: true});\n",
              "}}\n",
              "\n",
              "                        })\n",
              "                };\n",
              "                \n",
              "            </script>\n",
              "        </div>\n",
              "</body>\n",
              "</html>"
            ]
          },
          "metadata": {
            "tags": []
          }
        }
      ]
    },
    {
      "cell_type": "markdown",
      "metadata": {
        "id": "DDJCsr2CZCkw",
        "colab_type": "text"
      },
      "source": [
        "Und hier noch ein Line Plot mit richtigen Daten"
      ]
    },
    {
      "cell_type": "code",
      "metadata": {
        "id": "FGO9ONB7RsZp",
        "colab_type": "code",
        "colab": {}
      },
      "source": [
        "import pandas as pd\n",
        "import plotly.offline as pyo\n",
        "import plotly.graph_objs as go\n",
        "\n",
        "# Datenimport \n",
        "\n",
        "datloc = 'https://raw.githubusercontent.com/Pierian-Data/Plotly-Dashboards-with-Dash/master/Data/population.csv'\n",
        "pop = pd.read_csv(datloc)\n",
        "\n",
        "# Um die Selektion einfacher zu gestalten setzten wir den Index neu\n",
        "pop.set_index('Name', inplace=True)\n",
        "\n",
        "data = [go.Scatter(x=pop.columns, \n",
        "                   y=pop.loc[name], \n",
        "                   mode='lines', \n",
        "                   name=name,) for name in pop.index]\n",
        "\n",
        "fig = go.Figure(data=data)\n",
        "\n",
        "fig.show()\n"
      ],
      "execution_count": 0,
      "outputs": []
    },
    {
      "cell_type": "markdown",
      "metadata": {
        "id": "1fArdbTQZ8Lp",
        "colab_type": "text"
      },
      "source": [
        "### Bar Plots ###\n",
        "\n",
        "Möchte man kategorische Daten (x) mit ihren Werten (y) oder mehrere Merkmale auf einer definierten Zeitachse darstellen, dann ist der Bar Plot (Balkendiagramm) ideal dafür. \n"
      ]
    },
    {
      "cell_type": "code",
      "metadata": {
        "id": "svSbx8G2fYPg",
        "colab_type": "code",
        "colab": {}
      },
      "source": [
        "olym"
      ],
      "execution_count": 0,
      "outputs": []
    },
    {
      "cell_type": "code",
      "metadata": {
        "id": "HVhCy_Clay9x",
        "colab_type": "code",
        "outputId": "298e3392-0fe8-47a0-d2f7-deed0f57997b",
        "colab": {
          "base_uri": "https://localhost:8080/",
          "height": 542
        }
      },
      "source": [
        "import pandas as pd\n",
        "import plotly.offline as pyo\n",
        "import plotly.graph_objs as go\n",
        "\n",
        "datloc = 'https://raw.githubusercontent.com/Pierian-Data/Plotly-Dashboards-with-Dash/master/Data/2018WinterOlympics.csv'\n",
        "olym = pd.read_csv(datloc)\n",
        "\n",
        "trace1 = go.Bar(\n",
        "          x=olym['NOC'], \n",
        "          y=olym['Gold'],\n",
        "          name='Gold',\n",
        "          marker={'color':'#FFD700'})\n",
        "\n",
        "trace2 = go.Bar(\n",
        "          x=olym['NOC'], \n",
        "          y=olym['Silver'],\n",
        "          name='Silver',\n",
        "          marker={'color':'#9EA0A1'})\n",
        "\n",
        "trace3 = go.Bar(\n",
        "          x=olym['NOC'], \n",
        "          y=olym['Bronze'],\n",
        "          name='Bronze',\n",
        "          marker={'color':'#CD7F32'})\n",
        "\n",
        "data = [trace1,trace2,trace3]\n",
        "layout = go.Layout(title='Medals',\n",
        "                   barmode='stack') # Mit dieser Zeile erstellen wir eine gestapeltes Bankendiagramm.\n",
        "\n",
        "fig = go.Figure(data=data, layout=layout)\n",
        "fig.show()\n"
      ],
      "execution_count": 0,
      "outputs": [
        {
          "output_type": "display_data",
          "data": {
            "text/html": [
              "<html>\n",
              "<head><meta charset=\"utf-8\" /></head>\n",
              "<body>\n",
              "    <div>\n",
              "            <script src=\"https://cdnjs.cloudflare.com/ajax/libs/mathjax/2.7.5/MathJax.js?config=TeX-AMS-MML_SVG\"></script><script type=\"text/javascript\">if (window.MathJax) {MathJax.Hub.Config({SVG: {font: \"STIX-Web\"}});}</script>\n",
              "                <script type=\"text/javascript\">window.PlotlyConfig = {MathJaxConfig: 'local'};</script>\n",
              "        <script src=\"https://cdn.plot.ly/plotly-latest.min.js\"></script>    \n",
              "            <div id=\"12d4d5d1-756f-4913-9d3d-382ee082aec5\" class=\"plotly-graph-div\" style=\"height:525px; width:100%;\"></div>\n",
              "            <script type=\"text/javascript\">\n",
              "                \n",
              "                    window.PLOTLYENV=window.PLOTLYENV || {};\n",
              "                    \n",
              "                if (document.getElementById(\"12d4d5d1-756f-4913-9d3d-382ee082aec5\")) {\n",
              "                    Plotly.newPlot(\n",
              "                        '12d4d5d1-756f-4913-9d3d-382ee082aec5',\n",
              "                        [{\"marker\": {\"color\": \"#FFD700\"}, \"name\": \"Gold\", \"type\": \"bar\", \"x\": [\"Norway\", \"Germany\", \"Canada\", \"United States\", \"Netherlands\", \"Sweden\", \"Republic of Korea\", \"Switzerland\", \"France\", \"Austria\", \"Japan\", \"Italy\", \"OAR\", \"Czech Republic\", \"Belarus\", \"China\", \"Slovakia\", \"Finland\", \"Great Britain\", \"Poland\", \"Hungary\", \"Ukraine\", \"Australia\", \"Slovenia\", \"Belgium\", \"Spain\", \"New Zealand\", \"Kazakhstan\", \"Latvia\", \"Liechtenstein\"], \"y\": [14, 14, 11, 9, 8, 7, 5, 5, 5, 5, 4, 3, 2, 2, 2, 1, 1, 1, 1, 1, 1, 1, 0, 0, 0, 0, 0, 0, 0, 0]}, {\"marker\": {\"color\": \"#9EA0A1\"}, \"name\": \"Silver\", \"type\": \"bar\", \"x\": [\"Norway\", \"Germany\", \"Canada\", \"United States\", \"Netherlands\", \"Sweden\", \"Republic of Korea\", \"Switzerland\", \"France\", \"Austria\", \"Japan\", \"Italy\", \"OAR\", \"Czech Republic\", \"Belarus\", \"China\", \"Slovakia\", \"Finland\", \"Great Britain\", \"Poland\", \"Hungary\", \"Ukraine\", \"Australia\", \"Slovenia\", \"Belgium\", \"Spain\", \"New Zealand\", \"Kazakhstan\", \"Latvia\", \"Liechtenstein\"], \"y\": [14, 10, 8, 8, 6, 6, 8, 6, 4, 3, 5, 2, 6, 2, 1, 6, 2, 1, 0, 0, 0, 0, 2, 1, 1, 0, 0, 0, 0, 0]}, {\"marker\": {\"color\": \"#CD7F32\"}, \"name\": \"Bronze\", \"type\": \"bar\", \"x\": [\"Norway\", \"Germany\", \"Canada\", \"United States\", \"Netherlands\", \"Sweden\", \"Republic of Korea\", \"Switzerland\", \"France\", \"Austria\", \"Japan\", \"Italy\", \"OAR\", \"Czech Republic\", \"Belarus\", \"China\", \"Slovakia\", \"Finland\", \"Great Britain\", \"Poland\", \"Hungary\", \"Ukraine\", \"Australia\", \"Slovenia\", \"Belgium\", \"Spain\", \"New Zealand\", \"Kazakhstan\", \"Latvia\", \"Liechtenstein\"], \"y\": [11, 7, 10, 6, 6, 1, 4, 4, 6, 6, 4, 5, 9, 3, 0, 2, 0, 4, 4, 1, 0, 0, 1, 1, 0, 2, 2, 1, 1, 1]}],\n",
              "                        {\"barmode\": \"stack\", \"template\": {\"data\": {\"bar\": [{\"error_x\": {\"color\": \"#2a3f5f\"}, \"error_y\": {\"color\": \"#2a3f5f\"}, \"marker\": {\"line\": {\"color\": \"#E5ECF6\", \"width\": 0.5}}, \"type\": \"bar\"}], \"barpolar\": [{\"marker\": {\"line\": {\"color\": \"#E5ECF6\", \"width\": 0.5}}, \"type\": \"barpolar\"}], \"carpet\": [{\"aaxis\": {\"endlinecolor\": \"#2a3f5f\", \"gridcolor\": \"white\", \"linecolor\": \"white\", \"minorgridcolor\": \"white\", \"startlinecolor\": \"#2a3f5f\"}, \"baxis\": {\"endlinecolor\": \"#2a3f5f\", \"gridcolor\": \"white\", \"linecolor\": \"white\", \"minorgridcolor\": \"white\", \"startlinecolor\": \"#2a3f5f\"}, \"type\": \"carpet\"}], \"choropleth\": [{\"colorbar\": {\"outlinewidth\": 0, \"ticks\": \"\"}, \"type\": \"choropleth\"}], \"contour\": [{\"colorbar\": {\"outlinewidth\": 0, \"ticks\": \"\"}, \"colorscale\": [[0.0, \"#0d0887\"], [0.1111111111111111, \"#46039f\"], [0.2222222222222222, \"#7201a8\"], [0.3333333333333333, \"#9c179e\"], [0.4444444444444444, \"#bd3786\"], [0.5555555555555556, \"#d8576b\"], [0.6666666666666666, \"#ed7953\"], [0.7777777777777778, \"#fb9f3a\"], [0.8888888888888888, \"#fdca26\"], [1.0, \"#f0f921\"]], \"type\": \"contour\"}], \"contourcarpet\": [{\"colorbar\": {\"outlinewidth\": 0, \"ticks\": \"\"}, \"type\": \"contourcarpet\"}], \"heatmap\": [{\"colorbar\": {\"outlinewidth\": 0, \"ticks\": \"\"}, \"colorscale\": [[0.0, \"#0d0887\"], [0.1111111111111111, \"#46039f\"], [0.2222222222222222, \"#7201a8\"], [0.3333333333333333, \"#9c179e\"], [0.4444444444444444, \"#bd3786\"], [0.5555555555555556, \"#d8576b\"], [0.6666666666666666, \"#ed7953\"], [0.7777777777777778, \"#fb9f3a\"], [0.8888888888888888, \"#fdca26\"], [1.0, \"#f0f921\"]], \"type\": \"heatmap\"}], \"heatmapgl\": [{\"colorbar\": {\"outlinewidth\": 0, \"ticks\": \"\"}, \"colorscale\": [[0.0, \"#0d0887\"], [0.1111111111111111, \"#46039f\"], [0.2222222222222222, \"#7201a8\"], [0.3333333333333333, \"#9c179e\"], [0.4444444444444444, \"#bd3786\"], [0.5555555555555556, \"#d8576b\"], [0.6666666666666666, \"#ed7953\"], [0.7777777777777778, \"#fb9f3a\"], [0.8888888888888888, \"#fdca26\"], [1.0, \"#f0f921\"]], \"type\": \"heatmapgl\"}], \"histogram\": [{\"marker\": {\"colorbar\": {\"outlinewidth\": 0, \"ticks\": \"\"}}, \"type\": \"histogram\"}], \"histogram2d\": [{\"colorbar\": {\"outlinewidth\": 0, \"ticks\": \"\"}, \"colorscale\": [[0.0, \"#0d0887\"], [0.1111111111111111, \"#46039f\"], [0.2222222222222222, \"#7201a8\"], [0.3333333333333333, \"#9c179e\"], [0.4444444444444444, \"#bd3786\"], [0.5555555555555556, \"#d8576b\"], [0.6666666666666666, \"#ed7953\"], [0.7777777777777778, \"#fb9f3a\"], [0.8888888888888888, \"#fdca26\"], [1.0, \"#f0f921\"]], \"type\": \"histogram2d\"}], \"histogram2dcontour\": [{\"colorbar\": {\"outlinewidth\": 0, \"ticks\": \"\"}, \"colorscale\": [[0.0, \"#0d0887\"], [0.1111111111111111, \"#46039f\"], [0.2222222222222222, \"#7201a8\"], [0.3333333333333333, \"#9c179e\"], [0.4444444444444444, \"#bd3786\"], [0.5555555555555556, \"#d8576b\"], [0.6666666666666666, \"#ed7953\"], [0.7777777777777778, \"#fb9f3a\"], [0.8888888888888888, \"#fdca26\"], [1.0, \"#f0f921\"]], \"type\": \"histogram2dcontour\"}], \"mesh3d\": [{\"colorbar\": {\"outlinewidth\": 0, \"ticks\": \"\"}, \"type\": \"mesh3d\"}], \"parcoords\": [{\"line\": {\"colorbar\": {\"outlinewidth\": 0, \"ticks\": \"\"}}, \"type\": \"parcoords\"}], \"pie\": [{\"automargin\": true, \"type\": \"pie\"}], \"scatter\": [{\"marker\": {\"colorbar\": {\"outlinewidth\": 0, \"ticks\": \"\"}}, \"type\": \"scatter\"}], \"scatter3d\": [{\"line\": {\"colorbar\": {\"outlinewidth\": 0, \"ticks\": \"\"}}, \"marker\": {\"colorbar\": {\"outlinewidth\": 0, \"ticks\": \"\"}}, \"type\": \"scatter3d\"}], \"scattercarpet\": [{\"marker\": {\"colorbar\": {\"outlinewidth\": 0, \"ticks\": \"\"}}, \"type\": \"scattercarpet\"}], \"scattergeo\": [{\"marker\": {\"colorbar\": {\"outlinewidth\": 0, \"ticks\": \"\"}}, \"type\": \"scattergeo\"}], \"scattergl\": [{\"marker\": {\"colorbar\": {\"outlinewidth\": 0, \"ticks\": \"\"}}, \"type\": \"scattergl\"}], \"scattermapbox\": [{\"marker\": {\"colorbar\": {\"outlinewidth\": 0, \"ticks\": \"\"}}, \"type\": \"scattermapbox\"}], \"scatterpolar\": [{\"marker\": {\"colorbar\": {\"outlinewidth\": 0, \"ticks\": \"\"}}, \"type\": \"scatterpolar\"}], \"scatterpolargl\": [{\"marker\": {\"colorbar\": {\"outlinewidth\": 0, \"ticks\": \"\"}}, \"type\": \"scatterpolargl\"}], \"scatterternary\": [{\"marker\": {\"colorbar\": {\"outlinewidth\": 0, \"ticks\": \"\"}}, \"type\": \"scatterternary\"}], \"surface\": [{\"colorbar\": {\"outlinewidth\": 0, \"ticks\": \"\"}, \"colorscale\": [[0.0, \"#0d0887\"], [0.1111111111111111, \"#46039f\"], [0.2222222222222222, \"#7201a8\"], [0.3333333333333333, \"#9c179e\"], [0.4444444444444444, \"#bd3786\"], [0.5555555555555556, \"#d8576b\"], [0.6666666666666666, \"#ed7953\"], [0.7777777777777778, \"#fb9f3a\"], [0.8888888888888888, \"#fdca26\"], [1.0, \"#f0f921\"]], \"type\": \"surface\"}], \"table\": [{\"cells\": {\"fill\": {\"color\": \"#EBF0F8\"}, \"line\": {\"color\": \"white\"}}, \"header\": {\"fill\": {\"color\": \"#C8D4E3\"}, \"line\": {\"color\": \"white\"}}, \"type\": \"table\"}]}, \"layout\": {\"annotationdefaults\": {\"arrowcolor\": \"#2a3f5f\", \"arrowhead\": 0, \"arrowwidth\": 1}, \"coloraxis\": {\"colorbar\": {\"outlinewidth\": 0, \"ticks\": \"\"}}, \"colorscale\": {\"diverging\": [[0, \"#8e0152\"], [0.1, \"#c51b7d\"], [0.2, \"#de77ae\"], [0.3, \"#f1b6da\"], [0.4, \"#fde0ef\"], [0.5, \"#f7f7f7\"], [0.6, \"#e6f5d0\"], [0.7, \"#b8e186\"], [0.8, \"#7fbc41\"], [0.9, \"#4d9221\"], [1, \"#276419\"]], \"sequential\": [[0.0, \"#0d0887\"], [0.1111111111111111, \"#46039f\"], [0.2222222222222222, \"#7201a8\"], [0.3333333333333333, \"#9c179e\"], [0.4444444444444444, \"#bd3786\"], [0.5555555555555556, \"#d8576b\"], [0.6666666666666666, \"#ed7953\"], [0.7777777777777778, \"#fb9f3a\"], [0.8888888888888888, \"#fdca26\"], [1.0, \"#f0f921\"]], \"sequentialminus\": [[0.0, \"#0d0887\"], [0.1111111111111111, \"#46039f\"], [0.2222222222222222, \"#7201a8\"], [0.3333333333333333, \"#9c179e\"], [0.4444444444444444, \"#bd3786\"], [0.5555555555555556, \"#d8576b\"], [0.6666666666666666, \"#ed7953\"], [0.7777777777777778, \"#fb9f3a\"], [0.8888888888888888, \"#fdca26\"], [1.0, \"#f0f921\"]]}, \"colorway\": [\"#636efa\", \"#EF553B\", \"#00cc96\", \"#ab63fa\", \"#FFA15A\", \"#19d3f3\", \"#FF6692\", \"#B6E880\", \"#FF97FF\", \"#FECB52\"], \"font\": {\"color\": \"#2a3f5f\"}, \"geo\": {\"bgcolor\": \"white\", \"lakecolor\": \"white\", \"landcolor\": \"#E5ECF6\", \"showlakes\": true, \"showland\": true, \"subunitcolor\": \"white\"}, \"hoverlabel\": {\"align\": \"left\"}, \"hovermode\": \"closest\", \"mapbox\": {\"style\": \"light\"}, \"paper_bgcolor\": \"white\", \"plot_bgcolor\": \"#E5ECF6\", \"polar\": {\"angularaxis\": {\"gridcolor\": \"white\", \"linecolor\": \"white\", \"ticks\": \"\"}, \"bgcolor\": \"#E5ECF6\", \"radialaxis\": {\"gridcolor\": \"white\", \"linecolor\": \"white\", \"ticks\": \"\"}}, \"scene\": {\"xaxis\": {\"backgroundcolor\": \"#E5ECF6\", \"gridcolor\": \"white\", \"gridwidth\": 2, \"linecolor\": \"white\", \"showbackground\": true, \"ticks\": \"\", \"zerolinecolor\": \"white\"}, \"yaxis\": {\"backgroundcolor\": \"#E5ECF6\", \"gridcolor\": \"white\", \"gridwidth\": 2, \"linecolor\": \"white\", \"showbackground\": true, \"ticks\": \"\", \"zerolinecolor\": \"white\"}, \"zaxis\": {\"backgroundcolor\": \"#E5ECF6\", \"gridcolor\": \"white\", \"gridwidth\": 2, \"linecolor\": \"white\", \"showbackground\": true, \"ticks\": \"\", \"zerolinecolor\": \"white\"}}, \"shapedefaults\": {\"line\": {\"color\": \"#2a3f5f\"}}, \"ternary\": {\"aaxis\": {\"gridcolor\": \"white\", \"linecolor\": \"white\", \"ticks\": \"\"}, \"baxis\": {\"gridcolor\": \"white\", \"linecolor\": \"white\", \"ticks\": \"\"}, \"bgcolor\": \"#E5ECF6\", \"caxis\": {\"gridcolor\": \"white\", \"linecolor\": \"white\", \"ticks\": \"\"}}, \"title\": {\"x\": 0.05}, \"xaxis\": {\"automargin\": true, \"gridcolor\": \"white\", \"linecolor\": \"white\", \"ticks\": \"\", \"title\": {\"standoff\": 15}, \"zerolinecolor\": \"white\", \"zerolinewidth\": 2}, \"yaxis\": {\"automargin\": true, \"gridcolor\": \"white\", \"linecolor\": \"white\", \"ticks\": \"\", \"title\": {\"standoff\": 15}, \"zerolinecolor\": \"white\", \"zerolinewidth\": 2}}}, \"title\": {\"text\": \"Medals\"}},\n",
              "                        {\"responsive\": true}\n",
              "                    ).then(function(){\n",
              "                            \n",
              "var gd = document.getElementById('12d4d5d1-756f-4913-9d3d-382ee082aec5');\n",
              "var x = new MutationObserver(function (mutations, observer) {{\n",
              "        var display = window.getComputedStyle(gd).display;\n",
              "        if (!display || display === 'none') {{\n",
              "            console.log([gd, 'removed!']);\n",
              "            Plotly.purge(gd);\n",
              "            observer.disconnect();\n",
              "        }}\n",
              "}});\n",
              "\n",
              "// Listen for the removal of the full notebook cells\n",
              "var notebookContainer = gd.closest('#notebook-container');\n",
              "if (notebookContainer) {{\n",
              "    x.observe(notebookContainer, {childList: true});\n",
              "}}\n",
              "\n",
              "// Listen for the clearing of the current output cell\n",
              "var outputEl = gd.closest('.output');\n",
              "if (outputEl) {{\n",
              "    x.observe(outputEl, {childList: true});\n",
              "}}\n",
              "\n",
              "                        })\n",
              "                };\n",
              "                \n",
              "            </script>\n",
              "        </div>\n",
              "</body>\n",
              "</html>"
            ]
          },
          "metadata": {
            "tags": []
          }
        }
      ]
    },
    {
      "cell_type": "markdown",
      "metadata": {
        "id": "nl-vH3PukZ67",
        "colab_type": "text"
      },
      "source": [
        "### Bubble Plot ###\n",
        "\n",
        "Ein Bubble Plot (Blasendiagramm) ähnlich wie eine Scatter Plot. Der wesentliche Unterschied dabei ist, dass wir mit der Grösse der Bubbles auch die Werteverhältnisse anzeigen können. Die Bubble Plots waren bei Hans Rosling (bekannter schwedischer Arzt und Statistiker) eine sehr beliebtes Instrument um verschiedenen Datensätze miteinander zu vergleichen.\n"
      ]
    },
    {
      "cell_type": "code",
      "metadata": {
        "id": "B0ze7AGAkJVm",
        "colab_type": "code",
        "outputId": "901ef4f7-a30b-4814-eeff-493c6cd91c11",
        "colab": {
          "base_uri": "https://localhost:8080/",
          "height": 542
        }
      },
      "source": [
        "import pandas as pd\n",
        "import plotly.graph_objs as go\n",
        "import plotly.offline as pyo\n",
        "\n",
        "datloc = 'https://raw.githubusercontent.com/Pierian-Data/Plotly-Dashboards-with-Dash/master/Data/mpg.csv'\n",
        "cars = pd.read_csv(datloc)\n",
        "\n",
        "data = [go.Scatter(\n",
        "        x=cars['horsepower'], \n",
        "        y=round(cars['mpg']*1.6), # Umrechnung Meilen auf Kilometer \n",
        "        text=cars['name'],\n",
        "        mode='markers',\n",
        "        marker=dict(size=round(cars['weight']/200), \n",
        "        color=cars['model_year'],\n",
        "        showscale=True)\n",
        "        )]\n",
        "\n",
        "layout = go.Layout(title='Bubble Plot - Vergleich Kraftstoffverbrauch vs. Pferdestärken',\n",
        "                  xaxis=dict(title='Anzahl Pferdestärken'),\n",
        "                  yaxis=dict(title='Kilometer pro US Gallone'),\n",
        "                  hovermode='y')\n",
        "\n",
        "fig = go.Figure(data=data, layout=layout)\n",
        "fig.show()\n",
        "\n"
      ],
      "execution_count": 0,
      "outputs": [
        {
          "output_type": "display_data",
          "data": {
            "text/html": [
              "<html>\n",
              "<head><meta charset=\"utf-8\" /></head>\n",
              "<body>\n",
              "    <div>\n",
              "            <script src=\"https://cdnjs.cloudflare.com/ajax/libs/mathjax/2.7.5/MathJax.js?config=TeX-AMS-MML_SVG\"></script><script type=\"text/javascript\">if (window.MathJax) {MathJax.Hub.Config({SVG: {font: \"STIX-Web\"}});}</script>\n",
              "                <script type=\"text/javascript\">window.PlotlyConfig = {MathJaxConfig: 'local'};</script>\n",
              "        <script src=\"https://cdn.plot.ly/plotly-latest.min.js\"></script>    \n",
              "            <div id=\"8b9dc279-863b-43b5-aff9-ab3eccf79b3c\" class=\"plotly-graph-div\" style=\"height:525px; width:100%;\"></div>\n",
              "            <script type=\"text/javascript\">\n",
              "                \n",
              "                    window.PLOTLYENV=window.PLOTLYENV || {};\n",
              "                    \n",
              "                if (document.getElementById(\"8b9dc279-863b-43b5-aff9-ab3eccf79b3c\")) {\n",
              "                    Plotly.newPlot(\n",
              "                        '8b9dc279-863b-43b5-aff9-ab3eccf79b3c',\n",
              "                        [{\"marker\": {\"color\": [70, 70, 70, 70, 70, 70, 70, 70, 70, 70, 70, 70, 70, 70, 70, 70, 70, 70, 70, 70, 70, 70, 70, 70, 70, 70, 70, 70, 70, 71, 71, 71, 71, 71, 71, 71, 71, 71, 71, 71, 71, 71, 71, 71, 71, 71, 71, 71, 71, 71, 71, 71, 71, 71, 71, 71, 71, 72, 72, 72, 72, 72, 72, 72, 72, 72, 72, 72, 72, 72, 72, 72, 72, 72, 72, 72, 72, 72, 72, 72, 72, 72, 72, 72, 72, 73, 73, 73, 73, 73, 73, 73, 73, 73, 73, 73, 73, 73, 73, 73, 73, 73, 73, 73, 73, 73, 73, 73, 73, 73, 73, 73, 73, 73, 73, 73, 73, 73, 73, 73, 73, 73, 73, 73, 73, 74, 74, 74, 74, 74, 74, 74, 74, 74, 74, 74, 74, 74, 74, 74, 74, 74, 74, 74, 74, 74, 74, 74, 74, 74, 74, 74, 75, 75, 75, 75, 75, 75, 75, 75, 75, 75, 75, 75, 75, 75, 75, 75, 75, 75, 75, 75, 75, 75, 75, 75, 75, 75, 75, 75, 75, 75, 76, 76, 76, 76, 76, 76, 76, 76, 76, 76, 76, 76, 76, 76, 76, 76, 76, 76, 76, 76, 76, 76, 76, 76, 76, 76, 76, 76, 76, 76, 76, 76, 76, 76, 77, 77, 77, 77, 77, 77, 77, 77, 77, 77, 77, 77, 77, 77, 77, 77, 77, 77, 77, 77, 77, 77, 77, 77, 77, 77, 77, 77, 78, 78, 78, 78, 78, 78, 78, 78, 78, 78, 78, 78, 78, 78, 78, 78, 78, 78, 78, 78, 78, 78, 78, 78, 78, 78, 78, 78, 78, 78, 78, 78, 78, 78, 78, 78, 79, 79, 79, 79, 79, 79, 79, 79, 79, 79, 79, 79, 79, 79, 79, 79, 79, 79, 79, 79, 79, 79, 79, 79, 79, 79, 79, 79, 79, 80, 80, 80, 80, 80, 80, 80, 80, 80, 80, 80, 80, 80, 80, 80, 80, 80, 80, 80, 80, 80, 80, 80, 80, 80, 80, 80, 80, 80, 81, 81, 81, 81, 81, 81, 81, 81, 81, 81, 81, 81, 81, 81, 81, 81, 81, 81, 81, 81, 81, 81, 81, 81, 81, 81, 81, 81, 81, 82, 82, 82, 82, 82, 82, 82, 82, 82, 82, 82, 82, 82, 82, 82, 82, 82, 82, 82, 82, 82, 82, 82, 82, 82, 82, 82, 82, 82, 82, 82], \"showscale\": true, \"size\": [18.0, 18.0, 17.0, 17.0, 17.0, 22.0, 22.0, 22.0, 22.0, 19.0, 18.0, 18.0, 19.0, 15.0, 12.0, 14.0, 14.0, 13.0, 11.0, 9.0, 13.0, 12.0, 12.0, 11.0, 13.0, 23.0, 22.0, 22.0, 24.0, 11.0, 11.0, 11.0, 10.0, 13.0, 17.0, 17.0, 17.0, 16.0, 21.0, 22.0, 21.0, 20.0, 25.0, 24.0, 26.0, 15.0, 12.0, 16.0, 16.0, 11.0, 11.0, 10.0, 10.0, 9.0, 8.0, 9.0, 10.0, 11.0, 11.0, 11.0, 12.0, 11.0, 21.0, 22.0, 21.0, 21.0, 18.0, 23.0, 23.0, 22.0, 22.0, 12.0, 19.0, 20.0, 21.0, 20.0, 15.0, 13.0, 15.0, 11.0, 12.0, 11.0, 13.0, 11.0, 10.0, 20.0, 18.0, 20.0, 20.0, 19.0, 25.0, 22.0, 22.0, 21.0, 24.0, 25.0, 19.0, 16.0, 16.0, 15.0, 15.0, 15.0, 10.0, 25.0, 25.0, 23.0, 22.0, 14.0, 11.0, 12.0, 12.0, 11.0, 12.0, 12.0, 11.0, 20.0, 21.0, 9.0, 11.0, 13.0, 14.0, 17.0, 13.0, 14.0, 18.0, 16.0, 14.0, 15.0, 17.0, 10.0, 12.0, 9.0, 13.0, 19.0, 18.0, 18.0, 21.0, 23.0, 22.0, 23.0, 21.0, 11.0, 10.0, 12.0, 8.0, 10.0, 11.0, 11.0, 11.0, 12.0, 12.0, 10.0, 16.0, 17.0, 17.0, 16.0, 23.0, 22.0, 22.0, 23.0, 20.0, 19.0, 19.0, 19.0, 15.0, 16.0, 16.0, 11.0, 13.0, 15.0, 13.0, 14.0, 11.0, 13.0, 15.0, 10.0, 16.0, 13.0, 15.0, 15.0, 13.0, 9.0, 12.0, 11.0, 13.0, 11.0, 11.0, 21.0, 21.0, 20.0, 21.0, 16.0, 17.0, 15.0, 15.0, 10.0, 11.0, 10.0, 9.0, 18.0, 18.0, 18.0, 16.0, 9.0, 10.0, 11.0, 13.0, 16.0, 20.0, 16.0, 15.0, 19.0, 22.0, 20.0, 19.0, 19.0, 10.0, 11.0, 9.0, 12.0, 10.0, 19.0, 20.0, 21.0, 21.0, 18.0, 17.0, 18.0, 18.0, 21.0, 21.0, 22.0, 22.0, 10.0, 14.0, 11.0, 14.0, 10.0, 10.0, 10.0, 11.0, 14.0, 13.0, 14.0, 10.0, 9.0, 10.0, 10.0, 9.0, 17.0, 19.0, 18.0, 18.0, 16.0, 15.0, 14.0, 17.0, 16.0, 17.0, 15.0, 18.0, 17.0, 17.0, 17.0, 16.0, 20.0, 11.0, 13.0, 12.0, 11.0, 13.0, 14.0, 14.0, 12.0, 14.0, 16.0, 14.0, 17.0, 10.0, 11.0, 16.0, 15.0, 14.0, 16.0, 17.0, 19.0, 19.0, 20.0, 19.0, 22.0, 20.0, 18.0, 20.0, 10.0, 10.0, 10.0, 13.0, 18.0, 20.0, 16.0, 17.0, 11.0, 11.0, 10.0, 11.0, 13.0, 13.0, 14.0, 13.0, 11.0, 10.0, 11.0, 10.0, 13.0, 14.0, 15.0, 17.0, 11.0, 14.0, 13.0, 12.0, 11.0, 11.0, 14.0, 11.0, 10.0, 12.0, 15.0, 16.0, 9.0, 9.0, 11.0, 9.0, 15.0, 12.0, 12.0, 15.0, 11.0, 12.0, 13.0, 13.0, 14.0, 12.0, 9.0, 9.0, 9.0, 10.0, 10.0, 10.0, 10.0, 11.0, 10.0, 12.0, 11.0, 12.0, 11.0, 12.0, 13.0, 13.0, 16.0, 16.0, 14.0, 15.0, 17.0, 19.0, 15.0, 17.0, 13.0, 13.0, 12.0, 13.0, 13.0, 14.0, 14.0, 15.0, 10.0, 10.0, 10.0, 11.0, 11.0, 11.0, 11.0, 11.0, 10.0, 10.0, 10.0, 15.0, 15.0, 13.0, 14.0, 13.0, 12.0, 15.0, 14.0, 11.0, 11.0, 13.0, 14.0]}, \"mode\": \"markers\", \"text\": [\"chevrolet chevelle malibu\", \"buick skylark 320\", \"plymouth satellite\", \"amc rebel sst\", \"ford torino\", \"ford galaxie 500\", \"chevrolet impala\", \"plymouth fury iii\", \"pontiac catalina\", \"amc ambassador dpl\", \"dodge challenger se\", \"plymouth 'cuda 340\", \"chevrolet monte carlo\", \"buick estate wagon (sw)\", \"toyota corona mark ii\", \"plymouth duster\", \"amc hornet\", \"ford maverick\", \"datsun pl510\", \"volkswagen 1131 deluxe sedan\", \"peugeot 504\", \"audi 100 ls\", \"saab 99e\", \"bmw 2002\", \"amc gremlin\", \"ford f250\", \"chevy c20\", \"dodge d200\", \"hi 1200d\", \"datsun pl510\", \"chevrolet vega 2300\", \"toyota corona\", \"ford pinto\", \"amc gremlin\", \"plymouth satellite custom\", \"chevrolet chevelle malibu\", \"ford torino 500\", \"amc matador\", \"chevrolet impala\", \"pontiac catalina brougham\", \"ford galaxie 500\", \"plymouth fury iii\", \"dodge monaco (sw)\", \"ford country squire (sw)\", \"pontiac safari (sw)\", \"amc hornet sportabout (sw)\", \"chevrolet vega (sw)\", \"pontiac firebird\", \"ford mustang\", \"mercury capri 2000\", \"opel 1900\", \"peugeot 304\", \"fiat 124b\", \"toyota corolla 1200\", \"datsun 1200\", \"volkswagen model 111\", \"plymouth cricket\", \"toyota corona hardtop\", \"dodge colt hardtop\", \"volkswagen type 3\", \"chevrolet vega\", \"ford pinto runabout\", \"chevrolet impala\", \"pontiac catalina\", \"plymouth fury iii\", \"ford galaxie 500\", \"amc ambassador sst\", \"mercury marquis\", \"buick lesabre custom\", \"oldsmobile delta 88 royale\", \"chrysler newport royal\", \"mazda rx2 coupe\", \"amc matador (sw)\", \"chevrolet chevelle concours (sw)\", \"ford gran torino (sw)\", \"plymouth satellite custom (sw)\", \"volvo 145e (sw)\", \"volkswagen 411 (sw)\", \"peugeot 504 (sw)\", \"renault 12 (sw)\", \"ford pinto (sw)\", \"datsun 510 (sw)\", \"toyouta corona mark ii (sw)\", \"dodge colt (sw)\", \"toyota corolla 1600 (sw)\", \"buick century 350\", \"amc matador\", \"chevrolet malibu\", \"ford gran torino\", \"dodge coronet custom\", \"mercury marquis brougham\", \"chevrolet caprice classic\", \"ford ltd\", \"plymouth fury gran sedan\", \"chrysler new yorker brougham\", \"buick electra 225 custom\", \"amc ambassador brougham\", \"plymouth valiant\", \"chevrolet nova custom\", \"amc hornet\", \"ford maverick\", \"plymouth duster\", \"volkswagen super beetle\", \"chevrolet impala\", \"ford country\", \"plymouth custom suburb\", \"oldsmobile vista cruiser\", \"amc gremlin\", \"toyota carina\", \"chevrolet vega\", \"datsun 610\", \"maxda rx3\", \"ford pinto\", \"mercury capri v6\", \"fiat 124 sport coupe\", \"chevrolet monte carlo s\", \"pontiac grand prix\", \"fiat 128\", \"opel manta\", \"audi 100ls\", \"volvo 144ea\", \"dodge dart custom\", \"saab 99le\", \"toyota mark ii\", \"oldsmobile omega\", \"plymouth duster\", \"ford maverick\", \"amc hornet\", \"chevrolet nova\", \"datsun b210\", \"ford pinto\", \"toyota corolla 1200\", \"chevrolet vega\", \"chevrolet chevelle malibu classic\", \"amc matador\", \"plymouth satellite sebring\", \"ford gran torino\", \"buick century luxus (sw)\", \"dodge coronet custom (sw)\", \"ford gran torino (sw)\", \"amc matador (sw)\", \"audi fox\", \"volkswagen dasher\", \"opel manta\", \"toyota corona\", \"datsun 710\", \"dodge colt\", \"fiat 128\", \"fiat 124 tc\", \"honda civic\", \"subaru\", \"fiat x1.9\", \"plymouth valiant custom\", \"chevrolet nova\", \"mercury monarch\", \"ford maverick\", \"pontiac catalina\", \"chevrolet bel air\", \"plymouth grand fury\", \"ford ltd\", \"buick century\", \"chevroelt chevelle malibu\", \"amc matador\", \"plymouth fury\", \"buick skyhawk\", \"chevrolet monza 2+2\", \"ford mustang ii\", \"toyota corolla\", \"ford pinto\", \"amc gremlin\", \"pontiac astro\", \"toyota corona\", \"volkswagen dasher\", \"datsun 710\", \"ford pinto\", \"volkswagen rabbit\", \"amc pacer\", \"audi 100ls\", \"peugeot 504\", \"volvo 244dl\", \"saab 99le\", \"honda civic cvcc\", \"fiat 131\", \"opel 1900\", \"capri ii\", \"dodge colt\", \"renault 12tl\", \"chevrolet chevelle malibu classic\", \"dodge coronet brougham\", \"amc matador\", \"ford gran torino\", \"plymouth valiant\", \"chevrolet nova\", \"ford maverick\", \"amc hornet\", \"chevrolet chevette\", \"chevrolet woody\", \"vw rabbit\", \"honda civic\", \"dodge aspen se\", \"ford granada ghia\", \"pontiac ventura sj\", \"amc pacer d/l\", \"volkswagen rabbit\", \"datsun b-210\", \"toyota corolla\", \"ford pinto\", \"volvo 245\", \"plymouth volare premier v8\", \"peugeot 504\", \"toyota mark ii\", \"mercedes-benz 280s\", \"cadillac seville\", \"chevy c10\", \"ford f108\", \"dodge d100\", \"honda accord cvcc\", \"buick opel isuzu deluxe\", \"renault 5 gtl\", \"plymouth arrow gs\", \"datsun f-10 hatchback\", \"chevrolet caprice classic\", \"oldsmobile cutlass supreme\", \"dodge monaco brougham\", \"mercury cougar brougham\", \"chevrolet concours\", \"buick skylark\", \"plymouth volare custom\", \"ford granada\", \"pontiac grand prix lj\", \"chevrolet monte carlo landau\", \"chrysler cordoba\", \"ford thunderbird\", \"volkswagen rabbit custom\", \"pontiac sunbird coupe\", \"toyota corolla liftback\", \"ford mustang ii 2+2\", \"chevrolet chevette\", \"dodge colt m/m\", \"subaru dl\", \"volkswagen dasher\", \"datsun 810\", \"bmw 320i\", \"mazda rx-4\", \"volkswagen rabbit custom diesel\", \"ford fiesta\", \"mazda glc deluxe\", \"datsun b210 gx\", \"honda civic cvcc\", \"oldsmobile cutlass salon brougham\", \"dodge diplomat\", \"mercury monarch ghia\", \"pontiac phoenix lj\", \"chevrolet malibu\", \"ford fairmont (auto)\", \"ford fairmont (man)\", \"plymouth volare\", \"amc concord\", \"buick century special\", \"mercury zephyr\", \"dodge aspen\", \"amc concord d/l\", \"chevrolet monte carlo landau\", \"buick regal sport coupe (turbo)\", \"ford futura\", \"dodge magnum xe\", \"chevrolet chevette\", \"toyota corona\", \"datsun 510\", \"dodge omni\", \"toyota celica gt liftback\", \"plymouth sapporo\", \"oldsmobile starfire sx\", \"datsun 200-sx\", \"audi 5000\", \"volvo 264gl\", \"saab 99gle\", \"peugeot 604sl\", \"volkswagen scirocco\", \"honda accord lx\", \"pontiac lemans v6\", \"mercury zephyr 6\", \"ford fairmont 4\", \"amc concord dl 6\", \"dodge aspen 6\", \"chevrolet caprice classic\", \"ford ltd landau\", \"mercury grand marquis\", \"dodge st. regis\", \"buick estate wagon (sw)\", \"ford country squire (sw)\", \"chevrolet malibu classic (sw)\", \"chrysler lebaron town @ country (sw)\", \"vw rabbit custom\", \"maxda glc deluxe\", \"dodge colt hatchback custom\", \"amc spirit dl\", \"mercedes benz 300d\", \"cadillac eldorado\", \"peugeot 504\", \"oldsmobile cutlass salon brougham\", \"plymouth horizon\", \"plymouth horizon tc3\", \"datsun 210\", \"fiat strada custom\", \"buick skylark limited\", \"chevrolet citation\", \"oldsmobile omega brougham\", \"pontiac phoenix\", \"vw rabbit\", \"toyota corolla tercel\", \"chevrolet chevette\", \"datsun 310\", \"chevrolet citation\", \"ford fairmont\", \"amc concord\", \"dodge aspen\", \"audi 4000\", \"toyota corona liftback\", \"mazda 626\", \"datsun 510 hatchback\", \"toyota corolla\", \"mazda glc\", \"dodge colt\", \"datsun 210\", \"vw rabbit c (diesel)\", \"vw dasher (diesel)\", \"audi 5000s (diesel)\", \"mercedes-benz 240d\", \"honda civic 1500 gl\", \"renault lecar deluxe\", \"subaru dl\", \"vokswagen rabbit\", \"datsun 280-zx\", \"mazda rx-7 gs\", \"triumph tr7 coupe\", \"ford mustang cobra\", \"honda accord\", \"plymouth reliant\", \"buick skylark\", \"dodge aries wagon (sw)\", \"chevrolet citation\", \"plymouth reliant\", \"toyota starlet\", \"plymouth champ\", \"honda civic 1300\", \"subaru\", \"datsun 210 mpg\", \"toyota tercel\", \"mazda glc 4\", \"plymouth horizon 4\", \"ford escort 4w\", \"ford escort 2h\", \"volkswagen jetta\", \"renault 18i\", \"honda prelude\", \"toyota corolla\", \"datsun 200sx\", \"mazda 626\", \"peugeot 505s turbo diesel\", \"volvo diesel\", \"toyota cressida\", \"datsun 810 maxima\", \"buick century\", \"oldsmobile cutlass ls\", \"ford granada gl\", \"chrysler lebaron salon\", \"chevrolet cavalier\", \"chevrolet cavalier wagon\", \"chevrolet cavalier 2-door\", \"pontiac j2000 se hatchback\", \"dodge aries se\", \"pontiac phoenix\", \"ford fairmont futura\", \"amc concord dl\", \"volkswagen rabbit l\", \"mazda glc custom l\", \"mazda glc custom\", \"plymouth horizon miser\", \"mercury lynx l\", \"nissan stanza xe\", \"honda accord\", \"toyota corolla\", \"honda civic\", \"honda civic (auto)\", \"datsun 310 gx\", \"buick century limited\", \"oldsmobile cutlass ciera (diesel)\", \"chrysler lebaron medallion\", \"ford granada l\", \"toyota celica gt\", \"dodge charger 2.2\", \"chevrolet camaro\", \"ford mustang gl\", \"vw pickup\", \"dodge rampage\", \"ford ranger\", \"chevy s-10\"], \"type\": \"scatter\", \"x\": [\"130\", \"165\", \"150\", \"150\", \"140\", \"198\", \"220\", \"215\", \"225\", \"190\", \"170\", \"160\", \"150\", \"225\", \"95\", \"95\", \"97\", \"85\", \"88\", \"46\", \"87\", \"90\", \"95\", \"113\", \"90\", \"215\", \"200\", \"210\", \"193\", \"88\", \"90\", \"95\", \"?\", \"100\", \"105\", \"100\", \"88\", \"100\", \"165\", \"175\", \"153\", \"150\", \"180\", \"170\", \"175\", \"110\", \"72\", \"100\", \"88\", \"86\", \"90\", \"70\", \"76\", \"65\", \"69\", \"60\", \"70\", \"95\", \"80\", \"54\", \"90\", \"86\", \"165\", \"175\", \"150\", \"153\", \"150\", \"208\", \"155\", \"160\", \"190\", \"97\", \"150\", \"130\", \"140\", \"150\", \"112\", \"76\", \"87\", \"69\", \"86\", \"92\", \"97\", \"80\", \"88\", \"175\", \"150\", \"145\", \"137\", \"150\", \"198\", \"150\", \"158\", \"150\", \"215\", \"225\", \"175\", \"105\", \"100\", \"100\", \"88\", \"95\", \"46\", \"150\", \"167\", \"170\", \"180\", \"100\", \"88\", \"72\", \"94\", \"90\", \"85\", \"107\", \"90\", \"145\", \"230\", \"49\", \"75\", \"91\", \"112\", \"150\", \"110\", \"122\", \"180\", \"95\", \"?\", \"100\", \"100\", \"67\", \"80\", \"65\", \"75\", \"100\", \"110\", \"105\", \"140\", \"150\", \"150\", \"140\", \"150\", \"83\", \"67\", \"78\", \"52\", \"61\", \"75\", \"75\", \"75\", \"97\", \"93\", \"67\", \"95\", \"105\", \"72\", \"72\", \"170\", \"145\", \"150\", \"148\", \"110\", \"105\", \"110\", \"95\", \"110\", \"110\", \"129\", \"75\", \"83\", \"100\", \"78\", \"96\", \"71\", \"97\", \"97\", \"70\", \"90\", \"95\", \"88\", \"98\", \"115\", \"53\", \"86\", \"81\", \"92\", \"79\", \"83\", \"140\", \"150\", \"120\", \"152\", \"100\", \"105\", \"81\", \"90\", \"52\", \"60\", \"70\", \"53\", \"100\", \"78\", \"110\", \"95\", \"71\", \"70\", \"75\", \"72\", \"102\", \"150\", \"88\", \"108\", \"120\", \"180\", \"145\", \"130\", \"150\", \"68\", \"80\", \"58\", \"96\", \"70\", \"145\", \"110\", \"145\", \"130\", \"110\", \"105\", \"100\", \"98\", \"180\", \"170\", \"190\", \"149\", \"78\", \"88\", \"75\", \"89\", \"63\", \"83\", \"67\", \"78\", \"97\", \"110\", \"110\", \"48\", \"66\", \"52\", \"70\", \"60\", \"110\", \"140\", \"139\", \"105\", \"95\", \"85\", \"88\", \"100\", \"90\", \"105\", \"85\", \"110\", \"120\", \"145\", \"165\", \"139\", \"140\", \"68\", \"95\", \"97\", \"75\", \"95\", \"105\", \"85\", \"97\", \"103\", \"125\", \"115\", \"133\", \"71\", \"68\", \"115\", \"85\", \"88\", \"90\", \"110\", \"130\", \"129\", \"138\", \"135\", \"155\", \"142\", \"125\", \"150\", \"71\", \"65\", \"80\", \"80\", \"77\", \"125\", \"71\", \"90\", \"70\", \"70\", \"65\", \"69\", \"90\", \"115\", \"115\", \"90\", \"76\", \"60\", \"70\", \"65\", \"90\", \"88\", \"90\", \"90\", \"78\", \"90\", \"75\", \"92\", \"75\", \"65\", \"105\", \"65\", \"48\", \"48\", \"67\", \"67\", \"67\", \"?\", \"67\", \"62\", \"132\", \"100\", \"88\", \"?\", \"72\", \"84\", \"84\", \"92\", \"110\", \"84\", \"58\", \"64\", \"60\", \"67\", \"65\", \"62\", \"68\", \"63\", \"65\", \"65\", \"74\", \"?\", \"75\", \"75\", \"100\", \"74\", \"80\", \"76\", \"116\", \"120\", \"110\", \"105\", \"88\", \"85\", \"88\", \"88\", \"88\", \"85\", \"84\", \"90\", \"92\", \"?\", \"74\", \"68\", \"68\", \"63\", \"70\", \"88\", \"75\", \"70\", \"67\", \"67\", \"67\", \"110\", \"85\", \"92\", \"112\", \"96\", \"84\", \"90\", \"86\", \"52\", \"84\", \"79\", \"82\"], \"y\": [29.0, 24.0, 29.0, 26.0, 27.0, 24.0, 22.0, 22.0, 22.0, 24.0, 24.0, 22.0, 24.0, 22.0, 38.0, 35.0, 29.0, 34.0, 43.0, 42.0, 40.0, 38.0, 40.0, 42.0, 34.0, 16.0, 16.0, 18.0, 14.0, 43.0, 45.0, 40.0, 40.0, 30.0, 26.0, 27.0, 30.0, 29.0, 22.0, 22.0, 22.0, 22.0, 19.0, 21.0, 21.0, 29.0, 35.0, 30.0, 29.0, 37.0, 45.0, 48.0, 48.0, 50.0, 56.0, 43.0, 42.0, 38.0, 40.0, 37.0, 32.0, 34.0, 21.0, 22.0, 24.0, 22.0, 27.0, 18.0, 21.0, 19.0, 21.0, 30.0, 24.0, 21.0, 21.0, 22.0, 29.0, 35.0, 34.0, 42.0, 35.0, 45.0, 37.0, 45.0, 43.0, 21.0, 22.0, 21.0, 22.0, 24.0, 19.0, 21.0, 21.0, 22.0, 21.0, 19.0, 21.0, 29.0, 26.0, 29.0, 29.0, 37.0, 42.0, 18.0, 19.0, 21.0, 19.0, 29.0, 32.0, 34.0, 35.0, 29.0, 30.0, 34.0, 42.0, 24.0, 26.0, 46.0, 38.0, 32.0, 30.0, 24.0, 38.0, 32.0, 18.0, 32.0, 34.0, 30.0, 24.0, 50.0, 42.0, 51.0, 40.0, 26.0, 26.0, 29.0, 26.0, 21.0, 22.0, 22.0, 22.0, 46.0, 42.0, 42.0, 50.0, 51.0, 45.0, 38.0, 42.0, 38.0, 42.0, 50.0, 30.0, 29.0, 24.0, 24.0, 26.0, 24.0, 26.0, 22.0, 27.0, 26.0, 24.0, 29.0, 34.0, 32.0, 21.0, 46.0, 37.0, 32.0, 37.0, 38.0, 40.0, 38.0, 29.0, 46.0, 30.0, 37.0, 37.0, 35.0, 40.0, 53.0, 45.0, 40.0, 40.0, 42.0, 43.0, 28.0, 26.0, 25.0, 23.0, 35.0, 35.0, 38.0, 36.0, 46.0, 39.0, 46.0, 53.0, 32.0, 29.0, 30.0, 28.0, 47.0, 51.0, 45.0, 42.0, 32.0, 21.0, 30.0, 30.0, 26.0, 26.0, 21.0, 21.0, 21.0, 50.0, 48.0, 58.0, 41.0, 54.0, 28.0, 27.0, 25.0, 24.0, 28.0, 33.0, 30.0, 30.0, 26.0, 25.0, 25.0, 26.0, 46.0, 39.0, 42.0, 41.0, 49.0, 54.0, 48.0, 49.0, 35.0, 34.0, 34.0, 69.0, 58.0, 52.0, 63.0, 58.0, 32.0, 31.0, 32.0, 31.0, 33.0, 32.0, 40.0, 33.0, 31.0, 33.0, 33.0, 30.0, 29.0, 31.0, 28.0, 29.0, 28.0, 48.0, 44.0, 44.0, 49.0, 34.0, 37.0, 38.0, 38.0, 32.0, 27.0, 35.0, 26.0, 50.0, 47.0, 34.0, 32.0, 36.0, 32.0, 33.0, 27.0, 28.0, 26.0, 29.0, 27.0, 25.0, 31.0, 30.0, 51.0, 55.0, 57.0, 44.0, 41.0, 37.0, 44.0, 38.0, 55.0, 55.0, 51.0, 60.0, 45.0, 46.0, 43.0, 54.0, 66.0, 61.0, 51.0, 60.0, 45.0, 42.0, 39.0, 31.0, 55.0, 48.0, 50.0, 59.0, 52.0, 75.0, 45.0, 65.0, 71.0, 69.0, 58.0, 48.0, 71.0, 65.0, 54.0, 48.0, 52.0, 38.0, 56.0, 38.0, 52.0, 44.0, 43.0, 41.0, 38.0, 48.0, 63.0, 62.0, 56.0, 52.0, 59.0, 60.0, 55.0, 56.0, 55.0, 48.0, 53.0, 55.0, 54.0, 52.0, 53.0, 51.0, 45.0, 49.0, 41.0, 39.0, 36.0, 43.0, 32.0, 28.0, 45.0, 43.0, 54.0, 50.0, 46.0, 43.0, 38.0, 37.0, 58.0, 59.0, 50.0, 61.0, 58.0, 58.0, 58.0, 54.0, 61.0, 51.0, 61.0, 40.0, 61.0, 42.0, 35.0, 51.0, 58.0, 43.0, 43.0, 70.0, 51.0, 45.0, 50.0]}],\n",
              "                        {\"hovermode\": \"y\", \"template\": {\"data\": {\"bar\": [{\"error_x\": {\"color\": \"#2a3f5f\"}, \"error_y\": {\"color\": \"#2a3f5f\"}, \"marker\": {\"line\": {\"color\": \"#E5ECF6\", \"width\": 0.5}}, \"type\": \"bar\"}], \"barpolar\": [{\"marker\": {\"line\": {\"color\": \"#E5ECF6\", \"width\": 0.5}}, \"type\": \"barpolar\"}], \"carpet\": [{\"aaxis\": {\"endlinecolor\": \"#2a3f5f\", \"gridcolor\": \"white\", \"linecolor\": \"white\", \"minorgridcolor\": \"white\", \"startlinecolor\": \"#2a3f5f\"}, \"baxis\": {\"endlinecolor\": \"#2a3f5f\", \"gridcolor\": \"white\", \"linecolor\": \"white\", \"minorgridcolor\": \"white\", \"startlinecolor\": \"#2a3f5f\"}, \"type\": \"carpet\"}], \"choropleth\": [{\"colorbar\": {\"outlinewidth\": 0, \"ticks\": \"\"}, \"type\": \"choropleth\"}], \"contour\": [{\"colorbar\": {\"outlinewidth\": 0, \"ticks\": \"\"}, \"colorscale\": [[0.0, \"#0d0887\"], [0.1111111111111111, \"#46039f\"], [0.2222222222222222, \"#7201a8\"], [0.3333333333333333, \"#9c179e\"], [0.4444444444444444, \"#bd3786\"], [0.5555555555555556, \"#d8576b\"], [0.6666666666666666, \"#ed7953\"], [0.7777777777777778, \"#fb9f3a\"], [0.8888888888888888, \"#fdca26\"], [1.0, \"#f0f921\"]], \"type\": \"contour\"}], \"contourcarpet\": [{\"colorbar\": {\"outlinewidth\": 0, \"ticks\": \"\"}, \"type\": \"contourcarpet\"}], \"heatmap\": [{\"colorbar\": {\"outlinewidth\": 0, \"ticks\": \"\"}, \"colorscale\": [[0.0, \"#0d0887\"], [0.1111111111111111, \"#46039f\"], [0.2222222222222222, \"#7201a8\"], [0.3333333333333333, \"#9c179e\"], [0.4444444444444444, \"#bd3786\"], [0.5555555555555556, \"#d8576b\"], [0.6666666666666666, \"#ed7953\"], [0.7777777777777778, \"#fb9f3a\"], [0.8888888888888888, \"#fdca26\"], [1.0, \"#f0f921\"]], \"type\": \"heatmap\"}], \"heatmapgl\": [{\"colorbar\": {\"outlinewidth\": 0, \"ticks\": \"\"}, \"colorscale\": [[0.0, \"#0d0887\"], [0.1111111111111111, \"#46039f\"], [0.2222222222222222, \"#7201a8\"], [0.3333333333333333, \"#9c179e\"], [0.4444444444444444, \"#bd3786\"], [0.5555555555555556, \"#d8576b\"], [0.6666666666666666, \"#ed7953\"], [0.7777777777777778, \"#fb9f3a\"], [0.8888888888888888, \"#fdca26\"], [1.0, \"#f0f921\"]], \"type\": \"heatmapgl\"}], \"histogram\": [{\"marker\": {\"colorbar\": {\"outlinewidth\": 0, \"ticks\": \"\"}}, \"type\": \"histogram\"}], \"histogram2d\": [{\"colorbar\": {\"outlinewidth\": 0, \"ticks\": \"\"}, \"colorscale\": [[0.0, \"#0d0887\"], [0.1111111111111111, \"#46039f\"], [0.2222222222222222, \"#7201a8\"], [0.3333333333333333, \"#9c179e\"], [0.4444444444444444, \"#bd3786\"], [0.5555555555555556, \"#d8576b\"], [0.6666666666666666, \"#ed7953\"], [0.7777777777777778, \"#fb9f3a\"], [0.8888888888888888, \"#fdca26\"], [1.0, \"#f0f921\"]], \"type\": \"histogram2d\"}], \"histogram2dcontour\": [{\"colorbar\": {\"outlinewidth\": 0, \"ticks\": \"\"}, \"colorscale\": [[0.0, \"#0d0887\"], [0.1111111111111111, \"#46039f\"], [0.2222222222222222, \"#7201a8\"], [0.3333333333333333, \"#9c179e\"], [0.4444444444444444, \"#bd3786\"], [0.5555555555555556, \"#d8576b\"], [0.6666666666666666, \"#ed7953\"], [0.7777777777777778, \"#fb9f3a\"], [0.8888888888888888, \"#fdca26\"], [1.0, \"#f0f921\"]], \"type\": \"histogram2dcontour\"}], \"mesh3d\": [{\"colorbar\": {\"outlinewidth\": 0, \"ticks\": \"\"}, \"type\": \"mesh3d\"}], \"parcoords\": [{\"line\": {\"colorbar\": {\"outlinewidth\": 0, \"ticks\": \"\"}}, \"type\": \"parcoords\"}], \"pie\": [{\"automargin\": true, \"type\": \"pie\"}], \"scatter\": [{\"marker\": {\"colorbar\": {\"outlinewidth\": 0, \"ticks\": \"\"}}, \"type\": \"scatter\"}], \"scatter3d\": [{\"line\": {\"colorbar\": {\"outlinewidth\": 0, \"ticks\": \"\"}}, \"marker\": {\"colorbar\": {\"outlinewidth\": 0, \"ticks\": \"\"}}, \"type\": \"scatter3d\"}], \"scattercarpet\": [{\"marker\": {\"colorbar\": {\"outlinewidth\": 0, \"ticks\": \"\"}}, \"type\": \"scattercarpet\"}], \"scattergeo\": [{\"marker\": {\"colorbar\": {\"outlinewidth\": 0, \"ticks\": \"\"}}, \"type\": \"scattergeo\"}], \"scattergl\": [{\"marker\": {\"colorbar\": {\"outlinewidth\": 0, \"ticks\": \"\"}}, \"type\": \"scattergl\"}], \"scattermapbox\": [{\"marker\": {\"colorbar\": {\"outlinewidth\": 0, \"ticks\": \"\"}}, \"type\": \"scattermapbox\"}], \"scatterpolar\": [{\"marker\": {\"colorbar\": {\"outlinewidth\": 0, \"ticks\": \"\"}}, \"type\": \"scatterpolar\"}], \"scatterpolargl\": [{\"marker\": {\"colorbar\": {\"outlinewidth\": 0, \"ticks\": \"\"}}, \"type\": \"scatterpolargl\"}], \"scatterternary\": [{\"marker\": {\"colorbar\": {\"outlinewidth\": 0, \"ticks\": \"\"}}, \"type\": \"scatterternary\"}], \"surface\": [{\"colorbar\": {\"outlinewidth\": 0, \"ticks\": \"\"}, \"colorscale\": [[0.0, \"#0d0887\"], [0.1111111111111111, \"#46039f\"], [0.2222222222222222, \"#7201a8\"], [0.3333333333333333, \"#9c179e\"], [0.4444444444444444, \"#bd3786\"], [0.5555555555555556, \"#d8576b\"], [0.6666666666666666, \"#ed7953\"], [0.7777777777777778, \"#fb9f3a\"], [0.8888888888888888, \"#fdca26\"], [1.0, \"#f0f921\"]], \"type\": \"surface\"}], \"table\": [{\"cells\": {\"fill\": {\"color\": \"#EBF0F8\"}, \"line\": {\"color\": \"white\"}}, \"header\": {\"fill\": {\"color\": \"#C8D4E3\"}, \"line\": {\"color\": \"white\"}}, \"type\": \"table\"}]}, \"layout\": {\"annotationdefaults\": {\"arrowcolor\": \"#2a3f5f\", \"arrowhead\": 0, \"arrowwidth\": 1}, \"coloraxis\": {\"colorbar\": {\"outlinewidth\": 0, \"ticks\": \"\"}}, \"colorscale\": {\"diverging\": [[0, \"#8e0152\"], [0.1, \"#c51b7d\"], [0.2, \"#de77ae\"], [0.3, \"#f1b6da\"], [0.4, \"#fde0ef\"], [0.5, \"#f7f7f7\"], [0.6, \"#e6f5d0\"], [0.7, \"#b8e186\"], [0.8, \"#7fbc41\"], [0.9, \"#4d9221\"], [1, \"#276419\"]], \"sequential\": [[0.0, \"#0d0887\"], [0.1111111111111111, \"#46039f\"], [0.2222222222222222, \"#7201a8\"], [0.3333333333333333, \"#9c179e\"], [0.4444444444444444, \"#bd3786\"], [0.5555555555555556, \"#d8576b\"], [0.6666666666666666, \"#ed7953\"], [0.7777777777777778, \"#fb9f3a\"], [0.8888888888888888, \"#fdca26\"], [1.0, \"#f0f921\"]], \"sequentialminus\": [[0.0, \"#0d0887\"], [0.1111111111111111, \"#46039f\"], [0.2222222222222222, \"#7201a8\"], [0.3333333333333333, \"#9c179e\"], [0.4444444444444444, \"#bd3786\"], [0.5555555555555556, \"#d8576b\"], [0.6666666666666666, \"#ed7953\"], [0.7777777777777778, \"#fb9f3a\"], [0.8888888888888888, \"#fdca26\"], [1.0, \"#f0f921\"]]}, \"colorway\": [\"#636efa\", \"#EF553B\", \"#00cc96\", \"#ab63fa\", \"#FFA15A\", \"#19d3f3\", \"#FF6692\", \"#B6E880\", \"#FF97FF\", \"#FECB52\"], \"font\": {\"color\": \"#2a3f5f\"}, \"geo\": {\"bgcolor\": \"white\", \"lakecolor\": \"white\", \"landcolor\": \"#E5ECF6\", \"showlakes\": true, \"showland\": true, \"subunitcolor\": \"white\"}, \"hoverlabel\": {\"align\": \"left\"}, \"hovermode\": \"closest\", \"mapbox\": {\"style\": \"light\"}, \"paper_bgcolor\": \"white\", \"plot_bgcolor\": \"#E5ECF6\", \"polar\": {\"angularaxis\": {\"gridcolor\": \"white\", \"linecolor\": \"white\", \"ticks\": \"\"}, \"bgcolor\": \"#E5ECF6\", \"radialaxis\": {\"gridcolor\": \"white\", \"linecolor\": \"white\", \"ticks\": \"\"}}, \"scene\": {\"xaxis\": {\"backgroundcolor\": \"#E5ECF6\", \"gridcolor\": \"white\", \"gridwidth\": 2, \"linecolor\": \"white\", \"showbackground\": true, \"ticks\": \"\", \"zerolinecolor\": \"white\"}, \"yaxis\": {\"backgroundcolor\": \"#E5ECF6\", \"gridcolor\": \"white\", \"gridwidth\": 2, \"linecolor\": \"white\", \"showbackground\": true, \"ticks\": \"\", \"zerolinecolor\": \"white\"}, \"zaxis\": {\"backgroundcolor\": \"#E5ECF6\", \"gridcolor\": \"white\", \"gridwidth\": 2, \"linecolor\": \"white\", \"showbackground\": true, \"ticks\": \"\", \"zerolinecolor\": \"white\"}}, \"shapedefaults\": {\"line\": {\"color\": \"#2a3f5f\"}}, \"ternary\": {\"aaxis\": {\"gridcolor\": \"white\", \"linecolor\": \"white\", \"ticks\": \"\"}, \"baxis\": {\"gridcolor\": \"white\", \"linecolor\": \"white\", \"ticks\": \"\"}, \"bgcolor\": \"#E5ECF6\", \"caxis\": {\"gridcolor\": \"white\", \"linecolor\": \"white\", \"ticks\": \"\"}}, \"title\": {\"x\": 0.05}, \"xaxis\": {\"automargin\": true, \"gridcolor\": \"white\", \"linecolor\": \"white\", \"ticks\": \"\", \"title\": {\"standoff\": 15}, \"zerolinecolor\": \"white\", \"zerolinewidth\": 2}, \"yaxis\": {\"automargin\": true, \"gridcolor\": \"white\", \"linecolor\": \"white\", \"ticks\": \"\", \"title\": {\"standoff\": 15}, \"zerolinecolor\": \"white\", \"zerolinewidth\": 2}}}, \"title\": {\"text\": \"Bubble Plot - Vergleich Kraftstoffverbrauch vs. Pferdest\\u00e4rken\"}, \"xaxis\": {\"title\": {\"text\": \"Anzahl Pferdest\\u00e4rken\"}}, \"yaxis\": {\"title\": {\"text\": \"Kilometer pro US Gallone\"}}},\n",
              "                        {\"responsive\": true}\n",
              "                    ).then(function(){\n",
              "                            \n",
              "var gd = document.getElementById('8b9dc279-863b-43b5-aff9-ab3eccf79b3c');\n",
              "var x = new MutationObserver(function (mutations, observer) {{\n",
              "        var display = window.getComputedStyle(gd).display;\n",
              "        if (!display || display === 'none') {{\n",
              "            console.log([gd, 'removed!']);\n",
              "            Plotly.purge(gd);\n",
              "            observer.disconnect();\n",
              "        }}\n",
              "}});\n",
              "\n",
              "// Listen for the removal of the full notebook cells\n",
              "var notebookContainer = gd.closest('#notebook-container');\n",
              "if (notebookContainer) {{\n",
              "    x.observe(notebookContainer, {childList: true});\n",
              "}}\n",
              "\n",
              "// Listen for the clearing of the current output cell\n",
              "var outputEl = gd.closest('.output');\n",
              "if (outputEl) {{\n",
              "    x.observe(outputEl, {childList: true});\n",
              "}}\n",
              "\n",
              "                        })\n",
              "                };\n",
              "                \n",
              "            </script>\n",
              "        </div>\n",
              "</body>\n",
              "</html>"
            ]
          },
          "metadata": {
            "tags": []
          }
        }
      ]
    },
    {
      "cell_type": "markdown",
      "metadata": {
        "id": "BDCd47IaXDFt",
        "colab_type": "text"
      },
      "source": [
        "### Box Plots ###\n",
        "\n",
        "Box Plots werden dazu verwendet um Quartile abzubilden bzw. robuste Lage- und Streuungsmasse zusammenzufassen. Quartile zeigen das prozentuale Verhältnis von Daten in vier Abschnitte, wobei das 50% Quartile der Median darstellt. Box Plots lassen somit Aussagen wie bspw. die Anzahl der Prüfergebnisse mit der Note 6 liegen unter 25% folglich machen alle Noten die schlechter sind als die Note 6 75% der Prüfresultat aus.\n",
        "\n",
        "<img src='https://github.com/sakuronohana/my_datascience/blob/master/doc_images/boxplot.jpg?raw=1' width='600'>\n",
        "\n",
        "Quelle: [DWH Wiki - Boxplot](http://de.dwhwiki.info/charting/boxplot) "
      ]
    },
    {
      "cell_type": "code",
      "metadata": {
        "id": "EVbq9wYwY2zH",
        "colab_type": "code",
        "outputId": "a6b9dc1a-2949-491f-b273-a651d1172931",
        "colab": {
          "base_uri": "https://localhost:8080/",
          "height": 542
        }
      },
      "source": [
        "import pandas as pd\n",
        "import plotly.graph_objs as go\n",
        "\n",
        "datloc = 'https://raw.githubusercontent.com/Pierian-Data/Plotly-Dashboards-with-Dash/master/Data/mpg.csv'\n",
        "cars = pd.DataFrame(pd.read_csv(datloc))\n",
        "\n",
        "cars['horsepower'] = round(pd.to_numeric(cars['horsepower'],errors='coerce'))\n",
        "y1 = cars[cars['name'].str.contains('ford')]\n",
        "y2 = cars[cars['name'].str.contains('toyota')]\n",
        "y3 = cars[cars['name'].str.contains('chev')]\n",
        "\n",
        "data = [go.Box(y=y1['horsepower'],\n",
        "               name='Ford',\n",
        "               boxpoints='outliers', # Zeigt alle Datenpunkte oder nur Ausreisser\n",
        "               jitter=0.3, # Gibt die Dichte der Streuung der Datenpunkte an\n",
        "               pointpos=0 #Schiebt die Positon der Datenpunkte -2 ist ganz links\n",
        "               ),\n",
        "        go.Box(y=y2['horsepower'],\n",
        "               name='Toyota',\n",
        "               boxpoints='outliers', # Zeigt alle Datenpunkte oder nur Ausreisser\n",
        "               jitter=0.3, # Gibt die Dichte der Streuung der Datenpunkte an\n",
        "               pointpos=0 #Schiebt die Positon der Datenpunkte -2 ist ganz links\n",
        "               ),\n",
        "          go.Box(y=y3['horsepower'],\n",
        "               name='Chevrolet',\n",
        "               boxpoints='outliers', # Zeigt alle Datenpunkte oder nur Ausreisser\n",
        "               jitter=0.3, # Gibt die Dichte der Streuung der Datenpunkte an\n",
        "               pointpos=0 #Schiebt die Positon der Datenpunkte -2 ist ganz links\n",
        "               )]\n",
        "\n",
        "layout = go.Layout(\n",
        "          title='Boxplot - Auto Pferdestärken (PS)', \n",
        "          yaxis=dict(title='Pferdestärken'))\n",
        "\n",
        "fig = go.Figure(data=data, layout=layout)\n",
        "\n",
        "fig.show()\n"
      ],
      "execution_count": 1,
      "outputs": [
        {
          "output_type": "display_data",
          "data": {
            "text/html": [
              "<html>\n",
              "<head><meta charset=\"utf-8\" /></head>\n",
              "<body>\n",
              "    <div>\n",
              "            <script src=\"https://cdnjs.cloudflare.com/ajax/libs/mathjax/2.7.5/MathJax.js?config=TeX-AMS-MML_SVG\"></script><script type=\"text/javascript\">if (window.MathJax) {MathJax.Hub.Config({SVG: {font: \"STIX-Web\"}});}</script>\n",
              "                <script type=\"text/javascript\">window.PlotlyConfig = {MathJaxConfig: 'local'};</script>\n",
              "        <script src=\"https://cdn.plot.ly/plotly-latest.min.js\"></script>    \n",
              "            <div id=\"2892e1ca-7737-49b0-a359-ae1ae3bbeb3b\" class=\"plotly-graph-div\" style=\"height:525px; width:100%;\"></div>\n",
              "            <script type=\"text/javascript\">\n",
              "                \n",
              "                    window.PLOTLYENV=window.PLOTLYENV || {};\n",
              "                    \n",
              "                if (document.getElementById(\"2892e1ca-7737-49b0-a359-ae1ae3bbeb3b\")) {\n",
              "                    Plotly.newPlot(\n",
              "                        '2892e1ca-7737-49b0-a359-ae1ae3bbeb3b',\n",
              "                        [{\"boxpoints\": \"outliers\", \"jitter\": 0.3, \"name\": \"Ford\", \"pointpos\": 0, \"type\": \"box\", \"y\": [140.0, 198.0, 85.0, 215.0, null, 88.0, 153.0, 170.0, 88.0, 86.0, 153.0, 140.0, 86.0, 137.0, 158.0, 88.0, 167.0, 85.0, null, 80.0, 140.0, 140.0, 72.0, 148.0, 129.0, 83.0, 97.0, 152.0, 81.0, 78.0, 72.0, 130.0, 98.0, 149.0, 89.0, 66.0, 85.0, 88.0, 139.0, 88.0, 129.0, 142.0, 88.0, null, 65.0, 65.0, 88.0, 92.0, 112.0, 86.0, 79.0]}, {\"boxpoints\": \"outliers\", \"jitter\": 0.3, \"name\": \"Toyota\", \"pointpos\": 0, \"type\": \"box\", \"y\": [95.0, 95.0, 65.0, 95.0, 88.0, 88.0, 122.0, 65.0, 52.0, 75.0, 96.0, 75.0, 108.0, 75.0, 95.0, 95.0, 60.0, 90.0, 75.0, 58.0, 62.0, 75.0, 116.0, 70.0, 96.0]}, {\"boxpoints\": \"outliers\", \"jitter\": 0.3, \"name\": \"Chevrolet\", \"pointpos\": 0, \"type\": \"box\", \"y\": [130.0, 220.0, 150.0, 200.0, 90.0, 100.0, 165.0, 72.0, 90.0, 165.0, 130.0, 145.0, 150.0, 100.0, 150.0, 72.0, 145.0, 100.0, 75.0, 100.0, 105.0, 145.0, 105.0, 110.0, 140.0, 105.0, 52.0, 60.0, 145.0, 145.0, 110.0, 170.0, 63.0, 95.0, 145.0, 68.0, 130.0, 125.0, 115.0, 70.0, 90.0, 110.0, 88.0, 88.0, 88.0, 90.0, 82.0]}],\n",
              "                        {\"template\": {\"data\": {\"bar\": [{\"error_x\": {\"color\": \"#2a3f5f\"}, \"error_y\": {\"color\": \"#2a3f5f\"}, \"marker\": {\"line\": {\"color\": \"#E5ECF6\", \"width\": 0.5}}, \"type\": \"bar\"}], \"barpolar\": [{\"marker\": {\"line\": {\"color\": \"#E5ECF6\", \"width\": 0.5}}, \"type\": \"barpolar\"}], \"carpet\": [{\"aaxis\": {\"endlinecolor\": \"#2a3f5f\", \"gridcolor\": \"white\", \"linecolor\": \"white\", \"minorgridcolor\": \"white\", \"startlinecolor\": \"#2a3f5f\"}, \"baxis\": {\"endlinecolor\": \"#2a3f5f\", \"gridcolor\": \"white\", \"linecolor\": \"white\", \"minorgridcolor\": \"white\", \"startlinecolor\": \"#2a3f5f\"}, \"type\": \"carpet\"}], \"choropleth\": [{\"colorbar\": {\"outlinewidth\": 0, \"ticks\": \"\"}, \"type\": \"choropleth\"}], \"contour\": [{\"colorbar\": {\"outlinewidth\": 0, \"ticks\": \"\"}, \"colorscale\": [[0.0, \"#0d0887\"], [0.1111111111111111, \"#46039f\"], [0.2222222222222222, \"#7201a8\"], [0.3333333333333333, \"#9c179e\"], [0.4444444444444444, \"#bd3786\"], [0.5555555555555556, \"#d8576b\"], [0.6666666666666666, \"#ed7953\"], [0.7777777777777778, \"#fb9f3a\"], [0.8888888888888888, \"#fdca26\"], [1.0, \"#f0f921\"]], \"type\": \"contour\"}], \"contourcarpet\": [{\"colorbar\": {\"outlinewidth\": 0, \"ticks\": \"\"}, \"type\": \"contourcarpet\"}], \"heatmap\": [{\"colorbar\": {\"outlinewidth\": 0, \"ticks\": \"\"}, \"colorscale\": [[0.0, \"#0d0887\"], [0.1111111111111111, \"#46039f\"], [0.2222222222222222, \"#7201a8\"], [0.3333333333333333, \"#9c179e\"], [0.4444444444444444, \"#bd3786\"], [0.5555555555555556, \"#d8576b\"], [0.6666666666666666, \"#ed7953\"], [0.7777777777777778, \"#fb9f3a\"], [0.8888888888888888, \"#fdca26\"], [1.0, \"#f0f921\"]], \"type\": \"heatmap\"}], \"heatmapgl\": [{\"colorbar\": {\"outlinewidth\": 0, \"ticks\": \"\"}, \"colorscale\": [[0.0, \"#0d0887\"], [0.1111111111111111, \"#46039f\"], [0.2222222222222222, \"#7201a8\"], [0.3333333333333333, \"#9c179e\"], [0.4444444444444444, \"#bd3786\"], [0.5555555555555556, \"#d8576b\"], [0.6666666666666666, \"#ed7953\"], [0.7777777777777778, \"#fb9f3a\"], [0.8888888888888888, \"#fdca26\"], [1.0, \"#f0f921\"]], \"type\": \"heatmapgl\"}], \"histogram\": [{\"marker\": {\"colorbar\": {\"outlinewidth\": 0, \"ticks\": \"\"}}, \"type\": \"histogram\"}], \"histogram2d\": [{\"colorbar\": {\"outlinewidth\": 0, \"ticks\": \"\"}, \"colorscale\": [[0.0, \"#0d0887\"], [0.1111111111111111, \"#46039f\"], [0.2222222222222222, \"#7201a8\"], [0.3333333333333333, \"#9c179e\"], [0.4444444444444444, \"#bd3786\"], [0.5555555555555556, \"#d8576b\"], [0.6666666666666666, \"#ed7953\"], [0.7777777777777778, \"#fb9f3a\"], [0.8888888888888888, \"#fdca26\"], [1.0, \"#f0f921\"]], \"type\": \"histogram2d\"}], \"histogram2dcontour\": [{\"colorbar\": {\"outlinewidth\": 0, \"ticks\": \"\"}, \"colorscale\": [[0.0, \"#0d0887\"], [0.1111111111111111, \"#46039f\"], [0.2222222222222222, \"#7201a8\"], [0.3333333333333333, \"#9c179e\"], [0.4444444444444444, \"#bd3786\"], [0.5555555555555556, \"#d8576b\"], [0.6666666666666666, \"#ed7953\"], [0.7777777777777778, \"#fb9f3a\"], [0.8888888888888888, \"#fdca26\"], [1.0, \"#f0f921\"]], \"type\": \"histogram2dcontour\"}], \"mesh3d\": [{\"colorbar\": {\"outlinewidth\": 0, \"ticks\": \"\"}, \"type\": \"mesh3d\"}], \"parcoords\": [{\"line\": {\"colorbar\": {\"outlinewidth\": 0, \"ticks\": \"\"}}, \"type\": \"parcoords\"}], \"pie\": [{\"automargin\": true, \"type\": \"pie\"}], \"scatter\": [{\"marker\": {\"colorbar\": {\"outlinewidth\": 0, \"ticks\": \"\"}}, \"type\": \"scatter\"}], \"scatter3d\": [{\"line\": {\"colorbar\": {\"outlinewidth\": 0, \"ticks\": \"\"}}, \"marker\": {\"colorbar\": {\"outlinewidth\": 0, \"ticks\": \"\"}}, \"type\": \"scatter3d\"}], \"scattercarpet\": [{\"marker\": {\"colorbar\": {\"outlinewidth\": 0, \"ticks\": \"\"}}, \"type\": \"scattercarpet\"}], \"scattergeo\": [{\"marker\": {\"colorbar\": {\"outlinewidth\": 0, \"ticks\": \"\"}}, \"type\": \"scattergeo\"}], \"scattergl\": [{\"marker\": {\"colorbar\": {\"outlinewidth\": 0, \"ticks\": \"\"}}, \"type\": \"scattergl\"}], \"scattermapbox\": [{\"marker\": {\"colorbar\": {\"outlinewidth\": 0, \"ticks\": \"\"}}, \"type\": \"scattermapbox\"}], \"scatterpolar\": [{\"marker\": {\"colorbar\": {\"outlinewidth\": 0, \"ticks\": \"\"}}, \"type\": \"scatterpolar\"}], \"scatterpolargl\": [{\"marker\": {\"colorbar\": {\"outlinewidth\": 0, \"ticks\": \"\"}}, \"type\": \"scatterpolargl\"}], \"scatterternary\": [{\"marker\": {\"colorbar\": {\"outlinewidth\": 0, \"ticks\": \"\"}}, \"type\": \"scatterternary\"}], \"surface\": [{\"colorbar\": {\"outlinewidth\": 0, \"ticks\": \"\"}, \"colorscale\": [[0.0, \"#0d0887\"], [0.1111111111111111, \"#46039f\"], [0.2222222222222222, \"#7201a8\"], [0.3333333333333333, \"#9c179e\"], [0.4444444444444444, \"#bd3786\"], [0.5555555555555556, \"#d8576b\"], [0.6666666666666666, \"#ed7953\"], [0.7777777777777778, \"#fb9f3a\"], [0.8888888888888888, \"#fdca26\"], [1.0, \"#f0f921\"]], \"type\": \"surface\"}], \"table\": [{\"cells\": {\"fill\": {\"color\": \"#EBF0F8\"}, \"line\": {\"color\": \"white\"}}, \"header\": {\"fill\": {\"color\": \"#C8D4E3\"}, \"line\": {\"color\": \"white\"}}, \"type\": \"table\"}]}, \"layout\": {\"annotationdefaults\": {\"arrowcolor\": \"#2a3f5f\", \"arrowhead\": 0, \"arrowwidth\": 1}, \"coloraxis\": {\"colorbar\": {\"outlinewidth\": 0, \"ticks\": \"\"}}, \"colorscale\": {\"diverging\": [[0, \"#8e0152\"], [0.1, \"#c51b7d\"], [0.2, \"#de77ae\"], [0.3, \"#f1b6da\"], [0.4, \"#fde0ef\"], [0.5, \"#f7f7f7\"], [0.6, \"#e6f5d0\"], [0.7, \"#b8e186\"], [0.8, \"#7fbc41\"], [0.9, \"#4d9221\"], [1, \"#276419\"]], \"sequential\": [[0.0, \"#0d0887\"], [0.1111111111111111, \"#46039f\"], [0.2222222222222222, \"#7201a8\"], [0.3333333333333333, \"#9c179e\"], [0.4444444444444444, \"#bd3786\"], [0.5555555555555556, \"#d8576b\"], [0.6666666666666666, \"#ed7953\"], [0.7777777777777778, \"#fb9f3a\"], [0.8888888888888888, \"#fdca26\"], [1.0, \"#f0f921\"]], \"sequentialminus\": [[0.0, \"#0d0887\"], [0.1111111111111111, \"#46039f\"], [0.2222222222222222, \"#7201a8\"], [0.3333333333333333, \"#9c179e\"], [0.4444444444444444, \"#bd3786\"], [0.5555555555555556, \"#d8576b\"], [0.6666666666666666, \"#ed7953\"], [0.7777777777777778, \"#fb9f3a\"], [0.8888888888888888, \"#fdca26\"], [1.0, \"#f0f921\"]]}, \"colorway\": [\"#636efa\", \"#EF553B\", \"#00cc96\", \"#ab63fa\", \"#FFA15A\", \"#19d3f3\", \"#FF6692\", \"#B6E880\", \"#FF97FF\", \"#FECB52\"], \"font\": {\"color\": \"#2a3f5f\"}, \"geo\": {\"bgcolor\": \"white\", \"lakecolor\": \"white\", \"landcolor\": \"#E5ECF6\", \"showlakes\": true, \"showland\": true, \"subunitcolor\": \"white\"}, \"hoverlabel\": {\"align\": \"left\"}, \"hovermode\": \"closest\", \"mapbox\": {\"style\": \"light\"}, \"paper_bgcolor\": \"white\", \"plot_bgcolor\": \"#E5ECF6\", \"polar\": {\"angularaxis\": {\"gridcolor\": \"white\", \"linecolor\": \"white\", \"ticks\": \"\"}, \"bgcolor\": \"#E5ECF6\", \"radialaxis\": {\"gridcolor\": \"white\", \"linecolor\": \"white\", \"ticks\": \"\"}}, \"scene\": {\"xaxis\": {\"backgroundcolor\": \"#E5ECF6\", \"gridcolor\": \"white\", \"gridwidth\": 2, \"linecolor\": \"white\", \"showbackground\": true, \"ticks\": \"\", \"zerolinecolor\": \"white\"}, \"yaxis\": {\"backgroundcolor\": \"#E5ECF6\", \"gridcolor\": \"white\", \"gridwidth\": 2, \"linecolor\": \"white\", \"showbackground\": true, \"ticks\": \"\", \"zerolinecolor\": \"white\"}, \"zaxis\": {\"backgroundcolor\": \"#E5ECF6\", \"gridcolor\": \"white\", \"gridwidth\": 2, \"linecolor\": \"white\", \"showbackground\": true, \"ticks\": \"\", \"zerolinecolor\": \"white\"}}, \"shapedefaults\": {\"line\": {\"color\": \"#2a3f5f\"}}, \"ternary\": {\"aaxis\": {\"gridcolor\": \"white\", \"linecolor\": \"white\", \"ticks\": \"\"}, \"baxis\": {\"gridcolor\": \"white\", \"linecolor\": \"white\", \"ticks\": \"\"}, \"bgcolor\": \"#E5ECF6\", \"caxis\": {\"gridcolor\": \"white\", \"linecolor\": \"white\", \"ticks\": \"\"}}, \"title\": {\"x\": 0.05}, \"xaxis\": {\"automargin\": true, \"gridcolor\": \"white\", \"linecolor\": \"white\", \"ticks\": \"\", \"title\": {\"standoff\": 15}, \"zerolinecolor\": \"white\", \"zerolinewidth\": 2}, \"yaxis\": {\"automargin\": true, \"gridcolor\": \"white\", \"linecolor\": \"white\", \"ticks\": \"\", \"title\": {\"standoff\": 15}, \"zerolinecolor\": \"white\", \"zerolinewidth\": 2}}}, \"title\": {\"text\": \"Boxplot - Auto Pferdest\\u00e4rken (PS)\"}, \"yaxis\": {\"title\": {\"text\": \"Pferdest\\u00e4rken\"}}},\n",
              "                        {\"responsive\": true}\n",
              "                    ).then(function(){\n",
              "                            \n",
              "var gd = document.getElementById('2892e1ca-7737-49b0-a359-ae1ae3bbeb3b');\n",
              "var x = new MutationObserver(function (mutations, observer) {{\n",
              "        var display = window.getComputedStyle(gd).display;\n",
              "        if (!display || display === 'none') {{\n",
              "            console.log([gd, 'removed!']);\n",
              "            Plotly.purge(gd);\n",
              "            observer.disconnect();\n",
              "        }}\n",
              "}});\n",
              "\n",
              "// Listen for the removal of the full notebook cells\n",
              "var notebookContainer = gd.closest('#notebook-container');\n",
              "if (notebookContainer) {{\n",
              "    x.observe(notebookContainer, {childList: true});\n",
              "}}\n",
              "\n",
              "// Listen for the clearing of the current output cell\n",
              "var outputEl = gd.closest('.output');\n",
              "if (outputEl) {{\n",
              "    x.observe(outputEl, {childList: true});\n",
              "}}\n",
              "\n",
              "                        })\n",
              "                };\n",
              "                \n",
              "            </script>\n",
              "        </div>\n",
              "</body>\n",
              "</html>"
            ]
          },
          "metadata": {
            "tags": []
          }
        }
      ]
    },
    {
      "cell_type": "markdown",
      "metadata": {
        "id": "3JUcC2QIPnyL",
        "colab_type": "text"
      },
      "source": [
        "### Histogramm ###\n",
        "\n",
        "Das Histogramm ist eine Darstellungsform von absoluten oder relativen Häufigkeitsverteilungen kardinal skalierter, also quantitativer Merkmale. Trotz der Ähnlichkeit handelt es sich hierbei nicht um ein Säulendiagramm, denn für die Erstellung eines Histogramms müssen die Daten in Klassen unterteilt werden. So könnte man beispielsweise das Alter von Personen in 10-Jahres-Abstände klassifizieren (z.B. 0-9 Jahre, 10-19 Jahre, 20-29 Jahre etc.). Allerdings müssen die Klassen nicht zwingend gleich groß (konstante Klassen) sein, sondern können auch eine unterschiedliche Breite besitzen (variable Klassen). Die verschiedenen Klassen werden abschließend nebeneinander in Rechtecken dargestellt. Der Flächeninhalt dieser Rechtecke stellt die Klassenhäufigkeit dar, die Höhe gibt Auskunft über die Häufigkeitsdichte und die Breite entspricht der jeweiligen Klasse."
      ]
    },
    {
      "cell_type": "code",
      "metadata": {
        "id": "nVxMXDkpOdP7",
        "colab_type": "code",
        "colab": {
          "base_uri": "https://localhost:8080/",
          "height": 542
        },
        "outputId": "a930712a-b943-4736-861c-42ede9d0fafd"
      },
      "source": [
        "import pandas as pd\n",
        "import plotly.graph_objs as go\n",
        "\n",
        "datloc = 'https://raw.githubusercontent.com/Pierian-Data/Plotly-Dashboards-with-Dash/master/Data/mpg.csv'\n",
        "cars = pd.DataFrame(pd.read_csv(datloc))\n",
        "\n",
        "cars['horsepower'] = round(pd.to_numeric(cars['horsepower'],errors='coerce'))\n",
        "\n",
        "data = [go.Histogram(\n",
        "                    x=cars['mpg'], \n",
        "                    xbins=dict(start=0,end=50,size=2))]\n",
        "\n",
        "layout = go.Layout(\n",
        "                  title='Histogram',\n",
        "                  xaxis = dict(title='Miles pro Gallone'),\n",
        "                  yaxis = dict(title='Anzahl Autos'))\n",
        "\n",
        "fig = go.Figure(data=data,layout=layout)\n",
        "\n",
        "fig.show()"
      ],
      "execution_count": 16,
      "outputs": [
        {
          "output_type": "display_data",
          "data": {
            "text/html": [
              "<html>\n",
              "<head><meta charset=\"utf-8\" /></head>\n",
              "<body>\n",
              "    <div>\n",
              "            <script src=\"https://cdnjs.cloudflare.com/ajax/libs/mathjax/2.7.5/MathJax.js?config=TeX-AMS-MML_SVG\"></script><script type=\"text/javascript\">if (window.MathJax) {MathJax.Hub.Config({SVG: {font: \"STIX-Web\"}});}</script>\n",
              "                <script type=\"text/javascript\">window.PlotlyConfig = {MathJaxConfig: 'local'};</script>\n",
              "        <script src=\"https://cdn.plot.ly/plotly-latest.min.js\"></script>    \n",
              "            <div id=\"91327875-6373-405f-9419-ff9629025d9d\" class=\"plotly-graph-div\" style=\"height:525px; width:100%;\"></div>\n",
              "            <script type=\"text/javascript\">\n",
              "                \n",
              "                    window.PLOTLYENV=window.PLOTLYENV || {};\n",
              "                    \n",
              "                if (document.getElementById(\"91327875-6373-405f-9419-ff9629025d9d\")) {\n",
              "                    Plotly.newPlot(\n",
              "                        '91327875-6373-405f-9419-ff9629025d9d',\n",
              "                        [{\"type\": \"histogram\", \"x\": [18.0, 15.0, 18.0, 16.0, 17.0, 15.0, 14.0, 14.0, 14.0, 15.0, 15.0, 14.0, 15.0, 14.0, 24.0, 22.0, 18.0, 21.0, 27.0, 26.0, 25.0, 24.0, 25.0, 26.0, 21.0, 10.0, 10.0, 11.0, 9.0, 27.0, 28.0, 25.0, 25.0, 19.0, 16.0, 17.0, 19.0, 18.0, 14.0, 14.0, 14.0, 14.0, 12.0, 13.0, 13.0, 18.0, 22.0, 19.0, 18.0, 23.0, 28.0, 30.0, 30.0, 31.0, 35.0, 27.0, 26.0, 24.0, 25.0, 23.0, 20.0, 21.0, 13.0, 14.0, 15.0, 14.0, 17.0, 11.0, 13.0, 12.0, 13.0, 19.0, 15.0, 13.0, 13.0, 14.0, 18.0, 22.0, 21.0, 26.0, 22.0, 28.0, 23.0, 28.0, 27.0, 13.0, 14.0, 13.0, 14.0, 15.0, 12.0, 13.0, 13.0, 14.0, 13.0, 12.0, 13.0, 18.0, 16.0, 18.0, 18.0, 23.0, 26.0, 11.0, 12.0, 13.0, 12.0, 18.0, 20.0, 21.0, 22.0, 18.0, 19.0, 21.0, 26.0, 15.0, 16.0, 29.0, 24.0, 20.0, 19.0, 15.0, 24.0, 20.0, 11.0, 20.0, 21.0, 19.0, 15.0, 31.0, 26.0, 32.0, 25.0, 16.0, 16.0, 18.0, 16.0, 13.0, 14.0, 14.0, 14.0, 29.0, 26.0, 26.0, 31.0, 32.0, 28.0, 24.0, 26.0, 24.0, 26.0, 31.0, 19.0, 18.0, 15.0, 15.0, 16.0, 15.0, 16.0, 14.0, 17.0, 16.0, 15.0, 18.0, 21.0, 20.0, 13.0, 29.0, 23.0, 20.0, 23.0, 24.0, 25.0, 24.0, 18.0, 29.0, 19.0, 23.0, 23.0, 22.0, 25.0, 33.0, 28.0, 25.0, 25.0, 26.0, 27.0, 17.5, 16.0, 15.5, 14.5, 22.0, 22.0, 24.0, 22.5, 29.0, 24.5, 29.0, 33.0, 20.0, 18.0, 18.5, 17.5, 29.5, 32.0, 28.0, 26.5, 20.0, 13.0, 19.0, 19.0, 16.5, 16.5, 13.0, 13.0, 13.0, 31.5, 30.0, 36.0, 25.5, 33.5, 17.5, 17.0, 15.5, 15.0, 17.5, 20.5, 19.0, 18.5, 16.0, 15.5, 15.5, 16.0, 29.0, 24.5, 26.0, 25.5, 30.5, 33.5, 30.0, 30.5, 22.0, 21.5, 21.5, 43.1, 36.1, 32.8, 39.4, 36.1, 19.9, 19.4, 20.2, 19.2, 20.5, 20.2, 25.1, 20.5, 19.4, 20.6, 20.8, 18.6, 18.1, 19.2, 17.7, 18.1, 17.5, 30.0, 27.5, 27.2, 30.9, 21.1, 23.2, 23.8, 23.9, 20.3, 17.0, 21.6, 16.2, 31.5, 29.5, 21.5, 19.8, 22.3, 20.2, 20.6, 17.0, 17.6, 16.5, 18.2, 16.9, 15.5, 19.2, 18.5, 31.9, 34.1, 35.7, 27.4, 25.4, 23.0, 27.2, 23.9, 34.2, 34.5, 31.8, 37.3, 28.4, 28.8, 26.8, 33.5, 41.5, 38.1, 32.1, 37.2, 28.0, 26.4, 24.3, 19.1, 34.3, 29.8, 31.3, 37.0, 32.2, 46.6, 27.9, 40.8, 44.3, 43.4, 36.4, 30.0, 44.6, 40.9, 33.8, 29.8, 32.7, 23.7, 35.0, 23.6, 32.4, 27.2, 26.6, 25.8, 23.5, 30.0, 39.1, 39.0, 35.1, 32.3, 37.0, 37.7, 34.1, 34.7, 34.4, 29.9, 33.0, 34.5, 33.7, 32.4, 32.9, 31.6, 28.1, 30.7, 25.4, 24.2, 22.4, 26.6, 20.2, 17.6, 28.0, 27.0, 34.0, 31.0, 29.0, 27.0, 24.0, 23.0, 36.0, 37.0, 31.0, 38.0, 36.0, 36.0, 36.0, 34.0, 38.0, 32.0, 38.0, 25.0, 38.0, 26.0, 22.0, 32.0, 36.0, 27.0, 27.0, 44.0, 32.0, 28.0, 31.0], \"xbins\": {\"end\": 50, \"size\": 1, \"start\": 0}}],\n",
              "                        {\"template\": {\"data\": {\"bar\": [{\"error_x\": {\"color\": \"#2a3f5f\"}, \"error_y\": {\"color\": \"#2a3f5f\"}, \"marker\": {\"line\": {\"color\": \"#E5ECF6\", \"width\": 0.5}}, \"type\": \"bar\"}], \"barpolar\": [{\"marker\": {\"line\": {\"color\": \"#E5ECF6\", \"width\": 0.5}}, \"type\": \"barpolar\"}], \"carpet\": [{\"aaxis\": {\"endlinecolor\": \"#2a3f5f\", \"gridcolor\": \"white\", \"linecolor\": \"white\", \"minorgridcolor\": \"white\", \"startlinecolor\": \"#2a3f5f\"}, \"baxis\": {\"endlinecolor\": \"#2a3f5f\", \"gridcolor\": \"white\", \"linecolor\": \"white\", \"minorgridcolor\": \"white\", \"startlinecolor\": \"#2a3f5f\"}, \"type\": \"carpet\"}], \"choropleth\": [{\"colorbar\": {\"outlinewidth\": 0, \"ticks\": \"\"}, \"type\": \"choropleth\"}], \"contour\": [{\"colorbar\": {\"outlinewidth\": 0, \"ticks\": \"\"}, \"colorscale\": [[0.0, \"#0d0887\"], [0.1111111111111111, \"#46039f\"], [0.2222222222222222, \"#7201a8\"], [0.3333333333333333, \"#9c179e\"], [0.4444444444444444, \"#bd3786\"], [0.5555555555555556, \"#d8576b\"], [0.6666666666666666, \"#ed7953\"], [0.7777777777777778, \"#fb9f3a\"], [0.8888888888888888, \"#fdca26\"], [1.0, \"#f0f921\"]], \"type\": \"contour\"}], \"contourcarpet\": [{\"colorbar\": {\"outlinewidth\": 0, \"ticks\": \"\"}, \"type\": \"contourcarpet\"}], \"heatmap\": [{\"colorbar\": {\"outlinewidth\": 0, \"ticks\": \"\"}, \"colorscale\": [[0.0, \"#0d0887\"], [0.1111111111111111, \"#46039f\"], [0.2222222222222222, \"#7201a8\"], [0.3333333333333333, \"#9c179e\"], [0.4444444444444444, \"#bd3786\"], [0.5555555555555556, \"#d8576b\"], [0.6666666666666666, \"#ed7953\"], [0.7777777777777778, \"#fb9f3a\"], [0.8888888888888888, \"#fdca26\"], [1.0, \"#f0f921\"]], \"type\": \"heatmap\"}], \"heatmapgl\": [{\"colorbar\": {\"outlinewidth\": 0, \"ticks\": \"\"}, \"colorscale\": [[0.0, \"#0d0887\"], [0.1111111111111111, \"#46039f\"], [0.2222222222222222, \"#7201a8\"], [0.3333333333333333, \"#9c179e\"], [0.4444444444444444, \"#bd3786\"], [0.5555555555555556, \"#d8576b\"], [0.6666666666666666, \"#ed7953\"], [0.7777777777777778, \"#fb9f3a\"], [0.8888888888888888, \"#fdca26\"], [1.0, \"#f0f921\"]], \"type\": \"heatmapgl\"}], \"histogram\": [{\"marker\": {\"colorbar\": {\"outlinewidth\": 0, \"ticks\": \"\"}}, \"type\": \"histogram\"}], \"histogram2d\": [{\"colorbar\": {\"outlinewidth\": 0, \"ticks\": \"\"}, \"colorscale\": [[0.0, \"#0d0887\"], [0.1111111111111111, \"#46039f\"], [0.2222222222222222, \"#7201a8\"], [0.3333333333333333, \"#9c179e\"], [0.4444444444444444, \"#bd3786\"], [0.5555555555555556, \"#d8576b\"], [0.6666666666666666, \"#ed7953\"], [0.7777777777777778, \"#fb9f3a\"], [0.8888888888888888, \"#fdca26\"], [1.0, \"#f0f921\"]], \"type\": \"histogram2d\"}], \"histogram2dcontour\": [{\"colorbar\": {\"outlinewidth\": 0, \"ticks\": \"\"}, \"colorscale\": [[0.0, \"#0d0887\"], [0.1111111111111111, \"#46039f\"], [0.2222222222222222, \"#7201a8\"], [0.3333333333333333, \"#9c179e\"], [0.4444444444444444, \"#bd3786\"], [0.5555555555555556, \"#d8576b\"], [0.6666666666666666, \"#ed7953\"], [0.7777777777777778, \"#fb9f3a\"], [0.8888888888888888, \"#fdca26\"], [1.0, \"#f0f921\"]], \"type\": \"histogram2dcontour\"}], \"mesh3d\": [{\"colorbar\": {\"outlinewidth\": 0, \"ticks\": \"\"}, \"type\": \"mesh3d\"}], \"parcoords\": [{\"line\": {\"colorbar\": {\"outlinewidth\": 0, \"ticks\": \"\"}}, \"type\": \"parcoords\"}], \"pie\": [{\"automargin\": true, \"type\": \"pie\"}], \"scatter\": [{\"marker\": {\"colorbar\": {\"outlinewidth\": 0, \"ticks\": \"\"}}, \"type\": \"scatter\"}], \"scatter3d\": [{\"line\": {\"colorbar\": {\"outlinewidth\": 0, \"ticks\": \"\"}}, \"marker\": {\"colorbar\": {\"outlinewidth\": 0, \"ticks\": \"\"}}, \"type\": \"scatter3d\"}], \"scattercarpet\": [{\"marker\": {\"colorbar\": {\"outlinewidth\": 0, \"ticks\": \"\"}}, \"type\": \"scattercarpet\"}], \"scattergeo\": [{\"marker\": {\"colorbar\": {\"outlinewidth\": 0, \"ticks\": \"\"}}, \"type\": \"scattergeo\"}], \"scattergl\": [{\"marker\": {\"colorbar\": {\"outlinewidth\": 0, \"ticks\": \"\"}}, \"type\": \"scattergl\"}], \"scattermapbox\": [{\"marker\": {\"colorbar\": {\"outlinewidth\": 0, \"ticks\": \"\"}}, \"type\": \"scattermapbox\"}], \"scatterpolar\": [{\"marker\": {\"colorbar\": {\"outlinewidth\": 0, \"ticks\": \"\"}}, \"type\": \"scatterpolar\"}], \"scatterpolargl\": [{\"marker\": {\"colorbar\": {\"outlinewidth\": 0, \"ticks\": \"\"}}, \"type\": \"scatterpolargl\"}], \"scatterternary\": [{\"marker\": {\"colorbar\": {\"outlinewidth\": 0, \"ticks\": \"\"}}, \"type\": \"scatterternary\"}], \"surface\": [{\"colorbar\": {\"outlinewidth\": 0, \"ticks\": \"\"}, \"colorscale\": [[0.0, \"#0d0887\"], [0.1111111111111111, \"#46039f\"], [0.2222222222222222, \"#7201a8\"], [0.3333333333333333, \"#9c179e\"], [0.4444444444444444, \"#bd3786\"], [0.5555555555555556, \"#d8576b\"], [0.6666666666666666, \"#ed7953\"], [0.7777777777777778, \"#fb9f3a\"], [0.8888888888888888, \"#fdca26\"], [1.0, \"#f0f921\"]], \"type\": \"surface\"}], \"table\": [{\"cells\": {\"fill\": {\"color\": \"#EBF0F8\"}, \"line\": {\"color\": \"white\"}}, \"header\": {\"fill\": {\"color\": \"#C8D4E3\"}, \"line\": {\"color\": \"white\"}}, \"type\": \"table\"}]}, \"layout\": {\"annotationdefaults\": {\"arrowcolor\": \"#2a3f5f\", \"arrowhead\": 0, \"arrowwidth\": 1}, \"coloraxis\": {\"colorbar\": {\"outlinewidth\": 0, \"ticks\": \"\"}}, \"colorscale\": {\"diverging\": [[0, \"#8e0152\"], [0.1, \"#c51b7d\"], [0.2, \"#de77ae\"], [0.3, \"#f1b6da\"], [0.4, \"#fde0ef\"], [0.5, \"#f7f7f7\"], [0.6, \"#e6f5d0\"], [0.7, \"#b8e186\"], [0.8, \"#7fbc41\"], [0.9, \"#4d9221\"], [1, \"#276419\"]], \"sequential\": [[0.0, \"#0d0887\"], [0.1111111111111111, \"#46039f\"], [0.2222222222222222, \"#7201a8\"], [0.3333333333333333, \"#9c179e\"], [0.4444444444444444, \"#bd3786\"], [0.5555555555555556, \"#d8576b\"], [0.6666666666666666, \"#ed7953\"], [0.7777777777777778, \"#fb9f3a\"], [0.8888888888888888, \"#fdca26\"], [1.0, \"#f0f921\"]], \"sequentialminus\": [[0.0, \"#0d0887\"], [0.1111111111111111, \"#46039f\"], [0.2222222222222222, \"#7201a8\"], [0.3333333333333333, \"#9c179e\"], [0.4444444444444444, \"#bd3786\"], [0.5555555555555556, \"#d8576b\"], [0.6666666666666666, \"#ed7953\"], [0.7777777777777778, \"#fb9f3a\"], [0.8888888888888888, \"#fdca26\"], [1.0, \"#f0f921\"]]}, \"colorway\": [\"#636efa\", \"#EF553B\", \"#00cc96\", \"#ab63fa\", \"#FFA15A\", \"#19d3f3\", \"#FF6692\", \"#B6E880\", \"#FF97FF\", \"#FECB52\"], \"font\": {\"color\": \"#2a3f5f\"}, \"geo\": {\"bgcolor\": \"white\", \"lakecolor\": \"white\", \"landcolor\": \"#E5ECF6\", \"showlakes\": true, \"showland\": true, \"subunitcolor\": \"white\"}, \"hoverlabel\": {\"align\": \"left\"}, \"hovermode\": \"closest\", \"mapbox\": {\"style\": \"light\"}, \"paper_bgcolor\": \"white\", \"plot_bgcolor\": \"#E5ECF6\", \"polar\": {\"angularaxis\": {\"gridcolor\": \"white\", \"linecolor\": \"white\", \"ticks\": \"\"}, \"bgcolor\": \"#E5ECF6\", \"radialaxis\": {\"gridcolor\": \"white\", \"linecolor\": \"white\", \"ticks\": \"\"}}, \"scene\": {\"xaxis\": {\"backgroundcolor\": \"#E5ECF6\", \"gridcolor\": \"white\", \"gridwidth\": 2, \"linecolor\": \"white\", \"showbackground\": true, \"ticks\": \"\", \"zerolinecolor\": \"white\"}, \"yaxis\": {\"backgroundcolor\": \"#E5ECF6\", \"gridcolor\": \"white\", \"gridwidth\": 2, \"linecolor\": \"white\", \"showbackground\": true, \"ticks\": \"\", \"zerolinecolor\": \"white\"}, \"zaxis\": {\"backgroundcolor\": \"#E5ECF6\", \"gridcolor\": \"white\", \"gridwidth\": 2, \"linecolor\": \"white\", \"showbackground\": true, \"ticks\": \"\", \"zerolinecolor\": \"white\"}}, \"shapedefaults\": {\"line\": {\"color\": \"#2a3f5f\"}}, \"ternary\": {\"aaxis\": {\"gridcolor\": \"white\", \"linecolor\": \"white\", \"ticks\": \"\"}, \"baxis\": {\"gridcolor\": \"white\", \"linecolor\": \"white\", \"ticks\": \"\"}, \"bgcolor\": \"#E5ECF6\", \"caxis\": {\"gridcolor\": \"white\", \"linecolor\": \"white\", \"ticks\": \"\"}}, \"title\": {\"x\": 0.05}, \"xaxis\": {\"automargin\": true, \"gridcolor\": \"white\", \"linecolor\": \"white\", \"ticks\": \"\", \"title\": {\"standoff\": 15}, \"zerolinecolor\": \"white\", \"zerolinewidth\": 2}, \"yaxis\": {\"automargin\": true, \"gridcolor\": \"white\", \"linecolor\": \"white\", \"ticks\": \"\", \"title\": {\"standoff\": 15}, \"zerolinecolor\": \"white\", \"zerolinewidth\": 2}}}, \"title\": {\"text\": \"Histogram\"}, \"xaxis\": {\"title\": {\"text\": \"Miles pro Gallone\"}}, \"yaxis\": {\"title\": {\"text\": \"Anzahl Autos\"}}},\n",
              "                        {\"responsive\": true}\n",
              "                    ).then(function(){\n",
              "                            \n",
              "var gd = document.getElementById('91327875-6373-405f-9419-ff9629025d9d');\n",
              "var x = new MutationObserver(function (mutations, observer) {{\n",
              "        var display = window.getComputedStyle(gd).display;\n",
              "        if (!display || display === 'none') {{\n",
              "            console.log([gd, 'removed!']);\n",
              "            Plotly.purge(gd);\n",
              "            observer.disconnect();\n",
              "        }}\n",
              "}});\n",
              "\n",
              "// Listen for the removal of the full notebook cells\n",
              "var notebookContainer = gd.closest('#notebook-container');\n",
              "if (notebookContainer) {{\n",
              "    x.observe(notebookContainer, {childList: true});\n",
              "}}\n",
              "\n",
              "// Listen for the clearing of the current output cell\n",
              "var outputEl = gd.closest('.output');\n",
              "if (outputEl) {{\n",
              "    x.observe(outputEl, {childList: true});\n",
              "}}\n",
              "\n",
              "                        })\n",
              "                };\n",
              "                \n",
              "            </script>\n",
              "        </div>\n",
              "</body>\n",
              "</html>"
            ]
          },
          "metadata": {
            "tags": []
          }
        }
      ]
    },
    {
      "cell_type": "markdown",
      "metadata": {
        "id": "iPzII6qpTrgm",
        "colab_type": "text"
      },
      "source": [
        "### Distribution Plots (Distplot) ###\n",
        "\n",
        "Mit einem Verteilungsdiagramm (engl. Distribution Plot) kann mann beispielsweise folgende Fragen beantworten:\n",
        "\n",
        "Fliegen kann in den USA ein frustrierendes und langes Unterfangen sein, insbesondere in den Ferien und in der Hurrikansaison, wenn die Flüge Stunden, manchmal Tage verspätet sind. \n",
        "* Als Verbraucher sind wir uns dieser Trends im Allgemeinen bewusst, aber was ist mit den alltäglichen Trends von Verspätungen bei Flugreisen? \n",
        "* Welche Fluggesellschaften bringen Sie besser pünktlich dorthin und von welchen Flughäfen aus fliegen Sie am schlechtesten ab?\n",
        "\n",
        "Eine der besten Möglichkeiten, Fragen wie diese zu beantworten, besteht darin, die Verteilungen der relevanten Variablen zu betrachten. Sie können sich die Verteilung eines Datensatzes oder einer Variablen als eine Liste möglicher Werte und als Hinweis darauf vorstellen, wie häufig jeder Wert auftritt. "
      ]
    },
    {
      "cell_type": "code",
      "metadata": {
        "id": "zmN5dNQWXi-X",
        "colab_type": "code",
        "colab": {
          "base_uri": "https://localhost:8080/",
          "height": 542
        },
        "outputId": "609d76c0-153e-44bf-e1a9-d17b1e42e0b7"
      },
      "source": [
        "import pandas as pd\n",
        "\n",
        "# Um einen etwas komplexeren Plot darzustellen, importieren wir eine andere Library als normal. \n",
        "import plotly.figure_factory as ff \n",
        "\n",
        "datloc = 'https://raw.githubusercontent.com/Pierian-Data/Plotly-Dashboards-with-Dash/master/Data/mpg.csv'\n",
        "cars = pd.DataFrame(pd.read_csv(datloc))\n",
        "\n",
        "x1 = cars[cars['name'].str.contains('ford')].mpg\n",
        "x2 = cars[cars['name'].str.contains('chev')].mpg\n",
        "x3 = cars[cars['name'].str.contains('dodg')].mpg\n",
        "\n",
        "\n",
        "hist_data = [x1,x2,x3]\n",
        "group_labels = ['Ford', 'Chevrolet','Dodge']\n",
        "\n",
        "fig = ff.create_distplot(hist_data,group_labels,bin_size=[2,1,3])\n",
        "fig.show()\n",
        "\n",
        "\n",
        "\n",
        "\n",
        "\n",
        "\n"
      ],
      "execution_count": 29,
      "outputs": [
        {
          "output_type": "display_data",
          "data": {
            "text/html": [
              "<html>\n",
              "<head><meta charset=\"utf-8\" /></head>\n",
              "<body>\n",
              "    <div>\n",
              "            <script src=\"https://cdnjs.cloudflare.com/ajax/libs/mathjax/2.7.5/MathJax.js?config=TeX-AMS-MML_SVG\"></script><script type=\"text/javascript\">if (window.MathJax) {MathJax.Hub.Config({SVG: {font: \"STIX-Web\"}});}</script>\n",
              "                <script type=\"text/javascript\">window.PlotlyConfig = {MathJaxConfig: 'local'};</script>\n",
              "        <script src=\"https://cdn.plot.ly/plotly-latest.min.js\"></script>    \n",
              "            <div id=\"75d363ca-c8ae-4b3e-8681-fabc5b430c12\" class=\"plotly-graph-div\" style=\"height:525px; width:100%;\"></div>\n",
              "            <script type=\"text/javascript\">\n",
              "                \n",
              "                    window.PLOTLYENV=window.PLOTLYENV || {};\n",
              "                    \n",
              "                if (document.getElementById(\"75d363ca-c8ae-4b3e-8681-fabc5b430c12\")) {\n",
              "                    Plotly.newPlot(\n",
              "                        '75d363ca-c8ae-4b3e-8681-fabc5b430c12',\n",
              "                        [{\"autobinx\": false, \"histnorm\": \"probability density\", \"legendgroup\": \"Ford\", \"marker\": {\"color\": \"rgb(31, 119, 180)\"}, \"name\": \"Ford\", \"opacity\": 0.7, \"type\": \"histogram\", \"x\": [17.0, 15.0, 21.0, 10.0, 25.0, 19.0, 14.0, 13.0, 18.0, 21.0, 14.0, 13.0, 22.0, 14.0, 13.0, 18.0, 12.0, 19.0, 21.0, 26.0, 16.0, 14.0, 15.0, 14.0, 13.0, 23.0, 18.0, 14.5, 24.0, 18.0, 26.5, 13.0, 18.5, 16.0, 25.5, 36.1, 20.2, 25.1, 18.1, 22.3, 17.6, 15.5, 26.4, 23.6, 34.4, 29.9, 20.2, 24.0, 22.0, 27.0, 28.0], \"xaxis\": \"x\", \"xbins\": {\"end\": 36.1, \"size\": 2, \"start\": 10.0}, \"yaxis\": \"y\"}, {\"autobinx\": false, \"histnorm\": \"probability density\", \"legendgroup\": \"Chevrolet\", \"marker\": {\"color\": \"rgb(255, 127, 14)\"}, \"name\": \"Chevrolet\", \"opacity\": 0.7, \"type\": \"histogram\", \"x\": [18.0, 14.0, 15.0, 10.0, 28.0, 17.0, 14.0, 22.0, 20.0, 13.0, 13.0, 13.0, 13.0, 16.0, 11.0, 21.0, 15.0, 15.0, 25.0, 16.0, 18.0, 15.0, 16.0, 20.0, 17.5, 22.0, 29.0, 24.5, 13.0, 17.5, 17.5, 15.5, 30.5, 20.5, 19.2, 30.0, 17.0, 19.2, 28.8, 32.1, 28.0, 23.5, 28.0, 27.0, 34.0, 27.0, 31.0], \"xaxis\": \"x\", \"xbins\": {\"end\": 34.0, \"size\": 1, \"start\": 10.0}, \"yaxis\": \"y\"}, {\"autobinx\": false, \"histnorm\": \"probability density\", \"legendgroup\": \"Dodge\", \"marker\": {\"color\": \"rgb(44, 160, 44)\"}, \"name\": \"Dodge\", \"opacity\": 0.7, \"type\": \"histogram\", \"x\": [15.0, 11.0, 12.0, 25.0, 28.0, 15.0, 15.0, 14.0, 28.0, 26.0, 16.0, 20.0, 13.0, 15.5, 33.5, 19.4, 18.6, 17.5, 30.9, 20.6, 18.2, 35.7, 19.1, 27.9, 25.8, 29.0, 36.0, 32.0], \"xaxis\": \"x\", \"xbins\": {\"end\": 36.0, \"size\": 3, \"start\": 11.0}, \"yaxis\": \"y\"}, {\"legendgroup\": \"Ford\", \"marker\": {\"color\": \"rgb(31, 119, 180)\"}, \"mode\": \"lines\", \"name\": \"Ford\", \"showlegend\": false, \"type\": \"scatter\", \"x\": [10.0, 10.0522, 10.1044, 10.1566, 10.2088, 10.261, 10.3132, 10.3654, 10.4176, 10.4698, 10.522, 10.5742, 10.6264, 10.6786, 10.7308, 10.783, 10.8352, 10.8874, 10.9396, 10.9918, 11.044, 11.0962, 11.1484, 11.2006, 11.2528, 11.305, 11.3572, 11.4094, 11.4616, 11.5138, 11.566, 11.6182, 11.6704, 11.7226, 11.7748, 11.827, 11.8792, 11.9314, 11.9836, 12.0358, 12.088000000000001, 12.1402, 12.1924, 12.2446, 12.296800000000001, 12.349, 12.4012, 12.4534, 12.505600000000001, 12.5578, 12.61, 12.6622, 12.7144, 12.7666, 12.8188, 12.871, 12.923200000000001, 12.9754, 13.0276, 13.0798, 13.132, 13.1842, 13.2364, 13.2886, 13.3408, 13.393, 13.4452, 13.4974, 13.5496, 13.6018, 13.654, 13.7062, 13.7584, 13.8106, 13.8628, 13.915, 13.9672, 14.019400000000001, 14.0716, 14.1238, 14.176, 14.228200000000001, 14.2804, 14.3326, 14.3848, 14.437000000000001, 14.4892, 14.5414, 14.5936, 14.645800000000001, 14.698, 14.7502, 14.8024, 14.854600000000001, 14.9068, 14.959, 15.0112, 15.063400000000001, 15.1156, 15.1678, 15.219999999999999, 15.272200000000002, 15.3244, 15.3766, 15.428799999999999, 15.481, 15.5332, 15.5854, 15.637599999999999, 15.6898, 15.742, 15.7942, 15.846400000000001, 15.8986, 15.950800000000001, 16.003, 16.0552, 16.1074, 16.1596, 16.2118, 16.264, 16.316200000000002, 16.3684, 16.4206, 16.4728, 16.525, 16.5772, 16.6294, 16.6816, 16.733800000000002, 16.786, 16.8382, 16.8904, 16.9426, 16.9948, 17.047, 17.0992, 17.151400000000002, 17.2036, 17.2558, 17.308, 17.3602, 17.4124, 17.4646, 17.5168, 17.569, 17.6212, 17.6734, 17.7256, 17.7778, 17.83, 17.8822, 17.9344, 17.9866, 18.038800000000002, 18.091, 18.1432, 18.1954, 18.2476, 18.2998, 18.352, 18.404200000000003, 18.456400000000002, 18.5086, 18.5608, 18.613, 18.6652, 18.717399999999998, 18.7696, 18.821800000000003, 18.874000000000002, 18.9262, 18.9784, 19.0306, 19.0828, 19.134999999999998, 19.1872, 19.2394, 19.291600000000003, 19.3438, 19.396, 19.4482, 19.5004, 19.552599999999998, 19.6048, 19.657, 19.709200000000003, 19.761400000000002, 19.8136, 19.8658, 19.918, 19.9702, 20.0224, 20.0746, 20.126800000000003, 20.179000000000002, 20.2312, 20.2834, 20.3356, 20.3878, 20.439999999999998, 20.4922, 20.544400000000003, 20.596600000000002, 20.6488, 20.701, 20.7532, 20.805400000000002, 20.857599999999998, 20.9098, 20.962, 21.014200000000002, 21.0664, 21.1186, 21.1708, 21.223, 21.275199999999998, 21.3274, 21.3796, 21.431800000000003, 21.484, 21.5362, 21.5884, 21.6406, 21.692800000000002, 21.744999999999997, 21.7972, 21.849400000000003, 21.901600000000002, 21.9538, 22.006, 22.0582, 22.110400000000002, 22.1626, 22.2148, 22.267, 22.319200000000002, 22.3714, 22.4236, 22.4758, 22.528, 22.5802, 22.632400000000004, 22.6846, 22.736800000000002, 22.789, 22.8412, 22.8934, 22.9456, 22.9978, 23.05, 23.1022, 23.154400000000003, 23.2066, 23.2588, 23.311, 23.3632, 23.4154, 23.4676, 23.519800000000004, 23.572, 23.624200000000002, 23.6764, 23.7286, 23.7808, 23.833, 23.8852, 23.937400000000004, 23.989600000000003, 24.041800000000002, 24.094, 24.1462, 24.1984, 24.2506, 24.3028, 24.355, 24.407200000000003, 24.459400000000002, 24.5116, 24.5638, 24.616, 24.6682, 24.7204, 24.7726, 24.824800000000003, 24.877000000000002, 24.9292, 24.9814, 25.0336, 25.0858, 25.137999999999998, 25.1902, 25.242400000000004, 25.294600000000003, 25.3468, 25.399, 25.4512, 25.5034, 25.5556, 25.6078, 25.66, 25.712200000000003, 25.764400000000002, 25.8166, 25.8688, 25.921, 25.9732, 26.0254, 26.0776, 26.1298, 26.182, 26.2342, 26.2864, 26.3386, 26.3908, 26.443, 26.4952, 26.547400000000003, 26.599600000000002, 26.651799999999998, 26.704, 26.7562, 26.808400000000002, 26.8606, 26.9128, 26.965, 27.0172, 27.0694, 27.1216, 27.1738, 27.226, 27.278200000000002, 27.3304, 27.382600000000004, 27.4348, 27.487, 27.5392, 27.5914, 27.643600000000003, 27.6958, 27.748, 27.8002, 27.852400000000003, 27.904600000000002, 27.956799999999998, 28.009, 28.0612, 28.113400000000002, 28.1656, 28.2178, 28.27, 28.322200000000002, 28.3744, 28.4266, 28.4788, 28.531, 28.5832, 28.6354, 28.687600000000003, 28.7398, 28.792, 28.8442, 28.8964, 28.948600000000003, 29.000799999999998, 29.053, 29.1052, 29.157400000000003, 29.209600000000002, 29.2618, 29.314, 29.3662, 29.418400000000002, 29.4706, 29.5228, 29.575, 29.627200000000002, 29.6794, 29.731600000000004, 29.7838, 29.836, 29.8882, 29.9404, 29.992600000000003, 30.044800000000002, 30.097, 30.1492, 30.201400000000003, 30.253600000000002, 30.3058, 30.358, 30.4102, 30.462400000000002, 30.5146, 30.566800000000004, 30.619, 30.671200000000002, 30.7234, 30.7756, 30.827800000000003, 30.88, 30.9322, 30.9844, 31.036600000000004, 31.088800000000003, 31.141, 31.1932, 31.2454, 31.297600000000003, 31.349800000000002, 31.402, 31.4542, 31.506400000000003, 31.558600000000002, 31.610800000000005, 31.663, 31.7152, 31.767400000000002, 31.8196, 31.871800000000004, 31.924, 31.976200000000002, 32.028400000000005, 32.080600000000004, 32.1328, 32.185, 32.2372, 32.2894, 32.3416, 32.3938, 32.446, 32.4982, 32.550399999999996, 32.6026, 32.6548, 32.707, 32.7592, 32.811400000000006, 32.863600000000005, 32.915800000000004, 32.968, 33.0202, 33.0724, 33.1246, 33.1768, 33.229, 33.2812, 33.3334, 33.385600000000004, 33.4378, 33.489999999999995, 33.5422, 33.5944, 33.64660000000001, 33.698800000000006, 33.751000000000005, 33.803200000000004, 33.8554, 33.9076, 33.9598, 34.012, 34.0642, 34.1164, 34.1686, 34.220800000000004, 34.272999999999996, 34.3252, 34.3774, 34.4296, 34.48180000000001, 34.534, 34.586200000000005, 34.638400000000004, 34.6906, 34.7428, 34.795, 34.8472, 34.8994, 34.9516, 35.0038, 35.056, 35.1082, 35.1604, 35.2126, 35.26480000000001, 35.317, 35.3692, 35.421400000000006, 35.473600000000005, 35.525800000000004, 35.578, 35.6302, 35.6824, 35.7346, 35.7868, 35.839, 35.8912, 35.9434, 35.9956, 36.0478], \"xaxis\": \"x\", \"y\": [0.02054082250021449, 0.021003208989459187, 0.021470761502812432, 0.021943358880355292, 0.022420873579148716, 0.022903171704397384, 0.02339011305213842, 0.023881551163636692, 0.024377333391643254, 0.024877300978644764, 0.025381289147204063, 0.025889127202461403, 0.026400638646836137, 0.02691564130693596, 0.027433947472649767, 0.027955364048366054, 0.02847969271622612, 0.029006730111286377, 0.029536268008430625, 0.030068093520837672, 0.03060198930977532, 0.0311377338054566, 0.03167510143865998, 0.032213862882780026, 0.03275378530594162, 0.03329463263277653, 0.03383616581542889, 0.03437814311332301, 0.034920320381196565, 0.03546245136487075, 0.03600428800420078, 0.036545580742621056, 0.03708607884267419, 0.037625530706885985, 0.038163684203327046, 0.038700286995177975, 0.0392350868735972, 0.03976783209317008, 0.04029827170920426, 0.04082615591612051, 0.04135123638617745, 0.041873266607759446, 0.04239200222244826, 0.042907201360096445, 0.0434186249711162, 0.0439260371551984, 0.04442920548567968, 0.04492790132877939, 0.045421900156936194, 0.045910981855485845, 0.04639493102193193, 0.04687353725707832, 0.04734659544730895, 0.047813906037321954, 0.0482752752926451, 0.0487305155512875, 0.04917944546390734, 0.049621890221905336, 0.050057681772885554, 0.05048665902295766, 0.05090866802539053, 0.05132356215516412, 0.05173120226900463, 0.05213145685052901, 0.052524202140165746, 0.052909322249562026, 0.05328670926023072, 0.053656263306237, 0.05401789264076751, 0.05437151368647386, 0.05471705106952701, 0.05505443763736713, 0.05538361446017972, 0.055704530816177364, 0.056017144160810585, 0.05632142008008097, 0.05661733222817244, 0.056904862249663964, 0.057183999686629114, 0.05745474187097317, 0.05771709380239778, 0.05797106801242607, 0.058216684414957795, 0.05845397014386305, 0.05868295937815752, 0.05890369315533568, 0.05911621917347017, 0.059320591582714466, 0.059516870766872794, 0.059705123115726025, 0.059885420788823675, 0.0600578414714729, 0.06022246812367043, 0.06037938872273965, 0.0605286960004446, 0.060670487175363025, 0.06080486368130587, 0.06093193089257362, 0.06105179784684146, 0.061164576966461354, 0.061270383778966556, 0.061369336637552924, 0.0614615564423056, 0.061547166362922394, 0.06162629156367241, 0.06169905893131081, 0.061765596806648025, 0.06182603472045253, 0.06188050313433919, 0.061929133187269815, 0.061972056448263826, 0.06200940467588703, 0.062041309585053425, 0.06206790262164325, 0.062089314745404085, 0.06210567622156716, 0.062117116421573096, 0.0621237636332635, 0.06212574488085708, 0.062123185754988035, 0.06211621025304659, 0.06210494063002039, 0.06208949725999602, 0.06206999850843987, 0.06204656061533795, 0.06201929758923431, 0.061988321112170494, 0.06195374045548809, 0.06191566240642088, 0.061874191205366316, 0.061829428493690164, 0.06178147327188497, 0.0617304218678692, 0.061676367915184056, 0.061619402340813624, 0.06155961336232664, 0.06149708649401261, 0.06143190456165768, 0.061364147725586356, 0.061293893511571766, 0.06122121684919839, 0.061146190117246736, 0.06106888319565062, 0.06098936352356846, 0.060907696163097415, 0.06082394386815066, 0.06073816715801168, 0.060650424395075564, 0.06056077186628277, 0.06046926386775255, 0.06037595279212335, 0.06028088921811006, 0.06018412200179536, 0.06008569836917638, 0.05998566400949903, 0.05988406316892086, 0.059780938744055795, 0.059676332374967125, 0.05957028453719004, 0.05946283463237975, 0.05935402107720039, 0.0592438813900852, 0.05913245227552053, 0.059019769705523854, 0.05890586899800767, 0.05879078489174332, 0.05867455161765888, 0.05855720296622966, 0.05843877235074071, 0.05831929286622593, 0.05819879734390897, 0.05807731840099653, 0.05795488848569642, 0.0578315399173564, 0.05770730492164174, 0.05758221566069325, 0.05745630425822795, 0.057329602819567144, 0.05720214344659744, 0.057073958247690064, 0.05694507934262437, 0.05681553886257964, 0.05668536894527776, 0.056554601725376734, 0.05642326932023113, 0.05629140381115159, 0.05615903722030925, 0.05602620148344601, 0.05589292841856232, 0.05575924969076785, 0.055625196773489406, 0.05549080090624108, 0.05535609304916989, 0.05522110383459839, 0.05508586351579107, 0.05495040191317909, 0.05481474835828075, 0.05467893163556014, 0.05454297992246892, 0.054406920727918265, 0.05427078082942915, 0.054134586209210175, 0.05399836198941037, 0.053862132366795226, 0.05372592054709048, 0.05358974867923746, 0.05345363778979897, 0.05331760771775274, 0.05318167704990391, 0.05304586305714386, 0.05291018163177776, 0.05277464722613708, 0.052639272792687576, 0.052504069725837106, 0.05236904780564058, 0.05223421514359271, 0.052099578130692395, 0.05196514138795404, 0.05183090771953513, 0.05169687806864019, 0.051563051476354885, 0.0514294250435542, 0.051295993896022865, 0.051162751152915936, 0.05102968789868094, 0.050896793158553756, 0.05076405387773274, 0.05063145490432744, 0.05049897897616939, 0.050366606711565357, 0.050234316604064015, 0.05010208502130023, 0.04996988620797125, 0.049837692292993147, 0.04970547330087565, 0.04957319716734683, 0.049440829759250994, 0.049308334898733854, 0.049175674391723156, 0.04904280806070274, 0.04890969378177198, 0.04877628752597314, 0.04864254340486227, 0.04850841372029086, 0.048373849018357326, 0.04823879814748043, 0.04810320832053779, 0.04796702518100528, 0.04783019287302531, 0.047692654115323925, 0.04755435027888899, 0.047415221468313215, 0.047275206606699836, 0.04713424352401848, 0.046992269048793174, 0.04684921910299561, 0.046705028800010186, 0.04655963254552848, 0.04641296414122521, 0.04626495689105915, 0.046115543710035616, 0.04596465723526104, 0.045812229939112395, 0.045658194244337924, 0.04550248264089989, 0.04534502780436298, 0.04518576271562719, 0.045024620781797996, 0.044861535957981175, 0.04469644286978525, 0.04452927693631004, 0.044359974493395675, 0.04418847291690205, 0.044014710745786896, 0.04383862780474657, 0.04366016532618241, 0.04347926607125257, 0.0432958744497698, 0.04310993663870315, 0.04292140069904235, 0.042730216690784806, 0.04253633678580439, 0.04233971537836525, 0.04214030919304378, 0.04193807738982728, 0.041732981666158964, 0.04152498635570583, 0.04131405852362815, 0.04110016805813706, 0.040883287758131596, 0.04066339341671366, 0.04044046390038685, 0.040214481223753054, 0.03998543061952922, 0.03975330060371601, 0.03951808303575943, 0.03927977317355728, 0.03903836972317257, 0.03879387488312703, 0.03854629438316041, 0.03829563751735236, 0.03804191717151613, 0.03778514984478717, 0.037525355665341126, 0.037262558400190424, 0.036996785459021374, 0.03672806789204748, 0.0364564403818689, 0.03618194122934118, 0.035904612333470844, 0.03562449916536935, 0.03534165073630995, 0.03505611955994713, 0.03476796160877015, 0.03447723626487746, 0.034184006265169986, 0.0338883376410759, 0.03359029965293014, 0.03328996471914616, 0.032987408340326825, 0.03268270901847443, 0.03237594817146979, 0.03206721004299986, 0.03175658160812466, 0.03144415247468127, 0.031130014780733004, 0.030814263088277723, 0.030496994273437893, 0.030178307413360354, 0.029858303670059403, 0.02953708617144249, 0.0292147598897609, 0.028891431517731977, 0.028567209342581338, 0.02824220311825642, 0.02791652393606229, 0.027590284093972954, 0.027263596964868495, 0.02693657686394999, 0.02660933891557965, 0.02628199891979282, 0.02595467321872491, 0.02562747856319099, 0.025300531979653457, 0.024973950637805695, 0.0246478517189955, 0.024322352285705125, 0.02399756915229706, 0.02367361875722906, 0.023350617036932253, 0.023028679301539474, 0.022707920112641097, 0.022388453163237742, 0.022070391160049167, 0.021753845708329875, 0.02143892719933184, 0.021125744700545047, 0.020814405848836936, 0.020505016746600983, 0.02019768186101593, 0.019892503926505444, 0.019589583850480177, 0.01928902062243172, 0.018990911226440886, 0.018695350557150818, 0.018402431339247946, 0.018112244050483502, 0.017824876848259633, 0.01754041549979648, 0.017258943315886822, 0.016980541088238783, 0.016705287030398128, 0.016433256722235643, 0.016164523057977928, 0.015899156197753676, 0.01563722352262234, 0.015378789593046165, 0.01512391611076177, 0.014872661884003935, 0.01462508279602901, 0.014381231776883437, 0.01414115877835878, 0.013904910752073051, 0.013672531630615407, 0.01344406231169068, 0.013219540645198011, 0.012999001423178317, 0.012782476372564175, 0.012569994150666482, 0.012361580343332212, 0.012157257465709012, 0.011957044965553297, 0.011760959229019645, 0.011569013588871958, 0.011381218335057732, 0.011197580727590155, 0.011018105011683963, 0.010842792435094919, 0.01067164126761401, 0.010504646822671571, 0.010341801481008609, 0.010183094716375575, 0.010028513123222458, 0.009878040446345748, 0.00973165761246195, 0.009589342763679093, 0.009451071292841024, 0.009316815880721488, 0.009186546535047298, 0.00906023063133258, 0.008937832955507381, 0.008819315748326503, 0.008704638751545287, 0.008593759255850889, 0.008486632150538213, 0.00838320997492088, 0.008283442971467459, 0.00818727914065413, 0.008094664297523944, 0.008005542129943031, 0.007919854258543147, 0.00783754029833854, 0.0077585379220043455, 0.007682782924801296, 0.007610209291129994, 0.007540749262695517, 0.007474333408260446, 0.007410890694961621, 0.007350348561162653, 0.007292632990811004, 0.007237668589264513, 0.007185378660548741, 0.007135685286002136, 0.007088509404262009, 0.007043770892539799, 0.007001388649129665, 0.006961280677089756, 0.006923364169030917, 0.006887555592942655, 0.006853770778981532, 0.0068219250071422976, 0.00679193309572733, 0.00676370949052511, 0.006737168354603941, 0.006712223658622473, 0.00668878927155414, 0.006666779051718429, 0.006646106938007676, 0.006626687041194297, 0.006608433735199564, 0.006591261748201676, 0.006575086253457749, 0.0065598229597113285, 0.0065453882010546634, 0.0065316990261125845, 0.0065186732864130036, 0.006506229723807536, 0.006494288056804633, 0.00648276906567663, 0.006471594676202123, 0.006460688041904696, 0.00644997362464982, 0.006439377273462399, 0.006428826301428797, 0.006418249560548927, 0.006407577514406048, 0.006396742308524505, 0.00638567783828867, 0.006374319814299647, 0.006362605825050158, 0.006350475396802238, 0.006337870050556862, 0.006324733356009709, 0.00631101098239245, 0.006296650746104759, 0.006281602655048094, 0.006265818949578747, 0.0062492541400041195, 0.006231865040553198, 0.006213610799759251, 0.006194452927200085, 0.006174355316548932, 0.006153284264896548, 0.006131208488313269, 0.006108099133627536, 0.0060839297864058684, 0.006058676475127091, 0.00603231767155236, 0.006004834287300444, 0.005976209666646228, 0.005946429575568718, 0.005915482187082922, 0.005883358062898275, 0.005850050131454228, 0.005815553662391612, 0.005779866237526121, 0.00574298771839787, 0.005704920210478333, 0.005665668024123191, 0.005625237632366525], \"yaxis\": \"y\"}, {\"legendgroup\": \"Chevrolet\", \"marker\": {\"color\": \"rgb(255, 127, 14)\"}, \"mode\": \"lines\", \"name\": \"Chevrolet\", \"showlegend\": false, \"type\": \"scatter\", \"x\": [10.0, 10.048, 10.096, 10.144, 10.192, 10.24, 10.288, 10.336, 10.384, 10.432, 10.48, 10.528, 10.576, 10.624, 10.672, 10.72, 10.768, 10.816, 10.864, 10.912, 10.96, 11.008, 11.056000000000001, 11.104, 11.152, 11.2, 11.248, 11.296, 11.344, 11.392, 11.44, 11.488, 11.536, 11.584, 11.632, 11.68, 11.728, 11.776, 11.824, 11.872, 11.92, 11.968, 12.016, 12.064, 12.112, 12.16, 12.208, 12.256, 12.304, 12.352, 12.4, 12.448, 12.496, 12.544, 12.592, 12.64, 12.688, 12.736, 12.783999999999999, 12.832, 12.879999999999999, 12.928, 12.975999999999999, 13.024000000000001, 13.072, 13.120000000000001, 13.168, 13.216000000000001, 13.264, 13.312, 13.36, 13.408, 13.456, 13.504, 13.552, 13.6, 13.648, 13.696, 13.744, 13.792, 13.84, 13.888, 13.936, 13.984, 14.032, 14.08, 14.128, 14.176, 14.224, 14.272, 14.32, 14.368, 14.416, 14.464, 14.512, 14.559999999999999, 14.608, 14.655999999999999, 14.704, 14.751999999999999, 14.8, 14.847999999999999, 14.896, 14.943999999999999, 14.992, 15.04, 15.088000000000001, 15.136, 15.184000000000001, 15.232, 15.280000000000001, 15.328, 15.376000000000001, 15.424, 15.472000000000001, 15.52, 15.568, 15.616, 15.664, 15.712, 15.76, 15.808, 15.856, 15.904, 15.952, 16.0, 16.048000000000002, 16.096, 16.144, 16.192, 16.240000000000002, 16.288, 16.336, 16.384, 16.432000000000002, 16.48, 16.528, 16.576, 16.624, 16.672, 16.72, 16.768, 16.816, 16.864, 16.912, 16.96, 17.008, 17.056, 17.104, 17.152, 17.2, 17.248, 17.296, 17.344, 17.392, 17.44, 17.488, 17.536, 17.584, 17.631999999999998, 17.68, 17.728, 17.776, 17.823999999999998, 17.872, 17.92, 17.968, 18.016, 18.064, 18.112000000000002, 18.16, 18.208, 18.256, 18.304000000000002, 18.352, 18.4, 18.448, 18.496000000000002, 18.544, 18.592, 18.64, 18.688000000000002, 18.736, 18.784, 18.832, 18.880000000000003, 18.928, 18.976, 19.024, 19.072, 19.119999999999997, 19.168, 19.216, 19.264, 19.311999999999998, 19.36, 19.408, 19.456, 19.503999999999998, 19.552, 19.6, 19.648, 19.695999999999998, 19.744, 19.792, 19.84, 19.887999999999998, 19.936, 19.984, 20.032, 20.08, 20.128, 20.176000000000002, 20.224, 20.272, 20.32, 20.368000000000002, 20.416, 20.464, 20.512, 20.560000000000002, 20.608, 20.656, 20.704, 20.752000000000002, 20.8, 20.848, 20.896, 20.944000000000003, 20.992, 21.04, 21.088, 21.136, 21.183999999999997, 21.232, 21.28, 21.328, 21.375999999999998, 21.424, 21.472, 21.52, 21.567999999999998, 21.616, 21.664, 21.712, 21.759999999999998, 21.808, 21.856, 21.904, 21.951999999999998, 22.0, 22.048000000000002, 22.096, 22.144, 22.192, 22.240000000000002, 22.288, 22.336, 22.384, 22.432000000000002, 22.48, 22.528, 22.576, 22.624000000000002, 22.672, 22.72, 22.768, 22.816000000000003, 22.864, 22.912, 22.96, 23.008, 23.055999999999997, 23.104, 23.152, 23.2, 23.247999999999998, 23.296, 23.344, 23.392, 23.439999999999998, 23.488, 23.536, 23.584, 23.631999999999998, 23.68, 23.728, 23.776, 23.823999999999998, 23.872, 23.92, 23.968, 24.016, 24.064, 24.112000000000002, 24.16, 24.208, 24.256, 24.304000000000002, 24.352, 24.4, 24.448, 24.496000000000002, 24.544, 24.592, 24.64, 24.688000000000002, 24.736, 24.784, 24.832, 24.880000000000003, 24.928, 24.976, 25.024, 25.072, 25.119999999999997, 25.168, 25.216, 25.264, 25.311999999999998, 25.36, 25.408, 25.456, 25.503999999999998, 25.552, 25.6, 25.648, 25.695999999999998, 25.744, 25.792, 25.84, 25.887999999999998, 25.936, 25.984, 26.032, 26.08, 26.128, 26.176, 26.224, 26.272, 26.32, 26.368, 26.416, 26.464, 26.512, 26.56, 26.608, 26.656, 26.704, 26.752, 26.8, 26.848, 26.896, 26.944, 26.992, 27.04, 27.088, 27.136, 27.184, 27.232, 27.28, 27.328, 27.376, 27.424, 27.472, 27.52, 27.568, 27.616, 27.664, 27.712, 27.76, 27.808, 27.856, 27.904, 27.952, 28.0, 28.048, 28.096, 28.144, 28.192, 28.24, 28.288, 28.336, 28.384, 28.432, 28.48, 28.528, 28.576, 28.624, 28.672, 28.72, 28.768, 28.816, 28.864, 28.912, 28.96, 29.008, 29.056, 29.104, 29.152, 29.2, 29.248, 29.296, 29.344, 29.392, 29.44, 29.488, 29.536, 29.584, 29.632, 29.68, 29.728, 29.776, 29.824, 29.872, 29.92, 29.968, 30.016, 30.064, 30.112, 30.16, 30.208, 30.256, 30.304, 30.352, 30.4, 30.448, 30.496, 30.544, 30.592, 30.64, 30.688, 30.736, 30.784, 30.832, 30.88, 30.928, 30.976, 31.024, 31.072, 31.12, 31.168, 31.216, 31.264, 31.312, 31.36, 31.408, 31.456, 31.504, 31.552, 31.6, 31.648, 31.696, 31.744, 31.792, 31.84, 31.888, 31.936, 31.984, 32.032, 32.08, 32.128, 32.176, 32.224000000000004, 32.272, 32.32, 32.367999999999995, 32.416, 32.464, 32.512, 32.56, 32.608000000000004, 32.656, 32.704, 32.751999999999995, 32.8, 32.848, 32.896, 32.944, 32.992000000000004, 33.04, 33.088, 33.135999999999996, 33.184, 33.232, 33.28, 33.328, 33.376000000000005, 33.424, 33.472, 33.519999999999996, 33.568, 33.616, 33.664, 33.712, 33.760000000000005, 33.808, 33.856, 33.903999999999996, 33.952], \"xaxis\": \"x\", \"y\": [0.021802774527318484, 0.02217476826609078, 0.022549770648260307, 0.022927725462394192, 0.023308574434282282, 0.023692257231142905, 0.024078711467502952, 0.02446787271277372, 0.024859674500542855, 0.02525404833960036, 0.025650923726715326, 0.026050228161177455, 0.026451887161115694, 0.026855824281604546, 0.02726196113456617, 0.027670217410473937, 0.028080510901861692, 0.02849275752864007, 0.028906871365219095, 0.029322764669434103, 0.029740347913269446, 0.030159529815372517, 0.03058021737534746, 0.031002315909816478, 0.031425729090233376, 0.03185035898243206, 0.03227610608789031, 0.03270286938668604, 0.03313054638212202, 0.033559033146991414, 0.03398822437145482, 0.03441801341249698, 0.034848292344929, 0.0352789520138991, 0.03570988208887386, 0.03614097111904807, 0.03657210659014055, 0.03700317498253022, 0.037434061830685074, 0.03786465178383438, 0.03829482866783303, 0.038724475548163696, 0.03915347479402294, 0.03958170814343308, 0.04000905676932148, 0.04043540134650756, 0.04086062211953471, 0.04128459897128488, 0.04170721149231048, 0.04212833905081842, 0.04254786086323878, 0.04296565606531063, 0.04338160378361564, 0.043795583207489934, 0.044207473661243585, 0.04461715467661645, 0.04502450606539906, 0.045429407992145905, 0.045831741046909236, 0.04623138631792042, 0.046628225464146356, 0.04702214078764806, 0.047413015305669375, 0.047800732822382876, 0.04818517800022149, 0.048566236430724205, 0.04894379470482531, 0.049317740482516054, 0.04968796256181055, 0.05005435094694627, 0.05041679691575238, 0.050775193086118824, 0.0511294334815013, 0.05147941359539815, 0.05182503045473587, 0.05216618268210313, 0.05250277055677286, 0.05283469607445444, 0.053161863005720476, 0.05348417695305247, 0.053801545406453884, 0.054113877797579056, 0.05442108555232955, 0.054723082141871826, 0.05501978313203033, 0.055311106231014935, 0.05559697133544201, 0.05587730057461116, 0.05615201835300203, 0.05642105139095832, 0.056684328763527546, 0.056941781937428396, 0.057193344806119616, 0.05743895372294693, 0.05767854753234632, 0.05791206759908579, 0.058139457835529054, 0.0583606647269069, 0.05857563735458677, 0.05878432741732932, 0.05898668925052843, 0.05918267984342871, 0.05937225885432074, 0.05955538862371405, 0.05973203418549236, 0.05990216327605631, 0.06006574634146219, 0.060222756542567556, 0.060373169758195955, 0.060516964586336715, 0.060654122343396476, 0.06078462706152219, 0.06090846548401732, 0.06102562705887468, 0.06113610393045159, 0.061239890929315144, 0.06133698556028667, 0.06142738798871724, 0.06151110102502677, 0.0615881301075417, 0.061658483283667714, 0.0617221711894355, 0.06177920702745844, 0.06182960654334395, 0.06187338800059995, 0.06191057215408031, 0.061941182222013794, 0.06196524385666217, 0.06198278511365478, 0.061993836420046695, 0.06199843054114938, 0.06199660254618368, 0.06198838977280455, 0.061973831790549154, 0.06195297036325914, 0.06192584941052894, 0.06189251496823294, 0.061853015148183275, 0.061807400096971644, 0.06175572195404787, 0.06169803480908811, 0.061634394658706106, 0.061564859362560016, 0.061489488598907814, 0.06140834381966397, 0.06132148820500906, 0.06122898661760493, 0.061130905556466185, 0.06102731311053913, 0.06091827891203828, 0.06080387408959011, 0.06068417122123274, 0.060559244287319874, 0.060429168623375266, 0.06029402087294539, 0.06015387894049374, 0.06000882194438238, 0.059858930169982824, 0.05970428502295855, 0.05954496898275928, 0.05938106555636714, 0.059212659232331835, 0.05903983543513178, 0.05886268047989688, 0.05868128152752576, 0.058495726540230476, 0.0583061042375393, 0.05811250405278604, 0.057915016090114596, 0.057713731082023656, 0.057508740347476384, 0.05730013575059733, 0.05708800965997806, 0.05687245490860972, 0.056653564754461413, 0.056431432841718455, 0.05620615316269618, 0.055977820020440335, 0.055746527992025514, 0.0555123718925594, 0.05527544673990108, 0.055035847720098, 0.05479367015354533, 0.054549009461869614, 0.05430196113553751, 0.05405262070218724, 0.05380108369568113, 0.053547445625872735, 0.05329180194908449, 0.05303424803928623, 0.05277487915996656, 0.052513790436686164, 0.05225107683030032, 0.05198683311083799, 0.051721153832021895, 0.05145413330641409, 0.051185865581169235, 0.05091644441437735, 0.050645963251976345, 0.05037451520521339, 0.050102193028634286, 0.049829089098577216, 0.04955529539214766, 0.049280903466651385, 0.04900600443945862, 0.04873068896827532, 0.04845504723179455, 0.048179168910701516, 0.04790314316900516, 0.047627058635668434, 0.047351003386509945, 0.047075064926348414, 0.04679933017136246, 0.046523885431637095, 0.04624881639386832, 0.04597420810419916, 0.045700144951157824, 0.045426710648671105, 0.045153988219125536, 0.044882059976449805, 0.04461100750919154, 0.04434091166356313, 0.044071852526431296, 0.04380390940822586, 0.04353716082574453, 0.04327168448483055, 0.043007557262901376, 0.0427448551913082, 0.042483653437505826, 0.042224026287014764, 0.041966047125158036, 0.041709788418556604, 0.04145532169636879, 0.04120271753125956, 0.04095204552008883, 0.04070337426430711, 0.04045677135005033, 0.04021230332792591, 0.03997003569248454, 0.03973003286137338, 0.03949235815416832, 0.039257073770884256, 0.03902424077016472, 0.03879391904715358, 0.03856616731105293, 0.038341043062374014, 0.03811860256988927, 0.03789890084729534, 0.03768199162959882, 0.03746792734923888, 0.03725675911196193, 0.03704853667246573, 0.03684330840983218, 0.03664112130276991, 0.03644202090468939, 0.03624605131863498, 0.03605325517210076, 0.03586367359175715, 0.03567734617811957, 0.03549431098018884, 0.0353146044700978, 0.03513826151779743, 0.03496531536581954, 0.03479579760415285, 0.034629738145271656, 0.03446716519935723, 0.034308105249753605, 0.034152583028700376, 0.03400062149338623, 0.03385224180236839, 0.033707463292403816, 0.033566303455738786, 0.033428777917904544, 0.0332949004160676, 0.033164682777983304, 0.03303813490160241, 0.032915264735380576, 0.0327960782593412, 0.03268057946694189, 0.03256877034779582, 0.03246065087129796, 0.03235621897120786, 0.0322554705312385, 0.0321583993717023, 0.032064997237263713, 0.03197525378584788, 0.03188915657875411, 0.031806691072022275, 0.031727840609099243, 0.03165258641485162, 0.031580907590970174, 0.031512781112809585, 0.03144818182770673, 0.03138708245481858, 0.03132945358651953, 0.03127526369139661, 0.031224479118879017, 0.03117706410553666, 0.03113298078308039, 0.031092189188095146, 0.031054647273533947, 0.031020310921999986, 0.030989133960840354, 0.03096106817907338, 0.03093606334616898, 0.030914067232698416, 0.030895025632868094, 0.030878882388948127, 0.0308655794176049, 0.030855056738143028, 0.03084725250265982, 0.030842103028112126, 0.030839542830292548, 0.030839504659709076, 0.030841919539358702, 0.030846716804383254, 0.030853824143591675, 0.03086316764283055, 0.03087467183018103, 0.030888259722957567, 0.030903852876480304, 0.030921371434590138, 0.030940734181872154, 0.030961858597550105, 0.03098466091101146, 0.031009056158919534, 0.031034958243866078, 0.03106227999451498, 0.031090933227184682, 0.031120828808813766, 0.03115187672125202, 0.03118398612681598, 0.031217065435045637, 0.03125102237059627, 0.0312857640421971, 0.03132119701260593, 0.03135722736948669, 0.03139376079713482, 0.03143070264897316, 0.0314679580207393, 0.03150543182428343, 0.03154302886189409, 0.03158065390106793, 0.031618211749637484, 0.03165560733117094, 0.03169274576055544, 0.03172953241967545, 0.03176587303309664, 0.03180167374366477, 0.03183684118792934, 0.031871282571300466, 0.03190490574284812, 0.031937619269652474, 0.031969332510614186, 0.03199995568963393, 0.0320293999680712, 0.032057577516392315, 0.03208440158491928, 0.03210978657359155, 0.03213364810065393, 0.03215590307018541, 0.03217646973838491, 0.03219526777853161, 0.032212218344539405, 0.03222724413302667, 0.032240269443824875, 0.03225122023885144, 0.03226002419927501, 0.032266610780903114, 0.03227091126772559, 0.03227285882354905, 0.03227238854166103, 0.03226943749246517, 0.032263944769032014, 0.032255851530512615, 0.03224510104336615, 0.03223163872035546, 0.03221541215726799, 0.03219637116732318, 0.03217446781323067, 0.03214965643686752, 0.03212189368654606, 0.03209113854184765, 0.03205735233600175, 0.0320204987757926, 0.031980543958980596, 0.031937456389228354, 0.03189120698852563, 0.031841769107110965, 0.03178911853089173, 0.031733233486367744, 0.03167409464306761, 0.0316116851135105, 0.03154599045070947, 0.031476998643236644, 0.03140470010787317, 0.03132908767987129, 0.03125015660085835, 0.031167904504416685, 0.03108233139937595, 0.03099343965085783, 0.030901233959116224, 0.030805721336218665, 0.030706911080617773, 0.030604814749664262, 0.03049944613011549, 0.030390821206696145, 0.030278958128770034, 0.030163877175184144, 0.030045600717348128, 0.029924153180614733, 0.029799561004027943, 0.02967185259850796, 0.029541058303542995, 0.0294072103424601, 0.029270342776347522, 0.029130491456703368, 0.028987693976885043, 0.028841989622436053, 0.028693419320366502, 0.02854202558746444, 0.02838785247771599, 0.028230945528911647, 0.02807135170851726, 0.027909119358887072, 0.027744298141897123, 0.027576938983075925, 0.027407094015310024, 0.0272348165222003, 0.02706016088114535, 0.026883182506226205, 0.026703937790967084, 0.026522484051044452, 0.02633887946701658, 0.02615318302714367, 0.02596545447036796, 0.025775754229521067, 0.025584143374824713, 0.02539068355774893, 0.025195436955290616, 0.024998466214732527, 0.024799834398942216, 0.024599604932266792, 0.024397841547079135, 0.024194608231027186, 0.023989969175037627, 0.023783988722121296, 0.023576731317027068, 0.023368261456787002, 0.02315864364219489, 0.02294794233025636, 0.022736221887647613, 0.02252354654521685, 0.022309980353559897, 0.022095587139699786, 0.02188043046489678, 0.02166457358361394, 0.021448079403659656, 0.02123101044752776, 0.021013428814951825, 0.02079539614668935, 0.02057697358954835, 0.020358221762666804, 0.020139200725053402, 0.019919969944395616, 0.019700588267138993, 0.019481113889839797, 0.0192616043317901, 0.019042116408914334, 0.01882270620893186, 0.018603429067780536, 0.018384339547293085, 0.018165491414116858, 0.01794693761986556, 0.017728730282490772, 0.01751092066885787, 0.01729355917851186, 0.01707669532861469, 0.016860377740036486, 0.016644654124580507, 0.016429571273321248, 0.016215175046033276, 0.01600151036168873, 0.015788621189998527, 0.015576550543973453, 0.015365340473479303, 0.015155032059759838, 0.014945665410900992, 0.014737279658208997, 0.014529912953474286, 0.014323602467093896, 0.014118384387022757, 0.013914293918526116, 0.013711365284703545, 0.013509631727756046, 0.013309125510966741, 0.013109877921366484, 0.012911919273055033, 0.012715278911149678, 0.012519985216331754], \"yaxis\": \"y\"}, {\"legendgroup\": \"Dodge\", \"marker\": {\"color\": \"rgb(44, 160, 44)\"}, \"mode\": \"lines\", \"name\": \"Dodge\", \"showlegend\": false, \"type\": \"scatter\", \"x\": [11.0, 11.05, 11.1, 11.15, 11.2, 11.25, 11.3, 11.35, 11.4, 11.45, 11.5, 11.55, 11.6, 11.65, 11.7, 11.75, 11.8, 11.85, 11.9, 11.95, 12.0, 12.05, 12.1, 12.15, 12.2, 12.25, 12.3, 12.35, 12.4, 12.45, 12.5, 12.55, 12.6, 12.65, 12.7, 12.75, 12.8, 12.85, 12.9, 12.95, 13.0, 13.05, 13.1, 13.15, 13.2, 13.25, 13.3, 13.35, 13.4, 13.45, 13.5, 13.55, 13.6, 13.65, 13.7, 13.75, 13.8, 13.85, 13.9, 13.95, 14.0, 14.05, 14.1, 14.15, 14.2, 14.25, 14.3, 14.35, 14.4, 14.45, 14.5, 14.55, 14.6, 14.65, 14.7, 14.75, 14.8, 14.85, 14.9, 14.95, 15.0, 15.05, 15.1, 15.15, 15.2, 15.25, 15.3, 15.35, 15.4, 15.45, 15.5, 15.55, 15.6, 15.65, 15.7, 15.75, 15.8, 15.85, 15.9, 15.95, 16.0, 16.05, 16.1, 16.15, 16.2, 16.25, 16.3, 16.35, 16.4, 16.45, 16.5, 16.55, 16.6, 16.65, 16.7, 16.75, 16.8, 16.85, 16.9, 16.95, 17.0, 17.05, 17.1, 17.15, 17.2, 17.25, 17.3, 17.35, 17.4, 17.45, 17.5, 17.55, 17.6, 17.65, 17.7, 17.75, 17.8, 17.85, 17.9, 17.95, 18.0, 18.05, 18.1, 18.15, 18.2, 18.25, 18.3, 18.35, 18.4, 18.45, 18.5, 18.55, 18.6, 18.65, 18.7, 18.75, 18.8, 18.85, 18.9, 18.95, 19.0, 19.05, 19.1, 19.15, 19.2, 19.25, 19.3, 19.35, 19.4, 19.45, 19.5, 19.55, 19.6, 19.65, 19.7, 19.75, 19.8, 19.85, 19.9, 19.95, 20.0, 20.05, 20.1, 20.15, 20.2, 20.25, 20.3, 20.35, 20.4, 20.45, 20.5, 20.55, 20.6, 20.65, 20.7, 20.75, 20.8, 20.85, 20.9, 20.95, 21.0, 21.05, 21.1, 21.15, 21.2, 21.25, 21.3, 21.35, 21.4, 21.45, 21.5, 21.55, 21.6, 21.65, 21.7, 21.75, 21.8, 21.85, 21.9, 21.95, 22.0, 22.05, 22.1, 22.15, 22.2, 22.25, 22.3, 22.35, 22.4, 22.45, 22.5, 22.55, 22.6, 22.65, 22.7, 22.75, 22.8, 22.85, 22.9, 22.95, 23.0, 23.05, 23.1, 23.15, 23.2, 23.25, 23.3, 23.35, 23.4, 23.45, 23.5, 23.55, 23.6, 23.65, 23.7, 23.75, 23.8, 23.85, 23.9, 23.95, 24.0, 24.05, 24.1, 24.15, 24.2, 24.25, 24.3, 24.35, 24.4, 24.45, 24.5, 24.55, 24.6, 24.65, 24.7, 24.75, 24.8, 24.85, 24.9, 24.95, 25.0, 25.05, 25.1, 25.15, 25.2, 25.25, 25.3, 25.35, 25.4, 25.45, 25.5, 25.55, 25.6, 25.65, 25.7, 25.75, 25.8, 25.85, 25.9, 25.95, 26.0, 26.05, 26.1, 26.15, 26.2, 26.25, 26.3, 26.35, 26.4, 26.45, 26.5, 26.55, 26.6, 26.65, 26.7, 26.75, 26.8, 26.85, 26.9, 26.95, 27.0, 27.05, 27.1, 27.15, 27.2, 27.25, 27.3, 27.35, 27.4, 27.45, 27.5, 27.55, 27.6, 27.65, 27.7, 27.75, 27.8, 27.85, 27.9, 27.95, 28.0, 28.05, 28.1, 28.15, 28.2, 28.25, 28.3, 28.35, 28.4, 28.45, 28.5, 28.55, 28.6, 28.65, 28.7, 28.75, 28.8, 28.85, 28.9, 28.95, 29.0, 29.05, 29.1, 29.15, 29.2, 29.25, 29.3, 29.35, 29.4, 29.45, 29.5, 29.55, 29.6, 29.65, 29.7, 29.75, 29.8, 29.85, 29.9, 29.95, 30.0, 30.05, 30.1, 30.15, 30.2, 30.25, 30.3, 30.35, 30.4, 30.45, 30.5, 30.55, 30.6, 30.65, 30.7, 30.75, 30.8, 30.85, 30.9, 30.95, 31.0, 31.05, 31.1, 31.15, 31.2, 31.25, 31.3, 31.35, 31.4, 31.45, 31.5, 31.55, 31.6, 31.65, 31.7, 31.75, 31.8, 31.85, 31.9, 31.95, 32.0, 32.05, 32.1, 32.15, 32.2, 32.25, 32.3, 32.35, 32.4, 32.45, 32.5, 32.55, 32.6, 32.65, 32.7, 32.75, 32.8, 32.85, 32.9, 32.95, 33.0, 33.05, 33.1, 33.15, 33.2, 33.25, 33.3, 33.35, 33.4, 33.45, 33.5, 33.55, 33.6, 33.65, 33.7, 33.75, 33.8, 33.85, 33.9, 33.95, 34.0, 34.05, 34.1, 34.15, 34.2, 34.25, 34.3, 34.35, 34.4, 34.45, 34.5, 34.55, 34.6, 34.65, 34.7, 34.75, 34.8, 34.85, 34.9, 34.95, 35.0, 35.05, 35.1, 35.15, 35.2, 35.25, 35.3, 35.35, 35.4, 35.45, 35.5, 35.55, 35.6, 35.65, 35.7, 35.75, 35.8, 35.85, 35.9, 35.95], \"xaxis\": \"x\", \"y\": [0.02641465131289671, 0.026698136843586708, 0.02698176930298079, 0.027265495266255706, 0.027549260909703444, 0.027833012029687302, 0.02811669406187303, 0.02840025210072556, 0.028683630919260367, 0.028966774989039403, 0.029249628500400807, 0.02953213538291166, 0.02981423932603308, 0.030095883799986622, 0.030377012076810747, 0.030657567251596844, 0.03093749226389289, 0.031216729919264156, 0.03149522291099926, 0.03177291384195038, 0.03204974524649654, 0.032325659612618324, 0.032600599404072464, 0.03287450708265597, 0.03314732513054692, 0.03341899607271227, 0.03368946249937013, 0.03395866708849605, 0.034226552628361925, 0.034493062040096376, 0.03475813840025576, 0.03502172496339488, 0.035283765184626344, 0.03554420274215813, 0.035802981559798615, 0.03606004582941853, 0.03631534003335944, 0.03656880896677875, 0.036820397759920666, 0.037070051900303595, 0.03731771725481373, 0.037563340091695596, 0.03780686710242959, 0.03804824542348738, 0.03828742265795585, 0.03852434689702082, 0.03875896674130111, 0.03899123132202493, 0.039221090322039395, 0.0394484939966454, 0.03967339319424922, 0.03989573937682303, 0.040115484640166565, 0.040332581733961974, 0.04054698408161475, 0.04075864579987326, 0.04096752171821945, 0.04117356739802425, 0.04137673915146052, 0.04157699406016687, 0.04177428999365608, 0.04196858562746166, 0.04215984046101606, 0.0423480148352552, 0.042533069949942603, 0.04271496788070789, 0.04289367159579384, 0.04306914497250634, 0.04324135281336215, 0.04341026086192891, 0.04357583581835229, 0.043738045354565276, 0.04389685812917443, 0.0440522438020185, 0.044204173048394114, 0.04435261757294433, 0.04449755012320477, 0.04463894450280337, 0.04477677558430829, 0.04491101932172048, 0.045041652762605446, 0.045168654059860154, 0.04529200248311089, 0.04541167842973687, 0.045527663435516015, 0.045639940184887755, 0.045748492520828875, 0.04585330545433769, 0.04595436517352228, 0.04605165905228798, 0.04614517565862006, 0.0462349047624567, 0.04632083734314768, 0.04640296559649439, 0.046481282941366366, 0.046555784025889536, 0.046626464733201735, 0.04669332218677018, 0.04675635475526671, 0.046815562056995254, 0.04687094496386695, 0.04692250560491781, 0.046970247369364, 0.04701417490918914, 0.04705429414125931, 0.047090612248959704, 0.047123137683348346, 0.0471518801638213, 0.047176850678284005, 0.04719806148282377, 0.04721552610087773, 0.04722925932189098, 0.04723927719945987, 0.047245597048954514, 0.0472482374446159, 0.04724721821612148, 0.04724256044461489, 0.04723428645819357, 0.047222419826850034, 0.047206985356861075, 0.047188009084619974, 0.047165518269907114, 0.04713954138859381, 0.04711010812477467, 0.04707724936232428, 0.04704099717587337, 0.047001384821200434, 0.04695844672503469, 0.046912218474266736, 0.04686273680456274, 0.046810039588379315, 0.04675416582237567, 0.04669515561422011, 0.04663305016878839, 0.04656789177375164, 0.0464997237845518, 0.04642859060876315, 0.046354537689838285, 0.04627761149023817, 0.046197859473945446, 0.046115330088360856, 0.046030072745583656, 0.0459421378030762, 0.045851576543714384, 0.04575844115522571, 0.04566278470901723, 0.0455646611383959, 0.04546412521618519, 0.04536123253174155, 0.04525603946737504, 0.045148603174179666, 0.04503898154727861, 0.04492723320049079, 0.04481341744042575, 0.04469759424001414, 0.044579824211482176, 0.04446016857877875, 0.04433868914946485, 0.04421544828607527, 0.0440905088769634, 0.043963934306640966, 0.04383578842562464, 0.04370613551980233, 0.04357504027933339, 0.043442567767096006, 0.04330878338669811, 0.043173752850066305, 0.04303754214463005, 0.04290021750011783, 0.04276184535498339, 0.042622492322480256, 0.04248222515640402, 0.04234111071652199, 0.042199215933710975, 0.042056607774824256, 0.041913353207309496, 0.04176951916360031, 0.041625172505304245, 0.041480379987211075, 0.041335208221145454, 0.04118972363968913, 0.04104399245979745, 0.04089808064633665, 0.040752053875567955, 0.04060597749860536, 0.04045991650487469, 0.04031393548560111, 0.04016809859735387, 0.040022469525676285, 0.03987711144882996, 0.039732087001682535, 0.03958745823976808, 0.03944328660355016, 0.039299632882917206, 0.03915655718194021, 0.03901411888392337, 0.038872376616777525, 0.0387313882187469, 0.038591210704519915, 0.0384519002317539, 0.038313512068044696, 0.038176100558371014, 0.038039719093043954, 0.03790442007619166, 0.037770254894808876, 0.03763727388840117, 0.03750552631925292, 0.037375060343348254, 0.037245922981973434, 0.037118160094029, 0.03699181634907955, 0.036866935201168245, 0.036743558863423106, 0.036621728283481265, 0.03650148311975662, 0.03638286171857629, 0.036265901092209944, 0.036150636897815586, 0.03603710341732496, 0.03592533353829048, 0.03581535873571492, 0.03570720905488449, 0.03560091309522478, 0.035496497995197974, 0.03539398941825946, 0.035293411539890115, 0.03519478703572025, 0.0350981370707597, 0.03500348128974777, 0.034910837808635437, 0.03482022320721134, 0.03473165252288188, 0.03464513924561407, 0.034560695314049816, 0.03447833111279779, 0.034398055470908746, 0.03431987566153843, 0.03424379740280128, 0.03416982485981683, 0.03409796064794908, 0.034028205837238645, 0.033960559958025334, 0.0338950210077582, 0.03383158545898836, 0.03377024826853908, 0.03371100288784587, 0.033653841274458474, 0.033598753904694946, 0.0335457297874373, 0.03349475647905632, 0.033445820099452635, 0.03339890534919891, 0.03335399552776816, 0.03331107255283056, 0.033270116980601006, 0.033231108027218015, 0.03319402359113356, 0.03315884027649229, 0.033125533417477405, 0.03309407710359978, 0.033064444205905076, 0.03303660640407364, 0.033010534214386086, 0.032986197018526994, 0.03296356309319812, 0.03294259964051167, 0.032923272819133265, 0.03290554777614345, 0.032889388679585844, 0.03287475875166945, 0.032861620302591515, 0.03284993476494713, 0.032839662728691175, 0.03283076397661695, 0.03282319752031639, 0.03281692163658535, 0.03281189390423754, 0.03280807124129005, 0.032805409942483384, 0.03280386571709812, 0.032803393727030505, 0.0328039486250891, 0.03280548459347403, 0.03280795538240064, 0.03281131434882941, 0.0328155144952635, 0.03282050850857584, 0.03282624879882735, 0.03283268753803849, 0.03283977669887601, 0.032847468093217334, 0.03285571341055514, 0.03286446425620519, 0.03287367218928063, 0.03288328876039638, 0.032893265549068136, 0.03290355420077023, 0.03291410646361779, 0.03292487422463909, 0.032935809545604385, 0.032946864698378306, 0.03295799219976364, 0.03296914484580526, 0.03298027574552303, 0.03299133835404444, 0.03300228650510729, 0.03301307444290493, 0.033023656853246264, 0.03303398889400462, 0.03304402622482996, 0.03305372503610019, 0.03306304207708823, 0.03307193468332263, 0.033080360803120455, 0.033088279023272556, 0.03309564859386192, 0.0331024294521976, 0.033108582245847146, 0.03311406835475236, 0.033118849912413637, 0.033122889826129986, 0.03312615179628255, 0.03312860033465076, 0.03313020078175186, 0.03313091932319492, 0.03313072300504264, 0.03312957974817458, 0.033127458361647426, 0.033124328555048495, 0.0331201609498403, 0.033114927089695004, 0.03310859944981886, 0.03310115144526787, 0.03309255743825727, 0.033082792744468174, 0.033071833638356384, 0.03305965735746923, 0.03304624210577737, 0.033031567056029845, 0.03301561235114143, 0.03299835910462277, 0.03297978940006458, 0.03295988628968809, 0.032938633791975494, 0.032916016888394246, 0.03289202151923104, 0.032866634578551046, 0.03283984390830025, 0.03281163829156812, 0.03278200744502994, 0.032750942010588105, 0.032718433546232925, 0.03268447451614391, 0.032649058280053475, 0.03261217908189531, 0.032573832037760875, 0.03253401312318744, 0.032492719159802036, 0.03244994780134613, 0.03240569751910629, 0.03235996758677664, 0.03231275806477912, 0.03226406978406824, 0.03221390432944709, 0.03216226402242174, 0.03210915190362165, 0.03205457171481352, 0.03199852788053652, 0.031941025489386925, 0.03188207027498011, 0.03182166859661829, 0.03175982741969194, 0.031696554295843324, 0.03163185734292012, 0.03156574522474731, 0.03149822713074527, 0.03142931275542187, 0.031359012277766204, 0.03128733634057138, 0.03121429602971349, 0.031139902853413694, 0.031064168721509827, 0.03098710592476397, 0.030908727114231458, 0.030829045280717064, 0.0307480737343431, 0.03066582608425398, 0.030582316218481242, 0.03049755828399249, 0.03041156666694708, 0.030324355973181106, 0.030235941008943074, 0.030146336761901656, 0.03005555838244586, 0.0299636211652974, 0.02987054053145445, 0.02977633201048507, 0.029681011223188065, 0.029584593864638204, 0.029487095687631946, 0.02938853248654919, 0.029288920081645534, 0.02918827430378908, 0.02908661097965466, 0.028983945917387847, 0.028880294892750052, 0.02877567363575552, 0.028670097817809635, 0.028563583039357833, 0.028456144818052947, 0.0283477985774484, 0.028238559636223456, 0.028128443197946513, 0.028017464341380468, 0.0279056380113348, 0.02779297901006704, 0.02767950198923564, 0.02756522144240639, 0.027450151698112046, 0.027334306913465747, 0.027217701068326775, 0.027100347960016983, 0.026982261198585315, 0.026863454202617234, 0.026743940195584563, 0.02662373220273148, 0.026502843048490644, 0.026381285354423474, 0.026259071537677602, 0.02613621380995378, 0.026012724176974155, 0.025888614438442835, 0.025763896188489354, 0.02563858081658501, 0.0255126795089211, 0.025386203250238198, 0.02525916282609436, 0.025131568825560287, 0.02500343164432856, 0.024874761488223592, 0.02474556837709906, 0.02461586214910815, 0.02448565246533282, 0.0243549488147568, 0.02422376051956729, 0.024092096740770112, 0.023959966484102202, 0.02382737860622572, 0.023694341821187574, 0.023560864707127482, 0.023426955713218588, 0.023292623166823227, 0.023157875280847347, 0.023022720161276496, 0.02288716581487589, 0.02275122015703823, 0.022614891019761132, 0.022478186159737717, 0.022341113266543, 0.02220367997089875, 0.022065893853000226, 0.021927762450887456, 0.02178929326884452, 0.021650493785810222, 0.021511371463783256, 0.02137193375620622, 0.021232188116311765, 0.021092142005415527, 0.02095180290113996, 0.02081117830555384, 0.02067027575321258, 0.02052910281908436, 0.02038766712634804, 0.02024597635404871, 0.020104038244597052, 0.019961860611099787, 0.019819451344507712, 0.019676818420569397, 0.01953396990657851, 0.019390913967902792, 0.019247658874284285, 0.019104213005899477, 0.018960584859169835, 0.01881678305231284, 0.01867281633062417, 0.018528693571482964, 0.018384423789071406, 0.018240016138801635, 0.01809547992144261, 0.0179508245869404, 0.017806059737926243, 0.01766119513290651, 0.01751624068913017, 0.01737120648512917, 0.017226102762927874, 0.017080939929918777, 0.01693572856040127, 0.016790479396781847, 0.01664520335043401, 0.016499911502216538], \"yaxis\": \"y\"}, {\"legendgroup\": \"Ford\", \"marker\": {\"color\": \"rgb(31, 119, 180)\", \"symbol\": \"line-ns-open\"}, \"mode\": \"markers\", \"name\": \"Ford\", \"showlegend\": false, \"type\": \"scatter\", \"x\": [17.0, 15.0, 21.0, 10.0, 25.0, 19.0, 14.0, 13.0, 18.0, 21.0, 14.0, 13.0, 22.0, 14.0, 13.0, 18.0, 12.0, 19.0, 21.0, 26.0, 16.0, 14.0, 15.0, 14.0, 13.0, 23.0, 18.0, 14.5, 24.0, 18.0, 26.5, 13.0, 18.5, 16.0, 25.5, 36.1, 20.2, 25.1, 18.1, 22.3, 17.6, 15.5, 26.4, 23.6, 34.4, 29.9, 20.2, 24.0, 22.0, 27.0, 28.0], \"xaxis\": \"x\", \"y\": [\"Ford\", \"Ford\", \"Ford\", \"Ford\", \"Ford\", \"Ford\", \"Ford\", \"Ford\", \"Ford\", \"Ford\", \"Ford\", \"Ford\", \"Ford\", \"Ford\", \"Ford\", \"Ford\", \"Ford\", \"Ford\", \"Ford\", \"Ford\", \"Ford\", \"Ford\", \"Ford\", \"Ford\", \"Ford\", \"Ford\", \"Ford\", \"Ford\", \"Ford\", \"Ford\", \"Ford\", \"Ford\", \"Ford\", \"Ford\", \"Ford\", \"Ford\", \"Ford\", \"Ford\", \"Ford\", \"Ford\", \"Ford\", \"Ford\", \"Ford\", \"Ford\", \"Ford\", \"Ford\", \"Ford\", \"Ford\", \"Ford\", \"Ford\", \"Ford\"], \"yaxis\": \"y2\"}, {\"legendgroup\": \"Chevrolet\", \"marker\": {\"color\": \"rgb(255, 127, 14)\", \"symbol\": \"line-ns-open\"}, \"mode\": \"markers\", \"name\": \"Chevrolet\", \"showlegend\": false, \"type\": \"scatter\", \"x\": [18.0, 14.0, 15.0, 10.0, 28.0, 17.0, 14.0, 22.0, 20.0, 13.0, 13.0, 13.0, 13.0, 16.0, 11.0, 21.0, 15.0, 15.0, 25.0, 16.0, 18.0, 15.0, 16.0, 20.0, 17.5, 22.0, 29.0, 24.5, 13.0, 17.5, 17.5, 15.5, 30.5, 20.5, 19.2, 30.0, 17.0, 19.2, 28.8, 32.1, 28.0, 23.5, 28.0, 27.0, 34.0, 27.0, 31.0], \"xaxis\": \"x\", \"y\": [\"Chevrolet\", \"Chevrolet\", \"Chevrolet\", \"Chevrolet\", \"Chevrolet\", \"Chevrolet\", \"Chevrolet\", \"Chevrolet\", \"Chevrolet\", \"Chevrolet\", \"Chevrolet\", \"Chevrolet\", \"Chevrolet\", \"Chevrolet\", \"Chevrolet\", \"Chevrolet\", \"Chevrolet\", \"Chevrolet\", \"Chevrolet\", \"Chevrolet\", \"Chevrolet\", \"Chevrolet\", \"Chevrolet\", \"Chevrolet\", \"Chevrolet\", \"Chevrolet\", \"Chevrolet\", \"Chevrolet\", \"Chevrolet\", \"Chevrolet\", \"Chevrolet\", \"Chevrolet\", \"Chevrolet\", \"Chevrolet\", \"Chevrolet\", \"Chevrolet\", \"Chevrolet\", \"Chevrolet\", \"Chevrolet\", \"Chevrolet\", \"Chevrolet\", \"Chevrolet\", \"Chevrolet\", \"Chevrolet\", \"Chevrolet\", \"Chevrolet\", \"Chevrolet\"], \"yaxis\": \"y2\"}, {\"legendgroup\": \"Dodge\", \"marker\": {\"color\": \"rgb(44, 160, 44)\", \"symbol\": \"line-ns-open\"}, \"mode\": \"markers\", \"name\": \"Dodge\", \"showlegend\": false, \"type\": \"scatter\", \"x\": [15.0, 11.0, 12.0, 25.0, 28.0, 15.0, 15.0, 14.0, 28.0, 26.0, 16.0, 20.0, 13.0, 15.5, 33.5, 19.4, 18.6, 17.5, 30.9, 20.6, 18.2, 35.7, 19.1, 27.9, 25.8, 29.0, 36.0, 32.0], \"xaxis\": \"x\", \"y\": [\"Dodge\", \"Dodge\", \"Dodge\", \"Dodge\", \"Dodge\", \"Dodge\", \"Dodge\", \"Dodge\", \"Dodge\", \"Dodge\", \"Dodge\", \"Dodge\", \"Dodge\", \"Dodge\", \"Dodge\", \"Dodge\", \"Dodge\", \"Dodge\", \"Dodge\", \"Dodge\", \"Dodge\", \"Dodge\", \"Dodge\", \"Dodge\", \"Dodge\", \"Dodge\", \"Dodge\", \"Dodge\"], \"yaxis\": \"y2\"}],\n",
              "                        {\"barmode\": \"overlay\", \"hovermode\": \"closest\", \"legend\": {\"traceorder\": \"reversed\"}, \"template\": {\"data\": {\"bar\": [{\"error_x\": {\"color\": \"#2a3f5f\"}, \"error_y\": {\"color\": \"#2a3f5f\"}, \"marker\": {\"line\": {\"color\": \"#E5ECF6\", \"width\": 0.5}}, \"type\": \"bar\"}], \"barpolar\": [{\"marker\": {\"line\": {\"color\": \"#E5ECF6\", \"width\": 0.5}}, \"type\": \"barpolar\"}], \"carpet\": [{\"aaxis\": {\"endlinecolor\": \"#2a3f5f\", \"gridcolor\": \"white\", \"linecolor\": \"white\", \"minorgridcolor\": \"white\", \"startlinecolor\": \"#2a3f5f\"}, \"baxis\": {\"endlinecolor\": \"#2a3f5f\", \"gridcolor\": \"white\", \"linecolor\": \"white\", \"minorgridcolor\": \"white\", \"startlinecolor\": \"#2a3f5f\"}, \"type\": \"carpet\"}], \"choropleth\": [{\"colorbar\": {\"outlinewidth\": 0, \"ticks\": \"\"}, \"type\": \"choropleth\"}], \"contour\": [{\"colorbar\": {\"outlinewidth\": 0, \"ticks\": \"\"}, \"colorscale\": [[0.0, \"#0d0887\"], [0.1111111111111111, \"#46039f\"], [0.2222222222222222, \"#7201a8\"], [0.3333333333333333, \"#9c179e\"], [0.4444444444444444, \"#bd3786\"], [0.5555555555555556, \"#d8576b\"], [0.6666666666666666, \"#ed7953\"], [0.7777777777777778, \"#fb9f3a\"], [0.8888888888888888, \"#fdca26\"], [1.0, \"#f0f921\"]], \"type\": \"contour\"}], \"contourcarpet\": [{\"colorbar\": {\"outlinewidth\": 0, \"ticks\": \"\"}, \"type\": \"contourcarpet\"}], \"heatmap\": [{\"colorbar\": {\"outlinewidth\": 0, \"ticks\": \"\"}, \"colorscale\": [[0.0, \"#0d0887\"], [0.1111111111111111, \"#46039f\"], [0.2222222222222222, \"#7201a8\"], [0.3333333333333333, \"#9c179e\"], [0.4444444444444444, \"#bd3786\"], [0.5555555555555556, \"#d8576b\"], [0.6666666666666666, \"#ed7953\"], [0.7777777777777778, \"#fb9f3a\"], [0.8888888888888888, \"#fdca26\"], [1.0, \"#f0f921\"]], \"type\": \"heatmap\"}], \"heatmapgl\": [{\"colorbar\": {\"outlinewidth\": 0, \"ticks\": \"\"}, \"colorscale\": [[0.0, \"#0d0887\"], [0.1111111111111111, \"#46039f\"], [0.2222222222222222, \"#7201a8\"], [0.3333333333333333, \"#9c179e\"], [0.4444444444444444, \"#bd3786\"], [0.5555555555555556, \"#d8576b\"], [0.6666666666666666, \"#ed7953\"], [0.7777777777777778, \"#fb9f3a\"], [0.8888888888888888, \"#fdca26\"], [1.0, \"#f0f921\"]], \"type\": \"heatmapgl\"}], \"histogram\": [{\"marker\": {\"colorbar\": {\"outlinewidth\": 0, \"ticks\": \"\"}}, \"type\": \"histogram\"}], \"histogram2d\": [{\"colorbar\": {\"outlinewidth\": 0, \"ticks\": \"\"}, \"colorscale\": [[0.0, \"#0d0887\"], [0.1111111111111111, \"#46039f\"], [0.2222222222222222, \"#7201a8\"], [0.3333333333333333, \"#9c179e\"], [0.4444444444444444, \"#bd3786\"], [0.5555555555555556, \"#d8576b\"], [0.6666666666666666, \"#ed7953\"], [0.7777777777777778, \"#fb9f3a\"], [0.8888888888888888, \"#fdca26\"], [1.0, \"#f0f921\"]], \"type\": \"histogram2d\"}], \"histogram2dcontour\": [{\"colorbar\": {\"outlinewidth\": 0, \"ticks\": \"\"}, \"colorscale\": [[0.0, \"#0d0887\"], [0.1111111111111111, \"#46039f\"], [0.2222222222222222, \"#7201a8\"], [0.3333333333333333, \"#9c179e\"], [0.4444444444444444, \"#bd3786\"], [0.5555555555555556, \"#d8576b\"], [0.6666666666666666, \"#ed7953\"], [0.7777777777777778, \"#fb9f3a\"], [0.8888888888888888, \"#fdca26\"], [1.0, \"#f0f921\"]], \"type\": \"histogram2dcontour\"}], \"mesh3d\": [{\"colorbar\": {\"outlinewidth\": 0, \"ticks\": \"\"}, \"type\": \"mesh3d\"}], \"parcoords\": [{\"line\": {\"colorbar\": {\"outlinewidth\": 0, \"ticks\": \"\"}}, \"type\": \"parcoords\"}], \"pie\": [{\"automargin\": true, \"type\": \"pie\"}], \"scatter\": [{\"marker\": {\"colorbar\": {\"outlinewidth\": 0, \"ticks\": \"\"}}, \"type\": \"scatter\"}], \"scatter3d\": [{\"line\": {\"colorbar\": {\"outlinewidth\": 0, \"ticks\": \"\"}}, \"marker\": {\"colorbar\": {\"outlinewidth\": 0, \"ticks\": \"\"}}, \"type\": \"scatter3d\"}], \"scattercarpet\": [{\"marker\": {\"colorbar\": {\"outlinewidth\": 0, \"ticks\": \"\"}}, \"type\": \"scattercarpet\"}], \"scattergeo\": [{\"marker\": {\"colorbar\": {\"outlinewidth\": 0, \"ticks\": \"\"}}, \"type\": \"scattergeo\"}], \"scattergl\": [{\"marker\": {\"colorbar\": {\"outlinewidth\": 0, \"ticks\": \"\"}}, \"type\": \"scattergl\"}], \"scattermapbox\": [{\"marker\": {\"colorbar\": {\"outlinewidth\": 0, \"ticks\": \"\"}}, \"type\": \"scattermapbox\"}], \"scatterpolar\": [{\"marker\": {\"colorbar\": {\"outlinewidth\": 0, \"ticks\": \"\"}}, \"type\": \"scatterpolar\"}], \"scatterpolargl\": [{\"marker\": {\"colorbar\": {\"outlinewidth\": 0, \"ticks\": \"\"}}, \"type\": \"scatterpolargl\"}], \"scatterternary\": [{\"marker\": {\"colorbar\": {\"outlinewidth\": 0, \"ticks\": \"\"}}, \"type\": \"scatterternary\"}], \"surface\": [{\"colorbar\": {\"outlinewidth\": 0, \"ticks\": \"\"}, \"colorscale\": [[0.0, \"#0d0887\"], [0.1111111111111111, \"#46039f\"], [0.2222222222222222, \"#7201a8\"], [0.3333333333333333, \"#9c179e\"], [0.4444444444444444, \"#bd3786\"], [0.5555555555555556, \"#d8576b\"], [0.6666666666666666, \"#ed7953\"], [0.7777777777777778, \"#fb9f3a\"], [0.8888888888888888, \"#fdca26\"], [1.0, \"#f0f921\"]], \"type\": \"surface\"}], \"table\": [{\"cells\": {\"fill\": {\"color\": \"#EBF0F8\"}, \"line\": {\"color\": \"white\"}}, \"header\": {\"fill\": {\"color\": \"#C8D4E3\"}, \"line\": {\"color\": \"white\"}}, \"type\": \"table\"}]}, \"layout\": {\"annotationdefaults\": {\"arrowcolor\": \"#2a3f5f\", \"arrowhead\": 0, \"arrowwidth\": 1}, \"coloraxis\": {\"colorbar\": {\"outlinewidth\": 0, \"ticks\": \"\"}}, \"colorscale\": {\"diverging\": [[0, \"#8e0152\"], [0.1, \"#c51b7d\"], [0.2, \"#de77ae\"], [0.3, \"#f1b6da\"], [0.4, \"#fde0ef\"], [0.5, \"#f7f7f7\"], [0.6, \"#e6f5d0\"], [0.7, \"#b8e186\"], [0.8, \"#7fbc41\"], [0.9, \"#4d9221\"], [1, \"#276419\"]], \"sequential\": [[0.0, \"#0d0887\"], [0.1111111111111111, \"#46039f\"], [0.2222222222222222, \"#7201a8\"], [0.3333333333333333, \"#9c179e\"], [0.4444444444444444, \"#bd3786\"], [0.5555555555555556, \"#d8576b\"], [0.6666666666666666, \"#ed7953\"], [0.7777777777777778, \"#fb9f3a\"], [0.8888888888888888, \"#fdca26\"], [1.0, \"#f0f921\"]], \"sequentialminus\": [[0.0, \"#0d0887\"], [0.1111111111111111, \"#46039f\"], [0.2222222222222222, \"#7201a8\"], [0.3333333333333333, \"#9c179e\"], [0.4444444444444444, \"#bd3786\"], [0.5555555555555556, \"#d8576b\"], [0.6666666666666666, \"#ed7953\"], [0.7777777777777778, \"#fb9f3a\"], [0.8888888888888888, \"#fdca26\"], [1.0, \"#f0f921\"]]}, \"colorway\": [\"#636efa\", \"#EF553B\", \"#00cc96\", \"#ab63fa\", \"#FFA15A\", \"#19d3f3\", \"#FF6692\", \"#B6E880\", \"#FF97FF\", \"#FECB52\"], \"font\": {\"color\": \"#2a3f5f\"}, \"geo\": {\"bgcolor\": \"white\", \"lakecolor\": \"white\", \"landcolor\": \"#E5ECF6\", \"showlakes\": true, \"showland\": true, \"subunitcolor\": \"white\"}, \"hoverlabel\": {\"align\": \"left\"}, \"hovermode\": \"closest\", \"mapbox\": {\"style\": \"light\"}, \"paper_bgcolor\": \"white\", \"plot_bgcolor\": \"#E5ECF6\", \"polar\": {\"angularaxis\": {\"gridcolor\": \"white\", \"linecolor\": \"white\", \"ticks\": \"\"}, \"bgcolor\": \"#E5ECF6\", \"radialaxis\": {\"gridcolor\": \"white\", \"linecolor\": \"white\", \"ticks\": \"\"}}, \"scene\": {\"xaxis\": {\"backgroundcolor\": \"#E5ECF6\", \"gridcolor\": \"white\", \"gridwidth\": 2, \"linecolor\": \"white\", \"showbackground\": true, \"ticks\": \"\", \"zerolinecolor\": \"white\"}, \"yaxis\": {\"backgroundcolor\": \"#E5ECF6\", \"gridcolor\": \"white\", \"gridwidth\": 2, \"linecolor\": \"white\", \"showbackground\": true, \"ticks\": \"\", \"zerolinecolor\": \"white\"}, \"zaxis\": {\"backgroundcolor\": \"#E5ECF6\", \"gridcolor\": \"white\", \"gridwidth\": 2, \"linecolor\": \"white\", \"showbackground\": true, \"ticks\": \"\", \"zerolinecolor\": \"white\"}}, \"shapedefaults\": {\"line\": {\"color\": \"#2a3f5f\"}}, \"ternary\": {\"aaxis\": {\"gridcolor\": \"white\", \"linecolor\": \"white\", \"ticks\": \"\"}, \"baxis\": {\"gridcolor\": \"white\", \"linecolor\": \"white\", \"ticks\": \"\"}, \"bgcolor\": \"#E5ECF6\", \"caxis\": {\"gridcolor\": \"white\", \"linecolor\": \"white\", \"ticks\": \"\"}}, \"title\": {\"x\": 0.05}, \"xaxis\": {\"automargin\": true, \"gridcolor\": \"white\", \"linecolor\": \"white\", \"ticks\": \"\", \"title\": {\"standoff\": 15}, \"zerolinecolor\": \"white\", \"zerolinewidth\": 2}, \"yaxis\": {\"automargin\": true, \"gridcolor\": \"white\", \"linecolor\": \"white\", \"ticks\": \"\", \"title\": {\"standoff\": 15}, \"zerolinecolor\": \"white\", \"zerolinewidth\": 2}}}, \"xaxis\": {\"anchor\": \"y2\", \"domain\": [0.0, 1.0], \"zeroline\": false}, \"yaxis\": {\"anchor\": \"free\", \"domain\": [0.35, 1], \"position\": 0.0}, \"yaxis2\": {\"anchor\": \"x\", \"domain\": [0, 0.25], \"dtick\": 1, \"showticklabels\": false}},\n",
              "                        {\"responsive\": true}\n",
              "                    ).then(function(){\n",
              "                            \n",
              "var gd = document.getElementById('75d363ca-c8ae-4b3e-8681-fabc5b430c12');\n",
              "var x = new MutationObserver(function (mutations, observer) {{\n",
              "        var display = window.getComputedStyle(gd).display;\n",
              "        if (!display || display === 'none') {{\n",
              "            console.log([gd, 'removed!']);\n",
              "            Plotly.purge(gd);\n",
              "            observer.disconnect();\n",
              "        }}\n",
              "}});\n",
              "\n",
              "// Listen for the removal of the full notebook cells\n",
              "var notebookContainer = gd.closest('#notebook-container');\n",
              "if (notebookContainer) {{\n",
              "    x.observe(notebookContainer, {childList: true});\n",
              "}}\n",
              "\n",
              "// Listen for the clearing of the current output cell\n",
              "var outputEl = gd.closest('.output');\n",
              "if (outputEl) {{\n",
              "    x.observe(outputEl, {childList: true});\n",
              "}}\n",
              "\n",
              "                        })\n",
              "                };\n",
              "                \n",
              "            </script>\n",
              "        </div>\n",
              "</body>\n",
              "</html>"
            ]
          },
          "metadata": {
            "tags": []
          }
        }
      ]
    },
    {
      "cell_type": "code",
      "metadata": {
        "id": "W3JA6Nr5aZ_e",
        "colab_type": "code",
        "colab": {
          "base_uri": "https://localhost:8080/",
          "height": 406
        },
        "outputId": "5729d615-c095-4384-e369-4921dc3a6eac"
      },
      "source": [
        "cars"
      ],
      "execution_count": 19,
      "outputs": [
        {
          "output_type": "execute_result",
          "data": {
            "text/html": [
              "<div>\n",
              "<style scoped>\n",
              "    .dataframe tbody tr th:only-of-type {\n",
              "        vertical-align: middle;\n",
              "    }\n",
              "\n",
              "    .dataframe tbody tr th {\n",
              "        vertical-align: top;\n",
              "    }\n",
              "\n",
              "    .dataframe thead th {\n",
              "        text-align: right;\n",
              "    }\n",
              "</style>\n",
              "<table border=\"1\" class=\"dataframe\">\n",
              "  <thead>\n",
              "    <tr style=\"text-align: right;\">\n",
              "      <th></th>\n",
              "      <th>mpg</th>\n",
              "      <th>cylinders</th>\n",
              "      <th>displacement</th>\n",
              "      <th>horsepower</th>\n",
              "      <th>weight</th>\n",
              "      <th>acceleration</th>\n",
              "      <th>model_year</th>\n",
              "      <th>origin</th>\n",
              "      <th>name</th>\n",
              "    </tr>\n",
              "  </thead>\n",
              "  <tbody>\n",
              "    <tr>\n",
              "      <th>0</th>\n",
              "      <td>18.0</td>\n",
              "      <td>8</td>\n",
              "      <td>307.0</td>\n",
              "      <td>130.0</td>\n",
              "      <td>3504</td>\n",
              "      <td>12.0</td>\n",
              "      <td>70</td>\n",
              "      <td>1</td>\n",
              "      <td>chevrolet chevelle malibu</td>\n",
              "    </tr>\n",
              "    <tr>\n",
              "      <th>1</th>\n",
              "      <td>15.0</td>\n",
              "      <td>8</td>\n",
              "      <td>350.0</td>\n",
              "      <td>165.0</td>\n",
              "      <td>3693</td>\n",
              "      <td>11.5</td>\n",
              "      <td>70</td>\n",
              "      <td>1</td>\n",
              "      <td>buick skylark 320</td>\n",
              "    </tr>\n",
              "    <tr>\n",
              "      <th>2</th>\n",
              "      <td>18.0</td>\n",
              "      <td>8</td>\n",
              "      <td>318.0</td>\n",
              "      <td>150.0</td>\n",
              "      <td>3436</td>\n",
              "      <td>11.0</td>\n",
              "      <td>70</td>\n",
              "      <td>1</td>\n",
              "      <td>plymouth satellite</td>\n",
              "    </tr>\n",
              "    <tr>\n",
              "      <th>3</th>\n",
              "      <td>16.0</td>\n",
              "      <td>8</td>\n",
              "      <td>304.0</td>\n",
              "      <td>150.0</td>\n",
              "      <td>3433</td>\n",
              "      <td>12.0</td>\n",
              "      <td>70</td>\n",
              "      <td>1</td>\n",
              "      <td>amc rebel sst</td>\n",
              "    </tr>\n",
              "    <tr>\n",
              "      <th>4</th>\n",
              "      <td>17.0</td>\n",
              "      <td>8</td>\n",
              "      <td>302.0</td>\n",
              "      <td>140.0</td>\n",
              "      <td>3449</td>\n",
              "      <td>10.5</td>\n",
              "      <td>70</td>\n",
              "      <td>1</td>\n",
              "      <td>ford torino</td>\n",
              "    </tr>\n",
              "    <tr>\n",
              "      <th>...</th>\n",
              "      <td>...</td>\n",
              "      <td>...</td>\n",
              "      <td>...</td>\n",
              "      <td>...</td>\n",
              "      <td>...</td>\n",
              "      <td>...</td>\n",
              "      <td>...</td>\n",
              "      <td>...</td>\n",
              "      <td>...</td>\n",
              "    </tr>\n",
              "    <tr>\n",
              "      <th>393</th>\n",
              "      <td>27.0</td>\n",
              "      <td>4</td>\n",
              "      <td>140.0</td>\n",
              "      <td>86.0</td>\n",
              "      <td>2790</td>\n",
              "      <td>15.6</td>\n",
              "      <td>82</td>\n",
              "      <td>1</td>\n",
              "      <td>ford mustang gl</td>\n",
              "    </tr>\n",
              "    <tr>\n",
              "      <th>394</th>\n",
              "      <td>44.0</td>\n",
              "      <td>4</td>\n",
              "      <td>97.0</td>\n",
              "      <td>52.0</td>\n",
              "      <td>2130</td>\n",
              "      <td>24.6</td>\n",
              "      <td>82</td>\n",
              "      <td>2</td>\n",
              "      <td>vw pickup</td>\n",
              "    </tr>\n",
              "    <tr>\n",
              "      <th>395</th>\n",
              "      <td>32.0</td>\n",
              "      <td>4</td>\n",
              "      <td>135.0</td>\n",
              "      <td>84.0</td>\n",
              "      <td>2295</td>\n",
              "      <td>11.6</td>\n",
              "      <td>82</td>\n",
              "      <td>1</td>\n",
              "      <td>dodge rampage</td>\n",
              "    </tr>\n",
              "    <tr>\n",
              "      <th>396</th>\n",
              "      <td>28.0</td>\n",
              "      <td>4</td>\n",
              "      <td>120.0</td>\n",
              "      <td>79.0</td>\n",
              "      <td>2625</td>\n",
              "      <td>18.6</td>\n",
              "      <td>82</td>\n",
              "      <td>1</td>\n",
              "      <td>ford ranger</td>\n",
              "    </tr>\n",
              "    <tr>\n",
              "      <th>397</th>\n",
              "      <td>31.0</td>\n",
              "      <td>4</td>\n",
              "      <td>119.0</td>\n",
              "      <td>82.0</td>\n",
              "      <td>2720</td>\n",
              "      <td>19.4</td>\n",
              "      <td>82</td>\n",
              "      <td>1</td>\n",
              "      <td>chevy s-10</td>\n",
              "    </tr>\n",
              "  </tbody>\n",
              "</table>\n",
              "<p>398 rows × 9 columns</p>\n",
              "</div>"
            ],
            "text/plain": [
              "      mpg  cylinders  ...  origin                       name\n",
              "0    18.0          8  ...       1  chevrolet chevelle malibu\n",
              "1    15.0          8  ...       1          buick skylark 320\n",
              "2    18.0          8  ...       1         plymouth satellite\n",
              "3    16.0          8  ...       1              amc rebel sst\n",
              "4    17.0          8  ...       1                ford torino\n",
              "..    ...        ...  ...     ...                        ...\n",
              "393  27.0          4  ...       1            ford mustang gl\n",
              "394  44.0          4  ...       2                  vw pickup\n",
              "395  32.0          4  ...       1              dodge rampage\n",
              "396  28.0          4  ...       1                ford ranger\n",
              "397  31.0          4  ...       1                 chevy s-10\n",
              "\n",
              "[398 rows x 9 columns]"
            ]
          },
          "metadata": {
            "tags": []
          },
          "execution_count": 19
        }
      ]
    }
  ]
}