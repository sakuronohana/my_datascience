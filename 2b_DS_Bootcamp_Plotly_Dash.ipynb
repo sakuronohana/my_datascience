{
  "nbformat": 4,
  "nbformat_minor": 0,
  "metadata": {
    "kernelspec": {
      "display_name": "Python 3",
      "language": "python",
      "name": "python3"
    },
    "language_info": {
      "codemirror_mode": {
        "name": "ipython",
        "version": 3
      },
      "file_extension": ".py",
      "mimetype": "text/x-python",
      "name": "python",
      "nbconvert_exporter": "python",
      "pygments_lexer": "ipython3",
      "version": "3.7.4"
    },
    "colab": {
      "name": "2b_DS_Bootcamp_Plotly_Dash.ipynb",
      "provenance": []
    }
  },
  "cells": [
    {
      "cell_type": "markdown",
      "metadata": {
        "id": "FRqJF7RCRsZf",
        "colab_type": "text"
      },
      "source": [
        "# Visualisierung mit Plotly & Dash #\n",
        "\n",
        "Nachfolgend eine kleine Einführung in die Visualisierung mit Plotly und Dash.\n",
        "\n",
        "Dash ist ein produktives Python-Framework zum Erstellen von Webanwendungen. Dash wurde auf Flask, Plotly.js und React.js geschrieben und ist ideal zum Erstellen von Datenvisualisierungs-Apps mit hochgradig benutzerdefinierten Benutzeroberflächen in reinem Python. \n",
        "Dash-Apps werden im Webbrowser gerendert. Sie können Ihre Apps auf Servern bereitstellen und sie dann über URLs freigeben. Da Dash-Apps im Webbrowser angezeigt werden, ist Dash von Natur aus plattformübergreifend und mobil einsetzbar.\n",
        "Quelle: [Plotly Dash](https://dash.plot.ly/introduction)"
      ]
    },
    {
      "cell_type": "markdown",
      "metadata": {
        "id": "rrdt5ZTjRsZg",
        "colab_type": "text"
      },
      "source": [
        "## Einführung in Plotly ##\n",
        "\n",
        "Bevor wir uns mit Dash beschäftigen ist es ratsam eine kurze Einführung in Plotly selbst zu machen. Auf der folgenden Webseite finden wir sehr viele Beispiele welche Art von Plots wir mit Plotly erstellen können. \n",
        "\n",
        "https://plot.ly/python"
      ]
    },
    {
      "cell_type": "markdown",
      "metadata": {
        "id": "xIhx0s_TRsZg",
        "colab_type": "text"
      },
      "source": [
        "### Aufbau ###\n",
        "\n",
        "Bevor wir uns nun mit den einzelnen Plots beschäftigen ist es wichtig mal zuerst den generellen Aufbau zu verstehen. Plotly besteht aus folgenden Objekten:\n",
        "\n",
        "* Data - Hier werden immer die Daten und ihre Attribute definiert bspw. Plotart (Scatter, Bar usw.) x, y, Mode, Marker usw.)\n",
        "* Layout - In diesem Element wird das grundsätzliche Erscheinungsbild des Plots bspw. Titel, Axenbeschrieftungen, Hovermode usw.\n"
      ]
    },
    {
      "cell_type": "markdown",
      "metadata": {
        "id": "IboqBROYRsZh",
        "colab_type": "text"
      },
      "source": [
        "### Scatter Plots ###\n",
        "\n",
        "Der Scatter Plot ist ein unverzichtbarer Graph wenn es darum geht Korrelationen zwischen zwei Variablen zu finden.\n",
        "\n",
        "Referenz zu Scatter Plot ([Link](https://plotly.com/python/reference/#scatter))"
      ]
    },
    {
      "cell_type": "code",
      "metadata": {
        "id": "ZX7ilqtlRsZm",
        "colab_type": "code",
        "colab": {
          "base_uri": "https://localhost:8080/",
          "height": 542
        },
        "outputId": "1e0db3f2-1d42-4e02-ac4b-b3c966117532"
      },
      "source": [
        "import pandas as pd\n",
        "import plotly.offline as pyo\n",
        "import plotly.graph_objs as go\n",
        "\n",
        "# Datenimport \n",
        "\n",
        "datloc = 'https://raw.githubusercontent.com/sakuronohana/cas_StatDaVi/master/Semesterarbeit/Daten/wb_total_population.csv'\n",
        "wpop = pd.read_csv(datloc)\n",
        "\n",
        "wpop.set_index('Country Name',inplace=True)\n",
        "\n",
        "x = wpop['1994']\n",
        "y = wpop['2015']\n",
        "\n",
        "# Nun ploten wir die Daten. Wichtig dabei ist, es handelt sich um eine Liste\n",
        "data = [go.Scatter(\n",
        "    x=x, \n",
        "    y=y, \n",
        "    mode='markers', # Form der Datenpunkte \n",
        "    marker=dict( # Konfiguration der Datenpunkte\n",
        "        size=12, # Datenpunkte auf Grösse 12\n",
        "        color='red', #Datenpunkte in Rot\n",
        "        symbol= 'pentagon', # Form der Datenpunkte\n",
        "        line = dict(width=2), # Linienbreite der Datenpunkte\n",
        "    ))]\n",
        "\n",
        "# Nun defineren wir das Layout unserere Plots. Layout ist keine Liste\n",
        "layout = go.Layout(\n",
        "        title='Mein Plotly Scatter Plot',\n",
        "        # Hier die erste Methode einer Axenbeschriftung\n",
        "        xaxis= {'title':'Werte der Axe x'},\n",
        "        # Zweite Methode einer Axenbeschrifung\n",
        "        yaxis=dict(title='Werte der Axe y'),\n",
        "        hovermode='closest')\n",
        "\n",
        "# Nun fassen wir alles in einer Variablen zusammen\n",
        "fig = go.Figure(data=data, layout=layout)\n",
        "\n",
        "# Führen wir nun diesen Plot aus wird ein Browser geöffnet\n",
        "fig.show() \n",
        "\n",
        "# Als alternative können den Plot Offline bzw. als HTML speichern und ausführen.\n",
        "# pyo.plot(fig, filename = 'scatter.html')"
      ],
      "execution_count": 3,
      "outputs": [
        {
          "output_type": "display_data",
          "data": {
            "text/html": [
              "<html>\n",
              "<head><meta charset=\"utf-8\" /></head>\n",
              "<body>\n",
              "    <div>\n",
              "            <script src=\"https://cdnjs.cloudflare.com/ajax/libs/mathjax/2.7.5/MathJax.js?config=TeX-AMS-MML_SVG\"></script><script type=\"text/javascript\">if (window.MathJax) {MathJax.Hub.Config({SVG: {font: \"STIX-Web\"}});}</script>\n",
              "                <script type=\"text/javascript\">window.PlotlyConfig = {MathJaxConfig: 'local'};</script>\n",
              "        <script src=\"https://cdn.plot.ly/plotly-latest.min.js\"></script>    \n",
              "            <div id=\"7509938a-89f6-46f2-97aa-141c16fe193e\" class=\"plotly-graph-div\" style=\"height:525px; width:100%;\"></div>\n",
              "            <script type=\"text/javascript\">\n",
              "                \n",
              "                    window.PLOTLYENV=window.PLOTLYENV || {};\n",
              "                    \n",
              "                if (document.getElementById(\"7509938a-89f6-46f2-97aa-141c16fe193e\")) {\n",
              "                    Plotly.newPlot(\n",
              "                        '7509938a-89f6-46f2-97aa-141c16fe193e',\n",
              "                        [{\"marker\": {\"color\": \"red\", \"line\": {\"width\": 2}, \"size\": 12, \"symbol\": \"pentagon\"}, \"mode\": \"markers\", \"type\": \"scatter\", \"x\": [13503747, 34402672, 17855000, 7466793, 159432716, 29000663, 1191835000, 40252975, 81438348, 10512922, 945601831, 124961000, 56843400, 90156400, 14948048, 148336000, 8780745, 6993795, 263126000, 21474549], \"y\": [27884381, 43131966, 23815995, 10869730, 204471769, 35702908, 1371220000, 76244544, 81686611, 10820883, 1310152403, 127141000, 60730582, 121858258, 27042002, 144096870, 9799186, 8282396, 320742673, 30081829]}],\n",
              "                        {\"hovermode\": \"closest\", \"template\": {\"data\": {\"bar\": [{\"error_x\": {\"color\": \"#2a3f5f\"}, \"error_y\": {\"color\": \"#2a3f5f\"}, \"marker\": {\"line\": {\"color\": \"#E5ECF6\", \"width\": 0.5}}, \"type\": \"bar\"}], \"barpolar\": [{\"marker\": {\"line\": {\"color\": \"#E5ECF6\", \"width\": 0.5}}, \"type\": \"barpolar\"}], \"carpet\": [{\"aaxis\": {\"endlinecolor\": \"#2a3f5f\", \"gridcolor\": \"white\", \"linecolor\": \"white\", \"minorgridcolor\": \"white\", \"startlinecolor\": \"#2a3f5f\"}, \"baxis\": {\"endlinecolor\": \"#2a3f5f\", \"gridcolor\": \"white\", \"linecolor\": \"white\", \"minorgridcolor\": \"white\", \"startlinecolor\": \"#2a3f5f\"}, \"type\": \"carpet\"}], \"choropleth\": [{\"colorbar\": {\"outlinewidth\": 0, \"ticks\": \"\"}, \"type\": \"choropleth\"}], \"contour\": [{\"colorbar\": {\"outlinewidth\": 0, \"ticks\": \"\"}, \"colorscale\": [[0.0, \"#0d0887\"], [0.1111111111111111, \"#46039f\"], [0.2222222222222222, \"#7201a8\"], [0.3333333333333333, \"#9c179e\"], [0.4444444444444444, \"#bd3786\"], [0.5555555555555556, \"#d8576b\"], [0.6666666666666666, \"#ed7953\"], [0.7777777777777778, \"#fb9f3a\"], [0.8888888888888888, \"#fdca26\"], [1.0, \"#f0f921\"]], \"type\": \"contour\"}], \"contourcarpet\": [{\"colorbar\": {\"outlinewidth\": 0, \"ticks\": \"\"}, \"type\": \"contourcarpet\"}], \"heatmap\": [{\"colorbar\": {\"outlinewidth\": 0, \"ticks\": \"\"}, \"colorscale\": [[0.0, \"#0d0887\"], [0.1111111111111111, \"#46039f\"], [0.2222222222222222, \"#7201a8\"], [0.3333333333333333, \"#9c179e\"], [0.4444444444444444, \"#bd3786\"], [0.5555555555555556, \"#d8576b\"], [0.6666666666666666, \"#ed7953\"], [0.7777777777777778, \"#fb9f3a\"], [0.8888888888888888, \"#fdca26\"], [1.0, \"#f0f921\"]], \"type\": \"heatmap\"}], \"heatmapgl\": [{\"colorbar\": {\"outlinewidth\": 0, \"ticks\": \"\"}, \"colorscale\": [[0.0, \"#0d0887\"], [0.1111111111111111, \"#46039f\"], [0.2222222222222222, \"#7201a8\"], [0.3333333333333333, \"#9c179e\"], [0.4444444444444444, \"#bd3786\"], [0.5555555555555556, \"#d8576b\"], [0.6666666666666666, \"#ed7953\"], [0.7777777777777778, \"#fb9f3a\"], [0.8888888888888888, \"#fdca26\"], [1.0, \"#f0f921\"]], \"type\": \"heatmapgl\"}], \"histogram\": [{\"marker\": {\"colorbar\": {\"outlinewidth\": 0, \"ticks\": \"\"}}, \"type\": \"histogram\"}], \"histogram2d\": [{\"colorbar\": {\"outlinewidth\": 0, \"ticks\": \"\"}, \"colorscale\": [[0.0, \"#0d0887\"], [0.1111111111111111, \"#46039f\"], [0.2222222222222222, \"#7201a8\"], [0.3333333333333333, \"#9c179e\"], [0.4444444444444444, \"#bd3786\"], [0.5555555555555556, \"#d8576b\"], [0.6666666666666666, \"#ed7953\"], [0.7777777777777778, \"#fb9f3a\"], [0.8888888888888888, \"#fdca26\"], [1.0, \"#f0f921\"]], \"type\": \"histogram2d\"}], \"histogram2dcontour\": [{\"colorbar\": {\"outlinewidth\": 0, \"ticks\": \"\"}, \"colorscale\": [[0.0, \"#0d0887\"], [0.1111111111111111, \"#46039f\"], [0.2222222222222222, \"#7201a8\"], [0.3333333333333333, \"#9c179e\"], [0.4444444444444444, \"#bd3786\"], [0.5555555555555556, \"#d8576b\"], [0.6666666666666666, \"#ed7953\"], [0.7777777777777778, \"#fb9f3a\"], [0.8888888888888888, \"#fdca26\"], [1.0, \"#f0f921\"]], \"type\": \"histogram2dcontour\"}], \"mesh3d\": [{\"colorbar\": {\"outlinewidth\": 0, \"ticks\": \"\"}, \"type\": \"mesh3d\"}], \"parcoords\": [{\"line\": {\"colorbar\": {\"outlinewidth\": 0, \"ticks\": \"\"}}, \"type\": \"parcoords\"}], \"pie\": [{\"automargin\": true, \"type\": \"pie\"}], \"scatter\": [{\"marker\": {\"colorbar\": {\"outlinewidth\": 0, \"ticks\": \"\"}}, \"type\": \"scatter\"}], \"scatter3d\": [{\"line\": {\"colorbar\": {\"outlinewidth\": 0, \"ticks\": \"\"}}, \"marker\": {\"colorbar\": {\"outlinewidth\": 0, \"ticks\": \"\"}}, \"type\": \"scatter3d\"}], \"scattercarpet\": [{\"marker\": {\"colorbar\": {\"outlinewidth\": 0, \"ticks\": \"\"}}, \"type\": \"scattercarpet\"}], \"scattergeo\": [{\"marker\": {\"colorbar\": {\"outlinewidth\": 0, \"ticks\": \"\"}}, \"type\": \"scattergeo\"}], \"scattergl\": [{\"marker\": {\"colorbar\": {\"outlinewidth\": 0, \"ticks\": \"\"}}, \"type\": \"scattergl\"}], \"scattermapbox\": [{\"marker\": {\"colorbar\": {\"outlinewidth\": 0, \"ticks\": \"\"}}, \"type\": \"scattermapbox\"}], \"scatterpolar\": [{\"marker\": {\"colorbar\": {\"outlinewidth\": 0, \"ticks\": \"\"}}, \"type\": \"scatterpolar\"}], \"scatterpolargl\": [{\"marker\": {\"colorbar\": {\"outlinewidth\": 0, \"ticks\": \"\"}}, \"type\": \"scatterpolargl\"}], \"scatterternary\": [{\"marker\": {\"colorbar\": {\"outlinewidth\": 0, \"ticks\": \"\"}}, \"type\": \"scatterternary\"}], \"surface\": [{\"colorbar\": {\"outlinewidth\": 0, \"ticks\": \"\"}, \"colorscale\": [[0.0, \"#0d0887\"], [0.1111111111111111, \"#46039f\"], [0.2222222222222222, \"#7201a8\"], [0.3333333333333333, \"#9c179e\"], [0.4444444444444444, \"#bd3786\"], [0.5555555555555556, \"#d8576b\"], [0.6666666666666666, \"#ed7953\"], [0.7777777777777778, \"#fb9f3a\"], [0.8888888888888888, \"#fdca26\"], [1.0, \"#f0f921\"]], \"type\": \"surface\"}], \"table\": [{\"cells\": {\"fill\": {\"color\": \"#EBF0F8\"}, \"line\": {\"color\": \"white\"}}, \"header\": {\"fill\": {\"color\": \"#C8D4E3\"}, \"line\": {\"color\": \"white\"}}, \"type\": \"table\"}]}, \"layout\": {\"annotationdefaults\": {\"arrowcolor\": \"#2a3f5f\", \"arrowhead\": 0, \"arrowwidth\": 1}, \"coloraxis\": {\"colorbar\": {\"outlinewidth\": 0, \"ticks\": \"\"}}, \"colorscale\": {\"diverging\": [[0, \"#8e0152\"], [0.1, \"#c51b7d\"], [0.2, \"#de77ae\"], [0.3, \"#f1b6da\"], [0.4, \"#fde0ef\"], [0.5, \"#f7f7f7\"], [0.6, \"#e6f5d0\"], [0.7, \"#b8e186\"], [0.8, \"#7fbc41\"], [0.9, \"#4d9221\"], [1, \"#276419\"]], \"sequential\": [[0.0, \"#0d0887\"], [0.1111111111111111, \"#46039f\"], [0.2222222222222222, \"#7201a8\"], [0.3333333333333333, \"#9c179e\"], [0.4444444444444444, \"#bd3786\"], [0.5555555555555556, \"#d8576b\"], [0.6666666666666666, \"#ed7953\"], [0.7777777777777778, \"#fb9f3a\"], [0.8888888888888888, \"#fdca26\"], [1.0, \"#f0f921\"]], \"sequentialminus\": [[0.0, \"#0d0887\"], [0.1111111111111111, \"#46039f\"], [0.2222222222222222, \"#7201a8\"], [0.3333333333333333, \"#9c179e\"], [0.4444444444444444, \"#bd3786\"], [0.5555555555555556, \"#d8576b\"], [0.6666666666666666, \"#ed7953\"], [0.7777777777777778, \"#fb9f3a\"], [0.8888888888888888, \"#fdca26\"], [1.0, \"#f0f921\"]]}, \"colorway\": [\"#636efa\", \"#EF553B\", \"#00cc96\", \"#ab63fa\", \"#FFA15A\", \"#19d3f3\", \"#FF6692\", \"#B6E880\", \"#FF97FF\", \"#FECB52\"], \"font\": {\"color\": \"#2a3f5f\"}, \"geo\": {\"bgcolor\": \"white\", \"lakecolor\": \"white\", \"landcolor\": \"#E5ECF6\", \"showlakes\": true, \"showland\": true, \"subunitcolor\": \"white\"}, \"hoverlabel\": {\"align\": \"left\"}, \"hovermode\": \"closest\", \"mapbox\": {\"style\": \"light\"}, \"paper_bgcolor\": \"white\", \"plot_bgcolor\": \"#E5ECF6\", \"polar\": {\"angularaxis\": {\"gridcolor\": \"white\", \"linecolor\": \"white\", \"ticks\": \"\"}, \"bgcolor\": \"#E5ECF6\", \"radialaxis\": {\"gridcolor\": \"white\", \"linecolor\": \"white\", \"ticks\": \"\"}}, \"scene\": {\"xaxis\": {\"backgroundcolor\": \"#E5ECF6\", \"gridcolor\": \"white\", \"gridwidth\": 2, \"linecolor\": \"white\", \"showbackground\": true, \"ticks\": \"\", \"zerolinecolor\": \"white\"}, \"yaxis\": {\"backgroundcolor\": \"#E5ECF6\", \"gridcolor\": \"white\", \"gridwidth\": 2, \"linecolor\": \"white\", \"showbackground\": true, \"ticks\": \"\", \"zerolinecolor\": \"white\"}, \"zaxis\": {\"backgroundcolor\": \"#E5ECF6\", \"gridcolor\": \"white\", \"gridwidth\": 2, \"linecolor\": \"white\", \"showbackground\": true, \"ticks\": \"\", \"zerolinecolor\": \"white\"}}, \"shapedefaults\": {\"line\": {\"color\": \"#2a3f5f\"}}, \"ternary\": {\"aaxis\": {\"gridcolor\": \"white\", \"linecolor\": \"white\", \"ticks\": \"\"}, \"baxis\": {\"gridcolor\": \"white\", \"linecolor\": \"white\", \"ticks\": \"\"}, \"bgcolor\": \"#E5ECF6\", \"caxis\": {\"gridcolor\": \"white\", \"linecolor\": \"white\", \"ticks\": \"\"}}, \"title\": {\"x\": 0.05}, \"xaxis\": {\"automargin\": true, \"gridcolor\": \"white\", \"linecolor\": \"white\", \"ticks\": \"\", \"title\": {\"standoff\": 15}, \"zerolinecolor\": \"white\", \"zerolinewidth\": 2}, \"yaxis\": {\"automargin\": true, \"gridcolor\": \"white\", \"linecolor\": \"white\", \"ticks\": \"\", \"title\": {\"standoff\": 15}, \"zerolinecolor\": \"white\", \"zerolinewidth\": 2}}}, \"title\": {\"text\": \"Mein Plotly Scatter Plot\"}, \"xaxis\": {\"title\": {\"text\": \"Werte der Axe x\"}}, \"yaxis\": {\"title\": {\"text\": \"Werte der Axe y\"}}},\n",
              "                        {\"responsive\": true}\n",
              "                    ).then(function(){\n",
              "                            \n",
              "var gd = document.getElementById('7509938a-89f6-46f2-97aa-141c16fe193e');\n",
              "var x = new MutationObserver(function (mutations, observer) {{\n",
              "        var display = window.getComputedStyle(gd).display;\n",
              "        if (!display || display === 'none') {{\n",
              "            console.log([gd, 'removed!']);\n",
              "            Plotly.purge(gd);\n",
              "            observer.disconnect();\n",
              "        }}\n",
              "}});\n",
              "\n",
              "// Listen for the removal of the full notebook cells\n",
              "var notebookContainer = gd.closest('#notebook-container');\n",
              "if (notebookContainer) {{\n",
              "    x.observe(notebookContainer, {childList: true});\n",
              "}}\n",
              "\n",
              "// Listen for the clearing of the current output cell\n",
              "var outputEl = gd.closest('.output');\n",
              "if (outputEl) {{\n",
              "    x.observe(outputEl, {childList: true});\n",
              "}}\n",
              "\n",
              "                        })\n",
              "                };\n",
              "                \n",
              "            </script>\n",
              "        </div>\n",
              "</body>\n",
              "</html>"
            ]
          },
          "metadata": {
            "tags": []
          }
        }
      ]
    },
    {
      "cell_type": "markdown",
      "metadata": {
        "id": "VQUNV1tqRsZo",
        "colab_type": "text"
      },
      "source": [
        "### Line Plots ###\n",
        "\n",
        "Wenn es darum geht stetige Daten in eine Zeitreihe aufzuzeigen, dann führt nichts an einem gute Line Plot vorbei."
      ]
    },
    {
      "cell_type": "code",
      "metadata": {
        "id": "7hBAsgP6Y4RI",
        "colab_type": "code",
        "colab": {
          "base_uri": "https://localhost:8080/",
          "height": 542
        },
        "outputId": "0bc076c2-c827-4dac-ea53-7b5c36a88388"
      },
      "source": [
        "import plotly.offline as pyo\n",
        "import plotly.graph_objs as go\n",
        "import numpy as np\n",
        "\n",
        "np.random.seed(56)\n",
        "x_values = np.linspace(0, 1, 100) # 100 evenly spaced values\n",
        "y_values = np.random.randn(100)   # 100 random values\n",
        "\n",
        "# create traces\n",
        "trace0 = go.Scatter(\n",
        "    x = x_values,\n",
        "    y = y_values+5,\n",
        "    mode = 'markers',\n",
        "    name = 'markers'\n",
        ")\n",
        "trace1 = go.Scatter(\n",
        "    x = x_values,\n",
        "    y = y_values,\n",
        "    mode = 'lines+markers',\n",
        "    name = 'lines+markers'\n",
        ")\n",
        "trace2 = go.Scatter(\n",
        "    x = x_values,\n",
        "    y = y_values-5,\n",
        "    mode = 'lines',\n",
        "    name = 'lines'\n",
        ")\n",
        "data = [trace0, trace1, trace2]  # assign traces to data\n",
        "layout = go.Layout(\n",
        "    title = 'Line chart showing three different modes'\n",
        ")\n",
        "fig = go.Figure(data=data,layout=layout)\n",
        "fig.show()"
      ],
      "execution_count": 15,
      "outputs": [
        {
          "output_type": "display_data",
          "data": {
            "text/html": [
              "<html>\n",
              "<head><meta charset=\"utf-8\" /></head>\n",
              "<body>\n",
              "    <div>\n",
              "            <script src=\"https://cdnjs.cloudflare.com/ajax/libs/mathjax/2.7.5/MathJax.js?config=TeX-AMS-MML_SVG\"></script><script type=\"text/javascript\">if (window.MathJax) {MathJax.Hub.Config({SVG: {font: \"STIX-Web\"}});}</script>\n",
              "                <script type=\"text/javascript\">window.PlotlyConfig = {MathJaxConfig: 'local'};</script>\n",
              "        <script src=\"https://cdn.plot.ly/plotly-latest.min.js\"></script>    \n",
              "            <div id=\"b23fcf1d-5773-4e66-9fe6-8119c4a31e9d\" class=\"plotly-graph-div\" style=\"height:525px; width:100%;\"></div>\n",
              "            <script type=\"text/javascript\">\n",
              "                \n",
              "                    window.PLOTLYENV=window.PLOTLYENV || {};\n",
              "                    \n",
              "                if (document.getElementById(\"b23fcf1d-5773-4e66-9fe6-8119c4a31e9d\")) {\n",
              "                    Plotly.newPlot(\n",
              "                        'b23fcf1d-5773-4e66-9fe6-8119c4a31e9d',\n",
              "                        [{\"mode\": \"markers\", \"name\": \"markers\", \"type\": \"scatter\", \"x\": [0.0, 0.010101010101010102, 0.020202020202020204, 0.030303030303030304, 0.04040404040404041, 0.05050505050505051, 0.06060606060606061, 0.07070707070707072, 0.08080808080808081, 0.09090909090909091, 0.10101010101010102, 0.11111111111111112, 0.12121212121212122, 0.13131313131313133, 0.14141414141414144, 0.15151515151515152, 0.16161616161616163, 0.17171717171717174, 0.18181818181818182, 0.19191919191919193, 0.20202020202020204, 0.21212121212121213, 0.22222222222222224, 0.23232323232323235, 0.24242424242424243, 0.25252525252525254, 0.26262626262626265, 0.27272727272727276, 0.2828282828282829, 0.29292929292929293, 0.30303030303030304, 0.31313131313131315, 0.32323232323232326, 0.33333333333333337, 0.3434343434343435, 0.3535353535353536, 0.36363636363636365, 0.37373737373737376, 0.38383838383838387, 0.393939393939394, 0.4040404040404041, 0.4141414141414142, 0.42424242424242425, 0.43434343434343436, 0.4444444444444445, 0.4545454545454546, 0.4646464646464647, 0.4747474747474748, 0.48484848484848486, 0.494949494949495, 0.5050505050505051, 0.5151515151515152, 0.5252525252525253, 0.5353535353535354, 0.5454545454545455, 0.5555555555555556, 0.5656565656565657, 0.5757575757575758, 0.5858585858585859, 0.595959595959596, 0.6060606060606061, 0.6161616161616162, 0.6262626262626263, 0.6363636363636365, 0.6464646464646465, 0.6565656565656566, 0.6666666666666667, 0.6767676767676768, 0.686868686868687, 0.696969696969697, 0.7070707070707072, 0.7171717171717172, 0.7272727272727273, 0.7373737373737375, 0.7474747474747475, 0.7575757575757577, 0.7676767676767677, 0.7777777777777778, 0.787878787878788, 0.797979797979798, 0.8080808080808082, 0.8181818181818182, 0.8282828282828284, 0.8383838383838385, 0.8484848484848485, 0.8585858585858587, 0.8686868686868687, 0.8787878787878789, 0.888888888888889, 0.8989898989898991, 0.9090909090909092, 0.9191919191919192, 0.9292929292929294, 0.9393939393939394, 0.9494949494949496, 0.9595959595959597, 0.9696969696969697, 0.9797979797979799, 0.98989898989899, 1.0], \"y\": [3.9623568244974257, 5.59365815715703, 6.102680622168492, 4.487822268824424, 4.734580140302545, 3.3829939864921883, 4.728485511420428, 5.945554250031659, 4.373007213314565, 4.734052718056487, 5.687293575189152, 7.048456908637855, 4.538441048186675, 5.687847423168455, 6.00812262256532, 4.843491018426125, 5.900077530374725, 6.000471322140927, 5.688374960247316, 3.1189042387372545, 5.859958148933172, 5.92045267748011, 5.270603246468369, 5.027819141649983, 2.8127423886446943, 5.134743775497379, 4.318544353923637, 2.577608938692351, 5.421173751836292, 4.322665354254515, 3.8597855763685898, 5.284615961239685, 4.457758597421851, 5.463519461503606, 4.1383119436689535, 5.8745422712420226, 4.455741457932556, 5.369966062639821, 4.565058772422818, 6.110123049123135, 3.6386332411614033, 4.864486324938091, 4.447977799800293, 4.950470775286345, 5.887307752015507, 6.154646723315321, 5.115766954170989, 3.838479672389576, 4.815368462077817, 5.466984070663726, 2.999014469238763, 3.652241541456256, 4.779371847210642, 4.921033624959668, 4.39215278183303, 3.7542661222313978, 6.629794317758779, 5.177528567116626, 4.328013422053625, 5.331128138937101, 7.006042774550741, 5.0061448421051935, 3.465309390584875, 4.930336576372079, 5.227687821018511, 2.487383266330429, 7.702712505968621, 5.58365058076347, 5.338781748592111, 5.689001408268186, 6.700348675458416, 4.558732757505499, 5.314493800301297, 5.636297587454268, 5.086771378076907, 4.882208369832598, 3.724126565435677, 5.906755961687117, 5.006062617766832, 4.147896360899007, 5.499587436442585, 3.4871907342782507, 7.004290632975638, 6.25882568579033, 6.040154873274862, 6.0513821040268425, 5.971570159583026, 3.413608859269023, 4.489418150856028, 4.121027062594841, 3.8644799238689185, 5.497006777318358, 6.510225865307171, 5.92073363775182, 5.639412012922287, 6.217040385050823, 5.15525235849528, 5.009229263598528, 4.8253182515555215, 5.3738363071150275]}, {\"mode\": \"lines+markers\", \"name\": \"lines+markers\", \"type\": \"scatter\", \"x\": [0.0, 0.010101010101010102, 0.020202020202020204, 0.030303030303030304, 0.04040404040404041, 0.05050505050505051, 0.06060606060606061, 0.07070707070707072, 0.08080808080808081, 0.09090909090909091, 0.10101010101010102, 0.11111111111111112, 0.12121212121212122, 0.13131313131313133, 0.14141414141414144, 0.15151515151515152, 0.16161616161616163, 0.17171717171717174, 0.18181818181818182, 0.19191919191919193, 0.20202020202020204, 0.21212121212121213, 0.22222222222222224, 0.23232323232323235, 0.24242424242424243, 0.25252525252525254, 0.26262626262626265, 0.27272727272727276, 0.2828282828282829, 0.29292929292929293, 0.30303030303030304, 0.31313131313131315, 0.32323232323232326, 0.33333333333333337, 0.3434343434343435, 0.3535353535353536, 0.36363636363636365, 0.37373737373737376, 0.38383838383838387, 0.393939393939394, 0.4040404040404041, 0.4141414141414142, 0.42424242424242425, 0.43434343434343436, 0.4444444444444445, 0.4545454545454546, 0.4646464646464647, 0.4747474747474748, 0.48484848484848486, 0.494949494949495, 0.5050505050505051, 0.5151515151515152, 0.5252525252525253, 0.5353535353535354, 0.5454545454545455, 0.5555555555555556, 0.5656565656565657, 0.5757575757575758, 0.5858585858585859, 0.595959595959596, 0.6060606060606061, 0.6161616161616162, 0.6262626262626263, 0.6363636363636365, 0.6464646464646465, 0.6565656565656566, 0.6666666666666667, 0.6767676767676768, 0.686868686868687, 0.696969696969697, 0.7070707070707072, 0.7171717171717172, 0.7272727272727273, 0.7373737373737375, 0.7474747474747475, 0.7575757575757577, 0.7676767676767677, 0.7777777777777778, 0.787878787878788, 0.797979797979798, 0.8080808080808082, 0.8181818181818182, 0.8282828282828284, 0.8383838383838385, 0.8484848484848485, 0.8585858585858587, 0.8686868686868687, 0.8787878787878789, 0.888888888888889, 0.8989898989898991, 0.9090909090909092, 0.9191919191919192, 0.9292929292929294, 0.9393939393939394, 0.9494949494949496, 0.9595959595959597, 0.9696969696969697, 0.9797979797979799, 0.98989898989899, 1.0], \"y\": [-1.0376431755025746, 0.5936581571570304, 1.102680622168492, -0.5121777311755766, -0.26541985969745524, -1.617006013507812, -0.2715144885795719, 0.9455542500316586, -0.626992786685435, -0.26594728194351275, 0.6872935751891517, 2.0484569086378546, -0.46155895181332507, 0.6878474231684545, 1.00812262256532, -0.15650898157387488, 0.9000775303747252, 1.0004713221409274, 0.6883749602473159, -1.8810957612627452, 0.8599581489331719, 0.9204526774801102, 0.2706032464683683, 0.02781914164998324, -2.1872576113553057, 0.1347437754973787, -0.6814556460763626, -2.422391061307649, 0.4211737518362921, -0.6773346457454847, -1.14021442363141, 0.28461596123968486, -0.542241402578149, 0.4635194615036054, -0.8616880563310468, 0.8745422712420226, -0.5442585420674441, 0.36996606263982135, -0.43494122757718234, 1.1101230491231344, -1.3613667588385965, -0.13551367506190884, -0.5520222001997066, -0.0495292247136558, 0.8873077520155068, 1.1546467233153208, 0.11576695417098896, -1.161520327610424, -0.18463153792218284, 0.4669840706637252, -2.000985530761237, -1.3477584585437443, -0.22062815278935807, -0.07896637504033216, -0.6078472181669707, -1.2457338777686022, 1.6297943177587786, 0.17752856711662585, -0.6719865779463751, 0.33112813893710036, 2.0060427745507408, 0.006144842105193356, -1.5346906094151251, -0.06966342362792169, 0.22768782101851137, -2.512616733669571, 2.702712505968621, 0.5836505807634701, 0.33878174859211124, 0.6890014082681857, 1.700348675458416, -0.441267242494501, 0.31449380030129703, 0.6362975874542686, 0.08677137807690763, -0.11779163016740253, -1.2758734345643228, 0.906755961687117, 0.006062617766832723, -0.8521036391009931, 0.49958743644258546, -1.5128092657217496, 2.0042906329756383, 1.2588256857903302, 1.0401548732748613, 1.0513821040268427, 0.971570159583026, -1.5863911407309772, -0.5105818491439725, -0.8789729374051589, -1.1355200761310813, 0.497006777318358, 1.510225865307171, 0.9207336377518199, 0.6394120129222873, 1.2170403850508231, 0.15525235849527985, 0.009229263598528001, -0.1746817484444784, 0.373836307115027]}, {\"mode\": \"lines\", \"name\": \"lines\", \"type\": \"scatter\", \"x\": [0.0, 0.010101010101010102, 0.020202020202020204, 0.030303030303030304, 0.04040404040404041, 0.05050505050505051, 0.06060606060606061, 0.07070707070707072, 0.08080808080808081, 0.09090909090909091, 0.10101010101010102, 0.11111111111111112, 0.12121212121212122, 0.13131313131313133, 0.14141414141414144, 0.15151515151515152, 0.16161616161616163, 0.17171717171717174, 0.18181818181818182, 0.19191919191919193, 0.20202020202020204, 0.21212121212121213, 0.22222222222222224, 0.23232323232323235, 0.24242424242424243, 0.25252525252525254, 0.26262626262626265, 0.27272727272727276, 0.2828282828282829, 0.29292929292929293, 0.30303030303030304, 0.31313131313131315, 0.32323232323232326, 0.33333333333333337, 0.3434343434343435, 0.3535353535353536, 0.36363636363636365, 0.37373737373737376, 0.38383838383838387, 0.393939393939394, 0.4040404040404041, 0.4141414141414142, 0.42424242424242425, 0.43434343434343436, 0.4444444444444445, 0.4545454545454546, 0.4646464646464647, 0.4747474747474748, 0.48484848484848486, 0.494949494949495, 0.5050505050505051, 0.5151515151515152, 0.5252525252525253, 0.5353535353535354, 0.5454545454545455, 0.5555555555555556, 0.5656565656565657, 0.5757575757575758, 0.5858585858585859, 0.595959595959596, 0.6060606060606061, 0.6161616161616162, 0.6262626262626263, 0.6363636363636365, 0.6464646464646465, 0.6565656565656566, 0.6666666666666667, 0.6767676767676768, 0.686868686868687, 0.696969696969697, 0.7070707070707072, 0.7171717171717172, 0.7272727272727273, 0.7373737373737375, 0.7474747474747475, 0.7575757575757577, 0.7676767676767677, 0.7777777777777778, 0.787878787878788, 0.797979797979798, 0.8080808080808082, 0.8181818181818182, 0.8282828282828284, 0.8383838383838385, 0.8484848484848485, 0.8585858585858587, 0.8686868686868687, 0.8787878787878789, 0.888888888888889, 0.8989898989898991, 0.9090909090909092, 0.9191919191919192, 0.9292929292929294, 0.9393939393939394, 0.9494949494949496, 0.9595959595959597, 0.9696969696969697, 0.9797979797979799, 0.98989898989899, 1.0], \"y\": [-6.037643175502574, -4.40634184284297, -3.897319377831508, -5.512177731175576, -5.265419859697455, -6.617006013507812, -5.271514488579572, -4.054445749968341, -5.626992786685435, -5.265947281943513, -4.312706424810848, -2.9515430913621454, -5.461558951813325, -4.312152576831545, -3.99187737743468, -5.156508981573875, -4.099922469625275, -3.9995286778590726, -4.311625039752684, -6.8810957612627455, -4.140041851066828, -4.07954732251989, -4.729396753531631, -4.972180858350017, -7.187257611355306, -4.865256224502621, -5.681455646076363, -7.422391061307649, -4.578826248163708, -5.677334645745485, -6.14021442363141, -4.715384038760315, -5.542241402578149, -4.536480538496394, -5.8616880563310465, -4.1254577287579774, -5.544258542067444, -4.630033937360179, -5.434941227577182, -3.8898769508768654, -6.361366758838597, -5.135513675061909, -5.552022200199707, -5.049529224713655, -4.112692247984493, -3.845353276684679, -4.884233045829011, -6.161520327610424, -5.184631537922183, -4.533015929336274, -7.000985530761238, -6.347758458543744, -5.220628152789358, -5.078966375040332, -5.60784721816697, -6.245733877768602, -3.370205682241221, -4.822471432883374, -5.671986577946375, -4.668871861062899, -2.9939572254492592, -4.9938551578948065, -6.534690609415125, -5.069663423627921, -4.772312178981489, -7.512616733669571, -2.297287494031379, -4.41634941923653, -4.661218251407889, -4.310998591731814, -3.2996513245415837, -5.441267242494501, -4.685506199698703, -4.363702412545732, -4.913228621923093, -5.117791630167402, -6.275873434564323, -4.093244038312883, -4.993937382233168, -5.852103639100993, -4.500412563557415, -6.512809265721749, -2.9957093670243617, -3.74117431420967, -3.9598451267251384, -3.9486178959731575, -4.028429840416974, -6.586391140730977, -5.510581849143972, -5.878972937405159, -6.1355200761310815, -4.502993222681642, -3.489774134692829, -4.07926636224818, -4.360587987077713, -3.782959614949177, -4.84474764150472, -4.990770736401472, -5.1746817484444785, -4.6261636928849725]}],\n",
              "                        {\"template\": {\"data\": {\"bar\": [{\"error_x\": {\"color\": \"#2a3f5f\"}, \"error_y\": {\"color\": \"#2a3f5f\"}, \"marker\": {\"line\": {\"color\": \"#E5ECF6\", \"width\": 0.5}}, \"type\": \"bar\"}], \"barpolar\": [{\"marker\": {\"line\": {\"color\": \"#E5ECF6\", \"width\": 0.5}}, \"type\": \"barpolar\"}], \"carpet\": [{\"aaxis\": {\"endlinecolor\": \"#2a3f5f\", \"gridcolor\": \"white\", \"linecolor\": \"white\", \"minorgridcolor\": \"white\", \"startlinecolor\": \"#2a3f5f\"}, \"baxis\": {\"endlinecolor\": \"#2a3f5f\", \"gridcolor\": \"white\", \"linecolor\": \"white\", \"minorgridcolor\": \"white\", \"startlinecolor\": \"#2a3f5f\"}, \"type\": \"carpet\"}], \"choropleth\": [{\"colorbar\": {\"outlinewidth\": 0, \"ticks\": \"\"}, \"type\": \"choropleth\"}], \"contour\": [{\"colorbar\": {\"outlinewidth\": 0, \"ticks\": \"\"}, \"colorscale\": [[0.0, \"#0d0887\"], [0.1111111111111111, \"#46039f\"], [0.2222222222222222, \"#7201a8\"], [0.3333333333333333, \"#9c179e\"], [0.4444444444444444, \"#bd3786\"], [0.5555555555555556, \"#d8576b\"], [0.6666666666666666, \"#ed7953\"], [0.7777777777777778, \"#fb9f3a\"], [0.8888888888888888, \"#fdca26\"], [1.0, \"#f0f921\"]], \"type\": \"contour\"}], \"contourcarpet\": [{\"colorbar\": {\"outlinewidth\": 0, \"ticks\": \"\"}, \"type\": \"contourcarpet\"}], \"heatmap\": [{\"colorbar\": {\"outlinewidth\": 0, \"ticks\": \"\"}, \"colorscale\": [[0.0, \"#0d0887\"], [0.1111111111111111, \"#46039f\"], [0.2222222222222222, \"#7201a8\"], [0.3333333333333333, \"#9c179e\"], [0.4444444444444444, \"#bd3786\"], [0.5555555555555556, \"#d8576b\"], [0.6666666666666666, \"#ed7953\"], [0.7777777777777778, \"#fb9f3a\"], [0.8888888888888888, \"#fdca26\"], [1.0, \"#f0f921\"]], \"type\": \"heatmap\"}], \"heatmapgl\": [{\"colorbar\": {\"outlinewidth\": 0, \"ticks\": \"\"}, \"colorscale\": [[0.0, \"#0d0887\"], [0.1111111111111111, \"#46039f\"], [0.2222222222222222, \"#7201a8\"], [0.3333333333333333, \"#9c179e\"], [0.4444444444444444, \"#bd3786\"], [0.5555555555555556, \"#d8576b\"], [0.6666666666666666, \"#ed7953\"], [0.7777777777777778, \"#fb9f3a\"], [0.8888888888888888, \"#fdca26\"], [1.0, \"#f0f921\"]], \"type\": \"heatmapgl\"}], \"histogram\": [{\"marker\": {\"colorbar\": {\"outlinewidth\": 0, \"ticks\": \"\"}}, \"type\": \"histogram\"}], \"histogram2d\": [{\"colorbar\": {\"outlinewidth\": 0, \"ticks\": \"\"}, \"colorscale\": [[0.0, \"#0d0887\"], [0.1111111111111111, \"#46039f\"], [0.2222222222222222, \"#7201a8\"], [0.3333333333333333, \"#9c179e\"], [0.4444444444444444, \"#bd3786\"], [0.5555555555555556, \"#d8576b\"], [0.6666666666666666, \"#ed7953\"], [0.7777777777777778, \"#fb9f3a\"], [0.8888888888888888, \"#fdca26\"], [1.0, \"#f0f921\"]], \"type\": \"histogram2d\"}], \"histogram2dcontour\": [{\"colorbar\": {\"outlinewidth\": 0, \"ticks\": \"\"}, \"colorscale\": [[0.0, \"#0d0887\"], [0.1111111111111111, \"#46039f\"], [0.2222222222222222, \"#7201a8\"], [0.3333333333333333, \"#9c179e\"], [0.4444444444444444, \"#bd3786\"], [0.5555555555555556, \"#d8576b\"], [0.6666666666666666, \"#ed7953\"], [0.7777777777777778, \"#fb9f3a\"], [0.8888888888888888, \"#fdca26\"], [1.0, \"#f0f921\"]], \"type\": \"histogram2dcontour\"}], \"mesh3d\": [{\"colorbar\": {\"outlinewidth\": 0, \"ticks\": \"\"}, \"type\": \"mesh3d\"}], \"parcoords\": [{\"line\": {\"colorbar\": {\"outlinewidth\": 0, \"ticks\": \"\"}}, \"type\": \"parcoords\"}], \"pie\": [{\"automargin\": true, \"type\": \"pie\"}], \"scatter\": [{\"marker\": {\"colorbar\": {\"outlinewidth\": 0, \"ticks\": \"\"}}, \"type\": \"scatter\"}], \"scatter3d\": [{\"line\": {\"colorbar\": {\"outlinewidth\": 0, \"ticks\": \"\"}}, \"marker\": {\"colorbar\": {\"outlinewidth\": 0, \"ticks\": \"\"}}, \"type\": \"scatter3d\"}], \"scattercarpet\": [{\"marker\": {\"colorbar\": {\"outlinewidth\": 0, \"ticks\": \"\"}}, \"type\": \"scattercarpet\"}], \"scattergeo\": [{\"marker\": {\"colorbar\": {\"outlinewidth\": 0, \"ticks\": \"\"}}, \"type\": \"scattergeo\"}], \"scattergl\": [{\"marker\": {\"colorbar\": {\"outlinewidth\": 0, \"ticks\": \"\"}}, \"type\": \"scattergl\"}], \"scattermapbox\": [{\"marker\": {\"colorbar\": {\"outlinewidth\": 0, \"ticks\": \"\"}}, \"type\": \"scattermapbox\"}], \"scatterpolar\": [{\"marker\": {\"colorbar\": {\"outlinewidth\": 0, \"ticks\": \"\"}}, \"type\": \"scatterpolar\"}], \"scatterpolargl\": [{\"marker\": {\"colorbar\": {\"outlinewidth\": 0, \"ticks\": \"\"}}, \"type\": \"scatterpolargl\"}], \"scatterternary\": [{\"marker\": {\"colorbar\": {\"outlinewidth\": 0, \"ticks\": \"\"}}, \"type\": \"scatterternary\"}], \"surface\": [{\"colorbar\": {\"outlinewidth\": 0, \"ticks\": \"\"}, \"colorscale\": [[0.0, \"#0d0887\"], [0.1111111111111111, \"#46039f\"], [0.2222222222222222, \"#7201a8\"], [0.3333333333333333, \"#9c179e\"], [0.4444444444444444, \"#bd3786\"], [0.5555555555555556, \"#d8576b\"], [0.6666666666666666, \"#ed7953\"], [0.7777777777777778, \"#fb9f3a\"], [0.8888888888888888, \"#fdca26\"], [1.0, \"#f0f921\"]], \"type\": \"surface\"}], \"table\": [{\"cells\": {\"fill\": {\"color\": \"#EBF0F8\"}, \"line\": {\"color\": \"white\"}}, \"header\": {\"fill\": {\"color\": \"#C8D4E3\"}, \"line\": {\"color\": \"white\"}}, \"type\": \"table\"}]}, \"layout\": {\"annotationdefaults\": {\"arrowcolor\": \"#2a3f5f\", \"arrowhead\": 0, \"arrowwidth\": 1}, \"coloraxis\": {\"colorbar\": {\"outlinewidth\": 0, \"ticks\": \"\"}}, \"colorscale\": {\"diverging\": [[0, \"#8e0152\"], [0.1, \"#c51b7d\"], [0.2, \"#de77ae\"], [0.3, \"#f1b6da\"], [0.4, \"#fde0ef\"], [0.5, \"#f7f7f7\"], [0.6, \"#e6f5d0\"], [0.7, \"#b8e186\"], [0.8, \"#7fbc41\"], [0.9, \"#4d9221\"], [1, \"#276419\"]], \"sequential\": [[0.0, \"#0d0887\"], [0.1111111111111111, \"#46039f\"], [0.2222222222222222, \"#7201a8\"], [0.3333333333333333, \"#9c179e\"], [0.4444444444444444, \"#bd3786\"], [0.5555555555555556, \"#d8576b\"], [0.6666666666666666, \"#ed7953\"], [0.7777777777777778, \"#fb9f3a\"], [0.8888888888888888, \"#fdca26\"], [1.0, \"#f0f921\"]], \"sequentialminus\": [[0.0, \"#0d0887\"], [0.1111111111111111, \"#46039f\"], [0.2222222222222222, \"#7201a8\"], [0.3333333333333333, \"#9c179e\"], [0.4444444444444444, \"#bd3786\"], [0.5555555555555556, \"#d8576b\"], [0.6666666666666666, \"#ed7953\"], [0.7777777777777778, \"#fb9f3a\"], [0.8888888888888888, \"#fdca26\"], [1.0, \"#f0f921\"]]}, \"colorway\": [\"#636efa\", \"#EF553B\", \"#00cc96\", \"#ab63fa\", \"#FFA15A\", \"#19d3f3\", \"#FF6692\", \"#B6E880\", \"#FF97FF\", \"#FECB52\"], \"font\": {\"color\": \"#2a3f5f\"}, \"geo\": {\"bgcolor\": \"white\", \"lakecolor\": \"white\", \"landcolor\": \"#E5ECF6\", \"showlakes\": true, \"showland\": true, \"subunitcolor\": \"white\"}, \"hoverlabel\": {\"align\": \"left\"}, \"hovermode\": \"closest\", \"mapbox\": {\"style\": \"light\"}, \"paper_bgcolor\": \"white\", \"plot_bgcolor\": \"#E5ECF6\", \"polar\": {\"angularaxis\": {\"gridcolor\": \"white\", \"linecolor\": \"white\", \"ticks\": \"\"}, \"bgcolor\": \"#E5ECF6\", \"radialaxis\": {\"gridcolor\": \"white\", \"linecolor\": \"white\", \"ticks\": \"\"}}, \"scene\": {\"xaxis\": {\"backgroundcolor\": \"#E5ECF6\", \"gridcolor\": \"white\", \"gridwidth\": 2, \"linecolor\": \"white\", \"showbackground\": true, \"ticks\": \"\", \"zerolinecolor\": \"white\"}, \"yaxis\": {\"backgroundcolor\": \"#E5ECF6\", \"gridcolor\": \"white\", \"gridwidth\": 2, \"linecolor\": \"white\", \"showbackground\": true, \"ticks\": \"\", \"zerolinecolor\": \"white\"}, \"zaxis\": {\"backgroundcolor\": \"#E5ECF6\", \"gridcolor\": \"white\", \"gridwidth\": 2, \"linecolor\": \"white\", \"showbackground\": true, \"ticks\": \"\", \"zerolinecolor\": \"white\"}}, \"shapedefaults\": {\"line\": {\"color\": \"#2a3f5f\"}}, \"ternary\": {\"aaxis\": {\"gridcolor\": \"white\", \"linecolor\": \"white\", \"ticks\": \"\"}, \"baxis\": {\"gridcolor\": \"white\", \"linecolor\": \"white\", \"ticks\": \"\"}, \"bgcolor\": \"#E5ECF6\", \"caxis\": {\"gridcolor\": \"white\", \"linecolor\": \"white\", \"ticks\": \"\"}}, \"title\": {\"x\": 0.05}, \"xaxis\": {\"automargin\": true, \"gridcolor\": \"white\", \"linecolor\": \"white\", \"ticks\": \"\", \"title\": {\"standoff\": 15}, \"zerolinecolor\": \"white\", \"zerolinewidth\": 2}, \"yaxis\": {\"automargin\": true, \"gridcolor\": \"white\", \"linecolor\": \"white\", \"ticks\": \"\", \"title\": {\"standoff\": 15}, \"zerolinecolor\": \"white\", \"zerolinewidth\": 2}}}, \"title\": {\"text\": \"Line chart showing three different modes\"}},\n",
              "                        {\"responsive\": true}\n",
              "                    ).then(function(){\n",
              "                            \n",
              "var gd = document.getElementById('b23fcf1d-5773-4e66-9fe6-8119c4a31e9d');\n",
              "var x = new MutationObserver(function (mutations, observer) {{\n",
              "        var display = window.getComputedStyle(gd).display;\n",
              "        if (!display || display === 'none') {{\n",
              "            console.log([gd, 'removed!']);\n",
              "            Plotly.purge(gd);\n",
              "            observer.disconnect();\n",
              "        }}\n",
              "}});\n",
              "\n",
              "// Listen for the removal of the full notebook cells\n",
              "var notebookContainer = gd.closest('#notebook-container');\n",
              "if (notebookContainer) {{\n",
              "    x.observe(notebookContainer, {childList: true});\n",
              "}}\n",
              "\n",
              "// Listen for the clearing of the current output cell\n",
              "var outputEl = gd.closest('.output');\n",
              "if (outputEl) {{\n",
              "    x.observe(outputEl, {childList: true});\n",
              "}}\n",
              "\n",
              "                        })\n",
              "                };\n",
              "                \n",
              "            </script>\n",
              "        </div>\n",
              "</body>\n",
              "</html>"
            ]
          },
          "metadata": {
            "tags": []
          }
        }
      ]
    },
    {
      "cell_type": "markdown",
      "metadata": {
        "id": "DDJCsr2CZCkw",
        "colab_type": "text"
      },
      "source": [
        "Und hier noch ein Line Plot mit richtigen Daten"
      ]
    },
    {
      "cell_type": "code",
      "metadata": {
        "id": "FGO9ONB7RsZp",
        "colab_type": "code",
        "colab": {}
      },
      "source": [
        "import pandas as pd\n",
        "import plotly.offline as pyo\n",
        "import plotly.graph_objs as go\n",
        "\n",
        "# Datenimport \n",
        "\n",
        "datloc = 'https://raw.githubusercontent.com/Pierian-Data/Plotly-Dashboards-with-Dash/master/Data/population.csv'\n",
        "pop = pd.read_csv(datloc)\n",
        "\n",
        "# Um die Selektion einfacher zu gestalten setzten wir den Index neu\n",
        "pop.set_index('Name', inplace=True)\n",
        "\n",
        "data = [go.Scatter(x=pop.columns, \n",
        "                   y=pop.loc[name], \n",
        "                   mode='lines', \n",
        "                   name=name,) for name in pop.index]\n",
        "\n",
        "fig = go.Figure(data=data)\n",
        "\n",
        "fig.show()\n"
      ],
      "execution_count": 0,
      "outputs": []
    },
    {
      "cell_type": "markdown",
      "metadata": {
        "id": "1fArdbTQZ8Lp",
        "colab_type": "text"
      },
      "source": [
        "### Bar Plots ###\n",
        "\n",
        "Möchte man kategorische Daten (x) mit ihren Werten (y) oder mehrere Merkmale auf einer definierten Zeitachse darstellen, dann ist der Bar Plot (Balkendiagramm) ideal dafür. \n"
      ]
    },
    {
      "cell_type": "code",
      "metadata": {
        "id": "svSbx8G2fYPg",
        "colab_type": "code",
        "colab": {}
      },
      "source": [
        "olym"
      ],
      "execution_count": 0,
      "outputs": []
    },
    {
      "cell_type": "code",
      "metadata": {
        "id": "HVhCy_Clay9x",
        "colab_type": "code",
        "colab": {
          "base_uri": "https://localhost:8080/",
          "height": 542
        },
        "outputId": "298e3392-0fe8-47a0-d2f7-deed0f57997b"
      },
      "source": [
        "import pandas as pd\n",
        "import plotly.offline as pyo\n",
        "import plotly.graph_objs as go\n",
        "\n",
        "datloc = 'https://raw.githubusercontent.com/Pierian-Data/Plotly-Dashboards-with-Dash/master/Data/2018WinterOlympics.csv'\n",
        "olym = pd.read_csv(datloc)\n",
        "\n",
        "trace1 = go.Bar(\n",
        "          x=olym['NOC'], \n",
        "          y=olym['Gold'],\n",
        "          name='Gold',\n",
        "          marker={'color':'#FFD700'})\n",
        "\n",
        "trace2 = go.Bar(\n",
        "          x=olym['NOC'], \n",
        "          y=olym['Silver'],\n",
        "          name='Silver',\n",
        "          marker={'color':'#9EA0A1'})\n",
        "\n",
        "trace3 = go.Bar(\n",
        "          x=olym['NOC'], \n",
        "          y=olym['Bronze'],\n",
        "          name='Bronze',\n",
        "          marker={'color':'#CD7F32'})\n",
        "\n",
        "data = [trace1,trace2,trace3]\n",
        "layout = go.Layout(title='Medals',\n",
        "                   barmode='stack') # Mit dieser Zeile erstellen wir eine gestapeltes Bankendiagramm.\n",
        "\n",
        "fig = go.Figure(data=data, layout=layout)\n",
        "fig.show()\n"
      ],
      "execution_count": 24,
      "outputs": [
        {
          "output_type": "display_data",
          "data": {
            "text/html": [
              "<html>\n",
              "<head><meta charset=\"utf-8\" /></head>\n",
              "<body>\n",
              "    <div>\n",
              "            <script src=\"https://cdnjs.cloudflare.com/ajax/libs/mathjax/2.7.5/MathJax.js?config=TeX-AMS-MML_SVG\"></script><script type=\"text/javascript\">if (window.MathJax) {MathJax.Hub.Config({SVG: {font: \"STIX-Web\"}});}</script>\n",
              "                <script type=\"text/javascript\">window.PlotlyConfig = {MathJaxConfig: 'local'};</script>\n",
              "        <script src=\"https://cdn.plot.ly/plotly-latest.min.js\"></script>    \n",
              "            <div id=\"12d4d5d1-756f-4913-9d3d-382ee082aec5\" class=\"plotly-graph-div\" style=\"height:525px; width:100%;\"></div>\n",
              "            <script type=\"text/javascript\">\n",
              "                \n",
              "                    window.PLOTLYENV=window.PLOTLYENV || {};\n",
              "                    \n",
              "                if (document.getElementById(\"12d4d5d1-756f-4913-9d3d-382ee082aec5\")) {\n",
              "                    Plotly.newPlot(\n",
              "                        '12d4d5d1-756f-4913-9d3d-382ee082aec5',\n",
              "                        [{\"marker\": {\"color\": \"#FFD700\"}, \"name\": \"Gold\", \"type\": \"bar\", \"x\": [\"Norway\", \"Germany\", \"Canada\", \"United States\", \"Netherlands\", \"Sweden\", \"Republic of Korea\", \"Switzerland\", \"France\", \"Austria\", \"Japan\", \"Italy\", \"OAR\", \"Czech Republic\", \"Belarus\", \"China\", \"Slovakia\", \"Finland\", \"Great Britain\", \"Poland\", \"Hungary\", \"Ukraine\", \"Australia\", \"Slovenia\", \"Belgium\", \"Spain\", \"New Zealand\", \"Kazakhstan\", \"Latvia\", \"Liechtenstein\"], \"y\": [14, 14, 11, 9, 8, 7, 5, 5, 5, 5, 4, 3, 2, 2, 2, 1, 1, 1, 1, 1, 1, 1, 0, 0, 0, 0, 0, 0, 0, 0]}, {\"marker\": {\"color\": \"#9EA0A1\"}, \"name\": \"Silver\", \"type\": \"bar\", \"x\": [\"Norway\", \"Germany\", \"Canada\", \"United States\", \"Netherlands\", \"Sweden\", \"Republic of Korea\", \"Switzerland\", \"France\", \"Austria\", \"Japan\", \"Italy\", \"OAR\", \"Czech Republic\", \"Belarus\", \"China\", \"Slovakia\", \"Finland\", \"Great Britain\", \"Poland\", \"Hungary\", \"Ukraine\", \"Australia\", \"Slovenia\", \"Belgium\", \"Spain\", \"New Zealand\", \"Kazakhstan\", \"Latvia\", \"Liechtenstein\"], \"y\": [14, 10, 8, 8, 6, 6, 8, 6, 4, 3, 5, 2, 6, 2, 1, 6, 2, 1, 0, 0, 0, 0, 2, 1, 1, 0, 0, 0, 0, 0]}, {\"marker\": {\"color\": \"#CD7F32\"}, \"name\": \"Bronze\", \"type\": \"bar\", \"x\": [\"Norway\", \"Germany\", \"Canada\", \"United States\", \"Netherlands\", \"Sweden\", \"Republic of Korea\", \"Switzerland\", \"France\", \"Austria\", \"Japan\", \"Italy\", \"OAR\", \"Czech Republic\", \"Belarus\", \"China\", \"Slovakia\", \"Finland\", \"Great Britain\", \"Poland\", \"Hungary\", \"Ukraine\", \"Australia\", \"Slovenia\", \"Belgium\", \"Spain\", \"New Zealand\", \"Kazakhstan\", \"Latvia\", \"Liechtenstein\"], \"y\": [11, 7, 10, 6, 6, 1, 4, 4, 6, 6, 4, 5, 9, 3, 0, 2, 0, 4, 4, 1, 0, 0, 1, 1, 0, 2, 2, 1, 1, 1]}],\n",
              "                        {\"barmode\": \"stack\", \"template\": {\"data\": {\"bar\": [{\"error_x\": {\"color\": \"#2a3f5f\"}, \"error_y\": {\"color\": \"#2a3f5f\"}, \"marker\": {\"line\": {\"color\": \"#E5ECF6\", \"width\": 0.5}}, \"type\": \"bar\"}], \"barpolar\": [{\"marker\": {\"line\": {\"color\": \"#E5ECF6\", \"width\": 0.5}}, \"type\": \"barpolar\"}], \"carpet\": [{\"aaxis\": {\"endlinecolor\": \"#2a3f5f\", \"gridcolor\": \"white\", \"linecolor\": \"white\", \"minorgridcolor\": \"white\", \"startlinecolor\": \"#2a3f5f\"}, \"baxis\": {\"endlinecolor\": \"#2a3f5f\", \"gridcolor\": \"white\", \"linecolor\": \"white\", \"minorgridcolor\": \"white\", \"startlinecolor\": \"#2a3f5f\"}, \"type\": \"carpet\"}], \"choropleth\": [{\"colorbar\": {\"outlinewidth\": 0, \"ticks\": \"\"}, \"type\": \"choropleth\"}], \"contour\": [{\"colorbar\": {\"outlinewidth\": 0, \"ticks\": \"\"}, \"colorscale\": [[0.0, \"#0d0887\"], [0.1111111111111111, \"#46039f\"], [0.2222222222222222, \"#7201a8\"], [0.3333333333333333, \"#9c179e\"], [0.4444444444444444, \"#bd3786\"], [0.5555555555555556, \"#d8576b\"], [0.6666666666666666, \"#ed7953\"], [0.7777777777777778, \"#fb9f3a\"], [0.8888888888888888, \"#fdca26\"], [1.0, \"#f0f921\"]], \"type\": \"contour\"}], \"contourcarpet\": [{\"colorbar\": {\"outlinewidth\": 0, \"ticks\": \"\"}, \"type\": \"contourcarpet\"}], \"heatmap\": [{\"colorbar\": {\"outlinewidth\": 0, \"ticks\": \"\"}, \"colorscale\": [[0.0, \"#0d0887\"], [0.1111111111111111, \"#46039f\"], [0.2222222222222222, \"#7201a8\"], [0.3333333333333333, \"#9c179e\"], [0.4444444444444444, \"#bd3786\"], [0.5555555555555556, \"#d8576b\"], [0.6666666666666666, \"#ed7953\"], [0.7777777777777778, \"#fb9f3a\"], [0.8888888888888888, \"#fdca26\"], [1.0, \"#f0f921\"]], \"type\": \"heatmap\"}], \"heatmapgl\": [{\"colorbar\": {\"outlinewidth\": 0, \"ticks\": \"\"}, \"colorscale\": [[0.0, \"#0d0887\"], [0.1111111111111111, \"#46039f\"], [0.2222222222222222, \"#7201a8\"], [0.3333333333333333, \"#9c179e\"], [0.4444444444444444, \"#bd3786\"], [0.5555555555555556, \"#d8576b\"], [0.6666666666666666, \"#ed7953\"], [0.7777777777777778, \"#fb9f3a\"], [0.8888888888888888, \"#fdca26\"], [1.0, \"#f0f921\"]], \"type\": \"heatmapgl\"}], \"histogram\": [{\"marker\": {\"colorbar\": {\"outlinewidth\": 0, \"ticks\": \"\"}}, \"type\": \"histogram\"}], \"histogram2d\": [{\"colorbar\": {\"outlinewidth\": 0, \"ticks\": \"\"}, \"colorscale\": [[0.0, \"#0d0887\"], [0.1111111111111111, \"#46039f\"], [0.2222222222222222, \"#7201a8\"], [0.3333333333333333, \"#9c179e\"], [0.4444444444444444, \"#bd3786\"], [0.5555555555555556, \"#d8576b\"], [0.6666666666666666, \"#ed7953\"], [0.7777777777777778, \"#fb9f3a\"], [0.8888888888888888, \"#fdca26\"], [1.0, \"#f0f921\"]], \"type\": \"histogram2d\"}], \"histogram2dcontour\": [{\"colorbar\": {\"outlinewidth\": 0, \"ticks\": \"\"}, \"colorscale\": [[0.0, \"#0d0887\"], [0.1111111111111111, \"#46039f\"], [0.2222222222222222, \"#7201a8\"], [0.3333333333333333, \"#9c179e\"], [0.4444444444444444, \"#bd3786\"], [0.5555555555555556, \"#d8576b\"], [0.6666666666666666, \"#ed7953\"], [0.7777777777777778, \"#fb9f3a\"], [0.8888888888888888, \"#fdca26\"], [1.0, \"#f0f921\"]], \"type\": \"histogram2dcontour\"}], \"mesh3d\": [{\"colorbar\": {\"outlinewidth\": 0, \"ticks\": \"\"}, \"type\": \"mesh3d\"}], \"parcoords\": [{\"line\": {\"colorbar\": {\"outlinewidth\": 0, \"ticks\": \"\"}}, \"type\": \"parcoords\"}], \"pie\": [{\"automargin\": true, \"type\": \"pie\"}], \"scatter\": [{\"marker\": {\"colorbar\": {\"outlinewidth\": 0, \"ticks\": \"\"}}, \"type\": \"scatter\"}], \"scatter3d\": [{\"line\": {\"colorbar\": {\"outlinewidth\": 0, \"ticks\": \"\"}}, \"marker\": {\"colorbar\": {\"outlinewidth\": 0, \"ticks\": \"\"}}, \"type\": \"scatter3d\"}], \"scattercarpet\": [{\"marker\": {\"colorbar\": {\"outlinewidth\": 0, \"ticks\": \"\"}}, \"type\": \"scattercarpet\"}], \"scattergeo\": [{\"marker\": {\"colorbar\": {\"outlinewidth\": 0, \"ticks\": \"\"}}, \"type\": \"scattergeo\"}], \"scattergl\": [{\"marker\": {\"colorbar\": {\"outlinewidth\": 0, \"ticks\": \"\"}}, \"type\": \"scattergl\"}], \"scattermapbox\": [{\"marker\": {\"colorbar\": {\"outlinewidth\": 0, \"ticks\": \"\"}}, \"type\": \"scattermapbox\"}], \"scatterpolar\": [{\"marker\": {\"colorbar\": {\"outlinewidth\": 0, \"ticks\": \"\"}}, \"type\": \"scatterpolar\"}], \"scatterpolargl\": [{\"marker\": {\"colorbar\": {\"outlinewidth\": 0, \"ticks\": \"\"}}, \"type\": \"scatterpolargl\"}], \"scatterternary\": [{\"marker\": {\"colorbar\": {\"outlinewidth\": 0, \"ticks\": \"\"}}, \"type\": \"scatterternary\"}], \"surface\": [{\"colorbar\": {\"outlinewidth\": 0, \"ticks\": \"\"}, \"colorscale\": [[0.0, \"#0d0887\"], [0.1111111111111111, \"#46039f\"], [0.2222222222222222, \"#7201a8\"], [0.3333333333333333, \"#9c179e\"], [0.4444444444444444, \"#bd3786\"], [0.5555555555555556, \"#d8576b\"], [0.6666666666666666, \"#ed7953\"], [0.7777777777777778, \"#fb9f3a\"], [0.8888888888888888, \"#fdca26\"], [1.0, \"#f0f921\"]], \"type\": \"surface\"}], \"table\": [{\"cells\": {\"fill\": {\"color\": \"#EBF0F8\"}, \"line\": {\"color\": \"white\"}}, \"header\": {\"fill\": {\"color\": \"#C8D4E3\"}, \"line\": {\"color\": \"white\"}}, \"type\": \"table\"}]}, \"layout\": {\"annotationdefaults\": {\"arrowcolor\": \"#2a3f5f\", \"arrowhead\": 0, \"arrowwidth\": 1}, \"coloraxis\": {\"colorbar\": {\"outlinewidth\": 0, \"ticks\": \"\"}}, \"colorscale\": {\"diverging\": [[0, \"#8e0152\"], [0.1, \"#c51b7d\"], [0.2, \"#de77ae\"], [0.3, \"#f1b6da\"], [0.4, \"#fde0ef\"], [0.5, \"#f7f7f7\"], [0.6, \"#e6f5d0\"], [0.7, \"#b8e186\"], [0.8, \"#7fbc41\"], [0.9, \"#4d9221\"], [1, \"#276419\"]], \"sequential\": [[0.0, \"#0d0887\"], [0.1111111111111111, \"#46039f\"], [0.2222222222222222, \"#7201a8\"], [0.3333333333333333, \"#9c179e\"], [0.4444444444444444, \"#bd3786\"], [0.5555555555555556, \"#d8576b\"], [0.6666666666666666, \"#ed7953\"], [0.7777777777777778, \"#fb9f3a\"], [0.8888888888888888, \"#fdca26\"], [1.0, \"#f0f921\"]], \"sequentialminus\": [[0.0, \"#0d0887\"], [0.1111111111111111, \"#46039f\"], [0.2222222222222222, \"#7201a8\"], [0.3333333333333333, \"#9c179e\"], [0.4444444444444444, \"#bd3786\"], [0.5555555555555556, \"#d8576b\"], [0.6666666666666666, \"#ed7953\"], [0.7777777777777778, \"#fb9f3a\"], [0.8888888888888888, \"#fdca26\"], [1.0, \"#f0f921\"]]}, \"colorway\": [\"#636efa\", \"#EF553B\", \"#00cc96\", \"#ab63fa\", \"#FFA15A\", \"#19d3f3\", \"#FF6692\", \"#B6E880\", \"#FF97FF\", \"#FECB52\"], \"font\": {\"color\": \"#2a3f5f\"}, \"geo\": {\"bgcolor\": \"white\", \"lakecolor\": \"white\", \"landcolor\": \"#E5ECF6\", \"showlakes\": true, \"showland\": true, \"subunitcolor\": \"white\"}, \"hoverlabel\": {\"align\": \"left\"}, \"hovermode\": \"closest\", \"mapbox\": {\"style\": \"light\"}, \"paper_bgcolor\": \"white\", \"plot_bgcolor\": \"#E5ECF6\", \"polar\": {\"angularaxis\": {\"gridcolor\": \"white\", \"linecolor\": \"white\", \"ticks\": \"\"}, \"bgcolor\": \"#E5ECF6\", \"radialaxis\": {\"gridcolor\": \"white\", \"linecolor\": \"white\", \"ticks\": \"\"}}, \"scene\": {\"xaxis\": {\"backgroundcolor\": \"#E5ECF6\", \"gridcolor\": \"white\", \"gridwidth\": 2, \"linecolor\": \"white\", \"showbackground\": true, \"ticks\": \"\", \"zerolinecolor\": \"white\"}, \"yaxis\": {\"backgroundcolor\": \"#E5ECF6\", \"gridcolor\": \"white\", \"gridwidth\": 2, \"linecolor\": \"white\", \"showbackground\": true, \"ticks\": \"\", \"zerolinecolor\": \"white\"}, \"zaxis\": {\"backgroundcolor\": \"#E5ECF6\", \"gridcolor\": \"white\", \"gridwidth\": 2, \"linecolor\": \"white\", \"showbackground\": true, \"ticks\": \"\", \"zerolinecolor\": \"white\"}}, \"shapedefaults\": {\"line\": {\"color\": \"#2a3f5f\"}}, \"ternary\": {\"aaxis\": {\"gridcolor\": \"white\", \"linecolor\": \"white\", \"ticks\": \"\"}, \"baxis\": {\"gridcolor\": \"white\", \"linecolor\": \"white\", \"ticks\": \"\"}, \"bgcolor\": \"#E5ECF6\", \"caxis\": {\"gridcolor\": \"white\", \"linecolor\": \"white\", \"ticks\": \"\"}}, \"title\": {\"x\": 0.05}, \"xaxis\": {\"automargin\": true, \"gridcolor\": \"white\", \"linecolor\": \"white\", \"ticks\": \"\", \"title\": {\"standoff\": 15}, \"zerolinecolor\": \"white\", \"zerolinewidth\": 2}, \"yaxis\": {\"automargin\": true, \"gridcolor\": \"white\", \"linecolor\": \"white\", \"ticks\": \"\", \"title\": {\"standoff\": 15}, \"zerolinecolor\": \"white\", \"zerolinewidth\": 2}}}, \"title\": {\"text\": \"Medals\"}},\n",
              "                        {\"responsive\": true}\n",
              "                    ).then(function(){\n",
              "                            \n",
              "var gd = document.getElementById('12d4d5d1-756f-4913-9d3d-382ee082aec5');\n",
              "var x = new MutationObserver(function (mutations, observer) {{\n",
              "        var display = window.getComputedStyle(gd).display;\n",
              "        if (!display || display === 'none') {{\n",
              "            console.log([gd, 'removed!']);\n",
              "            Plotly.purge(gd);\n",
              "            observer.disconnect();\n",
              "        }}\n",
              "}});\n",
              "\n",
              "// Listen for the removal of the full notebook cells\n",
              "var notebookContainer = gd.closest('#notebook-container');\n",
              "if (notebookContainer) {{\n",
              "    x.observe(notebookContainer, {childList: true});\n",
              "}}\n",
              "\n",
              "// Listen for the clearing of the current output cell\n",
              "var outputEl = gd.closest('.output');\n",
              "if (outputEl) {{\n",
              "    x.observe(outputEl, {childList: true});\n",
              "}}\n",
              "\n",
              "                        })\n",
              "                };\n",
              "                \n",
              "            </script>\n",
              "        </div>\n",
              "</body>\n",
              "</html>"
            ]
          },
          "metadata": {
            "tags": []
          }
        }
      ]
    },
    {
      "cell_type": "markdown",
      "metadata": {
        "id": "nl-vH3PukZ67",
        "colab_type": "text"
      },
      "source": [
        "### Bubble Plot ###\n",
        "\n",
        "Ein Bubble Plot (Blasendiagramm) ähnlich wie eine Scatter Plot. Der wesentliche Unterschied dabei ist, dass wir mit der Grösse der Bubbles auch die Werteverhältnisse anzeigen können. Die Bubble Plots waren bei Hans Rosling (bekannter schwedischer Arzt und Statistiker) eine sehr beliebtes Instrument um verschiedenen Datensätze miteinander zu vergleichen.\n"
      ]
    },
    {
      "cell_type": "code",
      "metadata": {
        "id": "B0ze7AGAkJVm",
        "colab_type": "code",
        "colab": {
          "base_uri": "https://localhost:8080/",
          "height": 542
        },
        "outputId": "f14acf58-1220-45e1-dac8-244a8987041a"
      },
      "source": [
        "import pandas as pd\n",
        "import plotly.graph_objs as go\n",
        "import plotly.offline as pyo\n",
        "\n",
        "datloc = 'https://raw.githubusercontent.com/Pierian-Data/Plotly-Dashboards-with-Dash/master/Data/mpg.csv'\n",
        "cars = pd.read_csv(datloc)\n",
        "\n",
        "data = [go.Scatter(\n",
        "        x=cars['horsepower'], \n",
        "        y=round(cars['mpg']/1.6), # Umrechnung Meilen auf Kilometer \n",
        "        text=cars['name'],\n",
        "        mode='markers',\n",
        "        marker=dict(size=round(cars['weight']/100)))]\n",
        "\n",
        "layout = go.Layout(title='Bubble Plot - Vergleich Kraftstoffverbrauch vs. Pferdestärken',\n",
        "                  xaxis=dict(title='Anzahl Pferdestärken'),\n",
        "                  yaxis=dict(title='Kilometer pro US Gallone'))\n",
        "\n",
        "fig = go.Figure(data=data, layout=layout)\n",
        "fig.show()\n",
        "\n"
      ],
      "execution_count": 54,
      "outputs": [
        {
          "output_type": "display_data",
          "data": {
            "text/html": [
              "<html>\n",
              "<head><meta charset=\"utf-8\" /></head>\n",
              "<body>\n",
              "    <div>\n",
              "            <script src=\"https://cdnjs.cloudflare.com/ajax/libs/mathjax/2.7.5/MathJax.js?config=TeX-AMS-MML_SVG\"></script><script type=\"text/javascript\">if (window.MathJax) {MathJax.Hub.Config({SVG: {font: \"STIX-Web\"}});}</script>\n",
              "                <script type=\"text/javascript\">window.PlotlyConfig = {MathJaxConfig: 'local'};</script>\n",
              "        <script src=\"https://cdn.plot.ly/plotly-latest.min.js\"></script>    \n",
              "            <div id=\"c1f4565c-62f1-4435-823e-3d6f6dcbfdc6\" class=\"plotly-graph-div\" style=\"height:525px; width:100%;\"></div>\n",
              "            <script type=\"text/javascript\">\n",
              "                \n",
              "                    window.PLOTLYENV=window.PLOTLYENV || {};\n",
              "                    \n",
              "                if (document.getElementById(\"c1f4565c-62f1-4435-823e-3d6f6dcbfdc6\")) {\n",
              "                    Plotly.newPlot(\n",
              "                        'c1f4565c-62f1-4435-823e-3d6f6dcbfdc6',\n",
              "                        [{\"marker\": {\"size\": [35.0, 37.0, 34.0, 34.0, 34.0, 43.0, 44.0, 43.0, 44.0, 38.0, 36.0, 36.0, 38.0, 31.0, 24.0, 28.0, 28.0, 26.0, 21.0, 18.0, 27.0, 24.0, 24.0, 22.0, 26.0, 46.0, 44.0, 44.0, 47.0, 21.0, 23.0, 22.0, 20.0, 26.0, 34.0, 33.0, 33.0, 33.0, 42.0, 45.0, 42.0, 41.0, 50.0, 47.0, 51.0, 30.0, 24.0, 33.0, 31.0, 22.0, 21.0, 21.0, 21.0, 18.0, 16.0, 18.0, 20.0, 23.0, 21.0, 23.0, 24.0, 22.0, 43.0, 44.0, 41.0, 41.0, 37.0, 46.0, 45.0, 45.0, 44.0, 23.0, 39.0, 41.0, 43.0, 41.0, 29.0, 25.0, 30.0, 22.0, 24.0, 23.0, 25.0, 22.0, 21.0, 41.0, 37.0, 40.0, 40.0, 38.0, 50.0, 45.0, 44.0, 42.0, 47.0, 50.0, 38.0, 31.0, 33.0, 29.0, 30.0, 29.0, 20.0, 50.0, 49.0, 47.0, 45.0, 28.0, 23.0, 24.0, 24.0, 21.0, 23.0, 25.0, 23.0, 41.0, 43.0, 19.0, 22.0, 26.0, 29.0, 34.0, 27.0, 28.0, 37.0, 31.0, 29.0, 29.0, 33.0, 20.0, 25.0, 18.0, 25.0, 38.0, 36.0, 36.0, 41.0, 47.0, 45.0, 46.0, 43.0, 22.0, 20.0, 23.0, 16.0, 20.0, 21.0, 21.0, 22.0, 25.0, 24.0, 20.0, 33.0, 35.0, 34.0, 32.0, 47.0, 44.0, 45.0, 47.0, 39.0, 39.0, 37.0, 38.0, 30.0, 32.0, 32.0, 22.0, 26.0, 29.0, 26.0, 27.0, 22.0, 25.0, 30.0, 19.0, 32.0, 27.0, 30.0, 29.0, 27.0, 18.0, 25.0, 22.0, 26.0, 23.0, 22.0, 42.0, 42.0, 40.0, 42.0, 32.0, 34.0, 30.0, 31.0, 20.0, 22.0, 19.0, 18.0, 37.0, 36.0, 36.0, 32.0, 18.0, 20.0, 22.0, 26.0, 32.0, 39.0, 33.0, 29.0, 38.0, 44.0, 41.0, 39.0, 38.0, 20.0, 22.0, 18.0, 23.0, 19.0, 39.0, 41.0, 41.0, 43.0, 35.0, 34.0, 36.0, 35.0, 42.0, 42.0, 43.0, 43.0, 19.0, 27.0, 23.0, 28.0, 21.0, 21.0, 20.0, 22.0, 28.0, 26.0, 27.0, 20.0, 18.0, 20.0, 21.0, 18.0, 34.0, 37.0, 36.0, 35.0, 32.0, 30.0, 27.0, 34.0, 32.0, 34.0, 31.0, 36.0, 34.0, 34.0, 34.0, 32.0, 41.0, 22.0, 26.0, 23.0, 22.0, 25.0, 27.0, 29.0, 24.0, 28.0, 31.0, 28.0, 34.0, 20.0, 21.0, 32.0, 30.0, 29.0, 33.0, 34.0, 38.0, 37.0, 40.0, 38.0, 44.0, 41.0, 36.0, 39.0, 19.0, 20.0, 19.0, 27.0, 35.0, 39.0, 32.0, 34.0, 22.0, 22.0, 20.0, 21.0, 27.0, 26.0, 27.0, 26.0, 21.0, 20.0, 21.0, 20.0, 27.0, 29.0, 30.0, 34.0, 22.0, 27.0, 25.0, 24.0, 23.0, 21.0, 28.0, 21.0, 21.0, 23.0, 30.0, 32.0, 18.0, 18.0, 21.0, 18.0, 29.0, 24.0, 25.0, 29.0, 23.0, 25.0, 26.0, 26.0, 27.0, 24.0, 18.0, 19.0, 18.0, 21.0, 20.0, 20.0, 20.0, 22.0, 20.0, 24.0, 22.0, 23.0, 22.0, 24.0, 26.0, 26.0, 32.0, 32.0, 29.0, 29.0, 34.0, 37.0, 31.0, 35.0, 26.0, 26.0, 24.0, 26.0, 25.0, 27.0, 29.0, 30.0, 20.0, 20.0, 20.0, 21.0, 21.0, 22.0, 22.0, 22.0, 20.0, 20.0, 20.0, 29.0, 30.0, 26.0, 28.0, 27.0, 24.0, 30.0, 28.0, 21.0, 23.0, 26.0, 27.0]}, \"mode\": \"markers\", \"text\": [\"chevrolet chevelle malibu\", \"buick skylark 320\", \"plymouth satellite\", \"amc rebel sst\", \"ford torino\", \"ford galaxie 500\", \"chevrolet impala\", \"plymouth fury iii\", \"pontiac catalina\", \"amc ambassador dpl\", \"dodge challenger se\", \"plymouth 'cuda 340\", \"chevrolet monte carlo\", \"buick estate wagon (sw)\", \"toyota corona mark ii\", \"plymouth duster\", \"amc hornet\", \"ford maverick\", \"datsun pl510\", \"volkswagen 1131 deluxe sedan\", \"peugeot 504\", \"audi 100 ls\", \"saab 99e\", \"bmw 2002\", \"amc gremlin\", \"ford f250\", \"chevy c20\", \"dodge d200\", \"hi 1200d\", \"datsun pl510\", \"chevrolet vega 2300\", \"toyota corona\", \"ford pinto\", \"amc gremlin\", \"plymouth satellite custom\", \"chevrolet chevelle malibu\", \"ford torino 500\", \"amc matador\", \"chevrolet impala\", \"pontiac catalina brougham\", \"ford galaxie 500\", \"plymouth fury iii\", \"dodge monaco (sw)\", \"ford country squire (sw)\", \"pontiac safari (sw)\", \"amc hornet sportabout (sw)\", \"chevrolet vega (sw)\", \"pontiac firebird\", \"ford mustang\", \"mercury capri 2000\", \"opel 1900\", \"peugeot 304\", \"fiat 124b\", \"toyota corolla 1200\", \"datsun 1200\", \"volkswagen model 111\", \"plymouth cricket\", \"toyota corona hardtop\", \"dodge colt hardtop\", \"volkswagen type 3\", \"chevrolet vega\", \"ford pinto runabout\", \"chevrolet impala\", \"pontiac catalina\", \"plymouth fury iii\", \"ford galaxie 500\", \"amc ambassador sst\", \"mercury marquis\", \"buick lesabre custom\", \"oldsmobile delta 88 royale\", \"chrysler newport royal\", \"mazda rx2 coupe\", \"amc matador (sw)\", \"chevrolet chevelle concours (sw)\", \"ford gran torino (sw)\", \"plymouth satellite custom (sw)\", \"volvo 145e (sw)\", \"volkswagen 411 (sw)\", \"peugeot 504 (sw)\", \"renault 12 (sw)\", \"ford pinto (sw)\", \"datsun 510 (sw)\", \"toyouta corona mark ii (sw)\", \"dodge colt (sw)\", \"toyota corolla 1600 (sw)\", \"buick century 350\", \"amc matador\", \"chevrolet malibu\", \"ford gran torino\", \"dodge coronet custom\", \"mercury marquis brougham\", \"chevrolet caprice classic\", \"ford ltd\", \"plymouth fury gran sedan\", \"chrysler new yorker brougham\", \"buick electra 225 custom\", \"amc ambassador brougham\", \"plymouth valiant\", \"chevrolet nova custom\", \"amc hornet\", \"ford maverick\", \"plymouth duster\", \"volkswagen super beetle\", \"chevrolet impala\", \"ford country\", \"plymouth custom suburb\", \"oldsmobile vista cruiser\", \"amc gremlin\", \"toyota carina\", \"chevrolet vega\", \"datsun 610\", \"maxda rx3\", \"ford pinto\", \"mercury capri v6\", \"fiat 124 sport coupe\", \"chevrolet monte carlo s\", \"pontiac grand prix\", \"fiat 128\", \"opel manta\", \"audi 100ls\", \"volvo 144ea\", \"dodge dart custom\", \"saab 99le\", \"toyota mark ii\", \"oldsmobile omega\", \"plymouth duster\", \"ford maverick\", \"amc hornet\", \"chevrolet nova\", \"datsun b210\", \"ford pinto\", \"toyota corolla 1200\", \"chevrolet vega\", \"chevrolet chevelle malibu classic\", \"amc matador\", \"plymouth satellite sebring\", \"ford gran torino\", \"buick century luxus (sw)\", \"dodge coronet custom (sw)\", \"ford gran torino (sw)\", \"amc matador (sw)\", \"audi fox\", \"volkswagen dasher\", \"opel manta\", \"toyota corona\", \"datsun 710\", \"dodge colt\", \"fiat 128\", \"fiat 124 tc\", \"honda civic\", \"subaru\", \"fiat x1.9\", \"plymouth valiant custom\", \"chevrolet nova\", \"mercury monarch\", \"ford maverick\", \"pontiac catalina\", \"chevrolet bel air\", \"plymouth grand fury\", \"ford ltd\", \"buick century\", \"chevroelt chevelle malibu\", \"amc matador\", \"plymouth fury\", \"buick skyhawk\", \"chevrolet monza 2+2\", \"ford mustang ii\", \"toyota corolla\", \"ford pinto\", \"amc gremlin\", \"pontiac astro\", \"toyota corona\", \"volkswagen dasher\", \"datsun 710\", \"ford pinto\", \"volkswagen rabbit\", \"amc pacer\", \"audi 100ls\", \"peugeot 504\", \"volvo 244dl\", \"saab 99le\", \"honda civic cvcc\", \"fiat 131\", \"opel 1900\", \"capri ii\", \"dodge colt\", \"renault 12tl\", \"chevrolet chevelle malibu classic\", \"dodge coronet brougham\", \"amc matador\", \"ford gran torino\", \"plymouth valiant\", \"chevrolet nova\", \"ford maverick\", \"amc hornet\", \"chevrolet chevette\", \"chevrolet woody\", \"vw rabbit\", \"honda civic\", \"dodge aspen se\", \"ford granada ghia\", \"pontiac ventura sj\", \"amc pacer d/l\", \"volkswagen rabbit\", \"datsun b-210\", \"toyota corolla\", \"ford pinto\", \"volvo 245\", \"plymouth volare premier v8\", \"peugeot 504\", \"toyota mark ii\", \"mercedes-benz 280s\", \"cadillac seville\", \"chevy c10\", \"ford f108\", \"dodge d100\", \"honda accord cvcc\", \"buick opel isuzu deluxe\", \"renault 5 gtl\", \"plymouth arrow gs\", \"datsun f-10 hatchback\", \"chevrolet caprice classic\", \"oldsmobile cutlass supreme\", \"dodge monaco brougham\", \"mercury cougar brougham\", \"chevrolet concours\", \"buick skylark\", \"plymouth volare custom\", \"ford granada\", \"pontiac grand prix lj\", \"chevrolet monte carlo landau\", \"chrysler cordoba\", \"ford thunderbird\", \"volkswagen rabbit custom\", \"pontiac sunbird coupe\", \"toyota corolla liftback\", \"ford mustang ii 2+2\", \"chevrolet chevette\", \"dodge colt m/m\", \"subaru dl\", \"volkswagen dasher\", \"datsun 810\", \"bmw 320i\", \"mazda rx-4\", \"volkswagen rabbit custom diesel\", \"ford fiesta\", \"mazda glc deluxe\", \"datsun b210 gx\", \"honda civic cvcc\", \"oldsmobile cutlass salon brougham\", \"dodge diplomat\", \"mercury monarch ghia\", \"pontiac phoenix lj\", \"chevrolet malibu\", \"ford fairmont (auto)\", \"ford fairmont (man)\", \"plymouth volare\", \"amc concord\", \"buick century special\", \"mercury zephyr\", \"dodge aspen\", \"amc concord d/l\", \"chevrolet monte carlo landau\", \"buick regal sport coupe (turbo)\", \"ford futura\", \"dodge magnum xe\", \"chevrolet chevette\", \"toyota corona\", \"datsun 510\", \"dodge omni\", \"toyota celica gt liftback\", \"plymouth sapporo\", \"oldsmobile starfire sx\", \"datsun 200-sx\", \"audi 5000\", \"volvo 264gl\", \"saab 99gle\", \"peugeot 604sl\", \"volkswagen scirocco\", \"honda accord lx\", \"pontiac lemans v6\", \"mercury zephyr 6\", \"ford fairmont 4\", \"amc concord dl 6\", \"dodge aspen 6\", \"chevrolet caprice classic\", \"ford ltd landau\", \"mercury grand marquis\", \"dodge st. regis\", \"buick estate wagon (sw)\", \"ford country squire (sw)\", \"chevrolet malibu classic (sw)\", \"chrysler lebaron town @ country (sw)\", \"vw rabbit custom\", \"maxda glc deluxe\", \"dodge colt hatchback custom\", \"amc spirit dl\", \"mercedes benz 300d\", \"cadillac eldorado\", \"peugeot 504\", \"oldsmobile cutlass salon brougham\", \"plymouth horizon\", \"plymouth horizon tc3\", \"datsun 210\", \"fiat strada custom\", \"buick skylark limited\", \"chevrolet citation\", \"oldsmobile omega brougham\", \"pontiac phoenix\", \"vw rabbit\", \"toyota corolla tercel\", \"chevrolet chevette\", \"datsun 310\", \"chevrolet citation\", \"ford fairmont\", \"amc concord\", \"dodge aspen\", \"audi 4000\", \"toyota corona liftback\", \"mazda 626\", \"datsun 510 hatchback\", \"toyota corolla\", \"mazda glc\", \"dodge colt\", \"datsun 210\", \"vw rabbit c (diesel)\", \"vw dasher (diesel)\", \"audi 5000s (diesel)\", \"mercedes-benz 240d\", \"honda civic 1500 gl\", \"renault lecar deluxe\", \"subaru dl\", \"vokswagen rabbit\", \"datsun 280-zx\", \"mazda rx-7 gs\", \"triumph tr7 coupe\", \"ford mustang cobra\", \"honda accord\", \"plymouth reliant\", \"buick skylark\", \"dodge aries wagon (sw)\", \"chevrolet citation\", \"plymouth reliant\", \"toyota starlet\", \"plymouth champ\", \"honda civic 1300\", \"subaru\", \"datsun 210 mpg\", \"toyota tercel\", \"mazda glc 4\", \"plymouth horizon 4\", \"ford escort 4w\", \"ford escort 2h\", \"volkswagen jetta\", \"renault 18i\", \"honda prelude\", \"toyota corolla\", \"datsun 200sx\", \"mazda 626\", \"peugeot 505s turbo diesel\", \"volvo diesel\", \"toyota cressida\", \"datsun 810 maxima\", \"buick century\", \"oldsmobile cutlass ls\", \"ford granada gl\", \"chrysler lebaron salon\", \"chevrolet cavalier\", \"chevrolet cavalier wagon\", \"chevrolet cavalier 2-door\", \"pontiac j2000 se hatchback\", \"dodge aries se\", \"pontiac phoenix\", \"ford fairmont futura\", \"amc concord dl\", \"volkswagen rabbit l\", \"mazda glc custom l\", \"mazda glc custom\", \"plymouth horizon miser\", \"mercury lynx l\", \"nissan stanza xe\", \"honda accord\", \"toyota corolla\", \"honda civic\", \"honda civic (auto)\", \"datsun 310 gx\", \"buick century limited\", \"oldsmobile cutlass ciera (diesel)\", \"chrysler lebaron medallion\", \"ford granada l\", \"toyota celica gt\", \"dodge charger 2.2\", \"chevrolet camaro\", \"ford mustang gl\", \"vw pickup\", \"dodge rampage\", \"ford ranger\", \"chevy s-10\"], \"type\": \"scatter\", \"x\": [\"130\", \"165\", \"150\", \"150\", \"140\", \"198\", \"220\", \"215\", \"225\", \"190\", \"170\", \"160\", \"150\", \"225\", \"95\", \"95\", \"97\", \"85\", \"88\", \"46\", \"87\", \"90\", \"95\", \"113\", \"90\", \"215\", \"200\", \"210\", \"193\", \"88\", \"90\", \"95\", \"?\", \"100\", \"105\", \"100\", \"88\", \"100\", \"165\", \"175\", \"153\", \"150\", \"180\", \"170\", \"175\", \"110\", \"72\", \"100\", \"88\", \"86\", \"90\", \"70\", \"76\", \"65\", \"69\", \"60\", \"70\", \"95\", \"80\", \"54\", \"90\", \"86\", \"165\", \"175\", \"150\", \"153\", \"150\", \"208\", \"155\", \"160\", \"190\", \"97\", \"150\", \"130\", \"140\", \"150\", \"112\", \"76\", \"87\", \"69\", \"86\", \"92\", \"97\", \"80\", \"88\", \"175\", \"150\", \"145\", \"137\", \"150\", \"198\", \"150\", \"158\", \"150\", \"215\", \"225\", \"175\", \"105\", \"100\", \"100\", \"88\", \"95\", \"46\", \"150\", \"167\", \"170\", \"180\", \"100\", \"88\", \"72\", \"94\", \"90\", \"85\", \"107\", \"90\", \"145\", \"230\", \"49\", \"75\", \"91\", \"112\", \"150\", \"110\", \"122\", \"180\", \"95\", \"?\", \"100\", \"100\", \"67\", \"80\", \"65\", \"75\", \"100\", \"110\", \"105\", \"140\", \"150\", \"150\", \"140\", \"150\", \"83\", \"67\", \"78\", \"52\", \"61\", \"75\", \"75\", \"75\", \"97\", \"93\", \"67\", \"95\", \"105\", \"72\", \"72\", \"170\", \"145\", \"150\", \"148\", \"110\", \"105\", \"110\", \"95\", \"110\", \"110\", \"129\", \"75\", \"83\", \"100\", \"78\", \"96\", \"71\", \"97\", \"97\", \"70\", \"90\", \"95\", \"88\", \"98\", \"115\", \"53\", \"86\", \"81\", \"92\", \"79\", \"83\", \"140\", \"150\", \"120\", \"152\", \"100\", \"105\", \"81\", \"90\", \"52\", \"60\", \"70\", \"53\", \"100\", \"78\", \"110\", \"95\", \"71\", \"70\", \"75\", \"72\", \"102\", \"150\", \"88\", \"108\", \"120\", \"180\", \"145\", \"130\", \"150\", \"68\", \"80\", \"58\", \"96\", \"70\", \"145\", \"110\", \"145\", \"130\", \"110\", \"105\", \"100\", \"98\", \"180\", \"170\", \"190\", \"149\", \"78\", \"88\", \"75\", \"89\", \"63\", \"83\", \"67\", \"78\", \"97\", \"110\", \"110\", \"48\", \"66\", \"52\", \"70\", \"60\", \"110\", \"140\", \"139\", \"105\", \"95\", \"85\", \"88\", \"100\", \"90\", \"105\", \"85\", \"110\", \"120\", \"145\", \"165\", \"139\", \"140\", \"68\", \"95\", \"97\", \"75\", \"95\", \"105\", \"85\", \"97\", \"103\", \"125\", \"115\", \"133\", \"71\", \"68\", \"115\", \"85\", \"88\", \"90\", \"110\", \"130\", \"129\", \"138\", \"135\", \"155\", \"142\", \"125\", \"150\", \"71\", \"65\", \"80\", \"80\", \"77\", \"125\", \"71\", \"90\", \"70\", \"70\", \"65\", \"69\", \"90\", \"115\", \"115\", \"90\", \"76\", \"60\", \"70\", \"65\", \"90\", \"88\", \"90\", \"90\", \"78\", \"90\", \"75\", \"92\", \"75\", \"65\", \"105\", \"65\", \"48\", \"48\", \"67\", \"67\", \"67\", \"?\", \"67\", \"62\", \"132\", \"100\", \"88\", \"?\", \"72\", \"84\", \"84\", \"92\", \"110\", \"84\", \"58\", \"64\", \"60\", \"67\", \"65\", \"62\", \"68\", \"63\", \"65\", \"65\", \"74\", \"?\", \"75\", \"75\", \"100\", \"74\", \"80\", \"76\", \"116\", \"120\", \"110\", \"105\", \"88\", \"85\", \"88\", \"88\", \"88\", \"85\", \"84\", \"90\", \"92\", \"?\", \"74\", \"68\", \"68\", \"63\", \"70\", \"88\", \"75\", \"70\", \"67\", \"67\", \"67\", \"110\", \"85\", \"92\", \"112\", \"96\", \"84\", \"90\", \"86\", \"52\", \"84\", \"79\", \"82\"], \"y\": [11.0, 9.0, 11.0, 10.0, 11.0, 9.0, 9.0, 9.0, 9.0, 9.0, 9.0, 9.0, 9.0, 9.0, 15.0, 14.0, 11.0, 13.0, 17.0, 16.0, 16.0, 15.0, 16.0, 16.0, 13.0, 6.0, 6.0, 7.0, 6.0, 17.0, 18.0, 16.0, 16.0, 12.0, 10.0, 11.0, 12.0, 11.0, 9.0, 9.0, 9.0, 9.0, 8.0, 8.0, 8.0, 11.0, 14.0, 12.0, 11.0, 14.0, 18.0, 19.0, 19.0, 19.0, 22.0, 17.0, 16.0, 15.0, 16.0, 14.0, 12.0, 13.0, 8.0, 9.0, 9.0, 9.0, 11.0, 7.0, 8.0, 8.0, 8.0, 12.0, 9.0, 8.0, 8.0, 9.0, 11.0, 14.0, 13.0, 16.0, 14.0, 18.0, 14.0, 18.0, 17.0, 8.0, 9.0, 8.0, 9.0, 9.0, 8.0, 8.0, 8.0, 9.0, 8.0, 8.0, 8.0, 11.0, 10.0, 11.0, 11.0, 14.0, 16.0, 7.0, 8.0, 8.0, 8.0, 11.0, 12.0, 13.0, 14.0, 11.0, 12.0, 13.0, 16.0, 9.0, 10.0, 18.0, 15.0, 12.0, 12.0, 9.0, 15.0, 12.0, 7.0, 12.0, 13.0, 12.0, 9.0, 19.0, 16.0, 20.0, 16.0, 10.0, 10.0, 11.0, 10.0, 8.0, 9.0, 9.0, 9.0, 18.0, 16.0, 16.0, 19.0, 20.0, 18.0, 15.0, 16.0, 15.0, 16.0, 19.0, 12.0, 11.0, 9.0, 9.0, 10.0, 9.0, 10.0, 9.0, 11.0, 10.0, 9.0, 11.0, 13.0, 12.0, 8.0, 18.0, 14.0, 12.0, 14.0, 15.0, 16.0, 15.0, 11.0, 18.0, 12.0, 14.0, 14.0, 14.0, 16.0, 21.0, 18.0, 16.0, 16.0, 16.0, 17.0, 11.0, 10.0, 10.0, 9.0, 14.0, 14.0, 15.0, 14.0, 18.0, 15.0, 18.0, 21.0, 12.0, 11.0, 12.0, 11.0, 18.0, 20.0, 18.0, 17.0, 12.0, 8.0, 12.0, 12.0, 10.0, 10.0, 8.0, 8.0, 8.0, 20.0, 19.0, 22.0, 16.0, 21.0, 11.0, 11.0, 10.0, 9.0, 11.0, 13.0, 12.0, 12.0, 10.0, 10.0, 10.0, 10.0, 18.0, 15.0, 16.0, 16.0, 19.0, 21.0, 19.0, 19.0, 14.0, 13.0, 13.0, 27.0, 23.0, 20.0, 25.0, 23.0, 12.0, 12.0, 13.0, 12.0, 13.0, 13.0, 16.0, 13.0, 12.0, 13.0, 13.0, 12.0, 11.0, 12.0, 11.0, 11.0, 11.0, 19.0, 17.0, 17.0, 19.0, 13.0, 14.0, 15.0, 15.0, 13.0, 11.0, 14.0, 10.0, 20.0, 18.0, 13.0, 12.0, 14.0, 13.0, 13.0, 11.0, 11.0, 10.0, 11.0, 11.0, 10.0, 12.0, 12.0, 20.0, 21.0, 22.0, 17.0, 16.0, 14.0, 17.0, 15.0, 21.0, 22.0, 20.0, 23.0, 18.0, 18.0, 17.0, 21.0, 26.0, 24.0, 20.0, 23.0, 18.0, 16.0, 15.0, 12.0, 21.0, 19.0, 20.0, 23.0, 20.0, 29.0, 17.0, 25.0, 28.0, 27.0, 23.0, 19.0, 28.0, 26.0, 21.0, 19.0, 20.0, 15.0, 22.0, 15.0, 20.0, 17.0, 17.0, 16.0, 15.0, 19.0, 24.0, 24.0, 22.0, 20.0, 23.0, 24.0, 21.0, 22.0, 21.0, 19.0, 21.0, 22.0, 21.0, 20.0, 21.0, 20.0, 18.0, 19.0, 16.0, 15.0, 14.0, 17.0, 13.0, 11.0, 18.0, 17.0, 21.0, 19.0, 18.0, 17.0, 15.0, 14.0, 22.0, 23.0, 19.0, 24.0, 22.0, 22.0, 22.0, 21.0, 24.0, 20.0, 24.0, 16.0, 24.0, 16.0, 14.0, 20.0, 22.0, 17.0, 17.0, 28.0, 20.0, 18.0, 19.0]}],\n",
              "                        {\"template\": {\"data\": {\"bar\": [{\"error_x\": {\"color\": \"#2a3f5f\"}, \"error_y\": {\"color\": \"#2a3f5f\"}, \"marker\": {\"line\": {\"color\": \"#E5ECF6\", \"width\": 0.5}}, \"type\": \"bar\"}], \"barpolar\": [{\"marker\": {\"line\": {\"color\": \"#E5ECF6\", \"width\": 0.5}}, \"type\": \"barpolar\"}], \"carpet\": [{\"aaxis\": {\"endlinecolor\": \"#2a3f5f\", \"gridcolor\": \"white\", \"linecolor\": \"white\", \"minorgridcolor\": \"white\", \"startlinecolor\": \"#2a3f5f\"}, \"baxis\": {\"endlinecolor\": \"#2a3f5f\", \"gridcolor\": \"white\", \"linecolor\": \"white\", \"minorgridcolor\": \"white\", \"startlinecolor\": \"#2a3f5f\"}, \"type\": \"carpet\"}], \"choropleth\": [{\"colorbar\": {\"outlinewidth\": 0, \"ticks\": \"\"}, \"type\": \"choropleth\"}], \"contour\": [{\"colorbar\": {\"outlinewidth\": 0, \"ticks\": \"\"}, \"colorscale\": [[0.0, \"#0d0887\"], [0.1111111111111111, \"#46039f\"], [0.2222222222222222, \"#7201a8\"], [0.3333333333333333, \"#9c179e\"], [0.4444444444444444, \"#bd3786\"], [0.5555555555555556, \"#d8576b\"], [0.6666666666666666, \"#ed7953\"], [0.7777777777777778, \"#fb9f3a\"], [0.8888888888888888, \"#fdca26\"], [1.0, \"#f0f921\"]], \"type\": \"contour\"}], \"contourcarpet\": [{\"colorbar\": {\"outlinewidth\": 0, \"ticks\": \"\"}, \"type\": \"contourcarpet\"}], \"heatmap\": [{\"colorbar\": {\"outlinewidth\": 0, \"ticks\": \"\"}, \"colorscale\": [[0.0, \"#0d0887\"], [0.1111111111111111, \"#46039f\"], [0.2222222222222222, \"#7201a8\"], [0.3333333333333333, \"#9c179e\"], [0.4444444444444444, \"#bd3786\"], [0.5555555555555556, \"#d8576b\"], [0.6666666666666666, \"#ed7953\"], [0.7777777777777778, \"#fb9f3a\"], [0.8888888888888888, \"#fdca26\"], [1.0, \"#f0f921\"]], \"type\": \"heatmap\"}], \"heatmapgl\": [{\"colorbar\": {\"outlinewidth\": 0, \"ticks\": \"\"}, \"colorscale\": [[0.0, \"#0d0887\"], [0.1111111111111111, \"#46039f\"], [0.2222222222222222, \"#7201a8\"], [0.3333333333333333, \"#9c179e\"], [0.4444444444444444, \"#bd3786\"], [0.5555555555555556, \"#d8576b\"], [0.6666666666666666, \"#ed7953\"], [0.7777777777777778, \"#fb9f3a\"], [0.8888888888888888, \"#fdca26\"], [1.0, \"#f0f921\"]], \"type\": \"heatmapgl\"}], \"histogram\": [{\"marker\": {\"colorbar\": {\"outlinewidth\": 0, \"ticks\": \"\"}}, \"type\": \"histogram\"}], \"histogram2d\": [{\"colorbar\": {\"outlinewidth\": 0, \"ticks\": \"\"}, \"colorscale\": [[0.0, \"#0d0887\"], [0.1111111111111111, \"#46039f\"], [0.2222222222222222, \"#7201a8\"], [0.3333333333333333, \"#9c179e\"], [0.4444444444444444, \"#bd3786\"], [0.5555555555555556, \"#d8576b\"], [0.6666666666666666, \"#ed7953\"], [0.7777777777777778, \"#fb9f3a\"], [0.8888888888888888, \"#fdca26\"], [1.0, \"#f0f921\"]], \"type\": \"histogram2d\"}], \"histogram2dcontour\": [{\"colorbar\": {\"outlinewidth\": 0, \"ticks\": \"\"}, \"colorscale\": [[0.0, \"#0d0887\"], [0.1111111111111111, \"#46039f\"], [0.2222222222222222, \"#7201a8\"], [0.3333333333333333, \"#9c179e\"], [0.4444444444444444, \"#bd3786\"], [0.5555555555555556, \"#d8576b\"], [0.6666666666666666, \"#ed7953\"], [0.7777777777777778, \"#fb9f3a\"], [0.8888888888888888, \"#fdca26\"], [1.0, \"#f0f921\"]], \"type\": \"histogram2dcontour\"}], \"mesh3d\": [{\"colorbar\": {\"outlinewidth\": 0, \"ticks\": \"\"}, \"type\": \"mesh3d\"}], \"parcoords\": [{\"line\": {\"colorbar\": {\"outlinewidth\": 0, \"ticks\": \"\"}}, \"type\": \"parcoords\"}], \"pie\": [{\"automargin\": true, \"type\": \"pie\"}], \"scatter\": [{\"marker\": {\"colorbar\": {\"outlinewidth\": 0, \"ticks\": \"\"}}, \"type\": \"scatter\"}], \"scatter3d\": [{\"line\": {\"colorbar\": {\"outlinewidth\": 0, \"ticks\": \"\"}}, \"marker\": {\"colorbar\": {\"outlinewidth\": 0, \"ticks\": \"\"}}, \"type\": \"scatter3d\"}], \"scattercarpet\": [{\"marker\": {\"colorbar\": {\"outlinewidth\": 0, \"ticks\": \"\"}}, \"type\": \"scattercarpet\"}], \"scattergeo\": [{\"marker\": {\"colorbar\": {\"outlinewidth\": 0, \"ticks\": \"\"}}, \"type\": \"scattergeo\"}], \"scattergl\": [{\"marker\": {\"colorbar\": {\"outlinewidth\": 0, \"ticks\": \"\"}}, \"type\": \"scattergl\"}], \"scattermapbox\": [{\"marker\": {\"colorbar\": {\"outlinewidth\": 0, \"ticks\": \"\"}}, \"type\": \"scattermapbox\"}], \"scatterpolar\": [{\"marker\": {\"colorbar\": {\"outlinewidth\": 0, \"ticks\": \"\"}}, \"type\": \"scatterpolar\"}], \"scatterpolargl\": [{\"marker\": {\"colorbar\": {\"outlinewidth\": 0, \"ticks\": \"\"}}, \"type\": \"scatterpolargl\"}], \"scatterternary\": [{\"marker\": {\"colorbar\": {\"outlinewidth\": 0, \"ticks\": \"\"}}, \"type\": \"scatterternary\"}], \"surface\": [{\"colorbar\": {\"outlinewidth\": 0, \"ticks\": \"\"}, \"colorscale\": [[0.0, \"#0d0887\"], [0.1111111111111111, \"#46039f\"], [0.2222222222222222, \"#7201a8\"], [0.3333333333333333, \"#9c179e\"], [0.4444444444444444, \"#bd3786\"], [0.5555555555555556, \"#d8576b\"], [0.6666666666666666, \"#ed7953\"], [0.7777777777777778, \"#fb9f3a\"], [0.8888888888888888, \"#fdca26\"], [1.0, \"#f0f921\"]], \"type\": \"surface\"}], \"table\": [{\"cells\": {\"fill\": {\"color\": \"#EBF0F8\"}, \"line\": {\"color\": \"white\"}}, \"header\": {\"fill\": {\"color\": \"#C8D4E3\"}, \"line\": {\"color\": \"white\"}}, \"type\": \"table\"}]}, \"layout\": {\"annotationdefaults\": {\"arrowcolor\": \"#2a3f5f\", \"arrowhead\": 0, \"arrowwidth\": 1}, \"coloraxis\": {\"colorbar\": {\"outlinewidth\": 0, \"ticks\": \"\"}}, \"colorscale\": {\"diverging\": [[0, \"#8e0152\"], [0.1, \"#c51b7d\"], [0.2, \"#de77ae\"], [0.3, \"#f1b6da\"], [0.4, \"#fde0ef\"], [0.5, \"#f7f7f7\"], [0.6, \"#e6f5d0\"], [0.7, \"#b8e186\"], [0.8, \"#7fbc41\"], [0.9, \"#4d9221\"], [1, \"#276419\"]], \"sequential\": [[0.0, \"#0d0887\"], [0.1111111111111111, \"#46039f\"], [0.2222222222222222, \"#7201a8\"], [0.3333333333333333, \"#9c179e\"], [0.4444444444444444, \"#bd3786\"], [0.5555555555555556, \"#d8576b\"], [0.6666666666666666, \"#ed7953\"], [0.7777777777777778, \"#fb9f3a\"], [0.8888888888888888, \"#fdca26\"], [1.0, \"#f0f921\"]], \"sequentialminus\": [[0.0, \"#0d0887\"], [0.1111111111111111, \"#46039f\"], [0.2222222222222222, \"#7201a8\"], [0.3333333333333333, \"#9c179e\"], [0.4444444444444444, \"#bd3786\"], [0.5555555555555556, \"#d8576b\"], [0.6666666666666666, \"#ed7953\"], [0.7777777777777778, \"#fb9f3a\"], [0.8888888888888888, \"#fdca26\"], [1.0, \"#f0f921\"]]}, \"colorway\": [\"#636efa\", \"#EF553B\", \"#00cc96\", \"#ab63fa\", \"#FFA15A\", \"#19d3f3\", \"#FF6692\", \"#B6E880\", \"#FF97FF\", \"#FECB52\"], \"font\": {\"color\": \"#2a3f5f\"}, \"geo\": {\"bgcolor\": \"white\", \"lakecolor\": \"white\", \"landcolor\": \"#E5ECF6\", \"showlakes\": true, \"showland\": true, \"subunitcolor\": \"white\"}, \"hoverlabel\": {\"align\": \"left\"}, \"hovermode\": \"closest\", \"mapbox\": {\"style\": \"light\"}, \"paper_bgcolor\": \"white\", \"plot_bgcolor\": \"#E5ECF6\", \"polar\": {\"angularaxis\": {\"gridcolor\": \"white\", \"linecolor\": \"white\", \"ticks\": \"\"}, \"bgcolor\": \"#E5ECF6\", \"radialaxis\": {\"gridcolor\": \"white\", \"linecolor\": \"white\", \"ticks\": \"\"}}, \"scene\": {\"xaxis\": {\"backgroundcolor\": \"#E5ECF6\", \"gridcolor\": \"white\", \"gridwidth\": 2, \"linecolor\": \"white\", \"showbackground\": true, \"ticks\": \"\", \"zerolinecolor\": \"white\"}, \"yaxis\": {\"backgroundcolor\": \"#E5ECF6\", \"gridcolor\": \"white\", \"gridwidth\": 2, \"linecolor\": \"white\", \"showbackground\": true, \"ticks\": \"\", \"zerolinecolor\": \"white\"}, \"zaxis\": {\"backgroundcolor\": \"#E5ECF6\", \"gridcolor\": \"white\", \"gridwidth\": 2, \"linecolor\": \"white\", \"showbackground\": true, \"ticks\": \"\", \"zerolinecolor\": \"white\"}}, \"shapedefaults\": {\"line\": {\"color\": \"#2a3f5f\"}}, \"ternary\": {\"aaxis\": {\"gridcolor\": \"white\", \"linecolor\": \"white\", \"ticks\": \"\"}, \"baxis\": {\"gridcolor\": \"white\", \"linecolor\": \"white\", \"ticks\": \"\"}, \"bgcolor\": \"#E5ECF6\", \"caxis\": {\"gridcolor\": \"white\", \"linecolor\": \"white\", \"ticks\": \"\"}}, \"title\": {\"x\": 0.05}, \"xaxis\": {\"automargin\": true, \"gridcolor\": \"white\", \"linecolor\": \"white\", \"ticks\": \"\", \"title\": {\"standoff\": 15}, \"zerolinecolor\": \"white\", \"zerolinewidth\": 2}, \"yaxis\": {\"automargin\": true, \"gridcolor\": \"white\", \"linecolor\": \"white\", \"ticks\": \"\", \"title\": {\"standoff\": 15}, \"zerolinecolor\": \"white\", \"zerolinewidth\": 2}}}, \"title\": {\"text\": \"Bubble Plot - Vergleich Kraftstoffverbrauch vs. Pferdest\\u00e4rken\"}, \"xaxis\": {\"title\": {\"text\": \"Anzahl Pferdest\\u00e4rken\"}}, \"yaxis\": {\"title\": {\"text\": \"Kilometer pro US Gallone\"}}},\n",
              "                        {\"responsive\": true}\n",
              "                    ).then(function(){\n",
              "                            \n",
              "var gd = document.getElementById('c1f4565c-62f1-4435-823e-3d6f6dcbfdc6');\n",
              "var x = new MutationObserver(function (mutations, observer) {{\n",
              "        var display = window.getComputedStyle(gd).display;\n",
              "        if (!display || display === 'none') {{\n",
              "            console.log([gd, 'removed!']);\n",
              "            Plotly.purge(gd);\n",
              "            observer.disconnect();\n",
              "        }}\n",
              "}});\n",
              "\n",
              "// Listen for the removal of the full notebook cells\n",
              "var notebookContainer = gd.closest('#notebook-container');\n",
              "if (notebookContainer) {{\n",
              "    x.observe(notebookContainer, {childList: true});\n",
              "}}\n",
              "\n",
              "// Listen for the clearing of the current output cell\n",
              "var outputEl = gd.closest('.output');\n",
              "if (outputEl) {{\n",
              "    x.observe(outputEl, {childList: true});\n",
              "}}\n",
              "\n",
              "                        })\n",
              "                };\n",
              "                \n",
              "            </script>\n",
              "        </div>\n",
              "</body>\n",
              "</html>"
            ]
          },
          "metadata": {
            "tags": []
          }
        }
      ]
    },
    {
      "cell_type": "code",
      "metadata": {
        "id": "w7KeZflzx2NE",
        "colab_type": "code",
        "colab": {
          "base_uri": "https://localhost:8080/",
          "height": 77
        },
        "outputId": "f3042ad5-810f-4677-c1a0-96ab2aacbea6"
      },
      "source": [
        "cars[cars['name'] == 'ford torino']\n"
      ],
      "execution_count": 58,
      "outputs": [
        {
          "output_type": "execute_result",
          "data": {
            "text/html": [
              "<div>\n",
              "<style scoped>\n",
              "    .dataframe tbody tr th:only-of-type {\n",
              "        vertical-align: middle;\n",
              "    }\n",
              "\n",
              "    .dataframe tbody tr th {\n",
              "        vertical-align: top;\n",
              "    }\n",
              "\n",
              "    .dataframe thead th {\n",
              "        text-align: right;\n",
              "    }\n",
              "</style>\n",
              "<table border=\"1\" class=\"dataframe\">\n",
              "  <thead>\n",
              "    <tr style=\"text-align: right;\">\n",
              "      <th></th>\n",
              "      <th>mpg</th>\n",
              "      <th>cylinders</th>\n",
              "      <th>displacement</th>\n",
              "      <th>horsepower</th>\n",
              "      <th>weight</th>\n",
              "      <th>acceleration</th>\n",
              "      <th>model_year</th>\n",
              "      <th>origin</th>\n",
              "      <th>name</th>\n",
              "    </tr>\n",
              "  </thead>\n",
              "  <tbody>\n",
              "    <tr>\n",
              "      <th>4</th>\n",
              "      <td>17.0</td>\n",
              "      <td>8</td>\n",
              "      <td>302.0</td>\n",
              "      <td>140</td>\n",
              "      <td>3449</td>\n",
              "      <td>10.5</td>\n",
              "      <td>70</td>\n",
              "      <td>1</td>\n",
              "      <td>ford torino</td>\n",
              "    </tr>\n",
              "  </tbody>\n",
              "</table>\n",
              "</div>"
            ],
            "text/plain": [
              "    mpg  cylinders  displacement  ... model_year  origin         name\n",
              "4  17.0          8         302.0  ...         70       1  ford torino\n",
              "\n",
              "[1 rows x 9 columns]"
            ]
          },
          "metadata": {
            "tags": []
          },
          "execution_count": 58
        }
      ]
    }
  ]
}