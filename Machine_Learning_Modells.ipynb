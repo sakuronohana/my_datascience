{
  "nbformat": 4,
  "nbformat_minor": 0,
  "metadata": {
    "colab": {
      "name": "Machine Learning - Modells.ipynb",
      "version": "0.3.2",
      "provenance": [],
      "include_colab_link": true
    },
    "kernelspec": {
      "name": "python3",
      "display_name": "Python 3"
    }
  },
  "cells": [
    {
      "cell_type": "markdown",
      "metadata": {
        "id": "view-in-github",
        "colab_type": "text"
      },
      "source": [
        "<a href=\"https://colab.research.google.com/github/sakuronohana/my_datascience/blob/master/Machine_Learning_Modells.ipynb\" target=\"_parent\"><img src=\"https://colab.research.google.com/assets/colab-badge.svg\" alt=\"Open In Colab\"/></a>"
      ]
    },
    {
      "metadata": {
        "id": "3rii-tTbj4wj",
        "colab_type": "text"
      },
      "cell_type": "markdown",
      "source": [
        "#Machine Learning - Modelle & Maths#\n",
        "\n",
        "In diesem Jupyter Notebook werden die bekanntesten ML Modelle inkl. der dazugehörenden mathematische Formeln erläutert. \n",
        "\n",
        "![alt text](https://cdn-images-1.medium.com/max/1600/1*Gbfq8wTIyHBnC5oDhzNACw.png)"
      ]
    },
    {
      "metadata": {
        "id": "JrA8UEapktKg",
        "colab_type": "text"
      },
      "cell_type": "markdown",
      "source": [
        "##Regression##\n",
        "\n",
        "Bei den regressiven Modellen geht es vereinfacht gesagt darum, mit Hilfe von historischen Daten in Form von Zahlen eine Prediction bzw. Voraussage über die zukünftige Entwicklung des untersuchten Gebiets (bsp. Börsenkurse, Temperatur, Materialverschleis, usw.) zu treffen."
      ]
    },
    {
      "metadata": {
        "id": "c1YrtOmMjHm2",
        "colab_type": "text"
      },
      "cell_type": "markdown",
      "source": [
        "###Lineare Regression###\n",
        "\n",
        "Die lineare Regression gehört zu den einfachsten der Regressionen und orientiert sich, wie der Name schon sagt, an einer Gerade. Mit diesem Modell können Daten mit einfachen Strukturen verarbeitet werden.\n",
        "\n",
        "\n",
        "Lernvideo: https://www.youtube.com/watch?v=E5RjzSK0fvY\n",
        "\n",
        "Mit RL können wir beispielsweise folgende Fragen beantworten:\n",
        "\n",
        "\n",
        "*  Wie wird sich der Kurs der Aktion XY in den nächsten Tagen entwickeln?\n",
        "*  Mit welchen Temperaturen müssen wir in den nächsten Tagen rechnen?\n",
        "* Wie wirkt sich die Temperatur auf den Bierkonsum aus? :-)\n",
        "* Wie wirken sich die Lernstunden auf den Kaffeekonsum aus?\n",
        "* Usw.\n",
        "\n",
        "Mathematisch gesehen versuchen wir folgende Formel zu lösen:\n",
        "\n",
        "**y = mx + b**\n",
        "\n",
        "**y** = Abhängigen Variablen (z.B. Anzahl konsumierter Kaffeetassen pro Tag)\n",
        "\n",
        "**x** = Unabhängigen Variabelen (z.B. Tage, Stunden usw.)\n",
        "\n",
        "**m** = Slope (Gradient = Steigung oder Gefälle)\n",
        "\n",
        "**b** = Y-Intercept \n",
        "\n",
        "Die Slope oder einfach gesagt die Linie, welche aufzeigt ob sich etwas positiv oder negativ entwickelt und gilt als Best Fit Line. Hierfür verwenden wir folgende Formel:\n",
        "\n",
        " m = $\\frac{\\sum(x-\\bar{x})(y-\\bar{y})}{\\sum(x-\\bar{x})^2}$\n",
        " \n",
        "Gehen wir mal Schritt für Schritt durch den LR Erstellungsprozess:\n",
        "\n",
        "Fragestellung: Wieviele Tassen Kaffee werde ich in den nächsten Tag noch komsumieren.\n",
        "\n",
        "**Step 1 - Berechnung des arithmetisches Mittel (mean)**\n",
        "\n",
        "Berechnen wir zuerst das arithmetische Mittel oder auch anders gesagt den Durchschnittswert von **x** und **y**:\n",
        "\n",
        " $\\bar{x}=\\frac{\\sum(x_i...x_i)}{x_i}$ \n",
        " \n",
        " $\\bar{y}= \\frac{\\sum(y_i...y_i)}{y_i}$\n",
        " \n",
        " Was in diesem Fall folgende Werte ergeben:\n",
        "\n",
        "Tage (x) | Tassen (y)\n",
        "--- | ---\n",
        "1 | 3\n",
        "2 | 4\n",
        "3 | 2\n",
        "4 | 4\n",
        "5 | 5\n",
        "**3 **($\\bar{x})$ | **3.6** ($\\bar{y})$\n",
        "\n",
        "**Step 2 - Berechnung der Werte x und y zum arithmetischen Mittel**\n",
        "\n",
        "Damit wir irgendwann **m** erhalten müssen wir die Distanz der einzelnen Werte von **x** und **y** gegenüber $\\bar{x}$ und $\\bar{y}$ berechnen. Gleichzeitig werden wir die einzelnen Werte jeweils zusammenzählen. Formel:\n",
        "\n",
        "${x}-\\bar{x}$ und  ${y}-\\bar{y}$\n",
        "\n",
        "Tage (x) | Tassen (y) | ${x}-\\bar{x}$ | $y-\\bar{y}$\n",
        "--- | --- | --- | ---\n",
        "1 | 3 | -2 | -0.6\n",
        "2 | 4 | -1 | 0.4\n",
        "3 | 2 | 0 | -1.6\n",
        "4 | 4 | 1 | 0.4\n",
        "5 | 5 | 2 | 1.4\n",
        "**3 **($\\bar{x})$ | **3.6** ($\\bar{y})$\n",
        "\n",
        "**Step 3 - Berechnung von Least-square (kleinste Quadrate)**\n",
        "\n",
        "Damit wir nun die eigendliche Abweichung der Datenpunkt zur Best Fit Line erhalten müssen wir x  noch quadrieren. Hier die Formel dazu:\n",
        "\n",
        "$({x}-\\bar{x})^2$ \n",
        "\n",
        "Da wir aber die Gesamtabweichung ermitteln wollen, werden wir die Werte gleich aufsummieren:\n",
        "\n",
        "Tage (x) | Tassen (y) | ${x}-\\bar{x}$ | $y-\\bar{y}$ | $({x}-\\bar{x})^2$ \n",
        "--- | --- | --- | --- | ---\n",
        "1 | 3 | -2 | -0.6 | 4 \n",
        "2 | 4 | -1 | 0.4 | 1\n",
        "3 | 2 | 0 | -1.6 | 0\n",
        "4 | 4 | 1 | 0.4 | 1\n",
        "5 | 5 | 2 | 1.4 | 4\n",
        "**3 **($\\bar{x})$ | **3.6** ($\\bar{y})$ ||| **10**\n",
        "\n",
        "**Step 4 - Berechnung Gesamtsumme von x und y*\n",
        "\n",
        "Wir müssen nun noch die Werte aus ${x} -\\bar{x}$  und  ${y}-\\bar{y}$ multiplzieren.\n",
        "\n",
        "Tage (x) | Tassen (y) | ${x}-\\bar{x}$ | $y-\\bar{y}$ | $({x}-\\bar{x})^2$ | $(x-\\bar{x})(y-\\bar{y})$\n",
        "--- | --- | --- | --- | --- | ---\n",
        "1 | 3 | -2 | -0.6 | 4 | 1.2\n",
        "2 | 4 | -1 | 0.4 | 1 | -0.4\n",
        "3 | 2 | 0 | -1.6 | 0 | 0\n",
        "4 | 4 | 1 | 0.4 | 1 | 0.4\n",
        "5 | 5 | 2 | 1.4 | 4 | 2.8\n",
        "**3 **($\\bar{x})$ | **3.6** ($\\bar{y})$ ||| **10**|**4**\n",
        "\n",
        "**Step 5 - Berechnung von m**\n",
        "\n",
        "Nun haben wir alle Informationen zusammen um **m** zu berechnen. Nachfolgendend die Berechnung:\n",
        "\n",
        "m = $\\sum\\frac{(x-\\bar{x})(y-\\bar{y})}{(x-\\bar{x})^2}=\\sum\\frac{4}{10}=0.4$\n",
        "\n",
        "\n",
        "**Step 6 - Berchnung von b bzw. Y-Intercept**\n",
        "\n",
        "Nochmal zur Erinnerung. Wir wollen folgende Gleichung lösen:\n",
        "\n",
        "**y = mx+b**\n",
        "\n",
        "Wir haben nun also in den letzen paar Schritten folgende Werte errechnet:\n",
        "\n",
        "**y** = 3.6\n",
        "\n",
        "**m** = 0.4\n",
        "\n",
        "**x** = 3\n",
        "\n",
        "Wir erhalten nun also folgende Gleichung welche es zu lösen gibt:\n",
        "\n",
        "3.6 = 0.4 * 3 + c\n",
        "          \n",
        "3.6 = 1.2 + c\n",
        "\n",
        "3.6 - 1.2 = 2.4 ist somit  **c= 2.4**\n",
        "\n",
        "\n",
        "**Step 7 - Berechnung der Regressionslinie**\n",
        "\n",
        "Nun haben wir alle Informationen zusammen um die Best Fit Linie zu errechnen bzw. die Prediction:\n",
        "\n",
        "m = 0.4\n",
        "c = 2.4\n",
        "y = 0.4x + 2.4\n",
        "\n",
        "**Hinweis:** y sind in diesem Fall die Datenpunkte für die Regressionslinie\n",
        "\n",
        "Wir werden jetzt mittels folgender Formel die Line errechnen:\n",
        "\n",
        "y=mx+b\n",
        "\n",
        "Tage (x) | Tassen (y) | ${x}-\\bar{x}$ | $y-\\bar{y}$ | $({x}-\\bar{x})^2$ | $(x-\\bar{x})(y-\\bar{y})$ | $y for RL$\n",
        "--- | --- | --- | --- | --- | --- | ---\n",
        "1 | 3 | -2 | -0.6 | 4 | 1.2 | 2.8\n",
        "2 | 4 | -1 | 0.4 | 1 | -0.4 | 3.2\n",
        "3 | 2 | 0 | -1.6 | 0 | 0 | 3.6\n",
        "4 | 4 | 1 | 0.4 | 1 | 0.4 | 4.0\n",
        "5 | 5 | 2 | 1.4 | 4 | 2.8 | 4.4\n",
        "\n",
        "Wenn wir nun diese Koordinaten in der Matrix eintragen , dann erhalten wir die Regressionslinie."
      ]
    },
    {
      "metadata": {
        "id": "LR_5VHyy-ZZv",
        "colab_type": "code",
        "colab": {
          "base_uri": "https://localhost:8080/",
          "height": 347
        },
        "outputId": "b88c5395-9bb5-44e3-9ced-5af4075caa5a"
      },
      "cell_type": "code",
      "source": [
        "import matplotlib.pyplot as plt\n",
        "\n",
        "dp = [[1,3],[2,4],[3,2],[4,4],[5,5]]\n",
        "rl = [[2.8],[3.2],[3.6],[4.0],[4.4]]\n",
        "\n",
        "plt.plot(dp,'ro', rl)\n",
        "plt.show()\n"
      ],
      "execution_count": 8,
      "outputs": [
        {
          "output_type": "display_data",
          "data": {
            "image/png": "[encoded data removed]",
            "text/plain": [
              "<Figure size 576x396 with 1 Axes>"
            ]
          },
          "metadata": {
            "tags": []
          }
        }
      ]
    },
    {
      "metadata": {
        "id": "ys9T5vDUj3Tg",
        "colab_type": "code",
        "outputId": "8e36a658-b64c-4717-d6f0-1fe43a5a6d0f",
        "colab": {
          "base_uri": "https://localhost:8080/",
          "height": 529
        }
      },
      "cell_type": "code",
      "source": [
        "#Lineare Regression - ohne SciKit-Learn\n",
        "\n",
        "import numpy as np\n",
        "import pandas as pd\n",
        "import seaborn as sns \n",
        "import matplotlib.pyplot as plt\n",
        "\n",
        "'''Wir erstellen zuerst zwei Dataframes mit jeweils einem 1D Array mit \n",
        "Temperaturen und Tagen'''\n",
        "\n",
        "list = [[1,3],[2,4],[3,2],[4,4],[5,5]]\n",
        "\n",
        "ar_temp = np.array(list)\n",
        "df_temp = pd.DataFrame(list, columns=['Days', '°C'])\n",
        "print (df_temp)\n",
        "\n",
        "\n",
        "'''In einem ersten Schritt berechnen wir das arithmetischen Mittel der\n",
        "Temperaturen (y) und der Tag (x). Hierzu verwenden wir die Mean Funktion \n",
        "von Numpy'''\n",
        "\n",
        "mean_list = np.mean(df_temp, axis=0)\n",
        "\n",
        "'''In einem zweiten Schritt berechnen wir die Distanz der einzelnen \n",
        "Datenpunkte zum arithmetischen Mittel der y und x Achse. Dazu subtrahieren\n",
        "wir x oder y - mean(y)'''\n",
        "\n",
        "xminymean = (df_temp['Days'] - mean_list['Days'])\n",
        "yminymean = (df_temp['°C'] - mean_list['°C'])\n",
        "\n",
        "'''Im dritten Schritt ermitteln wir mittels der least square Methode x'''\n",
        "xsqt = (xminymean**2)\n",
        "xsqtsum = xsqt.sum()\n",
        "xminy = xminymean * yminymean\n",
        "xminysum = xminy.sum()\n",
        "b1 = np.divide(xsqtsum, xminysum)\n",
        "b0 = mean_list['°C']-(b1*mean_list['Days'])\n",
        "y_pred = b0 + b1\n",
        "print(y_pred)\n",
        "\n",
        "'''Der vierte Schritt beinhaltet die '''\n",
        "\n",
        "\n",
        "\n",
        "plt.title('Temperature/Day Plot')\n",
        "plt.scatter(x=df_temp['Days'], y=df_temp['°C'])\n",
        "plt.xlabel('Days')\n",
        "plt.ylabel('° C')\n",
        "plt.show()\n",
        "\n",
        "\n",
        "\n"
      ],
      "execution_count": 17,
      "outputs": [
        {
          "output_type": "stream",
          "text": [
            "   Days    °C\n",
            "0     1  21.2\n",
            "1     2  20.5\n",
            "2     3  21.9\n",
            "3     4  20.5\n",
            "4     5  22.1\n",
            "5     6  22.8\n",
            "6     7  21.8\n",
            "8.815584415584434\n"
          ],
          "name": "stdout"
        },
        {
          "output_type": "display_data",
          "data": {
            "image/png": "[encoded data removed]",
            "text/plain": [
              "<Figure size 576x396 with 1 Axes>"
            ]
          },
          "metadata": {
            "tags": []
          }
        }
      ]
    }
  ]
}