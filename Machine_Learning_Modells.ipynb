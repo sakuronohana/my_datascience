{
  "nbformat": 4,
  "nbformat_minor": 0,
  "metadata": {
    "colab": {
      "name": "Machine Learning - Modells.ipynb",
      "version": "0.3.2",
      "provenance": [],
      "include_colab_link": true
    },
    "kernelspec": {
      "name": "python3",
      "display_name": "Python 3"
    }
  },
  "cells": [
    {
      "cell_type": "markdown",
      "metadata": {
        "id": "view-in-github",
        "colab_type": "text"
      },
      "source": [
        "<a href=\"https://colab.research.google.com/github/sakuronohana/my_datascience/blob/master/Machine_Learning_Modells.ipynb\" target=\"_parent\"><img src=\"https://colab.research.google.com/assets/colab-badge.svg\" alt=\"Open In Colab\"/></a>"
      ]
    },
    {
      "metadata": {
        "id": "3rii-tTbj4wj",
        "colab_type": "text"
      },
      "cell_type": "markdown",
      "source": [
        "#Machine Learning - Modelle & Maths#\n",
        "\n",
        "In diesem Jupyter Notebook werden die bekanntesten ML Modelle inkl. der dazugehörenden mathematische Formeln erläutert. \n",
        "\n",
        "![alt text](https://cdn-images-1.medium.com/max/1600/1*Gbfq8wTIyHBnC5oDhzNACw.png)"
      ]
    },
    {
      "metadata": {
        "id": "C2CT2wwzdeyu",
        "colab_type": "text"
      },
      "cell_type": "markdown",
      "source": [
        "##K Nearest Neighbours (KNN)##\n",
        "\n",
        "KNN gehört wohl zu den einfachsten ML-Algorithmen und wird sowohl für die Klassifizierung sowie Regression verwendet. Es handelt sich dabei um eine sogenannte parameterfreie Methode zur Schätzung von Wahrscheinlichkeitsdichtefunktionen (eng. probability density function / pdf). KNN arbeitet nach dem Klassifikationsverfahren, in welchem eine Klassenzuordnung unter Berücksichtigung sein ***k*** nächsten Nachbarn vorgenommen wird. Das Modell lernt dabei mittels Abspeicherung der Trainingsbeispielen was auch ***\"lazy learning\"*** (träges Lernen) genannt wird. KNN wird überall dort eingesetzt wo es darum geht Daten mit gleichartigen Mustern zu finden. Beispiele dafür sind Spam, Krebszellen usw. \n",
        "\n",
        "![KNNt](https://www.fromthegenesis.com/wp-content/uploads/2018/09/K_NN_Ad.jpg)\n",
        "\n",
        "[Weiterführende Infos unter Wikipedia](https://de.wikipedia.org/wiki/N%C3%A4chste-Nachbarn-Klassifikation)\n",
        "\n",
        "\n",
        "**KNN Step-by-Step**\n",
        "\n",
        "Grösse in cm (x) | Gewicht in  kg (y) | T-Shirt Grösse\n",
        "--- | ---\n",
        "158 | 58 | M\n",
        "158 | 59 | M\n",
        "158 | 63 | M\n",
        "160 | 59 | M\n",
        "160 | 60 | M\n",
        "163 | 60 | M\n",
        "163 | 61 | M\n",
        "160 | 64 | L\n",
        "163 | 64 | L\n",
        "165 | 61 | L\n",
        "165 | 62 | L\n",
        "165 | 65 | L\n",
        "168 | 62 | L\n",
        "168 | 63 | L\n",
        "168 | 66 | L\n",
        "170 | 63 | L\n",
        "170 | 64 | L\n",
        "170 | 68 | L\n",
        "\n",
        "**Step 1 - Berechnung der "
      ]
    },
    {
      "metadata": {
        "id": "JrA8UEapktKg",
        "colab_type": "text"
      },
      "cell_type": "markdown",
      "source": [
        "##Regression##\n",
        "\n",
        "Bei den regressiven Modellen geht es vereinfacht gesagt darum, mit Hilfe von historischen Daten in Form von Zahlen eine Prediction bzw. Voraussage über die zukünftige Entwicklung des untersuchten Gebiets (bsp. Börsenkurse, Temperatur, Materialverschleis, usw.) zu treffen."
      ]
    },
    {
      "metadata": {
        "id": "c1YrtOmMjHm2",
        "colab_type": "text"
      },
      "cell_type": "markdown",
      "source": [
        "###Lineare Regression###\n",
        "\n",
        "Die lineare Regression gehört zu den einfachsten der Regressionen und orientiert sich, wie der Name schon sagt, an einer Gerade. Mit diesem Modell können Daten mit einfachen Strukturen verarbeitet werden.\n",
        "\n",
        "\n",
        "Lernvideo: https://www.youtube.com/watch?v=E5RjzSK0fvY\n",
        "\n",
        "Mit RL können wir beispielsweise folgende Fragen beantworten:\n",
        "\n",
        "\n",
        "*  Wie wird sich der Kurs der Aktion XY in den nächsten Tagen entwickeln?\n",
        "*  Mit welchen Temperaturen müssen wir in den nächsten Tagen rechnen?\n",
        "* Wie wirkt sich die Temperatur auf den Bierkonsum aus? :-)\n",
        "* Wie wirken sich die Lernstunden auf den Kaffeekonsum aus?\n",
        "* Usw.\n",
        "\n",
        "Mathematisch gesehen versuchen wir folgende Formel zu lösen:\n",
        "\n",
        "**y = mx + b**\n",
        "\n",
        "**y** = Abhängigen Variablen (z.B. Anzahl konsumierter Kaffeetassen pro Tag)\n",
        "\n",
        "**x** = Unabhängigen Variabelen (z.B. Tage, Stunden usw.)\n",
        "\n",
        "**m** = Slope (Gradient = Steigung oder Gefälle)\n",
        "\n",
        "**b** = Y-Intercept \n",
        "\n",
        "Die Slope oder einfach gesagt die Linie, welche aufzeigt ob sich etwas positiv oder negativ entwickelt und gilt als Best Fit Line. Hierfür verwenden wir folgende Formel:\n",
        "\n",
        " m = $\\frac{\\sum(x-\\bar{x})(y-\\bar{y})}{\\sum(x-\\bar{x})^2}$\n",
        " \n",
        "Gehen wir mal Schritt für Schritt durch den LR Erstellungsprozess:\n",
        "\n",
        "Fragestellung: Wieviele Tassen Kaffee werde ich in den nächsten Tag noch komsumieren.\n",
        "\n",
        "**Step 1 - Berechnung des arithmetisches Mittel (mean)**\n",
        "\n",
        "Berechnen wir zuerst das arithmetische Mittel oder auch anders gesagt den Durchschnittswert von **x** und **y**:\n",
        "\n",
        " $\\bar{x}=\\frac{\\sum(x_i...x_i)}{x_i}$ \n",
        " \n",
        " $\\bar{y}= \\frac{\\sum(y_i...y_i)}{y_i}$\n",
        " \n",
        " Was in diesem Fall folgende Werte ergeben:\n",
        "\n",
        "Tage (x) | Tassen (y)\n",
        "--- | ---\n",
        "1 | 3\n",
        "2 | 4\n",
        "3 | 2\n",
        "4 | 4\n",
        "5 | 5\n",
        "**3 **($\\bar{x})$ | **3.6** ($\\bar{y})$\n",
        "\n",
        "**Step 2 - Berechnung der Werte x und y zum arithmetischen Mittel**\n",
        "\n",
        "Damit wir irgendwann **m** erhalten müssen wir die Distanz der einzelnen Werte von **x** und **y** gegenüber $\\bar{x}$ und $\\bar{y}$ berechnen. Gleichzeitig werden wir die einzelnen Werte jeweils zusammenzählen. Formel:\n",
        "\n",
        "${x}-\\bar{x}$ und  ${y}-\\bar{y}$\n",
        "\n",
        "Tage (x) | Tassen (y) | ${x}-\\bar{x}$ | $y-\\bar{y}$\n",
        "--- | --- | --- | ---\n",
        "1 | 3 | -2 | -0.6\n",
        "2 | 4 | -1 | 0.4\n",
        "3 | 2 | 0 | -1.6\n",
        "4 | 4 | 1 | 0.4\n",
        "5 | 5 | 2 | 1.4\n",
        "**3 **($\\bar{x})$ | **3.6** ($\\bar{y})$\n",
        "\n",
        "**Step 3 - Berechnung von Least-square (kleinste Quadrate)**\n",
        "\n",
        "Damit wir nun die eigendliche Abweichung der Datenpunkt zur Best Fit Line erhalten müssen wir x  noch quadrieren. Hier die Formel dazu:\n",
        "\n",
        "$({x}-\\bar{x})^2$ \n",
        "\n",
        "Da wir aber die Gesamtabweichung ermitteln wollen, werden wir die Werte gleich aufsummieren:\n",
        "\n",
        "Tage (x) | Tassen (y) | ${x}-\\bar{x}$ | $y-\\bar{y}$ | $({x}-\\bar{x})^2$ \n",
        "--- | --- | --- | --- | ---\n",
        "1 | 3 | -2 | -0.6 | 4 \n",
        "2 | 4 | -1 | 0.4 | 1\n",
        "3 | 2 | 0 | -1.6 | 0\n",
        "4 | 4 | 1 | 0.4 | 1\n",
        "5 | 5 | 2 | 1.4 | 4\n",
        "**3 **($\\bar{x})$ | **3.6** ($\\bar{y})$ ||| **10**\n",
        "\n",
        "**Step 4 - Berechnung Gesamtsumme von x und y**\n",
        "\n",
        "Wir müssen nun noch die Werte aus ${x} -\\bar{x}$  und  ${y}-\\bar{y}$ multiplzieren.\n",
        "\n",
        "Tage (x) | Tassen (y) | ${x}-\\bar{x}$ | $y-\\bar{y}$ | $({x}-\\bar{x})^2$ | $(x-\\bar{x})(y-\\bar{y})$\n",
        "--- | --- | --- | --- | --- | ---\n",
        "1 | 3 | -2 | -0.6 | 4 | 1.2\n",
        "2 | 4 | -1 | 0.4 | 1 | -0.4\n",
        "3 | 2 | 0 | -1.6 | 0 | 0\n",
        "4 | 4 | 1 | 0.4 | 1 | 0.4\n",
        "5 | 5 | 2 | 1.4 | 4 | 2.8\n",
        "**3 **($\\bar{x})$ | **3.6** ($\\bar{y})$ ||| **10**|**4**\n",
        "\n",
        "**Step 5 - Berechnung von m**\n",
        "\n",
        "Nun haben wir alle Informationen zusammen um **m** zu berechnen. Nachfolgendend die Berechnung:\n",
        "\n",
        "m = $\\sum\\frac{(x-\\bar{x})(y-\\bar{y})}{(x-\\bar{x})^2}=\\sum\\frac{4}{10}=0.4$\n",
        "\n",
        "\n",
        "**Step 6 - Berchnung von b bzw. Y-Intercept**\n",
        "\n",
        "Nochmal zur Erinnerung. Wir wollen folgende Gleichung lösen:\n",
        "\n",
        "**y = mx+b**\n",
        "\n",
        "Wir haben nun also in den letzen paar Schritten folgende Werte errechnet:\n",
        "\n",
        "**y** = 3.6\n",
        "\n",
        "**m** = 0.4\n",
        "\n",
        "**x** = 3\n",
        "\n",
        "Wir erhalten nun also folgende Gleichung welche es zu lösen gibt:\n",
        "\n",
        "3.6 = 0.4 * 3 + c\n",
        "          \n",
        "3.6 = 1.2 + c\n",
        "\n",
        "3.6 - 1.2 = 2.4 ist somit  **c= 2.4**\n",
        "\n",
        "\n",
        "**Step 7 - Berechnung der Regressionslinie**\n",
        "\n",
        "Nun haben wir alle Informationen zusammen um die Best Fit Linie zu errechnen bzw. die Prediction:\n",
        "\n",
        "m = 0.4\n",
        "c = 2.4\n",
        "y = 0.4x + 2.4\n",
        "\n",
        "**Hinweis:** y sind in diesem Fall die Datenpunkte für die Regressionslinie\n",
        "\n",
        "Wir werden jetzt mittels folgender Formel die Line errechnen:\n",
        "\n",
        "y=mx+b\n",
        "\n",
        "Tage (x) | Tassen (y) | ${x}-\\bar{x}$ | $y-\\bar{y}$ | $({x}-\\bar{x})^2$ | $(x-\\bar{x})(y-\\bar{y})$ | $y_p$|\n",
        "--- | --- | --- | --- | --- | --- | ---\n",
        "1 | 3 | -2 | -0.6 | 4 | 1.2 | 2.8\n",
        "2 | 4 | -1 | 0.4 | 1 | -0.4 | 3.2\n",
        "3 | 2 | 0 | -1.6 | 0 | 0 | 3.6\n",
        "4 | 4 | 1 | 0.4 | 1 | 0.4 | 4.0\n",
        "5 | 5 | 2 | 1.4 | 4 | 2.8 | 4.4\n",
        "\n",
        "\n",
        "Wenn wir nun diese Koordinaten in der Matrix eintragen , dann erhalten wir die Regressionslinie."
      ]
    },
    {
      "metadata": {
        "id": "LR_5VHyy-ZZv",
        "colab_type": "code",
        "outputId": "55227a2a-a87b-41f2-e7b4-f9cf86302dfb",
        "colab": {
          "base_uri": "https://localhost:8080/",
          "height": 376
        }
      },
      "cell_type": "code",
      "source": [
        "import matplotlib.pyplot as plt\n",
        "\n",
        "dp = [[1,3],[2,4],[3,2],[4,4],[5,5]]\n",
        "rl = [[2.8],[3.2],[3.6],[4.0],[4.4]]\n",
        "\n",
        "plt.plot(dp,'ro', rl, 'bo', rl)\n",
        "plt.title('Linear Regression')\n",
        "plt.axis([0,5,0,6])\n",
        "plt.xlabel('Tage')\n",
        "plt.ylabel('Kaffeetassen')\n",
        "plt.show()\n"
      ],
      "execution_count": 0,
      "outputs": [
        {
          "output_type": "display_data",
          "data": {
            "image/png": "[encoded data removed]",
            "text/plain": [
              "<Figure size 576x396 with 1 Axes>"
            ]
          },
          "metadata": {
            "tags": []
          }
        }
      ]
    },
    {
      "metadata": {
        "id": "ZZAtpHfhMd0z",
        "colab_type": "text"
      },
      "cell_type": "markdown",
      "source": [
        "**Step 8 - R Squared**\n",
        "\n",
        "In den vorgängigen Schritten haben wir die Regressionslinie gesucht welche am besten fittet. \n",
        "Wir wollen nun aber sehen wie gut unter Modell wirklch fittet. Dazu können wir R Square verwenden. Es geht beim R Square eigendlich darum den Abstand des tatsächlichen arithmetischen Mittels dem Abstand des vorhergesagten arithmetischen Mittels gegenüber zu stellen. $R^2$ wird nur bei der linearen Regression verwendet.\n",
        "\n",
        "Dir Formel für R Square ($R^2$) sieht entsprechend wie folgt aus:\n",
        "\n",
        "$R^2$ = $\\frac{\\sum(y_p\\bar{y})^2}{\\sum(y-\\bar{y})^2}$\n",
        "\n",
        "\n",
        "$(y_p - \\bar{y})^2$ = Distance predicted-mean\n",
        "\n",
        "$(y-\\bar{y})^2$ = Distance actual-mean\n",
        "\n",
        "Tage (x) | Tassen (y) | $y-y$ | $(y-y)^2$ | $y_p$| $(y_p-\\bar{y})$|$(y_p-\\bar{y})^2$\n",
        "--- | --- | --- | --- | --- | --- | --- | ---\n",
        "1 | 3 | -0.6 |  0.36 | 2.8 | -0.8 | 0.64\n",
        "2 | 4 |  0.4 |  0.16 | 3.2 | -0.4 | 0.16\n",
        "3 | 2 |-1.6 |  2.56 | 3.6 | 0 | 0\n",
        "4 | 4 |  0.4 |  0.16 | 4.0 | 0.4 | 0.16\n",
        "5 | 5 | 1.4 | 1.96| 4.4 | 0.8 | 0.64\n",
        "|**3.6**||**5.2**|||**1.6**\n",
        "\n",
        "Da wir nun die Werte haben können wir sie in der Formel eintragen:\n",
        "\n",
        "$R^2$ = $\\frac{1.6}{5.2}$=$\\frac{\\sum(y_p\\bar{y})^2}{\\sum(y-\\bar{y})^2}$=0.3\n",
        "\n",
        "Wir haben somit also einen $R^2$ Value von 0.3. Dieser Wert zeigt uns, dass die Datenpunkte nicht wirklich gut fitten bzw. weit auseinder stehen und keine gute Beziehung aufweisen. Je näher der Wert Richtung 1 rückt desto besser ist der Fit bzw. unser Modell geignet die Daten abzubilden.\n"
      ]
    },
    {
      "metadata": {
        "id": "ys9T5vDUj3Tg",
        "colab_type": "code",
        "outputId": "a082faa1-455d-42ff-fb8e-dc0df0a8178a",
        "colab": {
          "base_uri": "https://localhost:8080/",
          "height": 413
        }
      },
      "cell_type": "code",
      "source": [
        "#Lineare Regression - ohne SciKit-Learn\n",
        "\n",
        "import numpy as np\n",
        "import pandas as pd\n",
        "import matplotlib.pyplot as plt\n",
        "\n",
        "'''Wir erstellen zuerst zwei Dataframes mit jeweils einem 1D Array mit \n",
        "Temperaturen und Tagen'''\n",
        "\n",
        "list = [[1,3],[2,4],[3,2],[4,4],[5,5]]\n",
        "\n",
        "df_kt = pd.DataFrame(list, columns=['Tage(x)', 'Tassen(y)'])\n",
        "df_kt_x = np.ravel(pd.DataFrame(df_kt['Tage(x)']))\n",
        "df_kt_y = np.ravel(pd.DataFrame(df_kt['Tassen(y)']))\n",
        "\n",
        "\n",
        "#Step 1 - Berechnung des arithmetisches Mittel (mean)\n",
        "\n",
        "x_mean = np.mean(df_kt_x)\n",
        "y_mean = np.mean(df_kt_y)\n",
        "\n",
        "\n",
        "#Step 2 - Berechnung der Werte x und y zum arithmetischen Mittel\n",
        "\n",
        "x_meanx = np.subtract(df_kt_x, x_mean)\n",
        "y_meany = np.subtract(df_kt_y, y_mean)\n",
        "\n",
        "#Step 3 - Berechnung von Least-square (kleinste Quadrate)\n",
        "\n",
        "xsqt = np.sum(np.int32(np.square(x_meanx)))\n",
        "\n",
        "#Step 4 - Berechnung Gesamtsumme von x und y\n",
        "\n",
        "xy_multiply = np.int32(np.sum(np.multiply(x_meanx,y_meany)))\n",
        "\n",
        "#Step 5 - Berechnung von m\n",
        "\n",
        "m_slope = np.divide(xy_multiply,xsqt)\n",
        "\n",
        "#Step 6 - Berechnung von b bzw. Y-Intercept\n",
        "\n",
        "y_intcept = y_mean-(m_slope * x_mean)\n",
        "\n",
        "#Step 7 - Berechnung der Regressionslinie bzw. Datenpunkte\n",
        "\n",
        "regline = np.add(np.multiply(m_slope,df_kt_x),y_intcept)\n",
        "\n",
        "#Step 8 - R Squared\n",
        "\n",
        "sqt_rl_meany = np.sum(np.square(np.subtract(regline,y_mean)))\n",
        "sqt_y_meany = np.sum(np.square(np.subtract(df_kt_y,y_mean)))\n",
        "r_square = round(np.divide(sqt_rl_meany,sqt_y_meany),1)\n",
        "\n",
        "print('Der R Squared Wert liegt bei dieser Linearen Regression bei',r_square, \n",
        "     '\\n Das Modell fittet somit nicht wirklich gut, da der perfekte Fit \\n bei 1 liegen würde')\n",
        "\n",
        "plt.title('Kaffeetassen Plot')\n",
        "plt.plot(list,'bo',regline,'ro',regline)\n",
        "plt.axis([-0.1,5,0,5.5])\n",
        "plt.show()\n",
        "\n",
        "\n"
      ],
      "execution_count": 8,
      "outputs": [
        {
          "output_type": "stream",
          "text": [
            "Der R Squared Wert liegt bei dieser Linearen Regression bei 0.3 \n",
            " Das Modell fittet somit nicht wirklich gut, da der perfekte Fit \n",
            " bei 1 liegen würde\n"
          ],
          "name": "stdout"
        },
        {
          "output_type": "display_data",
          "data": {
            "image/png": "[encoded data removed]",
            "text/plain": [
              "<Figure size 576x396 with 1 Axes>"
            ]
          },
          "metadata": {
            "tags": []
          }
        }
      ]
    },
    {
      "metadata": {
        "id": "XZVs7NLpgZJp",
        "colab_type": "code",
        "colab": {
          "base_uri": "https://localhost:8080/",
          "height": 68
        },
        "outputId": "19d6b221-d08e-41cd-9c64-e0a9b103c86f"
      },
      "cell_type": "code",
      "source": [
        "#Lineare Regression - mit SciKit-Learn\n",
        "\n",
        "import numpy as np\n",
        "import pandas as pd\n",
        "from sklearn import linear_model\n",
        "from sklearn.metrics import mean_squared_error, r2_score\n",
        "import matplotlib.pyplot as plt\n",
        "\n",
        "\n",
        "\n",
        "'''Wir erstellen zuerst zwei Dataframes mit jeweils einem 1D Array mit \n",
        "Temperaturen und Tagen'''\n",
        "\n",
        "list = [[1,3],[2,4],[3,2],[4,4],[5,5]]\n",
        "\n",
        "df_kt = pd.DataFrame(list, columns=['Tage(x)', 'Tassen(y)'])\n",
        "df_kt_x = pd.DataFrame(df_kt['Tage(x)'])\n",
        "df_kt_y = pd.DataFrame(df_kt['Tassen(y)'])\n",
        "\n",
        "# Erstellen von Objekt für die Lineare Regression\n",
        "lr_obj = linear_model.LinearRegression()\n",
        "\n",
        "# Trainieren des Models\n",
        "lr_obj.fit(df_kt_x, df_kt_y)\n",
        "\n",
        "# Zeit um mal eine Voraussage (Prediction) zu wagen.\n",
        "reg_y_pred = lr_obj.predict(df_kt_x)\n",
        "reg_y_pred\n",
        "\n",
        "# Die nachfolgenden Codes machen werden im Normalfall mit dem Testset \n",
        "# gemacht was wir aber für dieses Beispiel nicht haben.\n",
        "\n",
        "# Der Koeffizient im nachfolgenden Beispiel stellt die Variable m dar\n",
        "print('Der Koeffizient dieses Modells ist' ,lr_obj.coef_)\n",
        "\n",
        "# Der Mean Square Error (MSE) beschreibt die Abweichung (Error) zwischen\n",
        "# den, durch die Daten, gegebenen Werten (y) und der geschätzten Werte \n",
        "# (Y Prediction)\n",
        "print('Der MSE ist: %2f' % mean_squared_error(df_kt_y,reg_y_pred))\n",
        "\n",
        "# Der nachfolgenden Varianzwert macht im Normalfall nur \n",
        "print('Der Varianzwert: ', r2_score(df_kt_y,reg_y_pred))"
      ],
      "execution_count": 3,
      "outputs": [
        {
          "output_type": "stream",
          "text": [
            "Der Koeffizient dieses Modells ist [[0.4]]\n",
            "Der Mean Square Error ist: 0.720000\n",
            "Der Varianzwert:  0.3076923076923075\n"
          ],
          "name": "stdout"
        }
      ]
    }
  ]
}