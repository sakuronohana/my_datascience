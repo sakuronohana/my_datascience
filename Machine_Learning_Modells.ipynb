{
  "nbformat": 4,
  "nbformat_minor": 0,
  "metadata": {
    "colab": {
      "name": "Machine Learning - Modells.ipynb",
      "version": "0.3.2",
      "provenance": [],
      "include_colab_link": true
    },
    "kernelspec": {
      "name": "python3",
      "display_name": "Python 3"
    }
  },
  "cells": [
    {
      "cell_type": "markdown",
      "metadata": {
        "id": "view-in-github",
        "colab_type": "text"
      },
      "source": [
        "<a href=\"https://colab.research.google.com/github/sakuronohana/my_datascience/blob/master/Machine_Learning_Modells.ipynb\" target=\"_parent\"><img src=\"https://colab.research.google.com/assets/colab-badge.svg\" alt=\"Open In Colab\"/></a>"
      ]
    },
    {
      "metadata": {
        "id": "3rii-tTbj4wj",
        "colab_type": "text"
      },
      "cell_type": "markdown",
      "source": [
        "#Machine Learning - Modelle & Maths#\n",
        "\n",
        "In diesem Jupyter Notebook werden die bekanntesten ML Modelle inkl. der dazugehörtenden mathematische Formeln erläutert.\n",
        "\n",
        "![alt text](https://cdn-images-1.medium.com/max/1600/1*Gbfq8wTIyHBnC5oDhzNACw.png)"
      ]
    },
    {
      "metadata": {
        "id": "JrA8UEapktKg",
        "colab_type": "text"
      },
      "cell_type": "markdown",
      "source": [
        "##Regression##\n",
        "\n",
        "Bei den regressiven Modellen geht es vereinfacht gesagt darum, mit Hilfe von historischen Daten in Form von Zahlen eine Prediction bzw. Voraussage über die zukünftige Entwicklung des untersuchten Gebiets (bsp. Börsenkurse, Temperatur, Materialverschleis, usw.) zu treffen."
      ]
    },
    {
      "metadata": {
        "id": "c1YrtOmMjHm2",
        "colab_type": "text"
      },
      "cell_type": "markdown",
      "source": [
        "###Lineare Regression###\n",
        "\n",
        "Die lineare Regression gehört zu den einfachsten der Regressionen und orientiert sich, wie der Name schon sagt, an einer Gerade. Mit diesem Modell können Daten mit einfachen Strukturen verarbeitet werden."
      ]
    },
    {
      "metadata": {
        "id": "ys9T5vDUj3Tg",
        "colab_type": "code",
        "outputId": "7f4a5381-9e53-4b77-d32f-902940fcb52a",
        "colab": {
          "base_uri": "https://localhost:8080/",
          "height": 269
        }
      },
      "cell_type": "code",
      "source": [
        "#Lineare Regression\n",
        "\n",
        "import numpy as np\n",
        "import pandas as pd\n",
        "import matplotlib.pyplot as plt\n",
        "\n",
        "'''Wir erstellen zuerst zwei Dataframes mit jeweils einem 1D Array mit \n",
        "Temperaturen und Tagen'''\n",
        "\n",
        "list = [[1,25.2],[2, 20.5],[3,21.9],[4,23.5],[5,24.1],[6,22.3],[7,20.5]]\n",
        "\n",
        "df_temp = pd.DataFrame(list, columns=['Days', '°C'])\n",
        "\n",
        "'''In einem ersten Schritt berechnen wir das arithmetischen Mittel der\n",
        "Temperaturen (y) und der Tag (x). Hierzu verwenden wir die Mean Funktion \n",
        "von Numpy'''\n",
        "\n",
        "mean_list = np.mean(df_temp, axis=0)\n",
        "\n",
        "'''In einem zweiten Schritt berechnen wir die Distanz der einzelnen \n",
        "Datenpunkte zum arithmetischen Mittel der y und x Achse'''\n",
        "\n",
        "dist_list = np.where(df_temp == 'Days', df_temp ['Days'], print ('hi'))\n",
        "print (dist_list)\n",
        "\n",
        "\n",
        "plt.title('Temperature/Day Plot')\n",
        "plt.scatter(x=df_temp['Days'], y=df_temp['°C'])\n",
        "plt.xlabel('Days')\n",
        "plt.ylabel('°C')\n",
        "plt.show()\n",
        "\n",
        "\n",
        "\n"
      ],
      "execution_count": 20,
      "outputs": [
        {
          "output_type": "stream",
          "text": [
            "hi\n"
          ],
          "name": "stdout"
        },
        {
          "output_type": "error",
          "ename": "ValueError",
          "evalue": "ignored",
          "traceback": [
            "\u001b[0;31m---------------------------------------------------------------------------\u001b[0m",
            "\u001b[0;31mValueError\u001b[0m                                Traceback (most recent call last)",
            "\u001b[0;32m<ipython-input-20-25e9341e8495>\u001b[0m in \u001b[0;36m<module>\u001b[0;34m()\u001b[0m\n\u001b[1;32m     20\u001b[0m Datenpunkte zum arithmetischen Mittel der y und x Achse'''\n\u001b[1;32m     21\u001b[0m \u001b[0;34m\u001b[0m\u001b[0m\n\u001b[0;32m---> 22\u001b[0;31m \u001b[0mdist_list\u001b[0m \u001b[0;34m=\u001b[0m \u001b[0mnp\u001b[0m\u001b[0;34m.\u001b[0m\u001b[0mwhere\u001b[0m\u001b[0;34m(\u001b[0m\u001b[0mdf_temp\u001b[0m \u001b[0;34m==\u001b[0m \u001b[0;34m'Days'\u001b[0m\u001b[0;34m,\u001b[0m \u001b[0mprint\u001b[0m \u001b[0;34m(\u001b[0m\u001b[0;34m'hi'\u001b[0m\u001b[0;34m)\u001b[0m\u001b[0;34m)\u001b[0m\u001b[0;34m\u001b[0m\u001b[0;34m\u001b[0m\u001b[0m\n\u001b[0m\u001b[1;32m     23\u001b[0m \u001b[0mprint\u001b[0m \u001b[0;34m(\u001b[0m\u001b[0mdist_list\u001b[0m\u001b[0;34m)\u001b[0m\u001b[0;34m\u001b[0m\u001b[0;34m\u001b[0m\u001b[0m\n\u001b[1;32m     24\u001b[0m \u001b[0;34m\u001b[0m\u001b[0m\n",
            "\u001b[0;31mValueError\u001b[0m: either both or neither of x and y should be given"
          ]
        }
      ]
    }
  ]
}