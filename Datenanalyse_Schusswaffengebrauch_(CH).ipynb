{
  "nbformat": 4,
  "nbformat_minor": 0,
  "metadata": {
    "colab": {
      "name": "Datenanalyse - Schusswaffengebrauch (CH).ipynb",
      "version": "0.3.2",
      "provenance": [],
      "collapsed_sections": [],
      "include_colab_link": true
    },
    "kernelspec": {
      "name": "python3",
      "display_name": "Python 3"
    }
  },
  "cells": [
    {
      "cell_type": "markdown",
      "metadata": {
        "id": "view-in-github",
        "colab_type": "text"
      },
      "source": [
        "<a href=\"https://colab.research.google.com/github/sakuronohana/my_datascience/blob/master/Datenanalyse_Schusswaffengebrauch_(CH).ipynb\" target=\"_parent\"><img src=\"https://colab.research.google.com/assets/colab-badge.svg\" alt=\"Open In Colab\"/></a>"
      ]
    },
    {
      "metadata": {
        "id": "7AH5G8roIetG",
        "colab_type": "text"
      },
      "cell_type": "markdown",
      "source": [
        "#Analysis of firearms deaths in Switzerland from 1995 - 2016 #\n",
        "\n",
        "\n",
        "\n",
        "The objective of the following data analysis is to visualize the deaths of firearms in Switzerland. The data set of the BIS used contains:\n",
        "\n",
        "* Deaths per year\n",
        "* Deaths per sex and year\n",
        "* Deaths subsection in suicide and others per sex and year.\n",
        "\n",
        "\n",
        "Origin Data set:: Bundesamt für Statisik ([Webseite](https://www.bfs.admin.ch))\n",
        "\n",
        "\n",
        "\n",
        "\n",
        "\n",
        "\n",
        "\n",
        "\n",
        "\n"
      ]
    },
    {
      "metadata": {
        "id": "9Tt30tY3K7i1",
        "colab_type": "code",
        "cellView": "both",
        "outputId": "b555d7c3-9d20-4342-f626-ba1bf242a0a9",
        "colab": {
          "base_uri": "https://localhost:8080/",
          "height": 221
        }
      },
      "cell_type": "code",
      "source": [
        "\n",
        "import pandas as pd\n",
        "import numpy as np\n",
        "import matplotlib.pyplot as plt\n",
        "\n",
        "# Importieren data\n",
        "# We importing the data direct from the BfS Site\n",
        "swt_data_raw = pd.read_excel('https://www.bfs.admin.ch/bfsstatic/dam/assets/7008098/master')\n",
        "\n",
        "lists = ['1995',\t'1996',\t'1997',\t'1998',\t'1999',\t'2000',\t'2001',\t'2002','2003',\n",
        "'2004','2005','2006','2007','2008','2009',\t'2010',\t'2011',\t'2012',\n",
        "'2013',\t'2014',\t'2015',\t'2016']\n",
        "\n",
        "# Data preparation\n",
        "def data_prep(swt_data_raw):\n",
        "  swt_data_clean0 = swt_data_raw.dropna() #Clean data from NaN\n",
        "  swt_data_clean1 = swt_data_clean0.drop(5, axis=0) #Delete row 5\n",
        "  swt_data_clean1.columns = ['Schusswaffentodesfälle',\n",
        "  '1995',\t'1996',\t'1997',\t'1998',\t'1999',\t'2000',\t'2001',\t'2002','2003',\n",
        "  '2004','2005','2006','2007','2008','2009',\t'2010',\t'2011',\t'2012',\n",
        "  '2013',\t'2014',\t'2015',\t'2016'] # Changes the Label of the Columns \n",
        "  swt_data_clean2 = swt_data_clean1.drop('Schusswaffentodesfälle', axis=1)\n",
        "  # Delete column\n",
        "\n",
        "  swt_data_clean2.rename(index = \n",
        "                       {7:'Total number of deaths from firearms',\n",
        "                       8:'Men',9:'Women',11:'Firearm suicides',\t\t\n",
        "                       12:'Men',13:'Women',15:'Other firearms deaths (not suicides)',\n",
        "                       16:'Men',17:'Women'},\t\n",
        "                       inplace = True) # Rename row labels\n",
        "\n",
        "  swt_data_clean2[lists] = swt_data_clean2[lists].astype(int) \n",
        "\n",
        "  # return swt_data_clean2.head(15)\n",
        "\n",
        "  # Sum diffrent values \n",
        "  \n",
        "  all = swt_data_clean2.sum(axis = 1) \n",
        "  print ('Period of 1995 - 2016 \\n', all)\n",
        "  \n",
        "  print (len(swt_data_clean2.columns))\n",
        " \n",
        "\n",
        "\n",
        "  \n",
        "\n",
        "data_prep(swt_data_raw)\n",
        "\n",
        "\n",
        "\n",
        "\n",
        "\n"
      ],
      "execution_count": 16,
      "outputs": [
        {
          "output_type": "stream",
          "text": [
            "Period of 1995 - 2016 \n",
            " Total number of deaths from firearms    7047\n",
            "Men                                     6505\n",
            "Women                                    542\n",
            "Firearm suicides                        6274\n",
            "Men                                     5993\n",
            "Women                                    281\n",
            "Other firearms deaths (not suicides)     773\n",
            "Men                                      512\n",
            "Women                                    261\n",
            "dtype: int64\n",
            "22\n"
          ],
          "name": "stdout"
        }
      ]
    }
  ]
}