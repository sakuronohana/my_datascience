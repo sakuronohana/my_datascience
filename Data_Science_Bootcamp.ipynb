{
  "nbformat": 4,
  "nbformat_minor": 0,
  "metadata": {
    "accelerator": "TPU",
    "colab": {
      "name": "Data Science Bootcamp.ipynb",
      "provenance": [],
      "collapsed_sections": [],
      "include_colab_link": true
    },
    "kernelspec": {
      "display_name": "Python 3",
      "language": "python",
      "name": "python3"
    },
    "language_info": {
      "codemirror_mode": {
        "name": "ipython",
        "version": 3
      },
      "file_extension": ".py",
      "mimetype": "text/x-python",
      "name": "python",
      "nbconvert_exporter": "python",
      "pygments_lexer": "ipython3",
      "version": "3.6.8"
    }
  },
  "cells": [
    {
      "cell_type": "markdown",
      "metadata": {
        "id": "view-in-github",
        "colab_type": "text"
      },
      "source": [
        "<a href=\"https://colab.research.google.com/github/sakuronohana/my_datascience/blob/master/Data_Science_Bootcamp.ipynb\" target=\"_parent\"><img src=\"https://colab.research.google.com/assets/colab-badge.svg\" alt=\"Open In Colab\"/></a>"
      ]
    },
    {
      "cell_type": "markdown",
      "metadata": {
        "colab_type": "text",
        "id": "56DDHJOCMR_M"
      },
      "source": [
        "#Data Science Bootcamp#"
      ]
    },
    {
      "cell_type": "markdown",
      "metadata": {
        "colab_type": "text",
        "id": "CDjLQ9K4ssMp"
      },
      "source": [
        "##Terminologie##\n",
        "\n",
        "* **Artificial Intelligence (AI)** ist eine Technik in welchem das *menschliche Verhalten* (bsp. kognitives Denken, Kommunikation, Interaktion etc.) nachahmt. AI ist *nicht* zu verwechseln mit *Robotik* .\n",
        "* **Machine Learning (ML)** verwendet statistische Methoden welche eine Maschine dazu befähigen eigenständig zu lernen. ML ist eine *Teilmenge von AI*.\n",
        "* **Deep Learning** ist eine Disziplin von ML und befasst sich mit einer dem menschlichen Hirn nachempfunden neuronalen Struktur dem soganannten *neuronalen Netzwerk*.\n",
        "* **Klassifikation (Classificaton)**, auch Klassifizierungsverfahren, sind Methoden und Kriterien zur *Einteilung (Klassierung)* von Objekten oder Situationen in Klassen, das heißt zur Klassifizierung. Beispielsweise Spam/not Spam. Ein solches Verfahren wird auch als ***Klassifikator*** bezeichnet. Typische Klassifikatoren sind *Logistic Regression (kann auch bei Regression eingesetzt werden), Support Vector Machines (SVM), Decision Trees, Random Forest, Neuronale Netzwerke*\n",
        "* **Regressionsanalysen** sind statistische Analyseverfahren, die zum Ziel haben, *Beziehungen* zwischen einer *abhängigen* und einer oder mehreren *unabhängigen Variablen* zu modellieren. Sie werden insbesondere verwendet, wenn Zusammenhänge quantitativ zu beschreiben oder Werte der abhängigen Variablen zu prognostizieren sind. In der Regression unterscheidet man zwischen Linear und nicht Linear. Ein typischer  Regressionsalgorithmen ist *Lineare Regression*, aber auch *SVM* und *Random Forest* können als RA eingesetzt werden.\n",
        "   * **Lineare Regression** Das Grundprinzip der Regression: Durch eine oder mehrere unabhängige Variablen, soll eine abhängige Variable erklärt werden. Beispiel: Durch die unabhängigen Variablen i= Werbeausgaben und ii=Anzahl der angebotenen Produkte soll die abhängige Variable y=Tagesumsatz erklärt werden.\n",
        "      * y = a + bi + cii\n",
        "      * y= Tagesumsatz = zuerklärende Variable = Regressand\n",
        "      * a= Konstante\n",
        "      * b= Gewichtungsfaktor der Werbeausgaben\n",
        "      * i= Werbeausgaben\n",
        "      * c= Gewichtungsfaktor der Anzahl der angebotenen Artikel\n",
        "      * ii= Anzahl der angebotenen Artikel\n",
        "\n",
        "  Hier eine Eselsbrücke:\n",
        "\n",
        "  * Regress**OHR**–> Ohren sind „schlau“ und können Dinge erklären –> erklärende Variable–> unabhängige Variable\n",
        "  \n",
        "  * Regres**SAND** –> Sand ist „dumm“ und kann nichts erklären–> zuerklärende Variable–>Abhängige Variable\n",
        "* **Clustering** ist ein Lernalgorithmus verwendet im *Unsupervised Learning*. Der Algorithmus teil dabei eigenständig Daten gleicher Art in verschiedene Gruppen (Clusters) auf, dazu nutzt er Distanzfunktionen (Euklidischer oder Manhatten Algorithmus). Es werden zwischen den zwei Clustering-Typen ***Hierarchical- und Partitional Clustering*** unterschieden. Bekannte Clustering-Algorithmen sind *k-Means*, HCA, etc. \n",
        "* **Activation Function** addieren eine nicht-Lineare Funktion zu jedem künstlichen Neuron in einem ANN und lassen ein Neuron feuern oder nicht. AF sind Sigmoid, tanh, ReLU usw. ReLU ist einer der beliebtesten AFs und wird vorwiegen in den Hidden-Layers eines ANN eingesetzt. \n",
        "* **Backpropagation** gehört zum Optimisierungsprozess im Maschine Learning. In einem ANN werden mittels Backpropagation die Gewichtungen der einzelnen Verbidungen aktualisiert.\n",
        "* **Association** ist ein Lernalgorihmus der Beziehung zwischen verschiedenen Merkmalen in ein grossen Datensatz ausfindig machen kann. Typische Associationlernalgorihmen sind *Apriori* und *Eclat*\n",
        "* **Accuracy (Genauigkeit)** ist eines der *Bewertungskriterien* im ML, mit  welchem die *korrekte Vorhersage (Prediction)* eines Klassifikators beurteilt wird. Zur Bewertung wird die sogenannte *Confusion Matrix* (True Positive, False Positive, False Negative, True Negative etc.) verwendet. \n",
        "* **Loss Function (Verlustfunktion)** Der Verlust ist das Resultat der Summe aller Fehler aus einem  Modell-Trainings oder -Validation. Je kleiner der Verlust desto besser das Modell. Der Loss bewegt sich gegengleich zur Accuracy welche zunehmend steigen sollte.\n",
        "* **Labeled Data** sind Daten in einem Datensatz, welche die Lösung darstellen bzw. das ist, was ein ML-Algorithus voraussagen oder erkennen soll (y-Predict). Beispielsweise Spam oder Not Spam, Like oder Not Like, \n",
        "* **Merkmale  (Features)** sind eindeutige Attribute in einem Datensatz wie Beispielsweise Temperatur, Preis, Aktienkurs, Geschwindigkeit, Geschlecht usw. und werden pro Spalte (Column) abgebildet.\n",
        "* **Lernverfahren** sind Methoden, mit welchem eine Machine aus den Daten lernen kann. Das eingesetzte Verfahren ist hautpsächlich abhängig von den verfügbaren Daten. Dies sind die bekanntesten Verfahren:\n",
        "  * **Supervised Learning** ist das Lernverfahren in welchem eine Maschine mittels gelabelten Daten bzw. Beispielen trainiert wird. In diesem Verfahren erhält die Maschine jeweils einen Feedback ob die Lösung richtig war. Im SL werden Algorithmustypen wie *Classification* und *Regression* eingesetzt. \n",
        "  * **Unsupervised Learning** ist ein Lernverfahren, in welchem eine Maschine ohne gelabelte Daten trainiert wird. Hier erhält die Machine keinen Feedback ob die Prediction richtig oder falsch war. Vielmehr sucht sie nach versteckten Strukturen in den Daten. Die Algorithmentypen welche hier zum Einsatz kommen sind *Association* und *Clustering*.\n",
        "  * **Reinforcement Learning** ist ein Lernverfahren in welchem eine Machine ohne historische Daten lernt. Man kann sich das RL wie ein Kind vorstellen, dass sich etwas eigenständig beibringt. In Zusammenhang mit RL wird auch oft der Begriff *Machine Learning Agent* verwendet. Der Agent ist jedoch nur ein Teil diese Lernverfahrens, der noch durch Environment [Video Link](https://www.youtube.com/watch?v=JgvyzIkgxF0)\n",
        "* **Converge (dt. sich annähern)** ist der Zustand, wenn ein Modell alle Fehler (Errors) auf eine bestmögliches minimum reduzieren konnte und somit fertig ist mit dem Training.\n",
        "* **Hyperparameter** sind Einstellungen mit welchen sich die Vorhersagegenauigkeit der ML-Modelle verbessern lassen. Beispiele von Hypermarameter ist die Lernrate,  Anzahl Hidden Layers (Neuronale Netzwerke) usw. Im Zusammenhang mit diesem Begriff wird auch oft *Hyperparameter Optimization* verwendet. Neben der Hyperparemeter verarbeitet das Modell im Rahmen des Trainingsprozeses die *Eingabedaten* und die Parameter des Modells selbst (z.B. Gewichtung der Verbindung zwischen den Units usw.)\n",
        "* **Entropy (dt. Entropie)** wird eingesetzt um die Unreinheit (Impurity) in Daten zu ermitteln. \n",
        "* **Bias** Ist im allgemeinen eine Verzerrung oder auch eine Voreingenommenheit, welche bspw. durch eine unverhältnismässige Gewichtung in eine Datensatz ausgelöst wird. Ein Bias kann in letzter Konsequenz zu einer fehlerhaften Entscheidung führen. Mit dem sogenannte Human Bias kann einer AI ein völlig einseitiges Bild der Realität dargestellt werden. Im Zusammenhang mit diesem Begriff wird zwischen folgend Arten von Bias unterschieden:\n",
        "\n",
        "\t* **Interaction bias** (Voreingenommenheit durch Interaction): Der Benutzer verzerrt einen Algorithmus durch die Art und Weise, wie wir mit ihm \tinteragieren. Als Beispiel hat Google Benutzer gebeten, einen Schuh zu zeichnen. Die Benutzer haben \teinen Herrenschuh gezeichnet, sodass das System nicht wusste, dass High Heels auch Schuhe sind\n",
        "\t\n",
        "\t* **Latent bias**: Der Algorithmus korreliert Ideen fälschlicherweise mit Geschlecht, Rasse, Sexualität, \tEinkommen usw. Dies ist die Idee, „Arzt“ mit Männern zu korrelieren, nur weil die meisten Bilder dies \tso darstellen\taussagen.\n",
        "\n",
        "\t* **Selection bias** (Stichprobenverzerrung): Die Daten, die zum Trainieren des Algorithmus verwendet werden, \tstellen eine Population  übermäßig dar, sodass sie auf Kosten anderer besser funktionieren. Wenn die \tBilderkennung nur für weiße \tMenschen trainiert wird,  werden sie AI-bewertete Schönheitswettbewerbe \tgewinnen.\n"
      ]
    },
    {
      "cell_type": "markdown",
      "metadata": {
        "colab_type": "text",
        "id": "86knPDRL8IwW"
      },
      "source": [
        "##Hilfsmittel##\n",
        "\n",
        "Nachfolgende eine Auflistung von nützlichen Artikeln, Lernvideos und Tools zu Themen wie Data Science, Machine Learning, Python usw. "
      ]
    },
    {
      "cell_type": "markdown",
      "metadata": {
        "colab_type": "text",
        "id": "sHYVpQNZ-lb9"
      },
      "source": [
        "###Data Science###\n",
        "\n",
        "* What 70% of Data Science Learners Do Wrong ([Artikel](https://towardsdatascience.com/what-70-of-data-science-learners-do-wrong-ac35326219e4))"
      ]
    },
    {
      "cell_type": "markdown",
      "metadata": {
        "colab_type": "text",
        "id": "qvBk6LMZ9dhq"
      },
      "source": [
        "###Python Coding###\n",
        "\n",
        "* 10 Simple hacks to speed up your Data Analysis in Python ([Artikel](https://towardsdatascience.com/10-simple-hacks-to-speed-up-your-data-analysis-in-python-ec18c6396e6b))\n",
        "* Pandas - Short hands-on challenges to perfect your data manipulation skills ([Tutorial](https://www.kaggle.com/learn/pandas))\n",
        "* Pandas Profiling - Creating Pandas Reports out of df.describe ([Tutorial](https://github.com/pandas-profiling/pandas-profiling)"
      ]
    },
    {
      "cell_type": "markdown",
      "metadata": {
        "colab_type": "text",
        "id": "T_tT23KR_pjH"
      },
      "source": [
        "###Machine Learning###\n",
        "\n",
        "**Deep Learning**\n",
        "\n",
        "* Wie funktioniert eine Neuronales Netzwerk ([Lernvideo](https://www.youtube.com/watch?v=aircAruvnKk))\n",
        "\n",
        "**Reinforcement Learning**\n",
        "* Gym is a toolkit for developing and comparing reinforcement learning algorithms [Tutorial](https://gym.openai.com/)"
      ]
    },
    {
      "cell_type": "markdown",
      "metadata": {
        "colab_type": "text",
        "id": "mKuJyMEPBy3a"
      },
      "source": [
        "##ML-Prozessmethodiken###\n",
        "\n",
        "###ML-Projektmanagement###\n",
        "Die Umsetzung eines ML-Projektes beinhaltet folgende Schritte, welche sich teilweise mit bestimmten Aktivitäten des ML-Prozesses überschneiden:\n",
        "\n",
        "1. Betrachtung des Gesamtbildes und Formulierung der Aufgabenstellung\n",
        "2. Beschaffung der Daten\n",
        "3. Erkundung und Visualisierung der Daten um daraus Erkenntnisse zu gewinnen\n",
        "4. Vorbereitung der Daten für den ML-Algorithmus\n",
        "5. Auswahl und Training eines Modells\n",
        "6. Verfeinerung (Tuning) des Modells\n",
        "7. Präsentation der Lösung\n",
        "8. Betrieb und Monitoring des ML-Systems\n",
        "\n",
        "###ML-Prozess###\n",
        "Der Machine Learning Prozess beschreibt die Vorgänge welche benötigt werden um ein ML-Modell zu erstellen. Dieser Prozess besteht aus den folgenden sieben Schritten:\n",
        "\n",
        "1. Research/Data Gathering  (Datenbeschaffung)\n",
        "2. Data Pre-Processing (Datenaufbereitung)\n",
        "3. Choose Model (Modellwahl)\n",
        "4. Train Model (Modelltraining)\n",
        "5. Test Model (Modelltesting)\n",
        "6. Tune Model (Modelloptimierung)\n",
        "7. Prediction (Modellproduktivsetzung)\n",
        "\n",
        "###ML-Workflow###\n",
        "Der Maschine Learning Workflow (auch ML-Lifecycle-Management) beschreibt die erforderlichen Schritte von der Entwicklung, Implementierung, Testing bis hin zur  Produktionsüberführung (Deployment)und Operation (Betrieb/Überwachung/Wartung) eines ML-Modells. Die nachfolgenden Schritte überschneiden sich natürlich mit denen im ML-Projektmanagement und -Prozess erläuterten Schritte. \n",
        "\n",
        "1. Source and prepare your date (ML-Prozess: Schritt 1)\n",
        "2. Code your model (ML-Prozess: Schritt 2)\n",
        "3. Train, evaluate and tune your model (ML-Prozess: Schritt 3-6)\n",
        "4. Deploy your trained model (ML-Prozess: 7)\n",
        "5. Get predictions from your model (ML-Prozess: 7)\n",
        "6. Monitor the ongoing predictions\n",
        "7. Manage your models and versions\n",
        "\n",
        "Tools\n",
        "\n",
        "Quelle Google Cloud ([Link](https://cloud.google.com/ml-engine/docs/tensorflow/ml-solutions-overview?hl=de))\n",
        "\n",
        "\n"
      ]
    },
    {
      "cell_type": "markdown",
      "metadata": {
        "colab_type": "text",
        "id": "AV7Y49AhPPzR"
      },
      "source": [
        "##Mathematik in Machine Learning##\n",
        "\n",
        "Möchte man Machine Learning bzw. die einzelnen Funktionen der Modell wirklich verstehen, dann kommt man nicht drum herum sich mit mathematische Formel herumzuschlagen. In diesem Kapitel wird das eine oder andere Thema etwas näher erläutert."
      ]
    },
    {
      "cell_type": "markdown",
      "metadata": {
        "colab_type": "text",
        "id": "gV2SKcqlSCEk"
      },
      "source": [
        "###Die vier mathematischen Eckpfeiler in Machine Learning###\n",
        "\n",
        "* **STATISTICS (dt. Statistik)** = Statistik ist das eigentliche Herzstück in ML. Es hilft wichtig Erkenntnise aus eine Menge von Daten (Zahlen) zu erlangen.\n",
        "* **CALCULUS (dt. Differential- & Integralrechnung)** = Wird für das Lernen und Optimieren eines ML-Modells benötigt.\n",
        "* **LINEAR ALGEBRA** = Ermöglich den Algorithmen auf riesigen Datensätzen zu arbeiten.\n",
        "* **PROBABILITY (dt. Wahrscheinlichkeit)** = Ermittelt die Wahrscheinlichkeit das eine Vorhersage eintrifft\n",
        "\n",
        "\n"
      ]
    },
    {
      "cell_type": "markdown",
      "metadata": {
        "colab_type": "text",
        "id": "3hZXsMVtRzVL"
      },
      "source": [
        "###Mathematische Notationen###\n",
        "\n",
        "Im Machine Learning werden zur Darstellung der Algortihmen und Verfahren verschiedene Notationen verwendet:\n",
        "\n",
        "* ***m*** symbolisiert die Anzahl Datenpunkte in einen Datensatz. Zum Beispiel bedeutet\n",
        "$\\displaystyle\\sum_{i=1}^{m}(...) $\n",
        "... die Summe aller in der folgenden Formel berechneteen Werte. Hat ein Datensatz bsp. 2000 Datenpunkte dann ist m = 2000. Anstelle von *m* wird manchmal auch *n* geschrieben.\n",
        "\n",
        "\n",
        "* ***$ x^{(i)}$*** ist ein Vektor (Spalte oder Zeile) aller Werte (ohne Label) sämtlicher Merkmale (Features). Wenn der Datenpunkt $x^{(1)}$ beispielsweise die Merkmale Längegrad = -118, Breitengrad = 33.91,Anzahl Einwohner = 1416  und Durchschnttseinkommen = 38372 hat sieht dies in der Notation wie folgt aus:  $x^{(1)} = \\begin{pmatrix}{-118}\\\\{33.91}\\\\{1416}\\\\{38372}\\end{pmatrix}$\n",
        "*  *$y^{(i)}$*  ist das dazugehörenden Label. Beispielsweise ist der mittlere Verkaufspreis einer Immobilie in der Region um den Datenpunkt $ x^{(i)}$, *$y^{(i)}$*  = 156000.\n",
        "* ***X*** ist eine Matrix mit sämtlichen Datenpunkten ***$x^{(i)}$*** (ohne Labels). Pro Datenpunkt gibt es eine Zeile $X = \\begin{pmatrix}{(x^{(1)})^T}\\\\{(x^{(2)})^T}\\\\{(x^{(3)})^T}\\\\\\vdots&\\\\{(x^{(1000)})^T}\\end{pmatrix} = \\begin{pmatrix}{-118}&{33.91}&{1416}&{38372}\\\\\\vdots&\\vdots &\\vdots & \\vdots\\end{pmatrix}$ \n",
        "\n",
        "* Das ***T*** steht für den Transponierungs-Operator und wandelt einen Spaltenvektor in einen Zeilenvektor oder umgekehrt."
      ]
    },
    {
      "cell_type": "markdown",
      "metadata": {
        "colab_type": "text",
        "id": "VKqhByGehD9U"
      },
      "source": [
        "###Lineare Algebra###\n",
        "\n",
        "Wenn es um die Verwendung von Daten im Machine Learning geht, dann führt kein Weg an ein paar Basics in Linearer Algebra vorbei. Nachfolgend ein paar wichtige Begriffe und Erklärungen."
      ]
    },
    {
      "cell_type": "markdown",
      "metadata": {
        "colab_type": "text",
        "id": "n0aLIt7eiwdx"
      },
      "source": [
        "**Matrix**\n",
        "\n",
        "Eine Matrix ist eine rechteckige Anordnung von Werten in Reihen (horizontal) und Spalten (vertikal).\n",
        "\n",
        "$X= \\begin{pmatrix}{1402} & {191}\\\\{1371} & {821}\\\\{949}&{1437}\\\\{147}&{1448}\\end{pmatrix}$\n",
        "\n"
      ]
    },
    {
      "cell_type": "markdown",
      "metadata": {
        "colab_type": "text",
        "id": "wvflzDcXiBke"
      },
      "source": [
        "###Activation Functions###"
      ]
    },
    {
      "cell_type": "markdown",
      "metadata": {
        "colab_type": "text",
        "id": "_8D6W5rHTSy5"
      },
      "source": [
        "**Sigmoid Function**\n",
        "\n",
        "Formel:\n",
        "\n",
        "$f(x) = \\frac{1}{1 + exp (^{-x})} $\n",
        "\n",
        "Plot:\n",
        "\n",
        "![alt text](https://upload.wikimedia.org/wikipedia/commons/thumb/5/53/Sigmoid-function-2.svg/512px-Sigmoid-function-2.svg.png)"
      ]
    },
    {
      "cell_type": "code",
      "metadata": {
        "colab_type": "code",
        "id": "IPAKvKnzTx-X",
        "colab": {}
      },
      "source": [
        "import numpy as np\n",
        "\n",
        "def sigmoid (x):\n",
        "  return 1 / (1 + np.exp(-x))\n",
        "\n",
        "sigmoid(2.5)"
      ],
      "execution_count": 0,
      "outputs": []
    },
    {
      "cell_type": "markdown",
      "metadata": {
        "colab_type": "text",
        "id": "BoIFIJhvZFQU"
      },
      "source": [
        "**tanh Function**\n",
        "Hyperbolic Tangent Function\n",
        "\n",
        "Formel:\n",
        "\n",
        "$f(x) = \\frac{2}{1 + exp (^{-2x})}-1 $\n",
        "\n",
        "Plot:\n",
        "\n",
        "![alt text](http://mathworld.wolfram.com/images/interactive/TanhReal.gif)"
      ]
    },
    {
      "cell_type": "code",
      "metadata": {
        "colab_type": "code",
        "id": "Pgl6nXilZk4h",
        "colab": {}
      },
      "source": [
        "import numpy as np\n",
        "\n",
        "def tanh (x):\n",
        "  return np.tanh(1 - (x ** 2))\n",
        "\n",
        "\n",
        "tanh(-2.5)"
      ],
      "execution_count": 0,
      "outputs": []
    },
    {
      "cell_type": "markdown",
      "metadata": {
        "colab_type": "text",
        "id": "fR421tiyaupV"
      },
      "source": [
        "###ReLU Function###\n",
        "Rectified Linear Unit ist einer der beliebtesten AF im ML. Die ReLU Function wird nur für  Hidden-Layers verwendet für den Output-Layer wird meist die SoftMax Function empfohlen.\n",
        "\n",
        "Formel:\n",
        "\n",
        "$f(x) = max(0, z)$\n",
        "\n",
        "Ist also x < als 0 dann ist das Resultat 0 ist x > 0 \n",
        "\n",
        "Plot:\n",
        "\n",
        "![alt text](https://cdn-images-1.medium.com/max/1600/1*oePAhrm74RNnNEolprmTaQ.png)"
      ]
    },
    {
      "cell_type": "code",
      "metadata": {
        "colab_type": "code",
        "id": "YE73uX2EbPGL",
        "colab": {}
      },
      "source": [
        "#@title ReLU - Python Code Sample { display-mode: \"form\" }\n",
        "import numpy as np\n",
        "import matplotlib.pyplot as plt\n",
        "\n",
        "def relu (x):\n",
        "  return np.maximum(0,x)\n",
        "  \n",
        "\n",
        "print (relu(0.5))\n",
        "\n",
        "  \n",
        "# define a series of inputs\n",
        "series_in = [x for x in range(-10, 11)]\n",
        "# calculate outputs for our inputs\n",
        "series_out = [relu(x) for x in series_in]\n",
        "# line plot of raw inputs to rectified outputs\n",
        "plt.plot(series_in, series_out)\n",
        "plt.show()\n",
        "\n"
      ],
      "execution_count": 0,
      "outputs": []
    },
    {
      "cell_type": "markdown",
      "metadata": {
        "colab_type": "text",
        "id": "Q6PRLqEhXBHC"
      },
      "source": [
        "##Machine Learning Modelle##\n",
        "\n",
        "In diesem Bootcamp beschäftigen wir uns mit den verschiedenen Methoden und Modelle des Maschine Learnings. \n",
        "\n",
        "![alt text](https://blogs.sas.com/content/subconsciousmusings/files/2017/04/machine-learning-cheet-sheet.png)"
      ]
    },
    {
      "cell_type": "code",
      "metadata": {
        "colab_type": "code",
        "id": "ig5PpGWdbd5L",
        "colab": {}
      },
      "source": [
        ""
      ],
      "execution_count": 0,
      "outputs": []
    },
    {
      "cell_type": "markdown",
      "metadata": {
        "colab_type": "text",
        "id": "iWDuVk1e2Dlm"
      },
      "source": [
        "###K Nearest Neighbours (KNN)###\n",
        "\n",
        "KNN gehört wohl zu den einfachsten ML-Algorithmen und wird sowohl für die Klassifizierung sowie Regression verwendet. Es handelt sich dabei um eine sogenannte parameterfreie Methode zur Schätzung von Wahrscheinlichkeitsdichtefunktionen (eng. probability density function / pdf). KNN arbeitet nach dem Klassifikationsverfahren, in welchem eine Klassenzuordnung unter Berücksichtigung sein ***k*** nächsten Nachbarn vorgenommen wird. Das Modell lernt dabei mittels Abspeicherung der Trainingsbeispielen was auch ***\"lazy learning\"*** (träges Lernen) genannt wird. KNN wird überall dort eingesetzt wo es darum geht Daten mit gleichartigen Mustern zu finden. Beispiele dafür sind Spam, Krebszellen usw. \n",
        "\n",
        "![KNNt](https://www.fromthegenesis.com/wp-content/uploads/2018/09/K_NN_Ad.jpg)\n",
        "\n",
        "[Weiterführende Infos unter Wikipedia](https://de.wikipedia.org/wiki/N%C3%A4chste-Nachbarn-Klassifikation)\n",
        "\n",
        "\n",
        "**KNN Step-by-Step**\n",
        "\n",
        "Im wesentlichen geht es im KNN darum die  Anzahl der ***k*** zu definieren, damit eine optimale Klassenzuordnung gemacht werden kann und die Distanz zwischen zu den nächsten Datenpunkte zu berechnen. \n",
        "\n",
        "Zu Berechnung der Distanz stehen im KNN drei Methoden zur Verfügung:\n",
        "\n",
        "![alt text](https://www.saedsayad.com/images/KNN_similarity.png)\n",
        "\n",
        "Am Beispiel eines Stadtplans ist die Euclidean Methode in Grün und Manhatten in blau:\n",
        "\n",
        "![alt text](https://qph.fs.quoracdn.net/main-qimg-e73d01f18d0b4a2f57ff2206a3863c10.webp)\n",
        "\n",
        "\n",
        "**Step 1 - Berechnung der (Euclidean) Distance\n",
        "\n",
        "Nehmen wir an, dass wir einen Datensatz bestehend aus Körpergrösse, Gewicht und T-Shirt Grösse haben:\n",
        "\n",
        "Grösse in cm (x) | Gewicht in  kg (y) | T-Shirt Grösse | Euclidean Distance\n",
        "--- | --- | --- \n",
        "158 | 58 | M\n",
        "158 | 59 | M\n",
        "158 | 63 | M\n",
        "160 | 59 | M\n",
        "160 | 60 | M\n",
        "163 | 60 | M\n",
        "163 | 61 | M\n",
        "160 | 64 | L\n",
        "163 | 64 | L\n",
        "165 | 61 | L\n",
        "165 | 62 | L\n",
        "165 | 65 | L\n",
        "168 | 62 | L\n",
        "168 | 63 | L\n",
        "168 | 66 | L\n",
        "170 | 63 | L\n",
        "170 | 64 | L\n",
        "170 | 68 | L\n",
        "\n",
        "Die neuen Daten sind:\n",
        "\n",
        "Grösse in cm (x) | Gewicht in  kg (y) |\n",
        "--- | --- \n",
        "161 | 62 \n",
        "\n",
        "Mit Hilfe von KKN und der Euclidean Methode wollen wir nun herausfinden zu welche T-Shirt Grösse diese Daten passen. "
      ]
    },
    {
      "cell_type": "code",
      "metadata": {
        "colab_type": "code",
        "id": "BkhtMBHU2WkQ",
        "colab": {}
      },
      "source": [
        "#KKN - ohne SciKit-Learn\n",
        "\n",
        "import numpy as np\n",
        "import pandas as pd\n",
        "import matplotlib.pyplot as plt\n",
        "\n",
        "#So lassen sich übrigends lässtige Fehlermeldungen unterdrücken\n",
        "import warnings\n",
        "warnings.simplefilter(action='ignore', category=FutureWarning)\n",
        "\n",
        "data_url = \"https://raw.githubusercontent.com/sakuronohana/my_datascience/master/kkn_t-shirt.csv\"\n",
        "\n",
        "data = pd.read_csv(data_url,delimiter='|')\n",
        "data.columns=['Groesse(cm)','Gewicht(kg)','T-Shirt']\n",
        "df_data_x = np.int32(np.ravel(pd.DataFrame(data['Groesse(cm)'])))\n",
        "df_data_y = np.int32(np.ravel(pd.DataFrame(data['Gewicht(kg)'])))\n",
        "new_data = pd.DataFrame([[161,62]], columns=['Groesse(cm)','Gewicht(kg)'])\n",
        "df_new_data_x = np.int32(np.ravel(pd.DataFrame(new_data['Groesse(cm)'])))\n",
        "df_new_data_y = np.int32(np.ravel(pd.DataFrame(new_data['Gewicht(kg)'])))\n",
        "\n",
        "#Berechnung der Distanz nach der euklidischen Distanz Methode\n",
        "df_sqt_xx = (np.subtract(df_new_data_x,df_data_x))**2\n",
        "df_sqt_yy = np.subtract(df_new_data_y,df_data_y)**2\n",
        "dis_euc = np.sqrt(np.add(df_sqt_xx,df_sqt_yy))\n",
        "df_dis_euc = pd.DataFrame(dis_euc, columns=['Distanz'])\n",
        "df_dis_euc.sort_values(by=['Distanz'])\n",
        "\n",
        "df_data_merge = pd.concat([data,df_dis_euc], axis=1)\n",
        "\n",
        "#Wahl der nächsten 5 Nachbarn\n",
        "k_detect = np.where(df_data_merge['Distanz']<3)\n",
        "k_select = df_data_merge.loc[k_detect]\n",
        "k_find = k_select['T-Shirt'].value_counts()\n",
        "print('Mit der Grösse von 161 cm und einem Gewicht von 62kg wird \\n '\n",
        "      'wahrscheinlich die T-Shirt Grösse%s passen' %(np.argmax(k_find)))\n",
        "\n",
        "\n",
        "ax = data.plot(kind='scatter',x='Gewicht(kg)',y='Groesse(cm)')\n",
        "new_data.plot(ax=ax,kind='scatter',x='Gewicht(kg)',y='Groesse(cm)')\n",
        "\n"
      ],
      "execution_count": 0,
      "outputs": []
    },
    {
      "cell_type": "markdown",
      "metadata": {
        "colab_type": "text",
        "id": "I_0f-toVq9ZN"
      },
      "source": [
        "###Lineare Regression###\n",
        "\n",
        "**Lernverfahren:** Supervised Learning\n",
        "\n",
        "**Lernarten:** Classification & Regression\n",
        "\n",
        "Die lineare Regression gehört zu den einfachsten der Regressionen und orientiert sich, wie der Name schon sagt, an einer Gerade. Mit diesem Modell können Daten mit einfachen Strukturen verarbeitet werden.\n",
        "\n",
        "\n",
        "Lernvideo: https://www.youtube.com/watch?v=E5RjzSK0fvY\n",
        "\n",
        "Mit RL können wir beispielsweise folgende Fragen beantworten:\n",
        "\n",
        "\n",
        "*  Wie wird sich der Kurs der Aktion XY in den nächsten Tagen entwickeln?\n",
        "*  Mit welchen Temperaturen müssen wir in den nächsten Tagen rechnen?\n",
        "* Wie wirkt sich die Temperatur auf den Bierkonsum aus? :-)\n",
        "* Wie wirken sich die Lernstunden auf den Kaffeekonsum aus?\n",
        "* Usw.\n",
        "\n",
        "Mathematisch gesehen versuchen wir folgende Formel zu lösen:\n",
        "\n",
        "**y = mx + b**\n",
        "\n",
        "**y** = Abhängigen Variablen (z.B. Anzahl konsumierter Kaffeetassen pro Tag)\n",
        "\n",
        "**x** = Unabhängigen Variabelen (z.B. Tage, Stunden usw.)\n",
        "\n",
        "**m** = Slope (Gradient = Steigung oder Gefälle)\n",
        "\n",
        "**b** = Y-Intercept \n",
        "\n",
        "Die Slope oder einfach gesagt die Linie, welche aufzeigt ob sich etwas positiv oder negativ entwickelt und gilt als Best Fit Line. Hierfür verwenden wir folgende Formel:\n",
        "\n",
        " m = $\\frac{\\sum(x-\\bar{x})(y-\\bar{y})}{\\sum(x-\\bar{x})^2}$\n",
        " \n",
        "Gehen wir mal Schritt für Schritt durch den LR Erstellungsprozess:\n",
        "\n",
        "Fragestellung: Wieviele Tassen Kaffee werde ich in den nächsten Tag noch komsumieren.\n",
        "\n",
        "**Step 1 - Berechnung des arithmetisches Mittel (mean)**\n",
        "\n",
        "Berechnen wir zuerst das arithmetische Mittel oder auch anders gesagt den Durchschnittswert von **x** und **y**:\n",
        "\n",
        " $\\bar{x}=\\frac{\\sum(x_i...x_i)}{x_i}$ \n",
        " \n",
        " $\\bar{y}= \\frac{\\sum(y_i...y_i)}{y_i}$\n",
        " \n",
        " Was in diesem Fall folgende Werte ergeben:\n",
        "\n",
        "Tage (x) | Tassen (y)\n",
        "--- | ---\n",
        "1 | 3\n",
        "2 | 4\n",
        "3 | 2\n",
        "4 | 4\n",
        "5 | 5\n",
        "**3 **($\\bar{x})$ | **3.6** ($\\bar{y})$\n",
        "\n",
        "**Step 2 - Berechnung der Werte x und y zum arithmetischen Mittel**\n",
        "\n",
        "Damit wir irgendwann **m** erhalten müssen wir die Distanz der einzelnen Werte von **x** und **y** gegenüber $\\bar{x}$ und $\\bar{y}$ berechnen. Gleichzeitig werden wir die einzelnen Werte jeweils zusammenzählen. Formel:\n",
        "\n",
        "${x}-\\bar{x}$ und  ${y}-\\bar{y}$\n",
        "\n",
        "Tage (x) | Tassen (y) | ${x}-\\bar{x}$ | $y-\\bar{y}$\n",
        "--- | --- | --- | ---\n",
        "1 | 3 | -2 | -0.6\n",
        "2 | 4 | -1 | 0.4\n",
        "3 | 2 | 0 | -1.6\n",
        "4 | 4 | 1 | 0.4\n",
        "5 | 5 | 2 | 1.4\n",
        "**3 **($\\bar{x})$ | **3.6** ($\\bar{y})$\n",
        "\n",
        "**Step 3 - Berechnung von Least-square (kleinste Quadrate)**\n",
        "\n",
        "Damit wir nun die eigendliche Abweichung der Datenpunkt zur Best Fit Line erhalten müssen wir x  noch quadrieren. Hier die Formel dazu:\n",
        "\n",
        "$({x}-\\bar{x})^2$ \n",
        "\n",
        "Da wir aber die Gesamtabweichung ermitteln wollen, werden wir die Werte gleich aufsummieren:\n",
        "\n",
        "Tage (x) | Tassen (y) | ${x}-\\bar{x}$ | $y-\\bar{y}$ | $({x}-\\bar{x})^2$ \n",
        "--- | --- | --- | --- | ---\n",
        "1 | 3 | -2 | -0.6 | 4 \n",
        "2 | 4 | -1 | 0.4 | 1\n",
        "3 | 2 | 0 | -1.6 | 0\n",
        "4 | 4 | 1 | 0.4 | 1\n",
        "5 | 5 | 2 | 1.4 | 4\n",
        "**3 **($\\bar{x})$ | **3.6** ($\\bar{y})$ ||| **10**\n",
        "\n",
        "**Step 4 - Berechnung Gesamtsumme von x und y**\n",
        "\n",
        "Wir müssen nun noch die Werte aus ${x} -\\bar{x}$  und  ${y}-\\bar{y}$ multiplzieren.\n",
        "\n",
        "Tage (x) | Tassen (y) | ${x}-\\bar{x}$ | $y-\\bar{y}$ | $({x}-\\bar{x})^2$ | $(x-\\bar{x})(y-\\bar{y})$\n",
        "--- | --- | --- | --- | --- | ---\n",
        "1 | 3 | -2 | -0.6 | 4 | 1.2\n",
        "2 | 4 | -1 | 0.4 | 1 | -0.4\n",
        "3 | 2 | 0 | -1.6 | 0 | 0\n",
        "4 | 4 | 1 | 0.4 | 1 | 0.4\n",
        "5 | 5 | 2 | 1.4 | 4 | 2.8\n",
        "**3 **($\\bar{x})$ | **3.6** ($\\bar{y})$ ||| **10**|**4**\n",
        "\n",
        "**Step 5 - Berechnung von m**\n",
        "\n",
        "Nun haben wir alle Informationen zusammen um **m** zu berechnen. Nachfolgendend die Berechnung:\n",
        "\n",
        "m = $\\sum\\frac{(x-\\bar{x})(y-\\bar{y})}{(x-\\bar{x})^2}=\\sum\\frac{4}{10}=0.4$\n",
        "\n",
        "\n",
        "**Step 6 - Berchnung von b bzw. Y-Intercept**\n",
        "\n",
        "Nochmal zur Erinnerung. Wir wollen folgende Gleichung lösen:\n",
        "\n",
        "**y = mx+b**\n",
        "\n",
        "Wir haben nun also in den letzen paar Schritten folgende Werte errechnet:\n",
        "\n",
        "**y** = 3.6\n",
        "\n",
        "**m** = 0.4\n",
        "\n",
        "**x** = 3\n",
        "\n",
        "Wir erhalten nun also folgende Gleichung welche es zu lösen gibt:\n",
        "\n",
        "3.6 = 0.4 * 3 + c\n",
        "          \n",
        "3.6 = 1.2 + c\n",
        "\n",
        "3.6 - 1.2 = 2.4 ist somit  **c= 2.4**\n",
        "\n",
        "\n",
        "**Step 7 - Berechnung der Regressionslinie**\n",
        "\n",
        "Nun haben wir alle Informationen zusammen um die Best Fit Linie zu errechnen bzw. die Prediction:\n",
        "\n",
        "m = 0.4\n",
        "c = 2.4\n",
        "y = 0.4x + 2.4\n",
        "\n",
        "**Hinweis:** y sind in diesem Fall die Datenpunkte für die Regressionslinie\n",
        "\n",
        "Wir werden jetzt mittels folgender Formel die Line errechnen:\n",
        "\n",
        "y=mx+b\n",
        "\n",
        "Tage (x) | Tassen (y) | ${x}-\\bar{x}$ | $y-\\bar{y}$ | $({x}-\\bar{x})^2$ | $(x-\\bar{x})(y-\\bar{y})$ | $y_p$|\n",
        "--- | --- | --- | --- | --- | --- | ---\n",
        "1 | 3 | -2 | -0.6 | 4 | 1.2 | 2.8\n",
        "2 | 4 | -1 | 0.4 | 1 | -0.4 | 3.2\n",
        "3 | 2 | 0 | -1.6 | 0 | 0 | 3.6\n",
        "4 | 4 | 1 | 0.4 | 1 | 0.4 | 4.0\n",
        "5 | 5 | 2 | 1.4 | 4 | 2.8 | 4.4\n",
        "\n",
        "\n",
        "Wenn wir nun diese Koordinaten in der Matrix eintragen , dann erhalten wir die Regressionslinie.\n",
        "\n",
        "**Tutorial**: [Machine Learning Tutorial Part - 1 (ab 17:10)](https://www.youtube.com/watch?v=DWsJc1xnOZo&feature=youtu.be&list=PLEiEAq2VkUULYYgj13YHUWmRePqiu8Ddy)"
      ]
    },
    {
      "cell_type": "code",
      "metadata": {
        "colab_type": "code",
        "id": "1Wf-VRQa2830",
        "colab": {}
      },
      "source": [
        "import matplotlib.pyplot as plt\n",
        "\n",
        "dp = [[1,3],[2,4],[3,2],[4,4],[5,5]]\n",
        "rl = [[2.8],[3.2],[3.6],[4.0],[4.4]]\n",
        "\n",
        "plt.plot(dp,'ro', rl, 'bo', rl)\n",
        "plt.title('Linear Regression')\n",
        "plt.axis([0,5,0,6])\n",
        "plt.xlabel('Tage')\n",
        "plt.ylabel('Kaffeetassen')\n",
        "plt.show()"
      ],
      "execution_count": 0,
      "outputs": []
    },
    {
      "cell_type": "markdown",
      "metadata": {
        "colab_type": "text",
        "id": "e3_8MMnX3TqW"
      },
      "source": [
        "**Step 8 - R Squared**\n",
        "\n",
        "In den vorgängigen Schritten haben wir die Regressionslinie gesucht welche am besten fittet. \n",
        "Wir wollen nun aber sehen wie gut unter Modell wirklch fittet. Dazu können wir R Square verwenden. Es geht beim R Square eigendlich darum den Abstand des tatsächlichen arithmetischen Mittels dem Abstand des vorhergesagten arithmetischen Mittels gegenüber zu stellen. $R^2$ wird nur bei der linearen Regression verwendet.\n",
        "\n",
        "Dir Formel für R Square ($R^2$) sieht entsprechend wie folgt aus:\n",
        "\n",
        "$R^2$ = $\\frac{\\sum(y_p\\bar{y})^2}{\\sum(y-\\bar{y})^2}$\n",
        "\n",
        "\n",
        "$(y_p - \\bar{y})^2$ = Distance predicted-mean\n",
        "\n",
        "$(y-\\bar{y})^2$ = Distance actual-mean\n",
        "\n",
        "Tage (x) | Tassen (y) | $y-y$ | $(y-y)^2$ | $y_p$| $(y_p-\\bar{y})$|$(y_p-\\bar{y})^2$\n",
        "--- | --- | --- | --- | --- | --- | --- | ---\n",
        "1 | 3 | -0.6 |  0.36 | 2.8 | -0.8 | 0.64\n",
        "2 | 4 |  0.4 |  0.16 | 3.2 | -0.4 | 0.16\n",
        "3 | 2 |-1.6 |  2.56 | 3.6 | 0 | 0\n",
        "4 | 4 |  0.4 |  0.16 | 4.0 | 0.4 | 0.16\n",
        "5 | 5 | 1.4 | 1.96| 4.4 | 0.8 | 0.64\n",
        "|**3.6**||**5.2**|||**1.6**\n",
        "\n",
        "Da wir nun die Werte haben können wir sie in der Formel eintragen:\n",
        "\n",
        "$R^2$ = $\\frac{1.6}{5.2}$=$\\frac{\\sum(y_p\\bar{y})^2}{\\sum(y-\\bar{y})^2}$=0.3\n",
        "\n",
        "Wir haben somit also einen $R^2$ Value von 0.3. Dieser Wert zeigt uns, dass die Datenpunkte nicht wirklich gut fitten bzw. weit auseinder stehen und keine gute Beziehung aufweisen. Je näher der Wert Richtung 1 rückt desto besser ist der Fit bzw. unser Modell geignet die Daten abzubilden.\n"
      ]
    },
    {
      "cell_type": "code",
      "metadata": {
        "colab_type": "code",
        "id": "BYYU4fKk3arU",
        "colab": {}
      },
      "source": [
        "#Lineare Regression - ohne SciKit-Learn\n",
        "\n",
        "import numpy as np\n",
        "import pandas as pd\n",
        "import matplotlib.pyplot as plt\n",
        "\n",
        "'''Wir erstellen zuerst zwei Dataframes mit jeweils einem 1D Array mit \n",
        "Temperaturen und Tagen'''\n",
        "\n",
        "list = [[1,3],[2,4],[3,2],[4,4],[5,5]]\n",
        "\n",
        "df_kt = pd.DataFrame(list, columns=['Tage(x)', 'Tassen(y)'])\n",
        "df_kt_x = np.ravel(pd.DataFrame(df_kt['Tage(x)']))\n",
        "df_kt_y = np.ravel(pd.DataFrame(df_kt['Tassen(y)']))\n",
        "\n",
        "\n",
        "#Step 1 - Berechnung des arithmetisches Mittel (mean)\n",
        "\n",
        "x_mean = np.mean(df_kt_x)\n",
        "y_mean = np.mean(df_kt_y)\n",
        "\n",
        "\n",
        "#Step 2 - Berechnung der Werte x und y zum arithmetischen Mittel\n",
        "\n",
        "x_meanx = np.subtract(df_kt_x, x_mean)\n",
        "y_meany = np.subtract(df_kt_y, y_mean)\n",
        "\n",
        "#Step 3 - Berechnung von Least-square (kleinste Quadrate)\n",
        "\n",
        "xsqt = np.sum(np.int32(np.square(x_meanx)))\n",
        "\n",
        "#Step 4 - Berechnung Gesamtsumme von x und y\n",
        "\n",
        "xy_multiply = np.int32(np.sum(np.multiply(x_meanx,y_meany)))\n",
        "\n",
        "#Step 5 - Berechnung von m\n",
        "\n",
        "m_slope = np.divide(xy_multiply,xsqt)\n",
        "\n",
        "#Step 6 - Berechnung von b bzw. Y-Intercept\n",
        "\n",
        "y_intcept = y_mean-(m_slope * x_mean)\n",
        "\n",
        "#Step 7 - Berechnung der Regressionslinie bzw. Datenpunkte\n",
        "\n",
        "regline = np.add(np.multiply(m_slope,df_kt_x),y_intcept)\n",
        "\n",
        "#Step 8 - R Squared\n",
        "\n",
        "sqt_rl_meany = np.sum(np.square(np.subtract(regline,y_mean)))\n",
        "sqt_y_meany = np.sum(np.square(np.subtract(df_kt_y,y_mean)))\n",
        "r_square = round(np.divide(sqt_rl_meany,sqt_y_meany),1)\n",
        "\n",
        "print('Der R Squared Wert liegt bei dieser Linearen Regression bei',r_square, \n",
        "     '\\n Das Modell fittet somit nicht wirklich gut, da der perfekte Fit \\n bei 1 liegen würde')\n",
        "\n",
        "plt.title('Kaffeetassen Plot')\n",
        "plt.plot(list,'bo',regline,'ro',regline)\n",
        "plt.axis([-0.1,5,0,5.5])\n",
        "plt.show()\n",
        "\n"
      ],
      "execution_count": 0,
      "outputs": []
    },
    {
      "cell_type": "code",
      "metadata": {
        "colab_type": "code",
        "id": "Ctwnja3s3htW",
        "colab": {}
      },
      "source": [
        "#Lineare Regression - mit SciKit-Learn\n",
        "\n",
        "import numpy as np\n",
        "import pandas as pd\n",
        "from sklearn import linear_model\n",
        "from sklearn.metrics import mean_squared_error, r2_score\n",
        "import matplotlib.pyplot as plt\n",
        "\n",
        "'''Wir erstellen zuerst zwei Dataframes mit jeweils einem 1D Array mit \n",
        "Temperaturen und Tagen'''\n",
        "\n",
        "list = [[1,3],[2,4],[3,2],[4,4],[5,5]]\n",
        "\n",
        "df_kt = pd.DataFrame(list, columns=['Tage(x)', 'Tassen(y)'])\n",
        "df_kt_x = pd.DataFrame(df_kt['Tage(x)'])\n",
        "df_kt_y = pd.DataFrame(df_kt['Tassen(y)'])\n",
        "\n",
        "# Erstellen von Objekt für die Lineare Regression\n",
        "lr_obj = linear_model.LinearRegression()\n",
        "\n",
        "# Trainieren des Models\n",
        "lr_obj.fit(df_kt_x, df_kt_y)\n",
        "\n",
        "# Zeit um mal eine Voraussage (Prediction) zu wagen.\n",
        "reg_y_pred = lr_obj.predict(df_kt_x)\n",
        "reg_y_pred\n",
        "\n",
        "# Die nachfolgenden Codes machen werden im Normalfall mit dem Testset \n",
        "# gemacht was wir aber für dieses Beispiel nicht haben.\n",
        "\n",
        "# Der Koeffizient im nachfolgenden Beispiel stellt die Variable m dar\n",
        "print('Der Koeffizient dieses Modells ist' ,lr_obj.coef_)\n",
        "\n",
        "# Der Mean Square Error (MSE) beschreibt die Abweichung (Error) zwischen\n",
        "# den, durch die Daten, gegebenen Werten (y) und der geschätzten Werte \n",
        "# (Y Prediction)\n",
        "print('Der MSE ist: %2f' % mean_squared_error(df_kt_y,reg_y_pred))\n",
        "\n",
        "# Der nachfolgenden Varianzwert macht im Normalfall nur \n",
        "print('Der Varianzwert: ', r2_score(df_kt_y,reg_y_pred))"
      ],
      "execution_count": 0,
      "outputs": []
    },
    {
      "cell_type": "markdown",
      "metadata": {
        "colab_type": "text",
        "id": "YsdLVslBX-EQ"
      },
      "source": [
        "###Support Vector Machine (SVM)###\n",
        "\n",
        "**Lernverfahren:** Supervised Learning\n",
        "\n",
        "**Lernarten:** Classification & Regression\n",
        "\n",
        "**Wichtige Begriffe:** \n",
        "\n",
        "* Hyperebene = Ist die Trennfläche welche die verglichenen Klassen trennen.\n",
        "* Trennlinie (Hyperplane) = Ist die Mittellinie in der Hyperebene\n",
        "* Stützvektoren (Support Vectors) = Sind die Datenpunkte, welche der Trennlinie am nächsten sind.\n",
        "* Kernel-Trick = Ist der Parameter mit welchem man nicht-lineare Daten im SVM verwendet kann.\n",
        "* Maximum Margin = Abstand zwischen positiven (richtigen) und negativen (falschen) Support Vectors. Flächen links und rechts des Hyperplane.\n",
        "* Regularization parameter = Ist der Parameter (C) mit welchem die Fehleranfälligkeit definiert werden kann\n",
        "\n",
        "**Tutorials:**\n",
        "[How Support Vector Machine Works by Simplilearn](https://www.youtube.com/watch?v=TtKF996oEl8)"
      ]
    },
    {
      "cell_type": "markdown",
      "metadata": {
        "colab_type": "text",
        "id": "DAyBYZSjbTcO"
      },
      "source": [
        "###SVM with Python###\n",
        "\n",
        "Im folgenden Beispiel verwenden wir ein einfache lineare SVM  und nutzen dazu das ML-Modul scikit-learn in Pyhon."
      ]
    },
    {
      "cell_type": "code",
      "metadata": {
        "colab_type": "code",
        "id": "wj1QbfoviJMt",
        "colab": {}
      },
      "source": [
        "# Vereinfachte Version\n",
        "\n",
        "import numpy as np\n",
        "import pandas as pd\n",
        "import matplotlib.pyplot as plt\n",
        "from sklearn import svm\n",
        "from sklearn.datasets.samples_generator import make_blobs\n",
        "\n",
        "# Erstellung von Datenpunkten\n",
        "# Hier erstellen wir 40 Datenpunkte und versammeln jeweils 20 Punkt in  \n",
        "# 2 Datenpunktehaufen\n",
        "X, y = make_blobs(n_samples=40, centers=2, random_state=20)\n",
        "print(X)\n",
        "\n",
        "# wir fitten nun das Modell \n",
        "\n",
        "clf = svm.SVC(kernel='linear', C=1) # C definiert wieviele Fehler wir zulassen\n",
        "clf.fit(X,y)\n",
        "\n",
        "# Visualisierung des Modells\n",
        "plt.scatter(X[:,0], X[:,1], c=y, s=30, cmap=plt.cm.Paired)\n",
        "plt.show()\n"
      ],
      "execution_count": 0,
      "outputs": []
    },
    {
      "cell_type": "code",
      "metadata": {
        "cellView": "both",
        "colab_type": "code",
        "id": "gCbl3h1ciJFY",
        "colab": {}
      },
      "source": [
        "# Bringen wir nun zweit neue Datenpunkt ins Spiel\n",
        "\n",
        "newData = [[3,4],[6,8]]\n",
        "print (clf.predict(newData))\n",
        "\n",
        "'''Das Resultat zeigt uns, dass ein Datenpunkt zur \n",
        "Gruppe 0 und einer zur Gruppe 1 zugeordnet wurde''' \n"
      ],
      "execution_count": 0,
      "outputs": []
    },
    {
      "cell_type": "code",
      "metadata": {
        "colab_type": "code",
        "id": "BzWYnu9PtGEC",
        "colab": {}
      },
      "source": [
        "# Fortgeschrittene Version - Blick hinter die Kulissen\n",
        "\n",
        "import numpy as np\n",
        "import pandas as pd\n",
        "import matplotlib.pyplot as plt\n",
        "from sklearn import svm\n",
        "from sklearn.datasets.samples_generator import make_blobs\n",
        "\n",
        "# Erstellung von Datenpunkten\n",
        "# Hier erstellen wir 40 Datenpunkte und versammeln jeweils 20 Punkt in  \n",
        "# 2 Datenpunktehaufen\n",
        "X, y = make_blobs(n_samples=40, centers=2, random_state=20)\n",
        "\n",
        "\n",
        "# wir fitten nun das Modell \n",
        "clf = svm.SVC(kernel='linear', C=1000) # C definiert wieviele Fehler wir zulassen\n",
        "clf.fit(X,y)\n",
        "\n",
        "# Visualisierung des Modells\n",
        "plt.scatter(X[:,0], X[:,1], c=y, s=30, cmap=plt.cm.Paired)\n",
        "\n",
        "# plot the decision function\n",
        "ax = plt.gca()\n",
        "xlim = ax.get_xlim()\n",
        "ylim = ax.get_ylim()\n",
        "\n",
        "# Create grid to evaluate model\n",
        "'''Nachfolgend definieren wir den Large-Margin-Classificator bzw. \n",
        "Fläche, welche die zwei Datenpunktgruppen voneinander abgrenzt'''\n",
        "xx = np.linspace(xlim[0], xlim[1], 30) #Der Wert 30 definiert die Anzahl Striche\n",
        "yy = np.linspace(ylim[0], ylim[1], 30)\n",
        "YY, XX = np.meshgrid(yy, xx)\n",
        "xy = np.vstack([XX.ravel(), YY.ravel()]).T\n",
        "Z = clf.decision_function(xy).reshape(XX.shape)\n",
        "\n",
        "# plot decision boundary and margins\n",
        "ax.contour(XX,YY, Z, colors='k', levels=[-1,0,1], alpha=0.5,\n",
        "           linestyles=['--','-','--'])\n",
        "# plot support vectors\n",
        "ax.scatter(clf.support_vectors_[:, 0], clf.support_vectors_[:,1],\n",
        "           s=100, linewidth=1, facecolors='none')\n",
        "\n",
        "print('Krokodile (rote Punkte) haben eine längere Schnauze während \\n Alligatoren (hellblaue Punkte) grösser sind')\n",
        "plt.xlabel('Schnauzenlänge')\n",
        "plt.ylabel('Körperlänge')\n",
        "plt.title('Alligator oder Krokodil?')\n",
        "\n",
        "plt.show()\n"
      ],
      "execution_count": 0,
      "outputs": []
    },
    {
      "cell_type": "markdown",
      "metadata": {
        "colab_type": "text",
        "id": "DgAmsBN1Fj_X"
      },
      "source": [
        "###K-Means###\n",
        "\n",
        "**Lernverfahren:** Unsupervised Learning\n",
        "\n",
        "**Lernarten:** Clustering (Partitional Clustering)\n",
        "\n",
        "Der **k-Means-Algorithmus** ist ein Verfahren zur Vektorquantisierung, welches auch zur Clusteranalyse verwendet wird. Dabei wird aus einer Menge von ähnlichen Objekten eine vorher bekannte Anzahl von k Gruppen gebildet. Der Algorithmus ist eine der am häufigsten verwendeten Techniken zur Gruppierung von Objekten, da er schnell die Zentren der Cluster findet. Dabei bevorzugt der Algorithmus Gruppen mit geringer Varianz bzw. Distanz und ähnlicher Größe.\n",
        "\n",
        "k-Means Clustering funtioniert in etwa wie folgt:\n",
        "\n",
        "![alt text](https://image.slidesharecdn.com/kmeansclusteringalgorithmkmeansclusteringexamplemachinelearningalgorithmssimplilearn-180323072616/95/k-means-clustering-algorithm-k-means-clustering-example-machine-learning-algorithms-simplilearn-32-1024.jpg?cb=1521790168)\n",
        "\n",
        "Nehmen wir an, das wir die Inputs x1, x2, x3 .... und den K-Wert,\n",
        "\n",
        "1. Schritt: Zufallsauswahl von k als Cluster Center (Centroids) *Hinweis: Centroids befinden sich nicht wirklich im Cluster-Center*\n",
        "Mathematisch sieht das wie folgt aus, wobei *C* die Summe aller Centroids und $c_n$ jeden einzelnen Centroid darstellt:\n",
        "\n",
        "      $C= c_1,c_2,...c_k$\n",
        "      \n",
        "2. Schritt:  Zuweisung jedes xi zum nächsten Cluster durch die Berechnung der Distanz zu jedem Centroid. Bspw. x1 zu c1, c2 und c4.\n",
        "\n",
        "    $arg  min  dist (c_i, x)^2$\n",
        "    \n",
        "    $^C_i \\in C$\n",
        "\n",
        "3. Schritt: Suchen eines neuen Cluster Centers mittels arithmetischen Mittels der bereits zugewiesenen Datenpunkte.\n",
        "\n",
        "4. Schritt: Wiederholen der Schritte 2 und 3 bis sich die Positionen der Centroids nicht mehr verändern.\n",
        "\n",
        "\n",
        "Zur Ermittlung der Distanzen werden die gleichen Distanzfunktionen (Euc) eingesetzt wie bei KNN (siehe)\n",
        "\n",
        "**Wichtige Begriffe:** \n",
        "\n",
        "* Unlabeled Daten = Geben in Gegensatz zu gelabelten Daten keine Lösung vor. \n",
        "* K = Anzahl Datenpunkte die gewählt werden um Cluster zu bilden.\n",
        "* Cluster centroids = Nennt man die mit K ausgewählten Datenpunkte.\n",
        "\n",
        "**Tutorial Video** [KMeans Clustering Algorithmus](https://www.youtube.com/watch?v=Xvwt7y2jf5E&feature=youtu.be)"
      ]
    },
    {
      "cell_type": "code",
      "metadata": {
        "colab_type": "code",
        "id": "GY5mys6cWlAk",
        "colab": {}
      },
      "source": [
        "# K-Means Clustering\n",
        "\n",
        "import numpy as np\n",
        "import pandas as pd\n",
        "import matplotlib.pyplot as plt\n",
        "import seaborn as sns; sns.set()\n",
        "%matplotlib inline\n",
        "\n",
        "from sklearn.dataset.samples_generator import make_blobs\n",
        "\n",
        "X, y_true = make_blobs(n_sample=300, centers=4, cluster_std=0.60, random_state=0)\n",
        "plt.scatter(X[:, 0], X[:, 1], s=S0)"
      ],
      "execution_count": 0,
      "outputs": []
    },
    {
      "cell_type": "code",
      "metadata": {
        "colab_type": "code",
        "id": "alEfGaoVXHp3",
        "colab": {}
      },
      "source": [
        "# Import Data\n",
        "data_source = 'https://raw.githubusercontent.com/sakuronohana/my_datascience/master/car_data.csv' \n",
        "dataset = pd.read_csv(data_source, delimiter=';')\n",
        "X = dataset[:-1]\n",
        "X.head()\n",
        "\n"
      ],
      "execution_count": 0,
      "outputs": []
    },
    {
      "cell_type": "code",
      "metadata": {
        "colab_type": "code",
        "id": "e4sUcxHFPvVG",
        "colab": {}
      },
      "source": [
        "# Datenbereinigung \n",
        "# Konvertierung der Daten in nummerische Werte\n",
        "X = dataset[dataset.columns[:-1]]\n",
        "X = X.convert_objects(convert_numeric=True)\n",
        "\n",
        "# Löschung von Null-Werten\n",
        "for i in X.columns:\n",
        "#Alle Felder Null in den Spalten werden ersetzt mit einem arithmetischen Wert\n",
        "  X[i] = X[i].fillna(int(X[i].mean()))\n",
        "for i in X.columns:\n",
        "  print(X[i].isnull().sum()) \n"
      ],
      "execution_count": 0,
      "outputs": []
    },
    {
      "cell_type": "code",
      "metadata": {
        "colab_type": "code",
        "id": "sf7ykmO6Nzgo",
        "colab": {}
      },
      "source": [
        "# Die nachfolgend verwendete Methode zur Findung des optimalen Clusters\n",
        "# heisst Elbow Method (Ellbogenmethode). Der Ellbogen bzw. Knick in der \n",
        "# Kurve wird verwendet um die optimale Anzahl Cluster zu finden.\n",
        "\n",
        "from sklearn.cluster import KMeans\n",
        "\n",
        "# Nun erstellen wir einen leeren Array names 'Within sum of Squares (WSS)'\n",
        "wcss = [] \n",
        "print(np.shape(X))\n",
        "\n",
        "for i in range(1,12): #Wir trainieren unsere K-Means Algorthmus 11 mal\n",
        "  kmeans = KMeans(n_clusters=i, init='k-means++', max_iter=300, n_init=10,random_state=0)\n",
        "  kmeans.fit(X)\n",
        "  wcss.append(float(i))\n",
        "  \n",
        "  plt.plot(range(1,12), wcss)\n",
        "  plt.title('K-Means Elbow Method')\n",
        "  plt.xlabel('Number of Clusters')\n",
        "  plt.ylabel('WCSS')\n",
        "  plt.show()"
      ],
      "execution_count": 0,
      "outputs": []
    },
    {
      "cell_type": "markdown",
      "metadata": {
        "colab_type": "text",
        "id": "0OMRqL-5eaqu"
      },
      "source": [
        "##Deep Learning##\n",
        "\n",
        "Deep Learning ist ein Teilgebiet des Machine Learning und unterscheidet sich vom „klassischen“ maschinellen Lernen, indem es Maschinen in die Lage versetzt, über die verfügbaren Daten hinaus zu lernen. Das beinhaltet die Fähigkeit, Informationen zu analysieren und zu bewerten, um logische Schlüsse zu ziehen, Lösungswege auszuwählen und aus Fehlern zu lernen. Je mehr Daten eine Maschine also empfängt, desto grösser ist ihre Lernfähigkeit und desto \"intelligenter\" kann sie werden. Obwohl es die künstlichen neuronalen Netze, die die Grundlage dieser Technologien bilden, bereits seit den 1950er Jahren gibt, haben erst die bahnbrechenden Entwicklungen des letzten Jahrzehnts die Lernkurve stark verbessert. Die am meisten verbreiteten modernen Applikationen sind Stimm- und Bilderkennung. Das Niveau der Datenanalyse ermöglicht jedoch viele vorausschauende Applikationen, wie enorme Verbesserungen in der vorausschauenden Wartung, sicherere autonome Fahrzeuge, die Vorhersage von Krankheiten oder Rückfällen.\n",
        "\n"
      ]
    },
    {
      "cell_type": "markdown",
      "metadata": {
        "colab_type": "text",
        "id": "dzVwJdUyh8zn"
      },
      "source": [
        "###Neuronale Netzwerke###\n",
        "\n",
        "Ein künstliches neuronales Netzwerk (KNN), im englischen Artificial neural networks (ANN) genannt,  ist einen Art Abbildung des menschlichen neuronalen Netzwerks. Diese Netzwerk besteht aus vernetzten Neuronen. In einem KNN ist ein Neuron nichts anderes als eine Element welche eine Nummer zwischen 0 - 1, speichert. In einem KNN gibt es drei Arten von Neuronen - Input Neuron, Hidden Neuron und Output Neuron.\n",
        "\n",
        "Beispiel ein Bild mit einer handschriftlichen Zahl 9 besteht aus 28 x 28 Pixel was somit 784 Neuronen darstellt. Jeder dieser Neuronen enthält einen Graustufenwert von 0.01 (Schwarz) zu 1.00 (Weiss). Diese Werte werden „Activation“ genannt. Dies 784 Neuronen stellen die erste Schicht unsere Netzwerks dar. Die letze Schicht wird nur noch aus 10 Neuronen welche die Nummern 0 - 9 darstellen. Die Schichten dazwischen werden „Hidden Layers“ genannt. Sämtliche Neuronen in den verschiedenen Layers sind miteinander verbunden. Die Verbindungen zwischen den Neuronen haben eigene Gewichtungen. Diese Gewichtung wird mit dem Input-Wert multipliziert. Hat also beispielsweise ein Input-Neuron einen Wert von 0,7 und die Gewichtung der Verbindung einen Wert von 2 werden diese zwei Werte multipliziert und ergeben einen Wert von 1.4, welcher an das nächste Neuron weitergegeben werden. Würden wir aber nun immer so rechnen, würde das Resultat immer durch null gehen. Damit wir das verhindern können benutzen wir den Bias. Der Bias ist nichts anderes als der y-Intercept in der linearen Algebra mit dem Unterschied, dass er nur 1 sein kann. Nehmen wir nun also den Bias noch dazu dann bekommen wir folgenden Formel f(x) = mx + b.\n",
        "\n",
        "In einem künstlich neuronalen Netzwerk bestimmen die Aktivitäten in einem Layer die Aktivitäten im nächsten Layer. Die grosse Frage ist dabei WIE Aktivitäten in einem Layer die des nächsten beeinflusst. Grundsätzlich funktioniert es in der gleichen Art wie das biologische Vorbild. Feuert ein Neuron beeinflusst es ein anderes Neuron.\n",
        "\n",
        "Hier eine Abbildung eines typischen KNN:\n",
        "\n",
        "![alt text](https://upload.wikimedia.org/wikipedia/commons/thumb/c/c2/MultiLayerNeuralNetworkBigger_english.png/880px-MultiLayerNeuralNetworkBigger_english.png)"
      ]
    },
    {
      "cell_type": "markdown",
      "metadata": {
        "colab_type": "text",
        "id": "rLA0iCN7kHVC"
      },
      "source": [
        "###Anatomie eines KNN###\n",
        "\n",
        "Nachfolgenden werden wir die verschiedenen Bestandteile (inkl. Math) eines KNN erläutern"
      ]
    },
    {
      "cell_type": "markdown",
      "metadata": {
        "colab_type": "text",
        "id": "g9C6y4I-skn8"
      },
      "source": [
        "**Künstliches Neuron (Unit)**\n",
        "\n",
        "Ein künstliches Neuron stellt ein vereinfachtes Modell eines biologischen Neurons dar.  Ein künstliches Neuron wird auch oft McCulloch-Pittsburgh-Zelle genannt. Bei der Definition des künstlichen Neurons wurden die wesentlichen Eigenschaften eines biologischen Neurons dargestellt:\n",
        "\n",
        "* Synapsen der Nervenzellen = Addition gewichteter EIngaben\n",
        "* Aktivierung Zellkerns = Aktivierungsfunktion mit Schwellwerten\n",
        "\n"
      ]
    },
    {
      "cell_type": "markdown",
      "metadata": {
        "colab_type": "text",
        "id": "4oZb3hJ4YOIv"
      },
      "source": [
        "**Perzeptron**\n",
        "\n",
        "Ausgehen von dieser Idee hat Frank Rosenblatt 1957 das Perzepton entwickelt. Dieses Perzeptron stellt das einfachste KNN da es aus einer Eingabeschicht und einer Ausgabeschicht besteht:\n",
        "\n",
        "![alt text](https://www.statworx.com/wp-content/uploads/perceptron.png)\n",
        "\n",
        "Das Perzeptron besteht aus folgenden Teilen:\n",
        "\n",
        "1. **Input-Layer**. Der Input-Layer beinhaltet einerseits die Daten (x) und eine Bias-Unit (1)\n",
        "2. **Wichtung (w)**. Die Gewichtung wird pro Verbindung zwischen dem Input und Output dargestellt und beinhaltet irgend einen Wert. \n",
        "2. **Output-Layer** Die Ausgabeschicht besteht im wesentlichen aus der **Linear Threshold Unit (LTU)** welche folgende Funktionen beinhaltet: \n",
        " * **Übertragungsfunktion**. Diese Funktion (∑) berechnet die Wichtung mal Input plus Bias:\n",
        " \n",
        " $\\displaystyle \\sum_{i=1}^{n} =  (w_1 * _1 + w_2 * x_2 + w_n * x_n) + Bias$\n",
        "\n",
        "3. **Aktivierungsfunktion (ρ)**. Diese Funktion bestimmt die Ausgabe des Neurons. Sie wird durch die Netzeingabe und den Schwellwert beeinflusst. -> Siehe Activation Functions\n",
        "4. **Schwellwert (θj)**. Das Addieren eines Schwellwerts zur Netzeingabe verschiebt die gewichtete Eingabe.\n",
        "\n"
      ]
    },
    {
      "cell_type": "markdown",
      "metadata": {
        "colab_type": "text",
        "id": "yL3SY6Urqo9O"
      },
      "source": [
        "**Input Layer**\n",
        "\n",
        "Die Daten werden über den Input Layer in das KNN übergeben. Im ersten Layer finden somit noch keine eigentlichen mathematischen Operationen statt und es gibt dort auch keine eigentlichen Knoten wie es in manchen Darstellungen suggeriert wird. Die Daten werden mittels eines 1D-Arrays in die Input-Schicht "
      ]
    },
    {
      "cell_type": "markdown",
      "metadata": {
        "colab_type": "text",
        "id": "oV4X7vRdIByf"
      },
      "source": [
        "##Automated Machine Learning##\n",
        "\n",
        "**Tutorial:** [lntroduction: Automated Machine Learning](https://colab.research.google.com/drive/1CIVn-GoOyY3H2_Bv8z09mkNRokQ9jlJ-#scrollTo=rbiKVIwfHxxS)\n",
        "\n",
        "**Weitere Infos:** [Home TPOT](https://epistasislab.github.io/tpot/)"
      ]
    },
    {
      "cell_type": "code",
      "metadata": {
        "colab_type": "code",
        "id": "lV1ZkNzThJ1L",
        "colab": {}
      },
      "source": [
        "# Install Upgrade Scikit-Learn 0.20 for AutoSklearn on the server\n",
        "!pip install --upgrade scikit-learn\n",
        "\n",
        "\n"
      ],
      "execution_count": 0,
      "outputs": []
    },
    {
      "cell_type": "code",
      "metadata": {
        "colab_type": "code",
        "id": "gbXgkMTEJhIs",
        "colab": {}
      },
      "source": [
        "# Install tpot on the server\n",
        "!pip install tpot\n",
        "\n",
        "# Install AutoSklearn on the server\n",
        "!pip install auto-sklearn"
      ],
      "execution_count": 0,
      "outputs": []
    },
    {
      "cell_type": "code",
      "metadata": {
        "colab_type": "code",
        "id": "eeXST0s0eNCK",
        "colab": {}
      },
      "source": [
        "# pandas and numpy for data manipulation\n",
        "import pandas as pd\n",
        "import numpy as np\n",
        "\n",
        "# Import the tpot regressor\n",
        "from tpot import TPOTRegressor\n",
        "\n",
        "import autosklearn.classification"
      ],
      "execution_count": 0,
      "outputs": []
    },
    {
      "cell_type": "markdown",
      "metadata": {
        "colab_type": "text",
        "id": "z4sj06e1DFd0"
      },
      "source": [
        "##TensorFlow##\n",
        "\n",
        "TensorFlow ist ein Framework zur datenstromorientierten Programmierung. Es wird aus Python-Programmen heraus benutzt und ist in Python und C++ implementiert. Populäre Anwendung findet TensorFlow im Bereich des maschinellen Lernens. In der Forschung und im Produktivbetrieb wird sie derzeit von verschiedenen Teams in kommerziellen Google-Produkten wie Spracherkennung, Gmail, Google Fotos und Google Suche verwendet. \n",
        "Die Stärken der von TF liegen darin, dass Rechenoperationen über einen Cluster oder mehrere GPUs hinweg verteilt werden können. Dabei kann man die Benutzung der GPUs gezielt steuern. Neben dieser Eigenschaft hat TF noch einiges mehr zu bieten wie Beispielsweise:\n",
        "\n",
        "\n",
        "*   Lauffähigkeit auf allen gängigen Betriebssystem (Windows, Linux, macOS)\n",
        "*   Python API TF.Learn (tensorflow.contrib.learn) \n",
        "*   Scikit-Learn Kompatibilität.\n",
        "*   Vereinfachung des Aufbaus, Trainings und Evaluation neuronaler Netzwerke mittels TF.Slim (tensorflow.contrib.slim)\n",
        "*   Keras API (tensorflow.contrib.keras)\n",
        "*   C++ Schnittstelle \n",
        "*   Automatische Berechnung der Gradienten (Autodiff)\n",
        "*   Visualisierungstool TensorBoard\n",
        "\n",
        "\n",
        "\n",
        "[Wikipedia TensorFlow](https://de.wikipedia.org/wiki/TensorFlow)\n",
        "\n",
        "TensorFlow Tutorial:\n",
        "https://youtu.be/_NMI8peAmNA"
      ]
    },
    {
      "cell_type": "markdown",
      "metadata": {
        "colab_type": "text",
        "id": "v2kwM8zrH2Jm"
      },
      "source": [
        "###Installation von TensorFlow###"
      ]
    },
    {
      "cell_type": "code",
      "metadata": {
        "colab_type": "code",
        "id": "pZnvcE-5H0TF",
        "colab": {}
      },
      "source": [
        "# Installation der normalen TensorFlow Version\n",
        "!pip install --upgrade tensorflow"
      ],
      "execution_count": 0,
      "outputs": []
    },
    {
      "cell_type": "code",
      "metadata": {
        "colab_type": "code",
        "id": "44hQaVEeKWIO",
        "colab": {}
      },
      "source": [
        "# Installation von TensorFlow GPU Unterstützung\n",
        "!pip install tensorflow-gpu"
      ],
      "execution_count": 0,
      "outputs": []
    },
    {
      "cell_type": "code",
      "metadata": {
        "colab_type": "code",
        "id": "ZAbMRIekInlr",
        "colab": {}
      },
      "source": [
        "# Upgrade auf tagesaktuelle TensorFlow 2.0\n",
        "\n",
        "!pip install tf-nightly-2.0-preview"
      ],
      "execution_count": 0,
      "outputs": []
    },
    {
      "cell_type": "code",
      "metadata": {
        "colab_type": "code",
        "id": "nbnoyBG7J4gk",
        "colab": {}
      },
      "source": [
        "# Upgrade auf GPU TensorFlow 2.0 Version\n",
        "!pip install tensorflow-gpu==2.0.0-alpha0"
      ],
      "execution_count": 0,
      "outputs": []
    },
    {
      "cell_type": "code",
      "metadata": {
        "colab_type": "code",
        "id": "3gfOMybLIXFw",
        "colab": {}
      },
      "source": [
        "import tensorflow as tf\n",
        "print(tf.__version__)"
      ],
      "execution_count": 0,
      "outputs": []
    },
    {
      "cell_type": "markdown",
      "metadata": {
        "colab_type": "text",
        "id": "l2loZZgB6ksP"
      },
      "source": [
        "###Tensor Rank###\n",
        "\n",
        "Ein Tensor ist eine mathematische Funktion, die eine bestimmte Anzahl von Vektoren (Dimensionen) auf einen Zahlenwert abbildet. Er ist ein mathematisches Objekt aus der linearen Algebra, das besonders im Bereich der Differentialgeometrie Anwendung findet. \n",
        "\n",
        "Die Anzahl von Vektoren bzw. Dimensionen die ein Tensor entgegennimmt wird als Rank bezeichnet. Es wir zwischen folgenden Ranks unterschieden:\n",
        "\n",
        "* Rank 0: Scaler,  Beispiel  S =10\n",
        "* Rank 1: Vector, Beispiel V = [10, 11.12]\n",
        "* Rank 2: Matrix, Beispiel M = [[1,2,3],[4.5.6]]\n",
        "* Rank 3: Tensor, Beispiel T = [[[1],[2],[3]],[[4],[5],[6]]]\n",
        "\n",
        "\n",
        "\n",
        "[Wikipedia Tensor](https://de.wikipedia.org/wiki/TensorFlow)"
      ]
    },
    {
      "cell_type": "code",
      "metadata": {
        "colab_type": "code",
        "id": "UQDx6i9X2ea2",
        "colab": {}
      },
      "source": [
        "# Tensor Ranks\n",
        "\n",
        "S = 10\n",
        "print('Das ist ein Rank 0 Tensor bzw. Scalar', S)\n",
        "\n",
        "V = [10.,11.,12.]\n",
        "print ('Das ist ein Rank 1 Tensor bzw. Vector', V)\n",
        "\n",
        "M = [[1,2,3],[4,5,6]]\n",
        "print ('Das ist ein Rank 2 Tensor bzw. Matrix', M)\n",
        "\n",
        "T = [[[1],[2],[3]],[[4],[5],[6]]]\n",
        "print ('Das ist ein Rank 3 Tensor bzw. Tensor', T)"
      ],
      "execution_count": 0,
      "outputs": []
    },
    {
      "cell_type": "markdown",
      "metadata": {
        "colab_type": "text",
        "id": "kuHTtaYTv7Gf"
      },
      "source": [
        "###TensorFlow Graph###\n",
        "\n",
        "Nachfolgende Erläuterung eines TensorFlow Graphen gefunden auf https://www.statworx.com/ch/blog/einfuehrung-tensorflow/\n",
        "\n",
        "Die grundlegende Funktionsweise von TensorFlow basiert auf einem sog. Graphen. Dieser bezeichnet eine abstrakte Darstellung des zugrunde liegenden mathematischen Problems in Form eines gerichteten Diagramms. Das Diagramm besteht aus Knoten und Kanten die miteinander verbunden sind. Die Knoten des Graphen repräsentieren in TensorFlow Daten und mathematische Operationen. Durch die richtige Verbindung der Knoten kann ein Graph erstellt werden, der die notwendigen Daten und mathematischen Operationen zur Erstellung eines neuronalen Netzes beinhaltet.\n",
        "\n",
        "![alt text](https://www.statworx.com/wp-content/uploads/graph.png)\n",
        "\n",
        "In der obenstehenden Abbildung sollen zwei Zahlen addiert werden. Die beiden Zahlen werden in den Variablen a und b gespeichert. Die Variablen fließen durch den Graphen bis zur quadratischen Box, an der eine Addition durchgeführt wird. Das Ergebnis der Addition wird in der Variablen c gespeichert. Die Variablen a, b und c können als Platzhalter, in TensorFlow \"placeholder\" genannt, verstanden werden. Alle Zahlen, die für a und b eingesetzt werden, werden nach dem gleichen Ablauf verarbeitet. Diese abstrakte Darstellung der durchzuführenden mathematischen Operationen in der Kern von TensorFlow. Der folgende Code zeigt die Umsetzung dieses einfachen Beispiels in Python:\n",
        "\n",
        "\n",
        "\n"
      ]
    },
    {
      "cell_type": "code",
      "metadata": {
        "colab_type": "code",
        "id": "pKrNYsvfv6hz",
        "colab": {}
      },
      "source": [
        "# TensorFlow laden \n",
        "import tensorflow as tf \n",
        "\n",
        "# a und b als Platzhalter definieren \n",
        "a = tf.placeholder(dtype=tf.int8) \n",
        "b = tf.placeholder(dtype=tf.int8) \n",
        "\n",
        "# Die Addition definieren \n",
        "c = tf.add(a, b) \n",
        "c\n",
        "\n"
      ],
      "execution_count": 0,
      "outputs": []
    },
    {
      "cell_type": "markdown",
      "metadata": {
        "colab_type": "text",
        "id": "y0txqkx11lQG"
      },
      "source": [
        "###Eager execution###\n",
        "\n",
        "Unter TensorFlow 1.0 musste die Ausführung des Codes explzit in eine Session übergeben werden. Mit TensorFlow 2.0 ist dieser Schritt weggefallen bzw. TensorFlow kann nun analog zu Python den Code ohne vorheriges kompelieren ausführen.  Das nennt sich Eager execution."
      ]
    },
    {
      "cell_type": "markdown",
      "metadata": {
        "colab_type": "text",
        "id": "ToGa-URK2Etq"
      },
      "source": [
        "###TensorFlow Constants###\n",
        "\n",
        "Werte welche sich nicht verändern nennt man Konstanten."
      ]
    },
    {
      "cell_type": "code",
      "metadata": {
        "colab_type": "code",
        "id": "97ERdcQu6BM0",
        "colab": {}
      },
      "source": [
        "import tensorflow as tf\n",
        "\n",
        "a = tf.constant(2.0, tf.float32)\n",
        "b = tf.constant(3.0)\n",
        "print(a,b)"
      ],
      "execution_count": 0,
      "outputs": []
    },
    {
      "cell_type": "markdown",
      "metadata": {
        "colab_type": "text",
        "id": "ZY-FBOP-34bz"
      },
      "source": [
        "###TensorFlow Variables###\n",
        "\n",
        "Neben Platzhaltern sind Variablen ein weiteres Kernkonzept der Funktionsweise von TensorFlow. Während Platzhalter zum Speichern der Input- und Outputdaten verwendet werden, sind Variablen flexibel und können Ihre Werte während der Laufzeit der Berechnung verändern. \n",
        "\n"
      ]
    },
    {
      "cell_type": "code",
      "metadata": {
        "colab_type": "code",
        "id": "WW_K740N4rWm",
        "colab": {}
      },
      "source": [
        "# Achtung schreibweise beachten.\n",
        "\n",
        "W = tf.Variable([.3], dtype=tf.float32)\n",
        "b = tf.Variable([.3], dtype=tf.float32)"
      ],
      "execution_count": 0,
      "outputs": []
    },
    {
      "cell_type": "markdown",
      "metadata": {
        "colab_type": "text",
        "id": "fbYtHx4y59Tb"
      },
      "source": [
        "### TensorFlow Placeholders###\n",
        "\n",
        "Platzhalter spielen in TensorFlow eine zentrale Rolle. Platzhalter beinhalten in der Regel alle Daten, die zum Training des Modells benötigt werden. Hierbei handelt es sich normalerweise um Inputs (die Eingangssignale des Modells) und Outputs (die zu vorhersagenden Variablen)"
      ]
    },
    {
      "cell_type": "code",
      "metadata": {
        "colab_type": "code",
        "id": "HMLiDvnE6-Od",
        "colab": {}
      },
      "source": [
        "a = tf.placeholder(tf.float32)\n",
        "b = a*2\n",
        "with tf.Session() as sess:\n",
        "  result = sess.run(b,feed_dict={a:3.0})\n",
        "  \n",
        "print (result)"
      ],
      "execution_count": 0,
      "outputs": []
    },
    {
      "cell_type": "markdown",
      "metadata": {
        "colab_type": "text",
        "id": "F2PQjnekONux"
      },
      "source": [
        "###Sample - Linear Regression mit TensorFlow###\n",
        "\n"
      ]
    },
    {
      "cell_type": "code",
      "metadata": {
        "colab_type": "code",
        "id": "xVI2WOdqOYl3",
        "colab": {}
      },
      "source": [
        "import numpy as np\n",
        "import tensorflow as tf\n",
        "import matplotlib.pyplot as plt\n",
        "\n",
        "x_data = np.linspace(0,10,10) + np.random.uniform(-1.5,1.5,10)\n",
        "x_data"
      ],
      "execution_count": 0,
      "outputs": []
    },
    {
      "cell_type": "code",
      "metadata": {
        "colab_type": "code",
        "id": "C04V4szNOthi",
        "colab": {}
      },
      "source": [
        "y_label = np.linspace(0,10,10) + np.random.uniform(-1.5,1.5,10)\n",
        "y_label"
      ],
      "execution_count": 0,
      "outputs": []
    },
    {
      "cell_type": "code",
      "metadata": {
        "colab_type": "code",
        "id": "GQcHIq6tPNWV",
        "colab": {}
      },
      "source": [
        "plt.plot(x_data,y_label,'^')"
      ],
      "execution_count": 0,
      "outputs": []
    },
    {
      "cell_type": "code",
      "metadata": {
        "colab_type": "code",
        "id": "fy34kEX7P78Z",
        "colab": {}
      },
      "source": [
        "# Assign the variables\n",
        "\n",
        "np.random.rand(2)"
      ],
      "execution_count": 0,
      "outputs": []
    },
    {
      "cell_type": "code",
      "metadata": {
        "colab_type": "code",
        "id": "jHmkeFPfQFPg",
        "colab": {}
      },
      "source": [
        "m = tf.Variable(0.18)\n",
        "b = tf.Variable (0.1)"
      ],
      "execution_count": 0,
      "outputs": []
    },
    {
      "cell_type": "code",
      "metadata": {
        "colab_type": "code",
        "id": "Yl8gPIMaQbge",
        "colab": {}
      },
      "source": [
        "# Apply the Cost Function\n",
        "\n",
        "error = 0\n",
        "\n",
        "for x,y in zip(x_data, y_label):\n",
        "  y_hat = m*x+b #Prediction Value\n",
        "  error += (y-y_hat)**2 #Cost to minimize"
      ],
      "execution_count": 0,
      "outputs": []
    },
    {
      "cell_type": "code",
      "metadata": {
        "colab_type": "code",
        "id": "n2h09FdSRuoV",
        "colab": {}
      },
      "source": [
        "# Apply an Optimization Function\n",
        "optimizer = tf.train.GradientDescentOptimizer(learning_rate=0.001)\n",
        "train = optimizer.minimize(error)"
      ],
      "execution_count": 0,
      "outputs": []
    },
    {
      "cell_type": "code",
      "metadata": {
        "colab_type": "code",
        "id": "RGJykKTKSEAp",
        "colab": {}
      },
      "source": [
        "# Aufrufe der Variable\n",
        "init = tf.global_variables_initializer()"
      ],
      "execution_count": 0,
      "outputs": []
    },
    {
      "cell_type": "code",
      "metadata": {
        "colab_type": "code",
        "id": "uOpGthVvS4at",
        "colab": {}
      },
      "source": [
        "with tf.Session() as sess:\n",
        "  sess.run(init)\n",
        "  epochs = 100\n",
        "  for i in range(epochs):\n",
        "    sess.run(train)\n",
        "  \n",
        "  # fetch Back Results\n",
        "  final_slope, final_intercept = sess.run([m,b])"
      ],
      "execution_count": 0,
      "outputs": []
    },
    {
      "cell_type": "code",
      "metadata": {
        "colab_type": "code",
        "id": "drnZhXPPScoF",
        "colab": {}
      },
      "source": [
        "final_slope"
      ],
      "execution_count": 0,
      "outputs": []
    },
    {
      "cell_type": "code",
      "metadata": {
        "colab_type": "code",
        "id": "mV0peeICSmOG",
        "colab": {}
      },
      "source": [
        "final_intercept"
      ],
      "execution_count": 0,
      "outputs": []
    },
    {
      "cell_type": "code",
      "metadata": {
        "colab_type": "code",
        "id": "ctoQznasSvjQ",
        "colab": {}
      },
      "source": [
        "#Evaluate Results\n",
        "\n",
        "x_test = np.linspace(-1,11,10)\n",
        "y_pred_plot = final_slope*x_test + final_intercept \n",
        "\n",
        "plt.plot(x_test,y_pred_plot, 'r')\n",
        "plt.plot(x_data,y_label,'*')"
      ],
      "execution_count": 0,
      "outputs": []
    },
    {
      "cell_type": "markdown",
      "metadata": {
        "colab_type": "text",
        "id": "U2g3_Uu-58Ei"
      },
      "source": [
        "###Dataset API###\n",
        "\n"
      ]
    },
    {
      "cell_type": "code",
      "metadata": {
        "colab_type": "code",
        "id": "Chzd60Ol57J0",
        "colab": {}
      },
      "source": [
        "import tensorflow as tf\n",
        "import numpy as np"
      ],
      "execution_count": 0,
      "outputs": []
    },
    {
      "cell_type": "code",
      "metadata": {
        "colab_type": "code",
        "id": "-LLoY1Hz6kgO",
        "colab": {}
      },
      "source": [
        "x = np.arange(0,10)\n",
        "\n",
        "# create dataset object from numpy array \n",
        "\n",
        "dx = tf.compat.v1.data.Dataset.from_tensor_slices(x)\n"
      ],
      "execution_count": 0,
      "outputs": []
    },
    {
      "cell_type": "code",
      "metadata": {
        "colab_type": "code",
        "id": "qMLZlrHo7em8",
        "colab": {}
      },
      "source": [
        "# create a one-shot iterator \n",
        "\n",
        "iterator = dx.make_one_shot_iterator() \n",
        "\n",
        "# extract an element \n",
        "\n",
        "next_element = iterator.get_next() "
      ],
      "execution_count": 0,
      "outputs": []
    },
    {
      "cell_type": "code",
      "metadata": {
        "colab_type": "code",
        "id": "kG14CfcW7sue",
        "colab": {}
      },
      "source": [
        "for val in range(11): \n",
        "    val = next_element\n",
        "    print(val) "
      ],
      "execution_count": 0,
      "outputs": []
    },
    {
      "cell_type": "markdown",
      "metadata": {
        "colab_type": "text",
        "id": "I3T2zpCmiOdH"
      },
      "source": [
        "##Facets - Analyze and understand your Dataset##\n",
        "\n",
        "Ein Datensatz für maschinelles Lernen besteht manchmal aus Datenpunkten zwischen Tausenden bis Millionen Datenpunkten, die wiederum Hunderte oder Tausende von Funktionen (Features) enthalten können. Außerdem sind reale Daten unübersichtlich und bestehen aus fehlenden Werten, unausgeglichenen Daten, Ausreißern usw. Daher ist es unbedingt erforderlich, dass wir die Daten bereinigen, bevor Sie mit der Modellbildung fortfahren. Die Visualisierung der Daten kann dabei helfen, diese Unregelmäßigkeiten zu lokalisieren und die Stellen anzugeben, an denen die Daten tatsächlich bereinigt werden müssen. Die Datenvisualisierung gibt unabhängig von der Menge einen Überblick über die gesamten Daten und hilft, Exploratory data analysis (EDA) schnell und genau durchzuführen.\n",
        "\n",
        "Google stellt zu diesem Zweck einen Tool names Facets zur Verfügung. Nachfolgend wir ein kleiner Einblick in die Jupyter Notebook Integration und Anwendung von Facets gegeben."
      ]
    },
    {
      "cell_type": "markdown",
      "metadata": {
        "colab_type": "text",
        "id": "uVqVk1PnoErv"
      },
      "source": [
        "###Integration Facets in Jupyter Notebook / Google Colab Research###\n",
        "\n",
        "Link zum Colab Notebook zur Integration von Facets\n",
        "\n",
        "https://colab.research.google.com/github/PAIR-code/facets/blob/master/colab_facets.ipynb#scrollTo=XtOzRy8Z3M36\n",
        "\n"
      ]
    },
    {
      "cell_type": "code",
      "metadata": {
        "colab_type": "code",
        "id": "YAuewpNRrW6R",
        "colab": {}
      },
      "source": [
        "''' Sollte das Facets Modul noch nicht installiert sein, dann kann diese mit dem \n",
        "folgenden Befehl installiert werden. Auf Colab Research von Google ist das Modul\n",
        "jedoch bereits installiert.'''\n",
        "\n",
        "!pip install facets-overview"
      ],
      "execution_count": 0,
      "outputs": []
    },
    {
      "cell_type": "code",
      "metadata": {
        "colab_type": "code",
        "id": "avWUjMb2qaOX",
        "colab": {}
      },
      "source": [
        "''' Zuerst werden importieren wir mal ein Datenset und erstellen daraus ein\n",
        "Trainings- und Test-Datensatz '''\n",
        "\n",
        "''' Um TensorFlow Version 2 im Colab zu verwenden benötigen wir folgenden Befehl '''\n",
        "%tensorflow_version 2.x\n",
        "\n",
        "import pandas as pd\n",
        "import tensorflow as tf\n",
        "\n",
        "datlocurl = 'https://raw.githubusercontent.com/sakuronohana/my_datascience/master/plane_crash_data.csv'\n",
        "\n",
        "datimport = pd.read_csv(datlocurl, na_values=\"?\")\n",
        "\n",
        "''' Da im ML normalerweise mit Trainings- und Testdaten gearbeitet wird, werden\n",
        "wir in diesem Beispiel den Datensatz ebenfalls in zwei Datensätze splitten. \n",
        "Oft wird der Trainingsdatensatz noch in einen zusätzlichen Validierungsdatensatz\n",
        "gesplittet'''\n",
        "\n",
        "''' Trainingsdatensatz = 80% '''\n",
        "train_data = pd.DataFrame(datimport.sample(frac=0.8))\n",
        "datimport.drop(train_data.index, axis=0, inplace=True)\n",
        "\n",
        "''' Testdatensatz = 20% '''\n",
        "test_data = pd.DataFrame(datimport.sample(frac=0.2))\n",
        "datimport.drop(test_data.index, axis=0, inplace=True)\n",
        "train_data.shape, test_data.shape\n"
      ],
      "execution_count": 0,
      "outputs": []
    },
    {
      "cell_type": "markdown",
      "metadata": {
        "colab_type": "text",
        "id": "YATU_VG0-AxX"
      },
      "source": [
        "###Facets - ***Dive*** Visualisierung###\n",
        "\n",
        "Dive bietet eine interaktive Oberfläche zum Erkunden der Beziehung zwischen Datenpunkten für alle verschiedenen Funktionen eines Datensatzes. Jedes einzelne Element in der Visualisierung repräsentiert einen Datenpunkt. Positionieren Sie Elemente, indem Sie sie anhand ihrer Feature-Werte \"facettieren\" oder in mehrere Dimensionen unterteilen. Zu den Erfolgsgeschichten von Dive gehören das Erkennen von Klassifikatorfehlern, das Erkennen systematischer Fehler, das Bewerten der Grundwahrheit und potenzielle neue Signale für die Rangfolge."
      ]
    },
    {
      "cell_type": "code",
      "metadata": {
        "colab_type": "code",
        "id": "0HPMXt6y79_w",
        "colab": {}
      },
      "source": [
        "'''Wir werden nun eine Dive-Visualisierung der Trainingsdaten vornehmen'''\n",
        "\n",
        "'''Zuerst laden wir das entsprechende Facets Modul'''\n",
        "from IPython.core.display import display, HTML\n",
        "\n",
        "jsonstr = train_data.to_json(orient='records')\n",
        "HTML_TEMPLATE = \"\"\"\n",
        "        <script src=\"https://cdnjs.cloudflare.com/ajax/libs/webcomponentsjs/1.3.3/webcomponents-lite.js\"></script>\n",
        "        <link rel=\"import\" href=\"https://raw.githubusercontent.com/PAIR-code/facets/1.0.0/facets-dist/facets-jupyter.html\">\n",
        "        <facets-dive id=\"elem\" height=\"600\"></facets-dive>\n",
        "        <script>\n",
        "          var data = {jsonstr};\n",
        "          document.querySelector(\"#elem\").data = data;\n",
        "        </script>\"\"\"\n",
        "html = HTML_TEMPLATE.format(jsonstr=jsonstr)\n",
        "display(HTML(html))"
      ],
      "execution_count": 0,
      "outputs": []
    },
    {
      "cell_type": "code",
      "metadata": {
        "colab_type": "code",
        "id": "B-wXVs2l_hFp",
        "colab": {}
      },
      "source": [
        "# Create the feature stats for the datasets and stringify it.\n",
        "import base64\n",
        "from facets_overview.generic_feature_statistics_generator import GenericFeatureStatisticsGenerator\n",
        "\n",
        "gfsg = GenericFeatureStatisticsGenerator()\n",
        "proto = gfsg.ProtoFromDataFrames([{'name': 'train', 'table': train_data},\n",
        "                                  {'name': 'test', 'table': test_data}])\n",
        "protostr = base64.b64encode(proto.SerializeToString()).decode(\"utf-8\")"
      ],
      "execution_count": 0,
      "outputs": []
    },
    {
      "cell_type": "markdown",
      "metadata": {
        "colab_type": "text",
        "id": "mBhjKd0TMR9b"
      },
      "source": [
        "###Facets - ***Overview*** ###\n",
        "\n",
        "Die Übersicht bietet Benutzern ein schnelles Verständnis der Werteverteilung über die Features ihrer Datenmenge (n). Entdecken Sie einige ungewöhnliche und häufige Probleme wie unerwartete Merkmalswerte, fehlende Merkmalswerte für eine große Anzahl von Beobachtungen, Versatz beim Training / Serving und Versatz beim Trainieren / Testen / Validieren."
      ]
    },
    {
      "cell_type": "code",
      "metadata": {
        "colab_type": "code",
        "id": "ZjVq5lDM_yIf",
        "colab": {}
      },
      "source": [
        "# Display the facets overview visualization for this data\n",
        "from IPython.core.display import display, HTML\n",
        "\n",
        "HTML_TEMPLATE = \"\"\"\n",
        "        <script src=\"https://cdnjs.cloudflare.com/ajax/libs/webcomponentsjs/1.3.3/webcomponents-lite.js\"></script>\n",
        "        <link rel=\"import\" href=\"https://raw.githubusercontent.com/PAIR-code/facets/1.0.0/facets-dist/facets-jupyter.html\" >\n",
        "        <facets-overview id=\"elem\"></facets-overview>\n",
        "        <script>\n",
        "          document.querySelector(\"#elem\").protoInput = \"{protostr}\";\n",
        "        </script>\"\"\"\n",
        "html = HTML_TEMPLATE.format(protostr=protostr)\n",
        "display(HTML(html))"
      ],
      "execution_count": 0,
      "outputs": []
    },
    {
      "cell_type": "markdown",
      "metadata": {
        "colab_type": "text",
        "id": "N-L3CqPINB1S"
      },
      "source": [
        "## Python Bootcamp##"
      ]
    },
    {
      "cell_type": "markdown",
      "metadata": {
        "colab_type": "text",
        "id": "aHTwGSN89YZ3"
      },
      "source": [
        "###Zahlen"
      ]
    },
    {
      "cell_type": "markdown",
      "metadata": {
        "colab_type": "text",
        "id": "2vqnfUOy9YZ6"
      },
      "source": [
        "Python beinhaltet verschiedene \"Arten\" (en.: types) von Zahlen. Wir werden uns hauptsächlich mit Ganzzahlen (en.: integers) und Kommazahlen (en.: floats) beschäftigen. Später unternehmen wir einen kurzen Abstecher zu den komplexen Zahlen (en.: complex numbers). Integers sind einfach ganze Zahlen, positiv und negativ. Zum Beispiel: 2 und -2 sind Integers. Floats sind Kommazahlen und in Python besonders, da sie einen Dezimalpunkt oder einen Exponenten (e) beinhalten, um die Zahl zu definieren. Zum Beispiel sind 2.0 und -2.1 Zahlen mit Dezimalpunkt. 4E2 (4 mal 10 hoch 2) ist ebenso ein Beispiel für eine Float-Zahl in Python"
      ]
    },
    {
      "cell_type": "markdown",
      "metadata": {
        "colab_type": "text",
        "id": "A3IDFYkY9YZ6"
      },
      "source": [
        "http://nbviewer.jupyter.org/github/datamics/Originale-Python-Bootcamp/blob/master/1%20Python%20Grundlagen/1-Grundlagen%20der%20Python%20Objekte%20und%20Datenstrukturen/1-Zahlen.ipynb"
      ]
    },
    {
      "cell_type": "code",
      "metadata": {
        "colab_type": "code",
        "id": "AlnKupoG9YZ8",
        "colab": {}
      },
      "source": [
        "# Addition\n",
        "1 + 2"
      ],
      "execution_count": 0,
      "outputs": []
    },
    {
      "cell_type": "code",
      "metadata": {
        "colab_type": "code",
        "id": "heBYSQly9YaD",
        "colab": {}
      },
      "source": [
        "# Subtraktion\n",
        "2 - 1"
      ],
      "execution_count": 0,
      "outputs": []
    },
    {
      "cell_type": "code",
      "metadata": {
        "colab_type": "code",
        "id": "W8wMfctr9YaG",
        "colab": {}
      },
      "source": [
        "# Multiplikation\n",
        "1 * 2"
      ],
      "execution_count": 0,
      "outputs": []
    },
    {
      "cell_type": "code",
      "metadata": {
        "colab_type": "code",
        "id": "5IqqICg09YaK",
        "colab": {}
      },
      "source": [
        ""
      ],
      "execution_count": 0,
      "outputs": []
    },
    {
      "cell_type": "code",
      "metadata": {
        "colab_type": "code",
        "id": "E3YdC0bS9YaN",
        "colab": {}
      },
      "source": [
        "# Division - Wird im Python3 im Float Type ausgegeben.\n",
        "4/2"
      ],
      "execution_count": 0,
      "outputs": []
    },
    {
      "cell_type": "code",
      "metadata": {
        "colab_type": "code",
        "id": "drZVwnB-9YaR",
        "colab": {}
      },
      "source": [
        "# Potenzen \n",
        "2**3"
      ],
      "execution_count": 0,
      "outputs": []
    },
    {
      "cell_type": "code",
      "metadata": {
        "colab_type": "code",
        "id": "4HZ4YKiU9YaW",
        "colab": {}
      },
      "source": [
        "# Wurzel\n",
        "2**0.5"
      ],
      "execution_count": 0,
      "outputs": []
    },
    {
      "cell_type": "code",
      "metadata": {
        "colab_type": "code",
        "id": "dguSDW-99Yab",
        "colab": {}
      },
      "source": [
        "# Reihenfolge der Operationen wird automatisch durch Python sichergestellt. Bsp. Klammer, Punkt vor Strich\n",
        "(2 + 10) * 10 + 3"
      ],
      "execution_count": 0,
      "outputs": []
    },
    {
      "cell_type": "code",
      "metadata": {
        "colab_type": "code",
        "id": "FDVlTc_59Yaf",
        "colab": {}
      },
      "source": [
        "# Variablen zuweisen. Namen dürfen nicht mit Zahl beginnen bsp. 4a, es darf keine Leerzeichen bsp a 4 (a_4) und \n",
        "# spezielle Sonderzeichen enthalten.\n",
        "a=5\n",
        "a+a"
      ],
      "execution_count": 0,
      "outputs": []
    },
    {
      "cell_type": "code",
      "metadata": {
        "colab_type": "code",
        "id": "ObP7Ikpz9Yai",
        "colab": {}
      },
      "source": [
        "# Variablen lassen sich in verschiedensten Varianten einsetzt \n",
        "einkommen = 100\n",
        "steuersatz = 0.15\n",
        "steuer = einkommen * steuersatz\n",
        "steuer"
      ],
      "execution_count": 0,
      "outputs": []
    },
    {
      "cell_type": "markdown",
      "metadata": {
        "colab_type": "text",
        "id": "eryXlepT9Yam"
      },
      "source": [
        "### Strings"
      ]
    },
    {
      "cell_type": "markdown",
      "metadata": {
        "colab_type": "raw",
        "id": "7kZviRlQ9Yao"
      },
      "source": [
        "Strings werden in Python dazu benutzt, um Textinformationen, wie bspw. Namen, festzuhalten.\n",
        "Genau genommen sind Strings in Python eine Sequenz. Das bedeutet, dass Python jedes einzelne Element in der Sequenz (in diesem Fall ein String) individuell beachtet. Ein Beispiel ist der String \"hallo\", den Python als Sequenz der einzelnen Buchstaben in einer bestimmten Reihenfolge speichert. Das hat zur Folge, dass wir später in der Lage sein werden zu indexieren und so bestimmte Buchstaben (z.B. den ersten oder letzten) aus einem String auszulesen.\n",
        "\n",
        "Diese Idee einer Sequenz ist wichtig in Python und sie wird uns begleiten.\n",
        "\n",
        "Zu den Sequenzen in Python gehören:\n",
        "\n",
        "    Strings\n",
        "    Listen\n",
        "    Tupel\n",
        "    Binärdaten\n"
      ]
    },
    {
      "cell_type": "code",
      "metadata": {
        "colab_type": "code",
        "id": "gtvlGVW_9Yap",
        "colab": {}
      },
      "source": [
        "'hallo, ich bin ein Wort'"
      ],
      "execution_count": 0,
      "outputs": []
    },
    {
      "cell_type": "code",
      "metadata": {
        "colab_type": "code",
        "id": "6U0uOZ1N9Yat",
        "colab": {}
      },
      "source": [
        "# Wenn innerhalb eines Strings Hochkommas verwendet werden, dann muss mit Anführungszeichen gearbeitet werden.\n",
        "\"Hallo ich bin's\""
      ],
      "execution_count": 0,
      "outputs": []
    },
    {
      "cell_type": "code",
      "metadata": {
        "colab_type": "code",
        "id": "sEn5WfPB9Yay",
        "colab": {}
      },
      "source": [
        "print(\"Hallo Welt!\")\n",
        "print(\"Hallo Mond\")"
      ],
      "execution_count": 0,
      "outputs": []
    },
    {
      "cell_type": "code",
      "metadata": {
        "colab_type": "code",
        "id": "FL4cB5vl9Ya2",
        "colab": {}
      },
      "source": [
        "# Möchte man den String verschiedene Zeilen verteilen dann benötigt man ein \\n (Auf Mac mit Umschalt+Alt+7)\n",
        "print(\"Eine neue Zeile \\n in eine neue Zeile\")"
      ],
      "execution_count": 0,
      "outputs": []
    },
    {
      "cell_type": "code",
      "metadata": {
        "colab_type": "code",
        "id": "X9Ht130R9Ya5",
        "colab": {}
      },
      "source": [
        "# Um einen Tab einzufügen muss man \\t benutzen.\n",
        "print(\"Hier kommt eine Tab \\t in der Zeile\")"
      ],
      "execution_count": 0,
      "outputs": []
    },
    {
      "cell_type": "code",
      "metadata": {
        "colab_type": "code",
        "id": "H2P2OyP29Ya-",
        "colab": {}
      },
      "source": [
        "# Um die länge bzw. Anzahl Zeichen in eine String zu ermitteln verwenden wir len\n",
        "len(\"Hallo Welt\")"
      ],
      "execution_count": 0,
      "outputs": []
    },
    {
      "cell_type": "code",
      "metadata": {
        "colab_type": "code",
        "id": "Rf6llZHn9YbD",
        "colab": {}
      },
      "source": [
        "# Die Ausgabe von bestimmten Zeichen wird mit einer eckigen Klammer und der entsprechenden Nummer augegeben\n",
        "s = \"Hallo Welt!\"\n",
        "print(s[0]) # Hiermit wird die Positon 0 bzw. das erste Zeichen der Variable s augegeben"
      ],
      "execution_count": 0,
      "outputs": []
    },
    {
      "cell_type": "code",
      "metadata": {
        "colab_type": "code",
        "id": "6Av3wlCO9YbG",
        "colab": {}
      },
      "source": [
        "# Es lässt sich natürlich auch eine ganze Zeichenkette von einer bestimmten Positon aus, ausgeben.\n",
        "print(s[1:]) # Nach 0\n",
        "print(s[:3]) # von 0 bis 3\n",
        "print(s[:]) # ganzer String\n",
        "print(s[-3:]) # von hinten angefangen\n",
        "print(s[::2]) # nur jeder 2. Buchstabe wird ausgegeben"
      ],
      "execution_count": 0,
      "outputs": []
    },
    {
      "cell_type": "code",
      "metadata": {
        "colab_type": "code",
        "id": "wOVMRBbT9YbL",
        "colab": {}
      },
      "source": [
        "# Um einen String zu erweitern kann man das + Zeichen verwenden. \n",
        "s + \" Hi Mond\" # Achtung dies wir nicht unter der Variabel s gespeichert. \n",
        "sx = s + \" Hi Mond\" # nun ist es in eine neuen Variabel gespeichert.\n",
        "sx"
      ],
      "execution_count": 0,
      "outputs": []
    },
    {
      "cell_type": "code",
      "metadata": {
        "colab_type": "code",
        "id": "MZFoArEe9YbQ",
        "colab": {}
      },
      "source": [
        "# Auch Multiplikation in den Strings ist möglich bzw. der String wird um die Anzahl im Multiplikator erhöht.\n",
        "s = \"Z\"\n",
        "s*10"
      ],
      "execution_count": 0,
      "outputs": []
    },
    {
      "cell_type": "code",
      "metadata": {
        "colab_type": "code",
        "id": "d_P2rE609YbT",
        "colab": {}
      },
      "source": [
        "# Der String ist eine Objekt für welche eine bestimmte Methode mit zusätzlichen Parametern ausgeführt wird\n",
        "# Objekt.Methode(Parameter)\n",
        "s = 'Hallo Welt'\n",
        "s.upper() # Wandelt alle Zeichen im String in Grossbuchstaben"
      ],
      "execution_count": 0,
      "outputs": []
    },
    {
      "cell_type": "code",
      "metadata": {
        "colab_type": "code",
        "id": "d62URpN49YbZ",
        "colab": {}
      },
      "source": [
        "# Eine der wichtigsten Methoden ist split\n",
        "s.split() # Fügen wir nichts in die Klammern, dann trennt Split einfach jedes Wort. "
      ],
      "execution_count": 0,
      "outputs": []
    },
    {
      "cell_type": "code",
      "metadata": {
        "colab_type": "code",
        "id": "hxPfHK7z9Ybc",
        "colab": {}
      },
      "source": [
        "# Wir können aber in der Klammer auch definieren wo der Split stattfinden soll\n",
        "s.split ('W') # Python splittet jetzt den String bei W"
      ],
      "execution_count": 0,
      "outputs": []
    },
    {
      "cell_type": "markdown",
      "metadata": {
        "colab_type": "text",
        "id": "cIJAYHUp9Ybg"
      },
      "source": [
        "### Ausgabe Formatierung"
      ]
    },
    {
      "cell_type": "code",
      "metadata": {
        "colab_type": "code",
        "id": "EMBNB-_Y9Ybg",
        "colab": {}
      },
      "source": [
        "# Hier wird gezeigt in welchen verschiedenen Arten bzw. Methoden die Print Anweisung formatiert werden kann.\n",
        "# Empfohlen Methode um die Strings zu bearbeiten ist .format(). Es wird her aber auch andere vorgestellt. "
      ],
      "execution_count": 0,
      "outputs": []
    },
    {
      "cell_type": "code",
      "metadata": {
        "colab_type": "code",
        "id": "NVVjR3En9Ybj",
        "colab": {}
      },
      "source": [
        "# Das ist eine normale Ausgabe eines Strings\n",
        "print(\"Das ist ein String\")"
      ],
      "execution_count": 0,
      "outputs": []
    },
    {
      "cell_type": "code",
      "metadata": {
        "colab_type": "code",
        "id": "I4KhP6DR9Ybn",
        "colab": {}
      },
      "source": [
        "# Wollen wir eine bestimmte Variable in einen String einführen so machen wir das wie folgt. Dazu verwenden wir das %s\n",
        "s = \"String\"\n",
        "print('Setze einen String mit einem mod und s ein: %s' %(s)) # "
      ],
      "execution_count": 0,
      "outputs": []
    },
    {
      "cell_type": "code",
      "metadata": {
        "colab_type": "code",
        "id": "85Ws8smy9Ybr",
        "colab": {}
      },
      "source": [
        "print('Kommazahlen: %1.0f' %(13.144)) # In diesem Beispiel generieren wir einen Platzhalter für Float ohne Komma"
      ],
      "execution_count": 0,
      "outputs": []
    },
    {
      "cell_type": "code",
      "metadata": {
        "colab_type": "code",
        "id": "ZBtlEXux9Ybv",
        "colab": {}
      },
      "source": [
        "# Nun kommen wir zur Umwandlungsmethode diese können wir mit %s (String) %r (Repräsentativ)\n",
        "print('Hier ist eine Nummer: %s. Hier ist ein String: %s' %(123.1, 'hi'))\n",
        "\n",
        "# In diesem Beispiel können wir auch %r anstelle %s verwendet. Kommt auf das gleiche Resultat"
      ],
      "execution_count": 0,
      "outputs": []
    },
    {
      "cell_type": "code",
      "metadata": {
        "colab_type": "code",
        "id": "kOcKgK3y9Yby",
        "colab": {}
      },
      "source": [
        "# Wir können hiermit natürlich auch eine Tuple (unveränderbare Liste)\n",
        "print ('Erstes: %s, zweite %s, drittes %r' %(('Hi',3.14,22)))"
      ],
      "execution_count": 0,
      "outputs": []
    },
    {
      "cell_type": "code",
      "metadata": {
        "colab_type": "code",
        "id": "SyGIKn5_9Yb0",
        "colab": {}
      },
      "source": [
        "# So weit so gut. Wie bereits erwähnt ist es am Besten, wenn man generell die Format Methode nimmt\n",
        "print('Das ist ein String mit einer {p}'.format(p='Einfügung'))"
      ],
      "execution_count": 0,
      "outputs": []
    },
    {
      "cell_type": "code",
      "metadata": {
        "colab_type": "code",
        "id": "nyHuKbnx9Yb3",
        "colab": {}
      },
      "source": [
        "# Auch mit der Format-Methode lassen sich mehrer Objekte analog einer Liste ausgeben.\n",
        "print('Erste Ausgabe {a}, Zweite Ausgabe {b}, Dritte Ausgabe {c}'.format(a=1, b=2, c='Drei'))\n",
        "\n",
        "# Die Reihenfolge der Ausgabe spielt dabei keine Rolle"
      ],
      "execution_count": 0,
      "outputs": []
    },
    {
      "cell_type": "markdown",
      "metadata": {
        "colab_type": "text",
        "id": "DEPVfMhx9Yb7"
      },
      "source": [
        "### Listen"
      ]
    },
    {
      "cell_type": "markdown",
      "metadata": {
        "colab_type": "text",
        "id": "o49-nere9Yb8"
      },
      "source": [
        "Auch schon mit normalen Strings können Sequenzen bzw. Auflistungen gemacht werden diese sind aber im normalfall nicht änderbar. Listen hingegen lassen sich auf verschiedenen Arten einsetzen und lassen sich auch jederzeit beliebig ändern und erweitern."
      ]
    },
    {
      "cell_type": "code",
      "metadata": {
        "colab_type": "code",
        "id": "ppT9y3ve9Yb9",
        "colab": {}
      },
      "source": [
        "# In Listen lassen sich verschieden Arten von Typen (String, Float usw) unterbringen\n",
        "liste = [1,2,3,'String', 2.4]"
      ],
      "execution_count": 0,
      "outputs": []
    },
    {
      "cell_type": "code",
      "metadata": {
        "colab_type": "code",
        "id": "HsgPvip99YcB",
        "colab": {}
      },
      "source": [
        "# Die Listen lassen sich auf verschiedene Arten ausgeben\n",
        "\n",
        "len(liste) # Zeigt die Länge eines Liste bzw. die in der Liste erfassten Elemente \n",
        "liste[2] # Zeigt das dritte Element, beginnend mit 0, aus der Liste\n",
        "liste[:2] # Gibt alles bis zum Element 3 aus. Achtung ab beginnt ab 0\n",
        "liste[2:] # Gibt alles ab dem Element 3 aus.\n",
        "liste[1:3] # Gibt alles zwischen Element 2 und 4 aus"
      ],
      "execution_count": 0,
      "outputs": []
    },
    {
      "cell_type": "code",
      "metadata": {
        "colab_type": "code",
        "id": "m4cvUBY_9YcG",
        "colab": {}
      },
      "source": [
        "#Die Liste kann auch beliebig erweitert werden. Die hier beschriebene Erweiterung ist aber nur Temporär\n",
        "liste + ['Neues Element']"
      ],
      "execution_count": 0,
      "outputs": []
    },
    {
      "cell_type": "code",
      "metadata": {
        "colab_type": "code",
        "id": "zz4MF2wx9YcL",
        "colab": {}
      },
      "source": [
        "# Um die Liste permanent zu erweitern muss eine neue Liste angelegt werden.\n",
        "liste = liste + ['Neues Element']\n",
        "liste"
      ],
      "execution_count": 0,
      "outputs": []
    },
    {
      "cell_type": "code",
      "metadata": {
        "colab_type": "code",
        "id": "jMc2z9Bz9YcP",
        "colab": {}
      },
      "source": [
        "# Einen gängige Methode einen Wert einer Liste hinzuzufügen ist die Methode .append\n",
        "liste.append('Ein neueres Element')\n",
        "liste"
      ],
      "execution_count": 0,
      "outputs": []
    },
    {
      "cell_type": "code",
      "metadata": {
        "colab_type": "code",
        "id": "l4i9aEjs9YcS",
        "colab": {}
      },
      "source": [
        "# Um ein Element wieder aus der Liste zu entfernen kann die Methode .pop verwendet werden\n",
        "liste.pop(0) # Wir entfernen hier die 1\n",
        "liste"
      ],
      "execution_count": 0,
      "outputs": []
    },
    {
      "cell_type": "code",
      "metadata": {
        "colab_type": "code",
        "id": "34e9Hl3k9YcV",
        "colab": {}
      },
      "source": [
        "# Um ein Element aus einer Liste zu enfernen und in eine andere Liste zu transferieren \n",
        "pop = liste.pop(1)\n",
        "pop"
      ],
      "execution_count": 0,
      "outputs": []
    },
    {
      "cell_type": "code",
      "metadata": {
        "colab_type": "code",
        "id": "av-npjsi9Yca",
        "colab": {}
      },
      "source": [
        "# Eine weitere Ausgabemöglichkeit ist die Berechnung \n",
        "liste * 2 # Gibt die Liste zweimal aus\n",
        "liste[1] + 2 # Addiert das erste Elemente mit 2 resp. 1 + 2\n",
        "liste[2] * 2 # Multipliziert das zweite Element mit 2"
      ],
      "execution_count": 0,
      "outputs": []
    },
    {
      "cell_type": "code",
      "metadata": {
        "colab_type": "code",
        "id": "n5Aj1BcZ9Ycg",
        "colab": {}
      },
      "source": [
        "# Um die Reihenfolgen einer Liste zu ändern kann wie folgt vorgegangen werden.\n",
        "neue_liste = ['a','s', 'd', 'f']\n",
        "neue_liste.reverse() # Die neue Liste wird jetzt umgekehrt erstellt\n",
        "neue_liste.sort() # Die umgekehrte Liste kann jettzt noch alfapethisch sortiert werden\n",
        "neue_liste"
      ],
      "execution_count": 0,
      "outputs": []
    },
    {
      "cell_type": "code",
      "metadata": {
        "colab_type": "code",
        "id": "FE-22P_U9Ycj",
        "colab": {}
      },
      "source": [
        "# Es können natürlich auch Listen in Listen erstellt werden. Eine sogennante Matrix\n",
        "list_1 = [1,2,3]\n",
        "list_2 = [4,5,6]\n",
        "list_3 = [7,8,9]\n",
        "matrix = [list_1, list_2, list_3] # Wir fügen nun die Listen zu einer Matrix zusammen\n",
        "matrix # Hier geben wir nun die Matrix mit ihren 3 Zeilen aus"
      ],
      "execution_count": 0,
      "outputs": []
    },
    {
      "cell_type": "code",
      "metadata": {
        "colab_type": "code",
        "id": "P7Cy7W2o9Ycn",
        "colab": {}
      },
      "source": [
        "# Die erstellte Matrix kann man sich jetzt wie folgt vorstellen:\n",
        "#   y y y\n",
        "# x 1 2 3\n",
        "# x 4 5 6\n",
        "# x 7 8 9\n",
        "# x repräsentiert die Zeile und y die Spalte\n",
        "\n",
        "# Für den Zugriff muss zuerst die Zeile und dann das Element angegeben werden\n",
        "matrix[0] #Gibt die komplette erste Zeile (0) aus\n",
        "matrix[0][1] #Gibt das zweite Element der ersten Zeile aus"
      ],
      "execution_count": 0,
      "outputs": []
    },
    {
      "cell_type": "code",
      "metadata": {
        "colab_type": "code",
        "id": "N-LmO5z09Ycr",
        "colab": {}
      },
      "source": [
        "# Wir erstellen nun aus der Matrix eine erste Spalte mit Hilfe einer for-Schleife\n",
        "spalte_1 = [zeile[0] for zeile in matrix]\n",
        "spalte_1"
      ],
      "execution_count": 0,
      "outputs": []
    },
    {
      "cell_type": "code",
      "metadata": {
        "colab_type": "code",
        "id": "QzMCwJxZ9Ycu",
        "colab": {}
      },
      "source": [
        "spalte_1[:2]"
      ],
      "execution_count": 0,
      "outputs": []
    },
    {
      "cell_type": "markdown",
      "metadata": {
        "colab_type": "text",
        "id": "2p8kx40E9Ycx"
      },
      "source": [
        "### Dictionaries"
      ]
    },
    {
      "cell_type": "markdown",
      "metadata": {
        "colab_type": "text",
        "id": "G__uOFM89Ycy"
      },
      "source": [
        "Dictionaries auch bekannt als Mapping sind Sammlungen von Objekten welche über einen Key gespeichert werden. Ein wesentlicher Unterschied zu den Listen ist, dass hier nicht über einen Index [0] usw. auf die Objekte zugegriffen werden kann sondern nur mittels Key. Zudem wird bei Dicts mit geschweiften Klammern gearbeitet. (Mac = alt + 8{ und 9}"
      ]
    },
    {
      "cell_type": "code",
      "metadata": {
        "colab_type": "code",
        "id": "hAotmsnm9Ycz",
        "colab": {}
      },
      "source": [
        "d = {'Key':'Wert','Key2':'Wert2'}\n",
        "d['Key'] # Der Zugriff auf den Wert wir nun mittels Key gemacht."
      ],
      "execution_count": 0,
      "outputs": []
    },
    {
      "cell_type": "code",
      "metadata": {
        "colab_type": "code",
        "id": "L3ma3tfk9Yc4",
        "colab": {}
      },
      "source": [
        "# In einen Dict können die Keys im Gegensatz zu den Werten in einen Dict nicht mehr verändert werden\n",
        "# In einem Dict können alle Arten von Element verstaut werden. Der Zugriff kann dann gemäss der \n",
        "# verschiedenen Methoden durchgeführt werden. \n",
        "dict = {'K_Int': 1234, 'K_Float':12.33, 'K_String':\"String\", 'K_List':['A', 'B', 'C']}\n",
        "dict['K_Int']\n",
        "dict['K_List'][0] # Beispiel für den Zugriff auf Liste\n",
        "dict['K_String'].upper() # Beispiel für Zugriff auf String mit entsprechenden Methoden\n",
        "dict['K_Int']-3+5 # Beispiel einer arithmetischen Operation"
      ],
      "execution_count": 0,
      "outputs": []
    },
    {
      "cell_type": "code",
      "metadata": {
        "colab_type": "code",
        "id": "PieWLg9P9Yc5",
        "colab": {}
      },
      "source": [
        "# Ein Dictionary kann auch durch neue Werte ergänzt werden\n",
        "dict['Tier'] = 'Hund'\n",
        "dict['Zahl'] = 12\n",
        "dict"
      ],
      "execution_count": 0,
      "outputs": []
    },
    {
      "cell_type": "code",
      "metadata": {
        "colab_type": "code",
        "id": "dMja0gM09Yc8",
        "colab": {}
      },
      "source": [
        "# Dictionaries lassen sich auch gut verschachteln bzw. ein Dict kann wie eine Liste auch in einem Dict erstellt werden\n",
        "dict2 ={'Key': {'Unterkey': {'Unterunterkey': 'Wert'}}}\n",
        "dict2['Key']['Unterkey']"
      ],
      "execution_count": 0,
      "outputs": []
    },
    {
      "cell_type": "code",
      "metadata": {
        "colab_type": "code",
        "id": "cVSSgjw69Yc-",
        "colab": {}
      },
      "source": [
        "# Auch in einen Dictionary bestehen Methoden\n",
        "#dict2. # mit TAB-Taste zeigen alle verfügbaren Methoden\n",
        "dict2.items"
      ],
      "execution_count": 0,
      "outputs": []
    },
    {
      "cell_type": "code",
      "metadata": {
        "colab_type": "code",
        "id": "g-lfTJ1d9YdB",
        "colab": {}
      },
      "source": [
        "dict2.values()"
      ],
      "execution_count": 0,
      "outputs": []
    },
    {
      "cell_type": "markdown",
      "metadata": {
        "colab_type": "text",
        "id": "4NeomiM89YdD"
      },
      "source": [
        "### Tuple"
      ]
    },
    {
      "cell_type": "markdown",
      "metadata": {
        "colab_type": "text",
        "id": "9LA5aqch9YdD"
      },
      "source": [
        "Tubel sind ähnlich wie Listen nur können sie nicht mehr verändert bzw. ergänzt werden. Deshalb verwendet man Tubel \n",
        "vor allem dann wenn es Werte gibt die nicht mehr geändert werden müssen Bsp. Wochentage, usw. Tubel werden aber im Gegensatz zu Listen viel weniger eingesetzt."
      ]
    },
    {
      "cell_type": "code",
      "metadata": {
        "colab_type": "code",
        "id": "BieBgIMS9YdD",
        "colab": {}
      },
      "source": [
        "tub = ['Montag', 'Dienstag', 'Mittwoch']\n",
        "tub[0] # Der Zugriff auf eine Element im Tubel ist wie bei einer Liste\n",
        "tub[0:2] # Gibt alle Elemente von 0-1 aus\n"
      ],
      "execution_count": 0,
      "outputs": []
    },
    {
      "cell_type": "code",
      "metadata": {
        "colab_type": "code",
        "id": "qK3RNprg9YdH",
        "colab": {}
      },
      "source": [
        "# Auch hier bestehen Methoden wieder tub. + TAB. Es werden zwar diverse Methoden angezeigt die meisten gelten jedoch\n",
        "# für die Listen. Für Tubels bestehen lediglich zwei Methoden\n",
        "tub.index('Montag') # Zeigt den Index also 0 des Elements an\n",
        "tub.count('Montag') # Zeigt die Anzahl der gleichen Elemente im Tubel an "
      ],
      "execution_count": 0,
      "outputs": []
    },
    {
      "cell_type": "code",
      "metadata": {
        "colab_type": "code",
        "id": "HpjUZA7M9YdK",
        "colab": {}
      },
      "source": [
        "# Und hier noch der Beweis, dass am Tubel kein weiteres Element angehängt werde kann.\n",
        "tub.append['Donnerstag']"
      ],
      "execution_count": 0,
      "outputs": []
    },
    {
      "cell_type": "markdown",
      "metadata": {
        "colab_type": "text",
        "id": "d9S8jFok9YdO"
      },
      "source": [
        "### Dateien"
      ]
    },
    {
      "cell_type": "markdown",
      "metadata": {
        "colab_type": "text",
        "id": "xK1aABpG9YdP"
      },
      "source": [
        "Python nutzt Datei Objekte um mit externen Dateien auf eine Computer zu interagieren. Grundsätzlich kann Python mit\n",
        "einer Vielzahl von Dateien arbeiten wobei für das eine oder andere Format noch zusätzlich Library Module installiert \n",
        "werden muss."
      ]
    },
    {
      "cell_type": "markdown",
      "metadata": {
        "colab_type": "text",
        "id": "FHiAdCSV9YdP"
      },
      "source": [
        "Bevor wir nun Anfang mit Dateien zu arbeiten, wollen wir zuerst herausfinden in welchem Working Directory \n",
        "wir arbeiten dazu geben wir den folgenden Befehl ein"
      ]
    },
    {
      "cell_type": "code",
      "metadata": {
        "colab_type": "code",
        "id": "TI-oLTkg9YdQ",
        "colab": {}
      },
      "source": [
        "pwd"
      ],
      "execution_count": 0,
      "outputs": []
    },
    {
      "cell_type": "code",
      "metadata": {
        "colab_type": "code",
        "id": "6tesihjj9YdS",
        "colab": {}
      },
      "source": [
        "# Nun öffnen wir eine Datei und lesen sie\n",
        "file = open('test.txt')\n",
        "file.read()"
      ],
      "execution_count": 0,
      "outputs": []
    },
    {
      "cell_type": "code",
      "metadata": {
        "colab_type": "code",
        "id": "NeuaZYXH9YdU",
        "colab": {}
      },
      "source": [
        "# Eine Besonderheit im Python ist, dass wenn die Datei einmal gelesen wurde, diese nicht erneut gelesen werden kann.\n",
        "# Dies hat damit zu tun, das der Cursor bei der letzten Lese-Operation am Ende der Datei verblieben ist. Ein er\n",
        "file.read() # Gibt jetzt nur '' aus\n",
        "file.seek(0) # Mit diesem Befehl kann man nun den Curson zurücksetzen\n",
        "file.read() # Und danach funktioniert es wieder wie gewohnt."
      ],
      "execution_count": 0,
      "outputs": []
    },
    {
      "cell_type": "code",
      "metadata": {
        "colab_type": "code",
        "id": "kcU79wiE9YdW",
        "colab": {}
      },
      "source": [
        "# Als nächtes öffnen wir die Datei und schreiben etwas neues hinein\n",
        "file = open('test.txt','w')\n",
        "file.write('Das ist eine neue Zeile')"
      ],
      "execution_count": 0,
      "outputs": []
    },
    {
      "cell_type": "code",
      "metadata": {
        "colab_type": "code",
        "id": "knqt2-_b9YdY",
        "colab": {}
      },
      "source": [
        "# Um den neuen Inhalt erneut lesen zu können müssen wir die Datei erneut im Read-Modus lesen\n",
        "file = open('test.txt','r')\n",
        "file.read()"
      ],
      "execution_count": 0,
      "outputs": []
    },
    {
      "cell_type": "code",
      "metadata": {
        "colab_type": "code",
        "id": "rvsd4d6F9Yda",
        "colab": {}
      },
      "source": [
        "# Nun lesen wir mit einer Interation (Schleife for) die einzelnen Zeilen aus\n",
        "for zeile in open('test.txt'):\n",
        "    print(zeile)\n"
      ],
      "execution_count": 0,
      "outputs": []
    },
    {
      "cell_type": "markdown",
      "metadata": {
        "colab_type": "text",
        "id": "aOhvE0D39Ydc"
      },
      "source": [
        "###Sets und Booleans"
      ]
    },
    {
      "cell_type": "markdown",
      "metadata": {
        "colab_type": "text",
        "id": "zjMVOL2d9Ydd"
      },
      "source": [
        "Ein Set ist eine Sammlung von einzigartigen Elementen. Ein Set wird mit dem Befehl set()angelegt. "
      ]
    },
    {
      "cell_type": "code",
      "metadata": {
        "colab_type": "code",
        "id": "tuLR53hj9Yde",
        "colab": {}
      },
      "source": [
        "s = set()\n",
        "s.add(1) # mit add lassen sich neue Elemente ins Set einführen.\n",
        "s.add(2)\n",
        "s.remove(2) # mit remove lassen sich die Elemente auch wieder löschen\n",
        "s."
      ],
      "execution_count": 0,
      "outputs": []
    },
    {
      "cell_type": "code",
      "metadata": {
        "colab_type": "code",
        "id": "UCQQ5n6C9Ydk",
        "colab": {}
      },
      "source": [
        "# Man kann Beispielsweise auch eine Liste in ein Set überführen. Dabei werden \n",
        "# dann aber die redundanten Elemente ausgefiltert.\n",
        "list = [1,1,2,2,3,4,5,6,6]\n",
        "set(list)"
      ],
      "execution_count": 0,
      "outputs": []
    },
    {
      "cell_type": "markdown",
      "metadata": {
        "colab_type": "text",
        "id": "p-oOnkxC9Ydm"
      },
      "source": [
        "Booleans sind Wahrheitswerte die entweder True (1) oder False (0) sind. Booleans werden oft benutzt um beispielsweise eine Entscheidung in einer Schleife zu forsieren."
      ]
    },
    {
      "cell_type": "code",
      "metadata": {
        "colab_type": "code",
        "id": "p5PK7yUL9Ydm",
        "colab": {}
      },
      "source": [
        "a = ()\n",
        "if a == True:\n",
        "    print('Wahr')\n",
        "else:\n",
        "    print('Nicht Wahr')"
      ],
      "execution_count": 0,
      "outputs": []
    },
    {
      "cell_type": "markdown",
      "metadata": {
        "colab_type": "text",
        "id": "yiPp5f299Ydq"
      },
      "source": [
        "### Vergleichsoperatoren"
      ]
    },
    {
      "cell_type": "code",
      "metadata": {
        "colab_type": "code",
        "id": "QWfnLreC9Ydq",
        "colab": {}
      },
      "source": [
        "2 == 2 # Wenn Wert der Operatoren gleich sind ergibt es true\n",
        "2 != 1 # Wenn Wert der Operatoren nicht gleich sind ergibt es true\n",
        "2 > 1 # Wenn ein Wert der Operatoren grösser ist ergibt es true\n",
        "1 < 2 # Wenn ein Wert der Operatoren kleiner ist ergibt es true\n",
        "2 >= 2 # Wenn ein Wert der Operatoren grösser oder gleich ist ergibt es true\n",
        "1 <= 1 # Wenn ein Wert der Operatoren kleiner oder gleich ist ergibt "
      ],
      "execution_count": 0,
      "outputs": []
    },
    {
      "cell_type": "code",
      "metadata": {
        "colab_type": "code",
        "id": "wEgNQCDk9Ydt",
        "colab": {}
      },
      "source": [
        "# Vergleichsoperatoren kann man auch verknüpfen\n",
        "1 < 2 < 3 # Ergibt true\n",
        "1 < 2 and 2 < 3 # Das vorherige Beispiel kann man auch so schreiben\n",
        "1 == 2 or 2 < 3 # Auch mit or kann man Operatoren verknüpfen"
      ],
      "execution_count": 0,
      "outputs": []
    },
    {
      "cell_type": "markdown",
      "metadata": {
        "colab_type": "text",
        "id": "brefSeeA9Ydv"
      },
      "source": [
        "### Anweisungen"
      ]
    },
    {
      "cell_type": "markdown",
      "metadata": {
        "colab_type": "text",
        "id": "uVHYHyeq9Ydv"
      },
      "source": [
        "**If, Elif und Else**"
      ]
    },
    {
      "cell_type": "markdown",
      "metadata": {
        "colab_type": "text",
        "id": "iybcgLAp9Ydv"
      },
      "source": [
        "if, elif und else werden verwendet um Aktionen abhängig von bestimmten Voraussetzungen oder Ergebnissen durchzuführen.\n",
        "Sprachlich sieht das wie folgt aus:\n",
        "\n",
        "\"Falls (if) die Ampel rot anzeigt, da bleibe stehen und prüfen dein Mobil falls (elif) die Ampel orange oder grün anzeigt kannst du über die Strasse gehen falls (else) nichts von beidem zutrifft (Ampel defekt) schaue links und rechts und gehen dann über die Strasse\""
      ]
    },
    {
      "cell_type": "code",
      "metadata": {
        "colab_type": "code",
        "id": "i2S_FUlh9Ydw",
        "colab": {}
      },
      "source": [
        "r = 'rot'\n",
        "g = 'grün'\n",
        "\n",
        "i = input ('Gibt etwas ein: ') # Mit Input kann man einen Wert eingeben.\n",
        "\n",
        "if i == r:\n",
        "    print('Bleibe stehen und prüfe dein Mobile')\n",
        "elif i == g:\n",
        "    print('Du kannst über die Strasse gehen')\n",
        "else:\n",
        "    print('Die Ampel ist möglicherweise kaputt. Gehe wenn es frei ist')\n",
        "    \n",
        "    \n",
        "    "
      ],
      "execution_count": 0,
      "outputs": []
    },
    {
      "cell_type": "markdown",
      "metadata": {
        "colab_type": "text",
        "id": "B5fVG4NA9Yd0"
      },
      "source": [
        "**for Schleife"
      ]
    },
    {
      "cell_type": "markdown",
      "metadata": {
        "colab_type": "text",
        "id": "EhBhrCMC9Yd0"
      },
      "source": [
        "Eine for Schleife wird auch Loop genannt. Sie wird solange durchlaufen, bis ein definierte Wert erreich wurde. Die kann eine Zahl sein oder das Ende einer Lese-Operation in einer Datei.\n",
        "\n",
        "Sprachlich ausgedrückt sieht das dann so aus:\n",
        "\n",
        "\"Das Buch hat 10 Seiten für (for) jede Seite (Item) im (in) Buch (Objekt) lese jeden Buchstaben bis du auf Seite 10 angekommen bist.\"\n",
        "\n",
        "Der Syntax sieht wie folgt aus:\n",
        "\n",
        "for item in object\n",
        "\n",
        "Das item ist frei wählbar."
      ]
    },
    {
      "cell_type": "code",
      "metadata": {
        "colab_type": "code",
        "id": "6IDHtZaM9Yd1",
        "colab": {}
      },
      "source": [
        "buch = [1,2,3,4,5,6,7,8,9,10] # Eine Liste wird erstellt\n",
        "buch_sum = 0\n",
        "\n",
        "for seite in buch:\n",
        "    buch_sum += seite # Das += (Selbstzuweisung) ersetzt folgende Zeile buch_sum = buch_sum + Seite\n",
        "    print ('Nun lese ich Seite', buch_sum)\n",
        "\n",
        "# In dem Beispiel oben wird bei jeder Interation der vorherige Wert zum\n",
        "# aktuelle Wert addiert, beginnend bei 0. bzw. \n",
        "# 0 + 1 = 1\n",
        "# 1 + 2 = 3\n",
        "# 3 + 3 = 6\n",
        "# 6 + 4 = 10 usw."
      ],
      "execution_count": 0,
      "outputs": []
    },
    {
      "cell_type": "code",
      "metadata": {
        "colab_type": "code",
        "id": "GRNh3YWA9Yd3",
        "colab": {}
      },
      "source": [
        "# Ein guter Trick um nun beispielweise nur die geraden Zahlen auszugeben ist \n",
        "# der Einsatz von Modulo. Modulo (%) teil eine Zahl durch die andere und gibt\n",
        "# dann nur den Resten aus. Hier Modulo mit for Schleife:\n",
        "\n",
        "for seite in buch:\n",
        "    if seite % 2 == 0:\n",
        "        print('Nun lese ich nur jeweils die graden Seiten dieses Buchs', seite)"
      ],
      "execution_count": 0,
      "outputs": []
    },
    {
      "cell_type": "code",
      "metadata": {
        "colab_type": "code",
        "id": "w--joEPs9Yd5",
        "colab": {}
      },
      "source": [
        "# Das ganze funktioniert auch mit Strings\n",
        "for zeichen in 'String':\n",
        "    print(zeichen)"
      ],
      "execution_count": 0,
      "outputs": []
    },
    {
      "cell_type": "code",
      "metadata": {
        "colab_type": "code",
        "id": "3sa6ijOz9Yd8",
        "colab": {}
      },
      "source": [
        "# In Bezug auf Tuples hat die Schleife eine besonderer Bedeutung. So können\n",
        "# die Tuple Elemente auf verschieden Arten entpackt werden.\n",
        "l = [(2,4),(6,8),(10,12)] # Hier erstellen wir Tuple innerhalb einer Liste\n",
        "\n",
        "for tup in l:\n",
        "    print(tup)"
      ],
      "execution_count": 0,
      "outputs": []
    },
    {
      "cell_type": "code",
      "metadata": {
        "colab_type": "code",
        "id": "GNsiR6LI9Yd-",
        "colab": {}
      },
      "source": [
        "for (t1,t2) in l:\n",
        "    print(t1,t2)"
      ],
      "execution_count": 0,
      "outputs": []
    },
    {
      "cell_type": "code",
      "metadata": {
        "colab_type": "code",
        "id": "5RIMnlCQ9Yd_",
        "colab": {}
      },
      "source": [
        "# Auch in Zusammenhang mit Listen kann man die for Schleife verwenden\n",
        "dict = {'k1':1,'k2':2,'k3':3}\n",
        "for item in dict:\n",
        "    print (item)"
      ],
      "execution_count": 0,
      "outputs": []
    },
    {
      "cell_type": "code",
      "metadata": {
        "colab_type": "code",
        "id": "9RkQkEsR9YeB",
        "colab": {}
      },
      "source": [
        "dict.items() # So lassen sich überigen die in einem Dictionary definierten \n",
        "# Element bzw. Items ausgeben."
      ],
      "execution_count": 0,
      "outputs": []
    },
    {
      "cell_type": "code",
      "metadata": {
        "colab_type": "code",
        "id": "oze1SBPf9YeC",
        "colab": {}
      },
      "source": [
        "# Diese Methode kann in einer Schleife ebenfalls verwendet werden.\n",
        "for k,v in dict.items(): # Wir definieren zwei Item Key und Value\n",
        "    print(k,v)"
      ],
      "execution_count": 0,
      "outputs": []
    },
    {
      "cell_type": "markdown",
      "metadata": {
        "colab_type": "text",
        "id": "HZdCiwWs9YeD"
      },
      "source": [
        "**while Scheifen"
      ]
    },
    {
      "cell_type": "markdown",
      "metadata": {
        "colab_type": "text",
        "id": "jo5HR4Nh9YeE"
      },
      "source": [
        "Die while Schleife gehört zu den allgemeinsten Wegen eine Interation durchzuführen. Eine while Schleife wird solange ausgeführt, wie ein Wert True ist. \n",
        "\n",
        "Sprachliche ausgedrückt sieht das so aus:\n",
        "\n",
        "\"Wenn (while) dein Bankkonto noch im plus ist, kannst du Geld vom Automaten abheben (Statement), ansonsten (else) musst du wieder Geld auf dein Bankkonto überweisen.\"\n",
        "\n",
        "Der Syntax sieht wie folgt aus:\n",
        "\n",
        "while test:\n",
        "    code statement\n",
        "else\n",
        "    finales code statement"
      ]
    },
    {
      "cell_type": "code",
      "metadata": {
        "colab_type": "code",
        "id": "25BRP7_v9YeE",
        "colab": {}
      },
      "source": [
        "i = 1 # Wir definieren eine Initialwert\n",
        "while i < 10: # Wir fordern die Scheife auf solange der Wert i kleiner als 10 ist duchzulaufen\n",
        "    print('X ist aktuell: ',i)\n",
        "    i+=1 # Damit der Wert i steigt lassen wir ihn in jeder Rund eine 1 dazuaddieren.\n",
        "else:\n",
        "    print('Fertig')"
      ],
      "execution_count": 0,
      "outputs": []
    },
    {
      "cell_type": "code",
      "metadata": {
        "colab_type": "code",
        "id": "tEgvjBw39YeG",
        "colab": {}
      },
      "source": [
        "# Mit dieser Anweisung können auch noch andere Funktionen mit gegeben werden \n",
        "# Break: hier können wir aus einem Loop ausbrechen\n",
        "# Continue: Geht an den Anfang des nächsten umfasseden Loops\n",
        "# Pass: Tut gar nichts\n",
        "\n",
        "x = 0\n",
        "while x < 10:\n",
        "    print(x)\n",
        "    x+=1\n",
        "    if x==3:\n",
        "        print('x==3')\n",
        "        break\n",
        "    else:\n",
        "        print('Fortsetzen..')\n",
        "        continue\n",
        "    print('nach continue')\n",
        "\n"
      ],
      "execution_count": 0,
      "outputs": []
    },
    {
      "cell_type": "markdown",
      "metadata": {
        "colab_type": "text",
        "id": "u8ALOeV-9YeJ"
      },
      "source": [
        "Wichtig bei der While Schleife ist, dass folgender Befehl zu einer Endlosschleife führen würde. Also darauf achten nie den folgendne Befehl zu verwenden:\n",
        "while True:\n",
        "    print('Ach du Scheisse!')"
      ]
    },
    {
      "cell_type": "markdown",
      "metadata": {
        "colab_type": "text",
        "id": "Q83LmTkg9YeJ"
      },
      "source": [
        "### Range()"
      ]
    },
    {
      "cell_type": "markdown",
      "metadata": {
        "colab_type": "text",
        "id": "MBD3I0Zz9YeK"
      },
      "source": [
        "Die Funktion Range erlaubt es uns eine Liste von Nummern auszugeben und dabei einen Start- und Endpukt zu denfinieren. Zudem können wir die Schrittgrösse ausgeben. In Python3 verbindet man diese Funktion mit einer Liste.\n",
        "\n",
        "Der Syntax gestaltet sich wie folgt:\n",
        "\n",
        "range(start,ende,schrittgrösse)"
      ]
    },
    {
      "cell_type": "code",
      "metadata": {
        "colab_type": "code",
        "id": "hQKOehkY9YeK",
        "colab": {}
      },
      "source": [
        "range(10)\n",
        "x = list(range(0,10,2))\n",
        "print(x)\n",
        "\n",
        "# Der letzte Wert wird nie ausgegeben"
      ],
      "execution_count": 0,
      "outputs": []
    },
    {
      "cell_type": "code",
      "metadata": {
        "colab_type": "code",
        "id": "RiiJgVOR9YeM",
        "colab": {}
      },
      "source": [
        "# Hier noch eine weitere Variante wie man einen Start- und Endwert definieren kann\n",
        "start = 0\n",
        "end = 20\n",
        "x = list(range(start,end))\n",
        "print(x)"
      ],
      "execution_count": 0,
      "outputs": []
    },
    {
      "cell_type": "code",
      "metadata": {
        "colab_type": "code",
        "id": "5nPFutiJ9YeO",
        "colab": {}
      },
      "source": [
        "# Im nächsten Beispiel können auch noch definieren in welchen Schritten die Ausgabe \n",
        "# erfolgen soll.\n",
        "x = list(range(start,end,2)) # Hier wird in zweierschritten ausgegeben.\n",
        "print(x)"
      ],
      "execution_count": 0,
      "outputs": []
    },
    {
      "cell_type": "code",
      "metadata": {
        "colab_type": "code",
        "id": "jhbXW-909YeQ",
        "colab": {}
      },
      "source": [
        "# In Zusammenhang mit diesen Funktionen (Range, List, Directory) stellt sich\n",
        "# auch die Frage wie man eine grosse Anzahl von Daten im Memory behalten kann.\n",
        "# die Lösung ist eine Generator mit der Funktion Range\n",
        "\n",
        "for num in range(0,10,2): # Der Syntax von Range range(Startwert, Endwert, Schritte)\n",
        "    print(num)"
      ],
      "execution_count": 0,
      "outputs": []
    },
    {
      "cell_type": "code",
      "metadata": {
        "colab_type": "code",
        "id": "3mHYR_vF9YeS",
        "colab": {}
      },
      "source": [
        "# Zahlen bis 50 durch 3 teilbar machen und nur diese Ausgeben welche durch 3 Teilbar sind\n",
        "[x for x in range(1,50) if x%3 == 0] # Hier setzen wir Modulo ein"
      ],
      "execution_count": 0,
      "outputs": []
    },
    {
      "cell_type": "markdown",
      "metadata": {
        "colab_type": "text",
        "id": "fhUowMGp9YeU"
      },
      "source": [
        "### Listen Abstraktion (List comprehension)"
      ]
    },
    {
      "cell_type": "markdown",
      "metadata": {
        "colab_type": "text",
        "id": "d5LI9Bu99YeU"
      },
      "source": [
        "Die Listen-Abstraktion, eigentlich auch im Deutschen besser als \"List Comprehension\" bekannt, ist eine elegante Methode Mengen in Python zu definieren oder zu erzeugen. Die List-Comprehension kommt der mathematischen Notation von Mengen sehr nahe. In Mathematik definiert man die Quadratzahlen der natürlichen Zahlen beispielsweise als { x2 | x ∈ ℕ } oder die Menge der komplexen ganzen Zahlen { (x,y) | x ∈ ℤ ∧ y ∈ ℤ }.\n",
        "So kann man Beispielsweise eine Formel definieren und jeweils die einzelnen Werte in der Liste berechnen und auf diese zugreifen."
      ]
    },
    {
      "cell_type": "code",
      "metadata": {
        "colab_type": "code",
        "id": "26kaUsvE9YeU",
        "colab": {}
      },
      "source": [
        "# Hier eingehens nochmal ein Beispiel wie man eine Liste erstellt\n",
        "l = []\n",
        "for buchstabe in 'wort':\n",
        "    l.append(buchstabe)\n",
        "print(l)"
      ],
      "execution_count": 0,
      "outputs": []
    },
    {
      "cell_type": "code",
      "metadata": {
        "colab_type": "code",
        "id": "m54BoiDQ9YeX",
        "colab": {}
      },
      "source": [
        "# Ein List comprehension erstellt man wie folgt\n",
        "list = [buchstabe for buchstabe in 'Wort']\n",
        "print(list)"
      ],
      "execution_count": 0,
      "outputs": []
    },
    {
      "cell_type": "code",
      "metadata": {
        "colab_type": "code",
        "id": "87HKc_g49YeZ",
        "colab": {}
      },
      "source": [
        "list = [x**2 for x in range(1,11)] # Beispiel mit Wurzel\n",
        "print(list)"
      ],
      "execution_count": 0,
      "outputs": []
    },
    {
      "cell_type": "code",
      "metadata": {
        "colab_type": "code",
        "id": "QKWfksw_9Yeb",
        "colab": {}
      },
      "source": [
        "list = [x for x in range(11) if x % 2 == 0] # Beispiel mit Modulo\n",
        "print(list)"
      ],
      "execution_count": 0,
      "outputs": []
    },
    {
      "cell_type": "code",
      "metadata": {
        "colab_type": "code",
        "id": "IoYok8an9Yee",
        "colab": {}
      },
      "source": [
        "celsius = [0,10,21.2,36.7]\n",
        "\n",
        "fahrenheit = [((9/5*temp+32)) for temp in celsius]\n",
        "print(fahrenheit)"
      ],
      "execution_count": 0,
      "outputs": []
    },
    {
      "cell_type": "code",
      "metadata": {
        "colab_type": "code",
        "id": "5o4_VPu69Yek",
        "colab": {}
      },
      "source": [
        "list = [x**2 for x in range(11)]\n",
        "for zahl in x:\n",
        "    print(zahl) # Nun können wir eine if-Anweisung einbauen und einen bestimmten Wert abfragen\n",
        "    if zahl == 4:\n",
        "        print ('Dies ist ein bestimmter Wert')\n",
        "    else:\n",
        "        break"
      ],
      "execution_count": 0,
      "outputs": []
    },
    {
      "cell_type": "markdown",
      "metadata": {
        "colab_type": "text",
        "id": "MrcdekCW9Yen"
      },
      "source": [
        "### Methoden"
      ]
    },
    {
      "cell_type": "markdown",
      "metadata": {
        "colab_type": "text",
        "id": "ZwftSs7F9Yen"
      },
      "source": [
        "Methoden sind Funktionen die in Objekte eingebaut werden. Diese Methoden führen spezifische Aktionen mit dem Objekt durch können Parameter aufnehmen und Funktionen wiedergeben.\n",
        "\n",
        "Der generelle Syntax einer Methode sieht wie folgt aus:\n",
        "\n",
        "object.method(arg1,arg2,arg3,...)"
      ]
    },
    {
      "cell_type": "code",
      "metadata": {
        "colab_type": "code",
        "id": "yZAk4Vy09Yeo",
        "colab": {}
      },
      "source": [
        "# Hier ein einfaches Beispiel einer Methode\n",
        "l = [1,2,3]\n",
        "l.append(4) # mit Tab können die verfügbaren Methoden bsp. append angesehen werden\n",
        "print(l)"
      ],
      "execution_count": 0,
      "outputs": []
    },
    {
      "cell_type": "code",
      "metadata": {
        "colab_type": "code",
        "id": "AQoZAh5F9Yep",
        "scrolled": true,
        "colab": {}
      },
      "source": [
        "# Ein Möglichkeit die Bescheibung einer Methode auszugeben ist mit help\n",
        "w = \"Das ist eine Wort\"\n",
        "w.count('e') # Count gibt die Anzahl der gesuchten Werte aus\n",
        "help(l.count)"
      ],
      "execution_count": 0,
      "outputs": []
    },
    {
      "cell_type": "markdown",
      "metadata": {
        "colab_type": "text",
        "id": "EfCuU2JI9Yer"
      },
      "source": [
        "### Funktionen"
      ]
    },
    {
      "cell_type": "markdown",
      "metadata": {
        "colab_type": "text",
        "id": "s37aqzgP9Yer"
      },
      "source": [
        "Formell betrachtet ist eine Funktion ein nützliches Hilfsmittel, dass \n",
        "mehrerer Anweisungen gruppiert, damit sie mehr als einmal ausgeführt werden können.\n",
        "Man kann Funktionen so definieren, dass man sie innerhalb des Codes immer wieder verwenden kann.\n",
        "\n",
        "Eine Funktion beginnt mit einer def Anweisung"
      ]
    },
    {
      "cell_type": "code",
      "metadata": {
        "colab_type": "code",
        "id": "_WgaP0tv9Yer",
        "colab": {}
      },
      "source": [
        "def name_der_funktion(parameter1, parameter2):\n",
        "    '''Hier kommt ein Kommentar'''\n",
        "    return\n",
        "name_der_funktion # mit Shift + Tab kann man nun die Funktion inkl Kommentar ausgeben\n",
        "help(name_der_funktion) # oder aus so "
      ],
      "execution_count": 0,
      "outputs": []
    },
    {
      "cell_type": "code",
      "metadata": {
        "colab_type": "code",
        "id": "kBye-qBe9Yet",
        "colab": {}
      },
      "source": [
        "# Um die Funktion auszuführen muss wir folgt vorgegangen werden\n",
        "\n",
        "name_der_funktion(1,2) # Mit der Funktion über geben wir die geforderten Parameter"
      ],
      "execution_count": 0,
      "outputs": []
    },
    {
      "cell_type": "code",
      "metadata": {
        "colab_type": "code",
        "id": "_oo1PLPi9Yeu",
        "colab": {}
      },
      "source": [
        "# In diesem Beispiel definieren wir eine Funktion mit eine Parameter\n",
        "def sag_hallo(name): # Der Parameter ist zu vergleichen mit einem Platzhalter\n",
        "        print('Hallo',name)"
      ],
      "execution_count": 0,
      "outputs": []
    },
    {
      "cell_type": "code",
      "metadata": {
        "colab_type": "code",
        "id": "bzDzrX179Ye0",
        "colab": {}
      },
      "source": [
        "sag_hallo('David') # Hier über geben wir einen Name für den Parameter"
      ],
      "execution_count": 0,
      "outputs": []
    },
    {
      "cell_type": "code",
      "metadata": {
        "colab_type": "code",
        "id": "k6LQweZr9Ye3",
        "colab": {}
      },
      "source": [
        "def add_num(num1,num2): # Bei diesem Beispiel definieren wir eine Funktion mit 2 Parameter\n",
        "    return num1+num2 # Nun definieren wir was in der Funktion gemacht werden soll"
      ],
      "execution_count": 0,
      "outputs": []
    },
    {
      "cell_type": "code",
      "metadata": {
        "colab_type": "code",
        "id": "0wacNWRZ9Ye4",
        "colab": {}
      },
      "source": [
        "add_num(4,5) # Nun übergeben wir zwei Parameter und die Funktion führt sie aus\n",
        "\n",
        "# In diesem Fall wird nun der Wert 4 und 5 zusammengerechnet"
      ],
      "execution_count": 0,
      "outputs": []
    },
    {
      "cell_type": "code",
      "metadata": {
        "colab_type": "code",
        "id": "pHKkkEOZ9Ye6",
        "colab": {}
      },
      "source": [
        "# Die Ausgabe einer Funktion können wir auch als Variable speichern\n",
        "ergebnis = add_num(3,7)\n",
        "print(ergebnis)"
      ],
      "execution_count": 0,
      "outputs": []
    },
    {
      "cell_type": "code",
      "metadata": {
        "colab_type": "code",
        "id": "3dge7fQq9Ye8",
        "colab": {}
      },
      "source": [
        "# All diese funktioniert natürlich auch mit strings und in direkter Ausgabe\n",
        "print(add_num('Halllo ', 'David'))"
      ],
      "execution_count": 0,
      "outputs": []
    },
    {
      "cell_type": "code",
      "metadata": {
        "colab_type": "code",
        "id": "JdIWhIAv9Ye-",
        "colab": {}
      },
      "source": [
        "# In einer Funktion lassen sich ganze Routinen mit Schleifen-Anweisungen ausgeben\n",
        "\n",
        "def ist_prim(num):\n",
        "    for n in range(2,num):\n",
        "        if num % n == 0:\n",
        "            print('keine Primzahl')\n",
        "            break\n",
        "    else:\n",
        "        print('Primzahl')"
      ],
      "execution_count": 0,
      "outputs": []
    },
    {
      "cell_type": "code",
      "metadata": {
        "colab_type": "code",
        "id": "vzR4iAx99Ye_",
        "colab": {}
      },
      "source": [
        "ist_prim(10)"
      ],
      "execution_count": 0,
      "outputs": []
    },
    {
      "cell_type": "code",
      "metadata": {
        "colab_type": "code",
        "id": "_4WRLpn39YfA",
        "colab": {}
      },
      "source": [
        "# Das oben gezeigte Beispiel geht auch einfacher\n",
        "\n",
        "import math # Hier importieren wir eine mathematisches Python Package \n",
        "\n",
        "def ist_prim(num):\n",
        "    if num % 2 == 0 and num > 2: #\n",
        "        return False\n",
        "    for i in range(3, int(math.sqrt(num))+1, 2):\n",
        "        if num % i == 0:\n",
        "            return False\n",
        "    return True\n"
      ],
      "execution_count": 0,
      "outputs": []
    },
    {
      "cell_type": "code",
      "metadata": {
        "colab_type": "code",
        "id": "4YL0DaTl9YfD",
        "colab": {}
      },
      "source": [
        "ist_prim(11)"
      ],
      "execution_count": 0,
      "outputs": []
    },
    {
      "cell_type": "markdown",
      "metadata": {
        "colab_type": "text",
        "id": "Azdb-r_Q9YfE"
      },
      "source": [
        "### Lambda Ausdrücke"
      ]
    },
    {
      "cell_type": "markdown",
      "metadata": {
        "colab_type": "text",
        "id": "nz14glRc9YfF"
      },
      "source": [
        "Lambda Ausdrücke sind sehr nützliche Tools im Pyhton. Sie erlauben es uns sogenannte \"anonyme\" Funktionen zu erstellen. Vereinfacht gesagt heisst das, dass wir schnell eine Funktion erstellen können ohne sie per def zu definieren. Ein Lambda Ausruck ist meist auf einer Zeile geschrieben und ist für das coden einfacher Aufgaben gedacht. Bei grösseren Aufgaben verwenden wir def."
      ]
    },
    {
      "cell_type": "code",
      "metadata": {
        "colab_type": "code",
        "id": "0klKJsvA9YfF",
        "colab": {}
      },
      "source": [
        "# Um ein Gefühl für Lambda zu erhalten werden wir nun eine def Funktion in einen Lambda Ausdruck umwandeln.\n",
        "\n",
        "def square(num):\n",
        "    return num**2\n",
        "\n",
        "square(2)"
      ],
      "execution_count": 0,
      "outputs": []
    },
    {
      "cell_type": "code",
      "metadata": {
        "colab_type": "code",
        "id": "qNQJzDzO9YfH",
        "colab": {}
      },
      "source": [
        "# Wir können dies natürlich auch noch vereinfachen und in einer einzige Zeile schreiben.\n",
        "def square(num): return num**2\n",
        "\n",
        "square(4)"
      ],
      "execution_count": 0,
      "outputs": []
    },
    {
      "cell_type": "code",
      "metadata": {
        "colab_type": "code",
        "id": "PNc18TbB9YfL",
        "colab": {}
      },
      "source": [
        "# Wir werden nun diese def Beispiel in eine Lambda Funktion umwandeln.\n",
        "\n",
        "square = lambda num: num**2 # Die return Anweisung ist bereits in Lambda beinhaltet\n",
        "square(5)"
      ],
      "execution_count": 0,
      "outputs": []
    },
    {
      "cell_type": "code",
      "metadata": {
        "colab_type": "code",
        "id": "hsP7Ew7e9YfM",
        "colab": {}
      },
      "source": [
        "# Auch die Modulo bzw. die Suche nach einer teilbaren Zahl lässt sich mittels Lambda \n",
        "# um einiges vereinfachen.\n",
        "\n",
        "even = lambda x: x%2==0 # Lässt sich eine Wert durch zwei dividieren?\n",
        "even(9)"
      ],
      "execution_count": 0,
      "outputs": []
    },
    {
      "cell_type": "code",
      "metadata": {
        "colab_type": "code",
        "id": "kzqv5gpQ9YfN",
        "colab": {}
      },
      "source": [
        "# Auch mit Strings lassen sich in Lambda operieren.\n",
        "\n",
        "erstes = lambda s: s[0] # Gibt den Buchstabe im Index 0 aus\n",
        "umk = lambda s: s[::-1] # Gibt den String in umgekehrter Reihenfolge aus\n",
        "erstes('halt'), umk('Hallo')"
      ],
      "execution_count": 0,
      "outputs": []
    },
    {
      "cell_type": "code",
      "metadata": {
        "colab_type": "code",
        "id": "ymrZjnUJ9YfP",
        "colab": {}
      },
      "source": [
        "# Hier noch ein Lambda Beispiel mit mehreren Parameter\n",
        "add = lambda x,y: x+y\n",
        "add(2,4)"
      ],
      "execution_count": 0,
      "outputs": []
    },
    {
      "cell_type": "code",
      "metadata": {
        "colab_type": "code",
        "id": "4e2M3s9S9YfQ",
        "colab": {}
      },
      "source": [
        "# Hier ein kleines Programm zur Umrechung von Grad & Fahrenheit\n",
        "\n",
        "quest = input('Was möchtest du berechnen 1 = Fahrenheit / 2 = Grad: ')\n",
        "\n",
        "if quest == '1':\n",
        "    grad = input('Gebe den Wert in Grad Celsius ein: ')\n",
        "    g2f = lambda g: g*2+32\n",
        "    print(g2f(int(grad)), 'Fahrenheit')\n",
        "elif quest == '2':\n",
        "    fahr = input('Gebe den Wert in Fahrenheit ein: ')\n",
        "    f2g = lambda f: (f-32)/2\n",
        "    print(f2g(int(fahr)), 'Grad Celsius')\n",
        "else:\n",
        "    print('Falscher Wert, Program beendet!')\n",
        "    "
      ],
      "execution_count": 0,
      "outputs": []
    },
    {
      "cell_type": "markdown",
      "metadata": {
        "colab_type": "text",
        "id": "hyi5QHEP9YfS"
      },
      "source": [
        "### Verschachtelte Anweisung und Geltungsbereiche"
      ]
    },
    {
      "cell_type": "markdown",
      "metadata": {
        "colab_type": "text",
        "id": "YBQnfAjW9YfS"
      },
      "source": [
        "Jetzt, da wir unsere eigenen Funktionen zu schreiben gelernt haben, ist es wichtig zu verstehen, wie Python mit Variablen Namen umgeht. Wenn wir einen Variable Namen erstellen wird dieser im sogenannten Namensraum (en.: name space) gespeichert. Variablen Namen haben außerdem einen Geltungsbereich, welcher bestimmt, welche anderen Teile des Codes diesen Namen kennen.\n",
        "\n",
        "Der Geltungsbereich der Variablen ist über die sogenannte LEGB Regel definiert:\n",
        "\n",
        "L: Lokal - Namen die in irgendeiner Form innerhalb einer Funktion (def oder lambda) zugewiesen werden und nicht global in dieser Funktion definiert sind.\n",
        "\n",
        "E: Einschließende Funktionen - Namen im lokalen Geltungsbereich aller einschließenden Funktionen (def oder lambda) von innen nach außen.\n",
        "\n",
        "G: Globale (Module) - Namen die auf der höchsten Ebene einer Datei zugewiesen werden oder innerhalb einer Funktion als global ausgewiesen werden.\n",
        "\n",
        "B: Bereits (in Python) eingebaute - Namen die bereits in die vorinstallierten Module wie range, open, usw. eingebaut sind.\n",
        "\n",
        "Lokale Variablen innerhalb einer Funktion gelten nur in Zusammenhang mit dieser Funktion und nicht ausserhalb.\n"
      ]
    },
    {
      "cell_type": "code",
      "metadata": {
        "colab_type": "code",
        "id": "SPYt5mGa9YfU",
        "colab": {}
      },
      "source": [
        "# Beispiel - Lokal\n",
        "\n",
        "calc = lambda y,x: x+y # x und y sind lokale Variablen\n",
        "print(calc(10,5))"
      ],
      "execution_count": 0,
      "outputs": []
    },
    {
      "cell_type": "code",
      "metadata": {
        "colab_type": "code",
        "id": "wu28iVY49YfY",
        "colab": {}
      },
      "source": [
        "x = 50\n",
        "\n",
        "def funk(x):\n",
        "    print('x ist ',x) # Hier gilt die Globale Variable\n",
        "    x = 2 # Ab hier gilt diese Variable, aber nur innerhalb dieser Funktion\n",
        "    print ('Lokales x ist jetzt', x)\n",
        "    \n",
        "funk(x)\n",
        "print('x ist noch',x)\n"
      ],
      "execution_count": 0,
      "outputs": []
    },
    {
      "cell_type": "code",
      "metadata": {
        "colab_type": "code",
        "id": "uuNfQBkN9Yfa",
        "colab": {}
      },
      "source": [
        "# Beispiel - Einschliessende Funktionen\n",
        "\n",
        "name = 'Das ist ein globaler Name'\n",
        "\n",
        "def gruss():\n",
        "    # Hier eine Einschliessende Funkton\n",
        "    name = 'David'\n",
        "    \n",
        "    def hallo():\n",
        "        name = 'Hans' # Innerhalb einer Funktion wird immer der \"innerste\" Wert genommen\n",
        "        print('Hallo '+ name)\n",
        "    \n",
        "    hallo()\n",
        "\n",
        "gruss()\n",
        "print (name) # Wie wir unschwer erkennen können wird auch diese Variable ausgegeben."
      ],
      "execution_count": 0,
      "outputs": []
    },
    {
      "cell_type": "code",
      "metadata": {
        "colab_type": "code",
        "id": "zV0xof699Yfd",
        "colab": {}
      },
      "source": [
        "# Eine bereits eingebaute Variable ist beispielsweise \n",
        "\n",
        "test = 'Test'\n",
        "print(len(test))"
      ],
      "execution_count": 0,
      "outputs": []
    },
    {
      "cell_type": "markdown",
      "metadata": {
        "colab_type": "text",
        "id": "Ru9WQqKH9Yfe"
      },
      "source": [
        "### Objektorientierte Programmierung (OOP)"
      ]
    },
    {
      "cell_type": "code",
      "metadata": {
        "colab_type": "code",
        "id": "m0FHwkvK9Yff",
        "colab": {}
      },
      "source": [
        "# Fast alles in Python ist ein Objekt so auch Listen\n",
        "l = [1,2,3]\n",
        "l.count(2)\n",
        "print(type(l))"
      ],
      "execution_count": 0,
      "outputs": []
    },
    {
      "cell_type": "code",
      "metadata": {
        "colab_type": "code",
        "id": "ayOZrcY09Yfi",
        "colab": {}
      },
      "source": [
        "# wie ach Functionen\n",
        "\n",
        "def quadrat(num):\n",
        "    return num**2\n",
        "print(type (quadrat))"
      ],
      "execution_count": 0,
      "outputs": []
    },
    {
      "cell_type": "markdown",
      "metadata": {
        "colab_type": "text",
        "id": "EyLorKC09Yfj"
      },
      "source": [
        "### Class (Klassen)"
      ]
    },
    {
      "cell_type": "markdown",
      "metadata": {
        "colab_type": "text",
        "id": "FgND894D9Yfk"
      },
      "source": [
        "Klassen sind von Nutzer definierte Objekte. Klassen sind wie Blaupausen welche die Eigenschaften zukünfitger Objekte festhält. Instanzen sind spezifische Objekte werlche aus bestimmten Klassen geschaffen werden. Wie Beispielweise die Liste welche wir oben erstellt haben."
      ]
    },
    {
      "cell_type": "code",
      "metadata": {
        "colab_type": "code",
        "id": "CYS6h4QW9Yfl",
        "colab": {}
      },
      "source": [
        "# Wir generieren nun eine eigene KLasse\n",
        "\n",
        "class Beispiel (object): # Wichtig ist das der Klassenname mit einem Grossbuchstaben beginnt\n",
        "    pass\n",
        "\n",
        "x = Beispiel() # Hier verküpfen wir unsere Klasse mit einer Variabel\n",
        "\n",
        "print(type(x)) # Nun können wir uns vergewissern, dass x eine Klasse ist\n"
      ],
      "execution_count": 0,
      "outputs": []
    },
    {
      "cell_type": "markdown",
      "metadata": {
        "colab_type": "text",
        "id": "4BjuM5h_9Yfm"
      },
      "source": [
        "Der Klasse können jetzt natürlich noch Attribute und Methoden \n",
        "hinzugefügt werden. \n",
        "\n",
        "Ein Attribute ist dabei eine Charakteristik eines Objekts. Wenn wir Beispielsweise eine Klasse \"Hund\" Haben können wir ihr Attribute wie Hunderasse, Alter, Stammbaum usw. hinzufügen.\n",
        "\n",
        "Eine Methode ist eine Operation welche wir auf ein Objekt anwenden können. Beispielswiese bei der Klasse \"Hund\" würde dies bellen, knurren, springen usw. sein. "
      ]
    },
    {
      "cell_type": "code",
      "metadata": {
        "colab_type": "code",
        "id": "-n_LowHU9Yfn",
        "colab": {}
      },
      "source": [
        "# Hier das Beispiel Klasse \"Hund\"\n",
        "\n",
        "class Hund(object):\n",
        "    def __init__(self, rasse): # Hiermit definieren wir eine Funkton mit dem Attribut rasse\n",
        "        self.rasse = rasse # Hiermit weisen wir die Funktion Rasse der Klasse zu\n",
        "        \n",
        "sam = Hund(rasse='Lab') # Mit Hilfe der Klasse generieren wir nun ein neues Objekt\n",
        "frank = Hund(rasse='Husky') # Dito\n",
        "frank # Wir können nun überprüfen zu welche Klasse das Objekt Frank gehört\n",
        "print(type(frank)) # Das geht natürlich auch so\n"
      ],
      "execution_count": 0,
      "outputs": []
    },
    {
      "cell_type": "code",
      "metadata": {
        "colab_type": "code",
        "id": "G44qko1e9Yfo",
        "colab": {}
      },
      "source": [
        "# Nun wollen wir das Objekt Sam mal mit einem in der Klasse definierten Attribut ausgehben\n",
        "sam.rasse #Ein Klammer ist nicht notwendig, da es sich nicht um eine Methode handelt "
      ],
      "execution_count": 0,
      "outputs": []
    },
    {
      "cell_type": "code",
      "metadata": {
        "colab_type": "code",
        "id": "o4UuDlNR9Yfp",
        "colab": {}
      },
      "source": [
        "# Kommen wir nun zu den Klassen-Objekt-Attribute. Diese gelten für alle Instanzen einer Klasse\n",
        "class Hund(object):\n",
        "    spezies = 'Säugetier'\n",
        "    \n",
        "    def __init__(self,rasse,name):\n",
        "        self.rasse = rasse\n",
        "        self.name = name\n",
        "        \n",
        "sam = Hund('Lab','Sam')\n",
        "\n",
        "print(type(sam))\n",
        "sam.name\n",
        "sam.spezies"
      ],
      "execution_count": 0,
      "outputs": []
    },
    {
      "cell_type": "markdown",
      "metadata": {
        "colab_type": "text",
        "id": "kqapW2QN9Yft"
      },
      "source": [
        "### Methoden"
      ]
    },
    {
      "cell_type": "markdown",
      "metadata": {
        "colab_type": "text",
        "id": "0GntEF6a9Yft"
      },
      "source": [
        "Neben Attributen können auch Methoden (Funktionen) in einer Klasse definiert werden. Mit ihnen können Operationen mit den Attributen durchgeführt werden.\n"
      ]
    },
    {
      "cell_type": "code",
      "metadata": {
        "colab_type": "code",
        "id": "3BAubZ2I9Yft",
        "colab": {}
      },
      "source": [
        "class Kreis(object):\n",
        "    pi = 3.14\n",
        "    \n",
        "    def __init__(self, radius = 1): # Hier definieren wir wieder eine Funktion und weisen Radius gleich einen Default-Wert zu. \n",
        "        self.radius = radius\n",
        "        \n",
        "    def flaeche(self):\n",
        "        return self.radius * self.radius * Kreis.pi\n",
        "    \n",
        "    def radiusEinstellen(self,radius): # Mit diesem Attribut können wir den Radius individuell verändern.\n",
        "        self.radius = radius\n",
        "        \n",
        "    def radiusErhalten(self): #Mit diesem Attribut können wir die Einstellung jederzeit abfragen\n",
        "        return self.radius\n",
        "        \n",
        "\n",
        "k = Kreis(radius=100)\n",
        "k.flaeche() #Achtung da es sich um einen Methode handelt bnötigen wir wieder eine Klammer\n"
      ],
      "execution_count": 0,
      "outputs": []
    },
    {
      "cell_type": "code",
      "metadata": {
        "colab_type": "code",
        "id": "6OclyaEc9Yfv",
        "scrolled": true,
        "colab": {}
      },
      "source": [
        "k.radiusEinstellen(10)"
      ],
      "execution_count": 0,
      "outputs": []
    },
    {
      "cell_type": "code",
      "metadata": {
        "colab_type": "code",
        "id": "s77xCeeg9Yfw",
        "colab": {}
      },
      "source": [
        "k.flaeche()"
      ],
      "execution_count": 0,
      "outputs": []
    },
    {
      "cell_type": "code",
      "metadata": {
        "colab_type": "code",
        "id": "WGAnqNAr9Yfx",
        "colab": {}
      },
      "source": [
        "k.radiusErhalten()"
      ],
      "execution_count": 0,
      "outputs": []
    },
    {
      "cell_type": "markdown",
      "metadata": {
        "colab_type": "text",
        "id": "qjx9Wt1I9Yfz"
      },
      "source": [
        "### Vererbung"
      ]
    },
    {
      "cell_type": "markdown",
      "metadata": {
        "colab_type": "text",
        "id": "-QiqgikW9Yfz"
      },
      "source": [
        "Mit der Vererbung können neue Klassen durch bereits existierenden Klassen erstellt werden. Dies neu erstellten Klassen werden abgeleitete Klassen genannnt. Die Klassen von welche wir Vererben heissen Basisklassen. Mit der Vererbung lassen sich somit einfach bestehende Codes wieder verwenden."
      ]
    },
    {
      "cell_type": "code",
      "metadata": {
        "colab_type": "code",
        "id": "hj1UMWJb9Yf0",
        "colab": {}
      },
      "source": [
        "class Tier(object):\n",
        "    def __init__(self):\n",
        "        print('Tier erschaffen')\n",
        "        \n",
        "    def werBinIch(self):\n",
        "        print('Tier')\n",
        "        \n",
        "    def essen(self):\n",
        "        print('Essen')\n",
        "        \n",
        "class Hund(Tier): # Wir erstellen eine neue Klassen und Vererben die Tier Klasse\n",
        "    def __init__(self):\n",
        "        Tier.__init__(self) #Hier beziehen wir uns auf die Klasse Tier\n",
        "        print('Hund erstellen')\n",
        "        \n",
        "    def werBinIch(self):\n",
        "        print('Hund')\n",
        "        \n",
        "    def bellen(self):\n",
        "        print('Wuff!')\n",
        "    "
      ],
      "execution_count": 0,
      "outputs": []
    },
    {
      "cell_type": "code",
      "metadata": {
        "colab_type": "code",
        "id": "uX-Ou1ha9Yf1",
        "colab": {}
      },
      "source": [
        "t = Tier()\n",
        "t.werBinIch()\n",
        "t.essen()"
      ],
      "execution_count": 0,
      "outputs": []
    },
    {
      "cell_type": "code",
      "metadata": {
        "colab_type": "code",
        "id": "5bYEll5N9Yf3",
        "colab": {}
      },
      "source": [
        "h = Hund()\n",
        "h.werBinIch()\n",
        "h.bellen()\n",
        "h.essen() # Dieses Attribut hat die Klasse Hund von der Klasse Tier vererbt bekommen."
      ],
      "execution_count": 0,
      "outputs": []
    },
    {
      "cell_type": "markdown",
      "metadata": {
        "colab_type": "text",
        "id": "c8SlFoWw9Yf5"
      },
      "source": [
        "### Spezielle Methoden"
      ]
    },
    {
      "cell_type": "code",
      "metadata": {
        "colab_type": "code",
        "id": "Izrw8G6z9Yf6",
        "colab": {}
      },
      "source": [
        "# Wir kennen ja die bereits die Methoden welche in Python standardmässig implementiert sind.\n",
        "l = [1,2,3]\n",
        "print(l)\n",
        "len(l)"
      ],
      "execution_count": 0,
      "outputs": []
    },
    {
      "cell_type": "code",
      "metadata": {
        "colab_type": "code",
        "id": "TAJWYop29Yf7",
        "colab": {}
      },
      "source": [
        "# Solchen Methoden können wir aber auch selber definieren.\n",
        "\n",
        "class Buch(object):\n",
        "    def __init__(self, titel, autor, seiten):\n",
        "        print('Ein Buch wird geschrieben!')\n",
        "        self.titel = titel\n",
        "        self. autor = autor\n",
        "        self.seiten = seiten\n",
        "    \n",
        "    def __str__(self):\n",
        "        return \"Titel:%s, Autor: %s, Seiten %s\"% (self.titel, self.autor, self.seiten)\n",
        "        \n",
        "    def __len__(self):\n",
        "        return self.seiten\n",
        "    \n",
        "    def __del__(self):\n",
        "        print('Ein Buch wurde gelöscht')\n",
        "        \n",
        "buch = Buch('Python rockt!', 'Patrik Di Lena', 1000)\n",
        "print (buch)\n",
        "        "
      ],
      "execution_count": 0,
      "outputs": []
    },
    {
      "cell_type": "code",
      "metadata": {
        "colab_type": "code",
        "id": "pSXuIirC9Yf9",
        "colab": {}
      },
      "source": [
        "del(buch) # Wenn wir jetzt die Methode len ausführen wird Python das nicht interpretieren können"
      ],
      "execution_count": 0,
      "outputs": []
    },
    {
      "cell_type": "code",
      "metadata": {
        "colab_type": "code",
        "id": "Ifgl7BAy9Yf-",
        "colab": {}
      },
      "source": [
        "class Ubuntu:\n",
        "    def __init__(self, ramsize):\n",
        "        self.ram = ramsize\n",
        "        self.type = 'server'\n",
        "        \n",
        "Ubuntu = Ubuntu(2000)"
      ],
      "execution_count": 0,
      "outputs": []
    },
    {
      "cell_type": "code",
      "metadata": {
        "colab_type": "code",
        "id": "3d4P5tlN9YgA",
        "colab": {}
      },
      "source": [
        "print(Ubuntu)"
      ],
      "execution_count": 0,
      "outputs": []
    },
    {
      "cell_type": "markdown",
      "metadata": {
        "colab_type": "text",
        "id": "Are90w149YgD"
      },
      "source": [
        "### Errors und Ausnahmen Handhabung"
      ]
    },
    {
      "cell_type": "markdown",
      "metadata": {
        "colab_type": "text",
        "id": "4yUopAl_9YgE"
      },
      "source": [
        "Es gibt unterschiedliche Fehlerquellen bei der Nutzung von Python. Man unterscheidet dabei zwischen folgenden Fehlerarten:\n",
        "\n",
        "Syntaxfehler - Hierbei handelt es sich zum Beispiel um einen vergessenen Einschub, Tipfehler usw.\n",
        "Semantische Fehler - Diese Fehler sind die gefährlichsten von allen Fehlern, da sie die Logik des erstellen Algorithmus betreffen. Diese Fehler werden meist erst später erstellt."
      ]
    },
    {
      "cell_type": "code",
      "metadata": {
        "colab_type": "code",
        "id": "X7hNRv7l9YgE",
        "colab": {}
      },
      "source": [
        "# Das ist ein typischer SyntaxError auch End of Line Error (EOL) genannt\n",
        "\n",
        "print(Hello) # Vergessen von String-Hochkommas bei Print-Funktion"
      ],
      "execution_count": 0,
      "outputs": []
    },
    {
      "cell_type": "code",
      "metadata": {
        "colab_type": "code",
        "id": "5GdVFmRD9YgF",
        "colab": {}
      },
      "source": [
        "# Syntaxfehler kann man mit try und except Anweisungen abfangen.\n",
        "\n"
      ],
      "execution_count": 0,
      "outputs": []
    },
    {
      "cell_type": "markdown",
      "metadata": {
        "colab_type": "text",
        "id": "Ufgb-cd1Eobn"
      },
      "source": [
        "##Python für Data Science Bootcamp "
      ]
    },
    {
      "cell_type": "markdown",
      "metadata": {
        "colab_type": "text",
        "id": "D25kIDjR9tRS"
      },
      "source": [
        "###Pandas, Numpy & MatPlotLib ##\n",
        "\n",
        "Wenn es um Data Science mit Python geht, dann sollte man die Python- Libraries Pandas, Numpy und MatPlotLib beherrschen. \n",
        "\n",
        "In den folgenden Abschnitten werden wir uns zuerst mit Pandas befassen und danach auf Numpy eingehen."
      ]
    },
    {
      "cell_type": "code",
      "metadata": {
        "colab_type": "code",
        "id": "Nt7Up6ZN-DT4",
        "colab": {}
      },
      "source": [
        "# to delete\n",
        "import fix_yahoo_finance as fyf"
      ],
      "execution_count": 0,
      "outputs": []
    },
    {
      "cell_type": "markdown",
      "metadata": {
        "colab_type": "text",
        "id": "L3eqho0e_lZU"
      },
      "source": [
        "###Pandas###\n",
        "Pandas ist eine Programmbibliothek für die Programmiersprache Python, die Hilfsmittel für die Verwaltung von Daten und deren Analyse anbietet. Insbesondere enthält sie Datenstrukturen und Operatoren für den Zugriff auf numerische Tabellen und Zeitreihen.\n",
        "\n",
        "Weitere Beispiele können auf dem folgend Link gefunden werden  [Pandas](https://chrisalbon.com/#articles)"
      ]
    },
    {
      "cell_type": "markdown",
      "metadata": {
        "colab_type": "text",
        "id": "qXPmfI8yUoS9"
      },
      "source": [
        "**Daten erstellen, importieren & exportieren, zusammenführen, durchsuchen**\n",
        "\n",
        "Mit Pandas besteht eine Vielzahl von Möglichkeiten Daten zu importieren und zu exportieren. \n",
        "\n",
        "Nachfolgenden ein paar Beispiele: "
      ]
    },
    {
      "cell_type": "code",
      "metadata": {
        "colab_type": "code",
        "id": "psfMd5LL68AY",
        "colab": {}
      },
      "source": [
        "# Mittels Pandas lassen sich einfach sogenannte Dataframes erstellen.\n",
        "# Dataframes sind nichts anderes als eine 2-dimensionale Datenstruktur\n",
        "# in Form von Spalten (Columns) und Zeilen (Rows). \n",
        "\n",
        "# Zuerst muss die Library geladen geladen werden\n",
        "import pandas as pd\n",
        "\n",
        "list = [['Peter',70],['Paul',75],['Marie', 76]]\n",
        "\n",
        "# Erstellen einer leeren Tabelle\n",
        "dataf1 = pd.DataFrame()\n",
        "\n",
        "# Erstellen einer kleinen Tabelle Daten aus Liste\n",
        "dataf2 = pd.DataFrame(list,columns=['Name','Age'])\n",
        "\n",
        "print('Empty Dataframe',dataf1)\n",
        "print('Dataframe from Liste','\\n',dataf2)\n"
      ],
      "execution_count": 0,
      "outputs": []
    },
    {
      "cell_type": "code",
      "metadata": {
        "colab_type": "code",
        "id": "4prbqVB107IJ",
        "colab": {}
      },
      "source": [
        "# Series sind hingegen 1-dimensionale \n",
        "# Datenstrukturen welche jegliche Art von Datentypen beinhalten können.\n",
        "\n",
        "# Zuerst muss die Library geladen geladen werden\n",
        "import pandas as pd\n",
        "\n",
        "# Erstellung eines Dictionary\n",
        "dic = {1:'Peter', 2:'Paul', 3:'Marie'}\n",
        "\n",
        "# Erstellen einer leeren Series\n",
        "serie1 = pd.Series()\n",
        "\n",
        "# Erstellen einer Series mit Daten\n",
        "serie2 = pd.Series(['Peter', 'Paul', 'Marie'], index = [1,2,3])\n",
        "\n",
        "# Erstellen einer Series aus einem Dictionary\n",
        "serie3 = pd.Series(dic)\n",
        "\n",
        "print ('Empty Series:', serie1)\n",
        "print ('Direct defined Series:','\\n',serie2)\n",
        "print('Series definde of a Dictionary:', '\\n', serie3)\n",
        "\n",
        "\n"
      ],
      "execution_count": 0,
      "outputs": []
    },
    {
      "cell_type": "code",
      "metadata": {
        "colab_type": "code",
        "id": "utzHGezmFUL0",
        "colab": {}
      },
      "source": [
        "# Daten lassen sich ganz einfach aus verschiedenen Dateien oder sogar\n",
        "# Datenbanken laden. Die einfachste Form ist aus CSVs wie im folgenden\n",
        "# Beispiel gezeigt.\n",
        "\n",
        "import pandas as pd # Zuerst muss die Library geladen geladen werden\n",
        "\n",
        "\n",
        "# from .csv\n",
        "data = pd.read_csv(\"https://raw.githubusercontent.com/sakuronohana/my_datascience/master/planecrashinfo.csv\") # nun lesen wir ein csv\n",
        "\n",
        "# mit .head werden die in der Klammer definierten Zeilen angezeigt, \n",
        "# dass genügt um zu überprüfen ob er Import funktioniert.\n",
        "data.head(10) \n",
        "# Mit der Option data.tail(10) werden die letzten 10 Zeilen angezeigt"
      ],
      "execution_count": 0,
      "outputs": []
    },
    {
      "cell_type": "code",
      "metadata": {
        "colab_type": "code",
        "id": "D-aDtTDBdDlN",
        "colab": {}
      },
      "source": [
        "# Wie bereits erwähnt lasssen sich auch Daten auch aus Datenbanken extrahieren\n",
        "import pandas as pd\n",
        "import sqlite3 as sql\n",
        "\n",
        "consql = sql.connect('chinook.db')\n",
        "impsqldat = pd.read_sql('select * from playlists', consql)\n",
        "\n",
        "# Mehr zu diesem Thema unter https://www.dataquest.io/blog/python-pandas-databases/"
      ],
      "execution_count": 0,
      "outputs": []
    },
    {
      "cell_type": "code",
      "metadata": {
        "colab_type": "code",
        "id": "AukJfi8oDLLi",
        "colab": {}
      },
      "source": [
        "# Mit Pandas lassen sich auch Daten direkt aus dem Internet importieren\n",
        "# Im folgenden Beispiel importieren wir historische Exxon Finanzdaten (XOM)\n",
        "# von Yahoo.com mittels einer API.\n",
        "\n",
        "import pandas as pd\n",
        "import datetime\n",
        "import pandas_datareader.data as web \n",
        "\n",
        "\n",
        "# Nun definieren wir den Datum-Range 1.Januar 2010 bis Heute\n",
        "start = datetime.datetime(2010, 1 ,1)\n",
        "end = datetime.datetime.now()\n",
        "\n",
        "# Als nächsten importieren wir die Daten in ein Dataframe (df)\n",
        "df_exxon = web.DataReader(\"XOM\", \"yahoo\",start, end) \n",
        "\n",
        "\n",
        "print(df_exxon.head())\n"
      ],
      "execution_count": 0,
      "outputs": []
    },
    {
      "cell_type": "code",
      "metadata": {
        "colab_type": "code",
        "id": "raYEr3L0LLu0",
        "colab": {}
      },
      "source": [
        "# Es lassen sich aber auch Daten direkt von GitHub laden.\n",
        "# Im folgenden Beispiel werden Daten von einer kalifornischen Volkszählung\n",
        "# direkt vom Internet laden. \n",
        "\n",
        "import pandas as pd\n",
        "\n",
        "# Bei Daten welche direkt von GitHub geladen werden ist es wichtig das der \n",
        "# Anfang von der URL mit raw.githubusercontent.com beginnt.\n",
        "\n",
        "housing_data = pd.read_csv('https://raw.githubusercontent.com/ageron/handson-ml/master/datasets/housing/housing.csv')\n",
        "\n",
        "housing_data.head()"
      ],
      "execution_count": 0,
      "outputs": []
    },
    {
      "cell_type": "code",
      "metadata": {
        "colab_type": "code",
        "id": "UDU3tXghJK4_",
        "colab": {}
      },
      "source": [
        "# Der Export von Daten gestaltet sich mit Pandas ebenfalls sehr einfach\n",
        "# In den folgenden Beispiel werden die Daten einerseits in ein CSV und\n",
        "# andererseits in ein XLS exportiert.\n",
        "\n",
        "import pandas as pd # Zuerst muss die Library geladen geladen werden\n",
        "\n",
        "\n",
        "# from .csv\n",
        "data = pd.read_csv(\"https://raw.githubusercontent.com/sakuronohana/my_datascience/master/planecrashinfo.csv\") # nun lesen wir ein csv\n",
        "\n",
        "\n",
        "# Exportieren von ausgewählten Spalten in ein Excel\n",
        "data[['date', 'location', 'operator']].to_excel('plaincrash_short.xls')\n",
        "\n",
        "# Exportieren aller Daten in ein CSV\n",
        "data.to_csv('plaintcrash_short.csv')\n"
      ],
      "execution_count": 0,
      "outputs": []
    },
    {
      "cell_type": "markdown",
      "metadata": {
        "colab_type": "text",
        "id": "9rLFDmy3pEhi"
      },
      "source": [
        "**Datensuche in Data Frames**\n",
        "\n",
        "Dataframes in Pandas lassen sich auf verschiedene Arten durchsuchen."
      ]
    },
    {
      "cell_type": "code",
      "metadata": {
        "colab_type": "code",
        "id": "bUyyi9vQPZCx",
        "colab": {}
      },
      "source": [
        "# Suchen wir einen bestimmten Wert in einer Spalten, dann können wir diese wie folgt eingeben.\n",
        "\n",
        "import pandas as pd\n",
        "\n",
        "url = 'https://raw.githubusercontent.com/sakuronohana/my_datascience/master/plane_crash_data.csv'\n",
        "dimport = pd.read_csv(url, sep=',')\n",
        "\n",
        "dimport[dimport['time'] == '17:18']\n",
        "\n"
      ],
      "execution_count": 0,
      "outputs": []
    },
    {
      "cell_type": "code",
      "metadata": {
        "colab_type": "code",
        "id": "1pcD0jBFo0QI",
        "colab": {}
      },
      "source": [
        "# Durchsuchen eines DataFrames mittels verschiedenen Werten in verschiedenen\n",
        "# Spalten\n",
        "\n",
        "import pandas as pd\n",
        "\n",
        "url = 'https://raw.githubusercontent.com/sakuronohana/my_datascience/master/datasets/plane_crash_data.csv'\n",
        "dimport = pd.read_csv(url, sep=',')\n",
        "\n",
        "''' Mit dem folgenden Code suchen wir nach zwei verschienden Werten in zwei Spalten mittels AND d.h. \n",
        "es werden nur Zeilen angegeben, welche beide Werte besitzen'''\n",
        "#print ('Suchresultat mit AND-Operator')\n",
        "print(dimport[dimport['date'].str.contains('July') & dimport['operator'].str.contains('United')].head())\n",
        "\n",
        "'''Mit diesem Code suchen wir entweder nach dem einen oder anderen Wert in der selben Spalte'''\n",
        "#print('Sucheresultat mit OR-Operator')\n",
        "#print(dimport[dimport['date'].str.contains('July') | dimport['operator'].str.contains('United')].head())\n",
        "select_list = ['July', 'United']\n",
        "print(dimport[dimport['date'].str.contains('|'.join(select_list))].head())\n",
        "\n",
        "''' Mit dem folgenden Code suchen wir nach Werten welche grösser oder klein sind'''\n",
        "print ('Suchresultat mit <> Operatoren')\n",
        "print (dimport[dimport['time'] > '17:18'].head())"
      ],
      "execution_count": 0,
      "outputs": []
    },
    {
      "cell_type": "markdown",
      "metadata": {
        "colab_type": "text",
        "id": "kt1Dvgiehjzc"
      },
      "source": [
        "**Daten aus PDF Import**\n",
        "\n",
        "Mit Pandas lassen sich leider keine Tabellen aus einem PDF importieren. Dafür gibt es aber ein Python Modul Names Tabula. Mit Tabula lassen sich neben Tabellen auch JSON (XML) Formate aus einem PDF extrahieren."
      ]
    },
    {
      "cell_type": "code",
      "metadata": {
        "colab_type": "code",
        "id": "UCRUgutiimoY",
        "colab": {}
      },
      "source": [
        "\"\"\"Im folgenden Beispiel importieren wir Daten aus einem in ein PDF\n",
        "konvertiertes Excel\"\"\" \n",
        "\n",
        "#! pip install tabula-py # Zuerst müssen wir das Modul installieren\n",
        "from tabula import *\n",
        "\n",
        "data_pdf = read_pdf(\"plaincrash_short.pdf\")\n",
        "data_pdf"
      ],
      "execution_count": 0,
      "outputs": []
    },
    {
      "cell_type": "code",
      "metadata": {
        "colab_type": "code",
        "id": "nJTvEdI5KakS",
        "colab": {}
      },
      "source": [
        "# In dem folgenden Beispiel wird gezeigt wie sich bestimmte Merkmale bzw. \n",
        "# Informationen über das Datenset herauslesen lassen.\n",
        "# Hier nochmal das Beispiel der kalifornischen Volkszählung\n",
        "\n",
        "import pandas as pd\n",
        "\n",
        "housing_data = pd.read_csv('https://raw.githubusercontent.com/ageron/handson-ml/master/datasets/housing/housing.csv')\n",
        "\n",
        "# Gibt die Spaltennamen, Anzahl Zeilen, Anzahl Werte ungleich Null und Datentyp aus\n",
        "housing_data.info()\n",
        "\n",
        "# Zählt Anzahl Datenwerte einer bestimmten Spalte\n",
        "housing_data[\"ocean_proximity\"].value_counts()\n",
        "\n",
        "# Mit der folgenden Methode lassen sich die numerischen Merkmale zusammenfassen\n",
        "housing_data.describe()\n",
        "\n"
      ],
      "execution_count": 0,
      "outputs": []
    },
    {
      "cell_type": "markdown",
      "metadata": {
        "colab_type": "text",
        "id": "c-2548CDBBC3"
      },
      "source": [
        "**Verschieden Merge & Join Typen**\n",
        "\n",
        "Bevor wir uns nun dem Beispielen für eine Datenzusammenführung (merge) und -verbindung (join) widmen. Ist es wichtigt die verschiedenen Arten der Zusammenführung zu verstehen. Nachfolgend eine kleine Übersicht:\n",
        "\n",
        "![alt text](https://shanelynnwebsite-mid9n9g1q9y8tt.netdna-ssl.com/wp-content/uploads/2017/03/join-types-merge-names.jpg)\n",
        "\n",
        "***Inner Merge / Inner Join***\n",
        "\n",
        "Hiermit werden nur die Werte von zwei Datensätzen zusammengeführt, für welche auf beiden Seiten Werte bestehen. Dabei wir mittels \"on\" die zu referenzierende Spalte angegeben bzw. das Set der Werte angegeben für welche es auch bei zweiten Datensatz Werte geben muss. Pandas Code:\n",
        "\n",
        "      pandas.merge(Datensatz1, Datensatz2, on= 'Ref.Spalte')\n",
        "\n",
        "Diese Art der Zusammenführung oder Verbindung ist bei Pandas (wie auch SQL) Standard d.h. wenn keine weiternen Optionen angegeben werden führt Pandas zwei Datensätze mit dieser Art zusammen.\n",
        "\n",
        "***Outer Merge / Outer Join***\n",
        "\n",
        "Mit dem Outer Join/Merge werden sämtlche Datensätze beider Seiten zusammengeführt, ungeachtet dessen ob auf beiden Seiten ein Wert besteht. Wo kein Wert besteht wird der Platzhalter \"NaN\" eingefügt. Pandas Code:\n",
        "\n",
        "      pandas.merge(Datensatz1, Datensatz2, on= 'Ref.Spalte', how = 'outer')\n",
        "\n",
        "***Left Merge / Left outer join***\n",
        "\n",
        "Hierbei werden die Spalten und Werte des linken Datensatzes behalten und durch Daten des rechten Datensatzes ergänzt oder mit NaN aufgefüllt.\n",
        "\n",
        "     pandas.merge(Datensatz_Links, Datensatz_Rechts, on='Ref.Spalte', how = 'left')\n",
        "\n",
        "***Right Merge / Right outer join***\n",
        "\n",
        "Hierbei werden die Spalten und Werte des rechten Datensatzes behalten und durch Daten des linken Datensatzes ergänzt oder mit NaN aufgefüllt.\n",
        "\n",
        "     pandas.merge(Datensatz_Links, Datensatz_Rechts, on='Ref.Spalte', how = 'right')\n",
        "\n",
        "***Hinweis***: Mit dem Argument **on=** definieren ich die Spalten, welche in beiden Datensätzen bestehen mittels welchen zusammengeführt wird. Sobald der Output etwas wie das ausgibt **_x** oder **_y**, kann davon ausgegangen werden, dass eine Feature sowohl im einen wie auch im anderen Datensatz besteht. \n",
        "\n",
        "Link: https://www.shanelynn.ie/merge-join-dataframes-python-pandas-index-1/"
      ]
    },
    {
      "cell_type": "markdown",
      "metadata": {
        "colab_type": "text",
        "id": "5ApkSB4Hc3Ac"
      },
      "source": [
        "**Zusammenführen, Verbinden und Verketten**\n",
        "\n",
        "Mit Pandas lassen sich Daten aus verschiedene Tabellen bzw. Dataframes einfach Zusammenführen (Merge), Verbinden (Join) oder Verketten (Concatenate)\n",
        "\n",
        "Link: https://pandas.pydata.org/pandas-docs/stable/user_guide/merging.html"
      ]
    },
    {
      "cell_type": "code",
      "metadata": {
        "colab_type": "code",
        "id": "crbFhnrYYN3W",
        "colab": {}
      },
      "source": [
        "# Haben wir Daten in zwei verschiedene Dataframes importiert, dann\n",
        "# können diese Einfach miteinander verketten werden.\n",
        "\n",
        "import pandas as pd\n",
        "import numpy as np\n",
        "\n",
        "''' Zuerst erstellen wir zwei Dataframes mittels zwei 2D Arrays mit \n",
        "Hilfe der Random Funkton von Numpy'''\n",
        "\n",
        "df1d2 = pd.DataFrame (np.random.rand(100,2), columns=['A','B'])\n",
        "df2d2 = pd.DataFrame (np.random.rand(100,2), columns=['C','D'])\n",
        "\n",
        "'''Nun führen wir diese zwei Dataframes mit Hilfe der Concat Funktion \n",
        "zusammen'''\n",
        "\n",
        "df3d2 = pd.concat([df1d2,df2d2], axis=1)\n",
        "\n",
        "df3d2\n"
      ],
      "execution_count": 0,
      "outputs": []
    },
    {
      "cell_type": "code",
      "metadata": {
        "colab_type": "code",
        "id": "12AzVLoPSvYF",
        "colab": {}
      },
      "source": [
        "#Im folgenden Beispiel führen wir die Datensätze mit Hilfe von MERGE \n",
        "# zusammen\n",
        "\n",
        "import numpy as np\n",
        "import pandas as pd\n",
        "\n",
        "left = pd.DataFrame({'Key': ['K0', 'K1', 'K2', 'K3','K4'], \n",
        "                    'A': ['A0', 'A1', 'A2', 'A3', 'A4'],\n",
        "                    'B': ['B0', 'B1', 'B2', 'B3', 'B4']}) \n",
        "  \n",
        "right = pd.DataFrame({'Key': ['K6', 'K1', 'K2', 'K3','K4'], \n",
        "                      'A': ['A5', 'A1', 'A2', 'A3', 'A4'],\n",
        "                      'C': ['C0', 'C1', 'C2', 'C3', 'C4'], \n",
        "                      'D': ['D0', 'D1', 'D2', 'D3', 'D4']}) \n",
        "                        \n",
        "# Merging the dataframes                       \n",
        "dfm1 = pd.merge(left, right, how ='inner', on= ['Key','A'])\n",
        "print ('Datensatz nach Inner merge: \\n', dfm1.head())\n",
        "\n",
        "dfm2 = pd.merge(left, right, how ='outer', on= ['Key','A']).fillna('unknown')\n",
        "print ('Datensatz nach Outer merge: \\n', dfm2.head())\n",
        "\n",
        "dfm3 = pd.merge(left, right, how ='left', on=['Key', 'A']).fillna('unknown')\n",
        "print ('Datensatz nach Left merge: \\n', dfm3.head())\n",
        "\n",
        "dfm4 = pd.merge(left, right, how ='left', on=['Key','A']).fillna('unknown')\n",
        "print ('Datensatz nach Right merge: \\n', dfm4.head())"
      ],
      "execution_count": 0,
      "outputs": []
    },
    {
      "cell_type": "code",
      "metadata": {
        "colab_type": "code",
        "id": "Xa_XxPmgWvxm",
        "colab": {}
      },
      "source": [
        "#Im folgenden Beispiel führen wir die Datensätze mit Hilfe von JOIN \n",
        "# zusammen\n",
        "\n",
        "import numpy as np\n",
        "import pandas as pd\n",
        "\n",
        "left = pd.DataFrame({'A': ['A0', 'A1', 'A2', 'A3'], \n",
        "                    'B': ['B0', 'B1', 'B2', 'B3']}, \n",
        "                    index = ['K0', 'K1', 'K2', 'K3']) \n",
        "  \n",
        "right = pd.DataFrame({'C': ['C0', 'C1', 'C2', 'C3'], \n",
        "                      'D': ['D0', 'D1', 'D2', 'D3']}, \n",
        "                      index = ['K0', 'K1', 'K2', 'K3'])\n",
        "                        \n",
        "# join the dataframes                       \n",
        "dfm1 = left.join(right)\n",
        "print ('Datensatz nach Inner merge: \\n', dfm1.head())\n",
        "                    \n",
        "dfm2 = right.join(left)\n",
        "print ('Datensatz nach Inner merge: \\n', dfm2.head())\n"
      ],
      "execution_count": 0,
      "outputs": []
    },
    {
      "cell_type": "markdown",
      "metadata": {
        "colab_type": "text",
        "id": "wqSVy5fNVpvR"
      },
      "source": [
        "**Ändern, Ersetzen, Einfügen und Löschen**\n",
        "\n",
        "Mit Pandas können einzelne oder mehrere Werte, Spalten und Zeilen verändern, ersetzen, hinzufügen oder gar löschen.\n",
        "\n",
        "Siehe nachfolgend ein paar Beispiele:\n"
      ]
    },
    {
      "cell_type": "code",
      "metadata": {
        "colab_type": "code",
        "id": "eDP0CUGAMFWj",
        "colab": {}
      },
      "source": [
        "# Mit Pandas lassen sich auch Daten in verschiedene Formate konvertieren\n",
        "\n",
        "import pandas as pd # Zuerst muss die Library geladen geladen werden\n",
        "\n",
        "\n",
        "# from .csv\n",
        "data = pd.read_csv(\"https://raw.githubusercontent.com/sakuronohana/my_datascience/master/planecrashinfo.csv\") # nun lesen wir ein csv\n",
        "\n",
        "# Konverterien bestimmter Spalten in String\n",
        "data['time'] = data['time'].astype('str')\n",
        "\n",
        "# Konvertieren von bestimmten Spalten in Integer\n",
        "# data['ground'] = data['ground'].fillna(-1).astype(int)\n",
        "\n",
        "# Konvertieren von bestimmten Spalten in Numeric\n",
        "# data['time'] = pd.to_numeric(data['time'])\n",
        "\n",
        "data.head(5)\n",
        "\n"
      ],
      "execution_count": 0,
      "outputs": []
    },
    {
      "cell_type": "code",
      "metadata": {
        "colab_type": "code",
        "id": "fN7Nmc1_3pq2",
        "colab": {}
      },
      "source": [
        "# Wir können aus ein durch Panda importiertes Datenset bestimmte Werte \n",
        "# auslesen.\n",
        "\n",
        "import pandas as pd # Zuerst muss die Library geladen geladen werden\n",
        "\n",
        "\n",
        "# from .csv\n",
        "data = pd.read_csv(\"https://raw.githubusercontent.com/sakuronohana/my_datascience/master/planecrashinfo.csv\") # nun lesen wir ein csv\n",
        "\n",
        "# Nachfolgend lesen wir einen bestimmten Wert aus der Spalte operator\n",
        "# aus der das Wort Military beinhaltet.\n",
        "\n",
        "data_selc = data['operator'].where(data['operator'] != 'Military')\n",
        "\n",
        "\n",
        "data_selc.head(10)"
      ],
      "execution_count": 0,
      "outputs": []
    },
    {
      "cell_type": "code",
      "metadata": {
        "colab_type": "code",
        "id": "7yLBfF7SRGtu",
        "colab": {}
      },
      "source": [
        "# Bei der Datenselektion mit Pandas lassen sich bestimmte Werte in Spalten\n",
        "# löschen. Hierzu wird drop verwendet.\n",
        "\n",
        "import pandas as pd # Zuerst muss die Library geladen geladen werden\n",
        "\n",
        "\n",
        "# from .csv\n",
        "data = pd.read_csv(\"https://raw.githubusercontent.com/sakuronohana/my_datascience/master/planecrashinfo.csv\") # nun lesen wir ein csv\n",
        "\n",
        "\n",
        "value_list = ['Private'] # Liste \n",
        "null_value_list = ['?']\n",
        "\n",
        "# Mit .drop können unnötige Informationen wir folgt ausblendet werden\n",
        "data = data.drop(\"time\", axis=1) # Ganze Spalten\n",
        "data1 = data.drop(data.index[2:4]) # Einzelen oder mehrere Zeilen\n",
        "# :4 = bis und mit Zeile 3, 4: = Ab Zeile 4, 2:4 = Zeile 2 und 3 etc.\n",
        "data2 = data.operator != 'Private' # Zeigt die Anzahl Zeilen mit True or Flase\n",
        "data3 = data[data.operator.isin(value_list)] # Nur Zeilen mit Werten aus Liste\n",
        "data4 = data[~data.operator.isin(null_value_list)] # Nur Zeilen mit Werten aus Liste\n",
        "\n",
        "# mit .head werden die ersten 5 Zeilen angezeigt, dass genügt um zu \n",
        "# überprüfen ob er Import funktioniert.\n",
        "data4.head()\n"
      ],
      "execution_count": 0,
      "outputs": []
    },
    {
      "cell_type": "code",
      "metadata": {
        "colab_type": "code",
        "id": "6OPInxUmWooL",
        "colab": {}
      },
      "source": [
        "# Das folgende Beispiel zeigt, wie man mit Pandas Werte in einem Datenset\n",
        "# ändern kann.\n",
        "\n",
        "import pandas as pd # Zuerst muss die Library geladen geladen werden\n",
        "\n",
        "\n",
        "# from .csv\n",
        "data = pd.read_csv(\"https://raw.githubusercontent.com/sakuronohana/my_datascience/master/planecrashinfo.csv\") # nun lesen wir ein csv\n",
        "\n",
        "# Nachfolgend ersetzen wir einen bestimmten Wert im Dataset durch einen\n",
        "# anderen.\n",
        "\n",
        "data_rep = data.replace('?', 'Unknown')\n",
        "\n",
        "data_rep.head(10)"
      ],
      "execution_count": 0,
      "outputs": []
    },
    {
      "cell_type": "code",
      "metadata": {
        "colab_type": "code",
        "id": "lOuW98XKeeje",
        "colab": {}
      },
      "source": [
        "# Das folgende Beispiel zeigt, wie man mit Pandas eine neue Spalte erstellt.\n",
        "\n",
        "import pandas as pd # Zuerst muss die Library geladen geladen werden\n",
        "\n",
        "\n",
        "# from .csv\n",
        "data = pd.read_csv(\"https://raw.githubusercontent.com/sakuronohana/my_datascience/master/planecrashinfo.csv\") # nun lesen wir ein csv\n",
        "\n",
        "# Nachfolgend erstellen wir eine neue Spalte und fügen Werte in die\n",
        "# Datenfelder\n",
        "\n",
        "data['casualties'] = 'n.a'\n",
        "\n",
        "data.head(10)"
      ],
      "execution_count": 0,
      "outputs": []
    },
    {
      "cell_type": "code",
      "metadata": {
        "colab_type": "code",
        "id": "OyH_25YGwWMb",
        "colab": {}
      },
      "source": [
        "# Das folgende Beispiel zeigt, wie man mit Pandas eine bestehende \n",
        "# Spalte löschen kann.\n",
        "\n",
        "import pandas as pd # Zuerst muss die Library geladen geladen werden\n",
        "\n",
        "\n",
        "# from .csv\n",
        "data = pd.read_csv(\"https://raw.githubusercontent.com/sakuronohana/my_datascience/master/planecrashinfo.csv\") # nun lesen wir ein csv\n",
        "\n",
        "# Nun löschen wir eine Spalte\n",
        "\n"
      ],
      "execution_count": 0,
      "outputs": []
    },
    {
      "cell_type": "markdown",
      "metadata": {
        "colab_type": "text",
        "id": "slK3uZPcqZ4I"
      },
      "source": [
        "**Korrelation**\n",
        "\n",
        "Im Rahmen der Vorbereitungen zur Umsetzung eines ML-Projektes werden die beschafften Daten erkundet und in diesem Zusammenhang visualisiert um eine Korrelation bzw. Beziehung zwischen den verschiedenen Merkmalen herauszufinden."
      ]
    },
    {
      "cell_type": "code",
      "metadata": {
        "colab_type": "code",
        "id": "oLC74_01rhMU",
        "colab": {}
      },
      "source": [
        "'''Um eine Korrelation zwischen den Daten optimal zu visualisieren\n",
        "eignet sich die Scatter_matrix von Panda am besten.'''\n",
        "\n",
        "import pandas as pd\n",
        "from pandas.plotting import scatter_matrix\n",
        "\n",
        "housing_data = pd.read_csv('https://raw.githubusercontent.com/ageron/handson-ml/master/datasets/housing/housing.csv')\n",
        "\n",
        "'''Nachfolgend nehmen wir die vier Merkmale aus dem importierten Datensat\n",
        "in welchen wir eine Korrelation suchen möchten'''\n",
        "attributes = [\"median_house_value\", \"median_income\", \"total_rooms\",\n",
        "             \"housing_median_age\"]\n",
        "scatter_matrix(housing_data[attributes], figsize=(12,8))"
      ],
      "execution_count": 0,
      "outputs": []
    },
    {
      "cell_type": "markdown",
      "metadata": {
        "colab_type": "text",
        "id": "gLu6QrG4-1WA"
      },
      "source": [
        "###Numpy###\n",
        "NumPy ist eine Programmbibliothek für die Programmiersprache Python, die eine einfache Handhabung von Vektoren, Matrizen oder generell großen mehrdimensionalen Arrays ermöglicht. Neben den Datenstrukturen bietet NumPy auch effizient implementierte Funktionen für numerische Berechnungen an.\n",
        "\n",
        "Hier noch der Link zum Cheat Sheet Numpy (https://s3.amazonaws.com/assets.datacamp.com/blog_assets/Numpy_Python_Cheat_Sheet.pdf)"
      ]
    },
    {
      "cell_type": "markdown",
      "metadata": {
        "colab_type": "text",
        "id": "yRD0MLrfR13-"
      },
      "source": [
        "**Arrays in Numpy**\n",
        "\n",
        "Die Hauptspezialität von Numpy ist der Umgang mit Arrays. Arrays sind Listen in welchen sich eine Vielzahl von Werten in einer einzigen Variablen zusammenfassen lassen.  \n",
        "\n",
        "Hier noch einmal zu Erinnerung wie sich die Arrays gestalten:\n",
        "\n",
        "![alt text](https://cdn-images-1.medium.com/max/2000/1*Ikn1J6siiiCSk4ivYUhdgw.png)"
      ]
    },
    {
      "cell_type": "code",
      "metadata": {
        "colab_type": "code",
        "id": "12_ST2gDRccB",
        "colab": {}
      },
      "source": [
        "# Nachfolgend ein Beispiel wie einfach Arrays mit Numpy erstellt werden können\n",
        "\n",
        "import numpy as np\n",
        "\n",
        "'''Erstellt einen Array mit 3 Zeilen und 5 Spalten aufgefüllt mit Nullen\n",
        "\"a0\" oder Einsen \"a1\"'''\n",
        "a0 = np.zeros([3,5])\n",
        "a1 = np.ones([3,5])\n",
        "\n",
        "'''Hier ein Beispiel eines 1D Array definiert als Integer'''\n",
        "ad1 = np.array([1,2,3,4,5,6,7], dtype = int)\n",
        "\n",
        "'''Hier ein Beispiel eines 2D Array als Dtype String definiert'''\n",
        "ad2 = np.array([(1,2,3,4),('a','b','c','d')], dtype = np.str) # 2D Array\n",
        "print('Hier ein 2D Array:', ad2)\n",
        "\n",
        "# Abfrage der Anzahl Zeilen und Spalten ein Arrays\n",
        "print(\"Der Array hat folgende Anzahl Zeilen,Spalten:\", np.shape(ad2))\n",
        "\n",
        "# Abfrage der Dimension des Arrays\n",
        "print('Der Array hat folgende Anzahl an Dimensionen:',np.ndim(ad2))\n",
        "\n",
        "# Abfrage der Anzahl Datenwerte in einem Array\n",
        "print('Der Array hat folgende Anzahl Datenwerte (Spalte * Zeilen):', np.size(ad2))\n",
        "\n",
        "# Abfrage des Datentypes im Array\n",
        "print('Der Array hat folgenden Datentype definiert:', ad2.dtype.name)\n",
        "\n"
      ],
      "execution_count": 0,
      "outputs": []
    },
    {
      "cell_type": "code",
      "metadata": {
        "colab_type": "code",
        "id": "YAgc3WMEKJNh",
        "colab": {}
      },
      "source": [
        "''' In den folgenden Beispielen werden wir noch Numpy Operationen kennen-\n",
        "lernen mit welchen man Arrays mutieren kann''' \n",
        "\n",
        "import numpy as np\n",
        "\n",
        "a2d = np.array([(2,4,6),(20,40,60)])\n",
        "\n",
        "'''Die Änderung der Struktur (Shape) eines Arrays kann nur in Zusammenhang mit  \n",
        "einer Erweitung der möglich Datenelemente durchgeführt werden'''\n",
        "\n",
        "np.size(a2d)\n",
        "np.arange(9).reshape(3,3)\n",
        "\n"
      ],
      "execution_count": 0,
      "outputs": []
    },
    {
      "cell_type": "code",
      "metadata": {
        "colab_type": "code",
        "id": "YVuoPfxfSie4",
        "colab": {}
      },
      "source": [
        "# Numpy eignet sich auch ausgezeichnet zur Erstellung von Zufallszahlen'''\n",
        "\n",
        "import numpy as np\n",
        "import pandas as pd\n",
        "\n",
        "\n",
        "# Erstellung von 1D Array mit Random-Generator von Numpy\n",
        "ard0 = np.random.rand(100,1)\n",
        "\n",
        "# Erstellung 2D Array mit Random-Generator von Numpy\n",
        "ard2 = np.random.rand(100,2)\n",
        "\n",
        "''' Wir können auch gleich ein Dataframe aus dem 2D Array generieren, damit wir\n",
        "wir die Daten in einer Tabelle darstell können'''\n",
        "dfd2 = pd.DataFrame(np.random.rand(100,2), columns = ['Y','X'])\n",
        "\n",
        "dfd2"
      ],
      "execution_count": 0,
      "outputs": []
    },
    {
      "cell_type": "code",
      "metadata": {
        "colab_type": "code",
        "id": "T6zug3pGX-GV",
        "colab": {}
      },
      "source": [
        "# Wir können auf jedes Element des Arrays zugreifen.\n",
        "\n",
        "import numpy as np\n",
        "\n",
        "a2d = np.array([(1,2,3,4),(10,20,30,40)])\n",
        "print(a2d)\n",
        "\n",
        "# Zugriff auf einen Wert in einer bestimmten Zeile/Spalte\n",
        "print (\"Zugriff auf den Datenwert in der Zeile 0, Spalte 1 gibt den Wert:\", a2d[0,1])\n",
        "\n",
        "# Zugriff auf alle Werte in der Spalte 1\n",
        "a2d[0:,0]\n"
      ],
      "execution_count": 0,
      "outputs": []
    },
    {
      "cell_type": "code",
      "metadata": {
        "colab_type": "code",
        "id": "y_MfDgh4ebsu",
        "colab": {}
      },
      "source": [
        "# Ein geniale Methode um bestimmte Wert aus einem Array zu löschen geht so :\n",
        "\n",
        "import numpy as np\n",
        "\n",
        "a2d = np.array([(1,2,3,4),(10,20,30,40)])\n",
        "print(a2d)\n",
        "\n",
        "a2d = np.setdiff1d(a2d, 2)\n",
        "print (a2d) # Das 2 wurde gelöscht"
      ],
      "execution_count": 0,
      "outputs": []
    },
    {
      "cell_type": "markdown",
      "metadata": {
        "colab_type": "text",
        "id": "fkQICptMC81U"
      },
      "source": [
        "**Mathematische Operationen mit Numpy**\n",
        "\n",
        "Zu den Kernkompetenzen von Numpy gehören mathematischne Operationen mit Arrays."
      ]
    },
    {
      "cell_type": "code",
      "metadata": {
        "colab_type": "code",
        "id": "4M4mtM7BE4RQ",
        "colab": {}
      },
      "source": [
        "\n",
        "import numpy as np\n",
        "import pandas as pd\n",
        "\n",
        "ard2 = np.random.rand(100,2)\n",
        "ard2m = pd.DataFrame(ard2, columns=['X', 'Y'])\n",
        "\n",
        "np.subtract(ard2m)"
      ],
      "execution_count": 0,
      "outputs": []
    },
    {
      "cell_type": "markdown",
      "metadata": {
        "colab_type": "text",
        "id": "8dzOTXKaZoAL"
      },
      "source": [
        "**Spezielle Numpy Funktionen**\n",
        "\n",
        "Numpy hat natürlich unzählige wertvolle  Funktionen. Nachfolgend ein paar Beispiele:"
      ]
    },
    {
      "cell_type": "code",
      "metadata": {
        "colab_type": "code",
        "id": "6QUSONPcaajI",
        "colab": {}
      },
      "source": [
        "# Mit Numpy lassen sich randomisierte Daten leicht erzeugen.\n",
        "\n",
        "import pandas as pd\n",
        "import numpy as np\n",
        "\n",
        "# Datenframe erstellen\n",
        "# Startwert für Ergebnisse setzen\n",
        "\n",
        "np.random.seed(25)\n",
        "\n",
        "''' Nachfolgenden wird ein 2D-Array mit 3 Spalten und jeweils 10 Werte\n",
        "generierte'''\n",
        "\n",
        "df = pd.DataFrame(np.random.rand(10, 3), columns = ['A', 'B', 'C'])\n",
        "\n",
        "# Füllt die letzte Zeile mit Not a Number (NaN) Werte auf \n",
        "df.iloc[-1] = np.nan\n",
        "df\n",
        "# Addiert jeweils den Wert 1 und die Felder mit NaN mit zusätzlich 9\n",
        "df.add(1,fill_value = 9)"
      ],
      "execution_count": 0,
      "outputs": []
    },
    {
      "cell_type": "markdown",
      "metadata": {
        "colab_type": "text",
        "id": "eYmhm6e1z295"
      },
      "source": [
        "###MatPotLib###\n",
        "\n",
        "Wenn es um die Visualisierung analysierter Daten geht, dann kommt man an MatPlotLib nicht vorbei. Die Visualisierung lässt sich mit dieser Library sehr einfach bewerkstelligen.\n"
      ]
    },
    {
      "cell_type": "code",
      "metadata": {
        "colab_type": "code",
        "id": "x4pEH8rlH3Fh",
        "colab": {}
      },
      "source": [
        "# Im folgenden Plot wird ein Linien-Diagramm definiert\n",
        "\n",
        "import  matplotlib.pyplot as plt\n",
        "\n",
        "# Wir definieren eine Datenrange für die x und y\n",
        "x = [1,2,3]\n",
        "y = [5,7,4]\n",
        "\n",
        "x2 = [1,2,3]\n",
        "y2 = [10,14,12]\n",
        "\n",
        "# Wir \n",
        "plt.plot(x,y, label='First Line') \n",
        "plt.plot(x2,y2, label='Second Line')\n",
        "plt.xlabel('Plot Number')\n",
        "plt.ylabel('Important Var')\n",
        "\n",
        "plt.title('Interesting Graph\\nCheck it out')\n",
        "plt.legend()\n",
        "plt.show()\n"
      ],
      "execution_count": 0,
      "outputs": []
    },
    {
      "cell_type": "code",
      "metadata": {
        "colab_type": "code",
        "id": "_7rw7gb6Fzch",
        "colab": {}
      },
      "source": [
        "# Es gibt eine einfache Möglichkeit alle Daten in einem Datensatz in sogenannten\n",
        "# Histogramme darzustellen. Mit einem Histogramm lässt sich eine einfache Überblick\n",
        "# über die Datenverteilung pro Spalte erstellen.\n",
        "\n",
        "import pandas as pd\n",
        "import matplotlib.pyplot as plt\n",
        "\n",
        "housing_data = pd.read_csv('https://raw.githubusercontent.com/ageron/handson-ml/master/datasets/housing/housing.csv')\n",
        "\n",
        "housing_data.hist(bins=50, figsize=(20,15))\n",
        "plt.show()"
      ],
      "execution_count": 0,
      "outputs": []
    },
    {
      "cell_type": "markdown",
      "metadata": {
        "colab_type": "text",
        "id": "Ud9hPlPoyqDE"
      },
      "source": [
        "##Scikit-Learn##\n",
        "\n",
        "Für das Maschinelle Lernen existieren im Python spezielle Module in welchen bestimmte ML-Modelle bereits abgebildet sind und ein paar Datensets für das Training  hinterlegt sind."
      ]
    },
    {
      "cell_type": "code",
      "metadata": {
        "colab_type": "code",
        "id": "0v7PEAe7JtTb",
        "colab": {}
      },
      "source": [
        "# Um ein Datenset mit Hilfe von Scikit zu laden muss wie folgt vorgegangen werden\n",
        "from sklearn import datasets # Ermöglicht Zugriff auf Sample Dataset\n",
        "from sklearn import svm # Läd den Estimator Support vector classifcation\n",
        "iris = datasets.load_iris() # Iris ist ein Sample Dataset von Scikit\n",
        "digits = datasets.load_digits() # Ist ebenfalls ein Sample Dataset\n",
        "\n",
        "clf = svm.SVC(gamma=0.001, C=100.)"
      ],
      "execution_count": 0,
      "outputs": []
    },
    {
      "cell_type": "markdown",
      "metadata": {
        "colab_type": "text",
        "id": "mA7BOCQjF9CK"
      },
      "source": [
        "### Erstellung eines Train- & Testdatensets###"
      ]
    },
    {
      "cell_type": "markdown",
      "metadata": {
        "colab_type": "text",
        "id": "VsEagM47IEPh"
      },
      "source": [
        "**Methode mit Zufallsgenerator**"
      ]
    },
    {
      "cell_type": "code",
      "metadata": {
        "colab_type": "code",
        "id": "YNvKTpA7Ez3D",
        "colab": {}
      },
      "source": [
        "'''Scikit-Learn eignet sich sehr gut für die Splitung eines Train- & Testdatensets\n",
        "Vorallem überzeugt die sehr einfach Methode der Zufallsgereration welche\n",
        "im Gegensatz zu anderen Methoden immer die gleichen Sets generiert.''' \n",
        "\n",
        "import pandas as pd\n",
        "from sklearn.model_selection import train_test_split\n",
        "\n",
        "housing_data = pd.read_csv('https://raw.githubusercontent.com/ageron/handson-ml/master/datasets/housing/housing.csv')\n",
        "\n",
        "'''In dieser Funktion erstellen wir ein Trainings- und Testset aus den\n",
        "aus den geladenen Daten. \n",
        "\n",
        "Der Wert test_size=0.2 representiert 20%, bedeutet also das 20% der bestehenden \n",
        "Daten als Testset verwendet wird. Der Wert random_state definiert den Seed\n",
        "und garantiert, dass immer das gleiche Testset generiert wird. Wird der Wert\n",
        "geändert dann verändert sich auch das Testset.'''\n",
        "\n",
        "train_set, test_set = train_test_split(housing_data, test_size=0.2, random_state=42)\n",
        "\n",
        "print(len(train_set),len(test_set))\n",
        "\n",
        "train_set.head()\n",
        "\n",
        "# Der Vorteil dieser Methode ist, das ein gleichbleibende Zufallauswahl von \n",
        "# Testdaten generiert wird. Der Nachteil ist, dass wir nicht wissen wie aus \n",
        "# Sicht der Merkmale das Datenset aufgeteilt wurden. Da es bei einer einseitigen\n",
        "# Verteilung eines kleinen Datensets wie diesem zu erhebelichem Stichproben-\n",
        "# Bias kommen kann\n"
      ],
      "execution_count": 0,
      "outputs": []
    },
    {
      "cell_type": "markdown",
      "metadata": {
        "colab_type": "text",
        "id": "ZgwIrcjEIS0v"
      },
      "source": [
        "**Methode mit merkmalbasierter Auswahl**"
      ]
    },
    {
      "cell_type": "code",
      "metadata": {
        "colab_type": "code",
        "id": "gKQjM1FtIhgs",
        "colab": {}
      },
      "source": [
        "'''Im folgenden Beispiel generieren wir Train- & Testdatenset aus Merkmalen\n",
        "um einen Stichproben-Bias zu vermeiden.'''\n",
        "\n",
        "import pandas as pd\n",
        "import numpy as np\n",
        "from sklearn.model_selection import StratifiedShuffleSplit\n",
        "\n",
        "housing_data = pd.read_csv('https://raw.githubusercontent.com/ageron/handson-ml/master/datasets/housing/housing.csv')\n",
        "\n",
        "'''Zuerst erstellen wir eine kategorisches Merkmal für das Einkommen indem\n",
        "wir das mittlere Einkommen (median_income) durch 1.5 teilen damit wir die Anzahl\n",
        "der Einkommenskategorien begrenzt'''\n",
        "\n",
        "housing_data[\"income_cat\"] = np.ceil(housing_data[\"median_income\"] / 1.5)\n",
        "housing_data[\"income_cat\"].where(housing_data[\"income_cat\"] < 5, 5.0, inplace=True)\n",
        "\n",
        "\n",
        "split = StratifiedShuffleSplit(n_splits=1, test_size=0.2, random_state=42)\n",
        "for train_index, test_index in split.split(housing_data, housing_data[\"income_cat\"]):\n",
        "  strat_train_set = housing_data.loc[train_index]\n",
        "  strat_test_set = housing_data.loc[test_index]\n",
        "\n",
        "housing_data[\"income_cat\"].value_counts() / len(housing_data)\n",
        "\n"
      ],
      "execution_count": 0,
      "outputs": []
    },
    {
      "cell_type": "markdown",
      "metadata": {
        "colab_type": "text",
        "id": "5TF8Z6afHZpm"
      },
      "source": [
        "##Feature Engineering##\n",
        "\n",
        "Ein wichtiger Aspekt der Datenaufbereitung ist das Verstehen der Daten uns deren Beziehungen. \n",
        "Nachfolgenden ein paar unerlässliche Operationen in Bezug auf die Datenaufbereitung. Wir werden hierzu Pandas verwenden."
      ]
    },
    {
      "cell_type": "markdown",
      "metadata": {
        "colab_type": "text",
        "id": "DZiyhxqvuE4s"
      },
      "source": [
        "###Extract, Transfer and Load (ETL)###\n",
        "\n",
        "Im nachfolgenden Beispiel werden werden wir folgende Schritte ausführen:\n",
        "\n",
        "1.   Verschiedene Datensätze aus CSV's laden\n",
        "2.   Die Datensätze vergleichen\n",
        "3.   Features aus verschiedenen Datensätzen zusammenführen\n",
        "4.   Die Zusammengeführten Datensätze wieder in ein CSV exportieren.\n",
        "\n"
      ]
    },
    {
      "cell_type": "code",
      "metadata": {
        "colab_type": "code",
        "id": "z7hK6Wfjt4Ki",
        "colab": {}
      },
      "source": [
        "#Zwei Datensätze laden#\n",
        "\n",
        "import pandas as pd\n",
        "import numpy as np\n",
        "import datetime\n",
        "\n",
        "daturl = 'https://raw.githubusercontent.com/sakuronohana/my_datascience/master/plane_crash_data.csv'\n",
        "\n",
        "dimport1 = pd.DataFrame(pd.read_csv(daturl))\n",
        "dimport2 = pd.DataFrame(pd.read_csv(daturl))\n"
      ],
      "execution_count": 0,
      "outputs": []
    },
    {
      "cell_type": "code",
      "metadata": {
        "colab_type": "code",
        "id": "AOYc-XiRxHP_",
        "colab": {}
      },
      "source": [
        "# Datensätze vergleichen #\n",
        "\n",
        "# Datentypen und Features prüfen\n",
        "# dimport1.info()\n",
        "# dimport2.info()\n",
        "\n",
        "# Datentypen wie Datum und Zeit anpassen\n",
        "dimport1['date'] = pd.to_datetime(dimport1['date']).dt.strftime('%d.%m.%Y')\n",
        "\n",
        "# Bestimmte Werte ersetzen\n",
        "dimport1 = dimport1.replace(to_replace='?', value ='')\n",
        "\n",
        "# Bestimmter Wert in Spalte suchen\n",
        "dimport1[dimport1['time'].str.contains('c', na=False)]# mit na=False werden NAN Werte ignoriert\n",
        "#dimport1[dimport1['time'].str.replace('c','')]\n",
        "\n",
        "         \n",
        "#dimport1['time'] = pd.Timestamp(dimport1['time']).time('%m:%h')"
      ],
      "execution_count": 0,
      "outputs": []
    },
    {
      "cell_type": "markdown",
      "metadata": {
        "colab_type": "text",
        "id": "T5IvrD7ow4Ts"
      },
      "source": [
        "##Sammeln von Daten##\n",
        "\n",
        "Nachfolgenden werden wir ein paar Methoden zur Datensammlung aufzeigen. Dabei erstellen wir selber Daten, Laden uns Daten mit Hilfe von Google aus dem Internet oder zeigen wo es grössere Datensammulungen zu verschiedenen Themen gibt."
      ]
    },
    {
      "cell_type": "markdown",
      "metadata": {
        "colab_type": "text",
        "id": "qNntcDOQxuMI"
      },
      "source": [
        "###Bilder selber herstellen###\n",
        "\n",
        "Es gibt verschieden Möglichkeiten Bilder für die das Trainieren eines Klassifikators zu erstellen.\n",
        "\n",
        "***Bilder mit Fotokamera erstellen***\n",
        "\n",
        "Diese Methode gehört wohl zur mühsamsten Art um Bilder selber herzustellen, da es für das Training eines Klassifikators tausende von Bildern braucht.\n",
        "\n",
        "***Bilder aus Video extrahieren***\n",
        "\n",
        "Ein guter Trick um in einer kurzen Zeit zu vielen Bildern zu gelangen ist ein Video eines Gegenstands zu drehen. Die einzelnen Bilder lassen sich dann mit dem Tool ffmpeg aus dem Video extrahieren:\n",
        "\n",
        "   *ffmpeg -i schale.mp4 schale%03d.jpg*\n",
        "\n"
      ]
    },
    {
      "cell_type": "markdown",
      "metadata": {
        "colab_type": "text",
        "id": "4H8Ea2zyHsNK"
      },
      "source": [
        "###Scraping (Sammeln) von Google Images###\n",
        "\n",
        "Google verfügt mittlerweilen über eine riesige Datenbank von Bildern, welche sich natürlich gut für das Training von Klassifikatoren (Neuronale Netzwerke) eignet.\n",
        "\n",
        "Nachfolgend kurz eine kleines Python-Script für die Sammlung von verschiedenen Bildern"
      ]
    },
    {
      "cell_type": "code",
      "metadata": {
        "colab_type": "code",
        "id": "yAXhWVUaF3O7",
        "colab": {}
      },
      "source": [
        "# importing google_images_download module\n",
        "from google_images_download import google_images_download\n",
        "\n",
        "# creating object \n",
        "response = google_images_download.googleimagesdownload()\n",
        "\n",
        "search_queries = ['Dogs', \n",
        "                  'Cats',]\n",
        "\n",
        "  \n",
        "def downloadimages(query): \n",
        "    # keywords is the search query \n",
        "    # format is the image file format \n",
        "    # limit is the number of images to be downloaded \n",
        "    # print urs is to print the image file url \n",
        "    # size is the image size which can \n",
        "    # be specified manually (\"large, medium, icon\") \n",
        "    # aspect ratio denotes the height width ratio \n",
        "    # of images to download. (\"tall, square, wide, panoramic\") \n",
        "    arguments = {\"keywords\": query, \n",
        "                 \"format\": \"jpg\", \n",
        "                 \"limit\":4, \n",
        "                 \"print_urls\":True, \n",
        "                 \"size\": \"medium\"} \n",
        "    try: \n",
        "        response.download(arguments) \n",
        "      \n",
        "    # Handling File NotFound Error     \n",
        "    except FileNotFoundError:  \n",
        "        arguments = {\"keywords\": query, \n",
        "                     \"format\": \"jpg\", \n",
        "                     \"limit\":4, \n",
        "                     \"print_urls\":True,  \n",
        "                     \"size\": \"medium\"} \n",
        "                       \n",
        "        # Providing arguments for the searched query \n",
        "        try: \n",
        "            # Downloading the photos based \n",
        "            # on the given arguments \n",
        "            response.download(arguments)  \n",
        "        except: \n",
        "            pass\n",
        "  \n",
        "# Driver Code \n",
        "for query in search_queries: \n",
        "    downloadimages(query)  \n",
        "    print()  "
      ],
      "execution_count": 0,
      "outputs": []
    }
  ]
}