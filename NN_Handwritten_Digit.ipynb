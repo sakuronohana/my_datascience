{
  "nbformat": 4,
  "nbformat_minor": 0,
  "metadata": {
    "colab": {
      "name": "NN - Handwritten Digit.ipynb",
      "version": "0.3.2",
      "provenance": [],
      "collapsed_sections": [],
      "include_colab_link": true
    },
    "kernelspec": {
      "name": "python3",
      "display_name": "Python 3"
    }
  },
  "cells": [
    {
      "cell_type": "markdown",
      "metadata": {
        "id": "view-in-github",
        "colab_type": "text"
      },
      "source": [
        "<a href=\"https://colab.research.google.com/github/sakuronohana/my_datascience/blob/master/NN_Handwritten_Digit.ipynb\" target=\"_parent\"><img src=\"https://colab.research.google.com/assets/colab-badge.svg\" alt=\"Open In Colab\"/></a>"
      ]
    },
    {
      "metadata": {
        "id": "llXPCaQ3xHtw",
        "colab_type": "code",
        "colab": {}
      },
      "cell_type": "code",
      "source": [
        "import numpy as np\n",
        "\n",
        "net = Network/([2,3,1])\n",
        "\n",
        "\n",
        "class Network(object):\n",
        "  \n",
        "  def __init__(self, sizes): # Sizes represents the number of neurons\n",
        "    self.num_layers = len(sizes)\n",
        "    self.sizes = sizes\n",
        "    self.biases = [np.random.randn(y, 1) for y in sizes[1:]]\n",
        "    self.weights = [np.random.randn(y, x)\n",
        "                    for x, y in zip(sizes[:-1], sizes[1:])]\n",
        "  \n",
        "  def feedforward(self, a):\n",
        "    \"\"\"Return the output of the network if \"a\" is input\"\"\"\n",
        "    for b, w in zip(self.biases, self.weights):\n",
        "      a = sigmoid(np.dot(w,a)+b)\n",
        "    return a\n",
        "  \n",
        "  def SGD(self, training_data, epochs, mini_batch, eta, test_data=None):\n",
        "  \"\"\"Train the neural network using mini-batch stochastic\n",
        "        gradient descent.  The \"training_data\" is a list of tuples\n",
        "        \"(x, y)\" representing the training inputs and the desired\n",
        "        outputs.  The other non-optional parameters are\n",
        "        self-explanatory.  If \"test_data\" is provided then the\n",
        "        network will be evaluated against the test data after each\n",
        "        epoch, and partial progress printed out.  This is useful for\n",
        "        tracking progress, but slows things down substantially.\"\"\"\n",
        "    if test_train: n_test = len(test_data)\n",
        "    n = len(training_data)\n",
        "    for j in xrange(epochs):\n",
        "      random.shuffle(training_data)\n",
        "      mini_batches = [\n",
        "          training_data[k:k+mini_batch_size]\n",
        "          for k in xrange(0, n, mini_batch_size)]\n",
        "      for mini_batch in mini_batches:\n",
        "        self.update_mini_batch(mini_batch, eta)\n",
        "      if test_data:\n",
        "        print \"Epoch {0}: {1} / {2}\".format(\n",
        "        j, self.evaluate(test_data), n_test)\n",
        "      else:\n",
        "        print \"Epoch {0} complete\".format(j)\n",
        "      \n",
        "  \n",
        "  # Function\n",
        "  \n",
        "  def sigmoid(z):\n",
        "    return 1.0/(1.0+np.exp(-z))\n",
        "  \n",
        "    "
      ],
      "execution_count": 0,
      "outputs": []
    },
    {
      "metadata": {
        "id": "TDLIJuRwdEps",
        "colab_type": "text"
      },
      "cell_type": "markdown",
      "source": [
        "**Just to Test**"
      ]
    },
    {
      "metadata": {
        "id": "eJUlk2F43zOI",
        "colab_type": "code",
        "outputId": "08274220-6cdd-4ce1-c5ca-c984a2dc497e",
        "colab": {
          "base_uri": "https://localhost:8080/",
          "height": 68
        }
      },
      "cell_type": "code",
      "source": [
        "import numpy as np\n",
        "# Function\n",
        "  \n",
        "def sigmoid(z):\n",
        "   return 1.0/(1.0+np.exp(-z))\n",
        "  \n",
        "z = 0.5\n",
        "print (-z)\n",
        "print (np.exp (-z))\n",
        "if sigmoid(z) > 0.5:\n",
        "  print (\"Yes\")\n",
        "else:\n",
        "  print (\"No\")"
      ],
      "execution_count": 0,
      "outputs": [
        {
          "output_type": "stream",
          "text": [
            "-0.5\n",
            "0.6065306597126334\n",
            "Yes\n"
          ],
          "name": "stdout"
        }
      ]
    }
  ]
}