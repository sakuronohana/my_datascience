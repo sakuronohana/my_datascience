{
  "nbformat": 4,
  "nbformat_minor": 0,
  "metadata": {
    "colab": {
      "name": "DS Bootcamp Prozesse & Grundlagen ipynb",
      "provenance": [],
      "include_colab_link": true
    },
    "kernelspec": {
      "name": "python3",
      "display_name": "Python 3"
    }
  },
  "cells": [
    {
      "cell_type": "markdown",
      "metadata": {
        "id": "view-in-github",
        "colab_type": "text"
      },
      "source": [
        "<a href=\"https://colab.research.google.com/github/sakuronohana/my_datascience/blob/master/DS_Bootcamp_Prozesse_%26_Grundlagen.ipynb\" target=\"_parent\"><img src=\"https://colab.research.google.com/assets/colab-badge.svg\" alt=\"Open In Colab\"/></a>"
      ]
    },
    {
      "cell_type": "markdown",
      "metadata": {
        "id": "SyxBmxgRxnMS",
        "colab_type": "text"
      },
      "source": [
        "# DS Bootcamp Teil 1 - Prozesse & Grundlagen #"
      ]
    },
    {
      "cell_type": "markdown",
      "metadata": {
        "colab_type": "text",
        "id": "i8Xh2CLq4zTz"
      },
      "source": [
        "## DS Bootcamp Verzeichnis ##\n",
        "\n",
        "[**Teil 1 - Data Science - Prozesse & Grundlagen**](https://github.com/sakuronohana/my_datascience/blob/master/DS_Bootcamp_Prozesse_%26_Grundlagen.ipynb)\n",
        "\n",
        "[**Teil 1a - Data Science - Python Basic & Advanced**]()\n",
        "\n",
        "[**Teil 2 - Data Science - ML - Datenbeschaffung & Datenaufbereitung**](https://github.com/sakuronohana/my_datascience/blob/master/DS_Bootcamp_ML_Datenbeschaffung_Datenaufbereitung.ipynb)\n",
        "\n",
        "[**Teil 3 - Data Science - ML - Modellwahl**](https://github.com/sakuronohana/my_datascience/blob/master/DS_Bootcamp_ML_Modellwahl.ipynb)\n",
        "\n",
        "[**Teil 4 - Data Science - ML - Modell Training, Testing & Optimierung**](https://github.com/sakuronohana/my_datascience/blob/master/DS_Bootcamp_ML_Modell_Train_Test_Optimize.ipynb)\n",
        "\n",
        "[**Teil 5 - Data Science - ML - Modell Produktivsetzung, Überwachung & Pflege**](https://github.com/sakuronohana/my_datascience/blob/master/DS_Bootcamp_ML_Modell_Deploy_Monitor_Maintain.ipynb)"
      ]
    },
    {
      "cell_type": "markdown",
      "metadata": {
        "colab_type": "text",
        "id": "CDjLQ9K4ssMp"
      },
      "source": [
        "##Glossar##\n",
        "\n",
        "* **Artificial Intelligence (AI)** ist eine Technik in welchem das *menschliche Verhalten* (bsp. kognitives Denken, Kommunikation, Interaktion etc.) nachahmt. AI ist *nicht* zu verwechseln mit *Robotik* .\n",
        "* **Machine Learning (ML)** verwendet statistische Methoden welche eine Maschine dazu befähigen eigenständig zu lernen. ML ist eine *Teilmenge von AI*.\n",
        "* **Deep Learning** ist eine Disziplin von ML und befasst sich mit einer dem menschlichen Hirn nachempfunden neuronalen Struktur dem soganannten *neuronalen Netzwerk*.\n",
        "* **Klassifikation (Classificaton)**, auch Klassifizierungsverfahren, sind Methoden und Kriterien zur *Einteilung (Klassierung)* von Objekten oder Situationen in Klassen, das heißt zur Klassifizierung. Beispielsweise Spam/not Spam. Ein solches Verfahren wird auch als ***Klassifikator*** bezeichnet. Typische Klassifikatoren sind *Logistic Regression (kann auch bei Regression eingesetzt werden), Support Vector Machines (SVM), Decision Trees, Random Forest, Neuronale Netzwerke*\n",
        "* **Regressionsanalysen** sind statistische Analyseverfahren, die zum Ziel haben, *Beziehungen* zwischen einer *abhängigen* und einer oder mehreren *unabhängigen Variablen* zu modellieren. Sie werden insbesondere verwendet, wenn Zusammenhänge quantitativ zu beschreiben oder Werte der abhängigen Variablen zu prognostizieren sind. In der Regression unterscheidet man zwischen Linear und nicht Linear. Ein typischer  Regressionsalgorithmen ist *Lineare Regression*, aber auch *SVM* und *Random Forest* können als RA eingesetzt werden.\n",
        "   * **Lineare Regression** Das Grundprinzip der Regression: Durch eine oder mehrere unabhängige Variablen, soll eine abhängige Variable erklärt werden. Beispiel: Durch die unabhängigen Variablen i= Werbeausgaben und ii=Anzahl der angebotenen Produkte soll die abhängige Variable y=Tagesumsatz erklärt werden.\n",
        "      * y = a + bi + cii\n",
        "      * y= Tagesumsatz = zuerklärende Variable = Regressand\n",
        "      * a= Konstante\n",
        "      * b= Gewichtungsfaktor der Werbeausgaben\n",
        "      * i= Werbeausgaben\n",
        "      * c= Gewichtungsfaktor der Anzahl der angebotenen Artikel\n",
        "      * ii= Anzahl der angebotenen Artikel\n",
        "\n",
        "  Hier eine Eselsbrücke:\n",
        "\n",
        "  * Regress**OHR**–> Ohren sind „schlau“ und können Dinge erklären –> erklärende Variable–> unabhängige Variable\n",
        "  * Regres**SAND** –> Sand ist „dumm“ und kann nichts erklären–> zuerklärende Variable–>Abhängige Variable\n",
        "* **Clustering** ist ein Lernalgorithmus verwendet im *Unsupervised Learning*. Der Algorithmus teil dabei eigenständig Daten gleicher Art in verschiedene Gruppen (Clusters) auf, dazu nutzt er Distanzfunktionen (Euklidischer oder Manhatten Algorithmus). Es werden zwischen den zwei Clustering-Typen ***Hierarchical- und Partitional Clustering*** unterschieden. Bekannte Clustering-Algorithmen sind *k-Means*, HCA, etc. \n",
        "* **Activation Function** addieren eine nicht-Lineare Funktion zu jedem künstlichen Neuron in einem ANN und lassen ein Neuron feuern oder nicht. AF sind Sigmoid, tanh, ReLU usw. ReLU ist einer der beliebtesten AFs und wird vorwiegen in den Hidden-Layers eines ANN eingesetzt. \n",
        "* **Backpropagation** gehört zum Optimisierungsprozess im Maschine Learning. In einem ANN werden mittels Backpropagation die Gewichtungen der einzelnen Verbidungen aktualisiert.\n",
        "* **Association** ist ein Lernalgorihmus der Beziehung zwischen verschiedenen Merkmalen in ein grossen Datensatz ausfindig machen kann. Typische Associationlernalgorihmen sind *Apriori* und *Eclat*\n",
        "* **Accuracy (Genauigkeit)** ist eines der *Bewertungskriterien* im ML, mit  welchem die *korrekte Vorhersage (Prediction)* eines Klassifikators beurteilt wird. Zur Bewertung wird die sogenannte *Confusion Matrix* (True Positive, False Positive, False Negative, True Negative etc.) verwendet. \n",
        "* **Loss Function (Verlustfunktion)** Der Verlust ist das Resultat der Summe aller Fehler aus einem  Modell-Trainings oder -Validation. Je kleiner der Verlust desto besser das Modell. Der Loss bewegt sich gegengleich zur Accuracy welche zunehmend steigen sollte.\n",
        "* **Labeled Data** sind Daten in einem Datensatz, welche die Lösung darstellen bzw. das ist, was ein ML-Algorithus voraussagen oder erkennen soll (y-Predict). Beispielsweise Spam oder Not Spam, Like oder Not Like, \n",
        "* **Merkmale  (Features)** sind eindeutige Attribute in einem Datensatz wie Beispielsweise Temperatur, Preis, Aktienkurs, Geschwindigkeit, Geschlecht usw. und werden pro Spalte (Column) abgebildet.\n",
        "* **Lernverfahren** sind Methoden, mit welchem eine Machine aus den Daten lernen kann. Das eingesetzte Verfahren ist hautpsächlich abhängig von den verfügbaren Daten. Dies sind die bekanntesten Verfahren:\n",
        "  * **Supervised Learning** ist das Lernverfahren in welchem eine Maschine mittels gelabelten Daten bzw. Beispielen trainiert wird. In diesem Verfahren erhält die Maschine jeweils einen Feedback ob die Lösung richtig war. Im SL werden Algorithmustypen wie *Classification* und *Regression* eingesetzt. \n",
        "  * **Unsupervised Learning** ist ein Lernverfahren, in welchem eine Maschine ohne gelabelte Daten trainiert wird. Hier erhält die Machine keinen Feedback ob die Prediction richtig oder falsch war. Vielmehr sucht sie nach versteckten Strukturen in den Daten. Die Algorithmentypen welche hier zum Einsatz kommen sind *Association* und *Clustering*.\n",
        "  * **Reinforcement Learning** ist ein Lernverfahren in welchem eine Machine ohne historische Daten lernt. Man kann sich das RL wie ein Kind vorstellen, dass sich etwas eigenständig beibringt. In Zusammenhang mit RL wird auch oft der Begriff *Machine Learning Agent* verwendet. Der Agent ist jedoch nur ein Teil diese Lernverfahrens, der noch durch Environment [Video Link](https://www.youtube.com/watch?v=JgvyzIkgxF0)\n",
        "* **Converge (dt. sich annähern)** ist der Zustand, wenn ein Modell alle Fehler (Errors) auf eine bestmögliches minimum reduzieren konnte und somit fertig ist mit dem Training.\n",
        "* **Hyperparameter** sind Einstellungen mit welchen sich die Vorhersagegenauigkeit der ML-Modelle verbessern lassen. Beispiele von Hypermarameter ist die Lernrate,  Anzahl Hidden Layers (Neuronale Netzwerke) usw. Im Zusammenhang mit diesem Begriff wird auch oft *Hyperparameter Optimization* verwendet. Neben der Hyperparemeter verarbeitet das Modell im Rahmen des Trainingsprozeses die *Eingabedaten* und die Parameter des Modells selbst (z.B. Gewichtung der Verbindung zwischen den Units usw.)\n",
        "* **Entropy (dt. Entropie)** wird eingesetzt um die Unreinheit (Impurity) in Daten zu ermitteln. \n",
        "* **Bias** Ist im allgemeinen eine Verzerrung oder auch eine Voreingenommenheit, welche bspw. durch eine unverhältnismässige Gewichtung in eine Datensatz ausgelöst wird. Ein Bias kann in letzter Konsequenz zu einer fehlerhaften Entscheidung führen. Mit dem sogenannte Human Bias kann einer AI ein völlig einseitiges Bild der Realität dargestellt werden. Im Zusammenhang mit diesem Begriff wird zwischen folgend Arten von Bias unterschieden:\n",
        "\n",
        "\t* **Interaction bias** (Voreingenommenheit durch Interaction): Der Benutzer verzerrt einen Algorithmus durch die Art und Weise, wie wir mit ihm \tinteragieren. Als Beispiel hat Google Benutzer gebeten, einen Schuh zu zeichnen. Die Benutzer haben \teinen Herrenschuh gezeichnet, sodass das System nicht wusste, dass High Heels auch Schuhe sind\n",
        "\t\n",
        "\t* **Latent bias**: Der Algorithmus korreliert Ideen fälschlicherweise mit Geschlecht, Rasse, Sexualität, \tEinkommen usw. Dies ist die Idee, „Arzt“ mit Männern zu korrelieren, nur weil die meisten Bilder dies \tso darstellen\taussagen.\n",
        "\n",
        "  * **Selection bias** (Stichprobenverzerrung): Die Daten, die zum Trainieren des Algorithmus verwendet werden, \tstellen eine Population  übermäßig dar, sodass sie auf Kosten anderer besser funktionieren. Wenn die \tBilderkennung nur für weiße \tMenschen trainiert wird,  werden sie AI-bewertete Schönheitswettbewerbe \tgewinnen.\n",
        "\n",
        "* **Covariate Shift** (auch Data Shift) nennt man ein Phenomen im ML in welchem das trainierte Modell nach seiner Produktivsetzung eine frapant schlechtere Performance aufweist als noch im Training und Testing Stadium. Meist zeigen Analysen dann, dass die Daten in der Produktion sich von der Datenart im Entwicklungsstadium differenzieren. Beispielsweise wurde das Modell mit klaren Voice-Samples traininert während im der Produktion die Stimmen durch ein Telefon kommen und verzerrt werden. \n",
        "\n",
        "***Mehr Erklärungen zu Begriffen im ML findet man im ML Glossar von Google*** [Link](https://developers.google.com/machine-learning/glossary) \n"
      ]
    },
    {
      "cell_type": "markdown",
      "metadata": {
        "colab_type": "text",
        "id": "86knPDRL8IwW"
      },
      "source": [
        "##Hilfsmittel##\n",
        "\n",
        "Nachfolgende eine Auflistung von nützlichen oder interessanten News, Artikeln, Lernvideos und Tools zu Themen wie Data Science, AI, Machine Learning, Python usw. "
      ]
    },
    {
      "cell_type": "markdown",
      "metadata": {
        "colab_type": "text",
        "id": "sHYVpQNZ-lb9"
      },
      "source": [
        "###Data Science###\n",
        "\n",
        "* What 70% of Data Science Learners Do Wrong ([Artikel](https://towardsdatascience.com/what-70-of-data-science-learners-do-wrong-ac35326219e4))\n",
        "* Knime - Automate a Data Science Workflow — Movie Reviewer Sentiment Analysis ([Link](https://towardsdatascience.com/automate-a-data-science-workflow-movie-reviewer-sentiment-analysis-737608ce6466))\n",
        "* SWISS DATA SCIENCE CENTER (SDSC) - A cooperation between ETH und EPFL [Link](https://datascience.ch/)"
      ]
    },
    {
      "cell_type": "markdown",
      "metadata": {
        "colab_type": "text",
        "id": "qvBk6LMZ9dhq"
      },
      "source": [
        "###Python Coding###\n",
        "\n",
        "* 10 Simple hacks to speed up your Data Analysis in Python ([Artikel](https://towardsdatascience.com/10-simple-hacks-to-speed-up-your-data-analysis-in-python-ec18c6396e6b))\n",
        "* Pandas - Short hands-on challenges to perfect your data manipulation skills ([Tutorial](https://www.kaggle.com/learn/pandas))\n",
        "* Pandas Profiling - Creating Pandas Reports out of df.describe ([Tutorial](https://github.com/pandas-profiling/pandas-profiling)\n",
        "* Vaex - How to analyse 100s of GBs of data on your laptop with Python ([Link](https://towardsdatascience.com/how-to-analyse-100s-of-gbs-of-data-on-your-laptop-with-python-f83363dda94))"
      ]
    },
    {
      "cell_type": "markdown",
      "metadata": {
        "colab_type": "text",
        "id": "T_tT23KR_pjH"
      },
      "source": [
        "###Machine Learning###\n",
        "\n",
        "**Guidelines**\n",
        "\n",
        "* Google Rules of Machine Learning [Link](https://developers.google.com/machine-learning/guides/rules-of-ml)\n",
        "\n",
        "**Deep Learning**\n",
        "\n",
        "* Wie funktioniert eine Neuronales Netzwerk ([Lernvideo](https://www.youtube.com/watch?v=aircAruvnKk))\n",
        "\n",
        "**Reinforcement Learning**\n",
        "* Gym is a toolkit for developing and comparing reinforcement learning algorithms [Tutorial](https://gym.openai.com/)"
      ]
    },
    {
      "cell_type": "markdown",
      "metadata": {
        "id": "7MpeU3YApp_Y",
        "colab_type": "text"
      },
      "source": [
        "### [News](https://github.com/sakuronohana/my_datascience/blob/master/DS_Articles_of_Interest%20.ipynb) ####\n",
        "\n",
        "Interessante Artikel und News rund um das Thema Data Science [Link](https://github.com/sakuronohana/my_datascience/blob/master/DS_Articles_of_Interest%20.ipynb)"
      ]
    },
    {
      "cell_type": "markdown",
      "metadata": {
        "colab_type": "text",
        "id": "mKuJyMEPBy3a"
      },
      "source": [
        "##ML-Prozessmethodiken##\n",
        "\n",
        "Nachfolgenden werden drei Data Science Prozessansätze auf verschiedenen Ebenen aufgezeigt. Meist starten die nachfolgenden Prozesse bereits bei der Datensammlung (Ausnahme PM). Es ist jedoch wichtig, dass in erste Linie immer das **Verständnis** der entsprechenden **Domain** (z.B. Banking, Pharma, Indurstie etc.) vorhanden sein muss, um ein erfolgreiches Modell zu erstellen. \n",
        "\n",
        "###ML-Projektmanagement###\n",
        "Die Umsetzung eines ML-Projektes beinhaltet folgende Schritte, welche sich teilweise mit bestimmten Aktivitäten des ML-Prozesses überschneiden:\n",
        "\n",
        "1. Betrachtung des Gesamtbildes und Formulierung der Aufgabenstellung\n",
        "2. Beschaffung der Daten\n",
        "3. Erkundung und Visualisierung der Daten um daraus Erkenntnisse zu gewinnen\n",
        "4. Vorbereitung der Daten für den ML-Algorithmus\n",
        "5. Auswahl und Training eines Modells\n",
        "6. Verfeinerung (Tuning) des Modells\n",
        "7. Präsentation der Lösung\n",
        "8. Betrieb und Monitoring des ML-Systems\n",
        "\n",
        "###ML-Prozess###\n",
        "Der Machine Learning Prozess beschreibt die Vorgänge welche benötigt werden um ein ML-Modell zu erstellen. Dieser Prozess besteht aus den folgenden sieben Schritten:\n",
        "\n",
        "1. Research/Data Gathering  (Datenbeschaffung)\n",
        "2. Data Pre-Processing (Datenaufbereitung)\n",
        "3. Choose Model (Modellwahl)\n",
        "4. Train Model (Modelltraining)\n",
        "5. Test Model (Modelltesting)\n",
        "6. Tune Model (Modelloptimierung)\n",
        "7. Prediction (Modellproduktivsetzung)\n",
        "\n",
        "###ML-Workflow###\n",
        "Der Maschine Learning Workflow (auch ML-Lifecycle-Management) beschreibt die erforderlichen Schritte von der Entwicklung, Implementierung, Testing bis hin zur  Produktionsüberführung (Deployment)und Operation (Betrieb/Überwachung/Wartung) eines ML-Modells. Die nachfolgenden Schritte überschneiden sich natürlich mit denen im ML-Projektmanagement und -Prozess erläuterten Schritte. \n",
        "\n",
        "1. Source and prepare your date (ML-Prozess: Schritt 1)\n",
        "2. Code your model (ML-Prozess: Schritt 2)\n",
        "3. Train, evaluate and tune your model (ML-Prozess: Schritt 3-6)\n",
        "4. Deploy your trained model (ML-Prozess: 7)\n",
        "5. Get predictions from your model (ML-Prozess: 7)\n",
        "6. Monitor the ongoing predictions\n",
        "7. Manage your models and versions\n",
        "\n",
        "Tools\n",
        "\n",
        "Quelle Google Cloud ([Link](https://cloud.google.com/ml-engine/docs/tensorflow/ml-solutions-overview?hl=de))\n",
        "\n",
        "\n"
      ]
    },
    {
      "cell_type": "markdown",
      "metadata": {
        "colab_type": "text",
        "id": "AV7Y49AhPPzR"
      },
      "source": [
        "##Mathematik in Machine Learning##\n",
        "\n",
        "Möchte man Machine Learning bzw. die einzelnen Funktionen der Modell wirklich verstehen, dann kommt man nicht drum herum sich mit mathematische Formel herumzuschlagen. In diesem Kapitel wird das eine oder andere Thema etwas näher erläutert."
      ]
    },
    {
      "cell_type": "markdown",
      "metadata": {
        "colab_type": "text",
        "id": "gV2SKcqlSCEk"
      },
      "source": [
        "###Die vier mathematischen Eckpfeiler in Machine Learning###\n",
        "\n",
        "* **STATISTICS (dt. Statistik)** = Statistik ist das eigentliche Herzstück in ML. Es hilft wichtig Erkenntnise aus eine Menge von Daten (Zahlen) zu erlangen.\n",
        "* **CALCULUS (dt. Differential- & Integralrechnung)** = Wird für das Lernen und Optimieren eines ML-Modells benötigt.\n",
        "* **LINEAR ALGEBRA** = Ermöglich den Algorithmen auf riesigen Datensätzen zu arbeiten.\n",
        "* **PROBABILITY (dt. Wahrscheinlichkeit)** = Ermittelt die Wahrscheinlichkeit das eine Vorhersage eintrifft\n",
        "\n",
        "\n"
      ]
    },
    {
      "cell_type": "markdown",
      "metadata": {
        "colab_type": "text",
        "id": "n0aLIt7eiwdx"
      },
      "source": [
        "**Matrix**\n",
        "\n",
        "Eine Matrix ist eine rechteckige Anordnung von Werten in Reihen (horizontal) und Spalten (vertikal).\n",
        "\n",
        "$X= \\begin{pmatrix}{1402} & {191}\\\\{1371} & {821}\\\\{949}&{1437}\\\\{147}&{1448}\\end{pmatrix}$\n",
        "\n"
      ]
    },
    {
      "cell_type": "markdown",
      "metadata": {
        "colab_type": "text",
        "id": "3hZXsMVtRzVL"
      },
      "source": [
        "###Mathematische Notationen###\n",
        "\n",
        "Im Machine Learning werden zur Darstellung der Algortihmen und Verfahren verschiedene Notationen verwendet:\n",
        "\n",
        "* ***m*** symbolisiert die Anzahl Datenpunkte in einen Datensatz. Zum Beispiel bedeutet\n",
        "$\\displaystyle\\sum_{i=1}^{m}(...) $\n",
        "... die Summe aller in der folgenden Formel berechneteen Werte. Hat ein Datensatz bsp. 2000 Datenpunkte dann ist m = 2000. Anstelle von *m* wird manchmal auch *n* geschrieben.\n",
        "\n",
        "\n",
        "* ***$ x^{(i)}$*** ist ein Vektor (Spalte oder Zeile) aller Werte (ohne Label) sämtlicher Merkmale (Features). Wenn der Datenpunkt $x^{(1)}$ beispielsweise die Merkmale Längegrad = -118, Breitengrad = 33.91,Anzahl Einwohner = 1416  und Durchschnttseinkommen = 38372 hat sieht dies in der Notation wie folgt aus:  $x^{(1)} = \\begin{pmatrix}{-118}\\\\{33.91}\\\\{1416}\\\\{38372}\\end{pmatrix}$\n",
        "*  *$y^{(i)}$*  ist das dazugehörenden Label. Beispielsweise ist der mittlere Verkaufspreis einer Immobilie in der Region um den Datenpunkt $ x^{(i)}$, *$y^{(i)}$*  = 156000.\n",
        "* ***X*** ist eine Matrix mit sämtlichen Datenpunkten ***$x^{(i)}$*** (ohne Labels). Pro Datenpunkt gibt es eine Zeile $X = \\begin{pmatrix}{(x^{(1)})^T}\\\\{(x^{(2)})^T}\\\\{(x^{(3)})^T}\\\\\\vdots&\\\\{(x^{(1000)})^T}\\end{pmatrix} = \\begin{pmatrix}{-118}&{33.91}&{1416}&{38372}\\\\\\vdots&\\vdots &\\vdots & \\vdots\\end{pmatrix}$ \n",
        "\n",
        "* Das ***T*** steht für den Transponierungs-Operator und wandelt einen Spaltenvektor in einen Zeilenvektor oder umgekehrt."
      ]
    },
    {
      "cell_type": "markdown",
      "metadata": {
        "id": "NDofu7DqB9n8",
        "colab_type": "text"
      },
      "source": [
        "###Statistik###"
      ]
    },
    {
      "cell_type": "markdown",
      "metadata": {
        "id": "pmD8YRaGCczz",
        "colab_type": "text"
      },
      "source": [
        "####Standardabweichung (engl. Standard Deviation)####\n",
        "\n",
        "Es ist die Streuung der Daten, die es gilt zu verstehen. Die **Standardabweichung (σ)** ist in diesem Fall die **wichtigste Größe**, die allgemein benutzt wird, um die Streuung **(Abweichung vom Mittelwert)** von Verteilungen zu messen. Bei der Standardabweichung gelten folgende Regeln:\n",
        "\n",
        "* Die Standardabweichung ist entweder eine positive Zahl oder Null. Sie ist niemals negativ. \n",
        "* Die Standardabweichung ist Null, wenn alle Werte gleich sind. Da sie von der Varianz abgeleitet ist, bedeutet eine **größere Standardabweichung** auch eine **höhere Varianz** und umgekehrt. Die Standardabweichung kann sehr schnell steigen, wenn Werte, die weiter von den übrigen entfernt sind, mit in die Berechnung einbezogen werden.\n",
        "* Die Einheit der Standardabweichung und die Einheit der Messwerte sind gleich.\n",
        "\n",
        "Die Herleitung für die Standardabwechung funktioiniert folgendermassen:\n",
        "\n",
        "1.   Zuerst berechnen wir den arithmetischen Mittelwert (Mean). Beispiel (2 + 4 + 6) / 3 = 4 (Mittelwert)\n",
        "2.   Dann berechnen wir die Standardabweichung S=σ. Beispiel:\n",
        "     $$S_A = (2-4)^2 + (4-4)^2 + (6-4)^2 / 3 $$\n",
        "\n",
        "\n",
        "\n"
      ]
    },
    {
      "cell_type": "markdown",
      "metadata": {
        "colab_type": "text",
        "id": "VKqhByGehD9U"
      },
      "source": [
        "###Lineare Algebra###\n",
        "\n",
        "Wenn es um die Verwendung von Daten im Machine Learning geht, dann führt kein Weg an ein paar Basics in Linearer Algebra vorbei. Nachfolgend ein paar wichtige Begriffe und Erklärungen."
      ]
    },
    {
      "cell_type": "markdown",
      "metadata": {
        "colab_type": "text",
        "id": "3eY0L2Us29lB"
      },
      "source": [
        "####Matrix####\n",
        "\n",
        "Eine Matrix ist eine rechteckige Anordnung von Werten in Reihen (horizontal) und Spalten (vertikal).\n",
        "\n",
        "$X= \\begin{pmatrix}{1402} & {191}\\\\{1371} & {821}\\\\{949}&{1437}\\\\{147}&{1448}\\end{pmatrix}$\n",
        "\n"
      ]
    },
    {
      "cell_type": "markdown",
      "metadata": {
        "colab_type": "text",
        "id": "wvflzDcXiBke"
      },
      "source": [
        "###Activation Functions###\n",
        "\n",
        "Die Akitvation Function bzw. die zugrundeliegende Mathematik wird in Deep Learning zur Aktivierung (Feuern oder nicht Feuern)innerhalb der Units (künstliches Neuron) verwendet."
      ]
    },
    {
      "cell_type": "markdown",
      "metadata": {
        "colab_type": "text",
        "id": "_8D6W5rHTSy5"
      },
      "source": [
        "**Sigmoid Function**\n",
        "\n",
        "Formel:\n",
        "\n",
        "$f(x) = \\frac{1}{1 + exp (^{-x})} $\n",
        "\n",
        "Plot:\n",
        "\n",
        "![alt text](https://upload.wikimedia.org/wikipedia/commons/thumb/5/53/Sigmoid-function-2.svg/512px-Sigmoid-function-2.svg.png)"
      ]
    },
    {
      "cell_type": "code",
      "metadata": {
        "colab_type": "code",
        "id": "IPAKvKnzTx-X",
        "colab": {}
      },
      "source": [
        "import numpy as np\n",
        "\n",
        "def sigmoid (x):\n",
        "  return 1 / (1 + np.exp(-x))\n",
        "\n",
        "sigmoid(2.5)"
      ],
      "execution_count": 0,
      "outputs": []
    },
    {
      "cell_type": "markdown",
      "metadata": {
        "colab_type": "text",
        "id": "BoIFIJhvZFQU"
      },
      "source": [
        "**tanh Function**\n",
        "Hyperbolic Tangent Function\n",
        "\n",
        "Formel:\n",
        "\n",
        "$f(x) = \\frac{2}{1 + exp (^{-2x})}-1 $\n",
        "\n",
        "Plot:\n",
        "\n",
        "![alt text](http://mathworld.wolfram.com/images/interactive/TanhReal.gif)"
      ]
    },
    {
      "cell_type": "code",
      "metadata": {
        "colab_type": "code",
        "id": "Pgl6nXilZk4h",
        "colab": {}
      },
      "source": [
        "import numpy as np\n",
        "\n",
        "def tanh (x):\n",
        "  return np.tanh(1 - (x ** 2))\n",
        "\n",
        "\n",
        "tanh(-2.5)"
      ],
      "execution_count": 0,
      "outputs": []
    },
    {
      "cell_type": "markdown",
      "metadata": {
        "colab_type": "text",
        "id": "fR421tiyaupV"
      },
      "source": [
        "***ReLU Function***\n",
        "Rectified Linear Unit ist einer der beliebtesten AF im ML. Die ReLU Function wird nur für  Hidden-Layers verwendet für den Output-Layer wird meist die SoftMax Function empfohlen.\n",
        "\n",
        "Formel:\n",
        "\n",
        "$f(x) = max(0, z)$\n",
        "\n",
        "Ist also x < als 0 dann ist das Resultat 0 ist x > 0 \n",
        "\n",
        "Plot:\n",
        "\n",
        "![alt text](https://cdn-images-1.medium.com/max/1600/1*oePAhrm74RNnNEolprmTaQ.png)"
      ]
    },
    {
      "cell_type": "code",
      "metadata": {
        "id": "atNhC7Xt5UfA",
        "colab_type": "code",
        "outputId": "2fa00432-bf6b-47a6-ff4d-cd3ca14cc14b",
        "colab": {
          "base_uri": "https://localhost:8080/",
          "height": 282
        }
      },
      "source": [
        "import numpy as np\n",
        "import matplotlib.pyplot as plt\n",
        "\n",
        "def relu (x):\n",
        "  return np.maximum(0,x)\n",
        "  \n",
        "print (relu(0.5))\n",
        "  \n",
        "# define a series of inputs\n",
        "series_in = [x for x in range(-10, 11)]\n",
        "# calculate outputs for our inputs\n",
        "series_out = [relu(x) for x in series_in]\n",
        "# line plot of raw inputs to rectified outputs\n",
        "plt.plot(series_in, series_out)\n",
        "plt.show()"
      ],
      "execution_count": 0,
      "outputs": [
        {
          "output_type": "stream",
          "text": [
            "0.5\n"
          ],
          "name": "stdout"
        },
        {
          "output_type": "display_data",
          "data": {
            "image/png": "[encoded data removed]",
            "text/plain": [
              "<Figure size 432x288 with 1 Axes>"
            ]
          },
          "metadata": {
            "tags": []
          }
        }
      ]
    }
  ]
}
