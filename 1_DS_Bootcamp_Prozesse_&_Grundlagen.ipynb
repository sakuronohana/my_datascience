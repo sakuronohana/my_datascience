{
  "nbformat": 4,
  "nbformat_minor": 0,
  "metadata": {
    "colab": {
      "name": "DS Bootcamp Prozesse & Grundlagen ipynb",
      "provenance": [],
      "include_colab_link": true
    },
    "kernelspec": {
      "name": "python3",
      "display_name": "Python 3"
    }
  },
  "cells": [
    {
      "cell_type": "markdown",
      "metadata": {
        "id": "view-in-github",
        "colab_type": "text"
      },
      "source": [
        "<a href=\"https://colab.research.google.com/github/sakuronohana/my_datascience/blob/master/1_DS_Bootcamp_Prozesse_%26_Grundlagen.ipynb\" target=\"_parent\"><img src=\"https://colab.research.google.com/assets/colab-badge.svg\" alt=\"Open In Colab\"/></a>"
      ]
    },
    {
      "cell_type": "markdown",
      "metadata": {
        "id": "SyxBmxgRxnMS"
      },
      "source": [
        "# DS Bootcamp Teil 1 - Prozesse & Grundlagen #"
      ]
    },
    {
      "cell_type": "markdown",
      "metadata": {
        "id": "i8Xh2CLq4zTz"
      },
      "source": [
        "## DS Bootcamp Verzeichnis ##\n",
        "\n",
        "[**Teil 1 - Data Science - Prozesse & Grundlagen**](https://github.com/sakuronohana/my_datascience/blob/master/1_DS_Bootcamp_Prozesse_%26_Grundlagen.ipynb)\n",
        "\n",
        "[**Teil 1a - Data Science - Python Basic & Advanced**](https://github.com/sakuronohana/my_datascience/blob/master/2_DS_Bootcamp_Python_Basic_%26_Advanced.ipynb)\n",
        "\n",
        "[**Teil 1b - Data Science - R Basic & Advanced**](https://github.com/sakuronohana/my_datascience/blob/master/3_DS_Bootcamp_R_Basic_%26_Advanced.ipynb)\n",
        "\n",
        "[**Teil 2 - Data Science - ML - Datenbeschaffung & Datenaufbereitung**](https://github.com/sakuronohana/my_datascience/blob/master/4_DS_Bootcamp_ML_Datenbeschaffung_Datenaufbereitung.ipynb)\n",
        "\n",
        "[**Teil 3 - Data Science - ML - Modellwahl**](https://github.com/sakuronohana/my_datascience/blob/master/5_DS_Bootcamp_ML_Modellwahl.ipynb)\n",
        "\n",
        "[**Teil 4 - Data Science - ML - Modell Training, Testing & Optimierung**](https://github.com/sakuronohana/my_datascience/blob/master/6_DS_Bootcamp_ML_Modell_Train_Test_Optimize.ipynb)\n",
        "\n",
        "[**Teil 5 - Data Science - ML - Modell Produktivsetzung, Überwachung & Pflege**](https://github.com/sakuronohana/my_datascience/blob/master/7_DS_Bootcamp_ML_Modell_Deploy_Monitor_Maintain.ipynb)"
      ]
    },
    {
      "cell_type": "markdown",
      "metadata": {
        "id": "cO5mEEM5eQsl"
      },
      "source": []
    },
    {
      "cell_type": "markdown",
      "metadata": {
        "id": "9G8qymxDeROM"
      },
      "source": [
        "##Glossar\n",
        "\n",
        "* **Data Science (Datenwissenschaft)** ist die interdisziplinäre Wissenschaft von Daten, in welchen einerseits der Lebenszyklus von Daten und andererseits die Entscheidungsfindung mittels Daten im Fokus stehen. DS besteht aus den folgenden wesentlichen Elementen: \n",
        "\n",
        "<img src=\"https://miro.medium.com/max/993/1*jd_xgOzAFw7rBklREtgOTQ.png\" align=\"middle\" width=\"400\"/>\n",
        "\n",
        "Quelle: [Towards Data Science](https://miro.medium.com/max/993/1*jd_xgOzAFw7rBklREtgOTQ.png)\n",
        "\n",
        "* **Daten** helfen uns die Welt zu interpretieren! Daten haben entweder einen qualitativen oder quantitativen Charakter. Mit qualitativen Daten lässt sie sich beschreiben und mit quantitativen Daten lässt sie sich messen. Meist lassen sich sich noch in folgende zwei weiteren Kategorien unterteilen:\n",
        "\n",
        "<img src=\"https://lawtomated.com/wp-content/uploads/2019/04/structuredVsUnstructuredIgneos.png\" width=\"500\" />\n",
        "\n",
        "Quelle: [Lawomated](https://lawtomated.com/structured-data-vs-unstructured-data-what-are-they-and-why-care/)\n",
        "\n",
        "* **Artificial Intelligence (AI)** ist eine Technik in welchem das *menschliche Verhalten* (bsp. kognitives Denken, Kommunikation, Interaktion etc.) nachahmt. AI ist *nicht* zu verwechseln mit *Robotik*. Man unterscheidet die folgenden 4 Typen von AI:\n",
        " * **Type I - Rein reaktive KI (engl. Purely Reactive)**. Dies ist die grundlegendste Form von Kl. Das System erkennt seine Umwelt/Situation direkt und agiert auf Basis dessen, was es erkennt. Es hat keine Vorstellung von der äußeren Welt. Es kann keine Erinnerungen bilden oder auf vergangene Erfahrungen zurückgreifen, um aktuelle Entscheidungen zu beeinflussen. Es spezialisiert sich nur auf einen Bereich.\n",
        "\n",
        "    Beispiele sind IBMs Deep Blue, das Kasparov beim Schach geschlagen hat oder Googles AlphaGo, das über den menschlichen Champion beim Go-Spiel triumphierte.\n",
        "\n",
        " * **Type II - Systeme mit begrenztem Gedächtnis (engl. Limited Memory)** Ein Stück weiter oben auf der evolutionären Leiter der künstlichen Intelligenz sind Systeme mit begrenztem Gedächtnis. Sie berücksichtigen Teile vergangener Informationen und fügen sie zu ihren vorprogrammierten Darstellungen der Welt hinzu. Sie haben gerade genug Gedächtnis oder Erfahrungsvorrat, um richtige Entscheidungen zu treffen und entsprechende Handlungen auszuführen.\n",
        "\n",
        "    Beispiele sind selbstfahrende Fahrzeuge, Chatbots und persönliche digitale Assistenten. \n",
        "\n",
        " * **Type III - Systeme mit eigenem Bewusstsein (engl. Theory of Mind)**. Theory of Mind bedeutet, ein eigenes Bewusstsein zu entwickeln. Dazu gehört, sich und andere zu erkennen, aber auch ein Verständnis dafür zu entwickeln, dass andere sich irren können und deshalb falsch handeln. Derartige Systeme haben die Fähigkeit, Gedanken und Emotionen zu verstehen, die das menschliche Verhalten beeinflussen. Dazu gehört ein Verständnis von Gefühlen, Motiven, Absichten und Erwartungen sowie die Fähigkeit darauf aufbauend sozial zu interagieren. Noch gibt es keine Systeme, die dies können. Sie sind aber vermutlich die nächste Stufe intelligenter Maschinen.\n",
        "\n",
        "   Beispiele aus dem Bereich Science Fiction sind C-3P0 und R2-D2 aus den Star Wars Filem sowie Sonny aus dem Film „I Robot“.\n",
        "\n",
        " * **Type IV - Sich „ihrer selbst“ bewusste Systeme (engl. Self-Aware)**.\n",
        "Diese Formen von Kl können Vorstellungen über sich selbst bilden. Sie stellten eine Erweiterung der Systeme mit eigenem Bewusstsein dar. Sie sind sich ihrer inneren Zustände bewusst, können die Gefühle anderer vorhersagen und können Abstraktionen bilden und Schlussfolgerungen ziehen. Sie sind die zukünftige Maschinengeneration: super intelligent, empfindungsfähig und bewusst.\n",
        "\n",
        "   Beispiele sind Eva in dem Film „Ex Machina“ und Synths aus der TV-Serie „Menschen“.\n",
        "\n",
        "* **Machine Learning (ML)** verwendet statistische Methoden welche eine Maschine dazu befähigen eigenständig zu lernen. ML ist eine *Teilmenge von AI*.\n",
        "* **Deep Learning** ist eine Disziplin von ML und befasst sich mit einer dem menschlichen Hirn nachempfunden neuronalen Struktur dem soganannten *neuronalen Netzwerk*.\n",
        "* **Klassifikation (Classificaton)**, auch Klassifizierungsverfahren, sind Methoden und Kriterien zur *Einteilung (Klassierung)* von Objekten oder Situationen in Klassen, das heißt zur Klassifizierung. Beispielsweise Spam/not Spam. Ein solches Verfahren wird auch als ***Klassifikator*** bezeichnet. Typische Klassifikatoren sind *Logistic Regression (kann auch bei Regression eingesetzt werden), Support Vector Machines (SVM), Decision Trees, Random Forest, Neuronale Netzwerke*\n",
        "* **Clustering** ist ein Lernalgorithmus verwendet im *Unsupervised Learning*. Der Algorithmus teil dabei eigenständig Daten gleicher Art in verschiedene Gruppen (Clusters) auf, dazu nutzt er Distanzfunktionen (Euklidischer oder Manhatten Algorithmus). Es werden zwischen den zwei Clustering-Typen ***Hierarchical- und Partitional Clustering*** unterschieden. Bekannte Clustering-Algorithmen sind *k-Means*, HCA, etc. \n",
        "* **Activation Function** addieren eine nicht-Lineare Funktion zu jedem künstlichen Neuron in einem ANN und lassen ein Neuron feuern oder nicht. AF sind Sigmoid, tanh, ReLU usw. ReLU ist einer der beliebtesten AFs und wird vorwiegen in den Hidden-Layers eines ANN eingesetzt. \n",
        "* **Backpropagation** gehört zum Optimisierungsprozess im Maschine Learning. In einem ANN werden mittels Backpropagation die Gewichtungen der einzelnen Verbidungen aktualisiert.\n",
        "* **Association** ist ein Lernalgorihmus der Beziehung zwischen verschiedenen Merkmalen in ein grossen Datensatz ausfindig machen kann. Typische Associationlernalgorihmen sind *Apriori* und *Eclat*\n",
        "* **Accuracy (Genauigkeit)** ist eines der *Bewertungskriterien* im ML, mit  welchem die *korrekte Vorhersage (Prediction)* eines Klassifikators beurteilt wird. Zur Bewertung wird die sogenannte *Confusion Matrix* (True Positive, False Positive, False Negative, True Negative etc.) verwendet. \n",
        "* **Loss Function (Verlustfunktion)** Der Verlust ist das Resultat der Summe aller Fehler aus einem  Modell-Trainings oder -Validation. Je kleiner der Verlust desto besser das Modell. Der Loss bewegt sich gegengleich zur Accuracy welche zunehmend steigen sollte.\n",
        "* **Labeled Data** sind Daten in einem Datensatz, welche die Lösung darstellen bzw. das ist, was ein ML-Algorithus voraussagen oder erkennen soll (y-Predict). Beispielsweise Spam oder Not Spam, Like oder Not Like, \n",
        "* **Merkmale  (Features)** sind eindeutige Attribute in einem Datensatz wie Beispielsweise Temperatur, Preis, Aktienkurs, Geschwindigkeit, Geschlecht usw. und werden pro Spalte (Column) abgebildet.\n",
        "* **Lernverfahren** sind Methoden, mit welchem eine Machine aus den Daten lernen kann. Das eingesetzte Verfahren ist hautpsächlich abhängig von den verfügbaren Daten. Dies sind die bekanntesten Verfahren:\n",
        "  * **Supervised Learning** ist das Lernverfahren in welchem eine Maschine mittels gelabelten Daten bzw. Beispielen trainiert wird. In diesem Verfahren erhält die Maschine jeweils einen Feedback ob die Lösung richtig war. Im SL werden Algorithmustypen wie *Classification* und *Regression* eingesetzt. \n",
        "  * **Unsupervised Learning** ist ein Lernverfahren, in welchem eine Maschine ohne gelabelte Daten trainiert wird. Hier erhält die Machine keinen Feedback ob die Prediction richtig oder falsch war. Vielmehr sucht sie nach versteckten Strukturen in den Daten. Die Algorithmentypen welche hier zum Einsatz kommen sind *Association* und *Clustering*.\n",
        "  * **Reinforcement Learning** ist ein Lernverfahren in welchem eine Machine ohne historische Daten lernt. Man kann sich das RL wie ein Kind vorstellen, dass sich etwas eigenständig beibringt. In Zusammenhang mit RL wird auch oft der Begriff *Machine Learning Agent* verwendet. Der Agent ist jedoch nur ein Teil diese Lernverfahrens, der noch durch Environment [Video Link](https://www.youtube.com/watch?v=JgvyzIkgxF0)\n",
        "* **Converge (dt. sich annähern)** ist der Zustand, wenn ein Modell alle Fehler (Errors) auf eine bestmögliches minimum reduzieren konnte und somit fertig ist mit dem Training.\n",
        "* **Hyperparameter** sind Einstellungen mit welchen sich die Vorhersagegenauigkeit der ML-Modelle verbessern lassen. Beispiele von Hypermarameter ist die Lernrate,  Anzahl Hidden Layers (Neuronale Netzwerke) usw. Im Zusammenhang mit diesem Begriff wird auch oft *Hyperparameter Optimization* verwendet. Neben der Hyperparemeter verarbeitet das Modell im Rahmen des Trainingsprozeses die *Eingabedaten* und die Parameter des Modells selbst (z.B. Gewichtung der Verbindung zwischen den Units usw.)\n",
        "* **Entropy (dt. Entropie)** wird eingesetzt um die Unreinheit (Impurity) in Daten zu ermitteln. \n",
        "* **Bias** Ist im allgemeinen eine Verzerrung oder auch eine Voreingenommenheit, welche bspw. durch eine unverhältnismässige Gewichtung in eine Datensatz ausgelöst wird. Ein Bias kann in letzter Konsequenz zu einer fehlerhaften Entscheidung führen. Mit dem sogenannte Human Bias kann einer AI ein völlig einseitiges Bild der Realität dargestellt werden. Im Zusammenhang mit diesem Begriff wird zwischen folgend Arten von Bias unterschieden:\n",
        "\n",
        "\t* **Interaction bias** (Voreingenommenheit durch Interaction): Der Benutzer verzerrt einen Algorithmus durch die Art und Weise, wie wir mit ihm \tinteragieren. Als Beispiel hat Google Benutzer gebeten, einen Schuh zu zeichnen. Die Benutzer haben \teinen Herrenschuh gezeichnet, sodass das System nicht wusste, dass High Heels auch Schuhe sind\n",
        "\t\n",
        "\t* **Latent bias**: Der Algorithmus korreliert Ideen fälschlicherweise mit Geschlecht, Rasse, Sexualität, \tEinkommen usw. Dies ist die Idee, „Arzt“ mit Männern zu korrelieren, nur weil die meisten Bilder dies \tso darstellen\taussagen.\n",
        "\n",
        "  * **Selection bias** (Stichprobenverzerrung): Die Daten, die zum Trainieren des Algorithmus verwendet werden, \tstellen eine Population  übermäßig dar, sodass sie auf Kosten anderer besser funktionieren. Wenn die \tBilderkennung nur für weiße \tMenschen trainiert wird,  werden sie AI-bewertete Schönheitswettbewerbe \tgewinnen.\n",
        "\n",
        "* **Covariate Shift** (auch Data Shift) nennt man ein Phenomen im ML in welchem das trainierte Modell nach seiner Produktivsetzung eine frapant schlechtere Performance aufweist als noch im Training und Testing Stadium. Meist zeigen Analysen dann, dass die Daten in der Produktion sich von der Datenart im Entwicklungsstadium differenzieren. Beispielsweise wurde das Modell mit klaren Voice-Samples traininert während im der Produktion die Stimmen durch ein Telefon kommen und verzerrt werden. \n",
        "\n",
        "* **Generalization** (Verallgemeinerung) bezieht sich auf die Fähigkeit eines ML-Modells, korrekte Vorhersagen für neue, zuvor nicht angezeigte Daten zu treffen, im Gegensatz zu den Daten, die zum Trainieren des Modells verwendet wurden [Link](https://developers.google.com/machine-learning/glossary#g).\n",
        "\n",
        "* **Variance** (Varianz) ist der Unterschied zwischen dem in Trainingsdatensatz und Testdatensatzes erreichte Resultate. Die Varianz steht in direkten Zusammenhang mit dem Bias. Je höher die Varianz desto grösser das Overfitting. Das **optimale ML-Modell** hat einen **niederen Bias** und kann die Realität mit einer hohen Genauigkeit (Accurancy) wiedergeben sowie eine **tiefe Variabilität (Varianz)** die eine konsistente Vorhersage (Prediction) über verschieden Datensätze ermöglicht.\n",
        "\n",
        "***Mehr Erklärungen zu Begriffen im ML findet man im ML Glossar von Google*** [Link](https://developers.google.com/machine-learning/glossary) \n"
      ]
    },
    {
      "cell_type": "markdown",
      "metadata": {
        "id": "86knPDRL8IwW"
      },
      "source": [
        "##Hilfsmittel\n",
        "\n",
        "Nachfolgende eine Auflistung von nützlichen oder interessanten News, Artikeln, Lernvideos und Tools zu Themen wie Data Science, AI, Machine Learning, Python usw. "
      ]
    },
    {
      "cell_type": "markdown",
      "metadata": {
        "id": "sHYVpQNZ-lb9"
      },
      "source": [
        "###Data Science\n",
        "\n",
        "* What 70% of Data Science Learners Do Wrong ([Artikel](https://towardsdatascience.com/what-70-of-data-science-learners-do-wrong-ac35326219e4))\n",
        "* Knime - Automate a Data Science Workflow — Movie Reviewer Sentiment Analysis ([Link](https://towardsdatascience.com/automate-a-data-science-workflow-movie-reviewer-sentiment-analysis-737608ce6466))\n",
        "* SWISS DATA SCIENCE CENTER (SDSC) - A cooperation between ETH und EPFL [Link](https://datascience.ch/)\n",
        "* IBM BigData & Analytics Hub [Link](https://www.ibmbigdatahub.com/)"
      ]
    },
    {
      "cell_type": "markdown",
      "metadata": {
        "id": "qvBk6LMZ9dhq"
      },
      "source": [
        "###Python Coding\n",
        "\n",
        "* 10 Simple hacks to speed up your Data Analysis in Python ([Artikel](https://towardsdatascience.com/10-simple-hacks-to-speed-up-your-data-analysis-in-python-ec18c6396e6b))\n",
        "* Pandas - Short hands-on challenges to perfect your data manipulation skills ([Tutorial](https://www.kaggle.com/learn/pandas))\n",
        "* Pandas Profiling - Creating Pandas Reports out of df.describe ([Tutorial](https://github.com/pandas-profiling/pandas-profiling)\n",
        "* Vaex - How to analyse 100s of GBs of data on your laptop with Python ([Link](https://towardsdatascience.com/how-to-analyse-100s-of-gbs-of-data-on-your-laptop-with-python-f83363dda94))"
      ]
    },
    {
      "cell_type": "markdown",
      "metadata": {
        "id": "T_tT23KR_pjH"
      },
      "source": [
        "###Machine Learning\n",
        "\n",
        "**Guidelines**\n",
        "\n",
        "* Google Rules of Machine Learning [Link](https://developers.google.com/machine-learning/guides/rules-of-ml)\n",
        "\n",
        "**Deep Learning**\n",
        "\n",
        "* Wie funktioniert eine Neuronales Netzwerk ([Lernvideo](https://www.youtube.com/watch?v=aircAruvnKk))\n",
        "\n",
        "**Reinforcement Learning**\n",
        "* Gym is a toolkit for developing and comparing reinforcement learning algorithms [Tutorial](https://gym.openai.com/)"
      ]
    },
    {
      "cell_type": "markdown",
      "metadata": {
        "id": "7MpeU3YApp_Y"
      },
      "source": [
        "### [News](https://github.com/sakuronohana/my_datascience/blob/master/DS_Articles_of_Interest%20.ipynb) ####\n",
        "\n",
        "Interessante Artikel und News rund um das Thema Data Science [Link](https://github.com/sakuronohana/my_datascience/blob/master/DS_Articles_of_Interest%20.ipynb)"
      ]
    },
    {
      "cell_type": "markdown",
      "metadata": {
        "id": "mKuJyMEPBy3a"
      },
      "source": [
        "##ML-Prozessmethodiken\n",
        "\n",
        "Nachfolgenden werden drei Data Science Prozessansätze auf verschiedenen Ebenen aufgezeigt. Meist starten die nachfolgenden Prozesse bereits bei der Datensammlung (Ausnahme PM). Es ist jedoch wichtig, dass in erste Linie immer das **Verständnis** der entsprechenden **Domain** (z.B. Banking, Pharma, Indurstie etc.) vorhanden sein muss, um ein erfolgreiches Modell zu erstellen. \n",
        "\n",
        "###ML-Projektmanagement\n",
        "Die Umsetzung eines ML-Projektes beinhaltet folgende Schritte, welche sich teilweise mit bestimmten Aktivitäten des ML-Prozesses überschneiden:\n",
        "\n",
        "1. Betrachtung des Gesamtbildes und Formulierung der Aufgabenstellung\n",
        "2. Beschaffung der Daten\n",
        "3. Erkundung und Visualisierung der Daten um daraus Erkenntnisse zu gewinnen\n",
        "4. Vorbereitung der Daten für den ML-Algorithmus\n",
        "5. Auswahl und Training eines Modells\n",
        "6. Verfeinerung (Tuning) des Modells\n",
        "7. Präsentation der Lösung\n",
        "8. Betrieb und Monitoring des ML-Systems\n",
        "\n",
        "###ML-Prozess\n",
        "Der Machine Learning Prozess beschreibt die Vorgänge welche benötigt werden um ein ML-Modell zu erstellen. Dieser Prozess besteht aus den folgenden sieben Schritten:\n",
        "\n",
        "1. Research/Data Gathering  (Datenbeschaffung)\n",
        "2. Data Pre-Processing (Datenaufbereitung)\n",
        "3. Choose Model (Modellwahl)\n",
        "4. Train Model (Modelltraining)\n",
        "5. Test Model (Modelltesting)\n",
        "6. Tune Model (Modelloptimierung)\n",
        "7. Prediction (Modellproduktivsetzung)\n",
        "\n",
        "Unter dem folgenden [Link](https://github.com/EthicalML/awesome-production-machine-learning#industrial-strength-visualisation-libraries) gibt es eine Auflistung einer Vielzahl von Tools welche während eines ML-Prozesses verwendet werden.\n",
        "\n",
        "###ML-Workflow\n",
        "Der Maschine Learning Workflow (auch ML-Lifecycle-Management) beschreibt die erforderlichen Schritte von der Entwicklung, Implementierung, Testing bis hin zur  Produktionsüberführung (Deployment)und Operation (Betrieb/Überwachung/Wartung) eines ML-Modells. Die nachfolgenden Schritte überschneiden sich natürlich mit denen im ML-Projektmanagement und -Prozess erläuterten Schritte. \n",
        "\n",
        "1. Source and prepare your date (ML-Prozess: Schritt 1)\n",
        "2. Code your model (ML-Prozess: Schritt 2)\n",
        "3. Train, evaluate and tune your model (ML-Prozess: Schritt 3-6)\n",
        "4. Deploy your trained model (ML-Prozess: 7)\n",
        "5. Get predictions from your model (ML-Prozess: 7)\n",
        "6. Monitor the ongoing predictions\n",
        "7. Manage your models and versions\n",
        "\n",
        "Tools\n",
        "\n",
        "Quelle Google Cloud ([Link](https://cloud.google.com/ml-engine/docs/tensorflow/ml-solutions-overview?hl=de))\n",
        "\n",
        "\n"
      ]
    },
    {
      "cell_type": "markdown",
      "metadata": {
        "id": "4gbNaaSUAHwA"
      },
      "source": [
        "##Herausforderungen im Machine Learning\n",
        "\n",
        "Es ist immer wichtig sich den möglichen Fehlerquellen oder auch Herausforderungen im Machine Learning bewusst zu sein. \n",
        "\n",
        "* **Unzureichende Menge an Trainingsdaten**. Je nach definierter Zielsetzung (bspw. Bilderkennugn mittels Klassifikator) benötigen wir eine sehr grosse Menge an Daten. Idealerweise besitzt das eigene Unternehmen bereits eine ausreichende Menge jedoch stellt sich bei der Beschaffung von qualitätiv guten Daten oft dir grösste Hürde.\n",
        "* **Nicht repräsentative Trainingsdaten** können dazu führen, dass eine Verallgemeinerung nicht oder nur Fehlerhaft möglich ist. Ein unausgewogener Datensatz führt spätestens in der Produktions zu erheblichen Verallgemeinerungsfehlern. Eine Fehlerquelle solcher Datensätze besteht oft schon bei der Methode, mit welcher die Daten erhoben wurden (Stichprobenverzerrung). Es ist wichtig sich über die Datenerhebungsmethode zu informieren und diese kritisch zu hinterfragen.\n",
        "* **Minderwertige Daten** sind oft voll von Fehlern, Ausreissern und Rauschen(z.B. verursacht durch schlechte Messungen). Hier ist es insbesoderes bei der Datenaufbereitung wichtig den Datensatz von solchen minderwertigen Daten zu säubern. Oft besteht in dieser Phase auch die Notwendigkeit Datenwerte zu ersetzen oder den Datensatz mit andern Daten anzureichern.\n",
        "* **Irrelevante Merkmale**. Viele Datensätze verfügen meist über ein Fülle von Merkmalen (Features), welche für das Training unseres Modells nicht notwendig sind. Die Auswahl der relevanten Merkmale ist oft ein langwieriger Prozess und erfordert einerseits ein profundes Verständnis der Domäne (bspw. Banking, Logistik, Pharma usw.), die Aggregation, Anreicherung von Daten und die Reduktion von Dimensionen (bsp. PCA).\n",
        "* **Overfitting der Trainingsdaten** ist oft ein Problem der übermässigen Verallgemeinerung (Generalization) d.h. das Modell erzielt bei den Trainingsdaten eine hohen Genauigkeit versagt jedoch bei den Testdaten. Meist liegt das Problem darin, dass das Modell zu Komplex für die abzubildende Daten ist. Beispielsweise Deep-Learning-Netze können subtile Muster in Daten erkennen. Sind Daten zu stark verrauscht oder ist der Datensatz zu klein können diese Netze auch Muster in diesem Rauschen erkennen was zu Overfitting führt. Um Overfitting zu vermeinden können dem Modell auch Restriktionen auferlegt werden. Diese nennt sich **Regularisierung** (Regularization). \n",
        "* **Underfitting der Trainigsdaten**. Es kann aber auch sein, dass die Struktur der Daten zu Komplex für das Modell ist. Beispielsweise kann ein lineares Modell nicht linear verlaufende Datenpunkt nicht abbilden. Auch in einem solchen Fall kann eine Regularisierung (z.B. durch Hyperparameter) angewendet werden. Die beste Lösung ist aber oft das Modell (z.B. KNN) zu wechseln. \n"
      ]
    },
    {
      "cell_type": "markdown",
      "metadata": {
        "id": "AV7Y49AhPPzR"
      },
      "source": [
        "##Mathematik in Machine Learning\n",
        "\n",
        "Möchte man Machine Learning bzw. die einzelnen Funktionen der Modell wirklich verstehen, dann kommt man nicht drum herum sich mit mathematische Formel herumzuschlagen. In diesem Kapitel wird das eine oder andere Thema etwas näher erläutert."
      ]
    },
    {
      "cell_type": "markdown",
      "metadata": {
        "id": "gV2SKcqlSCEk"
      },
      "source": [
        "###Die vier mathematischen Eckpfeiler in Machine Learning\n",
        "\n",
        "Es gibt verschiedene Zweige der Mathematik, die im Rahmen von Machine Learning eingesetzt werden, darunter:\n",
        "\n",
        "* **Statistik:** Statistische Methoden wie Wahrscheinlichkeitstheorie, Hypothesentests und lineare Regression werden verwendet, um Muster in Daten zu identifizieren, Inferenzen zu ziehen und Vorhersagen zu treffen.\n",
        "* **Lineare Algebra:** Lineare Algebra wird verwendet, um Matrizen- und Vektoroperationen durchzuführen, die für die Datenmanipulation und -transformation erforderlich sind.\n",
        "* **Calculus:** Calculus wird verwendet, um die Gewichte von neuronalen Netzen zu optimieren, indem die partiellen Ableitungen der Verlustfunktion berechnet werden.\n",
        "* **Numerische Methoden:** Numerische Methoden wie Gradient Descent und Singular Value Decomposition (SVD) werden verwendet, um komplexe mathematische Probleme zu lösen und Daten zu analysieren.\n",
        "* **Wahrscheinlichkeitstheorie:** Wahrscheinlichkeitstheorie wird verwendet, um Modelle der Unsicherheit in Daten zu erstellen und Vorhersagen mit Unsicherheiten zu quantifizieren.\n",
        "* **Optimierung:** Optimierungstechniken wie Constraint Programming und Evolutionary Algorithms werden verwendet, um das beste Modell aus einer Menge von Modellen auszuwählen, die auf den Daten trainiert wurden.\n",
        "\n",
        "\n"
      ]
    },
    {
      "cell_type": "markdown",
      "metadata": {
        "id": "bSlEPgs5_j30"
      },
      "source": [
        "###Mathematische Grundbegriffe\n",
        "Nachfolgend noch ein paar mathematische Grundbegriffe welche man im Zusammenhang mit vielen mathematischen Erklärungen immer wieder antrifft:\n",
        "\n",
        "* **Theorem** (auch Lehrsatz) ist eine in der Theorie bewiesene Aussage resp. einen bewiesenen Satz. In der Mathematik spricht man statt vom Theorem oder Lehrsatz oft auch einfach vom Satz. Damit er als wahr anerkannt wird, muss er aus den Axiomen der Theorie mit den Schlussregeln der Theorie bewiesen werden. Theoreme welche man im Zusammenhang mit ML immer wieder liest sind:\n",
        " * [Satz von Bayes](https://towardsdatascience.com/probability-learning-i-bayes-theorem-708a4c02909a) (Satz der bedingten Wahrscheinlichkeit)\n",
        " * [Zentrale Grenzwertsatz (CLT)](https://towardsdatascience.com/the-only-theorem-data-scientists-need-to-know-a50a263d013c) -> siehe auch Normalverteilung\n",
        "\n",
        "* **Axiom** stellt in der Mathematik ein absolut richtig erkannter Grundsatz bzw. gültige Wahrheit dar, die keines Beweises bedarf. Beispiel eines Axiom ist die folgende Aussage: „Jede natürliche Zahl n hat genau einen Nachfolger n+1.“ oder \"0 ist kein Nachfolger einer natürlichen Zahl\" (Peano-Arithmetik).\n",
        "\n"
      ]
    },
    {
      "cell_type": "markdown",
      "metadata": {
        "id": "3hZXsMVtRzVL"
      },
      "source": [
        "###Mathematische Notationen###\n",
        "\n",
        "Im Machine Learning werden zur Darstellung der Algortihmen und Verfahren verschiedene Notationen verwendet:\n",
        "\n",
        "* ***n*** symbolisiert die Anzahl Datenpunkte oder auch statistische Einheiten in einen Datensatz. Zum Beispiel bedeutet\n",
        "$\\displaystyle\\sum_{i=1}^{n}(...) $\n",
        "... die Summe aller in der folgenden Formel berechneteen Werte. Hat ein Datensatz bsp. 2000 Datenpunkte dann ist m = 2000. Anstelle von *n* wird manchmal auch *m* geschrieben.\n",
        "\n",
        "\n",
        "* ***$ x_i$*** ist ein Vektor (Spalte oder Zeile) aller Werte (ohne Label) sämtlicher Merkmale (Features). Wenn der Datenpunkt $x_{1}$ beispielsweise die Merkmale Längegrad = -118, Breitengrad = 33.91,Anzahl Einwohner = 1416  und Durchschnttseinkommen = 38372 hat sieht dies in der Notation wie folgt aus: \n",
        "\n",
        " $x_1{} = \\begin{bmatrix}{-118}\\\\{33.91}\\\\{1416}\\\\{38372}\\end{bmatrix}$\n",
        "*  *$y_{i}$*  ist das dazugehörenden Label. Beispielsweise ist der mittlere Verkaufspreis einer Immobilie in der Region um den Datenpunkt $ x_{i}$, *$y_{i}$*  = 156000.\n",
        "* ***X*** ist eine Matrix mit sämtlichen Datenpunkten ***$x^{(i)}$*** (ohne Labels). Pro Datenpunkt gibt es eine Zeile $X = \\begin{bmatrix}{(x_{1})^T}\\\\{(x_{2})^T}\\\\{(x_{3})^T}\\\\\\vdots&\\\\{(x_{1000})^T}\\end{bmatrix} = \\begin{bmatrix}{-118}&{33.91}&{1416}&{38372}\\\\\\vdots&\\vdots &\\vdots & \\vdots\\end{bmatrix}$ \n",
        "\n",
        "* Das ***T*** steht für den Transponierungs-Operator und wandelt einen Spaltenvektor in einen Zeilenvektor oder umgekehrt."
      ]
    },
    {
      "cell_type": "markdown",
      "metadata": {
        "id": "NDofu7DqB9n8"
      },
      "source": [
        "### Statistik & Visualisierung ###\n",
        "\n",
        "Die zwei Themen Statisik und Visualiserung haben einen starken Zusammenhnag weshalb sie im gleichen Kapitel beschrieben werden.\n",
        "\n",
        "Gute Tutorial Videos sind:\n",
        "[Studyflix](https://studyflix.de/wirtschaftswissenschaften/deskriptive-statistik-1052), [Simple Learning Pro (engl.)](https://www.youtube.com/watch?v=MXaJ7sa7q-8&list=PL0KQuRyPJoe6KjlUM6iNYgt8d0DwI-IGR&index=1)."
      ]
    },
    {
      "cell_type": "markdown",
      "metadata": {
        "id": "5OWcwiN-_k_3"
      },
      "source": [
        "####**Statisik**\n",
        "\n",
        "Statistik wird einerseits als eigenständige mathematische Disziplin über das Sammeln, die Analyse, die Interpretation oder Präsentation von Daten betrachtet, andererseits als Teilgebiet der Mathematik, insbesondere der Stochastik, angesehen. Die **Stochastik** umfasst Statistik und die Wahrscheinlichkeitstheorie. In der Statisik geht es im wesentlichen immer darum Zahlen aus einer Untersuchungsgebiet zu **vergleichen**, zu **unterscheiden** und zu **zählen**. Die Resultate aus einer statistischen Untersuchung werden dazu verwendet um, \n",
        "* **Hypothesen** zu bestätigen oder zu wiederlegen;\n",
        "* **Voraussagen** zu treffen;\n",
        "* **Entscheidungen** herbeizuführen.\n",
        "\n",
        "Die Statistik wird in die folgenden drei Teilbereiche eingeteilt:\n",
        "\n"
      ]
    },
    {
      "cell_type": "markdown",
      "metadata": {
        "id": "wuP_RWydvoKB"
      },
      "source": [
        "#### **Deskriptive Statisik** \n",
        "\n",
        "Die **deskriptive Statistik** (auch beschreibende Statistik oder **empirische Statistik**): Vorliegende Daten werden in geeigneter Weise beschrieben, aufbereitet und zusammengefasst. Mit ihren Methoden verdichtet man quantitative Daten zu Tabellen, graphischen Darstellungen und Kennzahlen. Sie bildet die Grundlage für die weiteren Statisikarten wie die Induktive- oder Explorative Statisitik. Inferenzstatistik.\n",
        "Die Daten werden beschrieben und dargestellt mit:\n",
        " * Tabellen (bzw. Konigenztabelle)\n",
        " * Plots (Streudiagramme, Kreisdiagramme, Balkendiagramme)\n",
        "\n",
        "Die Unterkategorien der deskriptiven Statistik sind:\n",
        "\n",
        "\n",
        "<img src='https://blog.studyflix.de/wp-content/uploads/2018/12/Deskriptive-Statistik-Ma%C3%9Fe-1024x576.jpg' width='400'>\n",
        "\n",
        "Kennzahlen der deskriptiven Statisik werden ermittelt mit:\n",
        "\n",
        "\n",
        "\n"
      ]
    },
    {
      "cell_type": "markdown",
      "metadata": {
        "id": "phhnXRLsg9Es"
      },
      "source": [
        "####Lagemasse \n",
        "\n",
        "Der Modus, der Median und der Mittelwert sind die drei bekanntesten, sogenannten Lagemaße der Statistik. Mit ihnen versuchen wir eine zentrale Tendenz in einer Datenmenge zu erfassen. Deshalb werden sie öfter auch als Maße der zentralen Tendenz bezeichnet.\n",
        "\n",
        "**Modus**\n",
        "\n",
        "Der Modus, welcher auch Modalwert genannt wird,  ist ein Lagemass der Statistik, welcher für alle Skalenniveaus berechnet werden kann. Er ist definiert als der in einer Stichprobe am häufigsten vorkommende Wert.\n",
        "\n",
        "$\\bar{x}_{mod} = n$\n",
        "\n",
        "Skalennieveaus:\n",
        " * Nominal\n",
        " * Ordinal\n",
        " * Kardinal\n",
        "\n",
        "\n",
        "**Modus Code Samples:**\n",
        "\n",
        "Python:\n",
        "```python\n",
        "import statistics as stat\n",
        "x = [1,2,2,5,6,2,4,5,8,10]\n",
        "stat.mode(x)\n",
        "\n",
        "output: 2\n",
        "```\n",
        "R:\n",
        "```r\n",
        "x <- c(1,2,2,5,6,2,4,5,8,10)\n",
        "table(x)\n",
        "\n",
        "ouput: \n",
        "x\n",
        " 1  2  4  5  6  8 10 \n",
        " 1  3  1  2  1  1  1 \n",
        " \n",
        "Hinweis: Die untere Zeile zeigt die Häufigkeit der oben gezeigten Zahlen an\n",
        "```\n",
        "\n",
        "\n",
        "-------\n",
        "\n",
        "**Median**\n",
        "\n",
        "Der Median in der Statistik, welcher auch als Zentralwert bekannt ist, gibt als Lageparameter an, welcher Messwert genau in der Mitte einer sortierten Urliste liegt. Er Teilt die Messwerte somit in zwei gleich große Gruppen ein, welche Werte beinhalten, die entweder größer sind als der Median, oder kleiner. Da er sich nicht durch Ausreisser beeinflussen lässt gilt er als **Robust**.\n",
        "\n",
        "Formel bei **ungerader** Anzahl:\n",
        "\n",
        "**$\\bar{x}_{med} = \\frac{x_n + 1}{2}$**\n",
        "\n",
        "Berechnungsbeispiel: 5,7,21,35,70\n",
        "\n",
        "$\\frac{5+1}{2} =\\frac{6}{2}= 3$ (Position) somit ist der Median 21\n",
        "\n",
        "\n",
        "Formel bei **gerader** Anzahl:\n",
        "\n",
        "**$\\bar{x}_{med} = \\frac{1}{2}(x_\\frac{n}{2}+x_\\frac{n}{2}+_1)$**\n",
        "\n",
        "Berechnungsbeipiel: 14,22,40,60,74,105\n",
        "\n",
        "$\\frac{1}{2} (\\frac{6}{2} + \\frac{6}{2}+_1) = 3 + 4 =$ Mitte zwischen 40 und 60 macht einen Median von 50\n",
        "\n",
        "Skalenniveaus:\n",
        " * Ordinal\n",
        " * Kardinal\n",
        "\n",
        "**Median Code Samples:**\n",
        "\n",
        "Python:\n",
        "```python\n",
        "import statistics as stat\n",
        "x = [1,2,2,5,6,2,4,5,8,10]\n",
        "stat.median(x)\n",
        "\n",
        "output: 4.5\n",
        "```\n",
        "\n",
        "R:\n",
        "```r\n",
        "x <- c(1,2,2,5,6,2,4,5,8,10)\n",
        "median(x)\n",
        "\n",
        "output: 4.5\n",
        "```\n",
        " -------\n",
        "\n",
        "**Mittelmass (Mean)**\n",
        "\n",
        "Der Mittelwert markiert - wie der Name schon sagt - die **Mitte des Datensatzes**. Der Mittelwert soll uns aber auch ermöglichen den **Gesamtwert** aller statistischen Einheiten zu **reproduzieren**. Der Mittelwert kommt nur in Zusammenhang mit Kardinalskalen vor.\n",
        "\n",
        "In der Statisik spricht man von den drei folgenden Mittelswerten:\n",
        "\n",
        "***Arithmetischer Mittelwert (Durchschnitt)***\n",
        "\n",
        "Der arithm. Mittelwert errechnet sich aus der Summe aller Werte dividiert durch die Anzahl Werte.\n",
        "\n",
        "$\\bar{x} = \\frac{1}{n}\\sum \\limits_{i=1}^{n}{x_i}$\n",
        "\n",
        "$\\bar{x}$ (x-Quer) ist das Symbol für den Mittelwert.\n",
        "\n",
        "Berechnungsbeispiel: 12,20,40,25,44,56,30\n",
        "\n",
        "\n",
        "$\\frac{12+20+40+25+44+56+30}{7} = 32.4$\n",
        "\n",
        "**Mean Code Samples:**\n",
        "\n",
        "Python:\n",
        "```python\n",
        "import statistics as stat\n",
        "x = [1,2,2,5,6,2,4,5,8,10]\n",
        "stat.mean(x)\n",
        "\n",
        "output: 4.5\n",
        "```\n",
        "\n",
        "R:\n",
        "```r\n",
        "x <- c(1,2,2,5,6,2,4,5,8,10)\n",
        "mean(x)\n",
        "\n",
        "output: 4.5\n",
        "```\n",
        "\n",
        "***Geometrischer Mittelwert (durchschnittliche Veränderungsrate)***\n",
        "\n",
        "Dieser Mittelwert wird für die Berechnung von prozentualen Veränderungen verwendet. Beispielsweise um wieviel Prozent haben sich die Ausgaben eines Kontos durchschnittlich verändert.\n",
        "\n",
        "$\\bar{x}_{geom} = \\sqrt[n]{n \\prod \\limits ^{n}_{i=1}x_i}$\n",
        "\n",
        "Beispielsberechnung: mont. Wachstumsrate Kontostand  \n",
        "\n",
        "Konto:\n",
        "\n",
        "Oktober | November | Dezember | Januar | Februar\n",
        "--- | --- | --- | --- | ---\n",
        "1.000€ | 950€ | 1.030€ | 1.050€ | 1.200€\n",
        "\n",
        "Monatliche Wachstumsraten:\n",
        "\n",
        "-5% | 8.42% | 1.94% | 14.29%\n",
        "--- | --- | --- | ---\n",
        "\n",
        "Wichtig bei der folgenden Berechnung ist es jeweils die Auf - und Abzinsungsfaktoren zu multiplizieren - nicht die Verzinsung. D.h. der Betrag von 1.000 * (1+-5%) = 0.95 * 1.000 (1+8.42%) = 1,0842 ...\n",
        "\n",
        "$\\bar{x}_{geom} = \\sqrt[4]{0.95 * 1,0842 * 1,0194 * 1,1429} \\approx 1,047 = 4,7$%\n",
        "\n",
        "Das Mittelmass ist im Gegensatz zum Modus und Median nicht **robust** gegenüber Ausreisern.\n",
        "\n",
        "**Geometrics Mean Code Samples:**\n",
        "\n",
        "Python:\n",
        "```python\n",
        "import statistics as stat\n",
        "x = [1,2,2,5,6,2,4,5,8,10]\n",
        "x1 =\n",
        "stat.mean(x)\n",
        "\n",
        "output: 4.5\n",
        "```\n",
        "\n",
        "R:\n",
        "```r\n",
        "x <- c(1,2,2,5,6,2,4,5,8,10)\n",
        "mean(x)\n",
        "\n",
        "output: 4.5\n",
        "```\n",
        "\n",
        "***Harmonisches Mittel***\n",
        "\n",
        "Dieses Mittel kommt bei Verhältniszahlen (Brüche, die Beziehungen widerspiegeln)zum Einsatz. Beispiele solcher Verhältniszahlen pro Kopfeinkommen der schweizer Bevölkerung oder Preis pro $1m^2$.\n",
        "Das gewichtet harmonische Mittel kommt dann zum Einsatz, wenn im **Nenner** ($\\frac{Zähler}{Nenner (Teiler)}$) gewichtebezogene Grössen angegeben sind. Beim arithmetischen Mittelwert sind diese im **Zähler**. \n",
        "Die Formel sieht wie folgt aus: \n",
        "\n",
        "$\\bar{x}_{harm} = \\frac{n}{\\sum \\limits_{n_i}^{n} =1\\frac{1}{x_i}}$\n",
        "\n",
        "Streckenabschnitt | Streck in km | Geschwindigkeit in km/h | Zeit in h\n",
        "--- | --- | --- | --- \n",
        "1 | 50 | 150 | 1/3\n",
        "2 | 60 | 120 | 1/2\n",
        "3 | 90 | 90 | 1\n",
        "\n",
        "Die Geschwindikeit in km/h ist eine Verhältniszahl also Kilometer pro Stunde. Wir wollen nun die durchschnittliche Geschwindigkeit berechnen:\n",
        "\n",
        "$\\bar{x}_{harm} = \\frac {\\sum \\limits_{i=1}^{n}g_i}{\\sum \\limits_{i=1}^{n}\\frac {g_i}{x_i}}= \\frac{50 + 60 + 90}{\\frac {50}{150}+\\frac {60}{120}+ \\frac {90}{90}}= \\frac{200}{1.8333} = 109,09 km/h$ (auf zwei Stellen gerundet) \n",
        "\n",
        "\n",
        "Skalenniveaus:\n",
        " * Kardinal\n",
        "\n",
        "**Code Samples:**\n",
        "\n",
        "Python:\n",
        "```python\n",
        "import statistics as stat\n",
        "x = [1,2,2,5,6,2,4,5,8,10]\n",
        "stat.mean(x)\n",
        "\n",
        "output: 4.5\n",
        "```\n",
        "\n",
        "R:\n",
        "```r\n",
        "x <- c(1,2,2,5,6,2,4,5,8,10)\n",
        "mean(x)\n",
        "\n",
        "output: 4.5\n",
        "```\n",
        "\n"
      ]
    },
    {
      "cell_type": "markdown",
      "metadata": {
        "id": "hkXh7qu4mfnN"
      },
      "source": [
        "***Quartile, Quintile, Dezile und Perzentile***\n",
        "\n",
        "Neben den bereits erwähnten Lagemasse Modus, Median und Mittelmass, welche die Mitte eines Datensatzes repräsentieren gehören noch die folgenden Masse, die die Mengen an Daten teilen. Mit Hilfe von ihnen können Aussagen darüber gemacht werden wieviele Prozent an Daten unterhalb oder oberhalb eine bestimmten Wertes liegen.\n",
        "\n",
        "* **Quantile** - Das 0,2 Quantil beispielsweise beschreibt, dass 20& aller Daten unter diesem Quantil liegen. Bspw. 20% der Schüler haben eine besserer Note als 5.\n",
        "\n",
        "Das 0,5 Quantil ist der Median, da er die Verteilung genau in der Mitte durchführt.\n",
        "\n",
        "* **Quartile** - Unterteilen die Datenmenge in vier gleiche Teile. Wir können das 0.25, 0.50 (Median) und 0.75 Quantil. Um das oberer Quantil zu berechnen gilt folgende Formel:\n",
        "\n",
        " Falls n * p ganzzahlig:\n",
        "\n",
        " $x_p = \\frac {1}{2}(x_{(np)} + x_{(np+1)})$ \n",
        "\n",
        " Falls n * p nicht ganzzahlig:\n",
        "\n",
        " $x_p = \\frac{1}{2} (x_{np+1})$\n",
        "\n",
        " n = Anzahl Beobachtungen\n",
        "\n",
        " p = p-Quartil\n",
        "\n",
        " Berechnungsbeispiel:\n",
        " \n",
        "\n",
        "  1 | 2 | 3 | 4 | 5 | 6 | 7\n",
        " --- | --- | --- | --- | --- | --- | ---\n",
        " 0,35 | 1,30 | 2,05 | 3,00 | 3,55 | 4,75 | 5,14\n",
        "\n",
        "* **Quintile** - Teilen die Menge in 5 Teile\n",
        "\n",
        "* **Dezile** - Teilen die Menge in 10 Teile\n",
        "\n",
        "* **Perzentile** - Teilen die Menge in 100 Teile.\n",
        "\n",
        "Mittels des Python Befels .describe lassen sich Quantile eines Datensatzes einfach darstellen:"
      ]
    },
    {
      "cell_type": "code",
      "metadata": {
        "id": "FZoNfYHLpwf2",
        "colab": {
          "base_uri": "https://localhost:8080/",
          "height": 317
        },
        "outputId": "619df150-4880-4deb-e9df-3f876c500efa"
      },
      "source": [
        "import pandas as pd\n",
        "\n",
        "datloc = 'https://raw.githubusercontent.com/sakuronohana/my_datascience/master/datasets/car_data.csv'\n",
        "\n",
        "datload = pd.read_csv(datloc, sep=';')\n",
        "\n",
        "datload.describe()\n"
      ],
      "execution_count": null,
      "outputs": [
        {
          "output_type": "execute_result",
          "data": {
            "text/html": [
              "<div>\n",
              "<style scoped>\n",
              "    .dataframe tbody tr th:only-of-type {\n",
              "        vertical-align: middle;\n",
              "    }\n",
              "\n",
              "    .dataframe tbody tr th {\n",
              "        vertical-align: top;\n",
              "    }\n",
              "\n",
              "    .dataframe thead th {\n",
              "        text-align: right;\n",
              "    }\n",
              "</style>\n",
              "<table border=\"1\" class=\"dataframe\">\n",
              "  <thead>\n",
              "    <tr style=\"text-align: right;\">\n",
              "      <th></th>\n",
              "      <th>mpg</th>\n",
              "      <th>cyl</th>\n",
              "      <th>disp</th>\n",
              "      <th>hp</th>\n",
              "      <th>drat</th>\n",
              "      <th>weightslibs</th>\n",
              "      <th>qsec</th>\n",
              "      <th>vs</th>\n",
              "      <th>am</th>\n",
              "      <th>gear</th>\n",
              "      <th>carb</th>\n",
              "    </tr>\n",
              "  </thead>\n",
              "  <tbody>\n",
              "    <tr>\n",
              "      <th>count</th>\n",
              "      <td>32.000000</td>\n",
              "      <td>32.000000</td>\n",
              "      <td>32.000000</td>\n",
              "      <td>32.000000</td>\n",
              "      <td>32.000000</td>\n",
              "      <td>32.000000</td>\n",
              "      <td>32.000000</td>\n",
              "      <td>32.000000</td>\n",
              "      <td>32.000000</td>\n",
              "      <td>32.000000</td>\n",
              "      <td>32.0000</td>\n",
              "    </tr>\n",
              "    <tr>\n",
              "      <th>mean</th>\n",
              "      <td>20.090625</td>\n",
              "      <td>6.187500</td>\n",
              "      <td>230.721875</td>\n",
              "      <td>146.687500</td>\n",
              "      <td>3.596563</td>\n",
              "      <td>3.217250</td>\n",
              "      <td>17.848750</td>\n",
              "      <td>0.437500</td>\n",
              "      <td>0.406250</td>\n",
              "      <td>3.687500</td>\n",
              "      <td>2.8125</td>\n",
              "    </tr>\n",
              "    <tr>\n",
              "      <th>std</th>\n",
              "      <td>6.026948</td>\n",
              "      <td>1.785922</td>\n",
              "      <td>123.938694</td>\n",
              "      <td>68.562868</td>\n",
              "      <td>0.534679</td>\n",
              "      <td>0.978457</td>\n",
              "      <td>1.786943</td>\n",
              "      <td>0.504016</td>\n",
              "      <td>0.498991</td>\n",
              "      <td>0.737804</td>\n",
              "      <td>1.6152</td>\n",
              "    </tr>\n",
              "    <tr>\n",
              "      <th>min</th>\n",
              "      <td>10.400000</td>\n",
              "      <td>4.000000</td>\n",
              "      <td>71.100000</td>\n",
              "      <td>52.000000</td>\n",
              "      <td>2.760000</td>\n",
              "      <td>1.513000</td>\n",
              "      <td>14.500000</td>\n",
              "      <td>0.000000</td>\n",
              "      <td>0.000000</td>\n",
              "      <td>3.000000</td>\n",
              "      <td>1.0000</td>\n",
              "    </tr>\n",
              "    <tr>\n",
              "      <th>25%</th>\n",
              "      <td>15.425000</td>\n",
              "      <td>4.000000</td>\n",
              "      <td>120.825000</td>\n",
              "      <td>96.500000</td>\n",
              "      <td>3.080000</td>\n",
              "      <td>2.581250</td>\n",
              "      <td>16.892500</td>\n",
              "      <td>0.000000</td>\n",
              "      <td>0.000000</td>\n",
              "      <td>3.000000</td>\n",
              "      <td>2.0000</td>\n",
              "    </tr>\n",
              "    <tr>\n",
              "      <th>50%</th>\n",
              "      <td>19.200000</td>\n",
              "      <td>6.000000</td>\n",
              "      <td>196.300000</td>\n",
              "      <td>123.000000</td>\n",
              "      <td>3.695000</td>\n",
              "      <td>3.325000</td>\n",
              "      <td>17.710000</td>\n",
              "      <td>0.000000</td>\n",
              "      <td>0.000000</td>\n",
              "      <td>4.000000</td>\n",
              "      <td>2.0000</td>\n",
              "    </tr>\n",
              "    <tr>\n",
              "      <th>75%</th>\n",
              "      <td>22.800000</td>\n",
              "      <td>8.000000</td>\n",
              "      <td>326.000000</td>\n",
              "      <td>180.000000</td>\n",
              "      <td>3.920000</td>\n",
              "      <td>3.610000</td>\n",
              "      <td>18.900000</td>\n",
              "      <td>1.000000</td>\n",
              "      <td>1.000000</td>\n",
              "      <td>4.000000</td>\n",
              "      <td>4.0000</td>\n",
              "    </tr>\n",
              "    <tr>\n",
              "      <th>max</th>\n",
              "      <td>33.900000</td>\n",
              "      <td>8.000000</td>\n",
              "      <td>472.000000</td>\n",
              "      <td>335.000000</td>\n",
              "      <td>4.930000</td>\n",
              "      <td>5.424000</td>\n",
              "      <td>22.900000</td>\n",
              "      <td>1.000000</td>\n",
              "      <td>1.000000</td>\n",
              "      <td>5.000000</td>\n",
              "      <td>8.0000</td>\n",
              "    </tr>\n",
              "  </tbody>\n",
              "</table>\n",
              "</div>"
            ],
            "text/plain": [
              "             mpg        cyl        disp  ...         am       gear     carb\n",
              "count  32.000000  32.000000   32.000000  ...  32.000000  32.000000  32.0000\n",
              "mean   20.090625   6.187500  230.721875  ...   0.406250   3.687500   2.8125\n",
              "std     6.026948   1.785922  123.938694  ...   0.498991   0.737804   1.6152\n",
              "min    10.400000   4.000000   71.100000  ...   0.000000   3.000000   1.0000\n",
              "25%    15.425000   4.000000  120.825000  ...   0.000000   3.000000   2.0000\n",
              "50%    19.200000   6.000000  196.300000  ...   0.000000   4.000000   2.0000\n",
              "75%    22.800000   8.000000  326.000000  ...   1.000000   4.000000   4.0000\n",
              "max    33.900000   8.000000  472.000000  ...   1.000000   5.000000   8.0000\n",
              "\n",
              "[8 rows x 11 columns]"
            ]
          },
          "metadata": {
            "tags": []
          },
          "execution_count": 3
        }
      ]
    },
    {
      "cell_type": "markdown",
      "metadata": {
        "id": "JtkCVoLywyNS"
      },
      "source": [
        "#### **Streuungsmasse**\n",
        "\n",
        "Meist reichen die Lageparameter jedoch nicht aus um um den Datensatz umfassend zu veranschaulichen. So können Unterschiede in einem Datensatz nicht nur durch den Mittelwert betrachtet werden, da dies keine Aussage über die Streuung macht. Daher ist es sinnvoll sich zusätzlich die Streuung der Daten anzusehen. So kann man überprüfen, ob die Werte sehr unterschiedlich sind und es eventuell Ausreißer im Datensatz gibt. Die wichtigsten Streuungsparameter sind:\n",
        "\n",
        "   * Varianz und Standardabweichung\n",
        "   * Spannweite und Quartilsabstand\n",
        "   * Variationskoeffizient\n"
      ]
    },
    {
      "cell_type": "markdown",
      "metadata": {
        "id": "HIoux6E4Mq7D"
      },
      "source": [
        "#### Varianz und Standardabweichung\n",
        "\n",
        "\n",
        "Eine grundsätzlich gute Methode um eine Streuung in einenn Datensatz zu veranschaulichen ist der Zahlenstrahl\n",
        "\n",
        "<img src='https://github.com/sakuronohana/my_datascience/blob/master/doc_images/zahlenstrahl.jpeg?raw=1' width='500'>\n",
        "\n",
        "Quelle: [Streumasse](https://www.youtube.com/watch?v=3oZrS3ZWVcA&t=158s)\n",
        "\n",
        "**Spannweite (Range)**\n",
        "\n",
        "Die Spannweite (engl. Range) ist beispielsweise eines der einfachsten Streumassen. \n",
        "\n",
        "Mathematische Notation:\n",
        "\n",
        "$R = x_{max} - x_{min}$\n",
        "\n",
        "------------\n",
        "\n",
        "Beispiel:\n",
        "\n",
        "Nehmen wir an, wir haben folgende zwei Wertbereiche:\n",
        "\n",
        "$x_1$ | $x_2$\n",
        "--- | ---\n",
        "8.5 | 12\n",
        "10 | 5\n",
        "8 | 14\n",
        "9 | 6\n",
        "9.5 | 8\n",
        "\n",
        "$R(X_1) = 10-8 = 2$\n",
        "\n",
        "$R(X_2) = 14-5 = 9$\n",
        "\n",
        "Wir sehen an diesem Beipiel, dass die Werte von $X_2$ stärker streuen als diese von $X_1$.\n",
        "\n",
        "Die Spannweite (Range) hat aber leider einen entscheidenen Nachteil. Er lässt sich durch Ausreiser beeinflussen.\n",
        "\n",
        "------------------------\n",
        "**Mittlere Absolute Abweichung (engl. mean absolute deviation - MAD)**\n",
        "\n",
        "Besser ist es, wenn man die durchschnittliche Abweichung zur Mitte berechnet. Den Streuung bedeutet ja vom mittleren Wert abzuweichen. Hierfür eignet sich MAD am Besten.\n",
        "\n",
        "Mathematische Notation:\n",
        "\n",
        "$\\overline d = \\frac {1}{n}\\sum \\limits_{i=1}^{n}{|x_i - \\overline x|}$\n",
        "\n",
        "\n",
        "\n"
      ]
    },
    {
      "cell_type": "code",
      "metadata": {
        "id": "XzevcfYlN6VL"
      },
      "source": [
        "import plotly.graph_objects as go\n",
        "import numpy as np\n",
        "\n",
        "x = np.arange(10)\n",
        "y = np.arange(10)\n",
        "\n",
        "fig = go.Figure(data=go.Scatter(x=x, y=y-x))\n",
        "\n",
        "fig.show()"
      ],
      "execution_count": null,
      "outputs": []
    },
    {
      "cell_type": "markdown",
      "metadata": {
        "id": "eOjMg2wew3TY"
      },
      "source": [
        "#### Zusammenhangsmasse\n",
        "\n",
        "Ein Zusammenhangsparameter gibt die Stärke und gegebenenfalls die Richtung des Zusammenhangs zweier Variablen an. In diesem Zuge spielt auch die Korrelation eine wichtige Rolle. Es können verschiedene Korrelationskoeffizienten gebildet werden, zum Beispiel bei der Pearson Korrelation oder der Spearman Korrelation.\n",
        "\n"
      ]
    },
    {
      "cell_type": "markdown",
      "metadata": {
        "id": "Z7-JEEeTof1k"
      },
      "source": [
        "### Visuelle Darstellungsformen in der deskriptiven Statisik\n",
        "\n",
        "Neben der Aufbereitung der Daten in Form von Tabellen gehört ebenfalls die visuelle Darstellung in Form von Plots dazu. Nachfolgend ein paar von den wichtigsten Plots in der DS:"
      ]
    },
    {
      "cell_type": "markdown",
      "metadata": {
        "id": "CKCtAGXgvt_V"
      },
      "source": [
        "#### Streudiagramm\n",
        "\n",
        "Das Streudiagramm ist sehr nützliches Werkzeug, wenn es darum geht sich einen Überblick über die Streuung der Daten zu machen. Es empfiehlt sich grundsätzlich immer als erstes dieses Diagramm zu ploten."
      ]
    },
    {
      "cell_type": "code",
      "metadata": {
        "id": "-QNny7qSvlDN",
        "colab": {
          "base_uri": "https://localhost:8080/",
          "height": 542
        },
        "outputId": "fd4dad8f-f76d-41e6-f97e-de3d33d982a4"
      },
      "source": [
        "import pandas as pd\n",
        "import numpy as np\n",
        "import plotly.express as px\n",
        "\n",
        "datloc = 'https://raw.githubusercontent.com/sakuronohana/my_datascience/master/datasets/car_data.csv'\n",
        "\n",
        "datload = pd.read_csv(datloc, sep=';')\n",
        "\n",
        "n,p = 100, 0.4\n",
        "x = np.random.binomial(n,p,50)\n",
        "y = np.random.binomial(n,p,50)\n",
        "\n",
        "spdatload = px.scatter(datload, x=x, y=y)\n",
        "spdatload.show()"
      ],
      "execution_count": null,
      "outputs": [
        {
          "output_type": "display_data",
          "data": {
            "text/html": [
              "<html>\n",
              "<head><meta charset=\"utf-8\" /></head>\n",
              "<body>\n",
              "    <div>\n",
              "            <script src=\"https://cdnjs.cloudflare.com/ajax/libs/mathjax/2.7.5/MathJax.js?config=TeX-AMS-MML_SVG\"></script><script type=\"text/javascript\">if (window.MathJax) {MathJax.Hub.Config({SVG: {font: \"STIX-Web\"}});}</script>\n",
              "                <script type=\"text/javascript\">window.PlotlyConfig = {MathJaxConfig: 'local'};</script>\n",
              "        <script src=\"https://cdn.plot.ly/plotly-latest.min.js\"></script>    \n",
              "            <div id=\"74ea4be7-56ce-4d55-9a13-df660ae2a66a\" class=\"plotly-graph-div\" style=\"height:525px; width:100%;\"></div>\n",
              "            <script type=\"text/javascript\">\n",
              "                \n",
              "                    window.PLOTLYENV=window.PLOTLYENV || {};\n",
              "                    \n",
              "                if (document.getElementById(\"74ea4be7-56ce-4d55-9a13-df660ae2a66a\")) {\n",
              "                    Plotly.newPlot(\n",
              "                        '74ea4be7-56ce-4d55-9a13-df660ae2a66a',\n",
              "                        [{\"hoverlabel\": {\"namelength\": 0}, \"hovertemplate\": \"x=%{x}<br>y=%{y}\", \"legendgroup\": \"\", \"marker\": {\"color\": \"#636efa\", \"symbol\": \"circle\"}, \"mode\": \"markers\", \"name\": \"\", \"showlegend\": false, \"type\": \"scatter\", \"x\": [39, 32, 44, 35, 42, 46, 41, 42, 42, 38, 41, 35, 42, 49, 41, 47, 36, 35, 43, 39, 30, 43, 43, 41, 47, 41, 38, 36, 36, 38, 41, 47, 39, 33, 34, 52, 36, 44, 49, 45, 33, 40, 46, 35, 37, 31, 42, 44, 45, 47], \"xaxis\": \"x\", \"y\": [38, 37, 43, 39, 42, 38, 48, 41, 42, 39, 45, 44, 44, 40, 43, 33, 41, 40, 38, 36, 35, 44, 40, 43, 37, 38, 43, 33, 44, 39, 36, 41, 44, 40, 33, 46, 34, 48, 42, 45, 47, 35, 35, 44, 40, 47, 37, 32, 49, 38], \"yaxis\": \"y\"}],\n",
              "                        {\"legend\": {\"tracegroupgap\": 0}, \"margin\": {\"t\": 60}, \"template\": {\"data\": {\"bar\": [{\"error_x\": {\"color\": \"#2a3f5f\"}, \"error_y\": {\"color\": \"#2a3f5f\"}, \"marker\": {\"line\": {\"color\": \"#E5ECF6\", \"width\": 0.5}}, \"type\": \"bar\"}], \"barpolar\": [{\"marker\": {\"line\": {\"color\": \"#E5ECF6\", \"width\": 0.5}}, \"type\": \"barpolar\"}], \"carpet\": [{\"aaxis\": {\"endlinecolor\": \"#2a3f5f\", \"gridcolor\": \"white\", \"linecolor\": \"white\", \"minorgridcolor\": \"white\", \"startlinecolor\": \"#2a3f5f\"}, \"baxis\": {\"endlinecolor\": \"#2a3f5f\", \"gridcolor\": \"white\", \"linecolor\": \"white\", \"minorgridcolor\": \"white\", \"startlinecolor\": \"#2a3f5f\"}, \"type\": \"carpet\"}], \"choropleth\": [{\"colorbar\": {\"outlinewidth\": 0, \"ticks\": \"\"}, \"type\": \"choropleth\"}], \"contour\": [{\"colorbar\": {\"outlinewidth\": 0, \"ticks\": \"\"}, \"colorscale\": [[0.0, \"#0d0887\"], [0.1111111111111111, \"#46039f\"], [0.2222222222222222, \"#7201a8\"], [0.3333333333333333, \"#9c179e\"], [0.4444444444444444, \"#bd3786\"], [0.5555555555555556, \"#d8576b\"], [0.6666666666666666, \"#ed7953\"], [0.7777777777777778, \"#fb9f3a\"], [0.8888888888888888, \"#fdca26\"], [1.0, \"#f0f921\"]], \"type\": \"contour\"}], \"contourcarpet\": [{\"colorbar\": {\"outlinewidth\": 0, \"ticks\": \"\"}, \"type\": \"contourcarpet\"}], \"heatmap\": [{\"colorbar\": {\"outlinewidth\": 0, \"ticks\": \"\"}, \"colorscale\": [[0.0, \"#0d0887\"], [0.1111111111111111, \"#46039f\"], [0.2222222222222222, \"#7201a8\"], [0.3333333333333333, \"#9c179e\"], [0.4444444444444444, \"#bd3786\"], [0.5555555555555556, \"#d8576b\"], [0.6666666666666666, \"#ed7953\"], [0.7777777777777778, \"#fb9f3a\"], [0.8888888888888888, \"#fdca26\"], [1.0, \"#f0f921\"]], \"type\": \"heatmap\"}], \"heatmapgl\": [{\"colorbar\": {\"outlinewidth\": 0, \"ticks\": \"\"}, \"colorscale\": [[0.0, \"#0d0887\"], [0.1111111111111111, \"#46039f\"], [0.2222222222222222, \"#7201a8\"], [0.3333333333333333, \"#9c179e\"], [0.4444444444444444, \"#bd3786\"], [0.5555555555555556, \"#d8576b\"], [0.6666666666666666, \"#ed7953\"], [0.7777777777777778, \"#fb9f3a\"], [0.8888888888888888, \"#fdca26\"], [1.0, \"#f0f921\"]], \"type\": \"heatmapgl\"}], \"histogram\": [{\"marker\": {\"colorbar\": {\"outlinewidth\": 0, \"ticks\": \"\"}}, \"type\": \"histogram\"}], \"histogram2d\": [{\"colorbar\": {\"outlinewidth\": 0, \"ticks\": \"\"}, \"colorscale\": [[0.0, \"#0d0887\"], [0.1111111111111111, \"#46039f\"], [0.2222222222222222, \"#7201a8\"], [0.3333333333333333, \"#9c179e\"], [0.4444444444444444, \"#bd3786\"], [0.5555555555555556, \"#d8576b\"], [0.6666666666666666, \"#ed7953\"], [0.7777777777777778, \"#fb9f3a\"], [0.8888888888888888, \"#fdca26\"], [1.0, \"#f0f921\"]], \"type\": \"histogram2d\"}], \"histogram2dcontour\": [{\"colorbar\": {\"outlinewidth\": 0, \"ticks\": \"\"}, \"colorscale\": [[0.0, \"#0d0887\"], [0.1111111111111111, \"#46039f\"], [0.2222222222222222, \"#7201a8\"], [0.3333333333333333, \"#9c179e\"], [0.4444444444444444, \"#bd3786\"], [0.5555555555555556, \"#d8576b\"], [0.6666666666666666, \"#ed7953\"], [0.7777777777777778, \"#fb9f3a\"], [0.8888888888888888, \"#fdca26\"], [1.0, \"#f0f921\"]], \"type\": \"histogram2dcontour\"}], \"mesh3d\": [{\"colorbar\": {\"outlinewidth\": 0, \"ticks\": \"\"}, \"type\": \"mesh3d\"}], \"parcoords\": [{\"line\": {\"colorbar\": {\"outlinewidth\": 0, \"ticks\": \"\"}}, \"type\": \"parcoords\"}], \"pie\": [{\"automargin\": true, \"type\": \"pie\"}], \"scatter\": [{\"marker\": {\"colorbar\": {\"outlinewidth\": 0, \"ticks\": \"\"}}, \"type\": \"scatter\"}], \"scatter3d\": [{\"line\": {\"colorbar\": {\"outlinewidth\": 0, \"ticks\": \"\"}}, \"marker\": {\"colorbar\": {\"outlinewidth\": 0, \"ticks\": \"\"}}, \"type\": \"scatter3d\"}], \"scattercarpet\": [{\"marker\": {\"colorbar\": {\"outlinewidth\": 0, \"ticks\": \"\"}}, \"type\": \"scattercarpet\"}], \"scattergeo\": [{\"marker\": {\"colorbar\": {\"outlinewidth\": 0, \"ticks\": \"\"}}, \"type\": \"scattergeo\"}], \"scattergl\": [{\"marker\": {\"colorbar\": {\"outlinewidth\": 0, \"ticks\": \"\"}}, \"type\": \"scattergl\"}], \"scattermapbox\": [{\"marker\": {\"colorbar\": {\"outlinewidth\": 0, \"ticks\": \"\"}}, \"type\": \"scattermapbox\"}], \"scatterpolar\": [{\"marker\": {\"colorbar\": {\"outlinewidth\": 0, \"ticks\": \"\"}}, \"type\": \"scatterpolar\"}], \"scatterpolargl\": [{\"marker\": {\"colorbar\": {\"outlinewidth\": 0, \"ticks\": \"\"}}, \"type\": \"scatterpolargl\"}], \"scatterternary\": [{\"marker\": {\"colorbar\": {\"outlinewidth\": 0, \"ticks\": \"\"}}, \"type\": \"scatterternary\"}], \"surface\": [{\"colorbar\": {\"outlinewidth\": 0, \"ticks\": \"\"}, \"colorscale\": [[0.0, \"#0d0887\"], [0.1111111111111111, \"#46039f\"], [0.2222222222222222, \"#7201a8\"], [0.3333333333333333, \"#9c179e\"], [0.4444444444444444, \"#bd3786\"], [0.5555555555555556, \"#d8576b\"], [0.6666666666666666, \"#ed7953\"], [0.7777777777777778, \"#fb9f3a\"], [0.8888888888888888, \"#fdca26\"], [1.0, \"#f0f921\"]], \"type\": \"surface\"}], \"table\": [{\"cells\": {\"fill\": {\"color\": \"#EBF0F8\"}, \"line\": {\"color\": \"white\"}}, \"header\": {\"fill\": {\"color\": \"#C8D4E3\"}, \"line\": {\"color\": \"white\"}}, \"type\": \"table\"}]}, \"layout\": {\"annotationdefaults\": {\"arrowcolor\": \"#2a3f5f\", \"arrowhead\": 0, \"arrowwidth\": 1}, \"coloraxis\": {\"colorbar\": {\"outlinewidth\": 0, \"ticks\": \"\"}}, \"colorscale\": {\"diverging\": [[0, \"#8e0152\"], [0.1, \"#c51b7d\"], [0.2, \"#de77ae\"], [0.3, \"#f1b6da\"], [0.4, \"#fde0ef\"], [0.5, \"#f7f7f7\"], [0.6, \"#e6f5d0\"], [0.7, \"#b8e186\"], [0.8, \"#7fbc41\"], [0.9, \"#4d9221\"], [1, \"#276419\"]], \"sequential\": [[0.0, \"#0d0887\"], [0.1111111111111111, \"#46039f\"], [0.2222222222222222, \"#7201a8\"], [0.3333333333333333, \"#9c179e\"], [0.4444444444444444, \"#bd3786\"], [0.5555555555555556, \"#d8576b\"], [0.6666666666666666, \"#ed7953\"], [0.7777777777777778, \"#fb9f3a\"], [0.8888888888888888, \"#fdca26\"], [1.0, \"#f0f921\"]], \"sequentialminus\": [[0.0, \"#0d0887\"], [0.1111111111111111, \"#46039f\"], [0.2222222222222222, \"#7201a8\"], [0.3333333333333333, \"#9c179e\"], [0.4444444444444444, \"#bd3786\"], [0.5555555555555556, \"#d8576b\"], [0.6666666666666666, \"#ed7953\"], [0.7777777777777778, \"#fb9f3a\"], [0.8888888888888888, \"#fdca26\"], [1.0, \"#f0f921\"]]}, \"colorway\": [\"#636efa\", \"#EF553B\", \"#00cc96\", \"#ab63fa\", \"#FFA15A\", \"#19d3f3\", \"#FF6692\", \"#B6E880\", \"#FF97FF\", \"#FECB52\"], \"font\": {\"color\": \"#2a3f5f\"}, \"geo\": {\"bgcolor\": \"white\", \"lakecolor\": \"white\", \"landcolor\": \"#E5ECF6\", \"showlakes\": true, \"showland\": true, \"subunitcolor\": \"white\"}, \"hoverlabel\": {\"align\": \"left\"}, \"hovermode\": \"closest\", \"mapbox\": {\"style\": \"light\"}, \"paper_bgcolor\": \"white\", \"plot_bgcolor\": \"#E5ECF6\", \"polar\": {\"angularaxis\": {\"gridcolor\": \"white\", \"linecolor\": \"white\", \"ticks\": \"\"}, \"bgcolor\": \"#E5ECF6\", \"radialaxis\": {\"gridcolor\": \"white\", \"linecolor\": \"white\", \"ticks\": \"\"}}, \"scene\": {\"xaxis\": {\"backgroundcolor\": \"#E5ECF6\", \"gridcolor\": \"white\", \"gridwidth\": 2, \"linecolor\": \"white\", \"showbackground\": true, \"ticks\": \"\", \"zerolinecolor\": \"white\"}, \"yaxis\": {\"backgroundcolor\": \"#E5ECF6\", \"gridcolor\": \"white\", \"gridwidth\": 2, \"linecolor\": \"white\", \"showbackground\": true, \"ticks\": \"\", \"zerolinecolor\": \"white\"}, \"zaxis\": {\"backgroundcolor\": \"#E5ECF6\", \"gridcolor\": \"white\", \"gridwidth\": 2, \"linecolor\": \"white\", \"showbackground\": true, \"ticks\": \"\", \"zerolinecolor\": \"white\"}}, \"shapedefaults\": {\"line\": {\"color\": \"#2a3f5f\"}}, \"ternary\": {\"aaxis\": {\"gridcolor\": \"white\", \"linecolor\": \"white\", \"ticks\": \"\"}, \"baxis\": {\"gridcolor\": \"white\", \"linecolor\": \"white\", \"ticks\": \"\"}, \"bgcolor\": \"#E5ECF6\", \"caxis\": {\"gridcolor\": \"white\", \"linecolor\": \"white\", \"ticks\": \"\"}}, \"title\": {\"x\": 0.05}, \"xaxis\": {\"automargin\": true, \"gridcolor\": \"white\", \"linecolor\": \"white\", \"ticks\": \"\", \"title\": {\"standoff\": 15}, \"zerolinecolor\": \"white\", \"zerolinewidth\": 2}, \"yaxis\": {\"automargin\": true, \"gridcolor\": \"white\", \"linecolor\": \"white\", \"ticks\": \"\", \"title\": {\"standoff\": 15}, \"zerolinecolor\": \"white\", \"zerolinewidth\": 2}}}, \"xaxis\": {\"anchor\": \"y\", \"domain\": [0.0, 1.0], \"title\": {\"text\": \"x\"}}, \"yaxis\": {\"anchor\": \"x\", \"domain\": [0.0, 1.0], \"title\": {\"text\": \"y\"}}},\n",
              "                        {\"responsive\": true}\n",
              "                    ).then(function(){\n",
              "                            \n",
              "var gd = document.getElementById('74ea4be7-56ce-4d55-9a13-df660ae2a66a');\n",
              "var x = new MutationObserver(function (mutations, observer) {{\n",
              "        var display = window.getComputedStyle(gd).display;\n",
              "        if (!display || display === 'none') {{\n",
              "            console.log([gd, 'removed!']);\n",
              "            Plotly.purge(gd);\n",
              "            observer.disconnect();\n",
              "        }}\n",
              "}});\n",
              "\n",
              "// Listen for the removal of the full notebook cells\n",
              "var notebookContainer = gd.closest('#notebook-container');\n",
              "if (notebookContainer) {{\n",
              "    x.observe(notebookContainer, {childList: true});\n",
              "}}\n",
              "\n",
              "// Listen for the clearing of the current output cell\n",
              "var outputEl = gd.closest('.output');\n",
              "if (outputEl) {{\n",
              "    x.observe(outputEl, {childList: true});\n",
              "}}\n",
              "\n",
              "                        })\n",
              "                };\n",
              "                \n",
              "            </script>\n",
              "        </div>\n",
              "</body>\n",
              "</html>"
            ]
          },
          "metadata": {
            "tags": []
          }
        }
      ]
    },
    {
      "cell_type": "markdown",
      "metadata": {
        "id": "q1Ld_36g1BO7"
      },
      "source": [
        "####Stabdiagramm & Histogramm####\n",
        "\n",
        "<img src=\"https://github.com/sakuronohana/my_datascience/blob/master/doc_images/stab-histogramm.png?raw=1\" width=\"400\">\n",
        "\n",
        "Quelle: [Kurzes Tutorium Statistik](https://www.youtube.com/watch?v=LkOBRWXnTRQ&t=122s)\n",
        "\n",
        "**Stabdiagramm oder Balkendiagramm**\n",
        "\n",
        "Mittels diesem Diagramm lassen sich die empirischen Häufigkeiten (Y-Axis)von Merkmalausprägungen (X-Axis) mittels Balken darstellen.\n",
        "\n",
        "Nachfolgend ein kleines Stabdiagramm erstellt mit Python: \n"
      ]
    },
    {
      "cell_type": "code",
      "metadata": {
        "id": "PlRFBAo74k9X"
      },
      "source": [
        "import numpy as np\n",
        "import pandas as pd\n",
        "import matplotlib.pyplot as plt\n",
        "\n",
        "datloc = 'https://raw.githubusercontent.com/sakuronohana/my_datascience/master/datasets/car_data.csv'\n",
        "\n",
        "datload = pd.read_csv(datloc, sep=';')\n",
        "\n",
        "newdat = datload.groupby('brand').hp.sum()\n",
        "fig = plt.figure()\n",
        "ax = fig.add_subplot(1,1,1)\n",
        "ax.set_title('Beispiel Stabdiagramm')\n",
        "ax.set_xlabel('Automarken')\n",
        "ax.set_ylabel('Pferdestärken')\n",
        "newdat.plot(kind='bar')\n",
        "plt.show()\n"
      ],
      "execution_count": null,
      "outputs": []
    },
    {
      "cell_type": "markdown",
      "metadata": {
        "id": "eIVUxFkso-c8"
      },
      "source": [
        "**Histogramm**\n",
        "\n",
        "Das Histogramm ist eine Darstellungsform von absoluten oder relativen Häufigkeitsverteilungen kardinal skalierter, also quantitativer Merkmale. Trotz der Ähnlichkeit handelt es sich hierbei nicht um ein Säulendiagramm, denn für die Erstellung eines Histogramms müssen die Daten in Klassen unterteilt werden. So könnte man beispielsweise das Alter von Personen in 10-Jahres-Abstände klassifizieren (z.B. 0-9 Jahre, 10-19 Jahre, 20-29 Jahre etc.). Allerdings müssen die Klassen nicht zwingend gleich groß (konstante Klassen) sein, sondern können auch eine unterschiedliche Breite besitzen (variable Klassen). Die verschiedenen Klassen werden abschließend nebeneinander in Rechtecken dargestellt. Der Flächeninhalt dieser Rechtecke stellt die Klassenhäufigkeit dar, die Höhe gibt Auskunft über die Häufigkeitsdichte und die Breite entspricht der jeweiligen Klasse.\n",
        "\n",
        "Quelle: [Studyflix - Histogramm](https://studyflix.de/wirtschaftswissenschaften/histogramm-1711)\n",
        "\n",
        "Nachfolgend ein kleines Histogramm erstellt mit Python: "
      ]
    },
    {
      "cell_type": "code",
      "metadata": {
        "id": "lHgNfgq7p037",
        "colab": {
          "base_uri": "https://localhost:8080/",
          "height": 287
        },
        "outputId": "93088b9d-50c3-47a6-eb71-ea1ca5b84fbf"
      },
      "source": [
        "import numpy as np\n",
        "import pandas as pd\n",
        "import matplotlib.pyplot as plt\n",
        "\n",
        "datloc = 'https://raw.githubusercontent.com/sakuronohana/my_datascience/master/datasets/car_data.csv'\n",
        "\n",
        "datload = pd.read_csv(datloc, sep=';')\n",
        "\n",
        "bins = np.arange(datload['cyl'].min(), datload['cyl'].max())\n",
        "\n",
        "plt.hist(datload['cyl'],\n",
        "         bins=3,\n",
        "         alpha=0.7,\n",
        "         color='#EDD834',\n",
        "         label='Zylinder')\n",
        "plt.ylim(0,20)"
      ],
      "execution_count": null,
      "outputs": [
        {
          "output_type": "execute_result",
          "data": {
            "text/plain": [
              "(0, 20)"
            ]
          },
          "metadata": {
            "tags": []
          },
          "execution_count": 109
        },
        {
          "output_type": "display_data",
          "data": {
            "image/png": "[encoded data removed]",
            "text/plain": [
              "<Figure size 432x288 with 1 Axes>"
            ]
          },
          "metadata": {
            "tags": []
          }
        }
      ]
    },
    {
      "cell_type": "markdown",
      "metadata": {
        "id": "EVf6d51RpTag"
      },
      "source": [
        "**Boxplot**\n",
        "\n",
        "Der Boxplot, auch Box-Whisker-Plot oder im Deutschen Kastengrafik genannt, ist ein Diagramm, welches die übersichtliche Darstellung der  wichtigsten robusten Lage- und Streuungsmaße ermöglicht. Es werden das Minimum, das untere Quartil, der Median, das obere Quartil und das Maximum abgebildet.\n",
        "\n",
        "<img src='https://github.com/sakuronohana/my_datascience/blob/master/doc_images/boxplot.jpg?raw=1' width='500'>\n",
        "\n",
        "Quelle: [DWH Wiki - Boxplot](http://de.dwhwiki.info/charting/boxplot) \n",
        "\n",
        "Nachfolgend eine mit Python dargestellter Boxplot:"
      ]
    },
    {
      "cell_type": "code",
      "metadata": {
        "id": "2PS3AIUorAol"
      },
      "source": [
        "import pandas as pd\n",
        "import plotly.express as px\n",
        "\n",
        "datloc = 'https://raw.githubusercontent.com/sakuronohana/my_datascience/master/datasets/car_data.csv'\n",
        "\n",
        "datload = pd.read_csv(datloc, sep=';')\n",
        "\n",
        "bpdatload = px.box(datload, y='mpg', points='all')\n",
        "bpdatload.show()\n",
        "\n"
      ],
      "execution_count": null,
      "outputs": []
    },
    {
      "cell_type": "markdown",
      "metadata": {
        "id": "LIuFZ-TQtnPW"
      },
      "source": [
        "### Induktive Statistik ###\n",
        "\n",
        "Die **induktive Statistik** (auch mathematische Statistik, beurteilende Statistik, inferielle Statistik oder **Inferenzstatistik**): In der induktiven Statistik leitet man aus den Daten einer Stichprobe Eigenschaften einer Grundgesamtheit ab. Mit ihrer Hilfe zieht man allgemein gültige Rückschlüsse."
      ]
    },
    {
      "cell_type": "markdown",
      "metadata": {
        "id": "WQURJXzqv2rO"
      },
      "source": [
        "### Explorative Statisik ###\n",
        "\n",
        "Die **explorative Statistik** (auch erkundende Statisik,hypothesen-generierende Statistik, analytische Statistik oder **Data-Mining**): Mit Hilfe dieser Methode sucht man gezielt nach Besonderheiten oder Zusammenhänge in den Daten. Die so gefundenen Ergebnisse lassen sich als Hypothesen verstehen, die erst, nachdem darauf aufbauende, induktive Testverfahren mit entsprechenden (prospektiven) Versuchsplanungen sie bestätigten, als statistisch gesichert gelten können."
      ]
    },
    {
      "cell_type": "markdown",
      "metadata": {
        "id": "FuB--Y70p3H4"
      },
      "source": [
        "####Wichtige statistische Grundbegriffe####\n",
        "\n",
        "* **Grundgesamtheit**(N) - Ist die Menge aller statistischen Einheiten welche für die Untersuchung in Frage kommen. Bspw. Bevölkerung eines Landes oder Arbeitslose usw. \n",
        "* **Statisische Einheit** - Werden einzelenen Objekte bezeichnet, welche in der statischen Untersuchung verwendet werden. Sie ist Bestandteil der Grundgesamtheit. Bspw. einzelene Automarken Schuhmarken, Einwohner, Kanton etc. \n",
        "* **Merkmal** - Sind die Unterscheidungskriterien der Stat. Einheiten. Bspw. Preis, Farbe, Grösse, Länge, Gewicht, Jahreszeiten usw. Die verwendeten Merkmale hängen immer von der jeweiligen Fragestellung ab.\n",
        "* **Merkmalsausprägung** (n) - Bezeichnet man die Zuweisung der Merkmale zu den stat. Einheiten. Bswp. Farben der Autos wie rot, gelb, schwarz, grün etc.\n",
        "* **Diskret** - Sind qualitative oder nichtmetrische Daten\n",
        "* **Stetig** - Sind quantitative oder metrische Daten."
      ]
    },
    {
      "cell_type": "markdown",
      "metadata": {
        "id": "eCqqBVmzuinx"
      },
      "source": [
        "####Statistische Untersuchung####\n",
        "\n",
        "Wird eine statistische Untersuchung durchgeführt, dann definiert man in erster Linie eine Fragestellung. Aus der Fragestellung heraus wird die **Grundgesamtheit** (bspw. alle deutschen Automarken) definiert. Daraus ergeben sich die **statisischen Einheiten** (bspw. Audi, Porsche, BMW, Mercedes usw.) sowie ihre **Merkmale** (bspw. Preis, Kraftstoffverbrauch, Farbe, Hubraum, PS usw.) und die **Merkmalsausprägung** (Bspw. Farbe grün, blau oder Kraftstoffverbrauch 2.5 l pro 100 KM usw)."
      ]
    },
    {
      "cell_type": "markdown",
      "metadata": {
        "id": "yLE0LZzIGWhZ"
      },
      "source": [
        "####Skalenniveaus####\n",
        "\n",
        "Im Rahmen einer statistischen Untersuchung werden jeweils Merkmale und ihre Ausprägungen erhoben. Oft ist es jedoch so, dass sich die Merkmale auch ihn ihrer Typisierung unterscheiden mittels derer sich die Ausprägungen verarbeiten lassen (z.B. Zahlen, Text usw). In der Statisik unterscheidet man zwischen den folgenden **vier Skalatypen**:\n",
        "\n",
        "* **Nominalskala** - Mittels diese Skala lässt sich nur eine Aussage darüber machen, ob sich zwei statistische Einheiten gleiche oder nicht ($= /\\neq$). Es handelt sich dabei um Daten, die in keine logische Reihenfolge gebracht werden können. Bspw. Geschlecht, Haarfarbe, Kleidung von Personen. \n",
        "* **Ordinalskala** - Mit dieser Art von Skalen lassen sich auch Einheiten verleichen ($=/\\neq$) zusätzlich lässt sich noch eine Ordnung herstellen ($>/<$). Eine solche Ordung wir meist auch bei Umfragen verwendet Bspw. Wahl einer zutreffenden Frage von 1 - 5. Andere Ordinalitäten sind gut, sehr gut, perfekt, süss, süsser am süssesten usw.\n",
        "* **Intervallskala** - Neben den bereits bekannten Vergleichsmöglichkeiten ($=/\\neq$) und der Ordnung ($>/<$) kommt bei dieser Skala noch die möglichkeit hinzu Abstände ($+/-$) zu berechnen. Bspw. können die Abstände zwischen den Releasedaten neuer Automodelle berechnet werden. Die Temparature ist auch eine typische Intervallskala. Intervallskalen besitzen keinen natürlichen Nullpunkt bzw. der Nullpunkt ist willkürlich festgelegt. Multiplikationen und Divisionen können deshalb mit Intervallskala nicht durchgeführt werden. Wollen wir also wissen ob Daten Intervallskaliert sind muss mann sich fragen ob der Nullpunkt natürlich oder von Menschen festgelegt wurde.\n",
        "* **Skalenniveaus** - Diese stellt das höchste Skalenniveau dar. Neben den bereits erwähnten Möglichkeiten ($=/\\neq, >/<, +/-$) kommt hier noch die Bildung von Verhältnissen ($./:$)zwischen den Merkmalsausprägungen hinzu. Bspw. können wir das Verhältnis von Preissenkungen oder Preisanstiege bilden. \"Autosklassen (SUV, Coupe usw.) können im Verhältnis bis zu 20% Preisunterschiede haben\". Man spricht in diesem Zusammenhang auch von einer **Verhältnisskala**.\n",
        "\n",
        "Die Intervall- und Verhältnisskala werden oft auch als **Kardinalskala** zusammengefasst.\n",
        "Damit man die korrekte Berechnungsmethode auswählen kann, muss man verstehen in welche Skala sich die vorhandenen Daten bzw. Merkmale bewegen.\n",
        "\n",
        "<img src=\"https://github.com/sakuronohana/my_datascience/blob/master/doc_images/skalenniveaus.png?raw=1\" width=\"400\">\n",
        "\n",
        "Quelle: Youtube [Kurzes Tutorium Statistik](https://www.youtube.com/channel/UCtBEklAtHHji2V1TsaTzZXw)\n",
        "\n",
        "**Hinweis** \n",
        "Als Skala bezeichnet man die Zusammenstellung aller möglichen  Ausprägungen zu einem Merkmal ob sie nun gemessen wurden oder nicht. "
      ]
    },
    {
      "cell_type": "markdown",
      "metadata": {
        "id": "u0-wTCkkeMSH"
      },
      "source": [
        "####Regression####\n",
        "\n",
        "Die Regressionsanalyse ist das Bindeglied zwischen diskreten Messungen und der für die Statisik wichtigen Stetigkeit.\n",
        "\n",
        "Quelle: Youtube [Kurzes Tutorium Statistik](https://www.youtube.com/watch?v=btsd-7AGDjc)\n",
        "\n",
        "Sie sind statistische Analyseverfahren, die zum Ziel haben, *Beziehungen* zwischen einer *abhängigen* (Y-Achse) und einer oder mehreren *unabhängigen* (X-Achse) Variablen zu modellieren. Sie werden insbesondere verwendet, wenn Zusammenhänge quantitativ zu beschreiben oder Werte der abhängigen Variablen zu prognostizieren sind. In der Regression unterscheidet man zwischen Linear und nicht Linear. Ein typischer  Regressionsalgorithmen ist *Lineare Regression*, aber auch *SVM* und *Random Forest* können als RA eingesetzt werden."
      ]
    },
    {
      "cell_type": "markdown",
      "metadata": {
        "id": "3V6J35NrfmUc"
      },
      "source": [
        "#### Lineare Regression #### \n",
        "Das Grundprinzip der Regression: Durch eine oder mehrere unabhängige Variablen, soll eine abhängige Variable erklärt werden. Beispiel: Durch die unabhängigen Variablen i= Werbeausgaben und ii=Anzahl der angebotenen Produkte soll die abhängige Variable y=Tagesumsatz erklärt werden.\n",
        "      * y = a + bi + cii\n",
        "      * y= Tagesumsatz = zuerklärende Variable = Regressand\n",
        "      * a= Konstante\n",
        "      * b= Gewichtungsfaktor der Werbeausgaben\n",
        "      * i= Werbeausgaben\n",
        "      * c= Gewichtungsfaktor der Anzahl der angebotenen Artikel\n",
        "      * ii= Anzahl der angebotenen Artikel\n",
        "\n",
        "  Hier eine Eselsbrücke:\n",
        "\n",
        "  * Regress**OHR**–> Ohren sind „schlau“ und können Dinge erklären –> erklärende Variable–> unabhängige Variable\n",
        "  * Regres**SAND** –> Sand ist „dumm“ und kann nichts erklären–> zuerklärende Variable–> abhängige Variable"
      ]
    },
    {
      "cell_type": "markdown",
      "metadata": {
        "id": "pmD8YRaGCczz"
      },
      "source": [
        "##### **Standardabweichung (engl. Standard Deviation)** #####\n",
        "\n",
        "Es ist die Streuung der Daten, die es gilt zu verstehen. Die **Standardabweichung (σ)** ist in diesem Fall die **wichtigste Größe**, die allgemein benutzt wird, um die Streuung **(Abweichung vom Mittelwert)** von Verteilungen zu messen. Bei der Standardabweichung gelten folgende Regeln:\n",
        "\n",
        "* Die Standardabweichung ist entweder eine positive Zahl oder Null. Sie ist niemals negativ. \n",
        "* Die Standardabweichung ist Null, wenn alle Werte gleich sind. Da sie von der Varianz abgeleitet ist, bedeutet eine **größere Standardabweichung** auch eine **höhere Varianz** und umgekehrt. Die Standardabweichung kann sehr schnell steigen, wenn Werte, die weiter von den übrigen entfernt sind, mit in die Berechnung einbezogen werden.\n",
        "* Die Einheit der Standardabweichung und die Einheit der Messwerte sind gleich.\n",
        "\n",
        "Die Herleitung für die Standardabwechung funktioiniert folgendermassen:\n",
        "\n",
        "1.   Zuerst berechnen wir den arithmetischen Mittelwert (Mean). Beispiel (2 + 4 + 6) / 3 = 4 (Mittelwert)\n",
        "2.   Dann berechnen wir die Standardabweichung S=σ. Beispiel:\n",
        "     \n",
        "     $S_A = (2-4)^2 + (4-4)^2 + (6-4)^2 / 3 $\n",
        "\n",
        "Ein gute Erklärung findest du [hier](https://123mathe.de/spannweite-median-varianz-und-standardabweichung).\n",
        "\n",
        "\n",
        "\n"
      ]
    },
    {
      "cell_type": "markdown",
      "metadata": {
        "id": "M98roYz5HCec"
      },
      "source": [
        "###Wahrscheinlichkeitsrechnung###"
      ]
    },
    {
      "cell_type": "markdown",
      "metadata": {
        "id": "71pVgf2Y-Cco"
      },
      "source": [
        "####Normalverteilung#### \n",
        "\n",
        "Quelle: [Studyflix - Normalverteilung](https://studyflix.de/wirtschaftswissenschaften/normalverteilung-1089)\n",
        "\n",
        "Wird auch Gausssche Normalverteilung oder Glockenkurve genannt (engl. normal Gaussian distributions). Normalverteilungen gehört zu den wichtigsten Verteilungen in der Statisik, denn so gut wie jeder Mittelwert (mean) einer x-beliebigen stetigen Verteilung folgt der Glockenkurve. Diese Besonderheit ist auch als zentraler Grenzwertsatz bekannt. Beispielsweise ist die Körpergrösse oder Intelligenz einer Person annähernd normalverteilt bzw. liegt in einem bestimmten Grenzwert. \n",
        "\n",
        "Die Normalverteilung hängt von zwei Kennzahlen ab Erwartungswert (Mittelwert) = **μ** (Ausgesprochen \"um\") und Varianz = **$\\sigma^2$** (Sigma). Verändert man μ verschiebt sich die Kurve nach rechts oder links (Bspw. Mittelwert Körpergrösse aller Menschen vs. Mittelwert Körpergrösse aller Frauen). Die Varianz ($\\sigma^2$) hingegen verändert die Form der Glockenkurve, sie wird also entweder gestreckt oder gestaucht (Bspw. der Max- und Min-Wert der Körpergrösse wird verändert von min. 160 cm auf 150 cm und max. 190cm auf 210cm verbreitert die Glockenkurve).\n"
      ]
    },
    {
      "cell_type": "markdown",
      "metadata": {
        "id": "MulfyD1MfoPn"
      },
      "source": [
        "####Zentraler Grenzwertsatz####\n",
        "\n",
        "Quelle: [Studyflix - Zentraler Grenzwertsatz](https://studyflix.de/wirtschaftswissenschaften/zentraler-grenzwertsatz-1082)\n",
        "\n",
        "Der zentrale Grenzwertsatz besagt, dass sich der **Mittelwert** und die **Summe** unabhängig und identisch verteilter Zufallsvariablen bei einer beliebigen Verteilung mit **zunehmenden Stichprobenumfang**(min. $n > 30$) der **Normalverteilung annähern**. Unter eine Zufallsvariable versteht man bspw. die Augensumme eines Würfelwurfs.\n",
        "\n",
        "Reale zufällige Prozesse wie der menschliche Wachstumsprozess oder verschiedene Messvorgänge bilden in ihrer Summe meist eine glockenförmige Verteilung (Gauss-Verteilung/Normalverteilung)\n",
        "\n",
        "Wichtig ist, dass der Stichprobenumfang (n) > 30 ist, damit man näher an die Normalverteilung kommt.\n",
        "\n",
        "**Mathematische Notation:**\n",
        "\n",
        "$\\frac{Lim}{n \\rightarrow \\infty} P(\\sqrt[n] \\cdot \\frac{\\overline{x}_n-\\mu}{\\sigma}\\le x)=\\Phi(x)$\n",
        "\n"
      ]
    },
    {
      "cell_type": "markdown",
      "metadata": {
        "id": "2qy0SZvIHAWX"
      },
      "source": [
        "####Kombinatorik####\n",
        "\n",
        "Die Kombinatorik zeigt uns auf, wieviele Arten Objekte gewählt und angeordnet werden können. Es gibt die folgenden drei Regeln in der Kombinatorik:\n",
        "\n",
        "1. **Fundamentalprinzip**\n",
        "\n",
        "  Das Fundamentalprinzip besagt bezüglich der Erfüllung von Sachverhalten:\n",
        "  \n",
        "   * Erster Sachverhalt: $n_1$\n",
        "   * Zweiter Sachverhalt: $n_2$\n",
        "   * Beide Sachverhalte: $n_1 * n_2$\n",
        "   \n",
        "  Wichtig dabei ist, dass die Sachverhalte auch unabhängig voneinander erfüllt werden können.\n",
        "   \n",
        "   Beispiel:\n",
        "   \n",
        "   Mit einem Würfel können 6 verschiedene Zahlen gewürfelt werden bzw. 6 Sachverhalte erfüllt werden. Mit zwei Würfel (2 * 6) können 12 Sachverhalte erfüllt. usw.\n",
        "\n",
        "2. **Permutation**\n",
        "\n",
        "  Als Permutation bezeichnet man die Möglichkeit $n$ Dinge anzuordnen. \n",
        "\n",
        "   Beispiel:\n",
        "\n",
        "   Bei 6 Würfel wären folgenden nicht abschliessende Anordnungen möglich:\n",
        "\n",
        "   \n",
        "   W1|W2|W3|W4|W5|W6|W7\n",
        "   ---|---|---|---|---|---|---\n",
        "   1 | 2 | 3 | 4 | 4 | 5 | 6\n"
      ]
    },
    {
      "cell_type": "markdown",
      "metadata": {
        "id": "pJqBrwx8_vkj"
      },
      "source": [
        "### Visualisierung ###\n",
        "\n",
        "In der Statisik hat die Visualisierung einen hohen Stellenwert. Die Visiualisierung gehört zu den wesentlichsten Themen wenn es darum geht **Muster** oder **Beziehung** in Daten zu erkennen bzw. Daten zu präsentieren. Aber auch im Zusammenhang mit dem Modelltraining- & Testing hat die Visualiserung ein wichtig Rollen und lässt den Fortschritt oder allfällige Fehler schneller erkennen. Mittels Visualisierung lassen sich grosse Datenmengen am Besten verstehen bzw. möglich Muster darin zu erkennen. Wichtig ist dabei nicht nur die quantitative Sicht hinter Zahlen zu sehen, sondern auch die Kernaussage bspw. in Bezug auf die Menschen dahinter zu erkennen. Eine gute Visualisierung sollte die Geschichte hinter den Daten erzählen.\n",
        "\n",
        "Guten Beispiel von Datenvisualierungen werden in den folgenden Videos gezeigt:\n",
        "* [TED Präsentation von Hans Rosling](https://www.ted.com/talks/hans_rosling_the_best_stats_you_ve_ever_seen)\n",
        "* [Journalism in the Age of Data](https://www.youtube.com/watch?v=YuGbN0YfwNE&t=1109s)\n",
        "\n",
        "Tools zur Visualisiuerung:\n",
        "* [Gapminder](https://www.gapminder.org/tools/#$chart-type=bubbles)\n",
        "\n",
        "Nachfolgend befassen wir uns mit ein paar Methoden zur Visualisierung:"
      ]
    },
    {
      "cell_type": "markdown",
      "metadata": {
        "id": "VKqhByGehD9U"
      },
      "source": [
        "###Lineare Algebra ###\n",
        "\n",
        "Wenn es um die Verwendung von Daten im Machine Learning geht, dann führt kein Weg an der linearen Algebra (auch Matrizen Algebra genannt) vorbei. Nachfolgend ein paar Basics in Linearer Algebra.\n",
        "\n",
        "<img src=\"https://cdn-images-1.medium.com/max/800/1*hBLI_5bZFpts_vt4h_3qRA.png\" width=\"500\"/>\n",
        "\n",
        "Quelle: [Linear Algebra for Deep Learning](https://mc.ai/linear-algebra-for-deep-learning-3/)\n"
      ]
    },
    {
      "cell_type": "markdown",
      "metadata": {
        "id": "9ZCDoqIN5qVY"
      },
      "source": [
        "####Skalar (engl. Scalar)####\n",
        "Ein Skalar ist eine Zahl. Beispiele für Skalare sind Temperatur, Entfernung, Geschwindigkeit oder Masse, Größen, die eine Größe haben, aber keine „Richtung“,ausser vielleicht positiv oder negativ. Der Skalar stellt somit nur einen Wert dar:\n",
        "\n",
        "$ 120 $"
      ]
    },
    {
      "cell_type": "markdown",
      "metadata": {
        "id": "0HOvFYlI6T7T"
      },
      "source": [
        "####Vektor (engl. Vector) ####\n",
        "Vektoren sind eindimensionales Arrays die nummerische, Zeichen oder logische Werte enthalten können. Die Elemente in einem Vektor haben alle die gleichen Datentypen.\n",
        "\n",
        "$\\begin{bmatrix}{1402} & {191}\\end{bmatrix}$"
      ]
    },
    {
      "cell_type": "markdown",
      "metadata": {
        "id": "3eY0L2Us29lB"
      },
      "source": [
        "####Matrize (engl. Matrix)####\n",
        "\n",
        "Eine Matrix ist ein zweidimensionales Array und kann nummerische, Zeichen oder logische Werte enthalten. Die Elemente in einer Matrix haben alle die gleichen Datentypen. Eine Matrix ist eine rechteckige Anordnung von vielen Vektoren in Reihen (horizontal) und Spalten (vertikal). \n",
        "\n",
        "$X= \\begin{bmatrix}{1402} & {191}\\\\{1371} & {821}\\\\{949}&{1437}\\\\{147}&{1448}\\end{bmatrix}$\n",
        "\n",
        "\n",
        "\n"
      ]
    },
    {
      "cell_type": "markdown",
      "metadata": {
        "id": "xVibAs9uC_1H"
      },
      "source": [
        "#### Tensor ####\n",
        "\n",
        "Tensoren sind ein Arrays von Zahlen mit mehreren Achsen. Ein Tensor besteht aus drei Indizes. Der erste Index zeigt auf die Zeile, der zweite auf die Spalte und der dritte auf die Achse. Die Struktur eines Tensors hängt von der Anzahl der Indizes ab. Beispielsweise ist der Tensor erster Ordnung ein Vektor mit 1 Index, die zweite Ordnung ist eine Matrix mit 2 Indizes und der Tensor dritter Ordnung mit 3 Indizes. Tensoren mit mehr als 3 Indizes werden Tensoren höherer Ordnung genannt.\n",
        "\n",
        "$X= \\begin{bmatrix}[{1} & {2}] & [{3} & {4}] \\\\ [{5} & {6}] & [{7} & {8}]\\\\ [{9}&{10}] & [{11} & {12}]\\end{bmatrix}$"
      ]
    },
    {
      "cell_type": "markdown",
      "metadata": {
        "id": "Ft8pOZEaG7Nt"
      },
      "source": [
        "#### Matrixoperationen ####\n",
        "\n",
        "**Matrix-Skalar-Addition**: Bei dieser Operation wird der Skalarwert zu jedem Element der Matrix addiert. Zum besseren Verständnis siehe das Bild unten:\n",
        "\n",
        "$\\begin{bmatrix}{1} & {2} \\\\ {3} & {4} \\\\ {5} & {6}\\end{bmatrix} + 1 = \\begin{bmatrix}{2} & {3} \\\\ {4} & {5} \\\\ {6} & {7}\\end{bmatrix} $\n",
        "\n",
        "**Matrix-Vektor-Addition**: Bei dieser Operation wird jede Zeile einer Matrix mit jeder Spalte des Vektors addiert. Die Ausgabematrix ist vom Typ Vektor mit der gleichen Anzahl von Zeilen wie die der Matrix\n",
        "\n",
        "$\\begin{bmatrix}{1} & {2} \\\\ {3} & {4} \\\\ {5} & {6}\\end{bmatrix} + \\begin{bmatrix}{1}&{2} \\end{bmatrix} = \\begin{bmatrix}{3} & {5} \\\\ {5} & {7} \\\\ {7} & {9}\\end{bmatrix} $\n",
        "\n",
        "a. Berechnung mit Spalten\n",
        "\n",
        "$\\begin{bmatrix}{1} & {2} \\\\ {3} & {4} \\\\ {5} & {6}\\end{bmatrix} + \\begin{bmatrix}{1}\\\\{2}\\\\{3} \\end{bmatrix} = \\begin{bmatrix}{2} & {3} \\\\ {5} & {6} \\\\ {8} & {9}\\end{bmatrix} $\n",
        "\n",
        "b. Berchnen mit Zeilen\n",
        "\n",
        "**Matrix-Matrix-Addition**: Diese Operation ist recht einfach, erfordert jedoch beide Matrizen derselben Dimension, um die Operation auszuführen. Die resultierende Matrix hat dieselbe Dimension. Wir müssen nur jeden Wert der ersten Matrix mit dem entsprechenden Wert der anderen Matrix addieren.\n",
        "\n",
        "$\\begin{bmatrix}{1} & {2} \\\\ {3} & {4} \\\\ {5} & {6}\\end{bmatrix} + \\begin{bmatrix}{3} & {4}\\\\{5} & {6}\\\\{7}&{8} \\end{bmatrix} = \\begin{bmatrix}{4} & {6} \\\\ {8} & {10} \\\\ {12} & {14}\\end{bmatrix}$\n",
        "\n",
        "---\n",
        "\n",
        "**Matrix-Skalar-Multiplikation**: Bei dieser Art der Multiplikation wird der Skalarwert mit jeder Zeile der Matrix multipliziert.\n",
        "\n",
        "$2 * \\begin{bmatrix}{1} & {2} \\\\ {3} & {4}\\end{bmatrix} = \\begin{bmatrix}{2} & {4}\\\\{6} & {8} \\end{bmatrix} $\n",
        "\n",
        "**Matrix-Vektor-Multiplikation** : Hierbei wird jede Zeile der Matrix mit jeder Spalte des Vektors multipliziert. Die Ausgabematrix ist vom Typ Vektor mit der gleichen Anzahl von Zeilen wie die der Matrix.\n",
        "\n",
        "$ \\begin{bmatrix}{2}&{4} \\\\ {1}&{5} \\end{bmatrix} * \\begin{bmatrix}{3} \\\\ {4}\\end{bmatrix} = \\begin{bmatrix}{18} \\\\ {24} \\end{bmatrix} $\n",
        "\n",
        "Ausgeschrieben sieht dies wie folgt aus:\n",
        "\n",
        "$(2*3)+(4*4) = 18$\n",
        "\n",
        "$(1*3)+(5*4) = 23$\n",
        "\n",
        "**Matrix-Matrix-Multiplikation**: Diese Operation folgt denselben Schritten wie die Matrix-Vektor-Multiplikation. **Voraussetzung** hierfür ist jedoch, dass die beiden Matrizen nur dann multipliziert werden können, wenn die **Spalte** der ersten Matrix mit der **Zeile** der zweiten Matrix übereinstimmt. Teilen Sie einfach den Spaltenvektor der zweiten Matrix, multiplizieren Sie ihn mit jedem Element der Zeile und speichern Sie das Ergebnis in einer neuen Matrix. Die resultierende Matrix enthält die Anzahl der Zeilen der ersten Matrix und die Anzahl der Spalten der zweiten Matrix, wie unten dargestellt.\n",
        "\n",
        "$\\begin{bmatrix}{2}&{4}&{11}&{6}\\\\{4}&{12}&{8}&{15} \\end{bmatrix} \\begin{bmatrix} {5}&{7}\\\\{4}&{4}\\\\{7}&{14}\\\\{12}&{9}\\end{bmatrix} =\\begin{bmatrix}{175}&{238}\\\\{304}&{323}\\end{bmatrix}$\n",
        "\n",
        "Ausgeschrieben sieht diese Berechnung wie folgt aus:\n",
        "\n",
        "$(2*5)+(4*4)+(11*7)+(6*12) = 175$\n",
        "$(2*7)+(4*4)+(11*14)+(6*9) = 238$\n",
        "$(4*5)+(12*4)+(8*7)+(15*12) = 304$\n",
        "$(4*7)+(12*4)+(8*14)+(15*9) = 323$\n"
      ]
    },
    {
      "cell_type": "markdown",
      "metadata": {
        "id": "fD7JK8jFBWwH"
      },
      "source": [
        "#### Matrix-Multiplikationseigenschaften\n",
        "\n",
        "1. **Assoziativ**: Diese Eigenschaft gilt sowohl für die Skalar- als auch für die Matrixmultiplikation. Für die Skalarmultiplikation ist 2 (4 * 5) dasselbe wie (4 * 5) 2, wohingegen für die Matrixmultiplikation A (B * C) dasselbe wie (B * C) A ist.\n",
        "2. **Verteilend**: Diese Eigenschaft gilt sowohl für die Skalar- als auch für die Matrixmultiplikation. Für die Skalarmultiplikation ist 2+ (4 + 5) dasselbe wie (4 + 5) +2 und für die Matrixmultiplikation ist A + (B + C) dasselbe wie (B + C) + A.\n",
        "3. **Nicht kommutativ:** Diese Eigenschaft gilt nur für die Skalarmultiplikation und nicht für die Matrixmultiplikation. Bei ersterer ist 2 * 4 gleich 4 * 2, bei letzterer ist A * B nicht gleich B * A.\n",
        "4. **Identitätsmatrix:** Auch als Einheitsmatrix bezeichnet. In dieser Typmatrix haben die diagonalen Elemente den Wert Eins und die übrigen Elemente den Wert Null. Mit der Anzahl der Zeilen, die der Anzahl der Spalten entspricht, spricht man auch von einer quadratischen Matrix.\n",
        "\n",
        "$ I_n = \\begin{bmatrix}{1}&{0}&{0}&{...}&{0} \\\\ {0}&{1}&{0}&{...}&{0}\\\\ {0}&{0}&{1}&{...}&{0}\\\\ {.}&{.}&{.}&{...}&{.}\\\\ {0}&{0}&{0}&{...}&{1}\\end{bmatrix} $"
      ]
    },
    {
      "cell_type": "markdown",
      "metadata": {
        "id": "ZR7In85NNw40"
      },
      "source": [
        "#### Sparse & Dense Matrix\n",
        "\n",
        "Im Machine Learning wird man früher oder später mit sogenannten Sparse oder Dense Matrizen konfrontiert. Nachfolgend eine kleine Erklärung was man darunter versteht. \n",
        "\n",
        "##### Sparse Matrix\n",
        "\n",
        "Eine Matrix die vorwiegend aus Nullen (0) besteht wird Sparse Matrix genannt:\n",
        "\n",
        "<img src='https://dziganto.github.io/assets/images/sparse_matrix.png?raw=true' width = 300>\n",
        "\n",
        "##### Dense Matrix\n",
        "\n",
        "Das Gegenteil zu einer Sparse Matrix ist eine Dense Matrix, die vorwiegend aus nicht-Null Werten besteht. Nachsfolgend ein Vergleich:\n",
        "\n",
        "<img src='https://matteding.github.io/images/sparse_dense.gif' width = 500>\n",
        "\n",
        "##### What's all about?\n",
        "\n",
        "Nun ein Null-Wert enthält, wie wir ja alle wissen, Null-Informationen bzw. repräsentiert eien \"Leere\". Nichtsdestotrotz benötigt eine 0 währende einer Berechnung auf eine IT-System ebenfalls Memory. Das bedeutet, dass eine Sparse Matrix unnötig viel Memory und Rechenzeit alloziert und die Performace eines Rechners so vermindern könnte. "
      ]
    },
    {
      "cell_type": "markdown",
      "metadata": {
        "id": "wvflzDcXiBke"
      },
      "source": [
        "###Activation Functions###\n",
        "\n",
        "Die Akitvation Function bzw. die zugrundeliegende Mathematik wird in Deep Learning zur Aktivierung (Feuern oder nicht Feuern)innerhalb der Units (künstliches Neuron) verwendet."
      ]
    },
    {
      "cell_type": "markdown",
      "metadata": {
        "id": "_8D6W5rHTSy5"
      },
      "source": [
        "**Sigmoid Function**\n",
        "\n",
        "Formel:\n",
        "\n",
        "$f(x) = \\frac{1}{1 + exp (^{-x})} $\n",
        "\n",
        "Plot:\n",
        "\n",
        "![alt text](https://upload.wikimedia.org/wikipedia/commons/thumb/5/53/Sigmoid-function-2.svg/512px-Sigmoid-function-2.svg.png)"
      ]
    },
    {
      "cell_type": "code",
      "metadata": {
        "id": "IPAKvKnzTx-X"
      },
      "source": [
        "import numpy as np\n",
        "\n",
        "def sigmoid (x):\n",
        "  return 1 / (1 + np.exp(-x))\n",
        "\n",
        "sigmoid(2.5)"
      ],
      "execution_count": null,
      "outputs": []
    },
    {
      "cell_type": "markdown",
      "metadata": {
        "id": "BoIFIJhvZFQU"
      },
      "source": [
        "**tanh Function**\n",
        "Hyperbolic Tangent Function\n",
        "\n",
        "Formel:\n",
        "\n",
        "$f(x) = \\frac{2}{1 + exp (^{-2x})}-1 $\n",
        "\n",
        "Plot:\n",
        "\n",
        "![alt text](http://mathworld.wolfram.com/images/interactive/TanhReal.gif)"
      ]
    },
    {
      "cell_type": "code",
      "metadata": {
        "id": "Pgl6nXilZk4h"
      },
      "source": [
        "import numpy as np\n",
        "\n",
        "def tanh (x):\n",
        "  return np.tanh(1 - (x ** 2))\n",
        "\n",
        "\n",
        "tanh(-2.5)"
      ],
      "execution_count": null,
      "outputs": []
    },
    {
      "cell_type": "markdown",
      "metadata": {
        "id": "fR421tiyaupV"
      },
      "source": [
        "***ReLU Function***\n",
        "Rectified Linear Unit ist einer der beliebtesten AF im ML. Die ReLU Function wird nur für  Hidden-Layers verwendet für den Output-Layer wird meist die SoftMax Function empfohlen.\n",
        "\n",
        "Formel:\n",
        "\n",
        "$f(x) = max(0, z)$\n",
        "\n",
        "Ist also x < als 0 dann ist das Resultat 0 ist x > 0 \n",
        "\n",
        "Plot:\n",
        "\n",
        "![alt text](https://cdn-images-1.medium.com/max/1600/1*oePAhrm74RNnNEolprmTaQ.png)"
      ]
    },
    {
      "cell_type": "code",
      "metadata": {
        "id": "atNhC7Xt5UfA",
        "colab": {
          "base_uri": "https://localhost:8080/",
          "height": 282
        },
        "outputId": "2fa00432-bf6b-47a6-ff4d-cd3ca14cc14b"
      },
      "source": [
        "import numpy as np\n",
        "import matplotlib.pyplot as plt\n",
        "\n",
        "def relu (x):\n",
        "  return np.maximum(0,x)\n",
        "  \n",
        "print (relu(0.5))\n",
        "  \n",
        "# define a series of inputs\n",
        "series_in = [x for x in range(-10, 11)]\n",
        "# calculate outputs for our inputs\n",
        "series_out = [relu(x) for x in series_in]\n",
        "# line plot of raw inputs to rectified outputs\n",
        "plt.plot(series_in, series_out)\n",
        "plt.show()"
      ],
      "execution_count": null,
      "outputs": [
        {
          "output_type": "stream",
          "text": [
            "0.5\n"
          ],
          "name": "stdout"
        },
        {
          "output_type": "display_data",
          "data": {
            "image/png": "[encoded data removed]",
            "text/plain": [
              "<Figure size 432x288 with 1 Axes>"
            ]
          },
          "metadata": {
            "tags": []
          }
        }
      ]
    }
  ]
}