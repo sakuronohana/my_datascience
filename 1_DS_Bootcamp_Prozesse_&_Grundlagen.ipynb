{
  "nbformat": 4,
  "nbformat_minor": 0,
  "metadata": {
    "colab": {
      "name": "DS Bootcamp Prozesse & Grundlagen ipynb",
      "provenance": [],
      "include_colab_link": true
    },
    "kernelspec": {
      "name": "python3",
      "display_name": "Python 3"
    }
  },
  "cells": [
    {
      "cell_type": "markdown",
      "metadata": {
        "id": "view-in-github",
        "colab_type": "text"
      },
      "source": [
        "<a href=\"https://colab.research.google.com/github/sakuronohana/my_datascience/blob/master/1_DS_Bootcamp_Prozesse_%26_Grundlagen.ipynb\" target=\"_parent\"><img src=\"https://colab.research.google.com/assets/colab-badge.svg\" alt=\"Open In Colab\"/></a>"
      ]
    },
    {
      "cell_type": "markdown",
      "metadata": {
        "id": "SyxBmxgRxnMS",
        "colab_type": "text"
      },
      "source": [
        "# DS Bootcamp Teil 1 - Prozesse & Grundlagen #"
      ]
    },
    {
      "cell_type": "markdown",
      "metadata": {
        "colab_type": "text",
        "id": "i8Xh2CLq4zTz"
      },
      "source": [
        "## DS Bootcamp Verzeichnis ##\n",
        "\n",
        "[**Teil 1 - Data Science - Prozesse & Grundlagen**](https://github.com/sakuronohana/my_datascience/blob/master/1_DS_Bootcamp_Prozesse_%26_Grundlagen.ipynb)\n",
        "\n",
        "[**Teil 1a - Data Science - Python Basic & Advanced**](https://github.com/sakuronohana/my_datascience/blob/master/2_DS_Bootcamp_Python_Basic_%26_Advanced.ipynb)\n",
        "\n",
        "[**Teil 1b - Data Science - R Basic & Advanced**](https://github.com/sakuronohana/my_datascience/blob/master/3_DS_Bootcamp_R_Basic_%26_Advanced.ipynb)\n",
        "\n",
        "[**Teil 2 - Data Science - ML - Datenbeschaffung & Datenaufbereitung**](https://github.com/sakuronohana/my_datascience/blob/master/4_DS_Bootcamp_ML_Datenbeschaffung_Datenaufbereitung.ipynb)\n",
        "\n",
        "[**Teil 3 - Data Science - ML - Modellwahl**](https://github.com/sakuronohana/my_datascience/blob/master/5_DS_Bootcamp_ML_Modellwahl.ipynb)\n",
        "\n",
        "[**Teil 4 - Data Science - ML - Modell Training, Testing & Optimierung**](https://github.com/sakuronohana/my_datascience/blob/master/6_DS_Bootcamp_ML_Modell_Train_Test_Optimize.ipynb)\n",
        "\n",
        "[**Teil 5 - Data Science - ML - Modell Produktivsetzung, Überwachung & Pflege**](https://github.com/sakuronohana/my_datascience/blob/master/7_DS_Bootcamp_ML_Modell_Deploy_Monitor_Maintain.ipynb)"
      ]
    },
    {
      "cell_type": "markdown",
      "metadata": {
        "id": "cO5mEEM5eQsl",
        "colab_type": "text"
      },
      "source": [
        ""
      ]
    },
    {
      "cell_type": "markdown",
      "metadata": {
        "colab_type": "text",
        "id": "9G8qymxDeROM"
      },
      "source": [
        "##Glossar##\n",
        "\n",
        "* **Data Science (Datenwissenschaft)** ist die interdisziplinäre Wissenschaft von Daten, in welchen einerseits der Lebenszyklus von Daten und andererseits die Entscheidungsfindung mittels Daten im Fokus stehen. DS besteht aus den folgenden wesentlichen Elementen: \n",
        "\n",
        "<img src=\"https://miro.medium.com/max/993/1*jd_xgOzAFw7rBklREtgOTQ.png\" align=\"middle\" width=\"400\"/>\n",
        "\n",
        "Quelle: [Towards Data Science](https://miro.medium.com/max/993/1*jd_xgOzAFw7rBklREtgOTQ.png)\n",
        "\n",
        "* **Daten** helfen uns die Welt zu interpretieren! Daten haben entweder einen qualitativen oder quantitativen Charakter. Mit qualitativen Daten lässt sie sich beschreiben und mit quantitativen Daten lässt sie sich messen. Meist lassen sich sich noch in folgende zwei weiteren Kategorien unterteilen:\n",
        "\n",
        "<img src=\"https://lawtomated.com/wp-content/uploads/2019/04/structuredVsUnstructuredIgneos.png\" width=\"500\" />\n",
        "\n",
        "Quelle: [Lawomated](https://lawtomated.com/structured-data-vs-unstructured-data-what-are-they-and-why-care/)\n",
        "\n",
        "* **Artificial Intelligence (AI)** ist eine Technik in welchem das *menschliche Verhalten* (bsp. kognitives Denken, Kommunikation, Interaktion etc.) nachahmt. AI ist *nicht* zu verwechseln mit *Robotik*. Man unterscheidet die folgenden 4 Typen von AI:\n",
        " * **Type I - Rein reaktive KI (engl. Purely Reactive)**. Dies ist die grundlegendste Form von Kl. Das System erkennt seine Umwelt/Situation direkt und agiert auf Basis dessen, was es erkennt. Es hat keine Vorstellung von der äußeren Welt. Es kann keine Erinnerungen bilden oder auf vergangene Erfahrungen zurückgreifen, um aktuelle Entscheidungen zu beeinflussen. Es spezialisiert sich nur auf einen Bereich.\n",
        "\n",
        "    Beispiele sind IBMs Deep Blue, das Kasparov beim Schach geschlagen hat oder Googles AlphaGo, das über den menschlichen Champion beim Go-Spiel triumphierte.\n",
        "\n",
        " * **Type II - Systeme mit begrenztem Gedächtnis (engl. Limited Memory)** Ein Stück weiter oben auf der evolutionären Leiter der künstlichen Intelligenz sind Systeme mit begrenztem Gedächtnis. Sie berücksichtigen Teile vergangener Informationen und fügen sie zu ihren vorprogrammierten Darstellungen der Welt hinzu. Sie haben gerade genug Gedächtnis oder Erfahrungsvorrat, um richtige Entscheidungen zu treffen und entsprechende Handlungen auszuführen.\n",
        "\n",
        "    Beispiele sind selbstfahrende Fahrzeuge, Chatbots und persönliche digitale Assistenten. \n",
        "\n",
        " * **Type III - Systeme mit eigenem Bewusstsein (engl. Theory of Mind)**. Theory of Mind bedeutet, ein eigenes Bewusstsein zu entwickeln. Dazu gehört, sich und andere zu erkennen, aber auch ein Verständnis dafür zu entwickeln, dass andere sich irren können und deshalb falsch handeln. Derartige Systeme haben die Fähigkeit, Gedanken und Emotionen zu verstehen, die das menschliche Verhalten beeinflussen. Dazu gehört ein Verständnis von Gefühlen, Motiven, Absichten und Erwartungen sowie die Fähigkeit darauf aufbauend sozial zu interagieren. Noch gibt es keine Systeme, die dies können. Sie sind aber vermutlich die nächste Stufe intelligenter Maschinen.\n",
        "\n",
        "   Beispiele aus dem Bereich Science Fiction sind C-3P0 und R2-D2 aus den Star Wars Filem sowie Sonny aus dem Film „I Robot“.\n",
        "\n",
        " * **Type IV - Sich „ihrer selbst“ bewusste Systeme (engl. Self-Aware)**.\n",
        "Diese Formen von Kl können Vorstellungen über sich selbst bilden. Sie stellten eine Erweiterung der Systeme mit eigenem Bewusstsein dar. Sie sind sich ihrer inneren Zustände bewusst, können die Gefühle anderer vorhersagen und können Abstraktionen bilden und Schlussfolgerungen ziehen. Sie sind die zukünftige Maschinengeneration: super intelligent, empfindungsfähig und bewusst.\n",
        "\n",
        "   Beispiele sind Eva in dem Film „Ex Machina“ und Synths aus der TV-Serie „Menschen“.\n",
        "\n",
        "* **Machine Learning (ML)** verwendet statistische Methoden welche eine Maschine dazu befähigen eigenständig zu lernen. ML ist eine *Teilmenge von AI*.\n",
        "* **Deep Learning** ist eine Disziplin von ML und befasst sich mit einer dem menschlichen Hirn nachempfunden neuronalen Struktur dem soganannten *neuronalen Netzwerk*.\n",
        "* **Klassifikation (Classificaton)**, auch Klassifizierungsverfahren, sind Methoden und Kriterien zur *Einteilung (Klassierung)* von Objekten oder Situationen in Klassen, das heißt zur Klassifizierung. Beispielsweise Spam/not Spam. Ein solches Verfahren wird auch als ***Klassifikator*** bezeichnet. Typische Klassifikatoren sind *Logistic Regression (kann auch bei Regression eingesetzt werden), Support Vector Machines (SVM), Decision Trees, Random Forest, Neuronale Netzwerke*\n",
        "* **Clustering** ist ein Lernalgorithmus verwendet im *Unsupervised Learning*. Der Algorithmus teil dabei eigenständig Daten gleicher Art in verschiedene Gruppen (Clusters) auf, dazu nutzt er Distanzfunktionen (Euklidischer oder Manhatten Algorithmus). Es werden zwischen den zwei Clustering-Typen ***Hierarchical- und Partitional Clustering*** unterschieden. Bekannte Clustering-Algorithmen sind *k-Means*, HCA, etc. \n",
        "* **Activation Function** addieren eine nicht-Lineare Funktion zu jedem künstlichen Neuron in einem ANN und lassen ein Neuron feuern oder nicht. AF sind Sigmoid, tanh, ReLU usw. ReLU ist einer der beliebtesten AFs und wird vorwiegen in den Hidden-Layers eines ANN eingesetzt. \n",
        "* **Backpropagation** gehört zum Optimisierungsprozess im Maschine Learning. In einem ANN werden mittels Backpropagation die Gewichtungen der einzelnen Verbidungen aktualisiert.\n",
        "* **Association** ist ein Lernalgorihmus der Beziehung zwischen verschiedenen Merkmalen in ein grossen Datensatz ausfindig machen kann. Typische Associationlernalgorihmen sind *Apriori* und *Eclat*\n",
        "* **Accuracy (Genauigkeit)** ist eines der *Bewertungskriterien* im ML, mit  welchem die *korrekte Vorhersage (Prediction)* eines Klassifikators beurteilt wird. Zur Bewertung wird die sogenannte *Confusion Matrix* (True Positive, False Positive, False Negative, True Negative etc.) verwendet. \n",
        "* **Loss Function (Verlustfunktion)** Der Verlust ist das Resultat der Summe aller Fehler aus einem  Modell-Trainings oder -Validation. Je kleiner der Verlust desto besser das Modell. Der Loss bewegt sich gegengleich zur Accuracy welche zunehmend steigen sollte.\n",
        "* **Labeled Data** sind Daten in einem Datensatz, welche die Lösung darstellen bzw. das ist, was ein ML-Algorithus voraussagen oder erkennen soll (y-Predict). Beispielsweise Spam oder Not Spam, Like oder Not Like, \n",
        "* **Merkmale  (Features)** sind eindeutige Attribute in einem Datensatz wie Beispielsweise Temperatur, Preis, Aktienkurs, Geschwindigkeit, Geschlecht usw. und werden pro Spalte (Column) abgebildet.\n",
        "* **Lernverfahren** sind Methoden, mit welchem eine Machine aus den Daten lernen kann. Das eingesetzte Verfahren ist hautpsächlich abhängig von den verfügbaren Daten. Dies sind die bekanntesten Verfahren:\n",
        "  * **Supervised Learning** ist das Lernverfahren in welchem eine Maschine mittels gelabelten Daten bzw. Beispielen trainiert wird. In diesem Verfahren erhält die Maschine jeweils einen Feedback ob die Lösung richtig war. Im SL werden Algorithmustypen wie *Classification* und *Regression* eingesetzt. \n",
        "  * **Unsupervised Learning** ist ein Lernverfahren, in welchem eine Maschine ohne gelabelte Daten trainiert wird. Hier erhält die Machine keinen Feedback ob die Prediction richtig oder falsch war. Vielmehr sucht sie nach versteckten Strukturen in den Daten. Die Algorithmentypen welche hier zum Einsatz kommen sind *Association* und *Clustering*.\n",
        "  * **Reinforcement Learning** ist ein Lernverfahren in welchem eine Machine ohne historische Daten lernt. Man kann sich das RL wie ein Kind vorstellen, dass sich etwas eigenständig beibringt. In Zusammenhang mit RL wird auch oft der Begriff *Machine Learning Agent* verwendet. Der Agent ist jedoch nur ein Teil diese Lernverfahrens, der noch durch Environment [Video Link](https://www.youtube.com/watch?v=JgvyzIkgxF0)\n",
        "* **Converge (dt. sich annähern)** ist der Zustand, wenn ein Modell alle Fehler (Errors) auf eine bestmögliches minimum reduzieren konnte und somit fertig ist mit dem Training.\n",
        "* **Hyperparameter** sind Einstellungen mit welchen sich die Vorhersagegenauigkeit der ML-Modelle verbessern lassen. Beispiele von Hypermarameter ist die Lernrate,  Anzahl Hidden Layers (Neuronale Netzwerke) usw. Im Zusammenhang mit diesem Begriff wird auch oft *Hyperparameter Optimization* verwendet. Neben der Hyperparemeter verarbeitet das Modell im Rahmen des Trainingsprozeses die *Eingabedaten* und die Parameter des Modells selbst (z.B. Gewichtung der Verbindung zwischen den Units usw.)\n",
        "* **Entropy (dt. Entropie)** wird eingesetzt um die Unreinheit (Impurity) in Daten zu ermitteln. \n",
        "* **Bias** Ist im allgemeinen eine Verzerrung oder auch eine Voreingenommenheit, welche bspw. durch eine unverhältnismässige Gewichtung in eine Datensatz ausgelöst wird. Ein Bias kann in letzter Konsequenz zu einer fehlerhaften Entscheidung führen. Mit dem sogenannte Human Bias kann einer AI ein völlig einseitiges Bild der Realität dargestellt werden. Im Zusammenhang mit diesem Begriff wird zwischen folgend Arten von Bias unterschieden:\n",
        "\n",
        "\t* **Interaction bias** (Voreingenommenheit durch Interaction): Der Benutzer verzerrt einen Algorithmus durch die Art und Weise, wie wir mit ihm \tinteragieren. Als Beispiel hat Google Benutzer gebeten, einen Schuh zu zeichnen. Die Benutzer haben \teinen Herrenschuh gezeichnet, sodass das System nicht wusste, dass High Heels auch Schuhe sind\n",
        "\t\n",
        "\t* **Latent bias**: Der Algorithmus korreliert Ideen fälschlicherweise mit Geschlecht, Rasse, Sexualität, \tEinkommen usw. Dies ist die Idee, „Arzt“ mit Männern zu korrelieren, nur weil die meisten Bilder dies \tso darstellen\taussagen.\n",
        "\n",
        "  * **Selection bias** (Stichprobenverzerrung): Die Daten, die zum Trainieren des Algorithmus verwendet werden, \tstellen eine Population  übermäßig dar, sodass sie auf Kosten anderer besser funktionieren. Wenn die \tBilderkennung nur für weiße \tMenschen trainiert wird,  werden sie AI-bewertete Schönheitswettbewerbe \tgewinnen.\n",
        "\n",
        "* **Covariate Shift** (auch Data Shift) nennt man ein Phenomen im ML in welchem das trainierte Modell nach seiner Produktivsetzung eine frapant schlechtere Performance aufweist als noch im Training und Testing Stadium. Meist zeigen Analysen dann, dass die Daten in der Produktion sich von der Datenart im Entwicklungsstadium differenzieren. Beispielsweise wurde das Modell mit klaren Voice-Samples traininert während im der Produktion die Stimmen durch ein Telefon kommen und verzerrt werden. \n",
        "\n",
        "* **Generalization** (Verallgemeinerung) bezieht sich auf die Fähigkeit eines ML-Modells, korrekte Vorhersagen für neue, zuvor nicht angezeigte Daten zu treffen, im Gegensatz zu den Daten, die zum Trainieren des Modells verwendet wurden [Link](https://developers.google.com/machine-learning/glossary#g).\n",
        "\n",
        "* **Variance** (Varianz) ist der Unterschied zwischen dem in Trainingsdatensatz und Testdatensatzes erreichte Resultate. Die Varianz steht in direkten Zusammenhang mit dem Bias. Je höher die Varianz desto grösser das Overfitting. Das **optimale ML-Modell** hat einen **niederen Bias** und kann die Realität mit einer hohen Genauigkeit (Accurancy) wiedergeben sowie eine **tiefe Variabilität (Varianz)** die eine konsistente Vorhersage (Prediction) über verschieden Datensätze ermöglicht.\n",
        "\n",
        "***Mehr Erklärungen zu Begriffen im ML findet man im ML Glossar von Google*** [Link](https://developers.google.com/machine-learning/glossary) \n"
      ]
    },
    {
      "cell_type": "markdown",
      "metadata": {
        "colab_type": "text",
        "id": "86knPDRL8IwW"
      },
      "source": [
        "##Hilfsmittel##\n",
        "\n",
        "Nachfolgende eine Auflistung von nützlichen oder interessanten News, Artikeln, Lernvideos und Tools zu Themen wie Data Science, AI, Machine Learning, Python usw. "
      ]
    },
    {
      "cell_type": "markdown",
      "metadata": {
        "colab_type": "text",
        "id": "sHYVpQNZ-lb9"
      },
      "source": [
        "###Data Science###\n",
        "\n",
        "* What 70% of Data Science Learners Do Wrong ([Artikel](https://towardsdatascience.com/what-70-of-data-science-learners-do-wrong-ac35326219e4))\n",
        "* Knime - Automate a Data Science Workflow — Movie Reviewer Sentiment Analysis ([Link](https://towardsdatascience.com/automate-a-data-science-workflow-movie-reviewer-sentiment-analysis-737608ce6466))\n",
        "* SWISS DATA SCIENCE CENTER (SDSC) - A cooperation between ETH und EPFL [Link](https://datascience.ch/)\n",
        "* IBM BigData & Analytics Hub [Link](https://www.ibmbigdatahub.com/)"
      ]
    },
    {
      "cell_type": "markdown",
      "metadata": {
        "colab_type": "text",
        "id": "qvBk6LMZ9dhq"
      },
      "source": [
        "###Python Coding###\n",
        "\n",
        "* 10 Simple hacks to speed up your Data Analysis in Python ([Artikel](https://towardsdatascience.com/10-simple-hacks-to-speed-up-your-data-analysis-in-python-ec18c6396e6b))\n",
        "* Pandas - Short hands-on challenges to perfect your data manipulation skills ([Tutorial](https://www.kaggle.com/learn/pandas))\n",
        "* Pandas Profiling - Creating Pandas Reports out of df.describe ([Tutorial](https://github.com/pandas-profiling/pandas-profiling)\n",
        "* Vaex - How to analyse 100s of GBs of data on your laptop with Python ([Link](https://towardsdatascience.com/how-to-analyse-100s-of-gbs-of-data-on-your-laptop-with-python-f83363dda94))"
      ]
    },
    {
      "cell_type": "markdown",
      "metadata": {
        "colab_type": "text",
        "id": "T_tT23KR_pjH"
      },
      "source": [
        "###Machine Learning###\n",
        "\n",
        "**Guidelines**\n",
        "\n",
        "* Google Rules of Machine Learning [Link](https://developers.google.com/machine-learning/guides/rules-of-ml)\n",
        "\n",
        "**Deep Learning**\n",
        "\n",
        "* Wie funktioniert eine Neuronales Netzwerk ([Lernvideo](https://www.youtube.com/watch?v=aircAruvnKk))\n",
        "\n",
        "**Reinforcement Learning**\n",
        "* Gym is a toolkit for developing and comparing reinforcement learning algorithms [Tutorial](https://gym.openai.com/)"
      ]
    },
    {
      "cell_type": "markdown",
      "metadata": {
        "id": "7MpeU3YApp_Y",
        "colab_type": "text"
      },
      "source": [
        "### [News](https://github.com/sakuronohana/my_datascience/blob/master/DS_Articles_of_Interest%20.ipynb) ####\n",
        "\n",
        "Interessante Artikel und News rund um das Thema Data Science [Link](https://github.com/sakuronohana/my_datascience/blob/master/DS_Articles_of_Interest%20.ipynb)"
      ]
    },
    {
      "cell_type": "markdown",
      "metadata": {
        "colab_type": "text",
        "id": "mKuJyMEPBy3a"
      },
      "source": [
        "##ML-Prozessmethodiken##\n",
        "\n",
        "Nachfolgenden werden drei Data Science Prozessansätze auf verschiedenen Ebenen aufgezeigt. Meist starten die nachfolgenden Prozesse bereits bei der Datensammlung (Ausnahme PM). Es ist jedoch wichtig, dass in erste Linie immer das **Verständnis** der entsprechenden **Domain** (z.B. Banking, Pharma, Indurstie etc.) vorhanden sein muss, um ein erfolgreiches Modell zu erstellen. \n",
        "\n",
        "###ML-Projektmanagement###\n",
        "Die Umsetzung eines ML-Projektes beinhaltet folgende Schritte, welche sich teilweise mit bestimmten Aktivitäten des ML-Prozesses überschneiden:\n",
        "\n",
        "1. Betrachtung des Gesamtbildes und Formulierung der Aufgabenstellung\n",
        "2. Beschaffung der Daten\n",
        "3. Erkundung und Visualisierung der Daten um daraus Erkenntnisse zu gewinnen\n",
        "4. Vorbereitung der Daten für den ML-Algorithmus\n",
        "5. Auswahl und Training eines Modells\n",
        "6. Verfeinerung (Tuning) des Modells\n",
        "7. Präsentation der Lösung\n",
        "8. Betrieb und Monitoring des ML-Systems\n",
        "\n",
        "###ML-Prozess###\n",
        "Der Machine Learning Prozess beschreibt die Vorgänge welche benötigt werden um ein ML-Modell zu erstellen. Dieser Prozess besteht aus den folgenden sieben Schritten:\n",
        "\n",
        "1. Research/Data Gathering  (Datenbeschaffung)\n",
        "2. Data Pre-Processing (Datenaufbereitung)\n",
        "3. Choose Model (Modellwahl)\n",
        "4. Train Model (Modelltraining)\n",
        "5. Test Model (Modelltesting)\n",
        "6. Tune Model (Modelloptimierung)\n",
        "7. Prediction (Modellproduktivsetzung)\n",
        "\n",
        "Unter dem folgenden [Link](https://github.com/EthicalML/awesome-production-machine-learning#industrial-strength-visualisation-libraries) gibt es eine Auflistung einer Vielzahl von Tools welche während eines ML-Prozesses verwendet werden.\n",
        "\n",
        "###ML-Workflow###\n",
        "Der Maschine Learning Workflow (auch ML-Lifecycle-Management) beschreibt die erforderlichen Schritte von der Entwicklung, Implementierung, Testing bis hin zur  Produktionsüberführung (Deployment)und Operation (Betrieb/Überwachung/Wartung) eines ML-Modells. Die nachfolgenden Schritte überschneiden sich natürlich mit denen im ML-Projektmanagement und -Prozess erläuterten Schritte. \n",
        "\n",
        "1. Source and prepare your date (ML-Prozess: Schritt 1)\n",
        "2. Code your model (ML-Prozess: Schritt 2)\n",
        "3. Train, evaluate and tune your model (ML-Prozess: Schritt 3-6)\n",
        "4. Deploy your trained model (ML-Prozess: 7)\n",
        "5. Get predictions from your model (ML-Prozess: 7)\n",
        "6. Monitor the ongoing predictions\n",
        "7. Manage your models and versions\n",
        "\n",
        "Tools\n",
        "\n",
        "Quelle Google Cloud ([Link](https://cloud.google.com/ml-engine/docs/tensorflow/ml-solutions-overview?hl=de))\n",
        "\n",
        "\n"
      ]
    },
    {
      "cell_type": "markdown",
      "metadata": {
        "id": "4gbNaaSUAHwA",
        "colab_type": "text"
      },
      "source": [
        "##Herausforderungen im Machine Learning\n",
        "\n",
        "Es ist immer wichtig sich den möglichen Fehlerquellen oder auch Herausforderungen im Machine Learning bewusst zu sein. \n",
        "\n",
        "* **Unzureichende Menge an Trainingsdaten**. Je nach definierter Zielsetzung (bspw. Bilderkennugn mittels Klassifikator) benötigen wir eine sehr grosse Menge an Daten. Idealerweise besitzt das eigene Unternehmen bereits eine ausreichende Menge jedoch stellt sich bei der Beschaffung von qualitätiv guten Daten oft dir grösste Hürde.\n",
        "* **Nicht repräsentative Trainingsdaten** können dazu führen, dass eine Verallgemeinerung nicht oder nur Fehlerhaft möglich ist. Ein unausgewogener Datensatz führt spätestens in der Produktions zu erheblichen Verallgemeinerungsfehlern. Eine Fehlerquelle solcher Datensätze besteht oft schon bei der Methode, mit welcher die Daten erhoben wurden (Stichprobenverzerrung). Es ist wichtig sich über die Datenerhebungsmethode zu informieren und diese kritisch zu hinterfragen.\n",
        "* **Minderwertige Daten** sind oft voll von Fehlern, Ausreissern und Rauschen(z.B. verursacht durch schlechte Messungen). Hier ist es insbesoderes bei der Datenaufbereitung wichtig den Datensatz von solchen minderwertigen Daten zu säubern. Oft besteht in dieser Phase auch die Notwendigkeit Datenwerte zu ersetzen oder den Datensatz mit andern Daten anzureichern.\n",
        "* **Irrelevante Merkmale**. Viele Datensätze verfügen meist über ein Fülle von Merkmalen (Features), welche für das Training unseres Modells nicht notwendig sind. Die Auswahl der relevanten Merkmale ist oft ein langwieriger Prozess und erfordert einerseits ein profundes Verständnis der Domäne (bspw. Banking, Logistik, Pharma usw.), die Aggregation, Anreicherung von Daten und die Reduktion von Dimensionen (bsp. PCA).\n",
        "* **Overfitting der Trainingsdaten** ist oft ein Problem der übermässigen Verallgemeinerung (Generalization) d.h. das Modell erzielt bei den Trainingsdaten eine hohen Genauigkeit versagt jedoch bei den Testdaten. Meist liegt das Problem darin, dass das Modell zu Komplex für die abzubildende Daten ist. Beispielsweise Deep-Learning-Netze können subtile Muster in Daten erkennen. Sind Daten zu stark verrauscht oder ist der Datensatz zu klein können diese Netze auch Muster in diesem Rauschen erkennen was zu Overfitting führt. Um Overfitting zu vermeinden können dem Modell auch Restriktionen auferlegt werden. Diese nennt sich **Regularisierung** (Regularization). \n",
        "* **Underfitting der Trainigsdaten**. Es kann aber auch sein, dass die Struktur der Daten zu Komplex für das Modell ist. Beispielsweise kann ein lineares Modell nicht linear verlaufende Datenpunkt nicht abbilden. Auch in einem solchen Fall kann eine Regularisierung (z.B. durch Hyperparameter) angewendet werden. Die beste Lösung ist aber oft das Modell (z.B. KNN) zu wechseln. \n"
      ]
    },
    {
      "cell_type": "markdown",
      "metadata": {
        "colab_type": "text",
        "id": "AV7Y49AhPPzR"
      },
      "source": [
        "##Mathematik in Machine Learning##\n",
        "\n",
        "Möchte man Machine Learning bzw. die einzelnen Funktionen der Modell wirklich verstehen, dann kommt man nicht drum herum sich mit mathematische Formel herumzuschlagen. In diesem Kapitel wird das eine oder andere Thema etwas näher erläutert."
      ]
    },
    {
      "cell_type": "markdown",
      "metadata": {
        "colab_type": "text",
        "id": "gV2SKcqlSCEk"
      },
      "source": [
        "###Die vier mathematischen Eckpfeiler in Machine Learning###\n",
        "\n",
        "* **STATISTICS (dt. Statistik)** = Statistik ist das eigentliche Herzstück in ML. Es hilft wichtig Erkenntnise aus eine Menge von Daten (Zahlen) zu erlangen.\n",
        "* **CALCULUS (dt. Differential- & Integralrechnung)** = Wird für das Lernen und Optimieren eines ML-Modells benötigt.\n",
        "* **LINEAR ALGEBRA** = Ermöglich den Algorithmen auf riesigen Datensätzen zu arbeiten.\n",
        "* **PROBABILITY (dt. Wahrscheinlichkeit)** = Ermittelt die Wahrscheinlichkeit das eine Vorhersage eintrifft\n",
        "\n",
        "\n"
      ]
    },
    {
      "cell_type": "markdown",
      "metadata": {
        "id": "bSlEPgs5_j30",
        "colab_type": "text"
      },
      "source": [
        "###Mathematische Grundbegriffe###\n",
        "Nachfolgend noch ein paar mathematische Grundbegriffe welche man im Zusammenhang mit vielen mathematischen Erklärungen immer wieder antrifft:\n",
        "\n",
        "* **Theorem** (auch Lehrsatz) ist eine in der Theorie bewiesene Aussage resp. einen bewiesenen Satz. In der Mathematik spricht man statt vom Theorem oder Lehrsatz oft auch einfach vom Satz. Damit er als wahr anerkannt wird, muss er aus den Axiomen der Theorie mit den Schlussregeln der Theorie bewiesen werden. Theoreme welche man im Zusammenhang mit ML immer wieder liest sind:\n",
        " * [Satz von Bayes](https://towardsdatascience.com/probability-learning-i-bayes-theorem-708a4c02909a) (Satz der bedingten Wahrscheinlichkeit)\n",
        " * [Zentrale Grenzwertsatz (CLT)](https://towardsdatascience.com/the-only-theorem-data-scientists-need-to-know-a50a263d013c) -> siehe auch Normalverteilung\n",
        "\n",
        "* **Axiom** stellt in der Mathematik ein absolut richtig erkannter Grundsatz bzw. gültige Wahrheit dar, die keines Beweises bedarf. Beispiel eines Axiom ist die folgende Aussage: „Jede natürliche Zahl n hat genau einen Nachfolger n+1.“ oder \"0 ist kein Nachfolger einer natürlichen Zahl\" (Peano-Arithmetik).\n",
        "\n",
        "* **Normalverteilung** wird auch Gausssche Normalverteilung oder Glockenkurve genannt (engl.normal Gaussian distributions). Normalverteilungen gehört zu den wichtigsten Verteilungen in der Statisik, denn so gut wie jeder Mittelwert (mean) einer x-beliebigen stetigen Verteilung folgt der Glockenkurve. Diese Besonderheit ist auch als zentraler Grenzwertsatz bekannt. Beispielsweise ist die Körpergrösse oder Intelligenz einer Person annähernd normalverteilt bzw. liegt in einem bestimmten Grenzwert. Die Normalverteilung hängt von zwei Kennzahlen ab Erwartungswert (Mittelwert) = **μ** (Ausgesprochen \"um\") und Varianz = **$\\sigma^2$** (Sigma). Verändert man μ verschiebt sich die Kurve nach rechts oder links (Bspw. Mittelwert Körpergrösse aller Menschen vs. Mittelwert Körpergrösse aller Frauen). Die Varianz ($\\sigma^2$) hingegen verändert die Form der Glockenkurve, sie wird also entweder gestreckt oder gestaucht (Bspw. der Max- und Min-Wert der Körpergrösse wird verändert von min. 160 cm auf 150 cm und max. 190cm auf 210cm verbreitert die Glockenkurve)\n",
        "Mehr dazu in diesem [Lernvideo](https://studyflix.de/wirtschaftswissenschaften/normalverteilung-1089)."
      ]
    },
    {
      "cell_type": "markdown",
      "metadata": {
        "colab_type": "text",
        "id": "3hZXsMVtRzVL"
      },
      "source": [
        "###Mathematische Notationen###\n",
        "\n",
        "Im Machine Learning werden zur Darstellung der Algortihmen und Verfahren verschiedene Notationen verwendet:\n",
        "\n",
        "* ***n*** symbolisiert die Anzahl Datenpunkte oder auch statistische Einheiten in einen Datensatz. Zum Beispiel bedeutet\n",
        "$\\displaystyle\\sum_{i=1}^{n}(...) $\n",
        "... die Summe aller in der folgenden Formel berechneteen Werte. Hat ein Datensatz bsp. 2000 Datenpunkte dann ist m = 2000. Anstelle von *n* wird manchmal auch *m* geschrieben.\n",
        "\n",
        "\n",
        "* ***$ x_i$*** ist ein Vektor (Spalte oder Zeile) aller Werte (ohne Label) sämtlicher Merkmale (Features). Wenn der Datenpunkt $x_{1}$ beispielsweise die Merkmale Längegrad = -118, Breitengrad = 33.91,Anzahl Einwohner = 1416  und Durchschnttseinkommen = 38372 hat sieht dies in der Notation wie folgt aus: \n",
        "\n",
        " $x_1{} = \\begin{bmatrix}{-118}\\\\{33.91}\\\\{1416}\\\\{38372}\\end{bmatrix}$\n",
        "*  *$y_{i}$*  ist das dazugehörenden Label. Beispielsweise ist der mittlere Verkaufspreis einer Immobilie in der Region um den Datenpunkt $ x_{i}$, *$y_{i}$*  = 156000.\n",
        "* ***X*** ist eine Matrix mit sämtlichen Datenpunkten ***$x^{(i)}$*** (ohne Labels). Pro Datenpunkt gibt es eine Zeile $X = \\begin{bmatrix}{(x_{1})^T}\\\\{(x_{2})^T}\\\\{(x_{3})^T}\\\\\\vdots&\\\\{(x_{1000})^T}\\end{bmatrix} = \\begin{bmatrix}{-118}&{33.91}&{1416}&{38372}\\\\\\vdots&\\vdots &\\vdots & \\vdots\\end{bmatrix}$ \n",
        "\n",
        "* Das ***T*** steht für den Transponierungs-Operator und wandelt einen Spaltenvektor in einen Zeilenvektor oder umgekehrt."
      ]
    },
    {
      "cell_type": "markdown",
      "metadata": {
        "id": "NDofu7DqB9n8",
        "colab_type": "text"
      },
      "source": [
        "###Statistik & Visualisierung###\n",
        "\n",
        "Die zwei Themen Statisik und Visualiserung haben einen starken Zusammenhnag weshalb sie im gleichen Kapitel beschrieben werden.\n",
        "\n",
        "Gute Tutorial Videos sind:\n",
        "[Studyflix](https://studyflix.de/wirtschaftswissenschaften/deskriptive-statistik-1052), [Simple Learning Pro (engl.)](https://www.youtube.com/watch?v=MXaJ7sa7q-8&list=PL0KQuRyPJoe6KjlUM6iNYgt8d0DwI-IGR&index=1)."
      ]
    },
    {
      "cell_type": "markdown",
      "metadata": {
        "id": "5OWcwiN-_k_3",
        "colab_type": "text"
      },
      "source": [
        "####Statisik####\n",
        "\n",
        "Statistik wird einerseits als eigenständige mathematische Disziplin über das Sammeln, die Analyse, die Interpretation oder Präsentation von Daten betrachtet, andererseits als Teilgebiet der Mathematik, insbesondere der Stochastik, angesehen. Die **Stochastik** umfasst Statistik und die Wahrscheinlichkeitstheorie. In der Statisik geht es im wesentlichen immer darum Zahlen aus einer Untersuchungsgebiet zu **vergleichen**, zu **unterscheiden** und zu **zählen**. Die Resultate aus einer statistischen Untersuchung werden dazu verwendet um, \n",
        "* **Hypothesen** zu bestätigen oder zu wiederlegen;\n",
        "* **Voraussagen** zu treffen;\n",
        "* **Entscheidungen** herbeizuführen.\n",
        "\n",
        "Die Statistik wird in die folgenden drei Teilbereiche eingeteilt:\n",
        "\n"
      ]
    },
    {
      "cell_type": "markdown",
      "metadata": {
        "id": "wuP_RWydvoKB",
        "colab_type": "text"
      },
      "source": [
        "#### **Deskriptive Statisik** ####\n",
        "\n",
        "Die **deskriptive Statistik** (auch beschreibende Statistik oder **empirische Statistik**): Vorliegende Daten werden in geeigneter Weise beschrieben, aufbereitet und zusammengefasst. Mit ihren Methoden verdichtet man quantitative Daten zu Tabellen, graphischen Darstellungen und Kennzahlen. Sie bildet die Grundlage für die weiteren Statisikarten wie die Induktive- oder Explorative Statisitik. Inferenzstatistik.\n",
        "Die Daten werden beschrieben und dargestellt mit:\n",
        " * Tabellen (bzw. Konigenztabelle)\n",
        " * Plots (Streudiagramme, Kreisdiagramme, Balkendiagramme)\n",
        "\n",
        "Kennzahlen der deskriptiven Statisik werden ermittelt mit:\n",
        "\n",
        "\n",
        "\n"
      ]
    },
    {
      "cell_type": "markdown",
      "metadata": {
        "id": "phhnXRLsg9Es",
        "colab_type": "text"
      },
      "source": [
        "#### Lagemasse ####\n",
        "\n",
        "Der Modus, der Median und der Mittelwert sind die drei bekanntesten, sogenannten Lagemaße der Statistik. Mit ihnen versuchen wir eine zentrale Tendenz in einer Datenmenge zu erfassen. Deshalb werden sie öfter auch als Maße der zentralen Tendenz bezeichnet.\n",
        "\n",
        "**Modus**\n",
        "\n",
        "Der Modus, welcher auch Modalwert genannt wird,  ist ein Lagemass der Statistik, welcher für alle Skalenniveaus berechnet werden kann. Er ist definiert als der in einer Stichprobe am häufigsten vorkommende Wert.\n",
        "\n",
        "$\\bar{x}_{mod} = n$\n",
        "\n",
        "Skalennieveaus:\n",
        " * Nominal\n",
        " * Ordinal\n",
        " * Kardinal\n",
        "\n",
        "**Median**\n",
        "\n",
        "Der Median in der Statistik, welcher auch als Zentralwert bekannt ist, gibt als Lageparameter an, welcher Messwert genau in der Mitte einer sortierten Urliste liegt. Er Teilt die Messwerte somit in zwei gleich große Gruppen ein, welche Werte beinhalten, die entweder größer sind als der Median, oder kleiner. Da er sich nicht durch Ausreisser beeinflussen lässt gilt er als **Robust**.\n",
        "\n",
        "Formel bei **ungerader** Anzahl:\n",
        "\n",
        "**$\\bar{x}_{med} = \\frac{x_n + 1}{2}$**\n",
        "\n",
        "Berechnungsbeispiel: 5,7,21,35,70\n",
        "\n",
        "$\\frac{5+1}{2} =\\frac{6}{2}= 3$ (Position) somit ist der Median 21\n",
        "\n",
        "---------\n",
        "\n",
        "Formel bei **gerader** Anzahl:\n",
        "\n",
        "**$\\bar{x}_{med} = \\frac{1}{2}(x_\\frac{n}{2}+x_\\frac{n}{2}+_1)$**\n",
        "\n",
        "Berechnungsbeipiel: 14,22,40,60,74,105\n",
        "\n",
        "$\\frac{1}{2} (\\frac{6}{2} + \\frac{6}{2}+_1) = 3 + 4 =$ Mitte zwischen 40 und 60 macht einen Median von 50\n",
        "\n",
        "Skalenniveaus:\n",
        " * Ordinal\n",
        " * Kardinal\n",
        "\n",
        "**Mittelwerte (Mean)**\n",
        "\n",
        "Der Mittelwert markiert - wie der Name schon sagt - die **Mitte des Datensatzes**. Der Mittelwert soll uns aber auch ermöglichen den **Gesamtwert** aller statistischen Einheiten zu **reproduzieren**. Der Mittelwert kommt nur in Zusammenhang mit Kardinalskalen vor.\n",
        "\n",
        "In der Statisik spricht man von den drei folgenden Mittelswerten:\n",
        "\n",
        "*Arithmetischer Mittelwert (Durchschnitt)* \n",
        "\n",
        "Der Arithm. Mittelwert errechnet sich aus der Summe aller Werte dividiert durch die Anzahl Werte.\n",
        "\n",
        "$\\bar{x} = \\frac{1}{n} \\sum^n_{i=1}x_i$\n",
        "\n",
        "$\\bar{x}$ (x-Quer) ist das Symbol für den Mittelwert.\n",
        "\n",
        "\n",
        "\n",
        "*Harmonischer Mittelwert*\n",
        "\n",
        "Dieses Mittel kommt bei Verhältniszahlen (Brüche, die Beziehungen widerspiegeln) zum Einsatz.\n",
        "Das gewichtet harmonische Mittel kommt dann zum Einsatz, wenn im **Nenner** ($\\frac{Zähler}{Nenner (Teiler)}$) gewichtebezogene Grössen angegeben sind. Beim arithmetischen Mittelwert sind diese im **Zähler**. \n",
        "Die Formel sieht wie folgt aus: \n",
        "\n",
        "$\\bar{x}_{harm} = \\frac{n}{\\sum^n_i =1\\frac{1}{x_i}}$\n",
        "\n",
        "*Geometischer Mittelwert*\n",
        "\n",
        "Dieser Mittelwert wird für die Berechnung von prozentualen Veränderungen verwendet. Beispielsweise um wieviel Prozent haben sich die Ausgaben eines Kontos durchschnittlich verändert.\n",
        "\n",
        "$\\bar{x}_{geom} = \\sqrt[n]{n}$ ...."
      ]
    },
    {
      "cell_type": "markdown",
      "metadata": {
        "id": "JtkCVoLywyNS",
        "colab_type": "text"
      },
      "source": [
        "#### Streuungsmasse ####\n",
        "\n",
        "Unterschied der Werte und Ausreisser\n",
        "   * Varianz und Standardabweichung\n",
        "   * Spannweite und Quartilsabstand\n",
        "   * Variationskoeffizient\n"
      ]
    },
    {
      "cell_type": "markdown",
      "metadata": {
        "id": "eOjMg2wew3TY",
        "colab_type": "text"
      },
      "source": [
        "  * **Zusammenhangsmasse** - Stärke und Richtung des Zusammenhangs\n",
        "   * Korellationskoeffizienten (Pearson oder Spearman)"
      ]
    },
    {
      "cell_type": "markdown",
      "metadata": {
        "id": "M4-7pjBwvyLx",
        "colab_type": "text"
      },
      "source": [
        "* Die **induktive Statistik** (auch mathematische Statistik, beurteilende Statistik, inferielle Statistik oder **Inferenzstatistik**): In der induktiven Statistik leitet man aus den Daten einer Stichprobe Eigenschaften einer Grundgesamtheit ab. Mit ihrer Hilfe zieht man allgemein gültige Rückschlüsse.\n"
      ]
    },
    {
      "cell_type": "markdown",
      "metadata": {
        "id": "WQURJXzqv2rO",
        "colab_type": "text"
      },
      "source": [
        "### Explorative Statisik ###\n",
        "\n",
        "Die **explorative Statistik** (auch erkundende Statisik,hypothesen-generierende Statistik, analytische Statistik oder **Data-Mining**): Mit Hilfe dieser Methode sucht man gezielt nach Besonderheiten oder Zusammenhänge in den Daten. Die so gefundenen Ergebnisse lassen sich als Hypothesen verstehen, die erst, nachdem darauf aufbauende, induktive Testverfahren mit entsprechenden (prospektiven) Versuchsplanungen sie bestätigten, als statistisch gesichert gelten können."
      ]
    },
    {
      "cell_type": "markdown",
      "metadata": {
        "id": "FuB--Y70p3H4",
        "colab_type": "text"
      },
      "source": [
        "####Wichtige statistische Grundbegriffe####\n",
        "\n",
        "* **Grundgesamtheit** - Ist die Menge aller statistischen Einheiten welche für die Untersuchung in Frage kommen. Bspw. Bevölkerung eines Landes oder Arbeitslose usw. \n",
        "* **Statisische Einheit** - Werden einzelenen Objekte bezeichnet, welche in der statischen Untersuchung verwendet werden. Sie ist Bestandteil der Grundgesamtheit. Bspw. einzelene Automarken Schuhmarken, Einwohner, Kanton etc. \n",
        "* **Merkmal** - Sind die Unterscheidungskriterien der Stat. Einheiten. Bspw. Preis, Farbe, Grösse, Länge, Gewicht, Jahreszeiten usw. Die verwendeten Merkmale hängen immer von der jeweiligen Fragestellung ab.\n",
        "* **Merkmalsausprägung** - Bezeichnet man die Zuweisung der Merkmale zu den stat. Einheiten. Bswp. Farben der Autos wie rot, gelb, schwarz, grün etc.\n",
        "* **Diskret** - Sind qualitative oder nichtmetrische Daten\n",
        "* **Stetig** - Sind quantitative oder metrische Daten."
      ]
    },
    {
      "cell_type": "markdown",
      "metadata": {
        "id": "eCqqBVmzuinx",
        "colab_type": "text"
      },
      "source": [
        "####Statistische Untersuchung####\n",
        "\n",
        "Wird eine statistische Untersuchung durchgeführt, dann definiert man in erster Linie eine Fragestellung. Aus der Fragestellung heraus wird die **Grundgesamtheit** (bspw. alle deutschen Automarken) definiert. Daraus ergeben sich die **statisischen Einheiten** (bspw. Audi, Porsche, BMW, Mercedes usw.) sowie ihre **Merkmale** (bspw. Preis, Kraftstoffverbrauch, Farbe, Hubraum, PS usw.) und die **Merkmalsausprägung** (Bspw. Farbe grün, blau oder Kraftstoffverbrauch 2.5 l pro 100 KM usw)."
      ]
    },
    {
      "cell_type": "markdown",
      "metadata": {
        "id": "yLE0LZzIGWhZ",
        "colab_type": "text"
      },
      "source": [
        "####Skalenniveaus####\n",
        "\n",
        "Im Rahmen einer statistischen Untersuchung werden jeweils Merkmale und ihre Ausprägungen erhoben. Oft ist es jedoch so, dass sich die Merkmale auch ihn ihrer Typisierung unterscheiden mittels derer sich die Ausprägungen verarbeiten lassen (z.B. Zahlen, Text usw). In der Statisik unterscheidet man zwischen den folgenden **vier Skalatypen**:\n",
        "\n",
        "* **Nominalskala** - Mittels diese Skala lässt sich nur eine Aussage darüber machen, ob sich zwei statistische Einheiten gleiche oder nicht ($= /\\neq$). Es handelt sich dabei um Daten, die in keine logische Reihenfolge gebracht werden können. Bspw. Geschlecht, Haarfarbe, Kleidung von Personen. \n",
        "* **Ordinalskala** - Mit dieser Art von Skalen lassen sich auch Einheiten verleichen ($=/\\neq$) zusätzlich lässt sich noch eine Ordnung herstellen ($>/<$). Eine solche Ordung wir meist auch bei Umfragen verwendet Bspw. Wahl einer zutreffenden Frage von 1 - 5. Andere Ordinalitäten sind gut, sehr gut, perfekt, süss, süsser am süssesten usw.\n",
        "* **Intervallskala** - Neben den bereits bekannten Vergleichsmöglichkeiten ($=/\\neq$) und der Ordnung ($>/<$) kommt bei dieser Skala noch die möglichkeit hinzu Abstände ($+/-$) zu berechnen. Bspw. können die Abstände zwischen den Releasedaten neuer Automodelle berechnet werden.\n",
        "* **Skalenniveaus** - Diese stellt das höchste Skalenniveau dar. Neben den bereits erwähnten Möglichkeiten ($=/\\neq, >/<, +/-$) kommt hier noch die Bildung von Verhältnissen ($./:$)zwischen den Merkmalsausprägungen hinzu. Bspw. können wir das Verhältnis von Preissenkungen oder Preisanstiege bilden. \"Autosklassen (SUV, Coupe usw.) können im Verhältnis bis zu 20% Preisunterschiede haben\". Man spricht in diesem Zusammenhang auch von einer **Verhältnisskala**.\n",
        "\n",
        "Die Intervall- und Verhältnisskala werden oft auch als **Kardinalskala** zusammengefasst.\n",
        "Damit man die korrekte Berechnungsmethode auswählen kann, muss man verstehen in welche Skala sich die vorhandenen Daten bzw. Merkmale bewegen.\n",
        "\n",
        "<img src=\"https://github.com/sakuronohana/my_datascience/blob/master/doc_images/skalenniveaus.png?raw=1\" width=\"400\">\n",
        "\n",
        "Quelle: Youtube [Kurzes Tutorium Statistik](https://www.youtube.com/channel/UCtBEklAtHHji2V1TsaTzZXw)\n",
        "\n",
        "**Hinweis** \n",
        "Als Skala bezeichnet man die Zusammenstellung aller möglichen  Ausprägungen zu einem Merkmal ob sie nun gemessen wurden oder nicht. "
      ]
    },
    {
      "cell_type": "markdown",
      "metadata": {
        "id": "u0-wTCkkeMSH",
        "colab_type": "text"
      },
      "source": [
        "####Regression####\n",
        "\n",
        "Die Regressionsanalyse ist das Bindeglied zwischen diskreten Messungen und der für die Statisik wichtigen Stetigkeit.\n",
        "\n",
        "Quelle: Youtube [Kurzes Tutorium Statistik](https://www.youtube.com/watch?v=btsd-7AGDjc)\n",
        "\n",
        "Sie sind statistische Analyseverfahren, die zum Ziel haben, *Beziehungen* zwischen einer *abhängigen* (Y-Achse) und einer oder mehreren *unabhängigen* (X-Achse) Variablen zu modellieren. Sie werden insbesondere verwendet, wenn Zusammenhänge quantitativ zu beschreiben oder Werte der abhängigen Variablen zu prognostizieren sind. In der Regression unterscheidet man zwischen Linear und nicht Linear. Ein typischer  Regressionsalgorithmen ist *Lineare Regression*, aber auch *SVM* und *Random Forest* können als RA eingesetzt werden."
      ]
    },
    {
      "cell_type": "markdown",
      "metadata": {
        "id": "3V6J35NrfmUc",
        "colab_type": "text"
      },
      "source": [
        "#### Lineare Regression #### \n",
        "Das Grundprinzip der Regression: Durch eine oder mehrere unabhängige Variablen, soll eine abhängige Variable erklärt werden. Beispiel: Durch die unabhängigen Variablen i= Werbeausgaben und ii=Anzahl der angebotenen Produkte soll die abhängige Variable y=Tagesumsatz erklärt werden.\n",
        "      * y = a + bi + cii\n",
        "      * y= Tagesumsatz = zuerklärende Variable = Regressand\n",
        "      * a= Konstante\n",
        "      * b= Gewichtungsfaktor der Werbeausgaben\n",
        "      * i= Werbeausgaben\n",
        "      * c= Gewichtungsfaktor der Anzahl der angebotenen Artikel\n",
        "      * ii= Anzahl der angebotenen Artikel\n",
        "\n",
        "  Hier eine Eselsbrücke:\n",
        "\n",
        "  * Regress**OHR**–> Ohren sind „schlau“ und können Dinge erklären –> erklärende Variable–> unabhängige Variable\n",
        "  * Regres**SAND** –> Sand ist „dumm“ und kann nichts erklären–> zuerklärende Variable–> abhängige Variable"
      ]
    },
    {
      "cell_type": "markdown",
      "metadata": {
        "id": "pmD8YRaGCczz",
        "colab_type": "text"
      },
      "source": [
        "##### **Standardabweichung (engl. Standard Deviation)** #####\n",
        "\n",
        "Es ist die Streuung der Daten, die es gilt zu verstehen. Die **Standardabweichung (σ)** ist in diesem Fall die **wichtigste Größe**, die allgemein benutzt wird, um die Streuung **(Abweichung vom Mittelwert)** von Verteilungen zu messen. Bei der Standardabweichung gelten folgende Regeln:\n",
        "\n",
        "* Die Standardabweichung ist entweder eine positive Zahl oder Null. Sie ist niemals negativ. \n",
        "* Die Standardabweichung ist Null, wenn alle Werte gleich sind. Da sie von der Varianz abgeleitet ist, bedeutet eine **größere Standardabweichung** auch eine **höhere Varianz** und umgekehrt. Die Standardabweichung kann sehr schnell steigen, wenn Werte, die weiter von den übrigen entfernt sind, mit in die Berechnung einbezogen werden.\n",
        "* Die Einheit der Standardabweichung und die Einheit der Messwerte sind gleich.\n",
        "\n",
        "Die Herleitung für die Standardabwechung funktioiniert folgendermassen:\n",
        "\n",
        "1.   Zuerst berechnen wir den arithmetischen Mittelwert (Mean). Beispiel (2 + 4 + 6) / 3 = 4 (Mittelwert)\n",
        "2.   Dann berechnen wir die Standardabweichung S=σ. Beispiel:\n",
        "     \n",
        "     $S_A = (2-4)^2 + (4-4)^2 + (6-4)^2 / 3 $\n",
        "\n",
        "Ein gute Erklärung findest du [hier](https://123mathe.de/spannweite-median-varianz-und-standardabweichung).\n",
        "\n",
        "\n",
        "\n"
      ]
    },
    {
      "cell_type": "markdown",
      "metadata": {
        "id": "pJqBrwx8_vkj",
        "colab_type": "text"
      },
      "source": [
        "### Visualisierung ###\n",
        "\n",
        "In der Statisik hat die Visualisierung einen hohen Stellenwert. Die Visiualisierung gehört zu den wesentlichsten Themen wenn es darum geht **Muster** oder **Beziehung** in Daten zu erkennen bzw. Daten zu präsentieren. Aber auch im Zusammenhang mit dem Modelltraining- & Testing hat die Visualiserung ein wichtig Rollen und lässt den Fortschritt oder allfällige Fehler schneller erkennen. Mittels Visualisierung lassen sich grosse Datenmengen am Besten verstehen bzw. möglich Muster darin zu erkennen. Wichtig ist dabei nicht nur die quantitative Sicht hinter Zahlen zu sehen, sondern auch die Kernaussage bspw. in Bezug auf die Menschen dahinter zu erkennen. Eine gute Visualisierung sollte die Geschichte hinter den Daten erzählen.\n",
        "\n",
        "Guten Beispiel von Datenvisualierungen werden in den folgenden Videos gezeigt:\n",
        "* [TED Präsentation von Hans Rosling](https://www.ted.com/talks/hans_rosling_the_best_stats_you_ve_ever_seen)\n",
        "* [Journalism in the Age of Data](https://www.youtube.com/watch?v=YuGbN0YfwNE&t=1109s)\n",
        "\n",
        "Tools zur Visualisiuerung:\n",
        "* [Gapminder](https://www.gapminder.org/tools/#$chart-type=bubbles)\n",
        "\n",
        "Nachfolgend befassen wir uns mit ein paar Methoden zur Visualisierung:"
      ]
    },
    {
      "cell_type": "markdown",
      "metadata": {
        "id": "q1Ld_36g1BO7",
        "colab_type": "text"
      },
      "source": [
        "####Stabdiagramm & Histogramm####\n",
        "\n",
        "<img src=\"https://github.com/sakuronohana/my_datascience/blob/master/doc_images/stab-histogramm.png?raw=1\" width=\"400\">\n",
        "\n",
        "Quelle: [Kurzes Tutorium Statistik](https://www.youtube.com/watch?v=LkOBRWXnTRQ&t=122s)\n",
        "\n",
        "**Stabdiagramm oder Balkendiagramm**\n",
        "\n",
        "Mittels diesem Diagramm lassen sich die empirischen Häufigkeiten (Y-Axis)von Merkmalausprägungen (X-Axis) mittels Balken darstellen.\n",
        "\n",
        "Nachfolgend ein kleines Stabdiagramm erstellt mit Python: \n"
      ]
    },
    {
      "cell_type": "code",
      "metadata": {
        "id": "PlRFBAo74k9X",
        "colab_type": "code",
        "outputId": "54e8a99e-853f-480e-be4c-9ae42a503446",
        "colab": {
          "base_uri": "https://localhost:8080/",
          "height": 382
        }
      },
      "source": [
        "import numpy as np\n",
        "import pandas as pd\n",
        "import matplotlib.pyplot as plt\n",
        "\n",
        "datloc = 'https://raw.githubusercontent.com/sakuronohana/my_datascience/master/datasets/car_data.csv'\n",
        "\n",
        "datload = pd.read_csv(datloc, sep=';')\n",
        "\n",
        "newdat = datload.groupby('brand').hp.sum()\n",
        "fig = plt.figure()\n",
        "ax = fig.add_subplot(1,1,1)\n",
        "ax.set_title('Beispiel Stabdiagramm')\n",
        "ax.set_xlabel('Automarken')\n",
        "ax.set_ylabel('Pferdestärken')\n",
        "newdat.plot(kind='bar')\n",
        "plt.show()\n"
      ],
      "execution_count": 0,
      "outputs": [
        {
          "output_type": "display_data",
          "data": {
            "image/png": "[encoded data removed]",
            "text/plain": [
              "<Figure size 432x288 with 1 Axes>"
            ]
          },
          "metadata": {
            "tags": []
          }
        }
      ]
    },
    {
      "cell_type": "markdown",
      "metadata": {
        "id": "eIVUxFkso-c8",
        "colab_type": "text"
      },
      "source": [
        "**Histogramm**\n",
        "\n",
        "Mittels diesem Diagramm werden meist klassierte Intervalle definiert, weshalb das Merkmal metrisch sein muss.\n",
        "\n",
        "Nachfolgend ein kleines Histogramm erstellt mit Python: "
      ]
    },
    {
      "cell_type": "code",
      "metadata": {
        "id": "lHgNfgq7p037",
        "colab_type": "code",
        "outputId": "93088b9d-50c3-47a6-eb71-ea1ca5b84fbf",
        "colab": {
          "base_uri": "https://localhost:8080/",
          "height": 287
        }
      },
      "source": [
        "import numpy as np\n",
        "import pandas as pd\n",
        "import matplotlib.pyplot as plt\n",
        "\n",
        "datloc = 'https://raw.githubusercontent.com/sakuronohana/my_datascience/master/datasets/car_data.csv'\n",
        "\n",
        "datload = pd.read_csv(datloc, sep=';')\n",
        "\n",
        "bins = np.arange(datload['cyl'].min(), datload['cyl'].max())\n",
        "\n",
        "plt.hist(datload['cyl'],\n",
        "         bins=3,\n",
        "         alpha=0.7,\n",
        "         color='#EDD834',\n",
        "         label='Zylinder')\n",
        "plt.ylim(0,20)"
      ],
      "execution_count": 0,
      "outputs": [
        {
          "output_type": "execute_result",
          "data": {
            "text/plain": [
              "(0, 20)"
            ]
          },
          "metadata": {
            "tags": []
          },
          "execution_count": 109
        },
        {
          "output_type": "display_data",
          "data": {
            "image/png": "[encoded data removed]",
            "text/plain": [
              "<Figure size 432x288 with 1 Axes>"
            ]
          },
          "metadata": {
            "tags": []
          }
        }
      ]
    },
    {
      "cell_type": "markdown",
      "metadata": {
        "colab_type": "text",
        "id": "VKqhByGehD9U"
      },
      "source": [
        "###Lineare Algebra ###\n",
        "\n",
        "Wenn es um die Verwendung von Daten im Machine Learning geht, dann führt kein Weg an der linearen Algebra (auch Matrizen Algebra genannt) vorbei. Nachfolgend ein paar Basics in Linearer Algebra.\n",
        "\n",
        "<img src=\"https://cdn-images-1.medium.com/max/800/1*hBLI_5bZFpts_vt4h_3qRA.png\" width=\"500\"/>\n",
        "\n",
        "Quelle: [Linear Algebra for Deep Learning](https://mc.ai/linear-algebra-for-deep-learning-3/)\n"
      ]
    },
    {
      "cell_type": "markdown",
      "metadata": {
        "id": "9ZCDoqIN5qVY",
        "colab_type": "text"
      },
      "source": [
        "####Skalar (engl. Scalar)####\n",
        "Ein Skalar ist eine Zahl. Beispiele für Skalare sind Temperatur, Entfernung, Geschwindigkeit oder Masse, Größen, die eine Größe haben, aber keine „Richtung“,ausser vielleicht positiv oder negativ. Der Skalar stellt somit nur einen Wert dar:\n",
        "\n",
        "$ 120 $"
      ]
    },
    {
      "cell_type": "markdown",
      "metadata": {
        "id": "0HOvFYlI6T7T",
        "colab_type": "text"
      },
      "source": [
        "####Vektor (engl. Vector) ####\n",
        "Vektoren sind eindimensionales Arrays die nummerische, Zeichen oder logische Werte enthalten können. Die Elemente in einem Vektor haben alle die gleichen Datentypen.\n",
        "\n",
        "$\\begin{bmatrix}{1402} & {191}\\end{bmatrix}$"
      ]
    },
    {
      "cell_type": "markdown",
      "metadata": {
        "colab_type": "text",
        "id": "3eY0L2Us29lB"
      },
      "source": [
        "####Matrize (engl. Matrix)####\n",
        "\n",
        "Eine Matrix ist ein zweidimensionales Array und kann nummerische, Zeichen oder logische Werte enthalten. Die Elemente in einer Matrix haben alle die gleichen Datentypen. Eine Matrix ist eine rechteckige Anordnung von vielen Vektoren in Reihen (horizontal) und Spalten (vertikal). \n",
        "\n",
        "$X= \\begin{bmatrix}{1402} & {191}\\\\{1371} & {821}\\\\{949}&{1437}\\\\{147}&{1448}\\end{bmatrix}$\n",
        "\n",
        "\n",
        "\n"
      ]
    },
    {
      "cell_type": "markdown",
      "metadata": {
        "id": "xVibAs9uC_1H",
        "colab_type": "text"
      },
      "source": [
        "#### Tensor ####\n",
        "\n",
        "Tensoren sind ein Arrays von Zahlen mit mehreren Achsen. Ein Tensor besteht aus drei Indizes. Der erste Index zeigt auf die Zeile, der zweite auf die Spalte und der dritte auf die Achse. Die Struktur eines Tensors hängt von der Anzahl der Indizes ab. Beispielsweise ist der Tensor erster Ordnung ein Vektor mit 1 Index, die zweite Ordnung ist eine Matrix mit 2 Indizes und der Tensor dritter Ordnung mit 3 Indizes. Tensoren mit mehr als 3 Indizes werden Tensoren höherer Ordnung genannt.\n",
        "\n",
        "$X= \\begin{bmatrix}[{1} & {2}] & [{3} & {4}] \\\\ [{5} & {6}] & [{7} & {8}]\\\\ [{9}&{10}] & [{11} & {12}]\\end{bmatrix}$"
      ]
    },
    {
      "cell_type": "markdown",
      "metadata": {
        "id": "Ft8pOZEaG7Nt",
        "colab_type": "text"
      },
      "source": [
        "#### Matrixoperationen ####\n",
        "\n",
        "**Matrix-Skalar-Addition**: Bei dieser Operation wird der Skalarwert zu jedem Element der Matrix addiert. Zum besseren Verständnis siehe das Bild unten:\n",
        "\n",
        "$\\begin{bmatrix}{1} & {2} \\\\ {3} & {4} \\\\ {5} & {6}\\end{bmatrix} + 1 = \\begin{bmatrix}{2} & {3} \\\\ {4} & {5} \\\\ {6} & {7}\\end{bmatrix} $\n",
        "\n",
        "**Matrix-Vektor-Addition**: Bei dieser Operation wird jede Zeile einer Matrix mit jeder Spalte des Vektors addiert. Die Ausgabematrix ist vom Typ Vektor mit der gleichen Anzahl von Zeilen wie die der Matrix\n",
        "\n",
        "$\\begin{bmatrix}{1} & {2} \\\\ {3} & {4} \\\\ {5} & {6}\\end{bmatrix} + \\begin{bmatrix}{1}&{2} \\end{bmatrix} = \\begin{bmatrix}{3} & {5} \\\\ {5} & {7} \\\\ {7} & {9}\\end{bmatrix} $\n",
        "\n",
        "a. Berechnung mit Spalten\n",
        "\n",
        "$\\begin{bmatrix}{1} & {2} \\\\ {3} & {4} \\\\ {5} & {6}\\end{bmatrix} + \\begin{bmatrix}{1}\\\\{2}\\\\{3} \\end{bmatrix} = \\begin{bmatrix}{2} & {3} \\\\ {5} & {6} \\\\ {8} & {9}\\end{bmatrix} $\n",
        "\n",
        "b. Berchnen mit Zeilen\n",
        "\n",
        "**Matrix-Matrix-Addition**: Diese Operation ist recht einfach, erfordert jedoch beide Matrizen derselben Dimension, um die Operation auszuführen. Die resultierende Matrix hat dieselbe Dimension. Wir müssen nur jeden Wert der ersten Matrix mit dem entsprechenden Wert der anderen Matrix addieren.\n",
        "\n",
        "$\\begin{bmatrix}{1} & {2} \\\\ {3} & {4} \\\\ {5} & {6}\\end{bmatrix} + \\begin{bmatrix}{3} & {4}\\\\{5} & {6}\\\\{7}&{8} \\end{bmatrix} = \\begin{bmatrix}{4} & {6} \\\\ {8} & {10} \\\\ {12} & {14}\\end{bmatrix}$\n",
        "\n",
        "---\n",
        "\n",
        "**Matrix-Skalar-Multiplikation**: Bei dieser Art der Multiplikation wird der Skalarwert mit jeder Zeile der Matrix multipliziert.\n",
        "\n",
        "$2 * \\begin{bmatrix}{1} & {2} \\\\ {3} & {4}\\end{bmatrix} = \\begin{bmatrix}{2} & {4}\\\\{6} & {8} \\end{bmatrix} $\n",
        "\n",
        "**Matrix-Vektor-Multiplikation** : Hierbei wird jede Zeile der Matrix mit jeder Spalte des Vektors multipliziert. Die Ausgabematrix ist vom Typ Vektor mit der gleichen Anzahl von Zeilen wie die der Matrix.\n",
        "\n",
        "$ \\begin{bmatrix}{2}&{4} \\\\ {1}&{5} \\end{bmatrix} * \\begin{bmatrix}{3} \\\\ {4}\\end{bmatrix} = \\begin{bmatrix}{18} \\\\ {24} \\end{bmatrix} $\n",
        "\n",
        "Ausgeschrieben sieht dies wie folgt aus:\n",
        "\n",
        "$(2*3)+(4*4) = 18$\n",
        "\n",
        "$(1*3)+(5*4) = 23$\n",
        "\n",
        "**Matrix-Matrix-Multiplikation**: Diese Operation folgt denselben Schritten wie die Matrix-Vektor-Multiplikation. **Voraussetzung** hierfür ist jedoch, dass die beiden Matrizen nur dann multipliziert werden können, wenn die **Spalte** der ersten Matrix mit der **Zeile** der zweiten Matrix übereinstimmt. Teilen Sie einfach den Spaltenvektor der zweiten Matrix, multiplizieren Sie ihn mit jedem Element der Zeile und speichern Sie das Ergebnis in einer neuen Matrix. Die resultierende Matrix enthält die Anzahl der Zeilen der ersten Matrix und die Anzahl der Spalten der zweiten Matrix, wie unten dargestellt.\n",
        "\n",
        "$\\begin{bmatrix}{2}&{4}&{11}&{6}\\\\{4}&{12}&{8}&{15} \\end{bmatrix} \\begin{bmatrix} {5}&{7}\\\\{4}&{4}\\\\{7}&{14}\\\\{12}&{9}\\end{bmatrix} =\\begin{bmatrix}{175}&{238}\\\\{304}&{323}\\end{bmatrix}$\n",
        "\n",
        "Ausgeschrieben sieht diese Berechnung wie folgt aus:\n",
        "\n",
        "$(2*5)+(4*4)+(11*7)+(6*12) = 175$\n",
        "$(2*7)+(4*4)+(11*14)+(6*9) = 238$\n",
        "$(4*5)+(12*4)+(8*7)+(15*12) = 304$\n",
        "$(4*7)+(12*4)+(8*14)+(15*9) = 323$\n"
      ]
    },
    {
      "cell_type": "markdown",
      "metadata": {
        "id": "fD7JK8jFBWwH",
        "colab_type": "text"
      },
      "source": [
        "####Matrix-Multiplikationseigenschaften#####\n",
        "\n",
        "1. **Assoziativ**: Diese Eigenschaft gilt sowohl für die Skalar- als auch für die Matrixmultiplikation. Für die Skalarmultiplikation ist 2 (4 * 5) dasselbe wie (4 * 5) 2, wohingegen für die Matrixmultiplikation A (B * C) dasselbe wie (B * C) A ist.\n",
        "2. **Verteilend**: Diese Eigenschaft gilt sowohl für die Skalar- als auch für die Matrixmultiplikation. Für die Skalarmultiplikation ist 2+ (4 + 5) dasselbe wie (4 + 5) +2 und für die Matrixmultiplikation ist A + (B + C) dasselbe wie (B + C) + A.\n",
        "3. **Nicht kommutativ:** Diese Eigenschaft gilt nur für die Skalarmultiplikation und nicht für die Matrixmultiplikation. Bei ersterer ist 2 * 4 gleich 4 * 2, bei letzterer ist A * B nicht gleich B * A.\n",
        "4. **Identitätsmatrix:** Auch als Einheitsmatrix bezeichnet. In dieser Typmatrix haben die diagonalen Elemente den Wert Eins und die übrigen Elemente den Wert Null. Mit der Anzahl der Zeilen, die der Anzahl der Spalten entspricht, spricht man auch von einer quadratischen Matrix.\n",
        "\n",
        "$ I_n = \\begin{bmatrix}{1}&{0}&{0}&{...}&{0} \\\\ {0}&{1}&{0}&{...}&{0}\\\\ {0}&{0}&{1}&{...}&{0}\\\\ {.}&{.}&{.}&{...}&{.}\\\\ {0}&{0}&{0}&{...}&{1}\\end{bmatrix} $"
      ]
    },
    {
      "cell_type": "markdown",
      "metadata": {
        "colab_type": "text",
        "id": "wvflzDcXiBke"
      },
      "source": [
        "###Activation Functions###\n",
        "\n",
        "Die Akitvation Function bzw. die zugrundeliegende Mathematik wird in Deep Learning zur Aktivierung (Feuern oder nicht Feuern)innerhalb der Units (künstliches Neuron) verwendet."
      ]
    },
    {
      "cell_type": "markdown",
      "metadata": {
        "colab_type": "text",
        "id": "_8D6W5rHTSy5"
      },
      "source": [
        "**Sigmoid Function**\n",
        "\n",
        "Formel:\n",
        "\n",
        "$f(x) = \\frac{1}{1 + exp (^{-x})} $\n",
        "\n",
        "Plot:\n",
        "\n",
        "![alt text](https://upload.wikimedia.org/wikipedia/commons/thumb/5/53/Sigmoid-function-2.svg/512px-Sigmoid-function-2.svg.png)"
      ]
    },
    {
      "cell_type": "code",
      "metadata": {
        "colab_type": "code",
        "id": "IPAKvKnzTx-X",
        "colab": {}
      },
      "source": [
        "import numpy as np\n",
        "\n",
        "def sigmoid (x):\n",
        "  return 1 / (1 + np.exp(-x))\n",
        "\n",
        "sigmoid(2.5)"
      ],
      "execution_count": 0,
      "outputs": []
    },
    {
      "cell_type": "markdown",
      "metadata": {
        "colab_type": "text",
        "id": "BoIFIJhvZFQU"
      },
      "source": [
        "**tanh Function**\n",
        "Hyperbolic Tangent Function\n",
        "\n",
        "Formel:\n",
        "\n",
        "$f(x) = \\frac{2}{1 + exp (^{-2x})}-1 $\n",
        "\n",
        "Plot:\n",
        "\n",
        "![alt text](http://mathworld.wolfram.com/images/interactive/TanhReal.gif)"
      ]
    },
    {
      "cell_type": "code",
      "metadata": {
        "colab_type": "code",
        "id": "Pgl6nXilZk4h",
        "colab": {}
      },
      "source": [
        "import numpy as np\n",
        "\n",
        "def tanh (x):\n",
        "  return np.tanh(1 - (x ** 2))\n",
        "\n",
        "\n",
        "tanh(-2.5)"
      ],
      "execution_count": 0,
      "outputs": []
    },
    {
      "cell_type": "markdown",
      "metadata": {
        "colab_type": "text",
        "id": "fR421tiyaupV"
      },
      "source": [
        "***ReLU Function***\n",
        "Rectified Linear Unit ist einer der beliebtesten AF im ML. Die ReLU Function wird nur für  Hidden-Layers verwendet für den Output-Layer wird meist die SoftMax Function empfohlen.\n",
        "\n",
        "Formel:\n",
        "\n",
        "$f(x) = max(0, z)$\n",
        "\n",
        "Ist also x < als 0 dann ist das Resultat 0 ist x > 0 \n",
        "\n",
        "Plot:\n",
        "\n",
        "![alt text](https://cdn-images-1.medium.com/max/1600/1*oePAhrm74RNnNEolprmTaQ.png)"
      ]
    },
    {
      "cell_type": "code",
      "metadata": {
        "id": "atNhC7Xt5UfA",
        "colab_type": "code",
        "outputId": "2fa00432-bf6b-47a6-ff4d-cd3ca14cc14b",
        "colab": {
          "base_uri": "https://localhost:8080/",
          "height": 282
        }
      },
      "source": [
        "import numpy as np\n",
        "import matplotlib.pyplot as plt\n",
        "\n",
        "def relu (x):\n",
        "  return np.maximum(0,x)\n",
        "  \n",
        "print (relu(0.5))\n",
        "  \n",
        "# define a series of inputs\n",
        "series_in = [x for x in range(-10, 11)]\n",
        "# calculate outputs for our inputs\n",
        "series_out = [relu(x) for x in series_in]\n",
        "# line plot of raw inputs to rectified outputs\n",
        "plt.plot(series_in, series_out)\n",
        "plt.show()"
      ],
      "execution_count": 0,
      "outputs": [
        {
          "output_type": "stream",
          "text": [
            "0.5\n"
          ],
          "name": "stdout"
        },
        {
          "output_type": "display_data",
          "data": {
            "image/png": "[encoded data removed]",
            "text/plain": [
              "<Figure size 432x288 with 1 Axes>"
            ]
          },
          "metadata": {
            "tags": []
          }
        }
      ]
    }
  ]
}