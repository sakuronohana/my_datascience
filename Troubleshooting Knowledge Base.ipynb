{
  "nbformat": 4,
  "nbformat_minor": 0,
  "metadata": {
    "colab": {
      "name": "Troubleshooting Knowledge Base",
      "version": "0.3.2",
      "provenance": [],
      "collapsed_sections": [],
      "include_colab_link": true
    },
    "kernelspec": {
      "name": "python3",
      "display_name": "Python 3"
    },
    "accelerator": "TPU"
  },
  "cells": [
    {
      "cell_type": "markdown",
      "metadata": {
        "id": "view-in-github",
        "colab_type": "text"
      },
      "source": [
        "<a href=\"https://colab.research.google.com/github/sakuronohana/my_datascience/blob/master/Troubleshooting%20Knowledge%20Base.ipynb\" target=\"_parent\"><img src=\"https://colab.research.google.com/assets/colab-badge.svg\" alt=\"Open In Colab\"/></a>"
      ]
    },
    {
      "cell_type": "markdown",
      "metadata": {
        "id": "QNbNH6YERkSR",
        "colab_type": "text"
      },
      "source": [
        "#Troubleshooting Knowledge Base"
      ]
    },
    {
      "cell_type": "markdown",
      "metadata": {
        "id": "cyny0bT1Sf71",
        "colab_type": "text"
      },
      "source": [
        "## Error Python : UnicodeDecodeError: 'utf-8' codec can't decode byte 0x96 in position 35: invalid start byte##\n",
        "https://stackoverflow.com/questions/45529507/python-unicodedecodeerror-utf-8-codec-cant-decode-byte-0x96-in-position-35\n",
        "\n",
        "##Guide to Python Pandas read_csv – Load Data from CSV Files:##\n",
        "https://www.shanelynn.ie/python-pandas-read_csv-load-data-from-csv-files/\n",
        "\n",
        "## Export or Save Excel Files with Pipe (or Other) Delimiters Instead of Commas\n",
        "https://www.howtogeek.com/howto/21456/export-or-save-excel-files-with-pipe-or-other-delimiters-instead-of-commas/"
      ]
    },
    {
      "cell_type": "markdown",
      "metadata": {
        "id": "m2oHA5y9CrwO",
        "colab_type": "text"
      },
      "source": [
        "## Connect to local runtime with Google Colab research##\n",
        "\n",
        "\n",
        "1. Im Command Prompt folgenden Befehl ausühren  *jupyter serverextension enable --py jupyter_http_over_ws*\n",
        "2. Folgenden Befehl im Command Prompt lokal ausführe *jupyter notebook   --NotebookApp.allow_origin='https://colab.research.google.com'   --port=8888   --no-browser*\n",
        "3.   Angezeigte URL kopieren und in Chrome Browser pasten\n",
        "4. Im Colab Research *connect to local runtime...*\n",
        "\n"
      ]
    },
    {
      "cell_type": "code",
      "metadata": {
        "id": "U3a10eRgD7RK",
        "colab_type": "code",
        "colab": {}
      },
      "source": [
        ""
      ],
      "execution_count": 0,
      "outputs": []
    }
  ]
}